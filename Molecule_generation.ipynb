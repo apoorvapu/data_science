{
  "nbformat": 4,
  "nbformat_minor": 0,
  "metadata": {
    "colab": {
      "provenance": [],
      "authorship_tag": "ABX9TyMnVcWZwq75v0wQu+bHU3Kg",
      "include_colab_link": true
    },
    "kernelspec": {
      "name": "python3",
      "display_name": "Python 3"
    },
    "language_info": {
      "name": "python"
    }
  },
  "cells": [
    {
      "cell_type": "markdown",
      "metadata": {
        "id": "view-in-github",
        "colab_type": "text"
      },
      "source": [
        "<a href=\"https://colab.research.google.com/github/apoorvapu/data_science/blob/main/Molecule_generation.ipynb\" target=\"_parent\"><img src=\"https://colab.research.google.com/assets/colab-badge.svg\" alt=\"Open In Colab\"/></a>"
      ]
    },
    {
      "cell_type": "markdown",
      "source": [
        "https://github.com/PaddlePaddle/PaddleHelix/blob/dev/tutorials/molecular_generation_tutorial.ipynb\n",
        "\n",
        "https://github.com/pg2455/ml_resources/blob/master/tutorials/molecule_attention_transformer/practical-solution.ipynb\n",
        "\n",
        "https://colab.research.google.com/github/schwallergroup/ai4chem_course/blob/generative_models/notebooks/05%20-%20Generative%20Models/Molecular%20Generative%20Models.ipynb\n",
        "\n",
        "https://github.com/akimich11/molecule-generator/blob/main/smiles_generator.ipynb\n",
        "\n",
        "https://github.com/gerritgr/MoleculeDiffusionGAN/blob/main/main.ipynb\n",
        "\n",
        "https://github.com/lamm-mit/MoleculeDiffusionTransformer"
      ],
      "metadata": {
        "id": "h9FD1t74ZzZv"
      }
    },
    {
      "cell_type": "code",
      "source": [
        "!pip install rdkit"
      ],
      "metadata": {
        "colab": {
          "base_uri": "https://localhost:8080/"
        },
        "id": "eXrBBXB6RviF",
        "outputId": "87f0cb79-80cd-4f71-f12f-89f2be5d7867"
      },
      "execution_count": 1,
      "outputs": [
        {
          "output_type": "stream",
          "name": "stdout",
          "text": [
            "Collecting rdkit\n",
            "  Downloading rdkit-2024.9.6-cp311-cp311-manylinux_2_28_x86_64.whl.metadata (4.0 kB)\n",
            "Requirement already satisfied: numpy in /usr/local/lib/python3.11/dist-packages (from rdkit) (2.0.2)\n",
            "Requirement already satisfied: Pillow in /usr/local/lib/python3.11/dist-packages (from rdkit) (11.1.0)\n",
            "Downloading rdkit-2024.9.6-cp311-cp311-manylinux_2_28_x86_64.whl (34.3 MB)\n",
            "\u001b[2K   \u001b[90m━━━━━━━━━━━━━━━━━━━━━━━━━━━━━━━━━━━━━━━━\u001b[0m \u001b[32m34.3/34.3 MB\u001b[0m \u001b[31m16.6 MB/s\u001b[0m eta \u001b[36m0:00:00\u001b[0m\n",
            "\u001b[?25hInstalling collected packages: rdkit\n",
            "Successfully installed rdkit-2024.9.6\n"
          ]
        }
      ]
    },
    {
      "cell_type": "code",
      "source": [],
      "metadata": {
        "id": "2NXu4OdEaJDc"
      },
      "execution_count": null,
      "outputs": []
    },
    {
      "cell_type": "code",
      "execution_count": null,
      "metadata": {
        "colab": {
          "base_uri": "https://localhost:8080/",
          "height": 408
        },
        "id": "iyitmjdKRloD",
        "outputId": "a35739ff-59bb-4f6b-9ac5-78d335febb82"
      },
      "outputs": [
        {
          "output_type": "stream",
          "name": "stderr",
          "text": [
            "/usr/local/lib/python3.11/dist-packages/keras/src/layers/core/input_layer.py:27: UserWarning: Argument `input_shape` is deprecated. Use `shape` instead.\n",
            "  warnings.warn(\n"
          ]
        },
        {
          "output_type": "stream",
          "name": "stdout",
          "text": [
            "Epoch 1/50\n"
          ]
        },
        {
          "output_type": "error",
          "ename": "ValueError",
          "evalue": "Argument `output` must have rank (ndim) `target.ndim - 1`. Received: target.shape=(2, 4), output.shape=(2, 4)",
          "traceback": [
            "\u001b[0;31m---------------------------------------------------------------------------\u001b[0m",
            "\u001b[0;31mValueError\u001b[0m                                Traceback (most recent call last)",
            "\u001b[0;32m<ipython-input-2-b01536aa70a0>\u001b[0m in \u001b[0;36m<cell line: 0>\u001b[0;34m()\u001b[0m\n\u001b[1;32m     46\u001b[0m \u001b[0;34m\u001b[0m\u001b[0m\n\u001b[1;32m     47\u001b[0m \u001b[0;31m# Train the model\u001b[0m\u001b[0;34m\u001b[0m\u001b[0;34m\u001b[0m\u001b[0m\n\u001b[0;32m---> 48\u001b[0;31m \u001b[0mmodel\u001b[0m\u001b[0;34m.\u001b[0m\u001b[0mfit\u001b[0m\u001b[0;34m(\u001b[0m\u001b[0mX\u001b[0m\u001b[0;34m,\u001b[0m \u001b[0mnp\u001b[0m\u001b[0;34m.\u001b[0m\u001b[0mexpand_dims\u001b[0m\u001b[0;34m(\u001b[0m\u001b[0my\u001b[0m\u001b[0;34m,\u001b[0m \u001b[0;34m-\u001b[0m\u001b[0;36m1\u001b[0m\u001b[0;34m)\u001b[0m\u001b[0;34m,\u001b[0m \u001b[0mepochs\u001b[0m\u001b[0;34m=\u001b[0m\u001b[0;36m50\u001b[0m\u001b[0;34m,\u001b[0m \u001b[0mbatch_size\u001b[0m\u001b[0;34m=\u001b[0m\u001b[0;36m2\u001b[0m\u001b[0;34m)\u001b[0m\u001b[0;34m\u001b[0m\u001b[0;34m\u001b[0m\u001b[0m\n\u001b[0m\u001b[1;32m     49\u001b[0m \u001b[0;34m\u001b[0m\u001b[0m\n\u001b[1;32m     50\u001b[0m \u001b[0;31m# Function to generate new molecules from the model\u001b[0m\u001b[0;34m\u001b[0m\u001b[0;34m\u001b[0m\u001b[0m\n",
            "\u001b[0;32m/usr/local/lib/python3.11/dist-packages/keras/src/utils/traceback_utils.py\u001b[0m in \u001b[0;36merror_handler\u001b[0;34m(*args, **kwargs)\u001b[0m\n\u001b[1;32m    120\u001b[0m             \u001b[0;31m# To get the full stack trace, call:\u001b[0m\u001b[0;34m\u001b[0m\u001b[0;34m\u001b[0m\u001b[0m\n\u001b[1;32m    121\u001b[0m             \u001b[0;31m# `keras.config.disable_traceback_filtering()`\u001b[0m\u001b[0;34m\u001b[0m\u001b[0;34m\u001b[0m\u001b[0m\n\u001b[0;32m--> 122\u001b[0;31m             \u001b[0;32mraise\u001b[0m \u001b[0me\u001b[0m\u001b[0;34m.\u001b[0m\u001b[0mwith_traceback\u001b[0m\u001b[0;34m(\u001b[0m\u001b[0mfiltered_tb\u001b[0m\u001b[0;34m)\u001b[0m \u001b[0;32mfrom\u001b[0m \u001b[0;32mNone\u001b[0m\u001b[0;34m\u001b[0m\u001b[0;34m\u001b[0m\u001b[0m\n\u001b[0m\u001b[1;32m    123\u001b[0m         \u001b[0;32mfinally\u001b[0m\u001b[0;34m:\u001b[0m\u001b[0;34m\u001b[0m\u001b[0;34m\u001b[0m\u001b[0m\n\u001b[1;32m    124\u001b[0m             \u001b[0;32mdel\u001b[0m \u001b[0mfiltered_tb\u001b[0m\u001b[0;34m\u001b[0m\u001b[0;34m\u001b[0m\u001b[0m\n",
            "\u001b[0;32m/usr/local/lib/python3.11/dist-packages/keras/src/backend/tensorflow/nn.py\u001b[0m in \u001b[0;36msparse_categorical_crossentropy\u001b[0;34m(target, output, from_logits, axis)\u001b[0m\n\u001b[1;32m    723\u001b[0m         )\n\u001b[1;32m    724\u001b[0m     \u001b[0;32mif\u001b[0m \u001b[0mlen\u001b[0m\u001b[0;34m(\u001b[0m\u001b[0mtarget\u001b[0m\u001b[0;34m.\u001b[0m\u001b[0mshape\u001b[0m\u001b[0;34m)\u001b[0m \u001b[0;34m!=\u001b[0m \u001b[0mlen\u001b[0m\u001b[0;34m(\u001b[0m\u001b[0moutput\u001b[0m\u001b[0;34m.\u001b[0m\u001b[0mshape\u001b[0m\u001b[0;34m[\u001b[0m\u001b[0;34m:\u001b[0m\u001b[0;34m-\u001b[0m\u001b[0;36m1\u001b[0m\u001b[0;34m]\u001b[0m\u001b[0;34m)\u001b[0m\u001b[0;34m:\u001b[0m\u001b[0;34m\u001b[0m\u001b[0;34m\u001b[0m\u001b[0m\n\u001b[0;32m--> 725\u001b[0;31m         raise ValueError(\n\u001b[0m\u001b[1;32m    726\u001b[0m             \u001b[0;34m\"Argument `output` must have rank (ndim) `target.ndim - 1`. \"\u001b[0m\u001b[0;34m\u001b[0m\u001b[0;34m\u001b[0m\u001b[0m\n\u001b[1;32m    727\u001b[0m             \u001b[0;34m\"Received: \"\u001b[0m\u001b[0;34m\u001b[0m\u001b[0;34m\u001b[0m\u001b[0m\n",
            "\u001b[0;31mValueError\u001b[0m: Argument `output` must have rank (ndim) `target.ndim - 1`. Received: target.shape=(2, 4), output.shape=(2, 4)"
          ]
        }
      ],
      "source": [
        "import numpy as np\n",
        "import tensorflow as tf\n",
        "from tensorflow.keras import layers, models\n",
        "from tensorflow.keras.preprocessing.sequence import pad_sequences\n",
        "from rdkit import Chem\n",
        "from rdkit.Chem import Draw\n",
        "import random\n",
        "\n",
        "# Prepare SMILES dataset (You can use any dataset here, for simplicity, we use a small example)\n",
        "smiles_data = [\n",
        "    'CCO', 'CCN', 'CCC', 'CCCC', 'CCCO', 'CCCN', 'CC=O', 'CCOCC', 'CCNCC', 'CC=C'\n",
        "]\n",
        "\n",
        "# Create a dictionary of unique characters in the SMILES\n",
        "all_smiles = ''.join(smiles_data)\n",
        "chars = sorted(set(all_smiles))\n",
        "char_to_idx = {char: idx for idx, char in enumerate(chars)}\n",
        "idx_to_char = {idx: char for idx, char in enumerate(chars)}\n",
        "\n",
        "# Convert SMILES strings to integer sequences\n",
        "sequences = [[char_to_idx[char] for char in smile] for smile in smiles_data]\n",
        "max_length = max(len(seq) for seq in sequences)\n",
        "\n",
        "# Pad sequences to ensure equal length\n",
        "sequences_padded = pad_sequences(sequences, maxlen=max_length, padding='post')\n",
        "\n",
        "# Define the diffusion model (simplified)\n",
        "def build_model(vocab_size, seq_length, hidden_dim=128):\n",
        "    model = models.Sequential([\n",
        "        layers.InputLayer(input_shape=(seq_length,)),\n",
        "        layers.Embedding(input_dim=vocab_size, output_dim=hidden_dim),\n",
        "        layers.LSTM(hidden_dim, return_sequences=True),\n",
        "        layers.LSTM(hidden_dim),\n",
        "        layers.Dense(vocab_size, activation='softmax')\n",
        "    ])\n",
        "    return model\n",
        "\n",
        "# Build the model\n",
        "vocab_size = len(chars)\n",
        "model = build_model(vocab_size, max_length)\n",
        "model.compile(optimizer='adam', loss='sparse_categorical_crossentropy')\n",
        "\n",
        "# Prepare the data for training\n",
        "X = sequences_padded[:, :-1]\n",
        "y = sequences_padded[:, 1:]\n",
        "\n",
        "# Train the model\n",
        "model.fit(X, np.expand_dims(y, -1), epochs=50, batch_size=2)\n",
        "\n",
        "# Function to generate new molecules from the model\n",
        "def generate_molecule(model, seed, max_length, temperature=1.0):\n",
        "    molecule = list(seed)\n",
        "    seed_idx = [char_to_idx[char] for char in seed]\n",
        "    seed_idx = pad_sequences([seed_idx], maxlen=max_length, padding='post')\n",
        "\n",
        "    for _ in range(max_length - len(seed)):\n",
        "        predictions = model.predict(seed_idx, verbose=0)\n",
        "        predictions = predictions[0, -1, :]\n",
        "\n",
        "        # Apply temperature scaling\n",
        "        predictions = np.log(predictions + 1e-7) / temperature\n",
        "        predictions = np.exp(predictions) / np.sum(np.exp(predictions))\n",
        "\n",
        "        # Sample from the predictions\n",
        "        next_char_idx = np.random.choice(len(predictions), p=predictions)\n",
        "        next_char = idx_to_char[next_char_idx]\n",
        "        molecule.append(next_char)\n",
        "\n",
        "        # Update the seed sequence\n",
        "        seed_idx = np.roll(seed_idx, shift=-1, axis=1)\n",
        "        seed_idx[0, -1] = next_char_idx\n",
        "\n",
        "    return ''.join(molecule)\n",
        "\n",
        "# Generate a new molecule (seed with \"C\")\n",
        "generated_smiles = generate_molecule(model, seed='C', max_length=max_length)\n",
        "print(\"Generated SMILES:\", generated_smiles)\n",
        "\n",
        "# Convert SMILES to molecule and visualize\n",
        "mol = Chem.MolFromSmiles(generated_smiles)\n",
        "if mol:\n",
        "    img = Draw.MolToImage(mol)\n",
        "    img.show()\n",
        "else:\n",
        "    print(\"Invalid SMILES string\")\n"
      ]
    },
    {
      "cell_type": "code",
      "source": [
        "import numpy as np\n",
        "import tensorflow as tf\n",
        "from tensorflow.keras import layers, models\n",
        "from tensorflow.keras.preprocessing.sequence import pad_sequences\n",
        "from rdkit import Chem\n",
        "from rdkit.Chem import Draw\n",
        "import random\n",
        "\n",
        "# SMILES dataset (replace with a larger dataset for real-world use)\n",
        "smiles_data = ['CCO', 'CCN', 'CCC', 'CCCC', 'CCCO', 'CCCN', 'CC=O', 'CCOCC', 'CCNCC', 'CC=C']\n",
        "\n",
        "# Create a dictionary of unique characters in the SMILES\n",
        "all_smiles = ''.join(smiles_data)\n",
        "chars = sorted(set(all_smiles))\n",
        "char_to_idx = {char: idx for idx, char in enumerate(chars)}\n",
        "idx_to_char = {idx: char for idx, char in enumerate(chars)}\n",
        "\n",
        "# Convert SMILES strings to integer sequences\n",
        "sequences = [[char_to_idx[char] for char in smile] for smile in smiles_data]\n",
        "max_length = max(len(seq) for seq in sequences)\n",
        "\n",
        "# Pad sequences to ensure equal length\n",
        "sequences_padded = pad_sequences(sequences, maxlen=max_length, padding='post')\n",
        "\n",
        "# Diffusion forward process (adds noise)\n",
        "def forward_diffusion(x, t, noise_level=0.1):\n",
        "    noise = np.random.normal(0, noise_level, size=x.shape)\n",
        "    return x + noise * t\n",
        "\n",
        "# Diffusion reverse process model (denoising)\n",
        "def build_diffusion_model(vocab_size, seq_length, hidden_dim=128):\n",
        "    model = models.Sequential([\n",
        "        layers.InputLayer(input_shape=(seq_length,)),\n",
        "        layers.Embedding(input_dim=vocab_size, output_dim=hidden_dim),\n",
        "        layers.LSTM(hidden_dim, return_sequences=True),\n",
        "        layers.LSTM(hidden_dim),\n",
        "        layers.Dense(vocab_size, activation='softmax')\n",
        "    ])\n",
        "    return model\n",
        "\n",
        "# Build the diffusion model\n",
        "vocab_size = len(chars)\n",
        "diffusion_model = build_diffusion_model(vocab_size, max_length)\n",
        "diffusion_model.compile(optimizer='adam', loss='sparse_categorical_crossentropy')\n",
        "\n",
        "# Prepare the data for training\n",
        "X = sequences_padded[:, :-1]\n",
        "y = sequences_padded[:, 1:]\n",
        "\n",
        "# Train the model\n",
        "diffusion_model.fit(X, np.expand_dims(y, -1), epochs=50, batch_size=2)\n",
        "\n",
        "# Function to generate new molecules using reverse diffusion\n",
        "def generate_molecule_reverse(diffusion_model, seed, max_length, noise_level=0.1, temperature=1.0):\n",
        "    molecule = list(seed)\n",
        "    seed_idx = [char_to_idx[char] for char in seed]\n",
        "    seed_idx = pad_sequences([seed_idx], maxlen=max_length, padding='post')\n",
        "\n",
        "    for _ in range(max_length - len(seed)):\n",
        "        # Add noise (forward diffusion)\n",
        "        noisy_input = forward_diffusion(seed_idx, t=noise_level)\n",
        "\n",
        "        # Predict next character (denoising, reverse diffusion)\n",
        "        predictions = diffusion_model.predict(noisy_input, verbose=0)\n",
        "        predictions = predictions[0, -1, :]\n",
        "\n",
        "        # Apply temperature scaling\n",
        "        predictions = np.log(predictions + 1e-7) / temperature\n",
        "        predictions = np.exp(predictions) / np.sum(np.exp(predictions))\n",
        "\n",
        "        # Sample from the predictions\n",
        "        next_char_idx = np.random.choice(len(predictions), p=predictions)\n",
        "        next_char = idx_to_char[next_char_idx]\n",
        "        molecule.append(next_char)\n",
        "\n",
        "        # Update the seed sequence\n",
        "        seed_idx = np.roll(seed_idx, shift=-1, axis=1)\n",
        "        seed_idx[0, -1] = next_char_idx\n",
        "\n",
        "    return ''.join(molecule)\n",
        "\n",
        "# Generate a new molecule (seed with \"C\")\n",
        "generated_smiles = generate_molecule_reverse(diffusion_model, seed='C', max_length=max_length)\n",
        "print(\"Generated SMILES:\", generated_smiles)\n",
        "\n",
        "# Convert SMILES to molecule and visualize\n",
        "mol = Chem.MolFromSmiles(generated_smiles)\n",
        "if mol:\n",
        "    img = Draw.MolToImage(mol)\n",
        "    img.show()\n",
        "else:\n",
        "    print(\"Invalid SMILES string\")\n"
      ],
      "metadata": {
        "id": "QhCKLVpDSRaP"
      },
      "execution_count": null,
      "outputs": []
    }
  ]
}