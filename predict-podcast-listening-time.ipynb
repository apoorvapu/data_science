{
 "cells": [
  {
   "cell_type": "code",
   "execution_count": 1,
   "id": "5609fc65",
   "metadata": {
    "_cell_guid": "b1076dfc-b9ad-4769-8c92-a6c4dae69d19",
    "_uuid": "8f2839f25d086af736a60e9eeb907d3b93b6e0e5",
    "execution": {
     "iopub.execute_input": "2025-04-25T11:32:13.786497Z",
     "iopub.status.busy": "2025-04-25T11:32:13.786153Z",
     "iopub.status.idle": "2025-04-25T11:32:14.528475Z",
     "shell.execute_reply": "2025-04-25T11:32:14.527747Z"
    },
    "papermill": {
     "duration": 0.75125,
     "end_time": "2025-04-25T11:32:14.530079",
     "exception": false,
     "start_time": "2025-04-25T11:32:13.778829",
     "status": "completed"
    },
    "tags": []
   },
   "outputs": [],
   "source": [
    "# kaggle: https://www.kaggle.com/competitions/playground-series-s5e4/overview\n",
    "import numpy as np # linear algebra\n",
    "import pandas as pd # data processing, CSV file I/O (e.g. pd.read_csv)"
   ]
  },
  {
   "cell_type": "code",
   "execution_count": 2,
   "id": "b11e6921",
   "metadata": {
    "execution": {
     "iopub.execute_input": "2025-04-25T11:32:14.543203Z",
     "iopub.status.busy": "2025-04-25T11:32:14.542827Z",
     "iopub.status.idle": "2025-04-25T11:32:17.196267Z",
     "shell.execute_reply": "2025-04-25T11:32:17.195496Z"
    },
    "papermill": {
     "duration": 2.661347,
     "end_time": "2025-04-25T11:32:17.197741",
     "exception": false,
     "start_time": "2025-04-25T11:32:14.536394",
     "status": "completed"
    },
    "tags": []
   },
   "outputs": [
    {
     "name": "stderr",
     "output_type": "stream",
     "text": [
      "/usr/local/lib/python3.10/dist-packages/pandas/io/formats/format.py:1458: RuntimeWarning: invalid value encountered in greater\n",
      "  has_large_values = (abs_vals > 1e6).any()\n",
      "/usr/local/lib/python3.10/dist-packages/pandas/io/formats/format.py:1459: RuntimeWarning: invalid value encountered in less\n",
      "  has_small_values = ((abs_vals < 10 ** (-self.digits)) & (abs_vals > 0)).any()\n",
      "/usr/local/lib/python3.10/dist-packages/pandas/io/formats/format.py:1459: RuntimeWarning: invalid value encountered in greater\n",
      "  has_small_values = ((abs_vals < 10 ** (-self.digits)) & (abs_vals > 0)).any()\n"
     ]
    },
    {
     "data": {
      "text/html": [
       "<div>\n",
       "<style scoped>\n",
       "    .dataframe tbody tr th:only-of-type {\n",
       "        vertical-align: middle;\n",
       "    }\n",
       "\n",
       "    .dataframe tbody tr th {\n",
       "        vertical-align: top;\n",
       "    }\n",
       "\n",
       "    .dataframe thead th {\n",
       "        text-align: right;\n",
       "    }\n",
       "</style>\n",
       "<table border=\"1\" class=\"dataframe\">\n",
       "  <thead>\n",
       "    <tr style=\"text-align: right;\">\n",
       "      <th></th>\n",
       "      <th>id</th>\n",
       "      <th>Podcast_Name</th>\n",
       "      <th>Episode_Title</th>\n",
       "      <th>Episode_Length_minutes</th>\n",
       "      <th>Genre</th>\n",
       "      <th>Host_Popularity_percentage</th>\n",
       "      <th>Publication_Day</th>\n",
       "      <th>Publication_Time</th>\n",
       "      <th>Guest_Popularity_percentage</th>\n",
       "      <th>Number_of_Ads</th>\n",
       "      <th>Episode_Sentiment</th>\n",
       "      <th>Listening_Time_minutes</th>\n",
       "    </tr>\n",
       "  </thead>\n",
       "  <tbody>\n",
       "    <tr>\n",
       "      <th>0</th>\n",
       "      <td>0</td>\n",
       "      <td>Mystery Matters</td>\n",
       "      <td>Episode 98</td>\n",
       "      <td>NaN</td>\n",
       "      <td>True Crime</td>\n",
       "      <td>74.81</td>\n",
       "      <td>Thursday</td>\n",
       "      <td>Night</td>\n",
       "      <td>NaN</td>\n",
       "      <td>0.0</td>\n",
       "      <td>Positive</td>\n",
       "      <td>31.41998</td>\n",
       "    </tr>\n",
       "    <tr>\n",
       "      <th>1</th>\n",
       "      <td>1</td>\n",
       "      <td>Joke Junction</td>\n",
       "      <td>Episode 26</td>\n",
       "      <td>119.80</td>\n",
       "      <td>Comedy</td>\n",
       "      <td>66.95</td>\n",
       "      <td>Saturday</td>\n",
       "      <td>Afternoon</td>\n",
       "      <td>75.95</td>\n",
       "      <td>2.0</td>\n",
       "      <td>Negative</td>\n",
       "      <td>88.01241</td>\n",
       "    </tr>\n",
       "    <tr>\n",
       "      <th>2</th>\n",
       "      <td>2</td>\n",
       "      <td>Study Sessions</td>\n",
       "      <td>Episode 16</td>\n",
       "      <td>73.90</td>\n",
       "      <td>Education</td>\n",
       "      <td>69.97</td>\n",
       "      <td>Tuesday</td>\n",
       "      <td>Evening</td>\n",
       "      <td>8.97</td>\n",
       "      <td>0.0</td>\n",
       "      <td>Negative</td>\n",
       "      <td>44.92531</td>\n",
       "    </tr>\n",
       "    <tr>\n",
       "      <th>3</th>\n",
       "      <td>3</td>\n",
       "      <td>Digital Digest</td>\n",
       "      <td>Episode 45</td>\n",
       "      <td>67.17</td>\n",
       "      <td>Technology</td>\n",
       "      <td>57.22</td>\n",
       "      <td>Monday</td>\n",
       "      <td>Morning</td>\n",
       "      <td>78.70</td>\n",
       "      <td>2.0</td>\n",
       "      <td>Positive</td>\n",
       "      <td>46.27824</td>\n",
       "    </tr>\n",
       "    <tr>\n",
       "      <th>4</th>\n",
       "      <td>4</td>\n",
       "      <td>Mind &amp; Body</td>\n",
       "      <td>Episode 86</td>\n",
       "      <td>110.51</td>\n",
       "      <td>Health</td>\n",
       "      <td>80.07</td>\n",
       "      <td>Monday</td>\n",
       "      <td>Afternoon</td>\n",
       "      <td>58.68</td>\n",
       "      <td>3.0</td>\n",
       "      <td>Neutral</td>\n",
       "      <td>75.61031</td>\n",
       "    </tr>\n",
       "  </tbody>\n",
       "</table>\n",
       "</div>"
      ],
      "text/plain": [
       "   id     Podcast_Name Episode_Title  Episode_Length_minutes       Genre  \\\n",
       "0   0  Mystery Matters    Episode 98                     NaN  True Crime   \n",
       "1   1    Joke Junction    Episode 26                  119.80      Comedy   \n",
       "2   2   Study Sessions    Episode 16                   73.90   Education   \n",
       "3   3   Digital Digest    Episode 45                   67.17  Technology   \n",
       "4   4      Mind & Body    Episode 86                  110.51      Health   \n",
       "\n",
       "   Host_Popularity_percentage Publication_Day Publication_Time  \\\n",
       "0                       74.81        Thursday            Night   \n",
       "1                       66.95        Saturday        Afternoon   \n",
       "2                       69.97         Tuesday          Evening   \n",
       "3                       57.22          Monday          Morning   \n",
       "4                       80.07          Monday        Afternoon   \n",
       "\n",
       "   Guest_Popularity_percentage  Number_of_Ads Episode_Sentiment  \\\n",
       "0                          NaN            0.0          Positive   \n",
       "1                        75.95            2.0          Negative   \n",
       "2                         8.97            0.0          Negative   \n",
       "3                        78.70            2.0          Positive   \n",
       "4                        58.68            3.0           Neutral   \n",
       "\n",
       "   Listening_Time_minutes  \n",
       "0                31.41998  \n",
       "1                88.01241  \n",
       "2                44.92531  \n",
       "3                46.27824  \n",
       "4                75.61031  "
      ]
     },
     "execution_count": 2,
     "metadata": {},
     "output_type": "execute_result"
    }
   ],
   "source": [
    "train=pd.read_csv('/kaggle/input/playground-series-s5e4/train.csv')\n",
    "test=pd.read_csv('/kaggle/input/playground-series-s5e4/test.csv')\n",
    "# Drop all duplicates in the train DataFrame\n",
    "train = train.drop_duplicates()\n",
    "train.head()"
   ]
  },
  {
   "cell_type": "code",
   "execution_count": 3,
   "id": "77ede878",
   "metadata": {
    "execution": {
     "iopub.execute_input": "2025-04-25T11:32:17.211005Z",
     "iopub.status.busy": "2025-04-25T11:32:17.210755Z",
     "iopub.status.idle": "2025-04-25T11:32:19.649731Z",
     "shell.execute_reply": "2025-04-25T11:32:19.648809Z"
    },
    "papermill": {
     "duration": 2.446972,
     "end_time": "2025-04-25T11:32:19.650967",
     "exception": false,
     "start_time": "2025-04-25T11:32:17.203995",
     "status": "completed"
    },
    "tags": []
   },
   "outputs": [
    {
     "data": {
      "image/png": "[encoded data removed]",
      "text/plain": [
       "<Figure size 1500x800 with 6 Axes>"
      ]
     },
     "metadata": {},
     "output_type": "display_data"
    }
   ],
   "source": [
    "import matplotlib.pyplot as plt\n",
    "import seaborn as sns\n",
    "\n",
    "# Select only numeric columns\n",
    "numeric_cols = train.select_dtypes(include='number').columns\n",
    "\n",
    "# Set up subplots\n",
    "n_cols = 3\n",
    "n_rows = -(-len(numeric_cols) // n_cols)  # Ceiling division\n",
    "fig, axes = plt.subplots(n_rows, n_cols, figsize=(5 * n_cols, 4 * n_rows))\n",
    "axes = axes.flatten()\n",
    "\n",
    "# Generate boxplots\n",
    "for i, col in enumerate(numeric_cols):\n",
    "    sns.boxplot(y=train[col], ax=axes[i], color='skyblue')\n",
    "    axes[i].set_title(f'Outliers in {col}', fontsize=10)\n",
    "    axes[i].set_ylabel('')\n",
    "    axes[i].grid(True)\n",
    "\n",
    "# Hide empty subplots\n",
    "for j in range(i + 1, len(axes)):\n",
    "    axes[j].set_visible(False)\n",
    "\n",
    "plt.tight_layout()\n",
    "plt.show()\n"
   ]
  },
  {
   "cell_type": "code",
   "execution_count": 4,
   "id": "3e08e65b",
   "metadata": {
    "execution": {
     "iopub.execute_input": "2025-04-25T11:32:19.666012Z",
     "iopub.status.busy": "2025-04-25T11:32:19.665621Z",
     "iopub.status.idle": "2025-04-25T11:32:20.445114Z",
     "shell.execute_reply": "2025-04-25T11:32:20.444160Z"
    },
    "papermill": {
     "duration": 0.788475,
     "end_time": "2025-04-25T11:32:20.446713",
     "exception": false,
     "start_time": "2025-04-25T11:32:19.658238",
     "status": "completed"
    },
    "tags": []
   },
   "outputs": [
    {
     "data": {
      "image/png": "[encoded data removed]",
      "text/plain": [
       "<Figure size 1500x800 with 6 Axes>"
      ]
     },
     "metadata": {},
     "output_type": "display_data"
    }
   ],
   "source": [
    "numeric_cols = test.select_dtypes(include='number').columns\n",
    "\n",
    "# Set up subplots\n",
    "n_cols = 3\n",
    "n_rows = -(-len(numeric_cols) // n_cols)  # Ceiling division\n",
    "fig, axes = plt.subplots(n_rows, n_cols, figsize=(5 * n_cols, 4 * n_rows))\n",
    "axes = axes.flatten()\n",
    "\n",
    "# Generate boxplots\n",
    "for i, col in enumerate(numeric_cols):\n",
    "    sns.boxplot(y=test[col], ax=axes[i], color='skyblue')\n",
    "    axes[i].set_title(f'Outliers in {col}', fontsize=10)\n",
    "    axes[i].set_ylabel('')\n",
    "    axes[i].grid(True)\n",
    "\n",
    "# Hide empty subplots\n",
    "for j in range(i + 1, len(axes)):\n",
    "    axes[j].set_visible(False)\n",
    "\n",
    "plt.tight_layout()\n",
    "plt.show()"
   ]
  },
  {
   "cell_type": "code",
   "execution_count": 5,
   "id": "8fa1f48c",
   "metadata": {
    "execution": {
     "iopub.execute_input": "2025-04-25T11:32:20.463776Z",
     "iopub.status.busy": "2025-04-25T11:32:20.463518Z",
     "iopub.status.idle": "2025-04-25T11:32:20.772068Z",
     "shell.execute_reply": "2025-04-25T11:32:20.771280Z"
    },
    "papermill": {
     "duration": 0.318306,
     "end_time": "2025-04-25T11:32:20.773344",
     "exception": false,
     "start_time": "2025-04-25T11:32:20.455038",
     "status": "completed"
    },
    "tags": []
   },
   "outputs": [
    {
     "data": {
      "text/plain": [
       "id                                  749999\n",
       "Podcast_Name                   World Watch\n",
       "Episode_Title                   Episode 99\n",
       "Episode_Length_minutes              325.24\n",
       "Genre                           True Crime\n",
       "Host_Popularity_percentage          119.46\n",
       "Publication_Day                  Wednesday\n",
       "Publication_Time                     Night\n",
       "Guest_Popularity_percentage         119.91\n",
       "Number_of_Ads                       103.91\n",
       "Episode_Sentiment                 Positive\n",
       "Listening_Time_minutes              119.97\n",
       "dtype: object"
      ]
     },
     "execution_count": 5,
     "metadata": {},
     "output_type": "execute_result"
    }
   ],
   "source": [
    "train.max()"
   ]
  },
  {
   "cell_type": "code",
   "execution_count": 6,
   "id": "3c5504a4",
   "metadata": {
    "execution": {
     "iopub.execute_input": "2025-04-25T11:32:20.790231Z",
     "iopub.status.busy": "2025-04-25T11:32:20.789995Z",
     "iopub.status.idle": "2025-04-25T11:32:20.898008Z",
     "shell.execute_reply": "2025-04-25T11:32:20.897096Z"
    },
    "papermill": {
     "duration": 0.117815,
     "end_time": "2025-04-25T11:32:20.899396",
     "exception": false,
     "start_time": "2025-04-25T11:32:20.781581",
     "status": "completed"
    },
    "tags": []
   },
   "outputs": [
    {
     "data": {
      "text/plain": [
       "id                                  999999\n",
       "Podcast_Name                   World Watch\n",
       "Episode_Title                   Episode 99\n",
       "Episode_Length_minutes          78486264.0\n",
       "Genre                           True Crime\n",
       "Host_Popularity_percentage          117.76\n",
       "Publication_Day                  Wednesday\n",
       "Publication_Time                     Night\n",
       "Guest_Popularity_percentage         116.82\n",
       "Number_of_Ads                       2063.0\n",
       "Episode_Sentiment                 Positive\n",
       "dtype: object"
      ]
     },
     "execution_count": 6,
     "metadata": {},
     "output_type": "execute_result"
    }
   ],
   "source": [
    "test.max()"
   ]
  },
  {
   "cell_type": "code",
   "execution_count": 7,
   "id": "59b39b9b",
   "metadata": {
    "execution": {
     "iopub.execute_input": "2025-04-25T11:32:20.916667Z",
     "iopub.status.busy": "2025-04-25T11:32:20.916328Z",
     "iopub.status.idle": "2025-04-25T11:32:20.930031Z",
     "shell.execute_reply": "2025-04-25T11:32:20.929232Z"
    },
    "papermill": {
     "duration": 0.023593,
     "end_time": "2025-04-25T11:32:20.931253",
     "exception": false,
     "start_time": "2025-04-25T11:32:20.907660",
     "status": "completed"
    },
    "tags": []
   },
   "outputs": [
    {
     "name": "stderr",
     "output_type": "stream",
     "text": [
      "/usr/local/lib/python3.10/dist-packages/pandas/io/formats/format.py:1458: RuntimeWarning: invalid value encountered in greater\n",
      "  has_large_values = (abs_vals > 1e6).any()\n",
      "/usr/local/lib/python3.10/dist-packages/pandas/io/formats/format.py:1459: RuntimeWarning: invalid value encountered in less\n",
      "  has_small_values = ((abs_vals < 10 ** (-self.digits)) & (abs_vals > 0)).any()\n",
      "/usr/local/lib/python3.10/dist-packages/pandas/io/formats/format.py:1459: RuntimeWarning: invalid value encountered in greater\n",
      "  has_small_values = ((abs_vals < 10 ** (-self.digits)) & (abs_vals > 0)).any()\n"
     ]
    },
    {
     "data": {
      "text/html": [
       "<div>\n",
       "<style scoped>\n",
       "    .dataframe tbody tr th:only-of-type {\n",
       "        vertical-align: middle;\n",
       "    }\n",
       "\n",
       "    .dataframe tbody tr th {\n",
       "        vertical-align: top;\n",
       "    }\n",
       "\n",
       "    .dataframe thead th {\n",
       "        text-align: right;\n",
       "    }\n",
       "</style>\n",
       "<table border=\"1\" class=\"dataframe\">\n",
       "  <thead>\n",
       "    <tr style=\"text-align: right;\">\n",
       "      <th></th>\n",
       "      <th>id</th>\n",
       "      <th>Podcast_Name</th>\n",
       "      <th>Episode_Title</th>\n",
       "      <th>Episode_Length_minutes</th>\n",
       "      <th>Genre</th>\n",
       "      <th>Host_Popularity_percentage</th>\n",
       "      <th>Publication_Day</th>\n",
       "      <th>Publication_Time</th>\n",
       "      <th>Guest_Popularity_percentage</th>\n",
       "      <th>Number_of_Ads</th>\n",
       "      <th>Episode_Sentiment</th>\n",
       "    </tr>\n",
       "  </thead>\n",
       "  <tbody>\n",
       "    <tr>\n",
       "      <th>0</th>\n",
       "      <td>750000</td>\n",
       "      <td>Educational Nuggets</td>\n",
       "      <td>Episode 73</td>\n",
       "      <td>78.96</td>\n",
       "      <td>Education</td>\n",
       "      <td>38.11</td>\n",
       "      <td>Saturday</td>\n",
       "      <td>Evening</td>\n",
       "      <td>53.33</td>\n",
       "      <td>1.0</td>\n",
       "      <td>Neutral</td>\n",
       "    </tr>\n",
       "    <tr>\n",
       "      <th>1</th>\n",
       "      <td>750001</td>\n",
       "      <td>Sound Waves</td>\n",
       "      <td>Episode 23</td>\n",
       "      <td>27.87</td>\n",
       "      <td>Music</td>\n",
       "      <td>71.29</td>\n",
       "      <td>Sunday</td>\n",
       "      <td>Morning</td>\n",
       "      <td>NaN</td>\n",
       "      <td>0.0</td>\n",
       "      <td>Neutral</td>\n",
       "    </tr>\n",
       "    <tr>\n",
       "      <th>2</th>\n",
       "      <td>750002</td>\n",
       "      <td>Joke Junction</td>\n",
       "      <td>Episode 11</td>\n",
       "      <td>69.10</td>\n",
       "      <td>Comedy</td>\n",
       "      <td>67.89</td>\n",
       "      <td>Friday</td>\n",
       "      <td>Evening</td>\n",
       "      <td>97.51</td>\n",
       "      <td>0.0</td>\n",
       "      <td>Positive</td>\n",
       "    </tr>\n",
       "    <tr>\n",
       "      <th>3</th>\n",
       "      <td>750003</td>\n",
       "      <td>Comedy Corner</td>\n",
       "      <td>Episode 73</td>\n",
       "      <td>115.39</td>\n",
       "      <td>Comedy</td>\n",
       "      <td>23.40</td>\n",
       "      <td>Sunday</td>\n",
       "      <td>Morning</td>\n",
       "      <td>51.75</td>\n",
       "      <td>2.0</td>\n",
       "      <td>Positive</td>\n",
       "    </tr>\n",
       "    <tr>\n",
       "      <th>4</th>\n",
       "      <td>750004</td>\n",
       "      <td>Life Lessons</td>\n",
       "      <td>Episode 50</td>\n",
       "      <td>72.32</td>\n",
       "      <td>Lifestyle</td>\n",
       "      <td>58.10</td>\n",
       "      <td>Wednesday</td>\n",
       "      <td>Morning</td>\n",
       "      <td>11.30</td>\n",
       "      <td>2.0</td>\n",
       "      <td>Neutral</td>\n",
       "    </tr>\n",
       "  </tbody>\n",
       "</table>\n",
       "</div>"
      ],
      "text/plain": [
       "       id         Podcast_Name Episode_Title  Episode_Length_minutes  \\\n",
       "0  750000  Educational Nuggets    Episode 73                   78.96   \n",
       "1  750001          Sound Waves    Episode 23                   27.87   \n",
       "2  750002        Joke Junction    Episode 11                   69.10   \n",
       "3  750003        Comedy Corner    Episode 73                  115.39   \n",
       "4  750004         Life Lessons    Episode 50                   72.32   \n",
       "\n",
       "       Genre  Host_Popularity_percentage Publication_Day Publication_Time  \\\n",
       "0  Education                       38.11        Saturday          Evening   \n",
       "1      Music                       71.29          Sunday          Morning   \n",
       "2     Comedy                       67.89          Friday          Evening   \n",
       "3     Comedy                       23.40          Sunday          Morning   \n",
       "4  Lifestyle                       58.10       Wednesday          Morning   \n",
       "\n",
       "   Guest_Popularity_percentage  Number_of_Ads Episode_Sentiment  \n",
       "0                        53.33            1.0           Neutral  \n",
       "1                          NaN            0.0           Neutral  \n",
       "2                        97.51            0.0          Positive  \n",
       "3                        51.75            2.0          Positive  \n",
       "4                        11.30            2.0           Neutral  "
      ]
     },
     "execution_count": 7,
     "metadata": {},
     "output_type": "execute_result"
    }
   ],
   "source": [
    "test.head()"
   ]
  },
  {
   "cell_type": "code",
   "execution_count": 8,
   "id": "e8edc918",
   "metadata": {
    "execution": {
     "iopub.execute_input": "2025-04-25T11:32:20.948485Z",
     "iopub.status.busy": "2025-04-25T11:32:20.948209Z",
     "iopub.status.idle": "2025-04-25T11:32:20.952569Z",
     "shell.execute_reply": "2025-04-25T11:32:20.951884Z"
    },
    "papermill": {
     "duration": 0.01429,
     "end_time": "2025-04-25T11:32:20.953821",
     "exception": false,
     "start_time": "2025-04-25T11:32:20.939531",
     "status": "completed"
    },
    "tags": []
   },
   "outputs": [
    {
     "name": "stdout",
     "output_type": "stream",
     "text": [
      "['Podcast_Name', 'Episode_Title', 'Genre', 'Publication_Day', 'Publication_Time', 'Episode_Sentiment']\n"
     ]
    }
   ],
   "source": [
    "numerical_columns=['Episode_Length_minutes','Host_Popularity_percentage','Guest_Popularity_percentage','Number_of_Ads']\n",
    "categorical_columns = [col for col in test.columns if col not in numerical_columns]\n",
    "categorical_columns.remove('id')\n",
    "print(categorical_columns)"
   ]
  },
  {
   "cell_type": "code",
   "execution_count": 9,
   "id": "822d775b",
   "metadata": {
    "execution": {
     "iopub.execute_input": "2025-04-25T11:32:20.971166Z",
     "iopub.status.busy": "2025-04-25T11:32:20.970928Z",
     "iopub.status.idle": "2025-04-25T11:32:21.229376Z",
     "shell.execute_reply": "2025-04-25T11:32:21.228475Z"
    },
    "papermill": {
     "duration": 0.268436,
     "end_time": "2025-04-25T11:32:21.230677",
     "exception": false,
     "start_time": "2025-04-25T11:32:20.962241",
     "status": "completed"
    },
    "tags": []
   },
   "outputs": [
    {
     "name": "stderr",
     "output_type": "stream",
     "text": [
      "/usr/local/lib/python3.10/dist-packages/pandas/core/computation/expressions.py:73: RuntimeWarning: invalid value encountered in less\n",
      "  return op(a, b)\n",
      "/usr/local/lib/python3.10/dist-packages/pandas/core/computation/expressions.py:73: RuntimeWarning: invalid value encountered in greater\n",
      "  return op(a, b)\n",
      "/usr/local/lib/python3.10/dist-packages/pandas/core/computation/expressions.py:73: RuntimeWarning: invalid value encountered in less\n",
      "  return op(a, b)\n",
      "/usr/local/lib/python3.10/dist-packages/pandas/core/computation/expressions.py:73: RuntimeWarning: invalid value encountered in greater\n",
      "  return op(a, b)\n",
      "/usr/local/lib/python3.10/dist-packages/pandas/core/computation/expressions.py:73: RuntimeWarning: invalid value encountered in less\n",
      "  return op(a, b)\n",
      "/usr/local/lib/python3.10/dist-packages/pandas/core/computation/expressions.py:73: RuntimeWarning: invalid value encountered in greater\n",
      "  return op(a, b)\n",
      "/usr/local/lib/python3.10/dist-packages/pandas/core/computation/expressions.py:73: RuntimeWarning: invalid value encountered in less\n",
      "  return op(a, b)\n",
      "/usr/local/lib/python3.10/dist-packages/pandas/core/computation/expressions.py:73: RuntimeWarning: invalid value encountered in greater\n",
      "  return op(a, b)\n",
      "/usr/local/lib/python3.10/dist-packages/pandas/core/computation/expressions.py:73: RuntimeWarning: invalid value encountered in less\n",
      "  return op(a, b)\n",
      "/usr/local/lib/python3.10/dist-packages/pandas/core/computation/expressions.py:73: RuntimeWarning: invalid value encountered in greater\n",
      "  return op(a, b)\n"
     ]
    },
    {
     "name": "stdout",
     "output_type": "stream",
     "text": [
      "<class 'pandas.core.frame.DataFrame'>\n",
      "RangeIndex: 250000 entries, 0 to 249999\n",
      "Data columns (total 11 columns):\n",
      " #   Column                       Non-Null Count   Dtype  \n",
      "---  ------                       --------------   -----  \n",
      " 0   id                           250000 non-null  int64  \n",
      " 1   Podcast_Name                 250000 non-null  object \n",
      " 2   Episode_Title                250000 non-null  object \n",
      " 3   Episode_Length_minutes       221262 non-null  float64\n",
      " 4   Genre                        250000 non-null  object \n",
      " 5   Host_Popularity_percentage   250000 non-null  float64\n",
      " 6   Publication_Day              250000 non-null  object \n",
      " 7   Publication_Time             250000 non-null  object \n",
      " 8   Guest_Popularity_percentage  201168 non-null  float64\n",
      " 9   Number_of_Ads                249998 non-null  float64\n",
      " 10  Episode_Sentiment            250000 non-null  object \n",
      "dtypes: float64(4), int64(1), object(6)\n",
      "memory usage: 21.0+ MB\n"
     ]
    }
   ],
   "source": [
    "def remove_outliers(df, columns):\n",
    "    for col in columns:\n",
    "        Q1 = df[col].quantile(0.25)  # 25th percentile\n",
    "        Q3 = df[col].quantile(0.75)  # 75th percentile\n",
    "        IQR = Q3 - Q1  # Interquartile range\n",
    "        \n",
    "        # Define the acceptable range\n",
    "        lower_bound = Q1 - 2.5 * IQR\n",
    "        upper_bound = Q3 + 2.5 * IQR\n",
    "        \n",
    "        # Replace outliers with NaN\n",
    "        df.loc[(df[col] < lower_bound) | (df[col] > upper_bound), col] = np.nan\n",
    "\n",
    "    return df\n",
    "\n",
    "# Apply function to remove outliers\n",
    "train = remove_outliers(train, numerical_columns)\n",
    "test = remove_outliers(test, numerical_columns)\n",
    "test.info()"
   ]
  },
  {
   "cell_type": "code",
   "execution_count": 10,
   "id": "514271d4",
   "metadata": {
    "execution": {
     "iopub.execute_input": "2025-04-25T11:32:21.248647Z",
     "iopub.status.busy": "2025-04-25T11:32:21.248356Z",
     "iopub.status.idle": "2025-04-25T11:32:22.185790Z",
     "shell.execute_reply": "2025-04-25T11:32:22.184947Z"
    },
    "papermill": {
     "duration": 0.947773,
     "end_time": "2025-04-25T11:32:22.187153",
     "exception": false,
     "start_time": "2025-04-25T11:32:21.239380",
     "status": "completed"
    },
    "tags": []
   },
   "outputs": [
    {
     "data": {
      "image/png": "[encoded data removed]",
      "text/plain": [
       "<Figure size 1500x800 with 6 Axes>"
      ]
     },
     "metadata": {},
     "output_type": "display_data"
    }
   ],
   "source": [
    "# Select only numeric columns\n",
    "numeric_cols = train.select_dtypes(include='number').columns\n",
    "\n",
    "# Set up subplots\n",
    "n_cols = 3\n",
    "n_rows = -(-len(numeric_cols) // n_cols)  # Ceiling division\n",
    "fig, axes = plt.subplots(n_rows, n_cols, figsize=(5 * n_cols, 4 * n_rows))\n",
    "axes = axes.flatten()\n",
    "\n",
    "# Generate boxplots\n",
    "for i, col in enumerate(numeric_cols):\n",
    "    sns.boxplot(y=train[col], ax=axes[i], color='skyblue')\n",
    "    axes[i].set_title(f'Outliers in {col}', fontsize=10)\n",
    "    axes[i].set_ylabel('')\n",
    "    axes[i].grid(True)\n",
    "\n",
    "# Hide empty subplots\n",
    "for j in range(i + 1, len(axes)):\n",
    "    axes[j].set_visible(False)\n",
    "\n",
    "plt.tight_layout()\n",
    "plt.show()\n"
   ]
  },
  {
   "cell_type": "code",
   "execution_count": 11,
   "id": "b0450d9d",
   "metadata": {
    "execution": {
     "iopub.execute_input": "2025-04-25T11:32:22.208680Z",
     "iopub.status.busy": "2025-04-25T11:32:22.208398Z",
     "iopub.status.idle": "2025-04-25T11:32:22.897695Z",
     "shell.execute_reply": "2025-04-25T11:32:22.896857Z"
    },
    "papermill": {
     "duration": 0.701062,
     "end_time": "2025-04-25T11:32:22.899111",
     "exception": false,
     "start_time": "2025-04-25T11:32:22.198049",
     "status": "completed"
    },
    "tags": []
   },
   "outputs": [
    {
     "data": {
      "image/png": "[encoded data removed]",
      "text/plain": [
       "<Figure size 1500x800 with 6 Axes>"
      ]
     },
     "metadata": {},
     "output_type": "display_data"
    }
   ],
   "source": [
    "numeric_cols = test.select_dtypes(include='number').columns\n",
    "\n",
    "# Set up subplots\n",
    "n_cols = 3\n",
    "n_rows = -(-len(numeric_cols) // n_cols)  # Ceiling division\n",
    "fig, axes = plt.subplots(n_rows, n_cols, figsize=(5 * n_cols, 4 * n_rows))\n",
    "axes = axes.flatten()\n",
    "\n",
    "# Generate boxplots\n",
    "for i, col in enumerate(numeric_cols):\n",
    "    sns.boxplot(y=test[col], ax=axes[i], color='skyblue')\n",
    "    axes[i].set_title(f'Outliers in {col}', fontsize=10)\n",
    "    axes[i].set_ylabel('')\n",
    "    axes[i].grid(True)\n",
    "\n",
    "# Hide empty subplots\n",
    "for j in range(i + 1, len(axes)):\n",
    "    axes[j].set_visible(False)\n",
    "\n",
    "plt.tight_layout()\n",
    "plt.show()"
   ]
  },
  {
   "cell_type": "code",
   "execution_count": 12,
   "id": "01b2c074",
   "metadata": {
    "execution": {
     "iopub.execute_input": "2025-04-25T11:32:22.921476Z",
     "iopub.status.busy": "2025-04-25T11:32:22.921169Z",
     "iopub.status.idle": "2025-04-25T11:32:23.118780Z",
     "shell.execute_reply": "2025-04-25T11:32:23.117832Z"
    },
    "papermill": {
     "duration": 0.210184,
     "end_time": "2025-04-25T11:32:23.120293",
     "exception": false,
     "start_time": "2025-04-25T11:32:22.910109",
     "status": "completed"
    },
    "tags": []
   },
   "outputs": [
    {
     "data": {
      "text/plain": [
       "id                                  0\n",
       "Podcast_Name                        0\n",
       "Episode_Title                       0\n",
       "Episode_Length_minutes          87094\n",
       "Genre                               0\n",
       "Host_Popularity_percentage          0\n",
       "Publication_Day                     0\n",
       "Publication_Time                    0\n",
       "Guest_Popularity_percentage    146030\n",
       "Number_of_Ads                      10\n",
       "Episode_Sentiment                   0\n",
       "Listening_Time_minutes              0\n",
       "dtype: int64"
      ]
     },
     "execution_count": 12,
     "metadata": {},
     "output_type": "execute_result"
    }
   ],
   "source": [
    "train.isna().sum()"
   ]
  },
  {
   "cell_type": "code",
   "execution_count": 13,
   "id": "a37e2bc8",
   "metadata": {
    "execution": {
     "iopub.execute_input": "2025-04-25T11:32:23.142304Z",
     "iopub.status.busy": "2025-04-25T11:32:23.142035Z",
     "iopub.status.idle": "2025-04-25T11:32:23.343362Z",
     "shell.execute_reply": "2025-04-25T11:32:23.342463Z"
    },
    "papermill": {
     "duration": 0.213448,
     "end_time": "2025-04-25T11:32:23.344633",
     "exception": false,
     "start_time": "2025-04-25T11:32:23.131185",
     "status": "completed"
    },
    "tags": []
   },
   "outputs": [
    {
     "name": "stdout",
     "output_type": "stream",
     "text": [
      "<class 'pandas.core.frame.DataFrame'>\n",
      "RangeIndex: 750000 entries, 0 to 749999\n",
      "Data columns (total 12 columns):\n",
      " #   Column                       Non-Null Count   Dtype  \n",
      "---  ------                       --------------   -----  \n",
      " 0   id                           750000 non-null  int64  \n",
      " 1   Podcast_Name                 750000 non-null  object \n",
      " 2   Episode_Title                750000 non-null  object \n",
      " 3   Episode_Length_minutes       662906 non-null  float64\n",
      " 4   Genre                        750000 non-null  object \n",
      " 5   Host_Popularity_percentage   750000 non-null  float64\n",
      " 6   Publication_Day              750000 non-null  object \n",
      " 7   Publication_Time             750000 non-null  object \n",
      " 8   Guest_Popularity_percentage  603970 non-null  float64\n",
      " 9   Number_of_Ads                749990 non-null  float64\n",
      " 10  Episode_Sentiment            750000 non-null  object \n",
      " 11  Listening_Time_minutes       750000 non-null  float64\n",
      "dtypes: float64(5), int64(1), object(6)\n",
      "memory usage: 68.7+ MB\n"
     ]
    }
   ],
   "source": [
    "train.info()"
   ]
  },
  {
   "cell_type": "code",
   "execution_count": 14,
   "id": "4e12a9c6",
   "metadata": {
    "execution": {
     "iopub.execute_input": "2025-04-25T11:32:23.367944Z",
     "iopub.status.busy": "2025-04-25T11:32:23.367674Z",
     "iopub.status.idle": "2025-04-25T11:32:23.372203Z",
     "shell.execute_reply": "2025-04-25T11:32:23.371459Z"
    },
    "papermill": {
     "duration": 0.016889,
     "end_time": "2025-04-25T11:32:23.373501",
     "exception": false,
     "start_time": "2025-04-25T11:32:23.356612",
     "status": "completed"
    },
    "tags": []
   },
   "outputs": [
    {
     "name": "stdout",
     "output_type": "stream",
     "text": [
      "['Podcast_Name', 'Episode_Title', 'Genre', 'Publication_Day', 'Publication_Time', 'Episode_Sentiment']\n"
     ]
    }
   ],
   "source": [
    "numerical_columns=['Episode_Length_minutes','Host_Popularity_percentage','Guest_Popularity_percentage','Number_of_Ads']\n",
    "categorical_columns = [col for col in test.columns if col not in numerical_columns]\n",
    "categorical_columns.remove('id')\n",
    "print(categorical_columns)"
   ]
  },
  {
   "cell_type": "code",
   "execution_count": 15,
   "id": "f8e4fed7",
   "metadata": {
    "execution": {
     "iopub.execute_input": "2025-04-25T11:32:23.394908Z",
     "iopub.status.busy": "2025-04-25T11:32:23.394660Z",
     "iopub.status.idle": "2025-04-25T11:32:24.230208Z",
     "shell.execute_reply": "2025-04-25T11:32:24.229203Z"
    },
    "papermill": {
     "duration": 0.847794,
     "end_time": "2025-04-25T11:32:24.231755",
     "exception": false,
     "start_time": "2025-04-25T11:32:23.383961",
     "status": "completed"
    },
    "tags": []
   },
   "outputs": [
    {
     "name": "stderr",
     "output_type": "stream",
     "text": [
      "<ipython-input-15-957724fa5e35>:2: FutureWarning: A value is trying to be set on a copy of a DataFrame or Series through chained assignment using an inplace method.\n",
      "The behavior will change in pandas 3.0. This inplace method will never work because the intermediate object on which we are setting values always behaves as a copy.\n",
      "\n",
      "For example, when doing 'df[col].method(value, inplace=True)', try using 'df.method({col: value}, inplace=True)' or df[col] = df[col].method(value) instead, to perform the operation inplace on the original object.\n",
      "\n",
      "\n",
      "  train[col].fillna(train[col].mode()[0], inplace=True)  # Fill with mode\n",
      "<ipython-input-15-957724fa5e35>:3: FutureWarning: A value is trying to be set on a copy of a DataFrame or Series through chained assignment using an inplace method.\n",
      "The behavior will change in pandas 3.0. This inplace method will never work because the intermediate object on which we are setting values always behaves as a copy.\n",
      "\n",
      "For example, when doing 'df[col].method(value, inplace=True)', try using 'df.method({col: value}, inplace=True)' or df[col] = df[col].method(value) instead, to perform the operation inplace on the original object.\n",
      "\n",
      "\n",
      "  test[col].fillna(test[col].mode()[0], inplace=True)  # Fill with mode\n",
      "<ipython-input-15-957724fa5e35>:6: FutureWarning: A value is trying to be set on a copy of a DataFrame or Series through chained assignment using an inplace method.\n",
      "The behavior will change in pandas 3.0. This inplace method will never work because the intermediate object on which we are setting values always behaves as a copy.\n",
      "\n",
      "For example, when doing 'df[col].method(value, inplace=True)', try using 'df.method({col: value}, inplace=True)' or df[col] = df[col].method(value) instead, to perform the operation inplace on the original object.\n",
      "\n",
      "\n",
      "  train[col].fillna(train[col].mean(), inplace=True)  # Fill with mean\n",
      "<ipython-input-15-957724fa5e35>:7: FutureWarning: A value is trying to be set on a copy of a DataFrame or Series through chained assignment using an inplace method.\n",
      "The behavior will change in pandas 3.0. This inplace method will never work because the intermediate object on which we are setting values always behaves as a copy.\n",
      "\n",
      "For example, when doing 'df[col].method(value, inplace=True)', try using 'df.method({col: value}, inplace=True)' or df[col] = df[col].method(value) instead, to perform the operation inplace on the original object.\n",
      "\n",
      "\n",
      "  test[col].fillna(test[col].mean(), inplace=True)  # Fill with mean\n"
     ]
    },
    {
     "name": "stdout",
     "output_type": "stream",
     "text": [
      "<class 'pandas.core.frame.DataFrame'>\n",
      "RangeIndex: 750000 entries, 0 to 749999\n",
      "Data columns (total 12 columns):\n",
      " #   Column                       Non-Null Count   Dtype  \n",
      "---  ------                       --------------   -----  \n",
      " 0   id                           750000 non-null  int64  \n",
      " 1   Podcast_Name                 750000 non-null  object \n",
      " 2   Episode_Title                750000 non-null  object \n",
      " 3   Episode_Length_minutes       750000 non-null  float64\n",
      " 4   Genre                        750000 non-null  object \n",
      " 5   Host_Popularity_percentage   750000 non-null  float64\n",
      " 6   Publication_Day              750000 non-null  object \n",
      " 7   Publication_Time             750000 non-null  object \n",
      " 8   Guest_Popularity_percentage  750000 non-null  float64\n",
      " 9   Number_of_Ads                750000 non-null  float64\n",
      " 10  Episode_Sentiment            750000 non-null  object \n",
      " 11  Listening_Time_minutes       750000 non-null  float64\n",
      "dtypes: float64(5), int64(1), object(6)\n",
      "memory usage: 68.7+ MB\n"
     ]
    }
   ],
   "source": [
    "for col in categorical_columns:\n",
    "    train[col].fillna(train[col].mode()[0], inplace=True)  # Fill with mode\n",
    "    test[col].fillna(test[col].mode()[0], inplace=True)  # Fill with mode\n",
    "\n",
    "for col in numerical_columns:\n",
    "    train[col].fillna(train[col].mean(), inplace=True)  # Fill with mean\n",
    "    test[col].fillna(test[col].mean(), inplace=True)  # Fill with mean\n",
    "train.info()"
   ]
  },
  {
   "cell_type": "code",
   "execution_count": 16,
   "id": "cf156603",
   "metadata": {
    "execution": {
     "iopub.execute_input": "2025-04-25T11:32:24.254150Z",
     "iopub.status.busy": "2025-04-25T11:32:24.253883Z",
     "iopub.status.idle": "2025-04-25T11:32:24.313409Z",
     "shell.execute_reply": "2025-04-25T11:32:24.312542Z"
    },
    "papermill": {
     "duration": 0.072027,
     "end_time": "2025-04-25T11:32:24.314767",
     "exception": false,
     "start_time": "2025-04-25T11:32:24.242740",
     "status": "completed"
    },
    "tags": []
   },
   "outputs": [
    {
     "data": {
      "text/html": [
       "<div>\n",
       "<style scoped>\n",
       "    .dataframe tbody tr th:only-of-type {\n",
       "        vertical-align: middle;\n",
       "    }\n",
       "\n",
       "    .dataframe tbody tr th {\n",
       "        vertical-align: top;\n",
       "    }\n",
       "\n",
       "    .dataframe thead th {\n",
       "        text-align: right;\n",
       "    }\n",
       "</style>\n",
       "<table border=\"1\" class=\"dataframe\">\n",
       "  <thead>\n",
       "    <tr style=\"text-align: right;\">\n",
       "      <th></th>\n",
       "      <th>Episode_Length_minutes</th>\n",
       "      <th>Host_Popularity_percentage</th>\n",
       "      <th>Guest_Popularity_percentage</th>\n",
       "      <th>Number_of_Ads</th>\n",
       "    </tr>\n",
       "  </thead>\n",
       "  <tbody>\n",
       "    <tr>\n",
       "      <th>Episode_Length_minutes</th>\n",
       "      <td>1.000000</td>\n",
       "      <td>0.022185</td>\n",
       "      <td>-0.008249</td>\n",
       "      <td>-0.054871</td>\n",
       "    </tr>\n",
       "    <tr>\n",
       "      <th>Host_Popularity_percentage</th>\n",
       "      <td>0.022185</td>\n",
       "      <td>1.000000</td>\n",
       "      <td>0.020111</td>\n",
       "      <td>-0.017849</td>\n",
       "    </tr>\n",
       "    <tr>\n",
       "      <th>Guest_Popularity_percentage</th>\n",
       "      <td>-0.008249</td>\n",
       "      <td>0.020111</td>\n",
       "      <td>1.000000</td>\n",
       "      <td>0.007743</td>\n",
       "    </tr>\n",
       "    <tr>\n",
       "      <th>Number_of_Ads</th>\n",
       "      <td>-0.054871</td>\n",
       "      <td>-0.017849</td>\n",
       "      <td>0.007743</td>\n",
       "      <td>1.000000</td>\n",
       "    </tr>\n",
       "  </tbody>\n",
       "</table>\n",
       "</div>"
      ],
      "text/plain": [
       "                             Episode_Length_minutes  \\\n",
       "Episode_Length_minutes                     1.000000   \n",
       "Host_Popularity_percentage                 0.022185   \n",
       "Guest_Popularity_percentage               -0.008249   \n",
       "Number_of_Ads                             -0.054871   \n",
       "\n",
       "                             Host_Popularity_percentage  \\\n",
       "Episode_Length_minutes                         0.022185   \n",
       "Host_Popularity_percentage                     1.000000   \n",
       "Guest_Popularity_percentage                    0.020111   \n",
       "Number_of_Ads                                 -0.017849   \n",
       "\n",
       "                             Guest_Popularity_percentage  Number_of_Ads  \n",
       "Episode_Length_minutes                         -0.008249      -0.054871  \n",
       "Host_Popularity_percentage                      0.020111      -0.017849  \n",
       "Guest_Popularity_percentage                     1.000000       0.007743  \n",
       "Number_of_Ads                                   0.007743       1.000000  "
      ]
     },
     "execution_count": 16,
     "metadata": {},
     "output_type": "execute_result"
    }
   ],
   "source": [
    "train[numerical_columns].corr()"
   ]
  },
  {
   "cell_type": "code",
   "execution_count": 17,
   "id": "f331ea60",
   "metadata": {
    "execution": {
     "iopub.execute_input": "2025-04-25T11:32:24.337168Z",
     "iopub.status.busy": "2025-04-25T11:32:24.336935Z",
     "iopub.status.idle": "2025-04-25T11:32:24.362104Z",
     "shell.execute_reply": "2025-04-25T11:32:24.361299Z"
    },
    "papermill": {
     "duration": 0.037632,
     "end_time": "2025-04-25T11:32:24.363455",
     "exception": false,
     "start_time": "2025-04-25T11:32:24.325823",
     "status": "completed"
    },
    "tags": []
   },
   "outputs": [
    {
     "data": {
      "text/html": [
       "<div>\n",
       "<style scoped>\n",
       "    .dataframe tbody tr th:only-of-type {\n",
       "        vertical-align: middle;\n",
       "    }\n",
       "\n",
       "    .dataframe tbody tr th {\n",
       "        vertical-align: top;\n",
       "    }\n",
       "\n",
       "    .dataframe thead th {\n",
       "        text-align: right;\n",
       "    }\n",
       "</style>\n",
       "<table border=\"1\" class=\"dataframe\">\n",
       "  <thead>\n",
       "    <tr style=\"text-align: right;\">\n",
       "      <th></th>\n",
       "      <th>Episode_Length_minutes</th>\n",
       "      <th>Host_Popularity_percentage</th>\n",
       "      <th>Guest_Popularity_percentage</th>\n",
       "      <th>Number_of_Ads</th>\n",
       "    </tr>\n",
       "  </thead>\n",
       "  <tbody>\n",
       "    <tr>\n",
       "      <th>Episode_Length_minutes</th>\n",
       "      <td>1.000000</td>\n",
       "      <td>0.020181</td>\n",
       "      <td>-0.009374</td>\n",
       "      <td>-0.051307</td>\n",
       "    </tr>\n",
       "    <tr>\n",
       "      <th>Host_Popularity_percentage</th>\n",
       "      <td>0.020181</td>\n",
       "      <td>1.000000</td>\n",
       "      <td>0.019781</td>\n",
       "      <td>-0.017992</td>\n",
       "    </tr>\n",
       "    <tr>\n",
       "      <th>Guest_Popularity_percentage</th>\n",
       "      <td>-0.009374</td>\n",
       "      <td>0.019781</td>\n",
       "      <td>1.000000</td>\n",
       "      <td>0.013557</td>\n",
       "    </tr>\n",
       "    <tr>\n",
       "      <th>Number_of_Ads</th>\n",
       "      <td>-0.051307</td>\n",
       "      <td>-0.017992</td>\n",
       "      <td>0.013557</td>\n",
       "      <td>1.000000</td>\n",
       "    </tr>\n",
       "  </tbody>\n",
       "</table>\n",
       "</div>"
      ],
      "text/plain": [
       "                             Episode_Length_minutes  \\\n",
       "Episode_Length_minutes                     1.000000   \n",
       "Host_Popularity_percentage                 0.020181   \n",
       "Guest_Popularity_percentage               -0.009374   \n",
       "Number_of_Ads                             -0.051307   \n",
       "\n",
       "                             Host_Popularity_percentage  \\\n",
       "Episode_Length_minutes                         0.020181   \n",
       "Host_Popularity_percentage                     1.000000   \n",
       "Guest_Popularity_percentage                    0.019781   \n",
       "Number_of_Ads                                 -0.017992   \n",
       "\n",
       "                             Guest_Popularity_percentage  Number_of_Ads  \n",
       "Episode_Length_minutes                         -0.009374      -0.051307  \n",
       "Host_Popularity_percentage                      0.019781      -0.017992  \n",
       "Guest_Popularity_percentage                     1.000000       0.013557  \n",
       "Number_of_Ads                                   0.013557       1.000000  "
      ]
     },
     "execution_count": 17,
     "metadata": {},
     "output_type": "execute_result"
    }
   ],
   "source": [
    "test[numerical_columns].corr()"
   ]
  },
  {
   "cell_type": "code",
   "execution_count": 18,
   "id": "5c44f493",
   "metadata": {
    "execution": {
     "iopub.execute_input": "2025-04-25T11:32:24.387041Z",
     "iopub.status.busy": "2025-04-25T11:32:24.386788Z",
     "iopub.status.idle": "2025-04-25T11:32:24.460125Z",
     "shell.execute_reply": "2025-04-25T11:32:24.459408Z"
    },
    "papermill": {
     "duration": 0.086665,
     "end_time": "2025-04-25T11:32:24.461730",
     "exception": false,
     "start_time": "2025-04-25T11:32:24.375065",
     "status": "completed"
    },
    "tags": []
   },
   "outputs": [],
   "source": [
    "# Ensure that the columns are in the same order in both train and test datasets\n",
    "# Sort the columns in both the train and test data by column names (or by column index), which guarantees that they match:\n",
    "train = train[sorted(train.columns)]  # Sort columns of train data\n",
    "test = test[sorted(test.columns)]    # Sort columns of test data"
   ]
  },
  {
   "cell_type": "code",
   "execution_count": 19,
   "id": "dd5c7bb5",
   "metadata": {
    "execution": {
     "iopub.execute_input": "2025-04-25T11:32:24.486607Z",
     "iopub.status.busy": "2025-04-25T11:32:24.486317Z",
     "iopub.status.idle": "2025-04-25T11:32:30.995185Z",
     "shell.execute_reply": "2025-04-25T11:32:30.994476Z"
    },
    "papermill": {
     "duration": 6.52284,
     "end_time": "2025-04-25T11:32:30.996714",
     "exception": false,
     "start_time": "2025-04-25T11:32:24.473874",
     "status": "completed"
    },
    "tags": []
   },
   "outputs": [
    {
     "name": "stderr",
     "output_type": "stream",
     "text": [
      "/usr/local/lib/python3.10/dist-packages/sklearn/preprocessing/_encoders.py:868: FutureWarning: `sparse` was renamed to `sparse_output` in version 1.2 and will be removed in 1.4. `sparse_output` is ignored unless you leave `sparse` to its default value.\n",
      "  warnings.warn(\n"
     ]
    }
   ],
   "source": [
    "from sklearn.preprocessing import StandardScaler, OneHotEncoder\n",
    "import pandas as pd\n",
    "\n",
    "# Initialize scalers and encoders\n",
    "scaler = StandardScaler()\n",
    "encoder = OneHotEncoder(handle_unknown='ignore', sparse=False)\n",
    "\n",
    "# Fit and transform on the training data\n",
    "df_numerical_scaled_train = pd.DataFrame(scaler.fit_transform(train[numerical_columns]), columns=numerical_columns)\n",
    "df_categorical_encoded_train = pd.DataFrame(encoder.fit_transform(train[categorical_columns]))\n",
    "df_categorical_encoded_train.columns = encoder.get_feature_names_out(categorical_columns)\n",
    "\n",
    "# Now, transform the test data using the statistics learned from the training data\n",
    "df_numerical_scaled_test = pd.DataFrame(scaler.transform(test[numerical_columns]), columns=numerical_columns)\n",
    "df_categorical_encoded_test = pd.DataFrame(encoder.transform(test[categorical_columns]))\n",
    "df_categorical_encoded_test.columns = encoder.get_feature_names_out(categorical_columns)\n",
    "\n",
    "# Combine the scaled and encoded data\n",
    "train_transformed = pd.concat([df_numerical_scaled_train, df_categorical_encoded_train], axis=1)\n",
    "test_transformed = pd.concat([df_numerical_scaled_test, df_categorical_encoded_test], axis=1)\n"
   ]
  },
  {
   "cell_type": "code",
   "execution_count": 20,
   "id": "2a693118",
   "metadata": {
    "execution": {
     "iopub.execute_input": "2025-04-25T11:32:31.020455Z",
     "iopub.status.busy": "2025-04-25T11:32:31.020156Z",
     "iopub.status.idle": "2025-04-25T11:32:31.042084Z",
     "shell.execute_reply": "2025-04-25T11:32:31.041313Z"
    },
    "papermill": {
     "duration": 0.03523,
     "end_time": "2025-04-25T11:32:31.043415",
     "exception": false,
     "start_time": "2025-04-25T11:32:31.008185",
     "status": "completed"
    },
    "tags": []
   },
   "outputs": [
    {
     "data": {
      "text/html": [
       "<div>\n",
       "<style scoped>\n",
       "    .dataframe tbody tr th:only-of-type {\n",
       "        vertical-align: middle;\n",
       "    }\n",
       "\n",
       "    .dataframe tbody tr th {\n",
       "        vertical-align: top;\n",
       "    }\n",
       "\n",
       "    .dataframe thead th {\n",
       "        text-align: right;\n",
       "    }\n",
       "</style>\n",
       "<table border=\"1\" class=\"dataframe\">\n",
       "  <thead>\n",
       "    <tr style=\"text-align: right;\">\n",
       "      <th></th>\n",
       "      <th>Episode_Length_minutes</th>\n",
       "      <th>Host_Popularity_percentage</th>\n",
       "      <th>Guest_Popularity_percentage</th>\n",
       "      <th>Number_of_Ads</th>\n",
       "      <th>Podcast_Name_Athlete's Arena</th>\n",
       "      <th>Podcast_Name_Brain Boost</th>\n",
       "      <th>Podcast_Name_Business Briefs</th>\n",
       "      <th>Podcast_Name_Business Insights</th>\n",
       "      <th>Podcast_Name_Comedy Corner</th>\n",
       "      <th>Podcast_Name_Crime Chronicles</th>\n",
       "      <th>...</th>\n",
       "      <th>Publication_Day_Thursday</th>\n",
       "      <th>Publication_Day_Tuesday</th>\n",
       "      <th>Publication_Day_Wednesday</th>\n",
       "      <th>Publication_Time_Afternoon</th>\n",
       "      <th>Publication_Time_Evening</th>\n",
       "      <th>Publication_Time_Morning</th>\n",
       "      <th>Publication_Time_Night</th>\n",
       "      <th>Episode_Sentiment_Negative</th>\n",
       "      <th>Episode_Sentiment_Neutral</th>\n",
       "      <th>Episode_Sentiment_Positive</th>\n",
       "    </tr>\n",
       "  </thead>\n",
       "  <tbody>\n",
       "    <tr>\n",
       "      <th>0</th>\n",
       "      <td>0.000000</td>\n",
       "      <td>0.653611</td>\n",
       "      <td>0.000000</td>\n",
       "      <td>-1.213262</td>\n",
       "      <td>0.0</td>\n",
       "      <td>0.0</td>\n",
       "      <td>0.0</td>\n",
       "      <td>0.0</td>\n",
       "      <td>0.0</td>\n",
       "      <td>0.0</td>\n",
       "      <td>...</td>\n",
       "      <td>1.0</td>\n",
       "      <td>0.0</td>\n",
       "      <td>0.0</td>\n",
       "      <td>0.0</td>\n",
       "      <td>0.0</td>\n",
       "      <td>0.0</td>\n",
       "      <td>1.0</td>\n",
       "      <td>0.0</td>\n",
       "      <td>0.0</td>\n",
       "      <td>1.0</td>\n",
       "    </tr>\n",
       "    <tr>\n",
       "      <th>1</th>\n",
       "      <td>1.784031</td>\n",
       "      <td>0.309976</td>\n",
       "      <td>0.928792</td>\n",
       "      <td>0.586984</td>\n",
       "      <td>0.0</td>\n",
       "      <td>0.0</td>\n",
       "      <td>0.0</td>\n",
       "      <td>0.0</td>\n",
       "      <td>0.0</td>\n",
       "      <td>0.0</td>\n",
       "      <td>...</td>\n",
       "      <td>0.0</td>\n",
       "      <td>0.0</td>\n",
       "      <td>0.0</td>\n",
       "      <td>1.0</td>\n",
       "      <td>0.0</td>\n",
       "      <td>0.0</td>\n",
       "      <td>0.0</td>\n",
       "      <td>1.0</td>\n",
       "      <td>0.0</td>\n",
       "      <td>0.0</td>\n",
       "    </tr>\n",
       "    <tr>\n",
       "      <th>2</th>\n",
       "      <td>0.303137</td>\n",
       "      <td>0.442009</td>\n",
       "      <td>-1.694624</td>\n",
       "      <td>-1.213262</td>\n",
       "      <td>0.0</td>\n",
       "      <td>0.0</td>\n",
       "      <td>0.0</td>\n",
       "      <td>0.0</td>\n",
       "      <td>0.0</td>\n",
       "      <td>0.0</td>\n",
       "      <td>...</td>\n",
       "      <td>0.0</td>\n",
       "      <td>1.0</td>\n",
       "      <td>0.0</td>\n",
       "      <td>0.0</td>\n",
       "      <td>1.0</td>\n",
       "      <td>0.0</td>\n",
       "      <td>0.0</td>\n",
       "      <td>1.0</td>\n",
       "      <td>0.0</td>\n",
       "      <td>0.0</td>\n",
       "    </tr>\n",
       "    <tr>\n",
       "      <th>3</th>\n",
       "      <td>0.086003</td>\n",
       "      <td>-0.115415</td>\n",
       "      <td>1.036502</td>\n",
       "      <td>0.586984</td>\n",
       "      <td>0.0</td>\n",
       "      <td>0.0</td>\n",
       "      <td>0.0</td>\n",
       "      <td>0.0</td>\n",
       "      <td>0.0</td>\n",
       "      <td>0.0</td>\n",
       "      <td>...</td>\n",
       "      <td>0.0</td>\n",
       "      <td>0.0</td>\n",
       "      <td>0.0</td>\n",
       "      <td>0.0</td>\n",
       "      <td>0.0</td>\n",
       "      <td>1.0</td>\n",
       "      <td>0.0</td>\n",
       "      <td>0.0</td>\n",
       "      <td>0.0</td>\n",
       "      <td>1.0</td>\n",
       "    </tr>\n",
       "    <tr>\n",
       "      <th>4</th>\n",
       "      <td>1.484303</td>\n",
       "      <td>0.883576</td>\n",
       "      <td>0.252376</td>\n",
       "      <td>1.487107</td>\n",
       "      <td>0.0</td>\n",
       "      <td>0.0</td>\n",
       "      <td>0.0</td>\n",
       "      <td>0.0</td>\n",
       "      <td>0.0</td>\n",
       "      <td>0.0</td>\n",
       "      <td>...</td>\n",
       "      <td>0.0</td>\n",
       "      <td>0.0</td>\n",
       "      <td>0.0</td>\n",
       "      <td>1.0</td>\n",
       "      <td>0.0</td>\n",
       "      <td>0.0</td>\n",
       "      <td>0.0</td>\n",
       "      <td>0.0</td>\n",
       "      <td>1.0</td>\n",
       "      <td>0.0</td>\n",
       "    </tr>\n",
       "  </tbody>\n",
       "</table>\n",
       "<p>5 rows × 176 columns</p>\n",
       "</div>"
      ],
      "text/plain": [
       "   Episode_Length_minutes  Host_Popularity_percentage  \\\n",
       "0                0.000000                    0.653611   \n",
       "1                1.784031                    0.309976   \n",
       "2                0.303137                    0.442009   \n",
       "3                0.086003                   -0.115415   \n",
       "4                1.484303                    0.883576   \n",
       "\n",
       "   Guest_Popularity_percentage  Number_of_Ads  Podcast_Name_Athlete's Arena  \\\n",
       "0                     0.000000      -1.213262                           0.0   \n",
       "1                     0.928792       0.586984                           0.0   \n",
       "2                    -1.694624      -1.213262                           0.0   \n",
       "3                     1.036502       0.586984                           0.0   \n",
       "4                     0.252376       1.487107                           0.0   \n",
       "\n",
       "   Podcast_Name_Brain Boost  Podcast_Name_Business Briefs  \\\n",
       "0                       0.0                           0.0   \n",
       "1                       0.0                           0.0   \n",
       "2                       0.0                           0.0   \n",
       "3                       0.0                           0.0   \n",
       "4                       0.0                           0.0   \n",
       "\n",
       "   Podcast_Name_Business Insights  Podcast_Name_Comedy Corner  \\\n",
       "0                             0.0                         0.0   \n",
       "1                             0.0                         0.0   \n",
       "2                             0.0                         0.0   \n",
       "3                             0.0                         0.0   \n",
       "4                             0.0                         0.0   \n",
       "\n",
       "   Podcast_Name_Crime Chronicles  ...  Publication_Day_Thursday  \\\n",
       "0                            0.0  ...                       1.0   \n",
       "1                            0.0  ...                       0.0   \n",
       "2                            0.0  ...                       0.0   \n",
       "3                            0.0  ...                       0.0   \n",
       "4                            0.0  ...                       0.0   \n",
       "\n",
       "   Publication_Day_Tuesday  Publication_Day_Wednesday  \\\n",
       "0                      0.0                        0.0   \n",
       "1                      0.0                        0.0   \n",
       "2                      1.0                        0.0   \n",
       "3                      0.0                        0.0   \n",
       "4                      0.0                        0.0   \n",
       "\n",
       "   Publication_Time_Afternoon  Publication_Time_Evening  \\\n",
       "0                         0.0                       0.0   \n",
       "1                         1.0                       0.0   \n",
       "2                         0.0                       1.0   \n",
       "3                         0.0                       0.0   \n",
       "4                         1.0                       0.0   \n",
       "\n",
       "   Publication_Time_Morning  Publication_Time_Night  \\\n",
       "0                       0.0                     1.0   \n",
       "1                       0.0                     0.0   \n",
       "2                       0.0                     0.0   \n",
       "3                       1.0                     0.0   \n",
       "4                       0.0                     0.0   \n",
       "\n",
       "   Episode_Sentiment_Negative  Episode_Sentiment_Neutral  \\\n",
       "0                         0.0                        0.0   \n",
       "1                         1.0                        0.0   \n",
       "2                         1.0                        0.0   \n",
       "3                         0.0                        0.0   \n",
       "4                         0.0                        1.0   \n",
       "\n",
       "   Episode_Sentiment_Positive  \n",
       "0                         1.0  \n",
       "1                         0.0  \n",
       "2                         0.0  \n",
       "3                         1.0  \n",
       "4                         0.0  \n",
       "\n",
       "[5 rows x 176 columns]"
      ]
     },
     "execution_count": 20,
     "metadata": {},
     "output_type": "execute_result"
    }
   ],
   "source": [
    "train_transformed.head()"
   ]
  },
  {
   "cell_type": "code",
   "execution_count": 21,
   "id": "9efef913",
   "metadata": {
    "execution": {
     "iopub.execute_input": "2025-04-25T11:32:31.067970Z",
     "iopub.status.busy": "2025-04-25T11:32:31.067703Z",
     "iopub.status.idle": "2025-04-25T11:32:31.090644Z",
     "shell.execute_reply": "2025-04-25T11:32:31.089805Z"
    },
    "papermill": {
     "duration": 0.036816,
     "end_time": "2025-04-25T11:32:31.091955",
     "exception": false,
     "start_time": "2025-04-25T11:32:31.055139",
     "status": "completed"
    },
    "tags": []
   },
   "outputs": [
    {
     "data": {
      "text/html": [
       "<div>\n",
       "<style scoped>\n",
       "    .dataframe tbody tr th:only-of-type {\n",
       "        vertical-align: middle;\n",
       "    }\n",
       "\n",
       "    .dataframe tbody tr th {\n",
       "        vertical-align: top;\n",
       "    }\n",
       "\n",
       "    .dataframe thead th {\n",
       "        text-align: right;\n",
       "    }\n",
       "</style>\n",
       "<table border=\"1\" class=\"dataframe\">\n",
       "  <thead>\n",
       "    <tr style=\"text-align: right;\">\n",
       "      <th></th>\n",
       "      <th>Episode_Length_minutes</th>\n",
       "      <th>Host_Popularity_percentage</th>\n",
       "      <th>Guest_Popularity_percentage</th>\n",
       "      <th>Number_of_Ads</th>\n",
       "      <th>Podcast_Name_Athlete's Arena</th>\n",
       "      <th>Podcast_Name_Brain Boost</th>\n",
       "      <th>Podcast_Name_Business Briefs</th>\n",
       "      <th>Podcast_Name_Business Insights</th>\n",
       "      <th>Podcast_Name_Comedy Corner</th>\n",
       "      <th>Podcast_Name_Crime Chronicles</th>\n",
       "      <th>...</th>\n",
       "      <th>Publication_Day_Thursday</th>\n",
       "      <th>Publication_Day_Tuesday</th>\n",
       "      <th>Publication_Day_Wednesday</th>\n",
       "      <th>Publication_Time_Afternoon</th>\n",
       "      <th>Publication_Time_Evening</th>\n",
       "      <th>Publication_Time_Morning</th>\n",
       "      <th>Publication_Time_Night</th>\n",
       "      <th>Episode_Sentiment_Negative</th>\n",
       "      <th>Episode_Sentiment_Neutral</th>\n",
       "      <th>Episode_Sentiment_Positive</th>\n",
       "    </tr>\n",
       "  </thead>\n",
       "  <tbody>\n",
       "    <tr>\n",
       "      <th>0</th>\n",
       "      <td>0.466390</td>\n",
       "      <td>-0.950895</td>\n",
       "      <td>0.042831</td>\n",
       "      <td>-0.313139</td>\n",
       "      <td>0.0</td>\n",
       "      <td>0.0</td>\n",
       "      <td>0.0</td>\n",
       "      <td>0.0</td>\n",
       "      <td>0.0</td>\n",
       "      <td>0.0</td>\n",
       "      <td>...</td>\n",
       "      <td>0.0</td>\n",
       "      <td>0.0</td>\n",
       "      <td>0.0</td>\n",
       "      <td>0.0</td>\n",
       "      <td>1.0</td>\n",
       "      <td>0.0</td>\n",
       "      <td>0.0</td>\n",
       "      <td>0.0</td>\n",
       "      <td>1.0</td>\n",
       "      <td>0.0</td>\n",
       "    </tr>\n",
       "    <tr>\n",
       "      <th>1</th>\n",
       "      <td>-1.181952</td>\n",
       "      <td>0.499718</td>\n",
       "      <td>-0.001710</td>\n",
       "      <td>-1.213262</td>\n",
       "      <td>0.0</td>\n",
       "      <td>0.0</td>\n",
       "      <td>0.0</td>\n",
       "      <td>0.0</td>\n",
       "      <td>0.0</td>\n",
       "      <td>0.0</td>\n",
       "      <td>...</td>\n",
       "      <td>0.0</td>\n",
       "      <td>0.0</td>\n",
       "      <td>0.0</td>\n",
       "      <td>0.0</td>\n",
       "      <td>0.0</td>\n",
       "      <td>1.0</td>\n",
       "      <td>0.0</td>\n",
       "      <td>0.0</td>\n",
       "      <td>1.0</td>\n",
       "      <td>0.0</td>\n",
       "    </tr>\n",
       "    <tr>\n",
       "      <th>2</th>\n",
       "      <td>0.148272</td>\n",
       "      <td>0.351072</td>\n",
       "      <td>1.773236</td>\n",
       "      <td>-1.213262</td>\n",
       "      <td>0.0</td>\n",
       "      <td>0.0</td>\n",
       "      <td>0.0</td>\n",
       "      <td>0.0</td>\n",
       "      <td>0.0</td>\n",
       "      <td>0.0</td>\n",
       "      <td>...</td>\n",
       "      <td>0.0</td>\n",
       "      <td>0.0</td>\n",
       "      <td>0.0</td>\n",
       "      <td>0.0</td>\n",
       "      <td>1.0</td>\n",
       "      <td>0.0</td>\n",
       "      <td>0.0</td>\n",
       "      <td>0.0</td>\n",
       "      <td>0.0</td>\n",
       "      <td>1.0</td>\n",
       "    </tr>\n",
       "    <tr>\n",
       "      <th>3</th>\n",
       "      <td>1.641749</td>\n",
       "      <td>-1.594009</td>\n",
       "      <td>-0.019053</td>\n",
       "      <td>0.586984</td>\n",
       "      <td>0.0</td>\n",
       "      <td>0.0</td>\n",
       "      <td>0.0</td>\n",
       "      <td>0.0</td>\n",
       "      <td>1.0</td>\n",
       "      <td>0.0</td>\n",
       "      <td>...</td>\n",
       "      <td>0.0</td>\n",
       "      <td>0.0</td>\n",
       "      <td>0.0</td>\n",
       "      <td>0.0</td>\n",
       "      <td>0.0</td>\n",
       "      <td>1.0</td>\n",
       "      <td>0.0</td>\n",
       "      <td>0.0</td>\n",
       "      <td>0.0</td>\n",
       "      <td>1.0</td>\n",
       "    </tr>\n",
       "    <tr>\n",
       "      <th>4</th>\n",
       "      <td>0.252160</td>\n",
       "      <td>-0.076942</td>\n",
       "      <td>-1.603364</td>\n",
       "      <td>0.586984</td>\n",
       "      <td>0.0</td>\n",
       "      <td>0.0</td>\n",
       "      <td>0.0</td>\n",
       "      <td>0.0</td>\n",
       "      <td>0.0</td>\n",
       "      <td>0.0</td>\n",
       "      <td>...</td>\n",
       "      <td>0.0</td>\n",
       "      <td>0.0</td>\n",
       "      <td>1.0</td>\n",
       "      <td>0.0</td>\n",
       "      <td>0.0</td>\n",
       "      <td>1.0</td>\n",
       "      <td>0.0</td>\n",
       "      <td>0.0</td>\n",
       "      <td>1.0</td>\n",
       "      <td>0.0</td>\n",
       "    </tr>\n",
       "  </tbody>\n",
       "</table>\n",
       "<p>5 rows × 176 columns</p>\n",
       "</div>"
      ],
      "text/plain": [
       "   Episode_Length_minutes  Host_Popularity_percentage  \\\n",
       "0                0.466390                   -0.950895   \n",
       "1               -1.181952                    0.499718   \n",
       "2                0.148272                    0.351072   \n",
       "3                1.641749                   -1.594009   \n",
       "4                0.252160                   -0.076942   \n",
       "\n",
       "   Guest_Popularity_percentage  Number_of_Ads  Podcast_Name_Athlete's Arena  \\\n",
       "0                     0.042831      -0.313139                           0.0   \n",
       "1                    -0.001710      -1.213262                           0.0   \n",
       "2                     1.773236      -1.213262                           0.0   \n",
       "3                    -0.019053       0.586984                           0.0   \n",
       "4                    -1.603364       0.586984                           0.0   \n",
       "\n",
       "   Podcast_Name_Brain Boost  Podcast_Name_Business Briefs  \\\n",
       "0                       0.0                           0.0   \n",
       "1                       0.0                           0.0   \n",
       "2                       0.0                           0.0   \n",
       "3                       0.0                           0.0   \n",
       "4                       0.0                           0.0   \n",
       "\n",
       "   Podcast_Name_Business Insights  Podcast_Name_Comedy Corner  \\\n",
       "0                             0.0                         0.0   \n",
       "1                             0.0                         0.0   \n",
       "2                             0.0                         0.0   \n",
       "3                             0.0                         1.0   \n",
       "4                             0.0                         0.0   \n",
       "\n",
       "   Podcast_Name_Crime Chronicles  ...  Publication_Day_Thursday  \\\n",
       "0                            0.0  ...                       0.0   \n",
       "1                            0.0  ...                       0.0   \n",
       "2                            0.0  ...                       0.0   \n",
       "3                            0.0  ...                       0.0   \n",
       "4                            0.0  ...                       0.0   \n",
       "\n",
       "   Publication_Day_Tuesday  Publication_Day_Wednesday  \\\n",
       "0                      0.0                        0.0   \n",
       "1                      0.0                        0.0   \n",
       "2                      0.0                        0.0   \n",
       "3                      0.0                        0.0   \n",
       "4                      0.0                        1.0   \n",
       "\n",
       "   Publication_Time_Afternoon  Publication_Time_Evening  \\\n",
       "0                         0.0                       1.0   \n",
       "1                         0.0                       0.0   \n",
       "2                         0.0                       1.0   \n",
       "3                         0.0                       0.0   \n",
       "4                         0.0                       0.0   \n",
       "\n",
       "   Publication_Time_Morning  Publication_Time_Night  \\\n",
       "0                       0.0                     0.0   \n",
       "1                       1.0                     0.0   \n",
       "2                       0.0                     0.0   \n",
       "3                       1.0                     0.0   \n",
       "4                       1.0                     0.0   \n",
       "\n",
       "   Episode_Sentiment_Negative  Episode_Sentiment_Neutral  \\\n",
       "0                         0.0                        1.0   \n",
       "1                         0.0                        1.0   \n",
       "2                         0.0                        0.0   \n",
       "3                         0.0                        0.0   \n",
       "4                         0.0                        1.0   \n",
       "\n",
       "   Episode_Sentiment_Positive  \n",
       "0                         0.0  \n",
       "1                         0.0  \n",
       "2                         1.0  \n",
       "3                         1.0  \n",
       "4                         0.0  \n",
       "\n",
       "[5 rows x 176 columns]"
      ]
     },
     "execution_count": 21,
     "metadata": {},
     "output_type": "execute_result"
    }
   ],
   "source": [
    "test_transformed.head()"
   ]
  },
  {
   "cell_type": "code",
   "execution_count": 22,
   "id": "af70b0bd",
   "metadata": {
    "execution": {
     "iopub.execute_input": "2025-04-25T11:32:31.116458Z",
     "iopub.status.busy": "2025-04-25T11:32:31.116121Z",
     "iopub.status.idle": "2025-04-25T11:32:31.120425Z",
     "shell.execute_reply": "2025-04-25T11:32:31.119759Z"
    },
    "papermill": {
     "duration": 0.018317,
     "end_time": "2025-04-25T11:32:31.122118",
     "exception": false,
     "start_time": "2025-04-25T11:32:31.103801",
     "status": "completed"
    },
    "tags": []
   },
   "outputs": [],
   "source": [
    "X = train_transformed  # replace with your feature columns\n",
    "y = train['Listening_Time_minutes']  # replace with your target column"
   ]
  },
  {
   "cell_type": "markdown",
   "id": "e7f7acfd",
   "metadata": {
    "papermill": {
     "duration": 0.011391,
     "end_time": "2025-04-25T11:32:31.145439",
     "exception": false,
     "start_time": "2025-04-25T11:32:31.134048",
     "status": "completed"
    },
    "tags": []
   },
   "source": [
    "# trying LGB regressor"
   ]
  },
  {
   "cell_type": "code",
   "execution_count": 23,
   "id": "7960bd27",
   "metadata": {
    "execution": {
     "iopub.execute_input": "2025-04-25T11:32:31.169932Z",
     "iopub.status.busy": "2025-04-25T11:32:31.169642Z",
     "iopub.status.idle": "2025-04-25T12:19:57.195347Z",
     "shell.execute_reply": "2025-04-25T12:19:57.194249Z"
    },
    "papermill": {
     "duration": 2846.051004,
     "end_time": "2025-04-25T12:19:57.208312",
     "exception": false,
     "start_time": "2025-04-25T11:32:31.157308",
     "status": "completed"
    },
    "tags": []
   },
   "outputs": [
    {
     "name": "stdout",
     "output_type": "stream",
     "text": [
      "[LightGBM] [Warning] Found whitespace in feature_names, replace with underlines\n",
      "[LightGBM] [Info] This is the GPU trainer!!\n",
      "[LightGBM] [Info] Total Bins 1114\n",
      "[LightGBM] [Info] Number of data points in the train set: 750000, number of used features: 176\n",
      "[LightGBM] [Info] Using GPU Device: Tesla P100-PCIE-16GB, Vendor: NVIDIA Corporation\n",
      "[LightGBM] [Info] Compiling OpenCL Kernel with 256 bins...\n",
      "[LightGBM] [Info] GPU programs have been built\n",
      "[LightGBM] [Info] Size of histogram bin entry: 8\n",
      "[LightGBM] [Info] 10 dense feature groups (8.58 MB) transferred to GPU in 0.011976 secs. 0 sparse feature groups\n",
      "[LightGBM] [Info] Start training from score 45.437406\n",
      "Best Parameters: {'colsample_bytree': 0.8, 'device': 'gpu', 'max_depth': -1, 'min_child_samples': 20, 'n_estimators': 10000, 'reg_lambda': 1.0, 'subsample': 0.8}\n"
     ]
    }
   ],
   "source": [
    "import lightgbm as lgb\n",
    "from sklearn.metrics import mean_squared_error\n",
    "from sklearn.model_selection import GridSearchCV \n",
    "\n",
    "# Set up the LightGBM Regressor with a grid search for hyperparameter tuning\n",
    "param_grid = {\n",
    "    'max_depth': [-1],  # Maximum depth of the tree\n",
    "    'n_estimators': [10000, 25000],  # Number of boosting iterations\n",
    "    'reg_lambda': [1.0],              # L2 regularization\n",
    "    'min_child_samples': [20],               # Minimum number of samples per leaf\n",
    "    'subsample': [0.8],                      # Row sampling\n",
    "    'colsample_bytree': [0.8],                # Feature sampling   \n",
    "    'device': ['gpu']  # Enable GPU    \n",
    "}\n",
    "\n",
    "# LightGBM Regressor\n",
    "lgb_regressor = lgb.LGBMRegressor(boosting_type='gbdt', tree_learner='serial', device='gpu')\n",
    "\n",
    "\n",
    "# Perform grid search with early stopping\n",
    "grid_search = GridSearchCV(\n",
    "    lgb_regressor,\n",
    "    param_grid,\n",
    "    cv=5,\n",
    "    scoring='neg_root_mean_squared_error',\n",
    "    n_jobs=-1\n",
    ")\n",
    "\n",
    "grid_search.fit(X, y)\n",
    "\n",
    "# Best hyperparameters from grid search\n",
    "print(\"Best Parameters:\", grid_search.best_params_)"
   ]
  },
  {
   "cell_type": "code",
   "execution_count": 24,
   "id": "d60a0036",
   "metadata": {
    "execution": {
     "iopub.execute_input": "2025-04-25T12:19:57.235237Z",
     "iopub.status.busy": "2025-04-25T12:19:57.234053Z",
     "iopub.status.idle": "2025-04-25T12:19:57.247129Z",
     "shell.execute_reply": "2025-04-25T12:19:57.246487Z"
    },
    "papermill": {
     "duration": 0.028468,
     "end_time": "2025-04-25T12:19:57.248553",
     "exception": false,
     "start_time": "2025-04-25T12:19:57.220085",
     "status": "completed"
    },
    "tags": []
   },
   "outputs": [
    {
     "name": "stdout",
     "output_type": "stream",
     "text": [
      "                                              params  mean_RMSE\n",
      "0  {'colsample_bytree': 0.8, 'device': 'gpu', 'ma...  12.848066\n",
      "1  {'colsample_bytree': 0.8, 'device': 'gpu', 'ma...  12.907986\n",
      "Best CV RMSE: 12.8481\n"
     ]
    }
   ],
   "source": [
    "# Get cross-validation results\n",
    "cv_results = pd.DataFrame(grid_search.cv_results_)\n",
    "\n",
    "# Convert negative RMSE back to positive\n",
    "cv_results['mean_RMSE'] = -cv_results['mean_test_score']\n",
    "\n",
    "# Show top few rows\n",
    "print(cv_results[['params', 'mean_RMSE']].sort_values(by='mean_RMSE'))\n",
    "best_rmse = -grid_search.best_score_\n",
    "print(\"Best CV RMSE:\", round(best_rmse, 4))"
   ]
  },
  {
   "cell_type": "code",
   "execution_count": 25,
   "id": "2220eab5",
   "metadata": {
    "execution": {
     "iopub.execute_input": "2025-04-25T12:19:57.272513Z",
     "iopub.status.busy": "2025-04-25T12:19:57.272249Z",
     "iopub.status.idle": "2025-04-25T12:21:05.912289Z",
     "shell.execute_reply": "2025-04-25T12:21:05.911258Z"
    },
    "papermill": {
     "duration": 68.653806,
     "end_time": "2025-04-25T12:21:05.914036",
     "exception": false,
     "start_time": "2025-04-25T12:19:57.260230",
     "status": "completed"
    },
    "tags": []
   },
   "outputs": [],
   "source": [
    "# Predict on the test set\n",
    "y_pred = grid_search.best_estimator_.predict(test_transformed)"
   ]
  },
  {
   "cell_type": "code",
   "execution_count": 26,
   "id": "4e9f41e0",
   "metadata": {
    "execution": {
     "iopub.execute_input": "2025-04-25T12:21:05.939559Z",
     "iopub.status.busy": "2025-04-25T12:21:05.939265Z",
     "iopub.status.idle": "2025-04-25T12:21:06.356427Z",
     "shell.execute_reply": "2025-04-25T12:21:06.355417Z"
    },
    "papermill": {
     "duration": 0.431108,
     "end_time": "2025-04-25T12:21:06.357807",
     "exception": false,
     "start_time": "2025-04-25T12:21:05.926699",
     "status": "completed"
    },
    "tags": []
   },
   "outputs": [
    {
     "name": "stdout",
     "output_type": "stream",
     "text": [
      "✅ Submission file created successfully!\n"
     ]
    }
   ],
   "source": [
    "# Submission file\n",
    "submission = pd.DataFrame({'id': test['id'], 'Listening_Time_minutes': y_pred})\n",
    "submission.to_csv('submission.csv', index=False)\n",
    "print(\"✅ Submission file created successfully!\")"
   ]
  },
  {
   "cell_type": "code",
   "execution_count": 27,
   "id": "29575ae4",
   "metadata": {
    "execution": {
     "iopub.execute_input": "2025-04-25T12:21:06.383072Z",
     "iopub.status.busy": "2025-04-25T12:21:06.382802Z",
     "iopub.status.idle": "2025-04-25T12:21:06.390759Z",
     "shell.execute_reply": "2025-04-25T12:21:06.389909Z"
    },
    "papermill": {
     "duration": 0.02184,
     "end_time": "2025-04-25T12:21:06.392006",
     "exception": false,
     "start_time": "2025-04-25T12:21:06.370166",
     "status": "completed"
    },
    "tags": []
   },
   "outputs": [
    {
     "data": {
      "text/html": [
       "<div>\n",
       "<style scoped>\n",
       "    .dataframe tbody tr th:only-of-type {\n",
       "        vertical-align: middle;\n",
       "    }\n",
       "\n",
       "    .dataframe tbody tr th {\n",
       "        vertical-align: top;\n",
       "    }\n",
       "\n",
       "    .dataframe thead th {\n",
       "        text-align: right;\n",
       "    }\n",
       "</style>\n",
       "<table border=\"1\" class=\"dataframe\">\n",
       "  <thead>\n",
       "    <tr style=\"text-align: right;\">\n",
       "      <th></th>\n",
       "      <th>id</th>\n",
       "      <th>Listening_Time_minutes</th>\n",
       "    </tr>\n",
       "  </thead>\n",
       "  <tbody>\n",
       "    <tr>\n",
       "      <th>0</th>\n",
       "      <td>750000</td>\n",
       "      <td>51.776027</td>\n",
       "    </tr>\n",
       "    <tr>\n",
       "      <th>1</th>\n",
       "      <td>750001</td>\n",
       "      <td>18.058016</td>\n",
       "    </tr>\n",
       "    <tr>\n",
       "      <th>2</th>\n",
       "      <td>750002</td>\n",
       "      <td>46.341799</td>\n",
       "    </tr>\n",
       "    <tr>\n",
       "      <th>3</th>\n",
       "      <td>750003</td>\n",
       "      <td>76.817899</td>\n",
       "    </tr>\n",
       "    <tr>\n",
       "      <th>4</th>\n",
       "      <td>750004</td>\n",
       "      <td>46.098950</td>\n",
       "    </tr>\n",
       "  </tbody>\n",
       "</table>\n",
       "</div>"
      ],
      "text/plain": [
       "       id  Listening_Time_minutes\n",
       "0  750000               51.776027\n",
       "1  750001               18.058016\n",
       "2  750002               46.341799\n",
       "3  750003               76.817899\n",
       "4  750004               46.098950"
      ]
     },
     "execution_count": 27,
     "metadata": {},
     "output_type": "execute_result"
    }
   ],
   "source": [
    "submission.head()"
   ]
  },
  {
   "cell_type": "markdown",
   "id": "67a61a58",
   "metadata": {
    "papermill": {
     "duration": 0.011659,
     "end_time": "2025-04-25T12:21:06.416379",
     "exception": false,
     "start_time": "2025-04-25T12:21:06.404720",
     "status": "completed"
    },
    "tags": []
   },
   "source": [
    "# trying SVR with log(y)"
   ]
  },
  {
   "cell_type": "code",
   "execution_count": 28,
   "id": "be6a7c99",
   "metadata": {
    "execution": {
     "iopub.execute_input": "2025-04-25T12:21:06.442285Z",
     "iopub.status.busy": "2025-04-25T12:21:06.441975Z",
     "iopub.status.idle": "2025-04-25T12:21:06.447241Z",
     "shell.execute_reply": "2025-04-25T12:21:06.446410Z"
    },
    "papermill": {
     "duration": 0.020376,
     "end_time": "2025-04-25T12:21:06.448688",
     "exception": false,
     "start_time": "2025-04-25T12:21:06.428312",
     "status": "completed"
    },
    "tags": []
   },
   "outputs": [
    {
     "data": {
      "text/plain": [
       "'\\nfrom sklearn.svm import SVR\\n\\ny_log = np.log1p(y)  # log(y + 1) to avoid issues with log(0)\\n\\n# Set up the SVR model with a grid search for hyperparameter tuning\\nparam_grid = {\\n    \\'C\\': [0.1, 1, 10],  # Regularization parameter\\n}\\n\\nsvr = SVR()\\n\\n# Perform grid search with cross-validation\\ngrid_search = GridSearchCV(svr, param_grid, cv=5, scoring=\\'neg_root_mean_squared_error\\', n_jobs=-1)\\ngrid_search.fit(X, y_log)\\n\\n# Best hyperparameters from grid search\\nprint(\"Best Parameters:\", grid_search.best_params_)\\n\\n# Get cross-validation results\\ncv_results = pd.DataFrame(grid_search.cv_results_)\\n\\n# Convert negative RMSE back to positive\\ncv_results[\\'mean_RMSE\\'] = -cv_results[\\'mean_test_score\\']\\nprint(cv_results[[\\'params\\', \\'mean_RMSE\\']].sort_values(by=\\'mean_RMSE\\'))\\nbest_rmse = -grid_search.best_score_\\nprint(\"Best CV RMSE:\", round(best_rmse, 4))\\n'"
      ]
     },
     "execution_count": 28,
     "metadata": {},
     "output_type": "execute_result"
    }
   ],
   "source": [
    "'''\n",
    "from sklearn.svm import SVR\n",
    "\n",
    "y_log = np.log1p(y)  # log(y + 1) to avoid issues with log(0)\n",
    "\n",
    "# Set up the SVR model with a grid search for hyperparameter tuning\n",
    "param_grid = {\n",
    "    'C': [0.1, 1, 10],  # Regularization parameter\n",
    "}\n",
    "\n",
    "svr = SVR()\n",
    "\n",
    "# Perform grid search with cross-validation\n",
    "grid_search = GridSearchCV(svr, param_grid, cv=5, scoring='neg_root_mean_squared_error', n_jobs=-1)\n",
    "grid_search.fit(X, y_log)\n",
    "\n",
    "# Best hyperparameters from grid search\n",
    "print(\"Best Parameters:\", grid_search.best_params_)\n",
    "\n",
    "# Get cross-validation results\n",
    "cv_results = pd.DataFrame(grid_search.cv_results_)\n",
    "\n",
    "# Convert negative RMSE back to positive\n",
    "cv_results['mean_RMSE'] = -cv_results['mean_test_score']\n",
    "print(cv_results[['params', 'mean_RMSE']].sort_values(by='mean_RMSE'))\n",
    "best_rmse = -grid_search.best_score_\n",
    "print(\"Best CV RMSE:\", round(best_rmse, 4))\n",
    "'''"
   ]
  },
  {
   "cell_type": "code",
   "execution_count": 29,
   "id": "0b7714c6",
   "metadata": {
    "execution": {
     "iopub.execute_input": "2025-04-25T12:21:06.475019Z",
     "iopub.status.busy": "2025-04-25T12:21:06.474759Z",
     "iopub.status.idle": "2025-04-25T12:21:06.479110Z",
     "shell.execute_reply": "2025-04-25T12:21:06.478495Z"
    },
    "papermill": {
     "duration": 0.018966,
     "end_time": "2025-04-25T12:21:06.480253",
     "exception": false,
     "start_time": "2025-04-25T12:21:06.461287",
     "status": "completed"
    },
    "tags": []
   },
   "outputs": [
    {
     "data": {
      "text/plain": [
       "'\\n# Predict on the test set\\ny_pred_log = grid_search.best_estimator_.predict(test_transformed)\\n\\n# Inverse transform log(y) to get original scale predictions\\ny_pred = np.expm1(y_pred_log)  # exp(y_pred_log) - 1 to get original scale\\n'"
      ]
     },
     "execution_count": 29,
     "metadata": {},
     "output_type": "execute_result"
    }
   ],
   "source": [
    "'''\n",
    "# Predict on the test set\n",
    "y_pred_log = grid_search.best_estimator_.predict(test_transformed)\n",
    "\n",
    "# Inverse transform log(y) to get original scale predictions\n",
    "y_pred = np.expm1(y_pred_log)  # exp(y_pred_log) - 1 to get original scale\n",
    "'''"
   ]
  },
  {
   "cell_type": "markdown",
   "id": "8bb4abed",
   "metadata": {
    "papermill": {
     "duration": 0.012078,
     "end_time": "2025-04-25T12:21:06.504654",
     "exception": false,
     "start_time": "2025-04-25T12:21:06.492576",
     "status": "completed"
    },
    "tags": []
   },
   "source": [
    "# tried DNN but it gives a little higher RMSE compared to LGB regressor:"
   ]
  },
  {
   "cell_type": "code",
   "execution_count": 30,
   "id": "6ee91215",
   "metadata": {
    "execution": {
     "iopub.execute_input": "2025-04-25T12:21:06.530296Z",
     "iopub.status.busy": "2025-04-25T12:21:06.530024Z",
     "iopub.status.idle": "2025-04-25T12:21:06.534750Z",
     "shell.execute_reply": "2025-04-25T12:21:06.533896Z"
    },
    "papermill": {
     "duration": 0.019161,
     "end_time": "2025-04-25T12:21:06.536057",
     "exception": false,
     "start_time": "2025-04-25T12:21:06.516896",
     "status": "completed"
    },
    "tags": []
   },
   "outputs": [
    {
     "data": {
      "text/plain": [
       "'\\n!pip install keras-tuner\\n'"
      ]
     },
     "execution_count": 30,
     "metadata": {},
     "output_type": "execute_result"
    }
   ],
   "source": [
    "'''\n",
    "!pip install keras-tuner\n",
    "'''"
   ]
  },
  {
   "cell_type": "code",
   "execution_count": 31,
   "id": "492a426e",
   "metadata": {
    "execution": {
     "iopub.execute_input": "2025-04-25T12:21:06.561664Z",
     "iopub.status.busy": "2025-04-25T12:21:06.561378Z",
     "iopub.status.idle": "2025-04-25T12:21:06.566280Z",
     "shell.execute_reply": "2025-04-25T12:21:06.565467Z"
    },
    "papermill": {
     "duration": 0.019058,
     "end_time": "2025-04-25T12:21:06.567527",
     "exception": false,
     "start_time": "2025-04-25T12:21:06.548469",
     "status": "completed"
    },
    "tags": []
   },
   "outputs": [
    {
     "data": {
      "text/plain": [
       "\"\\nfrom kerastuner.tuners import RandomSearch\\nimport matplotlib.pyplot as plt\\nfrom tensorflow.keras.models import Sequential\\nfrom tensorflow.keras.layers import Dense, Dropout\\nfrom tensorflow.keras.regularizers import l2\\nfrom tensorflow.keras.callbacks import EarlyStopping\\nfrom sklearn.model_selection import train_test_split\\nfrom tensorflow.keras.optimizers import Adam\\n# Assuming you have a DataFrame `df` with features in `X` and target in `y`\\n\\ndef build_model(hp):\\n    model = Sequential()\\n    \\n    # First hidden layer\\n    model.add(Dense(\\n        units=hp.Int('units_1', min_value=256, max_value=1024, step=256),\\n        activation='relu',\\n        input_dim=X_train.shape[1],\\n        kernel_regularizer=l2(hp.Float('l2_1', 1e-3, 1e-2, sampling='LOG'))\\n    ))\\n    model.add(Dropout(hp.Float('dropout_1', 0.2, 0.3, step=0.1)))\\n    \\n    # Second hidden layer\\n    model.add(Dense(\\n        units=hp.Int('units_2', min_value=256, max_value=512, step=128),\\n        activation='relu',\\n        kernel_regularizer=l2(hp.Float('l2_2', 1e-3, 1e-2, sampling='LOG'))\\n    ))\\n    \\n    # Output layer\\n    model.add(Dense(1))\\n\\n    # Optimizer with tunable learning rate\\n    optimizer = Adam(\\n        learning_rate=hp.Float('learning_rate', 1e-3, 1e-3, sampling='LOG')\\n    )\\n    \\n    model.compile(optimizer=optimizer, loss='mse')\\n    return model\\n\\n\\ntuner = RandomSearch(\\n    build_model,\\n    objective='val_loss',\\n    max_trials=5,\\n    executions_per_trial=1,\\n    directory='tuner_dir',\\n    project_name='regression_dnn'\\n)\\n\""
      ]
     },
     "execution_count": 31,
     "metadata": {},
     "output_type": "execute_result"
    }
   ],
   "source": [
    "'''\n",
    "from kerastuner.tuners import RandomSearch\n",
    "import matplotlib.pyplot as plt\n",
    "from tensorflow.keras.models import Sequential\n",
    "from tensorflow.keras.layers import Dense, Dropout\n",
    "from tensorflow.keras.regularizers import l2\n",
    "from tensorflow.keras.callbacks import EarlyStopping\n",
    "from sklearn.model_selection import train_test_split\n",
    "from tensorflow.keras.optimizers import Adam\n",
    "# Assuming you have a DataFrame `df` with features in `X` and target in `y`\n",
    "\n",
    "def build_model(hp):\n",
    "    model = Sequential()\n",
    "    \n",
    "    # First hidden layer\n",
    "    model.add(Dense(\n",
    "        units=hp.Int('units_1', min_value=256, max_value=1024, step=256),\n",
    "        activation='relu',\n",
    "        input_dim=X_train.shape[1],\n",
    "        kernel_regularizer=l2(hp.Float('l2_1', 1e-3, 1e-2, sampling='LOG'))\n",
    "    ))\n",
    "    model.add(Dropout(hp.Float('dropout_1', 0.2, 0.3, step=0.1)))\n",
    "    \n",
    "    # Second hidden layer\n",
    "    model.add(Dense(\n",
    "        units=hp.Int('units_2', min_value=256, max_value=512, step=128),\n",
    "        activation='relu',\n",
    "        kernel_regularizer=l2(hp.Float('l2_2', 1e-3, 1e-2, sampling='LOG'))\n",
    "    ))\n",
    "    \n",
    "    # Output layer\n",
    "    model.add(Dense(1))\n",
    "\n",
    "    # Optimizer with tunable learning rate\n",
    "    optimizer = Adam(\n",
    "        learning_rate=hp.Float('learning_rate', 1e-3, 1e-3, sampling='LOG')\n",
    "    )\n",
    "    \n",
    "    model.compile(optimizer=optimizer, loss='mse')\n",
    "    return model\n",
    "\n",
    "\n",
    "tuner = RandomSearch(\n",
    "    build_model,\n",
    "    objective='val_loss',\n",
    "    max_trials=5,\n",
    "    executions_per_trial=1,\n",
    "    directory='tuner_dir',\n",
    "    project_name='regression_dnn'\n",
    ")\n",
    "'''"
   ]
  },
  {
   "cell_type": "code",
   "execution_count": 32,
   "id": "d700e050",
   "metadata": {
    "execution": {
     "iopub.execute_input": "2025-04-25T12:21:06.642274Z",
     "iopub.status.busy": "2025-04-25T12:21:06.641976Z",
     "iopub.status.idle": "2025-04-25T12:21:06.646454Z",
     "shell.execute_reply": "2025-04-25T12:21:06.645698Z"
    },
    "papermill": {
     "duration": 0.067571,
     "end_time": "2025-04-25T12:21:06.647717",
     "exception": false,
     "start_time": "2025-04-25T12:21:06.580146",
     "status": "completed"
    },
    "tags": []
   },
   "outputs": [
    {
     "data": {
      "text/plain": [
       "\"\\nfrom sklearn.model_selection import train_test_split\\n\\nX = train_transformed  # replace with your feature columns\\ny = train['Listening_Time_minutes']  # replace with your target column\\n\\n# Split the dataset into training and validation sets\\nX_train, X_val, y_train, y_val = train_test_split(X, y, test_size=0.2, random_state=42)\\n\\nearly_stopping = EarlyStopping(monitor='val_loss', patience=10, restore_best_weights=True)\\n\\ntuner.search(\\n    X_train, y_train,\\n    epochs=25,\\n    validation_data=(X_val, y_val),\\n    callbacks=[early_stopping]\\n)\\n\""
      ]
     },
     "execution_count": 32,
     "metadata": {},
     "output_type": "execute_result"
    }
   ],
   "source": [
    "'''\n",
    "from sklearn.model_selection import train_test_split\n",
    "\n",
    "X = train_transformed  # replace with your feature columns\n",
    "y = train['Listening_Time_minutes']  # replace with your target column\n",
    "\n",
    "# Split the dataset into training and validation sets\n",
    "X_train, X_val, y_train, y_val = train_test_split(X, y, test_size=0.2, random_state=42)\n",
    "\n",
    "early_stopping = EarlyStopping(monitor='val_loss', patience=10, restore_best_weights=True)\n",
    "\n",
    "tuner.search(\n",
    "    X_train, y_train,\n",
    "    epochs=25,\n",
    "    validation_data=(X_val, y_val),\n",
    "    callbacks=[early_stopping]\n",
    ")\n",
    "'''"
   ]
  },
  {
   "cell_type": "code",
   "execution_count": 33,
   "id": "e347ced1",
   "metadata": {
    "execution": {
     "iopub.execute_input": "2025-04-25T12:21:06.673744Z",
     "iopub.status.busy": "2025-04-25T12:21:06.673510Z",
     "iopub.status.idle": "2025-04-25T12:21:06.677523Z",
     "shell.execute_reply": "2025-04-25T12:21:06.676814Z"
    },
    "papermill": {
     "duration": 0.018358,
     "end_time": "2025-04-25T12:21:06.678772",
     "exception": false,
     "start_time": "2025-04-25T12:21:06.660414",
     "status": "completed"
    },
    "tags": []
   },
   "outputs": [
    {
     "data": {
      "text/plain": [
       "'\\nmodel = tuner.get_best_models(1)[0]\\n'"
      ]
     },
     "execution_count": 33,
     "metadata": {},
     "output_type": "execute_result"
    }
   ],
   "source": [
    "'''\n",
    "model = tuner.get_best_models(1)[0]\n",
    "'''"
   ]
  },
  {
   "cell_type": "code",
   "execution_count": 34,
   "id": "ee64112e",
   "metadata": {
    "execution": {
     "iopub.execute_input": "2025-04-25T12:21:06.705310Z",
     "iopub.status.busy": "2025-04-25T12:21:06.705000Z",
     "iopub.status.idle": "2025-04-25T12:21:06.709585Z",
     "shell.execute_reply": "2025-04-25T12:21:06.708768Z"
    },
    "papermill": {
     "duration": 0.019289,
     "end_time": "2025-04-25T12:21:06.710780",
     "exception": false,
     "start_time": "2025-04-25T12:21:06.691491",
     "status": "completed"
    },
    "tags": []
   },
   "outputs": [
    {
     "data": {
      "text/plain": [
       "'\\npredictions = model.predict(test_transformed)\\n'"
      ]
     },
     "execution_count": 34,
     "metadata": {},
     "output_type": "execute_result"
    }
   ],
   "source": [
    "'''\n",
    "predictions = model.predict(test_transformed)\n",
    "'''"
   ]
  },
  {
   "cell_type": "code",
   "execution_count": 35,
   "id": "80495a96",
   "metadata": {
    "execution": {
     "iopub.execute_input": "2025-04-25T12:21:06.737337Z",
     "iopub.status.busy": "2025-04-25T12:21:06.737073Z",
     "iopub.status.idle": "2025-04-25T12:21:06.741513Z",
     "shell.execute_reply": "2025-04-25T12:21:06.740662Z"
    },
    "papermill": {
     "duration": 0.018897,
     "end_time": "2025-04-25T12:21:06.742778",
     "exception": false,
     "start_time": "2025-04-25T12:21:06.723881",
     "status": "completed"
    },
    "tags": []
   },
   "outputs": [
    {
     "data": {
      "text/plain": [
       "'\\n# Submission file\\nsubmission = pd.DataFrame({\\'id\\': test[\\'id\\'], \\'Listening_Time_minutes\\': predictions.flatten()})\\nsubmission.to_csv(\\'submission.csv\\', index=False)\\n\\nprint(\"✅ Submission file created successfully!\")\\n'"
      ]
     },
     "execution_count": 35,
     "metadata": {},
     "output_type": "execute_result"
    }
   ],
   "source": [
    "'''\n",
    "# Submission file\n",
    "submission = pd.DataFrame({'id': test['id'], 'Listening_Time_minutes': predictions.flatten()})\n",
    "submission.to_csv('submission.csv', index=False)\n",
    "\n",
    "print(\"✅ Submission file created successfully!\")\n",
    "'''"
   ]
  },
  {
   "cell_type": "code",
   "execution_count": 36,
   "id": "34804f76",
   "metadata": {
    "execution": {
     "iopub.execute_input": "2025-04-25T12:21:06.769270Z",
     "iopub.status.busy": "2025-04-25T12:21:06.768996Z",
     "iopub.status.idle": "2025-04-25T12:21:06.773600Z",
     "shell.execute_reply": "2025-04-25T12:21:06.772786Z"
    },
    "papermill": {
     "duration": 0.019129,
     "end_time": "2025-04-25T12:21:06.774851",
     "exception": false,
     "start_time": "2025-04-25T12:21:06.755722",
     "status": "completed"
    },
    "tags": []
   },
   "outputs": [
    {
     "data": {
      "text/plain": [
       "\"\\nhistory = model.fit(\\n    X_train, y_train, \\n    epochs=5, \\n    validation_data=(X_val, y_val),\\n    callbacks=[early_stopping],  # Using early stopping\\n    verbose=1\\n)\\n\\n# Plot training and validation loss vs epochs\\nplt.plot(history.history['loss'], label='Training Loss')\\nplt.plot(history.history['val_loss'], label='Validation Loss')\\nplt.xlabel('Epochs')\\nplt.ylabel('Loss')\\nplt.legend()\\nplt.title('Training and Validation Loss vs Epochs')\\nplt.show()\\n\""
      ]
     },
     "execution_count": 36,
     "metadata": {},
     "output_type": "execute_result"
    }
   ],
   "source": [
    "'''\n",
    "history = model.fit(\n",
    "    X_train, y_train, \n",
    "    epochs=5, \n",
    "    validation_data=(X_val, y_val),\n",
    "    callbacks=[early_stopping],  # Using early stopping\n",
    "    verbose=1\n",
    ")\n",
    "\n",
    "# Plot training and validation loss vs epochs\n",
    "plt.plot(history.history['loss'], label='Training Loss')\n",
    "plt.plot(history.history['val_loss'], label='Validation Loss')\n",
    "plt.xlabel('Epochs')\n",
    "plt.ylabel('Loss')\n",
    "plt.legend()\n",
    "plt.title('Training and Validation Loss vs Epochs')\n",
    "plt.show()\n",
    "'''"
   ]
  }
 ],
 "metadata": {
  "kaggle": {
   "accelerator": "gpu",
   "dataSources": [
    {
     "databundleVersionId": 11351736,
     "sourceId": 91715,
     "sourceType": "competition"
    }
   ],
   "dockerImageVersionId": 30918,
   "isGpuEnabled": true,
   "isInternetEnabled": true,
   "language": "python",
   "sourceType": "notebook"
  },
  "kernelspec": {
   "display_name": "Python 3",
   "language": "python",
   "name": "python3"
  },
  "language_info": {
   "codemirror_mode": {
    "name": "ipython",
    "version": 3
   },
   "file_extension": ".py",
   "mimetype": "text/x-python",
   "name": "python",
   "nbconvert_exporter": "python",
   "pygments_lexer": "ipython3",
   "version": "3.10.12"
  },
  "papermill": {
   "default_parameters": {},
   "duration": 2936.842002,
   "end_time": "2025-04-25T12:21:07.910007",
   "environment_variables": {},
   "exception": null,
   "input_path": "__notebook__.ipynb",
   "output_path": "__notebook__.ipynb",
   "parameters": {},
   "start_time": "2025-04-25T11:32:11.068005",
   "version": "2.6.0"
  }
 },
 "nbformat": 4,
 "nbformat_minor": 5
}
