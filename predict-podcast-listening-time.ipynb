{
 "cells": [
  {
   "cell_type": "code",
   "execution_count": 1,
   "id": "eca67fd0",
   "metadata": {
    "_cell_guid": "b1076dfc-b9ad-4769-8c92-a6c4dae69d19",
    "_uuid": "8f2839f25d086af736a60e9eeb907d3b93b6e0e5",
    "execution": {
     "iopub.execute_input": "2025-04-07T00:19:03.818691Z",
     "iopub.status.busy": "2025-04-07T00:19:03.818219Z",
     "iopub.status.idle": "2025-04-07T00:19:04.727579Z",
     "shell.execute_reply": "2025-04-07T00:19:04.726679Z"
    },
    "papermill": {
     "duration": 0.915705,
     "end_time": "2025-04-07T00:19:04.728991",
     "exception": false,
     "start_time": "2025-04-07T00:19:03.813286",
     "status": "completed"
    },
    "tags": []
   },
   "outputs": [],
   "source": [
    "# This Python 3 environment comes with many helpful analytics libraries installed\n",
    "# It is defined by the kaggle/python Docker image: https://github.com/kaggle/docker-python\n",
    "# For example, here's several helpful packages to load\n",
    "\n",
    "import numpy as np # linear algebra\n",
    "import pandas as pd # data processing, CSV file I/O (e.g. pd.read_csv)\n",
    "\n",
    "# Input data files are available in the read-only \"../input/\" directory\n",
    "# For example, running this (by clicking run or pressing Shift+Enter) will list all files under the input directory\n",
    "\n",
    "#import os\n",
    "#for dirname, _, filenames in os.walk('/kaggle/input'):\n",
    "#    for filename in filenames:\n",
    "#        print(os.path.join(dirname, filename))\n",
    "\n",
    "# You can write up to 20GB to the current directory (/kaggle/working/) that gets preserved as output when you create a version using \"Save & Run All\" \n",
    "# You can also write temporary files to /kaggle/temp/, but they won't be saved outside of the current session"
   ]
  },
  {
   "cell_type": "code",
   "execution_count": 2,
   "id": "480ae72a",
   "metadata": {
    "execution": {
     "iopub.execute_input": "2025-04-07T00:19:04.736822Z",
     "iopub.status.busy": "2025-04-07T00:19:04.736364Z",
     "iopub.status.idle": "2025-04-07T00:19:06.790418Z",
     "shell.execute_reply": "2025-04-07T00:19:06.789543Z"
    },
    "papermill": {
     "duration": 2.059054,
     "end_time": "2025-04-07T00:19:06.791629",
     "exception": false,
     "start_time": "2025-04-07T00:19:04.732575",
     "status": "completed"
    },
    "tags": []
   },
   "outputs": [
    {
     "name": "stderr",
     "output_type": "stream",
     "text": [
      "/usr/local/lib/python3.10/dist-packages/pandas/io/formats/format.py:1458: RuntimeWarning: invalid value encountered in greater\n",
      "  has_large_values = (abs_vals > 1e6).any()\n",
      "/usr/local/lib/python3.10/dist-packages/pandas/io/formats/format.py:1459: RuntimeWarning: invalid value encountered in less\n",
      "  has_small_values = ((abs_vals < 10 ** (-self.digits)) & (abs_vals > 0)).any()\n",
      "/usr/local/lib/python3.10/dist-packages/pandas/io/formats/format.py:1459: RuntimeWarning: invalid value encountered in greater\n",
      "  has_small_values = ((abs_vals < 10 ** (-self.digits)) & (abs_vals > 0)).any()\n"
     ]
    },
    {
     "data": {
      "text/html": [
       "<div>\n",
       "<style scoped>\n",
       "    .dataframe tbody tr th:only-of-type {\n",
       "        vertical-align: middle;\n",
       "    }\n",
       "\n",
       "    .dataframe tbody tr th {\n",
       "        vertical-align: top;\n",
       "    }\n",
       "\n",
       "    .dataframe thead th {\n",
       "        text-align: right;\n",
       "    }\n",
       "</style>\n",
       "<table border=\"1\" class=\"dataframe\">\n",
       "  <thead>\n",
       "    <tr style=\"text-align: right;\">\n",
       "      <th></th>\n",
       "      <th>id</th>\n",
       "      <th>Podcast_Name</th>\n",
       "      <th>Episode_Title</th>\n",
       "      <th>Episode_Length_minutes</th>\n",
       "      <th>Genre</th>\n",
       "      <th>Host_Popularity_percentage</th>\n",
       "      <th>Publication_Day</th>\n",
       "      <th>Publication_Time</th>\n",
       "      <th>Guest_Popularity_percentage</th>\n",
       "      <th>Number_of_Ads</th>\n",
       "      <th>Episode_Sentiment</th>\n",
       "      <th>Listening_Time_minutes</th>\n",
       "    </tr>\n",
       "  </thead>\n",
       "  <tbody>\n",
       "    <tr>\n",
       "      <th>0</th>\n",
       "      <td>0</td>\n",
       "      <td>Mystery Matters</td>\n",
       "      <td>Episode 98</td>\n",
       "      <td>NaN</td>\n",
       "      <td>True Crime</td>\n",
       "      <td>74.81</td>\n",
       "      <td>Thursday</td>\n",
       "      <td>Night</td>\n",
       "      <td>NaN</td>\n",
       "      <td>0.0</td>\n",
       "      <td>Positive</td>\n",
       "      <td>31.41998</td>\n",
       "    </tr>\n",
       "    <tr>\n",
       "      <th>1</th>\n",
       "      <td>1</td>\n",
       "      <td>Joke Junction</td>\n",
       "      <td>Episode 26</td>\n",
       "      <td>119.80</td>\n",
       "      <td>Comedy</td>\n",
       "      <td>66.95</td>\n",
       "      <td>Saturday</td>\n",
       "      <td>Afternoon</td>\n",
       "      <td>75.95</td>\n",
       "      <td>2.0</td>\n",
       "      <td>Negative</td>\n",
       "      <td>88.01241</td>\n",
       "    </tr>\n",
       "    <tr>\n",
       "      <th>2</th>\n",
       "      <td>2</td>\n",
       "      <td>Study Sessions</td>\n",
       "      <td>Episode 16</td>\n",
       "      <td>73.90</td>\n",
       "      <td>Education</td>\n",
       "      <td>69.97</td>\n",
       "      <td>Tuesday</td>\n",
       "      <td>Evening</td>\n",
       "      <td>8.97</td>\n",
       "      <td>0.0</td>\n",
       "      <td>Negative</td>\n",
       "      <td>44.92531</td>\n",
       "    </tr>\n",
       "    <tr>\n",
       "      <th>3</th>\n",
       "      <td>3</td>\n",
       "      <td>Digital Digest</td>\n",
       "      <td>Episode 45</td>\n",
       "      <td>67.17</td>\n",
       "      <td>Technology</td>\n",
       "      <td>57.22</td>\n",
       "      <td>Monday</td>\n",
       "      <td>Morning</td>\n",
       "      <td>78.70</td>\n",
       "      <td>2.0</td>\n",
       "      <td>Positive</td>\n",
       "      <td>46.27824</td>\n",
       "    </tr>\n",
       "    <tr>\n",
       "      <th>4</th>\n",
       "      <td>4</td>\n",
       "      <td>Mind &amp; Body</td>\n",
       "      <td>Episode 86</td>\n",
       "      <td>110.51</td>\n",
       "      <td>Health</td>\n",
       "      <td>80.07</td>\n",
       "      <td>Monday</td>\n",
       "      <td>Afternoon</td>\n",
       "      <td>58.68</td>\n",
       "      <td>3.0</td>\n",
       "      <td>Neutral</td>\n",
       "      <td>75.61031</td>\n",
       "    </tr>\n",
       "  </tbody>\n",
       "</table>\n",
       "</div>"
      ],
      "text/plain": [
       "   id     Podcast_Name Episode_Title  Episode_Length_minutes       Genre  \\\n",
       "0   0  Mystery Matters    Episode 98                     NaN  True Crime   \n",
       "1   1    Joke Junction    Episode 26                  119.80      Comedy   \n",
       "2   2   Study Sessions    Episode 16                   73.90   Education   \n",
       "3   3   Digital Digest    Episode 45                   67.17  Technology   \n",
       "4   4      Mind & Body    Episode 86                  110.51      Health   \n",
       "\n",
       "   Host_Popularity_percentage Publication_Day Publication_Time  \\\n",
       "0                       74.81        Thursday            Night   \n",
       "1                       66.95        Saturday        Afternoon   \n",
       "2                       69.97         Tuesday          Evening   \n",
       "3                       57.22          Monday          Morning   \n",
       "4                       80.07          Monday        Afternoon   \n",
       "\n",
       "   Guest_Popularity_percentage  Number_of_Ads Episode_Sentiment  \\\n",
       "0                          NaN            0.0          Positive   \n",
       "1                        75.95            2.0          Negative   \n",
       "2                         8.97            0.0          Negative   \n",
       "3                        78.70            2.0          Positive   \n",
       "4                        58.68            3.0           Neutral   \n",
       "\n",
       "   Listening_Time_minutes  \n",
       "0                31.41998  \n",
       "1                88.01241  \n",
       "2                44.92531  \n",
       "3                46.27824  \n",
       "4                75.61031  "
      ]
     },
     "execution_count": 2,
     "metadata": {},
     "output_type": "execute_result"
    }
   ],
   "source": [
    "train=pd.read_csv('/kaggle/input/playground-series-s5e4/train.csv')\n",
    "test=pd.read_csv('/kaggle/input/playground-series-s5e4/test.csv')\n",
    "# Drop all duplicates in the train DataFrame\n",
    "train = train.drop_duplicates()\n",
    "train.head()"
   ]
  },
  {
   "cell_type": "code",
   "execution_count": 3,
   "id": "9cc62cf4",
   "metadata": {
    "execution": {
     "iopub.execute_input": "2025-04-07T00:19:06.799702Z",
     "iopub.status.busy": "2025-04-07T00:19:06.799505Z",
     "iopub.status.idle": "2025-04-07T00:19:07.106648Z",
     "shell.execute_reply": "2025-04-07T00:19:07.105846Z"
    },
    "papermill": {
     "duration": 0.312455,
     "end_time": "2025-04-07T00:19:07.107867",
     "exception": false,
     "start_time": "2025-04-07T00:19:06.795412",
     "status": "completed"
    },
    "tags": []
   },
   "outputs": [
    {
     "data": {
      "text/plain": [
       "<Axes: >"
      ]
     },
     "execution_count": 3,
     "metadata": {},
     "output_type": "execute_result"
    },
    {
     "data": {
      "image/png": "[encoded data removed]",
      "text/plain": [
       "<Figure size 640x480 with 1 Axes>"
      ]
     },
     "metadata": {},
     "output_type": "display_data"
    }
   ],
   "source": [
    "train['Episode_Length_minutes'].hist()"
   ]
  },
  {
   "cell_type": "code",
   "execution_count": 4,
   "id": "7ded0e9e",
   "metadata": {
    "execution": {
     "iopub.execute_input": "2025-04-07T00:19:07.116931Z",
     "iopub.status.busy": "2025-04-07T00:19:07.116684Z",
     "iopub.status.idle": "2025-04-07T00:19:07.258016Z",
     "shell.execute_reply": "2025-04-07T00:19:07.257183Z"
    },
    "papermill": {
     "duration": 0.147037,
     "end_time": "2025-04-07T00:19:07.259124",
     "exception": false,
     "start_time": "2025-04-07T00:19:07.112087",
     "status": "completed"
    },
    "tags": []
   },
   "outputs": [
    {
     "data": {
      "text/plain": [
       "<Axes: >"
      ]
     },
     "execution_count": 4,
     "metadata": {},
     "output_type": "execute_result"
    },
    {
     "data": {
      "image/png": "[encoded data removed]",
      "text/plain": [
       "<Figure size 640x480 with 1 Axes>"
      ]
     },
     "metadata": {},
     "output_type": "display_data"
    }
   ],
   "source": [
    "test['Episode_Length_minutes'].hist()"
   ]
  },
  {
   "cell_type": "code",
   "execution_count": 5,
   "id": "343eea0d",
   "metadata": {
    "execution": {
     "iopub.execute_input": "2025-04-07T00:19:07.268347Z",
     "iopub.status.busy": "2025-04-07T00:19:07.268100Z",
     "iopub.status.idle": "2025-04-07T00:19:07.497024Z",
     "shell.execute_reply": "2025-04-07T00:19:07.496208Z"
    },
    "papermill": {
     "duration": 0.234744,
     "end_time": "2025-04-07T00:19:07.498206",
     "exception": false,
     "start_time": "2025-04-07T00:19:07.263462",
     "status": "completed"
    },
    "tags": []
   },
   "outputs": [
    {
     "data": {
      "text/plain": [
       "id                                  749999\n",
       "Podcast_Name                   World Watch\n",
       "Episode_Title                   Episode 99\n",
       "Episode_Length_minutes              325.24\n",
       "Genre                           True Crime\n",
       "Host_Popularity_percentage          119.46\n",
       "Publication_Day                  Wednesday\n",
       "Publication_Time                     Night\n",
       "Guest_Popularity_percentage         119.91\n",
       "Number_of_Ads                       103.91\n",
       "Episode_Sentiment                 Positive\n",
       "Listening_Time_minutes              119.97\n",
       "dtype: object"
      ]
     },
     "execution_count": 5,
     "metadata": {},
     "output_type": "execute_result"
    }
   ],
   "source": [
    "train.max()"
   ]
  },
  {
   "cell_type": "code",
   "execution_count": 6,
   "id": "62a6017a",
   "metadata": {
    "execution": {
     "iopub.execute_input": "2025-04-07T00:19:07.508114Z",
     "iopub.status.busy": "2025-04-07T00:19:07.507815Z",
     "iopub.status.idle": "2025-04-07T00:19:07.587752Z",
     "shell.execute_reply": "2025-04-07T00:19:07.587070Z"
    },
    "papermill": {
     "duration": 0.086047,
     "end_time": "2025-04-07T00:19:07.588896",
     "exception": false,
     "start_time": "2025-04-07T00:19:07.502849",
     "status": "completed"
    },
    "tags": []
   },
   "outputs": [
    {
     "data": {
      "text/plain": [
       "id                                  999999\n",
       "Podcast_Name                   World Watch\n",
       "Episode_Title                   Episode 99\n",
       "Episode_Length_minutes          78486264.0\n",
       "Genre                           True Crime\n",
       "Host_Popularity_percentage          117.76\n",
       "Publication_Day                  Wednesday\n",
       "Publication_Time                     Night\n",
       "Guest_Popularity_percentage         116.82\n",
       "Number_of_Ads                       2063.0\n",
       "Episode_Sentiment                 Positive\n",
       "dtype: object"
      ]
     },
     "execution_count": 6,
     "metadata": {},
     "output_type": "execute_result"
    }
   ],
   "source": [
    "test.max()"
   ]
  },
  {
   "cell_type": "code",
   "execution_count": 7,
   "id": "d1d5e119",
   "metadata": {
    "execution": {
     "iopub.execute_input": "2025-04-07T00:19:07.598140Z",
     "iopub.status.busy": "2025-04-07T00:19:07.597943Z",
     "iopub.status.idle": "2025-04-07T00:19:07.609464Z",
     "shell.execute_reply": "2025-04-07T00:19:07.608595Z"
    },
    "papermill": {
     "duration": 0.017259,
     "end_time": "2025-04-07T00:19:07.610606",
     "exception": false,
     "start_time": "2025-04-07T00:19:07.593347",
     "status": "completed"
    },
    "tags": []
   },
   "outputs": [
    {
     "name": "stderr",
     "output_type": "stream",
     "text": [
      "/usr/local/lib/python3.10/dist-packages/pandas/io/formats/format.py:1458: RuntimeWarning: invalid value encountered in greater\n",
      "  has_large_values = (abs_vals > 1e6).any()\n",
      "/usr/local/lib/python3.10/dist-packages/pandas/io/formats/format.py:1459: RuntimeWarning: invalid value encountered in less\n",
      "  has_small_values = ((abs_vals < 10 ** (-self.digits)) & (abs_vals > 0)).any()\n",
      "/usr/local/lib/python3.10/dist-packages/pandas/io/formats/format.py:1459: RuntimeWarning: invalid value encountered in greater\n",
      "  has_small_values = ((abs_vals < 10 ** (-self.digits)) & (abs_vals > 0)).any()\n"
     ]
    },
    {
     "data": {
      "text/html": [
       "<div>\n",
       "<style scoped>\n",
       "    .dataframe tbody tr th:only-of-type {\n",
       "        vertical-align: middle;\n",
       "    }\n",
       "\n",
       "    .dataframe tbody tr th {\n",
       "        vertical-align: top;\n",
       "    }\n",
       "\n",
       "    .dataframe thead th {\n",
       "        text-align: right;\n",
       "    }\n",
       "</style>\n",
       "<table border=\"1\" class=\"dataframe\">\n",
       "  <thead>\n",
       "    <tr style=\"text-align: right;\">\n",
       "      <th></th>\n",
       "      <th>id</th>\n",
       "      <th>Podcast_Name</th>\n",
       "      <th>Episode_Title</th>\n",
       "      <th>Episode_Length_minutes</th>\n",
       "      <th>Genre</th>\n",
       "      <th>Host_Popularity_percentage</th>\n",
       "      <th>Publication_Day</th>\n",
       "      <th>Publication_Time</th>\n",
       "      <th>Guest_Popularity_percentage</th>\n",
       "      <th>Number_of_Ads</th>\n",
       "      <th>Episode_Sentiment</th>\n",
       "    </tr>\n",
       "  </thead>\n",
       "  <tbody>\n",
       "    <tr>\n",
       "      <th>0</th>\n",
       "      <td>750000</td>\n",
       "      <td>Educational Nuggets</td>\n",
       "      <td>Episode 73</td>\n",
       "      <td>78.96</td>\n",
       "      <td>Education</td>\n",
       "      <td>38.11</td>\n",
       "      <td>Saturday</td>\n",
       "      <td>Evening</td>\n",
       "      <td>53.33</td>\n",
       "      <td>1.0</td>\n",
       "      <td>Neutral</td>\n",
       "    </tr>\n",
       "    <tr>\n",
       "      <th>1</th>\n",
       "      <td>750001</td>\n",
       "      <td>Sound Waves</td>\n",
       "      <td>Episode 23</td>\n",
       "      <td>27.87</td>\n",
       "      <td>Music</td>\n",
       "      <td>71.29</td>\n",
       "      <td>Sunday</td>\n",
       "      <td>Morning</td>\n",
       "      <td>NaN</td>\n",
       "      <td>0.0</td>\n",
       "      <td>Neutral</td>\n",
       "    </tr>\n",
       "    <tr>\n",
       "      <th>2</th>\n",
       "      <td>750002</td>\n",
       "      <td>Joke Junction</td>\n",
       "      <td>Episode 11</td>\n",
       "      <td>69.10</td>\n",
       "      <td>Comedy</td>\n",
       "      <td>67.89</td>\n",
       "      <td>Friday</td>\n",
       "      <td>Evening</td>\n",
       "      <td>97.51</td>\n",
       "      <td>0.0</td>\n",
       "      <td>Positive</td>\n",
       "    </tr>\n",
       "    <tr>\n",
       "      <th>3</th>\n",
       "      <td>750003</td>\n",
       "      <td>Comedy Corner</td>\n",
       "      <td>Episode 73</td>\n",
       "      <td>115.39</td>\n",
       "      <td>Comedy</td>\n",
       "      <td>23.40</td>\n",
       "      <td>Sunday</td>\n",
       "      <td>Morning</td>\n",
       "      <td>51.75</td>\n",
       "      <td>2.0</td>\n",
       "      <td>Positive</td>\n",
       "    </tr>\n",
       "    <tr>\n",
       "      <th>4</th>\n",
       "      <td>750004</td>\n",
       "      <td>Life Lessons</td>\n",
       "      <td>Episode 50</td>\n",
       "      <td>72.32</td>\n",
       "      <td>Lifestyle</td>\n",
       "      <td>58.10</td>\n",
       "      <td>Wednesday</td>\n",
       "      <td>Morning</td>\n",
       "      <td>11.30</td>\n",
       "      <td>2.0</td>\n",
       "      <td>Neutral</td>\n",
       "    </tr>\n",
       "  </tbody>\n",
       "</table>\n",
       "</div>"
      ],
      "text/plain": [
       "       id         Podcast_Name Episode_Title  Episode_Length_minutes  \\\n",
       "0  750000  Educational Nuggets    Episode 73                   78.96   \n",
       "1  750001          Sound Waves    Episode 23                   27.87   \n",
       "2  750002        Joke Junction    Episode 11                   69.10   \n",
       "3  750003        Comedy Corner    Episode 73                  115.39   \n",
       "4  750004         Life Lessons    Episode 50                   72.32   \n",
       "\n",
       "       Genre  Host_Popularity_percentage Publication_Day Publication_Time  \\\n",
       "0  Education                       38.11        Saturday          Evening   \n",
       "1      Music                       71.29          Sunday          Morning   \n",
       "2     Comedy                       67.89          Friday          Evening   \n",
       "3     Comedy                       23.40          Sunday          Morning   \n",
       "4  Lifestyle                       58.10       Wednesday          Morning   \n",
       "\n",
       "   Guest_Popularity_percentage  Number_of_Ads Episode_Sentiment  \n",
       "0                        53.33            1.0           Neutral  \n",
       "1                          NaN            0.0           Neutral  \n",
       "2                        97.51            0.0          Positive  \n",
       "3                        51.75            2.0          Positive  \n",
       "4                        11.30            2.0           Neutral  "
      ]
     },
     "execution_count": 7,
     "metadata": {},
     "output_type": "execute_result"
    }
   ],
   "source": [
    "test.head()"
   ]
  },
  {
   "cell_type": "code",
   "execution_count": 8,
   "id": "2eec05c3",
   "metadata": {
    "execution": {
     "iopub.execute_input": "2025-04-07T00:19:07.620833Z",
     "iopub.status.busy": "2025-04-07T00:19:07.620463Z",
     "iopub.status.idle": "2025-04-07T00:19:07.624954Z",
     "shell.execute_reply": "2025-04-07T00:19:07.624098Z"
    },
    "papermill": {
     "duration": 0.01066,
     "end_time": "2025-04-07T00:19:07.625989",
     "exception": false,
     "start_time": "2025-04-07T00:19:07.615329",
     "status": "completed"
    },
    "tags": []
   },
   "outputs": [
    {
     "name": "stdout",
     "output_type": "stream",
     "text": [
      "['Podcast_Name', 'Episode_Title', 'Genre', 'Publication_Day', 'Publication_Time', 'Number_of_Ads', 'Episode_Sentiment']\n"
     ]
    }
   ],
   "source": [
    "numerical_columns=['Episode_Length_minutes','Host_Popularity_percentage','Guest_Popularity_percentage']\n",
    "categorical_columns = [col for col in test.columns if col not in numerical_columns]\n",
    "categorical_columns.remove('id')\n",
    "print(categorical_columns)"
   ]
  },
  {
   "cell_type": "code",
   "execution_count": 9,
   "id": "30eb6485",
   "metadata": {
    "execution": {
     "iopub.execute_input": "2025-04-07T00:19:07.635983Z",
     "iopub.status.busy": "2025-04-07T00:19:07.635735Z",
     "iopub.status.idle": "2025-04-07T00:19:07.829672Z",
     "shell.execute_reply": "2025-04-07T00:19:07.828739Z"
    },
    "papermill": {
     "duration": 0.200253,
     "end_time": "2025-04-07T00:19:07.830907",
     "exception": false,
     "start_time": "2025-04-07T00:19:07.630654",
     "status": "completed"
    },
    "tags": []
   },
   "outputs": [
    {
     "name": "stderr",
     "output_type": "stream",
     "text": [
      "/usr/local/lib/python3.10/dist-packages/pandas/core/computation/expressions.py:73: RuntimeWarning: invalid value encountered in less\n",
      "  return op(a, b)\n",
      "/usr/local/lib/python3.10/dist-packages/pandas/core/computation/expressions.py:73: RuntimeWarning: invalid value encountered in greater\n",
      "  return op(a, b)\n",
      "/usr/local/lib/python3.10/dist-packages/pandas/core/computation/expressions.py:73: RuntimeWarning: invalid value encountered in less\n",
      "  return op(a, b)\n",
      "/usr/local/lib/python3.10/dist-packages/pandas/core/computation/expressions.py:73: RuntimeWarning: invalid value encountered in greater\n",
      "  return op(a, b)\n",
      "/usr/local/lib/python3.10/dist-packages/pandas/core/computation/expressions.py:73: RuntimeWarning: invalid value encountered in less\n",
      "  return op(a, b)\n",
      "/usr/local/lib/python3.10/dist-packages/pandas/core/computation/expressions.py:73: RuntimeWarning: invalid value encountered in greater\n",
      "  return op(a, b)\n",
      "/usr/local/lib/python3.10/dist-packages/pandas/core/computation/expressions.py:73: RuntimeWarning: invalid value encountered in less\n",
      "  return op(a, b)\n",
      "/usr/local/lib/python3.10/dist-packages/pandas/core/computation/expressions.py:73: RuntimeWarning: invalid value encountered in greater\n",
      "  return op(a, b)\n"
     ]
    },
    {
     "name": "stdout",
     "output_type": "stream",
     "text": [
      "<class 'pandas.core.frame.DataFrame'>\n",
      "RangeIndex: 250000 entries, 0 to 249999\n",
      "Data columns (total 11 columns):\n",
      " #   Column                       Non-Null Count   Dtype  \n",
      "---  ------                       --------------   -----  \n",
      " 0   id                           250000 non-null  int64  \n",
      " 1   Podcast_Name                 250000 non-null  object \n",
      " 2   Episode_Title                250000 non-null  object \n",
      " 3   Episode_Length_minutes       221262 non-null  float64\n",
      " 4   Genre                        250000 non-null  object \n",
      " 5   Host_Popularity_percentage   250000 non-null  float64\n",
      " 6   Publication_Day              250000 non-null  object \n",
      " 7   Publication_Time             250000 non-null  object \n",
      " 8   Guest_Popularity_percentage  201168 non-null  float64\n",
      " 9   Number_of_Ads                250000 non-null  float64\n",
      " 10  Episode_Sentiment            250000 non-null  object \n",
      "dtypes: float64(4), int64(1), object(6)\n",
      "memory usage: 21.0+ MB\n"
     ]
    }
   ],
   "source": [
    "def remove_outliers(df, columns):\n",
    "    for col in columns:\n",
    "        Q1 = df[col].quantile(0.25)  # 25th percentile\n",
    "        Q3 = df[col].quantile(0.75)  # 75th percentile\n",
    "        IQR = Q3 - Q1  # Interquartile range\n",
    "        \n",
    "        # Define the acceptable range\n",
    "        lower_bound = Q1 - 2.5 * IQR\n",
    "        upper_bound = Q3 + 2.5 * IQR\n",
    "        \n",
    "        # Replace outliers with NaN\n",
    "        df.loc[(df[col] < lower_bound) | (df[col] > upper_bound), col] = np.nan\n",
    "\n",
    "    return df\n",
    "\n",
    "# Apply function to remove outliers\n",
    "train = remove_outliers(train, numerical_columns)\n",
    "test = remove_outliers(test, numerical_columns)\n",
    "test.info()"
   ]
  },
  {
   "cell_type": "code",
   "execution_count": 10,
   "id": "0b100757",
   "metadata": {
    "execution": {
     "iopub.execute_input": "2025-04-07T00:19:07.841733Z",
     "iopub.status.busy": "2025-04-07T00:19:07.841534Z",
     "iopub.status.idle": "2025-04-07T00:19:07.990608Z",
     "shell.execute_reply": "2025-04-07T00:19:07.989881Z"
    },
    "papermill": {
     "duration": 0.155769,
     "end_time": "2025-04-07T00:19:07.991904",
     "exception": false,
     "start_time": "2025-04-07T00:19:07.836135",
     "status": "completed"
    },
    "tags": []
   },
   "outputs": [
    {
     "data": {
      "text/plain": [
       "id                                  0\n",
       "Podcast_Name                        0\n",
       "Episode_Title                       0\n",
       "Episode_Length_minutes          87094\n",
       "Genre                               0\n",
       "Host_Popularity_percentage          0\n",
       "Publication_Day                     0\n",
       "Publication_Time                    0\n",
       "Guest_Popularity_percentage    146030\n",
       "Number_of_Ads                       1\n",
       "Episode_Sentiment                   0\n",
       "Listening_Time_minutes              0\n",
       "dtype: int64"
      ]
     },
     "execution_count": 10,
     "metadata": {},
     "output_type": "execute_result"
    }
   ],
   "source": [
    "train.isna().sum()"
   ]
  },
  {
   "cell_type": "code",
   "execution_count": 11,
   "id": "bd969351",
   "metadata": {
    "execution": {
     "iopub.execute_input": "2025-04-07T00:19:08.002760Z",
     "iopub.status.busy": "2025-04-07T00:19:08.002556Z",
     "iopub.status.idle": "2025-04-07T00:19:08.156296Z",
     "shell.execute_reply": "2025-04-07T00:19:08.155325Z"
    },
    "papermill": {
     "duration": 0.160361,
     "end_time": "2025-04-07T00:19:08.157640",
     "exception": false,
     "start_time": "2025-04-07T00:19:07.997279",
     "status": "completed"
    },
    "tags": []
   },
   "outputs": [
    {
     "name": "stdout",
     "output_type": "stream",
     "text": [
      "<class 'pandas.core.frame.DataFrame'>\n",
      "RangeIndex: 750000 entries, 0 to 749999\n",
      "Data columns (total 12 columns):\n",
      " #   Column                       Non-Null Count   Dtype  \n",
      "---  ------                       --------------   -----  \n",
      " 0   id                           750000 non-null  int64  \n",
      " 1   Podcast_Name                 750000 non-null  object \n",
      " 2   Episode_Title                750000 non-null  object \n",
      " 3   Episode_Length_minutes       662906 non-null  float64\n",
      " 4   Genre                        750000 non-null  object \n",
      " 5   Host_Popularity_percentage   750000 non-null  float64\n",
      " 6   Publication_Day              750000 non-null  object \n",
      " 7   Publication_Time             750000 non-null  object \n",
      " 8   Guest_Popularity_percentage  603970 non-null  float64\n",
      " 9   Number_of_Ads                749999 non-null  float64\n",
      " 10  Episode_Sentiment            750000 non-null  object \n",
      " 11  Listening_Time_minutes       750000 non-null  float64\n",
      "dtypes: float64(5), int64(1), object(6)\n",
      "memory usage: 68.7+ MB\n"
     ]
    }
   ],
   "source": [
    "train.info()"
   ]
  },
  {
   "cell_type": "code",
   "execution_count": 12,
   "id": "da45af08",
   "metadata": {
    "execution": {
     "iopub.execute_input": "2025-04-07T00:19:08.168948Z",
     "iopub.status.busy": "2025-04-07T00:19:08.168656Z",
     "iopub.status.idle": "2025-04-07T00:19:08.810764Z",
     "shell.execute_reply": "2025-04-07T00:19:08.809660Z"
    },
    "papermill": {
     "duration": 0.648985,
     "end_time": "2025-04-07T00:19:08.812060",
     "exception": false,
     "start_time": "2025-04-07T00:19:08.163075",
     "status": "completed"
    },
    "tags": []
   },
   "outputs": [
    {
     "name": "stderr",
     "output_type": "stream",
     "text": [
      "<ipython-input-12-957724fa5e35>:2: FutureWarning: A value is trying to be set on a copy of a DataFrame or Series through chained assignment using an inplace method.\n",
      "The behavior will change in pandas 3.0. This inplace method will never work because the intermediate object on which we are setting values always behaves as a copy.\n",
      "\n",
      "For example, when doing 'df[col].method(value, inplace=True)', try using 'df.method({col: value}, inplace=True)' or df[col] = df[col].method(value) instead, to perform the operation inplace on the original object.\n",
      "\n",
      "\n",
      "  train[col].fillna(train[col].mode()[0], inplace=True)  # Fill with mode\n",
      "<ipython-input-12-957724fa5e35>:3: FutureWarning: A value is trying to be set on a copy of a DataFrame or Series through chained assignment using an inplace method.\n",
      "The behavior will change in pandas 3.0. This inplace method will never work because the intermediate object on which we are setting values always behaves as a copy.\n",
      "\n",
      "For example, when doing 'df[col].method(value, inplace=True)', try using 'df.method({col: value}, inplace=True)' or df[col] = df[col].method(value) instead, to perform the operation inplace on the original object.\n",
      "\n",
      "\n",
      "  test[col].fillna(test[col].mode()[0], inplace=True)  # Fill with mode\n"
     ]
    },
    {
     "name": "stdout",
     "output_type": "stream",
     "text": [
      "<class 'pandas.core.frame.DataFrame'>\n",
      "RangeIndex: 750000 entries, 0 to 749999\n",
      "Data columns (total 12 columns):\n",
      " #   Column                       Non-Null Count   Dtype  \n",
      "---  ------                       --------------   -----  \n",
      " 0   id                           750000 non-null  int64  \n",
      " 1   Podcast_Name                 750000 non-null  object \n",
      " 2   Episode_Title                750000 non-null  object \n",
      " 3   Episode_Length_minutes       750000 non-null  float64\n",
      " 4   Genre                        750000 non-null  object \n",
      " 5   Host_Popularity_percentage   750000 non-null  float64\n",
      " 6   Publication_Day              750000 non-null  object \n",
      " 7   Publication_Time             750000 non-null  object \n",
      " 8   Guest_Popularity_percentage  750000 non-null  float64\n",
      " 9   Number_of_Ads                750000 non-null  float64\n",
      " 10  Episode_Sentiment            750000 non-null  object \n",
      " 11  Listening_Time_minutes       750000 non-null  float64\n",
      "dtypes: float64(5), int64(1), object(6)\n",
      "memory usage: 68.7+ MB\n"
     ]
    },
    {
     "name": "stderr",
     "output_type": "stream",
     "text": [
      "<ipython-input-12-957724fa5e35>:6: FutureWarning: A value is trying to be set on a copy of a DataFrame or Series through chained assignment using an inplace method.\n",
      "The behavior will change in pandas 3.0. This inplace method will never work because the intermediate object on which we are setting values always behaves as a copy.\n",
      "\n",
      "For example, when doing 'df[col].method(value, inplace=True)', try using 'df.method({col: value}, inplace=True)' or df[col] = df[col].method(value) instead, to perform the operation inplace on the original object.\n",
      "\n",
      "\n",
      "  train[col].fillna(train[col].mean(), inplace=True)  # Fill with mean\n",
      "<ipython-input-12-957724fa5e35>:7: FutureWarning: A value is trying to be set on a copy of a DataFrame or Series through chained assignment using an inplace method.\n",
      "The behavior will change in pandas 3.0. This inplace method will never work because the intermediate object on which we are setting values always behaves as a copy.\n",
      "\n",
      "For example, when doing 'df[col].method(value, inplace=True)', try using 'df.method({col: value}, inplace=True)' or df[col] = df[col].method(value) instead, to perform the operation inplace on the original object.\n",
      "\n",
      "\n",
      "  test[col].fillna(test[col].mean(), inplace=True)  # Fill with mean\n"
     ]
    }
   ],
   "source": [
    "for col in categorical_columns:\n",
    "    train[col].fillna(train[col].mode()[0], inplace=True)  # Fill with mode\n",
    "    test[col].fillna(test[col].mode()[0], inplace=True)  # Fill with mode\n",
    "\n",
    "for col in numerical_columns:\n",
    "    train[col].fillna(train[col].mean(), inplace=True)  # Fill with mean\n",
    "    test[col].fillna(test[col].mean(), inplace=True)  # Fill with mean\n",
    "train.info()"
   ]
  },
  {
   "cell_type": "code",
   "execution_count": 13,
   "id": "e19a431c",
   "metadata": {
    "execution": {
     "iopub.execute_input": "2025-04-07T00:19:08.823469Z",
     "iopub.status.busy": "2025-04-07T00:19:08.823256Z",
     "iopub.status.idle": "2025-04-07T00:19:08.857059Z",
     "shell.execute_reply": "2025-04-07T00:19:08.856270Z"
    },
    "papermill": {
     "duration": 0.040651,
     "end_time": "2025-04-07T00:19:08.858181",
     "exception": false,
     "start_time": "2025-04-07T00:19:08.817530",
     "status": "completed"
    },
    "tags": []
   },
   "outputs": [
    {
     "data": {
      "text/html": [
       "<div>\n",
       "<style scoped>\n",
       "    .dataframe tbody tr th:only-of-type {\n",
       "        vertical-align: middle;\n",
       "    }\n",
       "\n",
       "    .dataframe tbody tr th {\n",
       "        vertical-align: top;\n",
       "    }\n",
       "\n",
       "    .dataframe thead th {\n",
       "        text-align: right;\n",
       "    }\n",
       "</style>\n",
       "<table border=\"1\" class=\"dataframe\">\n",
       "  <thead>\n",
       "    <tr style=\"text-align: right;\">\n",
       "      <th></th>\n",
       "      <th>Episode_Length_minutes</th>\n",
       "      <th>Host_Popularity_percentage</th>\n",
       "      <th>Guest_Popularity_percentage</th>\n",
       "    </tr>\n",
       "  </thead>\n",
       "  <tbody>\n",
       "    <tr>\n",
       "      <th>Episode_Length_minutes</th>\n",
       "      <td>1.000000</td>\n",
       "      <td>0.022185</td>\n",
       "      <td>-0.008249</td>\n",
       "    </tr>\n",
       "    <tr>\n",
       "      <th>Host_Popularity_percentage</th>\n",
       "      <td>0.022185</td>\n",
       "      <td>1.000000</td>\n",
       "      <td>0.020111</td>\n",
       "    </tr>\n",
       "    <tr>\n",
       "      <th>Guest_Popularity_percentage</th>\n",
       "      <td>-0.008249</td>\n",
       "      <td>0.020111</td>\n",
       "      <td>1.000000</td>\n",
       "    </tr>\n",
       "  </tbody>\n",
       "</table>\n",
       "</div>"
      ],
      "text/plain": [
       "                             Episode_Length_minutes  \\\n",
       "Episode_Length_minutes                     1.000000   \n",
       "Host_Popularity_percentage                 0.022185   \n",
       "Guest_Popularity_percentage               -0.008249   \n",
       "\n",
       "                             Host_Popularity_percentage  \\\n",
       "Episode_Length_minutes                         0.022185   \n",
       "Host_Popularity_percentage                     1.000000   \n",
       "Guest_Popularity_percentage                    0.020111   \n",
       "\n",
       "                             Guest_Popularity_percentage  \n",
       "Episode_Length_minutes                         -0.008249  \n",
       "Host_Popularity_percentage                      0.020111  \n",
       "Guest_Popularity_percentage                     1.000000  "
      ]
     },
     "execution_count": 13,
     "metadata": {},
     "output_type": "execute_result"
    }
   ],
   "source": [
    "train[numerical_columns].corr()"
   ]
  },
  {
   "cell_type": "code",
   "execution_count": 14,
   "id": "1bfb0394",
   "metadata": {
    "execution": {
     "iopub.execute_input": "2025-04-07T00:19:08.869336Z",
     "iopub.status.busy": "2025-04-07T00:19:08.869151Z",
     "iopub.status.idle": "2025-04-07T00:19:08.914329Z",
     "shell.execute_reply": "2025-04-07T00:19:08.913455Z"
    },
    "papermill": {
     "duration": 0.052183,
     "end_time": "2025-04-07T00:19:08.915758",
     "exception": false,
     "start_time": "2025-04-07T00:19:08.863575",
     "status": "completed"
    },
    "tags": []
   },
   "outputs": [],
   "source": [
    "# Ensure that the columns are in the same order in both train and test datasets\n",
    "# Sort the columns in both the train and test data by column names (or by column index), which guarantees that they match:\n",
    "train = train[sorted(train.columns)]  # Sort columns of train data\n",
    "test = test[sorted(test.columns)]    # Sort columns of test data"
   ]
  },
  {
   "cell_type": "code",
   "execution_count": 15,
   "id": "00d87187",
   "metadata": {
    "execution": {
     "iopub.execute_input": "2025-04-07T00:19:08.927672Z",
     "iopub.status.busy": "2025-04-07T00:19:08.927399Z",
     "iopub.status.idle": "2025-04-07T00:19:13.825096Z",
     "shell.execute_reply": "2025-04-07T00:19:13.824303Z"
    },
    "papermill": {
     "duration": 4.905019,
     "end_time": "2025-04-07T00:19:13.826628",
     "exception": false,
     "start_time": "2025-04-07T00:19:08.921609",
     "status": "completed"
    },
    "tags": []
   },
   "outputs": [
    {
     "name": "stderr",
     "output_type": "stream",
     "text": [
      "/usr/local/lib/python3.10/dist-packages/sklearn/preprocessing/_encoders.py:868: FutureWarning: `sparse` was renamed to `sparse_output` in version 1.2 and will be removed in 1.4. `sparse_output` is ignored unless you leave `sparse` to its default value.\n",
      "  warnings.warn(\n"
     ]
    }
   ],
   "source": [
    "from sklearn.preprocessing import StandardScaler, OneHotEncoder\n",
    "import pandas as pd\n",
    "\n",
    "# Initialize scalers and encoders\n",
    "scaler = StandardScaler()\n",
    "encoder = OneHotEncoder(handle_unknown='ignore', sparse=False)\n",
    "\n",
    "# Fit and transform on the training data\n",
    "df_numerical_scaled_train = pd.DataFrame(scaler.fit_transform(train[numerical_columns]), columns=numerical_columns)\n",
    "df_categorical_encoded_train = pd.DataFrame(encoder.fit_transform(train[categorical_columns]))\n",
    "df_categorical_encoded_train.columns = encoder.get_feature_names_out(categorical_columns)\n",
    "\n",
    "# Now, transform the test data using the statistics learned from the training data\n",
    "df_numerical_scaled_test = pd.DataFrame(scaler.transform(test[numerical_columns]), columns=numerical_columns)\n",
    "df_categorical_encoded_test = pd.DataFrame(encoder.transform(test[categorical_columns]))\n",
    "df_categorical_encoded_test.columns = encoder.get_feature_names_out(categorical_columns)\n",
    "\n",
    "# Combine the scaled and encoded data\n",
    "train_transformed = pd.concat([df_numerical_scaled_train, df_categorical_encoded_train], axis=1)\n",
    "test_transformed = pd.concat([df_numerical_scaled_test, df_categorical_encoded_test], axis=1)\n"
   ]
  },
  {
   "cell_type": "code",
   "execution_count": 16,
   "id": "b0ec1f0e",
   "metadata": {
    "execution": {
     "iopub.execute_input": "2025-04-07T00:19:13.839564Z",
     "iopub.status.busy": "2025-04-07T00:19:13.839210Z",
     "iopub.status.idle": "2025-04-07T00:19:13.857442Z",
     "shell.execute_reply": "2025-04-07T00:19:13.856695Z"
    },
    "papermill": {
     "duration": 0.02606,
     "end_time": "2025-04-07T00:19:13.858473",
     "exception": false,
     "start_time": "2025-04-07T00:19:13.832413",
     "status": "completed"
    },
    "tags": []
   },
   "outputs": [
    {
     "data": {
      "text/html": [
       "<div>\n",
       "<style scoped>\n",
       "    .dataframe tbody tr th:only-of-type {\n",
       "        vertical-align: middle;\n",
       "    }\n",
       "\n",
       "    .dataframe tbody tr th {\n",
       "        vertical-align: top;\n",
       "    }\n",
       "\n",
       "    .dataframe thead th {\n",
       "        text-align: right;\n",
       "    }\n",
       "</style>\n",
       "<table border=\"1\" class=\"dataframe\">\n",
       "  <thead>\n",
       "    <tr style=\"text-align: right;\">\n",
       "      <th></th>\n",
       "      <th>Episode_Length_minutes</th>\n",
       "      <th>Host_Popularity_percentage</th>\n",
       "      <th>Guest_Popularity_percentage</th>\n",
       "      <th>Podcast_Name_Athlete's Arena</th>\n",
       "      <th>Podcast_Name_Brain Boost</th>\n",
       "      <th>Podcast_Name_Business Briefs</th>\n",
       "      <th>Podcast_Name_Business Insights</th>\n",
       "      <th>Podcast_Name_Comedy Corner</th>\n",
       "      <th>Podcast_Name_Crime Chronicles</th>\n",
       "      <th>Podcast_Name_Criminal Minds</th>\n",
       "      <th>...</th>\n",
       "      <th>Number_of_Ads_53.37</th>\n",
       "      <th>Number_of_Ads_53.42</th>\n",
       "      <th>Number_of_Ads_103.0</th>\n",
       "      <th>Number_of_Ads_103.25</th>\n",
       "      <th>Number_of_Ads_103.75</th>\n",
       "      <th>Number_of_Ads_103.88</th>\n",
       "      <th>Number_of_Ads_103.91</th>\n",
       "      <th>Episode_Sentiment_Negative</th>\n",
       "      <th>Episode_Sentiment_Neutral</th>\n",
       "      <th>Episode_Sentiment_Positive</th>\n",
       "    </tr>\n",
       "  </thead>\n",
       "  <tbody>\n",
       "    <tr>\n",
       "      <th>0</th>\n",
       "      <td>0.000000</td>\n",
       "      <td>0.653611</td>\n",
       "      <td>0.000000</td>\n",
       "      <td>0.0</td>\n",
       "      <td>0.0</td>\n",
       "      <td>0.0</td>\n",
       "      <td>0.0</td>\n",
       "      <td>0.0</td>\n",
       "      <td>0.0</td>\n",
       "      <td>0.0</td>\n",
       "      <td>...</td>\n",
       "      <td>0.0</td>\n",
       "      <td>0.0</td>\n",
       "      <td>0.0</td>\n",
       "      <td>0.0</td>\n",
       "      <td>0.0</td>\n",
       "      <td>0.0</td>\n",
       "      <td>0.0</td>\n",
       "      <td>0.0</td>\n",
       "      <td>0.0</td>\n",
       "      <td>1.0</td>\n",
       "    </tr>\n",
       "    <tr>\n",
       "      <th>1</th>\n",
       "      <td>1.784031</td>\n",
       "      <td>0.309976</td>\n",
       "      <td>0.928792</td>\n",
       "      <td>0.0</td>\n",
       "      <td>0.0</td>\n",
       "      <td>0.0</td>\n",
       "      <td>0.0</td>\n",
       "      <td>0.0</td>\n",
       "      <td>0.0</td>\n",
       "      <td>0.0</td>\n",
       "      <td>...</td>\n",
       "      <td>0.0</td>\n",
       "      <td>0.0</td>\n",
       "      <td>0.0</td>\n",
       "      <td>0.0</td>\n",
       "      <td>0.0</td>\n",
       "      <td>0.0</td>\n",
       "      <td>0.0</td>\n",
       "      <td>1.0</td>\n",
       "      <td>0.0</td>\n",
       "      <td>0.0</td>\n",
       "    </tr>\n",
       "    <tr>\n",
       "      <th>2</th>\n",
       "      <td>0.303137</td>\n",
       "      <td>0.442009</td>\n",
       "      <td>-1.694624</td>\n",
       "      <td>0.0</td>\n",
       "      <td>0.0</td>\n",
       "      <td>0.0</td>\n",
       "      <td>0.0</td>\n",
       "      <td>0.0</td>\n",
       "      <td>0.0</td>\n",
       "      <td>0.0</td>\n",
       "      <td>...</td>\n",
       "      <td>0.0</td>\n",
       "      <td>0.0</td>\n",
       "      <td>0.0</td>\n",
       "      <td>0.0</td>\n",
       "      <td>0.0</td>\n",
       "      <td>0.0</td>\n",
       "      <td>0.0</td>\n",
       "      <td>1.0</td>\n",
       "      <td>0.0</td>\n",
       "      <td>0.0</td>\n",
       "    </tr>\n",
       "    <tr>\n",
       "      <th>3</th>\n",
       "      <td>0.086003</td>\n",
       "      <td>-0.115415</td>\n",
       "      <td>1.036502</td>\n",
       "      <td>0.0</td>\n",
       "      <td>0.0</td>\n",
       "      <td>0.0</td>\n",
       "      <td>0.0</td>\n",
       "      <td>0.0</td>\n",
       "      <td>0.0</td>\n",
       "      <td>0.0</td>\n",
       "      <td>...</td>\n",
       "      <td>0.0</td>\n",
       "      <td>0.0</td>\n",
       "      <td>0.0</td>\n",
       "      <td>0.0</td>\n",
       "      <td>0.0</td>\n",
       "      <td>0.0</td>\n",
       "      <td>0.0</td>\n",
       "      <td>0.0</td>\n",
       "      <td>0.0</td>\n",
       "      <td>1.0</td>\n",
       "    </tr>\n",
       "    <tr>\n",
       "      <th>4</th>\n",
       "      <td>1.484303</td>\n",
       "      <td>0.883576</td>\n",
       "      <td>0.252376</td>\n",
       "      <td>0.0</td>\n",
       "      <td>0.0</td>\n",
       "      <td>0.0</td>\n",
       "      <td>0.0</td>\n",
       "      <td>0.0</td>\n",
       "      <td>0.0</td>\n",
       "      <td>0.0</td>\n",
       "      <td>...</td>\n",
       "      <td>0.0</td>\n",
       "      <td>0.0</td>\n",
       "      <td>0.0</td>\n",
       "      <td>0.0</td>\n",
       "      <td>0.0</td>\n",
       "      <td>0.0</td>\n",
       "      <td>0.0</td>\n",
       "      <td>0.0</td>\n",
       "      <td>1.0</td>\n",
       "      <td>0.0</td>\n",
       "    </tr>\n",
       "  </tbody>\n",
       "</table>\n",
       "<p>5 rows × 187 columns</p>\n",
       "</div>"
      ],
      "text/plain": [
       "   Episode_Length_minutes  Host_Popularity_percentage  \\\n",
       "0                0.000000                    0.653611   \n",
       "1                1.784031                    0.309976   \n",
       "2                0.303137                    0.442009   \n",
       "3                0.086003                   -0.115415   \n",
       "4                1.484303                    0.883576   \n",
       "\n",
       "   Guest_Popularity_percentage  Podcast_Name_Athlete's Arena  \\\n",
       "0                     0.000000                           0.0   \n",
       "1                     0.928792                           0.0   \n",
       "2                    -1.694624                           0.0   \n",
       "3                     1.036502                           0.0   \n",
       "4                     0.252376                           0.0   \n",
       "\n",
       "   Podcast_Name_Brain Boost  Podcast_Name_Business Briefs  \\\n",
       "0                       0.0                           0.0   \n",
       "1                       0.0                           0.0   \n",
       "2                       0.0                           0.0   \n",
       "3                       0.0                           0.0   \n",
       "4                       0.0                           0.0   \n",
       "\n",
       "   Podcast_Name_Business Insights  Podcast_Name_Comedy Corner  \\\n",
       "0                             0.0                         0.0   \n",
       "1                             0.0                         0.0   \n",
       "2                             0.0                         0.0   \n",
       "3                             0.0                         0.0   \n",
       "4                             0.0                         0.0   \n",
       "\n",
       "   Podcast_Name_Crime Chronicles  Podcast_Name_Criminal Minds  ...  \\\n",
       "0                            0.0                          0.0  ...   \n",
       "1                            0.0                          0.0  ...   \n",
       "2                            0.0                          0.0  ...   \n",
       "3                            0.0                          0.0  ...   \n",
       "4                            0.0                          0.0  ...   \n",
       "\n",
       "   Number_of_Ads_53.37  Number_of_Ads_53.42  Number_of_Ads_103.0  \\\n",
       "0                  0.0                  0.0                  0.0   \n",
       "1                  0.0                  0.0                  0.0   \n",
       "2                  0.0                  0.0                  0.0   \n",
       "3                  0.0                  0.0                  0.0   \n",
       "4                  0.0                  0.0                  0.0   \n",
       "\n",
       "   Number_of_Ads_103.25  Number_of_Ads_103.75  Number_of_Ads_103.88  \\\n",
       "0                   0.0                   0.0                   0.0   \n",
       "1                   0.0                   0.0                   0.0   \n",
       "2                   0.0                   0.0                   0.0   \n",
       "3                   0.0                   0.0                   0.0   \n",
       "4                   0.0                   0.0                   0.0   \n",
       "\n",
       "   Number_of_Ads_103.91  Episode_Sentiment_Negative  \\\n",
       "0                   0.0                         0.0   \n",
       "1                   0.0                         1.0   \n",
       "2                   0.0                         1.0   \n",
       "3                   0.0                         0.0   \n",
       "4                   0.0                         0.0   \n",
       "\n",
       "   Episode_Sentiment_Neutral  Episode_Sentiment_Positive  \n",
       "0                        0.0                         1.0  \n",
       "1                        0.0                         0.0  \n",
       "2                        0.0                         0.0  \n",
       "3                        0.0                         1.0  \n",
       "4                        1.0                         0.0  \n",
       "\n",
       "[5 rows x 187 columns]"
      ]
     },
     "execution_count": 16,
     "metadata": {},
     "output_type": "execute_result"
    }
   ],
   "source": [
    "train_transformed.head()"
   ]
  },
  {
   "cell_type": "code",
   "execution_count": 17,
   "id": "5cdc0509",
   "metadata": {
    "execution": {
     "iopub.execute_input": "2025-04-07T00:19:13.870415Z",
     "iopub.status.busy": "2025-04-07T00:19:13.870182Z",
     "iopub.status.idle": "2025-04-07T00:19:13.888146Z",
     "shell.execute_reply": "2025-04-07T00:19:13.887381Z"
    },
    "papermill": {
     "duration": 0.024957,
     "end_time": "2025-04-07T00:19:13.889240",
     "exception": false,
     "start_time": "2025-04-07T00:19:13.864283",
     "status": "completed"
    },
    "tags": []
   },
   "outputs": [
    {
     "data": {
      "text/html": [
       "<div>\n",
       "<style scoped>\n",
       "    .dataframe tbody tr th:only-of-type {\n",
       "        vertical-align: middle;\n",
       "    }\n",
       "\n",
       "    .dataframe tbody tr th {\n",
       "        vertical-align: top;\n",
       "    }\n",
       "\n",
       "    .dataframe thead th {\n",
       "        text-align: right;\n",
       "    }\n",
       "</style>\n",
       "<table border=\"1\" class=\"dataframe\">\n",
       "  <thead>\n",
       "    <tr style=\"text-align: right;\">\n",
       "      <th></th>\n",
       "      <th>Episode_Length_minutes</th>\n",
       "      <th>Host_Popularity_percentage</th>\n",
       "      <th>Guest_Popularity_percentage</th>\n",
       "      <th>Podcast_Name_Athlete's Arena</th>\n",
       "      <th>Podcast_Name_Brain Boost</th>\n",
       "      <th>Podcast_Name_Business Briefs</th>\n",
       "      <th>Podcast_Name_Business Insights</th>\n",
       "      <th>Podcast_Name_Comedy Corner</th>\n",
       "      <th>Podcast_Name_Crime Chronicles</th>\n",
       "      <th>Podcast_Name_Criminal Minds</th>\n",
       "      <th>...</th>\n",
       "      <th>Number_of_Ads_53.37</th>\n",
       "      <th>Number_of_Ads_53.42</th>\n",
       "      <th>Number_of_Ads_103.0</th>\n",
       "      <th>Number_of_Ads_103.25</th>\n",
       "      <th>Number_of_Ads_103.75</th>\n",
       "      <th>Number_of_Ads_103.88</th>\n",
       "      <th>Number_of_Ads_103.91</th>\n",
       "      <th>Episode_Sentiment_Negative</th>\n",
       "      <th>Episode_Sentiment_Neutral</th>\n",
       "      <th>Episode_Sentiment_Positive</th>\n",
       "    </tr>\n",
       "  </thead>\n",
       "  <tbody>\n",
       "    <tr>\n",
       "      <th>0</th>\n",
       "      <td>0.466390</td>\n",
       "      <td>-0.950895</td>\n",
       "      <td>0.042831</td>\n",
       "      <td>0.0</td>\n",
       "      <td>0.0</td>\n",
       "      <td>0.0</td>\n",
       "      <td>0.0</td>\n",
       "      <td>0.0</td>\n",
       "      <td>0.0</td>\n",
       "      <td>0.0</td>\n",
       "      <td>...</td>\n",
       "      <td>0.0</td>\n",
       "      <td>0.0</td>\n",
       "      <td>0.0</td>\n",
       "      <td>0.0</td>\n",
       "      <td>0.0</td>\n",
       "      <td>0.0</td>\n",
       "      <td>0.0</td>\n",
       "      <td>0.0</td>\n",
       "      <td>1.0</td>\n",
       "      <td>0.0</td>\n",
       "    </tr>\n",
       "    <tr>\n",
       "      <th>1</th>\n",
       "      <td>-1.181952</td>\n",
       "      <td>0.499718</td>\n",
       "      <td>-0.001710</td>\n",
       "      <td>0.0</td>\n",
       "      <td>0.0</td>\n",
       "      <td>0.0</td>\n",
       "      <td>0.0</td>\n",
       "      <td>0.0</td>\n",
       "      <td>0.0</td>\n",
       "      <td>0.0</td>\n",
       "      <td>...</td>\n",
       "      <td>0.0</td>\n",
       "      <td>0.0</td>\n",
       "      <td>0.0</td>\n",
       "      <td>0.0</td>\n",
       "      <td>0.0</td>\n",
       "      <td>0.0</td>\n",
       "      <td>0.0</td>\n",
       "      <td>0.0</td>\n",
       "      <td>1.0</td>\n",
       "      <td>0.0</td>\n",
       "    </tr>\n",
       "    <tr>\n",
       "      <th>2</th>\n",
       "      <td>0.148272</td>\n",
       "      <td>0.351072</td>\n",
       "      <td>1.773236</td>\n",
       "      <td>0.0</td>\n",
       "      <td>0.0</td>\n",
       "      <td>0.0</td>\n",
       "      <td>0.0</td>\n",
       "      <td>0.0</td>\n",
       "      <td>0.0</td>\n",
       "      <td>0.0</td>\n",
       "      <td>...</td>\n",
       "      <td>0.0</td>\n",
       "      <td>0.0</td>\n",
       "      <td>0.0</td>\n",
       "      <td>0.0</td>\n",
       "      <td>0.0</td>\n",
       "      <td>0.0</td>\n",
       "      <td>0.0</td>\n",
       "      <td>0.0</td>\n",
       "      <td>0.0</td>\n",
       "      <td>1.0</td>\n",
       "    </tr>\n",
       "    <tr>\n",
       "      <th>3</th>\n",
       "      <td>1.641749</td>\n",
       "      <td>-1.594009</td>\n",
       "      <td>-0.019053</td>\n",
       "      <td>0.0</td>\n",
       "      <td>0.0</td>\n",
       "      <td>0.0</td>\n",
       "      <td>0.0</td>\n",
       "      <td>1.0</td>\n",
       "      <td>0.0</td>\n",
       "      <td>0.0</td>\n",
       "      <td>...</td>\n",
       "      <td>0.0</td>\n",
       "      <td>0.0</td>\n",
       "      <td>0.0</td>\n",
       "      <td>0.0</td>\n",
       "      <td>0.0</td>\n",
       "      <td>0.0</td>\n",
       "      <td>0.0</td>\n",
       "      <td>0.0</td>\n",
       "      <td>0.0</td>\n",
       "      <td>1.0</td>\n",
       "    </tr>\n",
       "    <tr>\n",
       "      <th>4</th>\n",
       "      <td>0.252160</td>\n",
       "      <td>-0.076942</td>\n",
       "      <td>-1.603364</td>\n",
       "      <td>0.0</td>\n",
       "      <td>0.0</td>\n",
       "      <td>0.0</td>\n",
       "      <td>0.0</td>\n",
       "      <td>0.0</td>\n",
       "      <td>0.0</td>\n",
       "      <td>0.0</td>\n",
       "      <td>...</td>\n",
       "      <td>0.0</td>\n",
       "      <td>0.0</td>\n",
       "      <td>0.0</td>\n",
       "      <td>0.0</td>\n",
       "      <td>0.0</td>\n",
       "      <td>0.0</td>\n",
       "      <td>0.0</td>\n",
       "      <td>0.0</td>\n",
       "      <td>1.0</td>\n",
       "      <td>0.0</td>\n",
       "    </tr>\n",
       "  </tbody>\n",
       "</table>\n",
       "<p>5 rows × 187 columns</p>\n",
       "</div>"
      ],
      "text/plain": [
       "   Episode_Length_minutes  Host_Popularity_percentage  \\\n",
       "0                0.466390                   -0.950895   \n",
       "1               -1.181952                    0.499718   \n",
       "2                0.148272                    0.351072   \n",
       "3                1.641749                   -1.594009   \n",
       "4                0.252160                   -0.076942   \n",
       "\n",
       "   Guest_Popularity_percentage  Podcast_Name_Athlete's Arena  \\\n",
       "0                     0.042831                           0.0   \n",
       "1                    -0.001710                           0.0   \n",
       "2                     1.773236                           0.0   \n",
       "3                    -0.019053                           0.0   \n",
       "4                    -1.603364                           0.0   \n",
       "\n",
       "   Podcast_Name_Brain Boost  Podcast_Name_Business Briefs  \\\n",
       "0                       0.0                           0.0   \n",
       "1                       0.0                           0.0   \n",
       "2                       0.0                           0.0   \n",
       "3                       0.0                           0.0   \n",
       "4                       0.0                           0.0   \n",
       "\n",
       "   Podcast_Name_Business Insights  Podcast_Name_Comedy Corner  \\\n",
       "0                             0.0                         0.0   \n",
       "1                             0.0                         0.0   \n",
       "2                             0.0                         0.0   \n",
       "3                             0.0                         1.0   \n",
       "4                             0.0                         0.0   \n",
       "\n",
       "   Podcast_Name_Crime Chronicles  Podcast_Name_Criminal Minds  ...  \\\n",
       "0                            0.0                          0.0  ...   \n",
       "1                            0.0                          0.0  ...   \n",
       "2                            0.0                          0.0  ...   \n",
       "3                            0.0                          0.0  ...   \n",
       "4                            0.0                          0.0  ...   \n",
       "\n",
       "   Number_of_Ads_53.37  Number_of_Ads_53.42  Number_of_Ads_103.0  \\\n",
       "0                  0.0                  0.0                  0.0   \n",
       "1                  0.0                  0.0                  0.0   \n",
       "2                  0.0                  0.0                  0.0   \n",
       "3                  0.0                  0.0                  0.0   \n",
       "4                  0.0                  0.0                  0.0   \n",
       "\n",
       "   Number_of_Ads_103.25  Number_of_Ads_103.75  Number_of_Ads_103.88  \\\n",
       "0                   0.0                   0.0                   0.0   \n",
       "1                   0.0                   0.0                   0.0   \n",
       "2                   0.0                   0.0                   0.0   \n",
       "3                   0.0                   0.0                   0.0   \n",
       "4                   0.0                   0.0                   0.0   \n",
       "\n",
       "   Number_of_Ads_103.91  Episode_Sentiment_Negative  \\\n",
       "0                   0.0                         0.0   \n",
       "1                   0.0                         0.0   \n",
       "2                   0.0                         0.0   \n",
       "3                   0.0                         0.0   \n",
       "4                   0.0                         0.0   \n",
       "\n",
       "   Episode_Sentiment_Neutral  Episode_Sentiment_Positive  \n",
       "0                        1.0                         0.0  \n",
       "1                        1.0                         0.0  \n",
       "2                        0.0                         1.0  \n",
       "3                        0.0                         1.0  \n",
       "4                        1.0                         0.0  \n",
       "\n",
       "[5 rows x 187 columns]"
      ]
     },
     "execution_count": 17,
     "metadata": {},
     "output_type": "execute_result"
    }
   ],
   "source": [
    "test_transformed.head()"
   ]
  },
  {
   "cell_type": "code",
   "execution_count": 18,
   "id": "a2937d0c",
   "metadata": {
    "execution": {
     "iopub.execute_input": "2025-04-07T00:19:13.901714Z",
     "iopub.status.busy": "2025-04-07T00:19:13.901455Z",
     "iopub.status.idle": "2025-04-07T00:19:18.379208Z",
     "shell.execute_reply": "2025-04-07T00:19:18.378296Z"
    },
    "papermill": {
     "duration": 4.485865,
     "end_time": "2025-04-07T00:19:18.381134",
     "exception": false,
     "start_time": "2025-04-07T00:19:13.895269",
     "status": "completed"
    },
    "tags": []
   },
   "outputs": [
    {
     "name": "stdout",
     "output_type": "stream",
     "text": [
      "Requirement already satisfied: keras-tuner in /usr/local/lib/python3.10/dist-packages (1.4.7)\r\n",
      "Requirement already satisfied: keras in /usr/local/lib/python3.10/dist-packages (from keras-tuner) (3.5.0)\r\n",
      "Requirement already satisfied: packaging in /usr/local/lib/python3.10/dist-packages (from keras-tuner) (24.2)\r\n",
      "Requirement already satisfied: requests in /usr/local/lib/python3.10/dist-packages (from keras-tuner) (2.32.3)\r\n",
      "Requirement already satisfied: kt-legacy in /usr/local/lib/python3.10/dist-packages (from keras-tuner) (1.0.5)\r\n",
      "Requirement already satisfied: absl-py in /usr/local/lib/python3.10/dist-packages (from keras->keras-tuner) (1.4.0)\r\n",
      "Requirement already satisfied: numpy in /usr/local/lib/python3.10/dist-packages (from keras->keras-tuner) (1.26.4)\r\n",
      "Requirement already satisfied: rich in /usr/local/lib/python3.10/dist-packages (from keras->keras-tuner) (13.9.4)\r\n",
      "Requirement already satisfied: namex in /usr/local/lib/python3.10/dist-packages (from keras->keras-tuner) (0.0.8)\r\n",
      "Requirement already satisfied: h5py in /usr/local/lib/python3.10/dist-packages (from keras->keras-tuner) (3.12.1)\r\n",
      "Requirement already satisfied: optree in /usr/local/lib/python3.10/dist-packages (from keras->keras-tuner) (0.13.1)\r\n",
      "Requirement already satisfied: ml-dtypes in /usr/local/lib/python3.10/dist-packages (from keras->keras-tuner) (0.4.1)\r\n",
      "Requirement already satisfied: charset-normalizer<4,>=2 in /usr/local/lib/python3.10/dist-packages (from requests->keras-tuner) (3.4.1)\r\n",
      "Requirement already satisfied: idna<4,>=2.5 in /usr/local/lib/python3.10/dist-packages (from requests->keras-tuner) (3.10)\r\n",
      "Requirement already satisfied: urllib3<3,>=1.21.1 in /usr/local/lib/python3.10/dist-packages (from requests->keras-tuner) (2.3.0)\r\n",
      "Requirement already satisfied: certifi>=2017.4.17 in /usr/local/lib/python3.10/dist-packages (from requests->keras-tuner) (2025.1.31)\r\n",
      "Requirement already satisfied: mkl_fft in /usr/local/lib/python3.10/dist-packages (from numpy->keras->keras-tuner) (1.3.8)\r\n",
      "Requirement already satisfied: mkl_random in /usr/local/lib/python3.10/dist-packages (from numpy->keras->keras-tuner) (1.2.4)\r\n",
      "Requirement already satisfied: mkl_umath in /usr/local/lib/python3.10/dist-packages (from numpy->keras->keras-tuner) (0.1.1)\r\n",
      "Requirement already satisfied: mkl in /usr/local/lib/python3.10/dist-packages (from numpy->keras->keras-tuner) (2025.0.1)\r\n",
      "Requirement already satisfied: tbb4py in /usr/local/lib/python3.10/dist-packages (from numpy->keras->keras-tuner) (2022.0.0)\r\n",
      "Requirement already satisfied: mkl-service in /usr/local/lib/python3.10/dist-packages (from numpy->keras->keras-tuner) (2.4.1)\r\n",
      "Requirement already satisfied: typing-extensions>=4.5.0 in /usr/local/lib/python3.10/dist-packages (from optree->keras->keras-tuner) (4.12.2)\r\n",
      "Requirement already satisfied: markdown-it-py>=2.2.0 in /usr/local/lib/python3.10/dist-packages (from rich->keras->keras-tuner) (3.0.0)\r\n",
      "Requirement already satisfied: pygments<3.0.0,>=2.13.0 in /usr/local/lib/python3.10/dist-packages (from rich->keras->keras-tuner) (2.19.1)\r\n",
      "Requirement already satisfied: mdurl~=0.1 in /usr/local/lib/python3.10/dist-packages (from markdown-it-py>=2.2.0->rich->keras->keras-tuner) (0.1.2)\r\n",
      "Requirement already satisfied: intel-openmp>=2024 in /usr/local/lib/python3.10/dist-packages (from mkl->numpy->keras->keras-tuner) (2024.2.0)\r\n",
      "Requirement already satisfied: tbb==2022.* in /usr/local/lib/python3.10/dist-packages (from mkl->numpy->keras->keras-tuner) (2022.0.0)\r\n",
      "Requirement already satisfied: tcmlib==1.* in /usr/local/lib/python3.10/dist-packages (from tbb==2022.*->mkl->numpy->keras->keras-tuner) (1.2.0)\r\n",
      "Requirement already satisfied: intel-cmplr-lib-rt in /usr/local/lib/python3.10/dist-packages (from mkl_umath->numpy->keras->keras-tuner) (2024.2.0)\r\n",
      "Requirement already satisfied: intel-cmplr-lib-ur==2024.2.0 in /usr/local/lib/python3.10/dist-packages (from intel-openmp>=2024->mkl->numpy->keras->keras-tuner) (2024.2.0)\r\n"
     ]
    }
   ],
   "source": [
    "!pip install keras-tuner"
   ]
  },
  {
   "cell_type": "code",
   "execution_count": 19,
   "id": "f4b2f4ce",
   "metadata": {
    "execution": {
     "iopub.execute_input": "2025-04-07T00:19:18.394365Z",
     "iopub.status.busy": "2025-04-07T00:19:18.394084Z",
     "iopub.status.idle": "2025-04-07T00:19:31.772165Z",
     "shell.execute_reply": "2025-04-07T00:19:31.771372Z"
    },
    "papermill": {
     "duration": 13.385971,
     "end_time": "2025-04-07T00:19:31.773475",
     "exception": false,
     "start_time": "2025-04-07T00:19:18.387504",
     "status": "completed"
    },
    "tags": []
   },
   "outputs": [
    {
     "name": "stderr",
     "output_type": "stream",
     "text": [
      "<ipython-input-19-398708f80ff9>:1: DeprecationWarning: `import kerastuner` is deprecated, please use `import keras_tuner`.\n",
      "  from kerastuner.tuners import RandomSearch\n",
      "/usr/local/lib/python3.10/dist-packages/keras/src/layers/core/dense.py:87: UserWarning: Do not pass an `input_shape`/`input_dim` argument to a layer. When using Sequential models, prefer using an `Input(shape)` object as the first layer in the model instead.\n",
      "  super().__init__(activity_regularizer=activity_regularizer, **kwargs)\n"
     ]
    }
   ],
   "source": [
    "from kerastuner.tuners import RandomSearch\n",
    "import matplotlib.pyplot as plt\n",
    "from tensorflow.keras.models import Sequential\n",
    "from tensorflow.keras.layers import Dense, Dropout\n",
    "from tensorflow.keras.regularizers import l2\n",
    "from tensorflow.keras.callbacks import EarlyStopping\n",
    "from sklearn.model_selection import train_test_split\n",
    "from tensorflow.keras.optimizers import Adam\n",
    "# Assuming you have a DataFrame `df` with features in `X` and target in `y`\n",
    "X = train_transformed  # replace with your feature columns\n",
    "y = train['Listening_Time_minutes']  # replace with your target column\n",
    "\n",
    "# Split the dataset into training and validation sets\n",
    "X_train, X_val, y_train, y_val = train_test_split(X, y, test_size=0.2, random_state=42)\n",
    "\n",
    "def build_model(hp):\n",
    "    model = Sequential()\n",
    "    \n",
    "    # First hidden layer\n",
    "    model.add(Dense(\n",
    "        units=hp.Int('units_1', min_value=256, max_value=1024, step=256),\n",
    "        activation='relu',\n",
    "        input_dim=X_train.shape[1],\n",
    "        kernel_regularizer=l2(hp.Float('l2_1', 1e-3, 1e-2, sampling='LOG'))\n",
    "    ))\n",
    "    model.add(Dropout(hp.Float('dropout_1', 0.2, 0.3, step=0.1)))\n",
    "    \n",
    "    # Second hidden layer\n",
    "    model.add(Dense(\n",
    "        units=hp.Int('units_2', min_value=256, max_value=512, step=128),\n",
    "        activation='relu',\n",
    "        kernel_regularizer=l2(hp.Float('l2_2', 1e-3, 1e-2, sampling='LOG'))\n",
    "    ))\n",
    "    \n",
    "    # Output layer\n",
    "    model.add(Dense(1))\n",
    "\n",
    "    # Optimizer with tunable learning rate\n",
    "    optimizer = Adam(\n",
    "        learning_rate=hp.Float('learning_rate', 1e-3, 1e-3, sampling='LOG')\n",
    "    )\n",
    "    \n",
    "    model.compile(optimizer=optimizer, loss='mse')\n",
    "    return model\n",
    "\n",
    "\n",
    "tuner = RandomSearch(\n",
    "    build_model,\n",
    "    objective='val_loss',\n",
    "    max_trials=5,\n",
    "    executions_per_trial=1,\n",
    "    directory='tuner_dir',\n",
    "    project_name='regression_dnn'\n",
    ")"
   ]
  },
  {
   "cell_type": "code",
   "execution_count": 20,
   "id": "c642c80d",
   "metadata": {
    "execution": {
     "iopub.execute_input": "2025-04-07T00:19:31.787518Z",
     "iopub.status.busy": "2025-04-07T00:19:31.787030Z",
     "iopub.status.idle": "2025-04-07T02:27:59.695853Z",
     "shell.execute_reply": "2025-04-07T02:27:59.695128Z"
    },
    "papermill": {
     "duration": 7709.74085,
     "end_time": "2025-04-07T02:28:01.521068",
     "exception": false,
     "start_time": "2025-04-07T00:19:31.780218",
     "status": "completed"
    },
    "tags": []
   },
   "outputs": [
    {
     "name": "stdout",
     "output_type": "stream",
     "text": [
      "Trial 5 Complete [00h 41m 44s]\n",
      "val_loss: 174.66883850097656\n",
      "\n",
      "Best val_loss So Far: 174.66883850097656\n",
      "Total elapsed time: 02h 08m 28s\n"
     ]
    }
   ],
   "source": [
    "early_stopping = EarlyStopping(monitor='val_loss', patience=10, restore_best_weights=True)\n",
    "\n",
    "tuner.search(\n",
    "    X_train, y_train,\n",
    "    epochs=25,\n",
    "    validation_data=(X_val, y_val),\n",
    "    callbacks=[early_stopping]\n",
    ")"
   ]
  },
  {
   "cell_type": "code",
   "execution_count": 21,
   "id": "b265ea09",
   "metadata": {
    "execution": {
     "iopub.execute_input": "2025-04-07T02:28:01.540376Z",
     "iopub.status.busy": "2025-04-07T02:28:01.540094Z",
     "iopub.status.idle": "2025-04-07T02:28:02.085326Z",
     "shell.execute_reply": "2025-04-07T02:28:02.084220Z"
    },
    "papermill": {
     "duration": 0.553472,
     "end_time": "2025-04-07T02:28:02.086629",
     "exception": false,
     "start_time": "2025-04-07T02:28:01.533157",
     "status": "completed"
    },
    "tags": []
   },
   "outputs": [
    {
     "name": "stderr",
     "output_type": "stream",
     "text": [
      "/usr/local/lib/python3.10/dist-packages/keras/src/layers/core/dense.py:87: UserWarning: Do not pass an `input_shape`/`input_dim` argument to a layer. When using Sequential models, prefer using an `Input(shape)` object as the first layer in the model instead.\n",
      "  super().__init__(activity_regularizer=activity_regularizer, **kwargs)\n",
      "/usr/local/lib/python3.10/dist-packages/keras/src/saving/saving_lib.py:713: UserWarning: Skipping variable loading for optimizer 'adam', because it has 2 variables whereas the saved optimizer has 14 variables. \n",
      "  saveable.load_own_variables(weights_store.get(inner_path))\n"
     ]
    }
   ],
   "source": [
    "model = tuner.get_best_models(1)[0]\n",
    "\n"
   ]
  },
  {
   "cell_type": "code",
   "execution_count": 22,
   "id": "cd01c548",
   "metadata": {
    "execution": {
     "iopub.execute_input": "2025-04-07T02:28:02.100768Z",
     "iopub.status.busy": "2025-04-07T02:28:02.100521Z",
     "iopub.status.idle": "2025-04-07T02:28:02.105821Z",
     "shell.execute_reply": "2025-04-07T02:28:02.105014Z"
    },
    "papermill": {
     "duration": 0.013428,
     "end_time": "2025-04-07T02:28:02.107054",
     "exception": false,
     "start_time": "2025-04-07T02:28:02.093626",
     "status": "completed"
    },
    "tags": []
   },
   "outputs": [
    {
     "data": {
      "text/plain": [
       "\"\\n# Build the neural network model\\nmodel = Sequential([\\n    Dense(512, activation='relu', input_dim=X_train.shape[1], kernel_regularizer=l2(0.01)),\\n    Dropout(0.3),  # Dropout layer to prevent overfitting\\n    Dense(512, activation='relu', kernel_regularizer=l2(0.01)),\\n    Dropout(0.3),  # Dropout layer to prevent overfitting\\n    Dense(256, activation='relu', kernel_regularizer=l2(0.01)),\\n    Dropout(0.3),\\n    Dense(128, activation='relu', kernel_regularizer=l2(0.01)),\\n    Dropout(0.3),\\n    Dense(64, activation='relu', kernel_regularizer=l2(0.01)),\\n    Dropout(0.3),\\n    Dense(32, activation='relu', kernel_regularizer=l2(0.01)),\\n    Dropout(0.3),\\n    Dense(1)  # Output layer for regression\\n])\\n\\n# Compile the model\\nmodel.compile(optimizer=Adam(), loss='mse')\\n\\n# Early stopping to stop training when validation loss is no longer improving\\nearly_stopping = EarlyStopping(monitor='val_loss', patience=50, restore_best_weights=True)\\n\\n# Train the model\\nhistory = model.fit(\\n    X_train, y_train, \\n    epochs=500, \\n    batch_size=100000, \\n    validation_data=(X_val, y_val),\\n    callbacks=[early_stopping],  # Using early stopping\\n    verbose=1\\n)\\n\\n# Plot training and validation loss vs epochs\\nplt.plot(history.history['loss'], label='Training Loss')\\nplt.plot(history.history['val_loss'], label='Validation Loss')\\nplt.xlabel('Epochs')\\nplt.ylabel('Loss')\\nplt.legend()\\nplt.title('Training and Validation Loss vs Epochs')\\nplt.show()\\n\""
      ]
     },
     "execution_count": 22,
     "metadata": {},
     "output_type": "execute_result"
    }
   ],
   "source": [
    "'''\n",
    "# Build the neural network model\n",
    "model = Sequential([\n",
    "    Dense(512, activation='relu', input_dim=X_train.shape[1], kernel_regularizer=l2(0.01)),\n",
    "    Dropout(0.3),  # Dropout layer to prevent overfitting\n",
    "    Dense(512, activation='relu', kernel_regularizer=l2(0.01)),\n",
    "    Dropout(0.3),  # Dropout layer to prevent overfitting\n",
    "    Dense(256, activation='relu', kernel_regularizer=l2(0.01)),\n",
    "    Dropout(0.3),\n",
    "    Dense(128, activation='relu', kernel_regularizer=l2(0.01)),\n",
    "    Dropout(0.3),\n",
    "    Dense(64, activation='relu', kernel_regularizer=l2(0.01)),\n",
    "    Dropout(0.3),\n",
    "    Dense(32, activation='relu', kernel_regularizer=l2(0.01)),\n",
    "    Dropout(0.3),\n",
    "    Dense(1)  # Output layer for regression\n",
    "])\n",
    "\n",
    "# Compile the model\n",
    "model.compile(optimizer=Adam(), loss='mse')\n",
    "\n",
    "# Early stopping to stop training when validation loss is no longer improving\n",
    "early_stopping = EarlyStopping(monitor='val_loss', patience=50, restore_best_weights=True)\n",
    "\n",
    "# Train the model\n",
    "history = model.fit(\n",
    "    X_train, y_train, \n",
    "    epochs=500, \n",
    "    batch_size=100000, \n",
    "    validation_data=(X_val, y_val),\n",
    "    callbacks=[early_stopping],  # Using early stopping\n",
    "    verbose=1\n",
    ")\n",
    "\n",
    "# Plot training and validation loss vs epochs\n",
    "plt.plot(history.history['loss'], label='Training Loss')\n",
    "plt.plot(history.history['val_loss'], label='Validation Loss')\n",
    "plt.xlabel('Epochs')\n",
    "plt.ylabel('Loss')\n",
    "plt.legend()\n",
    "plt.title('Training and Validation Loss vs Epochs')\n",
    "plt.show()\n",
    "'''"
   ]
  },
  {
   "cell_type": "code",
   "execution_count": 23,
   "id": "c99e2ba3",
   "metadata": {
    "execution": {
     "iopub.execute_input": "2025-04-07T02:28:02.121501Z",
     "iopub.status.busy": "2025-04-07T02:28:02.121181Z",
     "iopub.status.idle": "2025-04-07T02:28:16.208375Z",
     "shell.execute_reply": "2025-04-07T02:28:16.207521Z"
    },
    "papermill": {
     "duration": 14.095653,
     "end_time": "2025-04-07T02:28:16.209771",
     "exception": false,
     "start_time": "2025-04-07T02:28:02.114118",
     "status": "completed"
    },
    "tags": []
   },
   "outputs": [
    {
     "name": "stdout",
     "output_type": "stream",
     "text": [
      "\u001b[1m7813/7813\u001b[0m \u001b[32m━━━━━━━━━━━━━━━━━━━━\u001b[0m\u001b[37m\u001b[0m \u001b[1m11s\u001b[0m 1ms/step\n"
     ]
    }
   ],
   "source": [
    "predictions = model.predict(test_transformed)"
   ]
  },
  {
   "cell_type": "code",
   "execution_count": 24,
   "id": "940aa3ac",
   "metadata": {
    "execution": {
     "iopub.execute_input": "2025-04-07T02:28:16.240545Z",
     "iopub.status.busy": "2025-04-07T02:28:16.240266Z",
     "iopub.status.idle": "2025-04-07T02:28:16.245311Z",
     "shell.execute_reply": "2025-04-07T02:28:16.244577Z"
    },
    "papermill": {
     "duration": 0.021537,
     "end_time": "2025-04-07T02:28:16.246312",
     "exception": false,
     "start_time": "2025-04-07T02:28:16.224775",
     "status": "completed"
    },
    "tags": []
   },
   "outputs": [
    {
     "data": {
      "text/plain": [
       "array([53.949364, 19.487488, 47.387802, ...,  8.371269, 75.19019 ,\n",
       "       55.81298 ], dtype=float32)"
      ]
     },
     "execution_count": 24,
     "metadata": {},
     "output_type": "execute_result"
    }
   ],
   "source": [
    "predictions.flatten()"
   ]
  },
  {
   "cell_type": "code",
   "execution_count": 25,
   "id": "cc7b8916",
   "metadata": {
    "execution": {
     "iopub.execute_input": "2025-04-07T02:28:16.275378Z",
     "iopub.status.busy": "2025-04-07T02:28:16.275120Z",
     "iopub.status.idle": "2025-04-07T02:28:16.486284Z",
     "shell.execute_reply": "2025-04-07T02:28:16.485410Z"
    },
    "papermill": {
     "duration": 0.227111,
     "end_time": "2025-04-07T02:28:16.487496",
     "exception": false,
     "start_time": "2025-04-07T02:28:16.260385",
     "status": "completed"
    },
    "tags": []
   },
   "outputs": [
    {
     "name": "stdout",
     "output_type": "stream",
     "text": [
      "✅ Submission file created successfully!\n"
     ]
    }
   ],
   "source": [
    "# Submission file\n",
    "submission = pd.DataFrame({'id': test['id'], 'Listening_Time_minutes': predictions.flatten()})\n",
    "submission.to_csv('submission.csv', index=False)\n",
    "\n",
    "print(\"✅ Submission file created successfully!\")"
   ]
  },
  {
   "cell_type": "code",
   "execution_count": 26,
   "id": "80ac7e69",
   "metadata": {
    "execution": {
     "iopub.execute_input": "2025-04-07T02:28:16.517604Z",
     "iopub.status.busy": "2025-04-07T02:28:16.517384Z",
     "iopub.status.idle": "2025-04-07T02:28:16.523842Z",
     "shell.execute_reply": "2025-04-07T02:28:16.523198Z"
    },
    "papermill": {
     "duration": 0.02224,
     "end_time": "2025-04-07T02:28:16.524916",
     "exception": false,
     "start_time": "2025-04-07T02:28:16.502676",
     "status": "completed"
    },
    "tags": []
   },
   "outputs": [
    {
     "data": {
      "text/html": [
       "<div>\n",
       "<style scoped>\n",
       "    .dataframe tbody tr th:only-of-type {\n",
       "        vertical-align: middle;\n",
       "    }\n",
       "\n",
       "    .dataframe tbody tr th {\n",
       "        vertical-align: top;\n",
       "    }\n",
       "\n",
       "    .dataframe thead th {\n",
       "        text-align: right;\n",
       "    }\n",
       "</style>\n",
       "<table border=\"1\" class=\"dataframe\">\n",
       "  <thead>\n",
       "    <tr style=\"text-align: right;\">\n",
       "      <th></th>\n",
       "      <th>id</th>\n",
       "      <th>Listening_Time_minutes</th>\n",
       "    </tr>\n",
       "  </thead>\n",
       "  <tbody>\n",
       "    <tr>\n",
       "      <th>0</th>\n",
       "      <td>750000</td>\n",
       "      <td>53.949364</td>\n",
       "    </tr>\n",
       "    <tr>\n",
       "      <th>1</th>\n",
       "      <td>750001</td>\n",
       "      <td>19.487488</td>\n",
       "    </tr>\n",
       "    <tr>\n",
       "      <th>2</th>\n",
       "      <td>750002</td>\n",
       "      <td>47.387802</td>\n",
       "    </tr>\n",
       "    <tr>\n",
       "      <th>3</th>\n",
       "      <td>750003</td>\n",
       "      <td>81.657082</td>\n",
       "    </tr>\n",
       "    <tr>\n",
       "      <th>4</th>\n",
       "      <td>750004</td>\n",
       "      <td>48.428413</td>\n",
       "    </tr>\n",
       "  </tbody>\n",
       "</table>\n",
       "</div>"
      ],
      "text/plain": [
       "       id  Listening_Time_minutes\n",
       "0  750000               53.949364\n",
       "1  750001               19.487488\n",
       "2  750002               47.387802\n",
       "3  750003               81.657082\n",
       "4  750004               48.428413"
      ]
     },
     "execution_count": 26,
     "metadata": {},
     "output_type": "execute_result"
    }
   ],
   "source": [
    "submission.head()"
   ]
  },
  {
   "cell_type": "code",
   "execution_count": 27,
   "id": "9511ce8a",
   "metadata": {
    "execution": {
     "iopub.execute_input": "2025-04-07T02:28:16.555877Z",
     "iopub.status.busy": "2025-04-07T02:28:16.555662Z",
     "iopub.status.idle": "2025-04-07T02:28:16.560135Z",
     "shell.execute_reply": "2025-04-07T02:28:16.559334Z"
    },
    "papermill": {
     "duration": 0.020503,
     "end_time": "2025-04-07T02:28:16.561236",
     "exception": false,
     "start_time": "2025-04-07T02:28:16.540733",
     "status": "completed"
    },
    "tags": []
   },
   "outputs": [
    {
     "data": {
      "text/plain": [
       "106.76151275634766"
      ]
     },
     "execution_count": 27,
     "metadata": {},
     "output_type": "execute_result"
    }
   ],
   "source": [
    "submission['Listening_Time_minutes'].max()"
   ]
  },
  {
   "cell_type": "code",
   "execution_count": 28,
   "id": "4df3009b",
   "metadata": {
    "execution": {
     "iopub.execute_input": "2025-04-07T02:28:16.592317Z",
     "iopub.status.busy": "2025-04-07T02:28:16.592080Z",
     "iopub.status.idle": "2025-04-07T02:28:16.734411Z",
     "shell.execute_reply": "2025-04-07T02:28:16.733393Z"
    },
    "papermill": {
     "duration": 0.158785,
     "end_time": "2025-04-07T02:28:16.735919",
     "exception": false,
     "start_time": "2025-04-07T02:28:16.577134",
     "status": "completed"
    },
    "tags": []
   },
   "outputs": [
    {
     "data": {
      "image/png": "[encoded data removed]",
      "text/plain": [
       "<Figure size 640x480 with 1 Axes>"
      ]
     },
     "metadata": {},
     "output_type": "display_data"
    }
   ],
   "source": [
    "import matplotlib.pyplot as plt\n",
    "\n",
    "# Assuming your dataframe is called 'df'\n",
    "plt.hist(submission['Listening_Time_minutes'], bins=20)  # iloc[:, 1] selects the second column\n",
    "plt.xlabel('Value')\n",
    "plt.ylabel('Frequency')\n",
    "plt.title('Histogram of the Second Column')\n",
    "plt.show()\n"
   ]
  },
  {
   "cell_type": "code",
   "execution_count": null,
   "id": "b39fa582",
   "metadata": {
    "papermill": {
     "duration": 0.014976,
     "end_time": "2025-04-07T02:28:16.768241",
     "exception": false,
     "start_time": "2025-04-07T02:28:16.753265",
     "status": "completed"
    },
    "tags": []
   },
   "outputs": [],
   "source": []
  }
 ],
 "metadata": {
  "kaggle": {
   "accelerator": "none",
   "dataSources": [
    {
     "databundleVersionId": 11351736,
     "sourceId": 91715,
     "sourceType": "competition"
    }
   ],
   "dockerImageVersionId": 30918,
   "isGpuEnabled": false,
   "isInternetEnabled": true,
   "language": "python",
   "sourceType": "notebook"
  },
  "kernelspec": {
   "display_name": "Python 3",
   "language": "python",
   "name": "python3"
  },
  "language_info": {
   "codemirror_mode": {
    "name": "ipython",
    "version": 3
   },
   "file_extension": ".py",
   "mimetype": "text/x-python",
   "name": "python",
   "nbconvert_exporter": "python",
   "pygments_lexer": "ipython3",
   "version": "3.10.12"
  },
  "papermill": {
   "default_parameters": {},
   "duration": 7758.242739,
   "end_time": "2025-04-07T02:28:19.907312",
   "environment_variables": {},
   "exception": null,
   "input_path": "__notebook__.ipynb",
   "output_path": "__notebook__.ipynb",
   "parameters": {},
   "start_time": "2025-04-07T00:19:01.664573",
   "version": "2.6.0"
  }
 },
 "nbformat": 4,
 "nbformat_minor": 5
}
