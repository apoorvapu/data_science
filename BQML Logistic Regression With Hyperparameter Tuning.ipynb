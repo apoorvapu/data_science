{
 "cells": [
  {
   "cell_type": "markdown",
   "id": "200e8e26-24fb-4abf-8ad3-fbd64cf15bca",
   "metadata": {},
   "source": [
    "inputs:"
   ]
  },
  {
   "cell_type": "code",
   "execution_count": 1,
   "id": "01299520-2cfb-4914-9d40-37b3ef5b1583",
   "metadata": {},
   "outputs": [
    {
     "data": {
      "text/plain": [
       "'vertexaiproject-454121'"
      ]
     },
     "execution_count": 1,
     "metadata": {},
     "output_type": "execute_result"
    }
   ],
   "source": [
    "project = !gcloud config get-value project\n",
    "PROJECT_ID = project[0]\n",
    "PROJECT_ID"
   ]
  },
  {
   "cell_type": "code",
   "execution_count": 2,
   "id": "d3a70664-bf97-4d09-a0be-72a99e81a6ca",
   "metadata": {},
   "outputs": [],
   "source": [
    "REGION = 'us-central1'\n",
    "EXPERIMENT = 'logistic-regression-hpt'\n",
    "SERIES = 'bqml'\n",
    "\n",
    "# source data\n",
    "BQ_PROJECT = PROJECT_ID\n",
    "BQ_DATASET = 'fraud'\n",
    "BQ_TABLE = 'fraud_prepped'\n",
    "\n",
    "# Resources for serving BigQuery Model Exports\n",
    "TF_DEPLOY_IMAGE = 'us-docker.pkg.dev/vertex-ai/prediction/tf2-cpu.2-3:latest'\n",
    "XGB_DEPLOY_IMAGE = 'us-docker.pkg.dev/vertex-ai/prediction/xgboost-cpu.0-82:latest'\n",
    "\n",
    "# Resources for serving BigQuery Model Exports\n",
    "DEPLOY_COMPUTE = 'n1-standard-4'\n",
    "\n",
    "# Model Training\n",
    "VAR_TARGET = 'Class'\n"
   ]
  },
  {
   "cell_type": "markdown",
   "id": "04587458-8f6f-4825-bc1f-8dc801106f82",
   "metadata": {},
   "source": [
    "packages:"
   ]
  },
  {
   "cell_type": "code",
   "execution_count": 3,
   "id": "cba82382-8338-4df9-8e5f-538cdca16f17",
   "metadata": {},
   "outputs": [],
   "source": [
    "from google.cloud import bigquery\n",
    "from google.cloud import aiplatform\n",
    "from datetime import datetime\n",
    "import matplotlib.pyplot as plt\n",
    "from sklearn import metrics\n",
    "import numpy as np\n",
    "\n",
    "from google.api import httpbody_pb2\n",
    "import json"
   ]
  },
  {
   "cell_type": "markdown",
   "id": "84c9a0f0-8d23-4ba5-848a-d0f403626c34",
   "metadata": {},
   "source": [
    "clients:"
   ]
  },
  {
   "cell_type": "code",
   "execution_count": 4,
   "id": "bc18cd29-8f17-4335-88d1-491cb4c3dbd3",
   "metadata": {},
   "outputs": [],
   "source": [
    "bq = bigquery.Client(project = PROJECT_ID)\n",
    "aiplatform.init(project = PROJECT_ID, location = REGION)"
   ]
  },
  {
   "cell_type": "markdown",
   "id": "15bb57d0-53c3-455a-8e5f-dd787104f83c",
   "metadata": {},
   "source": [
    "parameters:"
   ]
  },
  {
   "cell_type": "code",
   "execution_count": 5,
   "id": "b32cc822-7823-4879-a623-f8e4bd0b2c82",
   "metadata": {},
   "outputs": [],
   "source": [
    "TIMESTAMP = datetime.now().strftime(\"%Y%m%d%H%M%S\")\n",
    "BUCKET = PROJECT_ID\n",
    "URI = f\"gs://{BUCKET}/{SERIES}/{EXPERIMENT}\"\n",
    "RUN_NAME = f'run-{TIMESTAMP}'\n",
    "\n",
    "BQ_MODEL = f'{SERIES}_{EXPERIMENT}_{TIMESTAMP}'"
   ]
  },
  {
   "cell_type": "markdown",
   "id": "01521a3f-d6e8-4136-8581-43345b2184e6",
   "metadata": {},
   "source": [
    "environment:"
   ]
  },
  {
   "cell_type": "code",
   "execution_count": 6,
   "id": "34f25162-354e-48cd-b621-274c26614e74",
   "metadata": {},
   "outputs": [],
   "source": [
    "DIR = f\"temp/{EXPERIMENT}\"\n",
    "\n",
    "!rm -rf {DIR}\n",
    "!mkdir -p {DIR}"
   ]
  },
  {
   "cell_type": "code",
   "execution_count": 7,
   "id": "9701780f-3a4a-44dd-8009-1c684c84b3a1",
   "metadata": {
    "tags": []
   },
   "outputs": [
    {
     "data": {
      "text/html": [
       "<div>\n",
       "<style scoped>\n",
       "    .dataframe tbody tr th:only-of-type {\n",
       "        vertical-align: middle;\n",
       "    }\n",
       "\n",
       "    .dataframe tbody tr th {\n",
       "        vertical-align: top;\n",
       "    }\n",
       "\n",
       "    .dataframe thead th {\n",
       "        text-align: right;\n",
       "    }\n",
       "</style>\n",
       "<table border=\"1\" class=\"dataframe\">\n",
       "  <thead>\n",
       "    <tr style=\"text-align: right;\">\n",
       "      <th></th>\n",
       "      <th>Time</th>\n",
       "      <th>V1</th>\n",
       "      <th>V2</th>\n",
       "      <th>V3</th>\n",
       "      <th>V4</th>\n",
       "      <th>V5</th>\n",
       "      <th>V6</th>\n",
       "      <th>V7</th>\n",
       "      <th>V8</th>\n",
       "      <th>V9</th>\n",
       "      <th>...</th>\n",
       "      <th>V21</th>\n",
       "      <th>V22</th>\n",
       "      <th>V23</th>\n",
       "      <th>V24</th>\n",
       "      <th>V25</th>\n",
       "      <th>V26</th>\n",
       "      <th>V27</th>\n",
       "      <th>V28</th>\n",
       "      <th>Amount</th>\n",
       "      <th>Class</th>\n",
       "    </tr>\n",
       "  </thead>\n",
       "  <tbody>\n",
       "    <tr>\n",
       "      <th>0</th>\n",
       "      <td>282.0</td>\n",
       "      <td>-0.356466</td>\n",
       "      <td>0.725418</td>\n",
       "      <td>1.971749</td>\n",
       "      <td>0.831343</td>\n",
       "      <td>0.369681</td>\n",
       "      <td>-0.107776</td>\n",
       "      <td>0.751610</td>\n",
       "      <td>-0.120166</td>\n",
       "      <td>-0.420675</td>\n",
       "      <td>...</td>\n",
       "      <td>0.020804</td>\n",
       "      <td>0.424312</td>\n",
       "      <td>-0.015989</td>\n",
       "      <td>0.466754</td>\n",
       "      <td>-0.809962</td>\n",
       "      <td>0.657334</td>\n",
       "      <td>-0.043150</td>\n",
       "      <td>-0.046401</td>\n",
       "      <td>0.0</td>\n",
       "      <td>0</td>\n",
       "    </tr>\n",
       "    <tr>\n",
       "      <th>1</th>\n",
       "      <td>14332.0</td>\n",
       "      <td>1.071950</td>\n",
       "      <td>0.340678</td>\n",
       "      <td>1.784068</td>\n",
       "      <td>2.846396</td>\n",
       "      <td>-0.751538</td>\n",
       "      <td>0.403028</td>\n",
       "      <td>-0.734920</td>\n",
       "      <td>0.205807</td>\n",
       "      <td>1.092726</td>\n",
       "      <td>...</td>\n",
       "      <td>-0.169632</td>\n",
       "      <td>-0.113604</td>\n",
       "      <td>0.067643</td>\n",
       "      <td>0.468669</td>\n",
       "      <td>0.223541</td>\n",
       "      <td>-0.112355</td>\n",
       "      <td>0.014015</td>\n",
       "      <td>0.021504</td>\n",
       "      <td>0.0</td>\n",
       "      <td>0</td>\n",
       "    </tr>\n",
       "    <tr>\n",
       "      <th>2</th>\n",
       "      <td>32799.0</td>\n",
       "      <td>1.153477</td>\n",
       "      <td>-0.047859</td>\n",
       "      <td>1.358363</td>\n",
       "      <td>1.480620</td>\n",
       "      <td>-1.222598</td>\n",
       "      <td>-0.481690</td>\n",
       "      <td>-0.654461</td>\n",
       "      <td>0.128115</td>\n",
       "      <td>0.907095</td>\n",
       "      <td>...</td>\n",
       "      <td>0.125514</td>\n",
       "      <td>0.480049</td>\n",
       "      <td>-0.025964</td>\n",
       "      <td>0.701843</td>\n",
       "      <td>0.417245</td>\n",
       "      <td>-0.257691</td>\n",
       "      <td>0.060115</td>\n",
       "      <td>0.035332</td>\n",
       "      <td>0.0</td>\n",
       "      <td>0</td>\n",
       "    </tr>\n",
       "    <tr>\n",
       "      <th>3</th>\n",
       "      <td>35799.0</td>\n",
       "      <td>-0.769798</td>\n",
       "      <td>0.622325</td>\n",
       "      <td>0.242491</td>\n",
       "      <td>-0.586652</td>\n",
       "      <td>0.527819</td>\n",
       "      <td>-0.104512</td>\n",
       "      <td>0.209909</td>\n",
       "      <td>0.669861</td>\n",
       "      <td>-0.304509</td>\n",
       "      <td>...</td>\n",
       "      <td>0.152738</td>\n",
       "      <td>0.255654</td>\n",
       "      <td>-0.130237</td>\n",
       "      <td>-0.660934</td>\n",
       "      <td>-0.493374</td>\n",
       "      <td>0.331855</td>\n",
       "      <td>-0.011101</td>\n",
       "      <td>0.049089</td>\n",
       "      <td>0.0</td>\n",
       "      <td>0</td>\n",
       "    </tr>\n",
       "    <tr>\n",
       "      <th>4</th>\n",
       "      <td>36419.0</td>\n",
       "      <td>1.047960</td>\n",
       "      <td>0.145048</td>\n",
       "      <td>1.624573</td>\n",
       "      <td>2.932652</td>\n",
       "      <td>-0.726574</td>\n",
       "      <td>0.690451</td>\n",
       "      <td>-0.627288</td>\n",
       "      <td>0.278709</td>\n",
       "      <td>0.318434</td>\n",
       "      <td>...</td>\n",
       "      <td>0.078499</td>\n",
       "      <td>0.658942</td>\n",
       "      <td>-0.067810</td>\n",
       "      <td>0.476882</td>\n",
       "      <td>0.526830</td>\n",
       "      <td>0.219902</td>\n",
       "      <td>0.070627</td>\n",
       "      <td>0.028488</td>\n",
       "      <td>0.0</td>\n",
       "      <td>0</td>\n",
       "    </tr>\n",
       "  </tbody>\n",
       "</table>\n",
       "<p>5 rows × 31 columns</p>\n",
       "</div>"
      ],
      "text/plain": [
       "      Time        V1        V2        V3        V4        V5        V6  \\\n",
       "0    282.0 -0.356466  0.725418  1.971749  0.831343  0.369681 -0.107776   \n",
       "1  14332.0  1.071950  0.340678  1.784068  2.846396 -0.751538  0.403028   \n",
       "2  32799.0  1.153477 -0.047859  1.358363  1.480620 -1.222598 -0.481690   \n",
       "3  35799.0 -0.769798  0.622325  0.242491 -0.586652  0.527819 -0.104512   \n",
       "4  36419.0  1.047960  0.145048  1.624573  2.932652 -0.726574  0.690451   \n",
       "\n",
       "         V7        V8        V9  ...       V21       V22       V23       V24  \\\n",
       "0  0.751610 -0.120166 -0.420675  ...  0.020804  0.424312 -0.015989  0.466754   \n",
       "1 -0.734920  0.205807  1.092726  ... -0.169632 -0.113604  0.067643  0.468669   \n",
       "2 -0.654461  0.128115  0.907095  ...  0.125514  0.480049 -0.025964  0.701843   \n",
       "3  0.209909  0.669861 -0.304509  ...  0.152738  0.255654 -0.130237 -0.660934   \n",
       "4 -0.627288  0.278709  0.318434  ...  0.078499  0.658942 -0.067810  0.476882   \n",
       "\n",
       "        V25       V26       V27       V28  Amount  Class  \n",
       "0 -0.809962  0.657334 -0.043150 -0.046401     0.0      0  \n",
       "1  0.223541 -0.112355  0.014015  0.021504     0.0      0  \n",
       "2  0.417245 -0.257691  0.060115  0.035332     0.0      0  \n",
       "3 -0.493374  0.331855 -0.011101  0.049089     0.0      0  \n",
       "4  0.526830  0.219902  0.070627  0.028488     0.0      0  \n",
       "\n",
       "[5 rows x 31 columns]"
      ]
     },
     "execution_count": 7,
     "metadata": {},
     "output_type": "execute_result"
    }
   ],
   "source": [
    "query = f\"\"\"\n",
    "SELECT * FROM `bigquery-public-data.ml_datasets.ulb_fraud_detection` LIMIT 5\n",
    "\"\"\"\n",
    "bq.query(query = query).to_dataframe()"
   ]
  },
  {
   "cell_type": "code",
   "execution_count": 8,
   "id": "6aa774db-ab18-4079-a174-0db48b5c9171",
   "metadata": {
    "tags": []
   },
   "outputs": [
    {
     "name": "stdout",
     "output_type": "stream",
     "text": [
      "Dataset vertexaiproject-454121.fraud created or already exists.\n"
     ]
    }
   ],
   "source": [
    "dataset_id = f\"{BQ_PROJECT}.{BQ_DATASET}\"  # e.g., vertexaiproject-454121.fraud\n",
    "dataset = bigquery.Dataset(dataset_id)\n",
    "bq.create_dataset(dataset, exists_ok=True)\n",
    "print(f\"Dataset {dataset_id} created or already exists.\")"
   ]
  },
  {
   "cell_type": "code",
   "execution_count": 9,
   "id": "63ab6ea5-0d39-411a-8ab7-838a4699f82c",
   "metadata": {
    "tags": []
   },
   "outputs": [
    {
     "data": {
      "text/plain": [
       "<google.cloud.bigquery.table._EmptyRowIterator at 0x7f56ea543850>"
      ]
     },
     "execution_count": 9,
     "metadata": {},
     "output_type": "execute_result"
    }
   ],
   "source": [
    "query = f\"\"\"\n",
    "CREATE OR REPLACE TABLE `{BQ_PROJECT}.{BQ_DATASET}.{BQ_TABLE}` AS\n",
    "SELECT\n",
    "  *,\n",
    "  CASE\n",
    "    WHEN RAND() < 0.7 THEN 'TRAIN'\n",
    "    WHEN RAND() < 0.85 THEN 'VALIDATE'\n",
    "    ELSE 'TEST'\n",
    "  END AS splits\n",
    "FROM\n",
    "  `bigquery-public-data.ml_datasets.ulb_fraud_detection`;\n",
    "\"\"\"\n",
    "bq.query(query).result()  # Just execute, no dataframe here"
   ]
  },
  {
   "cell_type": "markdown",
   "id": "4c1213c0-ff86-4452-ac93-43c8a5c30912",
   "metadata": {},
   "source": [
    "Review the number of records for each level of Class (VAR_TARGET) for each of the data splits:"
   ]
  },
  {
   "cell_type": "code",
   "execution_count": 10,
   "id": "0d37f4a4-1603-493a-8549-7f1327ace90d",
   "metadata": {},
   "outputs": [
    {
     "data": {
      "text/html": [
       "<div>\n",
       "<style scoped>\n",
       "    .dataframe tbody tr th:only-of-type {\n",
       "        vertical-align: middle;\n",
       "    }\n",
       "\n",
       "    .dataframe tbody tr th {\n",
       "        vertical-align: top;\n",
       "    }\n",
       "\n",
       "    .dataframe thead th {\n",
       "        text-align: right;\n",
       "    }\n",
       "</style>\n",
       "<table border=\"1\" class=\"dataframe\">\n",
       "  <thead>\n",
       "    <tr style=\"text-align: right;\">\n",
       "      <th></th>\n",
       "      <th>splits</th>\n",
       "      <th>Class</th>\n",
       "      <th>n</th>\n",
       "    </tr>\n",
       "  </thead>\n",
       "  <tbody>\n",
       "    <tr>\n",
       "      <th>0</th>\n",
       "      <td>TEST</td>\n",
       "      <td>0</td>\n",
       "      <td>12599</td>\n",
       "    </tr>\n",
       "    <tr>\n",
       "      <th>1</th>\n",
       "      <td>TEST</td>\n",
       "      <td>1</td>\n",
       "      <td>19</td>\n",
       "    </tr>\n",
       "    <tr>\n",
       "      <th>2</th>\n",
       "      <td>TRAIN</td>\n",
       "      <td>0</td>\n",
       "      <td>198663</td>\n",
       "    </tr>\n",
       "    <tr>\n",
       "      <th>3</th>\n",
       "      <td>TRAIN</td>\n",
       "      <td>1</td>\n",
       "      <td>338</td>\n",
       "    </tr>\n",
       "    <tr>\n",
       "      <th>4</th>\n",
       "      <td>VALIDATE</td>\n",
       "      <td>0</td>\n",
       "      <td>73053</td>\n",
       "    </tr>\n",
       "    <tr>\n",
       "      <th>5</th>\n",
       "      <td>VALIDATE</td>\n",
       "      <td>1</td>\n",
       "      <td>135</td>\n",
       "    </tr>\n",
       "  </tbody>\n",
       "</table>\n",
       "</div>"
      ],
      "text/plain": [
       "     splits  Class       n\n",
       "0      TEST      0   12599\n",
       "1      TEST      1      19\n",
       "2     TRAIN      0  198663\n",
       "3     TRAIN      1     338\n",
       "4  VALIDATE      0   73053\n",
       "5  VALIDATE      1     135"
      ]
     },
     "execution_count": 10,
     "metadata": {},
     "output_type": "execute_result"
    }
   ],
   "source": [
    "query = f\"\"\"\n",
    "SELECT splits, {VAR_TARGET}, count(*) as n\n",
    "FROM `{BQ_PROJECT}.{BQ_DATASET}.{BQ_TABLE}`\n",
    "GROUP BY splits, {VAR_TARGET}\n",
    "\"\"\"\n",
    "bq.query(query = query).to_dataframe()"
   ]
  },
  {
   "cell_type": "code",
   "execution_count": 11,
   "id": "d780a4ca-c960-437b-97d5-f41f29bae6f5",
   "metadata": {
    "tags": []
   },
   "outputs": [
    {
     "data": {
      "text/html": [
       "<div>\n",
       "<style scoped>\n",
       "    .dataframe tbody tr th:only-of-type {\n",
       "        vertical-align: middle;\n",
       "    }\n",
       "\n",
       "    .dataframe tbody tr th {\n",
       "        vertical-align: top;\n",
       "    }\n",
       "\n",
       "    .dataframe thead th {\n",
       "        text-align: right;\n",
       "    }\n",
       "</style>\n",
       "<table border=\"1\" class=\"dataframe\">\n",
       "  <thead>\n",
       "    <tr style=\"text-align: right;\">\n",
       "      <th></th>\n",
       "      <th>Time</th>\n",
       "      <th>V1</th>\n",
       "      <th>V2</th>\n",
       "      <th>V3</th>\n",
       "      <th>V4</th>\n",
       "      <th>V5</th>\n",
       "      <th>V6</th>\n",
       "      <th>V7</th>\n",
       "      <th>V8</th>\n",
       "      <th>V9</th>\n",
       "      <th>...</th>\n",
       "      <th>V22</th>\n",
       "      <th>V23</th>\n",
       "      <th>V24</th>\n",
       "      <th>V25</th>\n",
       "      <th>V26</th>\n",
       "      <th>V27</th>\n",
       "      <th>V28</th>\n",
       "      <th>Amount</th>\n",
       "      <th>Class</th>\n",
       "      <th>splits</th>\n",
       "    </tr>\n",
       "  </thead>\n",
       "  <tbody>\n",
       "    <tr>\n",
       "      <th>0</th>\n",
       "      <td>147033.0</td>\n",
       "      <td>1.933231</td>\n",
       "      <td>-0.256899</td>\n",
       "      <td>-1.469989</td>\n",
       "      <td>0.186463</td>\n",
       "      <td>0.846449</td>\n",
       "      <td>0.959571</td>\n",
       "      <td>-0.142888</td>\n",
       "      <td>0.290694</td>\n",
       "      <td>0.380634</td>\n",
       "      <td>...</td>\n",
       "      <td>-0.210843</td>\n",
       "      <td>0.275371</td>\n",
       "      <td>-1.635647</td>\n",
       "      <td>-0.324657</td>\n",
       "      <td>0.208474</td>\n",
       "      <td>-0.015796</td>\n",
       "      <td>-0.088955</td>\n",
       "      <td>0.0</td>\n",
       "      <td>0</td>\n",
       "      <td>TEST</td>\n",
       "    </tr>\n",
       "    <tr>\n",
       "      <th>1</th>\n",
       "      <td>52904.0</td>\n",
       "      <td>1.365294</td>\n",
       "      <td>0.084424</td>\n",
       "      <td>-0.030069</td>\n",
       "      <td>-0.270423</td>\n",
       "      <td>-0.124210</td>\n",
       "      <td>-0.703943</td>\n",
       "      <td>0.051771</td>\n",
       "      <td>-0.214651</td>\n",
       "      <td>0.212103</td>\n",
       "      <td>...</td>\n",
       "      <td>-0.789833</td>\n",
       "      <td>0.006146</td>\n",
       "      <td>-0.391612</td>\n",
       "      <td>0.295629</td>\n",
       "      <td>0.897963</td>\n",
       "      <td>-0.085714</td>\n",
       "      <td>-0.004026</td>\n",
       "      <td>0.0</td>\n",
       "      <td>0</td>\n",
       "      <td>TEST</td>\n",
       "    </tr>\n",
       "    <tr>\n",
       "      <th>2</th>\n",
       "      <td>73868.0</td>\n",
       "      <td>-0.422347</td>\n",
       "      <td>1.531719</td>\n",
       "      <td>1.711154</td>\n",
       "      <td>2.064467</td>\n",
       "      <td>0.742043</td>\n",
       "      <td>-0.149985</td>\n",
       "      <td>0.982804</td>\n",
       "      <td>-0.095459</td>\n",
       "      <td>-1.782018</td>\n",
       "      <td>...</td>\n",
       "      <td>-1.315610</td>\n",
       "      <td>-0.013144</td>\n",
       "      <td>-0.176537</td>\n",
       "      <td>-0.242915</td>\n",
       "      <td>-0.382894</td>\n",
       "      <td>0.084841</td>\n",
       "      <td>0.114663</td>\n",
       "      <td>0.0</td>\n",
       "      <td>0</td>\n",
       "      <td>TEST</td>\n",
       "    </tr>\n",
       "    <tr>\n",
       "      <th>3</th>\n",
       "      <td>73700.0</td>\n",
       "      <td>-0.504772</td>\n",
       "      <td>0.762501</td>\n",
       "      <td>1.535679</td>\n",
       "      <td>-0.782013</td>\n",
       "      <td>0.135575</td>\n",
       "      <td>-1.046358</td>\n",
       "      <td>0.978529</td>\n",
       "      <td>-0.730795</td>\n",
       "      <td>0.276207</td>\n",
       "      <td>...</td>\n",
       "      <td>-0.483168</td>\n",
       "      <td>-0.103865</td>\n",
       "      <td>0.422502</td>\n",
       "      <td>-0.382030</td>\n",
       "      <td>0.698180</td>\n",
       "      <td>-0.951370</td>\n",
       "      <td>-0.408880</td>\n",
       "      <td>0.0</td>\n",
       "      <td>0</td>\n",
       "      <td>TEST</td>\n",
       "    </tr>\n",
       "    <tr>\n",
       "      <th>4</th>\n",
       "      <td>136120.0</td>\n",
       "      <td>-0.387758</td>\n",
       "      <td>1.805715</td>\n",
       "      <td>0.833970</td>\n",
       "      <td>4.436973</td>\n",
       "      <td>0.470737</td>\n",
       "      <td>0.412789</td>\n",
       "      <td>0.474675</td>\n",
       "      <td>0.092787</td>\n",
       "      <td>-1.923438</td>\n",
       "      <td>...</td>\n",
       "      <td>1.356724</td>\n",
       "      <td>-0.290147</td>\n",
       "      <td>-0.033572</td>\n",
       "      <td>-0.412774</td>\n",
       "      <td>0.586723</td>\n",
       "      <td>-0.352233</td>\n",
       "      <td>-0.087373</td>\n",
       "      <td>0.0</td>\n",
       "      <td>0</td>\n",
       "      <td>TEST</td>\n",
       "    </tr>\n",
       "  </tbody>\n",
       "</table>\n",
       "<p>5 rows × 32 columns</p>\n",
       "</div>"
      ],
      "text/plain": [
       "       Time        V1        V2        V3        V4        V5        V6  \\\n",
       "0  147033.0  1.933231 -0.256899 -1.469989  0.186463  0.846449  0.959571   \n",
       "1   52904.0  1.365294  0.084424 -0.030069 -0.270423 -0.124210 -0.703943   \n",
       "2   73868.0 -0.422347  1.531719  1.711154  2.064467  0.742043 -0.149985   \n",
       "3   73700.0 -0.504772  0.762501  1.535679 -0.782013  0.135575 -1.046358   \n",
       "4  136120.0 -0.387758  1.805715  0.833970  4.436973  0.470737  0.412789   \n",
       "\n",
       "         V7        V8        V9  ...       V22       V23       V24       V25  \\\n",
       "0 -0.142888  0.290694  0.380634  ... -0.210843  0.275371 -1.635647 -0.324657   \n",
       "1  0.051771 -0.214651  0.212103  ... -0.789833  0.006146 -0.391612  0.295629   \n",
       "2  0.982804 -0.095459 -1.782018  ... -1.315610 -0.013144 -0.176537 -0.242915   \n",
       "3  0.978529 -0.730795  0.276207  ... -0.483168 -0.103865  0.422502 -0.382030   \n",
       "4  0.474675  0.092787 -1.923438  ...  1.356724 -0.290147 -0.033572 -0.412774   \n",
       "\n",
       "        V26       V27       V28  Amount  Class  splits  \n",
       "0  0.208474 -0.015796 -0.088955     0.0      0    TEST  \n",
       "1  0.897963 -0.085714 -0.004026     0.0      0    TEST  \n",
       "2 -0.382894  0.084841  0.114663     0.0      0    TEST  \n",
       "3  0.698180 -0.951370 -0.408880     0.0      0    TEST  \n",
       "4  0.586723 -0.352233 -0.087373     0.0      0    TEST  \n",
       "\n",
       "[5 rows x 32 columns]"
      ]
     },
     "execution_count": 11,
     "metadata": {},
     "output_type": "execute_result"
    }
   ],
   "source": [
    "query = f\"\"\"\n",
    "SELECT * FROM `{BQ_PROJECT}.{BQ_DATASET}.{BQ_TABLE}` LIMIT 5\n",
    "\"\"\"\n",
    "bq.query(query = query).to_dataframe()"
   ]
  },
  {
   "cell_type": "markdown",
   "id": "d63cd5e9-bfaa-4b69-a30d-ff4bd42b540b",
   "metadata": {},
   "source": [
    "Further review the balance of the target variable (VAR_TARGET) for each split as a percentage of the split:"
   ]
  },
  {
   "cell_type": "code",
   "execution_count": 12,
   "id": "02e27e14-927a-409e-bc35-abfe45863362",
   "metadata": {},
   "outputs": [
    {
     "data": {
      "text/html": [
       "<div>\n",
       "<style scoped>\n",
       "    .dataframe tbody tr th:only-of-type {\n",
       "        vertical-align: middle;\n",
       "    }\n",
       "\n",
       "    .dataframe tbody tr th {\n",
       "        vertical-align: top;\n",
       "    }\n",
       "\n",
       "    .dataframe thead th {\n",
       "        text-align: right;\n",
       "    }\n",
       "</style>\n",
       "<table border=\"1\" class=\"dataframe\">\n",
       "  <thead>\n",
       "    <tr style=\"text-align: right;\">\n",
       "      <th></th>\n",
       "      <th>splits</th>\n",
       "      <th>Class</th>\n",
       "      <th>n</th>\n",
       "      <th>total</th>\n",
       "      <th>n_pct_class</th>\n",
       "      <th>n_pct_split</th>\n",
       "      <th>class_pct_total</th>\n",
       "    </tr>\n",
       "  </thead>\n",
       "  <tbody>\n",
       "    <tr>\n",
       "      <th>0</th>\n",
       "      <td>VALIDATE</td>\n",
       "      <td>1</td>\n",
       "      <td>135</td>\n",
       "      <td>284807</td>\n",
       "      <td>0.274390</td>\n",
       "      <td>0.001845</td>\n",
       "      <td>0.001727</td>\n",
       "    </tr>\n",
       "    <tr>\n",
       "      <th>1</th>\n",
       "      <td>VALIDATE</td>\n",
       "      <td>0</td>\n",
       "      <td>73053</td>\n",
       "      <td>284807</td>\n",
       "      <td>0.256944</td>\n",
       "      <td>0.998155</td>\n",
       "      <td>0.998273</td>\n",
       "    </tr>\n",
       "    <tr>\n",
       "      <th>2</th>\n",
       "      <td>TRAIN</td>\n",
       "      <td>1</td>\n",
       "      <td>338</td>\n",
       "      <td>284807</td>\n",
       "      <td>0.686992</td>\n",
       "      <td>0.001698</td>\n",
       "      <td>0.001727</td>\n",
       "    </tr>\n",
       "    <tr>\n",
       "      <th>3</th>\n",
       "      <td>TRAIN</td>\n",
       "      <td>0</td>\n",
       "      <td>198663</td>\n",
       "      <td>284807</td>\n",
       "      <td>0.698743</td>\n",
       "      <td>0.998302</td>\n",
       "      <td>0.998273</td>\n",
       "    </tr>\n",
       "    <tr>\n",
       "      <th>4</th>\n",
       "      <td>TEST</td>\n",
       "      <td>1</td>\n",
       "      <td>19</td>\n",
       "      <td>284807</td>\n",
       "      <td>0.038618</td>\n",
       "      <td>0.001506</td>\n",
       "      <td>0.001727</td>\n",
       "    </tr>\n",
       "    <tr>\n",
       "      <th>5</th>\n",
       "      <td>TEST</td>\n",
       "      <td>0</td>\n",
       "      <td>12599</td>\n",
       "      <td>284807</td>\n",
       "      <td>0.044314</td>\n",
       "      <td>0.998494</td>\n",
       "      <td>0.998273</td>\n",
       "    </tr>\n",
       "  </tbody>\n",
       "</table>\n",
       "</div>"
      ],
      "text/plain": [
       "     splits  Class       n   total  n_pct_class  n_pct_split  class_pct_total\n",
       "0  VALIDATE      1     135  284807     0.274390     0.001845         0.001727\n",
       "1  VALIDATE      0   73053  284807     0.256944     0.998155         0.998273\n",
       "2     TRAIN      1     338  284807     0.686992     0.001698         0.001727\n",
       "3     TRAIN      0  198663  284807     0.698743     0.998302         0.998273\n",
       "4      TEST      1      19  284807     0.038618     0.001506         0.001727\n",
       "5      TEST      0   12599  284807     0.044314     0.998494         0.998273"
      ]
     },
     "execution_count": 12,
     "metadata": {},
     "output_type": "execute_result"
    }
   ],
   "source": [
    "query = f\"\"\"\n",
    "WITH\n",
    "    COUNTS as (SELECT splits, {VAR_TARGET}, count(*) as n FROM `{BQ_PROJECT}.{BQ_DATASET}.{BQ_TABLE}` GROUP BY splits, {VAR_TARGET})\n",
    "    \n",
    "SELECT *,\n",
    "    SUM(n) OVER() as total,\n",
    "    SAFE_DIVIDE(n, SUM(n) OVER(PARTITION BY {VAR_TARGET})) as n_pct_class,\n",
    "    SAFE_DIVIDE(n, SUM(n) OVER(PARTITION BY splits)) as n_pct_split,\n",
    "    SAFE_DIVIDE(SUM(n) OVER(PARTITION BY {VAR_TARGET}), SUM(n) OVER()) as class_pct_total\n",
    "FROM COUNTS\n",
    "\"\"\"\n",
    "review = bq.query(query = query).to_dataframe()\n",
    "review"
   ]
  },
  {
   "cell_type": "code",
   "execution_count": null,
   "id": "44884f6c-2d4e-4d29-9a3c-e1e4d2477364",
   "metadata": {},
   "outputs": [],
   "source": []
  },
  {
   "cell_type": "markdown",
   "id": "f022d181-6238-432c-8f2d-e8d3ccc6c147",
   "metadata": {},
   "source": [
    "---\n",
    "## This Run"
   ]
  },
  {
   "cell_type": "code",
   "execution_count": 13,
   "id": "9e0d4b1e-543e-46a0-961e-b058966c0dbd",
   "metadata": {},
   "outputs": [
    {
     "name": "stdout",
     "output_type": "stream",
     "text": [
      "This run will create BQML model: vertexaiproject-454121.fraud.bqml_logistic-regression-hpt_20250423231102\n",
      "This run will create Vertex AI model: vertexaiproject-454121.fraud.bqml_bqml_logistic-regression-hpt\n",
      "The runs timestamp Is: 20250423231102\n"
     ]
    }
   ],
   "source": [
    "print(f'This run will create BQML model: {BQ_PROJECT}.{BQ_DATASET}.{BQ_MODEL}')\n",
    "print(f'This run will create Vertex AI model: {BQ_PROJECT}.{BQ_DATASET}.bqml_{SERIES}_{EXPERIMENT}')\n",
    "print(f'The runs timestamp Is: {TIMESTAMP}')"
   ]
  },
  {
   "cell_type": "markdown",
   "id": "fc257a93-a489-4af4-b498-9ef7115c767a",
   "metadata": {},
   "source": [
    "---\n",
    "## Train Model\n",
    "\n",
    "Use BigQuery ML to train multiclass logistic regression model:\n",
    "- [Logistic Regression](https://cloud.google.com/bigquery-ml/docs/reference/standard-sql/bigqueryml-syntax-create-glm) with BigQuery ML (BQML)\n",
    "- This uses the `splits` column that notebook `01` created\n",
    "- `data_split_method = CUSTOM` uses the column in `data_split_col` to assign `TRAIN`, `EVAL`, and `TEST` data splits.\n",
    "    - the `CASE` statement maps the validation data to `EVAL` as expected by hyperparameter tuning (rather than `VALIDATE`)\n",
    "    - note that this is different behavior for `data_split_col` with hyperparameter tuning than without hyperparameter tuning\n",
    "    - hyperparameter suggestions are based on the metric calculated with the evaluation data at each intermediate step\n",
    "    \n",
    "This example includes the [training options](https://cloud.google.com/bigquery-ml/docs/create_vertex) to register the resulting model in the [Vertex AI Model Registry](https://cloud.google.com/vertex-ai/docs/model-registry/introduction).\n",
    "\n",
    "**Hyperparameter Tuning**\n",
    "\n",
    "The [following options](https://cloud.google.com/bigquery-ml/docs/reference/standard-sql/bigqueryml-hyperparameter-tuning#create_model_syntax) are added to the model training code for BQML to guide the hyperparameter tuning of `L1` and `L2` regularization:\n",
    "\n",
    "```SQL\n",
    "l1_reg = HPARAM_RANGE(0, 1000),\n",
    "l2_reg = HPARAM_RANGE(0, 1000),\n",
    "hparam_tuning_algorithm = 'VIZIER_DEFAULT',\n",
    "hparam_tuning_objectives = ['ROC_AUC'],\n",
    "num_trials = 20,\n",
    "max_parallel_trials = 2\n",
    "```\n",
    "\n",
    "This instructs BQML to use the Vertex AI Vizier service to find values of `l1_reg` and `l2_reg` that optimize 'roc_auc' by doing 4 trials at a time until 20 trials have been completed.\n"
   ]
  },
  {
   "cell_type": "code",
   "execution_count": 14,
   "id": "1e42c159-4f68-465d-b612-8ea4b822a38a",
   "metadata": {},
   "outputs": [
    {
     "name": "stdout",
     "output_type": "stream",
     "text": [
      "\n",
      "CREATE OR REPLACE MODEL `vertexaiproject-454121.fraud.bqml_logistic-regression-hpt_20250423231102`\n",
      "OPTIONS\n",
      "    (model_type = 'LOGISTIC_REG',\n",
      "        auto_class_weights = TRUE,\n",
      "        input_label_cols = ['Class'],\n",
      "        enable_global_explain = TRUE,\n",
      "        data_split_col = 'custom_splits',\n",
      "        data_split_method = 'CUSTOM',\n",
      "        l1_reg = HPARAM_RANGE(0, 1000),\n",
      "        l2_reg = HPARAM_RANGE(0, 1000),\n",
      "        hparam_tuning_algorithm = 'VIZIER_DEFAULT',\n",
      "        hparam_tuning_objectives = ['ROC_AUC'],\n",
      "        num_trials = 2,\n",
      "        max_parallel_trials = 2,\n",
      "        MODEL_REGISTRY = 'VERTEX_AI',\n",
      "        VERTEX_AI_MODEL_ID = 'bqml_bqml_logistic-regression-hpt',\n",
      "        VERTEX_AI_MODEL_VERSION_ALIASES = ['run-20250423231102']\n",
      "    ) AS\n",
      "SELECT *  ,\n",
      "    CASE\n",
      "        WHEN splits = 'VALIDATE' THEN 'EVAL'\n",
      "        ELSE splits\n",
      "    END AS custom_splits\n",
      "FROM `vertexaiproject-454121.fraud.fraud_prepped`\n",
      "\n"
     ]
    }
   ],
   "source": [
    "query = f\"\"\"\n",
    "CREATE OR REPLACE MODEL `{BQ_PROJECT}.{BQ_DATASET}.{BQ_MODEL}`\n",
    "OPTIONS\n",
    "    (model_type = 'LOGISTIC_REG',\n",
    "        auto_class_weights = TRUE,\n",
    "        input_label_cols = ['{VAR_TARGET}'],\n",
    "        enable_global_explain = TRUE,\n",
    "        data_split_col = 'custom_splits',\n",
    "        data_split_method = 'CUSTOM',\n",
    "        l1_reg = HPARAM_RANGE(0, 1000),\n",
    "        l2_reg = HPARAM_RANGE(0, 1000),\n",
    "        hparam_tuning_algorithm = 'VIZIER_DEFAULT',\n",
    "        hparam_tuning_objectives = ['ROC_AUC'],\n",
    "        num_trials = 2,\n",
    "        max_parallel_trials = 2,\n",
    "        MODEL_REGISTRY = 'VERTEX_AI',\n",
    "        VERTEX_AI_MODEL_ID = 'bqml_{SERIES}_{EXPERIMENT}',\n",
    "        VERTEX_AI_MODEL_VERSION_ALIASES = ['{RUN_NAME}']\n",
    "    ) AS\n",
    "SELECT *  ,\n",
    "    CASE\n",
    "        WHEN splits = 'VALIDATE' THEN 'EVAL'\n",
    "        ELSE splits\n",
    "    END AS custom_splits\n",
    "FROM `{BQ_PROJECT}.{BQ_DATASET}.{BQ_TABLE}`\n",
    "\"\"\"\n",
    "print(query)"
   ]
  },
  {
   "cell_type": "code",
   "execution_count": 15,
   "id": "118cf076-90f1-403c-9d8e-1ae6b1907426",
   "metadata": {},
   "outputs": [
    {
     "data": {
      "text/plain": [
       "<google.cloud.bigquery.table._EmptyRowIterator at 0x7f56ea5420b0>"
      ]
     },
     "execution_count": 15,
     "metadata": {},
     "output_type": "execute_result"
    }
   ],
   "source": [
    "job = bq.query(query = query)\n",
    "job.result()"
   ]
  },
  {
   "cell_type": "code",
   "execution_count": 16,
   "id": "e3a6b5f1",
   "metadata": {},
   "outputs": [
    {
     "data": {
      "text/plain": [
       "154.185"
      ]
     },
     "execution_count": 16,
     "metadata": {},
     "output_type": "execute_result"
    }
   ],
   "source": [
    "(job.ended-job.started).total_seconds()"
   ]
  },
  {
   "cell_type": "code",
   "execution_count": 17,
   "id": "de17d955-6c31-46e6-8fb5-f9fc44be2257",
   "metadata": {},
   "outputs": [
    {
     "data": {
      "text/plain": [
       "145665462"
      ]
     },
     "execution_count": 17,
     "metadata": {},
     "output_type": "execute_result"
    }
   ],
   "source": [
    "job.total_bytes_processed"
   ]
  },
  {
   "cell_type": "markdown",
   "id": "ea01760d-7a0c-4aa7-98db-19bc87df0087",
   "metadata": {},
   "source": [
    "Add labels to the model in BigQuery:"
   ]
  },
  {
   "cell_type": "code",
   "execution_count": 18,
   "id": "13d696f2-a277-422c-9cb0-f2ea8b5b242f",
   "metadata": {},
   "outputs": [],
   "source": [
    "model = bq.get_model(f'{BQ_PROJECT}.{BQ_DATASET}.{BQ_MODEL}')\n",
    "model.labels = {'series' : f'{SERIES}', 'experiment' : f'{EXPERIMENT}'}\n",
    "model = bq.update_model(model, ['labels'])"
   ]
  },
  {
   "cell_type": "markdown",
   "id": "329a78d1-203a-435d-9e78-eff28b07ca6a",
   "metadata": {},
   "source": [
    "### Check out this model in BigQuery Console:\n",
    "- Make sure project selected is the one from this notebook\n",
    "- Under Explore, expand this project and dataset\n",
    "- Expand Models and select the model create here"
   ]
  },
  {
   "cell_type": "code",
   "execution_count": 19,
   "id": "2e612ea8-ff94-4100-8293-5e2d691cfc69",
   "metadata": {},
   "outputs": [
    {
     "name": "stdout",
     "output_type": "stream",
     "text": [
      "BigQuery Console for Project:\n",
      "https://console.cloud.google.com/bigquery?project=vertexaiproject-454121\n"
     ]
    }
   ],
   "source": [
    "print(f'BigQuery Console for Project:\\nhttps://console.cloud.google.com/bigquery?project={PROJECT_ID}')"
   ]
  },
  {
   "cell_type": "code",
   "execution_count": 20,
   "id": "a70136c5-da05-4083-b45e-1c19d4a32c3c",
   "metadata": {},
   "outputs": [
    {
     "name": "stdout",
     "output_type": "stream",
     "text": [
      "Direct link to the model in BigQuery:\n",
      "https://console.cloud.google.com/bigquery?project=vertexaiproject-454121&ws=!1m5!1m4!5m3!1svertexaiproject-454121!2sfraud!3sbqml_logistic-regression-hpt_20250423231102\n"
     ]
    }
   ],
   "source": [
    "print(f'Direct link to the model in BigQuery:\\nhttps://console.cloud.google.com/bigquery?project={PROJECT_ID}&ws=!1m5!1m4!5m3!1s{PROJECT_ID}!2s{BQ_DATASET}!3s{BQ_MODEL}')"
   ]
  },
  {
   "cell_type": "markdown",
   "id": "f02781d8-0722-4c74-8084-c0f1e7250289",
   "metadata": {},
   "source": [
    "\n",
    "BadRequest: 400 GET https://bigquery.googleapis.com/bigquery/v2/projects/vertexaiproject-454121/queries/8535fb9f-2dc3-4352-87af-6f0b3a07354c?maxResults=0&location=US&prettyPrint=false: Column transaction_id in SELECT * EXCEPT list does not exist at [20:17]\n",
    "\n",
    "Location: US\n",
    "Job ID: 8535fb9f-2dc3-4352-87af-6f0b3a07354c### Check out this model in the Vertex AI Model Registry"
   ]
  },
  {
   "cell_type": "code",
   "execution_count": 21,
   "id": "c3a7c3c4-b473-4dcb-8e00-b399982a0673",
   "metadata": {},
   "outputs": [
    {
     "name": "stdout",
     "output_type": "stream",
     "text": [
      "Review the model in the Vertex AI Model Registry:\n",
      "https://console.cloud.google.com/vertex-ai/locations/us-central1/models/bqml_bqml_logistic-regression-hpt_20250423231102?project=vertexaiproject-454121\n"
     ]
    }
   ],
   "source": [
    "print(f'Review the model in the Vertex AI Model Registry:\\nhttps://console.cloud.google.com/vertex-ai/locations/{REGION}/models/bqml_{BQ_MODEL}?project={PROJECT_ID}')"
   ]
  },
  {
   "cell_type": "markdown",
   "id": "8a2bd68c-ce0b-47f7-8770-ef77938030d2",
   "metadata": {},
   "source": [
    "### Feature and Training Review"
   ]
  },
  {
   "cell_type": "markdown",
   "id": "ce7ac227-918e-45e6-8fbf-8a43657ce173",
   "metadata": {},
   "source": [
    "Review the Model Inputs, the feature information, with [ML.FEATURE_INFO](https://cloud.google.com/bigquery-ml/docs/reference/standard-sql/bigqueryml-syntax-feature):"
   ]
  },
  {
   "cell_type": "code",
   "execution_count": 22,
   "id": "6c46cb0a-a82e-4ebe-a85a-181acf8abb7d",
   "metadata": {},
   "outputs": [
    {
     "data": {
      "text/html": [
       "<div>\n",
       "<style scoped>\n",
       "    .dataframe tbody tr th:only-of-type {\n",
       "        vertical-align: middle;\n",
       "    }\n",
       "\n",
       "    .dataframe tbody tr th {\n",
       "        vertical-align: top;\n",
       "    }\n",
       "\n",
       "    .dataframe thead th {\n",
       "        text-align: right;\n",
       "    }\n",
       "</style>\n",
       "<table border=\"1\" class=\"dataframe\">\n",
       "  <thead>\n",
       "    <tr style=\"text-align: right;\">\n",
       "      <th></th>\n",
       "      <th>input</th>\n",
       "      <th>min</th>\n",
       "      <th>max</th>\n",
       "      <th>mean</th>\n",
       "      <th>median</th>\n",
       "      <th>stddev</th>\n",
       "      <th>category_count</th>\n",
       "      <th>null_count</th>\n",
       "      <th>dimension</th>\n",
       "    </tr>\n",
       "  </thead>\n",
       "  <tbody>\n",
       "    <tr>\n",
       "      <th>0</th>\n",
       "      <td>Time</td>\n",
       "      <td>0.000000</td>\n",
       "      <td>172788.000000</td>\n",
       "      <td>94859.590500</td>\n",
       "      <td>84749.000000</td>\n",
       "      <td>47509.951645</td>\n",
       "      <td>&lt;NA&gt;</td>\n",
       "      <td>0</td>\n",
       "      <td>&lt;NA&gt;</td>\n",
       "    </tr>\n",
       "    <tr>\n",
       "      <th>1</th>\n",
       "      <td>V1</td>\n",
       "      <td>-56.407510</td>\n",
       "      <td>2.454930</td>\n",
       "      <td>0.001754</td>\n",
       "      <td>0.013672</td>\n",
       "      <td>1.962686</td>\n",
       "      <td>&lt;NA&gt;</td>\n",
       "      <td>0</td>\n",
       "      <td>&lt;NA&gt;</td>\n",
       "    </tr>\n",
       "    <tr>\n",
       "      <th>2</th>\n",
       "      <td>V2</td>\n",
       "      <td>-72.715728</td>\n",
       "      <td>22.057729</td>\n",
       "      <td>-0.000973</td>\n",
       "      <td>0.054152</td>\n",
       "      <td>1.666919</td>\n",
       "      <td>&lt;NA&gt;</td>\n",
       "      <td>0</td>\n",
       "      <td>&lt;NA&gt;</td>\n",
       "    </tr>\n",
       "    <tr>\n",
       "      <th>3</th>\n",
       "      <td>V3</td>\n",
       "      <td>-48.325589</td>\n",
       "      <td>9.382558</td>\n",
       "      <td>-0.001140</td>\n",
       "      <td>0.173637</td>\n",
       "      <td>1.520541</td>\n",
       "      <td>&lt;NA&gt;</td>\n",
       "      <td>0</td>\n",
       "      <td>&lt;NA&gt;</td>\n",
       "    </tr>\n",
       "    <tr>\n",
       "      <th>4</th>\n",
       "      <td>V4</td>\n",
       "      <td>-5.683171</td>\n",
       "      <td>16.875344</td>\n",
       "      <td>-0.000768</td>\n",
       "      <td>-0.043847</td>\n",
       "      <td>1.415510</td>\n",
       "      <td>&lt;NA&gt;</td>\n",
       "      <td>0</td>\n",
       "      <td>&lt;NA&gt;</td>\n",
       "    </tr>\n",
       "    <tr>\n",
       "      <th>5</th>\n",
       "      <td>V5</td>\n",
       "      <td>-113.743307</td>\n",
       "      <td>34.801666</td>\n",
       "      <td>0.001337</td>\n",
       "      <td>-0.035867</td>\n",
       "      <td>1.388798</td>\n",
       "      <td>&lt;NA&gt;</td>\n",
       "      <td>0</td>\n",
       "      <td>&lt;NA&gt;</td>\n",
       "    </tr>\n",
       "    <tr>\n",
       "      <th>6</th>\n",
       "      <td>V6</td>\n",
       "      <td>-26.160506</td>\n",
       "      <td>73.301626</td>\n",
       "      <td>-0.001702</td>\n",
       "      <td>-0.276471</td>\n",
       "      <td>1.334077</td>\n",
       "      <td>&lt;NA&gt;</td>\n",
       "      <td>0</td>\n",
       "      <td>&lt;NA&gt;</td>\n",
       "    </tr>\n",
       "    <tr>\n",
       "      <th>7</th>\n",
       "      <td>V7</td>\n",
       "      <td>-43.557242</td>\n",
       "      <td>120.589494</td>\n",
       "      <td>0.000041</td>\n",
       "      <td>0.046108</td>\n",
       "      <td>1.249871</td>\n",
       "      <td>&lt;NA&gt;</td>\n",
       "      <td>0</td>\n",
       "      <td>&lt;NA&gt;</td>\n",
       "    </tr>\n",
       "    <tr>\n",
       "      <th>8</th>\n",
       "      <td>V8</td>\n",
       "      <td>-50.420090</td>\n",
       "      <td>20.007208</td>\n",
       "      <td>-0.001415</td>\n",
       "      <td>0.018011</td>\n",
       "      <td>1.194032</td>\n",
       "      <td>&lt;NA&gt;</td>\n",
       "      <td>0</td>\n",
       "      <td>&lt;NA&gt;</td>\n",
       "    </tr>\n",
       "    <tr>\n",
       "      <th>9</th>\n",
       "      <td>V9</td>\n",
       "      <td>-13.434066</td>\n",
       "      <td>15.594995</td>\n",
       "      <td>-0.001354</td>\n",
       "      <td>-0.046717</td>\n",
       "      <td>1.098538</td>\n",
       "      <td>&lt;NA&gt;</td>\n",
       "      <td>0</td>\n",
       "      <td>&lt;NA&gt;</td>\n",
       "    </tr>\n",
       "    <tr>\n",
       "      <th>10</th>\n",
       "      <td>V10</td>\n",
       "      <td>-24.588262</td>\n",
       "      <td>23.745136</td>\n",
       "      <td>-0.001916</td>\n",
       "      <td>-0.090449</td>\n",
       "      <td>1.086692</td>\n",
       "      <td>&lt;NA&gt;</td>\n",
       "      <td>0</td>\n",
       "      <td>&lt;NA&gt;</td>\n",
       "    </tr>\n",
       "    <tr>\n",
       "      <th>11</th>\n",
       "      <td>V11</td>\n",
       "      <td>-4.797473</td>\n",
       "      <td>11.669205</td>\n",
       "      <td>-0.000066</td>\n",
       "      <td>-0.041211</td>\n",
       "      <td>1.020213</td>\n",
       "      <td>&lt;NA&gt;</td>\n",
       "      <td>0</td>\n",
       "      <td>&lt;NA&gt;</td>\n",
       "    </tr>\n",
       "    <tr>\n",
       "      <th>12</th>\n",
       "      <td>V12</td>\n",
       "      <td>-18.683715</td>\n",
       "      <td>4.846452</td>\n",
       "      <td>0.003770</td>\n",
       "      <td>0.136663</td>\n",
       "      <td>0.998557</td>\n",
       "      <td>&lt;NA&gt;</td>\n",
       "      <td>0</td>\n",
       "      <td>&lt;NA&gt;</td>\n",
       "    </tr>\n",
       "    <tr>\n",
       "      <th>13</th>\n",
       "      <td>V13</td>\n",
       "      <td>-4.008640</td>\n",
       "      <td>7.126883</td>\n",
       "      <td>0.001133</td>\n",
       "      <td>-0.025610</td>\n",
       "      <td>0.993873</td>\n",
       "      <td>&lt;NA&gt;</td>\n",
       "      <td>0</td>\n",
       "      <td>&lt;NA&gt;</td>\n",
       "    </tr>\n",
       "    <tr>\n",
       "      <th>14</th>\n",
       "      <td>V14</td>\n",
       "      <td>-18.822087</td>\n",
       "      <td>7.754599</td>\n",
       "      <td>-0.000139</td>\n",
       "      <td>0.044806</td>\n",
       "      <td>0.957466</td>\n",
       "      <td>&lt;NA&gt;</td>\n",
       "      <td>0</td>\n",
       "      <td>&lt;NA&gt;</td>\n",
       "    </tr>\n",
       "    <tr>\n",
       "      <th>15</th>\n",
       "      <td>V15</td>\n",
       "      <td>-4.498945</td>\n",
       "      <td>8.877742</td>\n",
       "      <td>-0.001306</td>\n",
       "      <td>0.046470</td>\n",
       "      <td>0.915581</td>\n",
       "      <td>&lt;NA&gt;</td>\n",
       "      <td>0</td>\n",
       "      <td>&lt;NA&gt;</td>\n",
       "    </tr>\n",
       "    <tr>\n",
       "      <th>16</th>\n",
       "      <td>V16</td>\n",
       "      <td>-14.129855</td>\n",
       "      <td>17.315112</td>\n",
       "      <td>-0.000837</td>\n",
       "      <td>0.064094</td>\n",
       "      <td>0.877079</td>\n",
       "      <td>&lt;NA&gt;</td>\n",
       "      <td>0</td>\n",
       "      <td>&lt;NA&gt;</td>\n",
       "    </tr>\n",
       "    <tr>\n",
       "      <th>17</th>\n",
       "      <td>V17</td>\n",
       "      <td>-25.162799</td>\n",
       "      <td>9.253526</td>\n",
       "      <td>-0.001201</td>\n",
       "      <td>-0.056988</td>\n",
       "      <td>0.850054</td>\n",
       "      <td>&lt;NA&gt;</td>\n",
       "      <td>0</td>\n",
       "      <td>&lt;NA&gt;</td>\n",
       "    </tr>\n",
       "    <tr>\n",
       "      <th>18</th>\n",
       "      <td>V18</td>\n",
       "      <td>-9.498746</td>\n",
       "      <td>5.041069</td>\n",
       "      <td>-0.000585</td>\n",
       "      <td>0.003919</td>\n",
       "      <td>0.837938</td>\n",
       "      <td>&lt;NA&gt;</td>\n",
       "      <td>0</td>\n",
       "      <td>&lt;NA&gt;</td>\n",
       "    </tr>\n",
       "    <tr>\n",
       "      <th>19</th>\n",
       "      <td>V19</td>\n",
       "      <td>-7.213527</td>\n",
       "      <td>5.591971</td>\n",
       "      <td>-0.000058</td>\n",
       "      <td>-0.009076</td>\n",
       "      <td>0.811926</td>\n",
       "      <td>&lt;NA&gt;</td>\n",
       "      <td>0</td>\n",
       "      <td>&lt;NA&gt;</td>\n",
       "    </tr>\n",
       "    <tr>\n",
       "      <th>20</th>\n",
       "      <td>V20</td>\n",
       "      <td>-54.497720</td>\n",
       "      <td>39.420904</td>\n",
       "      <td>-0.000420</td>\n",
       "      <td>-0.067457</td>\n",
       "      <td>0.778739</td>\n",
       "      <td>&lt;NA&gt;</td>\n",
       "      <td>0</td>\n",
       "      <td>&lt;NA&gt;</td>\n",
       "    </tr>\n",
       "    <tr>\n",
       "      <th>21</th>\n",
       "      <td>V21</td>\n",
       "      <td>-22.889347</td>\n",
       "      <td>27.202839</td>\n",
       "      <td>0.001502</td>\n",
       "      <td>-0.024375</td>\n",
       "      <td>0.740137</td>\n",
       "      <td>&lt;NA&gt;</td>\n",
       "      <td>0</td>\n",
       "      <td>&lt;NA&gt;</td>\n",
       "    </tr>\n",
       "    <tr>\n",
       "      <th>22</th>\n",
       "      <td>V22</td>\n",
       "      <td>-10.933144</td>\n",
       "      <td>8.361985</td>\n",
       "      <td>0.000087</td>\n",
       "      <td>0.004808</td>\n",
       "      <td>0.727017</td>\n",
       "      <td>&lt;NA&gt;</td>\n",
       "      <td>0</td>\n",
       "      <td>&lt;NA&gt;</td>\n",
       "    </tr>\n",
       "    <tr>\n",
       "      <th>23</th>\n",
       "      <td>V23</td>\n",
       "      <td>-44.807735</td>\n",
       "      <td>22.528412</td>\n",
       "      <td>-0.001407</td>\n",
       "      <td>-0.011507</td>\n",
       "      <td>0.633817</td>\n",
       "      <td>&lt;NA&gt;</td>\n",
       "      <td>0</td>\n",
       "      <td>&lt;NA&gt;</td>\n",
       "    </tr>\n",
       "    <tr>\n",
       "      <th>24</th>\n",
       "      <td>V24</td>\n",
       "      <td>-2.822684</td>\n",
       "      <td>4.584549</td>\n",
       "      <td>0.000726</td>\n",
       "      <td>0.041753</td>\n",
       "      <td>0.604770</td>\n",
       "      <td>&lt;NA&gt;</td>\n",
       "      <td>0</td>\n",
       "      <td>&lt;NA&gt;</td>\n",
       "    </tr>\n",
       "    <tr>\n",
       "      <th>25</th>\n",
       "      <td>V25</td>\n",
       "      <td>-10.295397</td>\n",
       "      <td>7.519589</td>\n",
       "      <td>0.000079</td>\n",
       "      <td>0.010406</td>\n",
       "      <td>0.521434</td>\n",
       "      <td>&lt;NA&gt;</td>\n",
       "      <td>0</td>\n",
       "      <td>&lt;NA&gt;</td>\n",
       "    </tr>\n",
       "    <tr>\n",
       "      <th>26</th>\n",
       "      <td>V26</td>\n",
       "      <td>-2.604551</td>\n",
       "      <td>3.517346</td>\n",
       "      <td>0.000738</td>\n",
       "      <td>-0.054166</td>\n",
       "      <td>0.482744</td>\n",
       "      <td>&lt;NA&gt;</td>\n",
       "      <td>0</td>\n",
       "      <td>&lt;NA&gt;</td>\n",
       "    </tr>\n",
       "    <tr>\n",
       "      <th>27</th>\n",
       "      <td>V27</td>\n",
       "      <td>-22.565679</td>\n",
       "      <td>31.612198</td>\n",
       "      <td>-0.000199</td>\n",
       "      <td>-0.000139</td>\n",
       "      <td>0.405706</td>\n",
       "      <td>&lt;NA&gt;</td>\n",
       "      <td>0</td>\n",
       "      <td>&lt;NA&gt;</td>\n",
       "    </tr>\n",
       "    <tr>\n",
       "      <th>28</th>\n",
       "      <td>V28</td>\n",
       "      <td>-15.430084</td>\n",
       "      <td>33.847808</td>\n",
       "      <td>-0.000360</td>\n",
       "      <td>0.011175</td>\n",
       "      <td>0.333945</td>\n",
       "      <td>&lt;NA&gt;</td>\n",
       "      <td>0</td>\n",
       "      <td>&lt;NA&gt;</td>\n",
       "    </tr>\n",
       "    <tr>\n",
       "      <th>29</th>\n",
       "      <td>Amount</td>\n",
       "      <td>0.000000</td>\n",
       "      <td>25691.160000</td>\n",
       "      <td>88.400358</td>\n",
       "      <td>21.600000</td>\n",
       "      <td>252.566839</td>\n",
       "      <td>&lt;NA&gt;</td>\n",
       "      <td>0</td>\n",
       "      <td>&lt;NA&gt;</td>\n",
       "    </tr>\n",
       "    <tr>\n",
       "      <th>30</th>\n",
       "      <td>splits</td>\n",
       "      <td>NaN</td>\n",
       "      <td>NaN</td>\n",
       "      <td>NaN</td>\n",
       "      <td>NaN</td>\n",
       "      <td>NaN</td>\n",
       "      <td>1</td>\n",
       "      <td>0</td>\n",
       "      <td>&lt;NA&gt;</td>\n",
       "    </tr>\n",
       "  </tbody>\n",
       "</table>\n",
       "</div>"
      ],
      "text/plain": [
       "     input         min            max          mean        median  \\\n",
       "0     Time    0.000000  172788.000000  94859.590500  84749.000000   \n",
       "1       V1  -56.407510       2.454930      0.001754      0.013672   \n",
       "2       V2  -72.715728      22.057729     -0.000973      0.054152   \n",
       "3       V3  -48.325589       9.382558     -0.001140      0.173637   \n",
       "4       V4   -5.683171      16.875344     -0.000768     -0.043847   \n",
       "5       V5 -113.743307      34.801666      0.001337     -0.035867   \n",
       "6       V6  -26.160506      73.301626     -0.001702     -0.276471   \n",
       "7       V7  -43.557242     120.589494      0.000041      0.046108   \n",
       "8       V8  -50.420090      20.007208     -0.001415      0.018011   \n",
       "9       V9  -13.434066      15.594995     -0.001354     -0.046717   \n",
       "10     V10  -24.588262      23.745136     -0.001916     -0.090449   \n",
       "11     V11   -4.797473      11.669205     -0.000066     -0.041211   \n",
       "12     V12  -18.683715       4.846452      0.003770      0.136663   \n",
       "13     V13   -4.008640       7.126883      0.001133     -0.025610   \n",
       "14     V14  -18.822087       7.754599     -0.000139      0.044806   \n",
       "15     V15   -4.498945       8.877742     -0.001306      0.046470   \n",
       "16     V16  -14.129855      17.315112     -0.000837      0.064094   \n",
       "17     V17  -25.162799       9.253526     -0.001201     -0.056988   \n",
       "18     V18   -9.498746       5.041069     -0.000585      0.003919   \n",
       "19     V19   -7.213527       5.591971     -0.000058     -0.009076   \n",
       "20     V20  -54.497720      39.420904     -0.000420     -0.067457   \n",
       "21     V21  -22.889347      27.202839      0.001502     -0.024375   \n",
       "22     V22  -10.933144       8.361985      0.000087      0.004808   \n",
       "23     V23  -44.807735      22.528412     -0.001407     -0.011507   \n",
       "24     V24   -2.822684       4.584549      0.000726      0.041753   \n",
       "25     V25  -10.295397       7.519589      0.000079      0.010406   \n",
       "26     V26   -2.604551       3.517346      0.000738     -0.054166   \n",
       "27     V27  -22.565679      31.612198     -0.000199     -0.000139   \n",
       "28     V28  -15.430084      33.847808     -0.000360      0.011175   \n",
       "29  Amount    0.000000   25691.160000     88.400358     21.600000   \n",
       "30  splits         NaN            NaN           NaN           NaN   \n",
       "\n",
       "          stddev  category_count  null_count  dimension  \n",
       "0   47509.951645            <NA>           0       <NA>  \n",
       "1       1.962686            <NA>           0       <NA>  \n",
       "2       1.666919            <NA>           0       <NA>  \n",
       "3       1.520541            <NA>           0       <NA>  \n",
       "4       1.415510            <NA>           0       <NA>  \n",
       "5       1.388798            <NA>           0       <NA>  \n",
       "6       1.334077            <NA>           0       <NA>  \n",
       "7       1.249871            <NA>           0       <NA>  \n",
       "8       1.194032            <NA>           0       <NA>  \n",
       "9       1.098538            <NA>           0       <NA>  \n",
       "10      1.086692            <NA>           0       <NA>  \n",
       "11      1.020213            <NA>           0       <NA>  \n",
       "12      0.998557            <NA>           0       <NA>  \n",
       "13      0.993873            <NA>           0       <NA>  \n",
       "14      0.957466            <NA>           0       <NA>  \n",
       "15      0.915581            <NA>           0       <NA>  \n",
       "16      0.877079            <NA>           0       <NA>  \n",
       "17      0.850054            <NA>           0       <NA>  \n",
       "18      0.837938            <NA>           0       <NA>  \n",
       "19      0.811926            <NA>           0       <NA>  \n",
       "20      0.778739            <NA>           0       <NA>  \n",
       "21      0.740137            <NA>           0       <NA>  \n",
       "22      0.727017            <NA>           0       <NA>  \n",
       "23      0.633817            <NA>           0       <NA>  \n",
       "24      0.604770            <NA>           0       <NA>  \n",
       "25      0.521434            <NA>           0       <NA>  \n",
       "26      0.482744            <NA>           0       <NA>  \n",
       "27      0.405706            <NA>           0       <NA>  \n",
       "28      0.333945            <NA>           0       <NA>  \n",
       "29    252.566839            <NA>           0       <NA>  \n",
       "30           NaN               1           0       <NA>  "
      ]
     },
     "execution_count": 22,
     "metadata": {},
     "output_type": "execute_result"
    }
   ],
   "source": [
    "feature_info = bq.query(\n",
    "    query = f\"\"\"\n",
    "        SELECT *\n",
    "        FROM ML.FEATURE_INFO(MODEL `{BQ_PROJECT}.{BQ_DATASET}.{BQ_MODEL}`)\n",
    "        \"\"\"\n",
    ").to_dataframe()\n",
    "feature_info"
   ]
  },
  {
   "cell_type": "markdown",
   "id": "c0a437de-9c45-4bb6-b806-c98d8875c3d8",
   "metadata": {},
   "source": [
    "Retrieve the trial info for the hyperparameter tuning trials with [ML.TRIAL_INFO](https://cloud.google.com/bigquery-ml/docs/reference/standard-sql/bigqueryml-syntax-trial-info):"
   ]
  },
  {
   "cell_type": "code",
   "execution_count": 23,
   "id": "d82adbab-41bc-4a65-8698-484a1a30bc9c",
   "metadata": {},
   "outputs": [
    {
     "data": {
      "text/html": [
       "<div>\n",
       "<style scoped>\n",
       "    .dataframe tbody tr th:only-of-type {\n",
       "        vertical-align: middle;\n",
       "    }\n",
       "\n",
       "    .dataframe tbody tr th {\n",
       "        vertical-align: top;\n",
       "    }\n",
       "\n",
       "    .dataframe thead th {\n",
       "        text-align: right;\n",
       "    }\n",
       "</style>\n",
       "<table border=\"1\" class=\"dataframe\">\n",
       "  <thead>\n",
       "    <tr style=\"text-align: right;\">\n",
       "      <th></th>\n",
       "      <th>trial_id</th>\n",
       "      <th>hyperparameters</th>\n",
       "      <th>hparam_tuning_evaluation_metrics</th>\n",
       "      <th>training_loss</th>\n",
       "      <th>eval_loss</th>\n",
       "      <th>status</th>\n",
       "      <th>error_message</th>\n",
       "      <th>is_optimal</th>\n",
       "    </tr>\n",
       "  </thead>\n",
       "  <tbody>\n",
       "    <tr>\n",
       "      <th>0</th>\n",
       "      <td>1</td>\n",
       "      <td>{'l1_reg': 1e-14, 'l2_reg': 1e-14}</td>\n",
       "      <td>{'roc_auc': 0.9892427572427572}</td>\n",
       "      <td>0.117088</td>\n",
       "      <td>0.341989</td>\n",
       "      <td>SUCCEEDED</td>\n",
       "      <td>None</td>\n",
       "      <td>True</td>\n",
       "    </tr>\n",
       "    <tr>\n",
       "      <th>1</th>\n",
       "      <td>2</td>\n",
       "      <td>{'l1_reg': 5.484934023203675e-11, 'l2_reg': 5....</td>\n",
       "      <td>{'roc_auc': 0.9892427572427572}</td>\n",
       "      <td>0.117088</td>\n",
       "      <td>0.341989</td>\n",
       "      <td>SUCCEEDED</td>\n",
       "      <td>None</td>\n",
       "      <td>True</td>\n",
       "    </tr>\n",
       "  </tbody>\n",
       "</table>\n",
       "</div>"
      ],
      "text/plain": [
       "   trial_id                                    hyperparameters  \\\n",
       "0         1                 {'l1_reg': 1e-14, 'l2_reg': 1e-14}   \n",
       "1         2  {'l1_reg': 5.484934023203675e-11, 'l2_reg': 5....   \n",
       "\n",
       "  hparam_tuning_evaluation_metrics  training_loss  eval_loss     status  \\\n",
       "0  {'roc_auc': 0.9892427572427572}       0.117088   0.341989  SUCCEEDED   \n",
       "1  {'roc_auc': 0.9892427572427572}       0.117088   0.341989  SUCCEEDED   \n",
       "\n",
       "  error_message  is_optimal  \n",
       "0          None        True  \n",
       "1          None        True  "
      ]
     },
     "execution_count": 23,
     "metadata": {},
     "output_type": "execute_result"
    }
   ],
   "source": [
    "trials = bq.query(\n",
    "    query = f\"\"\"\n",
    "        SELECT *\n",
    "        FROM ML.TRIAL_INFO(MODEL `{BQ_PROJECT}.{BQ_DATASET}.{BQ_MODEL}`)\n",
    "        \"\"\"\n",
    ").to_dataframe()\n",
    "trials"
   ]
  },
  {
   "cell_type": "markdown",
   "id": "5b5a9791-ae05-4c9e-a306-c164b6748000",
   "metadata": {},
   "source": [
    "---\n",
    "## Evaluate Model"
   ]
  },
  {
   "cell_type": "markdown",
   "id": "507287ca-f7a4-4d34-9b42-97d2e3b4dc35",
   "metadata": {},
   "source": [
    "### Metrics"
   ]
  },
  {
   "cell_type": "markdown",
   "id": "0f3711ea-c0aa-4cef-8389-1245e5424908",
   "metadata": {},
   "source": [
    "Review the model evaluation statistics on the splits with [ML.EVALUATE](https://cloud.google.com/bigquery-ml/docs/reference/standard-sql/bigqueryml-syntax-evaluate):"
   ]
  },
  {
   "cell_type": "code",
   "execution_count": 24,
   "id": "b61bc190-035e-4e7d-b0b6-ee1796ce3b0f",
   "metadata": {},
   "outputs": [
    {
     "data": {
      "text/html": [
       "<div>\n",
       "<style scoped>\n",
       "    .dataframe tbody tr th:only-of-type {\n",
       "        vertical-align: middle;\n",
       "    }\n",
       "\n",
       "    .dataframe tbody tr th {\n",
       "        vertical-align: top;\n",
       "    }\n",
       "\n",
       "    .dataframe thead th {\n",
       "        text-align: right;\n",
       "    }\n",
       "</style>\n",
       "<table border=\"1\" class=\"dataframe\">\n",
       "  <thead>\n",
       "    <tr style=\"text-align: right;\">\n",
       "      <th></th>\n",
       "      <th>SPLIT</th>\n",
       "      <th>trial_id</th>\n",
       "      <th>precision</th>\n",
       "      <th>recall</th>\n",
       "      <th>accuracy</th>\n",
       "      <th>f1_score</th>\n",
       "      <th>log_loss</th>\n",
       "      <th>roc_auc</th>\n",
       "    </tr>\n",
       "  </thead>\n",
       "  <tbody>\n",
       "    <tr>\n",
       "      <th>0</th>\n",
       "      <td>VALIDATE</td>\n",
       "      <td>1</td>\n",
       "      <td>0.015663</td>\n",
       "      <td>0.962963</td>\n",
       "      <td>0.888301</td>\n",
       "      <td>0.030824</td>\n",
       "      <td>0.341989</td>\n",
       "      <td>0.989243</td>\n",
       "    </tr>\n",
       "    <tr>\n",
       "      <th>1</th>\n",
       "      <td>TEST</td>\n",
       "      <td>1</td>\n",
       "      <td>0.012866</td>\n",
       "      <td>0.947368</td>\n",
       "      <td>0.890474</td>\n",
       "      <td>0.025388</td>\n",
       "      <td>0.337150</td>\n",
       "      <td>0.981150</td>\n",
       "    </tr>\n",
       "    <tr>\n",
       "      <th>2</th>\n",
       "      <td>TRAIN</td>\n",
       "      <td>1</td>\n",
       "      <td>0.065831</td>\n",
       "      <td>0.917160</td>\n",
       "      <td>0.977754</td>\n",
       "      <td>0.122845</td>\n",
       "      <td>0.117088</td>\n",
       "      <td>0.984917</td>\n",
       "    </tr>\n",
       "  </tbody>\n",
       "</table>\n",
       "</div>"
      ],
      "text/plain": [
       "      SPLIT  trial_id  precision    recall  accuracy  f1_score  log_loss  \\\n",
       "0  VALIDATE         1   0.015663  0.962963  0.888301  0.030824  0.341989   \n",
       "1      TEST         1   0.012866  0.947368  0.890474  0.025388  0.337150   \n",
       "2     TRAIN         1   0.065831  0.917160  0.977754  0.122845  0.117088   \n",
       "\n",
       "    roc_auc  \n",
       "0  0.989243  \n",
       "1  0.981150  \n",
       "2  0.984917  "
      ]
     },
     "execution_count": 24,
     "metadata": {},
     "output_type": "execute_result"
    }
   ],
   "source": [
    "query = f\"\"\"\n",
    "SELECT 'TEST' as SPLIT, * FROM ML.EVALUATE (MODEL `{BQ_PROJECT}.{BQ_DATASET}.{BQ_MODEL}`,\n",
    "    (SELECT * FROM `{BQ_PROJECT}.{BQ_DATASET}.{BQ_TABLE}` WHERE SPLITS='TEST'))\n",
    "UNION ALL\n",
    "SELECT 'VALIDATE' as SPLIT, * FROM ML.EVALUATE (MODEL `{BQ_PROJECT}.{BQ_DATASET}.{BQ_MODEL}`,\n",
    "    (SELECT * FROM `{BQ_PROJECT}.{BQ_DATASET}.{BQ_TABLE}` WHERE SPLITS='VALIDATE'))\n",
    "UNION ALL\n",
    "SELECT 'TRAIN' as SPLIT, * FROM ML.EVALUATE (MODEL `{BQ_PROJECT}.{BQ_DATASET}.{BQ_MODEL}`,\n",
    "    (SELECT * FROM `{BQ_PROJECT}.{BQ_DATASET}.{BQ_TABLE}` WHERE SPLITS='TRAIN'))\n",
    "\"\"\"\n",
    "bq.query(query = query).to_dataframe()"
   ]
  },
  {
   "cell_type": "markdown",
   "id": "5dbc24cf-1454-4d24-a706-42b79527a14e",
   "metadata": {},
   "source": [
    "### Confusion Matrix"
   ]
  },
  {
   "cell_type": "markdown",
   "id": "3e1b7ece-c760-48ca-a371-dc7604a6ee0e",
   "metadata": {},
   "source": [
    "Review the confusion matrix for each split with [ML.CONFUSION_MATRIX](https://cloud.google.com/bigquery-ml/docs/reference/standard-sql/bigqueryml-syntax-confusion):"
   ]
  },
  {
   "cell_type": "code",
   "execution_count": 25,
   "id": "f9d0a620-fb65-4d66-ae61-47ff7aebce90",
   "metadata": {},
   "outputs": [
    {
     "data": {
      "text/html": [
       "<div>\n",
       "<style scoped>\n",
       "    .dataframe tbody tr th:only-of-type {\n",
       "        vertical-align: middle;\n",
       "    }\n",
       "\n",
       "    .dataframe tbody tr th {\n",
       "        vertical-align: top;\n",
       "    }\n",
       "\n",
       "    .dataframe thead th {\n",
       "        text-align: right;\n",
       "    }\n",
       "</style>\n",
       "<table border=\"1\" class=\"dataframe\">\n",
       "  <thead>\n",
       "    <tr style=\"text-align: right;\">\n",
       "      <th></th>\n",
       "      <th>trial_id</th>\n",
       "      <th>expected_label</th>\n",
       "      <th>_0</th>\n",
       "      <th>_1</th>\n",
       "    </tr>\n",
       "  </thead>\n",
       "  <tbody>\n",
       "    <tr>\n",
       "      <th>0</th>\n",
       "      <td>1</td>\n",
       "      <td>0</td>\n",
       "      <td>194264</td>\n",
       "      <td>4399</td>\n",
       "    </tr>\n",
       "    <tr>\n",
       "      <th>1</th>\n",
       "      <td>1</td>\n",
       "      <td>1</td>\n",
       "      <td>28</td>\n",
       "      <td>310</td>\n",
       "    </tr>\n",
       "  </tbody>\n",
       "</table>\n",
       "</div>"
      ],
      "text/plain": [
       "   trial_id  expected_label      _0    _1\n",
       "0         1               0  194264  4399\n",
       "1         1               1      28   310"
      ]
     },
     "execution_count": 25,
     "metadata": {},
     "output_type": "execute_result"
    }
   ],
   "source": [
    "query = f\"\"\"\n",
    "SELECT *\n",
    "FROM ML.CONFUSION_MATRIX (MODEL `{BQ_PROJECT}.{BQ_DATASET}.{BQ_MODEL}`,(\n",
    "    SELECT *\n",
    "    FROM `{BQ_PROJECT}.{BQ_DATASET}.{BQ_TABLE}`\n",
    "    WHERE splits = 'TRAIN')\n",
    "  )\n",
    "\"\"\"\n",
    "bq.query(query = query).to_dataframe()"
   ]
  },
  {
   "cell_type": "code",
   "execution_count": 26,
   "id": "61ec830a-c946-4fe2-b04e-581367a41598",
   "metadata": {},
   "outputs": [
    {
     "data": {
      "text/html": [
       "<div>\n",
       "<style scoped>\n",
       "    .dataframe tbody tr th:only-of-type {\n",
       "        vertical-align: middle;\n",
       "    }\n",
       "\n",
       "    .dataframe tbody tr th {\n",
       "        vertical-align: top;\n",
       "    }\n",
       "\n",
       "    .dataframe thead th {\n",
       "        text-align: right;\n",
       "    }\n",
       "</style>\n",
       "<table border=\"1\" class=\"dataframe\">\n",
       "  <thead>\n",
       "    <tr style=\"text-align: right;\">\n",
       "      <th></th>\n",
       "      <th>trial_id</th>\n",
       "      <th>expected_label</th>\n",
       "      <th>_0</th>\n",
       "      <th>_1</th>\n",
       "    </tr>\n",
       "  </thead>\n",
       "  <tbody>\n",
       "    <tr>\n",
       "      <th>0</th>\n",
       "      <td>1</td>\n",
       "      <td>0</td>\n",
       "      <td>64883</td>\n",
       "      <td>8170</td>\n",
       "    </tr>\n",
       "    <tr>\n",
       "      <th>1</th>\n",
       "      <td>1</td>\n",
       "      <td>1</td>\n",
       "      <td>5</td>\n",
       "      <td>130</td>\n",
       "    </tr>\n",
       "  </tbody>\n",
       "</table>\n",
       "</div>"
      ],
      "text/plain": [
       "   trial_id  expected_label     _0    _1\n",
       "0         1               0  64883  8170\n",
       "1         1               1      5   130"
      ]
     },
     "execution_count": 26,
     "metadata": {},
     "output_type": "execute_result"
    }
   ],
   "source": [
    "query = f\"\"\"\n",
    "SELECT *\n",
    "FROM ML.CONFUSION_MATRIX (MODEL `{BQ_PROJECT}.{BQ_DATASET}.{BQ_MODEL}`,(\n",
    "    SELECT *\n",
    "    FROM `{BQ_PROJECT}.{BQ_DATASET}.{BQ_TABLE}`\n",
    "    WHERE splits = 'VALIDATE')\n",
    "  )\n",
    "\"\"\"\n",
    "bq.query(query = query).to_dataframe()"
   ]
  },
  {
   "cell_type": "code",
   "execution_count": 27,
   "id": "7dc51f95-bb80-4656-9a1c-7fa03119cef2",
   "metadata": {},
   "outputs": [
    {
     "data": {
      "text/html": [
       "<div>\n",
       "<style scoped>\n",
       "    .dataframe tbody tr th:only-of-type {\n",
       "        vertical-align: middle;\n",
       "    }\n",
       "\n",
       "    .dataframe tbody tr th {\n",
       "        vertical-align: top;\n",
       "    }\n",
       "\n",
       "    .dataframe thead th {\n",
       "        text-align: right;\n",
       "    }\n",
       "</style>\n",
       "<table border=\"1\" class=\"dataframe\">\n",
       "  <thead>\n",
       "    <tr style=\"text-align: right;\">\n",
       "      <th></th>\n",
       "      <th>trial_id</th>\n",
       "      <th>expected_label</th>\n",
       "      <th>_0</th>\n",
       "      <th>_1</th>\n",
       "    </tr>\n",
       "  </thead>\n",
       "  <tbody>\n",
       "    <tr>\n",
       "      <th>0</th>\n",
       "      <td>1</td>\n",
       "      <td>0</td>\n",
       "      <td>11218</td>\n",
       "      <td>1381</td>\n",
       "    </tr>\n",
       "    <tr>\n",
       "      <th>1</th>\n",
       "      <td>1</td>\n",
       "      <td>1</td>\n",
       "      <td>1</td>\n",
       "      <td>18</td>\n",
       "    </tr>\n",
       "  </tbody>\n",
       "</table>\n",
       "</div>"
      ],
      "text/plain": [
       "   trial_id  expected_label     _0    _1\n",
       "0         1               0  11218  1381\n",
       "1         1               1      1    18"
      ]
     },
     "execution_count": 27,
     "metadata": {},
     "output_type": "execute_result"
    }
   ],
   "source": [
    "query = f\"\"\"\n",
    "SELECT *\n",
    "FROM ML.CONFUSION_MATRIX (MODEL `{BQ_PROJECT}.{BQ_DATASET}.{BQ_MODEL}`,(\n",
    "    SELECT *\n",
    "    FROM `{BQ_PROJECT}.{BQ_DATASET}.{BQ_TABLE}`\n",
    "    WHERE splits = 'TEST')\n",
    "  )\n",
    "\"\"\"\n",
    "bq.query(query = query).to_dataframe()"
   ]
  },
  {
   "cell_type": "markdown",
   "id": "8b2e9050-d8ad-4c8b-b1f8-e662da20f33d",
   "metadata": {},
   "source": [
    "### ROC Curve\n",
    "\n",
    "Retrieve the ROC Curve for each split using [ML.ROC_CURVE](https://cloud.google.com/bigquery-ml/docs/reference/standard-sql/bigqueryml-syntax-roc):"
   ]
  },
  {
   "cell_type": "code",
   "execution_count": 28,
   "id": "4c2525b4-852d-4656-98b9-570e4054a1a7",
   "metadata": {},
   "outputs": [
    {
     "data": {
      "text/html": [
       "<div>\n",
       "<style scoped>\n",
       "    .dataframe tbody tr th:only-of-type {\n",
       "        vertical-align: middle;\n",
       "    }\n",
       "\n",
       "    .dataframe tbody tr th {\n",
       "        vertical-align: top;\n",
       "    }\n",
       "\n",
       "    .dataframe thead th {\n",
       "        text-align: right;\n",
       "    }\n",
       "</style>\n",
       "<table border=\"1\" class=\"dataframe\">\n",
       "  <thead>\n",
       "    <tr style=\"text-align: right;\">\n",
       "      <th></th>\n",
       "      <th>trial_id</th>\n",
       "      <th>threshold</th>\n",
       "      <th>recall</th>\n",
       "      <th>false_positive_rate</th>\n",
       "      <th>true_positives</th>\n",
       "      <th>false_positives</th>\n",
       "      <th>true_negatives</th>\n",
       "      <th>false_negatives</th>\n",
       "    </tr>\n",
       "  </thead>\n",
       "  <tbody>\n",
       "    <tr>\n",
       "      <th>0</th>\n",
       "      <td>1</td>\n",
       "      <td>1.000000</td>\n",
       "      <td>0.026627</td>\n",
       "      <td>0.000000</td>\n",
       "      <td>9</td>\n",
       "      <td>0</td>\n",
       "      <td>198663</td>\n",
       "      <td>329</td>\n",
       "    </tr>\n",
       "    <tr>\n",
       "      <th>1</th>\n",
       "      <td>1</td>\n",
       "      <td>0.751799</td>\n",
       "      <td>0.878698</td>\n",
       "      <td>0.008618</td>\n",
       "      <td>297</td>\n",
       "      <td>1712</td>\n",
       "      <td>196951</td>\n",
       "      <td>41</td>\n",
       "    </tr>\n",
       "    <tr>\n",
       "      <th>2</th>\n",
       "      <td>1</td>\n",
       "      <td>0.545363</td>\n",
       "      <td>0.911243</td>\n",
       "      <td>0.018584</td>\n",
       "      <td>308</td>\n",
       "      <td>3692</td>\n",
       "      <td>194971</td>\n",
       "      <td>30</td>\n",
       "    </tr>\n",
       "    <tr>\n",
       "      <th>3</th>\n",
       "      <td>1</td>\n",
       "      <td>0.434128</td>\n",
       "      <td>0.917160</td>\n",
       "      <td>0.028757</td>\n",
       "      <td>310</td>\n",
       "      <td>5713</td>\n",
       "      <td>192950</td>\n",
       "      <td>28</td>\n",
       "    </tr>\n",
       "    <tr>\n",
       "      <th>4</th>\n",
       "      <td>1</td>\n",
       "      <td>0.368993</td>\n",
       "      <td>0.934911</td>\n",
       "      <td>0.038261</td>\n",
       "      <td>316</td>\n",
       "      <td>7601</td>\n",
       "      <td>191062</td>\n",
       "      <td>22</td>\n",
       "    </tr>\n",
       "  </tbody>\n",
       "</table>\n",
       "</div>"
      ],
      "text/plain": [
       "   trial_id  threshold    recall  false_positive_rate  true_positives  \\\n",
       "0         1   1.000000  0.026627             0.000000               9   \n",
       "1         1   0.751799  0.878698             0.008618             297   \n",
       "2         1   0.545363  0.911243             0.018584             308   \n",
       "3         1   0.434128  0.917160             0.028757             310   \n",
       "4         1   0.368993  0.934911             0.038261             316   \n",
       "\n",
       "   false_positives  true_negatives  false_negatives  \n",
       "0                0          198663              329  \n",
       "1             1712          196951               41  \n",
       "2             3692          194971               30  \n",
       "3             5713          192950               28  \n",
       "4             7601          191062               22  "
      ]
     },
     "execution_count": 28,
     "metadata": {},
     "output_type": "execute_result"
    }
   ],
   "source": [
    "query = f\"\"\"\n",
    "SELECT *\n",
    "FROM ML.ROC_CURVE (MODEL `{BQ_PROJECT}.{BQ_DATASET}.{BQ_MODEL}`,(\n",
    "    SELECT *\n",
    "    FROM `{BQ_PROJECT}.{BQ_DATASET}.{BQ_TABLE}`\n",
    "    WHERE splits = 'TRAIN')\n",
    "  )\n",
    "ORDER BY false_positive_rate\n",
    "\"\"\"\n",
    "train_roc = bq.query(query = query).to_dataframe()\n",
    "train_roc.head()"
   ]
  },
  {
   "cell_type": "code",
   "execution_count": 29,
   "id": "c7d5055a-8d4c-4caf-9e06-1c73d4bd3e77",
   "metadata": {},
   "outputs": [
    {
     "data": {
      "text/html": [
       "<div>\n",
       "<style scoped>\n",
       "    .dataframe tbody tr th:only-of-type {\n",
       "        vertical-align: middle;\n",
       "    }\n",
       "\n",
       "    .dataframe tbody tr th {\n",
       "        vertical-align: top;\n",
       "    }\n",
       "\n",
       "    .dataframe thead th {\n",
       "        text-align: right;\n",
       "    }\n",
       "</style>\n",
       "<table border=\"1\" class=\"dataframe\">\n",
       "  <thead>\n",
       "    <tr style=\"text-align: right;\">\n",
       "      <th></th>\n",
       "      <th>trial_id</th>\n",
       "      <th>threshold</th>\n",
       "      <th>recall</th>\n",
       "      <th>false_positive_rate</th>\n",
       "      <th>true_positives</th>\n",
       "      <th>false_positives</th>\n",
       "      <th>true_negatives</th>\n",
       "      <th>false_negatives</th>\n",
       "    </tr>\n",
       "  </thead>\n",
       "  <tbody>\n",
       "    <tr>\n",
       "      <th>0</th>\n",
       "      <td>1</td>\n",
       "      <td>1.000000</td>\n",
       "      <td>0.022222</td>\n",
       "      <td>0.000000</td>\n",
       "      <td>3</td>\n",
       "      <td>0</td>\n",
       "      <td>73053</td>\n",
       "      <td>132</td>\n",
       "    </tr>\n",
       "    <tr>\n",
       "      <th>1</th>\n",
       "      <td>1</td>\n",
       "      <td>0.937390</td>\n",
       "      <td>0.888889</td>\n",
       "      <td>0.008501</td>\n",
       "      <td>120</td>\n",
       "      <td>621</td>\n",
       "      <td>72432</td>\n",
       "      <td>15</td>\n",
       "    </tr>\n",
       "    <tr>\n",
       "      <th>2</th>\n",
       "      <td>1</td>\n",
       "      <td>0.847837</td>\n",
       "      <td>0.911111</td>\n",
       "      <td>0.018425</td>\n",
       "      <td>123</td>\n",
       "      <td>1346</td>\n",
       "      <td>71707</td>\n",
       "      <td>12</td>\n",
       "    </tr>\n",
       "    <tr>\n",
       "      <th>3</th>\n",
       "      <td>1</td>\n",
       "      <td>0.779476</td>\n",
       "      <td>0.911111</td>\n",
       "      <td>0.028500</td>\n",
       "      <td>123</td>\n",
       "      <td>2082</td>\n",
       "      <td>70971</td>\n",
       "      <td>12</td>\n",
       "    </tr>\n",
       "    <tr>\n",
       "      <th>4</th>\n",
       "      <td>1</td>\n",
       "      <td>0.722428</td>\n",
       "      <td>0.933333</td>\n",
       "      <td>0.038342</td>\n",
       "      <td>126</td>\n",
       "      <td>2801</td>\n",
       "      <td>70252</td>\n",
       "      <td>9</td>\n",
       "    </tr>\n",
       "  </tbody>\n",
       "</table>\n",
       "</div>"
      ],
      "text/plain": [
       "   trial_id  threshold    recall  false_positive_rate  true_positives  \\\n",
       "0         1   1.000000  0.022222             0.000000               3   \n",
       "1         1   0.937390  0.888889             0.008501             120   \n",
       "2         1   0.847837  0.911111             0.018425             123   \n",
       "3         1   0.779476  0.911111             0.028500             123   \n",
       "4         1   0.722428  0.933333             0.038342             126   \n",
       "\n",
       "   false_positives  true_negatives  false_negatives  \n",
       "0                0           73053              132  \n",
       "1              621           72432               15  \n",
       "2             1346           71707               12  \n",
       "3             2082           70971               12  \n",
       "4             2801           70252                9  "
      ]
     },
     "execution_count": 29,
     "metadata": {},
     "output_type": "execute_result"
    }
   ],
   "source": [
    "query = f\"\"\"\n",
    "SELECT *\n",
    "FROM ML.ROC_CURVE (MODEL `{BQ_PROJECT}.{BQ_DATASET}.{BQ_MODEL}`,(\n",
    "    SELECT *\n",
    "    FROM `{BQ_PROJECT}.{BQ_DATASET}.{BQ_TABLE}`\n",
    "    WHERE splits = 'VALIDATE')\n",
    "  )\n",
    "ORDER BY false_positive_rate\n",
    "\"\"\"\n",
    "val_roc = bq.query(query = query).to_dataframe()\n",
    "val_roc.head()"
   ]
  },
  {
   "cell_type": "code",
   "execution_count": 30,
   "id": "91dd7c5e-8693-4e1c-a89d-cf6a76a23842",
   "metadata": {},
   "outputs": [
    {
     "data": {
      "text/html": [
       "<div>\n",
       "<style scoped>\n",
       "    .dataframe tbody tr th:only-of-type {\n",
       "        vertical-align: middle;\n",
       "    }\n",
       "\n",
       "    .dataframe tbody tr th {\n",
       "        vertical-align: top;\n",
       "    }\n",
       "\n",
       "    .dataframe thead th {\n",
       "        text-align: right;\n",
       "    }\n",
       "</style>\n",
       "<table border=\"1\" class=\"dataframe\">\n",
       "  <thead>\n",
       "    <tr style=\"text-align: right;\">\n",
       "      <th></th>\n",
       "      <th>trial_id</th>\n",
       "      <th>threshold</th>\n",
       "      <th>recall</th>\n",
       "      <th>false_positive_rate</th>\n",
       "      <th>true_positives</th>\n",
       "      <th>false_positives</th>\n",
       "      <th>true_negatives</th>\n",
       "      <th>false_negatives</th>\n",
       "    </tr>\n",
       "  </thead>\n",
       "  <tbody>\n",
       "    <tr>\n",
       "      <th>0</th>\n",
       "      <td>1</td>\n",
       "      <td>1.000000</td>\n",
       "      <td>0.052632</td>\n",
       "      <td>0.000000</td>\n",
       "      <td>1</td>\n",
       "      <td>0</td>\n",
       "      <td>12599</td>\n",
       "      <td>18</td>\n",
       "    </tr>\n",
       "    <tr>\n",
       "      <th>1</th>\n",
       "      <td>1</td>\n",
       "      <td>0.915430</td>\n",
       "      <td>0.894737</td>\n",
       "      <td>0.008890</td>\n",
       "      <td>17</td>\n",
       "      <td>112</td>\n",
       "      <td>12487</td>\n",
       "      <td>2</td>\n",
       "    </tr>\n",
       "    <tr>\n",
       "      <th>2</th>\n",
       "      <td>1</td>\n",
       "      <td>0.827743</td>\n",
       "      <td>0.894737</td>\n",
       "      <td>0.018652</td>\n",
       "      <td>17</td>\n",
       "      <td>235</td>\n",
       "      <td>12364</td>\n",
       "      <td>2</td>\n",
       "    </tr>\n",
       "    <tr>\n",
       "      <th>3</th>\n",
       "      <td>1</td>\n",
       "      <td>0.761518</td>\n",
       "      <td>0.894737</td>\n",
       "      <td>0.028971</td>\n",
       "      <td>17</td>\n",
       "      <td>365</td>\n",
       "      <td>12234</td>\n",
       "      <td>2</td>\n",
       "    </tr>\n",
       "    <tr>\n",
       "      <th>4</th>\n",
       "      <td>1</td>\n",
       "      <td>0.719719</td>\n",
       "      <td>0.894737</td>\n",
       "      <td>0.038733</td>\n",
       "      <td>17</td>\n",
       "      <td>488</td>\n",
       "      <td>12111</td>\n",
       "      <td>2</td>\n",
       "    </tr>\n",
       "  </tbody>\n",
       "</table>\n",
       "</div>"
      ],
      "text/plain": [
       "   trial_id  threshold    recall  false_positive_rate  true_positives  \\\n",
       "0         1   1.000000  0.052632             0.000000               1   \n",
       "1         1   0.915430  0.894737             0.008890              17   \n",
       "2         1   0.827743  0.894737             0.018652              17   \n",
       "3         1   0.761518  0.894737             0.028971              17   \n",
       "4         1   0.719719  0.894737             0.038733              17   \n",
       "\n",
       "   false_positives  true_negatives  false_negatives  \n",
       "0                0           12599               18  \n",
       "1              112           12487                2  \n",
       "2              235           12364                2  \n",
       "3              365           12234                2  \n",
       "4              488           12111                2  "
      ]
     },
     "execution_count": 30,
     "metadata": {},
     "output_type": "execute_result"
    }
   ],
   "source": [
    "query = f\"\"\"\n",
    "SELECT *\n",
    "FROM ML.ROC_CURVE (MODEL `{BQ_PROJECT}.{BQ_DATASET}.{BQ_MODEL}`,(\n",
    "    SELECT *\n",
    "    FROM `{BQ_PROJECT}.{BQ_DATASET}.{BQ_TABLE}`\n",
    "    WHERE splits = 'TEST')\n",
    "  )\n",
    "ORDER BY false_positive_rate\n",
    "\"\"\"\n",
    "test_roc = bq.query(query = query).to_dataframe()\n",
    "test_roc.head()"
   ]
  },
  {
   "cell_type": "code",
   "execution_count": 31,
   "id": "d7daf52a-846f-47b5-9af7-8daed256511d",
   "metadata": {},
   "outputs": [
    {
     "data": {
      "image/png": "[encoded data removed]",
      "text/plain": [
       "<Figure size 1500x500 with 1 Axes>"
      ]
     },
     "metadata": {},
     "output_type": "display_data"
    }
   ],
   "source": [
    "plt.figure(figsize=(15,5))\n",
    "plt.plot(train_roc['false_positive_rate'], train_roc['recall'], label='TRAIN')\n",
    "plt.plot(val_roc['false_positive_rate'], val_roc['recall'], label='VALIDATE')\n",
    "plt.plot(test_roc['false_positive_rate'], test_roc['recall'], label='TEST')\n",
    "plt.xlabel('False Positive Rate')\n",
    "plt.ylabel('True Positive Rate\\nRecall')\n",
    "plt.title('ROC Curves')\n",
    "plt.legend()\n",
    "plt.show()"
   ]
  },
  {
   "cell_type": "markdown",
   "id": "f5a54efe-ac0b-4924-8094-6be5e1e790d7",
   "metadata": {},
   "source": [
    "---\n",
    "## Predictions With BigQuery ML (BQML)"
   ]
  },
  {
   "cell_type": "markdown",
   "id": "23a8c11e-9ce4-4f01-b260-2611409169bd",
   "metadata": {},
   "source": [
    "Create a pandas dataframe with retrieved predictions for the test data in the table using [ML.PREDICT](https://cloud.google.com/bigquery-ml/docs/reference/standard-sql/bigqueryml-syntax-predict):"
   ]
  },
  {
   "cell_type": "code",
   "execution_count": 32,
   "id": "ad1c02dd-99e3-4998-98a6-51af48b7da60",
   "metadata": {},
   "outputs": [],
   "source": [
    "query = f\"\"\"\n",
    "SELECT *\n",
    "FROM ML.PREDICT (MODEL `{BQ_PROJECT}.{BQ_DATASET}.{BQ_MODEL}`,(\n",
    "    SELECT *\n",
    "    FROM `{BQ_PROJECT}.{BQ_DATASET}.{BQ_TABLE}`\n",
    "    WHERE splits = 'TEST')\n",
    "  )\n",
    "\"\"\"\n",
    "pred = bq.query(query = query).to_dataframe()"
   ]
  },
  {
   "cell_type": "markdown",
   "id": "5ecec1d0-a712-4b5e-8909-7e83c62dec3a",
   "metadata": {},
   "source": [
    "Review columns from the predictions - note that the query added columns with prefix `predicted_`"
   ]
  },
  {
   "cell_type": "code",
   "execution_count": 33,
   "id": "c186d43f-7337-449e-81e3-7dccd26f442a",
   "metadata": {},
   "outputs": [
    {
     "data": {
      "text/plain": [
       "Index(['trial_id', 'predicted_Class', 'predicted_Class_probs', 'Time', 'V1',\n",
       "       'V2', 'V3', 'V4', 'V5', 'V6', 'V7', 'V8', 'V9', 'V10', 'V11', 'V12',\n",
       "       'V13', 'V14', 'V15', 'V16', 'V17', 'V18', 'V19', 'V20', 'V21', 'V22',\n",
       "       'V23', 'V24', 'V25', 'V26', 'V27', 'V28', 'Amount', 'Class', 'splits'],\n",
       "      dtype='object')"
      ]
     },
     "execution_count": 33,
     "metadata": {},
     "output_type": "execute_result"
    }
   ],
   "source": [
    "pred.columns"
   ]
  },
  {
   "cell_type": "markdown",
   "id": "879c6b56-dad2-4674-ac8e-4fe109b949e6",
   "metadata": {},
   "source": [
    "Print the first few rows for the columns related to the actual and predicted values:"
   ]
  },
  {
   "cell_type": "code",
   "execution_count": 34,
   "id": "4160648c-576b-4592-b3e5-f23555741856",
   "metadata": {},
   "outputs": [
    {
     "data": {
      "text/html": [
       "<div>\n",
       "<style scoped>\n",
       "    .dataframe tbody tr th:only-of-type {\n",
       "        vertical-align: middle;\n",
       "    }\n",
       "\n",
       "    .dataframe tbody tr th {\n",
       "        vertical-align: top;\n",
       "    }\n",
       "\n",
       "    .dataframe thead th {\n",
       "        text-align: right;\n",
       "    }\n",
       "</style>\n",
       "<table border=\"1\" class=\"dataframe\">\n",
       "  <thead>\n",
       "    <tr style=\"text-align: right;\">\n",
       "      <th></th>\n",
       "      <th>Class</th>\n",
       "      <th>predicted_Class</th>\n",
       "      <th>predicted_Class_probs</th>\n",
       "      <th>splits</th>\n",
       "    </tr>\n",
       "  </thead>\n",
       "  <tbody>\n",
       "    <tr>\n",
       "      <th>0</th>\n",
       "      <td>0</td>\n",
       "      <td>0</td>\n",
       "      <td>[{'label': 1, 'prob': 0.0550657281375832}, {'l...</td>\n",
       "      <td>TEST</td>\n",
       "    </tr>\n",
       "    <tr>\n",
       "      <th>1</th>\n",
       "      <td>0</td>\n",
       "      <td>0</td>\n",
       "      <td>[{'label': 1, 'prob': 0.08586377936561895}, {'...</td>\n",
       "      <td>TEST</td>\n",
       "    </tr>\n",
       "    <tr>\n",
       "      <th>2</th>\n",
       "      <td>0</td>\n",
       "      <td>0</td>\n",
       "      <td>[{'label': 1, 'prob': 0.28473465121745467}, {'...</td>\n",
       "      <td>TEST</td>\n",
       "    </tr>\n",
       "    <tr>\n",
       "      <th>3</th>\n",
       "      <td>0</td>\n",
       "      <td>0</td>\n",
       "      <td>[{'label': 1, 'prob': 0.16880301980624057}, {'...</td>\n",
       "      <td>TEST</td>\n",
       "    </tr>\n",
       "    <tr>\n",
       "      <th>4</th>\n",
       "      <td>0</td>\n",
       "      <td>1</td>\n",
       "      <td>[{'label': 1, 'prob': 0.7963524315188382}, {'l...</td>\n",
       "      <td>TEST</td>\n",
       "    </tr>\n",
       "  </tbody>\n",
       "</table>\n",
       "</div>"
      ],
      "text/plain": [
       "   Class  predicted_Class                              predicted_Class_probs  \\\n",
       "0      0                0  [{'label': 1, 'prob': 0.0550657281375832}, {'l...   \n",
       "1      0                0  [{'label': 1, 'prob': 0.08586377936561895}, {'...   \n",
       "2      0                0  [{'label': 1, 'prob': 0.28473465121745467}, {'...   \n",
       "3      0                0  [{'label': 1, 'prob': 0.16880301980624057}, {'...   \n",
       "4      0                1  [{'label': 1, 'prob': 0.7963524315188382}, {'l...   \n",
       "\n",
       "  splits  \n",
       "0   TEST  \n",
       "1   TEST  \n",
       "2   TEST  \n",
       "3   TEST  \n",
       "4   TEST  "
      ]
     },
     "execution_count": 34,
     "metadata": {},
     "output_type": "execute_result"
    }
   ],
   "source": [
    "pred[[VAR_TARGET, f'predicted_{VAR_TARGET}', f'predicted_{VAR_TARGET}_probs', 'splits']].head()"
   ]
  },
  {
   "cell_type": "markdown",
   "id": "5f028e3c-8afb-42ff-84dc-84a38ad6cdf6",
   "metadata": {},
   "source": [
    "Notice the nested dictionary for predicted probabilities.  In BigQuery this is a Record type structure with nested fields for `label` and `prob`.  This is returned to the pandas dataframe as a nested dictionary.\n",
    "\n",
    "The following code sorts the dictionary for the first record by `prob`:"
   ]
  },
  {
   "cell_type": "code",
   "execution_count": 35,
   "id": "f2bf6866-af12-401b-8b7f-e5f73d8d3b8b",
   "metadata": {},
   "outputs": [
    {
     "data": {
      "text/plain": [
       "[[{'label': 0, 'prob': 0.9449342718624167},\n",
       "  {'label': 1, 'prob': 0.0550657281375832}]]"
      ]
     },
     "execution_count": 35,
     "metadata": {},
     "output_type": "execute_result"
    }
   ],
   "source": [
    "exec('temp = pred.predicted_'+VAR_TARGET+'_probs[0]')\n",
    "[sorted(x, key = lambda x: x['label']) for x in [temp]]"
   ]
  },
  {
   "cell_type": "markdown",
   "id": "18b3c6a6-b7a2-47ae-bb34-946515530ed7",
   "metadata": {},
   "source": [
    "---\n",
    "## Custom Eval Metrics\n",
    "Retrieve the predictions to a local dataframe and use [scikit-learn](https://scikit-learn.org/stable/index.html) metrics [fuctions](https://scikit-learn.org/stable/modules/model_evaluation.html) to do model evaluation."
   ]
  },
  {
   "cell_type": "code",
   "execution_count": 36,
   "id": "a74e7ce3-099f-48de-b058-555d1d2a67d8",
   "metadata": {},
   "outputs": [
    {
     "data": {
      "text/plain": [
       "array([[11218,  1381],\n",
       "       [    1,    18]])"
      ]
     },
     "execution_count": 36,
     "metadata": {},
     "output_type": "execute_result"
    }
   ],
   "source": [
    "metrics.confusion_matrix(list(pred[f'{VAR_TARGET}']), list(pred[f'predicted_{VAR_TARGET}']))"
   ]
  },
  {
   "cell_type": "code",
   "execution_count": 37,
   "id": "39763e22-b486-4640-a050-397eeec0ea7e",
   "metadata": {},
   "outputs": [
    {
     "data": {
      "text/plain": [
       "<sklearn.metrics._plot.confusion_matrix.ConfusionMatrixDisplay at 0x7f56f017e830>"
      ]
     },
     "execution_count": 37,
     "metadata": {},
     "output_type": "execute_result"
    },
    {
     "data": {
      "image/png": "[encoded data removed]",
      "text/plain": [
       "<Figure size 640x480 with 2 Axes>"
      ]
     },
     "metadata": {},
     "output_type": "display_data"
    }
   ],
   "source": [
    "disp = metrics.ConfusionMatrixDisplay(\n",
    "    confusion_matrix = metrics.confusion_matrix(list(pred[f'{VAR_TARGET}']), list(pred[f'predicted_{VAR_TARGET}']))\n",
    ")\n",
    "disp.plot()"
   ]
  },
  {
   "cell_type": "code",
   "execution_count": 38,
   "id": "a0220cfa-6e54-4341-bb89-1454456aa7da",
   "metadata": {},
   "outputs": [
    {
     "data": {
      "text/plain": [
       "0.8904739261372642"
      ]
     },
     "execution_count": 38,
     "metadata": {},
     "output_type": "execute_result"
    }
   ],
   "source": [
    "metrics.accuracy_score(list(pred[f'{VAR_TARGET}']), list(pred[f'predicted_{VAR_TARGET}']))"
   ]
  },
  {
   "cell_type": "code",
   "execution_count": 39,
   "id": "9688f8a7-d654-4a95-af5b-5d0390a58740",
   "metadata": {},
   "outputs": [
    {
     "name": "stdout",
     "output_type": "stream",
     "text": [
      "              precision    recall  f1-score   support\n",
      "\n",
      "           0       1.00      0.89      0.94     12599\n",
      "           1       0.01      0.95      0.03        19\n",
      "\n",
      "    accuracy                           0.89     12618\n",
      "   macro avg       0.51      0.92      0.48     12618\n",
      "weighted avg       1.00      0.89      0.94     12618\n",
      "\n"
     ]
    }
   ],
   "source": [
    "print(metrics.classification_report(list(pred[f'{VAR_TARGET}']), list(pred[f'predicted_{VAR_TARGET}'])))"
   ]
  },
  {
   "cell_type": "markdown",
   "id": "6ce4cf25-20a0-4377-bde3-fc16ad5a1803",
   "metadata": {},
   "source": [
    "---\n",
    "## Explanations\n",
    "[Built-in](https://cloud.google.com/bigquery-ml/docs/reference/standard-sql/bigqueryml-syntax-xai-overview) capabilities to understand how features contributed to predictions both individually (local) and overall (global)."
   ]
  },
  {
   "cell_type": "markdown",
   "id": "1ca65283-b3b4-410b-8a08-e887e8ae2f09",
   "metadata": {},
   "source": [
    "### Local Explainability\n",
    "Retrieve feature attribution values to interpret each features contribution to a prediction relative to the baseline prediction using [ML.EXPLAIN_PREDICT](https://cloud.google.com/bigquery-ml/docs/reference/standard-sql/bigqueryml-syntax-explain-predict)."
   ]
  },
  {
   "cell_type": "code",
   "execution_count": 40,
   "id": "2271195b-7b31-4ea2-bf11-7068434bfcc2",
   "metadata": {},
   "outputs": [],
   "source": [
    "query = f\"\"\"\n",
    "SELECT *\n",
    "FROM ML.EXPLAIN_PREDICT (MODEL `{BQ_PROJECT}.{BQ_DATASET}.{BQ_MODEL}`,(\n",
    "    SELECT *\n",
    "    FROM `{BQ_PROJECT}.{BQ_DATASET}.{BQ_TABLE}`\n",
    "    WHERE splits = 'TEST'), STRUCT(10 as top_k_features)\n",
    "  )\n",
    "\"\"\"\n",
    "explain = bq.query(query = query).to_dataframe()"
   ]
  },
  {
   "cell_type": "code",
   "execution_count": 41,
   "id": "cf27cdc0-dbfa-4e51-8c95-e8432f356ead",
   "metadata": {},
   "outputs": [
    {
     "data": {
      "text/html": [
       "<div>\n",
       "<style scoped>\n",
       "    .dataframe tbody tr th:only-of-type {\n",
       "        vertical-align: middle;\n",
       "    }\n",
       "\n",
       "    .dataframe tbody tr th {\n",
       "        vertical-align: top;\n",
       "    }\n",
       "\n",
       "    .dataframe thead th {\n",
       "        text-align: right;\n",
       "    }\n",
       "</style>\n",
       "<table border=\"1\" class=\"dataframe\">\n",
       "  <thead>\n",
       "    <tr style=\"text-align: right;\">\n",
       "      <th></th>\n",
       "      <th>trial_id</th>\n",
       "      <th>predicted_Class</th>\n",
       "      <th>probability</th>\n",
       "      <th>top_feature_attributions</th>\n",
       "      <th>baseline_prediction_value</th>\n",
       "      <th>prediction_value</th>\n",
       "      <th>approximation_error</th>\n",
       "      <th>Time</th>\n",
       "      <th>V1</th>\n",
       "      <th>V2</th>\n",
       "      <th>...</th>\n",
       "      <th>V22</th>\n",
       "      <th>V23</th>\n",
       "      <th>V24</th>\n",
       "      <th>V25</th>\n",
       "      <th>V26</th>\n",
       "      <th>V27</th>\n",
       "      <th>V28</th>\n",
       "      <th>Amount</th>\n",
       "      <th>Class</th>\n",
       "      <th>splits</th>\n",
       "    </tr>\n",
       "  </thead>\n",
       "  <tbody>\n",
       "    <tr>\n",
       "      <th>0</th>\n",
       "      <td>1</td>\n",
       "      <td>0</td>\n",
       "      <td>0.944934</td>\n",
       "      <td>[{'feature': 'V12', 'attribution': -0.58537294...</td>\n",
       "      <td>-1.466281</td>\n",
       "      <td>-2.842588</td>\n",
       "      <td>0.0</td>\n",
       "      <td>147033.0</td>\n",
       "      <td>1.933231</td>\n",
       "      <td>-0.256899</td>\n",
       "      <td>...</td>\n",
       "      <td>-0.210843</td>\n",
       "      <td>0.275371</td>\n",
       "      <td>-1.635647</td>\n",
       "      <td>-0.324657</td>\n",
       "      <td>0.208474</td>\n",
       "      <td>-0.015796</td>\n",
       "      <td>-0.088955</td>\n",
       "      <td>0.0</td>\n",
       "      <td>0</td>\n",
       "      <td>TEST</td>\n",
       "    </tr>\n",
       "    <tr>\n",
       "      <th>1</th>\n",
       "      <td>1</td>\n",
       "      <td>0</td>\n",
       "      <td>0.914136</td>\n",
       "      <td>[{'feature': 'V22', 'attribution': -0.27943925...</td>\n",
       "      <td>-1.466281</td>\n",
       "      <td>-2.365218</td>\n",
       "      <td>0.0</td>\n",
       "      <td>52904.0</td>\n",
       "      <td>1.365294</td>\n",
       "      <td>0.084424</td>\n",
       "      <td>...</td>\n",
       "      <td>-0.789833</td>\n",
       "      <td>0.006146</td>\n",
       "      <td>-0.391612</td>\n",
       "      <td>0.295629</td>\n",
       "      <td>0.897963</td>\n",
       "      <td>-0.085714</td>\n",
       "      <td>-0.004026</td>\n",
       "      <td>0.0</td>\n",
       "      <td>0</td>\n",
       "      <td>TEST</td>\n",
       "    </tr>\n",
       "    <tr>\n",
       "      <th>2</th>\n",
       "      <td>1</td>\n",
       "      <td>0</td>\n",
       "      <td>0.715265</td>\n",
       "      <td>[{'feature': 'V4', 'attribution': 1.4153501994...</td>\n",
       "      <td>-1.466281</td>\n",
       "      <td>-0.921096</td>\n",
       "      <td>0.0</td>\n",
       "      <td>73868.0</td>\n",
       "      <td>-0.422347</td>\n",
       "      <td>1.531719</td>\n",
       "      <td>...</td>\n",
       "      <td>-1.315610</td>\n",
       "      <td>-0.013144</td>\n",
       "      <td>-0.176537</td>\n",
       "      <td>-0.242915</td>\n",
       "      <td>-0.382894</td>\n",
       "      <td>0.084841</td>\n",
       "      <td>0.114663</td>\n",
       "      <td>0.0</td>\n",
       "      <td>0</td>\n",
       "      <td>TEST</td>\n",
       "    </tr>\n",
       "    <tr>\n",
       "      <th>3</th>\n",
       "      <td>1</td>\n",
       "      <td>0</td>\n",
       "      <td>0.831197</td>\n",
       "      <td>[{'feature': 'V4', 'attribution': -0.535403879...</td>\n",
       "      <td>-1.466281</td>\n",
       "      <td>-1.594134</td>\n",
       "      <td>0.0</td>\n",
       "      <td>73700.0</td>\n",
       "      <td>-0.504772</td>\n",
       "      <td>0.762501</td>\n",
       "      <td>...</td>\n",
       "      <td>-0.483168</td>\n",
       "      <td>-0.103865</td>\n",
       "      <td>0.422502</td>\n",
       "      <td>-0.382030</td>\n",
       "      <td>0.698180</td>\n",
       "      <td>-0.951370</td>\n",
       "      <td>-0.408880</td>\n",
       "      <td>0.0</td>\n",
       "      <td>0</td>\n",
       "      <td>TEST</td>\n",
       "    </tr>\n",
       "    <tr>\n",
       "      <th>4</th>\n",
       "      <td>1</td>\n",
       "      <td>1</td>\n",
       "      <td>0.796352</td>\n",
       "      <td>[{'feature': 'V4', 'attribution': 3.0412795460...</td>\n",
       "      <td>-1.466281</td>\n",
       "      <td>1.363651</td>\n",
       "      <td>0.0</td>\n",
       "      <td>136120.0</td>\n",
       "      <td>-0.387758</td>\n",
       "      <td>1.805715</td>\n",
       "      <td>...</td>\n",
       "      <td>1.356724</td>\n",
       "      <td>-0.290147</td>\n",
       "      <td>-0.033572</td>\n",
       "      <td>-0.412774</td>\n",
       "      <td>0.586723</td>\n",
       "      <td>-0.352233</td>\n",
       "      <td>-0.087373</td>\n",
       "      <td>0.0</td>\n",
       "      <td>0</td>\n",
       "      <td>TEST</td>\n",
       "    </tr>\n",
       "  </tbody>\n",
       "</table>\n",
       "<p>5 rows × 39 columns</p>\n",
       "</div>"
      ],
      "text/plain": [
       "   trial_id  predicted_Class  probability  \\\n",
       "0         1                0     0.944934   \n",
       "1         1                0     0.914136   \n",
       "2         1                0     0.715265   \n",
       "3         1                0     0.831197   \n",
       "4         1                1     0.796352   \n",
       "\n",
       "                            top_feature_attributions  \\\n",
       "0  [{'feature': 'V12', 'attribution': -0.58537294...   \n",
       "1  [{'feature': 'V22', 'attribution': -0.27943925...   \n",
       "2  [{'feature': 'V4', 'attribution': 1.4153501994...   \n",
       "3  [{'feature': 'V4', 'attribution': -0.535403879...   \n",
       "4  [{'feature': 'V4', 'attribution': 3.0412795460...   \n",
       "\n",
       "   baseline_prediction_value  prediction_value  approximation_error      Time  \\\n",
       "0                  -1.466281         -2.842588                  0.0  147033.0   \n",
       "1                  -1.466281         -2.365218                  0.0   52904.0   \n",
       "2                  -1.466281         -0.921096                  0.0   73868.0   \n",
       "3                  -1.466281         -1.594134                  0.0   73700.0   \n",
       "4                  -1.466281          1.363651                  0.0  136120.0   \n",
       "\n",
       "         V1        V2  ...       V22       V23       V24       V25       V26  \\\n",
       "0  1.933231 -0.256899  ... -0.210843  0.275371 -1.635647 -0.324657  0.208474   \n",
       "1  1.365294  0.084424  ... -0.789833  0.006146 -0.391612  0.295629  0.897963   \n",
       "2 -0.422347  1.531719  ... -1.315610 -0.013144 -0.176537 -0.242915 -0.382894   \n",
       "3 -0.504772  0.762501  ... -0.483168 -0.103865  0.422502 -0.382030  0.698180   \n",
       "4 -0.387758  1.805715  ...  1.356724 -0.290147 -0.033572 -0.412774  0.586723   \n",
       "\n",
       "        V27       V28  Amount  Class  splits  \n",
       "0 -0.015796 -0.088955     0.0      0    TEST  \n",
       "1 -0.085714 -0.004026     0.0      0    TEST  \n",
       "2  0.084841  0.114663     0.0      0    TEST  \n",
       "3 -0.951370 -0.408880     0.0      0    TEST  \n",
       "4 -0.352233 -0.087373     0.0      0    TEST  \n",
       "\n",
       "[5 rows x 39 columns]"
      ]
     },
     "execution_count": 41,
     "metadata": {},
     "output_type": "execute_result"
    }
   ],
   "source": [
    "explain.head()"
   ]
  },
  {
   "cell_type": "markdown",
   "id": "d7bc5aa2-6f43-4e34-9e3e-274178ef9dce",
   "metadata": {},
   "source": [
    "Create a plot of feature attributions for a single prediction:"
   ]
  },
  {
   "cell_type": "code",
   "execution_count": 42,
   "id": "f4d16e38-0c74-4b35-a0ee-e29eaef74486",
   "metadata": {},
   "outputs": [],
   "source": [
    "explanation = explain.iloc[0]['top_feature_attributions']"
   ]
  },
  {
   "cell_type": "code",
   "execution_count": 43,
   "id": "7dec5b27-73e5-4434-b63e-afec799f4bc2",
   "metadata": {},
   "outputs": [
    {
     "data": {
      "image/png": "[encoded data removed]",
      "text/plain": [
       "<Figure size 1500x500 with 1 Axes>"
      ]
     },
     "metadata": {},
     "output_type": "display_data"
    }
   ],
   "source": [
    "features = []\n",
    "scores = []\n",
    "for k in explanation:\n",
    "    features.append(k['feature'])\n",
    "    scores.append(k['attribution'])\n",
    "features = [x for _, x in sorted(zip(scores, features))]\n",
    "scores = sorted(scores)\n",
    "\n",
    "plt.figure(figsize=(15,5))\n",
    "plt.barh(features, scores)\n",
    "plt.title('Feature Attribution for Prediction')\n",
    "plt.show()"
   ]
  },
  {
   "cell_type": "markdown",
   "id": "fda629b1-e4e7-4abc-b2d1-c4e920fbc888",
   "metadata": {},
   "source": [
    "### Global Explainability\n",
    "Retrieve the influence of each feature on the model with [ML.GLOBAL_EXPLAIN](https://cloud.google.com/bigquery-ml/docs/reference/standard-sql/bigqueryml-syntax-global-explain).  "
   ]
  },
  {
   "cell_type": "code",
   "execution_count": 44,
   "id": "419aa43b-8e34-4088-b1f9-131d5ea0ce12",
   "metadata": {},
   "outputs": [],
   "source": [
    "query = f\"\"\"\n",
    "SELECT *\n",
    "FROM ML.GLOBAL_EXPLAIN (MODEL `{BQ_PROJECT}.{BQ_DATASET}.{BQ_MODEL}`)\n",
    "\"\"\"\n",
    "gexplain = bq.query(query = query).to_dataframe()"
   ]
  },
  {
   "cell_type": "code",
   "execution_count": 45,
   "id": "c11c73c8-f141-4dce-abea-fbe91c132ca5",
   "metadata": {},
   "outputs": [
    {
     "data": {
      "text/html": [
       "<div>\n",
       "<style scoped>\n",
       "    .dataframe tbody tr th:only-of-type {\n",
       "        vertical-align: middle;\n",
       "    }\n",
       "\n",
       "    .dataframe tbody tr th {\n",
       "        vertical-align: top;\n",
       "    }\n",
       "\n",
       "    .dataframe thead th {\n",
       "        text-align: right;\n",
       "    }\n",
       "</style>\n",
       "<table border=\"1\" class=\"dataframe\">\n",
       "  <thead>\n",
       "    <tr style=\"text-align: right;\">\n",
       "      <th></th>\n",
       "      <th>trial_id</th>\n",
       "      <th>feature</th>\n",
       "      <th>attribution</th>\n",
       "    </tr>\n",
       "  </thead>\n",
       "  <tbody>\n",
       "    <tr>\n",
       "      <th>0</th>\n",
       "      <td>1</td>\n",
       "      <td>V4</td>\n",
       "      <td>0.749745</td>\n",
       "    </tr>\n",
       "    <tr>\n",
       "      <th>1</th>\n",
       "      <td>1</td>\n",
       "      <td>V14</td>\n",
       "      <td>0.525959</td>\n",
       "    </tr>\n",
       "    <tr>\n",
       "      <th>2</th>\n",
       "      <td>1</td>\n",
       "      <td>V12</td>\n",
       "      <td>0.437132</td>\n",
       "    </tr>\n",
       "    <tr>\n",
       "      <th>3</th>\n",
       "      <td>1</td>\n",
       "      <td>V13</td>\n",
       "      <td>0.280166</td>\n",
       "    </tr>\n",
       "    <tr>\n",
       "      <th>4</th>\n",
       "      <td>1</td>\n",
       "      <td>V6</td>\n",
       "      <td>0.249640</td>\n",
       "    </tr>\n",
       "  </tbody>\n",
       "</table>\n",
       "</div>"
      ],
      "text/plain": [
       "   trial_id feature  attribution\n",
       "0         1      V4     0.749745\n",
       "1         1     V14     0.525959\n",
       "2         1     V12     0.437132\n",
       "3         1     V13     0.280166\n",
       "4         1      V6     0.249640"
      ]
     },
     "execution_count": 45,
     "metadata": {},
     "output_type": "execute_result"
    }
   ],
   "source": [
    "gexplain.head()"
   ]
  },
  {
   "cell_type": "code",
   "execution_count": 46,
   "id": "3a05329a-818f-4d77-94d3-41cff494f84f",
   "metadata": {},
   "outputs": [
    {
     "data": {
      "image/png": "[encoded data removed]",
      "text/plain": [
       "<Figure size 1500x800 with 1 Axes>"
      ]
     },
     "metadata": {},
     "output_type": "display_data"
    }
   ],
   "source": [
    "plt.figure(figsize=(15,8))\n",
    "plt.barh(gexplain['feature'], gexplain['attribution'])\n",
    "plt.title('Global Influence')\n",
    "plt.xlabel('Attribution')\n",
    "#plt.ylabel('Feature')\n",
    "plt.show()"
   ]
  },
  {
   "cell_type": "markdown",
   "id": "711d67b9-7dc0-4742-8c66-df3d7d423633",
   "metadata": {},
   "source": [
    "---\n",
    "## Serving With Vertex AI\n",
    "\n",
    "The training options for creating the model include registering the model the Vertex AI Automatically.  This makes deploying the model to a [Vertex AI Endpoint for online serving](https://cloud.google.com/vertex-ai/docs/general/deployment) very easy."
   ]
  },
  {
   "cell_type": "markdown",
   "id": "b13700f9-c1ae-4169-97f7-64568b042460",
   "metadata": {},
   "source": [
    "### Vertex AI Model Registry - Get Model\n",
    "\n",
    "When these modes were trained in BigQuery ML they included options for registration in Vertex AI Model Registry.  This section shows how to retrieve the information from the model using the [Vertex AI Python Client](../Tips/aiplatform_notes.md).\n",
    "\n",
    "References:\n",
    "- [aiplatform.Model()](https://cloud.google.com/python/docs/reference/aiplatform/latest/google.cloud.aiplatform.Model)"
   ]
  },
  {
   "cell_type": "code",
   "execution_count": 47,
   "id": "34938652-32af-49f3-9645-5011c3c8fdf5",
   "metadata": {},
   "outputs": [
    {
     "data": {
      "text/plain": [
       "'projects/918019863602/locations/us-central1/models/bqml_bqml_logistic-regression-hpt'"
      ]
     },
     "execution_count": 47,
     "metadata": {},
     "output_type": "execute_result"
    }
   ],
   "source": [
    "vertex_model = aiplatform.Model(model_name = f'bqml_{SERIES}_{EXPERIMENT}')\n",
    "vertex_model.resource_name"
   ]
  },
  {
   "cell_type": "code",
   "execution_count": 48,
   "id": "9870b4f0-954a-4b51-a91f-6de83954df67",
   "metadata": {},
   "outputs": [],
   "source": [
    "# note: this is blank since the model is managed by BQML and container is pre-specified\n",
    "vertex_model.uri "
   ]
  },
  {
   "cell_type": "code",
   "execution_count": 49,
   "id": "a2d60717-34f6-4932-a08c-3d594951762b",
   "metadata": {},
   "outputs": [
    {
     "data": {
      "text/plain": [
       "name: \"projects/918019863602/locations/us-central1/models/bqml_bqml_logistic-regression-hpt\"\n",
       "display_name: \"bqml_bqml_logistic-regression-hpt\"\n",
       "supported_deployment_resources_types: DEDICATED_RESOURCES\n",
       "supported_input_storage_formats: \"jsonl\"\n",
       "supported_input_storage_formats: \"bigquery\"\n",
       "supported_input_storage_formats: \"csv\"\n",
       "supported_input_storage_formats: \"tf-record\"\n",
       "supported_input_storage_formats: \"tf-record-gzip\"\n",
       "supported_input_storage_formats: \"file-list\"\n",
       "supported_output_storage_formats: \"jsonl\"\n",
       "supported_output_storage_formats: \"bigquery\"\n",
       "create_time {\n",
       "  seconds: 1745449928\n",
       "  nanos: 566497000\n",
       "}\n",
       "update_time {\n",
       "  seconds: 1745450034\n",
       "  nanos: 302420000\n",
       "}\n",
       "etag: \"AMEw9yOG6mRFGmn-Lh4PdMtFXeIWwLQEL6blvRjHM3TSb8tnomHfxGcUcr6aNkixpJ7J\"\n",
       "labels {\n",
       "  key: \"experiment\"\n",
       "  value: \"logistic-regression-hpt\"\n",
       "}\n",
       "labels {\n",
       "  key: \"series\"\n",
       "  value: \"bqml\"\n",
       "}\n",
       "explanation_spec {\n",
       "  parameters {\n",
       "    sampled_shapley_attribution {\n",
       "      path_count: 5\n",
       "    }\n",
       "  }\n",
       "  metadata {\n",
       "    inputs {\n",
       "      key: \"Amount\"\n",
       "      value {\n",
       "        input_tensor_name: \"Amount:0\"\n",
       "        encoding: IDENTITY\n",
       "        modality: \"numeric\"\n",
       "      }\n",
       "    }\n",
       "    inputs {\n",
       "      key: \"Time\"\n",
       "      value {\n",
       "        input_tensor_name: \"Time:0\"\n",
       "        encoding: IDENTITY\n",
       "        modality: \"numeric\"\n",
       "      }\n",
       "    }\n",
       "    inputs {\n",
       "      key: \"V1\"\n",
       "      value {\n",
       "        input_tensor_name: \"V1:0\"\n",
       "        encoding: IDENTITY\n",
       "        modality: \"numeric\"\n",
       "      }\n",
       "    }\n",
       "    inputs {\n",
       "      key: \"V10\"\n",
       "      value {\n",
       "        input_tensor_name: \"V10:0\"\n",
       "        encoding: IDENTITY\n",
       "        modality: \"numeric\"\n",
       "      }\n",
       "    }\n",
       "    inputs {\n",
       "      key: \"V11\"\n",
       "      value {\n",
       "        input_tensor_name: \"V11:0\"\n",
       "        encoding: IDENTITY\n",
       "        modality: \"numeric\"\n",
       "      }\n",
       "    }\n",
       "    inputs {\n",
       "      key: \"V12\"\n",
       "      value {\n",
       "        input_tensor_name: \"V12:0\"\n",
       "        encoding: IDENTITY\n",
       "        modality: \"numeric\"\n",
       "      }\n",
       "    }\n",
       "    inputs {\n",
       "      key: \"V13\"\n",
       "      value {\n",
       "        input_tensor_name: \"V13:0\"\n",
       "        encoding: IDENTITY\n",
       "        modality: \"numeric\"\n",
       "      }\n",
       "    }\n",
       "    inputs {\n",
       "      key: \"V14\"\n",
       "      value {\n",
       "        input_tensor_name: \"V14:0\"\n",
       "        encoding: IDENTITY\n",
       "        modality: \"numeric\"\n",
       "      }\n",
       "    }\n",
       "    inputs {\n",
       "      key: \"V15\"\n",
       "      value {\n",
       "        input_tensor_name: \"V15:0\"\n",
       "        encoding: IDENTITY\n",
       "        modality: \"numeric\"\n",
       "      }\n",
       "    }\n",
       "    inputs {\n",
       "      key: \"V16\"\n",
       "      value {\n",
       "        input_tensor_name: \"V16:0\"\n",
       "        encoding: IDENTITY\n",
       "        modality: \"numeric\"\n",
       "      }\n",
       "    }\n",
       "    inputs {\n",
       "      key: \"V17\"\n",
       "      value {\n",
       "        input_tensor_name: \"V17:0\"\n",
       "        encoding: IDENTITY\n",
       "        modality: \"numeric\"\n",
       "      }\n",
       "    }\n",
       "    inputs {\n",
       "      key: \"V18\"\n",
       "      value {\n",
       "        input_tensor_name: \"V18:0\"\n",
       "        encoding: IDENTITY\n",
       "        modality: \"numeric\"\n",
       "      }\n",
       "    }\n",
       "    inputs {\n",
       "      key: \"V19\"\n",
       "      value {\n",
       "        input_tensor_name: \"V19:0\"\n",
       "        encoding: IDENTITY\n",
       "        modality: \"numeric\"\n",
       "      }\n",
       "    }\n",
       "    inputs {\n",
       "      key: \"V2\"\n",
       "      value {\n",
       "        input_tensor_name: \"V2:0\"\n",
       "        encoding: IDENTITY\n",
       "        modality: \"numeric\"\n",
       "      }\n",
       "    }\n",
       "    inputs {\n",
       "      key: \"V20\"\n",
       "      value {\n",
       "        input_tensor_name: \"V20:0\"\n",
       "        encoding: IDENTITY\n",
       "        modality: \"numeric\"\n",
       "      }\n",
       "    }\n",
       "    inputs {\n",
       "      key: \"V21\"\n",
       "      value {\n",
       "        input_tensor_name: \"V21:0\"\n",
       "        encoding: IDENTITY\n",
       "        modality: \"numeric\"\n",
       "      }\n",
       "    }\n",
       "    inputs {\n",
       "      key: \"V22\"\n",
       "      value {\n",
       "        input_tensor_name: \"V22:0\"\n",
       "        encoding: IDENTITY\n",
       "        modality: \"numeric\"\n",
       "      }\n",
       "    }\n",
       "    inputs {\n",
       "      key: \"V23\"\n",
       "      value {\n",
       "        input_tensor_name: \"V23:0\"\n",
       "        encoding: IDENTITY\n",
       "        modality: \"numeric\"\n",
       "      }\n",
       "    }\n",
       "    inputs {\n",
       "      key: \"V24\"\n",
       "      value {\n",
       "        input_tensor_name: \"V24:0\"\n",
       "        encoding: IDENTITY\n",
       "        modality: \"numeric\"\n",
       "      }\n",
       "    }\n",
       "    inputs {\n",
       "      key: \"V25\"\n",
       "      value {\n",
       "        input_tensor_name: \"V25:0\"\n",
       "        encoding: IDENTITY\n",
       "        modality: \"numeric\"\n",
       "      }\n",
       "    }\n",
       "    inputs {\n",
       "      key: \"V26\"\n",
       "      value {\n",
       "        input_tensor_name: \"V26:0\"\n",
       "        encoding: IDENTITY\n",
       "        modality: \"numeric\"\n",
       "      }\n",
       "    }\n",
       "    inputs {\n",
       "      key: \"V27\"\n",
       "      value {\n",
       "        input_tensor_name: \"V27:0\"\n",
       "        encoding: IDENTITY\n",
       "        modality: \"numeric\"\n",
       "      }\n",
       "    }\n",
       "    inputs {\n",
       "      key: \"V28\"\n",
       "      value {\n",
       "        input_tensor_name: \"V28:0\"\n",
       "        encoding: IDENTITY\n",
       "        modality: \"numeric\"\n",
       "      }\n",
       "    }\n",
       "    inputs {\n",
       "      key: \"V3\"\n",
       "      value {\n",
       "        input_tensor_name: \"V3:0\"\n",
       "        encoding: IDENTITY\n",
       "        modality: \"numeric\"\n",
       "      }\n",
       "    }\n",
       "    inputs {\n",
       "      key: \"V4\"\n",
       "      value {\n",
       "        input_tensor_name: \"V4:0\"\n",
       "        encoding: IDENTITY\n",
       "        modality: \"numeric\"\n",
       "      }\n",
       "    }\n",
       "    inputs {\n",
       "      key: \"V5\"\n",
       "      value {\n",
       "        input_tensor_name: \"V5:0\"\n",
       "        encoding: IDENTITY\n",
       "        modality: \"numeric\"\n",
       "      }\n",
       "    }\n",
       "    inputs {\n",
       "      key: \"V6\"\n",
       "      value {\n",
       "        input_tensor_name: \"V6:0\"\n",
       "        encoding: IDENTITY\n",
       "        modality: \"numeric\"\n",
       "      }\n",
       "    }\n",
       "    inputs {\n",
       "      key: \"V7\"\n",
       "      value {\n",
       "        input_tensor_name: \"V7:0\"\n",
       "        encoding: IDENTITY\n",
       "        modality: \"numeric\"\n",
       "      }\n",
       "    }\n",
       "    inputs {\n",
       "      key: \"V8\"\n",
       "      value {\n",
       "        input_tensor_name: \"V8:0\"\n",
       "        encoding: IDENTITY\n",
       "        modality: \"numeric\"\n",
       "      }\n",
       "    }\n",
       "    inputs {\n",
       "      key: \"V9\"\n",
       "      value {\n",
       "        input_tensor_name: \"V9:0\"\n",
       "        encoding: IDENTITY\n",
       "        modality: \"numeric\"\n",
       "      }\n",
       "    }\n",
       "    inputs {\n",
       "      key: \"splits\"\n",
       "      value {\n",
       "        input_tensor_name: \"splits:0\"\n",
       "        encoding: IDENTITY\n",
       "        modality: \"numeric\"\n",
       "      }\n",
       "    }\n",
       "    outputs {\n",
       "      key: \"Class_logits\"\n",
       "      value {\n",
       "        output_tensor_name: \"Add:0\"\n",
       "      }\n",
       "    }\n",
       "  }\n",
       "}\n",
       "version_id: \"1\"\n",
       "version_aliases: \"run-20250423231102\"\n",
       "version_aliases: \"default\"\n",
       "version_create_time {\n",
       "  seconds: 1745449928\n",
       "  nanos: 566497000\n",
       "}\n",
       "version_update_time {\n",
       "  seconds: 1745450041\n",
       "  nanos: 722864000\n",
       "}\n",
       "model_source_info {\n",
       "  source_type: BQML\n",
       "}"
      ]
     },
     "execution_count": 49,
     "metadata": {},
     "output_type": "execute_result"
    }
   ],
   "source": [
    "vertex_model.gca_resource"
   ]
  },
  {
   "cell_type": "markdown",
   "id": "0d893ce9-2607-41cc-9971-cbacff89c018",
   "metadata": {},
   "source": [
    "### Vertex AI Endpoint - Create or Retrieve\n",
    "\n",
    "References:\n",
    "- [aiplatform.Endpoint()](https://cloud.google.com/python/docs/reference/aiplatform/latest/google.cloud.aiplatform.Endpoint)"
   ]
  },
  {
   "cell_type": "code",
   "execution_count": 50,
   "id": "b188d2dd-fe74-4a41-8564-5770d6655dc3",
   "metadata": {},
   "outputs": [
    {
     "name": "stdout",
     "output_type": "stream",
     "text": [
      "Creating Endpoint\n",
      "Create Endpoint backing LRO: projects/918019863602/locations/us-central1/endpoints/7782876564537999360/operations/6629363075998810112\n",
      "Endpoint created. Resource name: projects/918019863602/locations/us-central1/endpoints/7782876564537999360\n",
      "To use this Endpoint in another session:\n",
      "endpoint = aiplatform.Endpoint('projects/918019863602/locations/us-central1/endpoints/7782876564537999360')\n",
      "Endpoint Created: bqml\n"
     ]
    }
   ],
   "source": [
    "if not aiplatform.Endpoint.list(filter = f\"display_name={SERIES}\"):\n",
    "    endpoint = aiplatform.Endpoint.create(\n",
    "        display_name = f\"{SERIES}\",\n",
    "        labels = {'series' : f\"{SERIES}\"}\n",
    "    )\n",
    "    print(f\"Endpoint Created: {endpoint.display_name}\")\n",
    "else:\n",
    "    endpoint = aiplatform.Endpoint.list(filter = f\"display_name={SERIES}\")[0]\n",
    "    print(f\"Endpoint Found: {endpoint.display_name}\")"
   ]
  },
  {
   "cell_type": "code",
   "execution_count": 51,
   "id": "d6d16a80-c957-4285-9204-51421ccadc96",
   "metadata": {},
   "outputs": [
    {
     "data": {
      "text/plain": [
       "'bqml'"
      ]
     },
     "execution_count": 51,
     "metadata": {},
     "output_type": "execute_result"
    }
   ],
   "source": [
    "endpoint.display_name"
   ]
  },
  {
   "cell_type": "code",
   "execution_count": 52,
   "id": "d2f4a6da-3997-4da7-8369-789de38e75b8",
   "metadata": {},
   "outputs": [
    {
     "data": {
      "text/plain": [
       "{}"
      ]
     },
     "execution_count": 52,
     "metadata": {},
     "output_type": "execute_result"
    }
   ],
   "source": [
    "endpoint.traffic_split"
   ]
  },
  {
   "cell_type": "code",
   "execution_count": 53,
   "id": "4c5db429-5e4d-43ae-9d6f-4f333738ccf9",
   "metadata": {},
   "outputs": [],
   "source": [
    "deployed_models = endpoint.list_models()\n",
    "for d in deployed_models: print(d.display_name)"
   ]
  },
  {
   "cell_type": "markdown",
   "id": "dedcb700-802d-42fd-91b6-10fd1f1fbbe4",
   "metadata": {},
   "source": [
    "### Deploy Model To Vertex AI Endpoint\n",
    "\n",
    "**NOTE: This can take 15+ minutes to complete.**\n",
    "\n",
    "Reference:\n",
    "- [aiplatform.Endpoint.deploy()](https://cloud.google.com/python/docs/reference/aiplatform/latest/google.cloud.aiplatform.Endpoint#google_cloud_aiplatform_Endpoint_deploy)"
   ]
  },
  {
   "cell_type": "code",
   "execution_count": 55,
   "id": "3a5e1d72-874f-4582-9233-f6827096a784",
   "metadata": {},
   "outputs": [
    {
     "name": "stdout",
     "output_type": "stream",
     "text": [
      "Deploying Model projects/918019863602/locations/us-central1/models/bqml_bqml_logistic-regression-hpt to Endpoint : projects/918019863602/locations/us-central1/endpoints/7782876564537999360\n",
      "Deploy Endpoint model backing LRO: projects/918019863602/locations/us-central1/endpoints/7782876564537999360/operations/8143698450702139392\n"
     ]
    },
    {
     "ename": "InvalidArgument",
     "evalue": "400 Error occurred in Explanation preprocessing. <class 'ValueError'> NodeDef mentions attr 'debug_name' not in Op<name=VarHandleOp; signature= -> resource:resource; attr=container:string,default=\"\"; attr=shared_name:string,default=\"\"; attr=dtype:type; attr=shape:shape; is_stateful=true>; NodeDef: {{node weights}}. (Check whether your GraphDef-interpreting binary is up to date with your GraphDef-generating binary.).\n 3: Error occurred in Explanation preprocessing. <class 'ValueError'> NodeDef mentions attr 'debug_name' not in Op<name=VarHandleOp; signature= -> resource:resource; attr=container:string,default=\"\"; attr=shared_name:string,default=\"\"; attr=dtype:type; attr=shape:shape; is_stateful=true>; NodeDef: {{node weights}}. (Check whether your GraphDef-interpreting binary is up to date with your GraphDef-generating binary.).\n",
     "output_type": "error",
     "traceback": [
      "\u001b[0;31m---------------------------------------------------------------------------\u001b[0m",
      "\u001b[0;31mInvalidArgument\u001b[0m                           Traceback (most recent call last)",
      "Cell \u001b[0;32mIn[55], line 1\u001b[0m\n\u001b[0;32m----> 1\u001b[0m \u001b[43mendpoint\u001b[49m\u001b[38;5;241;43m.\u001b[39;49m\u001b[43mdeploy\u001b[49m\u001b[43m(\u001b[49m\n\u001b[1;32m      2\u001b[0m \u001b[43m    \u001b[49m\u001b[43mmodel\u001b[49m\u001b[43m \u001b[49m\u001b[38;5;241;43m=\u001b[39;49m\u001b[43m \u001b[49m\u001b[43mvertex_model\u001b[49m\u001b[43m,\u001b[49m\n\u001b[1;32m      3\u001b[0m \u001b[43m    \u001b[49m\u001b[43mdeployed_model_display_name\u001b[49m\u001b[43m \u001b[49m\u001b[38;5;241;43m=\u001b[39;49m\u001b[43m \u001b[49m\u001b[43mvertex_model\u001b[49m\u001b[38;5;241;43m.\u001b[39;49m\u001b[43mdisplay_name\u001b[49m\u001b[43m,\u001b[49m\n\u001b[1;32m      4\u001b[0m \u001b[43m    \u001b[49m\u001b[43mtraffic_percentage\u001b[49m\u001b[43m \u001b[49m\u001b[38;5;241;43m=\u001b[39;49m\u001b[43m \u001b[49m\u001b[38;5;241;43m100\u001b[39;49m\u001b[43m,\u001b[49m\n\u001b[1;32m      5\u001b[0m \u001b[43m    \u001b[49m\u001b[43mmachine_type\u001b[49m\u001b[43m \u001b[49m\u001b[38;5;241;43m=\u001b[39;49m\u001b[43m \u001b[49m\u001b[38;5;124;43m'\u001b[39;49m\u001b[38;5;124;43mn1-standard-2\u001b[39;49m\u001b[38;5;124;43m'\u001b[39;49m\u001b[43m,\u001b[49m\n\u001b[1;32m      6\u001b[0m \u001b[43m    \u001b[49m\u001b[43mmin_replica_count\u001b[49m\u001b[43m \u001b[49m\u001b[38;5;241;43m=\u001b[39;49m\u001b[43m \u001b[49m\u001b[38;5;241;43m1\u001b[39;49m\u001b[43m,\u001b[49m\n\u001b[1;32m      7\u001b[0m \u001b[43m    \u001b[49m\u001b[43mmax_replica_count\u001b[49m\u001b[43m \u001b[49m\u001b[38;5;241;43m=\u001b[39;49m\u001b[43m \u001b[49m\u001b[38;5;241;43m1\u001b[39;49m\u001b[43m,\u001b[49m\n\u001b[1;32m      8\u001b[0m \u001b[43m    \u001b[49m\u001b[43mexplanation_metadata\u001b[49m\u001b[38;5;241;43m=\u001b[39;49m\u001b[38;5;28;43;01mNone\u001b[39;49;00m\u001b[43m,\u001b[49m\n\u001b[1;32m      9\u001b[0m \u001b[43m    \u001b[49m\u001b[43mexplanation_parameters\u001b[49m\u001b[38;5;241;43m=\u001b[39;49m\u001b[38;5;28;43;01mNone\u001b[39;49;00m\u001b[43m    \u001b[49m\n\u001b[1;32m     10\u001b[0m \u001b[43m)\u001b[49m\n",
      "File \u001b[0;32m/opt/conda/lib/python3.10/site-packages/google/cloud/aiplatform/models.py:1492\u001b[0m, in \u001b[0;36mEndpoint.deploy\u001b[0;34m(self, model, deployed_model_display_name, traffic_percentage, traffic_split, machine_type, min_replica_count, max_replica_count, accelerator_type, accelerator_count, tpu_topology, service_account, explanation_metadata, explanation_parameters, metadata, sync, deploy_request_timeout, autoscaling_target_cpu_utilization, autoscaling_target_accelerator_duty_cycle, enable_access_logging, disable_container_logging, deployment_resource_pool, reservation_affinity_type, reservation_affinity_key, reservation_affinity_values, spot, fast_tryout_enabled, system_labels, required_replica_count)\u001b[0m\n\u001b[1;32m   1476\u001b[0m \u001b[38;5;28mself\u001b[39m\u001b[38;5;241m.\u001b[39m_validate_deploy_args(\n\u001b[1;32m   1477\u001b[0m     min_replica_count\u001b[38;5;241m=\u001b[39mmin_replica_count,\n\u001b[1;32m   1478\u001b[0m     max_replica_count\u001b[38;5;241m=\u001b[39mmax_replica_count,\n\u001b[0;32m   (...)\u001b[0m\n\u001b[1;32m   1484\u001b[0m     required_replica_count\u001b[38;5;241m=\u001b[39mrequired_replica_count,\n\u001b[1;32m   1485\u001b[0m )\n\u001b[1;32m   1487\u001b[0m explanation_spec \u001b[38;5;241m=\u001b[39m _explanation_utils\u001b[38;5;241m.\u001b[39mcreate_and_validate_explanation_spec(\n\u001b[1;32m   1488\u001b[0m     explanation_metadata\u001b[38;5;241m=\u001b[39mexplanation_metadata,\n\u001b[1;32m   1489\u001b[0m     explanation_parameters\u001b[38;5;241m=\u001b[39mexplanation_parameters,\n\u001b[1;32m   1490\u001b[0m )\n\u001b[0;32m-> 1492\u001b[0m \u001b[38;5;28;43mself\u001b[39;49m\u001b[38;5;241;43m.\u001b[39;49m\u001b[43m_deploy\u001b[49m\u001b[43m(\u001b[49m\n\u001b[1;32m   1493\u001b[0m \u001b[43m    \u001b[49m\u001b[43mmodel\u001b[49m\u001b[38;5;241;43m=\u001b[39;49m\u001b[43mmodel\u001b[49m\u001b[43m,\u001b[49m\n\u001b[1;32m   1494\u001b[0m \u001b[43m    \u001b[49m\u001b[43mdeployed_model_display_name\u001b[49m\u001b[38;5;241;43m=\u001b[39;49m\u001b[43mdeployed_model_display_name\u001b[49m\u001b[43m,\u001b[49m\n\u001b[1;32m   1495\u001b[0m \u001b[43m    \u001b[49m\u001b[43mtraffic_percentage\u001b[49m\u001b[38;5;241;43m=\u001b[39;49m\u001b[43mtraffic_percentage\u001b[49m\u001b[43m,\u001b[49m\n\u001b[1;32m   1496\u001b[0m \u001b[43m    \u001b[49m\u001b[43mtraffic_split\u001b[49m\u001b[38;5;241;43m=\u001b[39;49m\u001b[43mtraffic_split\u001b[49m\u001b[43m,\u001b[49m\n\u001b[1;32m   1497\u001b[0m \u001b[43m    \u001b[49m\u001b[43mmachine_type\u001b[49m\u001b[38;5;241;43m=\u001b[39;49m\u001b[43mmachine_type\u001b[49m\u001b[43m,\u001b[49m\n\u001b[1;32m   1498\u001b[0m \u001b[43m    \u001b[49m\u001b[43mmin_replica_count\u001b[49m\u001b[38;5;241;43m=\u001b[39;49m\u001b[43mmin_replica_count\u001b[49m\u001b[43m,\u001b[49m\n\u001b[1;32m   1499\u001b[0m \u001b[43m    \u001b[49m\u001b[43mmax_replica_count\u001b[49m\u001b[38;5;241;43m=\u001b[39;49m\u001b[43mmax_replica_count\u001b[49m\u001b[43m,\u001b[49m\n\u001b[1;32m   1500\u001b[0m \u001b[43m    \u001b[49m\u001b[43maccelerator_type\u001b[49m\u001b[38;5;241;43m=\u001b[39;49m\u001b[43maccelerator_type\u001b[49m\u001b[43m,\u001b[49m\n\u001b[1;32m   1501\u001b[0m \u001b[43m    \u001b[49m\u001b[43maccelerator_count\u001b[49m\u001b[38;5;241;43m=\u001b[39;49m\u001b[43maccelerator_count\u001b[49m\u001b[43m,\u001b[49m\n\u001b[1;32m   1502\u001b[0m \u001b[43m    \u001b[49m\u001b[43mtpu_topology\u001b[49m\u001b[38;5;241;43m=\u001b[39;49m\u001b[43mtpu_topology\u001b[49m\u001b[43m,\u001b[49m\n\u001b[1;32m   1503\u001b[0m \u001b[43m    \u001b[49m\u001b[43mreservation_affinity_type\u001b[49m\u001b[38;5;241;43m=\u001b[39;49m\u001b[43mreservation_affinity_type\u001b[49m\u001b[43m,\u001b[49m\n\u001b[1;32m   1504\u001b[0m \u001b[43m    \u001b[49m\u001b[43mreservation_affinity_key\u001b[49m\u001b[38;5;241;43m=\u001b[39;49m\u001b[43mreservation_affinity_key\u001b[49m\u001b[43m,\u001b[49m\n\u001b[1;32m   1505\u001b[0m \u001b[43m    \u001b[49m\u001b[43mreservation_affinity_values\u001b[49m\u001b[38;5;241;43m=\u001b[39;49m\u001b[43mreservation_affinity_values\u001b[49m\u001b[43m,\u001b[49m\n\u001b[1;32m   1506\u001b[0m \u001b[43m    \u001b[49m\u001b[43mservice_account\u001b[49m\u001b[38;5;241;43m=\u001b[39;49m\u001b[43mservice_account\u001b[49m\u001b[43m,\u001b[49m\n\u001b[1;32m   1507\u001b[0m \u001b[43m    \u001b[49m\u001b[43mexplanation_spec\u001b[49m\u001b[38;5;241;43m=\u001b[39;49m\u001b[43mexplanation_spec\u001b[49m\u001b[43m,\u001b[49m\n\u001b[1;32m   1508\u001b[0m \u001b[43m    \u001b[49m\u001b[43mmetadata\u001b[49m\u001b[38;5;241;43m=\u001b[39;49m\u001b[43mmetadata\u001b[49m\u001b[43m,\u001b[49m\n\u001b[1;32m   1509\u001b[0m \u001b[43m    \u001b[49m\u001b[43msync\u001b[49m\u001b[38;5;241;43m=\u001b[39;49m\u001b[43msync\u001b[49m\u001b[43m,\u001b[49m\n\u001b[1;32m   1510\u001b[0m \u001b[43m    \u001b[49m\u001b[43mdeploy_request_timeout\u001b[49m\u001b[38;5;241;43m=\u001b[39;49m\u001b[43mdeploy_request_timeout\u001b[49m\u001b[43m,\u001b[49m\n\u001b[1;32m   1511\u001b[0m \u001b[43m    \u001b[49m\u001b[43mautoscaling_target_cpu_utilization\u001b[49m\u001b[38;5;241;43m=\u001b[39;49m\u001b[43mautoscaling_target_cpu_utilization\u001b[49m\u001b[43m,\u001b[49m\n\u001b[1;32m   1512\u001b[0m \u001b[43m    \u001b[49m\u001b[43mautoscaling_target_accelerator_duty_cycle\u001b[49m\u001b[38;5;241;43m=\u001b[39;49m\u001b[43mautoscaling_target_accelerator_duty_cycle\u001b[49m\u001b[43m,\u001b[49m\n\u001b[1;32m   1513\u001b[0m \u001b[43m    \u001b[49m\u001b[43mspot\u001b[49m\u001b[38;5;241;43m=\u001b[39;49m\u001b[43mspot\u001b[49m\u001b[43m,\u001b[49m\n\u001b[1;32m   1514\u001b[0m \u001b[43m    \u001b[49m\u001b[43menable_access_logging\u001b[49m\u001b[38;5;241;43m=\u001b[39;49m\u001b[43menable_access_logging\u001b[49m\u001b[43m,\u001b[49m\n\u001b[1;32m   1515\u001b[0m \u001b[43m    \u001b[49m\u001b[43mdisable_container_logging\u001b[49m\u001b[38;5;241;43m=\u001b[39;49m\u001b[43mdisable_container_logging\u001b[49m\u001b[43m,\u001b[49m\n\u001b[1;32m   1516\u001b[0m \u001b[43m    \u001b[49m\u001b[43mdeployment_resource_pool\u001b[49m\u001b[38;5;241;43m=\u001b[39;49m\u001b[43mdeployment_resource_pool\u001b[49m\u001b[43m,\u001b[49m\n\u001b[1;32m   1517\u001b[0m \u001b[43m    \u001b[49m\u001b[43mfast_tryout_enabled\u001b[49m\u001b[38;5;241;43m=\u001b[39;49m\u001b[43mfast_tryout_enabled\u001b[49m\u001b[43m,\u001b[49m\n\u001b[1;32m   1518\u001b[0m \u001b[43m    \u001b[49m\u001b[43msystem_labels\u001b[49m\u001b[38;5;241;43m=\u001b[39;49m\u001b[43msystem_labels\u001b[49m\u001b[43m,\u001b[49m\n\u001b[1;32m   1519\u001b[0m \u001b[43m    \u001b[49m\u001b[43mrequired_replica_count\u001b[49m\u001b[38;5;241;43m=\u001b[39;49m\u001b[43mrequired_replica_count\u001b[49m\u001b[43m,\u001b[49m\n\u001b[1;32m   1520\u001b[0m \u001b[43m\u001b[49m\u001b[43m)\u001b[49m\n",
      "File \u001b[0;32m/opt/conda/lib/python3.10/site-packages/google/cloud/aiplatform/base.py:863\u001b[0m, in \u001b[0;36moptional_sync.<locals>.optional_run_in_thread.<locals>.wrapper\u001b[0;34m(*args, **kwargs)\u001b[0m\n\u001b[1;32m    861\u001b[0m     \u001b[38;5;28;01mif\u001b[39;00m \u001b[38;5;28mself\u001b[39m:\n\u001b[1;32m    862\u001b[0m         VertexAiResourceNounWithFutureManager\u001b[38;5;241m.\u001b[39mwait(\u001b[38;5;28mself\u001b[39m)\n\u001b[0;32m--> 863\u001b[0m     \u001b[38;5;28;01mreturn\u001b[39;00m \u001b[43mmethod\u001b[49m\u001b[43m(\u001b[49m\u001b[38;5;241;43m*\u001b[39;49m\u001b[43margs\u001b[49m\u001b[43m,\u001b[49m\u001b[43m \u001b[49m\u001b[38;5;241;43m*\u001b[39;49m\u001b[38;5;241;43m*\u001b[39;49m\u001b[43mkwargs\u001b[49m\u001b[43m)\u001b[49m\n\u001b[1;32m    865\u001b[0m \u001b[38;5;66;03m# callbacks to call within the Future (in same Thread)\u001b[39;00m\n\u001b[1;32m    866\u001b[0m internal_callbacks \u001b[38;5;241m=\u001b[39m []\n",
      "File \u001b[0;32m/opt/conda/lib/python3.10/site-packages/google/cloud/aiplatform/models.py:1674\u001b[0m, in \u001b[0;36mEndpoint._deploy\u001b[0;34m(self, model, deployed_model_display_name, traffic_percentage, traffic_split, machine_type, min_replica_count, max_replica_count, accelerator_type, accelerator_count, tpu_topology, reservation_affinity_type, reservation_affinity_key, reservation_affinity_values, service_account, explanation_spec, metadata, sync, deploy_request_timeout, autoscaling_target_cpu_utilization, autoscaling_target_accelerator_duty_cycle, spot, enable_access_logging, disable_container_logging, deployment_resource_pool, fast_tryout_enabled, system_labels, required_replica_count)\u001b[0m\n\u001b[1;32m   1553\u001b[0m \u001b[38;5;250m\u001b[39m\u001b[38;5;124;03m\"\"\"Deploys a Model to the Endpoint.\u001b[39;00m\n\u001b[1;32m   1554\u001b[0m \n\u001b[1;32m   1555\u001b[0m \u001b[38;5;124;03mArgs:\u001b[39;00m\n\u001b[0;32m   (...)\u001b[0m\n\u001b[1;32m   1668\u001b[0m \u001b[38;5;124;03m        rest of the replicas will be retried.\u001b[39;00m\n\u001b[1;32m   1669\u001b[0m \u001b[38;5;124;03m\"\"\"\u001b[39;00m\n\u001b[1;32m   1670\u001b[0m _LOGGER\u001b[38;5;241m.\u001b[39mlog_action_start_against_resource(\n\u001b[1;32m   1671\u001b[0m     \u001b[38;5;124mf\u001b[39m\u001b[38;5;124m\"\u001b[39m\u001b[38;5;124mDeploying Model \u001b[39m\u001b[38;5;132;01m{\u001b[39;00mmodel\u001b[38;5;241m.\u001b[39mresource_name\u001b[38;5;132;01m}\u001b[39;00m\u001b[38;5;124m to\u001b[39m\u001b[38;5;124m\"\u001b[39m, \u001b[38;5;124m\"\u001b[39m\u001b[38;5;124m\"\u001b[39m, \u001b[38;5;28mself\u001b[39m\n\u001b[1;32m   1672\u001b[0m )\n\u001b[0;32m-> 1674\u001b[0m \u001b[38;5;28;43mself\u001b[39;49m\u001b[38;5;241;43m.\u001b[39;49m\u001b[43m_deploy_call\u001b[49m\u001b[43m(\u001b[49m\n\u001b[1;32m   1675\u001b[0m \u001b[43m    \u001b[49m\u001b[43mapi_client\u001b[49m\u001b[38;5;241;43m=\u001b[39;49m\u001b[38;5;28;43mself\u001b[39;49m\u001b[38;5;241;43m.\u001b[39;49m\u001b[43mapi_client\u001b[49m\u001b[43m,\u001b[49m\n\u001b[1;32m   1676\u001b[0m \u001b[43m    \u001b[49m\u001b[43mendpoint_resource_name\u001b[49m\u001b[38;5;241;43m=\u001b[39;49m\u001b[38;5;28;43mself\u001b[39;49m\u001b[38;5;241;43m.\u001b[39;49m\u001b[43mresource_name\u001b[49m\u001b[43m,\u001b[49m\n\u001b[1;32m   1677\u001b[0m \u001b[43m    \u001b[49m\u001b[43mmodel\u001b[49m\u001b[38;5;241;43m=\u001b[39;49m\u001b[43mmodel\u001b[49m\u001b[43m,\u001b[49m\n\u001b[1;32m   1678\u001b[0m \u001b[43m    \u001b[49m\u001b[43mendpoint_resource_traffic_split\u001b[49m\u001b[38;5;241;43m=\u001b[39;49m\u001b[38;5;28;43mself\u001b[39;49m\u001b[38;5;241;43m.\u001b[39;49m\u001b[43m_gca_resource\u001b[49m\u001b[38;5;241;43m.\u001b[39;49m\u001b[43mtraffic_split\u001b[49m\u001b[43m,\u001b[49m\n\u001b[1;32m   1679\u001b[0m \u001b[43m    \u001b[49m\u001b[43mnetwork\u001b[49m\u001b[38;5;241;43m=\u001b[39;49m\u001b[38;5;28;43mself\u001b[39;49m\u001b[38;5;241;43m.\u001b[39;49m\u001b[43mnetwork\u001b[49m\u001b[43m,\u001b[49m\n\u001b[1;32m   1680\u001b[0m \u001b[43m    \u001b[49m\u001b[43mdeployed_model_display_name\u001b[49m\u001b[38;5;241;43m=\u001b[39;49m\u001b[43mdeployed_model_display_name\u001b[49m\u001b[43m,\u001b[49m\n\u001b[1;32m   1681\u001b[0m \u001b[43m    \u001b[49m\u001b[43mtraffic_percentage\u001b[49m\u001b[38;5;241;43m=\u001b[39;49m\u001b[43mtraffic_percentage\u001b[49m\u001b[43m,\u001b[49m\n\u001b[1;32m   1682\u001b[0m \u001b[43m    \u001b[49m\u001b[43mtraffic_split\u001b[49m\u001b[38;5;241;43m=\u001b[39;49m\u001b[43mtraffic_split\u001b[49m\u001b[43m,\u001b[49m\n\u001b[1;32m   1683\u001b[0m \u001b[43m    \u001b[49m\u001b[43mmachine_type\u001b[49m\u001b[38;5;241;43m=\u001b[39;49m\u001b[43mmachine_type\u001b[49m\u001b[43m,\u001b[49m\n\u001b[1;32m   1684\u001b[0m \u001b[43m    \u001b[49m\u001b[43mmin_replica_count\u001b[49m\u001b[38;5;241;43m=\u001b[39;49m\u001b[43mmin_replica_count\u001b[49m\u001b[43m,\u001b[49m\n\u001b[1;32m   1685\u001b[0m \u001b[43m    \u001b[49m\u001b[43mmax_replica_count\u001b[49m\u001b[38;5;241;43m=\u001b[39;49m\u001b[43mmax_replica_count\u001b[49m\u001b[43m,\u001b[49m\n\u001b[1;32m   1686\u001b[0m \u001b[43m    \u001b[49m\u001b[43maccelerator_type\u001b[49m\u001b[38;5;241;43m=\u001b[39;49m\u001b[43maccelerator_type\u001b[49m\u001b[43m,\u001b[49m\n\u001b[1;32m   1687\u001b[0m \u001b[43m    \u001b[49m\u001b[43maccelerator_count\u001b[49m\u001b[38;5;241;43m=\u001b[39;49m\u001b[43maccelerator_count\u001b[49m\u001b[43m,\u001b[49m\n\u001b[1;32m   1688\u001b[0m \u001b[43m    \u001b[49m\u001b[43mtpu_topology\u001b[49m\u001b[38;5;241;43m=\u001b[39;49m\u001b[43mtpu_topology\u001b[49m\u001b[43m,\u001b[49m\n\u001b[1;32m   1689\u001b[0m \u001b[43m    \u001b[49m\u001b[43mreservation_affinity_type\u001b[49m\u001b[38;5;241;43m=\u001b[39;49m\u001b[43mreservation_affinity_type\u001b[49m\u001b[43m,\u001b[49m\n\u001b[1;32m   1690\u001b[0m \u001b[43m    \u001b[49m\u001b[43mreservation_affinity_key\u001b[49m\u001b[38;5;241;43m=\u001b[39;49m\u001b[43mreservation_affinity_key\u001b[49m\u001b[43m,\u001b[49m\n\u001b[1;32m   1691\u001b[0m \u001b[43m    \u001b[49m\u001b[43mreservation_affinity_values\u001b[49m\u001b[38;5;241;43m=\u001b[39;49m\u001b[43mreservation_affinity_values\u001b[49m\u001b[43m,\u001b[49m\n\u001b[1;32m   1692\u001b[0m \u001b[43m    \u001b[49m\u001b[43mservice_account\u001b[49m\u001b[38;5;241;43m=\u001b[39;49m\u001b[43mservice_account\u001b[49m\u001b[43m,\u001b[49m\n\u001b[1;32m   1693\u001b[0m \u001b[43m    \u001b[49m\u001b[43mexplanation_spec\u001b[49m\u001b[38;5;241;43m=\u001b[39;49m\u001b[43mexplanation_spec\u001b[49m\u001b[43m,\u001b[49m\n\u001b[1;32m   1694\u001b[0m \u001b[43m    \u001b[49m\u001b[43mmetadata\u001b[49m\u001b[38;5;241;43m=\u001b[39;49m\u001b[43mmetadata\u001b[49m\u001b[43m,\u001b[49m\n\u001b[1;32m   1695\u001b[0m \u001b[43m    \u001b[49m\u001b[43mdeploy_request_timeout\u001b[49m\u001b[38;5;241;43m=\u001b[39;49m\u001b[43mdeploy_request_timeout\u001b[49m\u001b[43m,\u001b[49m\n\u001b[1;32m   1696\u001b[0m \u001b[43m    \u001b[49m\u001b[43mautoscaling_target_cpu_utilization\u001b[49m\u001b[38;5;241;43m=\u001b[39;49m\u001b[43mautoscaling_target_cpu_utilization\u001b[49m\u001b[43m,\u001b[49m\n\u001b[1;32m   1697\u001b[0m \u001b[43m    \u001b[49m\u001b[43mautoscaling_target_accelerator_duty_cycle\u001b[49m\u001b[38;5;241;43m=\u001b[39;49m\u001b[43mautoscaling_target_accelerator_duty_cycle\u001b[49m\u001b[43m,\u001b[49m\n\u001b[1;32m   1698\u001b[0m \u001b[43m    \u001b[49m\u001b[43mspot\u001b[49m\u001b[38;5;241;43m=\u001b[39;49m\u001b[43mspot\u001b[49m\u001b[43m,\u001b[49m\n\u001b[1;32m   1699\u001b[0m \u001b[43m    \u001b[49m\u001b[43menable_access_logging\u001b[49m\u001b[38;5;241;43m=\u001b[39;49m\u001b[43menable_access_logging\u001b[49m\u001b[43m,\u001b[49m\n\u001b[1;32m   1700\u001b[0m \u001b[43m    \u001b[49m\u001b[43mdisable_container_logging\u001b[49m\u001b[38;5;241;43m=\u001b[39;49m\u001b[43mdisable_container_logging\u001b[49m\u001b[43m,\u001b[49m\n\u001b[1;32m   1701\u001b[0m \u001b[43m    \u001b[49m\u001b[43mdeployment_resource_pool\u001b[49m\u001b[38;5;241;43m=\u001b[39;49m\u001b[43mdeployment_resource_pool\u001b[49m\u001b[43m,\u001b[49m\n\u001b[1;32m   1702\u001b[0m \u001b[43m    \u001b[49m\u001b[43mfast_tryout_enabled\u001b[49m\u001b[38;5;241;43m=\u001b[39;49m\u001b[43mfast_tryout_enabled\u001b[49m\u001b[43m,\u001b[49m\n\u001b[1;32m   1703\u001b[0m \u001b[43m    \u001b[49m\u001b[43msystem_labels\u001b[49m\u001b[38;5;241;43m=\u001b[39;49m\u001b[43msystem_labels\u001b[49m\u001b[43m,\u001b[49m\n\u001b[1;32m   1704\u001b[0m \u001b[43m    \u001b[49m\u001b[43mrequired_replica_count\u001b[49m\u001b[38;5;241;43m=\u001b[39;49m\u001b[43mrequired_replica_count\u001b[49m\u001b[43m,\u001b[49m\n\u001b[1;32m   1705\u001b[0m \u001b[43m\u001b[49m\u001b[43m)\u001b[49m\n\u001b[1;32m   1707\u001b[0m _LOGGER\u001b[38;5;241m.\u001b[39mlog_action_completed_against_resource(\u001b[38;5;124m\"\u001b[39m\u001b[38;5;124mmodel\u001b[39m\u001b[38;5;124m\"\u001b[39m, \u001b[38;5;124m\"\u001b[39m\u001b[38;5;124mdeployed\u001b[39m\u001b[38;5;124m\"\u001b[39m, \u001b[38;5;28mself\u001b[39m)\n\u001b[1;32m   1709\u001b[0m \u001b[38;5;28mself\u001b[39m\u001b[38;5;241m.\u001b[39m_sync_gca_resource()\n",
      "File \u001b[0;32m/opt/conda/lib/python3.10/site-packages/google/cloud/aiplatform/models.py:2088\u001b[0m, in \u001b[0;36mEndpoint._deploy_call\u001b[0;34m(cls, api_client, endpoint_resource_name, model, endpoint_resource_traffic_split, network, deployed_model_display_name, traffic_percentage, traffic_split, machine_type, min_replica_count, max_replica_count, accelerator_type, accelerator_count, tpu_topology, reservation_affinity_type, reservation_affinity_key, reservation_affinity_values, service_account, explanation_spec, metadata, deploy_request_timeout, autoscaling_target_cpu_utilization, autoscaling_target_accelerator_duty_cycle, spot, enable_access_logging, disable_container_logging, deployment_resource_pool, fast_tryout_enabled, system_labels, required_replica_count)\u001b[0m\n\u001b[1;32m   2076\u001b[0m operation_future \u001b[38;5;241m=\u001b[39m api_client\u001b[38;5;241m.\u001b[39mdeploy_model(\n\u001b[1;32m   2077\u001b[0m     endpoint\u001b[38;5;241m=\u001b[39mendpoint_resource_name,\n\u001b[1;32m   2078\u001b[0m     deployed_model\u001b[38;5;241m=\u001b[39mdeployed_model,\n\u001b[0;32m   (...)\u001b[0m\n\u001b[1;32m   2081\u001b[0m     timeout\u001b[38;5;241m=\u001b[39mdeploy_request_timeout,\n\u001b[1;32m   2082\u001b[0m )\n\u001b[1;32m   2084\u001b[0m _LOGGER\u001b[38;5;241m.\u001b[39mlog_action_started_against_resource_with_lro(\n\u001b[1;32m   2085\u001b[0m     \u001b[38;5;124m\"\u001b[39m\u001b[38;5;124mDeploy\u001b[39m\u001b[38;5;124m\"\u001b[39m, \u001b[38;5;124m\"\u001b[39m\u001b[38;5;124mmodel\u001b[39m\u001b[38;5;124m\"\u001b[39m, \u001b[38;5;28mcls\u001b[39m, operation_future\n\u001b[1;32m   2086\u001b[0m )\n\u001b[0;32m-> 2088\u001b[0m \u001b[43moperation_future\u001b[49m\u001b[38;5;241;43m.\u001b[39;49m\u001b[43mresult\u001b[49m\u001b[43m(\u001b[49m\u001b[43mtimeout\u001b[49m\u001b[38;5;241;43m=\u001b[39;49m\u001b[38;5;28;43;01mNone\u001b[39;49;00m\u001b[43m)\u001b[49m\n",
      "File \u001b[0;32m/opt/conda/lib/python3.10/site-packages/google/api_core/future/polling.py:261\u001b[0m, in \u001b[0;36mPollingFuture.result\u001b[0;34m(self, timeout, retry, polling)\u001b[0m\n\u001b[1;32m    256\u001b[0m \u001b[38;5;28mself\u001b[39m\u001b[38;5;241m.\u001b[39m_blocking_poll(timeout\u001b[38;5;241m=\u001b[39mtimeout, retry\u001b[38;5;241m=\u001b[39mretry, polling\u001b[38;5;241m=\u001b[39mpolling)\n\u001b[1;32m    258\u001b[0m \u001b[38;5;28;01mif\u001b[39;00m \u001b[38;5;28mself\u001b[39m\u001b[38;5;241m.\u001b[39m_exception \u001b[38;5;129;01mis\u001b[39;00m \u001b[38;5;129;01mnot\u001b[39;00m \u001b[38;5;28;01mNone\u001b[39;00m:\n\u001b[1;32m    259\u001b[0m     \u001b[38;5;66;03m# pylint: disable=raising-bad-type\u001b[39;00m\n\u001b[1;32m    260\u001b[0m     \u001b[38;5;66;03m# Pylint doesn't recognize that this is valid in this case.\u001b[39;00m\n\u001b[0;32m--> 261\u001b[0m     \u001b[38;5;28;01mraise\u001b[39;00m \u001b[38;5;28mself\u001b[39m\u001b[38;5;241m.\u001b[39m_exception\n\u001b[1;32m    263\u001b[0m \u001b[38;5;28;01mreturn\u001b[39;00m \u001b[38;5;28mself\u001b[39m\u001b[38;5;241m.\u001b[39m_result\n",
      "\u001b[0;31mInvalidArgument\u001b[0m: 400 Error occurred in Explanation preprocessing. <class 'ValueError'> NodeDef mentions attr 'debug_name' not in Op<name=VarHandleOp; signature= -> resource:resource; attr=container:string,default=\"\"; attr=shared_name:string,default=\"\"; attr=dtype:type; attr=shape:shape; is_stateful=true>; NodeDef: {{node weights}}. (Check whether your GraphDef-interpreting binary is up to date with your GraphDef-generating binary.).\n 3: Error occurred in Explanation preprocessing. <class 'ValueError'> NodeDef mentions attr 'debug_name' not in Op<name=VarHandleOp; signature= -> resource:resource; attr=container:string,default=\"\"; attr=shared_name:string,default=\"\"; attr=dtype:type; attr=shape:shape; is_stateful=true>; NodeDef: {{node weights}}. (Check whether your GraphDef-interpreting binary is up to date with your GraphDef-generating binary.).\n"
     ]
    }
   ],
   "source": [
    "endpoint.deploy(\n",
    "    model = vertex_model,\n",
    "    deployed_model_display_name = vertex_model.display_name,\n",
    "    traffic_percentage = 100,\n",
    "    machine_type = 'n1-standard-2',\n",
    "    min_replica_count = 1,\n",
    "    max_replica_count = 1,\n",
    "    explanation_metadata=None,\n",
    "    explanation_parameters=None    \n",
    ")"
   ]
  },
  {
   "cell_type": "markdown",
   "id": "30a5a63e-9c60-45ed-9a0a-fad39899fe28",
   "metadata": {},
   "source": [
    "---\n",
    "# DEBUGGING\n",
    "\n",
    "ERROR related to explanationspec from BQML registering model in Vertex AI Model Registry.  View the spec with `vertex_model.gca_resource`\n",
    "\n",
    "---"
   ]
  },
  {
   "cell_type": "code",
   "execution_count": null,
   "id": "cef02f97-c080-442d-9cd9-dac14bacab88",
   "metadata": {},
   "outputs": [],
   "source": [
    "endpoint.list_models()"
   ]
  },
  {
   "cell_type": "markdown",
   "id": "f23b38bf-7af0-41c5-975e-fbf8e234cf95",
   "metadata": {},
   "source": [
    "### Remove Deployed Models without Traffic"
   ]
  },
  {
   "cell_type": "code",
   "execution_count": null,
   "id": "29fe58f6-0138-4743-b57d-401fc94a406c",
   "metadata": {},
   "outputs": [],
   "source": [
    "for deployed_model in endpoint.list_models():\n",
    "    if deployed_model.id in endpoint.traffic_split:\n",
    "        print(f\"Model {deployed_model.display_name} with version {deployed_model.model_version_id} has traffic = {endpoint.traffic_split[deployed_model.id]}\")\n",
    "    else:\n",
    "        endpoint.undeploy(deployed_model_id = deployed_model.id)\n",
    "        print(f\"Undeploying {deployed_model.display_name} with version {deployed_model.model_version_id} because it has no traffic.\")"
   ]
  },
  {
   "cell_type": "code",
   "execution_count": null,
   "id": "02e12f12-64e8-4f0d-9a05-91c45d969c6e",
   "metadata": {},
   "outputs": [],
   "source": [
    "endpoint.traffic_split"
   ]
  },
  {
   "cell_type": "code",
   "execution_count": null,
   "id": "a7adc28c-2888-44b6-91cf-6753887ad852",
   "metadata": {},
   "outputs": [],
   "source": [
    "#endpoint.list_models()"
   ]
  },
  {
   "cell_type": "markdown",
   "id": "bd733854-41a6-447e-ac7f-8c4aae6b23f6",
   "metadata": {},
   "source": [
    "---\n",
    "## Predictions With Vertex AI Endpoint"
   ]
  },
  {
   "cell_type": "markdown",
   "id": "095e29aa-f28c-45d2-bc8a-518c27cce7a7",
   "metadata": {},
   "source": [
    "### Retrieve Records For Prediction"
   ]
  },
  {
   "cell_type": "code",
   "execution_count": null,
   "id": "25447641-0ae8-4ace-9c8a-2a4b94389a8d",
   "metadata": {},
   "outputs": [],
   "source": [
    "n = 10\n",
    "pred = bq.query(\n",
    "    query = f\"\"\"\n",
    "        SELECT * EXCEPT({VAR_TARGET}, splits)\n",
    "        FROM {BQ_PROJECT}.{BQ_DATASET}.{BQ_TABLE}\n",
    "        WHERE splits='TEST'\n",
    "        LIMIT {n}\n",
    "        \"\"\"\n",
    ").to_dataframe()"
   ]
  },
  {
   "cell_type": "markdown",
   "id": "7e2dd913-5f1d-44b8-93f1-c4ffe2a3ae68",
   "metadata": {},
   "source": [
    "Shape as instances: dictionaries of key:value pairs for only features used in model"
   ]
  },
  {
   "cell_type": "code",
   "execution_count": null,
   "id": "c89fe9f0-33ce-45e3-b0e8-0a53a72d0c30",
   "metadata": {},
   "outputs": [],
   "source": [
    "newobs = pred.to_dict(orient = 'records')"
   ]
  },
  {
   "cell_type": "code",
   "execution_count": null,
   "id": "ddced692-ab83-41df-bbc2-08d8a5b9e61b",
   "metadata": {},
   "outputs": [],
   "source": [
    "newobs[0]"
   ]
  },
  {
   "cell_type": "markdown",
   "id": "95d42c98-e887-421c-a148-ff6c00333984",
   "metadata": {},
   "source": [
    "### Get Predictions: Python Client"
   ]
  },
  {
   "cell_type": "code",
   "execution_count": null,
   "id": "b5316751-0480-4da5-8a8a-37d5950356c1",
   "metadata": {},
   "outputs": [],
   "source": [
    "prediction = endpoint.predict(instances = newobs[0:1])\n",
    "prediction"
   ]
  },
  {
   "cell_type": "code",
   "execution_count": null,
   "id": "5eb70f25-83ec-4893-88e5-700a296189db",
   "metadata": {},
   "outputs": [],
   "source": [
    "prediction.predictions[0]"
   ]
  },
  {
   "cell_type": "code",
   "execution_count": null,
   "id": "93bd9d6d-7179-4668-8d8d-efbe45ab2a1f",
   "metadata": {},
   "outputs": [],
   "source": [
    "np.argmax(prediction.predictions[0])"
   ]
  },
  {
   "cell_type": "markdown",
   "id": "b7f44037-38bc-41e0-83a5-645adc45ccd3",
   "metadata": {},
   "source": [
    "### Get Predictions: REST\n",
    "Reference:\n",
    "- [POST https://{REGION}-aiplatform.googleapis.com/v1/{endpoint}:predict](https://cloud.google.com/python/docs/reference/aiplatform/latest/google.cloud.aiplatform_v1.services.prediction_service.PredictionServiceClient#google_cloud_aiplatform_v1_services_prediction_service_PredictionServiceClient_predict)"
   ]
  },
  {
   "cell_type": "markdown",
   "id": "a9fb8c81-abde-48e8-a70e-d7d0dbeee29a",
   "metadata": {},
   "source": [
    "Prepare request:"
   ]
  },
  {
   "cell_type": "code",
   "execution_count": null,
   "id": "cd578d06-c345-44c9-88a6-43245e2bdd63",
   "metadata": {},
   "outputs": [],
   "source": [
    "with open(f'{DIR}/request.json','w') as file:\n",
    "    file.write(json.dumps({\"instances\": newobs[0:1]}))"
   ]
  },
  {
   "cell_type": "markdown",
   "id": "dfcf5dd5-f242-471e-8522-658ab8b02eb6",
   "metadata": {},
   "source": [
    "Prediction:"
   ]
  },
  {
   "cell_type": "code",
   "execution_count": null,
   "id": "43333ec1-d510-42e3-a9a2-58f3b1516470",
   "metadata": {},
   "outputs": [],
   "source": [
    "prediction = !curl -X POST \\\n",
    "-H \"Authorization: Bearer \"$(gcloud auth application-default print-access-token) \\\n",
    "-H \"Content-Type: application/json; charset=utf-8\" \\\n",
    "-d @{DIR}/request.json \\\n",
    "https://{REGION}-aiplatform.googleapis.com/v1/{endpoint.resource_name}:predict\n",
    "\n",
    "prediction"
   ]
  },
  {
   "cell_type": "markdown",
   "id": "b86ac691-4796-4f73-b571-b41cd6f80cc5",
   "metadata": {},
   "source": [
    "Format raw prediction response using JSON:"
   ]
  },
  {
   "cell_type": "markdown",
   "id": "f6e03ab4-e075-43c0-82b9-52d2a7671367",
   "metadata": {},
   "source": [
    "### Get Predictions: gcloud (CLI)\n",
    "Reference:\n",
    "- [gcloud ai endpoints predict](https://cloud.google.com/sdk/gcloud/reference/ai/endpoints/predict)"
   ]
  },
  {
   "cell_type": "markdown",
   "id": "487c20e5-0606-4ebe-bc00-ff7404268e31",
   "metadata": {},
   "source": [
    "Prepare request:"
   ]
  },
  {
   "cell_type": "code",
   "execution_count": null,
   "id": "76be73ab-ec52-4271-bed6-6ef4bcc0ed36",
   "metadata": {},
   "outputs": [],
   "source": [
    "with open(f'{DIR}/request.json','w') as file:\n",
    "    file.write(json.dumps({\"instances\": newobs[0:1]}))"
   ]
  },
  {
   "cell_type": "markdown",
   "id": "c453a227-b8d2-47f3-afb7-359392227d47",
   "metadata": {},
   "source": [
    "Prediction:"
   ]
  },
  {
   "cell_type": "code",
   "execution_count": null,
   "id": "bdafbae2-0c63-4345-a8a0-b17190281e78",
   "metadata": {},
   "outputs": [],
   "source": [
    "prediction = !gcloud beta ai endpoints predict {endpoint.name.rsplit('/',1)[-1]} --region={REGION} --json-request={DIR}/request.json\n",
    "prediction"
   ]
  },
  {
   "cell_type": "markdown",
   "id": "0aa8ae35-4908-4779-98ff-abd90263755e",
   "metadata": {},
   "source": [
    "---\n",
    "## Export Model\n",
    "\n",
    "The model created in BigQuery ML can be exported to their native model types save files.  This process saves the model artifacts in GCS where they can be use anywhere they are needed.  For instance, they could be imported into the Vertex AI Model Registry for use in online and batch serving - however, this process is automated with the training options use above."
   ]
  },
  {
   "cell_type": "markdown",
   "id": "9f0061b2-4402-4d37-8793-dd3f05b20bf6",
   "metadata": {},
   "source": [
    "### Export the BigQuery Model\n",
    "\n",
    "\n",
    "The models trained in BQML can be exported from BigQuery to GCS:\n",
    "\n",
    "Reference:\n",
    "- [Exporting Models](https://cloud.google.com/bigquery-ml/docs/exporting-models)"
   ]
  },
  {
   "cell_type": "code",
   "execution_count": null,
   "id": "8b1d3c42-5126-4588-adfa-c4177dd69b7b",
   "metadata": {},
   "outputs": [],
   "source": [
    "query = f\"\"\"\n",
    "EXPORT MODEL `{BQ_PROJECT}.{BQ_DATASET}.{BQ_MODEL}`\n",
    "    OPTIONS (URI = 'gs://{BUCKET}/{SERIES}/{EXPERIMENT}/models/{TIMESTAMP}/model')\n",
    "\"\"\"\n",
    "export = bq.query(query = query)\n",
    "export.result()"
   ]
  },
  {
   "cell_type": "code",
   "execution_count": null,
   "id": "1cd3d6a0-8d20-458c-8c02-06c4fe41cdb3",
   "metadata": {},
   "outputs": [],
   "source": [
    "(export.ended - export.started).total_seconds()"
   ]
  },
  {
   "cell_type": "code",
   "execution_count": null,
   "id": "fb8d8449-fc2d-409f-bc16-bc7dacb6db68",
   "metadata": {},
   "outputs": [],
   "source": [
    "listing = !gsutil ls gs://{BUCKET}/{SERIES}/{EXPERIMENT}/models/{TIMESTAMP}/model\n",
    "listing"
   ]
  },
  {
   "cell_type": "code",
   "execution_count": null,
   "id": "e141620a-14df-4f0b-9bc0-496df4c80e24",
   "metadata": {},
   "outputs": [],
   "source": [
    "print(f\"View the export in the console:\\nhttps://console.cloud.google.com/storage/browser/{BUCKET}/{SERIES}/{EXPERIMENT}/models/{TIMESTAMP}/model?project={PROJECT_ID}\")"
   ]
  },
  {
   "cell_type": "markdown",
   "id": "8c5258f6-32f7-4870-be03-2a3a32223192",
   "metadata": {},
   "source": [
    "### Detect The Model Types Framework"
   ]
  },
  {
   "cell_type": "code",
   "execution_count": null,
   "id": "58695098-2026-4ded-918e-86341473c6db",
   "metadata": {},
   "outputs": [],
   "source": [
    "filetype = {'pb': 'TensorFlow', 'bst': 'XGBoost'}\n",
    "\n",
    "filetypes = [filetype[f.split('.')[-1]] for f in listing if f.split('.')[-1] in ['pb','bst']]\n",
    "if len(list(set(filetypes))) == 1:\n",
    "    framework = filetypes[0]\n",
    "    print(f'framework = {framework}')\n",
    "else:\n",
    "    raise TypeError(f\"Model Type Undeteremined!! Review the contents of of 'listing = {listing}'.\")"
   ]
  },
  {
   "cell_type": "code",
   "execution_count": null,
   "id": "b7fb767f-cf18-44f6-a195-2633fa446ff8",
   "metadata": {},
   "outputs": [],
   "source": [
    "list(set(filetypes))"
   ]
  },
  {
   "cell_type": "markdown",
   "id": "36ee12cf-4ebc-4d6a-a4cc-54bd438dd620",
   "metadata": {},
   "source": [
    "---\n",
    "## Remove Resources\n",
    "\n",
    "The following cells have commented out statements that can be used to remove resources created by this notebook.  "
   ]
  },
  {
   "cell_type": "code",
   "execution_count": null,
   "id": "aabcdeb6-f9b0-4fcb-b592-12a5f2445156",
   "metadata": {},
   "outputs": [],
   "source": [
    "# delete endpoint, use `force` incase models are deployed or undeploy them first\n",
    "endpoint.delete(force = True)"
   ]
  },
  {
   "cell_type": "code",
   "execution_count": null,
   "id": "5edc9ed2-b050-4e40-8c18-5c8845cac408",
   "metadata": {
    "tags": []
   },
   "outputs": [],
   "source": [
    "# delete models created in BQ with BQML - this also removes them from Vertex AI Model Registry\n",
    "bq.delete_model(model)"
   ]
  },
  {
   "cell_type": "code",
   "execution_count": null,
   "id": "128a3875-ac25-426e-b08b-763c9c53028b",
   "metadata": {
    "tags": []
   },
   "outputs": [],
   "source": [
    "bq.delete_table({BQ_PROJECT}.{BQ_DATASET}.{BQ_TABLE}, not_found_ok=True)"
   ]
  },
  {
   "cell_type": "code",
   "execution_count": null,
   "id": "de068ee2-c0c8-445e-a491-75013556565d",
   "metadata": {},
   "outputs": [],
   "source": []
  }
 ],
 "metadata": {
  "environment": {
   "kernel": "conda-base-py",
   "name": "workbench-notebooks.m129",
   "type": "gcloud",
   "uri": "us-docker.pkg.dev/deeplearning-platform-release/gcr.io/workbench-notebooks:m129"
  },
  "kernelspec": {
   "display_name": "Python 3 (ipykernel) (Local)",
   "language": "python",
   "name": "conda-base-py"
  },
  "language_info": {
   "codemirror_mode": {
    "name": "ipython",
    "version": 3
   },
   "file_extension": ".py",
   "mimetype": "text/x-python",
   "name": "python",
   "nbconvert_exporter": "python",
   "pygments_lexer": "ipython3",
   "version": "3.10.16"
  }
 },
 "nbformat": 4,
 "nbformat_minor": 5
}
