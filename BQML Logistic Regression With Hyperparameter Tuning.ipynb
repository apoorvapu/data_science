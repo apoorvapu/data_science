{
 "cells": [
  {
   "cell_type": "markdown",
   "id": "200e8e26-24fb-4abf-8ad3-fbd64cf15bca",
   "metadata": {},
   "source": [
    "inputs:"
   ]
  },
  {
   "cell_type": "code",
   "execution_count": 1,
   "id": "01299520-2cfb-4914-9d40-37b3ef5b1583",
   "metadata": {},
   "outputs": [
    {
     "data": {
      "text/plain": [
       "'vertexaiproject-454121'"
      ]
     },
     "execution_count": 1,
     "metadata": {},
     "output_type": "execute_result"
    }
   ],
   "source": [
    "project = !gcloud config get-value project\n",
    "PROJECT_ID = project[0]\n",
    "PROJECT_ID"
   ]
  },
  {
   "cell_type": "code",
   "execution_count": 2,
   "id": "d3a70664-bf97-4d09-a0be-72a99e81a6ca",
   "metadata": {},
   "outputs": [],
   "source": [
    "REGION = 'us-central1'\n",
    "EXPERIMENT = 'logistic-regression-hpt'\n",
    "SERIES = 'bqml'\n",
    "\n",
    "# source data\n",
    "BQ_PROJECT = PROJECT_ID\n",
    "BQ_DATASET = 'fraud'\n",
    "BQ_TABLE = 'fraud_prepped'\n",
    "\n",
    "# Resources for serving BigQuery Model Exports\n",
    "TF_DEPLOY_IMAGE = 'us-docker.pkg.dev/vertex-ai/prediction/tf2-cpu.2-3:latest'\n",
    "XGB_DEPLOY_IMAGE = 'us-docker.pkg.dev/vertex-ai/prediction/xgboost-cpu.0-82:latest'\n",
    "\n",
    "# Resources for serving BigQuery Model Exports\n",
    "DEPLOY_COMPUTE = 'n1-standard-4'\n",
    "\n",
    "# Model Training\n",
    "VAR_TARGET = 'Class'\n"
   ]
  },
  {
   "cell_type": "markdown",
   "id": "04587458-8f6f-4825-bc1f-8dc801106f82",
   "metadata": {},
   "source": [
    "packages:"
   ]
  },
  {
   "cell_type": "code",
   "execution_count": 3,
   "id": "cba82382-8338-4df9-8e5f-538cdca16f17",
   "metadata": {},
   "outputs": [],
   "source": [
    "from google.cloud import bigquery\n",
    "from google.cloud import aiplatform\n",
    "from datetime import datetime\n",
    "import matplotlib.pyplot as plt\n",
    "from sklearn import metrics\n",
    "import numpy as np\n",
    "\n",
    "from google.api import httpbody_pb2\n",
    "import json"
   ]
  },
  {
   "cell_type": "markdown",
   "id": "84c9a0f0-8d23-4ba5-848a-d0f403626c34",
   "metadata": {},
   "source": [
    "clients:"
   ]
  },
  {
   "cell_type": "code",
   "execution_count": 4,
   "id": "bc18cd29-8f17-4335-88d1-491cb4c3dbd3",
   "metadata": {},
   "outputs": [],
   "source": [
    "bq = bigquery.Client(project = PROJECT_ID)\n",
    "aiplatform.init(project = PROJECT_ID, location = REGION)"
   ]
  },
  {
   "cell_type": "markdown",
   "id": "15bb57d0-53c3-455a-8e5f-dd787104f83c",
   "metadata": {},
   "source": [
    "parameters:"
   ]
  },
  {
   "cell_type": "code",
   "execution_count": 5,
   "id": "b32cc822-7823-4879-a623-f8e4bd0b2c82",
   "metadata": {},
   "outputs": [],
   "source": [
    "TIMESTAMP = datetime.now().strftime(\"%Y%m%d%H%M%S\")\n",
    "BUCKET = PROJECT_ID\n",
    "URI = f\"gs://{BUCKET}/{SERIES}/{EXPERIMENT}\"\n",
    "RUN_NAME = f'run-{TIMESTAMP}'\n",
    "\n",
    "BQ_MODEL = f'{SERIES}_{EXPERIMENT}_{TIMESTAMP}'"
   ]
  },
  {
   "cell_type": "markdown",
   "id": "01521a3f-d6e8-4136-8581-43345b2184e6",
   "metadata": {},
   "source": [
    "environment:"
   ]
  },
  {
   "cell_type": "code",
   "execution_count": 6,
   "id": "34f25162-354e-48cd-b621-274c26614e74",
   "metadata": {},
   "outputs": [],
   "source": [
    "DIR = f\"temp/{EXPERIMENT}\"\n",
    "\n",
    "!rm -rf {DIR}\n",
    "!mkdir -p {DIR}"
   ]
  },
  {
   "cell_type": "code",
   "execution_count": 11,
   "id": "9701780f-3a4a-44dd-8009-1c684c84b3a1",
   "metadata": {
    "tags": []
   },
   "outputs": [
    {
     "data": {
      "text/html": [
       "<div>\n",
       "<style scoped>\n",
       "    .dataframe tbody tr th:only-of-type {\n",
       "        vertical-align: middle;\n",
       "    }\n",
       "\n",
       "    .dataframe tbody tr th {\n",
       "        vertical-align: top;\n",
       "    }\n",
       "\n",
       "    .dataframe thead th {\n",
       "        text-align: right;\n",
       "    }\n",
       "</style>\n",
       "<table border=\"1\" class=\"dataframe\">\n",
       "  <thead>\n",
       "    <tr style=\"text-align: right;\">\n",
       "      <th></th>\n",
       "      <th>Time</th>\n",
       "      <th>V1</th>\n",
       "      <th>V2</th>\n",
       "      <th>V3</th>\n",
       "      <th>V4</th>\n",
       "      <th>V5</th>\n",
       "      <th>V6</th>\n",
       "      <th>V7</th>\n",
       "      <th>V8</th>\n",
       "      <th>V9</th>\n",
       "      <th>...</th>\n",
       "      <th>V21</th>\n",
       "      <th>V22</th>\n",
       "      <th>V23</th>\n",
       "      <th>V24</th>\n",
       "      <th>V25</th>\n",
       "      <th>V26</th>\n",
       "      <th>V27</th>\n",
       "      <th>V28</th>\n",
       "      <th>Amount</th>\n",
       "      <th>Class</th>\n",
       "    </tr>\n",
       "  </thead>\n",
       "  <tbody>\n",
       "    <tr>\n",
       "      <th>0</th>\n",
       "      <td>8748.0</td>\n",
       "      <td>-1.070416</td>\n",
       "      <td>0.304517</td>\n",
       "      <td>2.777064</td>\n",
       "      <td>2.154061</td>\n",
       "      <td>0.254450</td>\n",
       "      <td>-0.448529</td>\n",
       "      <td>-0.398691</td>\n",
       "      <td>0.144672</td>\n",
       "      <td>1.070900</td>\n",
       "      <td>...</td>\n",
       "      <td>-0.122032</td>\n",
       "      <td>-0.182351</td>\n",
       "      <td>0.019576</td>\n",
       "      <td>0.626023</td>\n",
       "      <td>-0.018518</td>\n",
       "      <td>-0.263291</td>\n",
       "      <td>-0.198600</td>\n",
       "      <td>0.098435</td>\n",
       "      <td>0.0</td>\n",
       "      <td>0</td>\n",
       "    </tr>\n",
       "    <tr>\n",
       "      <th>1</th>\n",
       "      <td>27074.0</td>\n",
       "      <td>1.165628</td>\n",
       "      <td>0.423671</td>\n",
       "      <td>0.887635</td>\n",
       "      <td>2.740163</td>\n",
       "      <td>-0.338578</td>\n",
       "      <td>-0.142846</td>\n",
       "      <td>-0.055628</td>\n",
       "      <td>-0.015325</td>\n",
       "      <td>-0.213621</td>\n",
       "      <td>...</td>\n",
       "      <td>-0.081184</td>\n",
       "      <td>-0.025694</td>\n",
       "      <td>-0.076609</td>\n",
       "      <td>0.414687</td>\n",
       "      <td>0.631032</td>\n",
       "      <td>0.077322</td>\n",
       "      <td>0.010182</td>\n",
       "      <td>0.019912</td>\n",
       "      <td>0.0</td>\n",
       "      <td>0</td>\n",
       "    </tr>\n",
       "    <tr>\n",
       "      <th>2</th>\n",
       "      <td>28292.0</td>\n",
       "      <td>1.050879</td>\n",
       "      <td>0.053408</td>\n",
       "      <td>1.364590</td>\n",
       "      <td>2.666158</td>\n",
       "      <td>-0.378636</td>\n",
       "      <td>1.382032</td>\n",
       "      <td>-0.766202</td>\n",
       "      <td>0.486126</td>\n",
       "      <td>0.152611</td>\n",
       "      <td>...</td>\n",
       "      <td>0.083467</td>\n",
       "      <td>0.624424</td>\n",
       "      <td>-0.157228</td>\n",
       "      <td>-0.240411</td>\n",
       "      <td>0.573061</td>\n",
       "      <td>0.244090</td>\n",
       "      <td>0.063834</td>\n",
       "      <td>0.010981</td>\n",
       "      <td>0.0</td>\n",
       "      <td>0</td>\n",
       "    </tr>\n",
       "    <tr>\n",
       "      <th>3</th>\n",
       "      <td>28488.0</td>\n",
       "      <td>1.070316</td>\n",
       "      <td>0.079499</td>\n",
       "      <td>1.471856</td>\n",
       "      <td>2.863786</td>\n",
       "      <td>-0.637887</td>\n",
       "      <td>0.858159</td>\n",
       "      <td>-0.687478</td>\n",
       "      <td>0.344146</td>\n",
       "      <td>0.459561</td>\n",
       "      <td>...</td>\n",
       "      <td>0.048067</td>\n",
       "      <td>0.534713</td>\n",
       "      <td>-0.098645</td>\n",
       "      <td>0.129272</td>\n",
       "      <td>0.543737</td>\n",
       "      <td>0.242724</td>\n",
       "      <td>0.065070</td>\n",
       "      <td>0.023500</td>\n",
       "      <td>0.0</td>\n",
       "      <td>0</td>\n",
       "    </tr>\n",
       "    <tr>\n",
       "      <th>4</th>\n",
       "      <td>31392.0</td>\n",
       "      <td>-3.680953</td>\n",
       "      <td>-4.183581</td>\n",
       "      <td>2.642743</td>\n",
       "      <td>4.263802</td>\n",
       "      <td>4.643286</td>\n",
       "      <td>-0.225053</td>\n",
       "      <td>-3.733637</td>\n",
       "      <td>1.273037</td>\n",
       "      <td>0.015661</td>\n",
       "      <td>...</td>\n",
       "      <td>0.649051</td>\n",
       "      <td>1.054124</td>\n",
       "      <td>0.795528</td>\n",
       "      <td>-0.901314</td>\n",
       "      <td>-0.425524</td>\n",
       "      <td>0.511675</td>\n",
       "      <td>0.125419</td>\n",
       "      <td>0.243671</td>\n",
       "      <td>0.0</td>\n",
       "      <td>0</td>\n",
       "    </tr>\n",
       "  </tbody>\n",
       "</table>\n",
       "<p>5 rows × 31 columns</p>\n",
       "</div>"
      ],
      "text/plain": [
       "      Time        V1        V2        V3        V4        V5        V6  \\\n",
       "0   8748.0 -1.070416  0.304517  2.777064  2.154061  0.254450 -0.448529   \n",
       "1  27074.0  1.165628  0.423671  0.887635  2.740163 -0.338578 -0.142846   \n",
       "2  28292.0  1.050879  0.053408  1.364590  2.666158 -0.378636  1.382032   \n",
       "3  28488.0  1.070316  0.079499  1.471856  2.863786 -0.637887  0.858159   \n",
       "4  31392.0 -3.680953 -4.183581  2.642743  4.263802  4.643286 -0.225053   \n",
       "\n",
       "         V7        V8        V9  ...       V21       V22       V23       V24  \\\n",
       "0 -0.398691  0.144672  1.070900  ... -0.122032 -0.182351  0.019576  0.626023   \n",
       "1 -0.055628 -0.015325 -0.213621  ... -0.081184 -0.025694 -0.076609  0.414687   \n",
       "2 -0.766202  0.486126  0.152611  ...  0.083467  0.624424 -0.157228 -0.240411   \n",
       "3 -0.687478  0.344146  0.459561  ...  0.048067  0.534713 -0.098645  0.129272   \n",
       "4 -3.733637  1.273037  0.015661  ...  0.649051  1.054124  0.795528 -0.901314   \n",
       "\n",
       "        V25       V26       V27       V28  Amount  Class  \n",
       "0 -0.018518 -0.263291 -0.198600  0.098435     0.0      0  \n",
       "1  0.631032  0.077322  0.010182  0.019912     0.0      0  \n",
       "2  0.573061  0.244090  0.063834  0.010981     0.0      0  \n",
       "3  0.543737  0.242724  0.065070  0.023500     0.0      0  \n",
       "4 -0.425524  0.511675  0.125419  0.243671     0.0      0  \n",
       "\n",
       "[5 rows x 31 columns]"
      ]
     },
     "execution_count": 11,
     "metadata": {},
     "output_type": "execute_result"
    }
   ],
   "source": [
    "query = f\"\"\"\n",
    "SELECT * FROM `bigquery-public-data.ml_datasets.ulb_fraud_detection` LIMIT 5\n",
    "\"\"\"\n",
    "bq.query(query = query).to_dataframe()"
   ]
  },
  {
   "cell_type": "code",
   "execution_count": 14,
   "id": "6aa774db-ab18-4079-a174-0db48b5c9171",
   "metadata": {
    "tags": []
   },
   "outputs": [
    {
     "name": "stdout",
     "output_type": "stream",
     "text": [
      "Dataset vertexaiproject-454121.fraud created or already exists.\n"
     ]
    }
   ],
   "source": [
    "dataset_id = f\"{BQ_PROJECT}.{BQ_DATASET}\"  # e.g., vertexaiproject-454121.fraud\n",
    "dataset = bigquery.Dataset(dataset_id)\n",
    "bq.create_dataset(dataset, exists_ok=True)\n",
    "print(f\"Dataset {dataset_id} created or already exists.\")"
   ]
  },
  {
   "cell_type": "code",
   "execution_count": 15,
   "id": "63ab6ea5-0d39-411a-8ab7-838a4699f82c",
   "metadata": {
    "tags": []
   },
   "outputs": [
    {
     "data": {
      "text/plain": [
       "<google.cloud.bigquery.table._EmptyRowIterator at 0x7f8661e2ed10>"
      ]
     },
     "execution_count": 15,
     "metadata": {},
     "output_type": "execute_result"
    }
   ],
   "source": [
    "query = f\"\"\"\n",
    "CREATE OR REPLACE TABLE `{BQ_PROJECT}.{BQ_DATASET}.{BQ_TABLE}` AS\n",
    "SELECT\n",
    "  *,\n",
    "  CASE\n",
    "    WHEN RAND() < 0.7 THEN 'TRAIN'\n",
    "    WHEN RAND() < 0.85 THEN 'VALIDATE'\n",
    "    ELSE 'TEST'\n",
    "  END AS splits\n",
    "FROM\n",
    "  `bigquery-public-data.ml_datasets.ulb_fraud_detection`;\n",
    "\"\"\"\n",
    "bq.query(query).result()  # Just execute, no dataframe here"
   ]
  },
  {
   "cell_type": "markdown",
   "id": "4c1213c0-ff86-4452-ac93-43c8a5c30912",
   "metadata": {},
   "source": [
    "Review the number of records for each level of Class (VAR_TARGET) for each of the data splits:"
   ]
  },
  {
   "cell_type": "code",
   "execution_count": 16,
   "id": "0d37f4a4-1603-493a-8549-7f1327ace90d",
   "metadata": {},
   "outputs": [
    {
     "data": {
      "text/html": [
       "<div>\n",
       "<style scoped>\n",
       "    .dataframe tbody tr th:only-of-type {\n",
       "        vertical-align: middle;\n",
       "    }\n",
       "\n",
       "    .dataframe tbody tr th {\n",
       "        vertical-align: top;\n",
       "    }\n",
       "\n",
       "    .dataframe thead th {\n",
       "        text-align: right;\n",
       "    }\n",
       "</style>\n",
       "<table border=\"1\" class=\"dataframe\">\n",
       "  <thead>\n",
       "    <tr style=\"text-align: right;\">\n",
       "      <th></th>\n",
       "      <th>splits</th>\n",
       "      <th>Class</th>\n",
       "      <th>n</th>\n",
       "    </tr>\n",
       "  </thead>\n",
       "  <tbody>\n",
       "    <tr>\n",
       "      <th>0</th>\n",
       "      <td>TEST</td>\n",
       "      <td>0</td>\n",
       "      <td>12881</td>\n",
       "    </tr>\n",
       "    <tr>\n",
       "      <th>1</th>\n",
       "      <td>TEST</td>\n",
       "      <td>1</td>\n",
       "      <td>24</td>\n",
       "    </tr>\n",
       "    <tr>\n",
       "      <th>2</th>\n",
       "      <td>TRAIN</td>\n",
       "      <td>0</td>\n",
       "      <td>198797</td>\n",
       "    </tr>\n",
       "    <tr>\n",
       "      <th>3</th>\n",
       "      <td>TRAIN</td>\n",
       "      <td>1</td>\n",
       "      <td>357</td>\n",
       "    </tr>\n",
       "    <tr>\n",
       "      <th>4</th>\n",
       "      <td>VALIDATE</td>\n",
       "      <td>0</td>\n",
       "      <td>72637</td>\n",
       "    </tr>\n",
       "    <tr>\n",
       "      <th>5</th>\n",
       "      <td>VALIDATE</td>\n",
       "      <td>1</td>\n",
       "      <td>111</td>\n",
       "    </tr>\n",
       "  </tbody>\n",
       "</table>\n",
       "</div>"
      ],
      "text/plain": [
       "     splits  Class       n\n",
       "0      TEST      0   12881\n",
       "1      TEST      1      24\n",
       "2     TRAIN      0  198797\n",
       "3     TRAIN      1     357\n",
       "4  VALIDATE      0   72637\n",
       "5  VALIDATE      1     111"
      ]
     },
     "execution_count": 16,
     "metadata": {},
     "output_type": "execute_result"
    }
   ],
   "source": [
    "query = f\"\"\"\n",
    "SELECT splits, {VAR_TARGET}, count(*) as n\n",
    "FROM `{BQ_PROJECT}.{BQ_DATASET}.{BQ_TABLE}`\n",
    "GROUP BY splits, {VAR_TARGET}\n",
    "\"\"\"\n",
    "bq.query(query = query).to_dataframe()"
   ]
  },
  {
   "cell_type": "code",
   "execution_count": 21,
   "id": "d780a4ca-c960-437b-97d5-f41f29bae6f5",
   "metadata": {
    "tags": []
   },
   "outputs": [
    {
     "data": {
      "text/html": [
       "<div>\n",
       "<style scoped>\n",
       "    .dataframe tbody tr th:only-of-type {\n",
       "        vertical-align: middle;\n",
       "    }\n",
       "\n",
       "    .dataframe tbody tr th {\n",
       "        vertical-align: top;\n",
       "    }\n",
       "\n",
       "    .dataframe thead th {\n",
       "        text-align: right;\n",
       "    }\n",
       "</style>\n",
       "<table border=\"1\" class=\"dataframe\">\n",
       "  <thead>\n",
       "    <tr style=\"text-align: right;\">\n",
       "      <th></th>\n",
       "      <th>Time</th>\n",
       "      <th>V1</th>\n",
       "      <th>V2</th>\n",
       "      <th>V3</th>\n",
       "      <th>V4</th>\n",
       "      <th>V5</th>\n",
       "      <th>V6</th>\n",
       "      <th>V7</th>\n",
       "      <th>V8</th>\n",
       "      <th>V9</th>\n",
       "      <th>...</th>\n",
       "      <th>V22</th>\n",
       "      <th>V23</th>\n",
       "      <th>V24</th>\n",
       "      <th>V25</th>\n",
       "      <th>V26</th>\n",
       "      <th>V27</th>\n",
       "      <th>V28</th>\n",
       "      <th>Amount</th>\n",
       "      <th>Class</th>\n",
       "      <th>splits</th>\n",
       "    </tr>\n",
       "  </thead>\n",
       "  <tbody>\n",
       "    <tr>\n",
       "      <th>0</th>\n",
       "      <td>30971.0</td>\n",
       "      <td>1.242351</td>\n",
       "      <td>-0.090043</td>\n",
       "      <td>0.151049</td>\n",
       "      <td>-0.304315</td>\n",
       "      <td>-0.238079</td>\n",
       "      <td>-0.230514</td>\n",
       "      <td>-0.201475</td>\n",
       "      <td>0.108172</td>\n",
       "      <td>0.099752</td>\n",
       "      <td>...</td>\n",
       "      <td>-0.569518</td>\n",
       "      <td>0.101134</td>\n",
       "      <td>-0.277948</td>\n",
       "      <td>0.082921</td>\n",
       "      <td>0.882632</td>\n",
       "      <td>-0.080413</td>\n",
       "      <td>-0.015072</td>\n",
       "      <td>0.0</td>\n",
       "      <td>0</td>\n",
       "      <td>TEST</td>\n",
       "    </tr>\n",
       "    <tr>\n",
       "      <th>1</th>\n",
       "      <td>116734.0</td>\n",
       "      <td>1.882176</td>\n",
       "      <td>0.246174</td>\n",
       "      <td>-0.167191</td>\n",
       "      <td>4.057484</td>\n",
       "      <td>-0.093712</td>\n",
       "      <td>0.234933</td>\n",
       "      <td>-0.259799</td>\n",
       "      <td>0.100338</td>\n",
       "      <td>-0.086675</td>\n",
       "      <td>...</td>\n",
       "      <td>0.470923</td>\n",
       "      <td>0.100757</td>\n",
       "      <td>-0.035073</td>\n",
       "      <td>0.053270</td>\n",
       "      <td>0.141382</td>\n",
       "      <td>-0.006323</td>\n",
       "      <td>-0.050050</td>\n",
       "      <td>0.0</td>\n",
       "      <td>0</td>\n",
       "      <td>TEST</td>\n",
       "    </tr>\n",
       "    <tr>\n",
       "      <th>2</th>\n",
       "      <td>73868.0</td>\n",
       "      <td>-0.422347</td>\n",
       "      <td>1.531719</td>\n",
       "      <td>1.711154</td>\n",
       "      <td>2.064467</td>\n",
       "      <td>0.742043</td>\n",
       "      <td>-0.149985</td>\n",
       "      <td>0.982804</td>\n",
       "      <td>-0.095459</td>\n",
       "      <td>-1.782018</td>\n",
       "      <td>...</td>\n",
       "      <td>-1.315610</td>\n",
       "      <td>-0.013144</td>\n",
       "      <td>-0.176537</td>\n",
       "      <td>-0.242915</td>\n",
       "      <td>-0.382894</td>\n",
       "      <td>0.084841</td>\n",
       "      <td>0.114663</td>\n",
       "      <td>0.0</td>\n",
       "      <td>0</td>\n",
       "      <td>TEST</td>\n",
       "    </tr>\n",
       "    <tr>\n",
       "      <th>3</th>\n",
       "      <td>113772.0</td>\n",
       "      <td>1.890485</td>\n",
       "      <td>0.261331</td>\n",
       "      <td>-0.160093</td>\n",
       "      <td>4.066246</td>\n",
       "      <td>-0.122212</td>\n",
       "      <td>0.146896</td>\n",
       "      <td>-0.239392</td>\n",
       "      <td>0.069196</td>\n",
       "      <td>-0.098295</td>\n",
       "      <td>...</td>\n",
       "      <td>0.455722</td>\n",
       "      <td>0.094141</td>\n",
       "      <td>0.026726</td>\n",
       "      <td>0.069946</td>\n",
       "      <td>0.135425</td>\n",
       "      <td>-0.008944</td>\n",
       "      <td>-0.049222</td>\n",
       "      <td>0.0</td>\n",
       "      <td>0</td>\n",
       "      <td>TEST</td>\n",
       "    </tr>\n",
       "    <tr>\n",
       "      <th>4</th>\n",
       "      <td>49884.0</td>\n",
       "      <td>1.050879</td>\n",
       "      <td>0.053408</td>\n",
       "      <td>1.364590</td>\n",
       "      <td>2.666158</td>\n",
       "      <td>-0.378636</td>\n",
       "      <td>1.382032</td>\n",
       "      <td>-0.766202</td>\n",
       "      <td>0.486126</td>\n",
       "      <td>0.152611</td>\n",
       "      <td>...</td>\n",
       "      <td>0.624424</td>\n",
       "      <td>-0.157228</td>\n",
       "      <td>-0.240411</td>\n",
       "      <td>0.573061</td>\n",
       "      <td>0.244090</td>\n",
       "      <td>0.063834</td>\n",
       "      <td>0.010981</td>\n",
       "      <td>0.0</td>\n",
       "      <td>0</td>\n",
       "      <td>TEST</td>\n",
       "    </tr>\n",
       "  </tbody>\n",
       "</table>\n",
       "<p>5 rows × 32 columns</p>\n",
       "</div>"
      ],
      "text/plain": [
       "       Time        V1        V2        V3        V4        V5        V6  \\\n",
       "0   30971.0  1.242351 -0.090043  0.151049 -0.304315 -0.238079 -0.230514   \n",
       "1  116734.0  1.882176  0.246174 -0.167191  4.057484 -0.093712  0.234933   \n",
       "2   73868.0 -0.422347  1.531719  1.711154  2.064467  0.742043 -0.149985   \n",
       "3  113772.0  1.890485  0.261331 -0.160093  4.066246 -0.122212  0.146896   \n",
       "4   49884.0  1.050879  0.053408  1.364590  2.666158 -0.378636  1.382032   \n",
       "\n",
       "         V7        V8        V9  ...       V22       V23       V24       V25  \\\n",
       "0 -0.201475  0.108172  0.099752  ... -0.569518  0.101134 -0.277948  0.082921   \n",
       "1 -0.259799  0.100338 -0.086675  ...  0.470923  0.100757 -0.035073  0.053270   \n",
       "2  0.982804 -0.095459 -1.782018  ... -1.315610 -0.013144 -0.176537 -0.242915   \n",
       "3 -0.239392  0.069196 -0.098295  ...  0.455722  0.094141  0.026726  0.069946   \n",
       "4 -0.766202  0.486126  0.152611  ...  0.624424 -0.157228 -0.240411  0.573061   \n",
       "\n",
       "        V26       V27       V28  Amount  Class  splits  \n",
       "0  0.882632 -0.080413 -0.015072     0.0      0    TEST  \n",
       "1  0.141382 -0.006323 -0.050050     0.0      0    TEST  \n",
       "2 -0.382894  0.084841  0.114663     0.0      0    TEST  \n",
       "3  0.135425 -0.008944 -0.049222     0.0      0    TEST  \n",
       "4  0.244090  0.063834  0.010981     0.0      0    TEST  \n",
       "\n",
       "[5 rows x 32 columns]"
      ]
     },
     "execution_count": 21,
     "metadata": {},
     "output_type": "execute_result"
    }
   ],
   "source": [
    "query = f\"\"\"\n",
    "SELECT * FROM `{BQ_PROJECT}.{BQ_DATASET}.{BQ_TABLE}` LIMIT 5\n",
    "\"\"\"\n",
    "bq.query(query = query).to_dataframe()"
   ]
  },
  {
   "cell_type": "markdown",
   "id": "d63cd5e9-bfaa-4b69-a30d-ff4bd42b540b",
   "metadata": {},
   "source": [
    "Further review the balance of the target variable (VAR_TARGET) for each split as a percentage of the split:"
   ]
  },
  {
   "cell_type": "code",
   "execution_count": 17,
   "id": "02e27e14-927a-409e-bc35-abfe45863362",
   "metadata": {},
   "outputs": [
    {
     "data": {
      "text/html": [
       "<div>\n",
       "<style scoped>\n",
       "    .dataframe tbody tr th:only-of-type {\n",
       "        vertical-align: middle;\n",
       "    }\n",
       "\n",
       "    .dataframe tbody tr th {\n",
       "        vertical-align: top;\n",
       "    }\n",
       "\n",
       "    .dataframe thead th {\n",
       "        text-align: right;\n",
       "    }\n",
       "</style>\n",
       "<table border=\"1\" class=\"dataframe\">\n",
       "  <thead>\n",
       "    <tr style=\"text-align: right;\">\n",
       "      <th></th>\n",
       "      <th>splits</th>\n",
       "      <th>Class</th>\n",
       "      <th>n</th>\n",
       "      <th>total</th>\n",
       "      <th>n_pct_class</th>\n",
       "      <th>n_pct_split</th>\n",
       "      <th>class_pct_total</th>\n",
       "    </tr>\n",
       "  </thead>\n",
       "  <tbody>\n",
       "    <tr>\n",
       "      <th>0</th>\n",
       "      <td>TEST</td>\n",
       "      <td>0</td>\n",
       "      <td>12881</td>\n",
       "      <td>284807</td>\n",
       "      <td>0.045305</td>\n",
       "      <td>0.998140</td>\n",
       "      <td>0.998273</td>\n",
       "    </tr>\n",
       "    <tr>\n",
       "      <th>1</th>\n",
       "      <td>TEST</td>\n",
       "      <td>1</td>\n",
       "      <td>24</td>\n",
       "      <td>284807</td>\n",
       "      <td>0.048780</td>\n",
       "      <td>0.001860</td>\n",
       "      <td>0.001727</td>\n",
       "    </tr>\n",
       "    <tr>\n",
       "      <th>2</th>\n",
       "      <td>VALIDATE</td>\n",
       "      <td>0</td>\n",
       "      <td>72637</td>\n",
       "      <td>284807</td>\n",
       "      <td>0.255481</td>\n",
       "      <td>0.998474</td>\n",
       "      <td>0.998273</td>\n",
       "    </tr>\n",
       "    <tr>\n",
       "      <th>3</th>\n",
       "      <td>VALIDATE</td>\n",
       "      <td>1</td>\n",
       "      <td>111</td>\n",
       "      <td>284807</td>\n",
       "      <td>0.225610</td>\n",
       "      <td>0.001526</td>\n",
       "      <td>0.001727</td>\n",
       "    </tr>\n",
       "    <tr>\n",
       "      <th>4</th>\n",
       "      <td>TRAIN</td>\n",
       "      <td>0</td>\n",
       "      <td>198797</td>\n",
       "      <td>284807</td>\n",
       "      <td>0.699214</td>\n",
       "      <td>0.998207</td>\n",
       "      <td>0.998273</td>\n",
       "    </tr>\n",
       "    <tr>\n",
       "      <th>5</th>\n",
       "      <td>TRAIN</td>\n",
       "      <td>1</td>\n",
       "      <td>357</td>\n",
       "      <td>284807</td>\n",
       "      <td>0.725610</td>\n",
       "      <td>0.001793</td>\n",
       "      <td>0.001727</td>\n",
       "    </tr>\n",
       "  </tbody>\n",
       "</table>\n",
       "</div>"
      ],
      "text/plain": [
       "     splits  Class       n   total  n_pct_class  n_pct_split  class_pct_total\n",
       "0      TEST      0   12881  284807     0.045305     0.998140         0.998273\n",
       "1      TEST      1      24  284807     0.048780     0.001860         0.001727\n",
       "2  VALIDATE      0   72637  284807     0.255481     0.998474         0.998273\n",
       "3  VALIDATE      1     111  284807     0.225610     0.001526         0.001727\n",
       "4     TRAIN      0  198797  284807     0.699214     0.998207         0.998273\n",
       "5     TRAIN      1     357  284807     0.725610     0.001793         0.001727"
      ]
     },
     "execution_count": 17,
     "metadata": {},
     "output_type": "execute_result"
    }
   ],
   "source": [
    "query = f\"\"\"\n",
    "WITH\n",
    "    COUNTS as (SELECT splits, {VAR_TARGET}, count(*) as n FROM `{BQ_PROJECT}.{BQ_DATASET}.{BQ_TABLE}` GROUP BY splits, {VAR_TARGET})\n",
    "    \n",
    "SELECT *,\n",
    "    SUM(n) OVER() as total,\n",
    "    SAFE_DIVIDE(n, SUM(n) OVER(PARTITION BY {VAR_TARGET})) as n_pct_class,\n",
    "    SAFE_DIVIDE(n, SUM(n) OVER(PARTITION BY splits)) as n_pct_split,\n",
    "    SAFE_DIVIDE(SUM(n) OVER(PARTITION BY {VAR_TARGET}), SUM(n) OVER()) as class_pct_total\n",
    "FROM COUNTS\n",
    "\"\"\"\n",
    "review = bq.query(query = query).to_dataframe()\n",
    "review"
   ]
  },
  {
   "cell_type": "code",
   "execution_count": null,
   "id": "44884f6c-2d4e-4d29-9a3c-e1e4d2477364",
   "metadata": {},
   "outputs": [],
   "source": []
  },
  {
   "cell_type": "markdown",
   "id": "f022d181-6238-432c-8f2d-e8d3ccc6c147",
   "metadata": {},
   "source": [
    "---\n",
    "## This Run"
   ]
  },
  {
   "cell_type": "code",
   "execution_count": 18,
   "id": "9e0d4b1e-543e-46a0-961e-b058966c0dbd",
   "metadata": {},
   "outputs": [
    {
     "name": "stdout",
     "output_type": "stream",
     "text": [
      "This run will create BQML model: vertexaiproject-454121.fraud.bqml_logistic-regression-hpt_20250421151614\n",
      "This run will create Vertex AI model: vertexaiproject-454121.fraud.bqml_bqml_logistic-regression-hpt\n",
      "The runs timestamp Is: 20250421151614\n"
     ]
    }
   ],
   "source": [
    "print(f'This run will create BQML model: {BQ_PROJECT}.{BQ_DATASET}.{BQ_MODEL}')\n",
    "print(f'This run will create Vertex AI model: {BQ_PROJECT}.{BQ_DATASET}.bqml_{SERIES}_{EXPERIMENT}')\n",
    "print(f'The runs timestamp Is: {TIMESTAMP}')"
   ]
  },
  {
   "cell_type": "markdown",
   "id": "fc257a93-a489-4af4-b498-9ef7115c767a",
   "metadata": {},
   "source": [
    "---\n",
    "## Train Model\n",
    "\n",
    "Use BigQuery ML to train multiclass logistic regression model:\n",
    "- [Logistic Regression](https://cloud.google.com/bigquery-ml/docs/reference/standard-sql/bigqueryml-syntax-create-glm) with BigQuery ML (BQML)\n",
    "- This uses the `splits` column that notebook `01` created\n",
    "- `data_split_method = CUSTOM` uses the column in `data_split_col` to assign `TRAIN`, `EVAL`, and `TEST` data splits.\n",
    "    - the `CASE` statement maps the validation data to `EVAL` as expected by hyperparameter tuning (rather than `VALIDATE`)\n",
    "    - note that this is different behavior for `data_split_col` with hyperparameter tuning than without hyperparameter tuning\n",
    "    - hyperparameter suggestions are based on the metric calculated with the evaluation data at each intermediate step\n",
    "    \n",
    "This example includes the [training options](https://cloud.google.com/bigquery-ml/docs/create_vertex) to register the resulting model in the [Vertex AI Model Registry](https://cloud.google.com/vertex-ai/docs/model-registry/introduction).\n",
    "\n",
    "**Hyperparameter Tuning**\n",
    "\n",
    "The [following options](https://cloud.google.com/bigquery-ml/docs/reference/standard-sql/bigqueryml-hyperparameter-tuning#create_model_syntax) are added to the model training code for BQML to guide the hyperparameter tuning of `L1` and `L2` regularization:\n",
    "\n",
    "```SQL\n",
    "l1_reg = HPARAM_RANGE(0, 1000),\n",
    "l2_reg = HPARAM_RANGE(0, 1000),\n",
    "hparam_tuning_algorithm = 'VIZIER_DEFAULT',\n",
    "hparam_tuning_objectives = ['ROC_AUC'],\n",
    "num_trials = 20,\n",
    "max_parallel_trials = 2\n",
    "```\n",
    "\n",
    "This instructs BQML to use the Vertex AI Vizier service to find values of `l1_reg` and `l2_reg` that optimize 'roc_auc' by doing 4 trials at a time until 20 trials have been completed.\n"
   ]
  },
  {
   "cell_type": "code",
   "execution_count": 22,
   "id": "1e42c159-4f68-465d-b612-8ea4b822a38a",
   "metadata": {},
   "outputs": [
    {
     "name": "stdout",
     "output_type": "stream",
     "text": [
      "\n",
      "CREATE OR REPLACE MODEL `vertexaiproject-454121.fraud.bqml_logistic-regression-hpt_20250421151614`\n",
      "OPTIONS\n",
      "    (model_type = 'LOGISTIC_REG',\n",
      "        auto_class_weights = TRUE,\n",
      "        input_label_cols = ['Class'],\n",
      "        enable_global_explain = TRUE,\n",
      "        data_split_col = 'custom_splits',\n",
      "        data_split_method = 'CUSTOM',\n",
      "        l1_reg = HPARAM_RANGE(0, 1000),\n",
      "        l2_reg = HPARAM_RANGE(0, 1000),\n",
      "        hparam_tuning_algorithm = 'VIZIER_DEFAULT',\n",
      "        hparam_tuning_objectives = ['ROC_AUC'],\n",
      "        num_trials = 2,\n",
      "        max_parallel_trials = 2,\n",
      "        MODEL_REGISTRY = 'VERTEX_AI',\n",
      "        VERTEX_AI_MODEL_ID = 'bqml_bqml_logistic-regression-hpt',\n",
      "        VERTEX_AI_MODEL_VERSION_ALIASES = ['run-20250421151614']\n",
      "    ) AS\n",
      "SELECT *  ,\n",
      "    CASE\n",
      "        WHEN splits = 'VALIDATE' THEN 'EVAL'\n",
      "        ELSE splits\n",
      "    END AS custom_splits\n",
      "FROM `vertexaiproject-454121.fraud.fraud_prepped`\n",
      "\n"
     ]
    }
   ],
   "source": [
    "query = f\"\"\"\n",
    "CREATE OR REPLACE MODEL `{BQ_PROJECT}.{BQ_DATASET}.{BQ_MODEL}`\n",
    "OPTIONS\n",
    "    (model_type = 'LOGISTIC_REG',\n",
    "        auto_class_weights = TRUE,\n",
    "        input_label_cols = ['{VAR_TARGET}'],\n",
    "        enable_global_explain = TRUE,\n",
    "        data_split_col = 'custom_splits',\n",
    "        data_split_method = 'CUSTOM',\n",
    "        l1_reg = HPARAM_RANGE(0, 1000),\n",
    "        l2_reg = HPARAM_RANGE(0, 1000),\n",
    "        hparam_tuning_algorithm = 'VIZIER_DEFAULT',\n",
    "        hparam_tuning_objectives = ['ROC_AUC'],\n",
    "        num_trials = 2,\n",
    "        max_parallel_trials = 2,\n",
    "        MODEL_REGISTRY = 'VERTEX_AI',\n",
    "        VERTEX_AI_MODEL_ID = 'bqml_{SERIES}_{EXPERIMENT}',\n",
    "        VERTEX_AI_MODEL_VERSION_ALIASES = ['{RUN_NAME}']\n",
    "    ) AS\n",
    "SELECT *  ,\n",
    "    CASE\n",
    "        WHEN splits = 'VALIDATE' THEN 'EVAL'\n",
    "        ELSE splits\n",
    "    END AS custom_splits\n",
    "FROM `{BQ_PROJECT}.{BQ_DATASET}.{BQ_TABLE}`\n",
    "\"\"\"\n",
    "print(query)"
   ]
  },
  {
   "cell_type": "code",
   "execution_count": 23,
   "id": "118cf076-90f1-403c-9d8e-1ae6b1907426",
   "metadata": {},
   "outputs": [
    {
     "data": {
      "text/plain": [
       "<google.cloud.bigquery.table._EmptyRowIterator at 0x7f868fab3d30>"
      ]
     },
     "execution_count": 23,
     "metadata": {},
     "output_type": "execute_result"
    }
   ],
   "source": [
    "job = bq.query(query = query)\n",
    "job.result()"
   ]
  },
  {
   "cell_type": "code",
   "execution_count": 24,
   "id": "e3a6b5f1",
   "metadata": {},
   "outputs": [
    {
     "data": {
      "text/plain": [
       "224.627"
      ]
     },
     "execution_count": 24,
     "metadata": {},
     "output_type": "execute_result"
    }
   ],
   "source": [
    "(job.ended-job.started).total_seconds()"
   ]
  },
  {
   "cell_type": "code",
   "execution_count": 25,
   "id": "de17d955-6c31-46e6-8fb5-f9fc44be2257",
   "metadata": {},
   "outputs": [
    {
     "data": {
      "text/plain": [
       "145662248"
      ]
     },
     "execution_count": 25,
     "metadata": {},
     "output_type": "execute_result"
    }
   ],
   "source": [
    "job.total_bytes_processed"
   ]
  },
  {
   "cell_type": "markdown",
   "id": "ea01760d-7a0c-4aa7-98db-19bc87df0087",
   "metadata": {},
   "source": [
    "Add labels to the model in BigQuery:"
   ]
  },
  {
   "cell_type": "code",
   "execution_count": 26,
   "id": "13d696f2-a277-422c-9cb0-f2ea8b5b242f",
   "metadata": {},
   "outputs": [],
   "source": [
    "model = bq.get_model(f'{BQ_PROJECT}.{BQ_DATASET}.{BQ_MODEL}')\n",
    "model.labels = {'series' : f'{SERIES}', 'experiment' : f'{EXPERIMENT}'}\n",
    "model = bq.update_model(model, ['labels'])"
   ]
  },
  {
   "cell_type": "markdown",
   "id": "329a78d1-203a-435d-9e78-eff28b07ca6a",
   "metadata": {},
   "source": [
    "### Check out this model in BigQuery Console:\n",
    "- Make sure project selected is the one from this notebook\n",
    "- Under Explore, expand this project and dataset\n",
    "- Expand Models and select the model create here"
   ]
  },
  {
   "cell_type": "code",
   "execution_count": 27,
   "id": "2e612ea8-ff94-4100-8293-5e2d691cfc69",
   "metadata": {},
   "outputs": [
    {
     "name": "stdout",
     "output_type": "stream",
     "text": [
      "BigQuery Console for Project:\n",
      "https://console.cloud.google.com/bigquery?project=vertexaiproject-454121\n"
     ]
    }
   ],
   "source": [
    "print(f'BigQuery Console for Project:\\nhttps://console.cloud.google.com/bigquery?project={PROJECT_ID}')"
   ]
  },
  {
   "cell_type": "code",
   "execution_count": 28,
   "id": "a70136c5-da05-4083-b45e-1c19d4a32c3c",
   "metadata": {},
   "outputs": [
    {
     "name": "stdout",
     "output_type": "stream",
     "text": [
      "Direct link to the model in BigQuery:\n",
      "https://console.cloud.google.com/bigquery?project=vertexaiproject-454121&ws=!1m5!1m4!5m3!1svertexaiproject-454121!2sfraud!3sbqml_logistic-regression-hpt_20250421151614\n"
     ]
    }
   ],
   "source": [
    "print(f'Direct link to the model in BigQuery:\\nhttps://console.cloud.google.com/bigquery?project={PROJECT_ID}&ws=!1m5!1m4!5m3!1s{PROJECT_ID}!2s{BQ_DATASET}!3s{BQ_MODEL}')"
   ]
  },
  {
   "cell_type": "markdown",
   "id": "f02781d8-0722-4c74-8084-c0f1e7250289",
   "metadata": {},
   "source": [
    "\n",
    "BadRequest: 400 GET https://bigquery.googleapis.com/bigquery/v2/projects/vertexaiproject-454121/queries/8535fb9f-2dc3-4352-87af-6f0b3a07354c?maxResults=0&location=US&prettyPrint=false: Column transaction_id in SELECT * EXCEPT list does not exist at [20:17]\n",
    "\n",
    "Location: US\n",
    "Job ID: 8535fb9f-2dc3-4352-87af-6f0b3a07354c### Check out this model in the Vertex AI Model Registry"
   ]
  },
  {
   "cell_type": "code",
   "execution_count": 29,
   "id": "c3a7c3c4-b473-4dcb-8e00-b399982a0673",
   "metadata": {},
   "outputs": [
    {
     "name": "stdout",
     "output_type": "stream",
     "text": [
      "Review the model in the Vertex AI Model Registry:\n",
      "https://console.cloud.google.com/vertex-ai/locations/us-central1/models/bqml_bqml_logistic-regression-hpt_20250421151614?project=vertexaiproject-454121\n"
     ]
    }
   ],
   "source": [
    "print(f'Review the model in the Vertex AI Model Registry:\\nhttps://console.cloud.google.com/vertex-ai/locations/{REGION}/models/bqml_{BQ_MODEL}?project={PROJECT_ID}')"
   ]
  },
  {
   "cell_type": "markdown",
   "id": "8a2bd68c-ce0b-47f7-8770-ef77938030d2",
   "metadata": {},
   "source": [
    "### Feature and Training Review"
   ]
  },
  {
   "cell_type": "markdown",
   "id": "ce7ac227-918e-45e6-8fbf-8a43657ce173",
   "metadata": {},
   "source": [
    "Review the Model Inputs, the feature information, with [ML.FEATURE_INFO](https://cloud.google.com/bigquery-ml/docs/reference/standard-sql/bigqueryml-syntax-feature):"
   ]
  },
  {
   "cell_type": "code",
   "execution_count": 30,
   "id": "6c46cb0a-a82e-4ebe-a85a-181acf8abb7d",
   "metadata": {},
   "outputs": [
    {
     "data": {
      "text/html": [
       "<div>\n",
       "<style scoped>\n",
       "    .dataframe tbody tr th:only-of-type {\n",
       "        vertical-align: middle;\n",
       "    }\n",
       "\n",
       "    .dataframe tbody tr th {\n",
       "        vertical-align: top;\n",
       "    }\n",
       "\n",
       "    .dataframe thead th {\n",
       "        text-align: right;\n",
       "    }\n",
       "</style>\n",
       "<table border=\"1\" class=\"dataframe\">\n",
       "  <thead>\n",
       "    <tr style=\"text-align: right;\">\n",
       "      <th></th>\n",
       "      <th>input</th>\n",
       "      <th>min</th>\n",
       "      <th>max</th>\n",
       "      <th>mean</th>\n",
       "      <th>median</th>\n",
       "      <th>stddev</th>\n",
       "      <th>category_count</th>\n",
       "      <th>null_count</th>\n",
       "      <th>dimension</th>\n",
       "    </tr>\n",
       "  </thead>\n",
       "  <tbody>\n",
       "    <tr>\n",
       "      <th>0</th>\n",
       "      <td>Time</td>\n",
       "      <td>0.000000</td>\n",
       "      <td>172792.000000</td>\n",
       "      <td>94904.989942</td>\n",
       "      <td>84934.000000</td>\n",
       "      <td>47500.511938</td>\n",
       "      <td>&lt;NA&gt;</td>\n",
       "      <td>0</td>\n",
       "      <td>&lt;NA&gt;</td>\n",
       "    </tr>\n",
       "    <tr>\n",
       "      <th>1</th>\n",
       "      <td>V1</td>\n",
       "      <td>-46.855047</td>\n",
       "      <td>2.451888</td>\n",
       "      <td>0.002149</td>\n",
       "      <td>-0.009937</td>\n",
       "      <td>1.956945</td>\n",
       "      <td>&lt;NA&gt;</td>\n",
       "      <td>0</td>\n",
       "      <td>&lt;NA&gt;</td>\n",
       "    </tr>\n",
       "    <tr>\n",
       "      <th>2</th>\n",
       "      <td>V2</td>\n",
       "      <td>-63.344698</td>\n",
       "      <td>19.167239</td>\n",
       "      <td>0.001442</td>\n",
       "      <td>0.063744</td>\n",
       "      <td>1.639945</td>\n",
       "      <td>&lt;NA&gt;</td>\n",
       "      <td>0</td>\n",
       "      <td>&lt;NA&gt;</td>\n",
       "    </tr>\n",
       "    <tr>\n",
       "      <th>3</th>\n",
       "      <td>V3</td>\n",
       "      <td>-48.325589</td>\n",
       "      <td>9.382558</td>\n",
       "      <td>-0.003321</td>\n",
       "      <td>0.180913</td>\n",
       "      <td>1.519075</td>\n",
       "      <td>&lt;NA&gt;</td>\n",
       "      <td>0</td>\n",
       "      <td>&lt;NA&gt;</td>\n",
       "    </tr>\n",
       "    <tr>\n",
       "      <th>4</th>\n",
       "      <td>V4</td>\n",
       "      <td>-5.683171</td>\n",
       "      <td>16.715537</td>\n",
       "      <td>-0.000148</td>\n",
       "      <td>-0.029010</td>\n",
       "      <td>1.414478</td>\n",
       "      <td>&lt;NA&gt;</td>\n",
       "      <td>0</td>\n",
       "      <td>&lt;NA&gt;</td>\n",
       "    </tr>\n",
       "    <tr>\n",
       "      <th>5</th>\n",
       "      <td>V5</td>\n",
       "      <td>-113.743307</td>\n",
       "      <td>32.911462</td>\n",
       "      <td>0.001032</td>\n",
       "      <td>-0.038687</td>\n",
       "      <td>1.385195</td>\n",
       "      <td>&lt;NA&gt;</td>\n",
       "      <td>0</td>\n",
       "      <td>&lt;NA&gt;</td>\n",
       "    </tr>\n",
       "    <tr>\n",
       "      <th>6</th>\n",
       "      <td>V6</td>\n",
       "      <td>-21.929312</td>\n",
       "      <td>73.301626</td>\n",
       "      <td>-0.001062</td>\n",
       "      <td>-0.280962</td>\n",
       "      <td>1.332914</td>\n",
       "      <td>&lt;NA&gt;</td>\n",
       "      <td>0</td>\n",
       "      <td>&lt;NA&gt;</td>\n",
       "    </tr>\n",
       "    <tr>\n",
       "      <th>7</th>\n",
       "      <td>V7</td>\n",
       "      <td>-37.060311</td>\n",
       "      <td>120.589494</td>\n",
       "      <td>0.002199</td>\n",
       "      <td>0.030034</td>\n",
       "      <td>1.239462</td>\n",
       "      <td>&lt;NA&gt;</td>\n",
       "      <td>0</td>\n",
       "      <td>&lt;NA&gt;</td>\n",
       "    </tr>\n",
       "    <tr>\n",
       "      <th>8</th>\n",
       "      <td>V8</td>\n",
       "      <td>-73.216718</td>\n",
       "      <td>19.168327</td>\n",
       "      <td>-0.000932</td>\n",
       "      <td>0.019168</td>\n",
       "      <td>1.199069</td>\n",
       "      <td>&lt;NA&gt;</td>\n",
       "      <td>0</td>\n",
       "      <td>&lt;NA&gt;</td>\n",
       "    </tr>\n",
       "    <tr>\n",
       "      <th>9</th>\n",
       "      <td>V9</td>\n",
       "      <td>-11.126624</td>\n",
       "      <td>15.594995</td>\n",
       "      <td>-0.002194</td>\n",
       "      <td>-0.042363</td>\n",
       "      <td>1.096078</td>\n",
       "      <td>&lt;NA&gt;</td>\n",
       "      <td>0</td>\n",
       "      <td>&lt;NA&gt;</td>\n",
       "    </tr>\n",
       "    <tr>\n",
       "      <th>10</th>\n",
       "      <td>V10</td>\n",
       "      <td>-23.228255</td>\n",
       "      <td>23.745136</td>\n",
       "      <td>0.000314</td>\n",
       "      <td>-0.107838</td>\n",
       "      <td>1.086659</td>\n",
       "      <td>&lt;NA&gt;</td>\n",
       "      <td>0</td>\n",
       "      <td>&lt;NA&gt;</td>\n",
       "    </tr>\n",
       "    <tr>\n",
       "      <th>11</th>\n",
       "      <td>V11</td>\n",
       "      <td>-4.797473</td>\n",
       "      <td>12.018913</td>\n",
       "      <td>0.000148</td>\n",
       "      <td>-0.038582</td>\n",
       "      <td>1.020574</td>\n",
       "      <td>&lt;NA&gt;</td>\n",
       "      <td>0</td>\n",
       "      <td>&lt;NA&gt;</td>\n",
       "    </tr>\n",
       "    <tr>\n",
       "      <th>12</th>\n",
       "      <td>V12</td>\n",
       "      <td>-18.683715</td>\n",
       "      <td>7.848392</td>\n",
       "      <td>0.000387</td>\n",
       "      <td>0.132890</td>\n",
       "      <td>0.998193</td>\n",
       "      <td>&lt;NA&gt;</td>\n",
       "      <td>0</td>\n",
       "      <td>&lt;NA&gt;</td>\n",
       "    </tr>\n",
       "    <tr>\n",
       "      <th>13</th>\n",
       "      <td>V13</td>\n",
       "      <td>-5.791881</td>\n",
       "      <td>7.126883</td>\n",
       "      <td>0.000704</td>\n",
       "      <td>-0.035865</td>\n",
       "      <td>0.995262</td>\n",
       "      <td>&lt;NA&gt;</td>\n",
       "      <td>0</td>\n",
       "      <td>&lt;NA&gt;</td>\n",
       "    </tr>\n",
       "    <tr>\n",
       "      <th>14</th>\n",
       "      <td>V14</td>\n",
       "      <td>-19.214325</td>\n",
       "      <td>10.526766</td>\n",
       "      <td>-0.001588</td>\n",
       "      <td>0.045830</td>\n",
       "      <td>0.962302</td>\n",
       "      <td>&lt;NA&gt;</td>\n",
       "      <td>0</td>\n",
       "      <td>&lt;NA&gt;</td>\n",
       "    </tr>\n",
       "    <tr>\n",
       "      <th>15</th>\n",
       "      <td>V15</td>\n",
       "      <td>-4.498945</td>\n",
       "      <td>8.877742</td>\n",
       "      <td>0.000601</td>\n",
       "      <td>0.046509</td>\n",
       "      <td>0.914610</td>\n",
       "      <td>&lt;NA&gt;</td>\n",
       "      <td>0</td>\n",
       "      <td>&lt;NA&gt;</td>\n",
       "    </tr>\n",
       "    <tr>\n",
       "      <th>16</th>\n",
       "      <td>V16</td>\n",
       "      <td>-13.563273</td>\n",
       "      <td>17.315112</td>\n",
       "      <td>0.000385</td>\n",
       "      <td>0.061835</td>\n",
       "      <td>0.878361</td>\n",
       "      <td>&lt;NA&gt;</td>\n",
       "      <td>0</td>\n",
       "      <td>&lt;NA&gt;</td>\n",
       "    </tr>\n",
       "    <tr>\n",
       "      <th>17</th>\n",
       "      <td>V17</td>\n",
       "      <td>-25.162799</td>\n",
       "      <td>9.253526</td>\n",
       "      <td>0.000018</td>\n",
       "      <td>-0.055812</td>\n",
       "      <td>0.856418</td>\n",
       "      <td>&lt;NA&gt;</td>\n",
       "      <td>0</td>\n",
       "      <td>&lt;NA&gt;</td>\n",
       "    </tr>\n",
       "    <tr>\n",
       "      <th>18</th>\n",
       "      <td>V18</td>\n",
       "      <td>-9.498746</td>\n",
       "      <td>5.041069</td>\n",
       "      <td>-0.000742</td>\n",
       "      <td>0.005746</td>\n",
       "      <td>0.838394</td>\n",
       "      <td>&lt;NA&gt;</td>\n",
       "      <td>0</td>\n",
       "      <td>&lt;NA&gt;</td>\n",
       "    </tr>\n",
       "    <tr>\n",
       "      <th>19</th>\n",
       "      <td>V19</td>\n",
       "      <td>-7.213527</td>\n",
       "      <td>5.591971</td>\n",
       "      <td>0.001403</td>\n",
       "      <td>-0.008871</td>\n",
       "      <td>0.814742</td>\n",
       "      <td>&lt;NA&gt;</td>\n",
       "      <td>0</td>\n",
       "      <td>&lt;NA&gt;</td>\n",
       "    </tr>\n",
       "    <tr>\n",
       "      <th>20</th>\n",
       "      <td>V20</td>\n",
       "      <td>-54.497720</td>\n",
       "      <td>39.420904</td>\n",
       "      <td>-0.000842</td>\n",
       "      <td>-0.065524</td>\n",
       "      <td>0.767660</td>\n",
       "      <td>&lt;NA&gt;</td>\n",
       "      <td>0</td>\n",
       "      <td>&lt;NA&gt;</td>\n",
       "    </tr>\n",
       "    <tr>\n",
       "      <th>21</th>\n",
       "      <td>V21</td>\n",
       "      <td>-34.830382</td>\n",
       "      <td>27.202839</td>\n",
       "      <td>0.001297</td>\n",
       "      <td>-0.026284</td>\n",
       "      <td>0.735730</td>\n",
       "      <td>&lt;NA&gt;</td>\n",
       "      <td>0</td>\n",
       "      <td>&lt;NA&gt;</td>\n",
       "    </tr>\n",
       "    <tr>\n",
       "      <th>22</th>\n",
       "      <td>V22</td>\n",
       "      <td>-10.933144</td>\n",
       "      <td>10.503090</td>\n",
       "      <td>-0.000671</td>\n",
       "      <td>0.006964</td>\n",
       "      <td>0.726413</td>\n",
       "      <td>&lt;NA&gt;</td>\n",
       "      <td>0</td>\n",
       "      <td>&lt;NA&gt;</td>\n",
       "    </tr>\n",
       "    <tr>\n",
       "      <th>23</th>\n",
       "      <td>V23</td>\n",
       "      <td>-44.807735</td>\n",
       "      <td>22.528412</td>\n",
       "      <td>-0.000635</td>\n",
       "      <td>-0.010108</td>\n",
       "      <td>0.619223</td>\n",
       "      <td>&lt;NA&gt;</td>\n",
       "      <td>0</td>\n",
       "      <td>&lt;NA&gt;</td>\n",
       "    </tr>\n",
       "    <tr>\n",
       "      <th>24</th>\n",
       "      <td>V24</td>\n",
       "      <td>-2.836627</td>\n",
       "      <td>4.584549</td>\n",
       "      <td>0.000575</td>\n",
       "      <td>0.040788</td>\n",
       "      <td>0.606218</td>\n",
       "      <td>&lt;NA&gt;</td>\n",
       "      <td>0</td>\n",
       "      <td>&lt;NA&gt;</td>\n",
       "    </tr>\n",
       "    <tr>\n",
       "      <th>25</th>\n",
       "      <td>V25</td>\n",
       "      <td>-10.295397</td>\n",
       "      <td>7.519589</td>\n",
       "      <td>0.000279</td>\n",
       "      <td>0.010437</td>\n",
       "      <td>0.521997</td>\n",
       "      <td>&lt;NA&gt;</td>\n",
       "      <td>0</td>\n",
       "      <td>&lt;NA&gt;</td>\n",
       "    </tr>\n",
       "    <tr>\n",
       "      <th>26</th>\n",
       "      <td>V26</td>\n",
       "      <td>-2.534330</td>\n",
       "      <td>3.517346</td>\n",
       "      <td>-0.000169</td>\n",
       "      <td>-0.067786</td>\n",
       "      <td>0.482406</td>\n",
       "      <td>&lt;NA&gt;</td>\n",
       "      <td>0</td>\n",
       "      <td>&lt;NA&gt;</td>\n",
       "    </tr>\n",
       "    <tr>\n",
       "      <th>27</th>\n",
       "      <td>V27</td>\n",
       "      <td>-22.565679</td>\n",
       "      <td>31.612198</td>\n",
       "      <td>0.000115</td>\n",
       "      <td>0.001771</td>\n",
       "      <td>0.407069</td>\n",
       "      <td>&lt;NA&gt;</td>\n",
       "      <td>0</td>\n",
       "      <td>&lt;NA&gt;</td>\n",
       "    </tr>\n",
       "    <tr>\n",
       "      <th>28</th>\n",
       "      <td>V28</td>\n",
       "      <td>-15.430084</td>\n",
       "      <td>22.620072</td>\n",
       "      <td>-0.000595</td>\n",
       "      <td>0.011637</td>\n",
       "      <td>0.324192</td>\n",
       "      <td>&lt;NA&gt;</td>\n",
       "      <td>0</td>\n",
       "      <td>&lt;NA&gt;</td>\n",
       "    </tr>\n",
       "    <tr>\n",
       "      <th>29</th>\n",
       "      <td>Amount</td>\n",
       "      <td>0.000000</td>\n",
       "      <td>25691.160000</td>\n",
       "      <td>88.179834</td>\n",
       "      <td>21.490000</td>\n",
       "      <td>251.840315</td>\n",
       "      <td>&lt;NA&gt;</td>\n",
       "      <td>0</td>\n",
       "      <td>&lt;NA&gt;</td>\n",
       "    </tr>\n",
       "    <tr>\n",
       "      <th>30</th>\n",
       "      <td>splits</td>\n",
       "      <td>NaN</td>\n",
       "      <td>NaN</td>\n",
       "      <td>NaN</td>\n",
       "      <td>NaN</td>\n",
       "      <td>NaN</td>\n",
       "      <td>1</td>\n",
       "      <td>0</td>\n",
       "      <td>&lt;NA&gt;</td>\n",
       "    </tr>\n",
       "  </tbody>\n",
       "</table>\n",
       "</div>"
      ],
      "text/plain": [
       "     input         min            max          mean        median  \\\n",
       "0     Time    0.000000  172792.000000  94904.989942  84934.000000   \n",
       "1       V1  -46.855047       2.451888      0.002149     -0.009937   \n",
       "2       V2  -63.344698      19.167239      0.001442      0.063744   \n",
       "3       V3  -48.325589       9.382558     -0.003321      0.180913   \n",
       "4       V4   -5.683171      16.715537     -0.000148     -0.029010   \n",
       "5       V5 -113.743307      32.911462      0.001032     -0.038687   \n",
       "6       V6  -21.929312      73.301626     -0.001062     -0.280962   \n",
       "7       V7  -37.060311     120.589494      0.002199      0.030034   \n",
       "8       V8  -73.216718      19.168327     -0.000932      0.019168   \n",
       "9       V9  -11.126624      15.594995     -0.002194     -0.042363   \n",
       "10     V10  -23.228255      23.745136      0.000314     -0.107838   \n",
       "11     V11   -4.797473      12.018913      0.000148     -0.038582   \n",
       "12     V12  -18.683715       7.848392      0.000387      0.132890   \n",
       "13     V13   -5.791881       7.126883      0.000704     -0.035865   \n",
       "14     V14  -19.214325      10.526766     -0.001588      0.045830   \n",
       "15     V15   -4.498945       8.877742      0.000601      0.046509   \n",
       "16     V16  -13.563273      17.315112      0.000385      0.061835   \n",
       "17     V17  -25.162799       9.253526      0.000018     -0.055812   \n",
       "18     V18   -9.498746       5.041069     -0.000742      0.005746   \n",
       "19     V19   -7.213527       5.591971      0.001403     -0.008871   \n",
       "20     V20  -54.497720      39.420904     -0.000842     -0.065524   \n",
       "21     V21  -34.830382      27.202839      0.001297     -0.026284   \n",
       "22     V22  -10.933144      10.503090     -0.000671      0.006964   \n",
       "23     V23  -44.807735      22.528412     -0.000635     -0.010108   \n",
       "24     V24   -2.836627       4.584549      0.000575      0.040788   \n",
       "25     V25  -10.295397       7.519589      0.000279      0.010437   \n",
       "26     V26   -2.534330       3.517346     -0.000169     -0.067786   \n",
       "27     V27  -22.565679      31.612198      0.000115      0.001771   \n",
       "28     V28  -15.430084      22.620072     -0.000595      0.011637   \n",
       "29  Amount    0.000000   25691.160000     88.179834     21.490000   \n",
       "30  splits         NaN            NaN           NaN           NaN   \n",
       "\n",
       "          stddev  category_count  null_count  dimension  \n",
       "0   47500.511938            <NA>           0       <NA>  \n",
       "1       1.956945            <NA>           0       <NA>  \n",
       "2       1.639945            <NA>           0       <NA>  \n",
       "3       1.519075            <NA>           0       <NA>  \n",
       "4       1.414478            <NA>           0       <NA>  \n",
       "5       1.385195            <NA>           0       <NA>  \n",
       "6       1.332914            <NA>           0       <NA>  \n",
       "7       1.239462            <NA>           0       <NA>  \n",
       "8       1.199069            <NA>           0       <NA>  \n",
       "9       1.096078            <NA>           0       <NA>  \n",
       "10      1.086659            <NA>           0       <NA>  \n",
       "11      1.020574            <NA>           0       <NA>  \n",
       "12      0.998193            <NA>           0       <NA>  \n",
       "13      0.995262            <NA>           0       <NA>  \n",
       "14      0.962302            <NA>           0       <NA>  \n",
       "15      0.914610            <NA>           0       <NA>  \n",
       "16      0.878361            <NA>           0       <NA>  \n",
       "17      0.856418            <NA>           0       <NA>  \n",
       "18      0.838394            <NA>           0       <NA>  \n",
       "19      0.814742            <NA>           0       <NA>  \n",
       "20      0.767660            <NA>           0       <NA>  \n",
       "21      0.735730            <NA>           0       <NA>  \n",
       "22      0.726413            <NA>           0       <NA>  \n",
       "23      0.619223            <NA>           0       <NA>  \n",
       "24      0.606218            <NA>           0       <NA>  \n",
       "25      0.521997            <NA>           0       <NA>  \n",
       "26      0.482406            <NA>           0       <NA>  \n",
       "27      0.407069            <NA>           0       <NA>  \n",
       "28      0.324192            <NA>           0       <NA>  \n",
       "29    251.840315            <NA>           0       <NA>  \n",
       "30           NaN               1           0       <NA>  "
      ]
     },
     "execution_count": 30,
     "metadata": {},
     "output_type": "execute_result"
    }
   ],
   "source": [
    "feature_info = bq.query(\n",
    "    query = f\"\"\"\n",
    "        SELECT *\n",
    "        FROM ML.FEATURE_INFO(MODEL `{BQ_PROJECT}.{BQ_DATASET}.{BQ_MODEL}`)\n",
    "        \"\"\"\n",
    ").to_dataframe()\n",
    "feature_info"
   ]
  },
  {
   "cell_type": "markdown",
   "id": "c0a437de-9c45-4bb6-b806-c98d8875c3d8",
   "metadata": {},
   "source": [
    "Retrieve the trial info for the hyperparameter tuning trials with [ML.TRIAL_INFO](https://cloud.google.com/bigquery-ml/docs/reference/standard-sql/bigqueryml-syntax-trial-info):"
   ]
  },
  {
   "cell_type": "code",
   "execution_count": 31,
   "id": "d82adbab-41bc-4a65-8698-484a1a30bc9c",
   "metadata": {},
   "outputs": [
    {
     "data": {
      "text/html": [
       "<div>\n",
       "<style scoped>\n",
       "    .dataframe tbody tr th:only-of-type {\n",
       "        vertical-align: middle;\n",
       "    }\n",
       "\n",
       "    .dataframe tbody tr th {\n",
       "        vertical-align: top;\n",
       "    }\n",
       "\n",
       "    .dataframe thead th {\n",
       "        text-align: right;\n",
       "    }\n",
       "</style>\n",
       "<table border=\"1\" class=\"dataframe\">\n",
       "  <thead>\n",
       "    <tr style=\"text-align: right;\">\n",
       "      <th></th>\n",
       "      <th>trial_id</th>\n",
       "      <th>hyperparameters</th>\n",
       "      <th>hparam_tuning_evaluation_metrics</th>\n",
       "      <th>training_loss</th>\n",
       "      <th>eval_loss</th>\n",
       "      <th>status</th>\n",
       "      <th>error_message</th>\n",
       "      <th>is_optimal</th>\n",
       "    </tr>\n",
       "  </thead>\n",
       "  <tbody>\n",
       "    <tr>\n",
       "      <th>0</th>\n",
       "      <td>1</td>\n",
       "      <td>{'l1_reg': 1e-14, 'l2_reg': 1e-14}</td>\n",
       "      <td>{'roc_auc': 0.981962037962038}</td>\n",
       "      <td>0.112041</td>\n",
       "      <td>0.32997</td>\n",
       "      <td>SUCCEEDED</td>\n",
       "      <td>None</td>\n",
       "      <td>True</td>\n",
       "    </tr>\n",
       "    <tr>\n",
       "      <th>1</th>\n",
       "      <td>2</td>\n",
       "      <td>{'l1_reg': 5.415347757053911e-11, 'l2_reg': 5....</td>\n",
       "      <td>{'roc_auc': 0.981962037962038}</td>\n",
       "      <td>0.112041</td>\n",
       "      <td>0.32997</td>\n",
       "      <td>SUCCEEDED</td>\n",
       "      <td>None</td>\n",
       "      <td>True</td>\n",
       "    </tr>\n",
       "  </tbody>\n",
       "</table>\n",
       "</div>"
      ],
      "text/plain": [
       "   trial_id                                    hyperparameters  \\\n",
       "0         1                 {'l1_reg': 1e-14, 'l2_reg': 1e-14}   \n",
       "1         2  {'l1_reg': 5.415347757053911e-11, 'l2_reg': 5....   \n",
       "\n",
       "  hparam_tuning_evaluation_metrics  training_loss  eval_loss     status  \\\n",
       "0   {'roc_auc': 0.981962037962038}       0.112041    0.32997  SUCCEEDED   \n",
       "1   {'roc_auc': 0.981962037962038}       0.112041    0.32997  SUCCEEDED   \n",
       "\n",
       "  error_message  is_optimal  \n",
       "0          None        True  \n",
       "1          None        True  "
      ]
     },
     "execution_count": 31,
     "metadata": {},
     "output_type": "execute_result"
    }
   ],
   "source": [
    "trials = bq.query(\n",
    "    query = f\"\"\"\n",
    "        SELECT *\n",
    "        FROM ML.TRIAL_INFO(MODEL `{BQ_PROJECT}.{BQ_DATASET}.{BQ_MODEL}`)\n",
    "        \"\"\"\n",
    ").to_dataframe()\n",
    "trials"
   ]
  },
  {
   "cell_type": "markdown",
   "id": "5b5a9791-ae05-4c9e-a306-c164b6748000",
   "metadata": {},
   "source": [
    "---\n",
    "## Evaluate Model"
   ]
  },
  {
   "cell_type": "markdown",
   "id": "507287ca-f7a4-4d34-9b42-97d2e3b4dc35",
   "metadata": {},
   "source": [
    "### Metrics"
   ]
  },
  {
   "cell_type": "markdown",
   "id": "0f3711ea-c0aa-4cef-8389-1245e5424908",
   "metadata": {},
   "source": [
    "Review the model evaluation statistics on the splits with [ML.EVALUATE](https://cloud.google.com/bigquery-ml/docs/reference/standard-sql/bigqueryml-syntax-evaluate):"
   ]
  },
  {
   "cell_type": "code",
   "execution_count": 32,
   "id": "b61bc190-035e-4e7d-b0b6-ee1796ce3b0f",
   "metadata": {},
   "outputs": [
    {
     "data": {
      "text/html": [
       "<div>\n",
       "<style scoped>\n",
       "    .dataframe tbody tr th:only-of-type {\n",
       "        vertical-align: middle;\n",
       "    }\n",
       "\n",
       "    .dataframe tbody tr th {\n",
       "        vertical-align: top;\n",
       "    }\n",
       "\n",
       "    .dataframe thead th {\n",
       "        text-align: right;\n",
       "    }\n",
       "</style>\n",
       "<table border=\"1\" class=\"dataframe\">\n",
       "  <thead>\n",
       "    <tr style=\"text-align: right;\">\n",
       "      <th></th>\n",
       "      <th>SPLIT</th>\n",
       "      <th>trial_id</th>\n",
       "      <th>precision</th>\n",
       "      <th>recall</th>\n",
       "      <th>accuracy</th>\n",
       "      <th>f1_score</th>\n",
       "      <th>log_loss</th>\n",
       "      <th>roc_auc</th>\n",
       "    </tr>\n",
       "  </thead>\n",
       "  <tbody>\n",
       "    <tr>\n",
       "      <th>0</th>\n",
       "      <td>VALIDATE</td>\n",
       "      <td>1</td>\n",
       "      <td>0.013823</td>\n",
       "      <td>0.945946</td>\n",
       "      <td>0.896946</td>\n",
       "      <td>0.027248</td>\n",
       "      <td>0.329970</td>\n",
       "      <td>0.981962</td>\n",
       "    </tr>\n",
       "    <tr>\n",
       "      <th>1</th>\n",
       "      <td>TEST</td>\n",
       "      <td>1</td>\n",
       "      <td>0.018251</td>\n",
       "      <td>1.000000</td>\n",
       "      <td>0.899961</td>\n",
       "      <td>0.035848</td>\n",
       "      <td>0.329796</td>\n",
       "      <td>0.997107</td>\n",
       "    </tr>\n",
       "    <tr>\n",
       "      <th>2</th>\n",
       "      <td>TRAIN</td>\n",
       "      <td>1</td>\n",
       "      <td>0.072117</td>\n",
       "      <td>0.921569</td>\n",
       "      <td>0.978604</td>\n",
       "      <td>0.133767</td>\n",
       "      <td>0.112041</td>\n",
       "      <td>0.985370</td>\n",
       "    </tr>\n",
       "  </tbody>\n",
       "</table>\n",
       "</div>"
      ],
      "text/plain": [
       "      SPLIT  trial_id  precision    recall  accuracy  f1_score  log_loss  \\\n",
       "0  VALIDATE         1   0.013823  0.945946  0.896946  0.027248  0.329970   \n",
       "1      TEST         1   0.018251  1.000000  0.899961  0.035848  0.329796   \n",
       "2     TRAIN         1   0.072117  0.921569  0.978604  0.133767  0.112041   \n",
       "\n",
       "    roc_auc  \n",
       "0  0.981962  \n",
       "1  0.997107  \n",
       "2  0.985370  "
      ]
     },
     "execution_count": 32,
     "metadata": {},
     "output_type": "execute_result"
    }
   ],
   "source": [
    "query = f\"\"\"\n",
    "SELECT 'TEST' as SPLIT, * FROM ML.EVALUATE (MODEL `{BQ_PROJECT}.{BQ_DATASET}.{BQ_MODEL}`,\n",
    "    (SELECT * FROM `{BQ_PROJECT}.{BQ_DATASET}.{BQ_TABLE}` WHERE SPLITS='TEST'))\n",
    "UNION ALL\n",
    "SELECT 'VALIDATE' as SPLIT, * FROM ML.EVALUATE (MODEL `{BQ_PROJECT}.{BQ_DATASET}.{BQ_MODEL}`,\n",
    "    (SELECT * FROM `{BQ_PROJECT}.{BQ_DATASET}.{BQ_TABLE}` WHERE SPLITS='VALIDATE'))\n",
    "UNION ALL\n",
    "SELECT 'TRAIN' as SPLIT, * FROM ML.EVALUATE (MODEL `{BQ_PROJECT}.{BQ_DATASET}.{BQ_MODEL}`,\n",
    "    (SELECT * FROM `{BQ_PROJECT}.{BQ_DATASET}.{BQ_TABLE}` WHERE SPLITS='TRAIN'))\n",
    "\"\"\"\n",
    "bq.query(query = query).to_dataframe()"
   ]
  },
  {
   "cell_type": "markdown",
   "id": "5dbc24cf-1454-4d24-a706-42b79527a14e",
   "metadata": {},
   "source": [
    "### Confusion Matrix"
   ]
  },
  {
   "cell_type": "markdown",
   "id": "3e1b7ece-c760-48ca-a371-dc7604a6ee0e",
   "metadata": {},
   "source": [
    "Review the confusion matrix for each split with [ML.CONFUSION_MATRIX](https://cloud.google.com/bigquery-ml/docs/reference/standard-sql/bigqueryml-syntax-confusion):"
   ]
  },
  {
   "cell_type": "code",
   "execution_count": 33,
   "id": "f9d0a620-fb65-4d66-ae61-47ff7aebce90",
   "metadata": {},
   "outputs": [
    {
     "data": {
      "text/html": [
       "<div>\n",
       "<style scoped>\n",
       "    .dataframe tbody tr th:only-of-type {\n",
       "        vertical-align: middle;\n",
       "    }\n",
       "\n",
       "    .dataframe tbody tr th {\n",
       "        vertical-align: top;\n",
       "    }\n",
       "\n",
       "    .dataframe thead th {\n",
       "        text-align: right;\n",
       "    }\n",
       "</style>\n",
       "<table border=\"1\" class=\"dataframe\">\n",
       "  <thead>\n",
       "    <tr style=\"text-align: right;\">\n",
       "      <th></th>\n",
       "      <th>trial_id</th>\n",
       "      <th>expected_label</th>\n",
       "      <th>_0</th>\n",
       "      <th>_1</th>\n",
       "    </tr>\n",
       "  </thead>\n",
       "  <tbody>\n",
       "    <tr>\n",
       "      <th>0</th>\n",
       "      <td>1</td>\n",
       "      <td>0</td>\n",
       "      <td>194564</td>\n",
       "      <td>4233</td>\n",
       "    </tr>\n",
       "    <tr>\n",
       "      <th>1</th>\n",
       "      <td>1</td>\n",
       "      <td>1</td>\n",
       "      <td>28</td>\n",
       "      <td>329</td>\n",
       "    </tr>\n",
       "  </tbody>\n",
       "</table>\n",
       "</div>"
      ],
      "text/plain": [
       "   trial_id  expected_label      _0    _1\n",
       "0         1               0  194564  4233\n",
       "1         1               1      28   329"
      ]
     },
     "execution_count": 33,
     "metadata": {},
     "output_type": "execute_result"
    }
   ],
   "source": [
    "query = f\"\"\"\n",
    "SELECT *\n",
    "FROM ML.CONFUSION_MATRIX (MODEL `{BQ_PROJECT}.{BQ_DATASET}.{BQ_MODEL}`,(\n",
    "    SELECT *\n",
    "    FROM `{BQ_PROJECT}.{BQ_DATASET}.{BQ_TABLE}`\n",
    "    WHERE splits = 'TRAIN')\n",
    "  )\n",
    "\"\"\"\n",
    "bq.query(query = query).to_dataframe()"
   ]
  },
  {
   "cell_type": "code",
   "execution_count": 34,
   "id": "61ec830a-c946-4fe2-b04e-581367a41598",
   "metadata": {},
   "outputs": [
    {
     "data": {
      "text/html": [
       "<div>\n",
       "<style scoped>\n",
       "    .dataframe tbody tr th:only-of-type {\n",
       "        vertical-align: middle;\n",
       "    }\n",
       "\n",
       "    .dataframe tbody tr th {\n",
       "        vertical-align: top;\n",
       "    }\n",
       "\n",
       "    .dataframe thead th {\n",
       "        text-align: right;\n",
       "    }\n",
       "</style>\n",
       "<table border=\"1\" class=\"dataframe\">\n",
       "  <thead>\n",
       "    <tr style=\"text-align: right;\">\n",
       "      <th></th>\n",
       "      <th>trial_id</th>\n",
       "      <th>expected_label</th>\n",
       "      <th>_0</th>\n",
       "      <th>_1</th>\n",
       "    </tr>\n",
       "  </thead>\n",
       "  <tbody>\n",
       "    <tr>\n",
       "      <th>0</th>\n",
       "      <td>1</td>\n",
       "      <td>0</td>\n",
       "      <td>65146</td>\n",
       "      <td>7491</td>\n",
       "    </tr>\n",
       "    <tr>\n",
       "      <th>1</th>\n",
       "      <td>1</td>\n",
       "      <td>1</td>\n",
       "      <td>6</td>\n",
       "      <td>105</td>\n",
       "    </tr>\n",
       "  </tbody>\n",
       "</table>\n",
       "</div>"
      ],
      "text/plain": [
       "   trial_id  expected_label     _0    _1\n",
       "0         1               0  65146  7491\n",
       "1         1               1      6   105"
      ]
     },
     "execution_count": 34,
     "metadata": {},
     "output_type": "execute_result"
    }
   ],
   "source": [
    "query = f\"\"\"\n",
    "SELECT *\n",
    "FROM ML.CONFUSION_MATRIX (MODEL `{BQ_PROJECT}.{BQ_DATASET}.{BQ_MODEL}`,(\n",
    "    SELECT *\n",
    "    FROM `{BQ_PROJECT}.{BQ_DATASET}.{BQ_TABLE}`\n",
    "    WHERE splits = 'VALIDATE')\n",
    "  )\n",
    "\"\"\"\n",
    "bq.query(query = query).to_dataframe()"
   ]
  },
  {
   "cell_type": "code",
   "execution_count": 35,
   "id": "7dc51f95-bb80-4656-9a1c-7fa03119cef2",
   "metadata": {},
   "outputs": [
    {
     "data": {
      "text/html": [
       "<div>\n",
       "<style scoped>\n",
       "    .dataframe tbody tr th:only-of-type {\n",
       "        vertical-align: middle;\n",
       "    }\n",
       "\n",
       "    .dataframe tbody tr th {\n",
       "        vertical-align: top;\n",
       "    }\n",
       "\n",
       "    .dataframe thead th {\n",
       "        text-align: right;\n",
       "    }\n",
       "</style>\n",
       "<table border=\"1\" class=\"dataframe\">\n",
       "  <thead>\n",
       "    <tr style=\"text-align: right;\">\n",
       "      <th></th>\n",
       "      <th>trial_id</th>\n",
       "      <th>expected_label</th>\n",
       "      <th>_0</th>\n",
       "      <th>_1</th>\n",
       "    </tr>\n",
       "  </thead>\n",
       "  <tbody>\n",
       "    <tr>\n",
       "      <th>0</th>\n",
       "      <td>1</td>\n",
       "      <td>0</td>\n",
       "      <td>11590</td>\n",
       "      <td>1291</td>\n",
       "    </tr>\n",
       "    <tr>\n",
       "      <th>1</th>\n",
       "      <td>1</td>\n",
       "      <td>1</td>\n",
       "      <td>0</td>\n",
       "      <td>24</td>\n",
       "    </tr>\n",
       "  </tbody>\n",
       "</table>\n",
       "</div>"
      ],
      "text/plain": [
       "   trial_id  expected_label     _0    _1\n",
       "0         1               0  11590  1291\n",
       "1         1               1      0    24"
      ]
     },
     "execution_count": 35,
     "metadata": {},
     "output_type": "execute_result"
    }
   ],
   "source": [
    "query = f\"\"\"\n",
    "SELECT *\n",
    "FROM ML.CONFUSION_MATRIX (MODEL `{BQ_PROJECT}.{BQ_DATASET}.{BQ_MODEL}`,(\n",
    "    SELECT *\n",
    "    FROM `{BQ_PROJECT}.{BQ_DATASET}.{BQ_TABLE}`\n",
    "    WHERE splits = 'TEST')\n",
    "  )\n",
    "\"\"\"\n",
    "bq.query(query = query).to_dataframe()"
   ]
  },
  {
   "cell_type": "markdown",
   "id": "8b2e9050-d8ad-4c8b-b1f8-e662da20f33d",
   "metadata": {},
   "source": [
    "### ROC Curve\n",
    "\n",
    "Retrieve the ROC Curve for each split using [ML.ROC_CURVE](https://cloud.google.com/bigquery-ml/docs/reference/standard-sql/bigqueryml-syntax-roc):"
   ]
  },
  {
   "cell_type": "code",
   "execution_count": 36,
   "id": "4c2525b4-852d-4656-98b9-570e4054a1a7",
   "metadata": {},
   "outputs": [
    {
     "data": {
      "text/html": [
       "<div>\n",
       "<style scoped>\n",
       "    .dataframe tbody tr th:only-of-type {\n",
       "        vertical-align: middle;\n",
       "    }\n",
       "\n",
       "    .dataframe tbody tr th {\n",
       "        vertical-align: top;\n",
       "    }\n",
       "\n",
       "    .dataframe thead th {\n",
       "        text-align: right;\n",
       "    }\n",
       "</style>\n",
       "<table border=\"1\" class=\"dataframe\">\n",
       "  <thead>\n",
       "    <tr style=\"text-align: right;\">\n",
       "      <th></th>\n",
       "      <th>trial_id</th>\n",
       "      <th>threshold</th>\n",
       "      <th>recall</th>\n",
       "      <th>false_positive_rate</th>\n",
       "      <th>true_positives</th>\n",
       "      <th>false_positives</th>\n",
       "      <th>true_negatives</th>\n",
       "      <th>false_negatives</th>\n",
       "    </tr>\n",
       "  </thead>\n",
       "  <tbody>\n",
       "    <tr>\n",
       "      <th>0</th>\n",
       "      <td>1</td>\n",
       "      <td>1.000000</td>\n",
       "      <td>0.011204</td>\n",
       "      <td>0.000000</td>\n",
       "      <td>4</td>\n",
       "      <td>0</td>\n",
       "      <td>198797</td>\n",
       "      <td>353</td>\n",
       "    </tr>\n",
       "    <tr>\n",
       "      <th>1</th>\n",
       "      <td>1</td>\n",
       "      <td>0.773164</td>\n",
       "      <td>0.887955</td>\n",
       "      <td>0.008531</td>\n",
       "      <td>317</td>\n",
       "      <td>1696</td>\n",
       "      <td>197101</td>\n",
       "      <td>40</td>\n",
       "    </tr>\n",
       "    <tr>\n",
       "      <th>2</th>\n",
       "      <td>1</td>\n",
       "      <td>0.544658</td>\n",
       "      <td>0.918768</td>\n",
       "      <td>0.018260</td>\n",
       "      <td>328</td>\n",
       "      <td>3630</td>\n",
       "      <td>195167</td>\n",
       "      <td>29</td>\n",
       "    </tr>\n",
       "    <tr>\n",
       "      <th>3</th>\n",
       "      <td>1</td>\n",
       "      <td>0.418569</td>\n",
       "      <td>0.929972</td>\n",
       "      <td>0.028421</td>\n",
       "      <td>332</td>\n",
       "      <td>5650</td>\n",
       "      <td>193147</td>\n",
       "      <td>25</td>\n",
       "    </tr>\n",
       "    <tr>\n",
       "      <th>4</th>\n",
       "      <td>1</td>\n",
       "      <td>0.346219</td>\n",
       "      <td>0.938375</td>\n",
       "      <td>0.038547</td>\n",
       "      <td>335</td>\n",
       "      <td>7663</td>\n",
       "      <td>191134</td>\n",
       "      <td>22</td>\n",
       "    </tr>\n",
       "  </tbody>\n",
       "</table>\n",
       "</div>"
      ],
      "text/plain": [
       "   trial_id  threshold    recall  false_positive_rate  true_positives  \\\n",
       "0         1   1.000000  0.011204             0.000000               4   \n",
       "1         1   0.773164  0.887955             0.008531             317   \n",
       "2         1   0.544658  0.918768             0.018260             328   \n",
       "3         1   0.418569  0.929972             0.028421             332   \n",
       "4         1   0.346219  0.938375             0.038547             335   \n",
       "\n",
       "   false_positives  true_negatives  false_negatives  \n",
       "0                0          198797              353  \n",
       "1             1696          197101               40  \n",
       "2             3630          195167               29  \n",
       "3             5650          193147               25  \n",
       "4             7663          191134               22  "
      ]
     },
     "execution_count": 36,
     "metadata": {},
     "output_type": "execute_result"
    }
   ],
   "source": [
    "query = f\"\"\"\n",
    "SELECT *\n",
    "FROM ML.ROC_CURVE (MODEL `{BQ_PROJECT}.{BQ_DATASET}.{BQ_MODEL}`,(\n",
    "    SELECT *\n",
    "    FROM `{BQ_PROJECT}.{BQ_DATASET}.{BQ_TABLE}`\n",
    "    WHERE splits = 'TRAIN')\n",
    "  )\n",
    "ORDER BY false_positive_rate\n",
    "\"\"\"\n",
    "train_roc = bq.query(query = query).to_dataframe()\n",
    "train_roc.head()"
   ]
  },
  {
   "cell_type": "code",
   "execution_count": 37,
   "id": "c7d5055a-8d4c-4caf-9e06-1c73d4bd3e77",
   "metadata": {},
   "outputs": [
    {
     "data": {
      "text/html": [
       "<div>\n",
       "<style scoped>\n",
       "    .dataframe tbody tr th:only-of-type {\n",
       "        vertical-align: middle;\n",
       "    }\n",
       "\n",
       "    .dataframe tbody tr th {\n",
       "        vertical-align: top;\n",
       "    }\n",
       "\n",
       "    .dataframe thead th {\n",
       "        text-align: right;\n",
       "    }\n",
       "</style>\n",
       "<table border=\"1\" class=\"dataframe\">\n",
       "  <thead>\n",
       "    <tr style=\"text-align: right;\">\n",
       "      <th></th>\n",
       "      <th>trial_id</th>\n",
       "      <th>threshold</th>\n",
       "      <th>recall</th>\n",
       "      <th>false_positive_rate</th>\n",
       "      <th>true_positives</th>\n",
       "      <th>false_positives</th>\n",
       "      <th>true_negatives</th>\n",
       "      <th>false_negatives</th>\n",
       "    </tr>\n",
       "  </thead>\n",
       "  <tbody>\n",
       "    <tr>\n",
       "      <th>0</th>\n",
       "      <td>1</td>\n",
       "      <td>1.000000</td>\n",
       "      <td>0.036036</td>\n",
       "      <td>0.000000</td>\n",
       "      <td>4</td>\n",
       "      <td>0</td>\n",
       "      <td>72637</td>\n",
       "      <td>107</td>\n",
       "    </tr>\n",
       "    <tr>\n",
       "      <th>1</th>\n",
       "      <td>1</td>\n",
       "      <td>0.936676</td>\n",
       "      <td>0.864865</td>\n",
       "      <td>0.008756</td>\n",
       "      <td>96</td>\n",
       "      <td>636</td>\n",
       "      <td>72001</td>\n",
       "      <td>15</td>\n",
       "    </tr>\n",
       "    <tr>\n",
       "      <th>2</th>\n",
       "      <td>1</td>\n",
       "      <td>0.836843</td>\n",
       "      <td>0.882883</td>\n",
       "      <td>0.018806</td>\n",
       "      <td>98</td>\n",
       "      <td>1366</td>\n",
       "      <td>71271</td>\n",
       "      <td>13</td>\n",
       "    </tr>\n",
       "    <tr>\n",
       "      <th>3</th>\n",
       "      <td>1</td>\n",
       "      <td>0.762331</td>\n",
       "      <td>0.882883</td>\n",
       "      <td>0.028883</td>\n",
       "      <td>98</td>\n",
       "      <td>2098</td>\n",
       "      <td>70539</td>\n",
       "      <td>13</td>\n",
       "    </tr>\n",
       "    <tr>\n",
       "      <th>4</th>\n",
       "      <td>1</td>\n",
       "      <td>0.703036</td>\n",
       "      <td>0.882883</td>\n",
       "      <td>0.039071</td>\n",
       "      <td>98</td>\n",
       "      <td>2838</td>\n",
       "      <td>69799</td>\n",
       "      <td>13</td>\n",
       "    </tr>\n",
       "  </tbody>\n",
       "</table>\n",
       "</div>"
      ],
      "text/plain": [
       "   trial_id  threshold    recall  false_positive_rate  true_positives  \\\n",
       "0         1   1.000000  0.036036             0.000000               4   \n",
       "1         1   0.936676  0.864865             0.008756              96   \n",
       "2         1   0.836843  0.882883             0.018806              98   \n",
       "3         1   0.762331  0.882883             0.028883              98   \n",
       "4         1   0.703036  0.882883             0.039071              98   \n",
       "\n",
       "   false_positives  true_negatives  false_negatives  \n",
       "0                0           72637              107  \n",
       "1              636           72001               15  \n",
       "2             1366           71271               13  \n",
       "3             2098           70539               13  \n",
       "4             2838           69799               13  "
      ]
     },
     "execution_count": 37,
     "metadata": {},
     "output_type": "execute_result"
    }
   ],
   "source": [
    "query = f\"\"\"\n",
    "SELECT *\n",
    "FROM ML.ROC_CURVE (MODEL `{BQ_PROJECT}.{BQ_DATASET}.{BQ_MODEL}`,(\n",
    "    SELECT *\n",
    "    FROM `{BQ_PROJECT}.{BQ_DATASET}.{BQ_TABLE}`\n",
    "    WHERE splits = 'VALIDATE')\n",
    "  )\n",
    "ORDER BY false_positive_rate\n",
    "\"\"\"\n",
    "val_roc = bq.query(query = query).to_dataframe()\n",
    "val_roc.head()"
   ]
  },
  {
   "cell_type": "code",
   "execution_count": 38,
   "id": "91dd7c5e-8693-4e1c-a89d-cf6a76a23842",
   "metadata": {},
   "outputs": [
    {
     "data": {
      "text/html": [
       "<div>\n",
       "<style scoped>\n",
       "    .dataframe tbody tr th:only-of-type {\n",
       "        vertical-align: middle;\n",
       "    }\n",
       "\n",
       "    .dataframe tbody tr th {\n",
       "        vertical-align: top;\n",
       "    }\n",
       "\n",
       "    .dataframe thead th {\n",
       "        text-align: right;\n",
       "    }\n",
       "</style>\n",
       "<table border=\"1\" class=\"dataframe\">\n",
       "  <thead>\n",
       "    <tr style=\"text-align: right;\">\n",
       "      <th></th>\n",
       "      <th>trial_id</th>\n",
       "      <th>threshold</th>\n",
       "      <th>recall</th>\n",
       "      <th>false_positive_rate</th>\n",
       "      <th>true_positives</th>\n",
       "      <th>false_positives</th>\n",
       "      <th>true_negatives</th>\n",
       "      <th>false_negatives</th>\n",
       "    </tr>\n",
       "  </thead>\n",
       "  <tbody>\n",
       "    <tr>\n",
       "      <th>0</th>\n",
       "      <td>1</td>\n",
       "      <td>1.000000</td>\n",
       "      <td>0.041667</td>\n",
       "      <td>0.000000</td>\n",
       "      <td>1</td>\n",
       "      <td>0</td>\n",
       "      <td>12881</td>\n",
       "      <td>23</td>\n",
       "    </tr>\n",
       "    <tr>\n",
       "      <th>1</th>\n",
       "      <td>1</td>\n",
       "      <td>0.950109</td>\n",
       "      <td>0.916667</td>\n",
       "      <td>0.008462</td>\n",
       "      <td>22</td>\n",
       "      <td>109</td>\n",
       "      <td>12772</td>\n",
       "      <td>2</td>\n",
       "    </tr>\n",
       "    <tr>\n",
       "      <th>2</th>\n",
       "      <td>1</td>\n",
       "      <td>0.855175</td>\n",
       "      <td>0.916667</td>\n",
       "      <td>0.018322</td>\n",
       "      <td>22</td>\n",
       "      <td>236</td>\n",
       "      <td>12645</td>\n",
       "      <td>2</td>\n",
       "    </tr>\n",
       "    <tr>\n",
       "      <th>3</th>\n",
       "      <td>1</td>\n",
       "      <td>0.756354</td>\n",
       "      <td>0.958333</td>\n",
       "      <td>0.028492</td>\n",
       "      <td>23</td>\n",
       "      <td>367</td>\n",
       "      <td>12514</td>\n",
       "      <td>1</td>\n",
       "    </tr>\n",
       "    <tr>\n",
       "      <th>4</th>\n",
       "      <td>1</td>\n",
       "      <td>0.694822</td>\n",
       "      <td>0.958333</td>\n",
       "      <td>0.038506</td>\n",
       "      <td>23</td>\n",
       "      <td>496</td>\n",
       "      <td>12385</td>\n",
       "      <td>1</td>\n",
       "    </tr>\n",
       "  </tbody>\n",
       "</table>\n",
       "</div>"
      ],
      "text/plain": [
       "   trial_id  threshold    recall  false_positive_rate  true_positives  \\\n",
       "0         1   1.000000  0.041667             0.000000               1   \n",
       "1         1   0.950109  0.916667             0.008462              22   \n",
       "2         1   0.855175  0.916667             0.018322              22   \n",
       "3         1   0.756354  0.958333             0.028492              23   \n",
       "4         1   0.694822  0.958333             0.038506              23   \n",
       "\n",
       "   false_positives  true_negatives  false_negatives  \n",
       "0                0           12881               23  \n",
       "1              109           12772                2  \n",
       "2              236           12645                2  \n",
       "3              367           12514                1  \n",
       "4              496           12385                1  "
      ]
     },
     "execution_count": 38,
     "metadata": {},
     "output_type": "execute_result"
    }
   ],
   "source": [
    "query = f\"\"\"\n",
    "SELECT *\n",
    "FROM ML.ROC_CURVE (MODEL `{BQ_PROJECT}.{BQ_DATASET}.{BQ_MODEL}`,(\n",
    "    SELECT *\n",
    "    FROM `{BQ_PROJECT}.{BQ_DATASET}.{BQ_TABLE}`\n",
    "    WHERE splits = 'TEST')\n",
    "  )\n",
    "ORDER BY false_positive_rate\n",
    "\"\"\"\n",
    "test_roc = bq.query(query = query).to_dataframe()\n",
    "test_roc.head()"
   ]
  },
  {
   "cell_type": "code",
   "execution_count": 39,
   "id": "d7daf52a-846f-47b5-9af7-8daed256511d",
   "metadata": {},
   "outputs": [
    {
     "data": {
      "image/png": "[encoded data removed]",
      "text/plain": [
       "<Figure size 1500x500 with 1 Axes>"
      ]
     },
     "metadata": {},
     "output_type": "display_data"
    }
   ],
   "source": [
    "plt.figure(figsize=(15,5))\n",
    "plt.plot(train_roc['false_positive_rate'], train_roc['recall'], label='TRAIN')\n",
    "plt.plot(val_roc['false_positive_rate'], val_roc['recall'], label='VALIDATE')\n",
    "plt.plot(test_roc['false_positive_rate'], test_roc['recall'], label='TEST')\n",
    "plt.xlabel('False Positive Rate')\n",
    "plt.ylabel('True Positive Rate\\nRecall')\n",
    "plt.title('ROC Curves')\n",
    "plt.legend()\n",
    "plt.show()"
   ]
  },
  {
   "cell_type": "markdown",
   "id": "f5a54efe-ac0b-4924-8094-6be5e1e790d7",
   "metadata": {},
   "source": [
    "---\n",
    "## Predictions With BigQuery ML (BQML)"
   ]
  },
  {
   "cell_type": "markdown",
   "id": "23a8c11e-9ce4-4f01-b260-2611409169bd",
   "metadata": {},
   "source": [
    "Create a pandas dataframe with retrieved predictions for the test data in the table using [ML.PREDICT](https://cloud.google.com/bigquery-ml/docs/reference/standard-sql/bigqueryml-syntax-predict):"
   ]
  },
  {
   "cell_type": "code",
   "execution_count": 40,
   "id": "ad1c02dd-99e3-4998-98a6-51af48b7da60",
   "metadata": {},
   "outputs": [],
   "source": [
    "query = f\"\"\"\n",
    "SELECT *\n",
    "FROM ML.PREDICT (MODEL `{BQ_PROJECT}.{BQ_DATASET}.{BQ_MODEL}`,(\n",
    "    SELECT *\n",
    "    FROM `{BQ_PROJECT}.{BQ_DATASET}.{BQ_TABLE}`\n",
    "    WHERE splits = 'TEST')\n",
    "  )\n",
    "\"\"\"\n",
    "pred = bq.query(query = query).to_dataframe()"
   ]
  },
  {
   "cell_type": "markdown",
   "id": "5ecec1d0-a712-4b5e-8909-7e83c62dec3a",
   "metadata": {},
   "source": [
    "Review columns from the predictions - note that the query added columns with prefix `predicted_`"
   ]
  },
  {
   "cell_type": "code",
   "execution_count": 41,
   "id": "c186d43f-7337-449e-81e3-7dccd26f442a",
   "metadata": {},
   "outputs": [
    {
     "data": {
      "text/plain": [
       "Index(['trial_id', 'predicted_Class', 'predicted_Class_probs', 'Time', 'V1',\n",
       "       'V2', 'V3', 'V4', 'V5', 'V6', 'V7', 'V8', 'V9', 'V10', 'V11', 'V12',\n",
       "       'V13', 'V14', 'V15', 'V16', 'V17', 'V18', 'V19', 'V20', 'V21', 'V22',\n",
       "       'V23', 'V24', 'V25', 'V26', 'V27', 'V28', 'Amount', 'Class', 'splits'],\n",
       "      dtype='object')"
      ]
     },
     "execution_count": 41,
     "metadata": {},
     "output_type": "execute_result"
    }
   ],
   "source": [
    "pred.columns"
   ]
  },
  {
   "cell_type": "markdown",
   "id": "879c6b56-dad2-4674-ac8e-4fe109b949e6",
   "metadata": {},
   "source": [
    "Print the first few rows for the columns related to the actual and predicted values:"
   ]
  },
  {
   "cell_type": "code",
   "execution_count": 42,
   "id": "4160648c-576b-4592-b3e5-f23555741856",
   "metadata": {},
   "outputs": [
    {
     "data": {
      "text/html": [
       "<div>\n",
       "<style scoped>\n",
       "    .dataframe tbody tr th:only-of-type {\n",
       "        vertical-align: middle;\n",
       "    }\n",
       "\n",
       "    .dataframe tbody tr th {\n",
       "        vertical-align: top;\n",
       "    }\n",
       "\n",
       "    .dataframe thead th {\n",
       "        text-align: right;\n",
       "    }\n",
       "</style>\n",
       "<table border=\"1\" class=\"dataframe\">\n",
       "  <thead>\n",
       "    <tr style=\"text-align: right;\">\n",
       "      <th></th>\n",
       "      <th>Class</th>\n",
       "      <th>predicted_Class</th>\n",
       "      <th>predicted_Class_probs</th>\n",
       "      <th>splits</th>\n",
       "    </tr>\n",
       "  </thead>\n",
       "  <tbody>\n",
       "    <tr>\n",
       "      <th>0</th>\n",
       "      <td>0</td>\n",
       "      <td>0</td>\n",
       "      <td>[{'label': 1, 'prob': 0.09379108221146912}, {'...</td>\n",
       "      <td>TEST</td>\n",
       "    </tr>\n",
       "    <tr>\n",
       "      <th>1</th>\n",
       "      <td>0</td>\n",
       "      <td>1</td>\n",
       "      <td>[{'label': 1, 'prob': 0.7481948417972909}, {'l...</td>\n",
       "      <td>TEST</td>\n",
       "    </tr>\n",
       "    <tr>\n",
       "      <th>2</th>\n",
       "      <td>0</td>\n",
       "      <td>0</td>\n",
       "      <td>[{'label': 1, 'prob': 0.20434886983761785}, {'...</td>\n",
       "      <td>TEST</td>\n",
       "    </tr>\n",
       "    <tr>\n",
       "      <th>3</th>\n",
       "      <td>0</td>\n",
       "      <td>1</td>\n",
       "      <td>[{'label': 1, 'prob': 0.7477750066606237}, {'l...</td>\n",
       "      <td>TEST</td>\n",
       "    </tr>\n",
       "    <tr>\n",
       "      <th>4</th>\n",
       "      <td>0</td>\n",
       "      <td>0</td>\n",
       "      <td>[{'label': 1, 'prob': 0.37985269161726803}, {'...</td>\n",
       "      <td>TEST</td>\n",
       "    </tr>\n",
       "  </tbody>\n",
       "</table>\n",
       "</div>"
      ],
      "text/plain": [
       "   Class  predicted_Class                              predicted_Class_probs  \\\n",
       "0      0                0  [{'label': 1, 'prob': 0.09379108221146912}, {'...   \n",
       "1      0                1  [{'label': 1, 'prob': 0.7481948417972909}, {'l...   \n",
       "2      0                0  [{'label': 1, 'prob': 0.20434886983761785}, {'...   \n",
       "3      0                1  [{'label': 1, 'prob': 0.7477750066606237}, {'l...   \n",
       "4      0                0  [{'label': 1, 'prob': 0.37985269161726803}, {'...   \n",
       "\n",
       "  splits  \n",
       "0   TEST  \n",
       "1   TEST  \n",
       "2   TEST  \n",
       "3   TEST  \n",
       "4   TEST  "
      ]
     },
     "execution_count": 42,
     "metadata": {},
     "output_type": "execute_result"
    }
   ],
   "source": [
    "pred[[VAR_TARGET, f'predicted_{VAR_TARGET}', f'predicted_{VAR_TARGET}_probs', 'splits']].head()"
   ]
  },
  {
   "cell_type": "markdown",
   "id": "5f028e3c-8afb-42ff-84dc-84a38ad6cdf6",
   "metadata": {},
   "source": [
    "Notice the nested dictionary for predicted probabilities.  In BigQuery this is a Record type structure with nested fields for `label` and `prob`.  This is returned to the pandas dataframe as a nested dictionary.\n",
    "\n",
    "The following code sorts the dictionary for the first record by `prob`:"
   ]
  },
  {
   "cell_type": "code",
   "execution_count": 43,
   "id": "f2bf6866-af12-401b-8b7f-e5f73d8d3b8b",
   "metadata": {},
   "outputs": [
    {
     "data": {
      "text/plain": [
       "[[{'label': 0, 'prob': 0.9062089177885309},\n",
       "  {'label': 1, 'prob': 0.09379108221146912}]]"
      ]
     },
     "execution_count": 43,
     "metadata": {},
     "output_type": "execute_result"
    }
   ],
   "source": [
    "exec('temp = pred.predicted_'+VAR_TARGET+'_probs[0]')\n",
    "[sorted(x, key = lambda x: x['label']) for x in [temp]]"
   ]
  },
  {
   "cell_type": "markdown",
   "id": "18b3c6a6-b7a2-47ae-bb34-946515530ed7",
   "metadata": {},
   "source": [
    "---\n",
    "## Custom Eval Metrics\n",
    "Retrieve the predictions to a local dataframe and use [scikit-learn](https://scikit-learn.org/stable/index.html) metrics [fuctions](https://scikit-learn.org/stable/modules/model_evaluation.html) to do model evaluation."
   ]
  },
  {
   "cell_type": "code",
   "execution_count": 44,
   "id": "a74e7ce3-099f-48de-b058-555d1d2a67d8",
   "metadata": {},
   "outputs": [
    {
     "data": {
      "text/plain": [
       "array([[11590,  1291],\n",
       "       [    0,    24]])"
      ]
     },
     "execution_count": 44,
     "metadata": {},
     "output_type": "execute_result"
    }
   ],
   "source": [
    "metrics.confusion_matrix(list(pred[f'{VAR_TARGET}']), list(pred[f'predicted_{VAR_TARGET}']))"
   ]
  },
  {
   "cell_type": "code",
   "execution_count": 45,
   "id": "39763e22-b486-4640-a050-397eeec0ea7e",
   "metadata": {},
   "outputs": [
    {
     "data": {
      "text/plain": [
       "<sklearn.metrics._plot.confusion_matrix.ConfusionMatrixDisplay at 0x7f868ecd9c30>"
      ]
     },
     "execution_count": 45,
     "metadata": {},
     "output_type": "execute_result"
    },
    {
     "data": {
      "image/png": "[encoded data removed]",
      "text/plain": [
       "<Figure size 640x480 with 2 Axes>"
      ]
     },
     "metadata": {},
     "output_type": "display_data"
    }
   ],
   "source": [
    "disp = metrics.ConfusionMatrixDisplay(\n",
    "    confusion_matrix = metrics.confusion_matrix(list(pred[f'{VAR_TARGET}']), list(pred[f'predicted_{VAR_TARGET}']))\n",
    ")\n",
    "disp.plot()"
   ]
  },
  {
   "cell_type": "code",
   "execution_count": 46,
   "id": "a0220cfa-6e54-4341-bb89-1454456aa7da",
   "metadata": {},
   "outputs": [
    {
     "data": {
      "text/plain": [
       "0.8999612553273925"
      ]
     },
     "execution_count": 46,
     "metadata": {},
     "output_type": "execute_result"
    }
   ],
   "source": [
    "metrics.accuracy_score(list(pred[f'{VAR_TARGET}']), list(pred[f'predicted_{VAR_TARGET}']))"
   ]
  },
  {
   "cell_type": "code",
   "execution_count": 47,
   "id": "9688f8a7-d654-4a95-af5b-5d0390a58740",
   "metadata": {},
   "outputs": [
    {
     "name": "stdout",
     "output_type": "stream",
     "text": [
      "              precision    recall  f1-score   support\n",
      "\n",
      "           0       1.00      0.90      0.95     12881\n",
      "           1       0.02      1.00      0.04        24\n",
      "\n",
      "    accuracy                           0.90     12905\n",
      "   macro avg       0.51      0.95      0.49     12905\n",
      "weighted avg       1.00      0.90      0.95     12905\n",
      "\n"
     ]
    }
   ],
   "source": [
    "print(metrics.classification_report(list(pred[f'{VAR_TARGET}']), list(pred[f'predicted_{VAR_TARGET}'])))"
   ]
  },
  {
   "cell_type": "markdown",
   "id": "6ce4cf25-20a0-4377-bde3-fc16ad5a1803",
   "metadata": {},
   "source": [
    "---\n",
    "## Explanations\n",
    "[Built-in](https://cloud.google.com/bigquery-ml/docs/reference/standard-sql/bigqueryml-syntax-xai-overview) capabilities to understand how features contributed to predictions both individually (local) and overall (global)."
   ]
  },
  {
   "cell_type": "markdown",
   "id": "1ca65283-b3b4-410b-8a08-e887e8ae2f09",
   "metadata": {},
   "source": [
    "### Local Explainability\n",
    "Retrieve feature attribution values to interpret each features contribution to a prediction relative to the baseline prediction using [ML.EXPLAIN_PREDICT](https://cloud.google.com/bigquery-ml/docs/reference/standard-sql/bigqueryml-syntax-explain-predict)."
   ]
  },
  {
   "cell_type": "code",
   "execution_count": 48,
   "id": "2271195b-7b31-4ea2-bf11-7068434bfcc2",
   "metadata": {},
   "outputs": [],
   "source": [
    "query = f\"\"\"\n",
    "SELECT *\n",
    "FROM ML.EXPLAIN_PREDICT (MODEL `{BQ_PROJECT}.{BQ_DATASET}.{BQ_MODEL}`,(\n",
    "    SELECT *\n",
    "    FROM `{BQ_PROJECT}.{BQ_DATASET}.{BQ_TABLE}`\n",
    "    WHERE splits = 'TEST'), STRUCT(10 as top_k_features)\n",
    "  )\n",
    "\"\"\"\n",
    "explain = bq.query(query = query).to_dataframe()"
   ]
  },
  {
   "cell_type": "code",
   "execution_count": 49,
   "id": "cf27cdc0-dbfa-4e51-8c95-e8432f356ead",
   "metadata": {},
   "outputs": [
    {
     "data": {
      "text/html": [
       "<div>\n",
       "<style scoped>\n",
       "    .dataframe tbody tr th:only-of-type {\n",
       "        vertical-align: middle;\n",
       "    }\n",
       "\n",
       "    .dataframe tbody tr th {\n",
       "        vertical-align: top;\n",
       "    }\n",
       "\n",
       "    .dataframe thead th {\n",
       "        text-align: right;\n",
       "    }\n",
       "</style>\n",
       "<table border=\"1\" class=\"dataframe\">\n",
       "  <thead>\n",
       "    <tr style=\"text-align: right;\">\n",
       "      <th></th>\n",
       "      <th>trial_id</th>\n",
       "      <th>predicted_Class</th>\n",
       "      <th>probability</th>\n",
       "      <th>top_feature_attributions</th>\n",
       "      <th>baseline_prediction_value</th>\n",
       "      <th>prediction_value</th>\n",
       "      <th>approximation_error</th>\n",
       "      <th>Time</th>\n",
       "      <th>V1</th>\n",
       "      <th>V2</th>\n",
       "      <th>...</th>\n",
       "      <th>V22</th>\n",
       "      <th>V23</th>\n",
       "      <th>V24</th>\n",
       "      <th>V25</th>\n",
       "      <th>V26</th>\n",
       "      <th>V27</th>\n",
       "      <th>V28</th>\n",
       "      <th>Amount</th>\n",
       "      <th>Class</th>\n",
       "      <th>splits</th>\n",
       "    </tr>\n",
       "  </thead>\n",
       "  <tbody>\n",
       "    <tr>\n",
       "      <th>0</th>\n",
       "      <td>1</td>\n",
       "      <td>0</td>\n",
       "      <td>0.906209</td>\n",
       "      <td>[{'feature': 'V14', 'attribution': -0.50528652...</td>\n",
       "      <td>-1.491018</td>\n",
       "      <td>-2.268200</td>\n",
       "      <td>0.0</td>\n",
       "      <td>30971.0</td>\n",
       "      <td>1.242351</td>\n",
       "      <td>-0.090043</td>\n",
       "      <td>...</td>\n",
       "      <td>-0.569518</td>\n",
       "      <td>0.101134</td>\n",
       "      <td>-0.277948</td>\n",
       "      <td>0.082921</td>\n",
       "      <td>0.882632</td>\n",
       "      <td>-0.080413</td>\n",
       "      <td>-0.015072</td>\n",
       "      <td>0.0</td>\n",
       "      <td>0</td>\n",
       "      <td>TEST</td>\n",
       "    </tr>\n",
       "    <tr>\n",
       "      <th>1</th>\n",
       "      <td>1</td>\n",
       "      <td>1</td>\n",
       "      <td>0.748195</td>\n",
       "      <td>[{'feature': 'V4', 'attribution': 2.5625917069...</td>\n",
       "      <td>-1.491018</td>\n",
       "      <td>1.089008</td>\n",
       "      <td>0.0</td>\n",
       "      <td>116734.0</td>\n",
       "      <td>1.882176</td>\n",
       "      <td>0.246174</td>\n",
       "      <td>...</td>\n",
       "      <td>0.470923</td>\n",
       "      <td>0.100757</td>\n",
       "      <td>-0.035073</td>\n",
       "      <td>0.053270</td>\n",
       "      <td>0.141382</td>\n",
       "      <td>-0.006323</td>\n",
       "      <td>-0.050050</td>\n",
       "      <td>0.0</td>\n",
       "      <td>0</td>\n",
       "      <td>TEST</td>\n",
       "    </tr>\n",
       "    <tr>\n",
       "      <th>2</th>\n",
       "      <td>1</td>\n",
       "      <td>0</td>\n",
       "      <td>0.795651</td>\n",
       "      <td>[{'feature': 'V4', 'attribution': 1.3039048188...</td>\n",
       "      <td>-1.491018</td>\n",
       "      <td>-1.359332</td>\n",
       "      <td>0.0</td>\n",
       "      <td>73868.0</td>\n",
       "      <td>-0.422347</td>\n",
       "      <td>1.531719</td>\n",
       "      <td>...</td>\n",
       "      <td>-1.315610</td>\n",
       "      <td>-0.013144</td>\n",
       "      <td>-0.176537</td>\n",
       "      <td>-0.242915</td>\n",
       "      <td>-0.382894</td>\n",
       "      <td>0.084841</td>\n",
       "      <td>0.114663</td>\n",
       "      <td>0.0</td>\n",
       "      <td>0</td>\n",
       "      <td>TEST</td>\n",
       "    </tr>\n",
       "    <tr>\n",
       "      <th>3</th>\n",
       "      <td>1</td>\n",
       "      <td>1</td>\n",
       "      <td>0.747775</td>\n",
       "      <td>[{'feature': 'V4', 'attribution': 2.5681254175...</td>\n",
       "      <td>-1.491018</td>\n",
       "      <td>1.086781</td>\n",
       "      <td>0.0</td>\n",
       "      <td>113772.0</td>\n",
       "      <td>1.890485</td>\n",
       "      <td>0.261331</td>\n",
       "      <td>...</td>\n",
       "      <td>0.455722</td>\n",
       "      <td>0.094141</td>\n",
       "      <td>0.026726</td>\n",
       "      <td>0.069946</td>\n",
       "      <td>0.135425</td>\n",
       "      <td>-0.008944</td>\n",
       "      <td>-0.049222</td>\n",
       "      <td>0.0</td>\n",
       "      <td>0</td>\n",
       "      <td>TEST</td>\n",
       "    </tr>\n",
       "    <tr>\n",
       "      <th>4</th>\n",
       "      <td>1</td>\n",
       "      <td>0</td>\n",
       "      <td>0.620147</td>\n",
       "      <td>[{'feature': 'V4', 'attribution': 1.6839016639...</td>\n",
       "      <td>-1.491018</td>\n",
       "      <td>-0.490174</td>\n",
       "      <td>0.0</td>\n",
       "      <td>49884.0</td>\n",
       "      <td>1.050879</td>\n",
       "      <td>0.053408</td>\n",
       "      <td>...</td>\n",
       "      <td>0.624424</td>\n",
       "      <td>-0.157228</td>\n",
       "      <td>-0.240411</td>\n",
       "      <td>0.573061</td>\n",
       "      <td>0.244090</td>\n",
       "      <td>0.063834</td>\n",
       "      <td>0.010981</td>\n",
       "      <td>0.0</td>\n",
       "      <td>0</td>\n",
       "      <td>TEST</td>\n",
       "    </tr>\n",
       "  </tbody>\n",
       "</table>\n",
       "<p>5 rows × 39 columns</p>\n",
       "</div>"
      ],
      "text/plain": [
       "   trial_id  predicted_Class  probability  \\\n",
       "0         1                0     0.906209   \n",
       "1         1                1     0.748195   \n",
       "2         1                0     0.795651   \n",
       "3         1                1     0.747775   \n",
       "4         1                0     0.620147   \n",
       "\n",
       "                            top_feature_attributions  \\\n",
       "0  [{'feature': 'V14', 'attribution': -0.50528652...   \n",
       "1  [{'feature': 'V4', 'attribution': 2.5625917069...   \n",
       "2  [{'feature': 'V4', 'attribution': 1.3039048188...   \n",
       "3  [{'feature': 'V4', 'attribution': 2.5681254175...   \n",
       "4  [{'feature': 'V4', 'attribution': 1.6839016639...   \n",
       "\n",
       "   baseline_prediction_value  prediction_value  approximation_error      Time  \\\n",
       "0                  -1.491018         -2.268200                  0.0   30971.0   \n",
       "1                  -1.491018          1.089008                  0.0  116734.0   \n",
       "2                  -1.491018         -1.359332                  0.0   73868.0   \n",
       "3                  -1.491018          1.086781                  0.0  113772.0   \n",
       "4                  -1.491018         -0.490174                  0.0   49884.0   \n",
       "\n",
       "         V1        V2  ...       V22       V23       V24       V25       V26  \\\n",
       "0  1.242351 -0.090043  ... -0.569518  0.101134 -0.277948  0.082921  0.882632   \n",
       "1  1.882176  0.246174  ...  0.470923  0.100757 -0.035073  0.053270  0.141382   \n",
       "2 -0.422347  1.531719  ... -1.315610 -0.013144 -0.176537 -0.242915 -0.382894   \n",
       "3  1.890485  0.261331  ...  0.455722  0.094141  0.026726  0.069946  0.135425   \n",
       "4  1.050879  0.053408  ...  0.624424 -0.157228 -0.240411  0.573061  0.244090   \n",
       "\n",
       "        V27       V28  Amount  Class  splits  \n",
       "0 -0.080413 -0.015072     0.0      0    TEST  \n",
       "1 -0.006323 -0.050050     0.0      0    TEST  \n",
       "2  0.084841  0.114663     0.0      0    TEST  \n",
       "3 -0.008944 -0.049222     0.0      0    TEST  \n",
       "4  0.063834  0.010981     0.0      0    TEST  \n",
       "\n",
       "[5 rows x 39 columns]"
      ]
     },
     "execution_count": 49,
     "metadata": {},
     "output_type": "execute_result"
    }
   ],
   "source": [
    "explain.head()"
   ]
  },
  {
   "cell_type": "markdown",
   "id": "d7bc5aa2-6f43-4e34-9e3e-274178ef9dce",
   "metadata": {},
   "source": [
    "Create a plot of feature attributions for a single prediction:"
   ]
  },
  {
   "cell_type": "code",
   "execution_count": 50,
   "id": "f4d16e38-0c74-4b35-a0ee-e29eaef74486",
   "metadata": {},
   "outputs": [],
   "source": [
    "explanation = explain.iloc[0]['top_feature_attributions']"
   ]
  },
  {
   "cell_type": "code",
   "execution_count": 51,
   "id": "7dec5b27-73e5-4434-b63e-afec799f4bc2",
   "metadata": {},
   "outputs": [
    {
     "data": {
      "image/png": "[encoded data removed]",
      "text/plain": [
       "<Figure size 1500x500 with 1 Axes>"
      ]
     },
     "metadata": {},
     "output_type": "display_data"
    }
   ],
   "source": [
    "features = []\n",
    "scores = []\n",
    "for k in explanation:\n",
    "    features.append(k['feature'])\n",
    "    scores.append(k['attribution'])\n",
    "features = [x for _, x in sorted(zip(scores, features))]\n",
    "scores = sorted(scores)\n",
    "\n",
    "plt.figure(figsize=(15,5))\n",
    "plt.barh(features, scores)\n",
    "plt.title('Feature Attribution for Prediction')\n",
    "plt.show()"
   ]
  },
  {
   "cell_type": "markdown",
   "id": "fda629b1-e4e7-4abc-b2d1-c4e920fbc888",
   "metadata": {},
   "source": [
    "### Global Explainability\n",
    "Retrieve the influence of each feature on the model with [ML.GLOBAL_EXPLAIN](https://cloud.google.com/bigquery-ml/docs/reference/standard-sql/bigqueryml-syntax-global-explain).  "
   ]
  },
  {
   "cell_type": "code",
   "execution_count": 52,
   "id": "419aa43b-8e34-4088-b1f9-131d5ea0ce12",
   "metadata": {},
   "outputs": [],
   "source": [
    "query = f\"\"\"\n",
    "SELECT *\n",
    "FROM ML.GLOBAL_EXPLAIN (MODEL `{BQ_PROJECT}.{BQ_DATASET}.{BQ_MODEL}`)\n",
    "\"\"\"\n",
    "gexplain = bq.query(query = query).to_dataframe()"
   ]
  },
  {
   "cell_type": "code",
   "execution_count": 53,
   "id": "c11c73c8-f141-4dce-abea-fbe91c132ca5",
   "metadata": {},
   "outputs": [
    {
     "data": {
      "text/html": [
       "<div>\n",
       "<style scoped>\n",
       "    .dataframe tbody tr th:only-of-type {\n",
       "        vertical-align: middle;\n",
       "    }\n",
       "\n",
       "    .dataframe tbody tr th {\n",
       "        vertical-align: top;\n",
       "    }\n",
       "\n",
       "    .dataframe thead th {\n",
       "        text-align: right;\n",
       "    }\n",
       "</style>\n",
       "<table border=\"1\" class=\"dataframe\">\n",
       "  <thead>\n",
       "    <tr style=\"text-align: right;\">\n",
       "      <th></th>\n",
       "      <th>trial_id</th>\n",
       "      <th>feature</th>\n",
       "      <th>attribution</th>\n",
       "    </tr>\n",
       "  </thead>\n",
       "  <tbody>\n",
       "    <tr>\n",
       "      <th>0</th>\n",
       "      <td>1</td>\n",
       "      <td>V4</td>\n",
       "      <td>0.685852</td>\n",
       "    </tr>\n",
       "    <tr>\n",
       "      <th>1</th>\n",
       "      <td>1</td>\n",
       "      <td>V14</td>\n",
       "      <td>0.518143</td>\n",
       "    </tr>\n",
       "    <tr>\n",
       "      <th>2</th>\n",
       "      <td>1</td>\n",
       "      <td>V12</td>\n",
       "      <td>0.468498</td>\n",
       "    </tr>\n",
       "    <tr>\n",
       "      <th>3</th>\n",
       "      <td>1</td>\n",
       "      <td>V13</td>\n",
       "      <td>0.282753</td>\n",
       "    </tr>\n",
       "    <tr>\n",
       "      <th>4</th>\n",
       "      <td>1</td>\n",
       "      <td>V22</td>\n",
       "      <td>0.251519</td>\n",
       "    </tr>\n",
       "  </tbody>\n",
       "</table>\n",
       "</div>"
      ],
      "text/plain": [
       "   trial_id feature  attribution\n",
       "0         1      V4     0.685852\n",
       "1         1     V14     0.518143\n",
       "2         1     V12     0.468498\n",
       "3         1     V13     0.282753\n",
       "4         1     V22     0.251519"
      ]
     },
     "execution_count": 53,
     "metadata": {},
     "output_type": "execute_result"
    }
   ],
   "source": [
    "gexplain.head()"
   ]
  },
  {
   "cell_type": "code",
   "execution_count": 54,
   "id": "3a05329a-818f-4d77-94d3-41cff494f84f",
   "metadata": {},
   "outputs": [
    {
     "data": {
      "image/png": "[encoded data removed]",
      "text/plain": [
       "<Figure size 1500x800 with 1 Axes>"
      ]
     },
     "metadata": {},
     "output_type": "display_data"
    }
   ],
   "source": [
    "plt.figure(figsize=(15,8))\n",
    "plt.barh(gexplain['feature'], gexplain['attribution'])\n",
    "plt.title('Global Influence')\n",
    "plt.xlabel('Attribution')\n",
    "#plt.ylabel('Feature')\n",
    "plt.show()"
   ]
  },
  {
   "cell_type": "markdown",
   "id": "711d67b9-7dc0-4742-8c66-df3d7d423633",
   "metadata": {},
   "source": [
    "---\n",
    "## Serving With Vertex AI\n",
    "\n",
    "The training options for creating the model include registering the model the Vertex AI Automatically.  This makes deploying the model to a [Vertex AI Endpoint for online serving](https://cloud.google.com/vertex-ai/docs/general/deployment) very easy."
   ]
  },
  {
   "cell_type": "markdown",
   "id": "b13700f9-c1ae-4169-97f7-64568b042460",
   "metadata": {},
   "source": [
    "### Vertex AI Model Registry - Get Model\n",
    "\n",
    "When these modes were trained in BigQuery ML they included options for registration in Vertex AI Model Registry.  This section shows how to retrieve the information from the model using the [Vertex AI Python Client](../Tips/aiplatform_notes.md).\n",
    "\n",
    "References:\n",
    "- [aiplatform.Model()](https://cloud.google.com/python/docs/reference/aiplatform/latest/google.cloud.aiplatform.Model)"
   ]
  },
  {
   "cell_type": "code",
   "execution_count": 55,
   "id": "34938652-32af-49f3-9645-5011c3c8fdf5",
   "metadata": {},
   "outputs": [
    {
     "data": {
      "text/plain": [
       "'projects/918019863602/locations/us-central1/models/bqml_bqml_logistic-regression-hpt'"
      ]
     },
     "execution_count": 55,
     "metadata": {},
     "output_type": "execute_result"
    }
   ],
   "source": [
    "vertex_model = aiplatform.Model(model_name = f'bqml_{SERIES}_{EXPERIMENT}')\n",
    "vertex_model.resource_name"
   ]
  },
  {
   "cell_type": "code",
   "execution_count": 56,
   "id": "9870b4f0-954a-4b51-a91f-6de83954df67",
   "metadata": {},
   "outputs": [],
   "source": [
    "# note: this is blank since the model is managed by BQML and container is pre-specified\n",
    "vertex_model.uri "
   ]
  },
  {
   "cell_type": "code",
   "execution_count": 57,
   "id": "a2d60717-34f6-4932-a08c-3d594951762b",
   "metadata": {},
   "outputs": [
    {
     "data": {
      "text/plain": [
       "name: \"projects/918019863602/locations/us-central1/models/bqml_bqml_logistic-regression-hpt\"\n",
       "display_name: \"bqml_bqml_logistic-regression-hpt\"\n",
       "supported_deployment_resources_types: DEDICATED_RESOURCES\n",
       "supported_input_storage_formats: \"jsonl\"\n",
       "supported_input_storage_formats: \"bigquery\"\n",
       "supported_input_storage_formats: \"csv\"\n",
       "supported_input_storage_formats: \"tf-record\"\n",
       "supported_input_storage_formats: \"tf-record-gzip\"\n",
       "supported_input_storage_formats: \"file-list\"\n",
       "supported_output_storage_formats: \"jsonl\"\n",
       "supported_output_storage_formats: \"bigquery\"\n",
       "create_time {\n",
       "  seconds: 1745249981\n",
       "  nanos: 246803000\n",
       "}\n",
       "update_time {\n",
       "  seconds: 1745249981\n",
       "  nanos: 246803000\n",
       "}\n",
       "etag: \"AMEw9yPX9_4kBTyx3jQjmBM8kvM4m1-xtkeKOmpdKKVjpAmdVOJ-YYRf6ZObxMSsSU8=\"\n",
       "labels {\n",
       "  key: \"experiment\"\n",
       "  value: \"logistic-regression-hpt\"\n",
       "}\n",
       "labels {\n",
       "  key: \"series\"\n",
       "  value: \"bqml\"\n",
       "}\n",
       "version_id: \"1\"\n",
       "version_aliases: \"run-20250421151614\"\n",
       "version_aliases: \"default\"\n",
       "version_create_time {\n",
       "  seconds: 1745249981\n",
       "  nanos: 246803000\n",
       "}\n",
       "version_update_time {\n",
       "  seconds: 1745250161\n",
       "  nanos: 76992000\n",
       "}\n",
       "model_source_info {\n",
       "  source_type: BQML\n",
       "}"
      ]
     },
     "execution_count": 57,
     "metadata": {},
     "output_type": "execute_result"
    }
   ],
   "source": [
    "vertex_model.gca_resource"
   ]
  },
  {
   "cell_type": "markdown",
   "id": "0d893ce9-2607-41cc-9971-cbacff89c018",
   "metadata": {},
   "source": [
    "### Vertex AI Endpoint - Create or Retrieve\n",
    "\n",
    "References:\n",
    "- [aiplatform.Endpoint()](https://cloud.google.com/python/docs/reference/aiplatform/latest/google.cloud.aiplatform.Endpoint)"
   ]
  },
  {
   "cell_type": "code",
   "execution_count": 58,
   "id": "b188d2dd-fe74-4a41-8564-5770d6655dc3",
   "metadata": {},
   "outputs": [
    {
     "name": "stdout",
     "output_type": "stream",
     "text": [
      "Creating Endpoint\n",
      "Create Endpoint backing LRO: projects/918019863602/locations/us-central1/endpoints/8751502328143544320/operations/3464220943352594432\n",
      "Endpoint created. Resource name: projects/918019863602/locations/us-central1/endpoints/8751502328143544320\n",
      "To use this Endpoint in another session:\n",
      "endpoint = aiplatform.Endpoint('projects/918019863602/locations/us-central1/endpoints/8751502328143544320')\n",
      "Endpoint Created: bqml\n"
     ]
    }
   ],
   "source": [
    "if not aiplatform.Endpoint.list(filter = f\"display_name={SERIES}\"):\n",
    "    endpoint = aiplatform.Endpoint.create(\n",
    "        display_name = f\"{SERIES}\",\n",
    "        labels = {'series' : f\"{SERIES}\"}\n",
    "    )\n",
    "    print(f\"Endpoint Created: {endpoint.display_name}\")\n",
    "else:\n",
    "    endpoint = aiplatform.Endpoint.list(filter = f\"display_name={SERIES}\")[0]\n",
    "    print(f\"Endpoint Found: {endpoint.display_name}\")"
   ]
  },
  {
   "cell_type": "code",
   "execution_count": 59,
   "id": "d6d16a80-c957-4285-9204-51421ccadc96",
   "metadata": {},
   "outputs": [
    {
     "data": {
      "text/plain": [
       "'bqml'"
      ]
     },
     "execution_count": 59,
     "metadata": {},
     "output_type": "execute_result"
    }
   ],
   "source": [
    "endpoint.display_name"
   ]
  },
  {
   "cell_type": "code",
   "execution_count": 60,
   "id": "d2f4a6da-3997-4da7-8369-789de38e75b8",
   "metadata": {},
   "outputs": [
    {
     "data": {
      "text/plain": [
       "{}"
      ]
     },
     "execution_count": 60,
     "metadata": {},
     "output_type": "execute_result"
    }
   ],
   "source": [
    "endpoint.traffic_split"
   ]
  },
  {
   "cell_type": "code",
   "execution_count": 61,
   "id": "4c5db429-5e4d-43ae-9d6f-4f333738ccf9",
   "metadata": {},
   "outputs": [],
   "source": [
    "deployed_models = endpoint.list_models()\n",
    "for d in deployed_models: print(d.display_name)"
   ]
  },
  {
   "cell_type": "markdown",
   "id": "dedcb700-802d-42fd-91b6-10fd1f1fbbe4",
   "metadata": {},
   "source": [
    "### Deploy Model To Vertex AI Endpoint\n",
    "\n",
    "**NOTE: This can take 15+ minutes to complete.**\n",
    "\n",
    "Reference:\n",
    "- [aiplatform.Endpoint.deploy()](https://cloud.google.com/python/docs/reference/aiplatform/latest/google.cloud.aiplatform.Endpoint#google_cloud_aiplatform_Endpoint_deploy)"
   ]
  },
  {
   "cell_type": "code",
   "execution_count": null,
   "id": "3a5e1d72-874f-4582-9233-f6827096a784",
   "metadata": {},
   "outputs": [
    {
     "name": "stdout",
     "output_type": "stream",
     "text": [
      "Deploying Model projects/918019863602/locations/us-central1/models/bqml_bqml_logistic-regression-hpt to Endpoint : projects/918019863602/locations/us-central1/endpoints/8751502328143544320\n",
      "Deploy Endpoint model backing LRO: projects/918019863602/locations/us-central1/endpoints/8751502328143544320/operations/7846223380784087040\n"
     ]
    }
   ],
   "source": [
    "endpoint.deploy(\n",
    "    model = vertex_model,\n",
    "    deployed_model_display_name = vertex_model.display_name,\n",
    "    traffic_percentage = 100,\n",
    "    machine_type = 'n1-standard-2',\n",
    "    min_replica_count = 1,\n",
    "    max_replica_count = 1,\n",
    "    explanation_parameters = aiplatform.explain.ExplanationParameters(), # supress the explanation specs from BQML during deployment\n",
    "    explanation_metadata = aiplatform.explain.ExplanationMetadata(),\n",
    ")"
   ]
  },
  {
   "cell_type": "markdown",
   "id": "30a5a63e-9c60-45ed-9a0a-fad39899fe28",
   "metadata": {},
   "source": [
    "---\n",
    "# DEBUGGING\n",
    "\n",
    "ERROR related to explanationspec from BQML registering model in Vertex AI Model Registry.  View the spec with `vertex_model.gca_resource`\n",
    "\n",
    "---"
   ]
  },
  {
   "cell_type": "code",
   "execution_count": 63,
   "id": "cef02f97-c080-442d-9cd9-dac14bacab88",
   "metadata": {},
   "outputs": [
    {
     "data": {
      "text/plain": [
       "[]"
      ]
     },
     "execution_count": 63,
     "metadata": {},
     "output_type": "execute_result"
    }
   ],
   "source": [
    "endpoint.list_models()"
   ]
  },
  {
   "cell_type": "markdown",
   "id": "f23b38bf-7af0-41c5-975e-fbf8e234cf95",
   "metadata": {},
   "source": [
    "### Remove Deployed Models without Traffic"
   ]
  },
  {
   "cell_type": "code",
   "execution_count": 64,
   "id": "29fe58f6-0138-4743-b57d-401fc94a406c",
   "metadata": {},
   "outputs": [],
   "source": [
    "for deployed_model in endpoint.list_models():\n",
    "    if deployed_model.id in endpoint.traffic_split:\n",
    "        print(f\"Model {deployed_model.display_name} with version {deployed_model.model_version_id} has traffic = {endpoint.traffic_split[deployed_model.id]}\")\n",
    "    else:\n",
    "        endpoint.undeploy(deployed_model_id = deployed_model.id)\n",
    "        print(f\"Undeploying {deployed_model.display_name} with version {deployed_model.model_version_id} because it has no traffic.\")"
   ]
  },
  {
   "cell_type": "code",
   "execution_count": 65,
   "id": "02e12f12-64e8-4f0d-9a05-91c45d969c6e",
   "metadata": {},
   "outputs": [
    {
     "data": {
      "text/plain": [
       "{}"
      ]
     },
     "execution_count": 65,
     "metadata": {},
     "output_type": "execute_result"
    }
   ],
   "source": [
    "endpoint.traffic_split"
   ]
  },
  {
   "cell_type": "code",
   "execution_count": 66,
   "id": "a7adc28c-2888-44b6-91cf-6753887ad852",
   "metadata": {},
   "outputs": [],
   "source": [
    "#endpoint.list_models()"
   ]
  },
  {
   "cell_type": "markdown",
   "id": "bd733854-41a6-447e-ac7f-8c4aae6b23f6",
   "metadata": {},
   "source": [
    "---\n",
    "## Predictions With Vertex AI Endpoint"
   ]
  },
  {
   "cell_type": "markdown",
   "id": "095e29aa-f28c-45d2-bc8a-518c27cce7a7",
   "metadata": {},
   "source": [
    "### Retrieve Records For Prediction"
   ]
  },
  {
   "cell_type": "code",
   "execution_count": 67,
   "id": "25447641-0ae8-4ace-9c8a-2a4b94389a8d",
   "metadata": {},
   "outputs": [
    {
     "ename": "BadRequest",
     "evalue": "400 Column transaction_id in SELECT * EXCEPT list does not exist at [2:32]; reason: invalidQuery, location: query, message: Column transaction_id in SELECT * EXCEPT list does not exist at [2:32]\n\nLocation: US\nJob ID: aa97b0ae-4235-4d06-93d8-80c347655ed1\n",
     "output_type": "error",
     "traceback": [
      "\u001b[0;31m---------------------------------------------------------------------------\u001b[0m",
      "\u001b[0;31mBadRequest\u001b[0m                                Traceback (most recent call last)",
      "Cell \u001b[0;32mIn[67], line 9\u001b[0m\n\u001b[1;32m      1\u001b[0m n \u001b[38;5;241m=\u001b[39m \u001b[38;5;241m10\u001b[39m\n\u001b[1;32m      2\u001b[0m pred \u001b[38;5;241m=\u001b[39m \u001b[43mbq\u001b[49m\u001b[38;5;241;43m.\u001b[39;49m\u001b[43mquery\u001b[49m\u001b[43m(\u001b[49m\n\u001b[1;32m      3\u001b[0m \u001b[43m    \u001b[49m\u001b[43mquery\u001b[49m\u001b[43m \u001b[49m\u001b[38;5;241;43m=\u001b[39;49m\u001b[43m \u001b[49m\u001b[38;5;124;43mf\u001b[39;49m\u001b[38;5;124;43m\"\"\"\u001b[39;49m\n\u001b[1;32m      4\u001b[0m \u001b[38;5;124;43m        SELECT * EXCEPT(\u001b[39;49m\u001b[38;5;132;43;01m{\u001b[39;49;00m\u001b[43mVAR_TARGET\u001b[49m\u001b[38;5;132;43;01m}\u001b[39;49;00m\u001b[38;5;124;43m, \u001b[39;49m\u001b[38;5;132;43;01m{\u001b[39;49;00m\u001b[43mVAR_OMIT\u001b[49m\u001b[38;5;132;43;01m}\u001b[39;49;00m\u001b[38;5;124;43m, splits)\u001b[39;49m\n\u001b[1;32m      5\u001b[0m \u001b[38;5;124;43m        FROM \u001b[39;49m\u001b[38;5;132;43;01m{\u001b[39;49;00m\u001b[43mBQ_PROJECT\u001b[49m\u001b[38;5;132;43;01m}\u001b[39;49;00m\u001b[38;5;124;43m.\u001b[39;49m\u001b[38;5;132;43;01m{\u001b[39;49;00m\u001b[43mBQ_DATASET\u001b[49m\u001b[38;5;132;43;01m}\u001b[39;49;00m\u001b[38;5;124;43m.\u001b[39;49m\u001b[38;5;132;43;01m{\u001b[39;49;00m\u001b[43mBQ_TABLE\u001b[49m\u001b[38;5;132;43;01m}\u001b[39;49;00m\n\u001b[1;32m      6\u001b[0m \u001b[38;5;124;43m        WHERE splits=\u001b[39;49m\u001b[38;5;124;43m'\u001b[39;49m\u001b[38;5;124;43mTEST\u001b[39;49m\u001b[38;5;124;43m'\u001b[39;49m\n\u001b[1;32m      7\u001b[0m \u001b[38;5;124;43m        LIMIT \u001b[39;49m\u001b[38;5;132;43;01m{\u001b[39;49;00m\u001b[43mn\u001b[49m\u001b[38;5;132;43;01m}\u001b[39;49;00m\n\u001b[1;32m      8\u001b[0m \u001b[38;5;124;43m        \u001b[39;49m\u001b[38;5;124;43m\"\"\"\u001b[39;49m\n\u001b[0;32m----> 9\u001b[0m \u001b[43m)\u001b[49m\u001b[38;5;241;43m.\u001b[39;49m\u001b[43mto_dataframe\u001b[49m\u001b[43m(\u001b[49m\u001b[43m)\u001b[49m\n",
      "File \u001b[0;32m/opt/conda/lib/python3.10/site-packages/google/cloud/bigquery/job/query.py:2059\u001b[0m, in \u001b[0;36mQueryJob.to_dataframe\u001b[0;34m(self, bqstorage_client, dtypes, progress_bar_type, create_bqstorage_client, max_results, geography_as_object, bool_dtype, int_dtype, float_dtype, string_dtype, date_dtype, datetime_dtype, time_dtype, timestamp_dtype, range_date_dtype, range_datetime_dtype, range_timestamp_dtype)\u001b[0m\n\u001b[1;32m   1829\u001b[0m \u001b[38;5;28;01mdef\u001b[39;00m\u001b[38;5;250m \u001b[39m\u001b[38;5;21mto_dataframe\u001b[39m(\n\u001b[1;32m   1830\u001b[0m     \u001b[38;5;28mself\u001b[39m,\n\u001b[1;32m   1831\u001b[0m     bqstorage_client: Optional[\u001b[38;5;124m\"\u001b[39m\u001b[38;5;124mbigquery_storage.BigQueryReadClient\u001b[39m\u001b[38;5;124m\"\u001b[39m] \u001b[38;5;241m=\u001b[39m \u001b[38;5;28;01mNone\u001b[39;00m,\n\u001b[0;32m   (...)\u001b[0m\n\u001b[1;32m   1851\u001b[0m     ] \u001b[38;5;241m=\u001b[39m DefaultPandasDTypes\u001b[38;5;241m.\u001b[39mRANGE_TIMESTAMP_DTYPE,\n\u001b[1;32m   1852\u001b[0m ) \u001b[38;5;241m-\u001b[39m\u001b[38;5;241m>\u001b[39m \u001b[38;5;124m\"\u001b[39m\u001b[38;5;124mpandas.DataFrame\u001b[39m\u001b[38;5;124m\"\u001b[39m:\n\u001b[1;32m   1853\u001b[0m \u001b[38;5;250m    \u001b[39m\u001b[38;5;124;03m\"\"\"Return a pandas DataFrame from a QueryJob\u001b[39;00m\n\u001b[1;32m   1854\u001b[0m \n\u001b[1;32m   1855\u001b[0m \u001b[38;5;124;03m    Args:\u001b[39;00m\n\u001b[0;32m   (...)\u001b[0m\n\u001b[1;32m   2057\u001b[0m \u001b[38;5;124;03m            :mod:`shapely` library cannot be imported.\u001b[39;00m\n\u001b[1;32m   2058\u001b[0m \u001b[38;5;124;03m    \"\"\"\u001b[39;00m\n\u001b[0;32m-> 2059\u001b[0m     query_result \u001b[38;5;241m=\u001b[39m \u001b[43mwait_for_query\u001b[49m\u001b[43m(\u001b[49m\u001b[38;5;28;43mself\u001b[39;49m\u001b[43m,\u001b[49m\u001b[43m \u001b[49m\u001b[43mprogress_bar_type\u001b[49m\u001b[43m,\u001b[49m\u001b[43m \u001b[49m\u001b[43mmax_results\u001b[49m\u001b[38;5;241;43m=\u001b[39;49m\u001b[43mmax_results\u001b[49m\u001b[43m)\u001b[49m\n\u001b[1;32m   2060\u001b[0m     \u001b[38;5;28;01mreturn\u001b[39;00m query_result\u001b[38;5;241m.\u001b[39mto_dataframe(\n\u001b[1;32m   2061\u001b[0m         bqstorage_client\u001b[38;5;241m=\u001b[39mbqstorage_client,\n\u001b[1;32m   2062\u001b[0m         dtypes\u001b[38;5;241m=\u001b[39mdtypes,\n\u001b[0;32m   (...)\u001b[0m\n\u001b[1;32m   2076\u001b[0m         range_timestamp_dtype\u001b[38;5;241m=\u001b[39mrange_timestamp_dtype,\n\u001b[1;32m   2077\u001b[0m     )\n",
      "File \u001b[0;32m/opt/conda/lib/python3.10/site-packages/google/cloud/bigquery/_tqdm_helpers.py:107\u001b[0m, in \u001b[0;36mwait_for_query\u001b[0;34m(query_job, progress_bar_type, max_results)\u001b[0m\n\u001b[1;32m    103\u001b[0m progress_bar \u001b[38;5;241m=\u001b[39m get_progress_bar(\n\u001b[1;32m    104\u001b[0m     progress_bar_type, \u001b[38;5;124m\"\u001b[39m\u001b[38;5;124mQuery is running\u001b[39m\u001b[38;5;124m\"\u001b[39m, default_total, \u001b[38;5;124m\"\u001b[39m\u001b[38;5;124mquery\u001b[39m\u001b[38;5;124m\"\u001b[39m\n\u001b[1;32m    105\u001b[0m )\n\u001b[1;32m    106\u001b[0m \u001b[38;5;28;01mif\u001b[39;00m progress_bar \u001b[38;5;129;01mis\u001b[39;00m \u001b[38;5;28;01mNone\u001b[39;00m:\n\u001b[0;32m--> 107\u001b[0m     \u001b[38;5;28;01mreturn\u001b[39;00m \u001b[43mquery_job\u001b[49m\u001b[38;5;241;43m.\u001b[39;49m\u001b[43mresult\u001b[49m\u001b[43m(\u001b[49m\u001b[43mmax_results\u001b[49m\u001b[38;5;241;43m=\u001b[39;49m\u001b[43mmax_results\u001b[49m\u001b[43m)\u001b[49m\n\u001b[1;32m    109\u001b[0m i \u001b[38;5;241m=\u001b[39m \u001b[38;5;241m0\u001b[39m\n\u001b[1;32m    110\u001b[0m \u001b[38;5;28;01mwhile\u001b[39;00m \u001b[38;5;28;01mTrue\u001b[39;00m:\n",
      "File \u001b[0;32m/opt/conda/lib/python3.10/site-packages/google/cloud/bigquery/job/query.py:1681\u001b[0m, in \u001b[0;36mQueryJob.result\u001b[0;34m(self, page_size, max_results, retry, timeout, start_index, job_retry)\u001b[0m\n\u001b[1;32m   1676\u001b[0m     remaining_timeout \u001b[38;5;241m=\u001b[39m \u001b[38;5;28;01mNone\u001b[39;00m\n\u001b[1;32m   1678\u001b[0m \u001b[38;5;28;01mif\u001b[39;00m remaining_timeout \u001b[38;5;129;01mis\u001b[39;00m \u001b[38;5;28;01mNone\u001b[39;00m:\n\u001b[1;32m   1679\u001b[0m     \u001b[38;5;66;03m# Since is_job_done() calls jobs.getQueryResults, which is a\u001b[39;00m\n\u001b[1;32m   1680\u001b[0m     \u001b[38;5;66;03m# long-running API, don't delay the next request at all.\u001b[39;00m\n\u001b[0;32m-> 1681\u001b[0m     \u001b[38;5;28;01mwhile\u001b[39;00m \u001b[38;5;129;01mnot\u001b[39;00m \u001b[43mis_job_done\u001b[49m\u001b[43m(\u001b[49m\u001b[43m)\u001b[49m:\n\u001b[1;32m   1682\u001b[0m         \u001b[38;5;28;01mpass\u001b[39;00m\n\u001b[1;32m   1683\u001b[0m \u001b[38;5;28;01melse\u001b[39;00m:\n\u001b[1;32m   1684\u001b[0m     \u001b[38;5;66;03m# Use a monotonic clock since we don't actually care about\u001b[39;00m\n\u001b[1;32m   1685\u001b[0m     \u001b[38;5;66;03m# daylight savings or similar, just the elapsed time.\u001b[39;00m\n",
      "File \u001b[0;32m/opt/conda/lib/python3.10/site-packages/google/api_core/retry/retry_unary.py:293\u001b[0m, in \u001b[0;36mRetry.__call__.<locals>.retry_wrapped_func\u001b[0;34m(*args, **kwargs)\u001b[0m\n\u001b[1;32m    289\u001b[0m target \u001b[38;5;241m=\u001b[39m functools\u001b[38;5;241m.\u001b[39mpartial(func, \u001b[38;5;241m*\u001b[39margs, \u001b[38;5;241m*\u001b[39m\u001b[38;5;241m*\u001b[39mkwargs)\n\u001b[1;32m    290\u001b[0m sleep_generator \u001b[38;5;241m=\u001b[39m exponential_sleep_generator(\n\u001b[1;32m    291\u001b[0m     \u001b[38;5;28mself\u001b[39m\u001b[38;5;241m.\u001b[39m_initial, \u001b[38;5;28mself\u001b[39m\u001b[38;5;241m.\u001b[39m_maximum, multiplier\u001b[38;5;241m=\u001b[39m\u001b[38;5;28mself\u001b[39m\u001b[38;5;241m.\u001b[39m_multiplier\n\u001b[1;32m    292\u001b[0m )\n\u001b[0;32m--> 293\u001b[0m \u001b[38;5;28;01mreturn\u001b[39;00m \u001b[43mretry_target\u001b[49m\u001b[43m(\u001b[49m\n\u001b[1;32m    294\u001b[0m \u001b[43m    \u001b[49m\u001b[43mtarget\u001b[49m\u001b[43m,\u001b[49m\n\u001b[1;32m    295\u001b[0m \u001b[43m    \u001b[49m\u001b[38;5;28;43mself\u001b[39;49m\u001b[38;5;241;43m.\u001b[39;49m\u001b[43m_predicate\u001b[49m\u001b[43m,\u001b[49m\n\u001b[1;32m    296\u001b[0m \u001b[43m    \u001b[49m\u001b[43msleep_generator\u001b[49m\u001b[43m,\u001b[49m\n\u001b[1;32m    297\u001b[0m \u001b[43m    \u001b[49m\u001b[43mtimeout\u001b[49m\u001b[38;5;241;43m=\u001b[39;49m\u001b[38;5;28;43mself\u001b[39;49m\u001b[38;5;241;43m.\u001b[39;49m\u001b[43m_timeout\u001b[49m\u001b[43m,\u001b[49m\n\u001b[1;32m    298\u001b[0m \u001b[43m    \u001b[49m\u001b[43mon_error\u001b[49m\u001b[38;5;241;43m=\u001b[39;49m\u001b[43mon_error\u001b[49m\u001b[43m,\u001b[49m\n\u001b[1;32m    299\u001b[0m \u001b[43m\u001b[49m\u001b[43m)\u001b[49m\n",
      "File \u001b[0;32m/opt/conda/lib/python3.10/site-packages/google/api_core/retry/retry_unary.py:153\u001b[0m, in \u001b[0;36mretry_target\u001b[0;34m(target, predicate, sleep_generator, timeout, on_error, exception_factory, **kwargs)\u001b[0m\n\u001b[1;32m    149\u001b[0m \u001b[38;5;66;03m# pylint: disable=broad-except\u001b[39;00m\n\u001b[1;32m    150\u001b[0m \u001b[38;5;66;03m# This function explicitly must deal with broad exceptions.\u001b[39;00m\n\u001b[1;32m    151\u001b[0m \u001b[38;5;28;01mexcept\u001b[39;00m \u001b[38;5;167;01mException\u001b[39;00m \u001b[38;5;28;01mas\u001b[39;00m exc:\n\u001b[1;32m    152\u001b[0m     \u001b[38;5;66;03m# defer to shared logic for handling errors\u001b[39;00m\n\u001b[0;32m--> 153\u001b[0m     \u001b[43m_retry_error_helper\u001b[49m\u001b[43m(\u001b[49m\n\u001b[1;32m    154\u001b[0m \u001b[43m        \u001b[49m\u001b[43mexc\u001b[49m\u001b[43m,\u001b[49m\n\u001b[1;32m    155\u001b[0m \u001b[43m        \u001b[49m\u001b[43mdeadline\u001b[49m\u001b[43m,\u001b[49m\n\u001b[1;32m    156\u001b[0m \u001b[43m        \u001b[49m\u001b[43msleep\u001b[49m\u001b[43m,\u001b[49m\n\u001b[1;32m    157\u001b[0m \u001b[43m        \u001b[49m\u001b[43merror_list\u001b[49m\u001b[43m,\u001b[49m\n\u001b[1;32m    158\u001b[0m \u001b[43m        \u001b[49m\u001b[43mpredicate\u001b[49m\u001b[43m,\u001b[49m\n\u001b[1;32m    159\u001b[0m \u001b[43m        \u001b[49m\u001b[43mon_error\u001b[49m\u001b[43m,\u001b[49m\n\u001b[1;32m    160\u001b[0m \u001b[43m        \u001b[49m\u001b[43mexception_factory\u001b[49m\u001b[43m,\u001b[49m\n\u001b[1;32m    161\u001b[0m \u001b[43m        \u001b[49m\u001b[43mtimeout\u001b[49m\u001b[43m,\u001b[49m\n\u001b[1;32m    162\u001b[0m \u001b[43m    \u001b[49m\u001b[43m)\u001b[49m\n\u001b[1;32m    163\u001b[0m     \u001b[38;5;66;03m# if exception not raised, sleep before next attempt\u001b[39;00m\n\u001b[1;32m    164\u001b[0m     time\u001b[38;5;241m.\u001b[39msleep(sleep)\n",
      "File \u001b[0;32m/opt/conda/lib/python3.10/site-packages/google/api_core/retry/retry_base.py:212\u001b[0m, in \u001b[0;36m_retry_error_helper\u001b[0;34m(exc, deadline, next_sleep, error_list, predicate_fn, on_error_fn, exc_factory_fn, original_timeout)\u001b[0m\n\u001b[1;32m    206\u001b[0m \u001b[38;5;28;01mif\u001b[39;00m \u001b[38;5;129;01mnot\u001b[39;00m predicate_fn(exc):\n\u001b[1;32m    207\u001b[0m     final_exc, source_exc \u001b[38;5;241m=\u001b[39m exc_factory_fn(\n\u001b[1;32m    208\u001b[0m         error_list,\n\u001b[1;32m    209\u001b[0m         RetryFailureReason\u001b[38;5;241m.\u001b[39mNON_RETRYABLE_ERROR,\n\u001b[1;32m    210\u001b[0m         original_timeout,\n\u001b[1;32m    211\u001b[0m     )\n\u001b[0;32m--> 212\u001b[0m     \u001b[38;5;28;01mraise\u001b[39;00m final_exc \u001b[38;5;28;01mfrom\u001b[39;00m\u001b[38;5;250m \u001b[39m\u001b[38;5;21;01msource_exc\u001b[39;00m\n\u001b[1;32m    213\u001b[0m \u001b[38;5;28;01mif\u001b[39;00m on_error_fn \u001b[38;5;129;01mis\u001b[39;00m \u001b[38;5;129;01mnot\u001b[39;00m \u001b[38;5;28;01mNone\u001b[39;00m:\n\u001b[1;32m    214\u001b[0m     on_error_fn(exc)\n",
      "File \u001b[0;32m/opt/conda/lib/python3.10/site-packages/google/api_core/retry/retry_unary.py:144\u001b[0m, in \u001b[0;36mretry_target\u001b[0;34m(target, predicate, sleep_generator, timeout, on_error, exception_factory, **kwargs)\u001b[0m\n\u001b[1;32m    142\u001b[0m \u001b[38;5;28;01mfor\u001b[39;00m sleep \u001b[38;5;129;01min\u001b[39;00m sleep_generator:\n\u001b[1;32m    143\u001b[0m     \u001b[38;5;28;01mtry\u001b[39;00m:\n\u001b[0;32m--> 144\u001b[0m         result \u001b[38;5;241m=\u001b[39m \u001b[43mtarget\u001b[49m\u001b[43m(\u001b[49m\u001b[43m)\u001b[49m\n\u001b[1;32m    145\u001b[0m         \u001b[38;5;28;01mif\u001b[39;00m inspect\u001b[38;5;241m.\u001b[39misawaitable(result):\n\u001b[1;32m    146\u001b[0m             warnings\u001b[38;5;241m.\u001b[39mwarn(_ASYNC_RETRY_WARNING)\n",
      "File \u001b[0;32m/opt/conda/lib/python3.10/site-packages/google/cloud/bigquery/job/query.py:1630\u001b[0m, in \u001b[0;36mQueryJob.result.<locals>.is_job_done\u001b[0;34m()\u001b[0m\n\u001b[1;32m   1607\u001b[0m \u001b[38;5;28;01mif\u001b[39;00m job_failed_exception \u001b[38;5;129;01mis\u001b[39;00m \u001b[38;5;129;01mnot\u001b[39;00m \u001b[38;5;28;01mNone\u001b[39;00m:\n\u001b[1;32m   1608\u001b[0m     \u001b[38;5;66;03m# Only try to restart the query job if the job failed for\u001b[39;00m\n\u001b[1;32m   1609\u001b[0m     \u001b[38;5;66;03m# a retriable reason. For example, don't restart the query\u001b[39;00m\n\u001b[0;32m   (...)\u001b[0m\n\u001b[1;32m   1627\u001b[0m     \u001b[38;5;66;03m# into an exception that can be processed by the\u001b[39;00m\n\u001b[1;32m   1628\u001b[0m     \u001b[38;5;66;03m# `job_retry` predicate.\u001b[39;00m\n\u001b[1;32m   1629\u001b[0m     restart_query_job \u001b[38;5;241m=\u001b[39m \u001b[38;5;28;01mTrue\u001b[39;00m\n\u001b[0;32m-> 1630\u001b[0m     \u001b[38;5;28;01mraise\u001b[39;00m job_failed_exception\n\u001b[1;32m   1631\u001b[0m \u001b[38;5;28;01melse\u001b[39;00m:\n\u001b[1;32m   1632\u001b[0m     \u001b[38;5;66;03m# Make sure that the _query_results are cached so we\u001b[39;00m\n\u001b[1;32m   1633\u001b[0m     \u001b[38;5;66;03m# can return a complete RowIterator.\u001b[39;00m\n\u001b[0;32m   (...)\u001b[0m\n\u001b[1;32m   1639\u001b[0m     \u001b[38;5;66;03m# making any extra API calls if the previous loop\u001b[39;00m\n\u001b[1;32m   1640\u001b[0m     \u001b[38;5;66;03m# iteration fetched the finished job.\u001b[39;00m\n\u001b[1;32m   1641\u001b[0m     \u001b[38;5;28mself\u001b[39m\u001b[38;5;241m.\u001b[39m_reload_query_results(\n\u001b[1;32m   1642\u001b[0m         retry\u001b[38;5;241m=\u001b[39mretry, \u001b[38;5;241m*\u001b[39m\u001b[38;5;241m*\u001b[39mreload_query_results_kwargs\n\u001b[1;32m   1643\u001b[0m     )\n",
      "\u001b[0;31mBadRequest\u001b[0m: 400 Column transaction_id in SELECT * EXCEPT list does not exist at [2:32]; reason: invalidQuery, location: query, message: Column transaction_id in SELECT * EXCEPT list does not exist at [2:32]\n\nLocation: US\nJob ID: aa97b0ae-4235-4d06-93d8-80c347655ed1\n"
     ]
    }
   ],
   "source": [
    "n = 10\n",
    "pred = bq.query(\n",
    "    query = f\"\"\"\n",
    "        SELECT * EXCEPT({VAR_TARGET}, {VAR_OMIT}, splits)\n",
    "        FROM {BQ_PROJECT}.{BQ_DATASET}.{BQ_TABLE}\n",
    "        WHERE splits='TEST'\n",
    "        LIMIT {n}\n",
    "        \"\"\"\n",
    ").to_dataframe()"
   ]
  },
  {
   "cell_type": "markdown",
   "id": "7e2dd913-5f1d-44b8-93f1-c4ffe2a3ae68",
   "metadata": {},
   "source": [
    "Shape as instances: dictionaries of key:value pairs for only features used in model"
   ]
  },
  {
   "cell_type": "code",
   "execution_count": null,
   "id": "c89fe9f0-33ce-45e3-b0e8-0a53a72d0c30",
   "metadata": {},
   "outputs": [],
   "source": [
    "newobs = pred.to_dict(orient = 'records')"
   ]
  },
  {
   "cell_type": "code",
   "execution_count": null,
   "id": "ddced692-ab83-41df-bbc2-08d8a5b9e61b",
   "metadata": {},
   "outputs": [],
   "source": [
    "newobs[0]"
   ]
  },
  {
   "cell_type": "markdown",
   "id": "95d42c98-e887-421c-a148-ff6c00333984",
   "metadata": {},
   "source": [
    "### Get Predictions: Python Client"
   ]
  },
  {
   "cell_type": "code",
   "execution_count": null,
   "id": "b5316751-0480-4da5-8a8a-37d5950356c1",
   "metadata": {},
   "outputs": [],
   "source": [
    "prediction = endpoint.predict(instances = newobs[0:1])\n",
    "prediction"
   ]
  },
  {
   "cell_type": "code",
   "execution_count": null,
   "id": "5eb70f25-83ec-4893-88e5-700a296189db",
   "metadata": {},
   "outputs": [],
   "source": [
    "prediction.predictions[0]"
   ]
  },
  {
   "cell_type": "code",
   "execution_count": null,
   "id": "93bd9d6d-7179-4668-8d8d-efbe45ab2a1f",
   "metadata": {},
   "outputs": [],
   "source": [
    "np.argmax(prediction.predictions[0])"
   ]
  },
  {
   "cell_type": "markdown",
   "id": "b7f44037-38bc-41e0-83a5-645adc45ccd3",
   "metadata": {},
   "source": [
    "### Get Predictions: REST\n",
    "Reference:\n",
    "- [POST https://{REGION}-aiplatform.googleapis.com/v1/{endpoint}:predict](https://cloud.google.com/python/docs/reference/aiplatform/latest/google.cloud.aiplatform_v1.services.prediction_service.PredictionServiceClient#google_cloud_aiplatform_v1_services_prediction_service_PredictionServiceClient_predict)"
   ]
  },
  {
   "cell_type": "markdown",
   "id": "a9fb8c81-abde-48e8-a70e-d7d0dbeee29a",
   "metadata": {},
   "source": [
    "Prepare request:"
   ]
  },
  {
   "cell_type": "code",
   "execution_count": null,
   "id": "cd578d06-c345-44c9-88a6-43245e2bdd63",
   "metadata": {},
   "outputs": [],
   "source": [
    "with open(f'{DIR}/request.json','w') as file:\n",
    "    file.write(json.dumps({\"instances\": newobs[0:1]}))"
   ]
  },
  {
   "cell_type": "markdown",
   "id": "dfcf5dd5-f242-471e-8522-658ab8b02eb6",
   "metadata": {},
   "source": [
    "Prediction:"
   ]
  },
  {
   "cell_type": "code",
   "execution_count": null,
   "id": "43333ec1-d510-42e3-a9a2-58f3b1516470",
   "metadata": {},
   "outputs": [],
   "source": [
    "prediction = !curl -X POST \\\n",
    "-H \"Authorization: Bearer \"$(gcloud auth application-default print-access-token) \\\n",
    "-H \"Content-Type: application/json; charset=utf-8\" \\\n",
    "-d @{DIR}/request.json \\\n",
    "https://{REGION}-aiplatform.googleapis.com/v1/{endpoint.resource_name}:predict\n",
    "\n",
    "prediction"
   ]
  },
  {
   "cell_type": "markdown",
   "id": "b86ac691-4796-4f73-b571-b41cd6f80cc5",
   "metadata": {},
   "source": [
    "Format raw prediction response using JSON:"
   ]
  },
  {
   "cell_type": "markdown",
   "id": "f6e03ab4-e075-43c0-82b9-52d2a7671367",
   "metadata": {},
   "source": [
    "### Get Predictions: gcloud (CLI)\n",
    "Reference:\n",
    "- [gcloud ai endpoints predict](https://cloud.google.com/sdk/gcloud/reference/ai/endpoints/predict)"
   ]
  },
  {
   "cell_type": "markdown",
   "id": "487c20e5-0606-4ebe-bc00-ff7404268e31",
   "metadata": {},
   "source": [
    "Prepare request:"
   ]
  },
  {
   "cell_type": "code",
   "execution_count": null,
   "id": "76be73ab-ec52-4271-bed6-6ef4bcc0ed36",
   "metadata": {},
   "outputs": [],
   "source": [
    "with open(f'{DIR}/request.json','w') as file:\n",
    "    file.write(json.dumps({\"instances\": newobs[0:1]}))"
   ]
  },
  {
   "cell_type": "markdown",
   "id": "c453a227-b8d2-47f3-afb7-359392227d47",
   "metadata": {},
   "source": [
    "Prediction:"
   ]
  },
  {
   "cell_type": "code",
   "execution_count": null,
   "id": "bdafbae2-0c63-4345-a8a0-b17190281e78",
   "metadata": {},
   "outputs": [],
   "source": [
    "prediction = !gcloud beta ai endpoints predict {endpoint.name.rsplit('/',1)[-1]} --region={REGION} --json-request={DIR}/request.json\n",
    "prediction"
   ]
  },
  {
   "cell_type": "markdown",
   "id": "0aa8ae35-4908-4779-98ff-abd90263755e",
   "metadata": {},
   "source": [
    "---\n",
    "## Export Model\n",
    "\n",
    "The model created in BigQuery ML can be exported to their native model types save files.  This process saves the model artifacts in GCS where they can be use anywhere they are needed.  For instance, they could be imported into the Vertex AI Model Registry for use in online and batch serving - however, this process is automated with the training options use above."
   ]
  },
  {
   "cell_type": "markdown",
   "id": "9f0061b2-4402-4d37-8793-dd3f05b20bf6",
   "metadata": {},
   "source": [
    "### Export the BigQuery Model\n",
    "\n",
    "\n",
    "The models trained in BQML can be exported from BigQuery to GCS:\n",
    "\n",
    "Reference:\n",
    "- [Exporting Models](https://cloud.google.com/bigquery-ml/docs/exporting-models)"
   ]
  },
  {
   "cell_type": "code",
   "execution_count": null,
   "id": "8b1d3c42-5126-4588-adfa-c4177dd69b7b",
   "metadata": {},
   "outputs": [],
   "source": [
    "query = f\"\"\"\n",
    "EXPORT MODEL `{BQ_PROJECT}.{BQ_DATASET}.{BQ_MODEL}`\n",
    "    OPTIONS (URI = 'gs://{BUCKET}/{SERIES}/{EXPERIMENT}/models/{TIMESTAMP}/model')\n",
    "\"\"\"\n",
    "export = bq.query(query = query)\n",
    "export.result()"
   ]
  },
  {
   "cell_type": "code",
   "execution_count": null,
   "id": "1cd3d6a0-8d20-458c-8c02-06c4fe41cdb3",
   "metadata": {},
   "outputs": [],
   "source": [
    "(export.ended - export.started).total_seconds()"
   ]
  },
  {
   "cell_type": "code",
   "execution_count": null,
   "id": "fb8d8449-fc2d-409f-bc16-bc7dacb6db68",
   "metadata": {},
   "outputs": [],
   "source": [
    "listing = !gsutil ls gs://{BUCKET}/{SERIES}/{EXPERIMENT}/models/{TIMESTAMP}/model\n",
    "listing"
   ]
  },
  {
   "cell_type": "code",
   "execution_count": null,
   "id": "e141620a-14df-4f0b-9bc0-496df4c80e24",
   "metadata": {},
   "outputs": [],
   "source": [
    "print(f\"View the export in the console:\\nhttps://console.cloud.google.com/storage/browser/{BUCKET}/{SERIES}/{EXPERIMENT}/models/{TIMESTAMP}/model?project={PROJECT_ID}\")"
   ]
  },
  {
   "cell_type": "markdown",
   "id": "8c5258f6-32f7-4870-be03-2a3a32223192",
   "metadata": {},
   "source": [
    "### Detect The Model Types Framework"
   ]
  },
  {
   "cell_type": "code",
   "execution_count": null,
   "id": "58695098-2026-4ded-918e-86341473c6db",
   "metadata": {},
   "outputs": [],
   "source": [
    "filetype = {'pb': 'TensorFlow', 'bst': 'XGBoost'}\n",
    "\n",
    "filetypes = [filetype[f.split('.')[-1]] for f in listing if f.split('.')[-1] in ['pb','bst']]\n",
    "if len(list(set(filetypes))) == 1:\n",
    "    framework = filetypes[0]\n",
    "    print(f'framework = {framework}')\n",
    "else:\n",
    "    raise TypeError(f\"Model Type Undeteremined!! Review the contents of of 'listing = {listing}'.\")"
   ]
  },
  {
   "cell_type": "code",
   "execution_count": null,
   "id": "b7fb767f-cf18-44f6-a195-2633fa446ff8",
   "metadata": {},
   "outputs": [],
   "source": [
    "list(set(filetypes))"
   ]
  },
  {
   "cell_type": "markdown",
   "id": "36ee12cf-4ebc-4d6a-a4cc-54bd438dd620",
   "metadata": {},
   "source": [
    "---\n",
    "## Remove Resources\n",
    "\n",
    "The following cells have commented out statements that can be used to remove resources created by this notebook.  "
   ]
  },
  {
   "cell_type": "code",
   "execution_count": null,
   "id": "aabcdeb6-f9b0-4fcb-b592-12a5f2445156",
   "metadata": {},
   "outputs": [],
   "source": [
    "# delete endpoint, use `force` incase models are deployed or undeploy them first\n",
    "endpoint.delete(force = True)"
   ]
  },
  {
   "cell_type": "code",
   "execution_count": null,
   "id": "5edc9ed2-b050-4e40-8c18-5c8845cac408",
   "metadata": {
    "tags": []
   },
   "outputs": [],
   "source": [
    "# delete models created in BQ with BQML - this also removes them from Vertex AI Model Registry\n",
    "bq.delete_model(model)"
   ]
  },
  {
   "cell_type": "code",
   "execution_count": null,
   "id": "128a3875-ac25-426e-b08b-763c9c53028b",
   "metadata": {
    "tags": []
   },
   "outputs": [],
   "source": [
    "bq.delete_table({BQ_PROJECT}.{BQ_DATASET}.{BQ_TABLE}, not_found_ok=True)"
   ]
  },
  {
   "cell_type": "code",
   "execution_count": null,
   "id": "de068ee2-c0c8-445e-a491-75013556565d",
   "metadata": {},
   "outputs": [],
   "source": []
  }
 ],
 "metadata": {
  "environment": {
   "kernel": "conda-base-py",
   "name": "workbench-notebooks.m129",
   "type": "gcloud",
   "uri": "us-docker.pkg.dev/deeplearning-platform-release/gcr.io/workbench-notebooks:m129"
  },
  "kernelspec": {
   "display_name": "Python 3 (ipykernel) (Local) (Local)",
   "language": "python",
   "name": "conda-base-py"
  },
  "language_info": {
   "codemirror_mode": {
    "name": "ipython",
    "version": 3
   },
   "file_extension": ".py",
   "mimetype": "text/x-python",
   "name": "python",
   "nbconvert_exporter": "python",
   "pygments_lexer": "ipython3",
   "version": "3.10.16"
  }
 },
 "nbformat": 4,
 "nbformat_minor": 5
}
