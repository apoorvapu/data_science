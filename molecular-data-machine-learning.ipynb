{
 "cells": [
  {
   "cell_type": "code",
   "execution_count": 1,
   "id": "355070a7",
   "metadata": {
    "_cell_guid": "b1076dfc-b9ad-4769-8c92-a6c4dae69d19",
    "_uuid": "8f2839f25d086af736a60e9eeb907d3b93b6e0e5",
    "execution": {
     "iopub.execute_input": "2025-04-02T16:07:36.530512Z",
     "iopub.status.busy": "2025-04-02T16:07:36.530035Z",
     "iopub.status.idle": "2025-04-02T16:07:37.469439Z",
     "shell.execute_reply": "2025-04-02T16:07:37.468427Z"
    },
    "papermill": {
     "duration": 0.947757,
     "end_time": "2025-04-02T16:07:37.471378",
     "exception": false,
     "start_time": "2025-04-02T16:07:36.523621",
     "status": "completed"
    },
    "tags": []
   },
   "outputs": [],
   "source": [
    "# This Python 3 environment comes with many helpful analytics libraries installed\n",
    "# It is defined by the kaggle/python Docker image: https://github.com/kaggle/docker-python\n",
    "# For example, here's several helpful packages to load\n",
    "\n",
    "import numpy as np # linear algebra\n",
    "import pandas as pd # data processing, CSV file I/O (e.g. pd.read_csv)\n",
    "\n",
    "# Input data files are available in the read-only \"../input/\" directory\n",
    "# For example, running this (by clicking run or pressing Shift+Enter) will list all files under the input directory\n",
    "\n",
    "import os\n",
    "#for dirname, _, filenames in os.walk('/kaggle/input'):\n",
    "#    for filename in filenames:\n",
    "#        print(os.path.join(dirname, filename))\n",
    "\n",
    "# You can write up to 20GB to the current directory (/kaggle/working/) that gets preserved as output when you create a version using \"Save & Run All\" \n",
    "# You can also write temporary files to /kaggle/temp/, but they won't be saved outside of the current session"
   ]
  },
  {
   "cell_type": "code",
   "execution_count": 2,
   "id": "064dd1ef",
   "metadata": {
    "execution": {
     "iopub.execute_input": "2025-04-02T16:07:37.482887Z",
     "iopub.status.busy": "2025-04-02T16:07:37.482346Z",
     "iopub.status.idle": "2025-04-02T16:07:37.558205Z",
     "shell.execute_reply": "2025-04-02T16:07:37.557137Z"
    },
    "papermill": {
     "duration": 0.083539,
     "end_time": "2025-04-02T16:07:37.559996",
     "exception": false,
     "start_time": "2025-04-02T16:07:37.476457",
     "status": "completed"
    },
    "tags": []
   },
   "outputs": [
    {
     "data": {
      "text/html": [
       "<div>\n",
       "<style scoped>\n",
       "    .dataframe tbody tr th:only-of-type {\n",
       "        vertical-align: middle;\n",
       "    }\n",
       "\n",
       "    .dataframe tbody tr th {\n",
       "        vertical-align: top;\n",
       "    }\n",
       "\n",
       "    .dataframe thead th {\n",
       "        text-align: right;\n",
       "    }\n",
       "</style>\n",
       "<table border=\"1\" class=\"dataframe\">\n",
       "  <thead>\n",
       "    <tr style=\"text-align: right;\">\n",
       "      <th></th>\n",
       "      <th>Batch_ID</th>\n",
       "      <th>T80</th>\n",
       "      <th>Smiles</th>\n",
       "      <th>Mass</th>\n",
       "      <th>HAcceptors</th>\n",
       "      <th>HDonors</th>\n",
       "      <th>LogP</th>\n",
       "      <th>Asphericity</th>\n",
       "      <th>Rg</th>\n",
       "      <th>TPSA</th>\n",
       "      <th>...</th>\n",
       "      <th>SDOS4.5</th>\n",
       "      <th>SDOS4.6</th>\n",
       "      <th>SDOS4.7</th>\n",
       "      <th>SDOS4.8</th>\n",
       "      <th>SDOS4.9</th>\n",
       "      <th>SDOS5.0</th>\n",
       "      <th>SDOS5.1</th>\n",
       "      <th>SDOS5.2</th>\n",
       "      <th>SDOS5.3</th>\n",
       "      <th>SDOS5.4</th>\n",
       "    </tr>\n",
       "  </thead>\n",
       "  <tbody>\n",
       "    <tr>\n",
       "      <th>0</th>\n",
       "      <td>Train-01</td>\n",
       "      <td>103.86</td>\n",
       "      <td>CCCCCCCCCCCCc1ccsc1-c1ccc(-c2cccs2)cc1</td>\n",
       "      <td>410.692</td>\n",
       "      <td>2</td>\n",
       "      <td>0</td>\n",
       "      <td>9.6070</td>\n",
       "      <td>0.301361</td>\n",
       "      <td>5.187321</td>\n",
       "      <td>0.00</td>\n",
       "      <td>...</td>\n",
       "      <td>1.717761</td>\n",
       "      <td>1.970186</td>\n",
       "      <td>1.760071</td>\n",
       "      <td>1.224983</td>\n",
       "      <td>0.664733</td>\n",
       "      <td>0.282353</td>\n",
       "      <td>0.096763</td>\n",
       "      <td>0.034589</td>\n",
       "      <td>0.030793</td>\n",
       "      <td>0.057340</td>\n",
       "    </tr>\n",
       "    <tr>\n",
       "      <th>1</th>\n",
       "      <td>Train-02</td>\n",
       "      <td>101.13</td>\n",
       "      <td>CCCCCCCCCCCCc1ccsc1-c1cccs1</td>\n",
       "      <td>334.594</td>\n",
       "      <td>2</td>\n",
       "      <td>0</td>\n",
       "      <td>7.9400</td>\n",
       "      <td>0.367472</td>\n",
       "      <td>4.141425</td>\n",
       "      <td>0.00</td>\n",
       "      <td>...</td>\n",
       "      <td>0.012396</td>\n",
       "      <td>0.046031</td>\n",
       "      <td>0.133124</td>\n",
       "      <td>0.299840</td>\n",
       "      <td>0.525958</td>\n",
       "      <td>0.718549</td>\n",
       "      <td>0.764711</td>\n",
       "      <td>0.634854</td>\n",
       "      <td>0.414866</td>\n",
       "      <td>0.225909</td>\n",
       "    </tr>\n",
       "    <tr>\n",
       "      <th>2</th>\n",
       "      <td>Train-03</td>\n",
       "      <td>78.30</td>\n",
       "      <td>CN1CCN(S(=O)(=O)c2ccc(-c3ccc(-c4cccs4)cc3)cc2)CC1</td>\n",
       "      <td>398.553</td>\n",
       "      <td>4</td>\n",
       "      <td>0</td>\n",
       "      <td>4.0182</td>\n",
       "      <td>0.799589</td>\n",
       "      <td>5.368024</td>\n",
       "      <td>40.62</td>\n",
       "      <td>...</td>\n",
       "      <td>2.421162</td>\n",
       "      <td>2.703267</td>\n",
       "      <td>2.352276</td>\n",
       "      <td>1.595867</td>\n",
       "      <td>0.845839</td>\n",
       "      <td>0.354620</td>\n",
       "      <td>0.127878</td>\n",
       "      <td>0.060600</td>\n",
       "      <td>0.064782</td>\n",
       "      <td>0.098908</td>\n",
       "    </tr>\n",
       "    <tr>\n",
       "      <th>3</th>\n",
       "      <td>Train-04</td>\n",
       "      <td>71.88</td>\n",
       "      <td>O=C1c2ccccc2C(=O)c2cc(-c3ccc(-c4cccs4)s3)ccc21</td>\n",
       "      <td>372.470</td>\n",
       "      <td>4</td>\n",
       "      <td>0</td>\n",
       "      <td>5.9190</td>\n",
       "      <td>0.793825</td>\n",
       "      <td>4.948903</td>\n",
       "      <td>34.14</td>\n",
       "      <td>...</td>\n",
       "      <td>0.886320</td>\n",
       "      <td>0.579059</td>\n",
       "      <td>0.345148</td>\n",
       "      <td>0.246564</td>\n",
       "      <td>0.276259</td>\n",
       "      <td>0.381997</td>\n",
       "      <td>0.495304</td>\n",
       "      <td>0.566935</td>\n",
       "      <td>0.594203</td>\n",
       "      <td>0.614075</td>\n",
       "    </tr>\n",
       "    <tr>\n",
       "      <th>4</th>\n",
       "      <td>Train-05</td>\n",
       "      <td>68.37</td>\n",
       "      <td>CC(C)(C)OC(=O)n1ccc2ccc(-c3ccc(-c4ccc(-c5cccs5...</td>\n",
       "      <td>457.620</td>\n",
       "      <td>5</td>\n",
       "      <td>0</td>\n",
       "      <td>8.5485</td>\n",
       "      <td>0.671148</td>\n",
       "      <td>5.994751</td>\n",
       "      <td>31.23</td>\n",
       "      <td>...</td>\n",
       "      <td>0.487723</td>\n",
       "      <td>0.245764</td>\n",
       "      <td>0.249019</td>\n",
       "      <td>0.363222</td>\n",
       "      <td>0.474953</td>\n",
       "      <td>0.505358</td>\n",
       "      <td>0.440671</td>\n",
       "      <td>0.330129</td>\n",
       "      <td>0.234649</td>\n",
       "      <td>0.183111</td>\n",
       "    </tr>\n",
       "  </tbody>\n",
       "</table>\n",
       "<p>5 rows × 146 columns</p>\n",
       "</div>"
      ],
      "text/plain": [
       "   Batch_ID     T80                                             Smiles  \\\n",
       "0  Train-01  103.86             CCCCCCCCCCCCc1ccsc1-c1ccc(-c2cccs2)cc1   \n",
       "1  Train-02  101.13                        CCCCCCCCCCCCc1ccsc1-c1cccs1   \n",
       "2  Train-03   78.30  CN1CCN(S(=O)(=O)c2ccc(-c3ccc(-c4cccs4)cc3)cc2)CC1   \n",
       "3  Train-04   71.88     O=C1c2ccccc2C(=O)c2cc(-c3ccc(-c4cccs4)s3)ccc21   \n",
       "4  Train-05   68.37  CC(C)(C)OC(=O)n1ccc2ccc(-c3ccc(-c4ccc(-c5cccs5...   \n",
       "\n",
       "      Mass  HAcceptors  HDonors    LogP  Asphericity        Rg   TPSA  ...  \\\n",
       "0  410.692           2        0  9.6070     0.301361  5.187321   0.00  ...   \n",
       "1  334.594           2        0  7.9400     0.367472  4.141425   0.00  ...   \n",
       "2  398.553           4        0  4.0182     0.799589  5.368024  40.62  ...   \n",
       "3  372.470           4        0  5.9190     0.793825  4.948903  34.14  ...   \n",
       "4  457.620           5        0  8.5485     0.671148  5.994751  31.23  ...   \n",
       "\n",
       "    SDOS4.5   SDOS4.6   SDOS4.7   SDOS4.8   SDOS4.9   SDOS5.0   SDOS5.1  \\\n",
       "0  1.717761  1.970186  1.760071  1.224983  0.664733  0.282353  0.096763   \n",
       "1  0.012396  0.046031  0.133124  0.299840  0.525958  0.718549  0.764711   \n",
       "2  2.421162  2.703267  2.352276  1.595867  0.845839  0.354620  0.127878   \n",
       "3  0.886320  0.579059  0.345148  0.246564  0.276259  0.381997  0.495304   \n",
       "4  0.487723  0.245764  0.249019  0.363222  0.474953  0.505358  0.440671   \n",
       "\n",
       "    SDOS5.2   SDOS5.3   SDOS5.4  \n",
       "0  0.034589  0.030793  0.057340  \n",
       "1  0.634854  0.414866  0.225909  \n",
       "2  0.060600  0.064782  0.098908  \n",
       "3  0.566935  0.594203  0.614075  \n",
       "4  0.330129  0.234649  0.183111  \n",
       "\n",
       "[5 rows x 146 columns]"
      ]
     },
     "execution_count": 2,
     "metadata": {},
     "output_type": "execute_result"
    }
   ],
   "source": [
    "train=pd.read_csv('/kaggle/input/molecular-machine-learning/train.csv')\n",
    "test=pd.read_csv('/kaggle/input/molecular-machine-learning/test.csv')\n",
    "train.head()"
   ]
  },
  {
   "cell_type": "code",
   "execution_count": 3,
   "id": "70faf407",
   "metadata": {
    "execution": {
     "iopub.execute_input": "2025-04-02T16:07:37.571180Z",
     "iopub.status.busy": "2025-04-02T16:07:37.570799Z",
     "iopub.status.idle": "2025-04-02T16:07:38.974516Z",
     "shell.execute_reply": "2025-04-02T16:07:38.973376Z"
    },
    "papermill": {
     "duration": 1.411478,
     "end_time": "2025-04-02T16:07:38.976476",
     "exception": false,
     "start_time": "2025-04-02T16:07:37.564998",
     "status": "completed"
    },
    "tags": []
   },
   "outputs": [],
   "source": [
    "from sklearn.preprocessing import MinMaxScaler\n",
    "\n",
    "def scale_numerical_columns(train_df, test_df):\n",
    "    # Select numerical columns\n",
    "    num_cols = test_df.select_dtypes(include=['number']).columns.tolist()\n",
    "    num_cols = [col for col in num_cols if col != 'T80']    \n",
    "    # Initialize scaler\n",
    "    scaler = MinMaxScaler()\n",
    "    \n",
    "    # Fit on train data and transform both train and test\n",
    "    train_df[num_cols] = scaler.fit_transform(train_df[num_cols])\n",
    "    test_df[num_cols] = scaler.transform(test_df[num_cols])\n",
    "    \n",
    "    return train_df, test_df\n",
    "\n",
    "# Example usage:\n",
    "train, test = scale_numerical_columns(train, test)\n"
   ]
  },
  {
   "cell_type": "code",
   "execution_count": 4,
   "id": "85108310",
   "metadata": {
    "execution": {
     "iopub.execute_input": "2025-04-02T16:07:38.987859Z",
     "iopub.status.busy": "2025-04-02T16:07:38.987295Z",
     "iopub.status.idle": "2025-04-02T16:07:39.013550Z",
     "shell.execute_reply": "2025-04-02T16:07:39.012427Z"
    },
    "papermill": {
     "duration": 0.033823,
     "end_time": "2025-04-02T16:07:39.015227",
     "exception": false,
     "start_time": "2025-04-02T16:07:38.981404",
     "status": "completed"
    },
    "tags": []
   },
   "outputs": [
    {
     "data": {
      "text/html": [
       "<div>\n",
       "<style scoped>\n",
       "    .dataframe tbody tr th:only-of-type {\n",
       "        vertical-align: middle;\n",
       "    }\n",
       "\n",
       "    .dataframe tbody tr th {\n",
       "        vertical-align: top;\n",
       "    }\n",
       "\n",
       "    .dataframe thead th {\n",
       "        text-align: right;\n",
       "    }\n",
       "</style>\n",
       "<table border=\"1\" class=\"dataframe\">\n",
       "  <thead>\n",
       "    <tr style=\"text-align: right;\">\n",
       "      <th></th>\n",
       "      <th>Batch_ID</th>\n",
       "      <th>T80</th>\n",
       "      <th>Smiles</th>\n",
       "      <th>Mass</th>\n",
       "      <th>HAcceptors</th>\n",
       "      <th>HDonors</th>\n",
       "      <th>LogP</th>\n",
       "      <th>Asphericity</th>\n",
       "      <th>Rg</th>\n",
       "      <th>TPSA</th>\n",
       "      <th>...</th>\n",
       "      <th>SDOS4.5</th>\n",
       "      <th>SDOS4.6</th>\n",
       "      <th>SDOS4.7</th>\n",
       "      <th>SDOS4.8</th>\n",
       "      <th>SDOS4.9</th>\n",
       "      <th>SDOS5.0</th>\n",
       "      <th>SDOS5.1</th>\n",
       "      <th>SDOS5.2</th>\n",
       "      <th>SDOS5.3</th>\n",
       "      <th>SDOS5.4</th>\n",
       "    </tr>\n",
       "  </thead>\n",
       "  <tbody>\n",
       "    <tr>\n",
       "      <th>0</th>\n",
       "      <td>Train-01</td>\n",
       "      <td>103.86</td>\n",
       "      <td>CCCCCCCCCCCCc1ccsc1-c1ccc(-c2cccs2)cc1</td>\n",
       "      <td>0.224709</td>\n",
       "      <td>0.0</td>\n",
       "      <td>0.0</td>\n",
       "      <td>0.412734</td>\n",
       "      <td>0.176855</td>\n",
       "      <td>0.226131</td>\n",
       "      <td>0.000000</td>\n",
       "      <td>...</td>\n",
       "      <td>0.454347</td>\n",
       "      <td>0.658114</td>\n",
       "      <td>0.721208</td>\n",
       "      <td>0.503971</td>\n",
       "      <td>0.231705</td>\n",
       "      <td>0.076653</td>\n",
       "      <td>0.015316</td>\n",
       "      <td>0.000000</td>\n",
       "      <td>0.000000</td>\n",
       "      <td>0.000000</td>\n",
       "    </tr>\n",
       "    <tr>\n",
       "      <th>1</th>\n",
       "      <td>Train-02</td>\n",
       "      <td>101.13</td>\n",
       "      <td>CCCCCCCCCCCCc1ccsc1-c1cccs1</td>\n",
       "      <td>0.125509</td>\n",
       "      <td>0.0</td>\n",
       "      <td>0.0</td>\n",
       "      <td>0.292762</td>\n",
       "      <td>0.265826</td>\n",
       "      <td>0.074335</td>\n",
       "      <td>0.000000</td>\n",
       "      <td>...</td>\n",
       "      <td>0.000000</td>\n",
       "      <td>0.010775</td>\n",
       "      <td>0.045189</td>\n",
       "      <td>0.111448</td>\n",
       "      <td>0.180282</td>\n",
       "      <td>0.221614</td>\n",
       "      <td>0.234068</td>\n",
       "      <td>0.208888</td>\n",
       "      <td>0.137753</td>\n",
       "      <td>0.053834</td>\n",
       "    </tr>\n",
       "    <tr>\n",
       "      <th>2</th>\n",
       "      <td>Train-03</td>\n",
       "      <td>78.30</td>\n",
       "      <td>CN1CCN(S(=O)(=O)c2ccc(-c3ccc(-c4cccs4)cc3)cc2)CC1</td>\n",
       "      <td>0.208885</td>\n",
       "      <td>0.2</td>\n",
       "      <td>0.0</td>\n",
       "      <td>0.010515</td>\n",
       "      <td>0.847357</td>\n",
       "      <td>0.252357</td>\n",
       "      <td>0.305436</td>\n",
       "      <td>...</td>\n",
       "      <td>0.641749</td>\n",
       "      <td>0.904743</td>\n",
       "      <td>0.967276</td>\n",
       "      <td>0.661331</td>\n",
       "      <td>0.298814</td>\n",
       "      <td>0.100669</td>\n",
       "      <td>0.025506</td>\n",
       "      <td>0.009052</td>\n",
       "      <td>0.012191</td>\n",
       "      <td>0.013275</td>\n",
       "    </tr>\n",
       "    <tr>\n",
       "      <th>3</th>\n",
       "      <td>Train-04</td>\n",
       "      <td>71.88</td>\n",
       "      <td>O=C1c2ccccc2C(=O)c2cc(-c3ccc(-c4cccs4)s3)ccc21</td>\n",
       "      <td>0.174883</td>\n",
       "      <td>0.2</td>\n",
       "      <td>0.0</td>\n",
       "      <td>0.147313</td>\n",
       "      <td>0.839598</td>\n",
       "      <td>0.191528</td>\n",
       "      <td>0.256711</td>\n",
       "      <td>...</td>\n",
       "      <td>0.232833</td>\n",
       "      <td>0.190100</td>\n",
       "      <td>0.133288</td>\n",
       "      <td>0.088844</td>\n",
       "      <td>0.087755</td>\n",
       "      <td>0.109768</td>\n",
       "      <td>0.145837</td>\n",
       "      <td>0.185253</td>\n",
       "      <td>0.202074</td>\n",
       "      <td>0.177797</td>\n",
       "    </tr>\n",
       "    <tr>\n",
       "      <th>4</th>\n",
       "      <td>Train-05</td>\n",
       "      <td>68.37</td>\n",
       "      <td>CC(C)(C)OC(=O)n1ccc2ccc(-c3ccc(-c4ccc(-c5cccs5...</td>\n",
       "      <td>0.285884</td>\n",
       "      <td>0.3</td>\n",
       "      <td>0.0</td>\n",
       "      <td>0.336555</td>\n",
       "      <td>0.674504</td>\n",
       "      <td>0.343316</td>\n",
       "      <td>0.234830</td>\n",
       "      <td>...</td>\n",
       "      <td>0.126638</td>\n",
       "      <td>0.077970</td>\n",
       "      <td>0.093345</td>\n",
       "      <td>0.138340</td>\n",
       "      <td>0.161382</td>\n",
       "      <td>0.150764</td>\n",
       "      <td>0.127945</td>\n",
       "      <td>0.102846</td>\n",
       "      <td>0.073115</td>\n",
       "      <td>0.040166</td>\n",
       "    </tr>\n",
       "  </tbody>\n",
       "</table>\n",
       "<p>5 rows × 146 columns</p>\n",
       "</div>"
      ],
      "text/plain": [
       "   Batch_ID     T80                                             Smiles  \\\n",
       "0  Train-01  103.86             CCCCCCCCCCCCc1ccsc1-c1ccc(-c2cccs2)cc1   \n",
       "1  Train-02  101.13                        CCCCCCCCCCCCc1ccsc1-c1cccs1   \n",
       "2  Train-03   78.30  CN1CCN(S(=O)(=O)c2ccc(-c3ccc(-c4cccs4)cc3)cc2)CC1   \n",
       "3  Train-04   71.88     O=C1c2ccccc2C(=O)c2cc(-c3ccc(-c4cccs4)s3)ccc21   \n",
       "4  Train-05   68.37  CC(C)(C)OC(=O)n1ccc2ccc(-c3ccc(-c4ccc(-c5cccs5...   \n",
       "\n",
       "       Mass  HAcceptors  HDonors      LogP  Asphericity        Rg      TPSA  \\\n",
       "0  0.224709         0.0      0.0  0.412734     0.176855  0.226131  0.000000   \n",
       "1  0.125509         0.0      0.0  0.292762     0.265826  0.074335  0.000000   \n",
       "2  0.208885         0.2      0.0  0.010515     0.847357  0.252357  0.305436   \n",
       "3  0.174883         0.2      0.0  0.147313     0.839598  0.191528  0.256711   \n",
       "4  0.285884         0.3      0.0  0.336555     0.674504  0.343316  0.234830   \n",
       "\n",
       "   ...   SDOS4.5   SDOS4.6   SDOS4.7   SDOS4.8   SDOS4.9   SDOS5.0   SDOS5.1  \\\n",
       "0  ...  0.454347  0.658114  0.721208  0.503971  0.231705  0.076653  0.015316   \n",
       "1  ...  0.000000  0.010775  0.045189  0.111448  0.180282  0.221614  0.234068   \n",
       "2  ...  0.641749  0.904743  0.967276  0.661331  0.298814  0.100669  0.025506   \n",
       "3  ...  0.232833  0.190100  0.133288  0.088844  0.087755  0.109768  0.145837   \n",
       "4  ...  0.126638  0.077970  0.093345  0.138340  0.161382  0.150764  0.127945   \n",
       "\n",
       "    SDOS5.2   SDOS5.3   SDOS5.4  \n",
       "0  0.000000  0.000000  0.000000  \n",
       "1  0.208888  0.137753  0.053834  \n",
       "2  0.009052  0.012191  0.013275  \n",
       "3  0.185253  0.202074  0.177797  \n",
       "4  0.102846  0.073115  0.040166  \n",
       "\n",
       "[5 rows x 146 columns]"
      ]
     },
     "execution_count": 4,
     "metadata": {},
     "output_type": "execute_result"
    }
   ],
   "source": [
    "train.head()"
   ]
  },
  {
   "cell_type": "code",
   "execution_count": 5,
   "id": "ac103b9b",
   "metadata": {
    "execution": {
     "iopub.execute_input": "2025-04-02T16:07:39.027150Z",
     "iopub.status.busy": "2025-04-02T16:07:39.026793Z",
     "iopub.status.idle": "2025-04-02T16:07:39.056165Z",
     "shell.execute_reply": "2025-04-02T16:07:39.055139Z"
    },
    "papermill": {
     "duration": 0.037356,
     "end_time": "2025-04-02T16:07:39.057847",
     "exception": false,
     "start_time": "2025-04-02T16:07:39.020491",
     "status": "completed"
    },
    "tags": []
   },
   "outputs": [
    {
     "name": "stderr",
     "output_type": "stream",
     "text": [
      "/usr/local/lib/python3.10/dist-packages/pandas/io/formats/format.py:1458: RuntimeWarning: invalid value encountered in greater\n",
      "  has_large_values = (abs_vals > 1e6).any()\n",
      "/usr/local/lib/python3.10/dist-packages/pandas/io/formats/format.py:1459: RuntimeWarning: invalid value encountered in less\n",
      "  has_small_values = ((abs_vals < 10 ** (-self.digits)) & (abs_vals > 0)).any()\n",
      "/usr/local/lib/python3.10/dist-packages/pandas/io/formats/format.py:1459: RuntimeWarning: invalid value encountered in greater\n",
      "  has_small_values = ((abs_vals < 10 ** (-self.digits)) & (abs_vals > 0)).any()\n",
      "/usr/local/lib/python3.10/dist-packages/pandas/io/formats/format.py:1458: RuntimeWarning: invalid value encountered in greater\n",
      "  has_large_values = (abs_vals > 1e6).any()\n",
      "/usr/local/lib/python3.10/dist-packages/pandas/io/formats/format.py:1459: RuntimeWarning: invalid value encountered in less\n",
      "  has_small_values = ((abs_vals < 10 ** (-self.digits)) & (abs_vals > 0)).any()\n",
      "/usr/local/lib/python3.10/dist-packages/pandas/io/formats/format.py:1459: RuntimeWarning: invalid value encountered in greater\n",
      "  has_small_values = ((abs_vals < 10 ** (-self.digits)) & (abs_vals > 0)).any()\n"
     ]
    },
    {
     "data": {
      "text/html": [
       "<div>\n",
       "<style scoped>\n",
       "    .dataframe tbody tr th:only-of-type {\n",
       "        vertical-align: middle;\n",
       "    }\n",
       "\n",
       "    .dataframe tbody tr th {\n",
       "        vertical-align: top;\n",
       "    }\n",
       "\n",
       "    .dataframe thead th {\n",
       "        text-align: right;\n",
       "    }\n",
       "</style>\n",
       "<table border=\"1\" class=\"dataframe\">\n",
       "  <thead>\n",
       "    <tr style=\"text-align: right;\">\n",
       "      <th></th>\n",
       "      <th>Batch_ID</th>\n",
       "      <th>T80</th>\n",
       "      <th>Smiles</th>\n",
       "      <th>Mass</th>\n",
       "      <th>HAcceptors</th>\n",
       "      <th>HDonors</th>\n",
       "      <th>LogP</th>\n",
       "      <th>Asphericity</th>\n",
       "      <th>Rg</th>\n",
       "      <th>TPSA</th>\n",
       "      <th>...</th>\n",
       "      <th>SDOS4.5</th>\n",
       "      <th>SDOS4.6</th>\n",
       "      <th>SDOS4.7</th>\n",
       "      <th>SDOS4.8</th>\n",
       "      <th>SDOS4.9</th>\n",
       "      <th>SDOS5.0</th>\n",
       "      <th>SDOS5.1</th>\n",
       "      <th>SDOS5.2</th>\n",
       "      <th>SDOS5.3</th>\n",
       "      <th>SDOS5.4</th>\n",
       "    </tr>\n",
       "  </thead>\n",
       "  <tbody>\n",
       "    <tr>\n",
       "      <th>0</th>\n",
       "      <td>Test-01</td>\n",
       "      <td>NaN</td>\n",
       "      <td>COC(=O)c3ccc(c2ccc(c1ccco1)cc2)s3</td>\n",
       "      <td>0.059993</td>\n",
       "      <td>0.2</td>\n",
       "      <td>0.0</td>\n",
       "      <td>0.042433</td>\n",
       "      <td>0.843518</td>\n",
       "      <td>0.100764</td>\n",
       "      <td>0.296564</td>\n",
       "      <td>...</td>\n",
       "      <td>0.185839</td>\n",
       "      <td>0.085006</td>\n",
       "      <td>0.022520</td>\n",
       "      <td>-0.007180</td>\n",
       "      <td>-0.010236</td>\n",
       "      <td>-0.008581</td>\n",
       "      <td>0.003698</td>\n",
       "      <td>0.029176</td>\n",
       "      <td>0.054162</td>\n",
       "      <td>0.052010</td>\n",
       "    </tr>\n",
       "    <tr>\n",
       "      <th>1</th>\n",
       "      <td>Test-02</td>\n",
       "      <td>NaN</td>\n",
       "      <td>CCCCCCc2c(CCCCCC)c(c1cccs1)sc2c3ccc(C(=O)OC)cc3</td>\n",
       "      <td>0.300365</td>\n",
       "      <td>0.2</td>\n",
       "      <td>0.0</td>\n",
       "      <td>0.381701</td>\n",
       "      <td>0.133131</td>\n",
       "      <td>0.201702</td>\n",
       "      <td>0.197759</td>\n",
       "      <td>...</td>\n",
       "      <td>0.506399</td>\n",
       "      <td>0.608640</td>\n",
       "      <td>0.553453</td>\n",
       "      <td>0.322677</td>\n",
       "      <td>0.133541</td>\n",
       "      <td>0.061461</td>\n",
       "      <td>0.065502</td>\n",
       "      <td>0.107376</td>\n",
       "      <td>0.142091</td>\n",
       "      <td>0.123979</td>\n",
       "    </tr>\n",
       "    <tr>\n",
       "      <th>2</th>\n",
       "      <td>Test-03</td>\n",
       "      <td>NaN</td>\n",
       "      <td>COC(=O)c3ccc(c2ccc(c1cccc(OC)c1)cc2)s3</td>\n",
       "      <td>0.112221</td>\n",
       "      <td>0.2</td>\n",
       "      <td>0.0</td>\n",
       "      <td>0.072343</td>\n",
       "      <td>0.909853</td>\n",
       "      <td>0.195557</td>\n",
       "      <td>0.267163</td>\n",
       "      <td>...</td>\n",
       "      <td>0.610131</td>\n",
       "      <td>0.486789</td>\n",
       "      <td>0.292960</td>\n",
       "      <td>0.111479</td>\n",
       "      <td>0.031460</td>\n",
       "      <td>0.009250</td>\n",
       "      <td>0.010026</td>\n",
       "      <td>0.021815</td>\n",
       "      <td>0.035257</td>\n",
       "      <td>0.038715</td>\n",
       "    </tr>\n",
       "    <tr>\n",
       "      <th>3</th>\n",
       "      <td>Test-04</td>\n",
       "      <td>NaN</td>\n",
       "      <td>CCCCCCc3csc(c2ccc(c1ccc(C(=O)OC)s1)cc2)c3CCCCCC</td>\n",
       "      <td>0.300365</td>\n",
       "      <td>0.2</td>\n",
       "      <td>0.0</td>\n",
       "      <td>0.381701</td>\n",
       "      <td>0.652270</td>\n",
       "      <td>0.287429</td>\n",
       "      <td>0.197759</td>\n",
       "      <td>...</td>\n",
       "      <td>0.492735</td>\n",
       "      <td>0.342785</td>\n",
       "      <td>0.175765</td>\n",
       "      <td>0.049968</td>\n",
       "      <td>0.005580</td>\n",
       "      <td>-0.000986</td>\n",
       "      <td>0.014680</td>\n",
       "      <td>0.051177</td>\n",
       "      <td>0.094103</td>\n",
       "      <td>0.106289</td>\n",
       "    </tr>\n",
       "    <tr>\n",
       "      <th>4</th>\n",
       "      <td>Test-05</td>\n",
       "      <td>NaN</td>\n",
       "      <td>CCCCCCc1ccsc1c3cc(CCCCCC)c(c2sccc2CCCCCC)s3</td>\n",
       "      <td>0.342282</td>\n",
       "      <td>0.1</td>\n",
       "      <td>0.0</td>\n",
       "      <td>0.554261</td>\n",
       "      <td>0.318319</td>\n",
       "      <td>0.275350</td>\n",
       "      <td>0.000000</td>\n",
       "      <td>...</td>\n",
       "      <td>0.111807</td>\n",
       "      <td>0.051448</td>\n",
       "      <td>0.011268</td>\n",
       "      <td>-0.008612</td>\n",
       "      <td>-0.008086</td>\n",
       "      <td>-0.003606</td>\n",
       "      <td>0.014733</td>\n",
       "      <td>0.056776</td>\n",
       "      <td>0.116913</td>\n",
       "      <td>0.155296</td>\n",
       "    </tr>\n",
       "  </tbody>\n",
       "</table>\n",
       "<p>5 rows × 146 columns</p>\n",
       "</div>"
      ],
      "text/plain": [
       "  Batch_ID  T80                                           Smiles      Mass  \\\n",
       "0  Test-01  NaN                COC(=O)c3ccc(c2ccc(c1ccco1)cc2)s3  0.059993   \n",
       "1  Test-02  NaN  CCCCCCc2c(CCCCCC)c(c1cccs1)sc2c3ccc(C(=O)OC)cc3  0.300365   \n",
       "2  Test-03  NaN           COC(=O)c3ccc(c2ccc(c1cccc(OC)c1)cc2)s3  0.112221   \n",
       "3  Test-04  NaN  CCCCCCc3csc(c2ccc(c1ccc(C(=O)OC)s1)cc2)c3CCCCCC  0.300365   \n",
       "4  Test-05  NaN      CCCCCCc1ccsc1c3cc(CCCCCC)c(c2sccc2CCCCCC)s3  0.342282   \n",
       "\n",
       "   HAcceptors  HDonors      LogP  Asphericity        Rg      TPSA  ...  \\\n",
       "0         0.2      0.0  0.042433     0.843518  0.100764  0.296564  ...   \n",
       "1         0.2      0.0  0.381701     0.133131  0.201702  0.197759  ...   \n",
       "2         0.2      0.0  0.072343     0.909853  0.195557  0.267163  ...   \n",
       "3         0.2      0.0  0.381701     0.652270  0.287429  0.197759  ...   \n",
       "4         0.1      0.0  0.554261     0.318319  0.275350  0.000000  ...   \n",
       "\n",
       "    SDOS4.5   SDOS4.6   SDOS4.7   SDOS4.8   SDOS4.9   SDOS5.0   SDOS5.1  \\\n",
       "0  0.185839  0.085006  0.022520 -0.007180 -0.010236 -0.008581  0.003698   \n",
       "1  0.506399  0.608640  0.553453  0.322677  0.133541  0.061461  0.065502   \n",
       "2  0.610131  0.486789  0.292960  0.111479  0.031460  0.009250  0.010026   \n",
       "3  0.492735  0.342785  0.175765  0.049968  0.005580 -0.000986  0.014680   \n",
       "4  0.111807  0.051448  0.011268 -0.008612 -0.008086 -0.003606  0.014733   \n",
       "\n",
       "    SDOS5.2   SDOS5.3   SDOS5.4  \n",
       "0  0.029176  0.054162  0.052010  \n",
       "1  0.107376  0.142091  0.123979  \n",
       "2  0.021815  0.035257  0.038715  \n",
       "3  0.051177  0.094103  0.106289  \n",
       "4  0.056776  0.116913  0.155296  \n",
       "\n",
       "[5 rows x 146 columns]"
      ]
     },
     "execution_count": 5,
     "metadata": {},
     "output_type": "execute_result"
    }
   ],
   "source": [
    "test.head()"
   ]
  },
  {
   "cell_type": "code",
   "execution_count": 6,
   "id": "f727ae2d",
   "metadata": {
    "execution": {
     "iopub.execute_input": "2025-04-02T16:07:39.070332Z",
     "iopub.status.busy": "2025-04-02T16:07:39.070001Z",
     "iopub.status.idle": "2025-04-02T16:07:39.095479Z",
     "shell.execute_reply": "2025-04-02T16:07:39.094260Z"
    },
    "papermill": {
     "duration": 0.033686,
     "end_time": "2025-04-02T16:07:39.097184",
     "exception": false,
     "start_time": "2025-04-02T16:07:39.063498",
     "status": "completed"
    },
    "tags": []
   },
   "outputs": [
    {
     "name": "stdout",
     "output_type": "stream",
     "text": [
      "<class 'pandas.core.frame.DataFrame'>\n",
      "RangeIndex: 42 entries, 0 to 41\n",
      "Columns: 146 entries, Batch_ID to SDOS5.4\n",
      "dtypes: float64(144), object(2)\n",
      "memory usage: 48.0+ KB\n"
     ]
    }
   ],
   "source": [
    "train.info()"
   ]
  },
  {
   "cell_type": "code",
   "execution_count": 7,
   "id": "d1e8d9e9",
   "metadata": {
    "execution": {
     "iopub.execute_input": "2025-04-02T16:07:39.109850Z",
     "iopub.status.busy": "2025-04-02T16:07:39.109454Z",
     "iopub.status.idle": "2025-04-02T16:07:39.114626Z",
     "shell.execute_reply": "2025-04-02T16:07:39.113558Z"
    },
    "papermill": {
     "duration": 0.013418,
     "end_time": "2025-04-02T16:07:39.116237",
     "exception": false,
     "start_time": "2025-04-02T16:07:39.102819",
     "status": "completed"
    },
    "tags": []
   },
   "outputs": [
    {
     "name": "stdout",
     "output_type": "stream",
     "text": [
      "['Batch_ID', 'T80', 'Smiles', 'Mass', 'HAcceptors', 'HDonors', 'LogP', 'Asphericity', 'Rg', 'TPSA', 'RingCount', 'NumRotatableBonds', 'NumHeteroatoms', 'HOMOm1(eV)', 'HOMO(eV)', 'LUMO(eV)', 'LUMOp1(eV)', 'PrimeState', 'PrimeExcite(eV)', 'PrimeExcite(osc)', 'DipoleMoment(Debye)', 'SurfaceCharge', 'ChargeCorrection', 'T1', 'T2', 'T3', 'T4', 'T5', 'T6', 'T7', 'T8', 'T9', 'T10', 'T11', 'T12', 'T13', 'T14', 'T15', 'T16', 'T17', 'T18', 'T19', 'T20', 'S1', 'S2', 'S3', 'S4', 'S5', 'S6', 'S7', 'S8', 'S9', 'S10', 'S11', 'S12', 'S13', 'S14', 'S15', 'S16', 'S17', 'S18', 'S19', 'S20', 'O1', 'O2', 'O3', 'O4', 'O5', 'O6', 'O7', 'O8', 'O9', 'O10', 'O11', 'O12', 'O13', 'O14', 'O15', 'O16', 'O17', 'O18', 'O19', 'O20', 'TDOS1.5', 'TDOS1.6', 'TDOS1.7', 'TDOS1.8', 'TDOS1.9', 'TDOS2.0', 'TDOS2.1', 'TDOS2.2', 'TDOS2.3', 'TDOS2.4', 'TDOS2.5', 'TDOS2.6', 'TDOS2.7', 'TDOS2.8', 'TDOS2.9', 'TDOS3.0', 'TDOS3.1', 'TDOS3.2', 'TDOS3.3', 'TDOS3.4', 'TDOS3.5', 'TDOS3.6', 'TDOS3.7', 'TDOS3.8', 'TDOS3.9', 'TDOS4.0', 'TDOS4.1', 'TDOS4.2', 'TDOS4.3', 'TDOS4.4', 'TDOS4.5', 'TDOS4.6', 'TDOS4.7', 'SDOS2.5', 'SDOS2.6', 'SDOS2.7', 'SDOS2.8', 'SDOS2.9', 'SDOS3.0', 'SDOS3.1', 'SDOS3.2', 'SDOS3.3', 'SDOS3.4', 'SDOS3.5', 'SDOS3.6', 'SDOS3.7', 'SDOS3.8', 'SDOS3.9', 'SDOS4.0', 'SDOS4.1', 'SDOS4.2', 'SDOS4.3', 'SDOS4.4', 'SDOS4.5', 'SDOS4.6', 'SDOS4.7', 'SDOS4.8', 'SDOS4.9', 'SDOS5.0', 'SDOS5.1', 'SDOS5.2', 'SDOS5.3', 'SDOS5.4']\n"
     ]
    }
   ],
   "source": [
    "print(train.columns.tolist())  # Displays all column names as a list\n"
   ]
  },
  {
   "cell_type": "code",
   "execution_count": 8,
   "id": "5fbb3490",
   "metadata": {
    "execution": {
     "iopub.execute_input": "2025-04-02T16:07:39.128935Z",
     "iopub.status.busy": "2025-04-02T16:07:39.128382Z",
     "iopub.status.idle": "2025-04-02T16:07:39.135097Z",
     "shell.execute_reply": "2025-04-02T16:07:39.134089Z"
    },
    "papermill": {
     "duration": 0.014748,
     "end_time": "2025-04-02T16:07:39.136565",
     "exception": false,
     "start_time": "2025-04-02T16:07:39.121817",
     "status": "completed"
    },
    "tags": []
   },
   "outputs": [
    {
     "name": "stdout",
     "output_type": "stream",
     "text": [
      "[dtype('O'), dtype('float64'), dtype('O'), dtype('float64'), dtype('float64'), dtype('float64'), dtype('float64'), dtype('float64'), dtype('float64'), dtype('float64'), dtype('float64'), dtype('float64'), dtype('float64'), dtype('float64'), dtype('float64'), dtype('float64'), dtype('float64'), dtype('float64'), dtype('float64'), dtype('float64'), dtype('float64'), dtype('float64'), dtype('float64'), dtype('float64'), dtype('float64'), dtype('float64'), dtype('float64'), dtype('float64'), dtype('float64'), dtype('float64'), dtype('float64'), dtype('float64'), dtype('float64'), dtype('float64'), dtype('float64'), dtype('float64'), dtype('float64'), dtype('float64'), dtype('float64'), dtype('float64'), dtype('float64'), dtype('float64'), dtype('float64'), dtype('float64'), dtype('float64'), dtype('float64'), dtype('float64'), dtype('float64'), dtype('float64'), dtype('float64'), dtype('float64'), dtype('float64'), dtype('float64'), dtype('float64'), dtype('float64'), dtype('float64'), dtype('float64'), dtype('float64'), dtype('float64'), dtype('float64'), dtype('float64'), dtype('float64'), dtype('float64'), dtype('float64'), dtype('float64'), dtype('float64'), dtype('float64'), dtype('float64'), dtype('float64'), dtype('float64'), dtype('float64'), dtype('float64'), dtype('float64'), dtype('float64'), dtype('float64'), dtype('float64'), dtype('float64'), dtype('float64'), dtype('float64'), dtype('float64'), dtype('float64'), dtype('float64'), dtype('float64'), dtype('float64'), dtype('float64'), dtype('float64'), dtype('float64'), dtype('float64'), dtype('float64'), dtype('float64'), dtype('float64'), dtype('float64'), dtype('float64'), dtype('float64'), dtype('float64'), dtype('float64'), dtype('float64'), dtype('float64'), dtype('float64'), dtype('float64'), dtype('float64'), dtype('float64'), dtype('float64'), dtype('float64'), dtype('float64'), dtype('float64'), dtype('float64'), dtype('float64'), dtype('float64'), dtype('float64'), dtype('float64'), dtype('float64'), dtype('float64'), dtype('float64'), dtype('float64'), dtype('float64'), dtype('float64'), dtype('float64'), dtype('float64'), dtype('float64'), dtype('float64'), dtype('float64'), dtype('float64'), dtype('float64'), dtype('float64'), dtype('float64'), dtype('float64'), dtype('float64'), dtype('float64'), dtype('float64'), dtype('float64'), dtype('float64'), dtype('float64'), dtype('float64'), dtype('float64'), dtype('float64'), dtype('float64'), dtype('float64'), dtype('float64'), dtype('float64'), dtype('float64'), dtype('float64'), dtype('float64'), dtype('float64'), dtype('float64'), dtype('float64')]\n"
     ]
    }
   ],
   "source": [
    "print(train.dtypes.tolist())"
   ]
  },
  {
   "cell_type": "code",
   "execution_count": 9,
   "id": "98edac41",
   "metadata": {
    "execution": {
     "iopub.execute_input": "2025-04-02T16:07:39.149214Z",
     "iopub.status.busy": "2025-04-02T16:07:39.148877Z",
     "iopub.status.idle": "2025-04-02T16:07:39.155925Z",
     "shell.execute_reply": "2025-04-02T16:07:39.154665Z"
    },
    "papermill": {
     "duration": 0.015251,
     "end_time": "2025-04-02T16:07:39.157502",
     "exception": false,
     "start_time": "2025-04-02T16:07:39.142251",
     "status": "completed"
    },
    "tags": []
   },
   "outputs": [
    {
     "name": "stdout",
     "output_type": "stream",
     "text": [
      "float64    144\n",
      "object       2\n",
      "Name: count, dtype: int64\n"
     ]
    }
   ],
   "source": [
    "print(train.dtypes.value_counts())"
   ]
  },
  {
   "cell_type": "code",
   "execution_count": 10,
   "id": "81f41121",
   "metadata": {
    "execution": {
     "iopub.execute_input": "2025-04-02T16:07:39.170234Z",
     "iopub.status.busy": "2025-04-02T16:07:39.169890Z",
     "iopub.status.idle": "2025-04-02T16:07:39.181245Z",
     "shell.execute_reply": "2025-04-02T16:07:39.180008Z"
    },
    "papermill": {
     "duration": 0.019509,
     "end_time": "2025-04-02T16:07:39.182827",
     "exception": false,
     "start_time": "2025-04-02T16:07:39.163318",
     "status": "completed"
    },
    "tags": []
   },
   "outputs": [
    {
     "name": "stdout",
     "output_type": "stream",
     "text": [
      "Series([], dtype: int64)\n"
     ]
    }
   ],
   "source": [
    "nan_counts = train.isna().sum()\n",
    "nan_counts = nan_counts[nan_counts > 0]  # Filter only columns with NaNs\n",
    "print(nan_counts)"
   ]
  },
  {
   "cell_type": "code",
   "execution_count": 11,
   "id": "53dec09d",
   "metadata": {
    "execution": {
     "iopub.execute_input": "2025-04-02T16:07:39.196112Z",
     "iopub.status.busy": "2025-04-02T16:07:39.195733Z",
     "iopub.status.idle": "2025-04-02T16:07:39.207919Z",
     "shell.execute_reply": "2025-04-02T16:07:39.206757Z"
    },
    "papermill": {
     "duration": 0.020827,
     "end_time": "2025-04-02T16:07:39.209730",
     "exception": false,
     "start_time": "2025-04-02T16:07:39.188903",
     "status": "completed"
    },
    "tags": []
   },
   "outputs": [
    {
     "name": "stdout",
     "output_type": "stream",
     "text": [
      "T80    9\n",
      "dtype: int64\n"
     ]
    }
   ],
   "source": [
    "nan_counts = test.isna().sum()\n",
    "nan_counts = nan_counts[nan_counts > 0]  # Filter only columns with NaNs\n",
    "print(nan_counts)"
   ]
  },
  {
   "cell_type": "code",
   "execution_count": 12,
   "id": "6b47706f",
   "metadata": {
    "execution": {
     "iopub.execute_input": "2025-04-02T16:07:39.222841Z",
     "iopub.status.busy": "2025-04-02T16:07:39.222449Z",
     "iopub.status.idle": "2025-04-02T16:07:47.250566Z",
     "shell.execute_reply": "2025-04-02T16:07:47.249287Z"
    },
    "papermill": {
     "duration": 8.036895,
     "end_time": "2025-04-02T16:07:47.252656",
     "exception": false,
     "start_time": "2025-04-02T16:07:39.215761",
     "status": "completed"
    },
    "tags": []
   },
   "outputs": [
    {
     "name": "stdout",
     "output_type": "stream",
     "text": [
      "Collecting rdkit\r\n",
      "  Downloading rdkit-2024.9.6-cp310-cp310-manylinux_2_28_x86_64.whl.metadata (4.0 kB)\r\n",
      "Requirement already satisfied: numpy in /usr/local/lib/python3.10/dist-packages (from rdkit) (1.26.4)\r\n",
      "Requirement already satisfied: Pillow in /usr/local/lib/python3.10/dist-packages (from rdkit) (11.0.0)\r\n",
      "Requirement already satisfied: mkl_fft in /usr/local/lib/python3.10/dist-packages (from numpy->rdkit) (1.3.8)\r\n",
      "Requirement already satisfied: mkl_random in /usr/local/lib/python3.10/dist-packages (from numpy->rdkit) (1.2.4)\r\n",
      "Requirement already satisfied: mkl_umath in /usr/local/lib/python3.10/dist-packages (from numpy->rdkit) (0.1.1)\r\n",
      "Requirement already satisfied: mkl in /usr/local/lib/python3.10/dist-packages (from numpy->rdkit) (2025.0.1)\r\n",
      "Requirement already satisfied: tbb4py in /usr/local/lib/python3.10/dist-packages (from numpy->rdkit) (2022.0.0)\r\n",
      "Requirement already satisfied: mkl-service in /usr/local/lib/python3.10/dist-packages (from numpy->rdkit) (2.4.1)\r\n",
      "Requirement already satisfied: intel-openmp>=2024 in /usr/local/lib/python3.10/dist-packages (from mkl->numpy->rdkit) (2024.2.0)\r\n",
      "Requirement already satisfied: tbb==2022.* in /usr/local/lib/python3.10/dist-packages (from mkl->numpy->rdkit) (2022.0.0)\r\n",
      "Requirement already satisfied: tcmlib==1.* in /usr/local/lib/python3.10/dist-packages (from tbb==2022.*->mkl->numpy->rdkit) (1.2.0)\r\n",
      "Requirement already satisfied: intel-cmplr-lib-rt in /usr/local/lib/python3.10/dist-packages (from mkl_umath->numpy->rdkit) (2024.2.0)\r\n",
      "Requirement already satisfied: intel-cmplr-lib-ur==2024.2.0 in /usr/local/lib/python3.10/dist-packages (from intel-openmp>=2024->mkl->numpy->rdkit) (2024.2.0)\r\n",
      "Downloading rdkit-2024.9.6-cp310-cp310-manylinux_2_28_x86_64.whl (34.3 MB)\r\n",
      "\u001b[2K   \u001b[90m━━━━━━━━━━━━━━━━━━━━━━━━━━━━━━━━━━━━━━━━\u001b[0m \u001b[32m34.3/34.3 MB\u001b[0m \u001b[31m44.9 MB/s\u001b[0m eta \u001b[36m0:00:00\u001b[0m\r\n",
      "\u001b[?25hInstalling collected packages: rdkit\r\n",
      "Successfully installed rdkit-2024.9.6\r\n"
     ]
    }
   ],
   "source": [
    "!pip install rdkit"
   ]
  },
  {
   "cell_type": "code",
   "execution_count": 13,
   "id": "ec09c9e0",
   "metadata": {
    "execution": {
     "iopub.execute_input": "2025-04-02T16:07:47.268010Z",
     "iopub.status.busy": "2025-04-02T16:07:47.267575Z",
     "iopub.status.idle": "2025-04-02T16:07:47.642176Z",
     "shell.execute_reply": "2025-04-02T16:07:47.641023Z"
    },
    "papermill": {
     "duration": 0.384655,
     "end_time": "2025-04-02T16:07:47.644416",
     "exception": false,
     "start_time": "2025-04-02T16:07:47.259761",
     "status": "completed"
    },
    "tags": []
   },
   "outputs": [
    {
     "name": "stdout",
     "output_type": "stream",
     "text": [
      "   Batch_ID     T80                                             Smiles  \\\n",
      "0  Train-01  103.86             CCCCCCCCCCCCc1ccsc1-c1ccc(-c2cccs2)cc1   \n",
      "1  Train-02  101.13                        CCCCCCCCCCCCc1ccsc1-c1cccs1   \n",
      "2  Train-03   78.30  CN1CCN(S(=O)(=O)c2ccc(-c3ccc(-c4cccs4)cc3)cc2)CC1   \n",
      "3  Train-04   71.88     O=C1c2ccccc2C(=O)c2cc(-c3ccc(-c4cccs4)s3)ccc21   \n",
      "4  Train-05   68.37  CC(C)(C)OC(=O)n1ccc2ccc(-c3ccc(-c4ccc(-c5cccs5...   \n",
      "\n",
      "       Mass  HAcceptors  HDonors      LogP  Asphericity        Rg      TPSA  \\\n",
      "0  0.224709         0.0      0.0  0.412734     0.176855  0.226131  0.000000   \n",
      "1  0.125509         0.0      0.0  0.292762     0.265826  0.074335  0.000000   \n",
      "2  0.208885         0.2      0.0  0.010515     0.847357  0.252357  0.305436   \n",
      "3  0.174883         0.2      0.0  0.147313     0.839598  0.191528  0.256711   \n",
      "4  0.285884         0.3      0.0  0.336555     0.674504  0.343316  0.234830   \n",
      "\n",
      "   ...   SDOS4.6   SDOS4.7   SDOS4.8   SDOS4.9   SDOS5.0   SDOS5.1   SDOS5.2  \\\n",
      "0  ...  0.658114  0.721208  0.503971  0.231705  0.076653  0.015316  0.000000   \n",
      "1  ...  0.010775  0.045189  0.111448  0.180282  0.221614  0.234068  0.208888   \n",
      "2  ...  0.904743  0.967276  0.661331  0.298814  0.100669  0.025506  0.009052   \n",
      "3  ...  0.190100  0.133288  0.088844  0.087755  0.109768  0.145837  0.185253   \n",
      "4  ...  0.077970  0.093345  0.138340  0.161382  0.150764  0.127945  0.102846   \n",
      "\n",
      "    SDOS5.3   SDOS5.4                                          Morgan_FP  \n",
      "0  0.000000  0.000000  [0, 0, 0, 0, 0, 0, 0, 0, 0, 0, 0, 0, 0, 0, 1, ...  \n",
      "1  0.137753  0.053834  [0, 0, 0, 0, 0, 0, 0, 0, 0, 0, 0, 0, 0, 0, 1, ...  \n",
      "2  0.012191  0.013275  [0, 0, 0, 0, 0, 0, 0, 0, 0, 0, 0, 0, 0, 0, 1, ...  \n",
      "3  0.202074  0.177797  [0, 1, 0, 0, 0, 0, 0, 0, 0, 0, 0, 0, 0, 0, 1, ...  \n",
      "4  0.073115  0.040166  [0, 0, 0, 0, 0, 0, 0, 0, 0, 0, 0, 0, 1, 0, 1, ...  \n",
      "\n",
      "[5 rows x 147 columns]\n"
     ]
    },
    {
     "name": "stderr",
     "output_type": "stream",
     "text": [
      "[16:07:47] DEPRECATION WARNING: please use MorganGenerator\n",
      "[16:07:47] DEPRECATION WARNING: please use MorganGenerator\n",
      "[16:07:47] DEPRECATION WARNING: please use MorganGenerator\n",
      "[16:07:47] DEPRECATION WARNING: please use MorganGenerator\n",
      "[16:07:47] DEPRECATION WARNING: please use MorganGenerator\n",
      "[16:07:47] DEPRECATION WARNING: please use MorganGenerator\n",
      "[16:07:47] DEPRECATION WARNING: please use MorganGenerator\n",
      "[16:07:47] DEPRECATION WARNING: please use MorganGenerator\n",
      "[16:07:47] DEPRECATION WARNING: please use MorganGenerator\n",
      "[16:07:47] DEPRECATION WARNING: please use MorganGenerator\n",
      "[16:07:47] DEPRECATION WARNING: please use MorganGenerator\n",
      "[16:07:47] DEPRECATION WARNING: please use MorganGenerator\n",
      "[16:07:47] DEPRECATION WARNING: please use MorganGenerator\n",
      "[16:07:47] DEPRECATION WARNING: please use MorganGenerator\n",
      "[16:07:47] DEPRECATION WARNING: please use MorganGenerator\n",
      "[16:07:47] DEPRECATION WARNING: please use MorganGenerator\n",
      "[16:07:47] DEPRECATION WARNING: please use MorganGenerator\n",
      "[16:07:47] DEPRECATION WARNING: please use MorganGenerator\n",
      "[16:07:47] DEPRECATION WARNING: please use MorganGenerator\n",
      "[16:07:47] DEPRECATION WARNING: please use MorganGenerator\n",
      "[16:07:47] DEPRECATION WARNING: please use MorganGenerator\n",
      "[16:07:47] DEPRECATION WARNING: please use MorganGenerator\n",
      "[16:07:47] DEPRECATION WARNING: please use MorganGenerator\n",
      "[16:07:47] DEPRECATION WARNING: please use MorganGenerator\n",
      "[16:07:47] DEPRECATION WARNING: please use MorganGenerator\n",
      "[16:07:47] DEPRECATION WARNING: please use MorganGenerator\n",
      "[16:07:47] DEPRECATION WARNING: please use MorganGenerator\n",
      "[16:07:47] DEPRECATION WARNING: please use MorganGenerator\n",
      "[16:07:47] DEPRECATION WARNING: please use MorganGenerator\n",
      "[16:07:47] DEPRECATION WARNING: please use MorganGenerator\n",
      "[16:07:47] DEPRECATION WARNING: please use MorganGenerator\n",
      "[16:07:47] DEPRECATION WARNING: please use MorganGenerator\n",
      "[16:07:47] DEPRECATION WARNING: please use MorganGenerator\n",
      "[16:07:47] DEPRECATION WARNING: please use MorganGenerator\n",
      "[16:07:47] DEPRECATION WARNING: please use MorganGenerator\n",
      "[16:07:47] DEPRECATION WARNING: please use MorganGenerator\n",
      "[16:07:47] DEPRECATION WARNING: please use MorganGenerator\n",
      "[16:07:47] DEPRECATION WARNING: please use MorganGenerator\n",
      "[16:07:47] DEPRECATION WARNING: please use MorganGenerator\n",
      "[16:07:47] DEPRECATION WARNING: please use MorganGenerator\n",
      "[16:07:47] DEPRECATION WARNING: please use MorganGenerator\n",
      "[16:07:47] DEPRECATION WARNING: please use MorganGenerator\n",
      "<ipython-input-13-fcf7eda2bea3>:17: PerformanceWarning: DataFrame is highly fragmented.  This is usually the result of calling `frame.insert` many times, which has poor performance.  Consider joining all columns at once using pd.concat(axis=1) instead. To get a de-fragmented frame, use `newframe = frame.copy()`\n",
      "  train['Morgan_FP'] = train['Smiles'].apply(lambda x: smiles_to_morgan(x))\n",
      "[16:07:47] DEPRECATION WARNING: please use MorganGenerator\n",
      "[16:07:47] DEPRECATION WARNING: please use MorganGenerator\n",
      "[16:07:47] DEPRECATION WARNING: please use MorganGenerator\n",
      "[16:07:47] DEPRECATION WARNING: please use MorganGenerator\n",
      "[16:07:47] DEPRECATION WARNING: please use MorganGenerator\n",
      "[16:07:47] DEPRECATION WARNING: please use MorganGenerator\n",
      "[16:07:47] DEPRECATION WARNING: please use MorganGenerator\n",
      "[16:07:47] DEPRECATION WARNING: please use MorganGenerator\n",
      "[16:07:47] DEPRECATION WARNING: please use MorganGenerator\n",
      "<ipython-input-13-fcf7eda2bea3>:18: PerformanceWarning: DataFrame is highly fragmented.  This is usually the result of calling `frame.insert` many times, which has poor performance.  Consider joining all columns at once using pd.concat(axis=1) instead. To get a de-fragmented frame, use `newframe = frame.copy()`\n",
      "  test['Morgan_FP'] = test['Smiles'].apply(lambda x: smiles_to_morgan(x))\n"
     ]
    }
   ],
   "source": [
    "from rdkit import Chem\n",
    "from rdkit.Chem import AllChem\n",
    "from rdkit.Chem.AllChem import GetMorganFingerprintAsBitVect\n",
    "from rdkit.DataStructs import ConvertToNumpyArray\n",
    "\n",
    "# Function to compute Morgan fingerprints\n",
    "def smiles_to_morgan(smiles, radius=3, n_bits=1024):\n",
    "    mol = Chem.MolFromSmiles(smiles)\n",
    "    if mol is None:\n",
    "        return np.zeros(n_bits)  # Handle invalid SMILES gracefully\n",
    "    fp = AllChem.GetMorganFingerprintAsBitVect(mol, radius, nBits=n_bits)\n",
    "    arr = np.zeros((1, n_bits), dtype=np.int8)\n",
    "    ConvertToNumpyArray(fp, arr[0])\n",
    "    return arr[0]\n",
    "\n",
    "# Apply to DataFrame\n",
    "train['Morgan_FP'] = train['Smiles'].apply(lambda x: smiles_to_morgan(x))\n",
    "test['Morgan_FP'] = test['Smiles'].apply(lambda x: smiles_to_morgan(x))\n",
    "\n",
    "print(train.head())\n"
   ]
  },
  {
   "cell_type": "code",
   "execution_count": null,
   "id": "2f4ce30c",
   "metadata": {
    "papermill": {
     "duration": 0.006846,
     "end_time": "2025-04-02T16:07:47.658463",
     "exception": false,
     "start_time": "2025-04-02T16:07:47.651617",
     "status": "completed"
    },
    "tags": []
   },
   "outputs": [],
   "source": []
  },
  {
   "cell_type": "code",
   "execution_count": 14,
   "id": "515792be",
   "metadata": {
    "execution": {
     "iopub.execute_input": "2025-04-02T16:07:47.673805Z",
     "iopub.status.busy": "2025-04-02T16:07:47.673355Z",
     "iopub.status.idle": "2025-04-02T16:07:48.180208Z",
     "shell.execute_reply": "2025-04-02T16:07:48.179202Z"
    },
    "papermill": {
     "duration": 0.516705,
     "end_time": "2025-04-02T16:07:48.182074",
     "exception": false,
     "start_time": "2025-04-02T16:07:47.665369",
     "status": "completed"
    },
    "tags": []
   },
   "outputs": [],
   "source": [
    "from sklearn.model_selection import train_test_split, GridSearchCV\n",
    "from sklearn.ensemble import RandomForestRegressor\n",
    "from sklearn.metrics import mean_squared_log_error, make_scorer\n",
    "\n",
    "msle_scorer = make_scorer(mean_squared_log_error, greater_is_better=False)\n",
    "\n",
    "# Convert Morgan fingerprints to a NumPy array\n",
    "X_fp = np.stack(train['Morgan_FP'].values)  # Shape: (num_samples, num_features)\n",
    "\n",
    "# Extract other molecular descriptors as a NumPy array\n",
    "X_other = train.drop(columns=['T80','Batch_ID','Smiles','Morgan_FP']).values\n",
    "\n",
    "# Combine Morgan fingerprints with other features\n",
    "X = np.hstack([X_fp, X_other])  # Shape: (num_samples, total_features)\n",
    "\n",
    "# Target variable\n",
    "y = train['T80'].values\n",
    "\n",
    "\n",
    "test_fp = np.stack(test['Morgan_FP'].values)  # Shape: (num_samples, num_features)\n",
    "test_other = test.drop(columns=['T80','Batch_ID','Smiles','Morgan_FP']).values\n",
    "X_test = np.hstack([test_fp, test_other])  # Shape: (num_samples, total_features)"
   ]
  },
  {
   "cell_type": "code",
   "execution_count": 15,
   "id": "393e2182",
   "metadata": {
    "execution": {
     "iopub.execute_input": "2025-04-02T16:07:48.197553Z",
     "iopub.status.busy": "2025-04-02T16:07:48.197180Z",
     "iopub.status.idle": "2025-04-02T16:17:40.831496Z",
     "shell.execute_reply": "2025-04-02T16:17:40.830188Z"
    },
    "papermill": {
     "duration": 592.650685,
     "end_time": "2025-04-02T16:17:40.839814",
     "exception": false,
     "start_time": "2025-04-02T16:07:48.189129",
     "status": "completed"
    },
    "tags": []
   },
   "outputs": [
    {
     "name": "stdout",
     "output_type": "stream",
     "text": [
      "Fitting 5 folds for each of 864 candidates, totalling 4320 fits\n",
      "Best Parameters: {'max_depth': 4, 'max_features': None, 'min_samples_leaf': 1, 'min_samples_split': 2, 'n_estimators': 200}\n"
     ]
    }
   ],
   "source": [
    "\n",
    "rf = RandomForestRegressor(random_state=42)\n",
    "\n",
    "# Define hyperparameter grid\n",
    "param_grid = {\n",
    "    'n_estimators': [50, 100, 150, 200, 250, 300],\n",
    "    'max_depth': [None, 4, 6, 8, 10, 20],\n",
    "    'min_samples_split': [2, 5, 10],  # Minimum samples to split a node\n",
    "    'min_samples_leaf': [1, 2, 4, 8],  # Minimum samples per leaf\n",
    "    'max_features': ['sqrt', None],  # Feature selection for splits\n",
    "}\n",
    "\n",
    "# Perform GridSearchCV to find the best parameters\n",
    "grid_search = GridSearchCV(rf, param_grid, scoring=msle_scorer, cv=5, n_jobs=-1, verbose=3)\n",
    "grid_search.fit(X, y)\n",
    "# Get the best model from grid search\n",
    "best_rf = grid_search.best_estimator_\n",
    "print(f\"Best Parameters: {grid_search.best_params_}\")\n"
   ]
  },
  {
   "cell_type": "code",
   "execution_count": 16,
   "id": "fccd5d9c",
   "metadata": {
    "execution": {
     "iopub.execute_input": "2025-04-02T16:17:40.856894Z",
     "iopub.status.busy": "2025-04-02T16:17:40.856438Z",
     "iopub.status.idle": "2025-04-02T16:17:40.870631Z",
     "shell.execute_reply": "2025-04-02T16:17:40.869453Z"
    },
    "papermill": {
     "duration": 0.025171,
     "end_time": "2025-04-02T16:17:40.872806",
     "exception": false,
     "start_time": "2025-04-02T16:17:40.847635",
     "status": "completed"
    },
    "tags": []
   },
   "outputs": [
    {
     "name": "stdout",
     "output_type": "stream",
     "text": [
      "    param_n_estimators param_max_depth  mean_test_score\n",
      "219                200               4        -1.451955\n",
      "220                250               4        -1.469176\n",
      "363                200               6        -1.470506\n",
      "795                200              20        -1.471144\n",
      "75                 200            None        -1.471144\n",
      "..                 ...             ...              ...\n",
      "630                 50              10        -1.654195\n",
      "210                 50               4        -1.654195\n",
      "636                 50              10        -1.654195\n",
      "204                 50               4        -1.654195\n",
      "780                 50              20        -1.654195\n",
      "\n",
      "[864 rows x 3 columns]\n"
     ]
    }
   ],
   "source": [
    "cv_results = pd.DataFrame(grid_search.cv_results_)\n",
    "cv_results = cv_results.sort_values(by=\"mean_test_score\", ascending=False)\n",
    "print(cv_results[['param_n_estimators', 'param_max_depth', 'mean_test_score']])\n",
    "\n"
   ]
  },
  {
   "cell_type": "code",
   "execution_count": null,
   "id": "eeead806",
   "metadata": {
    "papermill": {
     "duration": 0.00728,
     "end_time": "2025-04-02T16:17:40.887889",
     "exception": false,
     "start_time": "2025-04-02T16:17:40.880609",
     "status": "completed"
    },
    "tags": []
   },
   "outputs": [],
   "source": []
  },
  {
   "cell_type": "code",
   "execution_count": 17,
   "id": "21678a42",
   "metadata": {
    "execution": {
     "iopub.execute_input": "2025-04-02T16:17:40.904329Z",
     "iopub.status.busy": "2025-04-02T16:17:40.903948Z",
     "iopub.status.idle": "2025-04-02T16:17:40.921354Z",
     "shell.execute_reply": "2025-04-02T16:17:40.920362Z"
    },
    "papermill": {
     "duration": 0.027694,
     "end_time": "2025-04-02T16:17:40.922988",
     "exception": false,
     "start_time": "2025-04-02T16:17:40.895294",
     "status": "completed"
    },
    "tags": []
   },
   "outputs": [],
   "source": [
    "# Evaluate on validation set\n",
    "y_test = best_rf.predict(X_test)"
   ]
  },
  {
   "cell_type": "code",
   "execution_count": 18,
   "id": "89fb7ceb",
   "metadata": {
    "execution": {
     "iopub.execute_input": "2025-04-02T16:17:40.939308Z",
     "iopub.status.busy": "2025-04-02T16:17:40.938941Z",
     "iopub.status.idle": "2025-04-02T16:17:40.945636Z",
     "shell.execute_reply": "2025-04-02T16:17:40.944397Z"
    },
    "papermill": {
     "duration": 0.016731,
     "end_time": "2025-04-02T16:17:40.947107",
     "exception": false,
     "start_time": "2025-04-02T16:17:40.930376",
     "status": "completed"
    },
    "tags": []
   },
   "outputs": [
    {
     "data": {
      "text/plain": [
       "array([63.40973416, 39.96949376, 44.59333607, 29.49594522, 38.0981243 ,\n",
       "       59.92732784, 64.7660971 , 22.69897503, 31.71724362])"
      ]
     },
     "execution_count": 18,
     "metadata": {},
     "output_type": "execute_result"
    }
   ],
   "source": [
    "y_test"
   ]
  },
  {
   "cell_type": "code",
   "execution_count": 19,
   "id": "9b44f04f",
   "metadata": {
    "execution": {
     "iopub.execute_input": "2025-04-02T16:17:40.963073Z",
     "iopub.status.busy": "2025-04-02T16:17:40.962704Z",
     "iopub.status.idle": "2025-04-02T16:17:40.975448Z",
     "shell.execute_reply": "2025-04-02T16:17:40.974355Z"
    },
    "papermill": {
     "duration": 0.022724,
     "end_time": "2025-04-02T16:17:40.977224",
     "exception": false,
     "start_time": "2025-04-02T16:17:40.954500",
     "status": "completed"
    },
    "tags": []
   },
   "outputs": [
    {
     "name": "stdout",
     "output_type": "stream",
     "text": [
      "Saved predictions to 'predictions.xlsx'\n"
     ]
    }
   ],
   "source": [
    "df_results = pd.DataFrame({'Batch_ID': test['Batch_ID'], 'T80': y_test})\n",
    "\n",
    "# Save to an Excel file with the first row as a header\n",
    "df_results.to_csv(\"submission.csv\", index=False)\n",
    "\n",
    "print(\"Saved predictions to 'predictions.xlsx'\")"
   ]
  },
  {
   "cell_type": "code",
   "execution_count": 20,
   "id": "e515defa",
   "metadata": {
    "execution": {
     "iopub.execute_input": "2025-04-02T16:17:40.993473Z",
     "iopub.status.busy": "2025-04-02T16:17:40.993096Z",
     "iopub.status.idle": "2025-04-02T16:17:41.002256Z",
     "shell.execute_reply": "2025-04-02T16:17:41.001274Z"
    },
    "papermill": {
     "duration": 0.018938,
     "end_time": "2025-04-02T16:17:41.003764",
     "exception": false,
     "start_time": "2025-04-02T16:17:40.984826",
     "status": "completed"
    },
    "tags": []
   },
   "outputs": [
    {
     "data": {
      "text/html": [
       "<div>\n",
       "<style scoped>\n",
       "    .dataframe tbody tr th:only-of-type {\n",
       "        vertical-align: middle;\n",
       "    }\n",
       "\n",
       "    .dataframe tbody tr th {\n",
       "        vertical-align: top;\n",
       "    }\n",
       "\n",
       "    .dataframe thead th {\n",
       "        text-align: right;\n",
       "    }\n",
       "</style>\n",
       "<table border=\"1\" class=\"dataframe\">\n",
       "  <thead>\n",
       "    <tr style=\"text-align: right;\">\n",
       "      <th></th>\n",
       "      <th>Batch_ID</th>\n",
       "      <th>T80</th>\n",
       "    </tr>\n",
       "  </thead>\n",
       "  <tbody>\n",
       "    <tr>\n",
       "      <th>0</th>\n",
       "      <td>Test-01</td>\n",
       "      <td>63.409734</td>\n",
       "    </tr>\n",
       "    <tr>\n",
       "      <th>1</th>\n",
       "      <td>Test-02</td>\n",
       "      <td>39.969494</td>\n",
       "    </tr>\n",
       "    <tr>\n",
       "      <th>2</th>\n",
       "      <td>Test-03</td>\n",
       "      <td>44.593336</td>\n",
       "    </tr>\n",
       "    <tr>\n",
       "      <th>3</th>\n",
       "      <td>Test-04</td>\n",
       "      <td>29.495945</td>\n",
       "    </tr>\n",
       "    <tr>\n",
       "      <th>4</th>\n",
       "      <td>Test-05</td>\n",
       "      <td>38.098124</td>\n",
       "    </tr>\n",
       "    <tr>\n",
       "      <th>5</th>\n",
       "      <td>Test-06</td>\n",
       "      <td>59.927328</td>\n",
       "    </tr>\n",
       "    <tr>\n",
       "      <th>6</th>\n",
       "      <td>Test-07</td>\n",
       "      <td>64.766097</td>\n",
       "    </tr>\n",
       "    <tr>\n",
       "      <th>7</th>\n",
       "      <td>Test-08</td>\n",
       "      <td>22.698975</td>\n",
       "    </tr>\n",
       "    <tr>\n",
       "      <th>8</th>\n",
       "      <td>Test-09</td>\n",
       "      <td>31.717244</td>\n",
       "    </tr>\n",
       "  </tbody>\n",
       "</table>\n",
       "</div>"
      ],
      "text/plain": [
       "  Batch_ID        T80\n",
       "0  Test-01  63.409734\n",
       "1  Test-02  39.969494\n",
       "2  Test-03  44.593336\n",
       "3  Test-04  29.495945\n",
       "4  Test-05  38.098124\n",
       "5  Test-06  59.927328\n",
       "6  Test-07  64.766097\n",
       "7  Test-08  22.698975\n",
       "8  Test-09  31.717244"
      ]
     },
     "execution_count": 20,
     "metadata": {},
     "output_type": "execute_result"
    }
   ],
   "source": [
    "df_results.head(10)"
   ]
  }
 ],
 "metadata": {
  "kaggle": {
   "accelerator": "none",
   "dataSources": [
    {
     "databundleVersionId": 11467685,
     "sourceId": 90087,
     "sourceType": "competition"
    }
   ],
   "dockerImageVersionId": 30918,
   "isGpuEnabled": false,
   "isInternetEnabled": true,
   "language": "python",
   "sourceType": "notebook"
  },
  "kernelspec": {
   "display_name": "Python 3",
   "language": "python",
   "name": "python3"
  },
  "language_info": {
   "codemirror_mode": {
    "name": "ipython",
    "version": 3
   },
   "file_extension": ".py",
   "mimetype": "text/x-python",
   "name": "python",
   "nbconvert_exporter": "python",
   "pygments_lexer": "ipython3",
   "version": "3.10.12"
  },
  "papermill": {
   "default_parameters": {},
   "duration": 608.15449,
   "end_time": "2025-04-02T16:17:41.833201",
   "environment_variables": {},
   "exception": null,
   "input_path": "__notebook__.ipynb",
   "output_path": "__notebook__.ipynb",
   "parameters": {},
   "start_time": "2025-04-02T16:07:33.678711",
   "version": "2.6.0"
  }
 },
 "nbformat": 4,
 "nbformat_minor": 5
}
