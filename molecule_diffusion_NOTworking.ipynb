{
  "cells": [
    {
      "cell_type": "markdown",
      "metadata": {
        "id": "view-in-github",
        "colab_type": "text"
      },
      "source": [
        "<a href=\"https://colab.research.google.com/github/apoorvapu/data_science/blob/main/molecule_diffusion_NOTworking.ipynb\" target=\"_parent\"><img src=\"https://colab.research.google.com/assets/colab-badge.svg\" alt=\"Open In Colab\"/></a>"
      ]
    },
    {
      "cell_type": "code",
      "source": [
        "!pip install torch torchvision diffusers transformers"
      ],
      "metadata": {
        "colab": {
          "base_uri": "https://localhost:8080/"
        },
        "id": "_0-3PhNqlhLq",
        "outputId": "c0d998ea-aa15-4bef-fac2-7880cd11bc83"
      },
      "execution_count": 1,
      "outputs": [
        {
          "output_type": "stream",
          "name": "stdout",
          "text": [
            "Requirement already satisfied: torch in /usr/local/lib/python3.11/dist-packages (2.6.0+cu124)\n",
            "Requirement already satisfied: torchvision in /usr/local/lib/python3.11/dist-packages (0.21.0+cu124)\n",
            "Requirement already satisfied: diffusers in /usr/local/lib/python3.11/dist-packages (0.32.2)\n",
            "Requirement already satisfied: transformers in /usr/local/lib/python3.11/dist-packages (4.50.3)\n",
            "Requirement already satisfied: filelock in /usr/local/lib/python3.11/dist-packages (from torch) (3.18.0)\n",
            "Requirement already satisfied: typing-extensions>=4.10.0 in /usr/local/lib/python3.11/dist-packages (from torch) (4.13.1)\n",
            "Requirement already satisfied: networkx in /usr/local/lib/python3.11/dist-packages (from torch) (3.4.2)\n",
            "Requirement already satisfied: jinja2 in /usr/local/lib/python3.11/dist-packages (from torch) (3.1.6)\n",
            "Requirement already satisfied: fsspec in /usr/local/lib/python3.11/dist-packages (from torch) (2025.3.2)\n",
            "Collecting nvidia-cuda-nvrtc-cu12==12.4.127 (from torch)\n",
            "  Using cached nvidia_cuda_nvrtc_cu12-12.4.127-py3-none-manylinux2014_x86_64.whl.metadata (1.5 kB)\n",
            "Collecting nvidia-cuda-runtime-cu12==12.4.127 (from torch)\n",
            "  Using cached nvidia_cuda_runtime_cu12-12.4.127-py3-none-manylinux2014_x86_64.whl.metadata (1.5 kB)\n",
            "Collecting nvidia-cuda-cupti-cu12==12.4.127 (from torch)\n",
            "  Using cached nvidia_cuda_cupti_cu12-12.4.127-py3-none-manylinux2014_x86_64.whl.metadata (1.6 kB)\n",
            "Collecting nvidia-cudnn-cu12==9.1.0.70 (from torch)\n",
            "  Using cached nvidia_cudnn_cu12-9.1.0.70-py3-none-manylinux2014_x86_64.whl.metadata (1.6 kB)\n",
            "Collecting nvidia-cublas-cu12==12.4.5.8 (from torch)\n",
            "  Using cached nvidia_cublas_cu12-12.4.5.8-py3-none-manylinux2014_x86_64.whl.metadata (1.5 kB)\n",
            "Collecting nvidia-cufft-cu12==11.2.1.3 (from torch)\n",
            "  Using cached nvidia_cufft_cu12-11.2.1.3-py3-none-manylinux2014_x86_64.whl.metadata (1.5 kB)\n",
            "Collecting nvidia-curand-cu12==10.3.5.147 (from torch)\n",
            "  Using cached nvidia_curand_cu12-10.3.5.147-py3-none-manylinux2014_x86_64.whl.metadata (1.5 kB)\n",
            "Collecting nvidia-cusolver-cu12==11.6.1.9 (from torch)\n",
            "  Using cached nvidia_cusolver_cu12-11.6.1.9-py3-none-manylinux2014_x86_64.whl.metadata (1.6 kB)\n",
            "Collecting nvidia-cusparse-cu12==12.3.1.170 (from torch)\n",
            "  Using cached nvidia_cusparse_cu12-12.3.1.170-py3-none-manylinux2014_x86_64.whl.metadata (1.6 kB)\n",
            "Requirement already satisfied: nvidia-cusparselt-cu12==0.6.2 in /usr/local/lib/python3.11/dist-packages (from torch) (0.6.2)\n",
            "Requirement already satisfied: nvidia-nccl-cu12==2.21.5 in /usr/local/lib/python3.11/dist-packages (from torch) (2.21.5)\n",
            "Requirement already satisfied: nvidia-nvtx-cu12==12.4.127 in /usr/local/lib/python3.11/dist-packages (from torch) (12.4.127)\n",
            "Collecting nvidia-nvjitlink-cu12==12.4.127 (from torch)\n",
            "  Using cached nvidia_nvjitlink_cu12-12.4.127-py3-none-manylinux2014_x86_64.whl.metadata (1.5 kB)\n",
            "Requirement already satisfied: triton==3.2.0 in /usr/local/lib/python3.11/dist-packages (from torch) (3.2.0)\n",
            "Requirement already satisfied: sympy==1.13.1 in /usr/local/lib/python3.11/dist-packages (from torch) (1.13.1)\n",
            "Requirement already satisfied: mpmath<1.4,>=1.1.0 in /usr/local/lib/python3.11/dist-packages (from sympy==1.13.1->torch) (1.3.0)\n",
            "Requirement already satisfied: numpy in /usr/local/lib/python3.11/dist-packages (from torchvision) (2.0.2)\n",
            "Requirement already satisfied: pillow!=8.3.*,>=5.3.0 in /usr/local/lib/python3.11/dist-packages (from torchvision) (11.1.0)\n",
            "Requirement already satisfied: importlib-metadata in /usr/local/lib/python3.11/dist-packages (from diffusers) (8.6.1)\n",
            "Requirement already satisfied: huggingface-hub>=0.23.2 in /usr/local/lib/python3.11/dist-packages (from diffusers) (0.30.1)\n",
            "Requirement already satisfied: regex!=2019.12.17 in /usr/local/lib/python3.11/dist-packages (from diffusers) (2024.11.6)\n",
            "Requirement already satisfied: requests in /usr/local/lib/python3.11/dist-packages (from diffusers) (2.32.3)\n",
            "Requirement already satisfied: safetensors>=0.3.1 in /usr/local/lib/python3.11/dist-packages (from diffusers) (0.5.3)\n",
            "Requirement already satisfied: packaging>=20.0 in /usr/local/lib/python3.11/dist-packages (from transformers) (24.2)\n",
            "Requirement already satisfied: pyyaml>=5.1 in /usr/local/lib/python3.11/dist-packages (from transformers) (6.0.2)\n",
            "Requirement already satisfied: tokenizers<0.22,>=0.21 in /usr/local/lib/python3.11/dist-packages (from transformers) (0.21.1)\n",
            "Requirement already satisfied: tqdm>=4.27 in /usr/local/lib/python3.11/dist-packages (from transformers) (4.67.1)\n",
            "Requirement already satisfied: zipp>=3.20 in /usr/local/lib/python3.11/dist-packages (from importlib-metadata->diffusers) (3.21.0)\n",
            "Requirement already satisfied: MarkupSafe>=2.0 in /usr/local/lib/python3.11/dist-packages (from jinja2->torch) (3.0.2)\n",
            "Requirement already satisfied: charset-normalizer<4,>=2 in /usr/local/lib/python3.11/dist-packages (from requests->diffusers) (3.4.1)\n",
            "Requirement already satisfied: idna<4,>=2.5 in /usr/local/lib/python3.11/dist-packages (from requests->diffusers) (3.10)\n",
            "Requirement already satisfied: urllib3<3,>=1.21.1 in /usr/local/lib/python3.11/dist-packages (from requests->diffusers) (2.3.0)\n",
            "Requirement already satisfied: certifi>=2017.4.17 in /usr/local/lib/python3.11/dist-packages (from requests->diffusers) (2025.1.31)\n",
            "Using cached nvidia_cublas_cu12-12.4.5.8-py3-none-manylinux2014_x86_64.whl (363.4 MB)\n",
            "Using cached nvidia_cuda_cupti_cu12-12.4.127-py3-none-manylinux2014_x86_64.whl (13.8 MB)\n",
            "Using cached nvidia_cuda_nvrtc_cu12-12.4.127-py3-none-manylinux2014_x86_64.whl (24.6 MB)\n",
            "Using cached nvidia_cuda_runtime_cu12-12.4.127-py3-none-manylinux2014_x86_64.whl (883 kB)\n",
            "Using cached nvidia_cudnn_cu12-9.1.0.70-py3-none-manylinux2014_x86_64.whl (664.8 MB)\n",
            "Using cached nvidia_cufft_cu12-11.2.1.3-py3-none-manylinux2014_x86_64.whl (211.5 MB)\n",
            "Using cached nvidia_curand_cu12-10.3.5.147-py3-none-manylinux2014_x86_64.whl (56.3 MB)\n",
            "Using cached nvidia_cusolver_cu12-11.6.1.9-py3-none-manylinux2014_x86_64.whl (127.9 MB)\n",
            "Using cached nvidia_cusparse_cu12-12.3.1.170-py3-none-manylinux2014_x86_64.whl (207.5 MB)\n",
            "Using cached nvidia_nvjitlink_cu12-12.4.127-py3-none-manylinux2014_x86_64.whl (21.1 MB)\n",
            "Installing collected packages: nvidia-nvjitlink-cu12, nvidia-curand-cu12, nvidia-cufft-cu12, nvidia-cuda-runtime-cu12, nvidia-cuda-nvrtc-cu12, nvidia-cuda-cupti-cu12, nvidia-cublas-cu12, nvidia-cusparse-cu12, nvidia-cudnn-cu12, nvidia-cusolver-cu12\n",
            "  Attempting uninstall: nvidia-nvjitlink-cu12\n",
            "    Found existing installation: nvidia-nvjitlink-cu12 12.5.82\n",
            "    Uninstalling nvidia-nvjitlink-cu12-12.5.82:\n",
            "      Successfully uninstalled nvidia-nvjitlink-cu12-12.5.82\n",
            "  Attempting uninstall: nvidia-curand-cu12\n",
            "    Found existing installation: nvidia-curand-cu12 10.3.6.82\n",
            "    Uninstalling nvidia-curand-cu12-10.3.6.82:\n",
            "      Successfully uninstalled nvidia-curand-cu12-10.3.6.82\n",
            "  Attempting uninstall: nvidia-cufft-cu12\n",
            "    Found existing installation: nvidia-cufft-cu12 11.2.3.61\n",
            "    Uninstalling nvidia-cufft-cu12-11.2.3.61:\n",
            "      Successfully uninstalled nvidia-cufft-cu12-11.2.3.61\n",
            "  Attempting uninstall: nvidia-cuda-runtime-cu12\n",
            "    Found existing installation: nvidia-cuda-runtime-cu12 12.5.82\n",
            "    Uninstalling nvidia-cuda-runtime-cu12-12.5.82:\n",
            "      Successfully uninstalled nvidia-cuda-runtime-cu12-12.5.82\n",
            "  Attempting uninstall: nvidia-cuda-nvrtc-cu12\n",
            "    Found existing installation: nvidia-cuda-nvrtc-cu12 12.5.82\n",
            "    Uninstalling nvidia-cuda-nvrtc-cu12-12.5.82:\n",
            "      Successfully uninstalled nvidia-cuda-nvrtc-cu12-12.5.82\n",
            "  Attempting uninstall: nvidia-cuda-cupti-cu12\n",
            "    Found existing installation: nvidia-cuda-cupti-cu12 12.5.82\n",
            "    Uninstalling nvidia-cuda-cupti-cu12-12.5.82:\n",
            "      Successfully uninstalled nvidia-cuda-cupti-cu12-12.5.82\n",
            "  Attempting uninstall: nvidia-cublas-cu12\n",
            "    Found existing installation: nvidia-cublas-cu12 12.5.3.2\n",
            "    Uninstalling nvidia-cublas-cu12-12.5.3.2:\n",
            "      Successfully uninstalled nvidia-cublas-cu12-12.5.3.2\n",
            "  Attempting uninstall: nvidia-cusparse-cu12\n",
            "    Found existing installation: nvidia-cusparse-cu12 12.5.1.3\n",
            "    Uninstalling nvidia-cusparse-cu12-12.5.1.3:\n",
            "      Successfully uninstalled nvidia-cusparse-cu12-12.5.1.3\n",
            "  Attempting uninstall: nvidia-cudnn-cu12\n",
            "    Found existing installation: nvidia-cudnn-cu12 9.3.0.75\n",
            "    Uninstalling nvidia-cudnn-cu12-9.3.0.75:\n",
            "      Successfully uninstalled nvidia-cudnn-cu12-9.3.0.75\n",
            "  Attempting uninstall: nvidia-cusolver-cu12\n",
            "    Found existing installation: nvidia-cusolver-cu12 11.6.3.83\n",
            "    Uninstalling nvidia-cusolver-cu12-11.6.3.83:\n",
            "      Successfully uninstalled nvidia-cusolver-cu12-11.6.3.83\n",
            "Successfully installed nvidia-cublas-cu12-12.4.5.8 nvidia-cuda-cupti-cu12-12.4.127 nvidia-cuda-nvrtc-cu12-12.4.127 nvidia-cuda-runtime-cu12-12.4.127 nvidia-cudnn-cu12-9.1.0.70 nvidia-cufft-cu12-11.2.1.3 nvidia-curand-cu12-10.3.5.147 nvidia-cusolver-cu12-11.6.1.9 nvidia-cusparse-cu12-12.3.1.170 nvidia-nvjitlink-cu12-12.4.127\n"
          ]
        }
      ]
    },
    {
      "cell_type": "code",
      "source": [
        "!pip install rdkit pubchempy tqdm py3Dmol"
      ],
      "metadata": {
        "colab": {
          "base_uri": "https://localhost:8080/"
        },
        "id": "uRgecKIwl6wT",
        "outputId": "07329c1d-c038-42ec-b85c-6f1acda638d2"
      },
      "execution_count": 2,
      "outputs": [
        {
          "output_type": "stream",
          "name": "stdout",
          "text": [
            "Collecting rdkit\n",
            "  Using cached rdkit-2024.9.6-cp311-cp311-manylinux_2_28_x86_64.whl.metadata (4.0 kB)\n",
            "Collecting pubchempy\n",
            "  Using cached PubChemPy-1.0.4-py3-none-any.whl\n",
            "Requirement already satisfied: tqdm in /usr/local/lib/python3.11/dist-packages (4.67.1)\n",
            "Collecting py3Dmol\n",
            "  Using cached py3Dmol-2.4.2-py2.py3-none-any.whl.metadata (1.9 kB)\n",
            "Requirement already satisfied: numpy in /usr/local/lib/python3.11/dist-packages (from rdkit) (2.0.2)\n",
            "Requirement already satisfied: Pillow in /usr/local/lib/python3.11/dist-packages (from rdkit) (11.1.0)\n",
            "Using cached rdkit-2024.9.6-cp311-cp311-manylinux_2_28_x86_64.whl (34.3 MB)\n",
            "Using cached py3Dmol-2.4.2-py2.py3-none-any.whl (7.0 kB)\n",
            "Installing collected packages: py3Dmol, pubchempy, rdkit\n",
            "Successfully installed pubchempy-1.0.4 py3Dmol-2.4.2 rdkit-2024.9.6\n"
          ]
        }
      ]
    },
    {
      "cell_type": "markdown",
      "source": [
        "## download 1000 molecules 3D .sdf files from pubchem and store in a molecules directory"
      ],
      "metadata": {
        "id": "ACBgRogDtF2N"
      }
    },
    {
      "cell_type": "code",
      "source": [
        "import os\n",
        "import requests\n",
        "from tqdm import tqdm\n",
        "\n",
        "# Make sure the folder exists\n",
        "os.makedirs(\"Molecules\", exist_ok=True)\n",
        "\n",
        "downloaded = 0\n",
        "target = 1000\n",
        "cid = 1\n",
        "\n",
        "while downloaded < target and cid < 10000:\n",
        "    try:\n",
        "        url = f\"https://pubchem.ncbi.nlm.nih.gov/rest/pug/compound/cid/{cid}/SDF?record_type=3d\"\n",
        "        response = requests.get(url, timeout=10)\n",
        "        if response.status_code == 200 and len(response.text) > 100:\n",
        "            file_path = f\"Molecules/mol_{cid}.sdf\"\n",
        "            with open(file_path, \"w\") as f:\n",
        "                f.write(response.text)\n",
        "            downloaded += 1\n",
        "        cid += 1\n",
        "    except Exception as e:\n",
        "        print(f\"CID {cid} failed: {e}\")\n",
        "        cid += 1\n"
      ],
      "metadata": {
        "id": "He8pFiNSo-hd",
        "outputId": "8fa178be-fd09-4376-aec7-4c55e96108c2",
        "colab": {
          "base_uri": "https://localhost:8080/",
          "height": 356
        }
      },
      "execution_count": 3,
      "outputs": [
        {
          "output_type": "error",
          "ename": "KeyboardInterrupt",
          "evalue": "",
          "traceback": [
            "\u001b[0;31m---------------------------------------------------------------------------\u001b[0m",
            "\u001b[0;31mKeyboardInterrupt\u001b[0m                         Traceback (most recent call last)",
            "\u001b[0;32m<ipython-input-3-348bd505e508>\u001b[0m in \u001b[0;36m<cell line: 0>\u001b[0;34m()\u001b[0m\n\u001b[1;32m     13\u001b[0m     \u001b[0;32mtry\u001b[0m\u001b[0;34m:\u001b[0m\u001b[0;34m\u001b[0m\u001b[0;34m\u001b[0m\u001b[0m\n\u001b[1;32m     14\u001b[0m         \u001b[0murl\u001b[0m \u001b[0;34m=\u001b[0m \u001b[0;34mf\"https://pubchem.ncbi.nlm.nih.gov/rest/pug/compound/cid/{cid}/SDF?record_type=3d\"\u001b[0m\u001b[0;34m\u001b[0m\u001b[0;34m\u001b[0m\u001b[0m\n\u001b[0;32m---> 15\u001b[0;31m         \u001b[0mresponse\u001b[0m \u001b[0;34m=\u001b[0m \u001b[0mrequests\u001b[0m\u001b[0;34m.\u001b[0m\u001b[0mget\u001b[0m\u001b[0;34m(\u001b[0m\u001b[0murl\u001b[0m\u001b[0;34m,\u001b[0m \u001b[0mtimeout\u001b[0m\u001b[0;34m=\u001b[0m\u001b[0;36m10\u001b[0m\u001b[0;34m)\u001b[0m\u001b[0;34m\u001b[0m\u001b[0;34m\u001b[0m\u001b[0m\n\u001b[0m\u001b[1;32m     16\u001b[0m         \u001b[0;32mif\u001b[0m \u001b[0mresponse\u001b[0m\u001b[0;34m.\u001b[0m\u001b[0mstatus_code\u001b[0m \u001b[0;34m==\u001b[0m \u001b[0;36m200\u001b[0m \u001b[0;32mand\u001b[0m \u001b[0mlen\u001b[0m\u001b[0;34m(\u001b[0m\u001b[0mresponse\u001b[0m\u001b[0;34m.\u001b[0m\u001b[0mtext\u001b[0m\u001b[0;34m)\u001b[0m \u001b[0;34m>\u001b[0m \u001b[0;36m100\u001b[0m\u001b[0;34m:\u001b[0m\u001b[0;34m\u001b[0m\u001b[0;34m\u001b[0m\u001b[0m\n\u001b[1;32m     17\u001b[0m             \u001b[0mfile_path\u001b[0m \u001b[0;34m=\u001b[0m \u001b[0;34mf\"Molecules/mol_{cid}.sdf\"\u001b[0m\u001b[0;34m\u001b[0m\u001b[0;34m\u001b[0m\u001b[0m\n",
            "\u001b[0;32m/usr/local/lib/python3.11/dist-packages/requests/api.py\u001b[0m in \u001b[0;36mget\u001b[0;34m(url, params, **kwargs)\u001b[0m\n\u001b[1;32m     71\u001b[0m     \"\"\"\n\u001b[1;32m     72\u001b[0m \u001b[0;34m\u001b[0m\u001b[0m\n\u001b[0;32m---> 73\u001b[0;31m     \u001b[0;32mreturn\u001b[0m \u001b[0mrequest\u001b[0m\u001b[0;34m(\u001b[0m\u001b[0;34m\"get\"\u001b[0m\u001b[0;34m,\u001b[0m \u001b[0murl\u001b[0m\u001b[0;34m,\u001b[0m \u001b[0mparams\u001b[0m\u001b[0;34m=\u001b[0m\u001b[0mparams\u001b[0m\u001b[0;34m,\u001b[0m \u001b[0;34m**\u001b[0m\u001b[0mkwargs\u001b[0m\u001b[0;34m)\u001b[0m\u001b[0;34m\u001b[0m\u001b[0;34m\u001b[0m\u001b[0m\n\u001b[0m\u001b[1;32m     74\u001b[0m \u001b[0;34m\u001b[0m\u001b[0m\n\u001b[1;32m     75\u001b[0m \u001b[0;34m\u001b[0m\u001b[0m\n",
            "\u001b[0;32m/usr/local/lib/python3.11/dist-packages/requests/api.py\u001b[0m in \u001b[0;36mrequest\u001b[0;34m(method, url, **kwargs)\u001b[0m\n\u001b[1;32m     57\u001b[0m     \u001b[0;31m# cases, and look like a memory leak in others.\u001b[0m\u001b[0;34m\u001b[0m\u001b[0;34m\u001b[0m\u001b[0m\n\u001b[1;32m     58\u001b[0m     \u001b[0;32mwith\u001b[0m \u001b[0msessions\u001b[0m\u001b[0;34m.\u001b[0m\u001b[0mSession\u001b[0m\u001b[0;34m(\u001b[0m\u001b[0;34m)\u001b[0m \u001b[0;32mas\u001b[0m \u001b[0msession\u001b[0m\u001b[0;34m:\u001b[0m\u001b[0;34m\u001b[0m\u001b[0;34m\u001b[0m\u001b[0m\n\u001b[0;32m---> 59\u001b[0;31m         \u001b[0;32mreturn\u001b[0m \u001b[0msession\u001b[0m\u001b[0;34m.\u001b[0m\u001b[0mrequest\u001b[0m\u001b[0;34m(\u001b[0m\u001b[0mmethod\u001b[0m\u001b[0;34m=\u001b[0m\u001b[0mmethod\u001b[0m\u001b[0;34m,\u001b[0m \u001b[0murl\u001b[0m\u001b[0;34m=\u001b[0m\u001b[0murl\u001b[0m\u001b[0;34m,\u001b[0m \u001b[0;34m**\u001b[0m\u001b[0mkwargs\u001b[0m\u001b[0;34m)\u001b[0m\u001b[0;34m\u001b[0m\u001b[0;34m\u001b[0m\u001b[0m\n\u001b[0m\u001b[1;32m     60\u001b[0m \u001b[0;34m\u001b[0m\u001b[0m\n\u001b[1;32m     61\u001b[0m \u001b[0;34m\u001b[0m\u001b[0m\n",
            "\u001b[0;32m/usr/local/lib/python3.11/dist-packages/requests/sessions.py\u001b[0m in \u001b[0;36mrequest\u001b[0;34m(self, method, url, params, data, headers, cookies, files, auth, timeout, allow_redirects, proxies, hooks, stream, verify, cert, json)\u001b[0m\n\u001b[1;32m    587\u001b[0m         }\n\u001b[1;32m    588\u001b[0m         \u001b[0msend_kwargs\u001b[0m\u001b[0;34m.\u001b[0m\u001b[0mupdate\u001b[0m\u001b[0;34m(\u001b[0m\u001b[0msettings\u001b[0m\u001b[0;34m)\u001b[0m\u001b[0;34m\u001b[0m\u001b[0;34m\u001b[0m\u001b[0m\n\u001b[0;32m--> 589\u001b[0;31m         \u001b[0mresp\u001b[0m \u001b[0;34m=\u001b[0m \u001b[0mself\u001b[0m\u001b[0;34m.\u001b[0m\u001b[0msend\u001b[0m\u001b[0;34m(\u001b[0m\u001b[0mprep\u001b[0m\u001b[0;34m,\u001b[0m \u001b[0;34m**\u001b[0m\u001b[0msend_kwargs\u001b[0m\u001b[0;34m)\u001b[0m\u001b[0;34m\u001b[0m\u001b[0;34m\u001b[0m\u001b[0m\n\u001b[0m\u001b[1;32m    590\u001b[0m \u001b[0;34m\u001b[0m\u001b[0m\n\u001b[1;32m    591\u001b[0m         \u001b[0;32mreturn\u001b[0m \u001b[0mresp\u001b[0m\u001b[0;34m\u001b[0m\u001b[0;34m\u001b[0m\u001b[0m\n",
            "\u001b[0;32m/usr/local/lib/python3.11/dist-packages/requests/sessions.py\u001b[0m in \u001b[0;36msend\u001b[0;34m(self, request, **kwargs)\u001b[0m\n\u001b[1;32m    701\u001b[0m \u001b[0;34m\u001b[0m\u001b[0m\n\u001b[1;32m    702\u001b[0m         \u001b[0;31m# Send the request\u001b[0m\u001b[0;34m\u001b[0m\u001b[0;34m\u001b[0m\u001b[0m\n\u001b[0;32m--> 703\u001b[0;31m         \u001b[0mr\u001b[0m \u001b[0;34m=\u001b[0m \u001b[0madapter\u001b[0m\u001b[0;34m.\u001b[0m\u001b[0msend\u001b[0m\u001b[0;34m(\u001b[0m\u001b[0mrequest\u001b[0m\u001b[0;34m,\u001b[0m \u001b[0;34m**\u001b[0m\u001b[0mkwargs\u001b[0m\u001b[0;34m)\u001b[0m\u001b[0;34m\u001b[0m\u001b[0;34m\u001b[0m\u001b[0m\n\u001b[0m\u001b[1;32m    704\u001b[0m \u001b[0;34m\u001b[0m\u001b[0m\n\u001b[1;32m    705\u001b[0m         \u001b[0;31m# Total elapsed time of the request (approximately)\u001b[0m\u001b[0;34m\u001b[0m\u001b[0;34m\u001b[0m\u001b[0m\n",
            "\u001b[0;32m/usr/local/lib/python3.11/dist-packages/requests/adapters.py\u001b[0m in \u001b[0;36msend\u001b[0;34m(self, request, stream, timeout, verify, cert, proxies)\u001b[0m\n\u001b[1;32m    665\u001b[0m \u001b[0;34m\u001b[0m\u001b[0m\n\u001b[1;32m    666\u001b[0m         \u001b[0;32mtry\u001b[0m\u001b[0;34m:\u001b[0m\u001b[0;34m\u001b[0m\u001b[0;34m\u001b[0m\u001b[0m\n\u001b[0;32m--> 667\u001b[0;31m             resp = conn.urlopen(\n\u001b[0m\u001b[1;32m    668\u001b[0m                 \u001b[0mmethod\u001b[0m\u001b[0;34m=\u001b[0m\u001b[0mrequest\u001b[0m\u001b[0;34m.\u001b[0m\u001b[0mmethod\u001b[0m\u001b[0;34m,\u001b[0m\u001b[0;34m\u001b[0m\u001b[0;34m\u001b[0m\u001b[0m\n\u001b[1;32m    669\u001b[0m                 \u001b[0murl\u001b[0m\u001b[0;34m=\u001b[0m\u001b[0murl\u001b[0m\u001b[0;34m,\u001b[0m\u001b[0;34m\u001b[0m\u001b[0;34m\u001b[0m\u001b[0m\n",
            "\u001b[0;32m/usr/local/lib/python3.11/dist-packages/urllib3/connectionpool.py\u001b[0m in \u001b[0;36murlopen\u001b[0;34m(self, method, url, body, headers, retries, redirect, assert_same_host, timeout, pool_timeout, release_conn, chunked, body_pos, preload_content, decode_content, **response_kw)\u001b[0m\n\u001b[1;32m    785\u001b[0m \u001b[0;34m\u001b[0m\u001b[0m\n\u001b[1;32m    786\u001b[0m             \u001b[0;31m# Make the request on the HTTPConnection object\u001b[0m\u001b[0;34m\u001b[0m\u001b[0;34m\u001b[0m\u001b[0m\n\u001b[0;32m--> 787\u001b[0;31m             response = self._make_request(\n\u001b[0m\u001b[1;32m    788\u001b[0m                 \u001b[0mconn\u001b[0m\u001b[0;34m,\u001b[0m\u001b[0;34m\u001b[0m\u001b[0;34m\u001b[0m\u001b[0m\n\u001b[1;32m    789\u001b[0m                 \u001b[0mmethod\u001b[0m\u001b[0;34m,\u001b[0m\u001b[0;34m\u001b[0m\u001b[0;34m\u001b[0m\u001b[0m\n",
            "\u001b[0;32m/usr/local/lib/python3.11/dist-packages/urllib3/connectionpool.py\u001b[0m in \u001b[0;36m_make_request\u001b[0;34m(self, conn, method, url, body, headers, retries, timeout, chunked, response_conn, preload_content, decode_content, enforce_content_length)\u001b[0m\n\u001b[1;32m    532\u001b[0m         \u001b[0;31m# Receive the response from the server\u001b[0m\u001b[0;34m\u001b[0m\u001b[0;34m\u001b[0m\u001b[0m\n\u001b[1;32m    533\u001b[0m         \u001b[0;32mtry\u001b[0m\u001b[0;34m:\u001b[0m\u001b[0;34m\u001b[0m\u001b[0;34m\u001b[0m\u001b[0m\n\u001b[0;32m--> 534\u001b[0;31m             \u001b[0mresponse\u001b[0m \u001b[0;34m=\u001b[0m \u001b[0mconn\u001b[0m\u001b[0;34m.\u001b[0m\u001b[0mgetresponse\u001b[0m\u001b[0;34m(\u001b[0m\u001b[0;34m)\u001b[0m\u001b[0;34m\u001b[0m\u001b[0;34m\u001b[0m\u001b[0m\n\u001b[0m\u001b[1;32m    535\u001b[0m         \u001b[0;32mexcept\u001b[0m \u001b[0;34m(\u001b[0m\u001b[0mBaseSSLError\u001b[0m\u001b[0;34m,\u001b[0m \u001b[0mOSError\u001b[0m\u001b[0;34m)\u001b[0m \u001b[0;32mas\u001b[0m \u001b[0me\u001b[0m\u001b[0;34m:\u001b[0m\u001b[0;34m\u001b[0m\u001b[0;34m\u001b[0m\u001b[0m\n\u001b[1;32m    536\u001b[0m             \u001b[0mself\u001b[0m\u001b[0;34m.\u001b[0m\u001b[0m_raise_timeout\u001b[0m\u001b[0;34m(\u001b[0m\u001b[0merr\u001b[0m\u001b[0;34m=\u001b[0m\u001b[0me\u001b[0m\u001b[0;34m,\u001b[0m \u001b[0murl\u001b[0m\u001b[0;34m=\u001b[0m\u001b[0murl\u001b[0m\u001b[0;34m,\u001b[0m \u001b[0mtimeout_value\u001b[0m\u001b[0;34m=\u001b[0m\u001b[0mread_timeout\u001b[0m\u001b[0;34m)\u001b[0m\u001b[0;34m\u001b[0m\u001b[0;34m\u001b[0m\u001b[0m\n",
            "\u001b[0;32m/usr/local/lib/python3.11/dist-packages/urllib3/connection.py\u001b[0m in \u001b[0;36mgetresponse\u001b[0;34m(self)\u001b[0m\n\u001b[1;32m    514\u001b[0m \u001b[0;34m\u001b[0m\u001b[0m\n\u001b[1;32m    515\u001b[0m         \u001b[0;31m# Get the response from http.client.HTTPConnection\u001b[0m\u001b[0;34m\u001b[0m\u001b[0;34m\u001b[0m\u001b[0m\n\u001b[0;32m--> 516\u001b[0;31m         \u001b[0mhttplib_response\u001b[0m \u001b[0;34m=\u001b[0m \u001b[0msuper\u001b[0m\u001b[0;34m(\u001b[0m\u001b[0;34m)\u001b[0m\u001b[0;34m.\u001b[0m\u001b[0mgetresponse\u001b[0m\u001b[0;34m(\u001b[0m\u001b[0;34m)\u001b[0m\u001b[0;34m\u001b[0m\u001b[0;34m\u001b[0m\u001b[0m\n\u001b[0m\u001b[1;32m    517\u001b[0m \u001b[0;34m\u001b[0m\u001b[0m\n\u001b[1;32m    518\u001b[0m         \u001b[0;32mtry\u001b[0m\u001b[0;34m:\u001b[0m\u001b[0;34m\u001b[0m\u001b[0;34m\u001b[0m\u001b[0m\n",
            "\u001b[0;32m/usr/lib/python3.11/http/client.py\u001b[0m in \u001b[0;36mgetresponse\u001b[0;34m(self)\u001b[0m\n\u001b[1;32m   1393\u001b[0m         \u001b[0;32mtry\u001b[0m\u001b[0;34m:\u001b[0m\u001b[0;34m\u001b[0m\u001b[0;34m\u001b[0m\u001b[0m\n\u001b[1;32m   1394\u001b[0m             \u001b[0;32mtry\u001b[0m\u001b[0;34m:\u001b[0m\u001b[0;34m\u001b[0m\u001b[0;34m\u001b[0m\u001b[0m\n\u001b[0;32m-> 1395\u001b[0;31m                 \u001b[0mresponse\u001b[0m\u001b[0;34m.\u001b[0m\u001b[0mbegin\u001b[0m\u001b[0;34m(\u001b[0m\u001b[0;34m)\u001b[0m\u001b[0;34m\u001b[0m\u001b[0;34m\u001b[0m\u001b[0m\n\u001b[0m\u001b[1;32m   1396\u001b[0m             \u001b[0;32mexcept\u001b[0m \u001b[0mConnectionError\u001b[0m\u001b[0;34m:\u001b[0m\u001b[0;34m\u001b[0m\u001b[0;34m\u001b[0m\u001b[0m\n\u001b[1;32m   1397\u001b[0m                 \u001b[0mself\u001b[0m\u001b[0;34m.\u001b[0m\u001b[0mclose\u001b[0m\u001b[0;34m(\u001b[0m\u001b[0;34m)\u001b[0m\u001b[0;34m\u001b[0m\u001b[0;34m\u001b[0m\u001b[0m\n",
            "\u001b[0;32m/usr/lib/python3.11/http/client.py\u001b[0m in \u001b[0;36mbegin\u001b[0;34m(self)\u001b[0m\n\u001b[1;32m    323\u001b[0m         \u001b[0;31m# read until we get a non-100 response\u001b[0m\u001b[0;34m\u001b[0m\u001b[0;34m\u001b[0m\u001b[0m\n\u001b[1;32m    324\u001b[0m         \u001b[0;32mwhile\u001b[0m \u001b[0;32mTrue\u001b[0m\u001b[0;34m:\u001b[0m\u001b[0;34m\u001b[0m\u001b[0;34m\u001b[0m\u001b[0m\n\u001b[0;32m--> 325\u001b[0;31m             \u001b[0mversion\u001b[0m\u001b[0;34m,\u001b[0m \u001b[0mstatus\u001b[0m\u001b[0;34m,\u001b[0m \u001b[0mreason\u001b[0m \u001b[0;34m=\u001b[0m \u001b[0mself\u001b[0m\u001b[0;34m.\u001b[0m\u001b[0m_read_status\u001b[0m\u001b[0;34m(\u001b[0m\u001b[0;34m)\u001b[0m\u001b[0;34m\u001b[0m\u001b[0;34m\u001b[0m\u001b[0m\n\u001b[0m\u001b[1;32m    326\u001b[0m             \u001b[0;32mif\u001b[0m \u001b[0mstatus\u001b[0m \u001b[0;34m!=\u001b[0m \u001b[0mCONTINUE\u001b[0m\u001b[0;34m:\u001b[0m\u001b[0;34m\u001b[0m\u001b[0;34m\u001b[0m\u001b[0m\n\u001b[1;32m    327\u001b[0m                 \u001b[0;32mbreak\u001b[0m\u001b[0;34m\u001b[0m\u001b[0;34m\u001b[0m\u001b[0m\n",
            "\u001b[0;32m/usr/lib/python3.11/http/client.py\u001b[0m in \u001b[0;36m_read_status\u001b[0;34m(self)\u001b[0m\n\u001b[1;32m    284\u001b[0m \u001b[0;34m\u001b[0m\u001b[0m\n\u001b[1;32m    285\u001b[0m     \u001b[0;32mdef\u001b[0m \u001b[0m_read_status\u001b[0m\u001b[0;34m(\u001b[0m\u001b[0mself\u001b[0m\u001b[0;34m)\u001b[0m\u001b[0;34m:\u001b[0m\u001b[0;34m\u001b[0m\u001b[0;34m\u001b[0m\u001b[0m\n\u001b[0;32m--> 286\u001b[0;31m         \u001b[0mline\u001b[0m \u001b[0;34m=\u001b[0m \u001b[0mstr\u001b[0m\u001b[0;34m(\u001b[0m\u001b[0mself\u001b[0m\u001b[0;34m.\u001b[0m\u001b[0mfp\u001b[0m\u001b[0;34m.\u001b[0m\u001b[0mreadline\u001b[0m\u001b[0;34m(\u001b[0m\u001b[0m_MAXLINE\u001b[0m \u001b[0;34m+\u001b[0m \u001b[0;36m1\u001b[0m\u001b[0;34m)\u001b[0m\u001b[0;34m,\u001b[0m \u001b[0;34m\"iso-8859-1\"\u001b[0m\u001b[0;34m)\u001b[0m\u001b[0;34m\u001b[0m\u001b[0;34m\u001b[0m\u001b[0m\n\u001b[0m\u001b[1;32m    287\u001b[0m         \u001b[0;32mif\u001b[0m \u001b[0mlen\u001b[0m\u001b[0;34m(\u001b[0m\u001b[0mline\u001b[0m\u001b[0;34m)\u001b[0m \u001b[0;34m>\u001b[0m \u001b[0m_MAXLINE\u001b[0m\u001b[0;34m:\u001b[0m\u001b[0;34m\u001b[0m\u001b[0;34m\u001b[0m\u001b[0m\n\u001b[1;32m    288\u001b[0m             \u001b[0;32mraise\u001b[0m \u001b[0mLineTooLong\u001b[0m\u001b[0;34m(\u001b[0m\u001b[0;34m\"status line\"\u001b[0m\u001b[0;34m)\u001b[0m\u001b[0;34m\u001b[0m\u001b[0;34m\u001b[0m\u001b[0m\n",
            "\u001b[0;32m/usr/lib/python3.11/socket.py\u001b[0m in \u001b[0;36mreadinto\u001b[0;34m(self, b)\u001b[0m\n\u001b[1;32m    716\u001b[0m         \u001b[0;32mwhile\u001b[0m \u001b[0;32mTrue\u001b[0m\u001b[0;34m:\u001b[0m\u001b[0;34m\u001b[0m\u001b[0;34m\u001b[0m\u001b[0m\n\u001b[1;32m    717\u001b[0m             \u001b[0;32mtry\u001b[0m\u001b[0;34m:\u001b[0m\u001b[0;34m\u001b[0m\u001b[0;34m\u001b[0m\u001b[0m\n\u001b[0;32m--> 718\u001b[0;31m                 \u001b[0;32mreturn\u001b[0m \u001b[0mself\u001b[0m\u001b[0;34m.\u001b[0m\u001b[0m_sock\u001b[0m\u001b[0;34m.\u001b[0m\u001b[0mrecv_into\u001b[0m\u001b[0;34m(\u001b[0m\u001b[0mb\u001b[0m\u001b[0;34m)\u001b[0m\u001b[0;34m\u001b[0m\u001b[0;34m\u001b[0m\u001b[0m\n\u001b[0m\u001b[1;32m    719\u001b[0m             \u001b[0;32mexcept\u001b[0m \u001b[0mtimeout\u001b[0m\u001b[0;34m:\u001b[0m\u001b[0;34m\u001b[0m\u001b[0;34m\u001b[0m\u001b[0m\n\u001b[1;32m    720\u001b[0m                 \u001b[0mself\u001b[0m\u001b[0;34m.\u001b[0m\u001b[0m_timeout_occurred\u001b[0m \u001b[0;34m=\u001b[0m \u001b[0;32mTrue\u001b[0m\u001b[0;34m\u001b[0m\u001b[0;34m\u001b[0m\u001b[0m\n",
            "\u001b[0;32m/usr/lib/python3.11/ssl.py\u001b[0m in \u001b[0;36mrecv_into\u001b[0;34m(self, buffer, nbytes, flags)\u001b[0m\n\u001b[1;32m   1312\u001b[0m                   \u001b[0;34m\"non-zero flags not allowed in calls to recv_into() on %s\"\u001b[0m \u001b[0;34m%\u001b[0m\u001b[0;34m\u001b[0m\u001b[0;34m\u001b[0m\u001b[0m\n\u001b[1;32m   1313\u001b[0m                   self.__class__)\n\u001b[0;32m-> 1314\u001b[0;31m             \u001b[0;32mreturn\u001b[0m \u001b[0mself\u001b[0m\u001b[0;34m.\u001b[0m\u001b[0mread\u001b[0m\u001b[0;34m(\u001b[0m\u001b[0mnbytes\u001b[0m\u001b[0;34m,\u001b[0m \u001b[0mbuffer\u001b[0m\u001b[0;34m)\u001b[0m\u001b[0;34m\u001b[0m\u001b[0;34m\u001b[0m\u001b[0m\n\u001b[0m\u001b[1;32m   1315\u001b[0m         \u001b[0;32melse\u001b[0m\u001b[0;34m:\u001b[0m\u001b[0;34m\u001b[0m\u001b[0;34m\u001b[0m\u001b[0m\n\u001b[1;32m   1316\u001b[0m             \u001b[0;32mreturn\u001b[0m \u001b[0msuper\u001b[0m\u001b[0;34m(\u001b[0m\u001b[0;34m)\u001b[0m\u001b[0;34m.\u001b[0m\u001b[0mrecv_into\u001b[0m\u001b[0;34m(\u001b[0m\u001b[0mbuffer\u001b[0m\u001b[0;34m,\u001b[0m \u001b[0mnbytes\u001b[0m\u001b[0;34m,\u001b[0m \u001b[0mflags\u001b[0m\u001b[0;34m)\u001b[0m\u001b[0;34m\u001b[0m\u001b[0;34m\u001b[0m\u001b[0m\n",
            "\u001b[0;32m/usr/lib/python3.11/ssl.py\u001b[0m in \u001b[0;36mread\u001b[0;34m(self, len, buffer)\u001b[0m\n\u001b[1;32m   1164\u001b[0m         \u001b[0;32mtry\u001b[0m\u001b[0;34m:\u001b[0m\u001b[0;34m\u001b[0m\u001b[0;34m\u001b[0m\u001b[0m\n\u001b[1;32m   1165\u001b[0m             \u001b[0;32mif\u001b[0m \u001b[0mbuffer\u001b[0m \u001b[0;32mis\u001b[0m \u001b[0;32mnot\u001b[0m \u001b[0;32mNone\u001b[0m\u001b[0;34m:\u001b[0m\u001b[0;34m\u001b[0m\u001b[0;34m\u001b[0m\u001b[0m\n\u001b[0;32m-> 1166\u001b[0;31m                 \u001b[0;32mreturn\u001b[0m \u001b[0mself\u001b[0m\u001b[0;34m.\u001b[0m\u001b[0m_sslobj\u001b[0m\u001b[0;34m.\u001b[0m\u001b[0mread\u001b[0m\u001b[0;34m(\u001b[0m\u001b[0mlen\u001b[0m\u001b[0;34m,\u001b[0m \u001b[0mbuffer\u001b[0m\u001b[0;34m)\u001b[0m\u001b[0;34m\u001b[0m\u001b[0;34m\u001b[0m\u001b[0m\n\u001b[0m\u001b[1;32m   1167\u001b[0m             \u001b[0;32melse\u001b[0m\u001b[0;34m:\u001b[0m\u001b[0;34m\u001b[0m\u001b[0;34m\u001b[0m\u001b[0m\n\u001b[1;32m   1168\u001b[0m                 \u001b[0;32mreturn\u001b[0m \u001b[0mself\u001b[0m\u001b[0;34m.\u001b[0m\u001b[0m_sslobj\u001b[0m\u001b[0;34m.\u001b[0m\u001b[0mread\u001b[0m\u001b[0;34m(\u001b[0m\u001b[0mlen\u001b[0m\u001b[0;34m)\u001b[0m\u001b[0;34m\u001b[0m\u001b[0;34m\u001b[0m\u001b[0m\n",
            "\u001b[0;31mKeyboardInterrupt\u001b[0m: "
          ]
        }
      ]
    },
    {
      "cell_type": "code",
      "source": [
        "ls Molecules/*.sdf | wc -l\n"
      ],
      "metadata": {
        "colab": {
          "base_uri": "https://localhost:8080/"
        },
        "id": "TZ19DIlGqryi",
        "outputId": "08c9ca89-4772-4cd7-eaf2-f207840d21af"
      },
      "execution_count": 4,
      "outputs": [
        {
          "output_type": "stream",
          "name": "stdout",
          "text": [
            "934\n"
          ]
        }
      ]
    },
    {
      "cell_type": "code",
      "source": [
        "import os\n",
        "from rdkit import Chem\n",
        "from rdkit.Chem import AllChem\n",
        "import py3Dmol\n",
        "from IPython.display import display\n",
        "\n",
        "def view_mol(mol):\n",
        "    # Generate 3D coordinates if missing\n",
        "    if mol.GetNumConformers() == 0:\n",
        "        AllChem.EmbedMolecule(mol)\n",
        "    mb = Chem.MolToMolBlock(mol)\n",
        "    viewer = py3Dmol.view(width=400, height=350)\n",
        "    viewer.addModel(mb, 'mol')\n",
        "    viewer.setStyle({'stick': {}})\n",
        "    viewer.setBackgroundColor('white')\n",
        "    viewer.zoomTo()\n",
        "    return viewer\n",
        "\n",
        "# List SDF files\n",
        "sdf_dir = \"Molecules\"\n",
        "sdf_files = sorted([f for f in os.listdir(sdf_dir) if f.endswith(\".sdf\")])\n",
        "\n",
        "# Visualize first 5 molecules (change range as needed)\n",
        "for sdf_file in sdf_files[:5]:\n",
        "    sdf_path = os.path.join(sdf_dir, sdf_file)\n",
        "    mol = Chem.MolFromMolFile(sdf_path, removeHs=False)\n",
        "    if mol:\n",
        "        print(f\"Showing: {sdf_file}\")\n",
        "        view_mol(mol).show()\n"
      ],
      "metadata": {
        "colab": {
          "base_uri": "https://localhost:8080/",
          "height": 1000
        },
        "id": "cSIcGQBGqI4w",
        "outputId": "b484cad0-6703-4453-d60d-5b266fced3c0"
      },
      "execution_count": 6,
      "outputs": [
        {
          "output_type": "stream",
          "name": "stdout",
          "text": [
            "Showing: mol_1.sdf\n"
          ]
        },
        {
          "output_type": "display_data",
          "data": {
            "application/3dmoljs_load.v0": "<div id=\"3dmolviewer_17445646202954862\"  style=\"position: relative; width: 400px; height: 350px;\">\n        <p id=\"3dmolwarning_17445646202954862\" style=\"background-color:#ffcccc;color:black\">3Dmol.js failed to load for some reason.  Please check your browser console for error messages.<br></p>\n        </div>\n<script>\n\nvar loadScriptAsync = function(uri){\n  return new Promise((resolve, reject) => {\n    //this is to ignore the existence of requirejs amd\n    var savedexports, savedmodule;\n    if (typeof exports !== 'undefined') savedexports = exports;\n    else exports = {}\n    if (typeof module !== 'undefined') savedmodule = module;\n    else module = {}\n\n    var tag = document.createElement('script');\n    tag.src = uri;\n    tag.async = true;\n    tag.onload = () => {\n        exports = savedexports;\n        module = savedmodule;\n        resolve();\n    };\n  var firstScriptTag = document.getElementsByTagName('script')[0];\n  firstScriptTag.parentNode.insertBefore(tag, firstScriptTag);\n});\n};\n\nif(typeof $3Dmolpromise === 'undefined') {\n$3Dmolpromise = null;\n  $3Dmolpromise = loadScriptAsync('https://cdnjs.cloudflare.com/ajax/libs/3Dmol/2.4.2/3Dmol-min.js');\n}\n\nvar viewer_17445646202954862 = null;\nvar warn = document.getElementById(\"3dmolwarning_17445646202954862\");\nif(warn) {\n    warn.parentNode.removeChild(warn);\n}\n$3Dmolpromise.then(function() {\nviewer_17445646202954862 = $3Dmol.createViewer(document.getElementById(\"3dmolviewer_17445646202954862\"),{backgroundColor:\"white\"});\nviewer_17445646202954862.zoomTo();\n\tviewer_17445646202954862.addModel(\"1\\n     RDKit          3D\\n\\n 31 30  0  0  1  0  0  0  0  0999 V2000\\n    0.3387    0.9262    0.4600 O   0  0  0  0  0  0  0  0  0  0  0  0\\n    3.4786   -1.7069   -0.3119 O   0  0  0  0  0  0  0  0  0  0  0  0\\n    1.8428   -1.4073    1.2523 O   0  0  0  0  0  0  0  0  0  0  0  0\\n    0.4166    2.5213   -1.2091 O   0  0  0  0  0  0  0  0  0  0  0  0\\n   -2.2359   -0.7251    0.0270 N   0  0  0  0  0  0  0  0  0  0  0  0\\n   -0.7783   -1.1579    0.0914 C   0  0  0  0  0  0  0  0  0  0  0  0\\n    0.1368   -0.0961   -0.5161 C   0  0  2  0  0  0  0  0  0  0  0  0\\n   -3.1119   -1.7972    0.6590 C   0  0  0  0  0  0  0  0  0  0  0  0\\n   -2.4103    0.5837    0.7840 C   0  0  0  0  0  0  0  0  0  0  0  0\\n   -2.6433   -0.5289   -1.4260 C   0  0  0  0  0  0  0  0  0  0  0  0\\n    1.4879   -0.6438   -0.9795 C   0  0  0  0  0  0  0  0  0  0  0  0\\n    2.3478   -1.3163    0.1002 C   0  0  0  0  0  0  0  0  0  0  0  0\\n    0.4627    2.1935   -0.0312 C   0  0  0  0  0  0  0  0  0  0  0  0\\n    0.6678    3.1549    1.1001 C   0  0  0  0  0  0  0  0  0  0  0  0\\n   -0.7073   -2.1051   -0.4563 H   0  0  0  0  0  0  0  0  0  0  0  0\\n   -0.5669   -1.3392    1.1503 H   0  0  0  0  0  0  0  0  0  0  0  0\\n   -0.3089    0.3239   -1.4193 H   0  0  0  0  0  0  0  0  0  0  0  0\\n   -2.9705   -2.7295    0.1044 H   0  0  0  0  0  0  0  0  0  0  0  0\\n   -2.8083   -1.9210    1.7028 H   0  0  0  0  0  0  0  0  0  0  0  0\\n   -4.1563   -1.4762    0.6031 H   0  0  0  0  0  0  0  0  0  0  0  0\\n   -2.0398    1.4170    0.1863 H   0  0  0  0  0  0  0  0  0  0  0  0\\n   -3.4837    0.7378    0.9384 H   0  0  0  0  0  0  0  0  0  0  0  0\\n   -1.9129    0.5071    1.7551 H   0  0  0  0  0  0  0  0  0  0  0  0\\n   -2.2450    0.4089   -1.8190 H   0  0  0  0  0  0  0  0  0  0  0  0\\n   -2.3000   -1.3879   -2.0100 H   0  0  0  0  0  0  0  0  0  0  0  0\\n   -3.7365   -0.4723   -1.4630 H   0  0  0  0  0  0  0  0  0  0  0  0\\n    1.3299   -1.3744   -1.7823 H   0  0  0  0  0  0  0  0  0  0  0  0\\n    2.0900    0.1756   -1.3923 H   0  0  0  0  0  0  0  0  0  0  0  0\\n   -0.1953    3.1280    1.7699 H   0  0  0  0  0  0  0  0  0  0  0  0\\n    0.7681    4.1684    0.7012 H   0  0  0  0  0  0  0  0  0  0  0  0\\n    1.5832    2.9010    1.6404 H   0  0  0  0  0  0  0  0  0  0  0  0\\n  1  7  1  0\\n  1 13  1  0\\n  2 12  1  0\\n  3 12  2  0\\n  4 13  2  0\\n  5  6  1  0\\n  5  8  1  0\\n  5  9  1  0\\n  5 10  1  0\\n  6  7  1  0\\n  6 15  1  0\\n  6 16  1  0\\n  7 11  1  0\\n  7 17  1  6\\n  8 18  1  0\\n  8 19  1  0\\n  8 20  1  0\\n  9 21  1  0\\n  9 22  1  0\\n  9 23  1  0\\n 10 24  1  0\\n 10 25  1  0\\n 10 26  1  0\\n 11 12  1  0\\n 11 27  1  0\\n 11 28  1  0\\n 13 14  1  0\\n 14 29  1  0\\n 14 30  1  0\\n 14 31  1  0\\nM  CHG  2   2  -1   5   1\\nM  END\\n\",\"mol\");\n\tviewer_17445646202954862.setStyle({\"stick\": {}});\n\tviewer_17445646202954862.setBackgroundColor(\"white\");\n\tviewer_17445646202954862.zoomTo();\nviewer_17445646202954862.render();\n});\n</script>",
            "text/html": [
              "<div id=\"3dmolviewer_17445646202954862\"  style=\"position: relative; width: 400px; height: 350px;\">\n",
              "        <p id=\"3dmolwarning_17445646202954862\" style=\"background-color:#ffcccc;color:black\">3Dmol.js failed to load for some reason.  Please check your browser console for error messages.<br></p>\n",
              "        </div>\n",
              "<script>\n",
              "\n",
              "var loadScriptAsync = function(uri){\n",
              "  return new Promise((resolve, reject) => {\n",
              "    //this is to ignore the existence of requirejs amd\n",
              "    var savedexports, savedmodule;\n",
              "    if (typeof exports !== 'undefined') savedexports = exports;\n",
              "    else exports = {}\n",
              "    if (typeof module !== 'undefined') savedmodule = module;\n",
              "    else module = {}\n",
              "\n",
              "    var tag = document.createElement('script');\n",
              "    tag.src = uri;\n",
              "    tag.async = true;\n",
              "    tag.onload = () => {\n",
              "        exports = savedexports;\n",
              "        module = savedmodule;\n",
              "        resolve();\n",
              "    };\n",
              "  var firstScriptTag = document.getElementsByTagName('script')[0];\n",
              "  firstScriptTag.parentNode.insertBefore(tag, firstScriptTag);\n",
              "});\n",
              "};\n",
              "\n",
              "if(typeof $3Dmolpromise === 'undefined') {\n",
              "$3Dmolpromise = null;\n",
              "  $3Dmolpromise = loadScriptAsync('https://cdnjs.cloudflare.com/ajax/libs/3Dmol/2.4.2/3Dmol-min.js');\n",
              "}\n",
              "\n",
              "var viewer_17445646202954862 = null;\n",
              "var warn = document.getElementById(\"3dmolwarning_17445646202954862\");\n",
              "if(warn) {\n",
              "    warn.parentNode.removeChild(warn);\n",
              "}\n",
              "$3Dmolpromise.then(function() {\n",
              "viewer_17445646202954862 = $3Dmol.createViewer(document.getElementById(\"3dmolviewer_17445646202954862\"),{backgroundColor:\"white\"});\n",
              "viewer_17445646202954862.zoomTo();\n",
              "\tviewer_17445646202954862.addModel(\"1\\n     RDKit          3D\\n\\n 31 30  0  0  1  0  0  0  0  0999 V2000\\n    0.3387    0.9262    0.4600 O   0  0  0  0  0  0  0  0  0  0  0  0\\n    3.4786   -1.7069   -0.3119 O   0  0  0  0  0  0  0  0  0  0  0  0\\n    1.8428   -1.4073    1.2523 O   0  0  0  0  0  0  0  0  0  0  0  0\\n    0.4166    2.5213   -1.2091 O   0  0  0  0  0  0  0  0  0  0  0  0\\n   -2.2359   -0.7251    0.0270 N   0  0  0  0  0  0  0  0  0  0  0  0\\n   -0.7783   -1.1579    0.0914 C   0  0  0  0  0  0  0  0  0  0  0  0\\n    0.1368   -0.0961   -0.5161 C   0  0  2  0  0  0  0  0  0  0  0  0\\n   -3.1119   -1.7972    0.6590 C   0  0  0  0  0  0  0  0  0  0  0  0\\n   -2.4103    0.5837    0.7840 C   0  0  0  0  0  0  0  0  0  0  0  0\\n   -2.6433   -0.5289   -1.4260 C   0  0  0  0  0  0  0  0  0  0  0  0\\n    1.4879   -0.6438   -0.9795 C   0  0  0  0  0  0  0  0  0  0  0  0\\n    2.3478   -1.3163    0.1002 C   0  0  0  0  0  0  0  0  0  0  0  0\\n    0.4627    2.1935   -0.0312 C   0  0  0  0  0  0  0  0  0  0  0  0\\n    0.6678    3.1549    1.1001 C   0  0  0  0  0  0  0  0  0  0  0  0\\n   -0.7073   -2.1051   -0.4563 H   0  0  0  0  0  0  0  0  0  0  0  0\\n   -0.5669   -1.3392    1.1503 H   0  0  0  0  0  0  0  0  0  0  0  0\\n   -0.3089    0.3239   -1.4193 H   0  0  0  0  0  0  0  0  0  0  0  0\\n   -2.9705   -2.7295    0.1044 H   0  0  0  0  0  0  0  0  0  0  0  0\\n   -2.8083   -1.9210    1.7028 H   0  0  0  0  0  0  0  0  0  0  0  0\\n   -4.1563   -1.4762    0.6031 H   0  0  0  0  0  0  0  0  0  0  0  0\\n   -2.0398    1.4170    0.1863 H   0  0  0  0  0  0  0  0  0  0  0  0\\n   -3.4837    0.7378    0.9384 H   0  0  0  0  0  0  0  0  0  0  0  0\\n   -1.9129    0.5071    1.7551 H   0  0  0  0  0  0  0  0  0  0  0  0\\n   -2.2450    0.4089   -1.8190 H   0  0  0  0  0  0  0  0  0  0  0  0\\n   -2.3000   -1.3879   -2.0100 H   0  0  0  0  0  0  0  0  0  0  0  0\\n   -3.7365   -0.4723   -1.4630 H   0  0  0  0  0  0  0  0  0  0  0  0\\n    1.3299   -1.3744   -1.7823 H   0  0  0  0  0  0  0  0  0  0  0  0\\n    2.0900    0.1756   -1.3923 H   0  0  0  0  0  0  0  0  0  0  0  0\\n   -0.1953    3.1280    1.7699 H   0  0  0  0  0  0  0  0  0  0  0  0\\n    0.7681    4.1684    0.7012 H   0  0  0  0  0  0  0  0  0  0  0  0\\n    1.5832    2.9010    1.6404 H   0  0  0  0  0  0  0  0  0  0  0  0\\n  1  7  1  0\\n  1 13  1  0\\n  2 12  1  0\\n  3 12  2  0\\n  4 13  2  0\\n  5  6  1  0\\n  5  8  1  0\\n  5  9  1  0\\n  5 10  1  0\\n  6  7  1  0\\n  6 15  1  0\\n  6 16  1  0\\n  7 11  1  0\\n  7 17  1  6\\n  8 18  1  0\\n  8 19  1  0\\n  8 20  1  0\\n  9 21  1  0\\n  9 22  1  0\\n  9 23  1  0\\n 10 24  1  0\\n 10 25  1  0\\n 10 26  1  0\\n 11 12  1  0\\n 11 27  1  0\\n 11 28  1  0\\n 13 14  1  0\\n 14 29  1  0\\n 14 30  1  0\\n 14 31  1  0\\nM  CHG  2   2  -1   5   1\\nM  END\\n\",\"mol\");\n",
              "\tviewer_17445646202954862.setStyle({\"stick\": {}});\n",
              "\tviewer_17445646202954862.setBackgroundColor(\"white\");\n",
              "\tviewer_17445646202954862.zoomTo();\n",
              "viewer_17445646202954862.render();\n",
              "});\n",
              "</script>"
            ]
          },
          "metadata": {}
        },
        {
          "output_type": "stream",
          "name": "stdout",
          "text": [
            "Showing: mol_10.sdf\n"
          ]
        },
        {
          "output_type": "display_data",
          "data": {
            "application/3dmoljs_load.v0": "<div id=\"3dmolviewer_1744564620299371\"  style=\"position: relative; width: 400px; height: 350px;\">\n        <p id=\"3dmolwarning_1744564620299371\" style=\"background-color:#ffcccc;color:black\">3Dmol.js failed to load for some reason.  Please check your browser console for error messages.<br></p>\n        </div>\n<script>\n\nvar loadScriptAsync = function(uri){\n  return new Promise((resolve, reject) => {\n    //this is to ignore the existence of requirejs amd\n    var savedexports, savedmodule;\n    if (typeof exports !== 'undefined') savedexports = exports;\n    else exports = {}\n    if (typeof module !== 'undefined') savedmodule = module;\n    else module = {}\n\n    var tag = document.createElement('script');\n    tag.src = uri;\n    tag.async = true;\n    tag.onload = () => {\n        exports = savedexports;\n        module = savedmodule;\n        resolve();\n    };\n  var firstScriptTag = document.getElementsByTagName('script')[0];\n  firstScriptTag.parentNode.insertBefore(tag, firstScriptTag);\n});\n};\n\nif(typeof $3Dmolpromise === 'undefined') {\n$3Dmolpromise = null;\n  $3Dmolpromise = loadScriptAsync('https://cdnjs.cloudflare.com/ajax/libs/3Dmol/2.4.2/3Dmol-min.js');\n}\n\nvar viewer_1744564620299371 = null;\nvar warn = document.getElementById(\"3dmolwarning_1744564620299371\");\nif(warn) {\n    warn.parentNode.removeChild(warn);\n}\n$3Dmolpromise.then(function() {\nviewer_1744564620299371 = $3Dmol.createViewer(document.getElementById(\"3dmolviewer_1744564620299371\"),{backgroundColor:\"white\"});\nviewer_1744564620299371.zoomTo();\n\tviewer_1744564620299371.addModel(\"10\\n     RDKit          3D\\n\\n 57 59  0  0  1  0  0  0  0  0999 V2000\\n   -0.5676    1.1273   -1.7704 O   0  0  0  0  0  0  0  0  0  0  0  0\\n   -5.6851   -2.9381   -0.6072 O   0  0  0  0  0  0  0  0  0  0  0  0\\n    2.5234   -3.3586   -0.6032 O   0  0  0  0  0  0  0  0  0  0  0  0\\n    5.8661   -0.9187    2.2745 O   0  0  0  0  0  0  0  0  0  0  0  0\\n    3.7543   -0.3316    2.8628 O   0  0  0  0  0  0  0  0  0  0  0  0\\n    4.7272    2.8641   -1.8444 O   0  0  0  0  0  0  0  0  0  0  0  0\\n    5.7591    1.0038   -2.6330 O   0  0  0  0  0  0  0  0  0  0  0  0\\n   -3.1783    0.6922   -0.9522 N   0  0  0  0  0  0  0  0  0  0  0  0\\n   -4.2046    2.3582    0.9600 N   0  0  0  0  0  0  0  0  0  0  0  0\\n   -3.6477   -1.9429    0.0197 N   0  0  0  0  0  0  0  0  0  0  0  0\\n   -2.0453    3.4731    1.0808 N   0  0  0  0  0  0  0  0  0  0  0  0\\n   -0.2282    2.8547   -0.2947 N   0  0  0  0  0  0  0  0  0  0  0  0\\n    2.6967   -1.4073    0.6373 N   0  0  0  0  0  0  0  0  0  0  0  0\\n   -0.0511    4.6036    1.2684 N   0  0  0  0  0  0  0  0  0  0  0  0\\n   -4.4755    0.3125   -0.4018 C   0  0  2  0  0  0  0  0  0  0  0  0\\n   -5.1617    1.5442    0.2233 C   0  0  0  0  0  0  0  0  0  0  0  0\\n   -4.2819   -0.8085    0.6186 C   0  0  0  0  0  0  0  0  0  0  0  0\\n   -2.4115    1.6993   -0.4053 C   0  0  0  0  0  0  0  0  0  0  0  0\\n   -2.8879    2.5215    0.5565 C   0  0  0  0  0  0  0  0  0  0  0  0\\n   -2.1920   -2.0644    0.0099 C   0  0  0  0  0  0  0  0  0  0  0  0\\n   -0.9965    1.8641   -0.8856 C   0  0  0  0  0  0  0  0  0  0  0  0\\n   -4.4570   -2.9408   -0.5606 C   0  0  0  0  0  0  0  0  0  0  0  0\\n   -0.7506    3.6064    0.6396 C   0  0  0  0  0  0  0  0  0  0  0  0\\n   -1.5040   -1.4951    1.0398 C   0  0  0  0  0  0  0  0  0  0  0  0\\n   -1.6208   -2.7387   -1.0281 C   0  0  0  0  0  0  0  0  0  0  0  0\\n    4.1403   -1.3733    0.6955 C   0  0  1  0  0  0  0  0  0  0  0  0\\n    0.5226   -2.2907   -0.0074 C   0  0  0  0  0  0  0  0  0  0  0  0\\n    4.7637   -0.6300   -0.4922 C   0  0  0  0  0  0  0  0  0  0  0  0\\n   -0.1140   -1.6109    1.0310 C   0  0  0  0  0  0  0  0  0  0  0  0\\n   -0.2307   -2.8547   -1.0369 C   0  0  0  0  0  0  0  0  0  0  0  0\\n    1.9718   -2.4105   -0.0167 C   0  0  0  0  0  0  0  0  0  0  0  0\\n    4.4027    0.8560   -0.6144 C   0  0  0  0  0  0  0  0  0  0  0  0\\n    4.5315   -0.8067    2.0448 C   0  0  0  0  0  0  0  0  0  0  0  0\\n    5.0325    1.5405   -1.8084 C   0  0  0  0  0  0  0  0  0  0  0  0\\n   -5.1045   -0.0570   -1.2211 H   0  0  0  0  0  0  0  0  0  0  0  0\\n   -5.5852    2.1640   -0.5765 H   0  0  0  0  0  0  0  0  0  0  0  0\\n   -5.9889    1.2497    0.8778 H   0  0  0  0  0  0  0  0  0  0  0  0\\n   -5.2739   -1.1147    0.9770 H   0  0  0  0  0  0  0  0  0  0  0  0\\n   -3.7714   -0.4517    1.5143 H   0  0  0  0  0  0  0  0  0  0  0  0\\n   -2.7519    0.1094   -1.6645 H   0  0  0  0  0  0  0  0  0  0  0  0\\n   -4.5462    3.0033    1.6644 H   0  0  0  0  0  0  0  0  0  0  0  0\\n   -2.4244    4.0746    1.8035 H   0  0  0  0  0  0  0  0  0  0  0  0\\n   -3.8955   -3.8053   -0.9407 H   0  0  0  0  0  0  0  0  0  0  0  0\\n   -1.9491   -0.9983    1.8911 H   0  0  0  0  0  0  0  0  0  0  0  0\\n   -2.1694   -3.1477   -1.8684 H   0  0  0  0  0  0  0  0  0  0  0  0\\n    4.4889   -2.4137    0.6794 H   0  0  0  0  0  0  0  0  0  0  0  0\\n    5.8565   -0.7168   -0.4344 H   0  0  0  0  0  0  0  0  0  0  0  0\\n    4.4704   -1.1370   -1.4211 H   0  0  0  0  0  0  0  0  0  0  0  0\\n    0.4317   -1.1910    1.8711 H   0  0  0  0  0  0  0  0  0  0  0  0\\n    0.2476   -3.3752   -1.8628 H   0  0  0  0  0  0  0  0  0  0  0  0\\n    2.2078   -0.6105    1.0326 H   0  0  0  0  0  0  0  0  0  0  0  0\\n    3.3165    0.9652   -0.7080 H   0  0  0  0  0  0  0  0  0  0  0  0\\n    4.7336    1.3881    0.2843 H   0  0  0  0  0  0  0  0  0  0  0  0\\n   -0.4770    5.1748    1.9900 H   0  0  0  0  0  0  0  0  0  0  0  0\\n    0.9148    4.7988    1.0285 H   0  0  0  0  0  0  0  0  0  0  0  0\\n    6.1160   -0.5662    3.1551 H   0  0  0  0  0  0  0  0  0  0  0  0\\n    5.1481    3.3155   -2.6070 H   0  0  0  0  0  0  0  0  0  0  0  0\\n  1 21  2  0\\n  2 22  2  0\\n  3 31  2  0\\n  4 33  1  0\\n  4 56  1  0\\n  5 33  2  0\\n  6 34  1  0\\n  6 57  1  0\\n  7 34  2  0\\n  8 15  1  0\\n  8 18  1  0\\n  8 40  1  0\\n  9 16  1  0\\n  9 19  1  0\\n  9 41  1  0\\n 10 17  1  0\\n 10 20  1  0\\n 10 22  1  0\\n 11 19  1  0\\n 11 23  1  0\\n 11 42  1  0\\n 12 21  1  0\\n 12 23  2  0\\n 13 26  1  0\\n 13 31  1  0\\n 13 51  1  0\\n 14 23  1  0\\n 14 54  1  0\\n 14 55  1  0\\n 15 16  1  0\\n 15 17  1  0\\n 15 35  1  6\\n 16 36  1  0\\n 16 37  1  0\\n 17 38  1  0\\n 17 39  1  0\\n 18 19  2  0\\n 18 21  1  0\\n 20 24  2  0\\n 20 25  1  0\\n 22 43  1  0\\n 24 29  1  0\\n 24 44  1  0\\n 25 30  2  0\\n 25 45  1  0\\n 26 28  1  0\\n 26 33  1  0\\n 26 46  1  1\\n 27 29  2  0\\n 27 30  1  0\\n 27 31  1  0\\n 28 32  1  0\\n 28 47  1  0\\n 28 48  1  0\\n 29 49  1  0\\n 30 50  1  0\\n 32 34  1  0\\n 32 52  1  0\\n 32 53  1  0\\nM  END\\n\",\"mol\");\n\tviewer_1744564620299371.setStyle({\"stick\": {}});\n\tviewer_1744564620299371.setBackgroundColor(\"white\");\n\tviewer_1744564620299371.zoomTo();\nviewer_1744564620299371.render();\n});\n</script>",
            "text/html": [
              "<div id=\"3dmolviewer_1744564620299371\"  style=\"position: relative; width: 400px; height: 350px;\">\n",
              "        <p id=\"3dmolwarning_1744564620299371\" style=\"background-color:#ffcccc;color:black\">3Dmol.js failed to load for some reason.  Please check your browser console for error messages.<br></p>\n",
              "        </div>\n",
              "<script>\n",
              "\n",
              "var loadScriptAsync = function(uri){\n",
              "  return new Promise((resolve, reject) => {\n",
              "    //this is to ignore the existence of requirejs amd\n",
              "    var savedexports, savedmodule;\n",
              "    if (typeof exports !== 'undefined') savedexports = exports;\n",
              "    else exports = {}\n",
              "    if (typeof module !== 'undefined') savedmodule = module;\n",
              "    else module = {}\n",
              "\n",
              "    var tag = document.createElement('script');\n",
              "    tag.src = uri;\n",
              "    tag.async = true;\n",
              "    tag.onload = () => {\n",
              "        exports = savedexports;\n",
              "        module = savedmodule;\n",
              "        resolve();\n",
              "    };\n",
              "  var firstScriptTag = document.getElementsByTagName('script')[0];\n",
              "  firstScriptTag.parentNode.insertBefore(tag, firstScriptTag);\n",
              "});\n",
              "};\n",
              "\n",
              "if(typeof $3Dmolpromise === 'undefined') {\n",
              "$3Dmolpromise = null;\n",
              "  $3Dmolpromise = loadScriptAsync('https://cdnjs.cloudflare.com/ajax/libs/3Dmol/2.4.2/3Dmol-min.js');\n",
              "}\n",
              "\n",
              "var viewer_1744564620299371 = null;\n",
              "var warn = document.getElementById(\"3dmolwarning_1744564620299371\");\n",
              "if(warn) {\n",
              "    warn.parentNode.removeChild(warn);\n",
              "}\n",
              "$3Dmolpromise.then(function() {\n",
              "viewer_1744564620299371 = $3Dmol.createViewer(document.getElementById(\"3dmolviewer_1744564620299371\"),{backgroundColor:\"white\"});\n",
              "viewer_1744564620299371.zoomTo();\n",
              "\tviewer_1744564620299371.addModel(\"10\\n     RDKit          3D\\n\\n 57 59  0  0  1  0  0  0  0  0999 V2000\\n   -0.5676    1.1273   -1.7704 O   0  0  0  0  0  0  0  0  0  0  0  0\\n   -5.6851   -2.9381   -0.6072 O   0  0  0  0  0  0  0  0  0  0  0  0\\n    2.5234   -3.3586   -0.6032 O   0  0  0  0  0  0  0  0  0  0  0  0\\n    5.8661   -0.9187    2.2745 O   0  0  0  0  0  0  0  0  0  0  0  0\\n    3.7543   -0.3316    2.8628 O   0  0  0  0  0  0  0  0  0  0  0  0\\n    4.7272    2.8641   -1.8444 O   0  0  0  0  0  0  0  0  0  0  0  0\\n    5.7591    1.0038   -2.6330 O   0  0  0  0  0  0  0  0  0  0  0  0\\n   -3.1783    0.6922   -0.9522 N   0  0  0  0  0  0  0  0  0  0  0  0\\n   -4.2046    2.3582    0.9600 N   0  0  0  0  0  0  0  0  0  0  0  0\\n   -3.6477   -1.9429    0.0197 N   0  0  0  0  0  0  0  0  0  0  0  0\\n   -2.0453    3.4731    1.0808 N   0  0  0  0  0  0  0  0  0  0  0  0\\n   -0.2282    2.8547   -0.2947 N   0  0  0  0  0  0  0  0  0  0  0  0\\n    2.6967   -1.4073    0.6373 N   0  0  0  0  0  0  0  0  0  0  0  0\\n   -0.0511    4.6036    1.2684 N   0  0  0  0  0  0  0  0  0  0  0  0\\n   -4.4755    0.3125   -0.4018 C   0  0  2  0  0  0  0  0  0  0  0  0\\n   -5.1617    1.5442    0.2233 C   0  0  0  0  0  0  0  0  0  0  0  0\\n   -4.2819   -0.8085    0.6186 C   0  0  0  0  0  0  0  0  0  0  0  0\\n   -2.4115    1.6993   -0.4053 C   0  0  0  0  0  0  0  0  0  0  0  0\\n   -2.8879    2.5215    0.5565 C   0  0  0  0  0  0  0  0  0  0  0  0\\n   -2.1920   -2.0644    0.0099 C   0  0  0  0  0  0  0  0  0  0  0  0\\n   -0.9965    1.8641   -0.8856 C   0  0  0  0  0  0  0  0  0  0  0  0\\n   -4.4570   -2.9408   -0.5606 C   0  0  0  0  0  0  0  0  0  0  0  0\\n   -0.7506    3.6064    0.6396 C   0  0  0  0  0  0  0  0  0  0  0  0\\n   -1.5040   -1.4951    1.0398 C   0  0  0  0  0  0  0  0  0  0  0  0\\n   -1.6208   -2.7387   -1.0281 C   0  0  0  0  0  0  0  0  0  0  0  0\\n    4.1403   -1.3733    0.6955 C   0  0  1  0  0  0  0  0  0  0  0  0\\n    0.5226   -2.2907   -0.0074 C   0  0  0  0  0  0  0  0  0  0  0  0\\n    4.7637   -0.6300   -0.4922 C   0  0  0  0  0  0  0  0  0  0  0  0\\n   -0.1140   -1.6109    1.0310 C   0  0  0  0  0  0  0  0  0  0  0  0\\n   -0.2307   -2.8547   -1.0369 C   0  0  0  0  0  0  0  0  0  0  0  0\\n    1.9718   -2.4105   -0.0167 C   0  0  0  0  0  0  0  0  0  0  0  0\\n    4.4027    0.8560   -0.6144 C   0  0  0  0  0  0  0  0  0  0  0  0\\n    4.5315   -0.8067    2.0448 C   0  0  0  0  0  0  0  0  0  0  0  0\\n    5.0325    1.5405   -1.8084 C   0  0  0  0  0  0  0  0  0  0  0  0\\n   -5.1045   -0.0570   -1.2211 H   0  0  0  0  0  0  0  0  0  0  0  0\\n   -5.5852    2.1640   -0.5765 H   0  0  0  0  0  0  0  0  0  0  0  0\\n   -5.9889    1.2497    0.8778 H   0  0  0  0  0  0  0  0  0  0  0  0\\n   -5.2739   -1.1147    0.9770 H   0  0  0  0  0  0  0  0  0  0  0  0\\n   -3.7714   -0.4517    1.5143 H   0  0  0  0  0  0  0  0  0  0  0  0\\n   -2.7519    0.1094   -1.6645 H   0  0  0  0  0  0  0  0  0  0  0  0\\n   -4.5462    3.0033    1.6644 H   0  0  0  0  0  0  0  0  0  0  0  0\\n   -2.4244    4.0746    1.8035 H   0  0  0  0  0  0  0  0  0  0  0  0\\n   -3.8955   -3.8053   -0.9407 H   0  0  0  0  0  0  0  0  0  0  0  0\\n   -1.9491   -0.9983    1.8911 H   0  0  0  0  0  0  0  0  0  0  0  0\\n   -2.1694   -3.1477   -1.8684 H   0  0  0  0  0  0  0  0  0  0  0  0\\n    4.4889   -2.4137    0.6794 H   0  0  0  0  0  0  0  0  0  0  0  0\\n    5.8565   -0.7168   -0.4344 H   0  0  0  0  0  0  0  0  0  0  0  0\\n    4.4704   -1.1370   -1.4211 H   0  0  0  0  0  0  0  0  0  0  0  0\\n    0.4317   -1.1910    1.8711 H   0  0  0  0  0  0  0  0  0  0  0  0\\n    0.2476   -3.3752   -1.8628 H   0  0  0  0  0  0  0  0  0  0  0  0\\n    2.2078   -0.6105    1.0326 H   0  0  0  0  0  0  0  0  0  0  0  0\\n    3.3165    0.9652   -0.7080 H   0  0  0  0  0  0  0  0  0  0  0  0\\n    4.7336    1.3881    0.2843 H   0  0  0  0  0  0  0  0  0  0  0  0\\n   -0.4770    5.1748    1.9900 H   0  0  0  0  0  0  0  0  0  0  0  0\\n    0.9148    4.7988    1.0285 H   0  0  0  0  0  0  0  0  0  0  0  0\\n    6.1160   -0.5662    3.1551 H   0  0  0  0  0  0  0  0  0  0  0  0\\n    5.1481    3.3155   -2.6070 H   0  0  0  0  0  0  0  0  0  0  0  0\\n  1 21  2  0\\n  2 22  2  0\\n  3 31  2  0\\n  4 33  1  0\\n  4 56  1  0\\n  5 33  2  0\\n  6 34  1  0\\n  6 57  1  0\\n  7 34  2  0\\n  8 15  1  0\\n  8 18  1  0\\n  8 40  1  0\\n  9 16  1  0\\n  9 19  1  0\\n  9 41  1  0\\n 10 17  1  0\\n 10 20  1  0\\n 10 22  1  0\\n 11 19  1  0\\n 11 23  1  0\\n 11 42  1  0\\n 12 21  1  0\\n 12 23  2  0\\n 13 26  1  0\\n 13 31  1  0\\n 13 51  1  0\\n 14 23  1  0\\n 14 54  1  0\\n 14 55  1  0\\n 15 16  1  0\\n 15 17  1  0\\n 15 35  1  6\\n 16 36  1  0\\n 16 37  1  0\\n 17 38  1  0\\n 17 39  1  0\\n 18 19  2  0\\n 18 21  1  0\\n 20 24  2  0\\n 20 25  1  0\\n 22 43  1  0\\n 24 29  1  0\\n 24 44  1  0\\n 25 30  2  0\\n 25 45  1  0\\n 26 28  1  0\\n 26 33  1  0\\n 26 46  1  1\\n 27 29  2  0\\n 27 30  1  0\\n 27 31  1  0\\n 28 32  1  0\\n 28 47  1  0\\n 28 48  1  0\\n 29 49  1  0\\n 30 50  1  0\\n 32 34  1  0\\n 32 52  1  0\\n 32 53  1  0\\nM  END\\n\",\"mol\");\n",
              "\tviewer_1744564620299371.setStyle({\"stick\": {}});\n",
              "\tviewer_1744564620299371.setBackgroundColor(\"white\");\n",
              "\tviewer_1744564620299371.zoomTo();\n",
              "viewer_1744564620299371.render();\n",
              "});\n",
              "</script>"
            ]
          },
          "metadata": {}
        },
        {
          "output_type": "stream",
          "name": "stdout",
          "text": [
            "Showing: mol_1000.sdf\n"
          ]
        },
        {
          "output_type": "display_data",
          "data": {
            "application/3dmoljs_load.v0": "<div id=\"3dmolviewer_17445646203018565\"  style=\"position: relative; width: 400px; height: 350px;\">\n        <p id=\"3dmolwarning_17445646203018565\" style=\"background-color:#ffcccc;color:black\">3Dmol.js failed to load for some reason.  Please check your browser console for error messages.<br></p>\n        </div>\n<script>\n\nvar loadScriptAsync = function(uri){\n  return new Promise((resolve, reject) => {\n    //this is to ignore the existence of requirejs amd\n    var savedexports, savedmodule;\n    if (typeof exports !== 'undefined') savedexports = exports;\n    else exports = {}\n    if (typeof module !== 'undefined') savedmodule = module;\n    else module = {}\n\n    var tag = document.createElement('script');\n    tag.src = uri;\n    tag.async = true;\n    tag.onload = () => {\n        exports = savedexports;\n        module = savedmodule;\n        resolve();\n    };\n  var firstScriptTag = document.getElementsByTagName('script')[0];\n  firstScriptTag.parentNode.insertBefore(tag, firstScriptTag);\n});\n};\n\nif(typeof $3Dmolpromise === 'undefined') {\n$3Dmolpromise = null;\n  $3Dmolpromise = loadScriptAsync('https://cdnjs.cloudflare.com/ajax/libs/3Dmol/2.4.2/3Dmol-min.js');\n}\n\nvar viewer_17445646203018565 = null;\nvar warn = document.getElementById(\"3dmolwarning_17445646203018565\");\nif(warn) {\n    warn.parentNode.removeChild(warn);\n}\n$3Dmolpromise.then(function() {\nviewer_17445646203018565 = $3Dmol.createViewer(document.getElementById(\"3dmolviewer_17445646203018565\"),{backgroundColor:\"white\"});\nviewer_17445646203018565.zoomTo();\n\tviewer_17445646203018565.addModel(\"1000\\n     RDKit          3D\\n\\n 21 21  0  0  1  0  0  0  0  0999 V2000\\n    1.7669    1.2709    0.8744 O   0  0  0  0  0  0  0  0  0  0  0  0\\n    3.6056   -0.4922   -0.4719 N   0  0  0  0  0  0  0  0  0  0  0  0\\n    1.3578   -0.0471    0.4853 C   0  0  1  0  0  0  0  0  0  0  0  0\\n   -0.1104   -0.0436    0.2222 C   0  0  0  0  0  0  0  0  0  0  0  0\\n    2.1706   -0.4909   -0.7471 C   0  0  0  0  0  0  0  0  0  0  0  0\\n   -0.7283    1.1066   -0.2686 C   0  0  0  0  0  0  0  0  0  0  0  0\\n   -0.8656   -1.1903    0.4674 C   0  0  0  0  0  0  0  0  0  0  0  0\\n   -2.1014    1.1101   -0.5142 C   0  0  0  0  0  0  0  0  0  0  0  0\\n   -2.2387   -1.1870    0.2217 C   0  0  0  0  0  0  0  0  0  0  0  0\\n   -2.8565   -0.0367   -0.2691 C   0  0  0  0  0  0  0  0  0  0  0  0\\n    1.5736   -0.7038    1.3379 H   0  0  0  0  0  0  0  0  0  0  0  0\\n    1.9849    0.1880   -1.5881 H   0  0  0  0  0  0  0  0  0  0  0  0\\n    1.8655   -1.4961   -1.0589 H   0  0  0  0  0  0  0  0  0  0  0  0\\n   -0.1626    2.0095   -0.4819 H   0  0  0  0  0  0  0  0  0  0  0  0\\n   -0.3959   -2.0934    0.8481 H   0  0  0  0  0  0  0  0  0  0  0  0\\n   -2.5822    2.0046   -0.8995 H   0  0  0  0  0  0  0  0  0  0  0  0\\n   -2.8267   -2.0801    0.4118 H   0  0  0  0  0  0  0  0  0  0  0  0\\n   -3.9255   -0.0344   -0.4613 H   0  0  0  0  0  0  0  0  0  0  0  0\\n    2.6857    1.2104    1.1859 H   0  0  0  0  0  0  0  0  0  0  0  0\\n    3.9203    0.4585   -0.2836 H   0  0  0  0  0  0  0  0  0  0  0  0\\n    4.1068   -0.7931   -1.3070 H   0  0  0  0  0  0  0  0  0  0  0  0\\n  1  3  1  0\\n  1 19  1  0\\n  2  5  1  0\\n  2 20  1  0\\n  2 21  1  0\\n  3  4  1  0\\n  3  5  1  0\\n  3 11  1  1\\n  4  6  2  0\\n  4  7  1  0\\n  5 12  1  0\\n  5 13  1  0\\n  6  8  1  0\\n  6 14  1  0\\n  7  9  2  0\\n  7 15  1  0\\n  8 10  2  0\\n  8 16  1  0\\n  9 10  1  0\\n  9 17  1  0\\n 10 18  1  0\\nM  END\\n\",\"mol\");\n\tviewer_17445646203018565.setStyle({\"stick\": {}});\n\tviewer_17445646203018565.setBackgroundColor(\"white\");\n\tviewer_17445646203018565.zoomTo();\nviewer_17445646203018565.render();\n});\n</script>",
            "text/html": [
              "<div id=\"3dmolviewer_17445646203018565\"  style=\"position: relative; width: 400px; height: 350px;\">\n",
              "        <p id=\"3dmolwarning_17445646203018565\" style=\"background-color:#ffcccc;color:black\">3Dmol.js failed to load for some reason.  Please check your browser console for error messages.<br></p>\n",
              "        </div>\n",
              "<script>\n",
              "\n",
              "var loadScriptAsync = function(uri){\n",
              "  return new Promise((resolve, reject) => {\n",
              "    //this is to ignore the existence of requirejs amd\n",
              "    var savedexports, savedmodule;\n",
              "    if (typeof exports !== 'undefined') savedexports = exports;\n",
              "    else exports = {}\n",
              "    if (typeof module !== 'undefined') savedmodule = module;\n",
              "    else module = {}\n",
              "\n",
              "    var tag = document.createElement('script');\n",
              "    tag.src = uri;\n",
              "    tag.async = true;\n",
              "    tag.onload = () => {\n",
              "        exports = savedexports;\n",
              "        module = savedmodule;\n",
              "        resolve();\n",
              "    };\n",
              "  var firstScriptTag = document.getElementsByTagName('script')[0];\n",
              "  firstScriptTag.parentNode.insertBefore(tag, firstScriptTag);\n",
              "});\n",
              "};\n",
              "\n",
              "if(typeof $3Dmolpromise === 'undefined') {\n",
              "$3Dmolpromise = null;\n",
              "  $3Dmolpromise = loadScriptAsync('https://cdnjs.cloudflare.com/ajax/libs/3Dmol/2.4.2/3Dmol-min.js');\n",
              "}\n",
              "\n",
              "var viewer_17445646203018565 = null;\n",
              "var warn = document.getElementById(\"3dmolwarning_17445646203018565\");\n",
              "if(warn) {\n",
              "    warn.parentNode.removeChild(warn);\n",
              "}\n",
              "$3Dmolpromise.then(function() {\n",
              "viewer_17445646203018565 = $3Dmol.createViewer(document.getElementById(\"3dmolviewer_17445646203018565\"),{backgroundColor:\"white\"});\n",
              "viewer_17445646203018565.zoomTo();\n",
              "\tviewer_17445646203018565.addModel(\"1000\\n     RDKit          3D\\n\\n 21 21  0  0  1  0  0  0  0  0999 V2000\\n    1.7669    1.2709    0.8744 O   0  0  0  0  0  0  0  0  0  0  0  0\\n    3.6056   -0.4922   -0.4719 N   0  0  0  0  0  0  0  0  0  0  0  0\\n    1.3578   -0.0471    0.4853 C   0  0  1  0  0  0  0  0  0  0  0  0\\n   -0.1104   -0.0436    0.2222 C   0  0  0  0  0  0  0  0  0  0  0  0\\n    2.1706   -0.4909   -0.7471 C   0  0  0  0  0  0  0  0  0  0  0  0\\n   -0.7283    1.1066   -0.2686 C   0  0  0  0  0  0  0  0  0  0  0  0\\n   -0.8656   -1.1903    0.4674 C   0  0  0  0  0  0  0  0  0  0  0  0\\n   -2.1014    1.1101   -0.5142 C   0  0  0  0  0  0  0  0  0  0  0  0\\n   -2.2387   -1.1870    0.2217 C   0  0  0  0  0  0  0  0  0  0  0  0\\n   -2.8565   -0.0367   -0.2691 C   0  0  0  0  0  0  0  0  0  0  0  0\\n    1.5736   -0.7038    1.3379 H   0  0  0  0  0  0  0  0  0  0  0  0\\n    1.9849    0.1880   -1.5881 H   0  0  0  0  0  0  0  0  0  0  0  0\\n    1.8655   -1.4961   -1.0589 H   0  0  0  0  0  0  0  0  0  0  0  0\\n   -0.1626    2.0095   -0.4819 H   0  0  0  0  0  0  0  0  0  0  0  0\\n   -0.3959   -2.0934    0.8481 H   0  0  0  0  0  0  0  0  0  0  0  0\\n   -2.5822    2.0046   -0.8995 H   0  0  0  0  0  0  0  0  0  0  0  0\\n   -2.8267   -2.0801    0.4118 H   0  0  0  0  0  0  0  0  0  0  0  0\\n   -3.9255   -0.0344   -0.4613 H   0  0  0  0  0  0  0  0  0  0  0  0\\n    2.6857    1.2104    1.1859 H   0  0  0  0  0  0  0  0  0  0  0  0\\n    3.9203    0.4585   -0.2836 H   0  0  0  0  0  0  0  0  0  0  0  0\\n    4.1068   -0.7931   -1.3070 H   0  0  0  0  0  0  0  0  0  0  0  0\\n  1  3  1  0\\n  1 19  1  0\\n  2  5  1  0\\n  2 20  1  0\\n  2 21  1  0\\n  3  4  1  0\\n  3  5  1  0\\n  3 11  1  1\\n  4  6  2  0\\n  4  7  1  0\\n  5 12  1  0\\n  5 13  1  0\\n  6  8  1  0\\n  6 14  1  0\\n  7  9  2  0\\n  7 15  1  0\\n  8 10  2  0\\n  8 16  1  0\\n  9 10  1  0\\n  9 17  1  0\\n 10 18  1  0\\nM  END\\n\",\"mol\");\n",
              "\tviewer_17445646203018565.setStyle({\"stick\": {}});\n",
              "\tviewer_17445646203018565.setBackgroundColor(\"white\");\n",
              "\tviewer_17445646203018565.zoomTo();\n",
              "viewer_17445646203018565.render();\n",
              "});\n",
              "</script>"
            ]
          },
          "metadata": {}
        },
        {
          "output_type": "stream",
          "name": "stdout",
          "text": [
            "Showing: mol_1001.sdf\n"
          ]
        },
        {
          "output_type": "display_data",
          "data": {
            "application/3dmoljs_load.v0": "<div id=\"3dmolviewer_17445646203040366\"  style=\"position: relative; width: 400px; height: 350px;\">\n        <p id=\"3dmolwarning_17445646203040366\" style=\"background-color:#ffcccc;color:black\">3Dmol.js failed to load for some reason.  Please check your browser console for error messages.<br></p>\n        </div>\n<script>\n\nvar loadScriptAsync = function(uri){\n  return new Promise((resolve, reject) => {\n    //this is to ignore the existence of requirejs amd\n    var savedexports, savedmodule;\n    if (typeof exports !== 'undefined') savedexports = exports;\n    else exports = {}\n    if (typeof module !== 'undefined') savedmodule = module;\n    else module = {}\n\n    var tag = document.createElement('script');\n    tag.src = uri;\n    tag.async = true;\n    tag.onload = () => {\n        exports = savedexports;\n        module = savedmodule;\n        resolve();\n    };\n  var firstScriptTag = document.getElementsByTagName('script')[0];\n  firstScriptTag.parentNode.insertBefore(tag, firstScriptTag);\n});\n};\n\nif(typeof $3Dmolpromise === 'undefined') {\n$3Dmolpromise = null;\n  $3Dmolpromise = loadScriptAsync('https://cdnjs.cloudflare.com/ajax/libs/3Dmol/2.4.2/3Dmol-min.js');\n}\n\nvar viewer_17445646203040366 = null;\nvar warn = document.getElementById(\"3dmolwarning_17445646203040366\");\nif(warn) {\n    warn.parentNode.removeChild(warn);\n}\n$3Dmolpromise.then(function() {\nviewer_17445646203040366 = $3Dmol.createViewer(document.getElementById(\"3dmolviewer_17445646203040366\"),{backgroundColor:\"white\"});\nviewer_17445646203040366.zoomTo();\n\tviewer_17445646203040366.addModel(\"1001\\n     RDKit          3D\\n\\n 20 20  0  0  0  0  0  0  0  0999 V2000\\n    3.8236   -0.0118   -0.2192 N   0  0  0  0  0  0  0  0  0  0  0  0\\n    1.5175    0.0087    0.6824 C   0  0  0  0  0  0  0  0  0  0  0  0\\n    0.0660    0.0036    0.3386 C   0  0  0  0  0  0  0  0  0  0  0  0\\n    2.4073    0.0095   -0.5686 C   0  0  0  0  0  0  0  0  0  0  0  0\\n   -0.6165    1.2092    0.1765 C   0  0  0  0  0  0  0  0  0  0  0  0\\n   -0.6088   -1.2067    0.1797 C   0  0  0  0  0  0  0  0  0  0  0  0\\n   -1.9740    1.2046   -0.1444 C   0  0  0  0  0  0  0  0  0  0  0  0\\n   -1.9663   -1.2114   -0.1414 C   0  0  0  0  0  0  0  0  0  0  0  0\\n   -2.6488   -0.0058   -0.3035 C   0  0  0  0  0  0  0  0  0  0  0  0\\n    1.7462    0.8836    1.3057 H   0  0  0  0  0  0  0  0  0  0  0  0\\n    1.7509   -0.8645    1.3064 H   0  0  0  0  0  0  0  0  0  0  0  0\\n    2.2014    0.8974   -1.1780 H   0  0  0  0  0  0  0  0  0  0  0  0\\n    2.1854   -0.8662   -1.1894 H   0  0  0  0  0  0  0  0  0  0  0  0\\n   -0.1018    2.1589    0.2958 H   0  0  0  0  0  0  0  0  0  0  0  0\\n   -0.0880   -2.1528    0.3015 H   0  0  0  0  0  0  0  0  0  0  0  0\\n   -2.5054    2.1432   -0.2712 H   0  0  0  0  0  0  0  0  0  0  0  0\\n   -2.4916   -2.1538   -0.2658 H   0  0  0  0  0  0  0  0  0  0  0  0\\n   -3.7056   -0.0095   -0.5538 H   0  0  0  0  0  0  0  0  0  0  0  0\\n    4.0520    0.8136    0.3334 H   0  0  0  0  0  0  0  0  0  0  0  0\\n    4.3824    0.0493   -1.0692 H   0  0  0  0  0  0  0  0  0  0  0  0\\n  1  4  1  0\\n  1 19  1  0\\n  1 20  1  0\\n  2  3  1  0\\n  2  4  1  0\\n  2 10  1  0\\n  2 11  1  0\\n  3  5  2  0\\n  3  6  1  0\\n  4 12  1  0\\n  4 13  1  0\\n  5  7  1  0\\n  5 14  1  0\\n  6  8  2  0\\n  6 15  1  0\\n  7  9  2  0\\n  7 16  1  0\\n  8  9  1  0\\n  8 17  1  0\\n  9 18  1  0\\nM  END\\n\",\"mol\");\n\tviewer_17445646203040366.setStyle({\"stick\": {}});\n\tviewer_17445646203040366.setBackgroundColor(\"white\");\n\tviewer_17445646203040366.zoomTo();\nviewer_17445646203040366.render();\n});\n</script>",
            "text/html": [
              "<div id=\"3dmolviewer_17445646203040366\"  style=\"position: relative; width: 400px; height: 350px;\">\n",
              "        <p id=\"3dmolwarning_17445646203040366\" style=\"background-color:#ffcccc;color:black\">3Dmol.js failed to load for some reason.  Please check your browser console for error messages.<br></p>\n",
              "        </div>\n",
              "<script>\n",
              "\n",
              "var loadScriptAsync = function(uri){\n",
              "  return new Promise((resolve, reject) => {\n",
              "    //this is to ignore the existence of requirejs amd\n",
              "    var savedexports, savedmodule;\n",
              "    if (typeof exports !== 'undefined') savedexports = exports;\n",
              "    else exports = {}\n",
              "    if (typeof module !== 'undefined') savedmodule = module;\n",
              "    else module = {}\n",
              "\n",
              "    var tag = document.createElement('script');\n",
              "    tag.src = uri;\n",
              "    tag.async = true;\n",
              "    tag.onload = () => {\n",
              "        exports = savedexports;\n",
              "        module = savedmodule;\n",
              "        resolve();\n",
              "    };\n",
              "  var firstScriptTag = document.getElementsByTagName('script')[0];\n",
              "  firstScriptTag.parentNode.insertBefore(tag, firstScriptTag);\n",
              "});\n",
              "};\n",
              "\n",
              "if(typeof $3Dmolpromise === 'undefined') {\n",
              "$3Dmolpromise = null;\n",
              "  $3Dmolpromise = loadScriptAsync('https://cdnjs.cloudflare.com/ajax/libs/3Dmol/2.4.2/3Dmol-min.js');\n",
              "}\n",
              "\n",
              "var viewer_17445646203040366 = null;\n",
              "var warn = document.getElementById(\"3dmolwarning_17445646203040366\");\n",
              "if(warn) {\n",
              "    warn.parentNode.removeChild(warn);\n",
              "}\n",
              "$3Dmolpromise.then(function() {\n",
              "viewer_17445646203040366 = $3Dmol.createViewer(document.getElementById(\"3dmolviewer_17445646203040366\"),{backgroundColor:\"white\"});\n",
              "viewer_17445646203040366.zoomTo();\n",
              "\tviewer_17445646203040366.addModel(\"1001\\n     RDKit          3D\\n\\n 20 20  0  0  0  0  0  0  0  0999 V2000\\n    3.8236   -0.0118   -0.2192 N   0  0  0  0  0  0  0  0  0  0  0  0\\n    1.5175    0.0087    0.6824 C   0  0  0  0  0  0  0  0  0  0  0  0\\n    0.0660    0.0036    0.3386 C   0  0  0  0  0  0  0  0  0  0  0  0\\n    2.4073    0.0095   -0.5686 C   0  0  0  0  0  0  0  0  0  0  0  0\\n   -0.6165    1.2092    0.1765 C   0  0  0  0  0  0  0  0  0  0  0  0\\n   -0.6088   -1.2067    0.1797 C   0  0  0  0  0  0  0  0  0  0  0  0\\n   -1.9740    1.2046   -0.1444 C   0  0  0  0  0  0  0  0  0  0  0  0\\n   -1.9663   -1.2114   -0.1414 C   0  0  0  0  0  0  0  0  0  0  0  0\\n   -2.6488   -0.0058   -0.3035 C   0  0  0  0  0  0  0  0  0  0  0  0\\n    1.7462    0.8836    1.3057 H   0  0  0  0  0  0  0  0  0  0  0  0\\n    1.7509   -0.8645    1.3064 H   0  0  0  0  0  0  0  0  0  0  0  0\\n    2.2014    0.8974   -1.1780 H   0  0  0  0  0  0  0  0  0  0  0  0\\n    2.1854   -0.8662   -1.1894 H   0  0  0  0  0  0  0  0  0  0  0  0\\n   -0.1018    2.1589    0.2958 H   0  0  0  0  0  0  0  0  0  0  0  0\\n   -0.0880   -2.1528    0.3015 H   0  0  0  0  0  0  0  0  0  0  0  0\\n   -2.5054    2.1432   -0.2712 H   0  0  0  0  0  0  0  0  0  0  0  0\\n   -2.4916   -2.1538   -0.2658 H   0  0  0  0  0  0  0  0  0  0  0  0\\n   -3.7056   -0.0095   -0.5538 H   0  0  0  0  0  0  0  0  0  0  0  0\\n    4.0520    0.8136    0.3334 H   0  0  0  0  0  0  0  0  0  0  0  0\\n    4.3824    0.0493   -1.0692 H   0  0  0  0  0  0  0  0  0  0  0  0\\n  1  4  1  0\\n  1 19  1  0\\n  1 20  1  0\\n  2  3  1  0\\n  2  4  1  0\\n  2 10  1  0\\n  2 11  1  0\\n  3  5  2  0\\n  3  6  1  0\\n  4 12  1  0\\n  4 13  1  0\\n  5  7  1  0\\n  5 14  1  0\\n  6  8  2  0\\n  6 15  1  0\\n  7  9  2  0\\n  7 16  1  0\\n  8  9  1  0\\n  8 17  1  0\\n  9 18  1  0\\nM  END\\n\",\"mol\");\n",
              "\tviewer_17445646203040366.setStyle({\"stick\": {}});\n",
              "\tviewer_17445646203040366.setBackgroundColor(\"white\");\n",
              "\tviewer_17445646203040366.zoomTo();\n",
              "viewer_17445646203040366.render();\n",
              "});\n",
              "</script>"
            ]
          },
          "metadata": {}
        },
        {
          "output_type": "stream",
          "name": "stdout",
          "text": [
            "Showing: mol_1002.sdf\n"
          ]
        },
        {
          "output_type": "display_data",
          "data": {
            "application/3dmoljs_load.v0": "<div id=\"3dmolviewer_17445646203061867\"  style=\"position: relative; width: 400px; height: 350px;\">\n        <p id=\"3dmolwarning_17445646203061867\" style=\"background-color:#ffcccc;color:black\">3Dmol.js failed to load for some reason.  Please check your browser console for error messages.<br></p>\n        </div>\n<script>\n\nvar loadScriptAsync = function(uri){\n  return new Promise((resolve, reject) => {\n    //this is to ignore the existence of requirejs amd\n    var savedexports, savedmodule;\n    if (typeof exports !== 'undefined') savedexports = exports;\n    else exports = {}\n    if (typeof module !== 'undefined') savedmodule = module;\n    else module = {}\n\n    var tag = document.createElement('script');\n    tag.src = uri;\n    tag.async = true;\n    tag.onload = () => {\n        exports = savedexports;\n        module = savedmodule;\n        resolve();\n    };\n  var firstScriptTag = document.getElementsByTagName('script')[0];\n  firstScriptTag.parentNode.insertBefore(tag, firstScriptTag);\n});\n};\n\nif(typeof $3Dmolpromise === 'undefined') {\n$3Dmolpromise = null;\n  $3Dmolpromise = loadScriptAsync('https://cdnjs.cloudflare.com/ajax/libs/3Dmol/2.4.2/3Dmol-min.js');\n}\n\nvar viewer_17445646203061867 = null;\nvar warn = document.getElementById(\"3dmolwarning_17445646203061867\");\nif(warn) {\n    warn.parentNode.removeChild(warn);\n}\n$3Dmolpromise.then(function() {\nviewer_17445646203061867 = $3Dmol.createViewer(document.getElementById(\"3dmolviewer_17445646203061867\"),{backgroundColor:\"white\"});\nviewer_17445646203061867.zoomTo();\n\tviewer_17445646203061867.addModel(\"1002\\n     RDKit          3D\\n\\n 21 22  0  0  1  0  0  0  0  0999 V2000\\n    1.0500    2.3336   -0.4001 O   0  0  0  0  0  0  0  0  0  0  0  0\\n    3.3533   -1.4673    0.7371 O   0  0  0  0  0  0  0  0  0  0  0  0\\n    1.3755   -1.1240   -0.4644 N   0  0  0  0  0  0  0  0  0  0  0  0\\n    2.4641    0.6454    0.3367 N   0  0  0  0  0  0  0  0  0  0  0  0\\n    0.5798   -0.0035   -0.9039 C   0  0  1  0  0  0  0  0  0  0  0  0\\n   -0.8125   -0.0716   -0.3728 C   0  0  0  0  0  0  0  0  0  0  0  0\\n    1.3622    1.1543   -0.3087 C   0  0  0  0  0  0  0  0  0  0  0  0\\n    2.5017   -0.7294    0.2608 C   0  0  0  0  0  0  0  0  0  0  0  0\\n   -1.8374   -0.5863   -1.1666 C   0  0  0  0  0  0  0  0  0  0  0  0\\n   -1.0895    0.3799    0.9175 C   0  0  0  0  0  0  0  0  0  0  0  0\\n   -3.1394   -0.6495   -0.6701 C   0  0  0  0  0  0  0  0  0  0  0  0\\n   -2.3914    0.3166    1.4142 C   0  0  0  0  0  0  0  0  0  0  0  0\\n   -3.4164   -0.1981    0.6202 C   0  0  0  0  0  0  0  0  0  0  0  0\\n    0.6230    0.0567   -1.9962 H   0  0  0  0  0  0  0  0  0  0  0  0\\n    1.1631   -2.0925   -0.6834 H   0  0  0  0  0  0  0  0  0  0  0  0\\n    3.1569    1.2095    0.8152 H   0  0  0  0  0  0  0  0  0  0  0  0\\n   -1.6338   -0.9426   -2.1729 H   0  0  0  0  0  0  0  0  0  0  0  0\\n   -0.3152    0.7683    1.5727 H   0  0  0  0  0  0  0  0  0  0  0  0\\n   -3.9374   -1.0509   -1.2880 H   0  0  0  0  0  0  0  0  0  0  0  0\\n   -2.6068    0.6636    2.4205 H   0  0  0  0  0  0  0  0  0  0  0  0\\n   -4.4299   -0.2487    1.0074 H   0  0  0  0  0  0  0  0  0  0  0  0\\n  1  7  2  0\\n  2  8  2  0\\n  3  5  1  0\\n  3  8  1  0\\n  3 15  1  0\\n  4  7  1  0\\n  4  8  1  0\\n  4 16  1  0\\n  5  6  1  0\\n  5  7  1  0\\n  5 14  1  6\\n  6  9  2  0\\n  6 10  1  0\\n  9 11  1  0\\n  9 17  1  0\\n 10 12  2  0\\n 10 18  1  0\\n 11 13  2  0\\n 11 19  1  0\\n 12 13  1  0\\n 12 20  1  0\\n 13 21  1  0\\nM  END\\n\",\"mol\");\n\tviewer_17445646203061867.setStyle({\"stick\": {}});\n\tviewer_17445646203061867.setBackgroundColor(\"white\");\n\tviewer_17445646203061867.zoomTo();\nviewer_17445646203061867.render();\n});\n</script>",
            "text/html": [
              "<div id=\"3dmolviewer_17445646203061867\"  style=\"position: relative; width: 400px; height: 350px;\">\n",
              "        <p id=\"3dmolwarning_17445646203061867\" style=\"background-color:#ffcccc;color:black\">3Dmol.js failed to load for some reason.  Please check your browser console for error messages.<br></p>\n",
              "        </div>\n",
              "<script>\n",
              "\n",
              "var loadScriptAsync = function(uri){\n",
              "  return new Promise((resolve, reject) => {\n",
              "    //this is to ignore the existence of requirejs amd\n",
              "    var savedexports, savedmodule;\n",
              "    if (typeof exports !== 'undefined') savedexports = exports;\n",
              "    else exports = {}\n",
              "    if (typeof module !== 'undefined') savedmodule = module;\n",
              "    else module = {}\n",
              "\n",
              "    var tag = document.createElement('script');\n",
              "    tag.src = uri;\n",
              "    tag.async = true;\n",
              "    tag.onload = () => {\n",
              "        exports = savedexports;\n",
              "        module = savedmodule;\n",
              "        resolve();\n",
              "    };\n",
              "  var firstScriptTag = document.getElementsByTagName('script')[0];\n",
              "  firstScriptTag.parentNode.insertBefore(tag, firstScriptTag);\n",
              "});\n",
              "};\n",
              "\n",
              "if(typeof $3Dmolpromise === 'undefined') {\n",
              "$3Dmolpromise = null;\n",
              "  $3Dmolpromise = loadScriptAsync('https://cdnjs.cloudflare.com/ajax/libs/3Dmol/2.4.2/3Dmol-min.js');\n",
              "}\n",
              "\n",
              "var viewer_17445646203061867 = null;\n",
              "var warn = document.getElementById(\"3dmolwarning_17445646203061867\");\n",
              "if(warn) {\n",
              "    warn.parentNode.removeChild(warn);\n",
              "}\n",
              "$3Dmolpromise.then(function() {\n",
              "viewer_17445646203061867 = $3Dmol.createViewer(document.getElementById(\"3dmolviewer_17445646203061867\"),{backgroundColor:\"white\"});\n",
              "viewer_17445646203061867.zoomTo();\n",
              "\tviewer_17445646203061867.addModel(\"1002\\n     RDKit          3D\\n\\n 21 22  0  0  1  0  0  0  0  0999 V2000\\n    1.0500    2.3336   -0.4001 O   0  0  0  0  0  0  0  0  0  0  0  0\\n    3.3533   -1.4673    0.7371 O   0  0  0  0  0  0  0  0  0  0  0  0\\n    1.3755   -1.1240   -0.4644 N   0  0  0  0  0  0  0  0  0  0  0  0\\n    2.4641    0.6454    0.3367 N   0  0  0  0  0  0  0  0  0  0  0  0\\n    0.5798   -0.0035   -0.9039 C   0  0  1  0  0  0  0  0  0  0  0  0\\n   -0.8125   -0.0716   -0.3728 C   0  0  0  0  0  0  0  0  0  0  0  0\\n    1.3622    1.1543   -0.3087 C   0  0  0  0  0  0  0  0  0  0  0  0\\n    2.5017   -0.7294    0.2608 C   0  0  0  0  0  0  0  0  0  0  0  0\\n   -1.8374   -0.5863   -1.1666 C   0  0  0  0  0  0  0  0  0  0  0  0\\n   -1.0895    0.3799    0.9175 C   0  0  0  0  0  0  0  0  0  0  0  0\\n   -3.1394   -0.6495   -0.6701 C   0  0  0  0  0  0  0  0  0  0  0  0\\n   -2.3914    0.3166    1.4142 C   0  0  0  0  0  0  0  0  0  0  0  0\\n   -3.4164   -0.1981    0.6202 C   0  0  0  0  0  0  0  0  0  0  0  0\\n    0.6230    0.0567   -1.9962 H   0  0  0  0  0  0  0  0  0  0  0  0\\n    1.1631   -2.0925   -0.6834 H   0  0  0  0  0  0  0  0  0  0  0  0\\n    3.1569    1.2095    0.8152 H   0  0  0  0  0  0  0  0  0  0  0  0\\n   -1.6338   -0.9426   -2.1729 H   0  0  0  0  0  0  0  0  0  0  0  0\\n   -0.3152    0.7683    1.5727 H   0  0  0  0  0  0  0  0  0  0  0  0\\n   -3.9374   -1.0509   -1.2880 H   0  0  0  0  0  0  0  0  0  0  0  0\\n   -2.6068    0.6636    2.4205 H   0  0  0  0  0  0  0  0  0  0  0  0\\n   -4.4299   -0.2487    1.0074 H   0  0  0  0  0  0  0  0  0  0  0  0\\n  1  7  2  0\\n  2  8  2  0\\n  3  5  1  0\\n  3  8  1  0\\n  3 15  1  0\\n  4  7  1  0\\n  4  8  1  0\\n  4 16  1  0\\n  5  6  1  0\\n  5  7  1  0\\n  5 14  1  6\\n  6  9  2  0\\n  6 10  1  0\\n  9 11  1  0\\n  9 17  1  0\\n 10 12  2  0\\n 10 18  1  0\\n 11 13  2  0\\n 11 19  1  0\\n 12 13  1  0\\n 12 20  1  0\\n 13 21  1  0\\nM  END\\n\",\"mol\");\n",
              "\tviewer_17445646203061867.setStyle({\"stick\": {}});\n",
              "\tviewer_17445646203061867.setBackgroundColor(\"white\");\n",
              "\tviewer_17445646203061867.zoomTo();\n",
              "viewer_17445646203061867.render();\n",
              "});\n",
              "</script>"
            ]
          },
          "metadata": {}
        }
      ]
    },
    {
      "cell_type": "code",
      "source": [
        "#!pip install torch-geometric torch_scatter"
      ],
      "metadata": {
        "id": "9VRkQmRkzZtN"
      },
      "execution_count": 7,
      "outputs": []
    },
    {
      "cell_type": "code",
      "source": [
        "import os\n",
        "import torch\n",
        "import numpy as np\n",
        "import matplotlib.pyplot as plt\n",
        "from torch import nn\n",
        "from torch.utils.data import Dataset, DataLoader\n",
        "from rdkit import Chem\n",
        "from rdkit.Chem import AllChem\n",
        "from rdkit.Chem import Draw\n",
        "from rdkit.Chem.Draw import MolToFile\n",
        "import py3Dmol\n",
        "from tqdm import tqdm\n",
        "from torch.nn import functional as F\n",
        "\n",
        "# Define atom types and their properties\n",
        "atom_types = ['C', 'N', 'O', 'F', 'S', 'Cl', 'P', 'Br', 'I']\n",
        "atom_type_to_idx = {atom: idx for idx, atom in enumerate(atom_types)}\n",
        "idx_to_atom_type = {idx: atom for atom, idx in atom_type_to_idx.items()}\n"
      ],
      "metadata": {
        "id": "qwhx7y3AD24y"
      },
      "execution_count": 8,
      "outputs": []
    },
    {
      "cell_type": "markdown",
      "source": [
        "MoleculeDataset Class\n",
        "\n",
        "This class handles loading molecular data from SDF files:\n",
        "\n",
        "It scans a directory for SDF files\n",
        "For each molecule in the files, it:\n",
        "\n",
        "Extracts atom types (C, N, O, etc.)\n",
        "\n",
        "Gets 3D coordinates for each atom\n",
        "\n",
        "Converts these to PyTorch tensors\n",
        "\n",
        "Centers the molecule coordinates\n",
        "(ensuring translation invariance)\n",
        "\n",
        "Stores the processed molecule data"
      ],
      "metadata": {
        "id": "FBHCPs82D94J"
      }
    },
    {
      "cell_type": "code",
      "source": [
        "class MoleculeDataset(Dataset):\n",
        "    def __init__(self, sdf_dir):\n",
        "        self.sdf_dir = sdf_dir\n",
        "        self.file_list = [f for f in os.listdir(sdf_dir) if f.endswith('.sdf')]\n",
        "        self.molecules = []\n",
        "        self.process_molecules()\n",
        "\n",
        "    def process_molecules(self):\n",
        "        print(f\"Processing {len(self.file_list)} SDF files...\")\n",
        "        for file_name in tqdm(self.file_list):\n",
        "            file_path = os.path.join(self.sdf_dir, file_name)\n",
        "            suppl = Chem.SDMolSupplier(file_path)\n",
        "\n",
        "            for mol in suppl:\n",
        "                if mol is None:\n",
        "                    continue\n",
        "\n",
        "                # Get atom types and coordinates\n",
        "                atom_types_list = []\n",
        "                atom_coords = []\n",
        "\n",
        "                for atom in mol.GetAtoms():\n",
        "                    symbol = atom.GetSymbol()\n",
        "                    if symbol in atom_type_to_idx:\n",
        "                        atom_types_list.append(atom_type_to_idx[symbol])\n",
        "                    else:\n",
        "                        # Skip atoms not in our predefined types\n",
        "                        continue\n",
        "\n",
        "                # Get 3D coordinates (use conformers)\n",
        "                conformer = mol.GetConformer()\n",
        "                for i in range(mol.GetNumAtoms()):\n",
        "                    pos = conformer.GetAtomPosition(i)\n",
        "                    atom_coords.append([pos.x, pos.y, pos.z])\n",
        "\n",
        "                # Skip if we don't have coordinates for all atoms\n",
        "                if len(atom_coords) != len(atom_types_list):\n",
        "                    continue\n",
        "\n",
        "                # Convert to tensors\n",
        "                atom_types_tensor = torch.tensor(atom_types_list, dtype=torch.long)\n",
        "                atom_coords_tensor = torch.tensor(atom_coords, dtype=torch.float)\n",
        "\n",
        "                # Center the molecule (translation invariance)\n",
        "                center = atom_coords_tensor.mean(dim=0, keepdim=True)\n",
        "                atom_coords_tensor = atom_coords_tensor - center\n",
        "\n",
        "                self.molecules.append({\n",
        "                    'atom_types': atom_types_tensor,\n",
        "                    'atom_coords': atom_coords_tensor,\n",
        "                    'mol': mol  # Keep the original molecule for visualization\n",
        "                })\n",
        "\n",
        "        print(f\"Successfully processed {len(self.molecules)} molecules\")\n",
        "\n",
        "    def __len__(self):\n",
        "        return len(self.molecules)\n",
        "\n",
        "    def __getitem__(self, idx):\n",
        "        return self.molecules[idx]\n",
        "\n"
      ],
      "metadata": {
        "id": "95BPb4z1D5ow"
      },
      "execution_count": 9,
      "outputs": []
    },
    {
      "cell_type": "markdown",
      "source": [
        "Edge Creation Function\n",
        "create_edge_indices() determines which atoms are connected based on their physical proximity. This helps model molecular bonds by identifying atoms that are close enough to potentially share a bond."
      ],
      "metadata": {
        "id": "dAia567-ERl8"
      }
    },
    {
      "cell_type": "code",
      "source": [
        "# Function to create edge indices for each molecule\n",
        "def create_edge_indices(coords, max_distance=4.0):\n",
        "    \"\"\"Create edge indices based on distance threshold\"\"\"\n",
        "    n_atoms = coords.shape[0]\n",
        "    edge_indices = []\n",
        "\n",
        "    for i in range(n_atoms):\n",
        "        for j in range(n_atoms):\n",
        "            if i != j:  # Avoid self-loops\n",
        "                # Calculate distance between atoms\n",
        "                dist = torch.norm(coords[i] - coords[j])\n",
        "                if dist < max_distance:\n",
        "                    edge_indices.append([i, j])\n",
        "\n",
        "    if not edge_indices:\n",
        "        # If no edges, create at least one dummy edge to avoid errors\n",
        "        edge_indices.append([0, 0])\n",
        "\n",
        "    return torch.tensor(edge_indices, dtype=torch.long).t()  # Shape [2, num_edges]\n",
        "\n"
      ],
      "metadata": {
        "id": "Zz_CkIzxEJvr"
      },
      "execution_count": 10,
      "outputs": []
    },
    {
      "cell_type": "markdown",
      "source": [
        "Collate Function\n",
        "collate_fn() handles batching of molecules with different numbers of atoms:\n",
        "\n",
        "It pads tensors to the same size\n",
        "Creates masks to identify which positions contain actual atoms vs. padding"
      ],
      "metadata": {
        "id": "TK2-iYaPEQmb"
      }
    },
    {
      "cell_type": "code",
      "source": [
        "\n",
        "# Collate function for batching\n",
        "def collate_fn(batch):\n",
        "    atom_types = [item['atom_types'] for item in batch]\n",
        "    atom_coords = [item['atom_coords'] for item in batch]\n",
        "    mols = [item['mol'] for item in batch]\n",
        "\n",
        "    # Create masks for padding\n",
        "    max_atoms = max(len(types) for types in atom_types)\n",
        "    batch_size = len(batch)\n",
        "\n",
        "    # Initialize padded tensors\n",
        "    padded_types = torch.zeros((batch_size, max_atoms), dtype=torch.long)\n",
        "    padded_coords = torch.zeros((batch_size, max_atoms, 3), dtype=torch.float)\n",
        "    masks = torch.zeros((batch_size, max_atoms), dtype=torch.bool)\n",
        "\n",
        "    # Fill in data with padding\n",
        "    for i, (types, coords) in enumerate(zip(atom_types, atom_coords)):\n",
        "        n_atoms = len(types)\n",
        "        padded_types[i, :n_atoms] = types\n",
        "        padded_coords[i, :n_atoms] = coords\n",
        "        masks[i, :n_atoms] = 1  # Mark actual atoms as True\n",
        "\n",
        "    return {\n",
        "        'atom_types': padded_types,\n",
        "        'atom_coords': padded_coords,\n",
        "        'masks': masks,\n",
        "        'mols': mols\n",
        "    }\n"
      ],
      "metadata": {
        "id": "WtBPeKMzEagy"
      },
      "execution_count": 11,
      "outputs": []
    },
    {
      "cell_type": "markdown",
      "source": [
        "EquivariantLayer Class:\n",
        "This is a neural network layer that respects the physical properties of 3D space:\n",
        "\n",
        "It processes node features through MLPs (Multi-Layer Perceptrons)\n",
        "\n",
        "Computes messages between nodes based on their features and distances\n",
        "\n",
        "Updates node features based on aggregated messages\n",
        "\n",
        "Ensures the operations respect physical invariances"
      ],
      "metadata": {
        "id": "FOlitEtDEfYz"
      }
    },
    {
      "cell_type": "code",
      "source": [
        "\n",
        "# E(3) Equivariant Layer using simple custom message passing\n",
        "class EquivariantLayer(nn.Module):\n",
        "    def __init__(self, hidden_dim):\n",
        "        super(EquivariantLayer, self).__init__()\n",
        "\n",
        "        self.node_mlp = nn.Sequential(\n",
        "            nn.Linear(hidden_dim, hidden_dim),\n",
        "            nn.SiLU(),\n",
        "            nn.Linear(hidden_dim, hidden_dim)\n",
        "        )\n",
        "\n",
        "        self.message_mlp = nn.Sequential(\n",
        "            nn.Linear(hidden_dim * 2 + 1, hidden_dim),  # 2*node_feat + distance\n",
        "            nn.SiLU(),\n",
        "            nn.Linear(hidden_dim, hidden_dim)\n",
        "        )\n",
        "\n",
        "        self.update_mlp = nn.Sequential(\n",
        "            nn.Linear(hidden_dim * 2, hidden_dim),  # original + messages\n",
        "            nn.SiLU(),\n",
        "            nn.Linear(hidden_dim, hidden_dim)\n",
        "        )\n",
        "\n",
        "        self.coord_mlp = nn.Sequential(\n",
        "            nn.Linear(hidden_dim, hidden_dim),\n",
        "            nn.SiLU(),\n",
        "            nn.Linear(hidden_dim, 1, bias=False)\n",
        "        )\n",
        "\n",
        "    def forward(self, x, coords, mask=None):\n",
        "        \"\"\"\n",
        "        Args:\n",
        "            x: Node features [batch_size, n_nodes, hidden_dim]\n",
        "            coords: Node coordinates [batch_size, n_nodes, 3]\n",
        "            mask: Node mask [batch_size, n_nodes]\n",
        "        \"\"\"\n",
        "        batch_size, n_nodes, _ = x.shape\n",
        "\n",
        "        # Initial node transformation\n",
        "        h = self.node_mlp(x)\n",
        "\n",
        "        # Compute pairwise distances and messages\n",
        "        messages = torch.zeros_like(h)\n",
        "\n",
        "        for b in range(batch_size):\n",
        "            valid_mask = mask[b] if mask is not None else torch.ones(n_nodes, dtype=torch.bool, device=x.device)\n",
        "            valid_idx = torch.where(valid_mask)[0]\n",
        "            n_valid = len(valid_idx)\n",
        "\n",
        "            if n_valid <= 1:\n",
        "                continue  # Skip if only one or no valid nodes\n",
        "\n",
        "            # Only process valid nodes\n",
        "            h_valid = h[b, valid_idx]\n",
        "            coords_valid = coords[b, valid_idx]\n",
        "\n",
        "            # Compute all pairwise messages between valid nodes\n",
        "            for i in range(n_valid):\n",
        "                for j in range(n_valid):\n",
        "                    if i != j:  # Avoid self-loops\n",
        "                        # Compute distance\n",
        "                        rel_pos = coords_valid[i] - coords_valid[j]\n",
        "                        dist = torch.norm(rel_pos)\n",
        "\n",
        "                        # Prepare message inputs\n",
        "                        edge_feat = torch.cat([h_valid[i], h_valid[j], dist.unsqueeze(0)])\n",
        "\n",
        "                        # Compute message\n",
        "                        msg = self.message_mlp(edge_feat)\n",
        "\n",
        "                        # Aggregate message\n",
        "                        messages[b, valid_idx[i]] += msg\n",
        "\n",
        "        # Update node features\n",
        "        x_new = self.update_mlp(torch.cat([x, messages], dim=-1))\n",
        "\n",
        "        # Apply mask if provided\n",
        "        if mask is not None:\n",
        "            x_new = x_new * mask.unsqueeze(-1)\n",
        "\n",
        "        return x_new, coords\n",
        "\n"
      ],
      "metadata": {
        "id": "6RuwisAzEf9j"
      },
      "execution_count": 12,
      "outputs": []
    },
    {
      "cell_type": "markdown",
      "source": [
        "DiffusionModel Class\n",
        "The core neural network model that:\n",
        "\n",
        "Embeds atom types into high-dimensional vectors\n",
        "\n",
        "Embeds timesteps (for the diffusion process)\n",
        "\n",
        "Processes features through equivariant layers\n",
        "\n",
        "Outputs:\n",
        "\n",
        "Predicted noise in atom coordinates\n",
        "\n",
        "Predictions for atom types"
      ],
      "metadata": {
        "id": "XY3vZfPxEv_l"
      }
    },
    {
      "cell_type": "code",
      "source": [
        "# Diffusion Model\n",
        "class DiffusionModel(nn.Module):\n",
        "    def __init__(self, node_features=len(atom_types), hidden_dim=128, n_layers=4):\n",
        "        super(DiffusionModel, self).__init__()\n",
        "\n",
        "        # Embedding for atom types\n",
        "        self.atom_embedding = nn.Embedding(node_features, hidden_dim)\n",
        "\n",
        "        # Timestep embedding\n",
        "        self.time_embedding = nn.Sequential(\n",
        "            nn.Linear(1, hidden_dim),\n",
        "            nn.SiLU(),\n",
        "            nn.Linear(hidden_dim, hidden_dim)\n",
        "        )\n",
        "\n",
        "        # Equivariant layers\n",
        "        self.layers = nn.ModuleList()\n",
        "        for _ in range(n_layers):\n",
        "            self.layers.append(EquivariantLayer(hidden_dim))\n",
        "\n",
        "        # Output heads\n",
        "        self.pos_head = nn.Sequential(\n",
        "            nn.Linear(hidden_dim, hidden_dim),\n",
        "            nn.SiLU(),\n",
        "            nn.Linear(hidden_dim, 3)  # (x, y, z) coordinates\n",
        "        )\n",
        "\n",
        "        self.atom_type_head = nn.Sequential(\n",
        "            nn.Linear(hidden_dim, hidden_dim),\n",
        "            nn.SiLU(),\n",
        "            nn.Linear(hidden_dim, node_features)  # Atom type logits\n",
        "        )\n",
        "\n",
        "    def forward(self, atom_types, atom_coords, t, masks=None):\n",
        "        batch_size, n_atoms = atom_types.shape\n",
        "\n",
        "        # Embed atom types\n",
        "        x = self.atom_embedding(atom_types)  # [batch, n_atoms, hidden_dim]\n",
        "\n",
        "        # Embed timestep\n",
        "        time_emb = self.time_embedding(t.unsqueeze(-1))  # [batch, hidden_dim]\n",
        "\n",
        "        # Add time embedding to node features\n",
        "        x = x + time_emb.unsqueeze(1)  # [batch, n_atoms, hidden_dim]\n",
        "\n",
        "        # Process through equivariant layers\n",
        "        for layer in self.layers:\n",
        "            x, _ = layer(x, atom_coords, masks)\n",
        "\n",
        "        # Predict noise in coordinates\n",
        "        pos_noise = self.pos_head(x)  # [batch, n_atoms, 3]\n",
        "\n",
        "        # Predict atom types\n",
        "        atom_logits = self.atom_type_head(x)  # [batch, n_atoms, n_atom_types]\n",
        "\n",
        "        if masks is not None:\n",
        "            # Apply mask to only predict for actual atoms\n",
        "            pos_noise = pos_noise * masks.unsqueeze(-1)\n",
        "            atom_logits = atom_logits * masks.unsqueeze(-1)\n",
        "\n",
        "        return pos_noise, atom_logits\n",
        "\n"
      ],
      "metadata": {
        "id": "qmdchx8IE_sC"
      },
      "execution_count": 13,
      "outputs": []
    },
    {
      "cell_type": "markdown",
      "source": [
        "MoleculeDiffusion Class\n",
        "Implements the diffusion process:\n",
        "\n",
        "Forward diffusion: diffuse() gradually adds noise to molecule coordinates according to a schedule\n",
        "\n",
        "Reverse diffusion: sample() generates new molecules by iteratively denoising random coordinates"
      ],
      "metadata": {
        "id": "mbNLFWz5FIrR"
      }
    },
    {
      "cell_type": "code",
      "source": [
        "# Simplified diffusion process\n",
        "class MoleculeDiffusion:\n",
        "    def __init__(self, model, n_steps=1000, beta_min=1e-4, beta_max=0.02):\n",
        "        self.model = model\n",
        "        self.n_steps = n_steps\n",
        "        self.beta_min = beta_min\n",
        "        self.beta_max = beta_max\n",
        "\n",
        "        # Precompute noise schedule\n",
        "        self.betas = torch.linspace(beta_min, beta_max, n_steps)\n",
        "        self.alphas = 1 - self.betas\n",
        "        self.alpha_cumprod = torch.cumprod(self.alphas, dim=0)\n",
        "\n",
        "    def diffuse(self, atom_coords, t):\n",
        "        \"\"\"Add noise to coordinates according to diffusion schedule\"\"\"\n",
        "        batch_size = atom_coords.shape[0]\n",
        "        self.alpha_cumprod = self.alpha_cumprod.to(device)\n",
        "        # Convert t to integer indices\n",
        "        t_idx = (t * self.n_steps).long().clamp(0, self.n_steps - 1)\n",
        "        t_idx =t_idx.to(device)\n",
        "        # Get alpha_cumprod for the given timestep\n",
        "        a_t = self.alpha_cumprod[t_idx].view(batch_size, 1, 1)\n",
        "\n",
        "        # Sample noise\n",
        "        noise = torch.randn_like(atom_coords)\n",
        "\n",
        "        # Add noise to coordinates\n",
        "        noisy_coords = torch.sqrt(a_t) * atom_coords + torch.sqrt(1 - a_t) * noise\n",
        "\n",
        "        return noisy_coords, noise\n",
        "\n",
        "    def sample(self, batch_size, n_atoms, device='cpu'):\n",
        "        \"\"\"Generate new molecules\"\"\"\n",
        "        # Start from random noise\n",
        "        atom_coords = torch.randn(batch_size, n_atoms, 3, device=device)\n",
        "        atom_types = torch.zeros(batch_size, n_atoms, dtype=torch.long, device=device)\n",
        "\n",
        "        # Generate masks (all True for simplicity)\n",
        "        masks = torch.ones(batch_size, n_atoms, dtype=torch.bool, device=device)\n",
        "\n",
        "        # Iteratively denoise\n",
        "        for i in tqdm(range(self.n_steps - 1, 0, -1)):\n",
        "            t = torch.ones(batch_size, device=device) * i / self.n_steps\n",
        "\n",
        "            with torch.no_grad():\n",
        "                # Predict noise\n",
        "                pred_noise, atom_logits = self.model(atom_types, atom_coords, t, masks)\n",
        "\n",
        "                # Update coordinates\n",
        "                alpha = self.alphas[i]\n",
        "                alpha_cumprod = self.alpha_cumprod[i]\n",
        "                beta = self.betas[i]\n",
        "\n",
        "                if i > 1:\n",
        "                    noise = torch.randn_like(atom_coords)\n",
        "                else:\n",
        "                    noise = torch.zeros_like(atom_coords)\n",
        "\n",
        "                # Update coordinates\n",
        "                atom_coords = (atom_coords - beta * pred_noise / torch.sqrt(1 - alpha_cumprod)) / torch.sqrt(alpha)\n",
        "                atom_coords = atom_coords + torch.sqrt(beta) * noise\n",
        "\n",
        "                # Update atom types (use softmax to get probabilities)\n",
        "                if i < self.n_steps // 2:  # Only update types in later steps\n",
        "                    atom_probs = F.softmax(atom_logits, dim=-1)\n",
        "                    atom_types = torch.argmax(atom_probs, dim=-1)\n",
        "\n",
        "        return atom_coords, atom_types, masks\n"
      ],
      "metadata": {
        "id": "GafASvDsFQU3"
      },
      "execution_count": 20,
      "outputs": []
    },
    {
      "cell_type": "markdown",
      "source": [
        "The train() function handles model training:\n",
        "\n",
        "For each batch of molecules:\n",
        "\n",
        "Adds noise to coordinates based on random timesteps\n",
        "\n",
        "Passes through the model to predict the noise and atom types\n",
        "\n",
        "Calculates losses (coordinate loss and atom type loss)\n",
        "\n",
        "Updates the model parameters using backpropagation"
      ],
      "metadata": {
        "id": "tM_EotM_FUvY"
      }
    },
    {
      "cell_type": "code",
      "source": [
        "\n",
        "# Training function\n",
        "def train(model, diffusion, dataloader, optimizer, device, epochs=2):\n",
        "    model.train()\n",
        "\n",
        "    for epoch in range(epochs):\n",
        "        total_loss = 0\n",
        "        coord_loss = 0\n",
        "        type_loss = 0\n",
        "\n",
        "        for batch in tqdm(dataloader, desc=f\"Epoch {epoch+1}/{epochs}\"):\n",
        "            atom_types = batch['atom_types'].to(device)\n",
        "            atom_coords = batch['atom_coords'].to(device)\n",
        "            masks = batch['masks'].to(device)\n",
        "\n",
        "            batch_size = atom_types.shape[0]\n",
        "\n",
        "            # Sample random timesteps\n",
        "            t = torch.rand(batch_size, device=device)\n",
        "\n",
        "            # Add noise to coordinates\n",
        "            noisy_coords, noise = diffusion.diffuse(atom_coords, t)\n",
        "\n",
        "            # Predict noise\n",
        "            pred_noise, atom_logits = model(atom_types, noisy_coords, t, masks)\n",
        "\n",
        "            # Calculate coordinate loss (MSE on noise prediction)\n",
        "            c_loss = F.mse_loss(pred_noise, noise, reduction='none')\n",
        "            c_loss = (c_loss * masks.unsqueeze(-1)).sum() / (masks.sum() * 3 + 1e-8)\n",
        "\n",
        "            # Calculate atom type loss (cross entropy) - FIXED SECTION\n",
        "            atom_logits_flat = atom_logits.view(-1, len(atom_type_to_idx))  # Use the correct number of atom types\n",
        "            atom_types_flat = atom_types.view(-1)\n",
        "            mask_flat = masks.view(-1)\n",
        "\n",
        "            # Only calculate loss for actual atoms (where mask is True)\n",
        "            valid_indices = torch.where(mask_flat)[0]\n",
        "            if len(valid_indices) > 0:\n",
        "                # Make sure all indices are within bounds\n",
        "                valid_indices = valid_indices[valid_indices < atom_logits_flat.shape[0]]\n",
        "                if len(valid_indices) > 0:\n",
        "                    valid_logits = atom_logits_flat[valid_indices]\n",
        "                    valid_types = atom_types_flat[valid_indices]\n",
        "\n",
        "                    # Ensure target values are within the valid range for the number of atom types\n",
        "                    if torch.max(valid_types) >= len(atom_type_to_idx):\n",
        "                        print(f\"Warning: Found atom type index {torch.max(valid_types).item()} which is >= number of atom types {len(atom_type_to_idx)}\")\n",
        "                        valid_types = torch.clamp(valid_types, 0, len(atom_type_to_idx) - 1)\n",
        "\n",
        "                    t_loss = F.cross_entropy(valid_logits, valid_types)\n",
        "                else:\n",
        "                    t_loss = torch.tensor(0.0, device=device)\n",
        "            else:\n",
        "                t_loss = torch.tensor(0.0, device=device)\n",
        "\n",
        "            # Total loss\n",
        "            loss = c_loss + t_loss\n",
        "\n",
        "            # Backward pass\n",
        "            optimizer.zero_grad()\n",
        "            loss.backward()\n",
        "            optimizer.step()\n",
        "\n",
        "            total_loss += loss.item()\n",
        "            coord_loss += c_loss.item()\n",
        "            type_loss += t_loss.item()\n",
        "\n",
        "        # Print statistics\n",
        "        avg_loss = total_loss / len(dataloader)\n",
        "        avg_coord_loss = coord_loss / len(dataloader)\n",
        "        avg_type_loss = type_loss / len(dataloader)\n",
        "        print(f\"Epoch {epoch+1}/{epochs}, Loss: {avg_loss:.4f}, Coord Loss: {avg_coord_loss:.4f}, Type Loss: {avg_type_loss:.4f}\")\n",
        "\n",
        "    return model\n",
        "\n"
      ],
      "metadata": {
        "id": "XkZfQcFJFeDr"
      },
      "execution_count": 15,
      "outputs": []
    },
    {
      "cell_type": "code",
      "source": [
        "# Generate and visualize molecules\n",
        "def visualize_molecules(atom_coords, atom_types, n_mols=3):\n",
        "    # Convert generated atom types and coordinates to RDKit molecules\n",
        "    molecules = []\n",
        "\n",
        "    for i in range(min(n_mols, len(atom_coords))):\n",
        "        coords = atom_coords[i].detach().cpu().numpy()\n",
        "        types = atom_types[i].detach().cpu().numpy()\n",
        "\n",
        "        # Create empty molecule\n",
        "        mol = Chem.RWMol()\n",
        "\n",
        "        # Add atoms\n",
        "        atom_objs = []\n",
        "        for j, atom_type in enumerate(types):\n",
        "            if atom_type < len(idx_to_atom_type):\n",
        "                atom_symbol = idx_to_atom_type[atom_type.item()]\n",
        "                atom = Chem.Atom(atom_symbol)\n",
        "                atom_idx = mol.AddAtom(atom)\n",
        "                atom_objs.append(atom_idx)\n",
        "\n",
        "        # Guesstimate bonds based on distance\n",
        "        conf = Chem.Conformer(mol.GetNumAtoms())\n",
        "        for j in range(mol.GetNumAtoms()):\n",
        "            #conf.SetAtomPosition(j, (coords[j]))\n",
        "            x, y, z = coords[j]\n",
        "            conf.SetAtomPosition(j, Chem.rdGeometry.Point3D(float(x), float(y), float(z)))\n",
        "\n",
        "\n",
        "        mol.AddConformer(conf)\n",
        "\n",
        "        # Add bonds based on distance for dimension 0 with size 243\n",
        "        for j in range(mol.GetNumAtoms()):\n",
        "            for k in range(j + 1, mol.GetNumAtoms()):\n",
        "                dist = np.linalg.norm(coords[j] - coords[k])\n",
        "\n",
        "                # Simplified bond creation based on distance\n",
        "                if dist < 1.7:  # Typical bond length\n",
        "                    mol.AddBond(j, k, Chem.BondType.SINGLE)\n",
        "\n",
        "        # Convert to molecule\n",
        "        try:\n",
        "            molecule = mol.GetMol()\n",
        "            # Try to sanitize and optimize\n",
        "            Chem.SanitizeMol(molecule)\n",
        "            molecules.append(molecule)\n",
        "        except Exception as e:\n",
        "            print(f\"Failed to create molecule {i}: {str(e)}\")\n",
        "\n",
        "    return molecules\n",
        "\n",
        "# Interactive 3D visualization with py3Dmol\n",
        "def display_3d_molecules(molecules, size=(400, 400), style=\"stick\"):\n",
        "    if not molecules:\n",
        "        print(\"No valid molecules to display\")\n",
        "        return\n",
        "\n",
        "    for i, mol in enumerate(molecules):\n",
        "        viewer = py3Dmol.view(width=size[0], height=size[1])\n",
        "\n",
        "        # Convert to mol block\n",
        "        mol_block = Chem.MolToMolBlock(mol)\n",
        "        viewer.addModel(mol_block, \"mol\")\n",
        "\n",
        "        # Set visualization style\n",
        "        viewer.setStyle({style:{}})\n",
        "        viewer.zoomTo()\n",
        "        #viewer.show()\n",
        "        view_mol(mol).show()\n",
        "        print(f\"Molecule {i+1}\")\n",
        "\n"
      ],
      "metadata": {
        "id": "5XZcjB9SzBs5"
      },
      "execution_count": 30,
      "outputs": []
    },
    {
      "cell_type": "code",
      "source": [
        "\n",
        "device = torch.device(\"cuda\" if torch.cuda.is_available() else \"cpu\")\n",
        "\n",
        "    # Load dataset\n",
        "data_dir = \"Molecules\"\n",
        "dataset = MoleculeDataset(data_dir)\n",
        "\n",
        "    # Create dataloader\n",
        "batch_size = 128\n",
        "dataloader = DataLoader(\n",
        "        dataset,\n",
        "        batch_size=batch_size,\n",
        "        shuffle=True,\n",
        "        collate_fn=collate_fn,\n",
        "        num_workers=4\n",
        ")\n",
        "\n",
        "    # Initialize model\n",
        "model = DiffusionModel().to(device)\n",
        "\n",
        "    # Initialize diffusion process\n",
        "diffusion = MoleculeDiffusion(model)\n",
        "\n",
        "    # Initialize optimizer\n",
        "optimizer = torch.optim.Adam(model.parameters(), lr=0.002)\n",
        "\n",
        "    # Train model\n",
        "model = train(model, diffusion, dataloader, optimizer, device, epochs=1)\n"
      ],
      "metadata": {
        "id": "oPjMZdMizBwE",
        "outputId": "131f5c2f-9ab1-424d-d9df-531d8ece04d5",
        "colab": {
          "base_uri": "https://localhost:8080/"
        }
      },
      "execution_count": 21,
      "outputs": [
        {
          "output_type": "stream",
          "name": "stdout",
          "text": [
            "Processing 934 SDF files...\n"
          ]
        },
        {
          "output_type": "stream",
          "name": "stderr",
          "text": [
            "100%|██████████| 934/934 [00:00<00:00, 1994.86it/s]\n"
          ]
        },
        {
          "output_type": "stream",
          "name": "stdout",
          "text": [
            "Successfully processed 929 molecules\n"
          ]
        },
        {
          "output_type": "stream",
          "name": "stderr",
          "text": [
            "Epoch 1/1: 100%|██████████| 8/8 [14:52<00:00, 111.53s/it]\n"
          ]
        },
        {
          "output_type": "stream",
          "name": "stdout",
          "text": [
            "Epoch 1/1, Loss: 2.8779, Coord Loss: 1.2072, Type Loss: 1.6707\n"
          ]
        }
      ]
    },
    {
      "cell_type": "code",
      "source": [
        "    # Generate new molecules\n",
        "print(\"Generating new molecules...\")\n",
        "atom_coords, atom_types, masks = diffusion.sample(\n",
        "        batch_size=10,\n",
        "        n_atoms=8,  # Average small molecule size\n",
        "        device=device\n",
        ")"
      ],
      "metadata": {
        "id": "1tPFIy3LzB41",
        "outputId": "4f404de7-0d9d-4c46-eb3f-9b38b337dc83",
        "colab": {
          "base_uri": "https://localhost:8080/"
        }
      },
      "execution_count": 23,
      "outputs": [
        {
          "output_type": "stream",
          "name": "stdout",
          "text": [
            "Generating new molecules...\n"
          ]
        },
        {
          "output_type": "stream",
          "name": "stderr",
          "text": [
            "100%|██████████| 999/999 [11:48<00:00,  1.41it/s]\n"
          ]
        }
      ]
    },
    {
      "cell_type": "code",
      "source": [
        "    # Visualize generated molecules\n",
        "molecules = visualize_molecules(atom_coords, atom_types)"
      ],
      "metadata": {
        "id": "awdDqyuqCcnl"
      },
      "execution_count": 28,
      "outputs": []
    },
    {
      "cell_type": "code",
      "source": [
        "display_3d_molecules(molecules)"
      ],
      "metadata": {
        "id": "oklsqMLTy-bG",
        "outputId": "b51e3835-d3da-485e-d78e-982163236974",
        "colab": {
          "base_uri": "https://localhost:8080/",
          "height": 1000
        }
      },
      "execution_count": 31,
      "outputs": [
        {
          "output_type": "display_data",
          "data": {
            "application/3dmoljs_load.v0": "<div id=\"3dmolviewer_17445684096860511\"  style=\"position: relative; width: 400px; height: 350px;\">\n        <p id=\"3dmolwarning_17445684096860511\" style=\"background-color:#ffcccc;color:black\">3Dmol.js failed to load for some reason.  Please check your browser console for error messages.<br></p>\n        </div>\n<script>\n\nvar loadScriptAsync = function(uri){\n  return new Promise((resolve, reject) => {\n    //this is to ignore the existence of requirejs amd\n    var savedexports, savedmodule;\n    if (typeof exports !== 'undefined') savedexports = exports;\n    else exports = {}\n    if (typeof module !== 'undefined') savedmodule = module;\n    else module = {}\n\n    var tag = document.createElement('script');\n    tag.src = uri;\n    tag.async = true;\n    tag.onload = () => {\n        exports = savedexports;\n        module = savedmodule;\n        resolve();\n    };\n  var firstScriptTag = document.getElementsByTagName('script')[0];\n  firstScriptTag.parentNode.insertBefore(tag, firstScriptTag);\n});\n};\n\nif(typeof $3Dmolpromise === 'undefined') {\n$3Dmolpromise = null;\n  $3Dmolpromise = loadScriptAsync('https://cdnjs.cloudflare.com/ajax/libs/3Dmol/2.4.2/3Dmol-min.js');\n}\n\nvar viewer_17445684096860511 = null;\nvar warn = document.getElementById(\"3dmolwarning_17445684096860511\");\nif(warn) {\n    warn.parentNode.removeChild(warn);\n}\n$3Dmolpromise.then(function() {\nviewer_17445684096860511 = $3Dmol.createViewer(document.getElementById(\"3dmolviewer_17445684096860511\"),{backgroundColor:\"white\"});\nviewer_17445684096860511.zoomTo();\n\tviewer_17445684096860511.addModel(\"\\n     RDKit          3D\\n\\n  8  0  0  0  0  0  0  0  0  0999 V2000\\n -120.5854   58.7250   92.2267 C   0  0  0  0  0  0  0  0  0  0  0  0\\n -220.5867 -782.2896  -93.1929 C   0  0  0  0  0  0  0  0  0  0  0  0\\n   20.8018 -144.2113  234.4239 C   0  0  0  0  0  0  0  0  0  0  0  0\\n -150.8511    1.6033   26.9562 C   0  0  0  0  0  0  0  0  0  0  0  0\\n  -89.5700  237.3757 -145.6714 C   0  0  0  0  0  0  0  0  0  0  0  0\\n  -54.1367    0.1248  152.8107 C   0  0  0  0  0  0  0  0  0  0  0  0\\n -138.7718  321.2000 -145.2560 C   0  0  0  0  0  0  0  0  0  0  0  0\\n  -38.8707  -38.9859  -48.1307 C   0  0  0  0  0  0  0  0  0  0  0  0\\nM  END\\n\",\"mol\");\n\tviewer_17445684096860511.setStyle({\"stick\": {}});\n\tviewer_17445684096860511.setBackgroundColor(\"white\");\n\tviewer_17445684096860511.zoomTo();\nviewer_17445684096860511.render();\n});\n</script>",
            "text/html": [
              "<div id=\"3dmolviewer_17445684096860511\"  style=\"position: relative; width: 400px; height: 350px;\">\n",
              "        <p id=\"3dmolwarning_17445684096860511\" style=\"background-color:#ffcccc;color:black\">3Dmol.js failed to load for some reason.  Please check your browser console for error messages.<br></p>\n",
              "        </div>\n",
              "<script>\n",
              "\n",
              "var loadScriptAsync = function(uri){\n",
              "  return new Promise((resolve, reject) => {\n",
              "    //this is to ignore the existence of requirejs amd\n",
              "    var savedexports, savedmodule;\n",
              "    if (typeof exports !== 'undefined') savedexports = exports;\n",
              "    else exports = {}\n",
              "    if (typeof module !== 'undefined') savedmodule = module;\n",
              "    else module = {}\n",
              "\n",
              "    var tag = document.createElement('script');\n",
              "    tag.src = uri;\n",
              "    tag.async = true;\n",
              "    tag.onload = () => {\n",
              "        exports = savedexports;\n",
              "        module = savedmodule;\n",
              "        resolve();\n",
              "    };\n",
              "  var firstScriptTag = document.getElementsByTagName('script')[0];\n",
              "  firstScriptTag.parentNode.insertBefore(tag, firstScriptTag);\n",
              "});\n",
              "};\n",
              "\n",
              "if(typeof $3Dmolpromise === 'undefined') {\n",
              "$3Dmolpromise = null;\n",
              "  $3Dmolpromise = loadScriptAsync('https://cdnjs.cloudflare.com/ajax/libs/3Dmol/2.4.2/3Dmol-min.js');\n",
              "}\n",
              "\n",
              "var viewer_17445684096860511 = null;\n",
              "var warn = document.getElementById(\"3dmolwarning_17445684096860511\");\n",
              "if(warn) {\n",
              "    warn.parentNode.removeChild(warn);\n",
              "}\n",
              "$3Dmolpromise.then(function() {\n",
              "viewer_17445684096860511 = $3Dmol.createViewer(document.getElementById(\"3dmolviewer_17445684096860511\"),{backgroundColor:\"white\"});\n",
              "viewer_17445684096860511.zoomTo();\n",
              "\tviewer_17445684096860511.addModel(\"\\n     RDKit          3D\\n\\n  8  0  0  0  0  0  0  0  0  0999 V2000\\n -120.5854   58.7250   92.2267 C   0  0  0  0  0  0  0  0  0  0  0  0\\n -220.5867 -782.2896  -93.1929 C   0  0  0  0  0  0  0  0  0  0  0  0\\n   20.8018 -144.2113  234.4239 C   0  0  0  0  0  0  0  0  0  0  0  0\\n -150.8511    1.6033   26.9562 C   0  0  0  0  0  0  0  0  0  0  0  0\\n  -89.5700  237.3757 -145.6714 C   0  0  0  0  0  0  0  0  0  0  0  0\\n  -54.1367    0.1248  152.8107 C   0  0  0  0  0  0  0  0  0  0  0  0\\n -138.7718  321.2000 -145.2560 C   0  0  0  0  0  0  0  0  0  0  0  0\\n  -38.8707  -38.9859  -48.1307 C   0  0  0  0  0  0  0  0  0  0  0  0\\nM  END\\n\",\"mol\");\n",
              "\tviewer_17445684096860511.setStyle({\"stick\": {}});\n",
              "\tviewer_17445684096860511.setBackgroundColor(\"white\");\n",
              "\tviewer_17445684096860511.zoomTo();\n",
              "viewer_17445684096860511.render();\n",
              "});\n",
              "</script>"
            ]
          },
          "metadata": {}
        },
        {
          "output_type": "stream",
          "name": "stdout",
          "text": [
            "Molecule 1\n"
          ]
        },
        {
          "output_type": "display_data",
          "data": {
            "application/3dmoljs_load.v0": "<div id=\"3dmolviewer_17445684096889815\"  style=\"position: relative; width: 400px; height: 350px;\">\n        <p id=\"3dmolwarning_17445684096889815\" style=\"background-color:#ffcccc;color:black\">3Dmol.js failed to load for some reason.  Please check your browser console for error messages.<br></p>\n        </div>\n<script>\n\nvar loadScriptAsync = function(uri){\n  return new Promise((resolve, reject) => {\n    //this is to ignore the existence of requirejs amd\n    var savedexports, savedmodule;\n    if (typeof exports !== 'undefined') savedexports = exports;\n    else exports = {}\n    if (typeof module !== 'undefined') savedmodule = module;\n    else module = {}\n\n    var tag = document.createElement('script');\n    tag.src = uri;\n    tag.async = true;\n    tag.onload = () => {\n        exports = savedexports;\n        module = savedmodule;\n        resolve();\n    };\n  var firstScriptTag = document.getElementsByTagName('script')[0];\n  firstScriptTag.parentNode.insertBefore(tag, firstScriptTag);\n});\n};\n\nif(typeof $3Dmolpromise === 'undefined') {\n$3Dmolpromise = null;\n  $3Dmolpromise = loadScriptAsync('https://cdnjs.cloudflare.com/ajax/libs/3Dmol/2.4.2/3Dmol-min.js');\n}\n\nvar viewer_17445684096889815 = null;\nvar warn = document.getElementById(\"3dmolwarning_17445684096889815\");\nif(warn) {\n    warn.parentNode.removeChild(warn);\n}\n$3Dmolpromise.then(function() {\nviewer_17445684096889815 = $3Dmol.createViewer(document.getElementById(\"3dmolviewer_17445684096889815\"),{backgroundColor:\"white\"});\nviewer_17445684096889815.zoomTo();\n\tviewer_17445684096889815.addModel(\"\\n     RDKit          3D\\n\\n  8  0  0  0  0  0  0  0  0  0999 V2000\\n   70.6017    2.1617  251.9120 C   0  0  0  0  0  0  0  0  0  0  0  0\\n  118.9450  -44.4141  156.6786 C   0  0  0  0  0  0  0  0  0  0  0  0\\n -234.4060 -221.8891  114.5145 C   0  0  0  0  0  0  0  0  0  0  0  0\\n   -6.1797  139.5915   74.4792 C   0  0  0  0  0  0  0  0  0  0  0  0\\n  -10.1668   14.2620  371.9354 C   0  0  0  0  0  0  0  0  0  0  0  0\\n   72.6748   97.8122 -296.0992 C   0  0  0  0  0  0  0  0  0  0  0  0\\n  367.1818   69.5177 -210.9880 C   0  0  0  0  0  0  0  0  0  0  0  0\\n  107.4593 -162.5395  259.7564 C   0  0  0  0  0  0  0  0  0  0  0  0\\nM  END\\n\",\"mol\");\n\tviewer_17445684096889815.setStyle({\"stick\": {}});\n\tviewer_17445684096889815.setBackgroundColor(\"white\");\n\tviewer_17445684096889815.zoomTo();\nviewer_17445684096889815.render();\n});\n</script>",
            "text/html": [
              "<div id=\"3dmolviewer_17445684096889815\"  style=\"position: relative; width: 400px; height: 350px;\">\n",
              "        <p id=\"3dmolwarning_17445684096889815\" style=\"background-color:#ffcccc;color:black\">3Dmol.js failed to load for some reason.  Please check your browser console for error messages.<br></p>\n",
              "        </div>\n",
              "<script>\n",
              "\n",
              "var loadScriptAsync = function(uri){\n",
              "  return new Promise((resolve, reject) => {\n",
              "    //this is to ignore the existence of requirejs amd\n",
              "    var savedexports, savedmodule;\n",
              "    if (typeof exports !== 'undefined') savedexports = exports;\n",
              "    else exports = {}\n",
              "    if (typeof module !== 'undefined') savedmodule = module;\n",
              "    else module = {}\n",
              "\n",
              "    var tag = document.createElement('script');\n",
              "    tag.src = uri;\n",
              "    tag.async = true;\n",
              "    tag.onload = () => {\n",
              "        exports = savedexports;\n",
              "        module = savedmodule;\n",
              "        resolve();\n",
              "    };\n",
              "  var firstScriptTag = document.getElementsByTagName('script')[0];\n",
              "  firstScriptTag.parentNode.insertBefore(tag, firstScriptTag);\n",
              "});\n",
              "};\n",
              "\n",
              "if(typeof $3Dmolpromise === 'undefined') {\n",
              "$3Dmolpromise = null;\n",
              "  $3Dmolpromise = loadScriptAsync('https://cdnjs.cloudflare.com/ajax/libs/3Dmol/2.4.2/3Dmol-min.js');\n",
              "}\n",
              "\n",
              "var viewer_17445684096889815 = null;\n",
              "var warn = document.getElementById(\"3dmolwarning_17445684096889815\");\n",
              "if(warn) {\n",
              "    warn.parentNode.removeChild(warn);\n",
              "}\n",
              "$3Dmolpromise.then(function() {\n",
              "viewer_17445684096889815 = $3Dmol.createViewer(document.getElementById(\"3dmolviewer_17445684096889815\"),{backgroundColor:\"white\"});\n",
              "viewer_17445684096889815.zoomTo();\n",
              "\tviewer_17445684096889815.addModel(\"\\n     RDKit          3D\\n\\n  8  0  0  0  0  0  0  0  0  0999 V2000\\n   70.6017    2.1617  251.9120 C   0  0  0  0  0  0  0  0  0  0  0  0\\n  118.9450  -44.4141  156.6786 C   0  0  0  0  0  0  0  0  0  0  0  0\\n -234.4060 -221.8891  114.5145 C   0  0  0  0  0  0  0  0  0  0  0  0\\n   -6.1797  139.5915   74.4792 C   0  0  0  0  0  0  0  0  0  0  0  0\\n  -10.1668   14.2620  371.9354 C   0  0  0  0  0  0  0  0  0  0  0  0\\n   72.6748   97.8122 -296.0992 C   0  0  0  0  0  0  0  0  0  0  0  0\\n  367.1818   69.5177 -210.9880 C   0  0  0  0  0  0  0  0  0  0  0  0\\n  107.4593 -162.5395  259.7564 C   0  0  0  0  0  0  0  0  0  0  0  0\\nM  END\\n\",\"mol\");\n",
              "\tviewer_17445684096889815.setStyle({\"stick\": {}});\n",
              "\tviewer_17445684096889815.setBackgroundColor(\"white\");\n",
              "\tviewer_17445684096889815.zoomTo();\n",
              "viewer_17445684096889815.render();\n",
              "});\n",
              "</script>"
            ]
          },
          "metadata": {}
        },
        {
          "output_type": "stream",
          "name": "stdout",
          "text": [
            "Molecule 2\n"
          ]
        },
        {
          "output_type": "display_data",
          "data": {
            "application/3dmoljs_load.v0": "<div id=\"3dmolviewer_17445684096911101\"  style=\"position: relative; width: 400px; height: 350px;\">\n        <p id=\"3dmolwarning_17445684096911101\" style=\"background-color:#ffcccc;color:black\">3Dmol.js failed to load for some reason.  Please check your browser console for error messages.<br></p>\n        </div>\n<script>\n\nvar loadScriptAsync = function(uri){\n  return new Promise((resolve, reject) => {\n    //this is to ignore the existence of requirejs amd\n    var savedexports, savedmodule;\n    if (typeof exports !== 'undefined') savedexports = exports;\n    else exports = {}\n    if (typeof module !== 'undefined') savedmodule = module;\n    else module = {}\n\n    var tag = document.createElement('script');\n    tag.src = uri;\n    tag.async = true;\n    tag.onload = () => {\n        exports = savedexports;\n        module = savedmodule;\n        resolve();\n    };\n  var firstScriptTag = document.getElementsByTagName('script')[0];\n  firstScriptTag.parentNode.insertBefore(tag, firstScriptTag);\n});\n};\n\nif(typeof $3Dmolpromise === 'undefined') {\n$3Dmolpromise = null;\n  $3Dmolpromise = loadScriptAsync('https://cdnjs.cloudflare.com/ajax/libs/3Dmol/2.4.2/3Dmol-min.js');\n}\n\nvar viewer_17445684096911101 = null;\nvar warn = document.getElementById(\"3dmolwarning_17445684096911101\");\nif(warn) {\n    warn.parentNode.removeChild(warn);\n}\n$3Dmolpromise.then(function() {\nviewer_17445684096911101 = $3Dmol.createViewer(document.getElementById(\"3dmolviewer_17445684096911101\"),{backgroundColor:\"white\"});\nviewer_17445684096911101.zoomTo();\n\tviewer_17445684096911101.addModel(\"\\n     RDKit          3D\\n\\n  8  0  0  0  0  0  0  0  0  0999 V2000\\n   21.8345  -95.0580  355.9389 C   0  0  0  0  0  0  0  0  0  0  0  0\\n  261.0045 -119.6402  116.5333 C   0  0  0  0  0  0  0  0  0  0  0  0\\n  158.7039  -97.4166   10.0936 C   0  0  0  0  0  0  0  0  0  0  0  0\\n  430.2032 -216.5569  225.2054 C   0  0  0  0  0  0  0  0  0  0  0  0\\n  212.5107 -340.9893  -19.3071 C   0  0  0  0  0  0  0  0  0  0  0  0\\n -138.1710  264.8409 -482.0294 C   0  0  0  0  0  0  0  0  0  0  0  0\\n  141.8972 -191.2938 -134.8788 C   0  0  0  0  0  0  0  0  0  0  0  0\\n -108.2098  195.7951 -305.3912 C   0  0  0  0  0  0  0  0  0  0  0  0\\nM  END\\n\",\"mol\");\n\tviewer_17445684096911101.setStyle({\"stick\": {}});\n\tviewer_17445684096911101.setBackgroundColor(\"white\");\n\tviewer_17445684096911101.zoomTo();\nviewer_17445684096911101.render();\n});\n</script>",
            "text/html": [
              "<div id=\"3dmolviewer_17445684096911101\"  style=\"position: relative; width: 400px; height: 350px;\">\n",
              "        <p id=\"3dmolwarning_17445684096911101\" style=\"background-color:#ffcccc;color:black\">3Dmol.js failed to load for some reason.  Please check your browser console for error messages.<br></p>\n",
              "        </div>\n",
              "<script>\n",
              "\n",
              "var loadScriptAsync = function(uri){\n",
              "  return new Promise((resolve, reject) => {\n",
              "    //this is to ignore the existence of requirejs amd\n",
              "    var savedexports, savedmodule;\n",
              "    if (typeof exports !== 'undefined') savedexports = exports;\n",
              "    else exports = {}\n",
              "    if (typeof module !== 'undefined') savedmodule = module;\n",
              "    else module = {}\n",
              "\n",
              "    var tag = document.createElement('script');\n",
              "    tag.src = uri;\n",
              "    tag.async = true;\n",
              "    tag.onload = () => {\n",
              "        exports = savedexports;\n",
              "        module = savedmodule;\n",
              "        resolve();\n",
              "    };\n",
              "  var firstScriptTag = document.getElementsByTagName('script')[0];\n",
              "  firstScriptTag.parentNode.insertBefore(tag, firstScriptTag);\n",
              "});\n",
              "};\n",
              "\n",
              "if(typeof $3Dmolpromise === 'undefined') {\n",
              "$3Dmolpromise = null;\n",
              "  $3Dmolpromise = loadScriptAsync('https://cdnjs.cloudflare.com/ajax/libs/3Dmol/2.4.2/3Dmol-min.js');\n",
              "}\n",
              "\n",
              "var viewer_17445684096911101 = null;\n",
              "var warn = document.getElementById(\"3dmolwarning_17445684096911101\");\n",
              "if(warn) {\n",
              "    warn.parentNode.removeChild(warn);\n",
              "}\n",
              "$3Dmolpromise.then(function() {\n",
              "viewer_17445684096911101 = $3Dmol.createViewer(document.getElementById(\"3dmolviewer_17445684096911101\"),{backgroundColor:\"white\"});\n",
              "viewer_17445684096911101.zoomTo();\n",
              "\tviewer_17445684096911101.addModel(\"\\n     RDKit          3D\\n\\n  8  0  0  0  0  0  0  0  0  0999 V2000\\n   21.8345  -95.0580  355.9389 C   0  0  0  0  0  0  0  0  0  0  0  0\\n  261.0045 -119.6402  116.5333 C   0  0  0  0  0  0  0  0  0  0  0  0\\n  158.7039  -97.4166   10.0936 C   0  0  0  0  0  0  0  0  0  0  0  0\\n  430.2032 -216.5569  225.2054 C   0  0  0  0  0  0  0  0  0  0  0  0\\n  212.5107 -340.9893  -19.3071 C   0  0  0  0  0  0  0  0  0  0  0  0\\n -138.1710  264.8409 -482.0294 C   0  0  0  0  0  0  0  0  0  0  0  0\\n  141.8972 -191.2938 -134.8788 C   0  0  0  0  0  0  0  0  0  0  0  0\\n -108.2098  195.7951 -305.3912 C   0  0  0  0  0  0  0  0  0  0  0  0\\nM  END\\n\",\"mol\");\n",
              "\tviewer_17445684096911101.setStyle({\"stick\": {}});\n",
              "\tviewer_17445684096911101.setBackgroundColor(\"white\");\n",
              "\tviewer_17445684096911101.zoomTo();\n",
              "viewer_17445684096911101.render();\n",
              "});\n",
              "</script>"
            ]
          },
          "metadata": {}
        },
        {
          "output_type": "stream",
          "name": "stdout",
          "text": [
            "Molecule 3\n"
          ]
        }
      ]
    },
    {
      "cell_type": "code",
      "source": [
        "size=(400, 400)\n",
        "style=\"stick\"\n",
        "if not molecules:\n",
        "        print(\"No valid molecules to display\")\n",
        "\n",
        "for i, mol in enumerate(molecules):\n",
        "        viewer = py3Dmol.view(width=size[0], height=size[1])\n",
        "\n",
        "        # Convert to mol block\n",
        "        mol_block = Chem.MolToMolBlock(mol)\n",
        "        viewer.addModel(mol_block, \"mol\")\n",
        "\n",
        "        # Set visualization style\n",
        "        viewer.setStyle({style:{}})\n",
        "        viewer.zoomTo()\n",
        "        viewer.show()\n",
        "        #view_mol(mol).show()\n",
        "        print(f\"Molecule {i+1}\")"
      ],
      "metadata": {
        "id": "S7GATeUPUeTA",
        "outputId": "87eaabc2-74e5-4ed1-8280-dade102c63f8",
        "colab": {
          "base_uri": "https://localhost:8080/",
          "height": 1000
        }
      },
      "execution_count": 34,
      "outputs": [
        {
          "output_type": "display_data",
          "data": {
            "application/3dmoljs_load.v0": "<div id=\"3dmolviewer_17445685965825136\"  style=\"position: relative; width: 400px; height: 400px;\">\n        <p id=\"3dmolwarning_17445685965825136\" style=\"background-color:#ffcccc;color:black\">3Dmol.js failed to load for some reason.  Please check your browser console for error messages.<br></p>\n        </div>\n<script>\n\nvar loadScriptAsync = function(uri){\n  return new Promise((resolve, reject) => {\n    //this is to ignore the existence of requirejs amd\n    var savedexports, savedmodule;\n    if (typeof exports !== 'undefined') savedexports = exports;\n    else exports = {}\n    if (typeof module !== 'undefined') savedmodule = module;\n    else module = {}\n\n    var tag = document.createElement('script');\n    tag.src = uri;\n    tag.async = true;\n    tag.onload = () => {\n        exports = savedexports;\n        module = savedmodule;\n        resolve();\n    };\n  var firstScriptTag = document.getElementsByTagName('script')[0];\n  firstScriptTag.parentNode.insertBefore(tag, firstScriptTag);\n});\n};\n\nif(typeof $3Dmolpromise === 'undefined') {\n$3Dmolpromise = null;\n  $3Dmolpromise = loadScriptAsync('https://cdnjs.cloudflare.com/ajax/libs/3Dmol/2.4.2/3Dmol-min.js');\n}\n\nvar viewer_17445685965825136 = null;\nvar warn = document.getElementById(\"3dmolwarning_17445685965825136\");\nif(warn) {\n    warn.parentNode.removeChild(warn);\n}\n$3Dmolpromise.then(function() {\nviewer_17445685965825136 = $3Dmol.createViewer(document.getElementById(\"3dmolviewer_17445685965825136\"),{backgroundColor:\"white\"});\nviewer_17445685965825136.zoomTo();\n\tviewer_17445685965825136.addModel(\"\\n     RDKit          3D\\n\\n  8  0  0  0  0  0  0  0  0  0999 V2000\\n -120.5854   58.7250   92.2267 C   0  0  0  0  0  0  0  0  0  0  0  0\\n -220.5867 -782.2896  -93.1929 C   0  0  0  0  0  0  0  0  0  0  0  0\\n   20.8018 -144.2113  234.4239 C   0  0  0  0  0  0  0  0  0  0  0  0\\n -150.8511    1.6033   26.9562 C   0  0  0  0  0  0  0  0  0  0  0  0\\n  -89.5700  237.3757 -145.6714 C   0  0  0  0  0  0  0  0  0  0  0  0\\n  -54.1367    0.1248  152.8107 C   0  0  0  0  0  0  0  0  0  0  0  0\\n -138.7718  321.2000 -145.2560 C   0  0  0  0  0  0  0  0  0  0  0  0\\n  -38.8707  -38.9859  -48.1307 C   0  0  0  0  0  0  0  0  0  0  0  0\\nM  END\\n\",\"mol\");\n\tviewer_17445685965825136.setStyle({\"stick\": {}});\n\tviewer_17445685965825136.zoomTo();\nviewer_17445685965825136.render();\n});\n</script>",
            "text/html": [
              "<div id=\"3dmolviewer_17445685965825136\"  style=\"position: relative; width: 400px; height: 400px;\">\n",
              "        <p id=\"3dmolwarning_17445685965825136\" style=\"background-color:#ffcccc;color:black\">3Dmol.js failed to load for some reason.  Please check your browser console for error messages.<br></p>\n",
              "        </div>\n",
              "<script>\n",
              "\n",
              "var loadScriptAsync = function(uri){\n",
              "  return new Promise((resolve, reject) => {\n",
              "    //this is to ignore the existence of requirejs amd\n",
              "    var savedexports, savedmodule;\n",
              "    if (typeof exports !== 'undefined') savedexports = exports;\n",
              "    else exports = {}\n",
              "    if (typeof module !== 'undefined') savedmodule = module;\n",
              "    else module = {}\n",
              "\n",
              "    var tag = document.createElement('script');\n",
              "    tag.src = uri;\n",
              "    tag.async = true;\n",
              "    tag.onload = () => {\n",
              "        exports = savedexports;\n",
              "        module = savedmodule;\n",
              "        resolve();\n",
              "    };\n",
              "  var firstScriptTag = document.getElementsByTagName('script')[0];\n",
              "  firstScriptTag.parentNode.insertBefore(tag, firstScriptTag);\n",
              "});\n",
              "};\n",
              "\n",
              "if(typeof $3Dmolpromise === 'undefined') {\n",
              "$3Dmolpromise = null;\n",
              "  $3Dmolpromise = loadScriptAsync('https://cdnjs.cloudflare.com/ajax/libs/3Dmol/2.4.2/3Dmol-min.js');\n",
              "}\n",
              "\n",
              "var viewer_17445685965825136 = null;\n",
              "var warn = document.getElementById(\"3dmolwarning_17445685965825136\");\n",
              "if(warn) {\n",
              "    warn.parentNode.removeChild(warn);\n",
              "}\n",
              "$3Dmolpromise.then(function() {\n",
              "viewer_17445685965825136 = $3Dmol.createViewer(document.getElementById(\"3dmolviewer_17445685965825136\"),{backgroundColor:\"white\"});\n",
              "viewer_17445685965825136.zoomTo();\n",
              "\tviewer_17445685965825136.addModel(\"\\n     RDKit          3D\\n\\n  8  0  0  0  0  0  0  0  0  0999 V2000\\n -120.5854   58.7250   92.2267 C   0  0  0  0  0  0  0  0  0  0  0  0\\n -220.5867 -782.2896  -93.1929 C   0  0  0  0  0  0  0  0  0  0  0  0\\n   20.8018 -144.2113  234.4239 C   0  0  0  0  0  0  0  0  0  0  0  0\\n -150.8511    1.6033   26.9562 C   0  0  0  0  0  0  0  0  0  0  0  0\\n  -89.5700  237.3757 -145.6714 C   0  0  0  0  0  0  0  0  0  0  0  0\\n  -54.1367    0.1248  152.8107 C   0  0  0  0  0  0  0  0  0  0  0  0\\n -138.7718  321.2000 -145.2560 C   0  0  0  0  0  0  0  0  0  0  0  0\\n  -38.8707  -38.9859  -48.1307 C   0  0  0  0  0  0  0  0  0  0  0  0\\nM  END\\n\",\"mol\");\n",
              "\tviewer_17445685965825136.setStyle({\"stick\": {}});\n",
              "\tviewer_17445685965825136.zoomTo();\n",
              "viewer_17445685965825136.render();\n",
              "});\n",
              "</script>"
            ]
          },
          "metadata": {}
        },
        {
          "output_type": "stream",
          "name": "stdout",
          "text": [
            "Molecule 1\n"
          ]
        },
        {
          "output_type": "display_data",
          "data": {
            "application/3dmoljs_load.v0": "<div id=\"3dmolviewer_17445685965843062\"  style=\"position: relative; width: 400px; height: 400px;\">\n        <p id=\"3dmolwarning_17445685965843062\" style=\"background-color:#ffcccc;color:black\">3Dmol.js failed to load for some reason.  Please check your browser console for error messages.<br></p>\n        </div>\n<script>\n\nvar loadScriptAsync = function(uri){\n  return new Promise((resolve, reject) => {\n    //this is to ignore the existence of requirejs amd\n    var savedexports, savedmodule;\n    if (typeof exports !== 'undefined') savedexports = exports;\n    else exports = {}\n    if (typeof module !== 'undefined') savedmodule = module;\n    else module = {}\n\n    var tag = document.createElement('script');\n    tag.src = uri;\n    tag.async = true;\n    tag.onload = () => {\n        exports = savedexports;\n        module = savedmodule;\n        resolve();\n    };\n  var firstScriptTag = document.getElementsByTagName('script')[0];\n  firstScriptTag.parentNode.insertBefore(tag, firstScriptTag);\n});\n};\n\nif(typeof $3Dmolpromise === 'undefined') {\n$3Dmolpromise = null;\n  $3Dmolpromise = loadScriptAsync('https://cdnjs.cloudflare.com/ajax/libs/3Dmol/2.4.2/3Dmol-min.js');\n}\n\nvar viewer_17445685965843062 = null;\nvar warn = document.getElementById(\"3dmolwarning_17445685965843062\");\nif(warn) {\n    warn.parentNode.removeChild(warn);\n}\n$3Dmolpromise.then(function() {\nviewer_17445685965843062 = $3Dmol.createViewer(document.getElementById(\"3dmolviewer_17445685965843062\"),{backgroundColor:\"white\"});\nviewer_17445685965843062.zoomTo();\n\tviewer_17445685965843062.addModel(\"\\n     RDKit          3D\\n\\n  8  0  0  0  0  0  0  0  0  0999 V2000\\n   70.6017    2.1617  251.9120 C   0  0  0  0  0  0  0  0  0  0  0  0\\n  118.9450  -44.4141  156.6786 C   0  0  0  0  0  0  0  0  0  0  0  0\\n -234.4060 -221.8891  114.5145 C   0  0  0  0  0  0  0  0  0  0  0  0\\n   -6.1797  139.5915   74.4792 C   0  0  0  0  0  0  0  0  0  0  0  0\\n  -10.1668   14.2620  371.9354 C   0  0  0  0  0  0  0  0  0  0  0  0\\n   72.6748   97.8122 -296.0992 C   0  0  0  0  0  0  0  0  0  0  0  0\\n  367.1818   69.5177 -210.9880 C   0  0  0  0  0  0  0  0  0  0  0  0\\n  107.4593 -162.5395  259.7564 C   0  0  0  0  0  0  0  0  0  0  0  0\\nM  END\\n\",\"mol\");\n\tviewer_17445685965843062.setStyle({\"stick\": {}});\n\tviewer_17445685965843062.zoomTo();\nviewer_17445685965843062.render();\n});\n</script>",
            "text/html": [
              "<div id=\"3dmolviewer_17445685965843062\"  style=\"position: relative; width: 400px; height: 400px;\">\n",
              "        <p id=\"3dmolwarning_17445685965843062\" style=\"background-color:#ffcccc;color:black\">3Dmol.js failed to load for some reason.  Please check your browser console for error messages.<br></p>\n",
              "        </div>\n",
              "<script>\n",
              "\n",
              "var loadScriptAsync = function(uri){\n",
              "  return new Promise((resolve, reject) => {\n",
              "    //this is to ignore the existence of requirejs amd\n",
              "    var savedexports, savedmodule;\n",
              "    if (typeof exports !== 'undefined') savedexports = exports;\n",
              "    else exports = {}\n",
              "    if (typeof module !== 'undefined') savedmodule = module;\n",
              "    else module = {}\n",
              "\n",
              "    var tag = document.createElement('script');\n",
              "    tag.src = uri;\n",
              "    tag.async = true;\n",
              "    tag.onload = () => {\n",
              "        exports = savedexports;\n",
              "        module = savedmodule;\n",
              "        resolve();\n",
              "    };\n",
              "  var firstScriptTag = document.getElementsByTagName('script')[0];\n",
              "  firstScriptTag.parentNode.insertBefore(tag, firstScriptTag);\n",
              "});\n",
              "};\n",
              "\n",
              "if(typeof $3Dmolpromise === 'undefined') {\n",
              "$3Dmolpromise = null;\n",
              "  $3Dmolpromise = loadScriptAsync('https://cdnjs.cloudflare.com/ajax/libs/3Dmol/2.4.2/3Dmol-min.js');\n",
              "}\n",
              "\n",
              "var viewer_17445685965843062 = null;\n",
              "var warn = document.getElementById(\"3dmolwarning_17445685965843062\");\n",
              "if(warn) {\n",
              "    warn.parentNode.removeChild(warn);\n",
              "}\n",
              "$3Dmolpromise.then(function() {\n",
              "viewer_17445685965843062 = $3Dmol.createViewer(document.getElementById(\"3dmolviewer_17445685965843062\"),{backgroundColor:\"white\"});\n",
              "viewer_17445685965843062.zoomTo();\n",
              "\tviewer_17445685965843062.addModel(\"\\n     RDKit          3D\\n\\n  8  0  0  0  0  0  0  0  0  0999 V2000\\n   70.6017    2.1617  251.9120 C   0  0  0  0  0  0  0  0  0  0  0  0\\n  118.9450  -44.4141  156.6786 C   0  0  0  0  0  0  0  0  0  0  0  0\\n -234.4060 -221.8891  114.5145 C   0  0  0  0  0  0  0  0  0  0  0  0\\n   -6.1797  139.5915   74.4792 C   0  0  0  0  0  0  0  0  0  0  0  0\\n  -10.1668   14.2620  371.9354 C   0  0  0  0  0  0  0  0  0  0  0  0\\n   72.6748   97.8122 -296.0992 C   0  0  0  0  0  0  0  0  0  0  0  0\\n  367.1818   69.5177 -210.9880 C   0  0  0  0  0  0  0  0  0  0  0  0\\n  107.4593 -162.5395  259.7564 C   0  0  0  0  0  0  0  0  0  0  0  0\\nM  END\\n\",\"mol\");\n",
              "\tviewer_17445685965843062.setStyle({\"stick\": {}});\n",
              "\tviewer_17445685965843062.zoomTo();\n",
              "viewer_17445685965843062.render();\n",
              "});\n",
              "</script>"
            ]
          },
          "metadata": {}
        },
        {
          "output_type": "stream",
          "name": "stdout",
          "text": [
            "Molecule 2\n"
          ]
        },
        {
          "output_type": "display_data",
          "data": {
            "application/3dmoljs_load.v0": "<div id=\"3dmolviewer_17445685965856688\"  style=\"position: relative; width: 400px; height: 400px;\">\n        <p id=\"3dmolwarning_17445685965856688\" style=\"background-color:#ffcccc;color:black\">3Dmol.js failed to load for some reason.  Please check your browser console for error messages.<br></p>\n        </div>\n<script>\n\nvar loadScriptAsync = function(uri){\n  return new Promise((resolve, reject) => {\n    //this is to ignore the existence of requirejs amd\n    var savedexports, savedmodule;\n    if (typeof exports !== 'undefined') savedexports = exports;\n    else exports = {}\n    if (typeof module !== 'undefined') savedmodule = module;\n    else module = {}\n\n    var tag = document.createElement('script');\n    tag.src = uri;\n    tag.async = true;\n    tag.onload = () => {\n        exports = savedexports;\n        module = savedmodule;\n        resolve();\n    };\n  var firstScriptTag = document.getElementsByTagName('script')[0];\n  firstScriptTag.parentNode.insertBefore(tag, firstScriptTag);\n});\n};\n\nif(typeof $3Dmolpromise === 'undefined') {\n$3Dmolpromise = null;\n  $3Dmolpromise = loadScriptAsync('https://cdnjs.cloudflare.com/ajax/libs/3Dmol/2.4.2/3Dmol-min.js');\n}\n\nvar viewer_17445685965856688 = null;\nvar warn = document.getElementById(\"3dmolwarning_17445685965856688\");\nif(warn) {\n    warn.parentNode.removeChild(warn);\n}\n$3Dmolpromise.then(function() {\nviewer_17445685965856688 = $3Dmol.createViewer(document.getElementById(\"3dmolviewer_17445685965856688\"),{backgroundColor:\"white\"});\nviewer_17445685965856688.zoomTo();\n\tviewer_17445685965856688.addModel(\"\\n     RDKit          3D\\n\\n  8  0  0  0  0  0  0  0  0  0999 V2000\\n   21.8345  -95.0580  355.9389 C   0  0  0  0  0  0  0  0  0  0  0  0\\n  261.0045 -119.6402  116.5333 C   0  0  0  0  0  0  0  0  0  0  0  0\\n  158.7039  -97.4166   10.0936 C   0  0  0  0  0  0  0  0  0  0  0  0\\n  430.2032 -216.5569  225.2054 C   0  0  0  0  0  0  0  0  0  0  0  0\\n  212.5107 -340.9893  -19.3071 C   0  0  0  0  0  0  0  0  0  0  0  0\\n -138.1710  264.8409 -482.0294 C   0  0  0  0  0  0  0  0  0  0  0  0\\n  141.8972 -191.2938 -134.8788 C   0  0  0  0  0  0  0  0  0  0  0  0\\n -108.2098  195.7951 -305.3912 C   0  0  0  0  0  0  0  0  0  0  0  0\\nM  END\\n\",\"mol\");\n\tviewer_17445685965856688.setStyle({\"stick\": {}});\n\tviewer_17445685965856688.zoomTo();\nviewer_17445685965856688.render();\n});\n</script>",
            "text/html": [
              "<div id=\"3dmolviewer_17445685965856688\"  style=\"position: relative; width: 400px; height: 400px;\">\n",
              "        <p id=\"3dmolwarning_17445685965856688\" style=\"background-color:#ffcccc;color:black\">3Dmol.js failed to load for some reason.  Please check your browser console for error messages.<br></p>\n",
              "        </div>\n",
              "<script>\n",
              "\n",
              "var loadScriptAsync = function(uri){\n",
              "  return new Promise((resolve, reject) => {\n",
              "    //this is to ignore the existence of requirejs amd\n",
              "    var savedexports, savedmodule;\n",
              "    if (typeof exports !== 'undefined') savedexports = exports;\n",
              "    else exports = {}\n",
              "    if (typeof module !== 'undefined') savedmodule = module;\n",
              "    else module = {}\n",
              "\n",
              "    var tag = document.createElement('script');\n",
              "    tag.src = uri;\n",
              "    tag.async = true;\n",
              "    tag.onload = () => {\n",
              "        exports = savedexports;\n",
              "        module = savedmodule;\n",
              "        resolve();\n",
              "    };\n",
              "  var firstScriptTag = document.getElementsByTagName('script')[0];\n",
              "  firstScriptTag.parentNode.insertBefore(tag, firstScriptTag);\n",
              "});\n",
              "};\n",
              "\n",
              "if(typeof $3Dmolpromise === 'undefined') {\n",
              "$3Dmolpromise = null;\n",
              "  $3Dmolpromise = loadScriptAsync('https://cdnjs.cloudflare.com/ajax/libs/3Dmol/2.4.2/3Dmol-min.js');\n",
              "}\n",
              "\n",
              "var viewer_17445685965856688 = null;\n",
              "var warn = document.getElementById(\"3dmolwarning_17445685965856688\");\n",
              "if(warn) {\n",
              "    warn.parentNode.removeChild(warn);\n",
              "}\n",
              "$3Dmolpromise.then(function() {\n",
              "viewer_17445685965856688 = $3Dmol.createViewer(document.getElementById(\"3dmolviewer_17445685965856688\"),{backgroundColor:\"white\"});\n",
              "viewer_17445685965856688.zoomTo();\n",
              "\tviewer_17445685965856688.addModel(\"\\n     RDKit          3D\\n\\n  8  0  0  0  0  0  0  0  0  0999 V2000\\n   21.8345  -95.0580  355.9389 C   0  0  0  0  0  0  0  0  0  0  0  0\\n  261.0045 -119.6402  116.5333 C   0  0  0  0  0  0  0  0  0  0  0  0\\n  158.7039  -97.4166   10.0936 C   0  0  0  0  0  0  0  0  0  0  0  0\\n  430.2032 -216.5569  225.2054 C   0  0  0  0  0  0  0  0  0  0  0  0\\n  212.5107 -340.9893  -19.3071 C   0  0  0  0  0  0  0  0  0  0  0  0\\n -138.1710  264.8409 -482.0294 C   0  0  0  0  0  0  0  0  0  0  0  0\\n  141.8972 -191.2938 -134.8788 C   0  0  0  0  0  0  0  0  0  0  0  0\\n -108.2098  195.7951 -305.3912 C   0  0  0  0  0  0  0  0  0  0  0  0\\nM  END\\n\",\"mol\");\n",
              "\tviewer_17445685965856688.setStyle({\"stick\": {}});\n",
              "\tviewer_17445685965856688.zoomTo();\n",
              "viewer_17445685965856688.render();\n",
              "});\n",
              "</script>"
            ]
          },
          "metadata": {}
        },
        {
          "output_type": "stream",
          "name": "stdout",
          "text": [
            "Molecule 3\n"
          ]
        }
      ]
    },
    {
      "cell_type": "code",
      "source": [
        "from rdkit.Chem import SDWriter\n",
        "\n",
        "# Save molecules to SDF file\n",
        "sdf_writer = SDWriter(\"generated_molecules.sdf\")\n",
        "for mol in molecules:\n",
        "    sdf_writer.write(mol)\n",
        "sdf_writer.close()\n",
        "\n",
        "print(\"\\nSaved molecules to generated_molecules.sdf\")\n",
        "\n"
      ],
      "metadata": {
        "id": "xIgv_mqQY2jT",
        "outputId": "44b5f0a2-ecbf-401f-fd67-2c274bf2b85f",
        "colab": {
          "base_uri": "https://localhost:8080/"
        }
      },
      "execution_count": 40,
      "outputs": [
        {
          "output_type": "stream",
          "name": "stdout",
          "text": [
            "\n",
            "Saved molecules to generated_molecules.sdf\n"
          ]
        }
      ]
    },
    {
      "cell_type": "code",
      "source": [],
      "metadata": {
        "id": "MEMQu8BLZG1x"
      },
      "execution_count": null,
      "outputs": []
    }
  ],
  "metadata": {
    "colab": {
      "name": "Welcome To Colab",
      "provenance": [],
      "gpuType": "T4",
      "include_colab_link": true
    },
    "kernelspec": {
      "display_name": "Python 3",
      "name": "python3"
    },
    "accelerator": "GPU"
  },
  "nbformat": 4,
  "nbformat_minor": 0
}