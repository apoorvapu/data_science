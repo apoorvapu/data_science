{
  "metadata": {
    "kernelspec": {
      "display_name": "Python 3",
      "name": "python3"
    },
    "language_info": {
      "name": "python",
      "version": "3.10.12",
      "mimetype": "text/x-python",
      "codemirror_mode": {
        "name": "ipython",
        "version": 3
      },
      "pygments_lexer": "ipython3",
      "nbconvert_exporter": "python",
      "file_extension": ".py"
    },
    "kaggle": {
      "accelerator": "gpu",
      "dataSources": [
        {
          "sourceId": 85416,
          "databundleVersionId": 9690815,
          "sourceType": "competition"
        },
        {
          "sourceId": 85994,
          "sourceType": "modelInstanceVersion",
          "isSourceIdPinned": true,
          "modelInstanceId": 72253,
          "modelId": 76277
        },
        {
          "sourceId": 104623,
          "sourceType": "modelInstanceVersion",
          "modelInstanceId": 72254,
          "modelId": 76277
        },
        {
          "sourceId": 104625,
          "sourceType": "modelInstanceVersion",
          "isSourceIdPinned": true,
          "modelInstanceId": 72253,
          "modelId": 76277
        }
      ],
      "dockerImageVersionId": 30919,
      "isInternetEnabled": true,
      "language": "python",
      "sourceType": "notebook",
      "isGpuEnabled": true
    },
    "colab": {
      "provenance": [],
      "gpuType": "T4",
      "include_colab_link": true
    },
    "accelerator": "GPU",
    "widgets": {
      "application/vnd.jupyter.widget-state+json": {
        "011e9ad5e51245a09c61997cf0839df3": {
          "model_module": "@jupyter-widgets/controls",
          "model_name": "HBoxModel",
          "model_module_version": "1.5.0",
          "state": {
            "_dom_classes": [],
            "_model_module": "@jupyter-widgets/controls",
            "_model_module_version": "1.5.0",
            "_model_name": "HBoxModel",
            "_view_count": null,
            "_view_module": "@jupyter-widgets/controls",
            "_view_module_version": "1.5.0",
            "_view_name": "HBoxView",
            "box_style": "",
            "children": [
              "IPY_MODEL_ad9a8b5a8f51459b97d0561d8459e51f",
              "IPY_MODEL_a50df5be9e3746fabc67a2cd34cdf8bd",
              "IPY_MODEL_b16c7153b7c840aab4169aca84e892ae"
            ],
            "layout": "IPY_MODEL_3f68f9a9e710462eaf17116bf334df4e"
          }
        },
        "ad9a8b5a8f51459b97d0561d8459e51f": {
          "model_module": "@jupyter-widgets/controls",
          "model_name": "HTMLModel",
          "model_module_version": "1.5.0",
          "state": {
            "_dom_classes": [],
            "_model_module": "@jupyter-widgets/controls",
            "_model_module_version": "1.5.0",
            "_model_name": "HTMLModel",
            "_view_count": null,
            "_view_module": "@jupyter-widgets/controls",
            "_view_module_version": "1.5.0",
            "_view_name": "HTMLView",
            "description": "",
            "description_tooltip": null,
            "layout": "IPY_MODEL_af77445a67084822895c830f826ec5d4",
            "placeholder": "​",
            "style": "IPY_MODEL_5ecae97df9834b8ea5a3c3b3f1b4e03e",
            "value": "Loading checkpoint shards: 100%"
          }
        },
        "a50df5be9e3746fabc67a2cd34cdf8bd": {
          "model_module": "@jupyter-widgets/controls",
          "model_name": "FloatProgressModel",
          "model_module_version": "1.5.0",
          "state": {
            "_dom_classes": [],
            "_model_module": "@jupyter-widgets/controls",
            "_model_module_version": "1.5.0",
            "_model_name": "FloatProgressModel",
            "_view_count": null,
            "_view_module": "@jupyter-widgets/controls",
            "_view_module_version": "1.5.0",
            "_view_name": "ProgressView",
            "bar_style": "success",
            "description": "",
            "description_tooltip": null,
            "layout": "IPY_MODEL_1a5a1306ef1a4e94bc7291f9cedb6972",
            "max": 2,
            "min": 0,
            "orientation": "horizontal",
            "style": "IPY_MODEL_f0926bd78af64a329259b0b149bc87b8",
            "value": 2
          }
        },
        "b16c7153b7c840aab4169aca84e892ae": {
          "model_module": "@jupyter-widgets/controls",
          "model_name": "HTMLModel",
          "model_module_version": "1.5.0",
          "state": {
            "_dom_classes": [],
            "_model_module": "@jupyter-widgets/controls",
            "_model_module_version": "1.5.0",
            "_model_name": "HTMLModel",
            "_view_count": null,
            "_view_module": "@jupyter-widgets/controls",
            "_view_module_version": "1.5.0",
            "_view_name": "HTMLView",
            "description": "",
            "description_tooltip": null,
            "layout": "IPY_MODEL_65978111236b4a4cb465faf1674b4d02",
            "placeholder": "​",
            "style": "IPY_MODEL_15f23f3144d54970abe9829d326c31d2",
            "value": " 2/2 [00:27&lt;00:00, 11.36s/it]"
          }
        },
        "3f68f9a9e710462eaf17116bf334df4e": {
          "model_module": "@jupyter-widgets/base",
          "model_name": "LayoutModel",
          "model_module_version": "1.2.0",
          "state": {
            "_model_module": "@jupyter-widgets/base",
            "_model_module_version": "1.2.0",
            "_model_name": "LayoutModel",
            "_view_count": null,
            "_view_module": "@jupyter-widgets/base",
            "_view_module_version": "1.2.0",
            "_view_name": "LayoutView",
            "align_content": null,
            "align_items": null,
            "align_self": null,
            "border": null,
            "bottom": null,
            "display": null,
            "flex": null,
            "flex_flow": null,
            "grid_area": null,
            "grid_auto_columns": null,
            "grid_auto_flow": null,
            "grid_auto_rows": null,
            "grid_column": null,
            "grid_gap": null,
            "grid_row": null,
            "grid_template_areas": null,
            "grid_template_columns": null,
            "grid_template_rows": null,
            "height": null,
            "justify_content": null,
            "justify_items": null,
            "left": null,
            "margin": null,
            "max_height": null,
            "max_width": null,
            "min_height": null,
            "min_width": null,
            "object_fit": null,
            "object_position": null,
            "order": null,
            "overflow": null,
            "overflow_x": null,
            "overflow_y": null,
            "padding": null,
            "right": null,
            "top": null,
            "visibility": null,
            "width": null
          }
        },
        "af77445a67084822895c830f826ec5d4": {
          "model_module": "@jupyter-widgets/base",
          "model_name": "LayoutModel",
          "model_module_version": "1.2.0",
          "state": {
            "_model_module": "@jupyter-widgets/base",
            "_model_module_version": "1.2.0",
            "_model_name": "LayoutModel",
            "_view_count": null,
            "_view_module": "@jupyter-widgets/base",
            "_view_module_version": "1.2.0",
            "_view_name": "LayoutView",
            "align_content": null,
            "align_items": null,
            "align_self": null,
            "border": null,
            "bottom": null,
            "display": null,
            "flex": null,
            "flex_flow": null,
            "grid_area": null,
            "grid_auto_columns": null,
            "grid_auto_flow": null,
            "grid_auto_rows": null,
            "grid_column": null,
            "grid_gap": null,
            "grid_row": null,
            "grid_template_areas": null,
            "grid_template_columns": null,
            "grid_template_rows": null,
            "height": null,
            "justify_content": null,
            "justify_items": null,
            "left": null,
            "margin": null,
            "max_height": null,
            "max_width": null,
            "min_height": null,
            "min_width": null,
            "object_fit": null,
            "object_position": null,
            "order": null,
            "overflow": null,
            "overflow_x": null,
            "overflow_y": null,
            "padding": null,
            "right": null,
            "top": null,
            "visibility": null,
            "width": null
          }
        },
        "5ecae97df9834b8ea5a3c3b3f1b4e03e": {
          "model_module": "@jupyter-widgets/controls",
          "model_name": "DescriptionStyleModel",
          "model_module_version": "1.5.0",
          "state": {
            "_model_module": "@jupyter-widgets/controls",
            "_model_module_version": "1.5.0",
            "_model_name": "DescriptionStyleModel",
            "_view_count": null,
            "_view_module": "@jupyter-widgets/base",
            "_view_module_version": "1.2.0",
            "_view_name": "StyleView",
            "description_width": ""
          }
        },
        "1a5a1306ef1a4e94bc7291f9cedb6972": {
          "model_module": "@jupyter-widgets/base",
          "model_name": "LayoutModel",
          "model_module_version": "1.2.0",
          "state": {
            "_model_module": "@jupyter-widgets/base",
            "_model_module_version": "1.2.0",
            "_model_name": "LayoutModel",
            "_view_count": null,
            "_view_module": "@jupyter-widgets/base",
            "_view_module_version": "1.2.0",
            "_view_name": "LayoutView",
            "align_content": null,
            "align_items": null,
            "align_self": null,
            "border": null,
            "bottom": null,
            "display": null,
            "flex": null,
            "flex_flow": null,
            "grid_area": null,
            "grid_auto_columns": null,
            "grid_auto_flow": null,
            "grid_auto_rows": null,
            "grid_column": null,
            "grid_gap": null,
            "grid_row": null,
            "grid_template_areas": null,
            "grid_template_columns": null,
            "grid_template_rows": null,
            "height": null,
            "justify_content": null,
            "justify_items": null,
            "left": null,
            "margin": null,
            "max_height": null,
            "max_width": null,
            "min_height": null,
            "min_width": null,
            "object_fit": null,
            "object_position": null,
            "order": null,
            "overflow": null,
            "overflow_x": null,
            "overflow_y": null,
            "padding": null,
            "right": null,
            "top": null,
            "visibility": null,
            "width": null
          }
        },
        "f0926bd78af64a329259b0b149bc87b8": {
          "model_module": "@jupyter-widgets/controls",
          "model_name": "ProgressStyleModel",
          "model_module_version": "1.5.0",
          "state": {
            "_model_module": "@jupyter-widgets/controls",
            "_model_module_version": "1.5.0",
            "_model_name": "ProgressStyleModel",
            "_view_count": null,
            "_view_module": "@jupyter-widgets/base",
            "_view_module_version": "1.2.0",
            "_view_name": "StyleView",
            "bar_color": null,
            "description_width": ""
          }
        },
        "65978111236b4a4cb465faf1674b4d02": {
          "model_module": "@jupyter-widgets/base",
          "model_name": "LayoutModel",
          "model_module_version": "1.2.0",
          "state": {
            "_model_module": "@jupyter-widgets/base",
            "_model_module_version": "1.2.0",
            "_model_name": "LayoutModel",
            "_view_count": null,
            "_view_module": "@jupyter-widgets/base",
            "_view_module_version": "1.2.0",
            "_view_name": "LayoutView",
            "align_content": null,
            "align_items": null,
            "align_self": null,
            "border": null,
            "bottom": null,
            "display": null,
            "flex": null,
            "flex_flow": null,
            "grid_area": null,
            "grid_auto_columns": null,
            "grid_auto_flow": null,
            "grid_auto_rows": null,
            "grid_column": null,
            "grid_gap": null,
            "grid_row": null,
            "grid_template_areas": null,
            "grid_template_columns": null,
            "grid_template_rows": null,
            "height": null,
            "justify_content": null,
            "justify_items": null,
            "left": null,
            "margin": null,
            "max_height": null,
            "max_width": null,
            "min_height": null,
            "min_width": null,
            "object_fit": null,
            "object_position": null,
            "order": null,
            "overflow": null,
            "overflow_x": null,
            "overflow_y": null,
            "padding": null,
            "right": null,
            "top": null,
            "visibility": null,
            "width": null
          }
        },
        "15f23f3144d54970abe9829d326c31d2": {
          "model_module": "@jupyter-widgets/controls",
          "model_name": "DescriptionStyleModel",
          "model_module_version": "1.5.0",
          "state": {
            "_model_module": "@jupyter-widgets/controls",
            "_model_module_version": "1.5.0",
            "_model_name": "DescriptionStyleModel",
            "_view_count": null,
            "_view_module": "@jupyter-widgets/base",
            "_view_module_version": "1.2.0",
            "_view_name": "StyleView",
            "description_width": ""
          }
        },
        "f5826987023c4fb688a9149dcc06551d": {
          "model_module": "@jupyter-widgets/controls",
          "model_name": "HBoxModel",
          "model_module_version": "1.5.0",
          "state": {
            "_dom_classes": [],
            "_model_module": "@jupyter-widgets/controls",
            "_model_module_version": "1.5.0",
            "_model_name": "HBoxModel",
            "_view_count": null,
            "_view_module": "@jupyter-widgets/controls",
            "_view_module_version": "1.5.0",
            "_view_name": "HBoxView",
            "box_style": "",
            "children": [
              "IPY_MODEL_64540b44d98541a48030299c4e0b98cb",
              "IPY_MODEL_0028e0ef61ab49619578865e37f618dd",
              "IPY_MODEL_0db092bfcd6b4f51b4d25494cda6ae7c"
            ],
            "layout": "IPY_MODEL_5e6546e9d04d4dfab61dab91d1a784db"
          }
        },
        "64540b44d98541a48030299c4e0b98cb": {
          "model_module": "@jupyter-widgets/controls",
          "model_name": "HTMLModel",
          "model_module_version": "1.5.0",
          "state": {
            "_dom_classes": [],
            "_model_module": "@jupyter-widgets/controls",
            "_model_module_version": "1.5.0",
            "_model_name": "HTMLModel",
            "_view_count": null,
            "_view_module": "@jupyter-widgets/controls",
            "_view_module_version": "1.5.0",
            "_view_name": "HTMLView",
            "description": "",
            "description_tooltip": null,
            "layout": "IPY_MODEL_d7bf94e2334c4b33ac75270d54a4b4c7",
            "placeholder": "​",
            "style": "IPY_MODEL_4cfc09fe3e8547be940844f48023155c",
            "value": "Loading checkpoint shards: 100%"
          }
        },
        "0028e0ef61ab49619578865e37f618dd": {
          "model_module": "@jupyter-widgets/controls",
          "model_name": "FloatProgressModel",
          "model_module_version": "1.5.0",
          "state": {
            "_dom_classes": [],
            "_model_module": "@jupyter-widgets/controls",
            "_model_module_version": "1.5.0",
            "_model_name": "FloatProgressModel",
            "_view_count": null,
            "_view_module": "@jupyter-widgets/controls",
            "_view_module_version": "1.5.0",
            "_view_name": "ProgressView",
            "bar_style": "success",
            "description": "",
            "description_tooltip": null,
            "layout": "IPY_MODEL_1ee932799a7244b6bedccac494e193e2",
            "max": 2,
            "min": 0,
            "orientation": "horizontal",
            "style": "IPY_MODEL_cd6cacd5cae84c69a67d38fd8ff5087e",
            "value": 2
          }
        },
        "0db092bfcd6b4f51b4d25494cda6ae7c": {
          "model_module": "@jupyter-widgets/controls",
          "model_name": "HTMLModel",
          "model_module_version": "1.5.0",
          "state": {
            "_dom_classes": [],
            "_model_module": "@jupyter-widgets/controls",
            "_model_module_version": "1.5.0",
            "_model_name": "HTMLModel",
            "_view_count": null,
            "_view_module": "@jupyter-widgets/controls",
            "_view_module_version": "1.5.0",
            "_view_name": "HTMLView",
            "description": "",
            "description_tooltip": null,
            "layout": "IPY_MODEL_548b7d31643f4f9fa711edd2b2066c1b",
            "placeholder": "​",
            "style": "IPY_MODEL_665fb31846744aab90f10f7aa5b19bf5",
            "value": " 2/2 [00:26&lt;00:00, 11.19s/it]"
          }
        },
        "5e6546e9d04d4dfab61dab91d1a784db": {
          "model_module": "@jupyter-widgets/base",
          "model_name": "LayoutModel",
          "model_module_version": "1.2.0",
          "state": {
            "_model_module": "@jupyter-widgets/base",
            "_model_module_version": "1.2.0",
            "_model_name": "LayoutModel",
            "_view_count": null,
            "_view_module": "@jupyter-widgets/base",
            "_view_module_version": "1.2.0",
            "_view_name": "LayoutView",
            "align_content": null,
            "align_items": null,
            "align_self": null,
            "border": null,
            "bottom": null,
            "display": null,
            "flex": null,
            "flex_flow": null,
            "grid_area": null,
            "grid_auto_columns": null,
            "grid_auto_flow": null,
            "grid_auto_rows": null,
            "grid_column": null,
            "grid_gap": null,
            "grid_row": null,
            "grid_template_areas": null,
            "grid_template_columns": null,
            "grid_template_rows": null,
            "height": null,
            "justify_content": null,
            "justify_items": null,
            "left": null,
            "margin": null,
            "max_height": null,
            "max_width": null,
            "min_height": null,
            "min_width": null,
            "object_fit": null,
            "object_position": null,
            "order": null,
            "overflow": null,
            "overflow_x": null,
            "overflow_y": null,
            "padding": null,
            "right": null,
            "top": null,
            "visibility": null,
            "width": null
          }
        },
        "d7bf94e2334c4b33ac75270d54a4b4c7": {
          "model_module": "@jupyter-widgets/base",
          "model_name": "LayoutModel",
          "model_module_version": "1.2.0",
          "state": {
            "_model_module": "@jupyter-widgets/base",
            "_model_module_version": "1.2.0",
            "_model_name": "LayoutModel",
            "_view_count": null,
            "_view_module": "@jupyter-widgets/base",
            "_view_module_version": "1.2.0",
            "_view_name": "LayoutView",
            "align_content": null,
            "align_items": null,
            "align_self": null,
            "border": null,
            "bottom": null,
            "display": null,
            "flex": null,
            "flex_flow": null,
            "grid_area": null,
            "grid_auto_columns": null,
            "grid_auto_flow": null,
            "grid_auto_rows": null,
            "grid_column": null,
            "grid_gap": null,
            "grid_row": null,
            "grid_template_areas": null,
            "grid_template_columns": null,
            "grid_template_rows": null,
            "height": null,
            "justify_content": null,
            "justify_items": null,
            "left": null,
            "margin": null,
            "max_height": null,
            "max_width": null,
            "min_height": null,
            "min_width": null,
            "object_fit": null,
            "object_position": null,
            "order": null,
            "overflow": null,
            "overflow_x": null,
            "overflow_y": null,
            "padding": null,
            "right": null,
            "top": null,
            "visibility": null,
            "width": null
          }
        },
        "4cfc09fe3e8547be940844f48023155c": {
          "model_module": "@jupyter-widgets/controls",
          "model_name": "DescriptionStyleModel",
          "model_module_version": "1.5.0",
          "state": {
            "_model_module": "@jupyter-widgets/controls",
            "_model_module_version": "1.5.0",
            "_model_name": "DescriptionStyleModel",
            "_view_count": null,
            "_view_module": "@jupyter-widgets/base",
            "_view_module_version": "1.2.0",
            "_view_name": "StyleView",
            "description_width": ""
          }
        },
        "1ee932799a7244b6bedccac494e193e2": {
          "model_module": "@jupyter-widgets/base",
          "model_name": "LayoutModel",
          "model_module_version": "1.2.0",
          "state": {
            "_model_module": "@jupyter-widgets/base",
            "_model_module_version": "1.2.0",
            "_model_name": "LayoutModel",
            "_view_count": null,
            "_view_module": "@jupyter-widgets/base",
            "_view_module_version": "1.2.0",
            "_view_name": "LayoutView",
            "align_content": null,
            "align_items": null,
            "align_self": null,
            "border": null,
            "bottom": null,
            "display": null,
            "flex": null,
            "flex_flow": null,
            "grid_area": null,
            "grid_auto_columns": null,
            "grid_auto_flow": null,
            "grid_auto_rows": null,
            "grid_column": null,
            "grid_gap": null,
            "grid_row": null,
            "grid_template_areas": null,
            "grid_template_columns": null,
            "grid_template_rows": null,
            "height": null,
            "justify_content": null,
            "justify_items": null,
            "left": null,
            "margin": null,
            "max_height": null,
            "max_width": null,
            "min_height": null,
            "min_width": null,
            "object_fit": null,
            "object_position": null,
            "order": null,
            "overflow": null,
            "overflow_x": null,
            "overflow_y": null,
            "padding": null,
            "right": null,
            "top": null,
            "visibility": null,
            "width": null
          }
        },
        "cd6cacd5cae84c69a67d38fd8ff5087e": {
          "model_module": "@jupyter-widgets/controls",
          "model_name": "ProgressStyleModel",
          "model_module_version": "1.5.0",
          "state": {
            "_model_module": "@jupyter-widgets/controls",
            "_model_module_version": "1.5.0",
            "_model_name": "ProgressStyleModel",
            "_view_count": null,
            "_view_module": "@jupyter-widgets/base",
            "_view_module_version": "1.2.0",
            "_view_name": "StyleView",
            "bar_color": null,
            "description_width": ""
          }
        },
        "548b7d31643f4f9fa711edd2b2066c1b": {
          "model_module": "@jupyter-widgets/base",
          "model_name": "LayoutModel",
          "model_module_version": "1.2.0",
          "state": {
            "_model_module": "@jupyter-widgets/base",
            "_model_module_version": "1.2.0",
            "_model_name": "LayoutModel",
            "_view_count": null,
            "_view_module": "@jupyter-widgets/base",
            "_view_module_version": "1.2.0",
            "_view_name": "LayoutView",
            "align_content": null,
            "align_items": null,
            "align_self": null,
            "border": null,
            "bottom": null,
            "display": null,
            "flex": null,
            "flex_flow": null,
            "grid_area": null,
            "grid_auto_columns": null,
            "grid_auto_flow": null,
            "grid_auto_rows": null,
            "grid_column": null,
            "grid_gap": null,
            "grid_row": null,
            "grid_template_areas": null,
            "grid_template_columns": null,
            "grid_template_rows": null,
            "height": null,
            "justify_content": null,
            "justify_items": null,
            "left": null,
            "margin": null,
            "max_height": null,
            "max_width": null,
            "min_height": null,
            "min_width": null,
            "object_fit": null,
            "object_position": null,
            "order": null,
            "overflow": null,
            "overflow_x": null,
            "overflow_y": null,
            "padding": null,
            "right": null,
            "top": null,
            "visibility": null,
            "width": null
          }
        },
        "665fb31846744aab90f10f7aa5b19bf5": {
          "model_module": "@jupyter-widgets/controls",
          "model_name": "DescriptionStyleModel",
          "model_module_version": "1.5.0",
          "state": {
            "_model_module": "@jupyter-widgets/controls",
            "_model_module_version": "1.5.0",
            "_model_name": "DescriptionStyleModel",
            "_view_count": null,
            "_view_module": "@jupyter-widgets/base",
            "_view_module_version": "1.2.0",
            "_view_name": "StyleView",
            "description_width": ""
          }
        }
      }
    }
  },
  "nbformat_minor": 0,
  "nbformat": 4,
  "cells": [
    {
      "cell_type": "markdown",
      "metadata": {
        "id": "view-in-github",
        "colab_type": "text"
      },
      "source": [
        "<a href=\"https://colab.research.google.com/github/apoorvapu/data_science/blob/main/Fine_tuningLLM_text_generation.ipynb\" target=\"_parent\"><img src=\"https://colab.research.google.com/assets/colab-badge.svg\" alt=\"Open In Colab\"/></a>"
      ]
    },
    {
      "cell_type": "markdown",
      "source": [
        "# Notebook Imports and Initial Setup\n",
        "\n",
        "In the initial cells, essential libraries and dependencies are imported, setting up the environment for the fine-tuning process. We use a custom trainer, configure GPU settings, and set up necessary libraries like Hugging Face's `transformers` and `peft` (Parameter-Efficient Fine-Tuning)."
      ],
      "metadata": {
        "id": "LqH4EtBZl1_S"
      }
    },
    {
      "cell_type": "code",
      "source": [
        "!pip install --upgrade peft transformers bitsandbytes datasets"
      ],
      "metadata": {
        "_uuid": "8f2839f25d086af736a60e9eeb907d3b93b6e0e5",
        "_cell_guid": "b1076dfc-b9ad-4769-8c92-a6c4dae69d19",
        "execution": {
          "iopub.status.busy": "2025-04-08T23:43:18.516494Z",
          "iopub.execute_input": "2025-04-08T23:43:18.516888Z",
          "iopub.status.idle": "2025-04-08T23:43:38.157004Z",
          "shell.execute_reply.started": "2025-04-08T23:43:18.516854Z",
          "shell.execute_reply": "2025-04-08T23:43:38.155878Z"
        },
        "trusted": true,
        "colab": {
          "base_uri": "https://localhost:8080/"
        },
        "id": "fCSSHYEDl1_W",
        "outputId": "944fd059-37d2-4031-ca44-204188d898b8"
      },
      "outputs": [
        {
          "output_type": "stream",
          "name": "stdout",
          "text": [
            "Requirement already satisfied: peft in /usr/local/lib/python3.11/dist-packages (0.15.2)\n",
            "Requirement already satisfied: transformers in /usr/local/lib/python3.11/dist-packages (4.51.3)\n",
            "Requirement already satisfied: bitsandbytes in /usr/local/lib/python3.11/dist-packages (0.45.5)\n",
            "Requirement already satisfied: datasets in /usr/local/lib/python3.11/dist-packages (3.5.0)\n",
            "Requirement already satisfied: numpy>=1.17 in /usr/local/lib/python3.11/dist-packages (from peft) (2.0.2)\n",
            "Requirement already satisfied: packaging>=20.0 in /usr/local/lib/python3.11/dist-packages (from peft) (24.2)\n",
            "Requirement already satisfied: psutil in /usr/local/lib/python3.11/dist-packages (from peft) (5.9.5)\n",
            "Requirement already satisfied: pyyaml in /usr/local/lib/python3.11/dist-packages (from peft) (6.0.2)\n",
            "Requirement already satisfied: torch>=1.13.0 in /usr/local/lib/python3.11/dist-packages (from peft) (2.6.0+cu124)\n",
            "Requirement already satisfied: tqdm in /usr/local/lib/python3.11/dist-packages (from peft) (4.67.1)\n",
            "Requirement already satisfied: accelerate>=0.21.0 in /usr/local/lib/python3.11/dist-packages (from peft) (1.5.2)\n",
            "Requirement already satisfied: safetensors in /usr/local/lib/python3.11/dist-packages (from peft) (0.5.3)\n",
            "Requirement already satisfied: huggingface_hub>=0.25.0 in /usr/local/lib/python3.11/dist-packages (from peft) (0.30.2)\n",
            "Requirement already satisfied: filelock in /usr/local/lib/python3.11/dist-packages (from transformers) (3.18.0)\n",
            "Requirement already satisfied: regex!=2019.12.17 in /usr/local/lib/python3.11/dist-packages (from transformers) (2024.11.6)\n",
            "Requirement already satisfied: requests in /usr/local/lib/python3.11/dist-packages (from transformers) (2.32.3)\n",
            "Requirement already satisfied: tokenizers<0.22,>=0.21 in /usr/local/lib/python3.11/dist-packages (from transformers) (0.21.1)\n",
            "Requirement already satisfied: pyarrow>=15.0.0 in /usr/local/lib/python3.11/dist-packages (from datasets) (18.1.0)\n",
            "Requirement already satisfied: dill<0.3.9,>=0.3.0 in /usr/local/lib/python3.11/dist-packages (from datasets) (0.3.8)\n",
            "Requirement already satisfied: pandas in /usr/local/lib/python3.11/dist-packages (from datasets) (2.2.2)\n",
            "Requirement already satisfied: xxhash in /usr/local/lib/python3.11/dist-packages (from datasets) (3.5.0)\n",
            "Requirement already satisfied: multiprocess<0.70.17 in /usr/local/lib/python3.11/dist-packages (from datasets) (0.70.16)\n",
            "Requirement already satisfied: fsspec<=2024.12.0,>=2023.1.0 in /usr/local/lib/python3.11/dist-packages (from fsspec[http]<=2024.12.0,>=2023.1.0->datasets) (2024.12.0)\n",
            "Requirement already satisfied: aiohttp in /usr/local/lib/python3.11/dist-packages (from datasets) (3.11.15)\n",
            "Requirement already satisfied: aiohappyeyeballs>=2.3.0 in /usr/local/lib/python3.11/dist-packages (from aiohttp->datasets) (2.6.1)\n",
            "Requirement already satisfied: aiosignal>=1.1.2 in /usr/local/lib/python3.11/dist-packages (from aiohttp->datasets) (1.3.2)\n",
            "Requirement already satisfied: attrs>=17.3.0 in /usr/local/lib/python3.11/dist-packages (from aiohttp->datasets) (25.3.0)\n",
            "Requirement already satisfied: frozenlist>=1.1.1 in /usr/local/lib/python3.11/dist-packages (from aiohttp->datasets) (1.5.0)\n",
            "Requirement already satisfied: multidict<7.0,>=4.5 in /usr/local/lib/python3.11/dist-packages (from aiohttp->datasets) (6.4.3)\n",
            "Requirement already satisfied: propcache>=0.2.0 in /usr/local/lib/python3.11/dist-packages (from aiohttp->datasets) (0.3.1)\n",
            "Requirement already satisfied: yarl<2.0,>=1.17.0 in /usr/local/lib/python3.11/dist-packages (from aiohttp->datasets) (1.19.0)\n",
            "Requirement already satisfied: typing-extensions>=3.7.4.3 in /usr/local/lib/python3.11/dist-packages (from huggingface_hub>=0.25.0->peft) (4.13.2)\n",
            "Requirement already satisfied: charset-normalizer<4,>=2 in /usr/local/lib/python3.11/dist-packages (from requests->transformers) (3.4.1)\n",
            "Requirement already satisfied: idna<4,>=2.5 in /usr/local/lib/python3.11/dist-packages (from requests->transformers) (3.10)\n",
            "Requirement already satisfied: urllib3<3,>=1.21.1 in /usr/local/lib/python3.11/dist-packages (from requests->transformers) (2.3.0)\n",
            "Requirement already satisfied: certifi>=2017.4.17 in /usr/local/lib/python3.11/dist-packages (from requests->transformers) (2025.1.31)\n",
            "Requirement already satisfied: networkx in /usr/local/lib/python3.11/dist-packages (from torch>=1.13.0->peft) (3.4.2)\n",
            "Requirement already satisfied: jinja2 in /usr/local/lib/python3.11/dist-packages (from torch>=1.13.0->peft) (3.1.6)\n",
            "Requirement already satisfied: nvidia-cuda-nvrtc-cu12==12.4.127 in /usr/local/lib/python3.11/dist-packages (from torch>=1.13.0->peft) (12.4.127)\n",
            "Requirement already satisfied: nvidia-cuda-runtime-cu12==12.4.127 in /usr/local/lib/python3.11/dist-packages (from torch>=1.13.0->peft) (12.4.127)\n",
            "Requirement already satisfied: nvidia-cuda-cupti-cu12==12.4.127 in /usr/local/lib/python3.11/dist-packages (from torch>=1.13.0->peft) (12.4.127)\n",
            "Requirement already satisfied: nvidia-cudnn-cu12==9.1.0.70 in /usr/local/lib/python3.11/dist-packages (from torch>=1.13.0->peft) (9.1.0.70)\n",
            "Requirement already satisfied: nvidia-cublas-cu12==12.4.5.8 in /usr/local/lib/python3.11/dist-packages (from torch>=1.13.0->peft) (12.4.5.8)\n",
            "Requirement already satisfied: nvidia-cufft-cu12==11.2.1.3 in /usr/local/lib/python3.11/dist-packages (from torch>=1.13.0->peft) (11.2.1.3)\n",
            "Requirement already satisfied: nvidia-curand-cu12==10.3.5.147 in /usr/local/lib/python3.11/dist-packages (from torch>=1.13.0->peft) (10.3.5.147)\n",
            "Requirement already satisfied: nvidia-cusolver-cu12==11.6.1.9 in /usr/local/lib/python3.11/dist-packages (from torch>=1.13.0->peft) (11.6.1.9)\n",
            "Requirement already satisfied: nvidia-cusparse-cu12==12.3.1.170 in /usr/local/lib/python3.11/dist-packages (from torch>=1.13.0->peft) (12.3.1.170)\n",
            "Requirement already satisfied: nvidia-cusparselt-cu12==0.6.2 in /usr/local/lib/python3.11/dist-packages (from torch>=1.13.0->peft) (0.6.2)\n",
            "Requirement already satisfied: nvidia-nccl-cu12==2.21.5 in /usr/local/lib/python3.11/dist-packages (from torch>=1.13.0->peft) (2.21.5)\n",
            "Requirement already satisfied: nvidia-nvtx-cu12==12.4.127 in /usr/local/lib/python3.11/dist-packages (from torch>=1.13.0->peft) (12.4.127)\n",
            "Requirement already satisfied: nvidia-nvjitlink-cu12==12.4.127 in /usr/local/lib/python3.11/dist-packages (from torch>=1.13.0->peft) (12.4.127)\n",
            "Requirement already satisfied: triton==3.2.0 in /usr/local/lib/python3.11/dist-packages (from torch>=1.13.0->peft) (3.2.0)\n",
            "Requirement already satisfied: sympy==1.13.1 in /usr/local/lib/python3.11/dist-packages (from torch>=1.13.0->peft) (1.13.1)\n",
            "Requirement already satisfied: mpmath<1.4,>=1.1.0 in /usr/local/lib/python3.11/dist-packages (from sympy==1.13.1->torch>=1.13.0->peft) (1.3.0)\n",
            "Requirement already satisfied: python-dateutil>=2.8.2 in /usr/local/lib/python3.11/dist-packages (from pandas->datasets) (2.8.2)\n",
            "Requirement already satisfied: pytz>=2020.1 in /usr/local/lib/python3.11/dist-packages (from pandas->datasets) (2025.2)\n",
            "Requirement already satisfied: tzdata>=2022.7 in /usr/local/lib/python3.11/dist-packages (from pandas->datasets) (2025.2)\n",
            "Requirement already satisfied: six>=1.5 in /usr/local/lib/python3.11/dist-packages (from python-dateutil>=2.8.2->pandas->datasets) (1.17.0)\n",
            "Requirement already satisfied: MarkupSafe>=2.0 in /usr/local/lib/python3.11/dist-packages (from jinja2->torch>=1.13.0->peft) (3.0.2)\n"
          ]
        }
      ],
      "execution_count": 1
    },
    {
      "cell_type": "code",
      "source": [
        "import torch\n",
        "from transformers import (\n",
        "    AutoModelForCausalLM,\n",
        "    AutoTokenizer,\n",
        "    Trainer,\n",
        "    TrainingArguments,\n",
        "    DataCollatorForLanguageModeling,\n",
        "    BitsAndBytesConfig\n",
        ")\n",
        "from peft import get_peft_model, LoraConfig, TaskType"
      ],
      "metadata": {
        "execution": {
          "iopub.status.busy": "2025-04-08T23:43:38.158574Z",
          "iopub.execute_input": "2025-04-08T23:43:38.158854Z",
          "iopub.status.idle": "2025-04-08T23:44:02.062042Z",
          "shell.execute_reply.started": "2025-04-08T23:43:38.158830Z",
          "shell.execute_reply": "2025-04-08T23:44:02.061237Z"
        },
        "trusted": true,
        "id": "eILVJM0rl1_Z"
      },
      "outputs": [],
      "execution_count": 2
    },
    {
      "cell_type": "code",
      "source": [
        "import os\n",
        "os.environ['PYTORCH_CUDA_ALLOC_CONF'] = 'expandable_segments:True'"
      ],
      "metadata": {
        "execution": {
          "iopub.status.busy": "2025-04-08T23:44:02.063453Z",
          "iopub.execute_input": "2025-04-08T23:44:02.064153Z",
          "iopub.status.idle": "2025-04-08T23:44:02.068013Z",
          "shell.execute_reply.started": "2025-04-08T23:44:02.064099Z",
          "shell.execute_reply": "2025-04-08T23:44:02.067041Z"
        },
        "trusted": true,
        "id": "kG8M-o00l1_b"
      },
      "outputs": [],
      "execution_count": 3
    },
    {
      "cell_type": "markdown",
      "source": [
        "**Load Datasets**"
      ],
      "metadata": {
        "id": "rTDCuRfvl1_d"
      }
    },
    {
      "cell_type": "code",
      "source": [
        "from datasets import load_dataset\n",
        "\n",
        "# Load the Sanskrit dataset from OSCAR\n",
        "dataset = load_dataset('oscar', 'unshuffled_deduplicated_sa', split='train')"
      ],
      "metadata": {
        "execution": {
          "iopub.status.busy": "2025-04-08T23:44:02.069857Z",
          "iopub.execute_input": "2025-04-08T23:44:02.070265Z",
          "iopub.status.idle": "2025-04-08T23:45:00.809848Z",
          "shell.execute_reply.started": "2025-04-08T23:44:02.070231Z",
          "shell.execute_reply": "2025-04-08T23:45:00.808974Z"
        },
        "trusted": true,
        "colab": {
          "base_uri": "https://localhost:8080/"
        },
        "id": "B9ZQWDkQl1_e",
        "outputId": "52f6e2dc-2898-4188-a067-a1fe4d8c86c6"
      },
      "outputs": [
        {
          "output_type": "stream",
          "name": "stderr",
          "text": [
            "/usr/local/lib/python3.11/dist-packages/huggingface_hub/utils/_auth.py:94: UserWarning: \n",
            "The secret `HF_TOKEN` does not exist in your Colab secrets.\n",
            "To authenticate with the Hugging Face Hub, create a token in your settings tab (https://huggingface.co/settings/tokens), set it as secret in your Google Colab and restart your session.\n",
            "You will be able to reuse this secret in all of your notebooks.\n",
            "Please note that authentication is recommended but still optional to access public models or datasets.\n",
            "  warnings.warn(\n"
          ]
        }
      ],
      "execution_count": 4
    },
    {
      "cell_type": "code",
      "source": [
        "# Display a few samples\n",
        "\n",
        "for i in range(3):\n",
        "    print(f\"Sample {i+1}:\\n{dataset[i]['text']}\\n\")"
      ],
      "metadata": {
        "execution": {
          "iopub.status.busy": "2025-04-08T23:45:00.810773Z",
          "iopub.execute_input": "2025-04-08T23:45:00.811021Z",
          "iopub.status.idle": "2025-04-08T23:45:00.817546Z",
          "shell.execute_reply.started": "2025-04-08T23:45:00.811001Z",
          "shell.execute_reply": "2025-04-08T23:45:00.816318Z"
        },
        "trusted": true,
        "colab": {
          "base_uri": "https://localhost:8080/"
        },
        "id": "z-P192IUl1_f",
        "outputId": "8c62553c-bda0-4166-a57d-4fef12b46c21"
      },
      "outputs": [
        {
          "output_type": "stream",
          "name": "stdout",
          "text": [
            "Sample 1:\n",
            "अनिरुद्धनगरे क्रीडिता रामलीला सम्‍प्रति समाप्‍ता अस्ति । तस्‍य कानिचन् चित्राणि पूर्वमेव प्रकाशितानि सन्ति । द्वौ चलचित्रौ अपि प्रकाशितौ । तस्मिन् एव क्रमेण एतत् सीतास्‍वयंबर इति चलचित्रं प्रकाश्यते ।\n",
            "लट् लकार: एकवचनम् द्विवचनम्बहुवचनम्प्रथमपुरुष:गच्‍छतिगच्‍छत:गच्‍छन्तिमध्‍यमपुरुष:गच्‍छसिगच्‍छथ:गच्‍छथउत्‍तमपुरुष:गच्‍छामिगच्‍छाव:गच्‍छाम:\n",
            "\n",
            "Sample 2:\n",
            "पाठः क्रियेटिव कॉमन्स ऐट्रिब्यूशन/शेयर-अलाइक अभिज्ञापत्रस्य अन्तर्गततया उपलब्धः अस्ति; अन्याः संस्थित्यः अपि सन्ति । अधिकं ज्ञातुम् अत्र उपयोगस्य संस्थितिं पश्यतु ।\n",
            "\n",
            "Sample 3:\n",
            "स्थिते च कवचे देहे नास्ति मृत्युश्च जीविनाम् । अस्त्रे-शस्त्रे-जले-वह्नौ सिद्धिश्चेन्नास्ति संशयः ॥ ४॥\n",
            "प्राच्यां मां पातु भूतेशः आग्नेय्यां पातु शङ्करः । दक्षिणे पातु मां रुद्रो नैॠत्यां स्थाणुरेव च ॥ ११॥\n",
            "\n"
          ]
        }
      ],
      "execution_count": 5
    },
    {
      "cell_type": "markdown",
      "source": [
        "**Data Cleaning**"
      ],
      "metadata": {
        "id": "9Zl1qU86l1_h"
      }
    },
    {
      "cell_type": "code",
      "source": [
        "import re\n",
        "\n",
        "def clean_text(example):\n",
        "    text = example['text']\n",
        "    # Remove HTML tags\n",
        "    text = re.sub(r'<[^>]+>', '', text)\n",
        "    # Remove URLs\n",
        "    text = re.sub(r'http\\S+', '', text)\n",
        "    # Remove extra whitespace\n",
        "    text = re.sub(r'\\s+', ' ', text).strip()\n",
        "    # Remove non-Sanskrit characters (retain Devanagari script)\n",
        "    text = re.sub(r'[^\\u0900-\\u097F\\s]', '', text)\n",
        "    return {'text': text}\n",
        "\n",
        "# Apply the cleaning function\n",
        "dataset = dataset.map(clean_text)"
      ],
      "metadata": {
        "execution": {
          "iopub.status.busy": "2025-04-08T23:45:00.818498Z",
          "iopub.execute_input": "2025-04-08T23:45:00.818811Z",
          "iopub.status.idle": "2025-04-08T23:45:02.805724Z",
          "shell.execute_reply.started": "2025-04-08T23:45:00.818771Z",
          "shell.execute_reply": "2025-04-08T23:45:02.804710Z"
        },
        "trusted": true,
        "id": "XOXKLALAl1_i"
      },
      "outputs": [],
      "execution_count": 6
    },
    {
      "cell_type": "code",
      "source": [
        "def filter_short_texts(example):\n",
        "    return len(example['text'].split()) > 10  # Keep texts longer than 10 words\n",
        "\n",
        "dataset = dataset.filter(filter_short_texts)"
      ],
      "metadata": {
        "execution": {
          "iopub.status.busy": "2025-04-08T23:45:02.806971Z",
          "iopub.execute_input": "2025-04-08T23:45:02.807368Z",
          "iopub.status.idle": "2025-04-08T23:45:03.130009Z",
          "shell.execute_reply.started": "2025-04-08T23:45:02.807330Z",
          "shell.execute_reply": "2025-04-08T23:45:03.128941Z"
        },
        "trusted": true,
        "id": "aAtHRxO3l1_m"
      },
      "outputs": [],
      "execution_count": 7
    },
    {
      "cell_type": "code",
      "source": [
        "dataset[0]"
      ],
      "metadata": {
        "colab": {
          "base_uri": "https://localhost:8080/"
        },
        "id": "rloKkiXet07I",
        "outputId": "0bc6441c-ef07-4b8b-95bb-5c5409880847"
      },
      "execution_count": 8,
      "outputs": [
        {
          "output_type": "execute_result",
          "data": {
            "text/plain": [
              "{'id': 0,\n",
              " 'text': 'अनिरुद्धनगरे क्रीडिता रामलीला सम्प्रति समाप्ता अस्ति । तस्य कानिचन् चित्राणि पूर्वमेव प्रकाशितानि सन्ति । द्वौ चलचित्रौ अपि प्रकाशितौ । तस्मिन् एव क्रमेण एतत् सीतास्वयंबर इति चलचित्रं प्रकाश्यते । लट् लकार एकवचनम् द्विवचनम्बहुवचनम्प्रथमपुरुषगच्छतिगच्छतगच्छन्तिमध्यमपुरुषगच्छसिगच्छथगच्छथउत्तमपुरुषगच्छामिगच्छावगच्छाम'}"
            ]
          },
          "metadata": {},
          "execution_count": 8
        }
      ]
    },
    {
      "cell_type": "code",
      "source": [
        "from google.colab import drive\n",
        "drive.mount('/content/drive')\n",
        "\n",
        "with open('/content/drive/MyDrive/hf_token.txt', 'r') as f:\n",
        "    hf_token = f.read().strip()\n",
        "\n",
        "from huggingface_hub import login\n",
        "login(token=hf_token)\n",
        "\n"
      ],
      "metadata": {
        "execution": {
          "iopub.status.busy": "2025-04-08T23:45:03.133018Z",
          "iopub.execute_input": "2025-04-08T23:45:03.133299Z",
          "iopub.status.idle": "2025-04-08T23:45:03.137322Z",
          "shell.execute_reply.started": "2025-04-08T23:45:03.133276Z",
          "shell.execute_reply": "2025-04-08T23:45:03.136256Z"
        },
        "trusted": true,
        "colab": {
          "base_uri": "https://localhost:8080/"
        },
        "id": "xqrWDqHSl1_p",
        "outputId": "804d8296-e1be-4b47-8170-67f836dd2e2f"
      },
      "outputs": [
        {
          "output_type": "stream",
          "name": "stdout",
          "text": [
            "Drive already mounted at /content/drive; to attempt to forcibly remount, call drive.mount(\"/content/drive\", force_remount=True).\n"
          ]
        }
      ],
      "execution_count": 9
    },
    {
      "cell_type": "code",
      "source": [
        "model_name = 'google/gemma-2-2b-it'\n"
      ],
      "metadata": {
        "id": "fTLVxKySJNcE"
      },
      "execution_count": 4,
      "outputs": []
    },
    {
      "cell_type": "code",
      "source": [
        "tokenizer = AutoTokenizer.from_pretrained(model_name)\n",
        "# Tokenize the first example in the dataset\n",
        "tokens = tokenizer(dataset[0]['text'])\n",
        "\n",
        "# Get the length of the tokenized sentence\n",
        "length = len(tokens['input_ids'])\n",
        "\n",
        "# Decode the tokens back to the original sentence\n",
        "decoded_sentence = tokenizer.decode(tokens['input_ids'])\n",
        "\n",
        "print(f\"Sentence: {decoded_sentence}\")\n",
        "print(f\"Length (in tokens): {length}\")\n"
      ],
      "metadata": {
        "colab": {
          "base_uri": "https://localhost:8080/"
        },
        "id": "Cg7UpUtXxKz5",
        "outputId": "097ba98c-6fc9-4837-eb03-7cfa72e58180"
      },
      "execution_count": 10,
      "outputs": [
        {
          "output_type": "stream",
          "name": "stdout",
          "text": [
            "Sentence: <bos>अनिरुद्धनगरे क्रीडिता रामलीला सम्प्रति समाप्ता अस्ति । तस्य कानिचन् चित्राणि पूर्वमेव प्रकाशितानि सन्ति । द्वौ चलचित्रौ अपि प्रकाशितौ । तस्मिन् एव क्रमेण एतत् सीतास्वयंबर इति चलचित्रं प्रकाश्यते । लट् लकार एकवचनम् द्विवचनम्बहुवचनम्प्रथमपुरुषगच्छतिगच्छतगच्छन्तिमध्यमपुरुषगच्छसिगच्छथगच्छथउत्तमपुरुषगच्छामिगच्छावगच्छाम\n",
            "Length (in tokens): 149\n"
          ]
        }
      ]
    },
    {
      "cell_type": "code",
      "source": [
        "dataset[2]"
      ],
      "metadata": {
        "colab": {
          "base_uri": "https://localhost:8080/"
        },
        "id": "0fMLVoCwt8p3",
        "outputId": "f56e956b-203a-479c-bd4f-b6ed34e782b3"
      },
      "execution_count": 11,
      "outputs": [
        {
          "output_type": "execute_result",
          "data": {
            "text/plain": [
              "{'id': 2,\n",
              " 'text': 'स्थिते च कवचे देहे नास्ति मृत्युश्च जीविनाम् । अस्त्रेशस्त्रेजलेवह्नौ सिद्धिश्चेन्नास्ति संशयः ॥ ४॥ प्राच्यां मां पातु भूतेशः आग्नेय्यां पातु शङ्करः । दक्षिणे पातु मां रुद्रो नैॠत्यां स्थाणुरेव च ॥ ११॥'}"
            ]
          },
          "metadata": {},
          "execution_count": 11
        }
      ]
    },
    {
      "cell_type": "code",
      "source": [
        "# Tokenize the first example in the dataset\n",
        "tokens = tokenizer(dataset[2]['text'])\n",
        "\n",
        "# Get the length of the tokenized sentence\n",
        "length = len(tokens['input_ids'])\n",
        "\n",
        "# Decode the tokens back to the original sentence\n",
        "decoded_sentence = tokenizer.decode(tokens['input_ids'])\n",
        "\n",
        "print(f\"Sentence: {decoded_sentence}\")\n",
        "print(f\"Length (in tokens): {length}\")\n"
      ],
      "metadata": {
        "colab": {
          "base_uri": "https://localhost:8080/"
        },
        "outputId": "c6093af6-1afb-4711-d1ca-4d816af61aa3",
        "id": "BWmtVXMhxTEf"
      },
      "execution_count": 12,
      "outputs": [
        {
          "output_type": "stream",
          "name": "stdout",
          "text": [
            "Sentence: <bos>स्थिते च कवचे देहे नास्ति मृत्युश्च जीविनाम् । अस्त्रेशस्त्रेजलेवह्नौ सिद्धिश्चेन्नास्ति संशयः ॥ ४॥ प्राच्यां मां पातु भूतेशः आग्नेय्यां पातु शङ्करः । दक्षिणे पातु मां रुद्रो नैॠत्यां स्थाणुरेव च ॥ ११॥\n",
            "Length (in tokens): 105\n"
          ]
        }
      ]
    },
    {
      "cell_type": "code",
      "source": [
        "# Initialize variables to store the sentence with the maximum length\n",
        "max_length = 0\n",
        "max_sentence = \"\"\n",
        "\n",
        "# Iterate through the dataset\n",
        "for example in dataset:\n",
        "    tokens = tokenizer(example['text'])\n",
        "    length = len(tokens['input_ids'])\n",
        "\n",
        "    if length > max_length:\n",
        "        max_length = length\n",
        "        max_sentence = example['text']\n",
        "\n",
        "# Output the sentence with the maximum length\n",
        "print(f\"Sentence with maximum length:\\n{max_sentence}\")\n",
        "print(f\"Token length: {max_length}\")\n",
        "\n"
      ],
      "metadata": {
        "colab": {
          "base_uri": "https://localhost:8080/"
        },
        "id": "ZuwhhT1KwauT",
        "outputId": "d1cccfa2-64bf-452f-ac8c-31c1c9343450"
      },
      "execution_count": 13,
      "outputs": [
        {
          "output_type": "stream",
          "name": "stdout",
          "text": [
            "Sentence with maximum length:\n",
            "ब्रह्म॒ सन्ध॑त्तं॒ तन्मे॑ जिन्वतम् । क्ष॒त्त्र सन्ध॑त्तं॒ तन्मे॑ जिन्वतम् । इष॒॒ सन्ध॑त्तं॒ तां मे॑ जिन्वतम् । ऊर्ज॒॒ सन्ध॑त्तं॒ तां मे॑ जिन्वतम् । र॒यि सन्ध॑त्तं॒ तां मे॑ जिन्वतम् । पुष्टि॒॒ सन्ध॑त्तं॒ तां मे॑ जिन्वतम् । प्र॒जा सन्ध॑त्तं॒ तां मे॑ जिन्वतम् । प॒शून्थ्सन्ध॑त्तं॒ तान्मे॑ जिन्वतम् । स्तु॒तो॑ऽसि॒ जन॑धाः । दे॒वास्त्वा॑ शुक्र॒पा प्रण॑यन्तु ।।  ।। प्रा॒णं य॒ज्ञप॑तये धत्तम् । चक्षु॑स्स्थ॒श्चक्षु॑र्मे धत्तम् । चक्षु॑र्य॒ज्ञाय॑ धत्तम् । चक्षु॑र्य॒ज्ञप॑तये धत्तम् । श्रोत्र॑ स्थ॒श्श्रोत्रं॑ मे धत्तम् । श्रोत्रं॑ य॒ज्ञाय॑ धत्तम् । श्रोत्रं॑ य॒ज्ञप॑तये धत्तम् । तौ दे॑वौ शुक्रामन्थिनौ । क॒ल्पय॑तं॒ दैवी॒र्विशः॑ । क॒ल्पय॑तं॒ मानु॑षीः ।।  ।। इष॒मूर्ज॑म॒स्मासु॑ धत्तम् । प्रा॒णान्प॒शुषु॑ । प्र॒जां मयि॑ च॒ यज॑माने च । निर॑स्त॒श्शण्डः॑ । निर॑स्तो॒ मर्कः॑ । अप॑नुत्तौ॒ शण्डा॒मर्कौ॑ स॒हामुना । शु॒क्रस्य॑ स॒मिद॑सि । म॒न्थिन॑स्स॒मिद॑सि । स प्र॑थ॒मस्संकृ॑तिर्वि॒श्वक॑र्मा । स प्र॑थ॒मो मि॒त्रो वरु॑णो अ॒ग्निः । स प्र॑थ॒मो बृह॒स्पति॑श्चिकि॒त्वान् । तस्मा॒ इन्द्रा॑य सु॒तमा जु॑होमि ।।  ।। कृत्ति॑कास्व॒ग्निमाद॑धीत । ए॒तद्वा अ॒ग्नेर्नक्ष॑त्त्रम् । यत्कृत्ति॑काः । स्वाया॑मै॒वैनं॑ दे॒वता॑यामा॒धाय॑ । ब्र॒ह्म॒व॒र्च॒सी भ॑वति । मुखं॒ वा ए॒तन्नक्ष॑त्त्राणाम् । यत्कृत्ति॑काः । य कृत्ति॑कास्व॒ग्निमा॑ध॒त्ते । मुख्य॑ ए॒व भ॑वति । अथो॒ खलु॑ ।।  ।। अ॒र्य॒म्णो वा ए॒तन्नक्ष॑त्त्रम् । यत्पूर्वे॒ फल्गु॑नी । अ॒र्य॒मेति॒ तमा॑हु॒र्यो ददा॑ति । दान॑कामा अस्मै प्र॒जा भ॑वन्ति । य का॒मये॑त भ॒गी स्या॒मिति॑ । स उत्त॑रयो॒ फल्गु॑न्योर॒ग्निमाद॑धीत । भग॑स्य॒ वा ए॒तन्नक्ष॑त्त्रम् । यदुत्त॑रे॒ फल्गु॑नी । भ॒ग्ये॑व भ॑वति । का॒ल॒क॒ञ्जा वै नामासु॑रा आसन्न् ।।  ।। ते सु॑व॒र्गाय॑ लो॒काया॒ग्निम॑चिन्वत । पुरु॑ष॒ इष्ट॑का॒मुपा॑दधा॒त्पुरु॑ष॒ इष्ट॑काम् । स इन्द्रो ब्राह्म॒णो ब्रुवा॑ण॒ इष्ट॑का॒मुपा॑धत्त । ए॒षा मे॑ चि॒त्रा नामेति॑ । ते सु॑व॒र्गं लो॒कमा प्रारो॑हन्न् । स इन्द्र॒ इष्ट॑का॒मावृ॑हत् । तेऽवा॑कीर्यन्त । ये॑ऽवाकीर्यन्त । त ऊर्णा॒वभ॑योऽभवन्न् । द्वावुद॑पतताम् ।।  ।। तौ दि॒व्यौ श्वाना॑वभवताम् । यो भ्रातृ॑व्यवा॒न्थ्स्यात् । स चि॒त्राया॑म॒ग्निमाद॑धीत । अ॒व॒कीर्यै॒व भ्रातृ॑व्यान् । ओजो॒ बल॑मिन्द्रि॒यं वी॒र्य॑मा॒त्मन्ध॑त्ते । व॒सन्ता ब्राह्म॒णोऽग्निमाद॑धीत । व॒स॒न्तो वै ब्राह्म॒णस्य॒र्तुः । स्व ए॒वैन॑मृ॒तावा॒धाय॑ । ब्र॒ह्म॒व॒र्च॒सी भ॑वति । मुखं॒ वा ए॒तदृ॑तू॒नाम् ।।  ।। यद्व॑स॒न्तः । यो व॒सन्ता॒ऽग्निमा॑ध॒त्ते । मुख्य॑ ए॒व भ॑वति । अथो॒ योनि॑मन्तमे॒वैनं॒ प्रजा॑त॒माध॑त्ते । ग्री॒ष्मे रा॑ज॒न्य॑ आद॑धीत । ग्री॒ष्मो वै रा॑ज॒न्य॑स्य॒र्तुः । स्व ए॒वैन॑मृ॒तावा॒धाय॑ । इ॒न्द्रि॒या॒वी भ॑वति । श॒रदि॒ वैश्य॒ आद॑धीत । श॒रद्वै वैश्य॑स्य॒र्तुः ।।  ।। उद्ध॑न्ति । यदे॒वास्या॑ अमे॒ध्यम् । तदप॑हन्ति । अ॒पोऽवोक्षति॒ शान्त्यै । सिक॑ता॒ निव॑पति । ए॒तद्वा अ॒ग्नेर्वैश्वान॒रस्य॑ रू॒पम् । रू॒पेणै॒व वैश्वान॒रमव॑रुन्धे । ऊषा॒न्निव॑पति । पुष्टि॒र्वा ए॒षा प्र॒जन॑नम् । यदूषाः ।।।। पुष्ट्या॑मे॒व प्र॒जन॑ने॒ऽग्निमाध॑त्ते । अथो॑ सं॒ज्ञान॑ ए॒व । सं॒ज्ञान॒॒ ह्ये॑तत्प॑शू॒नाम् । यदूषाः । द्यावा॑पृथि॒वी स॒हास्ताम् । ते वि॑य॒ती अ॑ब्रूताम् । अस्त्वे॒व नौ॑ स॒ह य॒ज्ञिय॒मिति॑ । यद॒मुष्या॑ य॒ज्ञिय॒मासीत् । तद॒स्याम॑दधात् । त ऊषा॑ अभवन्न् ।।  ।। यद॒स्या य॒ज्ञिय॒मासीत् । तद॒मुष्या॑मदधात् । तद॒दश्च॒न्द्रम॑सि कृ॒ष्णम् । ऊषान्नि॒वप॑न्न॒दो ध्या॑येत् । द्यावा॑पृथि॒व्योरे॒व य॒ज्ञिये॒ऽग्निमाध॑त्ते । अ॒ग्निर्दे॒वेभ्यो॒ निला॑यत । आ॒खू रू॒पं कृ॒त्वा । स पृ॑थि॒वीं प्रावि॑शत् । स ऊ॒ती कु॑र्वा॒ण पृ॑थि॒वीमनु॒ सम॑चरत् । तदा॑खुकरी॒षम॑भवत् ।।  ।। यदा॑खुकरी॒ष सं॑भा॒रो भव॑ति । यदे॒वास्य॒ तत्र॒ न्य॑क्तम् । तदे॒वाव॑रुन्धे । ऊर्जं॒ वा ए॒त रसं॑ पृथि॒व्या उ॑प॒दीका॒ उद्दि॑हन्ति । यद्व॒ल्मीकम् । यद्व॑ल्मीकव॒पा सं॑भा॒रो भव॑ति । ऊर्ज॑मे॒व रसं॑ पृथि॒व्या अव॑रुन्धे । अथो॒ श्रोत्र॑मे॒व । श्रोत्र॒॒ ह्ये॑तत्पृ॑थि॒व्याः । यद्व॒ल्मीकः॑ ।।  ।। अब॑धिरो भवति । य ए॒वं वेद॑ । प्र॒जाप॑ति प्र॒जा अ॑सृजत । तासा॒मन्न॒मुपाक्षीयत । ताभ्य॒स्सूद॒मुप॒प्राभि॑नत् । ततो॒ वै तासा॒मन्नं॒ नाक्षी॑यत । यस्य॒ सूद॑स्संभा॒रो भव॑ति । नास्य॑ गृ॒हेऽन्नं॑ क्षीयते । आपो॒ वा इ॒दमग्रे॑ सलि॒लमा॑सीत् । तेन॑ प्र॒जाप॑तिरश्राम्यत् ।।  ।। क॒थमि॒द स्या॒दिति॑ । सो॑ऽपश्यत्पुष्करप॒र्णं तिष्ठ॑त् । सो॑ऽमन्यत । अस्ति॒ वै तत् । यस्मि॑न्नि॒दमधि॒ तिष्ठ॒तीति॑ । स व॑रा॒हो रू॒पं कृ॒त्वोप॒ न्य॑मज्जत् । स पृ॑थि॒वीम॒ध आर्च्छत् । तस्या॑ उप॒हत्योद॑मज्जत् । तत्पु॑ष्करप॒र्णेऽप्रथयत् । यदप्र॑थयत् ।।  ।। तत्पृ॑थि॒व्यै पृ॑थिवि॒त्वम् । अभू॒द्वा इ॒दमिति॑ । तद्भूम्यै॑ भूमि॒त्वम् । तां दिशोऽनु॒ वात॒स्सम॑वहत् । ता शर्क॑राभिरदृहत् । शं वै नो॑ऽभू॒दिति॑ । तच्छर्क॑राणा शर्कर॒त्वम् । यद्व॑रा॒हवि॑हत संभा॒रो भव॑ति । अ॒स्यामे॒वाछ॑म्बट्कारम॒ग्निमाध॑त्ते । शर्क॑रा भवन्ति॒ धृत्यै ।।  ।। अथो॑ शं॒त्वाय॑ । सरे॑ता अ॒ग्निरा॒धेय॒ इत्या॑हुः । आपो॒ वरु॑णस्य॒ पत्न॑य आसन्न् । ता अ॒ग्निर॒भ्य॑ध्यायत् । तास्सम॑भवत् । तस्य॒ रेत॒ परा॑ऽपतत् । तद्धिर॑ण्यमभवत् । यद्धिर॑ण्यमु॒पास्य॑ति । सरे॑तसमे॒वाग्निमाध॑त्ते । पुरु॑ष॒ इन्न्वै स्वाद्रेत॑सो बीभथ्सत॒ इत्या॑हुः ।।  ।। उ॒त्त॒र॒त उपास्य॒त्यबी॑भथ्सायै । अति॒ प्रय॑च्छति । आर्ति॑मे॒वाति॒ प्रय॑च्छति । अ॒ग्निर्दे॒वेभ्यो॒ निला॑यत । अश्वो॑ रू॒पं कृ॒त्वा । सोऽश्व॒त्थे सं॑वथ्स॒रम॑तिष्ठत् । तद॑श्व॒त्थस्याश्वत्थ॒त्वम् । यदाश्व॑त्थस्संभा॒रो भव॑ति । यदे॒वास्य॒ तत्र॒ न्य॑क्तम् । तदे॒वाव॑रुन्धे ।।  ।। दे॒वा वा ऊर्जं॒ व्य॑भजन्त । तत॑ उदु॒म्बर॒ उद॑तिष्ठत् । ऊर्ग्वा उ॑दु॒म्बरः॑ । यदौदु॑म्बरस्संभा॒रो भव॑ति । ऊर्ज॑मे॒वाव॑रुन्धे । तृ॒तीय॑स्यामि॒तो दि॒वि सोम॑ आसीत् । तं गा॑य॒त्र्याऽह॑रत् । तस्य॑ प॒र्णम॑च्छिद्यत । तत्प॒र्णो॑ऽभवत् । तत्प॒र्णस्य॑ पर्ण॒त्वम् ।।  ।। तच्छ॒म्यै॑ शमि॒त्वम् । यच्छ॑मी॒मय॑स्सम्भा॒रो भव॑ति । शान्त्या॒ अप्र॑दाहाय । अ॒ग्नेस्सृ॒ष्टस्य॑ य॒तः । विक॑ङ्कतं॒ भा आर्च्छत् । यद्वैक॑ङ्कतस्सम्भा॒रो भव॑ति । भा ए॒वाव॑ रुन्धे । सहृ॑दयो॒ऽग्निरा॒धेय॒ इत्या॑हुः । म॒रुतो॒ऽद्भिर॒ग्निम॑तमयन्न् । तस्य॑ ता॒न्तस्य॒ हृद॑य॒माच्छि॑न्दन्न् । साऽशनि॑रभवत् । यद॒शनि॑हतस्य वृ॒क्षस्य॑ सम्भा॒रो भव॑ति । सहृ॑दयमे॒वाग्निमा ध॑त्ते ।।  ।। चक्षु॒र्वै स॒त्यम् । अद्रा३गित्या॑ह । अद॑ऱ्श॒मिति॑ । तथ्स॒त्यम् । यश्चक्षु॑र्निमिते॒ऽग्निमा॑ध॒त्ते । स॒त्य ए॒वैन॒मा ध॑त्ते । तस्मा॒दाहि॑ताग्नि॒र्नानृ॑तं वदेत् । नास्य॑ ब्राह्म॒णोऽनाश्वान्गृ॒हे व॑सेत् । स॒त्ये ह्य॑स्या॒ग्निराहि॑तः । आ॒ग्ने॒यी वै रात्रिः॑ ।।  ।। इडा॒ वै मा॑न॒वी य॑ज्ञानूका॒शिन्या॑सीत् । साऽशृ॑णोत् । असु॑रा अ॒ग्निमाद॑धत॒ इति॑ । तद॑गच्छत् । त आ॑हव॒नीय॒मग्र॒ आद॑धत । अथ॒ गाऱ्ह॑पत्यम् । अथान्वाहार्य॒पच॑नम् । साऽब्र॑वीत् । प्र॒तीच्ये॑षा॒॒ श्रीर॑गात् । भ॒द्रा भू॒त्वा परा॑ भविष्य॒न्तीति॑ ।।  ।। यस्यै॒वम॒ग्निरा॑धी॒यते । प्र॒तीच्य॑स्य॒ श्रीरे॑ति । भ॒द्रो भू॒त्वा परा॑भवति । साऽशृ॑णोत् । दे॒वा अ॒ग्निमाद॑धत॒ इति॑ । तद॑गच्छत् । तेऽन्वाहार्य॒पच॑न॒मग्र॒ आद॑धत । अथ॒ गाऱ्ह॑पत्यम् । अथा॑हव॒नीयम् । साऽब्र॑वीत् ।।  ।। प्राच्ये॑षा॒॒ श्रीर॑गात् । भ॒द्रा भू॒त्वा सु॑व॒र्गंल्लो॒कमेष्यन्ति । प्र॒जां तु न वेथ्स्यन्त॒ इति॑ । यस्यै॒वम॒ग्निरा॑धी॒यते । प्राच्य॑स्य॒ श्रीरे॑ति । भ॒द्रो भू॒त्वा सु॑व॒र्गं लो॒कमे॑ति । प्र॒जां तु न वि॑न्दते । साऽब्र॑वी॒दिडा॒ मनुम् । तथा॒ वा अ॒हं तवा॒ग्निमाधास्यामि । यथा॒ प्र प्र॒जया॑ प॒शुभि॑र्मिथु॒नैर्ज॑नि॒ष्यसे ।।  ।। प्रत्य॒स्मिल्लोँ॒के स्था॒स्यसि॑ । अ॒भि सु॑व॒र्गं लो॒कं जे॒ष्यसीति॑ । गाऱ्ह॑पत्य॒मग्र॒ आद॑धात् । गाऱ्ह॑पत्यं॒ वा अनु॑ प्र॒जा प॒शव॒ प्रजा॑यन्ते । गाऱ्ह॑पत्येनै॒वास्मै प्र॒जां प॒शून्प्राज॑नयत् । अथान्वाहार्य॒पच॑नम् । ति॒र्यङ्ङि॑व॒ वा अ॒यं लो॒कः । अ॒स्मिन्नै॒व तेन॑ लो॒के प्रत्य॑तिष्ठत् । अथा॑हव॒नीयम् । तेनै॒व सु॑व॒र्गं लो॒कम॒भ्य॑जयत् ।।  ।। यस्यै॒वम॒ग्निरा॑धी॒यते । प्र प्र॒जया॑ प॒शुभि॑र्मिथु॒नैर्जा॑यते । प्रत्य॒स्मिल्लोँ॒के ति॑ष्ठति । अ॒भि सु॑व॒र्गं लो॒कं ज॑यति । यस्य॒ वा अय॑थादेवतम॒ग्निरा॑धी॒यते । आ दे॒वताभ्यो वृश्च्यते । पापी॑यान्भवति । यस्य॑ यथादेव॒तम् । न दे॒वताभ्य॒ आवृ॑श्च्यते । वसी॑यान्भवति ।।  ।। भृगू॑णां॒ त्वाऽङ्गि॑रसां व्रतपते व्र॒तेनाद॑धा॒मीति॑ भृग्वङ्गि॒रसा॒माद॑ध्यात् । आ॒दि॒त्यानां त्वा दे॒वानां व्रतपते व्र॒तेनाद॑धा॒मीत्य॒न्यासां॒ ब्राह्म॑णीनां प्र॒जानाम् । वरु॑णस्य त्वा॒ राज्ञो व्रतपते व्र॒तेनाद॑धा॒मीति॒ राज्ञः॑ । इन्द्र॑स्य त्वेन्द्रि॒येण॑ व्रतपते व्र॒तेनाद॑धा॒मीति॑ राज॒न्य॑स्य । मनोस्त्वा ग्राम॒ण्यो व्रतपते व्र॒तेनाद॑धा॒मिति॒ वैश्य॑स्य । ऋ॒भू॒णां त्वा॑ दे॒वानां व्रतपते व्र॒तेनाद॑धा॒मीति॑ रथका॒रस्य॑ । य॒था॒दे॒व॒तम॒ग्निराधी॑यते । न दे॒वताभ्य॒ आवृ॑श्च्यते । वसी॑यान्भवति ।।  ।। प्र॒जाप॑तिर्वा॒चस्स॒त्यम॑पश्यत् । तेना॒ग्निमाध॑त्त । तेन॒ वै स आर्ध्नोत् । भूर्भुव॒स्सुव॒रित्या॑ह । ए॒तद्वै वा॒चस्स॒त्यम् । य ए॒तेना॒ग्निमा॑ध॒त्ते । ऋ॒ध्नोत्ये॒व । अथो॑ स॒त्यप्रा॑शूरे॒व भ॑वति । अथो॒ य ए॒वं वि॒द्वान॑भि॒चर॑ति । स्तृ॒णु॒त ए॒वैनम् ।।  ।। सु॒व॒र्गाय॒ वा ए॒ष लो॒कायाधी॑यते । यदा॑हव॒नीयः॑ । सु॒व॒र्ग ए॒वास्मै॑ लो॒के वा॒चस्स॒त्य सर्व॑माप्नोति । त्रि॒भिर्गाऱ्ह॑पत्य॒मा द॑धाति । प॒ञ्चभि॑राहव॒नीयम् । अ॒ष्टौ संप॑द्यन्ते । अ॒ष्टाक्ष॑रा गाय॒त्री । गा॒य॒त्रोऽग्निः । यावा॑ने॒वाग्निः । तमाध॑त्ते ।।  ।। प्र॒जाप॑ति प्र॒जा अ॑सृजत । ता अ॑स्माथ्सृ॒ष्टा परा॑चीरायन्न् । ताभ्यो॒ ज्योति॒रुद॑गृह्णात् । तं ज्योति॒ पश्य॑न्ती प्र॒जा अ॒भि स॒माव॑र्तन्त । उ॒परी॑वा॒ग्निमुद्गृ॑ह्णीयादु॒द्धरन्न्॑ । ज्योति॑रे॒व पश्य॑न्ती प्र॒जा यज॑मानम॒भि स॒माव॑र्तन्ते । प्र॒जाप॑ते॒रक्ष्य॑श्वयत् । तत्परा॑ऽपतत् । तदश्वो॑ऽभवत् । तदश्व॑स्याश्व॒त्वम् ।।  ।। ए॒ष वै प्र॒जाप॑तिः । यद॒ग्निः । प्रा॒जा॒प॒त्योऽश्वः॑ । यदश्वं॑ पु॒रस्ता॒न्नय॑ति । स्वमे॒व चक्षु॒ पश्य॑न्प्र॒जाप॑ति॒रनूदे॑ति । व॒ज्री वा ए॒षः । यदश्वः॑ । यदश्वं॑ पु॒रस्ता॒न्नय॑ति । जा॒ताने॒व भ्रातृ॑व्या॒न्प्रणु॑दते । पुन॒रा व॑र्तयति ।।  ।। ज॒नि॒ष्यमा॑णाने॒व प्रति॑नुदते । न्या॑हव॒नीयो॒ गाऱ्ह॑पत्यमकामयत । निगाऱ्ह॑पत्य आहव॒नीयम् । तौ वि॒भाजं॒ नाश॑क्नोत् । सोऽश्व॑ पूर्व॒वाड्भू॒त्वा । प्राञ्चं॒ पूर्व॒मुद॑वहत् । तत्पूर्व॒वाह॑ पूर्ववा॒ट्त्वम् । यदश्वं॑ पु॒रस्ता॒न्नय॑ति । विभ॑क्तिरे॒वैन॑यो॒स्सा । अथो॒ नाना॑वीर्यावे॒वैनौ॑ कुरुते ।।  ।। तस्य॑ त्रे॒धा म॑हि॒मान॒व्व्यौँ॑हत् । शान्त्या॒ अप्र॑दाहाय । यत्त्रे॒धाऽग्निरा॑धी॒यते । म॒हि॒मान॑मे॒वास्य॒ तद्व्यू॑हति । शान्त्या॒ अप्र॑दाहाय । पुन॒रा व॑र्तयति । म॒हि॒मान॑मे॒वास्य॒ संद॑धाति । प॒शुर्वा ए॒षः । यदश्वः॑ । ए॒ष रु॒द्रः ।।  ।। यद॒ग्निः । यदश्व॑स्य प॒देऽग्निमा॑द॒ध्यात् । रु॒द्राय॑ प॒शूनपि॑दध्यात् । अ॒प॒शुर्यज॑मानस्स्यात् । यन्नाक्र॒मयेत् । अन॑वरुद्धा अस्य प॒शव॑स्स्युः । पा॒र्श्व॒त आक्र॑मयेत् । यथाऽऽहि॑तस्या॒ग्नेरङ्गा॑रा अभ्यव॒वर्ते॑रन्न् । अव॑रुद्धा अस्य प॒शवो॒ भव॑न्ति । न रु॒द्रायापि॑दधाति ।।  ।। त्रीणि॑ ह॒वीषि॒ निर्व॑पति । वि॒राज॑ ए॒व विक्रान्तं॒ यज॑मा॒नोऽनु॒ विक्र॑मते । अ॒ग्नये॒ पव॑मानाय । अ॒ग्नये॑ पाव॒काय॑ । अ॒ग्नये॒ शुच॑ये । यद॒ग्नये॒ पव॑मानाय नि॒र्वप॑ति । पु॒नात्ये॒वैनम् । यद॒ग्नये॑ पाव॒काय॑ । पू॒त ए॒वास्मि॑न्न॒न्नाद्यं॑ दधाति । यद॒ग्नये॒ शुच॑ये । ब्र॒ह्म॒व॒र्च॒समे॒वास्मि॑न्नु॒परि॑ष्टाद्दधाति ।।  ।। दे॒वा॒सु॒रास्संय॑त्ता आसन्न् । ते दे॒वा वि॑ज॒यमु॑प॒यन्तः॑ । अ॒ग्नौ वा॒मं वसु॒ सं न्य॑दधत । इ॒दमु॑ नो भविष्यति । यदि॑ नो जे॒ष्यन्तीति॑ । तद॒ग्निर्नोथ्सह॑मशक्नोत् । तत् त्रे॒धा विन्य॑दधात् । प॒शुषु॒ तृती॑यम् । अ॒फ्सु तृती॑यम् । आ॒दि॒त्ये तृती॑यम् ।।  ।। तद्दे॒वा वि॒जित्य॑ । पुन॒रवा॑रुरुथ्सन्त । तेऽग्नये॒ पव॑मानाय पुरो॒डाश॑म॒ष्टाक॑पालं॒ निर॑वपन्न् । प॒शवो॒ वा अ॒ग्नि पव॑मानः । यदे॒व प॒शुष्वासीत् । तत्तेनावा॑रुन्धत । तेऽग्नये॑ पाव॒काय॑ । आपो॒ वा अ॒ग्नि पा॑व॒कः । यदे॒वाफ्स्वासीत् । तत्तेनावा॑रुन्धत ।।  ।। तेऽग्नये॒ शुच॑ये । अ॒सौ वा आ॑दि॒त्योऽग्निश्शुचिः॑ । यदे॒वादि॒त्य आसीत् । तत्तेनावा॑रुन्धत । ब्र॒ह्म॒वा॒दिनो॑ वदन्ति । त॒नुवो॒ वावैता अ॑ग्न्या॒धेय॑स्य । आ॒ग्ने॒यो वा अ॒ष्टाक॑पालोऽग्न्या॒धेय॒मिति॑ । यत्तन्नि॒र्वपेत् । नैतानि॑ । यथा॒ऽऽत्मा स्यात् ।।  ।। नाङ्गा॑नि । ता॒दृगे॒व तत् । यदे॒तानि॑ नि॒र्वपेत् । न तम् । यथाऽङ्गा॑नि॒ स्युः । नात्मा । ता॒दृगे॒व तत् । उ॒भया॑नि स॒ह नि॒रुप्या॑णि । य॒ज्ञस्य॑ सात्म॒त्वाय॑ । उ॒भयं॒ वा ए॒तस्येन्द्रि॒यं वी॒र्य॑माप्यते ।।  ।। योऽग्निमा॑ध॒त्ते । ऐ॒न्द्रा॒ग्नमेका॑दशकपाल॒मनु॒ निर्व॑पेत् । आ॒दि॒त्यं च॒रुम् । इ॒न्द्रा॒ग्नी वै दे॒वाना॒मया॑तमायामानौ । ये ए॒व दे॒वते॒ अया॑तयाम्नी । ताभ्या॑मे॒वास्मा॑ इन्द्रि॒यं वी॒र्य॑मव॑ रुन्धे । आ॒दि॒त्यो भ॑वति । इ॒यं वा अदि॑तिः । अ॒स्यामे॒व प्रति॑तिष्ठति । धे॒न्वै वा ए॒तद्रेतः॑ ।।  ।। यदाज्यम् । अ॒न॒डुह॑स्तण्डु॒लाः । मि॒थु॒नमे॒वाव॑रुन्धे । घृ॒ते भ॑वति । य॒ज्ञस्यालूक्षान्तत्वाय । च॒त्वार॑ आऱ्षे॒या प्राश्ञ॑न्ति । दि॒शामे॒व ज्योति॑षि जुहोति । प॒शवो॒ वा ए॒तानि॑ ह॒वीषि॑ । ए॒ष रु॒द्रः । यद॒ग्निः ।।  ।। यथ्स॒द्य ए॒तानि॑ ह॒वीषि॑ नि॒र्वपेत् । रु॒द्राय॑ प॒शूनपि॑ दध्यात् । अ॒प॒शुर्यज॑मानस्स्यात् । यन्नानु॑नि॒र्वपेत् । अन॑वरुद्धा अस्य प॒शव॑स्स्युः । द्वा॒द॒शसु॒ रात्री॒ष्वनु॒ निर्व॑पेत् । सं॒व॒थ्स॒रप्र॑तिमा॒ वै द्वाद॑श॒ रात्र॑यः । सं॒व॒थ्स॒रेणै॒वास्मै॑ रु॒द्र श॑मयि॒त्वा । प॒शूनव॑रुन्धे । यदेक॑मेकमे॒तानि॑ ह॒वीषि॑ नि॒र्वपेत् ।।  ।। यथा॒ त्रीण्या॒वप॑नानि पू॒रयेत् । ता॒दृक्तत् । न प्र॒जन॑न॒मुच्छि॑षेत् । एकं॑ नि॒रुप्य॑ । उत्त॑रे॒ सम॑स्येत् । तृ॒तीय॑मे॒वास्मै॑ लो॒कमुच्छि॑षति प्र॒जन॑नाय । तं प्र॒जया॑ प॒शुभि॒रनु॒ प्रजा॑यते । अथो॑ य॒ज्ञस्यै॒वैषाऽभिक्रान्तिः । र॒थ॒च॒क्रं प्रव॑र्तयति । म॒नु॒ष्य॒र॒थेनै॒व दे॑वर॒थं प्र॒त्यव॑रोहति ।।  ।। अ॒ग्निमु॑खाने॒वर्तून्प्री॑णाति । उ॒प॒बऱ्ह॑णं ददाति । रू॒पाणा॒मव॑रुद्ध्यै । अश्वं॑ ब्र॒ह्मणे । इ॒न्द्रि॒यमे॒वाव॑रुन्धे । धे॒नु होत्रे । आ॒शिष॑ ए॒वाव॑रुन्धे । अ॒न॒ड्वाह॑मध्व॒र्यवे । वह्नि॒र्वा अ॑न॒ड्वान् । वह्नि॑रध्व॒र्युः ।।  ।। वह्नि॑नै॒व वह्नि॑ य॒ज्ञस्याव॑रुन्धे । मि॒थु॒नौ गावौ॑ ददाति । मि॒थु॒नस्याव॑रुद्ध्यै । वासो॑ ददाति । स॒र्व॒दे॒व॒त्यं॑ वै वासः॑ । सर्वा॑ ए॒व दे॒वता प्रीणाति । आ द्वा॑द॒शभ्यो॑ ददाति । द्वाद॑श॒ मासास्संवथ्स॒रः । सं॒व॒थ्स॒र ए॒व प्रति॑तिष्ठति । काम॑मू॒र्ध्वं देयम् । अप॑रिमित॒स्याव॑रुद्ध्यै ।।  ।। इ॒मे वा ए॒ते लो॒का अ॒ग्नयः॑ । ते यदव्या॑वृत्ता आधी॒येरन्न्॑ । शो॒चये॑यु॒र्यज॑मानम् । घ॒र्मश्शिर॒ इति॒ गाऱ्ह॑पत्य॒मा द॑धाति । वात॑ प्रा॒ण इत्य॑न्वाहार्य॒पच॑नम् । अ॒र्कश्चक्षु॒रित्या॑हव॒नीयम् । तेनै॒वैना॒न्व्याव॑र्तयति । तथा॒ न शो॑चयन्ति॒ यज॑मानम् । र॒थ॒न्त॒रम॒भिगा॑यते॒ गाऱ्ह॑पत्य आधी॒यमा॑ने । राथ॑न्तरो॒ वा अ॒यं लो॒कः ।।  ।। सोऽश्वो॒ऽवारो॑ भू॒त्वा परा॑ङैत् । तं वा॑रव॒न्तीये॑नावारयत । तद्वा॑रव॒न्तीय॑स्य वारवन्तीय॒त्वम् । श्यै॒तेन॑ श्ये॒ती अ॑कुरुत । तच्छ्यै॒तस्य॑ श्यैत॒त्वम् । यद्वा॑रव॒न्तीय॑मभि॒ गाय॑ते । वा॒र॒यि॒त्वैवैनं॒ प्रति॑ष्ठित॒मा ध॑त्ते । श्यै॒तेन॑ श्ये॒ती कु॑रुते । घ॒र्मश्शिर॒ इति॒ गाऱ्ह॑पत्य॒माद॑धाति । सशी॑ऱ्षाणमे॒वैन॒मा ध॑त्ते ।।  ।। उपै॑न॒मुत्त॑रो य॒ज्ञो न॑मति । रु॒द्रो वा ए॒षः । यद॒ग्निः । स आ॑धी॒यमा॑न ईश्व॒रो यज॑मानस्य प॒शून् हिसि॑तोः । संप्रि॑यः प॒शुभि॑र्भुव॒दित्या॑ह । प॒शुभि॑रे॒वैन॒॒ संप्रि॑यं करोति । प॒शू॒नामहि॑सायै । छ॒र्दिस्तो॒काय॒ तन॑याय य॒च्छेत्या॑ह । आ॒शिष॑मे॒वैतामा शास्ते । वातः॑ प्रा॒ण इत्य॑न्वाहार्य॒पच॑नम् ।।  ।। श॒मी॒ग॒र्भाद॒ग्निं म॑न्थति । ए॒षा वा अ॒ग्नेर्य॒ज्ञिया॑ त॒नूः । तामे॒वास्मै॑ जनयति । अदि॑तिः पु॒त्त्रका॑मा । सा॒ध्येभ्यो॑ दे॒वेभ्यो ब्रह्मौद॒नम॑पचत् । तस्या॑ उ॒च्छेष॑णमददुः । तत्प्राश्ञात् । सा रेतो॑ऽधत्त । तस्यै॑ धा॒ता चार्य॒मा चा॑जायेताम् । सा द्वि॒तीय॑मपचत् ।।  ।। तस्या॑ उ॒च्छेष॑णमददुः । तत्प्राश्ञात् । सा रेतो॑ऽधत्त । तस्यै॑ मि॒त्रश्च॒ वरु॑णश्चाजायेताम् । सा तृ॒तीय॑मपचत् । तस्या॑ उ॒च्छेष॑णमददुः । तत्प्राश्ञात् । सा रेतो॑ऽधत्त । तस्या॒ अश॑श्च॒ भग॑श्चाजायेताम् । सा च॑तु॒र्थम॑पचत् ।।  ।। तस्या॑ उ॒च्छेष॑णमददुः । तत्प्राश्ञात् । सा रेतो॑ऽधत्त । तस्या॒ इन्द्र॑श्च॒ विव॑स्वाश्चाजायेताम् । ब्र॒ह्मौ॒द॒नं प॑चति । रेत॑ ए॒व तद्द॑धाति । प्राश्ञ॑न्ति ब्राह्म॒णा ओ॑द॒नम् । यदाज्य॑मु॒च्छिष्य॑ते । तेन॑ स॒मिधो॒ऽभ्यज्या द॑धाति । उ॒च्छेष॑णा॒द्वा अदि॑ती॒ रेतो॑ऽधत्त ।।  ।। उ॒च्छेष॑णादे॒व तद्रेतो॑ धत्ते । अस्थि॒ वा ए॒तत् । यथ्स॒मिधः॑ । ए॒तद्रेतः॑ । यदाज्यम् । यदाज्ये॑न स॒मिधो॒ऽभ्यज्या॒दधा॑ति । अस्थ्ये॒व तद्रेत॑सि दधाति । ति॒स्र आद॑धाति मिथुन॒त्वाय॑ । इय॑तीर्भवन्ति । प्र॒जाप॑तिना यज्ञमु॒खेन॒ संमि॑ताः ।।  ।। इय॑तीर्भवन्ति । य॒ज्ञ॒प॒रुषा॒ संमि॑ताः । इय॑तीर्भवन्ति । ए॒ताव॒द्वै पुरु॑षे वी॒र्यम् । वी॒र्य॑संमिताः । आ॒र्द्रा भ॑वन्ति । आ॒र्द्रमि॑व॒ हि रेत॑स्सि॒च्यते । चित्रि॑यस्याश्व॒त्थस्याद॑धाति । चि॒त्रमे॒व भ॑वति । घृ॒तव॑तीभि॒रा द॑धाति ।।  ।। जग॑तीभि॒र्वैश्य॑स्य । जग॑तीछन्दा॒ वै वैश्यः॑ । स्वस्य॒ छन्द॑स प्रत्ययन॒स्त्वाय॑ । त सं॑वथ्स॒रं गो॑पायेत् । सं॒व॒थ्स॒र हि रेतो॑ हि॒तं वर्ध॑ते । यद्ये॑न संवथ्स॒रे नोप॒नमेत् । स॒मिधः॒ पुन॒राद॑ध्यात् । रेत॑ ए॒व तद्धि॒तं वर्ध॑मानमेति । न मा॒॒सम॑श्ञीयात् । न स्त्रिय॒मुपे॑यात् ।।  ।। यन्मा॒॒सम॑श्ञी॒यात् । यथ्स्त्रिय॑मुपे॒यात् । निर्वीर्यस्स्यात् । नैन॑म॒ग्निरुप॑नमेत् । श्व आ॑धा॒स्यमा॑नो ब्रह्मौद॒नं प॑चति । आ॒दि॒त्या वा इ॒त उ॑त्त॒मास्सु॑व॒र्गं लो॒कमा॑यन्न् । ते वा इ॒तो यन्तं॒ प्रति॑नुदन्ते । ए॒ते खलु॒ वावादि॒त्याः । यद्ब्राह्म॒णाः । तैरे॒व स॒न्त्वं ग॑च्छति ।।  ।। नैनं॒ प्रति॑नुदन्ते । ब्र॒ह्म॒वा॒दिनो॑ वदन्ति । क्वा॑ सः । अ॒ग्निः का॒र्यः॑ । योऽस्मै प्र॒जां प॒शून्प्र॑ज॒नय॒तीति॑ । शल्कै॒स्तारात्रि॑म॒ग्निमि॑न्धीत । तस्मि॑न्नुपव्यु॒षम॒रणी॒ निष्ट॑पेत् । यथ॑ऱ्ष॒भाय॑ वाशि॒ता न्या॑विच्छा॒यति॑ । ता॒दृगे॒व तत् । अ॒पो॒दूह्य॒ भस्मा॒ग्निं म॑न्थति ।।  ।। सैव साऽग्नेस्सन्त॑तिः । तं म॑थि॒त्वा प्राञ्च॒मुद्ध॑रति । सं॒व॒थ्स॒रमे॒व तद्रेतो॑ हि॒तं प्रज॑नयति । अना॑हित॒स्तस्या॒ग्निरित्या॑हुः । यस्स॒मिधोऽना॑धाया॒ग्निमा॑ध॒त्त इति॑ । तास्सं॑वथ्स॒रे पु॒रस्ता॒दाद॑ध्यात् । सं॒व॒थ्सरादे॒वैन॑मव॒रुध्याध॑त्ते । यदि॑ संवथ्स॒रेऽनाद॒ध्यात् । द्वा॒द॒श्यां पु॒रस्ता॒दाद॑ध्यात् । सं॒व॒थ्स॒रप्र॑तिमा॒ वै द्वाद॑श॒ रात्र॑यः । सं॒व॒थ्स॒रमे॒वास्याहि॑ता भवन्ति । यदि॑ द्वाद॒श्यां नाद॒ध्यात् । त्र्य॒हे पु॒रस्ता॒दाद॑ध्यात् । आहि॑ता ए॒वास्य॑ भवन्ति ।।  ।। प्र॒जाप॑ति प्र॒जा अ॑सृजत । स रि॑रिचा॒नो॑ऽमन्यत । स तपो॑ऽतप्यत । स आ॒त्मन्वी॒र्य॑मपश्यत् । तद॑वर्धत । तद॑स्मा॒थ्सह॑सो॒र्ध्वम॑सृज्यत । सा वि॒राड॑भवत् । तां दे॑वासु॒रा व्य॑गृह्णत । सोऽब्रवीत्प्र॒जाप॑तिः । मम॒ वा ए॒षा ।।  ।। तेन॒ सोऽस्या॒भीष्ट॑ प्री॒तः । यथ्स॒भायां वि॒जय॑न्ते । तेन॒ सोऽस्या॒भीष्ट॑ प्री॒तः । यदा॑वस॒थेऽन्न॒॒ हर॑न्ति । तेन॒ सोऽस्या॒भीष्ट॑ प्री॒तः । तथाऽस्य॒ सर्वे प्री॒ता अ॒भीष्टा॒ आधी॑यन्ते । प्र॒व॒स॒थमे॒ष्यन्ने॒वमुप॑तिष्ठे॒तैक॑मेकम् । यथा ब्राह्म॒णाय॑ गृहेवा॒सिने॑ परि॒दाय॑ गृ॒हानेति॑ । ता॒दृगे॒व तत् । पुन॑रा॒गत्योप॑तिष्ठते । सा भा॑गेयमे॒वैषां॒ तत् । सा तत॑ ऊ॒र्ध्वारो॑हत् । सा रो॑हि॒ण्य॑भवत् । तद्रो॑हि॒ण्यै रो॑हिणि॒त्वम् । रो॒हि॒ण्याम॒ग्निमाद॑धीत । स्व ए॒वैनं॒ योनौ॒ प्रति॑ष्ठित॒माध॑त्ते । ऋ॒ध्नोत्ये॑नेन ।।  ।। उ॒द्ध॒न्यमा॑नम॒स्या अ॑मे॒ध्यम् । अप॑ पा॒प्मानं॒ यज॑मानस्य हन्तु । शि॒वा न॑स्सन्तु प्र॒दिश॒श्चत॑स्रः । शं नो॑ मा॒ता पृ॑थि॒वी तोक॑साता । शं नो॑ दे॒वीर॒भिष्ट॑ये । आपो॑ भवन्तु पी॒तये । शंयोर॒भि स्र॑वन्तु नः । वै॒श्वा॒न॒रस्य॑ रू॒पम् । पृ॒थि॒व्यां प॑रि॒स्रसा । स्यो॒नमा वि॑शन्तु नः ।।  ।। यदि॒दं दि॒वो यद॒दः पृ॑थि॒व्याः । सं॒ज॒ज्ञा॒ने रोद॑सी संबभू॒वतुः॑ । ऊषान्कृ॒ष्णम॑वतु कृ॒ष्णमूषाः । इ॒होभयोर्य॒ज्ञिय॒माग॑मिष्ठाः । ऊ॒तीः कु॑र्वा॒णो यत्पृ॑थि॒वीमच॑रः । गु॒हा॒कार॑माखुरू॒पं प्र॒तीत्य॑ । तत्ते॒ न्य॑क्तमि॒ह सं॒भर॑न्तः । श॒तं जी॑वेम श॒रद॒स्सवी॑राः । ऊर्जं॑ पृथि॒व्या रस॑मा॒भर॑न्तः । श॒तं जी॑वेम श॒रदः॑ पुरू॒चीः ।।  ।। व॒म्रीभि॒रनु॑वित्तं॒ गुहा॑सु । श्रोत्रं॑ त उ॒र्व्यब॑धिरा भवामः । प्र॒जाप॑तिसृष्टानां प्र॒जानाम् । क्षु॒धोऽप॑हत्यै सुवि॒तं नो॑ अस्तु । उप॒ प्रभि॑न्न॒मिष॒मूर्जं॑ प्र॒जाभ्यः॑ । सूदं॑ गृ॒हेभ्यो॒ रस॒माभ॑रामि । यस्य॑ रू॒पं बिभ्र॑दि॒मामवि॑न्दत् । गुहा॒ प्रवि॑ष्टा सरि॒रस्य॒ मध्ये । तस्ये॒दं विह॑तमा॒भर॑न्तः । अछ॑म्बट्कारम॒स्यां वि॑धेम ।।  ।। यत्प॒र्यप॑श्यथ्सरि॒रस्य॒ मध्ये । उ॒र्वीमप॑श्य॒ज्जग॑तः प्रति॒ष्ठाम् । तत्पुष्क॑रस्या॒यत॑ना॒द्धि जा॒तम् । प॒र्णं पृ॑थि॒व्याः प्रथ॑न हरामि । याभि॒रदृ॑ह॒ज्जग॑त प्रति॒ष्ठाम् । उ॒र्वीमि॒मां वि॑श्वज॒नस्य॑ भ॒र्त्रीम् । ता न॑श्शि॒वाश्शर्क॑रास्सन्तु॒ सर्वाः । अ॒ग्ने रेत॑श्च॒न्द्र हिर॑ण्यम् । अ॒द्भ्यस्संभू॑तम॒मृतं॑ प्र॒जासु॑ । तथ्सं॒भर॑न्नुत्तर॒तो नि॒धाय॑ ।।  ।। अ॒ति॒प्र॒यच्छं॒ दुरि॑तिं तरेयम् । अश्वो॑ रू॒पं कृ॒त्वा यद॑श्व॒त्थेऽति॑ष्ठः । सं॒व॒थ्स॒रं दे॒वेभ्यो॑ नि॒लाय॑ । तत्ते॒ न्य॑क्तमि॒ह सं॒भर॑न्तः । श॒तं जी॑वेम श॒रद॒स्सवी॑राः । ऊ॒र्ज पृ॑थि॒व्या अध्युत्थि॑तोऽसि । वन॑स्पते श॒तव॑ल्शो॒ विरो॑ह । त्वया॑ व॒यमिष॒मूर्जं॒ मद॑न्तः । रा॒यस्पोषे॑ण॒ समि॒षा म॑देम । गा॒य॒त्रि॒या ह्रि॒यमा॑णस्य॒ यत्ते ।।  ।। प॒र्णमप॑तत्तृ॒तीय॑स्यै दि॒वोऽधि॑ । सो॑ऽयं प॒र्णस्सो॑मप॒र्णाद्धि जा॒तः । ततो॑ हरामि सोमपी॒थस्याव॑रुद्ध्यै । दे॒वानां ब्रह्मवा॒दं वद॑तां॒ यत् । उ॒पाशृ॑णोस्सु॒श्रवा॒ वै श्रु॒तो॑ऽसि । ततो॒ मामावि॑शतु ब्रह्मवर्च॒सम् । तथ्सं॒भर॒॒ स्तदव॑रुन्धीय सा॒क्षात् । यया॑ ते सृ॒ष्टस्या॒ग्नेः । हे॒तिमश॑मयत्प्र॒जाप॑तिः । तामि॒मामप्र॑दाहाय ।।  ।। श॒मी शान्त्यै॑ हराम्य॒हम् । यत्ते॑ सृ॒ष्टस्य॑ य॒तः । विक॑ङ्कतं॒ भा आर्च्छज्जातवेदः । तया॑ भा॒सा संमि॑तः । उ॒रुं नो॑ लो॒कमनु॒ प्रभा॑हि । यत्ते॑ ता॒न्तस्य॒ हृद॑य॒माच्छि॑न्दञ्जातवेदः । म॒रुतो॒ऽद्भिस्त॑मयि॒त्वा । ए॒तत्ते॒ तद॑श॒नेस्संभ॑रामि । सात्मा॑ अग्ने॒ सहृ॑दयो भवे॒ह । चित्रि॑यादश्व॒त्थाथ्संभृ॑ता बृह॒त्यः॑ ।।  ।। य॒ज्ञियैः के॒तुभि॑स्स॒ह । यं त्वा॑ स॒मभ॑रञ्जातवेदः । य॒था॒श॒री॒रं भू॒तेषु॒ न्य॑क्तम् । स संभृ॑तस्सीद शि॒वः प्र॒जाभ्यः॑ । उ॒रुं नो॑ लो॒कमनु॑नेषि वि॒द्वान् । प्रवे॒धसे॑ क॒वये॒ मेध्या॑य । वचो॑ व॒न्दारु॑ वृष॒भाय॒ वृष्णे । यतो॑ भ॒यमभ॑यं॒ तन्नो॑ अस्तु । अव॑ दे॒वान् य॑जे॒हेड्यान्॑ । स॒मिधा॒ऽग्निं दु॑वस्यत ।।  ।। घृ॒तैर्बो॑धय॒ताति॑थिम् । आऽस्मि॑न् ह॒व्या जु॑होतन । उप॑ त्वाऽग्ने ह॒विष्म॑तीः । घृ॒ताचीर्यन्तु हर्यत । जु॒षस्व॑ स॒मिधो॒ मम॑ । तं त्वा॑ स॒मिद्भि॑रङ्गिरः । घृ॒तेन॑ वर्धयामसि । बृ॒हच्छो॑चा यविष्ठ्य । स॒मि॒ध्यमा॑नः प्रथ॒मो नु धर्मः॑ । सम॒क्तुभि॑रज्यते वि॒श्ववा॑रः ।।  ।। प्र॒जया॑ प॒शुभि॑र्ब्रह्मवर्च॒सेन॑ सुव॒र्गे लो॒के । अनृ॑ताथ्स॒त्यमुपै॑मि । मा॒नु॒षाद्देव्य॒मुपै॑मि । दैवीं॒ वाचं॑ यच्छामि । शल्कै॑र॒ग्निमि॑न्धा॒नः । उ॒भौ लो॒कौ स॑नेम॒हम् । उ॒भयोर्लो॒कयोर्॑ ऋ॒ध्वा । अति॑ मृ॒त्युं त॑राम्य॒हम् । जात॑वेदो॒ भुव॑नस्य॒ रेतः॑ । इ॒ह सि॑ञ्च॒ तप॑सो॒ यज्ज॑नि॒ष्यते ।।  ।। अ॒ग्निम॑श्व॒त्थादधि॑ हव्य॒वाहम् । श॒मी॒ग॒र्भाज्ज॒नय॒न्॒ यो म॑यो॒भूः । अ॒यं ते॒ योनि॑र्ऋ॒त्वियः॑ । यतो॑ जा॒तो अरो॑चथाः । तं जा॒नन्न॑ग्न॒ आरो॑ह । अथा॑ नो वर्धया र॒यिम् । अपे॑त॒ वीत॒ वि च॑ सर्प॒तातः॑ । येऽत्र॒ स्थ पु॑रा॒णा ये च॒ नूत॑नाः । अदा॑दि॒दं य॒मो॑ऽव॒सानं॑ पृथि॒व्याः । अक्र॑न्नि॒मं पि॒तरो॑ लो॒कम॑स्मै ।।  ।। अ॒ग्नेर्भस्मास्य॒ग्ने पुरी॑षमसि । सं॒ज्ञान॑मसि काम॒धर॑णम् । मयि॑ ते काम॒धर॑णं भूयात् । संव॑स्सृजामि॒ हृद॑यानि । ससृ॑ष्टं॒ मनो॑ अस्तु वः । संसृ॑ष्ट प्रा॒णो अ॑स्तु वः । सं या वः॑ प्रि॒यास्त॒नुवः॑ । सं प्रि॒या हृद॑यानि वः । आ॒त्मा वो॑ अस्तु॒ संप्रि॑यः । संप्रि॑यास्त॒नुवो॒ मम॑ ।।  ।। कल्पे॑तां॒ द्यावा॑पृथि॒वी । कल्प॑न्ता॒माप॒ ओष॑धीः । कल्प॑न्ताम॒ग्नय॒ पृथ॑क् । मम॒ ज्यैष्ठ्या॑य॒ सव्र॑ताः । येऽग्नय॒स्सम॑नसः । अ॒न्त॒रा द्यावा॑पृथि॒वी । वास॑न्तिकावृ॒तू अ॒भि कल्प॑मानाः । इन्द्र॑मिव दे॒वा अ॒भि सं वि॑शन्तु । दि॒वस्त्वा॑ वी॒र्ये॑ण । पृ॒थि॒व्यै म॑हि॒म्ना ।।  ।। ऊर्जं॑ नो धेहि द्वि॒पदे॒ चतु॑ष्पदे । अन्व॒ग्निरु॒षसा॒मग्र॑मख्यत् । अन्वहा॑नि प्रथ॒मो जा॒तवे॑दाः । अनु॒ सूर्य॑स्य पुरु॒त्रा च॑ र॒श्मीन् । अनु॒ द्यावा॑पृथि॒वी आत॑तान । विक्र॑मस्व म॒हा अ॑सि । वे॒दि॒षन्मानु॑षेभ्यः । त्रि॒षु लो॒केषु॑ जागृहि । यदि॒दं दि॒वो यद॒द पृ॑थि॒व्याः । सं॒वि॒दा॒ने रोद॑सी सं बभू॒वतुः॑ ।।  ।। तयोः पृ॒ष्ठे सी॑दतु जा॒तवे॑दाः । शं॒भू प्र॒जाभ्य॑स्त॒नुवे स्यो॒नः । प्रा॒णं त्वा॒ऽमृत॒ आ द॑धामि । अ॒न्ना॒दम॒न्नाद्या॑य । गो॒प्तारं॒ गुप्त्यै । यत्ते॑ शुक्र शु॒क्रं वर्च॑श्शु॒क्रा त॒नूः । शु॒क्रं ज्योति॒रज॑स्रम् । तेन॑ मे दीदिहि॒ तेन॒ त्वाऽऽद॑धे । अ॒ग्निनाऽग्ने॒ ब्रह्म॑णा । आ॒न॒शे व्या॑नशे॒ सर्व॒मायु॒र्व्या॑नशे ।।  ।। नर्य॑ प्र॒जां मे॑ गोपाय । अ॒मृ॒त॒त्वाय॑ जी॒वसे । जा॒तां ज॑नि॒ष्यमा॑णां च । अ॒मृते॑ स॒त्ये प्रति॑ष्ठिताम् । अथ॑र्व पि॒तुं मे॑ गोपाय । रस॒मन्न॑मि॒हायु॑षे । अद॑ब्धा॒योऽशी॑ततनो । अवि॑षन्न पि॒तुं कृ॑णु । शस्य॑ प॒शून्मे॑ गोपाय । द्वि॒पादो॒ ये चतु॑ष्पदः ।।  ।। अ॒ष्टाश॑फाश्च॒ य इ॒हाग्ने । ये चैक॑शफा आशु॒गाः । सप्र॑थ स॒भां मे॑ गोपाय । ये च॒ सभ्यास्सभा॒सदः॑ । तानि॑न्द्रि॒याव॑त कुरु । सर्व॒मायु॒रुपा॑सताम् । अहे॑ बुध्निय॒ मन्त्रं॑ मे गोपाय । यमृष॑यस्त्रैवि॒दा वि॒दुः । ऋच॒स्सामा॑नि॒ यजू॑षि । सा हि श्रीर॒मृता॑ स॒ताम् ।।  ।। नवै॒तान्यहा॑नि भवन्ति । नव॒ वै सु॑व॒र्गा लो॒काः । यदे॒तान्यहान्युप॒यन्ति॑ । न॒वस्वे॒व तथ्सु॑व॒र्गेषु॑ लो॒केषु॑ स॒त्रिण॑ प्रति॒तिष्ठ॑न्तो यन्ति । अ॒ग्नि॒ष्टो॒मा पर॑स्सामान का॒र्या॑ इत्या॑हुः । अ॒ग्नि॒ष्टो॒मसं॑मितस्सुव॒र्गो लो॒क इति॑ । द्वाद॑शाग्निष्टो॒मस्य॑ स्तो॒त्राणि॑ । द्वाद॑श॒ मासास्संवथ्स॒रः । तत्तन्न सूर्क्ष्यम् । उ॒क्थ्या॑ ए॒व स॑प्तद॒शाः पर॑स्सामानः का॒र्याः ।।  ।। प॒शवो॒ वा उ॒क्थानि॑ । प॒शू॒नामव॑रुद्ध्यै । वि॒श्व॒जि॒द॒भि॒जिता॑वग्निष्टो॒मौ । उ॒क्थ्यास्सप्तद॒शा पर॑स्समानः । ते सस्तु॑ता वि॒राज॑म॒भि संप॑द्यन्ते । द्वे चर्चा॒वति॑रिच्येते । एक॑या॒ गौरति॑रिक्तः । एक॒याऽऽयु॑रू॒नः । सु॒व॒र्गो वै लो॒को ज्योतिः॑ । ऊर्ग्वि॒राट् ।।  ।। सु॒व॒र्गमे॒व तेन॑ लो॒कम॒भि ज॑यन्ति । यत्पर॒॒ राथ॑न्तरम् । तत्प्र॑थ॒मेऽह॑न्का॒र्यम् । बृ॒हद्द्वि॒तीये । वै॒रू॒पं तृ॒तीये । वै॒रा॒जं च॑तु॒र्थे । शा॒क्व॒रं प॑ञ्च॒मे । रै॒व॒त ष॒ष्ठे । तदु॑ पृ॒ष्ठेभ्यो॒ नय॑न्ति । स॒न्तन॑य ए॒ते ग्रहा॑ गृह्यन्ते ।।  ।। त्रय॑स्त्रिश॒द्वै दे॒वताः । दे॒वता॑ ए॒वाव॑रुन्धते । ये वा इ॒तः पराञ्च संवथ्स॒रमु॑प॒यन्ति॑ । न है॑नं॒ ते स्व॒स्ति सम॑श्ञुवते । अथ॒ ये॑ऽमुतो॒ऽर्वाञ्च॑मुप॒यन्ति॑ । ते है॑न स्व॒स्ति सम॑श्ञुवते । ए॒तद्वा अ॒मुतो॒ऽर्वाञ्च॒मुप॑यन्ति । यदे॒वम् । यो ह॒ खलु॒ वाव प्र॒जाप॑तिः । स उ॑वे॒वेन्द्रः॑ । तदु॑ दे॒वेभ्यो॒ नय॑न्ति ।।  ।। ए॒व सं॑वथ्स॒रस्य॒ पक्ष॑सी दिवाकी॒र्त्य॑म॒भि सं त॑न्वन्ति । नार्ति॒मार्च्छ॑न्ति । ए॒क॒वि॒॒शमह॑र्भवति । शु॒क्राग्रा॒ ग्रहा॑ गृह्यन्ते । प्रत्युत्त॑ब्ध्यै सय॒त्वाय॑ । सौ॒र्य॑ ए॒तदह॑ प॒शुराल॑भ्यते । सौ॒र्यो॑ऽतिग्रा॒ह्यो॑ गृह्यते । अह॑रे॒व रू॒पेण॒ सम॑र्धयन्ति । अथो॒ अह्न॑ ए॒वैष ब॒लिर्ह्रि॑यते । स॒प्तैतदह॑रतिग्रा॒ह्या॑ गृह्यन्ते ।।  ।। स॒प्त वै शी॑ऱ्ष॒ण्या प्रा॒णाः । अ॒सावा॑दि॒त्यश्शिर॑ प्र॒जानाम् । शी॒र्॒षन्ने॒व प्र॒जानां प्रा॒णान्द॑धाति । तस्माथ्स॒प्त शी॒र्॒षन्प्रा॒णाः । इन्द्रो॑ वृ॒त्र ह॒त्वा । असु॑रान्परा॒भाव्य॑ । स इ॒माल्लोँ॒कान॒भ्य॑जयत् । तस्या॒सौ लो॒कोऽन॑भिजित आसीत् । तं वि॒श्वक॑र्मा भू॒त्वाऽभ्य॑जयत् । यद्वैश्वकर्म॒णो गृ॒ह्यते ।।  ।। सु॒व॒र्गस्य॑ लो॒कस्या॒भिजि॑त्यै । प्र वा ए॒तेऽस्माल्लो॒काच्च्य॑वन्ते । ये वैश्वकर्म॒णं गृ॒ह्णते । आ॒दि॒त्यश्श्वो गृ॑ह्यते । इ॒यं वा अदि॑तिः । अ॒स्यामे॒व प्रति॑ तिष्ठन्ति । अ॒न्योन्यो गृह्येते । विश्वान्ये॒वान्येन॒ कर्मा॑णि कुर्वा॒णा य॑न्ति । अ॒स्याम॒न्येन॒ प्रति॑ तिष्ठन्ति । तावाऽप॑रा॒र्धाथ्सं॑वथ्स॒रस्या॒न्योन्यो गृह्येते । तावु॒भौ स॒ह म॑हाव्र॒ते गृ॑ह्येते । य॒ज्ञस्यै॒वान्तं॑ ग॒त्वा । उ॒भयोर्लो॒कयो॒ प्रति॑तिष्ठन्ति । अ॒र्क्य॑मु॒क्थं भ॑वति । अ॒न्नाद्य॒स्याव॑रुध्यै ।।  ।। ए॒क॒वि॒॒श ए॒ष भ॑वति । ए॒तेन॒ वै दे॒वा ए॑कवि॒॒शेन॑ । आ॒दि॒त्यमि॒त उ॑त्त॒म सु॑व॒र्गं लो॒कमारो॑हयन्न् । स वा ए॒ष इ॒त ए॑कवि॒॒शः । तस्य॒ दशा॒वस्ता॒दहा॑नि । दश॑ प॒रस्तात् । स वा ए॒ष वि॒राज्यु॑भ॒यतः॒ प्रति॑ष्ठितः । वि॒राजि॒ हि वा ए॒ष उ॑भ॒यतः॒ प्रति॑ष्ठितः । तस्मा॑दन्त॒रेमौ लो॒कौ यन्न् । सर्वे॑षु सुव॒र्गेषु॑ लो॒केष्व॑भि॒तप॑न्नेति ।।  ।। दे॒वा वा आ॑दि॒त्यस्य॑ सुव॒र्गस्य॑ लो॒कस्य॑ । परा॑चोऽतिपा॒दाद॑बिभयुः । तं छन्दो॑भिरदृह॒न्धृत्यै । दे॒वा वा आ॑दि॒त्यस्य॑ सुव॒र्गस्य॑ लो॒कस्य॑ । अवा॑चोऽवपा॒दाद॑बिभयुः । तं प॒ञ्चभी॑ र॒श्मिभि॒रुद॑वयन्न् । तस्मा॑देकवि॒॒शेऽ ह॒न्पञ्च॑ दिवाकी॒र्त्या॑नि क्रियन्ते । र॒श्मयो॒ वै दि॑वाकी॒र्त्या॑नि । ये गा॑य॒त्रे । ते गा॑य॒त्रीषूत्त॑रयो॒ पव॑मानयोः ।।  ।। म॒हादि॑वाकीर्त्य॒॒ होतु॑ पृ॒ष्ठम् । वि॒क॒र्णं ब्र॑ह्मसा॒मम् । भा॒सोऽग्निष्टो॒मः । अथै॒तानि॒ परा॑णि । परै॒र्वै दे॒वा आ॑दि॒त्य सु॑व॒र्गं लो॒कम॑पारयन्न् । यदपा॑रयन्न् । तत्परा॑णां पर॒त्वम् । पा॒रय॑न्त्येनं॒ परा॑णि । य ए॒वं वेद॑ । अथै॒तानि॒ स्परा॑णि । स्परै॒र्वै दे॒वा आ॑दि॒त्य सु॑व॒र्गं लो॒कम॑स्पारयन्न् । यदस्पा॑रयन्न् । तथ्स्परा॑णा स्पर॒त्वम् । स्पा॒रय॑न्त्यैन॒॒ स्परा॑णि । य ए॒वं वेद॑ ।।  ।। अप्र॑तिष्ठां॒ वा ए॒ते ग॑च्छन्ति । येषा॑ संवथ्स॒रेऽना॒प्तेऽथ॑ । ए॒का॒द॒शिन्या॒प्यते । वै॒ष्ण॒वं वा॑म॒नमा ल॑भन्ते । य॒ज्ञो वै विष्णुः॑ । य॒ज्ञमे॒वाल॑भन्ते॒ प्रति॑ष्ठित्यै । ऐ॒न्द्रा॒ग्नमाल॑भन्ते । इ॒न्द्रा॒ग्नी वै दे॒वाना॒मया॑तयामानौ । ये ए॒व दे॒वते॒ अया॑तयाम्नी । ते ए॒वाल॑भन्ते ।।  ।। वै॒श्व॒दे॒वमाल॑भन्ते । दे॒वता॑ ए॒वाव॑रुन्धते । द्या॒वा॒पृ॒थिव्यां धे॒नुमाल॑भन्ते । द्यावा॑पृथि॒व्योरे॒व प्रति॑ तिष्ठन्ति । वा॒य॒व्यं॑ व॒थ्समाल॑भन्ते । वा॒युरे॒वैभ्यो॑ यथाऽऽयत॒नाद्दे॒वता॒ अव॑रुन्धे । आ॒दि॒त्यामविं॑ व॒शामाल॑भन्ते । इ॒यं वा अदि॑तिः । अ॒स्यामे॒व प्रति॑ तिष्ठन्ति । मै॒त्रा॒व॒रु॒णीमाल॑भन्ते ।।  ।। मि॒त्रेणै॒व य॒ज्ञस्य॒ स्वि॑ष्ट शमयन्ति । वरु॑णेन॒ दुरि॑ष्टम् । प्रा॒जा॒प॒त्यं तू॑प॒रं म॑हाव्र॒त आल॑भन्ते । प्रा॒जा॒प॒त्यो॑ऽतिग्रा॒ह्यो॑ गृह्यते । अह॑रे॒व रू॒पेण॒ सम॑र्धयन्ति । अथो॒ अह्न॑ ए॒वैष ब॒लिर्ह्रि॑यते । आ॒ग्ने॒यमा ल॑भन्ते॒ प्रति॒ प्रज्ञात्यै । अ॒ज॒पे॒त्वान् वा ए॒ते पूर्वै॒र्मासै॒रव॑ रुन्धते । यदे॒ते ग॒व्या प॒शव॑ आल॒भ्यन्ते । उ॒भये॑षां पशू॒नामव॑रुद्ध्यै ।।  ।। प्र॒जाप॑ति प्र॒जास्सृ॒ष्ट्वा वृ॒त्तो॑ऽशयत् । तं दे॒वा भू॒ताना॒॒ रसं॒ तेज॑स्सं॒भृत्य॑ । तेनै॑नमभिषज्यन्न् । म॒हान॑वव॒र्तीति॑ । तन्म॑हाव्र॒तस्य॑ महाव्रत॒त्वम् । म॒हद्व्र॒तमिति॑ । तन्म॑हाव्र॒तस्य॑ महाव्रत॒त्वम् । म॒ह॒तो व्र॒तमिति॑ । तन्म॑हाव्र॒तस्य॑ महाव्रत॒त्वम् । प॒ञ्च॒वि॒॒शस्स्तोमो॑ भवति ।।  ।। चतु॑र्विशत्यर्धमासस्संवथ्स॒रः । यद्वा ए॒तस्मिन्थ्संवथ्स॒रेऽधि॒ प्राजा॑यत । तदन्नं॑ पञ्चवि॒॒शम॑भवत् । म॒ध्य॒त क्रि॑यते । म॒ध्य॒तो ह्यन्न॑मशि॒तं धि॒नोति॑ । अथो॑ मध्य॒त ए॒व प्र॒जाना॒मूर्ग्धी॑यते । अथ॒ यद्वा इ॒दम॑न्त॒त क्रि॒यते । तस्मा॑दुद॒न्ते प्र॒जास्समे॑धन्ते । अ॒न्त॒त क्रि॑यते प्र॒जन॑नायै॒व । त्रि॒वृच्छिरो॑ भवति ।।  ।। त्रे॒धा॒वि॒हि॒त हि शिरः॑ । लोम॑ छ॒वीरस्थि॑ । परा॑चा स्तुवन्ति । तस्मा॒त्तथ्स॒दृगे॒व । न मेद्य॒तोऽनु॑ मेद्यति । न कृश्य॒तोऽनु॑ कृश्यति । प॒ञ्च॒द॒शोऽन्य प॒क्षो भ॑वति । स॒प्त॒द॒शोऽन्यः । तस्मा॒द्वया॑ स्यन्यत॒रम॒र्धम॒भि प॒र्याव॑र्तन्ते । अ॒न्य॒त॒रतो॒ हि तद्गरी॑य क्रि॒यते ।।  ।। प॒ञ्च॒वि॒॒श आ॒त्मा भ॑वति । तस्मान्मध्य॒त प॒शवो॒ वरि॑ष्ठाः । ए॒क॒वि॒॒शं पुच्छम् । द्वि॒पदा॑सु स्तुवन्ति॒ प्रति॑ष्ठित्यै । सर्वे॑ण स॒ह स्तु॑वन्ति । सर्वे॑ण॒ ह्यात्मनाऽऽत्म॒न्वी । स॒होत्पत॑न्ति । एकै॑का॒मुच्छि॑षन्ति । आ॒त्मन्न् ह्यङ्गा॑नि ब॒द्धानि॑ । न वा ए॒तेन॒ सर्व॒ पुरु॑षः ।।  ।। यदि॒तइ॑तो॒ लोमा॑नि द॒तो न॒खान् । प॒रि॒माद॑ क्रियन्ते । तान्ये॒व तेन॒ प्रत्यु॑प्यन्ते । औदु॑म्बर॒स्तल्पो॑ भवति । ऊर्ग्वा अन्न॑मुदु॒म्बरः॑ । ऊ॒र्ज ए॒वान्नाद्य॒स्याव॑रुध्यै । यस्य॑ तल्प॒सद्य॒मन॑भिजित॒॒ स्यात् । स दे॒वाना॒॒ साम्य॑क्षे । त॒ल्प॒सद्य॑म॒भिज॑या॒नीति॒ तल्प॑मा॒रुह्योद्गा॑येत् । त॒ल्प॒सद्य॑मे॒वाभि ज॑यति ।।  ।। यस्य॑ तल्प॒सद्य॑म॒भिजि॑त॒॒ स्यात् । स दे॒वाना॒॒ साम्य॑क्षे । त॒ल्प॒सद्यं॒ मा परा॑जे॒षीति॒ तल्प॑मा॒रुह्योद्गा॑येत् । न त॑ल्प॒सद्यं॒ परा॑जयते । प्ले॒ङ्खे श॑सति । महो॒ वै प्ले॒ङ्खः । मह॑स ए॒वान्नाद्य॒स्याव॑रुद्ध्यै । दे॒वा॒सु॒रास्संय॑त्ता आसन्न् । त आ॑दि॒त्ये व्याय॑च्छन्त । तं दे॒वास्सम॑जयन्न् ।।  ।। ब्रा॒ह्म॒णश्च॑ शू॒द्रश्च॑ चर्मक॒र्ते व्याय॑च्छेते । दैव्यो॒ वै वर्णो ब्राह्म॒णः । अ॒सु॒र्य॑श्शू॒द्रः । इ॒मे॑ऽराथ्सुरि॒मे सु॑भू॒तम॑क्र॒न्नित्य॑न्यत॒रो ब्रू॑यात् । इ॒म उ॑द्वासीका॒रिण॑ इ॒मे दु॑र्भू॒तम॑क्र॒न्नित्य॑न्यत॒रः । यदे॒वैषा॑ सुकृ॒तं या राद्धिः॑ । तद॑न्यत॒रो॑ऽभि श्री॑णाति । यदे॒वैषां दुष्कृ॒तं याऽराद्धिः । तद॑न्यत॒रोऽप॑ हन्ति । ब्रा॒ह्म॒णस्सं ज॑यति । अ॒मुमे॒वादि॒त्यं भ्रातृ॑व्यस्य॒ संवि॑न्दन्ते ।।  ।। दे॒वा॒सु॒रास्संय॑त्ता आसन्न् । ते दे॒वा वि॑ज॒यमु॑प॒यन्तः॑ । अ॒ग्नीषोम॑योस्तेज॒स्विनीस्त॒नूस्संन्य॑दधत । इ॒दमु॑ नो भविष्यति । यदि॑ नो जे॒ष्यन्तीति॑ । तेना॒ग्नीषोमा॒वपाक्रामताम् । ते दे॒वा वि॒जित्य॑ । अ॒ग्नीषोमा॒वन्वैच्छन्न् । तेऽग्निमन्व॑विन्दन्नृ॒तुषूथ्स॑न्नम् । तस्य॒ विभ॑क्तीभिस्तेज॒स्विनीस्त॒नूरवा॑रुन्धत ।।  ।। ते सोम॒मन्व॑विन्दन्न् । तम॑घ्नन्न् । तस्य॑ यथाऽभि॒ज्ञायं॑ त॒नूर्व्य॑गृह्णत । ते ग्रहा॑ अभवन्न् । तद्ग्रहा॑णां ग्रह॒त्वम् । यस्यै॒वं वि॒दुषो॒ ग्रहा॑ गृ॒ह्यन्ते । तस्य॒ त्वे॑व गृ॑ही॒ताः । नानाऽऽग्नेयं पुनरा॒धेये॑ कुर्यात् । यदनाग्नेयं पुनरा॒धेये॑ कु॒र्यात् । व्यृ॑द्धमे॒व तत् ।।  ।। अनाग्नेयं॒ वा ए॒तत्क्रि॑यते । यथ्स॒मिध॒स्तनू॒नपा॑तमि॒डो ब॒ऱ्हिर्य॑जति । उ॒भावाग्ने॒यावाज्य॑भागौ स्याताम् । अनाज्यभागौ भवत॒ इत्या॑हुः । यदु॒भावाग्ने॒याव॒न्वञ्चा॒विति॑ । अ॒ग्नये॒ पव॑माना॒योत्त॑रस्स्यात् । यत्पव॑मानाय । तेनाज्य॑भागः । तेन॑ सौ॒म्यः । बुध॑न्वत्याग्ने॒यस्याज्य॑भागस्य पुरोऽनुवा॒क्या॑ भवति ।।  ।। यथा॑ सु॒प्तं बो॒धय॑ति । ता॒दृगे॒व तत् । अ॒ग्निन्य॑क्ताः पत्नीसंया॒जाना॒मृच॑स्स्युः । तेनाग्ने॒य सर्वं॑ भवति । ए॒क॒धा॒ ते॑ज॒स्विनीं दे॒वता॒मुपै॒तीत्या॑हुः । सैन॑मीश्व॒रा प्र॒दह॒ इति॑ । नेति॑ ब्रूयात् । प्र॒जन॑नं॒ वा अ॒ग्निः । प्र॒जन॑नमे॒वोपै॒तीति॑ । कृ॒तय॑जु॒स्संभृ॑तसंभार॒ इत्या॑हुः ।।  ।। न सं॒भृत्यास्संभा॒राः । न यजुः॑ का॒र्य॑मिति॑ । अथो॒ खलु॑ । सं॒भृत्या॑ ए॒व सं॑भा॒राः । का॒र्यं॑ यजुः॑ । पु॒न॒रा॒धेय॑स्य॒ समृ॑द्ध्यै । तेनो॑पा॒॒शु प्रच॑रति । एष्य॑ इव॒ वा ए॒षः । यत्पु॑नरा॒धेयः॑ । यथो॑पा॒॒शु न॒ष्टमि॒च्छति॑ ।।  ।। ता॒दृगे॒व तत् । उ॒च्चैस्स्वि॑ष्ट॒कृत॒मुथ्सृ॑जति । यथा॑ न॒ष्टं वि॒त्त्वा प्राहा॒यमिति॑ । ता॒दृगे॒व तत् । ए॒क॒धा ते॑ज॒स्विनीं दे॒वता॒मुपै॒तीत्या॑हुः । सैन॑मीश्व॒रा प्र॒दह॒ इति॑ । तत्तथा॒ नोपै॑ति । प्र॒या॒जा॒नू॒या॒जेष्वे॒व विभ॑क्तीः कुर्यात् । य॒था॒पू॒र्वमाज्य॑भागौ॒ स्याताम् । ए॒वं प॑त्नीसंया॒जाः ।।  ।। तद्वैश्वान॒रव॑त्प्र॒जन॑नवत्तर॒मुपै॒तीति॑ । तदा॑हुः । व्यृ॑द्धं॒ वा ए॒तत् । अनाग्नेयं॒ वा ए॒तत्क्रि॑यत॒ इति॑ । नेति॑ ब्रूयात् । अ॒ग्निं प्र॑थ॒मं विभ॑क्तीनां यजति । अ॒ग्निमु॑त्त॒मं प॑त्नीसंया॒जानाम् । तेनाग्ने॒यम् । तेन॒ समृ॑द्धं क्रियत॒ इति॑ ।।  ।। दे॒वा वै यथा॒दऱ्शं॑ य॒ज्ञानाह॑रन्त । योऽग्निष्टो॒मम् । य उ॒क्थ्यम् । यो॑ऽतिरा॒त्रम् । ते स॒हैव सर्वे॑ वाज॒पेय॑मपश्यन्न् । ते । अ॒न्योऽन्यस्मै॒ नाति॑ष्ठन्त । अ॒हम॒नेन॑ यजा॒ इति॑ । तेऽब्रुवन्न् । आ॒जिम॒स्य धा॑वा॒मेति॑ ।।  ।। तस्मि॑न्ना॒जिम॑धावन्न् । तं बृह॒स्पति॒रुद॑जयत् । तेना॑यजत । स स्वाराज्यमगच्छत् । तमिन्द्रोऽब्रवीत् । माम॒नेन॑ याज॒येति॑ । तेनेन्द्र॑मयाजयत् । सोऽग्रं॑ दे॒वता॑नां॒ पर्यैत् । अग॑च्छ॒थ्स्वाराज्यम् । अति॑ष्ठन्तास्मै॒ ज्यैष्ठ्या॑य ।।  ।। य ए॒वं वि॒द्वान् वा॑ज॒पेये॑न॒ यज॑ते । गच्छ॑ति॒ स्वाराज्यम् । अग्र॑ समा॒नानां॒ पर्ये॑ति । तिष्ठ॑न्तेऽस्मै॒ ज्यैष्ठ्या॑य । स वा ए॒ष ब्राह्म॒णस्य॑ चै॒व रा॑ज॒न्य॑स्य च य॒ज्ञः । तं वा ए॒तं वा॑ज॒पेय॒ इत्या॑हुः । वा॒जाप्यो॒ वा ए॒षः । वाज॒॒ ह्ये॑तेन॑ दे॒वा ऐफ्सन्न्॑ । सोमो॒ वै वा॑ज॒पेयः॑ । यो वै सोमं॑ वाज॒पेयं॒ वेद॑ ।।  ।। वा॒ज्ये॑वैनं॑ पी॒त्वा भ॑वति । आऽस्य॑ वा॒जी जा॑यते । अन्नं॒ वै वा॑ज॒पेयः॑ । य ए॒वं वेद॑ । अत्यन्नम् । आऽस्यान्ना॒दो जा॑यते । ब्रह्म॒ वै वा॑ज॒पेयः॑ । य ए॒वं वेद॑ । अत्ति॒ ब्रह्म॒णाऽन्नम् । आऽस्य॑ ब्र॒ह्मा जा॑यते ।।।। वाग्वै वाज॑स्य प्रस॒वः । य ए॒वं वेद॑ । क॒रोति॑ वा॒चा वी॒र्यम् । ऐनं॑ वा॒चा ग॑च्छति । अपि॑वतीं॒ वाचं॑ वदति । प्र॒जाप॑तिर्दे॒वेभ्यो॑ य॒ज्ञान्व्यादि॑शत् । स आ॒त्मन्वा॑ज॒पेय॑मधत्त । तं दे॒वा अ॑ब्रुवन्न् । ए॒ष वाव य॒ज्ञः । यद्वा॑ज॒पेयः॑ ।।  ।। अप्ये॒व नोऽत्रा॒स्त्विति॑ । तेभ्य॑ ए॒ता उज्जि॑ती॒ प्राय॑च्छत् । ता वा ए॒ता उज्जि॑तयो॒ व्याख्या॑यन्ते । य॒ज्ञस्य॑ सर्व॒त्वाय॑ । दे॒वता॑ना॒मनि॑र्भागाय । दे॒वा वै ब्रह्म॑ण॒श्चान्न॑स्य च॒ शम॑ल॒मपाघ्नन्न् । यद्ब्रह्म॑ण॒श्शम॑ल॒मासीत् । सा गाथा॑ नाराश॒॒स्य॑भवत् । यदन्न॑स्य । सा सुरा ।।  ।। तस्मा॒द्गाय॑तश्च म॒त्तस्य॑ च॒ न प्र॑ति॒गृह्यम् । यत्प्र॑तिगृह्णी॒यात् । शम॑लं॒ प्रति॑गृह्णीयात् । सर्वा॒ वा ए॒तस्य॒ वाचोऽव॑रुद्धाः । यो वा॑जपेयया॒जी । या पृ॑थि॒व्यां याऽग्नौ या र॑थन्त॒रे । याऽन्तरि॑क्षे॒ या वा॒यौ या वा॑मदे॒व्ये । या दि॒वि याऽऽदि॒त्ये या बृ॑ह॒ति । याऽफ्सु यौष॑धीषु॒ या वन॒स्पति॑षु । तस्माद्वाजपेयया॒ज्यार्त्वि॑जीनः । सर्वा॒ ह्य॑स्य॒ वाचोऽव॑रुद्धाः ।।  ।। दे॒वा वै यद॒न्यैर्ग्रहैर्य॒ज्ञस्य॒ नावारु॑न्धत । तद॑तिग्रा॒ह्यै॑रति॒गृह्यावा॑रुन्धत । तद॑तिग्र॒ह्या॑णामतिग्राह्य॒त्वम् । यद॑तिग्रा॒ह्या॑ गृ॒ह्यन्ते । यदे॒वान्यैर्ग्रहैर्य॒ज्ञस्य॒ नाव॑रु॒न्धे । तदे॒व तैर॑ति॒गृह्याव॑रुन्धे । पञ्च॑ गृह्यन्ते । पाङ्क्तो॑ य॒ज्ञः । यावा॑ने॒व य॒ज्ञः । तमा॒प्त्वाऽव॑रुन्धे ।।  ।। ए॒तन्म॑नु॒ष्या॑णाम् । यथ्सुरा । प॒र॒मेणै॒वास्मा॑ अ॒न्नाद्ये॒नाव॑रम॒न्नाद्य॒मव॑रुन्धे । सो॒म॒ग्र॒हान्गृ॑ह्णाति । ब्रह्म॑णो॒ वा ए॒तत्तेजः॑ । यथ्सोमः॑ । ब्रह्म॑ण ए॒व तेज॑सा॒ तेजो॒ यज॑माने दधाति । सु॒रा॒ग्र॒हान्गृ॑ह्णाति । अन्न॑स्य॒ वा ए॒तच्छम॑लम् । यथ्सुरा ।।  ।। पूर्वे॑ सोमग्र॒हा गृ॑ह्यन्ते । अप॑रे सुराग्र॒हाः । पु॒रो॒ऽक्ष सो॑मग्र॒हान्थ्सा॑दयति । प॒श्चा॒द॒क्ष सु॑राग्र॒हान् । पा॒प॒व॒स्य॒सस्य॒ विधृ॑त्यै । ए॒ष वै यज॑मानः । यथ्सोमः॑ । अन्न॒॒ सुरा । सो॒म॒ग्र॒हाश्च॑ सुराग्र॒हाश्च॒ व्यति॑षजति । अ॒न्नाद्ये॑नै॒वैनं॒ व्यति॑षजति ।।  ।। तस्माद्वाजपेयया॒जी पू॒तो मेध्यो॑ दक्षि॒ण्यः॑ । प्राङुद्द्र॑वति सोमग्र॒हैः । अ॒मुमे॒व तैर्लो॒कम॒भिज॑यति । प्र॒त्यङ्ख्सु॑राग्र॒हैः । इ॒ममे॒व तैर्लो॒कम॒भिज॑यति । प्रति॑ष्ठन्ति सोमग्र॒हैः । याव॑दे॒व स॒त्यम् । तेन॑ सूयते । वा॒ज॒सृद्भ्य॑स्सुराग्र॒हान् ह॑रन्ति । अनृ॑तेनै॒व विश॒॒ ससृ॑जति । हि॒र॒ण्य॒पा॒त्रं मधोपू॒र्णं द॑दाति । म॒ध॒व्यो॑ऽसा॒नीति॑ । ए॒क॒धा ब्र॒ह्मण॒ उप॑ हरति । ए॒क॒धैव यज॑मान॒ आयु॒स्तेजो॑ दधाति ।।  ।। ब्र॒ह्म॒वा॒दिनो॑ वदन्ति । नाग्नि॑ष्टो॒मो नोक्थ्यः॑ । न षो॑ड॒शी नाति॑रा॒त्रः । अथ॒ कस्माद्वाज॒पेये॒ सर्वे॑ यज्ञक्र॒तवोऽव॑रुध्यन्त॒ इति॑ । प॒शुभि॒रिति॑ ब्रूयात् । आ॒ग्ने॒यं प॒शुमाल॑भते । अ॒ग्नि॒ष्टो॒ममे॒व तेनाव॑रुन्धे । ऐ॒न्द्रा॒ग्नेनो॒क्थ्यम् । ऐ॒न्द्रेण॑ षोड॒शिन॑स्स्तो॒त्रम् । सा॒र॒स्व॒त्याऽति॑रा॒त्रम् ।।  ।। प्र॒जाप॑ते॒राप्त्यै । श्या॒मा एक॑रूपा भवन्ति । ए॒वमि॑व॒ हि प्र॒जाप॑ति॒स्समृ॑द्ध्यै । तान्पर्य॑ग्निकृता॒नुथ्सृ॑जति । म॒रुतो॑ य॒ज्ञम॑जिघासन्प्र॒जाप॑तेः । तेभ्य॑ ए॒तां मा॑रु॒तीं व॒शामाल॑भत । तयै॒वैना॑नशमयत् । मा॒रु॒त्या प्र॒चर्य॑ । ए॒तान्थ्संज्ञ॑पयेत् । म॒रुत॑ ए॒व श॑मयि॒त्वा ।।  ।। इन्द्र॑स्य॒ वज्रो॑ऽसि॒ वार्त्र॑घ्न॒ इति॒ रथ॑मु॒पाव॑हरति॒ विजि॑त्यै । वाज॑स्य॒ नु प्र॑स॒वे मा॒तरं॑ म॒हीमित्या॑ह । यच्चै॒वेयम् । यच्चा॒स्यामधि॑ । तदे॒वाव॑रुन्धे । अथो॒ तस्मि॑न्ने॒वोभये॒ऽभिषि॑च्यते । अ॒फ्स्व॑न्तर॒मृत॑म॒फ्सु भे॑ष॒जमित्यश्वान्प ल्पूलयति । अ॒फ्सु वा अश्व॑स्य॒ तृती॑यं॒ प्रवि॑ष्टम् । तद॑नु॒वेन॒न्वव॑प्लवते । यद॒फ्सु प॑ल्पू॒लय॑ति ।।  ।। यदे॒वास्या॒फ्सु प्रवि॑ष्टम् । तदे॒वाव॑रुन्धे । ब॒हु वा अश्वो॑ऽमे॒ध्यमुप॑गच्छति । यद॒फ्सु प॑ल्पू॒लय॑ति । मेध्या॑ने॒वैनान्करोति । वा॒युर्वा त्वा॒ मनु॑र्वा॒ त्वेत्या॑ह । ए॒ता वा ए॒तं दे॒वता॒ अग्रे॒ अश्व॑मयुञ्जन्न् । ताभि॑रे॒वैनान्॑ युनक्ति । स॒वस्योज्जि॑त्यै । यजु॑षा युनक्ति॒ व्यावृ॑त्त्यै ।।  ।। अपांनपादाशुहेम॒न्निति॒ संमार्ष्टि । मेध्या॑ने॒वैनान्करोति । अथो॒ स्तौत्ये॒वैना॑ना॒जि स॑रिष्य॒तः । वि॒ष्णु॒क्र॒मान्क्र॑मते । विष्णु॑रे॒व भू॒त्वेमाल्लोँ॒कान॒भिज॑यति । वै॒श्व॒दे॒वो वै रथः॑ । अ॒ङ्कौ न्य॒ङ्काव॒भितो॒ रथं॒ यावित्या॑ह । या ए॒व दे॒वता॒ रथे॒ प्रवि॑ष्टाः । ताभ्य॑ ए॒व नम॑स्करोति । आ॒त्मनोऽनार्त्यै । अश॑मरथंभावुकोऽस्य॒ रथो॑ भवति । य ए॒वं वेद॑ ।।  ।। वा॒जिना॒॒ साम॑ गायते । अन्नं॒ वै वाजः॑ । अन्न॑मे॒वाव॑रुन्धे । वा॒चो वर्ष्म॑ दे॒वेभ्योऽपाक्रामत् । तद्वन॒स्पती॒न्प्रावि॑शत् । सैषा वाग्वन॒स्पति॑षु वदति । या दु॑न्दु॒भौ । तस्माद्दुन्दु॒भिस्सर्वा॒ वाचोऽति॑वदति । दु॒न्दु॒भीन्थ्स॒माघ्न॑न्ति । प॒र॒मा वा ए॒षा वाक् ।।  ।। वाजि॑नो॒ वाजं॑ धावत॒ काष्ठां गच्छ॒तेत्या॑ह । सु॒व॒र्गो वै लो॒क काष्ठा । सु॒व॒र्गमे॒व लो॒कं य॑न्ति । सु॒व॒र्गं वा ए॒ते लो॒कं य॑न्ति । य आ॒जिं धाव॑न्ति । प्राञ्चो॑ धावन्ति । प्राङि॑व॒ हि सु॑व॒र्गो लो॒कः । च॒त॒सृभि॒रनु॑ मन्त्रयते । च॒त्वारि॒ छन्दा॑सि । छन्दो॑भिरे॒वैनान्थ्सुव॒र्गं लो॒कं ग॑मयति ।।  ।। प्र वा ए॒तेऽस्माल्लो॒काच्च्य॑वन्ते । य आ॒जिं धाव॑न्ति । उद॑ञ्च॒ आव॑र्तन्ते । अ॒स्मादे॒व तेन॑ लो॒कान्नय॑न्ति । र॒थ॒वि॒मो॒च॒नीयं॑ जुहोति॒ प्रति॑ष्ठित्त्यै । आ मा॒ वाज॑स्य प्रस॒वो ज॑गम्या॒दित्या॑ह । अन्नं॒ वै वाजः॑ । अन्न॑मे॒वाव॑रुन्धे । य॒था॒लो॒कं वा ए॒त उज्ज॑यन्ति । य आ॒जिं धाव॑न्ति ।।  ।। ए॒तद्वै दे॒वानां पर॒ममन्नम् । यन्नी॒वाराः । प॒र॒मेणै॒वास्मा॑ अ॒न्नाद्ये॒नाव॑रम॒न्नाद्य॒मव॑रुन्धे । स॒प्तद॑शशरावो भवति । स॒प्त॒द॒श प्र॒जाप॑तिः । प्र॒जाप॑ते॒राप्त्ये । क्षी॒रे भ॑वति । रुच॑मे॒वास्मि॑न्दधाति । स॒र्पिष्वान्भवति मेध्य॒त्वाय॑ । बा॒र्॒ह॒स्प॒त्यो वा ए॒ष दे॒वत॑या ।।  ।। ता॒र्प्यं यज॑मानं॒ परि॑धापयति । य॒ज्ञो वै ता॒र्प्यम् । य॒ज्ञेनै॒वैन॒॒ सम॑र्धयति । द॒र्भ॒मयं॒ परि॑धापयति । प॒वित्रं॒ वै द॒र्भाः । पु॒नात्ये॒वैनम् । वाजं॒ वा ए॒षोऽव॑रुरुथ्सते । यो वा॑ज॒पये॑न॒ यज॑ते । ओष॑धय॒ खलु॒ वै वाजः॑ । यद्द॑र्भ॒मयं॑ परिधा॒पय॑ति ।।  ।। वाज॒स्याव॑रुद्ध्यै । जाय॒ एहि॒ सुवो॒ रोहा॒वेत्या॑ह । पत्नि॑या ए॒वैष य॒ज्ञस्यान्वार॒म्भोऽन॑वच्छित्त्यै । स॒प्तद॑शारत्नि॒र्यूपो॑ भवति । स॒प्त॒द॒श प्र॒जाप॑तिः । प्र॒जाप॑ते॒राप्त्यै । तू॒प॒रश्चतु॑रश्रिर्भवति । गौ॒धू॒मं च॒षालम् । न वा ए॒ते व्री॒हयो॒ न यवाः । यद्गो॒धूमाः ।।  ।। ए॒वमि॑व॒ हि प्र॒जाप॑ति॒स्समृ॑द्ध्यै । अथो॑ अ॒मुमे॒वास्मै॑ लो॒कमन्न॑वन्तं करोति । वासो॑भिर्वेष्टयति । ए॒ष वै यज॑मानः । यद्यूपः॑ । स॒र्व॒दे॒व॒त्यं॑ वासः॑ । सर्वा॑भिरे॒वैनं॑ दे॒वता॑भि॒स्सम॑र्धयति । अथो॑ आ॒क्रम॑णमे॒व तथ्सेतुं॒ यज॑मान कुरुते । सु॒व॒र्गस्य॑ लो॒कस्य॒ सम॑ष्ट्यै । द्वाद॑श वाजप्रस॒वीया॑नि जुहोति ।।  ।। द्वाद॑श॒ मासास्संवथ्स॒रः । सं॒व॒थ्स॒रमे॒व प्री॑णाति । अथो॑ संवथ्स॒रमे॒वास्मा॒ उप॑दधाति । सु॒व॒र्गस्य॑ लो॒कस्य॒ सम॑ष्ट्यै । द॒शभि॒ कल्पै॑ रोहति । नव॒ वै पुरु॑षे प्रा॒णाः । नाभि॑र्दश॒मी । प्रा॒णाने॒व य॑थास्था॒नं क॑ल्पयि॒त्वा । सु॒व॒र्गं लो॒कमे॑ति । ए॒ताव॒द्वै पुरु॑षस्य॒ स्वम् ।।  ।। याव॑त्प्रा॒णाः । याव॑दे॒वास्यास्ति॑ । तेन॑ स॒ह सु॑व॒र्गं लो॒कमे॑ति । सुव॑र्दे॒वा अ॑ग॒न्मेत्या॑ह । सु॒व॒र्गमे॒व लो॒कमे॑ति । अ॒मृता॑ अभू॒मेत्या॑ह । अ॒मृत॑मिव॒ हि सु॑व॒र्गो लो॒कः । प्र॒जाप॑ते प्र॒जा अ॑भू॒मेत्या॑ह । प्रा॒जा॒प॒त्यो वा अ॒यं लो॒कः । अ॒स्मादे॒व तेन॑ लो॒कान्नैति॑ ।।  ।। सम॒हं प्र॒जया॒ सं मया प्र॒जेत्या॑ह । आ॒शिष॑मे॒वैतामा शास्ते । आ॒स॒पु॒टैर्घ्न॑न्ति । अन्नं॒ वा इ॒यम् । अ॒न्नाद्ये॑नै॒वैन॒॒ सम॑र्धयन्ति । ऊषैर्घ्नन्ति । ए॒ते हि सा॒क्षादन्नम् । यदूषाः । सा॒क्षादे॒वैन॑म॒न्नाद्ये॑न॒ सम॑र्धयन्ति । पु॒रस्तात्प्र॒त्यञ्चं घ्नन्ति ।।  ।। पु॒रस्ता॒द्धि प्र॑ती॒चीन॒मन्न॑म॒द्यते । शी॒र्॒ष॒तो घ्न॑न्ति । शी॒र्॒ष॒तो ह्यन्न॑म॒द्यते । दि॒ग्भ्यो घ्न॑न्ति । दि॒ग्भ्य ए॒वास्मा॑ अ॒न्नाद्य॒मव॑रुन्धते । ई॒श्व॒रो वा ए॒ष पराङ्प्र॒दघः॑ । यो यूप॒॒ रोह॑ति । हिर॑ण्यम॒ध्यव॑रोहति । अ॒मृतं॒ वै हिर॑ण्यम् । अ॒मृत॑ सुव॒र्गो लो॒कः ।।  ।। अ॒मृत॑ ए॒व सु॑व॒र्गे लो॒के प्रति॑तिष्ठति । श॒तमा॑नं भवति । श॒तायु॒ पुरु॑षश्श॒तेन्द्रि॑यः । आयु॑ष्ये॒वेन्द्रि॒ये प्रति॑ तिष्ठति । पुष्ट्यै॒ वा ए॒तद्रू॒पम् । यद॒जा । त्रिस्सं॑वथ्स॒रस्या॒न्यान्प॒शून्परि॒ प्रजा॑यते । ब॒स्ता॒जि॒नम॒ध्यव॑ रोहति । पुष्ट्या॑मे॒व प्र॒जन॑ने॒ प्रति॑तिष्ठति ।।  ।। स॒प्तान्न॑हो॒माञ्जु॑होति । स॒प्त वा अन्ना॑नि । याव॑न्त्ये॒वान्ना॑नि । तान्ये॒वाव॑रुन्धे । स॒प्त ग्रा॒म्या ओष॑धयः । स॒प्तार॒ण्याः । उ॒भयी॑षा॒मव॑रुद्ध्यै । अन्न॑स्यान्नस्य जुहोति । अन्न॑स्यान्न॒स्याव॑रुद्ध्यै । यद्वा॑जपेयया॒ज्यन॑वरुद्धस्याश्नी॒यात् ।।  ।। अव॑रुद्धेन॒ व्यृ॑द्ध्येत । सर्व॑स्य समव॒दाय॑ जुहोति । अन॑वरुद्ध॒स्याव॑रुद्ध्यै । औदु॑म्बरेण स्रु॒वेण॑ जुहोति । ऊर्ग्वा अन्न॑मुदु॒म्बरः॑ । ऊ॒र्ज ए॒वान्नाद्य॒स्याव॑रुद्ध्यै । दे॒वस्य॑ त्वा सवि॒तु प्र॑स॒व इत्या॑ह । स॒वि॒तृप्र॑सूत ए॒वैनं॒ ब्रह्म॑णा दे॒वता॑भिर॒भिषि॑ञ्चति । अन्न॑स्यान्नस्या॒भिषि॑ञ्चति । अन्न॑स्यान्न॒स्याव॑रुद्ध्यै ।।  ।। पु॒रस्तात्प्र॒त्यञ्च॑म॒भिषि॑ञ्चति । पु॒रस्ता॒द्धि प्र॑ती॒चीन॒मन्न॑म॒द्यते । शी॒र्॒ष॒तो॑ऽभिषि॑ञ्चति । शी॒र्॒ष॒तो ह्यन्न॑म॒द्यते । आ मुखा॑द॒न्वव॑स्रावयति । मु॒ख॒त ए॒वास्मा॑ अ॒न्नाद्यं॑ दधाति । अ॒ग्नेस्त्वा॒ साम्राज्येना॒भिषि॑ञ्चा॒मीत्या॑ह । ए॒ष वा अ॒ग्नेस्स॒वः । तेनै॒वैन॑म॒भिषि॑ञ्चति । इन्द्र॑स्य त्वा॒ साम्राज्येना॒भिषि॑ञ्चा॒मीत्या॑ह ।।  ।। इ॒न्द्रि॒यस्याव॑रुद्ध्यै । अनि॑रुक्ताभि प्रातस्सव॒ने स्तु॑वते । अनि॑रुक्त प्र॒जाप॑तिः । प्र॒जाप॑ते॒राप्त्यै । वाज॑वतीभि॒र्माध्य॑न्दिने । अन्नं॒ वै वाजः॑ । अन्न॑मे॒वाव॑रुन्धे । शि॒पि॒वि॒ष्टव॑तीभिस्तृतीयसव॒ने । य॒ज्ञो वै विष्णुः॑ । प॒शव॒श्शिपिः॑ । य॒ज्ञ ए॒व प॒शुषु॒ प्रति॑ तिष्ठति । बृ॒हदन्त्यं॑ भवति । अन्त॑मे॒वैन॑ श्रि॒यै ग॑मयति ।।  ।। ना॒क॒सद॒मित्या॑ह । य॒दा वै वसी॑या॒न्भव॑ति । नाक॑मग॒न्निति॒ वै तमा॑हुः । नाक॑मे॒वैतेन॑ गच्छति । ये ग्रहा पञ्चज॒नीना॒ इत्या॑ह । प॒ञ्च॒ज॒नाना॑मे॒वैतेन॑ सूयते । अ॒पा रस॒मुद्व॑यस॒मित्या॑ह । अ॒पामे॒वैतेन॒ रस॑स्य सूयते । सूर्य॑रश्मि स॒माभृ॑त॒मित्या॑ह सशुक्र॒त्वाय॑ ।।  ।। इन्द्रो॑ वृ॒त्र ह॒त्वा । असु॑रान्परा॒भाव्य॑ । सो॑ऽमावा॒स्यां प्रत्याग॑च्छत् । ते पि॒तरः॑ पूर्वे॒द्युराग॑च्छन्न् । पि॒तॄन् य॒ज्ञो॑ऽगच्छत् । तं दे॒वा पुन॑रयाचन्त । तमेभ्यो॒ न पुन॑रददुः । तेऽब्रुव॒न्वरं॑ वृणामहै । अथ॑ व॒ पुन॑र्दास्यामः । अ॒स्मभ्य॑मे॒व पूर्वे॒द्यु क्रि॑याता॒ इति॑ ।।  ।। षड्वा ऋ॒तवः॑ । ऋ॒तूने॒व प्री॑णाति । तू॒ष्णीं मेक्ष॑ण॒माद॑धाति । अस्ति॑ वा॒ हि ष॒ष्ठ ऋ॒तुर्न वा । दे॒वान् वै पि॒तॄन्प्री॒तान् । म॒नु॒ष्या पि॒तरोऽनु॒ प्रपि॑पते । ति॒स्र आहु॑तीर्जुहोति । त्रिर्निद॑धाति । षट्थ्संप॑द्यन्ते । षड्वा ऋ॒तवः॑ ।।  ।। ऋ॒तव॒ खलु॒ वै दे॒वा पि॒तरः॑ । ऋ॒तूने॒व दे॒वान्पि॒तॄन्प्री॑णाति । तान्प्री॒तान् । म॒नु॒ष्या पि॒तरोऽनु॒ प्रपि॑पते । स॒कृ॒दा॒च्छि॒न्नं ब॒ऱ्हिर्भ॑वति । स॒कृदि॑व॒ हि पि॒तरः॑ । त्रिर्निद॑धाति । तृ॒तीये॒ वा इ॒तो लो॒के पि॒तरः॑ । ताने॒व प्री॑णाति । परा॒ङाव॑र्तते ।।  ।। ह्लीका॒ हि पि॒तरः॑ । ओष्मणो व्या॒वृत॒ उपास्ते । ऊ॒ष्मभा॑गा॒ हि पि॒तरः॑ । ब्र॒ह्म॒वा॒दिनो॑ वदन्ति । प्राश्या  न्न प्राश्या  मिति॑ । यत्प्राश्नी॒यात् । जन्य॒मन्न॑मद्यात् । प्र॒मायु॑कस्स्यात् । यन्न प्राश्नी॒यात् । अह॑विस्स्यात् ।।  ।। पि॒तृभ्य॒ आवृ॑श्च्येत । अ॒व॒घ्रेय॑मे॒व । तन्नेव॒ प्राशि॑तं॒ नेवाप्रा॑शितम् । वी॒रं वा॒ वै पि॒तर॑ प्र॒यन्तो॒ हर॑न्ति । वी॒रं वा॑ ददति । द॒शां छि॑नत्ति । हर॑णभागा॒ हि पि॒तरः॑ । पि॒तॄने॒व नि॒रव॑दयते । उत्त॑र॒ आयु॑षि॒ लोम॑ छिन्दीत । पि॒तृ॒णा ह्ये॑तऱ्हि॒ नेदी॑यः ।।  ।। यु॒ष्मास्तेऽनु॑ । येऽस्मिल्लोँ॒के । मां तेऽनु॑ । य ए॒तस्मि॑ल्लोँ॒के स्थ । यू॒यं तेषां॒ वसि॑ष्ठा भूयास्त । येऽस्मिल्लोँ॒के । अ॒हं तेषां॒ वसि॑ष्ठो भूयास॒मित्या॑ह । वसि॑ष्ठस्समा॒नानां भवति । य ए॒वं वि॒द्वान्पि॒तृभ्य॑ क॒रोति॑ । ए॒ष वै म॑नु॒ष्या॑णां य॒ज्ञः ।।  ।। दे॒वानां॒ वा इत॑रे य॒ज्ञाः । तेन॒ वा ए॒तत्पि॑तृलो॒के च॑रति । यत्पि॒तृभ्य॑ क॒रोति॑ । स ईश्व॒र प्रमे॑तोः । प्रा॒जा॒प॒त्यय॒र्चा पुन॒रैति॑ । य॒ज्ञो वै प्र॒जाप॑तिः । य॒ज्ञेनै॒व स॒ह पुन॒रैति॑ । न प्र॒मायु॑को भवति । पि॒तृ॒लो॒के वा ए॒तद्यज॑मानश्चरति । यत्पि॒तृभ्य॑ क॒रोति॑ । स ईश्व॒र आर्ति॒मार्तोः । प्र॒जाप॑ति॒स्त्वावैनं॒ तत॒ उन्ने॑तुमऱ्ह॒तीत्या॑हुः । यत्प्रा॑जाप॒त्यय॒र्चा पुन॒रैति॑ । प्र॒जाप॑तिरे॒वैनं॒ तत॒ उन्न॑यति । नार्ति॒मार्च्छ॑ति॒ यज॑मानः ।।  ।। उ॒भये॒ वा ए॒ते प्र॒जाप॑ते॒रध्य॑सृज्यन्त । दे॒वाश्चासु॑राश्च । तान्न व्य॑जानात् । इ॒मेऽन्य इ॒मेऽन्य इति॑ । स दे॒वान॒॒शून॑करोत् । तान॒भ्य॑षुणोत् । तान्प॒वित्रे॑णापुनात् । तान्प॒रस्तात्प॒वित्र॑स्य॒ व्य॑गृह्णात् । ते ग्रहा॑ अभवन्न् । तद्ग्रहा॑णां ग्रह॒त्वम् ।।  ।। दे॒वता॒ वा ए॒ता यज॑मानस्य गृ॒हे गृ॑ह्यन्ते । यद्ग्रहाः । वि॒दुरे॑नं दे॒वाः । यस्यै॒वं वि॒दुष॑ ए॒ते ग्रहा॑ गृ॒ह्यन्ते । ए॒षा वै सोम॒स्याहु॑तिः । यदु॑पा॒॒शुः । सोमे॑न दे॒वास्त॑र्पया॒णीति॒ खलु॒ वै सोमे॑न यजते । यदु॑पा॒॒शुं जु॒होति॑ । सोमे॑नै॒व तद्दे॒वास्त॑र्पयति । यद्ग्रहाञ्जु॒होति॑ ।।  ।। दे॒वा ए॒व तद्दे॒वान्ग॑च्छन्ति । यच्च॑म॒साञ्जु॒होति॑ । तेनै॒वानु॑रूपेण॒ यज॑मानस्सुव॒र्गं लो॒कमे॑ति । किं न्वे॑तदग्र॑ आसी॒दित्या॑हुः । यत्पात्रा॒णीति॑ । इ॒यं वा ए॒तदग्र॑ आसीत् । मृ॒न्मया॑नि॒ वा ए॒तान्या॑सन्न् । तैर्दे॒वा न व्या॒वृत॑मगच्छन्न् । त ए॒तानि॑ दारु॒मया॑णि॒ पात्राण्यपश्यन्न् । तान्य॑कुर्वत ।।  ।। तस्या॑ ए॒ते स्तना॑ आसन्न् । इ॒यं वै पृश्ञिः॑ । तामा॑दि॒त्या आ॑दित्यस्था॒ल्या चतु॑ष्पद प॒शून॑दुह्रन्न् । यदा॑दित्यस्था॒ली भव॑ति । चतु॑ष्पद ए॒व तया॑ प॒शून् यज॑मान इ॒मां दु॑हे । तामिन्द्र॑ उक्थ्यस्था॒ल्येन्द्रि॒यम॑दुहत् । यदु॑क्थ्यस्था॒ली भव॑ति । इ॒न्द्रि॒यमे॒व तया॒ यज॑मान इ॒मां दु॑हे । तां विश्वे॑ दे॒वा आग्रयणस्था॒ल्योर्ज॑मदुह्रन्न् । यदाग्रयणस्था॒ली भव॑ति ।।  ।। वा॒ज॒सनि॑ र॒यिम॒स्मे सु॒वीरम् । प्र॒श॒स्तं धे॑हि य॒शसं॑ बृ॒हन्तम् । यस्मि॒न्नश्वा॑स ऋष॒भास॑ उ॒क्षणः॑ । व॒शा मे॒षा अ॑वसृ॒ष्टास॒ आहु॑ताः । की॒ला॒ल॒पे सोम॑पृष्ठाय वे॒धसे । हृ॒दा म॒तिं ज॑नय॒ चारु॑म॒ग्नये । नाना॒ हि वां दे॒वहि॑त॒॒ सदो॑ मि॒तम् । मा ससृ॑क्षाथां पर॒मे व्यो॑मन्न् । सुरा॒ त्वमसि॑ शु॒ष्मिणी॒ सोम॑ ए॒षः । मा मा॑ हिसी॒स्स्वां योनि॑मावि॒शन्न् ।।  ।। यदत्र॑ शि॒ष्ट र॒सिन॑स्सु॒तस्य॑ । यदिन्द्रो॒ अपि॑ब॒च्छची॑भिः । अ॒हं तद॑स्य॒ मन॑सा शि॒वेन॑ । सोम॒॒ राजा॑नमि॒ह भ॑क्षयामि । द्वे स्रु॒ती अ॑शृणवं पितृ॒णाम् । अ॒हं दे॒वाना॑मु॒त मर्त्या॑नाम् । ताभ्या॑मि॒दं विश्वं॒ भुव॑न॒॒ समे॑ति । अ॒न्त॒रा पूर्व॒मप॑रं च के॒तुम् । यस्ते॑ देव वरुण गाय॒त्रछ॑न्दा॒ पाशः॑ । तं त॑ ए॒तेनाव॑ यजे ।।  ।। यस्ते॑ देव वरुण त्रि॒ष्टुप्छ॑न्दा॒ पाशः॑ । तं त॑ ए॒तेनाव॑ यजे । यस्ते॑ देव वरुण॒ जग॑तीछन्दा॒ पाशः॑ । तं त॑ ए॒तेनाव॑ यजे । सोमो॒ वा ए॒तस्य॑ रा॒ज्यमाद॑त्ते । यो राजा॒ सन्रा॒ज्यो वा॒ सोमे॑न॒ यज॑ते । दे॒व॒सु॒वामे॒तानि॑ ह॒वीषि॑ भवन्ति । ए॒ताव॑न्तो॒ वै दे॒वाना॑ स॒वाः । त ए॒वास्मै॑ स॒वान्प्रय॑च्छन्ति । त ए॑नं॒ पुन॑स्सुवन्ते रा॒ज्याय॑ । दे॒व॒सू राजा॑ भवति ।।  ।। उद॑स्थाद्दे॒व्यदि॑तिर्विश्वरू॒पी । आयु॑र्य॒ज्ञप॑तावधात् । इन्द्रा॑य कृण्व॒ती भा॒गम् । मि॒त्राय॒ वरु॑णाय च । इ॒यं वा अ॑ग्निहो॒त्री । इ॒यं वा ए॒तस्य॒ निषी॑दति । यस्याग्निहो॒त्री नि॒षीद॑ति । तामुत्था॑पयेत् । उद॑स्थाद्दे॒व्यदि॑ति॒रिति॑ । इ॒यं वै दे॒व्यदि॑तिः ।।  ।। अ॒द्भिरे॒वैन॑दाप्नोति । यो वै य॒ज्ञस्यार्ते॒ नानार्त स सृ॒जति॑ । उ॒भे वै ते तर्ह्यार्च्छ॑तः । आर्च्छ॑ति॒ खलु॒ वा ए॒तद॑ग्निहो॒त्रम् । यद्दु॒ह्यमा॑न॒॒ स्कन्द॑ति । यद॑भिदु॒ह्यात् । आर्ते॒ नानार्तं य॒ज्ञस्य॒ ससृ॑जेत् । तदे॒व या॒दृक्की॒दृक्च॑ होत॒व्यम् । अथा॒न्यां दु॒ग्ध्वा पुन॑ऱ्होत॒व्यम् । अनार्तेनै॒वार्तं॑ य॒ज्ञस्य॒ निष्क॑रोति ।।  ।। यद्युद्द्रु॑तस्य॒ स्कन्देत् । यत्ततोऽहु॑त्वा॒ पुन॑रे॒यात् । य॒ज्ञं विच्छि॑न्द्यात् । यत्र॒ स्कन्देत् । तन्नि॒षद्य॒ पुन॑र्गृह्णीयात् । यत्रै॒व स्कन्द॑ति । तत॑ ए॒वैन॒त्पुन॑र्गृह्णाति । तदे॒व या॒दृक्की॒दृक्च॑ होत॒व्यम् । अथा॒न्यां दु॒ग्ध्वा पुन॑ऱ्होत॒व्यम् । अनार्तेनै॒वार्तं॑ य॒ज्ञस्य॒ निष्क॑रोति ।।  ।। वि वा ए॒तस्य॑ य॒ज्ञश्छि॑द्यते । यस्याग्निहो॒त्रे॑ऽधिश्रि॑ते॒ श्वाऽन्त॒रा धाव॑ति । रु॒द्रः खलु॒ वा ए॒षः । यद॒ग्निः । यद्गाम॑न्वत्या व॒र्तयेत् । रु॒द्राय॑ प॒शूनपि॑ दध्यात् । अ॒प॒शुर्यज॑मानस्स्यात् । यद॒पोऽन्वतिषि॒ञ्चेत् । अ॒ना॒द्यम॒ग्नेरापः॑ । अ॒ना॒द्यमाभ्या॒मपि॑ दध्यात् । गाऱ्ह॑पत्या॒द्भस्मा॒दाय॑ । इ॒दं विष्णु॒र्विच॑क्रम॒ इति॑ वैष्ण॒व्यर्चाऽऽह॑व॒नीयाद्ध्व॒॒सय॒न्नुद्र॑वेत् । य॒ज्ञो वै विष्णुः॑ । य॒ज्ञेनै॒व य॒ज्ञ संत॑नोति । भस्म॑ना प॒दमपि॑ वपति॒ शान्त्यै ।।  ।। नि वा ए॒तस्या॑हव॒नीयो॒ गाऱ्ह॑पत्यं कामयते । निगाऱ्ह॑पत्य आहव॒नीयम् । यस्या॒ग्निमनु॑द्धृत॒॒ सूर्यो॒ऽभि नि॒म्रोच॑ति । द॒र्भेण॒ हिर॑ण्यं प्र॒बद्ध्य॑ पु॒रस्ताद्धरेत् । अथा॒ग्निम् । अथाग्निहो॒त्रम् । यद्धिर॑ण्यं पु॒रस्ता॒द्धर॑ति । ज्योति॒र्वै हिर॑ण्यम् । ज्योति॑रे॒वैनं॒ पश्य॒न्नुद्ध॑रति । यद॒ग्निं पूर्व॒॒ हर॒त्यथाग्निहो॒त्रम् ।।  ।। भा॒ग॒धेये॑नै॒वैनं॒ प्रण॑यति । ब्रा॒ह्म॒ण आ॑ऱ्षे॒य उद्ध॑रेत् । ब्रा॒ह्म॒णो वै सर्वा॑ दे॒वताः । सर्वा॑भिरे॒वैनं॑ दे॒वता॑भि॒रुद्ध॑रति । अ॒ग्नि॒हो॒त्रमु॑प॒साद्यातमि॑तोरासीत । व्र॒तमे॒व ह॒तमनु॑ म्रियते । अन्तं॒ वा ए॒ष आ॒त्मनो॑ गच्छति । यस्ताम्य॑ति । अन्त॑मे॒ष य॒ज्ञस्य॑ गच्छति । यस्या॒ग्निमनु॑द्धृ॒त॒ सूर्यो॒ऽभि नि॒म्रोच॑ति ।।  ।। पुन॑स्स॒मन्य॑ जुहोति । अन्ते॑नै॒वान्तं॑ य॒ज्ञस्य॒ निष्क॑रोति । वरु॑णो॒ वा ए॒तस्य॑ य॒ज्ञं गृ॑ह्णाति । यस्या॒ग्निमनु॑द्धृत॒॒ सूर्यो॒ऽभि नि॒म्रोच॑ति । वा॒रु॒णं च॒रुं निर्व॑पेत् । तेनै॒व य॒ज्ञं निष्क्री॑णीते । नि वा ए॒तस्या॑हव॒नीयो॒ गाऱ्ह॑पत्यं कामयते । नि गाऱ्ह॑पत्य आहव॒नीयम् । यस्या॒ग्निमनु॑द्धृत॒॒ सूर्यो॒ऽभ्यु॑देति॑ । च॒तु॒र्गृ॒ही॒तमाज्यं॑ पु॒रस्ताद्धरेत् ।।  ।। अथा॒ग्निम् । अथाग्निहो॒त्रम् । यदाज्यं॑ पु॒रस्ता॒द्धर॑ति । ए॒तद्वा अ॒ग्ने प्रि॒यं धाम॑ । यदाज्यम् । प्रि॒येणै॒वैनं॒ धाम्ना॒ सम॑र्धयति । यद॒ग्निं पूर्व॒॒ हर॒त्यथाग्निहो॒त्रम् । भा॒ग॒धेये॑नै॒वैनं॒ प्रण॑यति । ब्रा॒ह्म॒ण आ॑ऱ्षे॒य उद्ध॑रेत् । ब्रा॒ह्म॒णो वै सर्वा॑ दे॒वताः ।।  ।। यस्ताम्य॑ति । अन्त॑मे॒ष य॒ज्ञस्य॑ गच्छति । यस्या॒ग्निमनु॑द्धृत॒॒ सूर्यो॒ऽभ्यु॑देति॑ । पुन॑स्स॒मन्य॑ जुहोति । अन्ते॑नै॒वान्तं॑ य॒ज्ञस्य॒ निष्क॑रोति । मि॒त्रो वा ए॒तस्य॑ य॒ज्ञं गृ॑ह्णाति । यस्या॒ग्निमनु॑द्धृत॒॒ सूर्यो॒ऽभ्यु॑देति॑ । मै॒त्रं च॒रुं निर्व॑पेत् । तेनै॒व य॒ज्ञं निष्क्री॑णीते । यस्या॑हव॒नीयेऽ नु॑द्वाते॒ गाऱ्ह॑पत्य उ॒द्वायेत् ।।।। यदा॑हव॒नीय॒मनु॑द्वाप्य॒ गाऱ्ह॑पत्यं॒ मन्थेत् । विच्छि॑न्द्यात् । भ्रातृ॑व्यमस्मै जनयेत् । यद्वै य॒ज्ञस्य॑ वास्त॒व्यं॑ क्रि॒यते । तदनु॑ रु॒द्रोऽव॑चरति । यत्पूर्व॑मन्वव॒स्येत् । वा॒स्त॒व्य॑म॒ग्निमुपा॑सीत । रु॒द्रोऽस्य प॒शून्घातु॑कस्स्यात् । आ॒ह॒व॒नीय॑मु॒द्वाप्य॑ । गाऱ्ह॑पत्यं मन्थेत् ।।  ।। सह॑से द्यु॒म्नाय॑ । ऊ॒र्जेऽपत्या॒येत्या॑ह । प॒शवो॒ वै र॒यिः । प॒शूने॒वास्मै॑ रमयति । सा॒र॒स्व॒तौ त्वोथ्सौ॒ समि॑न्धाता॒मित्या॑ह । ऋ॒ख्सा॒मे वै सा॑रस्व॒तावुथ्सौ । ऋ॒ख्सा॒माभ्या॑मे॒वैन॒॒ समि॑न्धे । स॒म्राड॑सि वि॒राड॒सीत्या॑ह । र॒थ॒न्त॒रं वै स॒म्राट् । बृ॒हद्वि॒राट् ।  ।। ताभ्या॑मे॒वैन॒॒ समि॑न्धे । वज्रो॒ वै च॒क्रम् । वज्रो॒ वा ए॒तस्य॑ य॒ज्ञं विच्छि॑नत्ति । यस्यानो॑ वा॒ रथो॑ वाऽन्त॒राऽग्नी याति॑ । आ॒ह॒व॒नीय॑मु॒द्वाप्य॑ । गाऱ्ह॑पत्या॒दुद्ध॑रेत् । यद॑ग्ने॒ पूर्वं॒ प्रभृ॑तं प॒द हि ते । सूर्य॑स्य र॒श्मीनन्वा॑त॒तान॑ । तत्र॑ रयि॒ष्ठामनु॒ सं भ॑रै॒तम् । सं न॑स्सृज सुम॒त्या वाज॑व॒त्येति॑ ।।  ।। यस्य॑ प्रातस्सव॒ने सोमो॑ऽति॒रिच्य॑ते । माध्य॑न्दिन॒॒ सव॑नं का॒मय॑मानो॒ऽभ्यति॑रिच्यते । गौर्ध॑यति म॒रुता॒मिति॒ धय॑द्वतीषु कुर्वन्ति । हि॒नस्ति॒ वै स॒न्ध्यधी॑तम् । स॒न्धीव॒ खलु॒ वा ए॒तत् । यथ्सव॑नस्याति॒रिच्य॑ते । यद्धय॑द्वतीषु कु॒र्वन्ति॑ । स॒न्धेश्शान्त्यै । गा॒य॒त्र साम॑ भवति पञ्चद॒शस्स्तोमः॑ । तेनै॒व प्रा॑तस्सव॒नान्नय॑न्ति ।।  ।। म॒रुत्व॑तीषु कुर्वन्ति । तेनै॒व माध्य॑न्दिना॒थ्सव॑ना॒न्नय॑न्ति । होतु॑श्चम॒समनून्न॑यन्ते । होताऽनु॑ शसति । म॒ध्य॒त ए॒व य॒ज्ञ स॒माद॑धाति । यस्य॒ माध्य॑न्दिने॒ सव॑ने॒ सोमो॑ऽति॒रिच्य॑ते । आ॒दि॒त्यं तृ॑तीयसव॒नं का॒मय॑मानो॒ऽभ्यति॑रिच्यते । गौ॒रि॒वी॒त साम॑ भवति । अति॑रिक्तं॒ वै गौ॑रिवी॒तम् । अति॑रिक्तं॒ यथ्सव॑नस्याति॒रिच्य॑ते ।।  ।। अति॑रिक्तस्य॒ शान्त्यै । बण्म॒हा अ॑सि सू॒र्येति॑ कुर्वन्ति । यस्यै॒वादि॒त्यस्य॒ सव॑नस्य॒ कामे॑नाति॒रिच्य॑ते । तेनै॒वैनं॒ कामे॑न॒ सम॑र्धयन्ति । गौ॒रि॒वी॒त साम॑ भवति । तेनै॒व माध्य॑न्दिना॒थ्सव॑ना॒न्नय॑न्ति । स॒प्त॒द॒शस्स्तोमः॑ । तेनै॒व तृ॑तीयसव॒नान्नय॑न्ति । होतु॑श्चम॒समनून्न॑यन्ते । होताऽनु॑ शसति ।।  ।। म॒ध्य॒त ए॒व य॒ज्ञ स॒माद॑धाति । यस्य॑ तृतीयसव॒ने सोमो॑ऽति॒रिच्ये॑त । उ॒क्थ्यं॑ कुर्वीत । यस्यो॒क्थ्ये॑ऽति॒रिच्ये॑त । अ॒ति॒रा॒त्रं कु॑र्वीत । यस्या॑तिरा॒त्रे॑ऽति॒रिच्य॑ते । तत्त्वै दु॑ष्प्रज्ञा॒नम् । यज॑मानं॒ वा ए॒तत्प॒शव॑ आ॒साह्य॑यन्ति । बृ॒हथ्साम॑ भवति । बृ॒हद्वा इ॒माल्लोँ॒कान्दा॑धार । बाऱ्ह॑ता प॒शवः॑ । बृ॒ह॒तैवास्मै॑ प॒शून्दा॑धार । शि॒पि॒वि॒ष्टव॑तीषु कुर्वन्ति । शि॒पि॒वि॒ष्टो वै दे॒वानां पु॒ष्टम् । पुष्ट्यै॒वैन॒॒ सम॑र्धयन्ति । होतु॑श्चम॒समनून्न॑यन्ते । होताऽनु॑शसति । म॒ध्य॒त ए॒व य॒ज्ञ स॒माद॑धाति ।।  ।। एकै॑को॒ वै ज॒नता॑या॒मिन्द्रः॑ । एकं॒ वा ए॒ताविन्द्र॑म॒भि ससु॑नुतः । यौ द्वौ स॑ सुनु॒तः । प्र॒जाप॑ति॒र्वा ए॒ष विता॑यते । यद्य॒ज्ञः । तस्य॒ ग्रावा॑णो॒ दन्ताः । अ॒न्य॒त॒रं वा ए॒ते स॑सुन्व॒तोर्निर्ब॑फ्सति । पूर्वे॑णोप॒सृत्या॑ दे॒वता॒ इत्या॑हुः । पू॒र्वो॒प॒सृ॒तस्य॒ वै श्रेयान्भवति । एति॑व॒न्त्याज्या॑नि भवन्त्य॒भिजि॑त्यै ।।  ।। म॒रुत्व॑ती प्रति॒पदः॑ । म॒रुतो॒ वै दे॒वाना॒मप॑राजितमा॒यत॑नम् । दे॒वाना॑मे॒वाप॑राजित आ॒यत॑ने यतते । उ॒भे बृ॑हद्रथन्त॒रे भ॑वतः । इ॒यं वाव र॑थन्त॒रम् । अ॒सौ बृ॒हत् । आ॒भ्यामे॒वैन॑म॒न्तरे॑ति । वा॒चश्च॒ मन॑सश्च । प्रा॒णाच्चा॑पा॒नाच्च॑ । दि॒वश्च॑ पृथि॒व्याश्च॑ ।।  ।। सर्व॑स्माद्वि॒त्ताद्वेद्यात् । अ॒भि॒व॒र्तो ब्र॑ह्मसा॒मं भ॑वति । सु॒व॒र्गस्य॑ लो॒कस्या॒भिवृ॑त्त्यै । अ॒भि॒जिद्भ॑वति । सु॒व॒र्गस्य॑ लो॒कस्या॒भिजि॑त्यै । वि॒श्व॒जिद्भ॑वति । विश्व॑स्य॒ जित्यै । यस्य॒ भूया॑सो यज्ञक्र॒तव॒ इत्या॑हुः । स दे॒वता॑ वृङ्क्त॒ इति॑ । यद्य॑ग्निष्टो॒मस्सोम॑ प॒रस्ता॒थ्स्यात् ।।  ।। इ॒ष्टर्ग॒ खलु॒ वै पूर्वो॒ऽर्ष्टुः क्षी॑यते । प्राणा॑पानौ मृ॒त्योर्मा॑ पात॒मित्या॑ह । प्रा॒णा॒पा॒नयो॑रे॒व श्र॑यते । प्राणा॑पानौ॒ मा मा॑हासिष्ट॒मित्या॑ह । नैनं॑ पु॒राऽऽयु॑ष प्राणापा॒नौ ज॑हितः । आर्तिं॒ वा ए॒ते निय॑न्ति । येषां दीक्षि॒तानां प्र॒मीय॑ते । तं यद॑व॒वर्जे॑युः । क्रू॒र॒कृता॑मिवैषां लो॒कस्स्यात् । आह॑र द॒हेति॑ ब्रूयात् ।।  ।। अथो॑ धु॒वन्त्ये॒वैनम् । अथो॒ न्ये॑वास्मै ह्नुवते । त्रि परि॑यन्ति । त्रय॑ इ॒मे लो॒काः । ए॒भ्य ए॒वैनं॑ लो॒केभ्यो॑ धुवते । त्रि पुन॒परि॑यन्ति । षट्थ्संप॑द्यन्ते । षड्वा ऋ॒तवः॑ । ऋ॒तुभि॑रे॒वैनं॑ धुवते । अग्न॒ आयू॑षि पवस॒ इति॑ प्रति॒पदं॑ कुर्वीरन्न् । र॒थ॒न्त॒रसा॑मैषा॒॒ सोम॑स्स्यात् । आयु॑रे॒वात्मन्द॑धते । अथो॑ पा॒प्मान॑मे॒व वि॒जह॑तो यन्ति ।।  ।। यदा॑हव॒नीय॑ उ॒द्वायेत् । यत्तं मन्थेत् । विच्छि॑न्द्यात् । भ्रातृ॑व्यमस्मै जनयेत् । यदा॑हव॒नीय॑ उ॒द्वायेत् । आग्नीद्ध्रा॒दुद्ध॑रेत् । यदाग्नीद्ध्र उ॒द्वायेत् । गाऱ्ह॑पत्या॒दुद्ध॑रेत् । यद्गाऱ्ह॑पत्य उ॒द्वायेत् । अत॑ ए॒व पुन॑र्मन्थेत् ।।  ।। अत्र॒ वाव स निल॑यते । यत्र॒ खलु॒ वै निली॑नमुत्त॒मं पश्य॑न्ति । तदे॑नमिच्छन्ति । यस्मा॒द्दारो॑रु॒द्वायेत् । तस्या॒रणी॑ कुर्यात् । क्रु॒मु॒कमपि॑ कुर्यात् । ए॒षा वा अ॒ग्ने प्रि॒या त॒नूः । यत्क्रु॑मु॒कः । प्रि॒ययै॒वैन॑न्त॒नुवा॒ सम॑र्धयति । गाऱ्ह॑पत्यं मन्थति ।।  ।। गाऱ्ह॑पत्यो॒ वा अ॒ग्नेर्योनिः॑ । स्वादे॒वैन॒य्योँनेर्जनयति । नास्मै॒ भ्रातृ॑व्यञ्जनयति । यस्य॒ सोम॑ उप॒दस्येत् । सु॒वर्ण॒॒ हिर॑ण्यन्द्वे॒धा वि॒च्छिद्य॑ । ऋ॒जी॒षेऽन्यदा॑धूनु॒यात् । जु॒हु॒याद॒न्यत् । सोम॑मे॒वाभि॑षु॒णोति॑ । सोम॑ञ्जुहोति । सोम॑स्य॒ वा अ॑भिषू॒यमा॑णस्य प्रि॒या त॒नूरुद॑क्रामत् ।।  ।। तथ्सु॒वर्ण॒॒ हिर॑ण्यमभवत् । यथ्सु॒वर्ण॒॒ हिर॑ण्यङ्कु॒र्वन्ति॑ । प्रि॒ययै॒वैन॑न्त॒नुवा॒ सम॑र्धयन्ति । यस्याक्री॑त॒॒ सोम॑मप॒हरे॑युः । क्री॒णी॒यादे॒व । सैव तत॒ प्राय॑श्चित्तिः । यस्य॑ क्री॒तम॑प॒हरे॑युः । आ॒दा॒राश्च॑ फाल्गु॒नानि॑ चा॒भिषु॑णुयात् । गा॒य॒त्री य सोम॒माह॑रत् । तस्य॒ योऽ॑शु प॒राऽप॑तत् ।।  ।। त आ॑दा॒रा अ॑भवन्न् । इन्द्रो॑ वृ॒त्रम॑हन्न् । तस्य॑ व॒ल्क परा॑ऽपतत् । तानि॑ फाल्गु॒नान्य॑भवन्न् । प॒शवो॒ वै फाल्गु॒नानि॑ । प॒शव॒स्सोमो॒ राजा । यदा॑दा॒राश्च॑ फाल्गु॒नानि॑ चाभिषु॒णोति॑ । सोम॑मे॒व राजा॑नम॒भिषु॑णोति । शृ॒तेन॑ प्रातस्सव॒ने श्री॑णीयात् । द॒ध्ना म॒ध्यन्दि॑ने ।।  ।। नी॒त॒मि॒श्रेण॑ तृतीयसव॒ने । अ॒ग्नि॒ष्टो॒मस्सोम॑स्स्याद्रथन्त॒रसा॑मा । य ए॒वर्त्विजो॑ वृ॒तास्स्युः । त ए॑नय्याँजयेयुः । एका॒ङ्गान्दक्षि॑णान्दद्या॒त्तेभ्य॑ ए॒व । पुन॒स्सोम॑ङ्क्रीणीयात् । य॒ज्ञेनै॒व तद्य॒ज्ञमि॑च्छति । सैव ततः॒ प्राय॑श्चित्तिः । सर्वाभ्यो॒ वा ए॒ष दे॒वताभ्य॒स्सर्वेभ्य पृ॒ष्ठेभ्य॑ आ॒त्मान॒मागु॑रते । यस्स॒त्त्राया॑गु॒रते । ए॒तावा॒न्खलु॒ वै पुरु॑षः । याव॑दस्य वि॒त्तम् । स॒र्व॒वे॒द॒सेन॑ यजेत । सर्व॑पृष्ठोऽस्य॒ सोम॑स्स्यात् । सर्वाभ्य ए॒व दे॒वताभ्य॒स्सर्वेभ्य पृ॒ष्ठेभ्य॑ आ॒त्मान॒न्निष्क्री॑णीते ।।  ।। पव॑मान॒स्सुव॒र्जनः॑ । प॒वित्रे॑ण॒ विच॑ऱ्षणिः । य पोता॒ स पु॑नातु मा । पु॒नन्तु॑ मा देवज॒नाः । पु॒नन्तु॒ मन॑वो धि॒या । पु॒नन्तु॒ विश्व॑ आ॒यवः॑ । जात॑वेद प॒वित्र॑वत् । प॒वित्रे॑ण पुनाहि मा । शू॒क्रेण॑ देव॒ दीद्य॑त् । अग्ने॒ क्रत्वा॒ क्रतू॒ रनु॑ ।।  ।। यत्ते॑ प॒वित्र॑म॒र्चिषि॑ । अग्ने॒ वित॑तमन्त॒रा । ब्रह्म॒ तेन॑ पुनीमहे । उ॒भाभ्यान्देव सवितः । प॒वित्रे॑ण स॒वेन॑ च । इ॒दं ब्रह्म॑ पुनीमहे । वै॒श्व॒दे॒वी पु॑न॒ती दे॒व्यागात् । यस्यै॑ ब॒ह्वीस्त॒नुवो॑ वी॒तपृ॑ष्ठाः । तया॒ मद॑न्तस्सध॒माद्ये॑षु । व॒य स्या॑म॒ पत॑यो रयी॒णाम् ।।  ।। सु॒दुघा॒ हि पय॑स्वतीः । ऋषि॑भि॒स्सम्भृ॑तो॒ रसः॑ । ब्रा॒ह्म॒णेष्व॒मृत॑ हि॒तम् । पा॒व॒मानीर्दि॑शन्तु नः । इ॒मल्लोँ॒कमथो॑ अ॒मुम् । कामा॒न्थ्सम॑र्धयन्तु नः । दे॒वीर्दे॒वैस्स॒माभृ॑ताः । पा॒व॒मा॒नीस्स्व॒स्त्यय॑नीः । सु॒दुघा॒ हि घृ॑त॒श्चुतः॑ । ऋषि॑भि॒स्सम्भृ॑तो॒ रसः॑ ।।  ।। ब्रा॒ह्म॒णेष्व॒मृत॑ हि॒तम् । येन॑ दे॒वा प॒वित्रे॑ण । आ॒त्मानं॑ पु॒नते॒ सदा । तेन॑ स॒हस्र॑धारेण । पा॒व॒मा॒न्य पु॑नन्तु मा । प्रा॒जा॒प॒त्यं प॒वित्रम् । श॒तोद्या॑म हिर॒ण्मयम् । तेन॑ ब्रह्म॒विदो॑ व॒यम् । पू॒तं ब्रह्म॑ पुनीमहे । इन्द्र॑स्सुनी॒ती स॒ह मा॑ पुनातु । सोम॑स्स्व॒स्त्या वरु॑णस्स॒मीच्या । य॒मो राजा प्रमृ॒णाभि॑ पुनातु मा । जा॒तवे॑दा मो॒र्जय॑न्त्या पुनातु ।।  ।। प्र॒जा वै स॒त्रमा॑सत॒ तप॒स्तप्य॑माना॒ अजु॑ह्वतीः । दे॒वा अ॑पश्यञ्चम॒सङ्घृ॒तस्य॑ पू॒र्ण स्व॒धाम् । तमुपोद॑तिष्ठ॒न्तम॑जुहवुः । तेनार्धमा॒स ऊर्ज॒मवा॑रुन्धत । तस्मा॑दर्धमा॒से दे॒वा इ॑ज्यन्ते । पि॒तरो॑ऽपश्यञ्चम॒सङ्घृ॒तस्य॑ पू॒र्ण स्व॒धाम् । तमुपोद॑तिष्ठ॒न्तम॑जुहवुः । तेन॑ मा॒स्यूर्ज॒मवा॑रुन्धत । तस्मान्मा॒सि पि॒तृभ्य॑ क्रियते । म॒नु॒ष्या॑ अपश्यञ्चम॒सङ्घृ॒तस्य॑ पू॒र्ण स्व॒धाम् ।।  ।। तमुपोद॑तिष्ठ॒न्तम॑जुहवुः । तेन॑ द्व॒यीमूर्ज॒मवा॑रुन्धत । तस्मा॒द्द्विरह्नो॑ मनु॒ष्येभ्य॒ उप॑ह्रियते । प्रा॒तश्च॑ सा॒यञ्च॑ । प॒शवो॑ऽपश्यञ्चम॒सङ्घृ॒तस्य॑ पू॒र्ण स्व॒धाम् । तमुपोद॑तिष्ठ॒न्तम॑जुहवुः । तेन॑ त्र॒यीमूर्ज॒मवा॑रुन्धत । तस्मा॒त्त्रिरह्न॑ प॒शव॒ प्रेर॑ते । प्रा॒तस्स॑ङ्ग॒वे सा॒यम् । असु॑रा अपश्यञ्चम॒सङ्घृ॒तस्य॑ पू॒र्ण स्व॒धाम् ।।  ।। तमुपोद॑तिष्ठ॒न्तम॑जुहवुः । तेन॑ सवँथ्स॒र ऊर्ज॒मवा॑रुन्धत । ते दे॒वा अ॑मन्यन्त । अ॒मी वा इ॒दम॑भूवन्न् । यद्व॒य स्म इति॑ । त ए॒तानि॑ चातुर्मा॒स्यान्य॑पश्यन्न् । तानि॒ निर॑वपन्न् । तैरे॒वैषा॒न्तामूर्ज॑मवृञ्जत । ततो॑ दे॒वा अभ॑वन्न् । पराऽसु॑राः ।।  ।। यद्यज॑ते । यामे॒व दे॒वा ऊर्ज॑म॒वारु॑न्धत । तान्तेनाव॑रुन्धे । यत्पि॒तृभ्य॑ क॒रोति॑ । यामे॒व पि॒तर॒ ऊर्ज॑म॒वारु॑न्धत । तान्तेनाव॑रुन्धे । यदा॑वस॒थेऽन्न॒॒ हर॑न्ति । यामे॒व म॑नु॒ष्या॑ ऊर्ज॑म॒वारु॑न्धत । तान्तेनाव॑रुन्धे । यद्दक्षि॑णा॒न्ददा॑ति ।।  ।। यामे॒व प॒शव॒ ऊर्ज॑म॒वारु॑न्धत । तान्तेनाव॑रुन्धे । यच्चा॑तुर्मा॒स्यैर्यज॑ते । यामे॒वासु॑रा॒ ऊर्ज॑म॒वारु॑न्धत । तान्तेनाव॑रुन्धे । भव॑त्या॒त्मना । परास्य॒ भ्रातृ॑व्यो भवति । वि॒राजो॒ वा ए॒षा विक्रान्तिः । यच्चा॑तुर्मा॒स्यानि॑ । वै॒श्व॒दे॒वेना॒स्मिल्लोँ॒के प्रत्य॑तिष्ठत् । व॒रु॒ण॒प्र॒घा॒सैर॒न्तरि॑क्षे । सा॒क॒मे॒धैर॒मुष्मि॑ल्लोँ॒के । ए॒ष ह॒ त्वावैतथ्सर्वं॑ भवति । य ए॒वव्विँ॒द्वाश्चा॑तुर्मा॒स्यैर्यज॑ते ।।  ।। अ॒ग्निर्वाव स॑व्वँथ्स॒रः । आ॒दि॒त्यः प॑रिवथ्स॒रः । च॒न्द्रमा॑ इदावथ्स॒रः । वा॒युर॑नुवथ्स॒रः । यद्वैश्वदे॒वेन॒ यज॑ते । अ॒ग्निमे॒व तथ्सँ॑व्वथ्स॒रमाप्नोति । तस्माद्वैश्वदे॒वेन॒ यज॑मानः । स॒व्वँ॒थ्स॒रीणा॑ स्व॒स्तिमाशास्त॒ इत्याशा॑सीत । यद्व॑रुणप्रघा॒सैर्यज॑ते । आ॒दि॒त्यमे॒व तत्प॑रिवथ्स॒रमाप्नोति ।।  ।। तस्माद्वरुणप्रघा॒सैर्यज॑मानः । प॒रि॒व॒थ्स॒रीणा॑ स्व॒स्तिमाशास्त॒ इत्याशा॑सीत । यथ्सा॑कमे॒धैर्यज॑ते । च॒न्द्रम॑समे॒व तदि॑दावथ्स॒रमाप्नोति । तस्मात्साकमे॒धैर्यज॑मानः । इ॒दा॒व॒थ्स॒रीणा॑ स्व॒स्तिमाशास्त॒ इत्याशा॑सीत । यत्पि॑तृय॒ज्ञेन॒ यज॑ते । दे॒वाने॒व तद॒न्वव॑स्यति । अथ॒वा अ॑स्य वा॒युश्चा॑नुवथ्स॒रश्चाप्री॑ता॒वुच्छि॑ष्येते । यच्छु॑नासी॒रीये॑ण॒ यज॑ते ।।  ।। यस्मि॑न्न॒ग्निः । यद्वैश्वदे॒वेन॒ यज॑ते । ए॒तमे॒व लो॒कञ्ज॑यति । यस्मि॑न्न॒ग्निः । अ॒ग्नेरे॒व सायु॑ज्य॒मुपै॑ति । य॒दा वैश्वदे॒वेन॒ यज॑ते । अथ॑ सव्वँथ्स॒रस्य॑ गृ॒हप॑तिमाप्नोति । य॒दा सँ॑व्वथ्स॒रस्य॑ गृ॒हप॑तिमा॒प्नोति॑ । अथ॑ सहस्रया॒जिन॑माप्नोति । य॒दा स॑हस्रया॒जिन॑मा॒प्नोति॑ ।।  ।। अथ॑ गृहमे॒धिन॑माप्नोति । य॒दा गृ॑हमे॒धिन॑मा॒प्नोति॑ । अथा॒ग्निर्भ॑वति । य॒दाग्निर्भव॑ति । अथ॒ गौर्भ॑वति । ए॒षा वै वैश्वदे॒वस्य॒ मात्रा । ए॒तद्वा ए॒तेषा॑मव॒मम् । अतो॑तो॒ वा उत्त॑राणि॒ श्रेया॑सि भवन्ति । यद्विश्वे॑ दे॒वास्स॒मय॑जन्त । तद्वैश्वदे॒वस्य॑ वैश्वदेव॒त्वम् ।।  ।। अथा॑दि॒त्यो वरु॑ण॒॒ रा॑जानव्वँरुणप्रघा॒सैर॑यजत । स ए॒तल्लोँ॒कम॑जयत् । यस्मि॑न्नादि॒त्यः । यद्व॑रुणप्रघा॒सैर्यज॑ते । ए॒तमे॒व लो॒कञ्ज॑यति । यस्मि॑न्नादि॒त्यः । आ॒दि॒त्यस्यै॒व सायु॑ज्य॒मुपै॑ति । यदा॑दि॒त्यो वरु॑ण॒॒ राजा॑नव्वँरुण प्रघा॒सैरय॑जत । तद्व॑रुणप्रघा॒सानाव्वँरुणप्रघास॒त्वम् । अथ॒ सोमो॒ राजा॒ छन्दा॑सि साकमे॒धैर॑यजत ।।  ।। स ए॒तल्लोँ॒कम॑जयत् । यस्मि॑श्च॒न्द्रमा॑ वि॒भाति॑ । यथ्सा॑कमे॒धैर्यज॑ते । ए॒तमे॒व लो॒कञ्ज॑यति । यस्मि॑श्च॒न्द्रमा॑ वि॒भाति॑ । च॒न्द्रम॑स ए॒व सायु॑ज्य॒मुपै॑ति । सोमो॒ वै च॒न्द्रमाः । ए॒ष ह॒ त्वै सा॒क्षाथ्सोमं॑ भक्षयति । य ए॒वव्विँ॒द्वान्थ्सा॑कमे॒धैर्यज॑ते । यथ्सोम॑श्च॒ राजा॒ छन्दा॑सि च स॒मैध॑न्त ।।  ।। तथ्सा॑कमे॒धाना॑ साकमेध॒त्वम् । अथ॒र्तव॑ पि॒तर॑ प्र॒जाप॑तिं पि॒तरं॑ पितृय॒ज्ञेना॑यजन्त । त ए॒तल्लोँ॒कम॑जयन्न् । यस्मि॑न्नृ॒तवः॑ । यत्पि॑तृय॒ज्ञेन॒ यज॑ते । ए॒तमे॒व लो॒कञ्ज॑यति । यस्मि॑न्नृ॒तवः॑ । ऋ॒तू॒नामे॒व सायु॑ज्य॒मुपै॑ति । यदृ॒तव॑ पि॒तर॑ प्र॒जाप॑तिं पि॒तरं॑ पितृय॒ज्ञेनाय॑जन्त । तत्पि॑तृय॒ज्ञस्य॑ पितृयज्ञ॒त्वम् ।।  ।। अथौष॑धय इ॒मन्दे॒वन्त्र्य॑म्बकैरयजन्त॒ प्रथे॑म॒हीति॑ । ततो॒ वै ता अ॑प्रथन्त । य ए॒वव्विँ॒द्वा स्त्र्य॑म्बकै॒र्यज॑ते । प्रथ॑ते प्र॒जया॑ प॒शुभिः॑ । अथ॑ वा॒यु प॑रमे॒ष्ठिन॑ शुनासी॒रीये॑णायजत । स ए॒तल्लोँ॒कम॑जयत् । यस्मि॑न्वा॒युः । यच्छु॑नासी॒रीये॑ण॒ यज॑ते । ए॒तमे॒व लो॒कञ्ज॑यति । यस्मि॑न्वा॒युः ।।  ।। वा॒योरे॒व सायु॑ज्य॒मुपै॑ति । ब्र॒ह्म॒वा॒दिनो॑ वदन्ति । प्र चा॑तुर्मास्यया॒जी मी॑य॒ता ३ न प्रमी॑य॒ता ३ इति॑ । जीव॒न्वा ए॒ष ऋ॒तूनप्ये॑ति । यदि॑ व॒सन्ता प्र॒मीय॑ते । व॒स॒न्तो भ॑वति । यदि॑ ग्री॒ष्मे ग्री॒ष्मः । यदि॑ व॒र्॒षासु॑ व॒र्॒षाः । यदि॑ श॒रदि॑ श॒रत् । यदि॒ हेम॑न् हेम॒न्तः । ऋ॒तुर्भू॒त्वा स॑व्वँथ्स॒रमप्ये॑ति । स॒व्वँ॒थ्स॒र प्र॒जाप॑तिः । प्र॒जाप॑ति॒र्वावैषः ।।  ।। अ॒ग्ने कृत्ति॑काः । शु॒क्रं प॒रस्ता॒ज्ज्योति॑र॒वस्तात् । प्र॒जाप॑ते रोहि॒णी । आप॑ प॒रस्ता॒दोष॑धयो॒ऽवस्तात् । सोम॑स्येन्व॒का वित॑तानि । प॒रस्ता॒द्वय॑न्तो॒ऽवस्तात् । रु॒द्रस्य॑ बा॒हू । मृ॒ग॒यव॑ प॒रस्ताद्विक्षा॒रो॑ऽवस्तात् । आदि॑त्यै॒ पुन॑र्वसू । वातः॑ प॒रस्ता॑दा॒र्द्रम॒वस्तात् ।।  ।। बृह॒स्पतेस्ति॒ष्यः॑ । जुह्व॑त प॒रस्ता॒द्यज॑माना अ॒वस्तात् । स॒र्पाणा॑माश्रे॒षाः । अ॒भ्या॒गच्छ॑न्त प॒रस्ता॑दभ्या॒नृत्य॑न्तो॒ऽवस्तात् । पि॒तृ॒णां म॒घाः । रु॒दन्त॑ प॒रस्ता॑दपभ्र॒॒शो॑ऽवस्तात् । अ॒र्य॒म्ण पूर्वे॒ फल्गु॑नी । जा॒या प॒रस्ता॑दृष॒भो॑ऽवस्तात् । भग॒स्योत्त॑रे । व॒ह॒तव॑प॒रस्ता॒द्वह॑माना अ॒वस्तात् ।।  ।। दे॒वस्य॑ सवि॒तुर् हस्तः॑ । प्र॒स॒व प॒रस्ताथ्स॒निर॒वस्तात् । इन्द्र॑स्य चि॒त्रा । ऋ॒तं प॒रस्ताथ्स॒त्यम॒वस्तात् । वा॒योर्निष्ट्या व्र॒ततिः॑ । प॒रस्ता॒दसि॑द्धिर॒वस्तात् । इ॒न्द्रा॒ग्नि॒योर्विशा॑खे । यु॒गानि॑ प॒रस्तात्कृ॒षमा॑णा अ॒वस्तात् । मि॒त्रस्या॑नूरा॒धाः । अ॒भ्या॒रोह॑त्प॒रस्ता॑द॒भ्यारू॑ढम॒वस्तात् ।।  ।। इन्द्र॑स्य रोहि॒णी । शृ॒णत्प॒रस्तात्प्रतिशृ॒णद॒वस्तात् । निऱ्ऋ॑त्यै मूल॒वऱ्ह॑णी । प्र॒ति॒भ॒ञ्जन्त॑ प॒रस्तात्प्रतिशृ॒णन्तो॒ऽवस्तात् । अ॒पां पूर्वा॑ अषा॒ढाः । वर्च॑ प॒रस्ता॒थ्समि॑तिर॒वस्तात् । विश्वे॑षान्दे॒वाना॒मुत्त॑राः । अ॒भि॒जय॑त्प॒रस्ता॑द॒भिजि॑तम॒वस्तात् । विष्णोश्श्रो॒णा पृ॒च्छमा॑नाः । प॒रस्ता॒त्पन्था॑ अ॒वस्तात् ।।  ।। वसू॑ना॒॒ श्रवि॑ष्ठाः । भू॒तं प॒रस्ता॒द्भूति॑र॒वस्तात् । इन्द्र॑स्य श॒तभि॑षक् । वि॒श्वव्य॑चाप॒रस्ताद्वि॒श्वक्षि॑तिर॒वस्तात् । अ॒जस्यैक॑पद॒पूर्वे प्रोष्ठप॒दाः । वै॒श्वा॒न॒रं प॒रस्ताद्वैश्वावस॒वम॒वस्तात् । अहेर्बु॒ध्निय॒स्योत्त॑रे । अ॒भि॒षि॒ञ्चन्त॑ प॒रस्ता॑दभिषु॒ण्वन्तो॒ऽवस्तात् । पू॒ष्णो रे॒वती । गाव॑प॒रस्ताद्व॒थ्सा अ॒वस्तात् । अ॒श्विनो॑रश्व॒युजौ । ग्राम॑ प॒रस्ता॒थ्सेना॒ऽवस्तात् । य॒मस्या॑प॒भर॑णीः । अ॒प॒कऱ्ष॑न्त प॒रस्ता॑दप॒वह॑न्तो॒ऽवस्तात् । पू॒र्णा प॒श्चाद्यत्ते॑ दे॒वा अद॑धुः ।।  ।। यत्पुण्य॒न्नक्ष॑त्रम् । तद्बट्कु॑र्वीतोपव्यु॒षम् । य॒दा वै सूर्य॑ उ॒देति॑ । अथ॒ नक्ष॑त्र॒न्नैति॑ । याव॑ति॒ तत्र॒ सूर्यो॒ गच्छेत् । यत्र॑ जघ॒न्यं॑ पश्येत् । ताव॑ति कुर्वीत यत्का॒री स्यात् । पु॒ण्या॒ह ए॒व कु॑रुते । ए॒व ह॒ वै य॒ज्ञेषु॑ञ्च श॒तद्यु॑म्नञ्च मा॒थ्स्यो नि॑रवसाय॒याञ्च॑कार ।।  ।। यो वै न॑क्ष॒त्रियं॑ प्र॒जाप॑ति॒व्वेँद॑ । उ॒भयो॑रेनल्लोँ॒कयोर्विदुः । हस्त॑ ए॒वास्य॒ हस्तः॑ । चि॒त्रा शिरः॑ । निष्ट्या॒ हृद॑यम् । ऊ॒रू विशा॑खे । प्र॒ति॒ष्ठाऽनू॑रा॒धाः । ए॒ष वै न॑क्ष॒त्रिय॑ प्र॒जाप॑तिः । य ए॒वव्वेँद॑ । उ॒भयो॑रेनल्लोँ॒कयोर्विदुः ।। ।। अ॒स्मिश्चा॒मुष्मि॑श्च । याङ्का॒मये॑त दुहि॒तरं॑ प्रि॒या स्या॒दिति॑ । तान्निष्ट्या॑यान्दद्यात् । प्रि॒यैव भ॑वति । नेव॒ तु पुन॒रा ग॑च्छति । अ॒भि॒जिन्नाम॒ नक्ष॑त्रम् । उ॒परि॑ष्टादषा॒ढानाम् । अ॒वस्ताच्छ्रो॒णायै । दे॒वा॒सु॒रास्सय्यँ॑त्ता आसन्न् । ते दे॒वास्तस्मि॒न्नक्ष॑त्रे॒ऽभ्य॑जयन्न् ।।  ।। यद॒भ्यज॑यन्न् । तद॑भि॒जितो॑ऽभिजि॒त्त्वम् । यङ्का॒मये॑तानपज॒य्यञ्ज॑ये॒दिति॑ । तमे॒तस्मि॒न्नक्ष॑त्रे यातयेत् । अ॒न॒प॒ज॒य्यमे॒व ज॑यति । पा॒पप॑राजितमिव॒ तु । प्र॒जाप॑ति प॒शून॑सृजत । ते नक्ष॑त्त्रन्नक्षत्त्र॒मुपा॑तिष्ठन्त । ते स॒माव॑न्त ए॒वाभ॑वन्न् । ते रे॒वती॒मुपा॑तिष्ठन्त ।।  ।। ते रे॒वत्यां॒ प्राभ॑वन्न् । तस्माद्रे॒वत्यां पशू॒नाङ्कु॑र्वीत । यत्किञ्चार्वा॒चीन॒॒ सोमात् । प्रैव भ॑वन्ति । स॒लि॒लव्वाँ इ॒दम॑न्त॒रासीत् । यदत॑रन्न् । तत्तार॑काणान्तारक॒त्वम् । यो वा इ॒ह यज॑ते । अ॒मु स लो॒कन्न॑क्षते । तन्नक्ष॑त्राणान्नक्षत्र॒त्वम् ।।  ।। दे॒व॒गृ॒हा वै नक्ष॑त्राणि । य ए॒वव्वेँद॑ । गृ॒ह्ये॑व भ॑वति । यानि॒ वा इ॒मानि॑ पृथि॒व्याश्चि॒त्राणि॑ । तानि॒ नक्ष॑त्राणि । तस्मा॑दश्ली॒लना॑म श्चि॒त्रे । नाव॑स्ये॒न्न य॑जेत । यथा॑ पापा॒हे कु॑रु॒ते । ता॒दृगे॒व तत् । दे॒व॒न॒क्ष॒त्राणि॒ वा अ॒न्यानि॑ ।।  ।। य॒म॒न॒क्ष॒त्राण्य॒न्यानि॑ । कृत्ति॑का प्रथ॒मम् । विशा॑खे उत्त॒मम् । तानि॑ देवनक्ष॒त्राणि॑ । अ॒नू॒रा॒धा प्र॑थ॒मम् । अ॒प॒भर॑णीरुत्त॒मम् । तानि॑ यमनक्ष॒त्राणि॑ । यानि॑ देवनक्ष॒त्राणि॑ । तानि॒ दक्षि॑णेन॒ परि॑यन्ति । यानि॑ यमनक्ष॒त्राणि॑ ।।  ।। तान्युत्त॑रेण । अन्वे॑षामरा॒थ्स्मेति॑ । तद॑नूरा॒धाः । ज्ये॒ष्ठमे॑षामवधि॒ष्मेति॑ । तज्ज्येष्ठ॒घ्नी । मूल॑मेषावृक्षा॒मेति॑ । तन्मू॑ल॒वऱ्ह॑णी । यन्नास॑हन्त । तद॑षा॒ढाः । यदश्लो॑णत् ।।  ।। तच्छ्रो॒णा । यदशृ॑णोत् । तच्छ्रवि॑ष्ठाः । यच्छ॒तमभि॑षज्यन्न् । तच्छ॒तभि॑षक् । प्रो॒ष्ठ॒प॒देषूद॑यच्छन्त । रे॒वत्या॑मरवन्त । अ॒श्व॒युजो॑रयुञ्जत । अ॒प॒भर॑णी॒ष्वपा॑वहन्न् । तानि॒ वा ए॒तानि॑ यमनक्ष॒त्राणि॑ । यान्ये॒व दे॑वनक्ष॒त्राणि॑ । तेषु॑ कुर्वीत यत्का॒री स्यात् । पु॒ण्या॒ह ए॒व कु॑रुते ।।  ।। दे॒वस्य॑ सवि॒तु प्रा॒त प्र॑स॒व प्रा॒णः । वरु॑णस्य सा॒यमा॑स॒वो॑ऽपा॒नः । यत्प्र॑ती॒चीनं॑ प्रात॒स्तनात् । प्रा॒चीन॑ सङ्ग॒वात् । ततो॑ दे॒वा अ॑ग्निष्टो॒मन्निर॑मिमत । तत्तदात्त॑वीर्यन्निर्मा॒र्गः । मि॒त्रस्य॑ सङ्ग॒वः । तत्पुण्य॑न्तेज॒स्व्यहः॑ । तस्मा॒त्तऱ्हि॑ प॒शव॑स्स॒माय॑न्ति । यत्प्र॑ती॒चीन॑ सङ्ग॒वात् ।।  ।। प्रा॒चीनं॑ म॒ध्यन्दि॑नात् । ततो॑ दे॒वा उ॒क्थ्य॑न्निर॑मिमत । तत्तदात्त॑वीर्यन्निर्मा॒र्गः । बृह॒स्पतेर्म॒ध्यन्दि॑नः । तत्पुण्य॑न्तेज॒स्व्यहः॑ । तस्मा॒त्तऱ्हि॒ तेक्ष्णि॑ष्ठन्तपति । यत्प्र॑ती॒चीनं॑ म॒ध्यन्दि॑नात् । प्रा॒चीन॑मपरा॒ह्णात् । ततो॑ दे॒वाष्षो॑ड॒शिन॒न्निर॑मिमत । तत्तदात्त॑वीर्यन्निर्मा॒र्गः ।।  ।। भग॑स्यापरा॒ह्णः । तत्पुण्य॑न्तेज॒स्व्यहः॑ । तस्मा॑दपरा॒ह्णे कु॑मा॒र्यो॑ भग॑मि॒च्छमा॑नाश्चरन्ति । यत्प्र॑ती॒चीन॑मपरा॒ह्णात् । प्रा॒चीन॑ सा॒यात् । ततो॑ दे॒वा अ॑तिरा॒त्रन्निर॑मिमत । तत्तदात्त॑वीर्यन्निर्मा॒र्गः । वरु॑णस्य सा॒यम् । तत्पुण्य॑न्तेज॒स्व्यहः॑ । तस्मा॒त्तऱ्हि॒ नानृ॑तव्वँदेत् ।।  ।। ब्रा॒ह्म॒णो वा अ॑ष्टावि॒॒शो नक्ष॑त्राणाम् । स॒मा॒नस्याह्न॒ पञ्च॒ पुण्या॑नि॒ नक्ष॑त्राणि । च॒त्वार्य॑श्ली॒लानि॑ । तानि॒ नव॑ । यच्च॑ प॒रस्ता॒न्नक्ष॑त्राणा॒य्यँच्चा॒वस्तात् । तान्येका॑दश । ब्रा॒ह्म॒णो द्वा॑द॒शः । य ए॒वव्विँ॒द्वान्थ्स॑व्वँथ्स॒रव्व्रँ॒तञ्चर॑ति । स॒व्वँ॒थ्स॒रेणै॒वास्य॑ व्र॒तङ्गु॒प्तं भ॑वति । स॒मा॒नस्याह्न॒ पञ्च॒ पुण्या॑नि॒ नक्ष॑त्राणि । च॒त्वार्य॑श्ली॒लानि॑ । तानि॒ नव॑ । आ॒ग्ने॒यी रात्रिः॑ । ऐ॒न्द्रमहः॑ । तान्येका॑दश । आ॒दि॒त्यो द्वा॑द॒शः । य ए॒वव्विँ॒द्वान्थ्स॑व्वँथ्स॒रव्व्रँ॒तञ्चर॑ति । स॒व्वँ॒थ्स॒रेणै॒वास्य॑ व्र॒तङ्गु॒प्तं भ॑वति ।।  ।। ब्र॒ह्म॒वा॒दिनो॑ वदन्ति । कति॒ पात्रा॑णि य॒ज्ञं व॑ह॒न्तीति॑ । त्रयो॑द॒शेति॑ ब्रूयात् । स यद्ब्रू॒यात् । कस्तानि॒ निर॑मिमी॒तेति॑ । प्र॒जाप॑ति॒रिति॑ ब्रूयात् । स यद्ब्रू॒यात् । कुत॒स्तानि॒ निर॑मिमी॒तेति॑ । आ॒त्मन॒ इति॑ । प्रा॒णा॒पा॒नाभ्या॑मे॒वोपा॑श्वन्तर्या॒मौ निर॑मिमीत ।।  ।। व्या॒नादु॑पाशु॒सव॑नम् । वा॒च ऐन्द्रवाय॒वम् । द॒क्ष॒क्र॒तुभ्यां मैत्रावरु॒णम् । श्रोत्रा॑दाश्वि॒नम् । चक्षु॑षश्शु॒क्राम॒न्थिनौ । आ॒त्मन॑ आग्रय॒णम् । अङ्गेभ्य उ॒क्थ्यम् । आयु॑षो ध्रु॒वम् । प्र॒ति॒ष्ठाया॑ ऋतुपा॒त्रे । य॒ज्ञं वाव तं प्र॒जाप॑ति॒र्निर॑मिमीत । स निर्मि॑तो॒ नाद्ध्रि॑यत॒ सम॑व्लीयत । स ए॒तान्प्र॒जाप॑तिरपिवा॒पान॑पश्यत् । तान्निर॑वपत् । तैर्वै स य॒ज्ञमप्य॑वपत् । यद॑पिवा॒पा भव॑न्ति । य॒ज्ञस्य॒ धृत्या॒ अस॑व्व्लँयाय ।।  ।। ऋ॒तमे॒व प॑रमे॒ष्ठि । ऋ॒तन्नात्ये॑ति॒ किञ्च॒न । ऋ॒ते स॑मु॒द्र आहि॑तः । ऋ॒ते भूमि॑रि॒यश्रि॒ता । अ॒ग्निस्ति॒ग्मेन॑ शो॒चिषा । तप॒ आक्रान्तमु॒ष्णिहा । शिर॒स्तप॒स्याहि॑तम् । वै॒श्वा॒न॒रस्य॒ तेज॑सा । ऋ॒तेनास्य॒ नि व॑र्तये । स॒त्येन॒ परि॑ वर्तये । तप॑सा॒ऽस्यानु॑ वर्तये । शि॒वेना॒स्योप॑ वर्तये । श॒ग्मेनास्या॒भि व॑र्तये । तदृ॒तन्तथ्स॒त्यम् । तद्व्र॒तन्तच्छ॑केयम् । तेन॑ शकेय॒न्तेन॑ राध्यासम् ।।  ।। यद्घ॒र्म प॒र्यव॑र्तयत् । अन्तान्पृथि॒व्या दि॒वः । अ॒ग्निरीशा॑न॒ ओज॑सा । वरु॑णो धी॒तिभि॑स्स॒ह । इन्द्रो॑ म॒रुद्भि॒स्सखि॑भिस्स॒ह । अ॒ग्निस्ति॒ग्मेन॑ शो॒चिषा । तप॒ आक्रान्तमु॒ष्णिहा । शिर॒स्तप॒स्याहि॑तम् । वै॒श्वा॒न॒रस्य॒ तेज॑सा । ऋ॒तेनास्य॒ नि व॑र्तये । स॒त्येन॒ परि॑ वर्तये । तप॑सा॒ऽस्यानु॑ वर्तये । शि॒वेना॒स्योप॑ वर्तये । श॒ग्मेनास्या॒भि व॑र्तये । तदृ॒तन्तथ्स॒त्यम् । तद्व्र॒तन्तच्छ॑केयम् । तेन॑ शकेय॒न्तेन॑ राध्यासम् ।।  ।। यो अ॒स्या पृ॑थि॒व्यास्त्व॒चि । नि॒व॒र्तय॒त्योष॑धीः । अ॒ग्निरीशा॑न॒ ओज॑सा । वरु॑णो धी॒तिभि॑स्स॒ह । इन्द्रो॑ म॒रुद्भि॒स्सखि॑भिस्स॒ह । अ॒ग्निस्ति॒ग्मेन॑ शो॒चिषा । तप॒ आक्रान्तमु॒ष्णिहा । शिर॒स्तप॒स्याहि॑तम् । वै॒श्वा॒न॒रस्य॒ तेज॑सा । ऋ॒तेनास्य॒ नि व॑र्तये । स॒त्येन॒ परि॑ वर्तये । तप॑सा॒ऽस्यानु॑ वर्तये । शि॒वेना॒स्योप॑ वर्तये । श॒ग्मेनास्या॒भि व॑र्तये । तदृ॒तन्तथ्स॒त्यम् । तद्व्र॒तन्तच्छ॑केयम् । तेन॑ शकेय॒न्तेन॑ राध्यासम् ।।  ।। एकं॒ मास॒मुद॑सृजत् । प॒र॒मे॒ष्ठी प्र॒जाभ्यः॑ । तेनाभ्यो॒ मह॒ आव॑हत् । अ॒मृतं॒ मर्त्याभ्यः । प्र॒जामनु॒ प्र जा॑यसे । तदु॑ ते मर्त्या॒मृतम् । येन॒ मासा॑ अर्धमा॒साः । ऋ॒तव॑ परिवथ्स॒राः । येन॒ ते ते प्रजापते । ई॒जा॒नस्य॒ न्यव॑र्तयन्न् । तेना॒हम॒स्य ब्रह्म॑णा । निव॑र्तयामि जी॒वसे । अ॒ग्निस्ति॒ग्मेन॑ शो॒चिषा । तप॒ आक्रान्तमु॒ष्णिहा । शिर॒स्तप॒स्याहि॑तम् । वै॒श्वा॒न॒रस्य॒ तेज॑सा । ऋ॒तेनास्य॒ नि व॑र्तये । स॒त्येन॒ परि॑ वर्तये । तप॑सा॒ऽस्यानु॑ वर्तये । शि॒वेना॒स्योप॑ वर्तये । श॒ग्मेनास्या॒भि व॑र्तये । तदृ॒तन्तथ्स॒त्यम् । तद्व्र॒तन्तच्छ॑केयम् । तेन॑ शकेय॒न्तेन॑ राध्यासम् ।।  ।। दे॒वा वै यद्य॒ज्ञेऽकु॑र्वत । तदसु॑रा अकुर्वत । तेऽसु॑रा ऊ॒र्ध्वं पृ॒ष्ठेभ्यो॒ नाप॑श्यन्न् । ते केशा॒नग्रे॑ऽवपन्त । अथ॒ श्मश्रू॑णि । अथो॑पप॒क्षौ । तत॒स्तेऽवाञ्च आयन्न् । परा॑ऽभवन्न् । यस्यै॒वव्वँप॑न्ति । अवा॑ङेति ।।  ।। अथो॒ परै॒व भ॑वति । अथ॑ दे॒वा ऊ॒र्ध्वं पृ॒ष्ठेभ्यो॑ऽपश्यन्न् । त उ॑पप॒क्षावग्रे॑ऽवपन्त । अथ॒ श्मश्रू॑णि । अथ॒ केशान्॑ । तत॒स्ते॑ऽभवन्न् । सु॒व॒र्गल्लोँ॒कमा॑यन्न् । यस्यै॒वव्वँप॑न्ति । भव॑त्या॒त्मना । अथो॑ सुव॒र्गल्लोँ॒कमे॑ति ।।  ।। अथै॒तन्मनु॑र्व॒प्त्रे मि॑थु॒नम॑पश्यत् । स श्मश्रू॒ण्यग्रे॑ऽवपत । अथो॑पप॒क्षौ । अथ॒ केशान्॑ । ततो॒ वै स प्राजा॑यत प्र॒जया॑ प॒शुभिः॑ । यस्यै॒वव्वँप॑न्ति । प्र प्र॒जया॑ प॒शुभि॑र्मिथु॒नैर्जा॑यते । दे॒वा॒सु॒रास्सय्यँ॑त्ता आसन्न् । ते स॑व्वँथ्स॒रे व्याय॑च्छन्त । तान्दे॒वाश्चा॑तुर्मा॒स्यैरे॒वाभि प्रायु॑ञ्जत ।।  ।। वै॒श्व॒दे॒वेन॑ च॒तुरो॑ मा॒सो॑ऽवृञ्ज॒तेन्द्र॑राजानः । ताञ्छी॒र्॒षन्नि चाव॑र्तयन्त॒ परि॑ च । व॒रु॒ण॒प्र॒घा॒सैश्च॒तुरो॑ मा॒सो॑ऽवृञ्जत॒ वरु॑णराजानः । ताञ्छी॒र्॒षन्नि चाव॑र्तयन्त॒ परि॑ च । सा॒क॒मे॒धैश्च॒तुरो॑ मा॒सो॑ऽवृञ्जत॒ सोम॑राजानः । ताञ्छी॒र्॒षन्नि चाव॑र्तयन्त॒ परि॑ च । या स॑व्वँथ्स॒र उ॑पजी॒वाऽऽसीत् । तामे॑षामवृञ्जत । ततो॑ दे॒वा अभ॑वन्न् । पराऽसु॑राः ।।  ।। य ए॒वव्विँ॒द्वाश्चा॑तुर्मा॒स्यैर्यज॑ते । भ्रातृ॑व्यस्यै॒व मा॒सो वृ॒क्त्वा । शी॒र्॒षन्नि च॑ व॒र्तय॑ते॒ परि॑ च । यैषा स॑व्वँथ्स॒र उ॑पजी॒वा । वृ॒ङ्क्ते तां भ्रातृ॑व्यस्य । क्षु॒धाऽस्य॒ भ्रातृ॑व्य॒ परा॑ भवति । लो॒हि॒ता॒य॒सेन॒ नि व॑र्तयते । यद्वा इ॒माम॒ग्निर्ऋ॒तावाग॑ते निव॒र्तय॑ति । ए॒तदे॒वैना॑ रू॒पङ्कृ॒त्वा निव॑र्तयति । सा तत॒श्श्वश्वो॒ भूय॑सी॒ भव॑न्त्येति ।।  ।। प्र जा॑यते । य ए॒वव्विँ॒द्वाल्लोँ॑हिताय॒सेन॑ निव॒र्तय॑ते । ए॒तदे॒व रू॒पङ्कृ॒त्वा नि व॑र्तयते । स तत॒श्श्वश्वो॒ भूया॒न्भव॑न्नेति । प्रैव जा॑यते । त्रे॒ण्या श॑ल॒ल्या नि व॑र्तयेत । त्रीणि॑त्रीणि॒ वै दे॒वाना॑मृ॒द्धानि॑ । त्रीणि॒ छन्दा॑सि । त्रीणि॒ सव॑नानि । त्रय॑ इ॒मे लो॒काः ।।  ।। ऋ॒ध्यामे॒व तद्वी॒र्य॑ ए॒षु लो॒केषु॒ प्रति॑ तिष्ठति । यच्चा॑तुर्मास्यया॒ज्यात्मनो॒ नाव॒द्येत् । दे॒वेभ्य॒ आवृ॑श्च्येत । च॒तृ॒षुच॑तृषु॒ मासे॑षु॒ नि व॑र्तयेत । प॒रोक्ष॑मे॒व तद्दे॒वेभ्य॑ आ॒त्मनोऽव॑द्य॒त्यनाव्रस्काय । दे॒वाना॒व्वाँ ए॒ष आनी॑तः । यश्चा॑तुर्मास्यया॒जी । य ए॒वव्विँ॒द्वान्नि च॑ व॒र्तय॑ते॒ परि॑ च । दे॒वता॑ ए॒वाप्ये॑ति । नास्य॑ रु॒द्र प्र॒जां प॒शून॒भि म॑न्यते ।।  ।। इन्द्रो॑ दधी॒चो अ॒स्थभिः॑ । वृ॒त्राण्यप्र॑तिष्कुतः । ज॒घान॑ नव॒तीर्नव॑ । इ॒च्छन्नश्व॑स्य॒ यच्छिरः॑ । पर्व॑ते॒ष्वप॑श्रितम् । तद्वि॑दच्छर्य॒णाव॑ति । अत्राह॒ गोरम॑न्वत । नाम॒ त्वष्टु॑रपी॒च्यम् । इ॒त्था च॒न्द्रम॑सो गृ॒हे । इन्द्र॒मिद्गा॒थिनो॑ बृ॒हत् ।।  ।। उ॒ग्र उ॒ग्राभि॑रू॒तिभिः॑ । तमिन्द्र॑व्वाँजयामसि । म॒हे वृ॒त्राय॒ हन्त॑वे । स वृषा॑ वृष॒भो भु॑वत् । इन्द्र॒स्स दाम॑ने कृ॒तः । ओजि॑ष्ठ॒स्स बले॑ हि॒तः । द्यु॒म्नी श्लो॒की स सौ॒म्यः॑ । गि॒रा वज्रो॒ न सम्भृ॑तः । सब॑लो॒ अन॑पच्युतः । व॒व॒क्षुरु॒ग्रो अस्तृ॑तः ।।  ।। दे॒वा॒सु॒रास्सय्यँ॑त्ता आसन्न् । स प्र॒जाप॑ति॒रिन्द्र॑ञ्ज्ये॒ष्ठं पु॒त्रमप॒ न्य॑धत्त । नेदे॑न॒मसु॑रा॒ बली॑यासोऽहन॒न्निति॑ । प्र॒ह्रादो॑ ह॒ वै का॑याध॒वः । वि॒रोच॑न॒॒ स्वं पु॒त्रमप॒ न्य॑धत्त । नेदे॑नन्दे॒वा अ॑हन॒न्निति॑ । ते दे॒वा प्र॒जाप॑तिमुपस॒मेत्यो॑चुः । नारा॒जक॑स्य यु॒द्धम॑स्ति । इन्द्र॒मन्वि॑च्छा॒मेति॑ । तय्यँ॑ज्ञक्र॒तुभि॒रन्वैच्छन्न् ।।  ।। तय्यँ॑ज्ञक्र॒तुभि॒र्नान्व॑विन्दन्न् । तमिष्टि॑भि॒रन्वैच्छन्न् । तमिष्टि॑भि॒रन्व॑विन्दन्न् । तदिष्टी॑नामिष्टि॒त्वम् । एष्ट॑यो ह॒ वै नाम॑ । ता इष्ट॑य॒ इत्याच॑क्षते प॒रोक्षे॑ण । प॒रोक्ष॑प्रिया इव॒ हि दे॒वाः । तस्मा॑ ए॒तमाग्नावैष्ण॒वमेका॑दशकपाल न्दीक्ष॒णीय॒न्निर॑वपन्न् । तद॑प॒द्रुत्या॑तन्वत । तान्प॑त्नीसय्याँ॒जान्त॒ उपा॑नयन्न् ।।  ।। ते तद॑न्तमे॒व कृ॒त्वोद॑द्रवन्न् । ते प्रा॑य॒णीय॑म॒भि स॒मारो॑हन्न् । तद॑प॒द्रुत्या॑तन्वत । ताञ्छ॒य्य्वँ॑न्त॒ उपा॑नयन्न् । ते तद॑न्तमे॒व कृ॒त्वोद॑द्रवन्न् । त आ॑ति॒थ्यम॒भि स॒मारो॑हन्न् । तद॑प॒द्रुत्या॑तन्वत । तानिडान्त॒ उपा॑नयन्न् । ते तद॑न्तमे॒व कृ॒त्वोद॑द्रवन्न् । तस्मा॑दे॒ता ए॒तद॑न्ता॒ इष्ट॑य॒स्सन्ति॑ष्ठन्ते ।।  ।। ए॒व हि दे॒वा अकु॑र्वत । इति॑ दे॒वा अ॑कुर्वत । इत्यु॒ वै म॑नु॒ष्याः कुर्वते । ते दे॒वा ऊ॑चुः । यद्वा इ॒दमु॒च्चैर्य॒ज्ञेन॒ चरा॑म । तन्नोऽसु॑राः पा॒प्माऽनु॑विन्दन्ति । उ॒पा॒॒शू॑प॒सदा॑ चराम । तथा॒ नोऽसु॑रा पा॒प्मा नानु॑वेथ्स्य॒न्तीति॑ । त उ॑पा॒॒शू॑प॒सद॑मतन्वत । ति॒स्र ए॒व सा॑मिधे॒नीर॒नूच्य॑ ।।  ।। स स॑मु॒द्र उ॑त्तर॒त प्राज्व॑लद्भूम्य॒न्तेन॑ । ए॒ष वाव स स॑मु॒द्रः । यच्चात्वा॑लः । ए॒ष उ॑वे॒व स भूम्य॒न्तः । यद्वेद्य॒न्तः । तदे॒तत्त्रि॑श॒लन्त्रि॑पूरु॒षम् । तस्मा॒त्तन्त्रि॑वित॒स्तङ्ख॑नन्ति । स सु॑वर्णरज॒ताभ्याङ्कु॒शीभ्यां॒ परि॑गृहीत आसीत् । तय्यँद॒स्या अध्य॒जन॑यन्न् । तस्मा॑दादि॒त्यः ।।  ।। अथ॒ यथ्सु॑वर्णरज॒ताभ्याङ्कु॒शीभ्यां॒ परि॑गृहीत॒ आसीत् । साऽस्य॑ कौशि॒कता । तन्त्रि॒वृता॒ऽभि प्रास्तु॑वत । तन्त्रि॒वृताऽद॑दत । तन्त्रि॒वृताऽह॑रन्न् । याव॑ती त्रि॒वृतो॒ मात्रा । तं प॑ञ्चद॒शेना॒भि प्रास्तु॑वत । तं प॑ञ्चद॒शेनाद॑दत । तं प॑ञ्चद॒शेनाह॑रन्न् । याव॑ती पञ्चद॒शस्य॒ मात्रा ।।  ।। त स॑प्तद॒शेना॒भि प्रास्तु॑वत । त स॑प्तद॒शेनाद॑दत । त स॑प्तद॒शेनाह॑रन्न् । याव॑ती सप्तद॒शस्य॒ मात्रा । तस्य॑ सप्तद॒शेन॑ ह्रि॒यमा॑णस्य॒ तेजो॒ हरो॑ऽपतत् । तमे॑कवि॒॒शेना॒भि प्रास्तु॑वत । तमे॑कवि॒॒शेनाद॑दत । तमे॑कवि॒॒शेनाह॑रन्न् । याव॑त्येकवि॒॒शस्य॒ मात्रा । ते यत्त्रि॒वृता स्तु॒वते ।।  ।। त्रि॒वृतै॒व तद्यज॑मान॒माद॑दते । तन्त्रि॒वृतै॒व ह॑रन्ति । याव॑ती त्रि॒वृतो॒ मात्रा । अ॒ग्निर्वै त्रि॒वृत् । याव॒द्वा अ॒ग्नेर्दह॑तो धू॒म उ॒देत्यानु॒ व्येति॑ । ताव॑ती त्रि॒वृतो॒ मात्रा । अ॒ग्नेरे॒वैन॒न्तत् । मात्रा॒॒ सायु॑ज्य सलो॒कताङ्गमयन्ति । अथ॒ यत्प॑ञ्चद॒शेन॑ स्तु॒वते । प॒ञ्च॒द॒शेनै॒व तद्यज॑मान॒माद॑दते ।।  ।। तं प॑ञ्चद॒शेनै॒व ह॑रन्ति । याव॑ती पञ्चद॒शस्य॒ मात्रा । च॒न्द्रमा॒ वै प॑ञ्चद॒शः । ए॒ष हि प॑ञ्चद॒श्याम॑पक्षी॒यते । प॒ञ्च॒द॒श्यामा॑पू॒र्यते । च॒न्द्रम॑स ए॒वैन॒न्तत् । मात्रा॒॒ सायु॑ज्य सलो॒कताङ्गमयन्ति । अथ॒ यथ्स॑प्तद॒शेन॑ स्तु॒वते । स॒प्त॒द॒शेनै॒व तद्यज॑मान॒माद॑दते । त स॑प्तद॒शेनै॒व ह॑रन्ति ।।  ।। याव॑ती सप्तद॒शस्य॒ मात्रा । प्र॒जाप॑ति॒र्वै स॑प्तद॒शः । प्र॒जाप॑तेरे॒वैन॒न्तत् । मात्रा॒॒ सायु॑ज्य सलो॒कताङ्गमयन्ति । अथ॒ यदे॑कवि॒॒शेन॑ स्तु॒वते । ए॒क॒वि॒॒शेनै॒व तद्यज॑मान॒माद॑दते । तमे॑कवि॒॒शेनै॒व ह॑रन्ति । याव॑त्येकवि॒॒शस्य॒ मात्रा । अ॒सौ वा आ॑दि॒त्य ए॑कवि॒॒शः । आ॒दि॒त्यस्यै॒वैन॒न्तत् ।।  ।। मात्रा॒॒ सायु॑ज्य सलो॒कताङ्गमयन्ति । ते कु॒श्यौ । व्य॑घ्नन्न् । ते अ॑होरा॒त्रे अ॑भवताम् । अह॑रे॒व सु॒वर्णा॑ऽभवत् । र॒ज॒ता रात्रिः॑ । स यदा॑दि॒त्य उ॒देति॑ । ए॒तामे॒व तथ्सु॒वर्णाङ्कु॒शीमनु॒ समे॑ति । अथ॒ यद॑स्त॒मेति॑ । ए॒तामे॒व तद्र॑ज॒ताङ्कु॒शीमनु॒सव्विँ॑शति । प्र॒ह्रादो॑ ह॒ वै का॑याध॒वः । वि॒रोच॑न॒॒ स्वं पु॒त्रमुदास्यत् । स प्र॑द॒रो॑ऽभवत् । तस्मात्प्रद॒रादु॑द॒कन्नाचा॑मेत् ।।  ।। ये वै च॒त्वार॒स्स्तोमाः । कृ॒तन्तत् । अथ॒ ये पञ्च॑ । कलि॒स्सः । तस्मा॒च्चतु॑ष्टोमः । तच्चतु॑ष्टोमस्य चतुष्टोम॒त्वम् । तदा॑हुः । क॒त॒मानि॒ तानि॒ ज्योती॑षि । य ए॒तस्य॒ स्तोमा॒ इति॑ । त्रि॒वृत्प॑ञ्चद॒शस्स॑प्तद॒श ए॑कवि॒॒शः ।।  ।। ए॒तानि॒ वाव तानि॒ ज्योती॑षि । य ए॒तस्य॒ स्तोमाः । सोऽब्रवीत् । स॒प्त॒द॒शेन॑ ह्रि॒यमा॑णो॒ व्य॑लेशिषि । भि॒षज्य॑त॒ मेति॑ । तम॒श्विनौ॑ धा॒नाभि॑रभिषज्यताम् । पू॒षा क॑र॒म्भेण॑ । भार॑ती परिवा॒पेण॑ । मि॒त्रावरु॑णौ पय॒स्य॑या । तदा॑हुः ।।  ।। यद॒श्विभ्यान्धा॒नाः । पू॒ष्ण क॑र॒म्भः । भार॑त्यै परिवा॒पः । मि॒त्रावरु॑णयो पय॒स्याऽथ॑ । कस्मा॑दे॒तेषा॑ ह॒विषा॒मिन्द्र॑मे॒व य॑ज॒न्तीति॑ । ए॒ता ह्ये॑नन्दे॒वता॒ इति॑ ब्रूयात् । ए॒तैऱ्ह॒विर्भि॒रभि॑षज्य॒॒ स्तस्मा॒दिति॑ । तव्वँस॑वो॒ऽष्टाक॑पालेन प्रातस्सव॒ने॑ऽभिषज्यन्न् । रु॒द्रा एका॑दशकपालेन॒ माध्य॑न्दिने॒ सव॑ने । विश्वे॑ दे॒वा द्वाद॑शकपालेन तृतीयसव॒ने ।।  ।। स यद॒ष्टाक॑पालान्प्रातस्सव॒ने कु॒र्यात् । एका॑दशकपाला॒न्माध्य॑न्दिने॒ सव॑ने । द्वाद॑शकपालास्तृतीयसव॒ने । विलो॑म॒ तद्य॒ज्ञस्य॑ क्रियेत । एका॑दशकपालाने॒व प्रा॑तस्सव॒ने कु॑र्यात् । एका॑दशकपाला॒न्माध्य॑न्दिने॒ सव॑ने । एका॑दशकपालास्तृतीयसव॒ने । य॒ज्ञस्य॑ सलोम॒त्वाय॑ । तदा॑हुः । यद्वसू॑नां प्रातस्सव॒नम् । रु॒द्राणां॒ माध्य॑न्दिन॒॒ सव॑नम् । विश्वे॑षान्दे॒वानान्तृतीयसव॒नम् । अथ॒ कस्मा॑दे॒तेषा॑ ह॒विषा॒मिन्द्र॑मे॒व य॑ज॒न्तीति॑ । ए॒ता ह्ये॑नन्दे॒वता॒ इति॑ ब्रूयात् । ए॒तैऱ्ह॒विर्भि॒रभि॑षज्य॒॒ स्तस्मा॒दिति॑ ।।  ।। तस्यावा॑चोऽवपा॒दाद॑बिभयुः । तमे॒तेषु॑ स॒प्तसु॒ छन्द॑स्स्वश्रयन्न् । यदश्र॑यन्न् । तच्छ्रा॑य॒न्तीय॑स्य श्रायन्तीय॒त्वम् । यदवा॑रयन्न् । तद्वा॑रव॒न्तीय॑स्य वारवन्तीय॒त्वम् । तस्यावा॑च ए॒वाव॑पा॒दाद॑बिभयुः । तस्मा॑ ए॒तानि॑ स॒प्त च॑तुरुत्त॒राणि॒ छन्दा॒॒स्युपा॑दधुः । तेषा॒मति॒ त्रीण्य॑रिच्यन्त । न त्रीण्युद॑भवन्न् ।।  ।। स बृ॑ह॒तीमे॒वास्पृ॑शत् । द्वाभ्या॑म॒क्षराभ्याम् । अ॒हो॒रा॒त्राभ्या॑मे॒व । तदा॑हुः । क॒त॒मा सा दे॒वाक्ष॑रा बृह॒ती । यस्या॒न्तत्प्र॒त्यति॑ष्ठत् । द्वाद॑श पौर्णमा॒स्यः॑ । द्वाद॒शाष्ट॑काः । द्वाद॑शामावा॒स्याः । ए॒षा वाव सा दे॒वाक्ष॑रा बृह॒ती ।।  ।। ते बृ॑ह॒ती ए॒व भू॒त्वा । बृ॒ह॒तीमुप॒ सम॑श्रयताम् । सोऽब्रवीत्प्र॒जाप॑तिः । छन्दा॑सि॒ रथो॑ मे भवत । यु॒ष्माभि॑र॒हमे॒तमध्वा॑न॒मनु॒ सञ्च॑रा॒णीति॑ । तस्य॑ गाय॒त्री च॒ जग॑ती च प॒क्षाव॑भवताम् । उ॒ष्णिक्च॑ त्रि॒ष्टुप्च॒ प्रष्ट्यौ । अ॒नु॒ष्टुप्च॑ प॒ङ्क्तिश्च॒ धुर्यौ । बृ॒ह॒त्ये॑वोद्धिर॑भवत् । स ए॒तञ्छ॑न्दोर॒थमा॒स्थाय॑ । ए॒तमध्वा॑न॒मनु॒ सम॑चरत् । ए॒त ह॒ वै छ॑न्दोर॒थमा॒स्थाय॑ । ए॒तमध्वा॑न॒मनु॒ सञ्च॑रति । येनै॒ष ए॒तथ्स॒ञ्चर॑ति । य ए॒वव्विँ॒द्वान्थ्सोमे॑न॒ यज॑ते । य उ॑ चैनमे॒वँव्वेद॑ ।।  ।। अनु॑मत्यै पुरो॒डाश॑म॒ष्टाक॑पाल॒न्निर्व॑पति । ये प्र॒त्यञ्च॒श्शम्या॑या अव॒शीय॑न्ते । तन्नैर्॑ऋ॒तमेक॑कपालम् । इ॒यव्वाँ अनु॑मतिः । इ॒यन्निऱ्ऋ॑तिः । नै॒र्॒ऋ॒तेन॒ पूर्वे॑ण॒ प्रच॑रति । पा॒प्मान॑मे॒व निऱ्ऋ॑तिं॒ पूर्वान्नि॒रव॑दयते । एक॑कपालो भवति । ए॒क॒धैव निऱ्ऋ॑तिन्नि॒रव॑दयते । यदहु॑त्वा॒ गाऱ्ह॑पत्य ई॒युः ।।  ।। रु॒द्रो भू॒त्वाऽग्निर॑नू॒त्थाय॑ । अ॒ध्व॒र्युञ्च॒ यज॑मानञ्च हन्यात् । वीहि॒ स्वाहाऽऽहु॑तिञ्जुषा॒ण इत्या॑ह । आहु॑त्यै॒वैन॑ शमयति । नार्ति॒मार्च्छ॑त्यध्व॒र्युर्न यज॑मानः । ए॒को॒ल्मु॒केन॑ यन्ति । तद्धि निऱ्ऋ॑त्यै भाग॒धेयम् । इ॒मान्दिश॑य्यँन्ति । ए॒षा वै निऱ्ऋ॑त्यै॒ दिक् । स्वाया॑मे॒व दि॒शि निऱ्ऋ॑तिन्नि॒रव॑दयते ।।  ।। स्वकृ॑त॒ इरि॑णे जुहोति प्रद॒रे वा । ए॒तद्वै निऱ्ऋ॑त्या आ॒यत॑नम् । स्व ए॒वायत॑ने॒ निऱ्ऋ॑तिन्नि॒रव॑दयते । ए॒ष ते॑ निर्ऋते भा॒ग इत्या॑ह । निर्दि॑शत्ये॒वैनाम् । भूते॑ ह॒विष्म॑त्य॒सीत्या॑ह । भूति॑मे॒वोपाव॑र्तते । मु॒ञ्चेममह॑स॒ इत्या॑ह । अह॑स ए॒वैनं॑ मुञ्चति । अ॒ङ्गु॒ष्ठाभ्याञ्जुहोति ।।  ।। इ॒यमे॒वास्मै॑ रा॒ज्यमनु॑ मन्यते । धे॒नुर्दक्षि॑णा । इ॒मामे॒व धे॒नुङ्कु॑रुते । आ॒दि॒त्यञ्च॒रुन्निर्व॑पति । उ॒भयीष्वे॒व प्र॒जास्व॒भिषि॑च्यते । दैवी॑षु च॒ मानु॑षीषु च । वरो॒ दक्षि॑णा । वरो॒ हि रा॒ज्य समृ॑द्ध्यै । आ॒ग्ना॒वै॒ष्ण॒वमेका॑दशकपाल॒न्निर्व॑पति । अ॒ग्निस्सर्वा॑ दे॒वताः ।।  ।। विष्णु॑र्य॒ज्ञः । दे॒वताश्चै॒व य॒ज्ञञ्चाव॑ रुन्धे । वा॒म॒नो व॒ही दक्षि॑णा । यद्व॒ही । तेनाग्ने॒यः । यद्वा॑म॒नः । तेन॑ वैष्ण॒वस्समृ॑द्ध्यै । अ॒ग्नी॒षो॒मीय॒मेका॑दशकपाल॒न्निर्व॑पति । अ॒ग्नीषोमाभ्या॒व्वाँ इन्द्रो॑ वृ॒त्रम॑ह॒न्निति॑ । यद॑ग्नीषो॒मीय॒मेका॑दशकपालन्नि॒र्वप॑ति ।।  ।। वार्त्र॑घ्नमे॒व विजि॑त्यै । हिर॑ण्य॒न्दक्षि॑णा॒ समृ॑द्ध्यै । इन्द्रो॑ वृ॒त्र ह॒त्वा । दे॒वता॑भिश्चेन्द्रि॒येण॑ च॒ व्यार्ध्यत । स ए॒तमैन्द्रा॒ग्नमेका॑दशकपालमपश्यत् । तन्निर॑वपत् । तेन॒ वै स दे॒वताश्चेन्द्रि॒यञ्चावा॑रुन्ध । यदैन्द्रा॒ग्नमेका॑दशकपालन्नि॒र्वप॑ति । दे॒वताश्चै॒व तेनेन्द्रि॒यञ्च॒ यज॑मा॒नोऽव॑रुन्धे । ऋ॒ष॒भो व॒ही दक्षि॑णा ।।  ।। यद्व॒ही । तेनाग्ने॒यः । यदृ॑ष॒भः । तेनै॒न्द्रस्समृ॑द्ध्यै । आ॒ग्ने॒यम॒ष्टाक॑पाल॒न्निर्व॑पति । ऐ॒न्द्रन्दधि॑ । यदाग्ने॒यो भव॑ति । अ॒ग्निर्वै य॑ज्ञमु॒खम् । य॒ज्ञ॒मु॒खमे॒वर्द्धिं॑ पु॒रस्ताद्धत्ते । यदै॒न्द्रन्दधि॑ ।।  ।। इ॒न्द्रि॒यमे॒वाव॑रुन्धे । ऋ॒ष॒भो व॒ही दक्षि॑णा । यद्व॒ही । तेनाग्ने॒यः । यदृ॑ष॒भः । तेनै॒न्द्रस्समृ॑द्ध्यै । याव॑ती॒र्वै प्र॒जा ओष॑धीना॒महु॑ताना॒माश्ञन्न्॑ । ता परा॑ऽभवन्न् । आ॒ग्र॒य॒णं भ॑वति हु॒ताद्या॑य । यज॑मान॒स्याप॑राभावाय ।।  ।। दे॒वा वा ओष॑धीष्वा॒जिम॑युः । ता इ॑न्द्रा॒ग्नी उद॑जयताम् । तावे॒तमैन्द्रा॒ग्नन्द्वाद॑शकपाल॒न्निर॑वृणाताम् । यदैन्द्रा॒ग्नो भव॒त्युज्जि॑त्यै । द्वाद॑शकपालो भवति । द्वाद॑श॒ मासास्सव्वँथ्स॒रः । स॒व्वँ॒थ्स॒रेणै॒वास्मा॒ अन्न॒मव॑रुन्धे । वै॒श्व॒दे॒वश्च॒रुर्भ॑वति । वै॒श्व॒दे॒वव्वाँ अन्नम् । अन्न॑मे॒वास्मै स्वदयति ।।  ।। सोमो॒ रेतो॑ऽदधात् । स॒वि॒ता प्राज॑नयत् । सर॑स्वती॒ वाच॑मदधात् । पू॒षाऽपो॑षयत् । ते वा ए॒ते त्रिस्स॑व्वँथ्स॒रस्य॒ प्रयु॑ज्यन्ते । ये दे॒वा पुष्टि॑पतयः । स॒व्वँ॒थ्स॒रो वै प्र॒जाप॑तिः । स॒व्वँ॒थ्स॒रेणै॒वास्मै प्र॒जा प्राज॑नयत् । ता प्र॒जा जा॒ता म॒रुतोऽघ्नन्न् । अ॒स्मानपि॒ न प्रायु॑क्ष॒तेति॑ ।।  ।। स ए॒तं प्र॒जाप॑तिर्मारु॒त स॒प्तक॑पालमपश्यत् । तन्निर॑वपत् । ततो॒ वै प्र॒जाभ्यो॑ऽकल्पत । यन्मा॑रु॒तो नि॑रु॒प्यते । य॒ज्ञस्य॒ कॢप्त्यै । प्र॒जाना॒मघा॑ताय । स॒प्तक॑पालो भवति । स॒प्तग॑णा॒ वै म॒रुतः॑ । ग॒ण॒श ए॒वास्मै॒ विश॑ङ्कल्पयति । स प्र॒जाप॑तिरशोचत् ।।  ।। या पूर्वा प्र॒जा असृ॑क्षि । म॒रुत॒स्ता अ॑वधिषुः । क॒थमप॑रास्सृजे॒येति॑ । तस्य॒ शुष्म॑ आ॒ण्डं भू॒तन्निर॑वर्तत । तद्व्युद॑हरत् । तद॑पोषयत् । तत्प्राजा॑यत । आ॒ण्डस्य॒ वा ए॒तद्रू॒पम् । यदा॒मिक्षा । यद्व्यु॒द्धर॑ति ।।  ।। तेऽग्निना॒ मुखे॒नासु॑रानजयन्न् । सोमे॑न॒ राज्ञा । स॒वि॒त्रा प्रसू॑ताः । सर॑स्वतीन्द्रि॒यम॑दधात् । पू॒षा प्र॑ति॒ष्ठाऽऽसीत् । ततो॒ वै दे॒वा व्य॑जयन्त । यदे॒तानि॑ ह॒वीषि॑ निरु॒प्यन्ते॒ विजि॑त्यै । नोत्त॑रवे॒दिमुप॑वपति । प॒शवो॒ वा उ॑त्तरवे॒दिः । अजा॑ता इव॒ ह्ये॑तऱ्हि॑ प॒शवः॑ ।।  ।। त्रि॒वृद्ब॒र्॒हिर्भ॑वति । मा॒ता पि॒ता पु॒त्रः । तदे॒व तन्मि॑थु॒नम् । उल्ब॒ङ्गर्भो॑ ज॒रायु॑ । तदे॒व तन्मि॑थु॒नम् । त्रे॒धा ब॒र्॒हिस्सन्न॑द्धं भवति । त्रय॑ इ॒मे लो॒काः । ए॒ष्वे॑व लो॒केषु॒ प्रति॑ तिष्ठति । ए॒क॒धा पुन॒स्सन्न॑द्धं भवति । एक॑ इव॒ ह्य॑यल्लोँ॒कः ।।  ।। अ॒स्मिन्ने॒व तेन॑ लो॒के प्रति॑तिष्ठति । प्र॒सुवो॑ भवन्ति । प्र॒थ॒म॒जामे॒व पुष्टि॒मव॑रुन्धे । प्र॒थ॒म॒जो व॒थ्सो दक्षि॑णा॒ समृ॑द्ध्यै । पृ॒ष॒दा॒ज्यङ्गृ॑ह्णाति । प॒शवो॒ वै पृ॑षदा॒ज्यम् । प॒शूने॒वाव॑ रुन्धे । प॒ञ्च॒गृ॒ही॒तं भ॑वति । पाङ्क्ता॒ हि प॒शवः॑ । ब॒हु॒रू॒पं भ॑वति ।।  ।। ब॒हु॒रू॒पा हि प॒शव॒स्समृ॑द्ध्यै । अ॒ग्निं म॑न्थन्ति । अ॒ग्निमु॑खा॒ वै प्र॒जाप॑ति प्र॒जा अ॑सृजत । यद॒ग्निं मन्थ॑न्ति । अ॒ग्निमु॑खा ए॒व तत्प्र॒जा यज॑मानस्सृजते । नव॑ प्रया॒जा इ॑ज्यन्ते । नवा॑नूया॒जाः । अ॒ष्टौ ह॒वीषि॑ । द्वावा॑घा॒रौ । द्वावाज्य॑भागौ ।।  ।। त्रि॒॒शथ्संप॑द्यन्ते । त्रि॒॒शद॑क्षरा वि॒राट् । अन्न॑व्विँ॒राट् । वि॒राजै॒वान्नाद्य॒मव॑रुन्धे । यज॑मानो॒ वा एक॑कपालः । तेज॒ आज्यम् । यदेक॑कपाल॒ आज्य॑मा॒नय॑ति । यज॑मानमे॒व तेज॑सा॒ सम॑र्धयति । यज॑मानो॒ वा एक॑कपालः । प॒शव॒ आज्यम् ।।  ।। यदेक॑कपाल॒ आज्य॑मा॒नय॑ति । यज॑मानमे॒व प॒शुभि॒स्सम॑र्धयति । यदल्प॑मा॒नयेत् । अल्पा॑ एनं प॒शवो॑ भु॒ञ्जन्त॒ उप॑तिष्ठेरन्न् । यद्ब॒ह्वा॑नयेत् । ब॒हव॑ एनं प॒शवोऽभु॑ञ्जन्त॒ उप॑तिष्ठेरन्न् । ब॒ह्वा॑नीया॒वि पृ॑ष्ठं कुर्यात् । ब॒हव॑ ए॒वैनं॑ प॒शवो॑ भु॒ञ्जन्त॒ उप॑तिष्ठन्ते । यज॑मानो॒ वा एक॑कपालः । यदेक॑कपालस्याव॒द्येत् ।।  ।। यज॑मान॒स्याव॑द्येत् । उद्वा॒ माद्ये॒द्यज॑मानः । प्र वा॑ मीयेत । स॒कृदे॒व हो॑त॒व्यः॑ । स॒कृदि॑व॒ हि सु॑व॒र्गो लो॒कः । हु॒त्वाऽभि जु॑होति । यज॑मानमे॒व सु॑व॒र्गल्लोँ॒कङ्ग॑मयि॒त्वा । तेज॑सा॒ सम॑र्धयति । यज॑मानो॒ वा एक॑कपालः । सु॒व॒र्गो लो॒क आ॑हव॒नीयः॑ ।।  ।। यदेक॑कपालमाहव॒नीये॑ जु॒होति॑ । यज॑मानमे॒व सु॑व॒र्गल्लोँ॒कङ्ग॑मयति । यद्धस्ते॑न जुहु॒यात् । सु॒व॒र्गाल्लो॒काद्यज॑मान॒मव॑विध्येत् । स्रु॒चा जु॑होति । सु॒व॒र्गस्य॑ लो॒कस्य॒ सम॑ष्ट्यै । यत्प्राङ्पद्ये॑त । दे॒व॒लो॒कम॒भिज॑येत् । यद्द॑क्षि॒णा पि॑तृलो॒कम् । यत्प्र॒त्यक् ।।  ।। रक्षा॑सि य॒ज्ञ ह॑न्युः । यदुदङ्ङ्॑ । म॒नु॒ष्य॒लो॒कम॒भिज॑येत् । प्रति॑ष्ठितो होत॒व्यः॑ । एक॑कपाल॒व्वैँ प्र॑ति॒तिष्ठ॑न्त॒न्द्यावा॑पृथि॒वी अनु॒ प्रति॑तिष्ठतः । द्यावा॑पृथि॒वी ऋ॒तवः॑ । ऋ॒तून् य॒ज्ञः । य॒ज्ञय्यँज॑मानः । यज॑मानं प्र॒जाः । तस्मा॒त्प्रति॑ष्ठितो होत॒व्यः॑ ।।  ।। वा॒जिनो॑ यजति । अ॒ग्निर्वा॒युस्सूर्यः॑ । ते वै वा॒जिनः॑ । ताने॒व तद्य॑जति । अथो॒ खल्वा॑हुः । छन्दा॑सि॒ वै वा॒जिन॒ इति॑ । तान्ये॒व तद्य॑जति । ऋ॒ख्सा॒मे वा इन्द्र॑स्य॒ हरी॑ सोम॒पानौ । तयो परि॒धय॑ आ॒धानम् । वाजि॑नं भाग॒धेयम् ।।  ।। यदप्र॑हृत्य परि॒धीञ्जु॑हु॒यात् । अ॒न्तरा॑धानाभ्याङ्घा॒सं प्रय॑च्छेत् । प्र॒हृत्य॑ परि॒धीञ्जु॑होति । निरा॑धानाभ्यामे॒व घा॒सं प्रय॑च्छति । ब॒र्॒हिषि॑ विषि॒ञ्चन्वाजि॑न॒मा न॑यति । प्र॒जा वै ब॒र्॒हिः । रेतो॒ वाजि॑नम् । प्र॒जास्वे॒व रेतो॑ दधाति । स॒मु॒प॒हूय॑ भक्षयन्ति । ए॒तथ्सो॑मपीथा॒ ह्ये॑ते । अथो॑ आ॒त्मन्ने॒व रेतो॑ दधते । यज॑मान उत्त॒मो भ॑क्षयति । प॒शवो॒ वै वाजि॑नम् । यज॑मान ए॒व प॒शून्प्रति॑ष्ठापयन्ति ।।  ।। प्र॒जाप॑तिस्सवि॒ता भू॒त्वा प्र॒जा अ॑सृजत । ता ए॑न॒मत्य॑मन्यन्त । ता अ॑स्मा॒दपाक्रामन्न् । ता वरु॑णो भू॒त्वा प्र॒जा वरु॑णेनाग्राहयत् । ता प्र॒जा वरु॑णगृहीताः । प्र॒जाप॑तिं॒ पुन॒रुपा॑धावन्ना॒थमि॒च्छमा॑नाः । स ए॒तान्प्र॒जाप॑तिर्वरुणप्रघा॒सान॑पश्यत् । तान्निर॑वपत् । तैर्वै स प्र॒जा व॑रुणपा॒शाद॑मुञ्चत् । यद्व॑रुणप्रघा॒सा नि॑रु॒प्यन्ते ।।  ।। प्र॒जाना॒मव॑रुणग्राहाय । तासा॒न्दक्षि॑णो बा॒हुर्न्य॑क्न॒ आसीत् । स॒व्य प्रसृ॑तः । स ए॒तान्द्वि॒तीयान्दक्षिण॒तो वेदि॒मुद॑हन्न् । ततो॒ वै स प्र॒जाना॒न्दक्षि॑णं बा॒हुं प्रासा॑रयत् । यद्द्वि॒तीयान्दक्षिण॒तो वेदि॑मु॒द्धन्ति॑ । प्र॒जाना॑मे॒व तद्यज॑मानो॒ दक्षि॑णं बा॒हुं प्रसा॑रयति । तस्माच्चातुर्मास्यया॒ज्य॑मुष्मि॑ल्लोँ॒क उ॑भ॒याबा॑हुः । य॒ज्ञाभि॑जित॒॒ ह्य॑स्य । पृ॒थ॒मा॒त्राद्वैदी॒ असं॑भिन्ने भवतः ।।  ।। तस्मात्पृथमा॒त्रव्व्यँसौ । उत्त॑रस्या॒व्वेँद्या॑मुत्तरवे॒दिमुप॑ वपति । प॒शवो॒ वा उ॑त्तरवे॒दिः । प॒शूने॒वाव॑रुन्धे । अथो॑ यज्ञप॒रुषोऽन॑न्तरित्यै । ए॒तद्ब्राह्मणान्ये॒व पञ्च॑ ह॒वीषि॑ । अथै॒ष ऐन्द्रा॒ग्नो भ॑वति । प्रा॒णा॒पा॒नौ वा ए॒तौ दे॒वानाम् । यदि॑न्द्रा॒ग्नी । यदैन्द्रा॒ग्नो भव॑ति ।।  ।। प्रा॒णा॒पा॒नावे॒वाव॑ रुन्धे । ओजो॒ बल॒व्वाँ ए॒तौ दै॒वानाम् । यदि॑न्द्रा॒ग्नी । यदैन्द्रा॒ग्नो भव॑ति । ओजो॒ बल॑मे॒वाव॑ रुन्धे । मा॒रु॒त्या॑मिक्षा॑ भवति । वा॒रु॒ण्या॑मिक्षा । मे॒षी च॑ मे॒षश्च॑ भवतः । मि॒थु॒ना ए॒व प्र॒जा व॑रुणपा॒शान्मु॑ञ्चति । लो॒म॒शौ भ॑वतो मेध्य॒त्वाय॑ ।।  ।। श॒मी॒प॒र्णान्युप॑ वपति । घा॒समे॒वाभ्या॒मपि॑ यच्छति । प्र॒जाप॑तिम॒न्नाद्य॒न्नोपा॑नमत् । स ए॒तेन॑ श॒तेध्मे॑न ह॒विषा॒ऽन्नाद्य॒मवा॑रुन्ध । यत्प॑रश्श॒तानि॑ शमीप॒र्णानि॒ भव॑न्ति । अ॒न्नाद्य॒स्याव॑रुद्ध्यै । सौ॒म्यानि॒ वै क॒रीरा॑णि । सौ॒म्या खलु॒ वा आहु॑तिर्दि॒वो वृष्टि॑ञ्च्यावयति । यत्क॒रीरा॑णि॒ भव॑न्ति । सौ॒म्ययै॒वाहु॑त्या दि॒वो वृष्टि॒मव॑रुन्धे । का॒य एक॑कपालो भवति । प्र॒जानाङ्क॒न्त्वाय॑ । प्र॒ति॒पू॒रु॒षङ्क॑रम्भपा॒त्राणि॑ भवन्ति । जा॒ता ए॒व प्र॒जा व॑रुणपा॒शान्मु॑ञ्चति । एक॒मति॑रिक्तम् । ज॒नि॒ष्यमा॑णा ए॒व प्र॒जा व॑रुणपा॒शान्मु॑ञ्चति ।।  ।। उत्त॑रस्या॒व्वेँद्या॑म॒न्यानि॑ ह॒वीषि॑ सादयति । दक्षि॑णायां मारु॒तीम् । अ॒प॒धु॒रमे॒वैना॑ युनक्ति । अथो॒ ओज॑ ए॒वासा॒मव॑ हरति । तस्मा॒द्ब्रह्म॑णश्च क्ष॒त्राच्च॒ विशोऽन्यतोऽपक्र॒मिणीः । मा॒रु॒त्या पूर्व॑या॒ प्रच॑रति । अनृ॑तमे॒वाव॑ यजते । वा॒रु॒ण्योत्त॑रया । अ॒न्त॒त ए॒व वरु॑ण॒मव॑ यजते । यदे॒वाध्व॒र्यु क॒रोति॑ ।।  ।। तत्प्र॑तिप्रस्था॒ता क॑रोति । तस्मा॒द्यच्छ्रेयान्क॒रोति॑ । तत्पापी॑यान्करोति । पत्नीव्वाँचयति । मेध्या॑मे॒वैनाङ्करोति । अथो॒ तप॑ ए॒वैना॒मुप॑ नयति । यज्जा॒र सन्त॒न्न प्र॑ब्रू॒यात् । प्रि॒यं ज्ञा॒ति रु॑न्ध्यात् । अ॒सौ मे॑ जा॒र इति॒ निर्दि॑शेत् । नि॒र्दिश्यै॒वैनं॑ वरुणपा॒शेन॑ ग्राहयति ।।  ।। प्र॒घा॒स्यान्॑ हवामह॒ इति॒ पत्नी॑मु॒दान॑यति । अह्व॑तै॒वैनाम् । यत्पत्नी॑ पुरोनुवा॒क्या॑मनुब्रू॒यात् । निर्वीर्यो॒ यज॑मानस्स्यात् । यज॑मा॒नोऽन्वा॑ह । आ॒त्मन्ने॒व वी॒र्य॑न्धत्ते । उ॒भौ या॒ज्या॑ सवीर्य॒त्वाय॑ । यद्ग्रामे॒ यदर॑ण्य॒ इत्या॑ह । य॒थो॒दि॒तमे॒व वरु॑ण॒मव॑ यजते । य॒ज॒मा॒न॒दे॒व॒त्यो॑ वा आ॑हव॒नीयः॑ ।।  ।। अ॒फ्सु वै वरु॑णः । सा॒क्षादे॒व वरु॑ण॒मव॑यजते । प्रति॑युतो॒ वरु॑णस्य॒ पाश॒ इत्या॑ह । व॒रु॒ण॒पा॒शादे॒व निर्मु॑च्यते । अप्र॑तीक्ष॒मा य॑न्ति । वरु॑णस्या॒न्तऱ्हि॑त्यै । एधोऽष्येधिषी॒महीत्या॑ह । स॒मिधै॒वाग्निन्न॑म॒स्यन्त॑ उ॒पाय॑न्ति । तेजो॑ऽसि॒ तेजो॒ मयि॑ धे॒हीत्या॑ह । तेज॑ ए॒वात्मन्ध॑त्ते ।।  ।। दे॒वा॒सु॒रास्सय्यँ॑त्ता आसन्न् । सोऽग्निर॑ब्रवीत् । ममे॒यमनी॑कवती त॒नूः । तां प्री॑णीत । अथासु॑रान॒भि भ॑विष्य॒थेति॑ । ते दे॒वा अ॒ग्नयेऽनी॑कवते पुरो॒डाश॑म॒ष्टाक॑पाल॒न्निर॑वपन्न् । सोऽग्निरनी॑कवा॒न्थ्स्वेन॑ भाग॒धेये॑न प्री॒तः । च॒तु॒र्धाऽनी॑कान्यजनयत । ततो॑ दे॒वा अभ॑वन्न् । पराऽसु॑राः ।।  ।। यद॒ग्नयेऽनी॑कवते पुरो॒डाश॑म॒ष्टाक॑पालन्नि॒र्वप॑ति । अ॒ग्निमे॒वानी॑कवन्त॒॒ स्वेन॑ भाग॒धेये॑न प्रीणाति । सोऽग्निरनी॑कवा॒न्थ्स्वेन॑ भाग॒धेये॑न प्री॒तः । च॒तु॒र्धाऽनी॑कानि जनयते । अ॒सौ वा आ॑दि॒त्योऽग्निरनी॑कवान् । तस्य॑ र॒श्मयोऽनी॑कानि । सा॒क सूर्ये॑णोद्य॒ता निर्व॑पति । सा॒क्षादे॒वास्मा॒ अनी॑कानि जनयति । तेऽसु॑राः॒ परा॑जिता॒ यन्तः॑ । द्यावा॑पृथि॒वी उपाश्रयन्न् ।।  ।। आशि॑ता ए॒वाद्योप॑वसाम । कस्य॒ वाऽहे॒दम् । कस्य॑ वा॒ श्वो भ॑वि॒तेति॑ । स शृ॒तो॑ऽभवत् । तस्याहु॑तस्य॒ नाश्ञन्न्॑ । न हि दे॒वा अहु॑तस्या॒श्ञन्ति॑ । तेऽब्रुवन्न् । कस्मा॑ इ॒म होष्याम॒ इति॑ । म॒रुद्भ्यो॑ गृहमे॒धिभ्य॒ इत्य॑ब्रुवन्न् । तं म॒रुद्भ्यो॑ गृहमे॒धिभ्यो॑ऽजुहवुः ।।  ।। ततो॑ दे॒वा अभ॑वन्न् । पराऽसु॑राः । यस्यै॒वव्विँ॒दुषो॑ म॒रुद्भ्यो॑ गृहमे॒धिभ्यो॑ गृ॒हे जुह्व॑ति । भव॑त्या॒त्मना । पराऽस्य॒ भ्रातृ॑व्यो भवति । यद्वै य॒ज्ञस्य॑ पाक॒त्रा क्रि॒यते । प॒श॒व्य॑न्तत् । पा॒क॒त्रा वा ए॒तत्क्रि॑यते । यन्नेध्माब॒र्॒हिर्भव॑ति । न सा॑मिधे॒नीर॒न्वाह॑ ।।  ।। न प्र॑या॒जा इ॒ज्यन्ते । नानू॑या॒जाः । य ए॒वव्वेँद॑ । प॒शु॒मान्भ॑वति । आज्य॑भागौ यजति । य॒ज्ञस्यै॒व चक्षु॑षी॒ नान्तरे॑ति । म॒रुतो॑ गृहमे॒धिनो॑ यजति । भा॒ग॒धेये॑नै॒वैना॒न्थ्सम॑र्धयति । अ॒ग्निस्वि॑ष्ट॒कृत॑य्यँजति॒ प्रति॑ष्ठित्यै । इडान्तो भवति । प॒शवो॒ वा इडा । प॒शुष्वे॒वोपरि॑ष्टा॒त्प्रति॑तिष्ठति ।।  ।। यत्पत्नी॑ गृहमे॒धीय॑स्याश्ञी॒यात् । गृ॒ह॒मे॒ध्ये॑व स्यात् । वि त्व॑स्य य॒ज्ञ ऋ॑ध्येत । यन्नाश्ञी॒यात् । अगृ॑हमेधी स्यात् । नास्य॑ य॒ज्ञो व्यृ॑द्ध्येत । प्रति॑वेशं पचेयुः । तस्याश्ञीयात् । गृ॒ह॒मे॒ध्ये॑व भ॑वति । नास्य॑ य॒ज्ञो व्यृ॑द्ध्यते ।।  ।। ते दे॒वा गृ॑हमे॒धीये॑ने॒ष्ट्वा । आशि॑ता अभवन्न् । आञ्ज॑ता॒भ्य॑ञ्जत । अनु॑ व॒थ्सान॑वासयन्न् । तेभ्योऽसु॑राः॒ ख्षुधं॒ प्राहि॑ण्वन्न् । सा दे॒वेषु॑ लो॒कमवि॑त्वा । असु॑रा॒न्पुन॑रगच्छत् । गृ॒ह॒मे॒धीये॑ने॒ष्ट्वा । आशि॑ता भवन्ति । आञ्ज॑ते॒ऽभ्य॑ञ्जते ।।  ।। भा॒ग॒धेये॑नै॒वैन॒॒ सम॑र्धयति । ऋ॒ष॒भमाह्व॑यति । व॒ष॒ट्का॒र ए॒वास्य॒ सः । अथो॑ इन्द्रि॒यमे॒व तद्वी॒र्यँ॑य्यज॑मानो॒ भ्रातृव्य॑स्य वृङ्क्ते । इन्द्रो॑ वृ॒त्र ह॒त्वा । परां परा॒वत॑मगच्छत् । अपा॑राध॒मिति॒ मन्य॑मानः । सोऽब्रवीत् । क इ॒दव्वे॑दिँष्य॒तीति॑ । तेऽब्रुवन्म॒रुतो॒ वर॑व्वृँणामहै ।।  ।। वै॒श्व॒दे॒वेन॒ वै प्र॒जाप॑तिः प्र॒जा अ॑सृजत । ता व॑रुणप्रघा॒सैर्व॑रुणपा॒शाद॑मुञ्चत् । सा॒क॒मे॒धै प्रत्य॑स्थापयत् । त्र्य॑म्बकै रु॒द्रन्नि॒रवा॑दयत । पि॒तृ॒य॒ज्ञेन॑ सुव॒र्गल्लोँ॒कम॑गमयत् । यद्वैश्वदे॒वेन॒ यज॑ते । प्र॒जा ए॒व तद्यज॑मानस्सृजते । ता व॑रुणप्रघा॒सैर्व॑रुणपा॒शान्मु॑ञ्चति । सा॒क॒मे॒धै प्रति॑ष्ठापयति । त्र्य॑म्बकै रु॒द्रन्नि॒रव॑दयते ।।  ।। स॒व्वँ॒थ्स॒रमे॒व प्री॑णाति । पि॒तृभ्यो॑ बऱ्हि॒षद्भ्यो॑ धा॒नाः । मासा॒ वै पि॒तरो॑ बऱ्हि॒षदः॑ । मासा॑ने॒व प्री॑णाति । यस्मि॒न्वा ऋ॒तौ पुरु॑ष प्र॒मीय॑ते । सोऽस्या॒मुष्मि॑ल्लोँ॒के भ॑वति । ब॒हु॒रू॒पा धा॒ना भ॑वन्ति । अ॒हो॒रा॒त्राणा॑म॒भिजि॑त्यै । पि॒तृभ्योऽग्निष्वा॒त्तेभ्यो॑ म॒न्थम् । अ॒र्ध॒मा॒सा वै पि॒तरोऽग्निष्वा॒त्ताः ।।  ।। अ॒र्ध॒मा॒साने॒व प्री॑णाति । अ॒भि॒वा॒न्या॑यै दु॒ग्धे भ॑वति । सा हि पि॑तृदेव॒त्य॑न्दु॒हे । यत्पू॒र्णम् । तन्म॑नु॒ष्या॑णाम् । उ॒प॒र्य॒र्धो दे॒वानाम् । अ॒र्ध पि॑तृ॒णाम् । अ॒र्ध उप॑मन्थति । अ॒र्धो हि पि॑तृ॒णाम् । एक॒योप॑मन्थति ।।  ।। एका॒ हि पि॑तृ॒णाम् । द॒क्षि॒णोप॑मन्थति । द॒क्षि॒णावृ॒द्धि पि॑तृ॒णाम् । अना॑र॒भ्योप॑मन्थति । तद्धि पि॒तॄन्गच्छ॑ति । इ॒मान्दिश॒व्वेँदि॒मुद्ध॑न्ति । उ॒भये॒ हि दे॒वाश्च॑ पि॒तर॑श्चे॒ज्यन्ते । चतु॑स्स्रक्तिर्भवति । सर्वा॒ ह्यनु॒ दिश॑ पि॒तरः॑ । अखा॑ता भवति ।।  ।। खा॒ता हि दे॒वानाम् । म॒ध्य॒तोऽग्निराधी॑यते । अ॒न्त॒तो हि दे॒वाना॑माधी॒यते । वऱ्षी॑यानि॒ध्म इ॒ध्माद्भ॑वति॒ व्यावृ॑त्त्यै । परि॑श्रयति । अ॒न्तऱ्हि॑तो॒ हि पि॑तृलो॒को म॑नुष्यलो॒कात् । यत्परु॑षि दि॒नम् । तद्दे॒वानाम् । यद॑न्त॒रा । तन्म॑नु॒ष्या॑णाम् ।।  ।। यथ्समू॑लम् । तत्पि॑तृ॒णाम् । समू॑लं ब॒र्॒हिर्भ॑वति॒ व्यावृ॑त्त्यै । द॒क्षि॒णा स्तृ॑णाति । द॒क्षि॒णावृ॒द्धि पि॑तृ॒णाम् । त्रि पर्ये॑ति । तृ॒तीये॒ वा इ॒तो लो॒के पि॒तरः॑ । ताने॒व प्री॑णाति । त्रि पुन॒ पर्ये॑ति । षट्थ्सं प॑द्यन्ते ।।  ।। षड्वा ऋ॒तवः॑ । ऋ॒तूने॒व प्री॑णाति । यत्प्र॑स्त॒रय्यँजु॑षा गृह्णी॒यात् । प्र॒मायु॑को॒ यज॑मानस्स्यात् । यन्न गृ॑ह्णी॒यात् । अ॒ना॒य॒त॒नस्स्यात् । तू॒ष्णीमे॒व न्य॑स्येत् । न प्र॒मायु॑को॒ भव॑ति । नाना॑यत॒नः । यत्त्रीन्प॑रि॒धीन्प॑रिद॒ध्यात् ।।  ।। मृ॒त्युना॒ यज॑मानं॒ परि॑गृह्णीयात् । यन्न प॑रिद॒ध्यात् । रक्षा॑सि य॒ज्ञ ह॑न्युः । द्वौ प॑रि॒धी परि॑दधाति । रक्ष॑सा॒मप॑हत्यै । अथो॑ मृ॒त्योरे॒व यज॑मान॒मुथ्सृ॑जति । यत्त्रीणि॑ त्रीणि ह॒वीष्यु॑दा॒हरे॑युः । त्रय॑स्त्रय एषा सा॒कं प्रमी॑येरन्न् । एकै॑कमनू॒चीनान्यु॒दाह॑रन्ति । एकै॑क ए॒वैषा॑म॒न्वञ्च॒ प्रमी॑यते । क॒शिपु॑ कशिप॒व्या॑य । उ॒प॒बऱ्ह॑णमुपबऱ्ह॒ण्या॑य । आञ्ज॑नमाञ्ज॒न्या॑य । अ॒भ्यञ्ज॑नमभ्यञ्ज॒न्या॑य । य॒था॒भा॒गमे॒वैनान्प्रीणाति ।।  ।। अ॒ग्नये॑ दे॒वेभ्य॑ पि॒तृभ्य॑स्समि॒ध्यमा॑ना॒यानु॑ ब्रू॒हीत्या॑ह । उ॒भये॒ हि दै॒वाश्च॑ पि॒तर॑श्चे॒ज्यन्ते । एका॒मन्वा॑ह । एका॒ हि पि॑तृ॒णाम् । त्रिरन्वा॑ह । त्रिऱ्हि दे॒वानाम् । आ॒घा॒रावाघा॑रयति । य॒ज्ञ॒प॒रुषो॒रन॑न्तरित्यै । नाऱ्षे॒यव्वृँ॑णीते । न होता॑रम् ।।  ।। यदा॑ऱ्षे॒यं वृ॑णी॒त । यद्धोता॑रम् । प्र॒मायु॑को॒ यज॑मानस्स्यात् । प्र॒मायु॑को॒ होता । तस्मा॒न्न वृ॑णीते । यज॑मानस्य॒ होतु॑र्गोपी॒थाय॑ । अप॑ बऱ्हिष प्रया॒जान् य॑जति । प्र॒जा वै ब॒र्॒हिः । प्र॒जा ए॒व मृ॒त्योरुथ्सृ॑जति । आज्य॑भागौ यजति ।।  ।। य॒ज्ञस्यै॒व चक्षु॑षी॒ नान्तरे॑ति । प्रा॒ची॒ना॒वी॒ती सोम॑य्यँजति । पि॒तृ॒दे॒व॒त्या॑ हि । ए॒षाऽऽहु॑तिः । पञ्च॒कृत्वोऽव॑ द्यति । पञ्च॒ ह्ये॑ता दे॒वताः । द्वे पु॑रोऽनुवा॒क्ये । या॒ज्या॑ दे॒वता॑ वषट्का॒रः । ता ए॒व प्री॑णाति । सन्त॑त॒मव॑ द्यति ।।  ।। आ स्व॒धेत्याश्रा॑वयति । अस्तु॑ स्व॒धेति॑ प्र॒त्याश्रा॑वयति । स्व॒धा नम॒ इति॒ वष॑ट्करोति । स्व॒धा॒का॒रो हि पि॑तृ॒णाम् । सोम॒मग्रे॑ यजति । सोम॑प्रयाजा॒ हि पि॒तरः॑ । सोमं॑ पितृ॒मन्त॑य्यँजति । स॒व्वँ॒थ्स॒रो वै सोम॑ पितृ॒मान् । स॒व्वँ॒थ्स॒रमे॒व तद्य॑जति । पि॒तॄन्ब॑ऱ्हि॒षदो॑ यजति ।।  ।। ये वै यज्वा॑नः । ते पि॒तरो॑ बऱ्हि॒षदः॑ । ताने॒व तद्य॑जति । पि॒तॄन॑ग्निष्वा॒त्तान् य॑जति । ये वा अय॑ज्वानो गृहमे॒धिनः॑ । ते पि॒तरोऽग्निष्वा॒त्ताः । ताने॒व तद्य॑जति । अ॒ग्निङ्क॑व्य॒वाह॑नय्यँजति । य ए॒व पि॑तृ॒णाम॒ग्निः । तमे॒व तद्य॑जति ।।  ।। अथो॒ यथा॒ऽग्नि स्वि॑ष्ट॒कृत॒य्यँज॑ति । ता॒दृगे॒व तत् । ए॒तत्ते॑ तत॒ ये च॒ त्वामन्विति॑ ति॒सृषु॑ स्र॒क्तीषु॒ निद॑धाति । तस्मा॒दा तृ॒तीया॒त्पुरु॑षा॒न्नाम॒ न गृ॑ह्णन्ति । ए॒ताव॑न्तो॒ हीज्यन्ते । अत्र॑ पितरो यथाभा॒गं म॑न्दध्व॒मित्या॑ह । ह्लीका॒ हि पि॒तरः॑ । उद॑ञ्चो॒ निष्क्रा॑मन्ति । ए॒षा वै म॑नु॒ष्या॑णा॒न्दिक् । स्वामे॒व तद्दिश॒मनु॒ निष्क्रा॑मन्ति ।।  ।। आ॒ह॒व॒नीय॒मुप॑तिष्ठन्ते । न्ये॑वास्मै॒ तद्ध्नु॑वते । यथ्स॒त्या॑हव॒नीये । अथा॒न्यत्र॒ चर॑न्ति । आतमि॑तो॒रुप॑तिष्ठन्ते । अ॒ग्निमे॒वोप॑द्र॒ष्टार॑ङ्कृ॒त्वा । पि॒तॄन्नि॒रव॑दयन्ते । अन्त॒व्वाँ ए॒ते प्रा॒णानाङ्गच्छन्ति । य आतमि॑तोरुप॒ तिष्ठ॑न्ते । सु॒स॒न्दृश॑न्त्वा व॒यमित्या॑ह ।।  ।। अथो॑ त॒र्पय॑त्ये॒व । तृप्य॑ति प्र॒जया॑ प॒शुभिः॑ । य ए॒वव्वेँद॑ । अप॑ बऱ्हिषावनूया॒जौ य॑जति । प्र॒जा वै ब॒र्॒हिः । प्र॒जा ए॒व मृ॒त्योरुथ्सृ॑जति । च॒तुर॑ प्रया॒जान् य॑जति । द्वाव॑नूया॒जौ । षट्थ्सं प॑द्यन्ते । षड्वा ऋ॒तवः॑ । ऋ॒तूने॒व प्री॑णाति । न पत्न्यन्वास्ते । न सय्याँ॑जयन्ति । यत्पत्न्य॒न्वासी॑त । यथ्स॑य्याँ॒जये॑युः । प्र॒मायु॑का स्यात् । तस्मा॒न्नान्वास्ते । न सय्याँ॑जयन्ति । पत्नि॑यै गोपी॒थाय॑ ।।  ।। प्र॒ति॒पू॒रु॒षमेक॑कपाला॒न्निर्व॑पति । जा॒ता ए॒व प्र॒जा रु॒द्रान्नि॒रव॑दयते । एक॒मति॑रिक्तम् । ज॒नि॒ष्यमा॑णा ए॒व प्र॒जा रु॒द्रान्नि॒रव॑दयते । एक॑कपाला भवन्ति । ए॒क॒धैव रु॒द्रन्नि॒रव॑दयते । नाभिघा॑रयति । यद॑भिघा॒रयेत् । अ॒न्त॒र॒व॒चा॒रिण॑ रु॒द्रङ्कु॑र्यात् । ए॒को॒ल्मु॒केन॑ यन्ति ।।  ।। न ग्रा॒म्यान्प॒शून् हि॒नस्ति॑ । नार॒ण्यान् । च॒तु॒ष्प॒थे जु॑होति । ए॒ष वा अ॑ग्नी॒नां पड्बी॑शो॒ नाम॑ । अ॒ग्नि॒वत्ये॒व जु॑होति । म॒ध्य॒मेन॑ प॒र्णेन॑ जुहोति । स्रुग्घ्ये॑षा । अथो॒ खलु॑ । अ॒न्त॒मेनै॒व हो॑त॒व्यम् । अ॒न्त॒त ए॒व रु॒द्रन्नि॒रव॑दयते ।।  ।। त्र्य॑म्बकय्यँजामह॒ इत्या॑ह । मृ॒त्योर्मु॑क्षीय॒ माऽमृता॒दिति॒ वावैतदा॑ह । उत्कि॑रन्ति । भग॑स्य लीफ्सन्ते । मूते॑कृ॒त्वाऽऽस॑जन्ति । यथा॒ जन॑य्यँ॒ते॑ऽव॒सङ्क॒रोति॑ । ता॒दृगे॒व तत् । ए॒ष ते॑ रुद्र भा॒ग इत्या॑ह नि॒रव॑त्त्यै । अप्र॑तीक्ष॒मा य॑न्ति । अ॒प परि॑षिञ्चति । रु॒द्रस्या॒न्तऱ्हि॑त्यै । प्र वा ए॒तेऽस्माल्लो॒काच्च्य॑वन्ते । ये त्र्य॑म्बकै॒श्चर॑न्ति । आ॒दि॒त्यञ्च॒रुं पुन॒रेत्य॒ निर्व॑पति । इ॒यव्वाँ अदि॑तिः । अ॒स्यामे॒व प्रति॑ तिष्ठन्ति ।।  ।। द्वा॒द॒श॒ग॒व सीर॒न्दक्षि॑णा॒ समृ॑द्ध्यै । दे॒वा॒सु॒रास्सय्यँ॑त्ता आसन्न् । ते दे॒वा अ॒ग्निम॑ब्रुवन्न् । त्वया॑ वी॒रेणासु॑रान॒भिभ॑वा॒मेति॑ । सोऽब्रवीत् । त्रे॒धाऽहमा॒त्मान॒व्विँक॑रिष्य॒ इति॑ । स त्रे॒धाऽऽत्मान॒व्व्यँ॑कुरुत । अ॒ग्निन्तृती॑यम् । रु॒द्रन्तृती॑यम् । वरु॑ण॒न्तृती॑यम् ।।  ।। सोऽब्रवीत् । क इ॒दन्तु॒रीय॒मिति॑ । अ॒हमितीन्द्रोऽब्रवीत् । सन्तु सृ॑जावहा॒ इति॑ । तौ सम॑सृजेताम् । स इन्द्र॑स्तु॒रीय॑मभवत् । यदिन्द्र॑स्तु॒रीय॒मभ॑वत् । तदि॑न्द्रतुरी॒यस्येन्द्रतुरीय॒त्वम् । ततो॒ वै दे॒वा व्य॑जयन्त । यदि॑न्द्रतुरी॒यन्नि॑रु॒प्यते॒ विजि॑त्यै ।।  ।। व॒हिनी॑ धे॒नुर्दक्षि॑णा । यद्व॒हिनी । तेनाग्ने॒यी । यद्गौः । तेन॑ रौ॒द्री । यद्धे॒नुः । तेनै॒न्द्री । यथ्स्त्री स॒ती दा॒न्ता । तेन॑ वारु॒णी समृ॑द्ध्यै । प्र॒जाप॑तिर्य॒ज्ञम॑सृजत ।।  ।। इन्द्रो॑ वृ॒त्र ह॒त्वा । असु॑रान्परा॒भाव्य॑ । नमु॑चिमासु॒रन्नाल॑भत । तश॒च्या॑ऽगृह्णात् । तौ सम॑लभेताम् । सोऽस्माद॒भिशु॑नतरोऽभवत् । सोऽब्रवीत् । स॒न्धा सन्द॑धावहै । अथ॒ त्वाऽव॑ स्रक्ष्यामि । न मा॒ शुष्के॑ण॒ नार्द्रेण॑ हनः ।।  ।। न दिवा॒ न नक्त॒मिति॑ । स ए॒तम॒पां फेन॑मसिञ्चत् । न वा ए॒ष शुष्को॒ नार्द्रो व्यु॑ष्टाऽऽसीत् । अनु॑दित॒स्सूर्यः॑ । न वा ए॒तद्दिवा॒ न नक्तम् । तस्यै॒तस्मि॑ल्लोँ॒के । अ॒पां फेने॑न॒ शिर॒ उद॑वर्तयत् । तदे॑न॒मन्व॑वर्तत । मित्र॑द्रु॒गति॑ ।। ।। स ए॒तान॑पामा॒र्गान॑जनयत् । तान॑जुहोत् । तैर्वै स रक्षा॒॒स्यपा॑हत । यद॑पामार्गहो॒मो भव॑ति । रक्ष॑सा॒मप॑हत्यै । ए॒को॒ल्मु॒केन॑ यन्ति । तद्धि रक्ष॑सां भाग॒धेयम् । इ॒मान्दिश॑य्यँन्ति । ए॒षा वै रक्ष॑सा॒न्दिक् । स्वाया॑मे॒व दि॒शि रक्षा॑सि हन्ति ।।  ।। वै॒ष्ण॒वन्त्रि॑कपा॒लम् । वी॒र्य॑व्वाँ अ॒ग्निः । वी॒र्य॑मिन्द्रः॑ । वी॒र्य॑व्विँष्णुः॑ । प्र॒जा ए॒व प्रजा॑ता वी॒र्ये प्रति॑ष्ठापयति । तस्मात्प्र॒जा वी॒र्या॑वतीः । वा॒म॒न ऋ॑ष॒भो व॒ही दख्षि॑णा । यद्व॒ही । तेनाग्ने॒यः । यदृ॑ष॒भः ।।  ।। तेनै॒न्द्रः । यद्वा॑म॒नः । तेन॑ वैष्ण॒वस्समृ॑द्ध्यै । अ॒ग्नी॒षो॒मीय॒मेका॑दशकपाल॒न्निर्व॑पति । इ॒न्द्रा॒सो॒मीय॒मेका॑दशकपालम् । सौ॒म्यञ्च॒रुम् । सोमो॒ वै रे॑तो॒धाः । अ॒ग्नि प्र॒जानां प्रजनयि॒ता । वृ॒द्धाना॒मिन्द्र॑ प्रदापयि॒ता । सोम॑ ए॒वास्मै॒ रेतो॒ दधा॑ति ।।  ।। अ॒ग्नि प्र॒जां प्रज॑नयति । वृ॒द्धामिन्द्र॒ प्रय॑च्छति । ब॒भ्रुर्दख्षि॑णा॒ समृ॑द्ध्यै । सो॒मा॒पौ॒ष्णञ्च॒रुन्निर्व॑पति । ऐ॒न्द्रा॒पौ॒ष्णञ्च॒रुम् । सोमो॒ वै रे॑तो॒धाः । पू॒षा प॑शू॒नां प्र॑जनयि॒ता । वृ॒द्धाना॒मिन्द्र॑ प्रदापयि॒ता । सोम॑ ए॒वास्मै॒ रेतो॒ दधा॑ति । पू॒षा प॒शून्प्रज॑नयति ।।  ।। प॒वित्र॒व्वैँ हिर॑ण्यम् । पु॒नात्ये॒वैनम् । ब॒हु वै रा॑ज॒न्योऽनृ॑तङ्करोति । उप॑ जा॒म्यै हर॑ते । जि॒नाति॑ ब्राह्म॒णम् । वद॒त्यनृ॑तम् । अनृ॑ते॒ खलु॒ वै क्रि॒यमा॑णे॒ वरु॑णो गृह्णाति । वा॒रु॒णय्यँ॑व॒मय॑ञ्च॒रुन्निर्व॑पति । व॒रु॒ण॒पा॒शादे॒वैनं॑ मुञ्चति । अश्वो॒ दख्षि॑णा । वा॒रु॒णो हि दे॒वत॒याऽश्व॒स्समृ॑द्ध्यै ।।  ।। यन्न प्र॑ति नि॒र्वपेत् । र॒त्निन॑ आ॒शिषोऽव॑रुन्धीरन्न् । प्रति॒निर्व॑पति । इन्द्रा॑य सु॒त्राम्णे॑ पुरो॒डाश॒मेका॑दशकपालम् । इन्द्रा॑याहो॒मुचे । आ॒शिष॑ ए॒वाव॑रुन्धे । अ॒यन्नो॒ राजा॑ वृत्र॒हा राजा॑ भू॒त्वा वृ॒त्रव्वँ॑ध्या॒दित्या॑ह । आ॒शिष॑मे॒वैतामा शास्ते । मै॒त्रा॒बा॒र्॒ह॒स्प॒त्यं भ॑वति । श्वे॒तायै श्वे॒तव॑थ्सायै दु॒ग्धे ।।  ।। दे॒व॒सु॒वामे॒तानि॑ ह॒वीषि॑ भवन्ति । ए॒ताव॑न्तो॒ वै दे॒वाना॑ स॒वाः । त ए॒वास्मै॑ स॒वान्प्रय॑च्छन्ति । त ए॑न सुवन्ते । अ॒ग्निरे॒वैन॑ङ्गृ॒हप॑तीना सुवते । सोमो॒ वन॒स्पती॑नाम् । रु॒द्र प॑शू॒नाम् । बृह॒स्पति॑र्वा॒चाम् । इन्द्रो ज्ये॒ष्ठानाम् । मि॒त्रस्स॒त्यानाम् ।।  ।। रा॒ष्ट्रमे॒व व॑र्च॒स्व्य॑कः । सूर्य॑त्वचस॒स्स्थेत्या॑ह । स॒त्यव्वाँ ए॒तत् । यद्वऱ्ष॑ति । अनृ॑त॒य्यँदा॒तप॑ति॒ वऱ्ष॑ति । स॒त्या॒नृ॒ते ए॒वाव॑रुन्धे । नैन॑ सत्यानृ॒ते उ॑दि॒ते हि॑स्तः । य ए॒वव्वेँद॑ । मान्दा॒स्स्थेत्या॑ह । रा॒ष्ट्रमे॒व ब्र॑ह्मवर्च॒स्य॑कः ।।  ।। रा॒ष्ट्रमे॒व ते॑ज॒स्व्य॑कः । अ॒पामोष॑धीना॒॒ रस॒स्स्थेत्या॑ह । रा॒ष्ट्रमे॒व म॑ध॒व्य॑मकः । सा॒र॒स्व॒तङ्ग्रह॑ङ्गृह्णाति । ए॒षा वा अ॒पाम्पृ॒ष्ठम् । यथ्सर॑स्वती । पृ॒ष्ठमे॒वैन॑ समा॒नानाङ्करोति । षो॒ड॒शभि॑र्गृह्णाति । षोड॑शकलो॒ वै पुरु॑षः । यावा॑ने॒व पुरु॑षः । तस्मि॑न्वी॒र्य॑न्दधाति । षो॒ड॒शभि॑र्जु॒होति॑ षोड॒शभि॑र्गृह्णाति । द्वात्रि॑श॒थ्संप॑द्यन्ते । द्वात्रि॑शदक्षराऽनु॒ष्टुक् । वाग॑नु॒ष्टुफ्सर्वा॑णि॒ छन्दा॑सि । वा॒चैवैन॒॒ सर्वे॑भि॒श्छन्दो॑भिर॒भिषि॑ञ्चति ।।  ।। श॒तमा॑नं भवति । श॒तायु॒ पुरु॑षश्श॒तेन्द्रि॑यः । आयु॑ष्ये॒वेन्द्रि॒ये प्रति॑तिष्ठति । अनि॑भृष्टम॒सीत्या॑ह । अनि॑भृष्ट॒॒ ह्ये॑तत् । वा॒चो बन्धु॒रित्या॑ह । वा॒चो ह्ये॑ष बन्धुः॑ । त॒पो॒जा इत्या॑ह । त॒पो॒जा ह्ये॑तत् । सोम॑स्य दा॒त्रम॒सीत्या॑ह ।।  ।। सोम॑स्य॒ ह्ये॑तद्दा॒त्रम् । शु॒क्रा व॑श्शु॒क्रेणोत्पु॑ना॒मीत्या॑ह । शु॒क्रा ह्यापः॑ । शु॒क्र हिर॑ण्यम् । च॒न्द्राश्च॒न्द्रेणेत्या॑ह । च॒न्द्रा ह्यापः॑ । च॒न्द्र हिर॑ण्यम् । अ॒मृता॑ अ॒मृते॒नेत्या॑ह । अ॒मृता॒ ह्यापः॑ । अ॒मृत॒॒ हिर॑ण्यम् ।।  ।। स्वाहा॑ राज॒सूया॒येत्या॑ह । रा॒ज॒सूया॑य॒ ह्ये॑ना उत्पु॒नाति॑ । स॒ध॒मादो द्यु॒म्निनी॒रूर्ज॑ ए॒ता इति॑ वारु॒ण्यर्चा गृ॑ह्णाति । व॒रु॒ण॒स॒वमे॒वाव॑रुन्धे । एक॑या गृह्णाति । ए॒क॒धैव यज॑माने वी॒र्य॑न्दधाति । ख्ष॒त्त्रस्योल्ब॑मसि ख्ष॒त्त्रस्य॒ योनि॑र॒सीति॑ ता॒र्प्यञ्चो॒ष्णीष॑ञ्च॒ प्रय॑च्छति सयोनि॒त्वाय॑ । एक॑शतेन दर्भपुञ्जी॒लै प॑वयति । श॒तायु॒र्वै पुरु॑षश्श॒तवीर्यः । आ॒त्मैक॑श॒तः ।।  ।। यावा॑ने॒व पुरु॑षः । तस्मि॑न्वी॒र्य॑न्दधाति । दध्या॑शयति । इ॒न्द्रि॒यमे॒वाव॑ रुन्धे । उ॒दु॒म्बर॑माशयति । अ॒न्नाद्य॒स्याव॑रुद्ध्यै । शष्पाण्याशयति । सुरा॑बलिमे॒वैन॑ङ्करोति । आ॒विद॑ ए॒ता भ॑वन्ति । आ॒विद॑मे॒वैन॑ङ्गमयन्ति ।।  ।। दिशो॒ व्यास्था॑पयति । दि॒शाम॒भिजि॑त्त्यै । यद॑नु प्र॒क्रामेत् । अ॒भि दिशो॑ जयेत् । उत्तु माद्येत् । मन॒साऽनु॒ प्रक्रा॑मति । अ॒भि दिशो॑ जयति । नोन्माद्यति । स॒मिध॒मा ति॒ष्ठेत्या॑ह । तेज॑ ए॒वाव॑रुन्धे ।।  ।। मा॒रु॒त ए॒ष भ॑वति । अन्न॒व्वैँ म॒रुतः॑ । अन्न॑मे॒वाव॑रुन्धे । एक॑विशतिकपालो भवति॒ प्रति॑ष्ठित्यै । यो॑ऽरण्येऽनुवा॒क्यो॑ ग॒णः । तं म॑ध्य॒त उप॑दधाति । ग्रा॒म्यैरे॒व प॒शुभि॑रार॒ण्यान्प॒शून्परि॑ गृह्णाति । तस्माद्ग्रा॒म्यै प॒शुभि॑रार॒ण्या प॒शव॒ परि॑गृहीताः । पृथि॑र्वै॒न्यः । अ॒भ्य॑षिच्यत ।।  ।। स रा॒ष्ट्रन्नाभ॑वत् । स ए॒तानि॑ पा॒र्थान्य॑पश्यत् । तान्य॑जुहोत् । तैर्वै स रा॒ष्ट्रम॑भवत् । यत्पा॒र्थानि॑ जु॒होति॑ । रा॒ष्ट्रमे॒व भ॑वति । बा॒र्॒ह॒स्प॒त्यं पूर्वे॑षामुत्त॒मं भ॑वति । ऐ॒न्द्रमुत्त॑रेषां प्रथ॒मम् । ब्रह्म॑ चै॒वास्मै ख्ष॒त्त्रञ्च॑ स॒मीची॑ दधाति । अथो॒ ब्रह्म॑न्ने॒व ख्ष॒त्त्रं प्रति॑ष्ठापयति ।।  ।। श॒तायु॒ पुरु॑षश्श॒तेन्द्रि॑यः । आयु॑ष्ये॒वेन्द्रि॒ये प्रति॑तिष्ठति । दि॒द्योन्मा॑ पा॒हीत्यु॒परि॑ष्टा॒दधि॒ निद॑धाति । उ॒भ॒यत॑ ए॒वास्मै॒ शर्म॑ दधाति । अवेष्टा दन्द॒शूका॒ इति॑ क्ली॒ब सीसे॑न विध्यति । द॒न्द॒शूका॑ने॒वाव॑यजते । तस्मात्क्ली॒बन्द॑न्द॒शूका॒ दशु॑काः । निर॑स्त॒न्नमु॑चे॒श्शिर॒ इति॑ लोहिताय॒सन्निर॑स्यति । पा॒प्मान॑मे॒व नमु॑चिन्नि॒रव॑दयते । प्रा॒णा आ॒त्मन॒ पूर्वे॑ऽभि॒षिच्या॒ इत्या॑हुः ।।  ।। सोमो॒ राजा॒ वरु॑णः । दै॒वा ध॑र्म॒सुव॑श्च॒ ये । ते ते॒ वाच॑ सुवन्ता॒न्ते ते प्रा॒ण सु॑वन्ता॒मित्या॑ह । प्रा॒णाने॒वात्मन॒ पूर्वा॑न॒भिषि॑ञ्चति । यद्ब्रू॒यात् । अ॒ग्नेस्त्वा॒ तेज॑सा॒ऽभिषि॑ञ्चा॒मीति॑ । ते॒ज॒स्व्ये॑व स्यात् । दु॒श्चर्मा॒ तु भ॑वेत् । सोम॑स्य त्वा द्यु॒म्नेना॒भिषि॑ञ्चा॒मीत्या॑ह । सौ॒म्यो वै दे॒वत॑या॒ पुरु॑षः ।।  ।। ओज॑ ए॒वास्मि॑न्दधाति । ख्ष॒त्त्राणाङ्ख्ष॒त्त्रप॑तिर॒सीत्या॑ह । ख्ष॒त्त्राणा॑मे॒वैन॑ङ्ख्ष॒त्त्रप॑तिङ्करोति । अति॑ दि॒वस्पा॒हीत्या॑ह । अत्य॒न्यान्पा॒हीति॒ वावैतदा॑ह । स॒माव॑वृत्रन्नध॒रागुदी॑ची॒रित्या॑ह । रा॒ष्ट्रमे॒वास्मि॑न्ध्रु॒वम॑कः । उ॒च्छेष॑णेन जुहोति । उ॒च्छेष॑णभागो॒ वै रु॒द्रः । भा॒ग॒धेये॑नै॒व रु॒द्रन्नि॒रव॑दयते ।।  ।। उद॑ङ्प॒रेत्याग्नीद्ध्रे जुहोति । ए॒षा वै रु॒द्रस्य॒ दिक् । स्वाया॑मे॒व दि॒शि रु॒द्रन्नि॒रव॑दयते । रुद्र॒ यत्ते॒ क्रयी॒ पर॒न्नामेत्या॑ह । यद्वा अ॑स्य॒ क्रयी॒ पर॒न्नाम॑ । तेन॒ वा ए॒ष हि॑नस्ति । य हि॒नस्ति॑ । तेनै॒वैन॑ स॒ह श॑मयति । तस्मै॑ हु॒तम॑सि य॒मेष्ट॑म॒सीत्या॑ह । य॒मादे॒वास्य॑ मृ॒त्युमव॑यजते ।।  ।। षड्वा ऋ॒तवः॑ । ऋ॒तुभि॑रे॒वैन॑य्युँनक्ति । वि॒ष्णु॒क्र॒मान्क्र॑मते । विष्णु॑रे॒व भू॒त्वेमाल्लोँ॒कान॒भिज॑यति । यः ख्ष॒त्रिय॒ प्रति॑हितः । सोऽन्वार॑भते । रा॒ष्ट्रमे॒व भ॑वति । त्रि॒ष्टुभा॒ऽन्वार॑भते । इ॒न्द्रि॒यव्वैँ त्रि॒ष्टुक् । इ॒न्द्रि॒यमे॒व यज॑माने दधाति ।।  ।। म॒रुतां प्रस॒वे जे॑ष॒मित्या॑ह । म॒रुद्भि॑रे॒व प्रसू॑त॒ उज्ज॑यति । आ॒प्तं मन॒ इत्या॑ह । यदे॒व मन॒सैफ्सीत् । तदा॑पत् । रा॒ज॒न्य॑ञ्जिनाति । अनाक्रान्त ए॒वाक्र॑मते । वि वा ए॒ष इ॑न्द्रि॒येण॑ वी॒र्ये॑णर्ध्यते । यो रा॑ज॒न्य॑ञ्जि॒नाति॑ । सम॒हमि॑न्द्रि॒येण॑ वी॒र्ये॑णेत्या॑ह ।।  ।। इ॒न्द्रि॒यमे॒व वी॒र्य॑मा॒त्मन्ध॑त्ते । प॒शू॒नां म॒न्युर॑सि॒ तवे॑व मे म॒न्युर्भू॑या॒दिति॒ वारा॑ही उपा॒नहा॒वुप॑ मुञ्चते । प॒शू॒नाव्वाँ ए॒ष म॒न्युः । यद्व॑रा॒हः । तेनै॒व प॑शू॒नां म॒न्युमा॒त्मन्ध॑त्ते । अ॒भि वा इ॒य सु॑षुवा॒णङ्का॑मयते । तस्येश्व॒रेन्द्रि॒यव्वीँ॒र्य॑मादा॑तोः । वारा॑ही उपा॒नहा॒वुप॑मुञ्चते । अ॒स्या ए॒वान्तर्ध॑त्ते । इ॒न्द्रि॒यस्य॑ वी॒र्य॑स्यानात्यै ।।  ।। त्रयोऽश्वा॑ भवन्ति । रथ॑श्चतु॒र्थः । तस्माच्च॒तुर्जु॑होति । यदु॒भौ स॒हाव॒तिष्ठे॑ताम् । स॒मा॒नल्लोँ॒कमि॑याताम् । स॒ह स॑ङ्ग्रही॒त्रा र॑थ॒वाह॑ने॒ रथ॒माद॑धाति । सु॒व॒र्गादे॒वैन॑ल्लोँ॒काद॒न्तर्द॑धाति । ह॒॒सश्शु॑चि॒षदित्याद॑धाति । ब्रह्म॑णै॒वैन॑मुपाव॒हर॑ति । ब्रह्म॒णाऽऽद॑धाति । अति॑च्छन्द॒साऽऽद॑धाति । अति॑च्छन्दा॒ वै सर्वा॑णि॒ छन्दा॑सि । सर्वे॑भिरे॒वैन॒ञ्छन्दो॑भि॒राद॑धाति । वर्ष्म॒ वा ए॒षा छन्द॑साम् । यदति॑च्छन्दाः । यदति॑च्छन्दसा॒ दधा॑ति । वर्ष्मै॒वैन॑ समा॒नानाङ्करोति ।।  ।। मि॒त्रो॑ऽसि सु॒शेव॒ इत्या॑ह । जग॑तीमे॒वैतेना॑भि॒ व्याह॑रति । स॒त्यमे॒ता दे॒वताः । स॒त्यमे॒तानि॒ छन्दा॑सि । स॒त्यमे॒वाव॑रुन्धे । वरु॑णोऽसि स॒त्यध॒र्मेत्या॑ह । अ॒नु॒ष्टुभ॑मे॒वैतेना॑भि॒ व्याह॑रति । स॒त्या॒नृ॒ते वा अ॑नु॒ष्टुप् । स॒त्या॒नृ॒ते वरु॑णः । स॒त्या॒नृ॒ते ए॒वाव॑रुन्धे ।।  ।। नैन॑ सत्यानृ॒ते उ॑दि॒ते हि॑स्तः । य ए॒वव्वेँद॑ । इन्द्र॑स्य॒ वज्रो॑ऽसि॒ वार्त्र॑घ्न॒ इति॒ स्फ्यं प्रय॑च्छति । वज्रो॒ वै स्फ्यः । वज्रे॑णै॒वास्मा॑ अवरप॒र र॑न्धयति । ए॒व हि तच्छ्रेयः॑ । यद॑स्मा ए॒ते रध्ये॑युः । दिशो॒ऽभ्य॑य राजा॑ऽभू॒दिति॒ पञ्चा॒क्षान्प्रय॑च्छति । ए॒ते वै सर्वेऽयाः । अप॑राजायिनमे॒वैन॑ङ्करोति ।।  ।। जा॒मि वा ए॒तत्कु॑र्वन्ति । यथ्स॒द्यो दी॒ख्षय॑न्ति स॒द्यस्सोम॑ङ्क्री॒णन्ति॑ । पु॒ण्ड॒रि॒स्र॒जां प्रय॑च्छ॒त्यजा॑मित्वाय । अङ्गि॑रसस्सुव॒र्गल्लोँ॒कय्यँन्तः॑ । अ॒फ्सु दीख्षात॒पसी॒ प्रावे॑शयन्न् । तत्पु॒ण्डरी॑कमभवत् । यत्पु॑ण्डरिस्र॒जां प्र॒यच्छ॑ति । सा॒ख्षादे॒व दीख्षात॒पसी॒ अव॑रुन्धे । द॒शभि॑र्वथ्सत॒रैस्सोम॑ङ्क्रीणाति । दशाख्षरा वि॒राट् ।।  ।। अन्न॑व्विँ॒राट् । वि॒राजै॒वान्नाद्य॒मव॑ रुन्धे । मु॒ष्क॒रा भ॑वन्ति सेन्द्र॒त्वाय॑ । द॒श॒पेयो॑ भवति । अ॒न्नाद्य॒स्याव॑रुद्ध्यै । श॒तं ब्राह्म॒णा पि॑बन्ति । श॒तायु॒ पुरु॑षश्श॒तेन्द्रि॑यः । आयु॑ष्ये॒वेन्द्रि॒ये प्रति॑तिष्ठति । स॒प्त॒द॒श स्तो॒त्रं भ॑वति । स॒प्त॒द॒श प्र॒जाप॑तिः ।।  ।। प्र॒जाप॑ते॒राप्त्यै । प्रा॒का॒शाव॑ध्व॒र्यवे॑ ददाति । प्र॒का॒शमे॒वैन॑ङ्गमयति । स्रज॑मुद्गा॒त्रे । व्ये॑वास्मै॑ वासयति । रु॒क्म होत्रे । आ॒दि॒त्यमे॒वास्मा॒ उन्न॑यति । अश्वं॑ प्रस्तोतृप्रतिह॒र्तृभ्याम् । प्रा॒जा॒प॒त्यो वा अश्वः॑ । प्र॒जाप॑ते॒राप्त्यै ।।  ।। द्वाद॑श पष्ठौ॒हीर्ब्र॒ह्मणे । आयु॑रे॒वाव॑रुन्धे । व॒शां मैत्रावरु॒णाय॑ । रा॒ष्ट्रमे॒व व॒श्य॑कः । ऋ॒ष॒भं ब्राह्मणाच्छ॒॒सिने । रा॒ष्ट्रमे॒वेन्द्रि॑या॒व्य॑कः । वास॑सी नेष्टापो॒तृभ्याम् । प॒वित्रे॑ ए॒वास्यै॒ते । स्थूरि॑ यवाचि॒तम॑च्छावा॒काय॑ । अ॒न्त॒त ए॒व वरु॑ण॒मव॑ यजते ।।  ।। अ॒नड्वाह॑म॒ग्नीधे । वह्नि॒र्वा अ॑न॒ड्वान् । वह्नि॑र॒ग्नीत् । वह्नि॑नै॒व वह्नि॑ य॒ज्ञस्याव॑रुन्धे । इन्द्र॑स्य सुषुवा॒णस्य॑ त्रे॒धेन्द्रि॒यव्वीँ॒र्यं॑ परा॑ऽपतत् । भृगु॒स्तृती॑यमभवत् । श्रा॒य॒न्तीय॒न्तृती॑यम् । सर॑स्वती॒ तृती॑यम् । भा॒र्ग॒वो होता॑ भवति । श्रा॒य॒न्तीयं॑ ब्रह्मसा॒मं भ॑वति । वा॒र॒व॒न्तीय॑मग्निष्टोमसा॒मम् । सा॒र॒स्व॒तीर॒पो गृ॑ह्णाति । इ॒न्द्रि॒यस्य॑ वी॒र्य॑स्याव॑रुद्ध्यै । श्रा॒य॒न्तीयं॑ ब्रह्मसा॒मं भ॑वति । इ॒न्द्रि॒यमे॒वास्मि॑न्वी॒र्य॑ श्रयति । वा॒र॒व॒न्तीय॑मग्निष्टोमसा॒मम् । इ॒न्द्रि॒यमे॒वास्मि॑न्वी॒र्य॑व्वाँरयति ।।  ।। यद॒श्विभ्यां पू॒ष्णे पु॑रो॒डाश॒न्द्वाद॑शकपालन्नि॒र्वप॑ति । अनृ॑तेनै॒व भ्रातृ॑व्यानभि॒भूय॑ । वा॒चस्स॒त्यमव॑रुन्धे । सर॑स्वते सत्य॒वाचे॑ च॒रुम् । पूर्व॑मे॒वोदि॒तम् । उत्त॑रेणा॒भि गृ॑णाति । स॒वि॒त्रे स॒त्यप्र॑सवाय पुरो॒डाश॒न्द्वाद॑शकपालं॒ प्रसूत्यै । दू॒तान्प्रहि॑णोति । आ॒विद॑ ए॒ता भ॑वन्ति । आ॒विद॑मे॒वैन॑ङ्गमयन्ति । अथो॑ दू॒तेभ्य॑ ए॒व न छि॑द्यते । ति॒सृ॒ध॒न्व शु॑ष्कदृ॒तिर्दख्षि॑णा॒ समृ॑द्ध्यै ।।  ।। आ॒ग्ने॒यम॒ष्टाक॑पाल॒न्निर्व॑पति । तस्मा॒च्छिशि॑रे कुरुपञ्चा॒ला प्राञ्चो॑ यान्ति । सौ॒म्यञ्च॒रुम् । तस्माद्वस॒न्तव्व्यँ॑व॒साया॑दयन्ति । सा॒वि॒त्रन्द्वाद॑शकपालम् । तस्मात्पु॒रस्ता॒द्यवा॑ना सवि॒त्रा विरु॑न्धते । बा॒र्॒ह॒स्प॒त्यञ्च॒रुम् । स॒वि॒त्रैव वि॒रुध्य॑ । ब्रह्म॑णा॒ यवा॒नाद॑धते । त्वा॒ष्ट्रम॒ष्टाक॑पालम् ।।  ।। रू॒पाण्ये॒व तेन॑ कुर्वते । वै॒श्वा॒न॒रन्द्वाद॑शकपालम् । तस्माज्जघ॒न्ये॑ नैदा॑घे प्र॒त्यञ्च॑ कुरुपञ्चा॒ला यान्ति । सा॒र॒स्व॒तञ्च॒रुन्निर्व॑पति । तस्मात्प्रा॒वृषि॒ सर्वा॒ वाचो॑ वदन्ति । पौ॒ष्णेन॒ व्यव॑स्यन्ति । मै॒त्रेण॑ कृषन्ते । वा॒रु॒णेन॒ विधृ॑ता आसते । ख्षै॒त्र॒प॒त्येन॑ पाचयन्ते । आ॒दि॒त्येनाद॑धते ।।  ।। मा॒सिमास्ये॒तानि॑ ह॒वीषि॑ नि॒रुप्या॒णीत्या॑हुः । तेनै॒वर्तून्प्रयु॑ङ्क्त॒ इति॑ । अथो॒ खल्वा॑हुः । कस्स॑व्वँथ्स॒रञ्जी॑विष्य॒तीति॑ । षडे॒व पूर्वे॒द्युर्नि॒रुप्या॑णि । षडु॑त्तरे॒द्युः । तेनै॒वर्तून्प्रयु॑ङ्क्ते । दख्षि॑णो रथवाहनवा॒ह पूर्वे॑षा॒न्दख्षि॑णा । उत्त॑र॒ उत्त॑रेषाम् । स॒व्वँ॒थ्स॒रस्यै॒वान्तौ॑ युनक्ति । सु॒व॒र्गस्य॑ लो॒कस्य॒ सम॑ष्ट्यै ।।  ।। इन्द्र॑स्य सुषुवा॒णस्य॑ दश॒धेन्द्रि॒यव्वीँ॒र्यं॑ परा॑ऽपतत् । स यत्प्र॑थ॒मन्नि॒रष्ठी॑वत् । तत्क्व॑लमभवत् । यद्द्वि॒तीयम् । तद्बद॑रम् । यत्तृ॒तीयम् । तत्क॒र्कन्धु॑ । यन्न॒स्तः । स सि॒॒हः । यदख्ष्योः ।।  ।। स शार्दू॒लः । यत्कर्ण॑योः । स वृकः॑ । य ऊ॒र्ध्वः । स सोमः॑ । याऽवा॑ची । सा सुरा । त्र॒यास्सक्त॑वो भवन्ति । इ॒न्द्रि॒यस्याव॑रुद्ध्यै । त्र॒याणि॒ लोमा॑नि ।।  ।। त्विषि॑मे॒वाव॑रुन्धे । त्रयो॒ ग्रहाः । वी॒र्य॑मे॒वाव॑रुन्धे । नाम्ना॑ दश॒मी । नव॒ वै पुरु॑षे प्रा॒णाः । नाभि॑र्दश॒मी । प्रा॒णा इ॑न्द्रि॒यव्वीँ॒र्यम् । प्रा॒णाने॒वेन्द्रि॒यव्वीँ॒र्य॑य्यँज॑मान आ॒त्मन्ध॑त्ते । सीसे॑न क्ली॒बाच्छष्पा॑णि क्रीणाति । न वा ए॒तदयो॒ न हिर॑ण्यम् ।।  ।। यथ्सीसम् । न स्त्री न पुमान्॑ । यत्क्ली॒बः । न सोमो॒ न सुरा । यथ्सौत्राम॒णी समृ॑द्ध्यै । स्वा॒द्वीन्त्वा स्वा॒दुनेत्या॑ह । सोम॑मे॒वैनाङ्करोति । सोमोऽस्य॒श्विभ्यां पच्यस्व॒ सर॑स्वत्यै पच्य॒स्वेन्द्रा॑य सु॒त्राम्णे॑ पच्य॒स्वेत्या॑ह । ए॒ताभ्यो॒ ह्ये॑षा दे॒वताभ्य॒ पच्य॑ते । ति॒स्रस्ससृ॑ष्टा वसति ।।  ।। अनि॑रुक्त प्र॒जाप॑तिः । प्र॒जाप॑ते॒राप्त्यै । एक॑य॒र्चा गृ॑ह्णाति । ए॒क॒धैव यज॑माने वी॒र्य॑न्दधाति । आ॒श्वि॒नन्धू॒म्रमाल॑भते । अ॒श्विनौ॒ वै दे॒वानां भि॒षजौ । ताभ्या॑मे॒वास्मै॑ भेष॒जङ्क॑रोति । सा॒र॒स्व॒तं मे॒षम् । वाग्वै सर॑स्वती । वा॒चैवैनं॑ भिषज्यति । ऐ॒न्द्रमृ॑ष॒भ सेन्द्र॒त्वाय॑ ।।  ।। यत्त्रि॒षु यूपेष्वा॒लभे॑त । ब॒हि॒र्धाऽस्मा॑दिन्द्रि॒यव्वीँ॒र्य॑न्दध्यात् । भ्रातृ॑व्यमस्मै जनयेत् । ए॒क॒यू॒प आल॑भते । ए॒क॒धैवास्मि॑न्निन्द्रि॒यव्वीँ॒र्य॑न्दधाति । नास्मै॒ भ्रातृ॑व्यञ्जनयति । नैतेषां पशू॒नां पु॑रो॒डाशा॑ भवन्ति । ग्रह॑पुरोडाशा॒ ह्ये॑ते । यु॒व सु॒राम॑मश्वि॒नेति॑ सर्वदेव॒त्ये॑ याज्यानुवा॒क्ये॑ भवतः । सर्वा॑ ए॒व दे॒वता प्रीणाति ।।  ।। ब्रा॒ह्म॒णं परि॑क्रीणीयादु॒च्छेष॑णस्य पा॒तारम् । ब्रा॒ह्म॒णो ह्याहु॑त्या उ॒च्छेष॑णस्य पा॒ता । यदि॑ ब्राह्म॒णन्न वि॒न्देत् । व॒ल्मी॒क॒व॒पाया॒मव॑ नयेत् । सैव तत॒ प्राय॑श्चित्तिः । यद्वै सौत्राम॒ण्यै व्यृ॑द्धम् । तद॑स्यै॒ समृ॑द्धम् । ना॒ना॒दे॒व॒त्या प॒शव॑श्च पुरो॒डाशाश्च भवन्ति॒ समृ॑द्ध्यै । ऐ॒न्द्र प॑शू॒नामु॑त्त॒मो भ॑वति । ऐ॒न्द्र पु॑रो॒डाशा॑नां प्रथ॒मः ।।  ।। इ॒न्द्रि॒ये ए॒वास्मै॑ स॒मीची॑ दधाति । पु॒रस्ता॑दनूया॒जानां पुरो॒डाशै॒ प्रच॑रति । प॒शवो॒ वै पु॑रो॒डाशाः । प॒शूने॒वाव॑ रुन्धे । ऐ॒न्द्रमेका॑दशकपाल॒न्निर्व॑पति । इ॒न्द्रि॒यमे॒वाव॑ रुन्धे । सा॒वि॒त्रन्द्वाद॑शकपालं॒ प्रसूत्यै । वा॒रु॒णन्दश॑कपालम् । अ॒न्त॒त ए॒व वरु॑ण॒मव॑ यजते । वड॑बा॒ दख्षि॑णा ।।  ।। उ॒त वा ए॒षाऽश्व॑ सू॒ते । उ॒ताऽश्व॑त॒रम् । उ॒त सोम॑ उ॒त सुरा । यथ्सौत्राम॒णी समृ॑द्ध्यै । बा॒र्॒ह॒स्प॒त्यं प॒शुञ्च॑तु॒र्थम॑तिपवि॒तस्या ल॑भते । ब्रह्म॒ वै दे॒वानां॒ बृह॒स्पतिः॑ । ब्रह्म॑णै॒व य॒ज्ञस्य॒ व्यृ॑द्ध॒मपि॑ वपति । पु॒रो॒डाश॑वाने॒ष प॒शुर्भ॑वति । न ह्ये॑तस्य॒ ग्रह॑ङ्गृ॒ह्णन्ति॑ । सोम॑प्रतीका पितरस्तृप्णु॒तेति॑ शतातृ॒ण्णाया॑ स॒मव॑नयति ।।  ।। श॒तायु॒ पुरु॑षश्श॒तेन्द्रि॑यः । आयु॑ष्ये॒वेन्द्रि॒ये प्रति॑तिष्ठति । दख्षि॑णे॒ऽग्नौ जु॑होति । पा॒प॒व॒स्य॒सस्य॒ व्यावृ॑त्त्यै । हिर॑ण्यमन्त॒रा धा॑रयति । पू॒तामे॒वैनाञ्जुहोति । श॒तमा॑नं भवति । श॒तायु॒ पुरु॑षश्श॒तेन्द्रि॑यः । आयु॑ष्ये॒वेन्द्रि॒ये प्रति॑तिष्ठति । यत्रै॒व श॑तातृ॒ण्णान्धा॒रय॑ति ।।  ।। तन्निद॑धाति॒ प्रति॑ष्ठित्यै । पि॒तॄन् वा ए॒तस्येन्द्रि॒यव्वीँ॒र्य॑ङ्गच्छति । य सोमो॑ऽति॒ पव॑ते । पि॒तृ॒णाय्याँज्यानुवा॒क्या॑भि॒रुप॑ तिष्ठते । यदे॒वास्य॑ पि॒तॄनि॑न्द्रि॒यव्वीँ॒र्य॑ङ्गच्छ॑ति । तदे॒वाव॑ रुन्धे । ति॒सृभि॒रुप॑ तिष्ठते । तृ॒तीये॒ वा इ॒तो लो॒के पि॒तरः॑ । ताने॒व प्री॑णाति । अथो॒ त्रीणि॒ वै य॒ज्ञस्येन्द्रि॒याणि॑ । अ॒ध्व॒र्युर् होता ब्र॒ह्मा । त उप॑तिष्ठन्ते । यान्ये॒व य॒ज्ञस्येन्द्रि॒याणि॑ । तैरे॒वास्मै॑ भेष॒जङ्क॑रोति ।।  ।। ए॒तावा॒न् वै य॒ज्ञः । यावा॒न्पव॑मानाः । अ॒न्त॒श्श्लेष॑ण॒न्त्वा अ॒न्यत् । यथ्स॒मा पव॑मानाः । तेनाऽस॑शरः । तेन॑ यथापू॒र्वम् । आ॒त्मनै॒वाग्नि॑ष्टो॒मेन॒र्ध्नोति॑ । आ॒त्मना॒ पुण्यो॑ भवति । प्र॒जा वा उ॒क्थानि॑ । प॒शव॑ उ॒क्थानि॑ । यदु॒क्थ्यो॑ भव॒त्यनु॒ सन्त॑त्त्यै ।।  ।। उप॑ त्वा जा॒मयो॒ गिर॒ इति॑ प्रति॒पद्भ॑वति । वाग्वै वा॒युः । वा॒च ए॒वैषो॑ऽभिषे॒कः । सर्वा॑सामे॒व प्र॒जाना॑ सूयते । सर्वा॑ एनं प्र॒जा राजेति॑ वदन्ति । ए॒तमु॒ त्यन्दश॒ ख्षिप॒ इत्या॑ह । आ॒दि॒त्या वै प्र॒जाः । प्र॒जाना॑मे॒वैतेन॑ सूयते । यन्ति॒ वा ए॒ते य॑ज्ञमु॒खात् । ये स॑म्भा॒र्या॑ अक्रन्न्॑ ।।  ।। यदाह॒ पव॑स्व वा॒चो अ॑ग्रिय॒ इति॑ । तेनै॒व य॑ज्ञमु॒खान्नय॑न्ति । अ॒नु॒ष्टुक्प्र॑थ॒मा भ॑वति । अ॒नु॒ष्टुगु॑त्त॒मा । वाग्वा अ॑नु॒ष्टुक् । वा॒चैव प्र॒यन्ति॑ । वा॒चोद्य॑न्ति । उद्व॑तीर्भवन्ति । उद्व॒द्वा अ॑नु॒ष्टुभो॑ रू॒पम् । आनु॑ष्टुभो राज॒न्यः॑ ।।  ।। तस्मा॒दुद्व॑तीर्भवन्ति । सौ॒र्य॑नु॒ष्टुगु॑त्त॒मा भ॑वति । सु॒व॒र्गस्य॑ लो॒कस्य॒ सन्त॑त्यै । यो वै स॒वादेति॑ । नैन॑ स॒व उप॑नमति । यस्साम॑भ्य॒ एति॑ । पापी॑यान्थ्सुषुवा॒णो भ॑वति । ए॒तानि॒ खलु॒ वै सामा॑नि । यत्पृ॒ष्ठानि॑ । यत्पृ॒ष्ठानि॒ भव॑न्ति ।।  ।। इ॒यव्वैँ॒ र॑ज॒ता । अ॒सौ हरि॑णी । यद्रु॒क्मौ भव॑तः । आ॒भ्यामे॒वैन॑मुभ॒यत॒ परि॑ गृह्णाति । वरु॑णस्य॒ वा अ॑भिषि॒च्यमा॑न॒स्यापः॑ । इ॒न्द्रि॒यव्वीँ॒र्य॑न्निर॑घ्नन्न् । तथ्सु॒वर्ण॒॒ हिर॑ण्यमभवत् । यद्रु॒क्मम॑न्त॒र्दधा॑ति । इ॒न्द्रि॒यस्य॑ वी॒र्य॑स्यानि॑र्घाताय । श॒तमा॑नो भवति श॒तख्ष॑रः । श॒तायु॒ पुरु॑षश्श॒तेन्द्रि॑यः । आयु॑ष्ये॒वेन्द्रि॒ये प्रति॑तिष्ठति । आयु॒र्वै हिर॑ण्यम् । आ॒यु॒ष्या॑ ए॒वैन॑म॒भ्यति॑ ख्षरन्ति । तेजो॒ वै हिर॑ण्यम् । ते॒ज॒स्या॑ ए॒वैन॑म॒भ्यति॑ ख्षरन्ति । वर्चो॒ वै हिर॑ण्यम् । व॒र्च॒स्या॑ ए॒वैन॑म॒भ्यति॑ ख्षरन्ति ।।  ।। अप्र॑तिष्ठितो॒ वा ए॒ष इत्या॑हुः । यो रा॑ज॒सूये॑न॒ यज॑त॒ इति॑ । य॒दा वा ए॒ष ए॒तेन॑ द्विरा॒त्रेण॒ यज॑ते । अथ॑ प्रति॒ष्ठा । अथ॑ सव्वँथ्स॒रमाप्नोति । याव॑न्ति सव्वँथ्स॒रस्या॑होरा॒त्राणि॑ । ताव॑तीरे॒तस्य॑ स्तो॒त्रीयाः । अ॒हो॒रा॒त्रेष्वे॒व प्रति॑ तिष्ठति । अ॒ग्नि॒ष्टो॒म पूर्व॒मह॑र्भवति । अ॒ति॒रा॒त्र उत्त॑रम् ।।  ।। नानै॒वाहो॑रा॒त्रयो॒ प्रति॑ तिष्ठति । पौ॒र्ण॒मा॒स्यां पूर्व॒मह॑र्भवति । व्य॑ष्टकाया॒मुत्त॑रम् । नानै॒वार्ध॑मा॒सयो॒ प्रति॑तिष्ठति । अ॒मा॒वा॒स्या॑यां॒ पूर्व॒मह॑र्भवति । उद्दृ॑ष्ट॒ उत्त॑रम् । नानै॒व मास॑यो॒ प्रति॑तिष्ठति । अथो॒ खलु॑ । ये ए॒व स॑मानप॒ख्षे पु॑ण्या॒हे स्याताम् । तयो का॒र्यं॑ प्रति॑ष्ठित्यै ।।  ।। अ॒प॒श॒व्यो द्वि॑रा॒त्र इत्या॑हुः । द्वे ह्ये॑ते छन्द॑सी । गा॒य॒त्रञ्च॒ त्रैष्टु॑भञ्च । जग॑तीम॒न्तर्य॑न्ति । न तेन॒ जग॑ती कृ॒तेत्या॑हुः । यदे॑नान्तृतीयसव॒ने कु॒र्वन्तीति॑ । य॒दा वा ए॒षाऽहीन॒स्याह॒र्भज॑ते । सा॒ह्नस्य॑ वा॒ सव॑नम् । अथै॒व जग॑ती कृ॒ता । अथ॑ पश॒व्यः॑ । व्यु॑ष्टि॒र्वा ए॒ष द्वि॑रा॒त्रः । य ए॒वव्विँ॒द्वान्द्वि॑रा॒त्रेण॒ यज॑ते । व्ये॑वास्मा॑ उच्छति । अथो॒ तम॑ ए॒वाप॑ हते । अ॒ग्नि॒ष्टो॒मम॑न्त॒त आ ह॑रति । अ॒ग्निस्सर्वा॑ दे॒वताः । दे॒वतास्वे॒व प्रति॑ तिष्ठति ।।  ।। अङ्गि॑रसो॒ वै स॒त्त्रमा॑सत । तेषां॒ पृश़्ञि॑र्घर्म॒धुगा॑सीत् । सर्जी॒षेणा॑जीवत् । तेऽब्रुवन्न् । कस्मै॒ नु स॒त्रमास्महे । येऽस्या ओष॑धी॒र्न ज॒नया॑म॒ इति॑ । ते दि॒वो वृष्टि॑मसृजन्त । याव॑न्तस्स्तो॒का अ॒वाप॑द्यन्त । ताव॑ती॒रोष॑धयोऽजायन्त । ता जा॒ता पि॒तरो॑ वि॒षेणा॑लिम्पन्न् ।।  ।। तासाञ्ज॒ग्ध्वा रुप्य॒न्त्यैत् । तेऽब्रुवन्न् । क इ॒दमि॒त्थम॑क॒रिति॑ । व॒यं भा॑ग॒धेय॑मि॒च्छमा॑ना॒ इति॑ पि॒तरोऽब्रुवन्न् । किव्वोँ॑ भाग॒धेय॒मिति॑ । अ॒ग्नि॒हो॒त्र ए॒व नोऽप्य॒स्त्वित्य॑ब्रुवन्न् । तेभ्य॑ ए॒तद्भा॑ग॒धेयं॒ प्राय॑च्छन्न् । यद्धु॒त्वा नि॒मार्ष्टि॑ । ततो॒ वै त ओष॑धीरस्वदयन्न् । य ए॒वव्वेँद॑ ।।  ।। स्वद॑न्तेऽस्मा॒ ओष॑धयः । ते व॒थ्समु॒पावा॑सृजन्न् । इ॒दन्नो॑ ह॒व्यं प्रदा॑प॒येति॑ । सोऽब्रवी॒द्वरं॑ वृणै । दश॑ मा॒ रात्रीर्जा॒तन्न दो॑हन्न् । आ॒स॒ङ्ग॒वं मा॒त्रा स॒ह च॑रा॒णीति॑ । तस्माद्व॒थ्सञ्जा॒तन्दश॒ रात्री॒र्न दु॑हन्ति । आ॒स॒ङ्ग॒वं मा॒त्रा स॒ह च॑रति । वारे॑वृत॒॒ ह्य॑स्य । तस्माद्व॒थ्स स॑सृष्टध॒य रु॒द्रो घातु॑कः । अति॒ हि स॒न्धान्धय॑ति ।।  ।। तद्घृ॒तम॑भवत् । तस्मा॒द्यस्य॑ दख्षिण॒त केशा॒ उन्मृ॑ष्टाः । ताञ्ज्येष्ठल॒ख्ष्मी प्रा॑जाप॒त्येत्या॑हुः । यद्र॒राटा॑दु॒दमृ॑ष्ट । तस्माद्र॒राटे॒ केशा॒ न स॑न्ति । तद॒ग्नौ प्रागृ॑ह्णात् । तद्व्य॑चिकिथ्सत् । जु॒हवा॒नी ३ मा हौ॒षा ३ मिति॑ । तद्वि॑चिकि॒थ्सायै॒ जन्म॑ । य ए॒वव्विँ॒द्वान् वि॑चि॒किथ्स॑ति ।।  ।। भोगा॑यै॒वास्य॑ हु॒तं भ॑वति । तस्या॒ आहु॑त्यै॒ पुरु॑षमसृजत । द्वि॒तीय॑मजुहोत् । सोऽश्व॑मसृजत । तृ॒तीय॑मजुहोत् । स गाम॑सृजत । च॒तु॒र्थम॑जुहोत् । सोऽवि॑मसृजत । प॒ञ्च॒मम॑जुहोत् । सो॑ऽजाम॑सृजत ।।  ।। सोऽग्निर॑बिभेत् । आहु॑तीभि॒र्वै माऽऽप्नो॒तीति॑ । स प्र॒जाप॑तिं॒ पुन॒ प्रावि॑शत् । तं प्र॒जाप॑तिरब्रवीत् । जाय॒स्वेति॑ । सोऽब्रवीत् । किं भा॑ग॒धेय॑म॒भि ज॑निष्य॒ इति॑ । तुभ्य॑मे॒वेद हू॑याता॒ इत्य॑ब्रवीत् । स ए॒तद्भा॑ग॒धेय॑म॒भ्य॑जायत । यद॑ग्निहो॒त्रम् ।।  ।। तस्मा॑दग्निहो॒त्रमु॑च्यते । तद्धू॒यमा॑नमादि॒त्योऽब्रवीत् । मा हौ॑षीः । उ॒भयो॒र्वै ना॑वे॒तदिति॑ । सोऽग्निर॑ब्रवीत् । क॒थन्नौ॑ होष्य॒न्तीति॑ । सा॒यमे॒व तुभ्य॑ञ्जु॒हुवन्न्॑ । प्रा॒तर्मह्य॒मित्य॑ब्रवीत् । तस्मा॑द॒ग्नये॑ सा॒य हू॑यते । सूर्या॑य प्रा॒तः ।।  ।। आ॒ग्ने॒यी वै रात्रिः॑ । ऐ॒न्द्रमहः॑ । यदनु॑दिते॒ सूर्ये प्रा॒तर्जु॑हु॒यात् । उ॒भय॑मे॒वाग्ने॒य स्यात् । उदि॑ते॒ सूर्ये प्रा॒तर्जु॑होति । तथा॒ग्नये॑ सा॒य हू॑यते । सूर्या॑य प्रा॒तः । रात्रि॒व्वाँ अनु॑ प्र॒जा प्र जा॑यन्ते । अह्ना॒ प्रति॑ तिष्ठन्ति । यथ्सा॒यञ्जु॒होति॑ ।।  ।। प्रैव तेन॑ जायते । उदि॑ते॒ सूर्ये प्रा॒तर्जु॑होति । प्रत्ये॒व तेन॑ तिष्ठति । प्र॒जाप॑तिरकामयत॒ प्रजा॑ये॒येति॑ । स ए॒तद॑ग्निहो॒त्रं मि॑थु॒नम॑पश्यत् । तदुदि॑ते॒ सूर्ये॑ऽजुहोत् । यजु॑षा॒ऽन्यत् । तू॒ष्णीम॒न्यत् । ततो॒ वै स प्राजा॑यत । यस्यै॒वव्विँ॒दुष॒ उदि॑ते॒ सूर्येऽग्निहो॒त्रञ्जुह्व॑ति ।।  ।। प्रैव जा॑यते । अथो॒ यथा॒ दिवा प्रजा॒नन्नेति॑ । ता॒दृगे॒व तत् । अथो॒ खल्वा॑हुः । यस्य॒ वै द्वौ पुण्यौ॑ गृ॒हे वस॑तः । यस्तयो॑र॒न्य रा॒धय॑त्य॒न्यन्न । उ॒भौ वाव स तावृ॑च्छ॒तीति॑ । अ॒ग्निव्वाँवादि॒त्यस्सा॒यं प्र वि॑शति । तस्मा॑द॒ग्निर्दू॒रान्नक्त॑न्ददृशे । उ॒भे हि तेज॑सी सं॒ पद्ये॑ते ।।  ।। उ॒द्यन्त॒व्वाँवादि॒त्यम॒ग्निरनु॑ स॒मारो॑हति । तस्माद्धू॒म ए॒वाग्नेर्दिवा॑ ददृशे । यद॒ग्नये॑ सा॒यञ्जु॑हु॒यात् । आ सूर्या॑य वृश्च्येत । यथ्सूर्या॑य प्रा॒तर्जु॑हु॒यात् । आऽग्नये॑ वृश्च्येत । दे॒वताभ्यस्स॒मद॑न्दध्यात् । अ॒ग्निर्ज्योति॒र्ज्योति॒स्सूर्य॒स्स्वा हेत्ये॒व सा॒य हो॑त॒व्यम् । सूर्यो॒ ज्योति॒र्ज्योति॑र॒ग्निस्स्वाहेति॑ प्रा॒तः । तथो॒भाभ्या॑ सा॒य हू॑यते ।।  ।। रु॒द्रो वा ए॒षः । यद॒ग्निः । पत्नी स्था॒ली । यन्मध्ये॒ऽग्नेर॑धि॒श्रयेत् । रु॒द्राय॒ पत्नी॒मपि॑ दध्यात् । प्र॒मायु॑का स्यात् । उदी॒चोऽङ्गा॑रान्नि॒रूह्याधि॑ श्रयति । पत्नि॑यै गोपी॒थाय॑ । व्य॑न्तान्करोति । तथा॒ पत्न्यप्र॑मायुका भवति ।।  ।। घ॒र्मो वा ए॒षोऽशान्तः । अह॑रह॒ प्र वृ॑ज्यते । यद॑ग्निहो॒त्रम् । प्रति॑षिञ्चेत्प॒शुका॑मस्य । शा॒न्तमि॑व॒ हि प॑श॒व्यम् । न प्रति॑षिञ्चेद्ब्रह्मवर्च॒सका॑मस्य । समि॑द्धमिव॒ हि ब्र॑ह्मवर्च॒सम् । अथो॒ खलु॑ । प्र॒ति॒षिच्य॑मे॒व । यत्प्र॑तिषि॒ञ्चति॑ ।।  ।। तत्प॑श॒व्यम् । यज्जु॒होति॑ । तद्ब्र॑ह्मवर्च॒सि । उ॒भय॑मे॒वाकः॑ । प्रच्यु॑त॒व्वाँ ए॒तद॒स्माल्लो॒कात् । अग॑तन्देवलो॒कम् । यच्छृ॒त ह॒विरन॑भिघारितम् । अ॒भि द्यो॑तयति । अ॒भ्ये॑वैन॑द्घारयति । अथो॑ देव॒त्रैवैन॑द्गमयति ।।  ।। पर्य॑ग्नि करोति । रख्ष॑सा॒मप॑हत्यै । त्रि पर्य॑ग्नि करोति । त्र्या॑वृ॒द्धि य॒ज्ञः । अथो॑ मेध्य॒त्वाय॑ । यत्प्रा॒चीन॑मुद्वा॒सयेत् । यज॑मान शु॒चाऽर्प॑येत् । यद्द॑ख्षि॒णा । पि॒तृ॒दे॒व॒त्य॑ स्यात् । यत्प्र॒त्यक् ।।  ।। पत्नी॑ शु॒चाऽर्प॑येत् । उ॒दी॒चीन॒मुद्वा॑सयति । ए॒षा वै दे॑वमनु॒ष्याणा॑ शा॒न्ता दिक् । तामे॒वैन॒दनूद्वा॑सयति॒ शान्त्यै । वर्त्म॑ करोति । य॒ज्ञस्य॒ सन्त॑त्यै । निष्ट॑पति । उपै॒व तथ्स्तृ॑णाति । च॒तुरुन्न॑यति । चतु॑ष्पाद प॒शवः॑ ।।  ।। प॒शूने॒वाव॑रुन्धे । सर्वान्पू॒र्णानुन्न॑यति । सर्वे॒ हि पुण्या॑ रा॒द्धाः । अ॒नूच॒ उन्न॑यति । प्र॒जाया॑ अनूचीन॒त्वाय॑ । अ॒नूच्ये॒वास्य॑ प्र॒जाऽर्धु॑का भवति । संमृ॑शति॒ व्यावृ॑त्त्यै । नाहोष्य॒न्नुप॑ सादयेत् । यदहोष्यन्नुपसा॒दयेत् । यथा॒ऽन्यस्मा॑ उपनि॒धाय॑ ।।  ।। अ॒न्यस्मै प्र॒यच्छ॑ति । ता॒दृगे॒व तत् । आऽस्मै॑ वृश्च्येत । यदे॒व गाऱ्ह॑पत्येऽधि॒ श्रय॑ति । तेन॒ गाऱ्ह॑पत्यं प्रीणाति । अ॒ग्निर॑बिभेत् । आहु॑तयो॒ माऽत्येष्य॒न्तीति॑ । स ए॒ता स॒मिध॑मपश्यत् । तामाऽध॑त्त । ततो॒ वा अ॒ग्नावाहु॑तयोऽध्रियन्त ।।  ।। उ॒त्त॒राव॑तीँ॒व्वै दे॒वा आहु॑ति॒मजु॑हवुः । अवा॑ची॒मसु॑राः । ततो॑ दे॒वा अभ॑वन्न् । पराऽसु॑राः । यङ्का॒मये॑त॒ वसी॑यान्थ्स्या॒दिति॑ । कनी॑य॒स्तस्य॒ पूर्व॑ हु॒त्वा । उत्त॑रं॒ भूयो॑ जुहुयात् । ए॒षा वा उ॑त्त॒राव॒त्याहु॑तिः । तान्दे॒वा अ॑जुहवुः । तत॒स्ते॑ऽभवन्न् ।।  ।। यस्यै॒वञ्जुह्व॑ति । भव॑त्ये॒व । यङ्का॒मये॑त॒ पापी॑यान्थ्स्या॒दिति॑ । भूय॒स्तस्य॒ पूर्व॑ हु॒त्वा । उत्त॑र॒ङ्कनी॑यो जुहुयात् । ए॒षा वा अवा॒च्याहु॑तिः । तामसु॑रा अजुहवुः । तत॒स्ते परा॑ऽभवन्न् । यस्यै॒वञ्जुह्व॑ति । परै॒व भ॑वति ।।  ।। हु॒त्वोप॑ सादय॒त्यजा॑मित्वाय । अथो॒ व्यावृ॑त्त्यै । गाऱ्ह॑पत्यं॒ प्रतीख्षते । अन॑नुध्यायिनमे॒वैन॑ङ्करोति । अ॒ग्नि॒हो॒त्रस्य॒ वै स्था॒णुर॑स्ति । तय्यँ ऋ॒च्छेत् । य॒ज्ञ॒स्था॒णुमृ॑च्छेत् । ए॒ष वा अ॑ग्निहो॒त्रस्य॑ स्था॒णुः । यत्पूर्वाऽऽहु॑तिः । ताय्यँदुत्त॑रया॒ऽभि जु॑हु॒यात् ।।  ।। षट्थ्संप॑द्यन्ते । षड्वा ऋ॒तवः॑ । ऋ॒तूने॒व प्री॑णाति । ब्र॒ह्म॒वा॒दिनो॑ वदन्ति । कि॒न्दे॒व॒त्य॑मग्निहो॒त्रमिति॑ । वै॒श्व॒दे॒वमिति॑ ब्रूयात् । यद्यजु॑षा जु॒होति॑ । तदैन्द्रा॒ग्नम् । यत्तू॒ष्णीम् । तत्प्रा॑जाप॒त्यम् ।।  ।। यन्नि॒मार्ष्टि॑ । तदोष॑धीनाम् । यद्द्वि॒तीयम् । तत्पि॑तृ॒णाम् । यत्प्राश्ञा॑ति । तद्गर्भा॑णाम् । तस्मा॒द्गर्भा॒ अन॑श्ञन्तो वर्धन्ते । यदा॒चाम॑ति । तन्म॑नु॒ष्या॑णाम् । उद॑ङ्पर्या॒वृत्याचा॑मति ।।  ।। आ॒त्मनो॑ गोपी॒थाय॑ । निर्णे॑नेक्ति॒ शुद्ध्यै । निष्ट॑पति स्व॒गाकृ॑त्यै । उद्दि॑शति । स॒प्त॒र्॒षीने॒व प्री॑णाति । द॒ख्षि॒णा प॒र्याव॑र्तते । स्वमे॒व वी॒र्य॑मनु॑ प॒र्याव॑र्तते । तस्मा॒द्दख्षि॒णोऽर्ध॑ आ॒त्मनो॑ वी॒र्या॑वत्तरः । अथो॑ आदि॒त्यस्यै॒वावृत॒मनु॑ प॒र्याव॑र्तते । हु॒त्वोप॒ समि॑न्धे ।।  ।। ब्र॒ह्म॒व॒र्च॒सस्य॒ समि॑द्ध्यै । न ब॒र्॒हिरनु॒ प्र ह॑रेत् । अस॑स्थितो॒ वा ए॒ष य॒ज्ञः । यद॑ग्निहो॒त्रम् । यद॑नु प्र॒हरेत् । य॒ज्ञव्विँच्छि॑न्द्यात् । तस्मा॒न्नानु॑ प्र॒हृत्यम् । य॒ज्ञस्य॒ सन्त॑त्यै । अ॒पो नि न॑यति । अ॒व॒भृ॒थस्यै॒व रू॒पम॑कः ।।  ।। ब्र॒ह्म॒वा॒दिनो॑ वदन्ति । अ॒ग्नि॒हो॒त्रप्रा॑यणा य॒ज्ञाः । किंप्रा॑यणमग्निहो॒त्रमिति॑ । व॒थ्सो वा अ॑ग्निहो॒त्रस्य॒ प्राय॑णम् । अ॒ग्नि॒हो॒त्रय्यँ॒ज्ञानाम् । तस्य॑ पृथि॒वी सदः॑ । अ॒न्तरि॑क्ष॒माग्नीद्ध्रम् । द्यौऱ्ह॑वि॒र्धानम् । दि॒व्या आप॒ प्रोख्ष॑णयः । ओष॑धयो ब॒र्॒हिः ।।  ।। वन॒स्पत॑य इ॒ध्मः । दिश॑ परि॒धयः॑ । आ॒दि॒त्यो यूपः॑ । यज॑मान प॒शुः । स॒मु॒द्रो॑ऽवभृ॒थः । स॒व्वँ॒थ्स॒रस्स्व॑गाका॒रः । तस्मा॒दाहि॑ताग्ने॒स्सर्व॑मे॒व ब॑ऱ्हि॒ष्य॑न्द॒त्तं भ॑वति । यथ्सा॒यञ्जु॒होति॑ । रात्रि॑मे॒व तेन॑ दख्षि॒ण्याङ्कुरुते । यत्प्रा॒तः ।।  ।। अह॑रे॒व तेन॑ दख्षि॒ण्य॑ङ्कुरुते । यत्ततो॒ ददा॑ति । सा दख्षि॑णा । याव॑न्तो॒ वै दे॒वा अहु॑त॒मादन्न्॑ । ते परा॑ऽभवन्न् । त ए॒तद॑ग्निहो॒त्र सर्व॑स्यै॒व स॑मव॒दाया॑जुहवुः । तस्मा॑दाहुः । अ॒ग्नि॒हो॒त्रव्वैँ दे॒वा गृ॒हाणा॒न्निष्कृ॑तिमपश्य॒न्निति॑ । यथ्सा॒यञ्जु॒होति॑ । रात्रि॑या ए॒व तद्धु॒ताद्या॑य ।।  ।। यज॑मान॒स्याप॑राभावाय । यत्प्रा॒तः । अह्न॑ ए॒व तद्धु॒ताद्या॑य । यज॑मान॒स्याप॑राभावाय । यत्ततो॒ऽश़्ञाति॑ । हु॒तमे॒व तत् । द्वयो॒ पय॑सा जुहुयात्प॒शुका॑मस्य । ए॒तद्वा अ॑ग्निहो॒त्रं मि॑थु॒नम् । य ए॒वव्वेँद॑ । प्र प्र॒जया॑ प॒शुभि॑र्मिथु॒नैर्जा॑यते ।।  ।। इ॒मामे॒व पूर्व॑या दु॒हे । अ॒मूमुत्त॑रया । अ॒धि॒श्रित्योत्त॑र॒मा न॑यति । योना॑वे॒व तद्रेत॑स्सिञ्चति प्र॒जन॑ने । आज्ये॑न जुहुया॒त्तेज॑स्कामस्य । तेजो॒ वा आज्यम् । ते॒ज॒स्व्ये॑व भ॑वति । पय॑सा प॒शुका॑मस्य । ए॒तद्वै प॑शू॒ना रू॒पम् । रू॒पेणै॒वास्मै॑ प॒शूनव॑रुन्धे ।।  ।। प॒शु॒माने॒व भ॑वति । द॒ध्नेन्द्रि॒यका॑मस्य । इ॒न्द्रि॒यव्वैँ दधि॑ । इ॒न्द्रि॒या॒व्ये॑व भ॑वति । य॒वा॒ग्वा ग्राम॑कामस्यौष॒धा वै म॑नु॒ष्याः । भा॒ग॒धेये॑नै॒वास्मै॑ सजा॒तानव॑ रुन्धे । ग्रा॒म्ये॑व भ॑वति । अय॑ज्ञो॒ वा ए॒षः । यो॑ऽसा॒मा ।।  ।। च॒तुरुन्न॑यति । चतु॑रख्षर रथन्त॒रम् । र॒थ॒न्त॒रस्यै॒ष वर्णः॑ । उ॒परी॑व हरति । अ॒न्तरि॑ख्षव्वाँमदे॒व्यम् । वा॒म॒दे॒व्यस्यै॒ष वर्णः॑ । द्विर्जु॑होति । द्व्य॑ख्षरं बृ॒हत् । बृ॒ह॒त ए॒ष वर्णः॑ । अ॒ग्नि॒हो॒त्रमे॒व तथ्साम॑न्वत्करोति ।।  ।। यो वा अ॑ग्निहो॒त्रस्यो॑प॒सदो॒ वेद॑ । उपै॑नमुप॒सदो॑ नमन्ति । वि॒न्दत॑ उपस॒त्तारम् । उ॒न्नीयोप॑ सादयति । पृ॒थि॒वीमे॒व प्री॑णाति । हो॒ष्यन्नुप॑सादयति । अ॒न्तरि॑ख्षमे॒व प्री॑णाति । हु॒त्वोप॑ सादयति । दिव॑मे॒व प्री॑णाति । ए॒ता वा अ॑ग्निहो॒त्रस्यो॑प॒सदः॑ ।।  ।। य ए॒वव्वेँद॑ । उपै॑नमुप॒सदो॑ नमन्ति । वि॒न्दत॑ उपस॒त्तारम् । यो वा अ॑ग्निहो॒त्रस्याश्रा॑वितं प्र॒त्याश्रा॑वित॒॒ होता॑रं ब्र॒ह्माण॑व्वँषट्का॒रव्वेँद॑ । तस्य॒ त्वे॑व हु॒तम् । प्रा॒णो वा अ॑ग्निहो॒त्रस्याश्रा॑वितम् । अ॒पा॒न प्र॒त्याश्रा॑वितम् । मनो॒ होता । चख्षु॑र्ब्र॒ह्मा । नि॒मे॒षो व॑षट्का॒रः ।।  ।। प्र॒जाप॑तिरकामयतात्म॒न्वन्मे॑ जाये॒तेति॑ । सो॑ऽजुहोत् । तस्मात्म॒न्वद॑जायत । अ॒ग्निर्वा॒युरा॑दि॒त्यः । तेऽब्रुवन्न् । प्र॒जाप॑तिरहौषीदात्म॒न्वन्मे॑ जाये॒तेति॑ । तस्य॑ व॒यम॑जनिष्महि । जाय॑तान्न आत्म॒न्वदिति॒ ते॑ऽजुहवुः । प्रा॒णाना॑म॒ग्निः । त॒नुवै॑ वा॒युः ।।  ।। चख्षु॑ष आदि॒त्यः । तेषा॑ हु॒ताद॑जायत॒ गौरे॒व । तस्यै॒ पय॑सि॒ व्याय॑च्छन्त । मम॑ हु॒ताद॑जनि॒ ममेति॑ । ते प्र॒जाप॑तिं प्र॒श्ञमा॑यन्न् । स आ॑दि॒त्योऽग्निम॑ब्रवीत् । य॒त॒रो नौ॒ जयात् । तन्नौ॑ स॒हास॒दिति॑ । कस्यै कोऽहौ॑षी॒दिति॑ प्र॒जाप॑तिरब्रवी॒त्कस्यै क॒ इति॑ । प्रा॒णाना॑म॒हमित्य॒ग्निः ।।  ।। त॒नुवा॑ अ॒हमिति॑ वा॒युः । चख्षु॑षो॒ऽहमित्या॑दि॒त्यः । य ए॒व प्रा॒णाना॒महौ॑षीत् । तस्य॑ हु॒ताद॑ज॒नीति॑ । अ॒ग्नेऱ्हु॒ताद॑ज॒नीति॑ । तद॑ग्निहो॒त्रस्याग्निहोत्र॒त्वम् । गौर्वा अ॑ग्निहो॒त्रम् । य ए॒वव्वेँद॒ गौर॑ग्निहो॒त्रमिति॑ । प्रा॒णा॒पा॒नाभ्या॑मे॒वाग्नि सम॑र्धयति । अव्य॑र्धुक प्राणापा॒नाभ्यां भवति ।।  ।। प्र॒जाप॑तिम॒भि प॒र्याव॑र्तत । स मृ॒त्योर॑बिभेत् । सो॑ऽमुमा॑दि॒त्यमा॒त्मनो॒ निर॑मिमीत । त हु॒त्वा पराङ्प॒र्याव॑र्तत । ततो॒ वै स मृ॒त्युमपा॑जयत् । अप॑ मृ॒त्युञ्ज॑यति । य ए॒वव्वेँद॑ । तस्मा॒द्यस्यै॒वव्विँ॒दुषः॑ । उ॒तैका॒हमु॒त द्व्य॒हन्न जुह्व॑ति । हु॒तमे॒वास्य॑ भवति । अ॒सौ ह्या॑दि॒त्योऽग्निहो॒त्रम् ।।  ।। रौ॒द्रङ्गवि॑ । वा॒य॒व्य॑मुप॑सृष्टम् । आ॒श्वि॒नन्दु॒ह्यमा॑नम् । सौ॒म्यन्दु॒ग्धम् । वा॒रु॒णमधि॑ श्रितम् । वै॒श्व॒दे॒वा भि॒न्दवः॑ । पौ॒ष्णमुद॑न्तम् । सा॒र॒स्व॒तव्विँ॒ष्यन्द॑मानम् । मै॒त्र शरः॑ । धा॒तुरुद्वा॑सितम् । बृह॒स्पते॒रुन्नी॑तम् । स॒वि॒तु प्र क्रान्तम् । द्या॒वा॒पृ॒थि॒व्य॑ ह्रि॒यमा॑णम् । ऐ॒न्द्रा॒ग्नमुप॑सन्नम् । अ॒ग्ने पूर्वाऽऽहु॑तिः । प्र॒जाप॑ते॒रुत्त॑रा । ऐ॒न्द्र हु॒तम् ।।  ।। द॒ख्षि॒ण॒त उप॑ सृजति । पि॒तृ॒लो॒कमे॒व तेन॑ जयति । प्राची॒मा व॑र्तयति । दे॒व॒लो॒कमे॒व तेन॑ जयति । उदी॑चीमा॒वृत्य॑ दोग्धि । म॒नु॒ष्य॒लो॒कमे॒व तेन॑ जयति । पूर्वौ॑ दुह्याज्ज्ये॒ष्ठस्य॑ ज्यैष्ठिने॒यस्य॑ । यो वा॑ ग॒तश्री॒स्स्यात् । अप॑रौ दुह्यात्कनि॒ष्ठस्य॑ कानिष्ठिने॒यस्य॑ । यो वा॒ बुभू॑षेत् ।।  ।। न सं मृ॑शति । पा॒प॒व॒स्य॒सस्य॒ व्यावृ॑त्त्यै । वा॒य॒व्य॑व्वाँ ए॒तदुप॑सृष्टम् । आ॒श्वि॒नन्दु॒ह्यमा॑नम् । मै॒त्रन्दु॒ग्धम् । अ॒र्य॒म्ण उ॑द्वा॒स्यमा॑नम् । त्वा॒ष्ट्रमु॑न्नी॒यमा॑नम् । बृह॒स्पते॒रुन्नी॑तम् । स॒वि॒तु प्रक्रान्तम् । द्या॒वा॒पृ॒थि॒व्य॑ ह्रि॒यमा॑णम् ।।  ।। ऐ॒न्द्रा॒ग्नमुप॑ सादितम् । सर्वाभ्यो॒ वा ए॒ष दे॒वताभ्यो जुहोति । योऽग्निहो॒त्रञ्जु॒होति॑ । यथा॒ खलु॒ वै धे॒नुन्ती॒र्थे त॒र्पय॑ति । ए॒वम॑ग्निहो॒त्री यज॑मानन्तर्पयति । तृप्य॑ति प्र॒जया॑ प॒शुभिः॑ । प्र सु॑व॒र्गल्लोँ॒कञ्जा॑नाति । पश्य॑ति पु॒त्रम् । पश्य॑ति॒ पौत्त्रम् । प्र प्र॒जया॑ प॒शुभि॑र्मिथु॒नैर्जा॑यते । यस्यै॒वव्विँ॒दुषोऽग्निहो॒त्रञ्जुह्व॑ति । य उ॑ चैनदे॒वव्वेँद॑ ।।  ।। त्रयो॒ वै प्रै॑यमे॒धा आ॑सन्न् । तेषा॒न्त्रिरेकोऽग्निहो॒त्रम॑जुहोत् । द्विरेकः॑ । स॒कृदेकः॑ । तेषा॒य्यँस्त्रिरजु॑होत् । स ऋ॒चाऽजु॑होत् । यो द्विः । स यजु॑षा । यस्स॒कृत् । स तू॒ष्णीम् ।।  ।। यस्याग्निहो॒त्रमहु॑त॒॒ सूर्यो॒ऽभ्यु॑देति॑ । यद्यन्ते॒ स्यात् । उ॒न्नीय॒ प्राङु॒दाद्र॑वेत् । स उ॑प॒साद्यातमि॑तोरासीत । स य॒दा ताम्येत् । अथ॒ भूस्स्वाहेति॑ जुहुयात् । प्र॒जाप॑ति॒र्वै भू॒तः । तमे॒वोपा॑सरत् । स ए॒वैन॒न्तत॒ उन्न॑यति । नार्ति॒मार्च्छ॑ति॒ यज॑मानः ।।  ।। यद॒ग्निमु॒द्धर॑ति । वस॑व॒स्तर्ह्य॒ग्निः । तस्मि॒न्॒ यस्य॒ तथा॑विधे॒ जुह्व॑ति । वसु॑ष्वे॒वास्याग्निहो॒त्र हु॒तं भ॑वति । निहि॑तो धूपा॒यञ्छे॑ते । रु॒द्रास्तर्ह्य॒ग्निः । तस्मि॒न्॒ यस्य॒ तथा॑विधे॒ जुह्व॑ति । रु॒द्रे॒ष्वे॒वास्याग्निहो॒त्र हु॒तं भ॑वति । प्र॒थ॒ममि॒ध्मम॒र्चिरा ल॑भते । आ॒दि॒त्यास्तर्ह्य॒ग्निः ।।  ।। तस्मि॒न्॒ यस्य॒ तथा॑विधे॒ जुह्व॑ति । आ॒दि॒त्येष्वे॒वास्याग्निहो॒त्र हु॒तं भ॑वति । सर्व॑ ए॒व स॑र्व॒श इ॒ध्म आदीप्तो भवति । विश्वे॑ दे॒वास्तर्ह्य॒ग्निः । तस्मि॒न्॒ यस्य॒ तथा॑विधे॒ जुह्व॑ति । विश्वेष्वे॒वास्य॑ दे॒वेष्व॑ग्निहो॒त्र हु॒तं भ॑वति । नि॒त॒राम॒र्चिरु॒पावै॑ति लोहि॒नीके॑व भवति । इन्द्र॒स्तर्ह्य॒ग्निः । तस्मि॒न्॒ यस्य॒ तथा॑विधे॒ जुह्व॑ति । इन्द्र॑ ए॒वास्याग्निहो॒त्र हु॒तं भ॑वति ।।  ।। अङ्गा॑रा भवन्ति । तेभ्योऽङ्गा॑रेभ्यो॒ऽर्चिरुदे॑ति । प्र॒जाप॑ति॒स्तर्ह्य॒ग्निः । तस्मि॒न्॒ यस्य॒ तथा॑विधे॒ जुह्व॑ति । प्र॒जाप॑तावे॒वास्याग्निहो॒त्र हु॒तं भ॑वति । शरोऽङ्गा॑रा॒ अध्यू॑हन्ते । ब्रह्म॒ तर्ह्य॒ग्निः । तस्मि॒न्॒ यस्य॒ तथा॑विधे॒ जुह्व॑ति । ब्रह्म॑न्ने॒वास्याग्निहो॒त्र हु॒तं भ॑वति । वसु॑षु रु॒द्रेष्वा॑दि॒त्येषु॒ विश्वे॑षु दे॒वेषु॑ । इन्द्रे प्र॒जाप॑तौ॒ ब्रह्मन्न्॑ । अप॑रिवर्गमे॒वास्यै॒तासु॑ दे॒वता॑सु हु॒तं भ॑वति । यस्यै॒वव्विँ॒दुषोऽग्निहो॒त्रञ्जुह्व॑ति । य उ॑ चैनदे॒वव्वेँद॑ ।।  ।। ऋ॒तन्त्वा॑ स॒त्येन॒ परि॑षिञ्चा॒मीति॑ सा॒यं परि॑षिञ्चति । स॒त्यन्त्व॒र्तेन॒ परि॑षिञ्चा॒मीति॑ प्रा॒तः । अ॒ग्निर्वा ऋ॒तम् । अ॒सावा॑दि॒त्यस्स॒त्यम् । अ॒ग्निमे॒व तदा॑दि॒त्येन॑ सा॒यं परि॑षिञ्चति । अ॒ग्निना॑ऽऽदि॒त्यं प्रा॒तस्सः । याव॑दहोरा॒त्रे भव॑तः । ताव॑दस्य लो॒कस्य॑ । नार्ति॒र्न रिष्टिः॑ । नान्तो॒ न प॑र्य॒न्तोऽस्ति । यस्यै॒वव्विँ॒दुषोऽग्निहो॒त्रञ्जुह्व॑ति । य उ॑चैनदे॒वव्वेँद॑ ।।  ।। सोऽर॑ण्यं प॒रेत्य॑ । द॒र्भ॒स्त॒म्बमु॒द्ग्रथ्य॑ । ब्रा॒ह्म॒णन्द॑ख्षिण॒तो नि॒षाद्य॑ । चतु॑र्होतॄ॒न्व्याच॑ख्षीत । ए॒तद्वै दे॒वानां पर॒मङ्गुह्यं॒ ब्रह्म॑ । यच्चतु॑र्होतारः । तदे॒व प्र॑का॒शङ्ग॑मयति । तदे॑नं प्रका॒शङ्ग॒तम् । प्र॒का॒शं प्र॒जानाङ्गमयति । द॒र्भ॒स्त॒म्बमु॒द्ग्रथ्य॒ व्याच॑ष्टे ।।  ।। अ॒ग्नि॒वान् वै द॑र्भस्त॒म्बः । अ॒ग्नि॒वत्ये॒व व्याच॑ष्टे । ब्रा॒ह्म॒णो द॑ख्षिण॒त उपास्ते । ब्रा॒ह्म॒णो वै प्र॒जाना॑मुपद्र॒ष्टा । उ॒प॒द्र॒ष्टु॒मत्ये॒वैन॒य्यँश॑ ऋच्छति । ई॒श्व॒रन्तय्यँशोर्तो॒रित्या॑हुः । यस्यान्ते व्या॒चष्ट॒ इति॑ । वर॒स्तस्मै॒ देयः॑ । यदे॒वैन॒न्तत्रो॑प॒नम॑ति । तदे॒वाव॑ रुन्धे ।।  ।। अ॒भि॒चर॒न्दश॑होतारञ्जुहुयात् । नव॒ वै पुरु॑षे प्रा॒णाः । नाभि॑र्दश॒मी । सप्रा॑णमे॒वैन॑म॒भि च॑रति । ए॒ताव॒द्वै पुरु॑षस्य॒ स्वम् । याव॑त्प्रा॒णाः । याव॑दे॒वास्यास्ति॑ । तद॒भि च॑रति । स्वकृ॑त॒ इरि॑णे जुहोति प्रद॒रे वा । ए॒तद्वा अ॒स्यै निर्ऋ॑तिगृहीतम् । निर्ऋ॑तिगृहीत ए॒वैन॒न्निर्ऋ॑त्या ग्राहयति । यद्वा॒च क्रू॒रम् । तेन॒ वष॑ट्करोति । वा॒च ए॒वैन॑ङ्क्रू॒रेण॒ प्र वृ॑श्चति । ता॒जगार्ति॒मार्च्छ॑ति ।।  ।। प्र॒जाप॑तिरकामयत दर्शपूर्णमा॒सौ सृ॑जे॒येति॑ । स ए॒तञ्चतु॑र्होतारमपश्यत् । तं मन॑साऽनु॒द्रुत्या॑हव॒नीये॑ऽजुहोत् । ततो॒ वै स द॑र्शपूर्णमा॒साव॑सृजत । ताव॑स्माथ्सृ॒ष्टावपाक्रामताम् । तौ ग्रहे॑णागृह्णात् । तद्ग्रह॑स्य ग्रह॒त्वम् । द॒र्श॒पू॒र्ण॒मा॒सावा॒लभ॑मानः । चतु॑र्होतारं॒ मन॑साऽनु॒द्रुत्या॑हव॒नीये॑ जुहुयात् । द॒र्श॒पू॒र्ण॒मा॒सावे॒व सृ॒ष्ट्वाऽऽरभ्य॒ प्रत॑नुते ।।  ।। ग्रहो॑ भवति । द॒र्श॒पू॒र्ण॒मा॒सयोस्सृ॒ष्टयो॒र्धृत्यै । सो॑ऽकामयत चातुर्मा॒स्यानि॑ सृजे॒येति॑ । स ए॒तं पञ्च॑होतारमपश्यत् । तं मन॑साऽनु॒द्रुत्या॑हव॒नीये॑ऽजुहोत् । ततो॒ वै स चा॑तुर्मा॒स्यान्य॑सृजत । तान्य॑स्माथ्सृ॒ष्टान्यपाक्रामन्न् । तानि॒ ग्रहे॑णागृह्णात् । तद्ग्रह॑स्य ग्रह॒त्वम् । चा॒तु॒र्मा॒स्यान्या॒लभ॑मानः ।।  ।। पञ्च॑होतारं॒ मन॑साऽनु॒द्रुत्या॑हव॒नीये॑ जुहुयात् । चा॒तु॒र्मा॒स्यान्ये॒व सृ॒ष्ट्वाऽऽरभ्य॒ प्रत॑नुते । ग्रहो॑ भवति । चा॒तु॒र्मा॒स्याना॑ सृ॒ष्टाना॒न्धृत्यै । सो॑ऽकामयत पशुब॒न्ध सृ॑जे॒येति॑ । स ए॒त षड्ढो॑तारमपश्यत् । तं मन॑साऽनु॒द्रुत्या॑हव॒नीये॑ऽजुहोत् । ततो॒ वै स प॑शुब॒न्धम॑सृजत । सोस्माथ्सृ॒ष्टोऽपाक्रामत् । तङ्ग्रहे॑णागृह्णात् ।।  ।। तद्ग्रह॑स्य ग्रह॒त्वम् । प॒शु॒ब॒न्धेन॑ य॒ख्ष्यमा॑णः । षड्ढो॑तारं॒ मन॑साऽनु॒द्रुत्या॑हव॒नीये॑ जुहुयात् । प॒शु॒ब॒न्धमे॒व सृ॒ष्ट्वाऽऽरभ्य॒ प्र त॑नुते । ग्रहो॑ भवति । प॒शु॒ब॒न्धस्य॑ सृ॒ष्टस्य॒ धृत्यै । सो॑ऽकामयत सौ॒म्यम॑ध्व॒र सृ॑जे॒येति॑ । स ए॒त स॒प्तहो॑तारमपश्यत् । तं मन॑साऽनु॒द्रुत्या॑हव॒नीये॑ऽजुहोत् । ततो॒ वै स सौ॒म्यम॑ध्व॒रम॑सृजत ।।  ।। सोऽस्माथ्सृ॒ष्टोऽपाक्रामत् । तङ्ग्रहे॑णागृह्णात् । तद्ग्रह॑स्य ग्रह॒त्वम् । दी॒ख्षि॒ष्यमा॑णः । स॒प्तहो॑तारं॒ मन॑साऽनु॒द्रुत्या॑हव॒नीये॑ जुहुयात् । सौ॒म्यमे॒वाध्व॒र सृ॒ष्ट्वाऽऽरभ्य॒ प्र त॑नुते । ग्रहो॑ भवति । सौ॒म्यस्याध्व॒रस्य॑ सृ॒ष्टस्य॒ धृत्यै । दे॒वेभ्यो॒ वै य॒ज्ञो न प्राभ॑वत् । तमे॑ताव॒च्छस्सम॑भरन्न् ।।  ।। यथ्सं॑भा॒राः । ततो॒ वै तेभ्यो॑ य॒ज्ञ प्राभ॑वत् । यथ्सं॑भा॒रा भव॑न्ति । य॒ज्ञस्य॒ प्रभूत्यै । आ॒ति॒थ्यमा॒साद्य॒ व्याच॑ष्टे । य॒ज्ञ॒मु॒खव्वाँ आ॑ति॒थ्यम् । मु॒ख॒त ए॒व य॒ज्ञ सं॒भृत्य॒ प्र त॑नुते । अय॑ज्ञो॒ वा ए॒षः । यो॑ऽप॒त्नीकः॑ । न प्र॒जा प्रजा॑येरन्न् । पत्नी॒र्व्याच॑ष्टे । य॒ज्ञमे॒वाकः॑ । प्र॒जानां प्र॒जन॑नाय । उ॒प॒सथ्सु॒ व्याच॑ष्टे । ए॒तद्वै पत्नी॑नामा॒यत॑नम् । स्व ए॒वैना॑ आ॒यत॒नेऽव॑कल्पयति ।।  ।। प्र॒जाप॑तिरकामयत॒ प्रजा॑ये॒येति॑ । स तपो॑ऽतप्यत । स त्रि॒वृत॒॒ स्तोम॑मसृजत । तं प॑ञ्चद॒शः स्तोमो॑ मध्य॒त उद॑तृणत् । तौ पूर्वप॒ख्षश्चा॑परप॒ख्षश्चा॑भवताम् । पू॒र्व॒प॒ख्षन्दे॒वा अन्वसृ॑ज्यन्त । अ॒प॒र॒प॒ख्षमन्वसु॑राः । ततो॑ दे॒वा अभ॑वन्न् । पराऽसु॑राः । यङ्का॒मये॑त॒ वसी॑यान्थ्स्या॒दिति॑ ।।  ।। तं पूर्वप॒ख्षे या॑जयेत् । वसी॑याने॒व भ॑वति । यङ्का॒मये॑त॒ पापी॑यान्थ्स्या॒दिति॑ । तम॑परप॒ख्षे या॑जयेत् । पापी॑याने॒व भ॑वति । तस्मात्पूर्वप॒ख्षो॑ऽपरप॒ख्षात्क॑रु॒ण्य॑तरः । प्र॒जाप॑ति॒र्वै दश॑होता । चतु॑र्होता॒ पञ्च॑होता । षड्ढो॑ता स॒प्तहो॑ता । ऋ॒तव॑स्सव्वँथ्स॒रः ।।  ।। प्र॒जा प॒शव॑ इ॒मे लो॒काः । य ए॒वं प्र॒जाप॑तिं ब॒होर्भूया॑स॒व्वेँद॑ । ब॒होरे॒व भूयान्भवति । प्र॒जाप॑तिर्देवासु॒रान॑सृजत । स इन्द्र॒मपि॒ नासृ॑जत । तन्दे॒वा अ॑ब्रुवन्न् । इन्द्र॑न्नो जन॒येति॑ । सोऽब्रवीत् । यथा॒ऽहय्युँ॒ष्मास्तप॒साऽसृ॑ख्षि । ए॒वमिन्द्र॑ञ्जनयध्व॒मिति॑ ।।  ।। ते तपो॑ऽतप्यन्त । त आ॒त्मन्निन्द्र॑मपश्यन्न् । तम॑ब्रुवन्न् । जाय॒स्वेति॑ । सोऽब्रवीत् । किं भा॑ग॒धेय॑म॒भि ज॑निष्य॒ इति॑ । ऋ॒तून्थ्स॑वँथ्स॒रम् । प्र॒जा प॒शून् । इ॒माल्लोँ॒कानित्य॑ब्रुवन्न् । तव्वैँ माऽऽहु॑त्या॒ प्र ज॑नय॒तेत्य॑ब्रवीत् ।।  ।। क्व॑ स्थ । क्व॑ वस्स॒द्भ्यो ह॒व्यव्वँ॑ख्ष्याम॒ इति॑ । छन्द॒स्स्वित्य॑ब्रुवन्न् । गा॒य॒त्रि॒यान्त्रि॒ष्टुभि॒ जग॑त्या॒मिति॑ । तस्मा॒च्छन्द॑स्सु स॒द्भ्य आ॑दि॒त्येभ्यः॑ । आ॒ङ्गी॒र॒सी प्र॒जा ह॒व्यव्वँ॑हन्ति । वह॑न्त्यस्मै प्र॒जा ब॒लिम् । ऐन॒मप्र॑तिख्यातङ्गच्छति । य ए॒वव्वेँद॑ । द्वाद॑श॒ मासा॒ पञ्च॒र्तवः॑ । त्रय॑ इ॒मे लो॒काः । अ॒सावा॑दि॒त्य ए॑कवि॒॒शः । ए॒तस्मि॒न्वा ए॒ष श्रि॒तः । ए॒तस्मि॒न्प्रति॑ष्ठितः । य ए॒वमे॒त श्रि॒तं प्रति॑ष्ठित॒व्वेँद॑ । प्रत्ये॒व ति॑ष्ठति ।।  ।। प्र॒जाप॑तिरकामयत॒ प्र जा॑ये॒येति॑ । स ए॒तन्दश॑होतारमपश्यत् । तेन॑ दश॒धाऽऽत्मान॑व्विँ॒धाय॑ । दश॑होत्राऽतप्यत । तस्य॒ चित्ति॒स्स्रुगासीत् । चि॒त्तमाज्यम् । तस्यै॒ताव॑त्ये॒व वागासीत् । ए॒तावान्॑ यज्ञक्र॒तुः । स चतु॑र्होतारमसृजत । सो॑ऽनन्दत् ।।  ।। असृ॑ख्षि॒ वा इ॒ममिति॑ । तस्य॒ सामो॑ ह॒विरासीत् । स चतु॑र्होत्राऽतप्यत । सो॑ऽताम्यत् । स भूरिति॒ व्याह॑रत् । स भूमि॑मसृजत । अ॒ग्नि॒हो॒त्रन्द॑र्शपूर्णमा॒सौ यजू॑षि । स द्वि॒तीय॑मतप्यत । सो॑ऽताम्यत् । स भुव॒ इति॒ व्याह॑रत् ।।  ।। प्र प्र॒जया॑ प॒शुभि॑र्मिथु॒नैर्जा॑यते । स पञ्च॑होतारमसृजत । स ह॒विर्नावि॑न्दत । तस्मै॒ सोम॑स्त॒नुवं॒ प्राय॑च्छत् । ए॒तत्ते॑ ह॒विरिति॑ । स पञ्च॑होत्राऽतप्यत । सो॑ऽताम्यत् । स प्र॒त्यङ्ङ॑बाधत । सोऽसु॑रानसृजत । तद॒स्याप्रि॑यमासीत् ।।  ।। तद्दु॒र्वर्ण॒॒ हिर॑ण्यमभवत् । तद्दु॒र्वर्ण॑स्य॒ हिर॑ण्यस्य॒ जन्म॑ । स द्वि॒तीय॑मतप्यत । सो॑ऽताम्यत् । स प्राङ॑बाधत । स दे॒वान॑सृजत । तद॑स्य प्रि॒यमा॑सीत् । तथ्सु॒वर्ण॒॒ हिर॑ण्यमभवत् । तथ्सु॒वर्ण॑स्य॒ हिर॑ण्यस्य॒ जन्म॑ । य ए॒व सु॒वर्ण॑स्य॒ हिर॑ण्यस्य॒ जन्म॒ वेद॑ ।।  ।। सु॒वर्ण॑ आ॒त्मना॑ भवति । दु॒र्वर्णोऽस्य॒ भ्रातृ॑व्यः । तस्माथ्सु॒वर्ण॒॒ हिर॑ण्यं भा॒र्यम् । सु॒वर्ण॑ ए॒व भ॑वति । ऐनं॑ प्रि॒यङ्ग॑च्छति॒ नाप्रि॑यम् । स स॒प्तहो॑तारमसृजत । स स॒प्तहोत्रै॒व सु॑व॒र्गल्लोँ॒कमैत् । त्रि॒ण॒वेन॒ स्तोमे॑नै॒भ्यो लो॒केभ्योऽसु॑रा॒न्प्राणु॑दत । त्र॒य॒स्त्रि॒॒शेन॒ प्रत्य॑तिष्ठत् । ए॒क॒वि॒॒शेन॒ रुच॑मधत्त ।।  ।। दे॒वा वै वरु॑णमयाजयन्न् । स यस्यै॑यस्यै दे॒वता॑यै॒ दख्षि॑णा॒मन॑यत् । ताम॑व्लीनात् । तेऽब्रुवन्न् । व्या॒वृत्य॒ प्रति॑ गृह्णाम । तथा॑ नो॒ दख्षि॑णा॒ न व्लेष्य॒तीति॑ । ते व्या॒वृत्य॒ प्रत्य॑गृह्णन्न् । ततो॒ वै तान्दख्षि॑णा॒ नाव्ली॑नात् । य ए॒वव्विँ॒द्वान्व्या॒वृत्य॒ दख्षि॑णां प्रतिगृ॒ह्णाति॑ । नैन॒न्दख्षि॑णा व्लीनाति ।।  ।। यद्वै शि॒वम् । तन्मयः॑ । आ॒त्मन॑ ए॒वैषा परीत्तिः । क इ॒दङ्कस्मा॑ अदा॒दित्या॑ह । प्र॒जाप॑ति॒र्वै कः । स प्र॒जाप॑तये ददाति । काम॒ कामा॒येत्या॑ह । कामे॑न॒ हि ददा॑ति । कामे॑न प्रतिगृ॒ह्णाति॑ । कामो॑ दा॒ता काम॑ प्रतिग्रही॒तेत्या॑ह ।।  ।। अन्तो॒ वा ए॒ष य॒ज्ञस्य॑ । यद्द॑श॒ममहः॑ । द॒श॒मेऽहन्थ्सर्परा॒ज्ञिया॑ ऋ॒ग्भिस्स्तु॑वन्ति । य॒ज्ञस्यै॒वान्त॑ङ्ग॒त्वा । अ॒न्नाद्य॒मव॑ रुन्धते । ति॒सृभि॑स्स्तुवन्ति । त्रय॑ इ॒मे लो॒काः । ए॒भ्य ए॒व लो॒केभ्यो॒ऽन्नाद्य॒मव॑ रुन्धते । पृश्ञि॑वतीर्भवन्ति । अन्न॒व्वैँ पृश्ञि॑ ।।  ।। अन्न॑मे॒वाव॑ रुन्धते । मन॑सा॒ प्रस्तौ॑ति । मन॒सोद्गा॑यति । मन॑सा॒ प्रति॑ हरति । मन॑ इव॒ हि प्र॒जाप॑तिः । प्र॒जाप॑ते॒राप्त्यै । दे॒वा वै स॒र्पाः । तेषा॑मि॒य राज्ञी । यथ्स॑र्परा॒ज्ञिया॑ ऋ॒ग्भिस्स्तु॒वन्ति॑ । अ॒स्यामे॒व प्रति॑ तिष्ठन्ति ।।  ।। चतु॑र्होतॄ॒न्॒ होता॒ व्याच॑ष्टे । स्तु॒तमनु॑शसति॒ शान्त्यै । अन्तो॒ वा ए॒ष य॒ज्ञस्य॑ । यद्द॑श॒ममहः॑ । ए॒तत्खलु॒ वै दे॒वानां पर॒मङ्गुह्यं॒ ब्रह्म॑ । यच्चतु॑र्होतारः । द॒श॒मेऽह॒॒ श्चतु॑र्होतॄ॒न्व्याच॑ष्टे । य॒ज्ञस्यै॒वान्त॑ङ्ग॒त्वा । प॒र॒मन्दे॒वाना॒ङ्गुह्यं॒ ब्रह्माव॑ रुन्धे । तदे॒व प्र॑का॒शङ्ग॑मयति ।।  ।। तदे॑नं प्रका॒शङ्ग॒तम् । प्र॒का॒शं प्र॒जानाङ्गमयति । वाच॑य्यँच्छति । य॒ज्ञस्य॒ धृत्यै । य॒ज॒मा॒न॒दे॒व॒त्य॑व्वाँ अहः॑ । भ्रा॒तृ॒व्य॒दे॒व॒त्या॑ रात्रिः॑ । अह्ना॒ रात्रि॑न्ध्यायेत् । भ्रातृ॑व्यस्यै॒व तल्लो॒कव्वृँ॑ङ्क्ते । यद्दिवा॒ वाच॑व्विँसृ॒जेत् । अह॒र्भ्रातृ॑व्या॒योच्छि॑षेत् । यन्नक्त॑व्विँसृ॒जेत् । रात्रिं॒ भ्रातृ॑व्या॒योच्छि॑षेत् । अ॒धि॒वृ॒ख्ष॒सू॒र्ये वाच॒व्विँसृ॑जति । ए॒ताव॑न्तमे॒वास्मै॑ लो॒कमुच्छि॑षति । याव॑दादि॒त्योऽस्त॒मेति॑ ।।  ।। प्र॒जाप॑ति प्र॒जा अ॑सृजत । तास्सृ॒ष्टास्सम॑श्लिष्यन्न् । ता रू॒पेणानु॒प्रावि॑शत् । तस्मा॑दाहुः । रू॒पव्वैँ प्र॒जाप॑ति॒रिति॑ । ता नाम्नाऽनु॒ प्रावि॑शत् । तस्मा॑दाहुः । नाम॒ वै प्र॒जाप॑ति॒रिति॑ । तस्मा॒दप्या॑मि॒त्रौ स॒ङ्गत्य॑ । नाम्ना॒ चेद्ध्वये॑ते ।।  ।। मि॒त्रमे॒व भ॑वतः । प्र॒जाप॑तिर्देवासु॒रान॑सृजत । स इन्द्र॒मपि॒ नासृ॑जत । तन्दे॒वा अ॑ब्रुवन्न् । इन्द्र॑न्नो जन॒येति॑ । स आ॒त्मन्निन्द्र॑मपश्यत् । तम॑सृजत । तन्त्रि॒ष्टुग्वी॒र्यं॑ भू॒त्वाऽनु॒ प्रावि॑शत् । तस्य॒ वज्र॑ पञ्चद॒शो हस्त॒ आप॑द्यत । तेनो॒दय्यासु॑रान॒भ्य॑भवत् ।।  ।। य ए॒वव्वेँद॑ । अ॒भि भ्रातृ॑व्यान्भवति । ते दे॒वा असु॑रैर्वि॒जित्य॑ । सु॒व॒र्गल्लोँ॒कमा॑यन्न् । ते॑ऽमुष्मि॑ल्लोँ॒के व्य॑ख्षुध्यन्न् । तेऽब्रुवन्न् । अ॒मुत॑ प्रदान॒व्वाँ उप॑जिजीवि॒मेति॑ । ते स॒प्तहो॑तारय्यँ॒ज्ञव्विँ॒धाया॒यास्यम् । आ॒ङ्गी॒र॒सं प्राहि॑ण्वन्न् । ए॒तेना॒मुत्र॑ कल्प॒येति॑ ।।  ।। तस्य॒ वा इ॒यङ्कॢप्तिः॑ । यदि॒दङ्किञ्च॑ । य ए॒वव्वेँद॑ । कल्प॑तेऽस्मै । स वा अ॒यं म॑नु॒ष्ये॑षु य॒ज्ञस्स॒प्तहो॑ता । अ॒मुत्र॑ स॒द्भ्यो दे॒वेभ्यो॑ ह॒व्यव्वँ॑हति । य ए॒वव्वेँद॑ । उपै॑नय्यँ॒ज्ञो न॑मति । सो॑ऽमन्यत । अ॒भि वा इ॒मेऽस्माल्लो॒काद॒मुल्लोँ॒कङ्क॑मिष्यन्त॒ इति॑ । स वाच॑स्पते॒ हृदिति॒ व्याह॑रत् । तस्मात्पु॒त्त्रो हृद॑यम् । तस्मा॑द॒स्माल्लो॒काद॒मुल्लोँ॒कन्नाभि का॑मयन्ते । पु॒त्त्रो हि हृद॑यम् ।।  ।। ऋ॒जु॒धैवैन॑म॒मुल्लोँ॒कङ्ग॑मयति । चतु॑र्होत्राऽऽति॒थ्यम् । यशो॒ वै चतु॑र्होता । यश॑ ए॒वात्मन्ध॑त्ते । पञ्च॑होत्रा प॒शुमुप॑सादयति । सु॒व॒र्ग्यो॑ वै पञ्च॑होता । यज॑मान प॒शुः । यज॑मानमे॒व सु॑व॒र्गल्लोँ॒कङ्ग॑मयति । ग्रहान्गृही॒त्वा स॒प्तहो॑तारञ्जुहोति । इ॒न्द्रि॒यव्वैँ स॒प्तहो॑ता ।।  ।। इन्द्र॑स्स॒प्तहोत्रा । प्र॒जाप॑ति॒र्दश॑होत्रा । तेषा॒॒ सोम॒॒ राजा॑न॒य्यँश॑ आर्च्छत् । तन्न्य॑कामयत । तेनापाक्रामत् । तेन॑ प्र॒लाय॑मचरत् । तन्दे॒वा प्रै॒षै प्रैष॑मैच्छन्न् । तत्प्रै॒षाणां प्रैष॒त्वम् । नि॒विद्भि॒र्न्य॑वेदयन्न् । तन्नि॒विदान्निवि॒त्त्वम् ।।  ।। आ॒प्रीभि॑राप्नुवन्न् । तदा॒प्रीणा॑माप्रि॒त्वम् । तम॑घ्नन्न् । तस्य॒ यशो॒ व्य॑गृह्णत । ते ग्रहा॑ अभवन्न् । तद्ग्रहा॑णाङ्ग्रह॒त्वम् । यस्यै॒वव्विँ॒दुषो॒ ग्रहा॑ गृ॒ह्यन्ते । तस्य॒ त्वे॑व गृ॑ही॒ताः । तेऽब्रुवन्न् । यो वै नः॒ श्रेष्ठोऽभूत् ।।  ।। तम॑वधिष्म । पुन॑रि॒म सु॑वामहा॒ इति॑ । तञ्छन्दो॑भिरसुवन्त । तच्छन्द॑साञ्छन्द॒स्त्वम् । साम्ना॒ समान॑यन्न् । तथ्साम्न॑स्साम॒त्वम् । उ॒क्थैरुद॑स्थापयन्न् । तदु॒क्थाना॑मुक्थ॒त्वम् । य ए॒वव्वेँद॑ । प्रत्ये॒व ति॑ष्ठति ।।  ।। सर्व॒मायु॑रेति । सोमो॒ वै यशः॑ । य ए॒वव्विँ॒द्वान्थ्सोम॑मा॒गच्छ॑ति । यश॑ ए॒वैन॑मृच्छति । तस्मा॑दाहुः । यश्चै॒वव्वेँद॒ यश्च॒ न । तावु॒भौ सोम॒माग॑च्छतः । सोमो॒ हि यशः॑ । तन्त्वाऽव यश॑ ऋच्छ॒तीत्या॑हुः । यस्सोमे॒ सोमं॒ प्राहेति॑ । तस्मा॒थ्सोमे॒ सोम॒ प्रोच्यः॑ । यश॑ ए॒वैन॑मृच्छति ।।  ।। इ॒दव्वाँ अग्रे॒ नैव किञ्च॒ नासीत् । न द्यौरा॑सीत् । न पृ॑थि॒वी । नान्तरि॑ख्षम् । तदस॑दे॒व सन्मनो॑ऽकुरुत॒ स्यामिति॑ । तद॑तप्यत । तस्मात्तेपा॒नाद्धू॒मो॑ऽजायत । तद्भूयो॑ऽतप्यत । तस्मात्तेपा॒नाद॒ग्निर॑जायत । तद्भूयो॑ऽतप्यत ।।  ।। तस्मात्तेपा॒नाज्ज्योति॑रजायत । तद्भूयो॑ऽतप्यत । तन्मात्तेपा॒नाद॒र्चिर॑जायत । तद्भूयो॑ऽतप्यत । तस्मात्तेपा॒नान्मरी॑चयोऽजायन्त । तद्भूयो॑ऽतप्यत । तस्मात्तेपा॒नादु॑दा॒रा अ॑जायन्त । तद्भूयो॑ऽतप्यत । तद॒भ्रमि॑व॒ सम॑हन्यत । तद्व॒स्तिम॑भिनत् ।।  ।। स स॑मु॒द्रो॑ऽभवत् । तस्माथ्समु॒द्रस्य॒ न पि॑बन्ति । प्र॒जन॑नमिव॒ हि मन्य॑न्ते । तस्मात्प॒शोर्जाय॑माना॒दाप॑ पु॒रस्ताद्यन्ति । तद्दश॑हो॒ताऽन्व॑सृज्यत । प्र॒जाप॑ति॒र्वै दश॑होता । य ए॒वन्तप॑सो वी॒र्य॑व्विँ॒द्वा स्तप्य॑ते । भव॑त्ये॒व । तद्वा इ॒दमाप॑स्सलि॒लमा॑सीत् । सो॑ऽरोदीत्प्र॒जाप॑तिः ।।  ।। स कस्मा॑ अज्ञि । यद्य॒स्या अप्र॑तिष्ठाया॒ इति॑ । यद॒फ्स्व॑वाप॑द्यत । सा पृ॑थि॒व्य॑भवत् । यद्व्यमृ॑ष्ट । तद॒न्तरि॑ख्षमभवत् । यदू॒र्ध्वमु॒दमृ॑ष्ट । सा द्यौर॑भवत् । यदरो॑दीत् । तद॒नयो॑ रोद॒स्त्वम् ।।  ।। य ए॒वव्वेँद॑ । नास्य॑ गृ॒हे रु॑दन्ति । ए॒तद्वा ए॒षाल्लोँ॒काना॒ञ्जन्म॑ । य ए॒वमे॒षाल्लोँ॒काना॒ञ्जन्म॒ वेद॑ । नैषु लो॒केष्वार्ति॒मार्च्छ॑ति । स इ॒मां प्र॑ति॒ष्ठाम॑विन्दत । स इ॒मां प्र॑ति॒ष्ठाव्विँ॒त्वाऽका॑मयत॒ प्रजा॑ये॒येति॑ । स तपो॑ऽतप्यत । सोऽन्तर्वा॑नभवत् । स ज॒घना॒दसु॑रानसृजत ।।  ।। तेभ्यो॑ मृ॒न्मये॒ पात्रेऽन्न॑मदुहत् । याऽस्य॒ सा त॒नूरासीत् । तामपा॑हत । सा तमि॑स्राऽभवत् । सो॑कामयत॒ प्रजा॑ये॒येति॑ । स तपो॑ऽतप्यत । सोन्तर्वा॑नभवत् । स प्र॒जन॑नादे॒व प्र॒जा अ॑सृजत । तस्मा॑दि॒मा भूयि॑ष्ठाः । प्र॒जन॑ना॒द्ध्ये॑ना॒ असृ॑जत ।।  ।। ताभ्यो॑ दारु॒मये॒ पात्रे॒ पयो॑ऽदुहत् । याऽस्य॒ सा त॒नूरासीत् । तामपा॑हत । सा जोथ्स्ना॑ऽभवत् । सो॑ऽकामयत॒ प्रजा॑ये॒येति॑ । स तपो॑ऽतप्यत । सोऽन्तर्वा॑नभवत् । स उ॑पप॒ख्षाभ्या॑मे॒वर्तून॑सृजत । तेभ्यो॑ रज॒ते पात्रे॑ घृ॒तम॑दुहत् । याऽस्य॒ सा त॒नूरासीत् ।।  ।। तामपा॑हत । सो॑ऽहोरा॒त्रयोस्स॒न्धिर॑भवत् । सो॑ऽकामयत॒ प्रजा॑ये॒येति॑ । स तपो॑ऽतप्यत । सोऽन्तर्वा॑नभवत् । स मुखाद्दे॒वान॑सृजत । तेभ्यो॒ हरि॑ते॒ पात्रे॒ सोम॑मदुहत् । याऽस्य॒ सा त॒नूरासीत् । तामपा॑हत । तदह॑रभवत् ।।  ।। ए॒ते वै प्र॒जाप॑ते॒र्दोहाः । य ए॒वव्वेँद॑ । दु॒ह ए॒व प्र॒जाः । दिवा॒ वै नो॑ऽभू॒दिति॑ । तद्दे॒वानान्देव॒त्वम् । य ए॒वन्दे॒वानान्देव॒त्वव्वेँद॑ । दे॒ववा॑ने॒व भ॑वति । ए॒तद्वा अ॑होरा॒त्राणा॒ञ्जन्म॑ । य ए॒वम॑होरा॒त्राणा॒ञ्जन्म॒ वेद॑ । नाहो॑रा॒त्रेष्वार्ति॒मार्च्छ॑ति ।।  ।। अस॒तोऽधि॒ मनो॑ऽसृज्यत । मनः॑ प्र॒जाप॑तिमसृजत । प्र॒जाप॑ति प्र॒जा अ॑सृजत । तद्वा इ॒दं मन॑स्ये॒व प॑र॒मं प्रति॑ष्ठितम् । यदि॒दङ्किञ्च॑ । तदे॒तच्छ्वो॑वस्य॒सन्नाम॒ ब्रह्म॑ । व्यु॒च्छन्तीव्युच्छन्त्यस्मै॒ वस्य॑सीवस्यसी॒ व्यु॑च्छति । प्रजा॑यते प्र॒जया॑ प॒शुभिः॑ । प्र प॑रमे॒ष्ठिनो॒ मात्रा॑माप्नोति । य ए॒वव्वेँद॑ ।।  ।। प्र॒जाप॑ति॒रिन्द्र॑मसृजतानुजाव॒रन्दे॒वानाम् । तं प्राहि॑णोत् । परे॑हि । ए॒तेषान्दे॒वाना॒मधि॑पतिरे॒धीति॑ । तन्दे॒वा अ॑ब्रुवन्न् । कस्त्वमसि॑ । व॒यव्वैँ त्वच्छ्रेया॑सः स्म॒ इति॑ । सोऽब्रवीत् । कस्त्वमसि॑ व॒यव्वैँ त्वच्छ्रेया॑सः स्म॒ इति॑ मा दे॒वा अ॑वोच॒न्निति॑ । अथ॒ वा इ॒दन्तर्हि॑ प्र॒जाप॑तौ॒ हर॑ आसीत् ।।  ।। यद॒स्मिन्ना॑दि॒त्ये । तदे॑नमब्रवीत् । ए॒तन्मे॒ प्रय॑च्छ । अथा॒हमे॒तेषान्दे॒वाना॒मधि॑पतिर्भविष्या॒मीति॑ । को॑ऽह स्या॒मित्य॑ब्रवीत् । ए॒तत्प्र॒दायेति॑ । ए॒तथ्स्या॒ इत्य॑ब्रवीत् । यदे॒तद्ब्रवी॒षीति॑ । को ह॒ वै नाम॑ प्र॒जाप॑तिः । य ए॒वव्वेँद॑ ।।  ।। वि॒दुरे॑न॒न्नाम्ना । तद॑स्मै रु॒क्मङ्कृ॒त्वा प्रत्य॑मुञ्चत् । ततो॒ वा इन्द्रो॑ दे॒वाना॒मधि॑पतिरभवत् । य ए॒वव्वेँद॑ । अधि॑पतिरे॒व स॑मा॒नानां भवति । सो॑ऽमन्यत । किङ्कि॒व्वाँ अ॑कर॒मिति॑ । स च॒न्द्रं म॒ आह॒रेति॒ प्राल॑पत् । तच्च॒न्द्रम॑सश्चन्द्रम॒स्त्वम् । य ए॒वव्वेँद॑ ।।  ।। च॒न्द्रवा॑ने॒व भ॑वति । तन्दे॒वा अ॑ब्रुवन्न् । सु॒वीर्यो॑ मर्या॒ यथा॑ गोपा॒यत॒ इति॑ । तथ्सूर्य॑स्य सूर्य॒त्वम् । य ए॒वव्वेँद॑ । नैन॑न्दभ्नोति । कश्च॒ नास्मि॒न्वा इ॒दमि॑न्द्रि॒यं प्रत्य॑स्था॒दिति॑ । तदिन्द्र॑स्येन्द्र॒त्वम् । य ए॒वव्वेँद॑ । इ॒न्द्रि॒या॒व्ये॑व भ॑वति ।।  ।। अ॒यव्वाँ इ॒दं प॑र॒मो॑ऽभू॒दिति॑ । तत्प॑रमे॒ष्ठिन॑ परमेष्ठि॒त्वम् । य ए॒वव्वेँद॑ । प॒र॒मामे॒व काष्ठाङ्गच्छति । तन्दे॒वास्स॑म॒न्तं पर्य॑विशन्न् । वस॑व पु॒रस्तात् । रु॒द्रा द॑ख्षिण॒तः । आ॒दि॒त्या प॒श्चात् । विश्वे॑ दे॒वा उ॑त्तर॒तः । अङ्गि॑रस प्र॒त्यञ्चम् ।।  ।। सा॒ध्या पराञ्चम् । य ए॒वव्वेँद॑ । उपै॑न समा॒नास्सव्विँ॑शन्ति । स प्र॒जाप॑तिरे॒व भू॒त्वा प्र॒जा आव॑यत् । ता अ॑स्मै॒ नाति॑ष्ठन्ता॒न्नाद्या॑य । ता मुखं॑ पु॒रस्ता॒त्पश्य॑न्तीः । द॒ख्षि॒ण॒त पर्या॑यन्न् । स द॑ख्षिण॒त पर्य॑वर्तयत । ता मुखं॑ पु॒रस्ता॒त्पश्य॑न्तीः । मुख॑न्दख्षिण॒तः ।।  ।। प॒श्चात्पर्या॑यन्न् । स प॒श्चात्पर्य॑वर्तयत । ता मुखं॑ पु॒रस्ता॒त्पश्य॑न्तीः । मुख॑न्दख्षिण॒तः । मुखं॑ प॒श्चात् । उ॒त्त॒र॒त पर्या॑यन्न् । स उ॑त्तर॒त पर्य॑वर्तयत । ता मुखं॑ पु॒रस्ता॒त्पश्य॑न्तीः । मुख॑न्दष्खिण॒तः । मुखं॑ प॒श्चात् ।।  ।। मुख॑मुत्तर॒तः । ऊ॒र्ध्वा उदा॑यन्न् । स उ॒परि॑ष्टा॒न्न्य॑वर्तयत । तास्स॒र्वतो॑मुखो भू॒त्वाऽऽव॑यत् । ततो॒ वै तस्मै प्र॒जा अति॑ष्ठन्ता॒न्नाद्या॑य । य ए॒वव्विँ॒द्वान्परि॑ च व॒र्तय॑ते॒ नि च॑ । प्र॒जाप॑तिरे॒व भू॒त्वा प्र॒जा अ॑त्ति । तिष्ठ॑न्तेऽस्मै प्र॒जा अ॒न्नाद्या॑य । अ॒न्ना॒द ए॒व भव॑ति ।।  ।। प॒द्भिर्मुखे॑न । ते दे॒वा प॒शून् वि॒त्वा । सु॒व॒र्गल्लोँ॒कमा॑यन्न् । ते॑ऽमुष्मि॑ल्लोँ॒के व्य॑ख्षुध्यन्न् । तेऽब्रुवन्न् । अ॒मुत॑प्रदान॒व्वाँ उप॑जिजीवि॒मेति॑ । ते स॒प्तहो॑तारय्यँ॒ज्ञव्विँ॒धाया॒यास्यम् । आ॒ङ्गी॒र॒सं प्राहि॑ण्वन्न् । ए॒तेना॒मुत्र॑ कल्प॒येति॑ । तस्य॒ वा इ॒यङ्कॢप्तिः॑ ।।  ।। यदि॒दङ्किञ्च॑ । य ए॒वव्वेँद॑ । कल्प॑तेऽस्मै । स वा अ॒यं म॑नु॒ष्ये॑षु य॒ज्ञस्स॒प्तहो॑ता । अ॒मुत्र॑ स॒द्भ्यो दे॒वेभ्यो॑ ह॒व्यव्वँ॑हति । य ए॒वव्वेँद॑ । उपै॑नय्यँ॒ज्ञो न॑मति । यो वै चतु॑र्होतृणान्नि॒दान॒व्वेँद॑ । नि॒दान॑वान्भवति । अ॒ग्नि॒हो॒त्रव्वैँ दश॑होतुर्नि॒दानम् । द॒र्श॒पू॒र्ण॒मासौ चतु॑र्होतुः । चा॒तु॒र्मा॒स्यानि॒ पञ्च॑होतुः । प॒शु॒ब॒न्धष्षड्ढो॑तुः । सौ॒म्योऽध्व॒रस्स॒प्तहो॑तुः । ए॒तद्वै चतु॑र्होतृणान्नि॒दानम् । य ए॒वव्वेँद॑ । नि॒दान॑वान्भवति ।।  ।। ब्र॒ह्म॒वा॒दिनो॑ वदन्ति । किञ्चतु॑र्होतृणाञ्चतुर्होतृ॒त्वमिति॑ । यदे॒वैषु च॑तु॒र्धा होता॑रः । तेन॒ चतु॑र्होतारः । तस्मा॒च्चतु॑र्होतार उच्यन्ते । तच्चतुर्॑होतृणाञ्चतुर्होतृ॒त्वम् । सोमो॒ वै चतु॑र्होता । अ॒ग्नि पञ्च॑होता । धा॒ता षड्ढो॑ता । इन्द्र॑स्स॒प्तहो॑ता ।।  ।। प्र॒जाप॑ति॒र्दश॑होता । य ए॒वञ्चतु॑र्होतृणा॒मृद्धिं॒ वेद॑ । ऋ॒ध्नोत्ये॒व । य ए॑षामे॒वं ब॒न्धुता॒व्वेँद॑ । बन्धु॑मान्भवति । य ए॑षामे॒वं कॢप्ति॒व्वेँद॑ । कल्प॑तेऽस्मै । य ए॑षामे॒वमा॒यत॑न॒व्वेँद॑ । आ॒यत॑नवान्भवति । य ए॑षामे॒वं प्र॑ति॒ष्ठाव्वेँद॑ ।।  ।। साम्नोऽधि॒ यजू॑ष्यसृजत । यजु॒र्भ्योऽधि॒ विष्णुम् । तद्विष्णु॒य्यँश॑ आर्च्छत् । तमाऽल॑भत । विष्णो॒रध्योष॑धीरसृजत । ओष॑धी॒भ्योऽधि॒ सोमम् । तथ्सोम॒य्यँश॑ आर्च्छत् । तमाऽल॑भत । सोमा॒दधि॑ प॒शून॑सृजत । प॒शुभ्योऽधीन्द्रम् ।।  ।। पृ॒थि॒वी न्य॑वर्तयत । सौष॑धीभि॒र्वन॒स्पति॑भिरपुष्यत् । वा॒युर्न्य॑वर्तयत । स मरी॑चीभिरपुष्यत् । अ॒न्तरि॑ख्ष॒न्न्य॑वर्तयत । तद्वयो॑भिरपुष्यत् । आ॒दि॒त्यो न्य॑वर्तयत । स र॒श्मिभि॑रपुष्यत् । द्यौर्न्य॑वर्तयत । सा नख्ष॑त्रैरपुष्यत् । च॒न्द्रमा॒ न्य॑वर्तयत । सौ॑ऽहोरा॒त्रैर॑र्धमा॒सैर्मासैर्॑ऋ॒तुभि॑स्सव्वँथ्स॒रेणा॑पुष्यत् । तान्पोषान्पुष्यति । यास्तेऽपु॑ष्यन्न् । य ए॒वव्विँ॒द्वान्नि च॑ व॒र्तय॑ते॒ परि॑ च ।।  ।। तस्य॒ वा अ॒ग्नेर्हिर॑ण्यं प्रतिजग्र॒हुषः॑ । अ॒र्धमि॑न्द्रि॒यस्यापाक्रामत् । तदे॒तेनै॒व प्रत्य॑गृह्णात् । तेन॒ वै सोऽर्धमि॑न्द्रि॒यस्या॒त्मन्नु॒पाध॑त्त । अ॒र्धमि॑न्द्रि॒यस्या॒त्मन्नु॒पाध॑त्ते । य ए॒वव्विँ॒द्वान् हिर॑ण्यं प्रतिगृ॒ह्णाति॑ । अथ॒ योऽवि॑द्वान्प्रति गृ॒ह्णाति॑ । अ॒र्धम॑स्येन्द्रि॒यस्याप॑ क्रामति । तस्य॒ वै सोम॑स्य॒ वास॑ प्रतिजग्र॒हुषः॑ । तृती॑यमिन्द्रि॒यस्यापाक्रामत् ।।  ।। तदे॒तेनै॒व प्रत्य॑गृह्णात् । तेन॒ वै स तृती॑यमिन्द्रि॒यस्या॒त्मन्नु॒पाध॑त्त । तृती॑यमिन्द्रि॒यस्या॒त्मन्नु॒पाध॑त्ते । य ए॒वव्विँ॒द्वान् वास॑प्रतिगृ॒ह्णाति॑ । अथ॒ योऽवि॑द्वान्प्रति गृ॒ह्णाति॑ । तृती॑यमस्येन्द्रि॒यस्याप॑ क्रामति । तस्य॒ वै रु॒द्रस्य॒ गां प्र॑तिजग्र॒हुषः॑ । च॒तु॒र्थमि॑न्द्रि॒यस्यापाक्रामत् । तामे॒तेनै॒व प्रत्य॑गृह्णात् । तेन॒ वै स च॑तु॒र्थमि॑न्द्रि॒यस्या॒त्मन्नु॒पाध॑त्त ।।  ।। च॒तु॒र्थमि॑न्द्रि॒यस्या॒त्मन्नु॒पाध॑त्ते । य ए॒वव्विँ॒द्वान्गां प्र॑तिगृ॒ह्णाति॑ । अथ॒ योऽवि॑द्वान्प्रतिगृ॒ह्णाति॑ । च॒तु॒र्थम॑स्येन्द्रि॒यस्याप॑ क्रामति । तस्य॒ वै वरु॑ण॒स्याश्वं॑ प्रतिजग्र॒हुषः॑ । प॒ञ्च॒ममि॑न्द्रि॒यस्यापाक्रामत् । तमे॒तेनै॒व प्रत्य॑गृह्णात् । तेन॒ वै स प॑ञ्च॒ममि॑न्द्रि॒यस्या॒त्मन्नु॒पाध॑त्त । प॒ञ्च॒ममि॑न्द्रि॒यस्या॒त्मन्नु॒पाध॑त्ते । य ए॒वव्विँ॒द्वानश्वं॑ प्रतिगृ॒ह्णाति॑ ।।  ।। अथ॒ योऽवि॑द्वान्प्रतिगृ॒ह्णाति॑ । प॒ञ्च॒मम॑स्येन्द्रि॒यस्याप॑ क्रामति । तस्य॒ वै प्र॒जाप॑ते॒ पुरु॑षं प्रतिजग्र॒हुषः॑ । ष॒ष्ठमि॑न्द्रि॒यस्यापाक्रामत् । तमे॒तेनै॒व प्रत्य॑गृह्णात् । तेन॒ वै स ष॒ष्ठमि॑न्द्रि॒यस्या॒त्मन्नु॒पाध॑त्त । ष॒ष्ठमि॑न्द्रि॒यस्या॒त्मन्नु॒पाध॑त्ते । य ए॒वव्विँ॒द्वान्पुरु॑षं प्रतिगृ॒ह्णाति॑ । अथ॒ योऽवि॑द्वान्प्रतिगृ॒ह्णाति॑ । ष॒ष्ठम॑स्येन्द्रि॒यस्याप॑ क्रामति ।।  ।। तस्य॒ वै मनो॒स्तल्पं॑ प्रतिजग्र॒हुषः॑ । स॒प्त॒ममि॑न्द्रि॒यस्यापाक्रामत् । तमे॒तेनै॒व प्रत्य॑गृह्णात् । तेन॒ वै स स॑प्त॒ममि॑न्द्रि॒यस्या॒त्मन्नु॒पाध॑त्त । स॒प्त॒ममि॑न्द्रि॒यस्या॒त्मन्नु॒पाध॑त्ते । य ए॒वव्विँ॒द्वास्तल्पं॑ प्रति गृ॒ह्णाति॑ । अथ॒ योऽवि॑द्वान्प्रति गृ॒ह्णाति॑ । स॒प्त॒मम॑स्येन्द्रि॒यस्याप॑ क्रामति । तस्य॒ वा उ॑त्ता॒नस्याङ्गीर॒सस्याप्रा॑णत्प्रतिजग्र॒हुषः॑ । अ॒ष्ट॒ममि॑न्द्रि॒यस्यापाक्रामत् ।।  ।। तदे॒तेनै॒व प्रत्य॑गृह्णात् । तेन॒ वै सोऽष्ट॒ममि॑न्द्रि॒यस्या॒त्मन्नु॒पाध॑त्त । अ॒ष्ट॒ममि॑न्द्रि॒यस्या॒त्मन्नु॒पाध॑त्ते । य ए॒वव्विँ॒द्वानप्रा॑णत्प्रतिगृ॒ह्णाति॑ । अथ॒ योऽवि॑द्वान्प्रतिगृ॒ह्णाति॑ । अ॒ष्ट॒मम॑स्येन्द्रि॒यस्याप॑ क्रामति । यद्वा इ॒दङ्किञ्च॑ । तथ्सर्व॑मुत्ता॒न ए॒वाङ्गी॑र॒स प्रत्य॑गृह्णात् । तदे॑नं॒ प्रति॑गृहीत॒न्नाहि॑नत् । यत्किञ्च॑ प्रतिगृह्णी॒यात् । तथ्सर्व॑मुत्ता॒नस्त्वाङ्गीर॒स प्रति॑गृह्णा॒त्वित्ये॒व प्रति॑गृह्णीयात् । इ॒यव्वाँ उ॑त्ता॒न आङ्गीर॒सः । अ॒नयै॒वैन॒त्प्रति॑ गृह्णाति । नैन॑ हिनस्ति ।।  ।। ब्र॒ह्म॒वा॒दिनो॑ वदन्ति । यद्दश॑होतारस्स॒त्रमास॑त । केन॒ ते गृ॒हप॑तिनाऽऽर्ध्नुवन्न् । केन॑ प्र॒जा अ॑सृज॒न्तेति॑ । प्र॒जाप॑तिना॒ वै ते गृ॒हप॑तिनाऽऽर्ध्नुवन्न् । तेन॑ प्र॒जा अ॑सृजन्त । यच्चतु॑र्होतारस्स॒त्रमास॑त । केन॒ ते गृ॒हप॑तिनाऽऽर्ध्नुवन्न् । केनौष॑धीरसृज॒न्तेति॑ । सोमे॑न॒ वै ते गृ॒हप॑तिनाऽऽर्ध्नुवन्न् ।।  ।। तेनौष॑धीरसृजन्त । यत्पञ्च॑होतारस्स॒त्रमास॑त । केन॒ ते गृ॒हप॑तिनाऽऽर्ध्नुवन्न् । केनै॒भ्यो लो॒केभ्योऽसु॑रा॒न्प्राणु॑दन्त । केनै॑षां प॒शून॑वृञ्ज॒तेति॑ । अ॒ग्निना॒ वै ते गृ॒हप॑तिनाऽऽर्ध्नुवन्न् । तेनै॒भ्यो लो॒केभ्योऽसु॑रा॒न्प्राणु॑दन्त । तेनै॑षां प॒शून॑वृञ्जत । यथ्षड्ढो॑तारस्स॒त्रमास॑त । केन॒ ते गृ॒हप॑तिनाऽऽर्ध्नुवन्न् ।।  ।। केन॒र्तून॑कल्पय॒न्तेति॑ । धा॒त्रा वै ते गृ॒हप॑तिनाऽऽर्ध्नुवन्न् । तेन॒र्तून॑कल्पयन्त । यथ्स॒प्तहो॑तारस्स॒त्रमास॑त । केन॒ ते गृ॒हप॑तिनाऽऽर्ध्नुवन्न् । केन॒ सुव॑रायन्न् । केने॒माल्लोँ॒कान्थ्सम॑तन्व॒न्निति॑ । अ॒र्य॒म्णा वै ते गृ॒हप॑तिनाऽऽर्ध्नुवन्न् । तेन॒ सुव॑रायन्न् । तेने॒माल्लोँ॒कान्थ्सम॑तन्व॒न्निति॑ ।।  ।। ए॒ते वै दे॒वा गृ॒हप॑तयः । तान् य ए॒वव्विँ॒द्वान् । अप्य॒न्यस्य॑ गार्हप॒ते दीख्ष॑ते । अ॒वा॒न्त॒रमे॒व स॒त्रिणा॑मृध्नोति । यो वा अ॑र्य॒मण॒व्वेँद॑ । दान॑कामा अस्मै प्र॒जा भ॑वन्ति । य॒ज्ञो वा अ॑र्य॒मा । आर्या॑वस॒तिरिति॒ वै तमा॑हु॒र्यं प्र॒शस॑न्ति । आर्या॑वस॒तिर्भ॑वति । य ए॒वव्वेँद॑ ।।  ।। यद्वा इ॒दङ्किञ्च॑ । तथ्सर्व॒ञ्चतु॑ऱ्होतारः । चतु॑र्होतृ॒भ्योऽधि॑ य॒ज्ञो निर्मि॑तः । स य ए॒वव्विँ॒द्वान् वि॒वदे॑त । अ॒हमे॒व भूयो॑ वेद । यश्चतु॑र्होतॄ॒न् वेदेति॑ । स ह्ये॑व भूयो॒ वेद॑ । यश्चतु॑र्होतॄ॒न् वेद॑ । यो वै चतु॑र्होतृणा॒॒ होतॄ॒न् वेद॑ । सर्वा॑सु प्र॒जास्वन्न॑मत्ति ।।  ।। प्र॒जाप॑ति प्र॒जास्सृ॒ष्ट्वा व्य॑स्रसत । स हृद॑यं भू॒तो॑ऽशयत् । आत्म॒न्॒ हा ३ इत्यह्व॑यत् । आप॒ प्रत्य॑शृण्वन्न् । ता अ॑ग्निहो॒त्रेणै॒व य॑ज्ञक्र॒तुनोप॑ प॒र्याव॑र्तन्त । ता कुसि॑न्ध॒मुपौ॑हन्न् । तस्मा॑दग्निहो॒त्रस्य॑ यज्ञक्र॒तोः । एक॑ ऋ॒त्विक् । च॒तु॒ष्कृत्वोऽह्व॑यत् । अ॒ग्निर्वा॒युरा॑दि॒त्यश्च॒न्द्रमाः ।।  ।। ते प्रत्य॑शृण्वन्न् । ते द॑र्शपूर्णमा॒साभ्या॑मे॒व य॑ज्ञक्र॒तुनोप॑ प॒र्याव॑र्तन्त । त उपौ॑हश्च॒त्वार्यङ्गा॑नि । तस्माद्दर्शपूर्णमा॒सयोर्यज्ञक्र॒तोः । च॒त्वार॑ ऋ॒त्विजः॑ । प॒ञ्च॒कृत्वोऽह्व॑यत् । प॒शव॒ प्रत्य॑शृण्वन्न् । ते चा॑तुर्मा॒स्यैरे॒व य॑ज्ञक्र॒तुनोप॑ प॒र्याव॑र्तन्त । त उपौ॑ह॒ल्लोँम॑ छ॒वीं मा॒॒समस्थि॑ म॒ज्जानम् । तस्माच्चातुर्मा॒स्यानाय्यँज्ञक्र॒तोः ।।  ।। पञ्च॒र्त्विजः॑ । ष॒ट्कृत्वोऽह्व॑यत् । ऋ॒तवः॒ प्रत्य॑शृण्वन्न् । ते प॑शुब॒न्धेनै॒व य॑ज्ञक्र॒तुनोप॑प॒र्याव॑र्तन्त । त उपौ॑ह॒न्थ्स्तना॑वा॒ण्डौ शि॒श्ञमवाञ्चं प्रा॒णम् । तस्मात्पशुब॒न्धस्य॑ यज्ञक्र॒तोः । षडृ॒त्विजः॑ । स॒प्त॒कृत्वोऽह्व॑यत् । होत्रा॒ प्रत्य॑शृण्वन्न् । तास्सौ॒म्येनै॒वाध्व॒रेण॑ यज्ञक्र॒तुनोप॑प॒र्याव॑र्तन्त ।।  ।। तानि॑ चा॒त्मन॑स्स्पृ॒णोति॑ । आ॒दि॒त्यस्य॑ च॒ सायु॑ज्यङ्गच्छति । च॒तुरुन्न॑यति । द्विर्जु॑होति । षड्ढो॑तारमे॒व तद्य॑ज्ञक्र॒तुमाप्नोति पशुब॒न्धम् । स्तना॑वा॒ण्डौ शि॒श्ञमवाञ्चं प्रा॒णम् । तानि॑ चा॒त्मन॑स्स्पृ॒णोति॑ । आ॒दि॒त्यस्य॑ च॒ सायु॑ज्यङ्गच्छति । च॒तुरुन्न॑यति । द्विर्जु॑होति ।।  ।। प्र॒जाप॑तिरकामयत॒ प्र जा॑ये॒येति॑ । स तपो॑ऽतप्यत । सोऽन्तर्वा॑नभवत् । स हरि॑तश्श्या॒वो॑ऽभवत् । तस्मा॒थ्स्त्र्य॑न्तर्व॑त्नी । हरि॑णी स॒ती श्या॒वा भ॑वति । स वि॒जाय॑मानो॒ गर्भे॑णाताम्यत् । स ता॒न्त कृ॒ष्णश्श्या॒वो॑ऽभवत् । तस्मात्ता॒न्त कृ॒ष्णश्श्या॒वो भ॑वति । तस्यासु॑रे॒वाजी॑वत् ।।  ।। तेनासु॒नाऽसु॑रानसृजत । तदसु॑राणामसुर॒त्वम् । य ए॒वमसु॑राणामसुर॒त्वव्वेँद॑ । असु॑माने॒व भ॑वति । नैन॒मसु॑र्जहाति । सोऽसु॑रान्थ्सृ॒ष्ट्वा पि॒तेवा॑मन्यत । तदनु॑ पि॒तॄन॑सृजत । तत्पि॑तृ॒णां पि॑तृ॒त्वम् । य ए॒वं पि॑तृ॒णां पि॑तृ॒त्वव्वेँद॑ । पि॒तेवै॒व स्वानां भवति ।।  ।। यन्त्य॑स्य पि॒तरो॒ हवम् । स पि॒तॄन्थ्सृ॒ष्ट्वाऽऽम॑नस्यत् । तदनु॑ मनु॒ष्या॑नसृजत । तन्म॑नु॒ष्या॑णां मनुष्य॒त्वम् । य ए॒वं म॑नु॒ष्या॑णां मनुष्य॒त्वव्वेँद॑ । म॒न॒स्व्ये॑व भ॑वति । नैनं॒ मनु॑र्जहाति । तस्मै॑ मनु॒ष्यान्थ्ससृजा॒नाय॑ । दिवा॑ देव॒त्राऽभ॑वत् । तदनु॑ दे॒वान॑सृजत । तद्दे॒वानान्देव॒त्वम् । य ए॒वन्दे॒वानान्देव॒त्वव्वेँद॑ । दिवा॑ है॒वास्य॑ देव॒त्रा भ॑वति । तानि॒ वा ए॒तानि॑ च॒त्वार्यम्भा॑सि । दे॒वा म॑नु॒ष्या पि॒तरोऽसु॑राः । तेषु॒ सर्वे॒ष्वम्भो॒ नभ॑ इव भवति । य ए॒वव्वेँद॑ ।।  ।। ब्र॒ह्म॒वा॒दिनो॑ वदन्ति । यो वा इ॒मव्विँ॒द्यात् । यतो॒ऽयं पव॑ते । यद॑भि॒ पव॑ते । यद॑भि सं॒पव॑ते । सर्व॒मायु॑रियात् । न पु॒राऽऽयु॑ष॒ प्र मी॑येत । प॒शु॒मान्थ्स्यात् । वि॒न्देत॑ प्र॒जाम् । यो वा इ॒मव्वेँद॑ ।।  ।। यतो॒ऽयं पव॑ते । यद॑भि॒ पव॑ते । यद॑भि सं॒पव॑ते । सर्व॒मायु॑रेति । न पु॒राऽऽयु॑ष॒ प्र मी॑यते । प॒शु॒मान्भ॑वति । वि॒न्दते प्र॒जाम् । अ॒द्भ्य प॑वते । अ॒पो॑ऽभि प॑वते । अ॒पो॑ऽभि संप॑वते ।।  ।। अ॒स्या प॑वते । इ॒माम॒भि प॑वते । इ॒माम॒भि संप॑वते । अ॒ग्ने प॑वते । अ॒ग्निम॒भि प॑वते । अ॒ग्निम॒भि सं प॑वते । अ॒न्तरि॑ख्षात्पवते । अ॒न्तरि॑ख्षम॒भि प॑वते । अ॒न्तरि॑ख्षम॒भि सं प॑वते । आ॒दि॒त्यात्प॑वते ।।  ।। तस्मात्पु॒रस्ता॒द्वान्तम् । सर्वा प्र॒जा प्रति॑ नन्दन्ति । प्रा॒णो हि प्रि॒य प्र॒जानाम् । प्रा॒ण इ॑व प्रि॒य प्र॒जानां भवति । य ए॒वव्वेँद॑ । स वा ए॒ष प्रा॒ण ए॒व । अथ॒ यद्द॑ख्षिण॒तो वाति॑ । मा॒त॒रिश्वै॒व भू॒त्वा द॑ख्षिण॒तो वा॑ति । तस्माद्दख्षिण॒तो वान्त॑व्विँ॒द्यात् । सर्वा॒ दिश॒ आ वा॑ति ।।  ।। अथ॒ यदु॑त्तर॒तो वाति॑ । स॒वि॒तैव भू॒त्त्वोत्त॑र॒तो वा॑ति । स॒वि॒तेव॒ स्वानां भवति । य ए॒वव्वेँद॑ । स वा ए॒ष स॑वि॒तैव । ते य ए॑नं पु॒रस्ता॑दा॒यन्त॑मुप॒वद॑न्ति । य ए॒वास्य॑ पु॒रस्तात्पा॒प्मानः॑ । तास्तेऽप॑ घ्नन्ति । पु॒रस्ता॒दित॑रान्पा॒प्मन॑स्सचन्ते । अथ॒ य ए॑नन्दख्षिण॒त आ॒यन्त॑मुप॒वद॑न्ति ।।  ।। य ए॒वास्य॑ दख्षिण॒त पा॒प्मानः॑ । तास्तेऽप॑ घ्नन्ति । द॒ख्षि॒ण॒त इत॑रान्पा॒प्मन॑स्सचन्ते । अथ॒ य ए॑नं प॒श्चादा॒यन्त॑मुप॒ वद॑न्ति । य ए॒वास्य॑ प॒श्चात्पा॒प्मानः॑ । तास्तेऽप॑ घ्नन्ति । प॒श्चादित॑रान्पा॒प्मन॑स्सचन्ते । अथ॒ य ए॑नमुत्तर॒त आ॒यन्त॑मुप॒ वद॑न्ति । य ए॒वास्योत्तर॒त पा॒प्मानः॑ । तास्तेऽप॑ घ्नन्ति ।।  ।। उ॒त्त॒र॒त इत॑रान्पा॒प्मन॑स्सचन्ते । तस्मा॑दे॒वव्विँ॒द्वान् । वीव॑ नृत्येत् । प्रेव॑ चलेत् । व्यस्ये॑वा॒ख्ष्यौ भा॑षेत । म॒ण्टये॑दिव । क्रा॒थये॑दिव । शृ॒ङ्गा॒येते॑व । उ॒त मोप॑ वदेयुः । उ॒त मे॑ पा॒प्मान॒मप॑ हन्यु॒रिति॑ । स यान्दिश॑ स॒निमे॒ष्यन्थ्स्यात् । य॒दा तान्दिश॒व्वाँतो॑ वा॒यात् । अथ॒ प्रवे॒यात् । प्र वा॑ धावयेत् । सा॒तमे॒व र॑दि॒तव्व्यूँ॑ढङ्ग॒न्धम॒भि प्रच्य॑वते । आऽस्य॒ तञ्ज॑नप॒दं पूर्वा॑ की॒र्तिर्ग॑च्छति । दान॑कामा अस्मै प्र॒जा भ॑वन्ति । य ए॒वव्वेँद॑ ।।  ।। यव्वाँ का॒मये॑त प्रि॒यस्स्या॒दिति॑ । तस्मा॑ ए॒त स्था॑ग॒रम॑लङ्का॒रङ्क॑ल्पयि॒त्वा । दश॑होतारं पु॒रस्ताद्व्या॒ख्याय॑ । चतु॑ऱ्होतारन्दख्षिण॒तः । पञ्च॑होतारं प॒श्चात् । षड्ढो॑तारमुत्तर॒तः । स॒प्तहो॑तारमु॒परि॑ष्टात् । सं॒भा॒रैश्च॒ पत्नि॑भिश्च॒ मुखे॑ऽल॒ङ्कृत्य॑ । आस्यार्धव्व्रँ॑जेत् । प्रि॒यो है॒व भ॑वति ।।  ।। ब्रह्मात्म॒न्वद॑सृजत । तद॑कामयत । समा॒त्मना॑ पद्ये॒येति॑ । आत्म॒न्नात्म॒न्नित्याम॑न्त्रयत । तस्मै॑ दश॒म हू॒त प्रत्य॑शृणोत् । स दश॑हूतोऽभवत् । दश॑हूतो ह॒ वै नामै॒षः । तव्वाँ ए॒तन्दश॑हूत॒॒ सन्तम् । दश॑हो॒तेत्याच॑ख्षते प॒रोख्षे॑ण । प॒रोख्ष॑प्रिया इव॒ हि दे॒वाः ।।  ।। प॒रोख्ष॑प्रिया इव॒ हि दे॒वाः । आत्म॒न्नात्म॒न्नित्याम॑न्त्रयत । तस्मै॑ चतु॒र्थ हू॒त प्रत्य॑शृणोत् । स चतु॑ऱ्हूतोऽभवत् । चतु॑र्हूतो ह॒ वै नामै॒षः । तव्वाँ ए॒तञ्चतु॑र्हूत॒॒ सन्तम् । चतु॑र्हो॒तेत्याच॑ख्षते प॒रोख्षे॑ण । प॒रोख्ष॑प्रिया इव॒ हि दे॒वाः । तम॑ब्रवीत् । त्वव्वैँ मे॒ नेदि॑ष्ठ हू॒त प्रत्य॑श्रौषीः । त्वयै॑नानाख्या॒तार॒ इति॑ । तस्मा॒न्नु है॑ना॒॒श्चतु॑र्होतार॒ इत्याच॑ख्षते । तस्माच्छुश्रू॒षु पु॒त्राणा॒॒ हृद्य॑तमः । नेदि॑ष्ठो॒ हृद्य॑तमः । नेदि॑ष्ठो॒ ब्रह्म॑णो भवति । य ए॒वव्वेँद॑ ।।  ।। तास्त्वव्वृँ॑त्रहञ्जहि । वस्व॒स्मभ्य॒मा भ॑र । अग्ने॒ यो नो॑ऽभि॒दास॑ति । स॒मा॒नो यश्च॒ निष्ट्यः॑ । इ॒ध्मस्ये॑व प्र॒ख्षाय॑तः । मा तस्योच्छे॑षि॒ किञ्च॒न । त्वमि॑न्द्राभि॒भूर॑सि । दे॒वो विज्ञा॑तवीर्यः । वृ॒त्र॒हा पु॑रु॒चेत॑नः । अप॒ प्राच॑ इन्द्र॒ विश्वा॑ अ॒मित्रान्॑ ।।  ।। मन्ये त्वा जा॒तवे॑दसम् । स ह॒व्या व॑ख्ष्यानु॒षक् । विश्वा॑नि नो दु॒र्गहा॑ जातवेदः । सिन्धु॒न्न ना॒वा दु॑रि॒ताऽति॑ पर्षि । अग्ने॑ अत्रि॒वन्मन॑सा गृणा॒नः । अ॒स्माकं॑ बोध्यवि॒ता त॒नूनाम् । पू॒षा गा अन्वे॑तु नः । पू॒षा र॑ख्ष॒त्वर्व॑तः । पू॒षा वाज॑ सनोतु नः । पू॒षेमा आशा॒ अनु॑वेद॒ सर्वाः ।।  ।। प्रति॑ ष्म देव॒ रीष॑तः । तपि॑ष्ठैर॒जरो॑ दह । अग्ने॒ हसि॒ न्य॑त्रिणम् । दीद्य॒न्मर्त्ये॒ष्वा । स्वे ख्षये॑ शुचिव्रत । आ वा॑त वाहि भेष॒जम् । वि वा॑त वाहि॒ यद्रपः॑ । त्व हि वि॒श्वभे॑षजः । दे॒वानान्दू॒त ईय॑से । द्वावि॒मौ वातौ॑ वातः ।।  ।। प्र ण॒ आयू॑षि तारिषत् । त्वम॑ग्ने अ॒यासि॑ । अ॒या सन्मन॑सा हि॒तः । अ॒या सन् ह॒व्यमू॑हिषे । अ॒या नो॑ धेहि भेष॒जम् । इ॒ष्टो अ॒ग्निराहु॑तः । स्वाहा॑कृत पिपर्तु नः । स्व॒गा दे॒वेभ्य॑ इ॒दन्नमः॑ । कामो॑ भू॒तस्य॒ भव्य॑स्य । स॒म्राडेको॒ विरा॑जति ।।  ।। तन्मृ॒त्युर्निऱ्ऋ॑त्या सव्विँदा॒नः । पु॒रादि॒ष्टादाहु॑तीरस्य हन्तु । या॒तु॒धाना॒ निऱ्ऋ॑ति॒रादु॒रख्षः॑ । ते अ॑स्य घ्न॒न्त्वनृ॑तेन स॒त्यम् । इन्द्रे॑षिता॒ आज्य॑मस्य मथ्नन्तु । मा तथ्समृ॑द्धि॒ यद॒सौ क॒रोति॑ । हन्मि॑ ते॒ऽहङ्कृ॒त ह॒विः । यो मे॑ घो॒रमची॑कृतः । अपाञ्चौ त उ॒भौ बा॒हू । अप॑नह्याम्या॒स्यम् ।।  ।। अप॑ नह्यामि ते बा॒हू । अप॑ नह्याम्या॒स्यम् । अ॒ग्नेर्दे॒वस्य॒ ब्रह्म॑णा । सर्व॑न्तेऽवधिषङ्कृ॒तम् । पु॒राऽमुष्य॑ वषट्का॒रात् । य॒ज्ञन्दे॒वेषु॑ नस्कृधि । स्वि॑ष्टम॒स्माकं॑ भूयात् । माऽस्मान्प्राप॒न्नरा॑तयः । अन्ति॑ दू॒रे स॒तो अ॑ग्ने । भ्रातृ॑व्यस्याभि॒दास॑तः ।।  ।। व॒ष॒ट्का॒रेण॒ वज्रे॑ण । कृ॒त्या ह॑न्मि कृ॒ताम॒हम् । यो मा॒ नक्त॒न्दिवा॑ सा॒यम् । प्रा॒तश्चाह्नो॑ नि॒पीय॑ति । अ॒द्या तमि॑न्द्र॒ वज्रे॑ण । भातृ॑व्यं पादयामसि । इन्द्र॑स्य गृ॒हो॑ऽसि॒ तन्त्वा । प्रप॑द्ये॒ सगु॒स्साश्वः॑ । स॒ह यन्मे॒ अस्ति॒ तेन॑ । ईडे॑ अ॒ग्निव्विँ॑प॒श्चितम् ।।  ।। गि॒रा य॒ज्ञस्य॒ साध॑नम् । श्रु॒ष्टी॒वान॑न्धि॒तावा॑नम् । अग्ने॑ श॒केम॑ ते व॒यम् । यम॑न्दे॒वस्य॑ वा॒जिनः॑ । अति॒ द्वेषा॑सि तरेम । अव॑तं मा॒ सम॑नसौ॒ समो॑कसौ । सचे॑तसौ॒ सरे॑तसौ । उ॒भौ माम॑वतञ्जातवेदसौ । शि॒वौ भ॑वतम॒द्य नः॑ । स्व॒यङ्कृ॑ण्वा॒नस्सु॒गमप्र॑यावम् ।।  ।। सा नो॑ दे॒वी सु॒हवा॒ शर्म॑ यच्छतु । आत्वा॑ऽहार्षम॒न्तर॑भूः । ध्रु॒वस्ति॒ष्ठावि॑चाचलिः । विश॑स्त्वा॒ सर्वा॑ वाञ्छन्तु । मा त्वद्रा॒ष्ट्रमधि॑ भ्रशत् । ध्रु॒वा द्यौर्ध्रु॒वा पृ॑थि॒वी । ध्रु॒वव्विँश्व॑मि॒दञ्जग॑त् । ध्रु॒वा ह॒ पर्व॑ता इ॒मे । ध्रु॒वो राजा॑ वि॒शाम॒यम् । इ॒हैवैधि॒ मा व्य॑थिष्ठाः ।।  ।। पर्व॑त इ॒वावि॑चाचलिः । इन्द्र॑ इवे॒ह ध्रु॒वस्ति॑ष्ठ । इ॒ह रा॒ष्ट्रमु॑ धारय । अ॒भिति॑ष्ठ पृतन्य॒तः । अध॑रे सन्तु॒ शत्र॑वः । इन्द्र॑ इव वृत्र॒हा ति॑ष्ठ । अ॒पः ख्षेत्रा॑णि स॒ञ्जयन्न्॑ । इन्द्र॑ एणमदीधरत् । ध्रु॒वन्ध्रु॒वेण॑ ह॒विषा । तस्मै॑ दे॒वा अधि॑ब्रवन्न् । अ॒यञ्च॒ ब्रह्म॑ण॒स्पतिः॑ ।।  ।। मा त्वख्षेत्रा॒ण्यर॑णानि गन्म । वृ॒ञ्जे ह॒विर्नम॑सा ब॒र्॒हिर॒ग्नौ । अया॑मि॒ स्रुग्घृ॒तव॑ती सुवृ॒क्तिः । अम्य॑ख्षि॒ सद्म॒ सद॑ने पृथि॒व्याः । अश्रा॑यि य॒ज्ञस्सूर्ये॒ न चख्षुः॑ । इ॒हार्वाञ्च॒मति॑ ह्वये । इन्द्र॒ञ्जैत्रा॑य॒ जेत॑वे । अ॒स्माक॑मस्तु॒ केव॑लः । अ॒र्वाञ्च॒मिन्द्र॑म॒मुतो॑ हवामहे । यो गो॒जिद्ध॑न॒जिद॑श्व॒जिद्यः ।।  ।। इ॒मन्नो॑ य॒ज्ञव्विँ॑ह॒वे जु॑षस्व । अ॒स्य कु॑र्मो हरिवो मे॒दिन॑न्त्वा । असं॑मृष्टो जायसे मातृ॒वोश्शुचिः॑ । म॒न्द्र क॒विरुद॑तिष्ठो॒ विव॑स्वतः । घृ॒तेन॑ त्वा वर्धयन्नग्न आहुत । धू॒मस्ते॑ के॒तुर॑भवद्दि॒वि श्रि॒तः । अ॒ग्निरग्रे प्रथ॒मो दे॒वता॑नाम् । सय्याँ॑तानामुत्त॒मो विष्णु॑रासीत् । यज॑मानाय परि॒गृह्य॑ दे॒वान् । दी॒ख्षये॒द ह॒विरा ग॑च्छतन्नः ।।  ।। प्र यस्स॒त्राचा॒ मन॑सा॒ यजा॑तै । ए॒ताव॑न्त॒न्नर्य॑मा॒ विवा॑सात् । विच॑क्रमे पृथि॒वीमे॒ष ए॒ताम् । ख्षेत्रा॑य॒ विष्णु॒र्मनु॑षे दश॒स्यन्न् । ध्रु॒वासो॑ अस्य की॒रयो॒ जना॑सः । उ॒रु॒ख्षि॒ति सु॒जनि॑मा चकार । त्रिर्दे॒व पृ॑थि॒वीमे॒ष ए॒ताम् । विच॑क्रमे श॒तर्च॑सं महि॒त्वा । प्र विष्णु॑रस्तु त॒वस॒स्तवी॑यान् । त्वे॒ष ह्य॑स्य॒ स्थवि॑रस्य॒ नाम॑ ।।  ।। प्रारो॑चय॒न्मन॑वे के॒तुमह्नाम् । अवि॑न्द॒ज्ज्योति॑र्बृह॒ते रणा॑य । अश्वि॑ना॒वव॑से॒ निह्व॑ये वाम् । आ नू॒नय्याँ॑त सुकृ॒ताय॑ विप्रा । प्रा॒त॒र्यु॒क्तेन॑ सु॒वृता॒ रथे॑न । उ॒पाग॑च्छत॒मव॒साग॑तन्नः । अ॒वि॒ष्टन्धी॒ष्वश्वि॑ना न आ॒सु । प्र॒जाव॒द्रेतो॒ अह्र॑यन्नो अस्तु । आवान्तो॒के तन॑ये॒ तूतु॑जानाः । सु॒रत्ना॑सो दे॒ववी॑तिङ्गमेम ।।  ।। त्व सो॑म॒ क्रतु॑भिस्सु॒क्रतु॑र्भूः । त्वदन्दख्षैस्सु॒दख्षो॑ वि॒श्ववे॑दाः । त्वव्वृँषा॑ वृष॒त्वेभि॑र्महि॒त्वा । द्यु॒म्नेभि॑र्द्यु॒म्न्य॑भवो नृ॒चख्षाः । अषा॑ढय्युँ॒थ्सु पृत॑नासु॒ पप्रिम् । सु॒व॒र्॒षाम॒प्स्वाव्वृँ॒जन॑स्य गो॒पाम् । भ॒रे॒षु॒जा सु॑ख्षि॒ति सु॒श्रव॑सम् । जय॑न्त॒न्त्वामनु॑ मदेम सोम । भवा॑ मि॒त्रो न शेव्यो॑ घृ॒तासु॑तिः । विभू॑तद्युम्न एव॒ या उ॑ स॒प्रथाः ।।  ।। हरि॑वर्पस॒ङ्गिरः॑ । आच॑र्षणि॒प्रा वृ॑ष॒भो जना॑नाम् । राजा॑ कृष्टी॒नां पु॑रुहू॒त इन्द्रः॑ । स्तु॒तश्र॑व॒स्यन्नव॒सोप॑म॒द्रिक् । यु॒क्त्वा हरी॒ वृष॒णायाह्य॒र्वाङ् । प्र यथ्सिन्ध॑व प्रस॒वय्यँदायन्न्॑ । आप॑स्समु॒द्र र॒थ्ये॑व जग्मुः । अत॑श्चि॒दिन्द्र॒स्सद॑सो॒ वरी॑यान् । यदी॒॒ सोम॑ पृ॒णति॑ दु॒ग्धो अ॒॒शुः । ह्वया॑मसि॒ त्वेन्द्र॑ या॒ह्य॑र्वाङ् ।।  ।। न॒क्त॒ञ्जा॒ताऽस्यो॑षधे । रामे॒ कृष्णे॒ असि॑क्नि च । इ॒द र॑जनि रजय । कि॒लासं॑ पलि॒तञ्च॒ यत् । कि॒लास॑ञ्च पलि॒तञ्च॑ । निरि॒तो ना॑शया॒ पृष॑त् । आ न॒स्स्वो अ॑श्ञुता॒व्वँर्णः॑ । परा श्वे॒तानि॑ पातय । असि॑तन्ते नि॒लय॑नम् । आ॒स्थान॒मसि॑त॒न्तव॑ ।।  ।। असि॑क्नियस्योषधे । निरि॒तो ना॑शया॒ पृष॑त् । अ॒स्थि॒जस्य॑ कि॒लास॑स्य । त॒नू॒जस्य॑ च॒ यत्त्व॒चि । कृ॒त्यया॑ कृ॒तस्य॒ ब्रह्म॑णा । लख्ष्म॑ श्वे॒तम॑नीनशम् । सरू॑पा॒ नाम॑ ते मा॒ता । सरू॑पो॒ नाम॑ ते पि॒ता । सरू॑पाऽस्योषधे॒ सा । सरू॑पमि॒दङ्कृ॑धि ।।  ।। शु॒न हु॑वेम म॒घवा॑न॒मिन्द्रम् । अ॒स्मिन्भरे॒ नृत॑म॒व्वाँज॑सातौ । शृ॒ण्वन्त॑मु॒ग्रमू॒तये॑ स॒मथ्सु॑ । घ्नन्त॑व्वृँ॒त्राणि॑ स॒ञ्जित॒न्धना॑नाम् । धू॒नु॒थ द्यां पर्व॑तान्दा॒शुषे॒ वसु॑ । नि वो॒ वना॑ जिहते॒ याम॑ नो भि॒या । को॒पय॑थ पृथि॒वीं पृ॑श्ञिमातरः । यु॒धे यदु॑ग्राः॒ पृष॑ती॒रयु॑ग्ध्वम् । प्रवे॑पयन्ति॒ पर्व॑तान् । विवि॑ञ्चन्ति॒ वन॒स्पतीन्॑ ।।  ।। दे॒वा भा॒गय्यँथा॒ पूर्वे । स॒ञ्जा॒ना॒ना उ॒पास॑त । स॒मा॒नो मन्त्र॒स्समि॑तिस्समा॒नी । स॒मा॒नं मन॑स्स॒ह चि॒त्तमे॑षाम् । स॒मा॒नङ्केतो॑ अ॒भि स र॑भध्वम् । सं॒ज्ञाने॑न वो ह॒विषा॑ यजामः । स॒मा॒नी व॒ आकू॑तिः । स॒मा॒ना हृद॑यानि वः । स॒मा॒नम॑स्तु वो॒ मनः॑ । यथा॑ व॒स्सुस॒हास॑ति ।।  ।। सं॒ज्ञान॑न्न॒स्स्वैः । सं॒ज्ञान॒मर॑णैः । सं॒ज्ञान॑मश्विना यु॒वम् । इ॒हास्मासु॒ निय॑च्छतम् । सं॒ज्ञानं॑ मे॒ बृह॒स्पतिः॑ । सं॒ज्ञान॑ सवि॒ता क॑रत् । सं॒ज्ञान॑मश्विना यु॒वम् । इ॒ह मह्य॒न्नि य॑च्छतम् । उप॑ च्छा॒यामि॑व॒ घृणेः । अग॑न्म॒ शर्म॑ ते व॒यम् ।।  ।। शिप्रि॑न्वाजानां पते । शची॑व॒स्तव॑ द॒॒सना । आ तू न॑ इन्द्र भाजय । गोष्वश्वे॑षु शु॒भ्रुषु॑ । स॒हस्रे॑षु तुवीमघ । यद्दे॑वा देव॒हेड॑नम् । देवा॑सश्चकृ॒मा व॒यम् । आदि॑त्या॒स्तस्मान्मा यू॒यम् । ऋ॒तस्य॒र्तेन॑ मुञ्चत । ऋ॒तस्य॒र्तेना॑दित्याः ।।  ।। यज॑त्रा मु॒ञ्चते॒ह मा । य॒ज्ञैर्वो॑ यज्ञवाहसः । आ॒शिख्ष॑न्तो॒ न शे॑किम । मेद॑स्वता॒ यज॑मानाः । स्रु॒चाऽऽज्ये॑न॒ जुह्व॑तः । अ॒का॒मा वो॑ विश्वेदेवाः । शिख्ष॑न्तो॒ नोप॑ शेकिम । यदि॒ दिवा॒ यदि॒ नक्तम् । एन॑ एन॒स्योक॑रत् । भू॒तं मा॒ तस्मा॒द्भव्य॑ञ्च ।।  ।। द्रु॒प॒दादि॑व मुञ्चतु । द्रु॒प॒दादि॒वेन्मु॑मुचा॒नः । स्वि॒न्नस्स्ना॒त्वी मला॑दिव । पू॒तं प॒वित्रे॑णे॒वाज्यम् । विश्वे॑ मुञ्चन्तु॒ मैन॑सः । उद्व॒यन्तम॑स॒स्परि॑ । पश्य॑न्तो॒ ज्योति॒रुत्त॑रम् । दे॒वन्दे॑व॒त्रा सूर्यम् । अग॑न्म॒ ज्योति॑रुत्त॒मम् ।।  ।। त स॒ध्रीची॑रू॒तयो॒ वृष्णि॑यानि । पौस्या॑नि नि॒युत॑स्सश्चु॒रिन्द्रम् । स॒मु॒द्रन्न सिन्ध॑व उ॒क्थशु॑ष्माः । उ॒रु॒व्यच॑स॒ङ्गिर॒ आ वि॑शन्ति । इन्द्रा॑य॒ गिरो॒ अनि॑शितसर्गाः । अ॒प प्रैर॑य॒न्थ्सग॑रस्य बु॒ध्नात् । यो अख्षे॑णेव च॒क्रिया॒ शची॑भिः । विष्व॑क्त॒स्तम्भ॑ पृथि॒वीमु॒त द्याम् । अख्षो॑दय॒च्छव॑सा॒ ख्षाम॑बु॒ध्नम् । वार्णवा॑त॒स्तवि॑षीभि॒रिन्द्रः॑ ।।  ।। दृ॒ढान्यौघ्नादु॒शमा॑न॒ ओजः॑ । अवा॑भिनत्क॒कुभ॒ पर्व॑तानाम् । आ नो॑ अग्ने सुके॒तुना । र॒यिव्विँ॒श्वायु॑पोषसम् । मा॒र्डी॒कन्धे॑हि जी॒वसे । त्व सो॑म म॒हे भगम् । त्वय्यूँन॑ ऋताय॒ते । दख्ष॑न्दधासि जी॒वसे । रथ॑य्युँञ्जते म॒रुत॑श्शु॒भे सु॒गम् । सूरो॒ न मि॑त्रावरुणा॒ गवि॑ष्टिषु ।।  ।। अ॒व॒व्यय॒न्नसि॑तन्देव॒ वस्वः॑ । दवि॑ध्वतो र॒श्मय॒स्सूर्य॑स्य । चर्मे॒वावा॑धु॒स्तमो॑ अ॒फ्स्व॑न्तः । प॒र्जन्या॑य॒ प्र गा॑यत । दि॒वस्पु॒त्राय॑ मी॒ढुषे । स नो॑ य॒वस॑मिच्छतु । अच्छा॑ वद त॒वस॑ङ्गी॒र्भिरा॒भिः । स्तु॒हि प॒र्जन्य॒न्नम॒साऽऽवि॑वास । कनि॑क्रदद्वृष॒भो जी॒रदा॑नुः । रेतो॑ दधा॒त्वोष॑धीषु॒ गर्भम् ।।  ।। यो गर्भ॒मोष॑धीनाम् । गवाङ्कृ॒णोत्यर्व॑ताम् । प॒र्जन्य॑ पुरु॒षीणाम् । तस्मा॒ इदा॒स्ये॑ ह॒विः । जू॒होता॒ मधु॑मत्तमम् । इडान्नस्स॒य्यँत॑ङ्करत् । ति॒स्रो यद॑ग्ने श॒रद॒स्त्वामित् । शुचि॑ङ्घृ॒तेन॒ शुच॑यस्सप॒र्यन्न् । नामा॑नि चिद्दधिरे य॒ज्ञिया॑नि । असू॑दयन्त त॒नुव॒स्सुजा॑ताः ।।  ।। इन्द्र॑श्च नश्शुनासीरौ । इ॒मय्यँ॒ज्ञं मि॑मिख्षतम् । गर्भ॑न्धत्त स्व॒स्तये । ययो॑रि॒दव्विँश्वं॒ भुव॑नमा वि॒वेश॑ । ययो॑रान॒न्दो निहि॑तो॒ मह॑श्च । शुना॑सीरावृ॒तुभि॑स्सव्विँदा॒नौ । इन्द्र॑वन्तौ ह॒विरि॒दञ्जु॑षेथाम् । आघा॒ये अ॒ग्निमि॑न्ध॒ते । स्तृ॒णन्ति॑ ब॒र्॒हिरा॑नु॒षक् । येषा॒मिन्द्रो॒ युवा॒ सखा । अग्न॒ इन्द्र॑श्च मे॒दिना । ह॒थो वृ॒त्राण्य॑प्र॒ति । यु॒व हि वृ॑त्र॒हन्त॑मा । याभ्या॒॒ सुव॒रज॑य॒न्नग्र॑ ए॒व । यावा॑तस्थ॒तुर्भुव॑नस्य॒ मध्ये । प्रच॑र्ष॒णी वृ॑षणा॒ वज्र॑बाहू । अ॒ग्नी इन्द्रा॑वृत्र॒हणा॑ हुवे वाम् ।।  ।। उप॑ नस्सू॒नवो॒ गिरः॑ । शृ॒ण्वन्त्व॒मृत॑स्य॒ ये । सु॒मृ॒डी॒का भ॑वन्तु नः । अ॒द्या नो॑ देव सवितः । प्र॒जाव॑थ्सावी॒स्सौभ॑गम् । परा॑ दु॒ष्वप्नि॑य सुव । विश्वा॑नि देव सवितः । दु॒रि॒तानि॒ परा॑ सुव । यद्भ॒द्रन्तन्म॒ आ सु॑व । शुचि॑म॒र्कैर्बृह॒स्पतिम् ।।  ।। क॒नात्का॒भान्न॒ आ भ॑र । प्र॒य॒फ्स्यन्नि॑व स॒क्थ्यौ । वि न॑ इन्द्र॒ मृधो॑ जहि । कनी॑खुनदिव सा॒पयन्न्॑ । अ॒भि न॒स्सुष्टु॑तिन्नय । प्र॒जाप॑तिस्स्त्रि॒याय्यँशः॑ । मु॒ष्कयो॑रदधा॒थ्सपम् । काम॑स्य॒ तृप्ति॑मान॒न्दम् । तस्याग्ने भाजये॒ह मा । मोद॑ प्रमो॒द आ॑न॒न्दः ।।  ।। मु॒ष्कयो॒र्निहि॑त॒स्सपः॑ । सृ॒त्वेव॒ काम॑स्य तृप्याणि । दख्षि॑णानां प्रतिग्र॒हे । मन॑सश्चि॒त्तमाकू॑तिम् । वा॒चस्स॒त्यम॑शीमहि । प॒शू॒ना रू॒पमन्न॑स्य । यश॒श्श्रीश्श्र॑यतां॒ मयि॑ । यथा॒ऽहम॒स्या अतृ॑प स्त्रि॒यै पुमान्॑ । यथा॒ स्त्री तृप्य॑ति पु॒॒सि प्रि॒ये प्रि॒या । ए॒वं भग॑स्य तृप्याणि ।।  ।। य॒ज्ञस्य॒ काम्य॑ प्रि॒यः । ददा॒मीत्य॒ग्निर्व॑दति । तथेति॑ वा॒युरा॑ह॒ तत् । हन्तेति॑ स॒त्यञ्च॒न्द्रमाः । आ॒दि॒त्यस्स॒त्यमोमिति॑ । आप॒स्तथ्स॒त्यमा भ॑रन्न् । यशो॑ य॒ज्ञस्य॒ दख्षि॑णाम् । अ॒सौ मे॒ काम॒स्समृ॑द्ध्यताम् । न हि स्पश॒मवि॑दन्न॒न्यम॒स्मात् । वै॒श्वा॒न॒रात्पु॑रए॒तार॑म॒ग्नेः ।।  ।। अथे॑ममन्थन्न॒मृत॒ममू॑राः । वै॒श्वा॒न॒रङ्ख्षेत्र॒जित्या॑य दे॒वाः । येषा॑मि॒मे पूर्वे॒ अर्मा॑स॒ आसन्न्॑ । अ॒यू॒पास्सद्म॒ विभृ॑ता पु॒रूणि॑ । वैश्वा॑नर॒ त्वया॒ ते नु॒त्ताः । पृ॒थि॒वीम॒न्याम॒भित॑स्थु॒र्जना॑सः । पृ॒थि॒वीं मा॒तरं॑ म॒हीम् । अ॒न्तरि॑ख्ष॒मुप॑ ब्रुवे । बृ॒ह॒तीमू॒तये॒ दिवम् । विश्वं॑ बिभर्ति पृथि॒वी ।।  ।। ततः॑ ख्षरत्य॒ख्षरम् । तद्विश्व॒मुप॑ जीवति । इन्द्रा॒सूरा॑ ज॒नय॑न्वि॒श्वक॑र्मा । म॒रुत्वा॑ अस्तु ग॒णवान्थ्सजा॒तवान्॑ । अ॒स्य स्नु॒षा श्वशु॑रस्य॒ प्रशि॑ष्टिम् । स॒पत्ना॒ वाचं॒ मन॑सा॒ उपा॑सताम् । इन्द्र॒स्सूरो॑ अतर॒द्रजा॑सि । स्नु॒षा स॒पत्ना॒ श्वशु॑रो॒ऽयम॑स्तु । अ॒य शत्रूञ्जयतु॒ जर्हृ॑षाणः । अ॒यव्वाँज॑ञ्जयतु॒ वाज॑सातौ । अ॒ग्निः ख्ष॑त्र॒भृदनि॑भृष्ट॒मोजः॑ । स॒ह॒स्रियो॑ दीप्यता॒मप्र॑युच्छन्न् । वि॒भ्राज॑मानस्समिधा॒न उ॒ग्रः । आऽन्तरि॑ख्षमरुह॒दग॒न्द्याम् ।।  ।। वृषाऽस्य॒॒शुर्वृ॑ष॒भाय॑ गृह्यसे । वृषा॒ऽयमु॒ग्रो नृ॒चख्ष॑से । दि॒व्य क॑र्म॒ण्यो॑ हि॒तो बृ॒हन्नाम॑ । वृ॒ष॒भस्य॒ या क॒कुत् । वि॒षू॒वान् वि॑ष्णो भवतु । अ॒यय्योँ मा॑म॒को वृषा । अथो॒ इन्द्र॑ इव दे॒वेभ्यः॑ । वि ब्र॑वीतु॒ जनेभ्यः । आयु॑ष्मन्त॒व्वँर्च॑स्वन्तम् । अथो॒ अधि॑पतिव्विँ॒शाम् ।।  ।। अ॒स्या पृ॑थि॒व्या अध्य॑ख्षम् । इ॒ममि॑न्द्र वृष॒भङ्कृ॑णु । यस्सु॒शृङ्ग॑स्सुवृष॒भः । क॒ल्याणो॒ द्रोण॒ आहि॑तः । कार्षी॑वल प्रगाणेन । वृ॒ष॒भेण॑ यजामहे । वृ॒ष॒भेण॒ यज॑मानाः । अक्रू॑रेणेव स॒र्पिषा । मृध॑श्च॒ सर्वा॒ इन्द्रे॑ण । पृत॑नाश्च जयामसि ।।  ।। यस्या॒यमृ॑ष॒भो ह॒विः । इन्द्रा॑य परिणी॒यते । जया॑ति॒ शत्रु॑मा॒यन्तम् । अथो॑ हन्ति पृतन्य॒तः । नृ॒णामह॑ प्र॒णीरस॑त् । अग्र॑ उद्भिन्द॒ताम॑सत् । इन्द्र॒ शुष्म॑न्त॒नुवा॒ मेर॑यस्व । नी॒चा विश्वा॑ अ॒भिति॑ष्ठा॒भिमा॑तीः । नि शृ॑णीह्याबा॒धय्योँ॒ नो॒ अस्ति॑ । उ॒रुन्नो॑ लो॒कङ्कृ॑णुहि जीरदानो ।।  ।। सुव॑र्वतीर॒प ए॑ना जयेम । यो घृ॒तेना॒भिमा॑नितः । इन्द्र॒ जैत्रा॑य जज्ञिषे । स न॒स्सङ्का॑सु पारय । पृ॒त॒ना॒साह्ये॑षु च । इन्द्रो॑ जिगाय पृथि॒वीम् । अ॒न्तरि॑ख्ष॒॒ सुव॑र्म॒हत् । वृ॒त्र॒हा पु॑रु॒चेत॑नः । इन्द्रो॑ जिगाय॒ सह॑सा॒ सहा॑सि । इन्द्रो॑ जिगाय॒ पृत॑नानि॒ विश्वा ।।  ।। अ॒स्मे द्या॑वापृथिवी॒ भूरि॑ वा॒मम् । सन्दु॑हाथाङ्घर्म॒दुघे॑व धे॒नुः । अ॒य राजा प्रि॒य इन्द्र॑स्य भूयात् । प्रि॒यो गवा॒मोष॑धीनामु॒तापाम् । यु॒नज्मि॑ त उत्त॒राव॑न्त॒मिन्द्रम् । येन॒ जया॑सि॒ न परा॒ जया॑सै । स त्वा॑ऽकरेकवृष॒भ स्वानाम् । अथो॑ राजन्नुत्त॒मं मा॑न॒वानाम् । उत्त॑र॒स्त्वमध॑रे ते स॒पत्नाः । एक॑वृषा॒ इन्द्र॑सखा जिगी॒वान् ।।  ।। प्र स॒द्यो अ॑ग्ने॒ अत्येष्य॒न्यान् । आ॒विर्यस्मै॒ चारु॑तरो ब॒भूथ॑ । ई॒डेन्यो॑ वपु॒ष्यो॑ वि॒भावा । प्रि॒यो वि॒शामति॑थि॒र्मानु॑षीणाम् । ब्रह्म॑ज्येष्ठा वी॒र्या॑ संभृ॑तानि । ब्रह्माग्रे॒ ज्येष्ठ॒न्दिव॒मा त॑तान । ऋ॒तस्य॒ ब्रह्म॑ प्रथ॒मोत ज॑ज्ञे । तेना॑र्हति॒ ब्रह्म॑णा॒ स्पर्धि॑तु॒ङ्कः । ब्रह्म॒ स्रुचो॑ घृ॒तव॑तीः । ब्रह्म॑णा॒ स्वर॑वो मि॒ताः ।।  ।। स प्र॑त्न॒वन्नवी॑यसा । अग्ने द्यु॒म्नेन॑ स॒य्यँता । बृ॒हत्त॑तन्थ भा॒नुना । नव॒न्नु स्तोम॑म॒ग्नये । दि॒वश्श्ये॒नाय॑ जीजनम् । वसो कु॒विद्व॒नाति॑ नः । स्वा॒रु॒हा यस्य॒ श्रियो॑ दृ॒शे । र॒यिर्वी॒रव॑तो यथा । अग्रे॑ य॒ज्ञस्य॒ चेत॑तः । अदाभ्य पुरए॒ता ।।  ।। उ॒भा हि वा॑ सु॒हवा॒ जोह॑वीमि । ता वाज॑ स॒द्य उ॑श॒ते धेष्ठा । अ॒ग्निरिन्द्रो॒ नव॑स्य नः । अ॒स्य ह॒व्यस्य॑ तृप्यताम् । इ॒ह दे॒वौ स॑ह॒स्रिणौ । य॒ज्ञन्न॒ आ हि गच्छ॑ताम् । वसु॑मन्त सुव॒र्विदम् । अ॒स्य ह॒व्यस्य॑ तृप्यताम् । अ॒ग्निरिन्द्रो॒ नव॑स्य नः । विश्वान्दे॒वास्त॑र्पयत ।।  ।। ह॒विषो॒ऽस्य नव॑स्य नः । सु॒व॒र्विदो॒ हि ज॑ज्ञि॒रे । एदं ब॒र्॒हिस्सु॒ष्टरी॑मा॒ नवे॑न । अ॒यय्यँ॒ज्ञो यज॑मानस्य भा॒गः । अ॒यं ब॑भूव॒ भुव॑नस्य॒ गर्भः॑ । विश्वे॑ दे॒वा इ॒दम॒द्याग॑मिष्ठाः । इ॒मे नु द्यावा॑पृथि॒वी स॒मीची । त॒न्वा॒ने य॒ज्ञं पु॑रु॒पेश॑सन्धि॒या । आऽस्मै॑ पृणीतां॒ भुव॑नानि॒ विश्वा । प्र॒जां पुष्टि॑म॒मृत॒न्नवे॑न ।।  ।। स ए॑ना वि॒द्वान् य॑ख्ष्यसि । नव॒॒ स्तोम॑ञ्जुषस्व नः । अ॒ग्नि प्र॑थ॒म प्राश्ञा॑तु । स हि वेद॒ यथा॑ ह॒विः । शि॒वा अ॒स्मभ्य॒मोष॑धीः । कृ॒णोतु॑ वि॒श्वच॑र्षणिः । भ॒द्रान्न॒श्श्रेय॒स्सम॑नैष्ट देवाः । त्वया॑ऽव॒सेन॒ सम॑शीमहि त्वा । स नो॑ मयो॒भू पि॑तो॒ आ वि॑शस्व । शन्तो॒काय॑ त॒नुवे स्यो॒नः । ए॒तमु॒ त्यं मधु॑ना॒ सय्युँ॑त॒य्यँवम् । सर॑स्वत्या॒ अधि॑म॒नाव॑चर्कृषुः । इन्द्र॑ आसी॒थ्सीर॑पतिश्श॒तक्र॑तुः । की॒नाशा॑ आसन्म॒रुत॑स्सु॒दान॑वः ।।  ।। प्रा॒णो र॑ख्षति॒ विश्व॒मेज॑त् । इर्यो॑ भू॒त्वा ब॑हु॒धा ब॒हूनि॑ । स इथ्सर्व॒व्व्याँ॑नशे । यो दे॒वो दे॒वेषु॑ वि॒भूर॒न्तः । आवृ॑दू॒दात् ख्षेत्रिय॑ध्व॒गद्वृषा । तमित्प्रा॒णं मन॒सोप॑ शिख्षत । अग्र॑न्दे॒वाना॑मि॒दम॑त्तु नो ह॒विः । मन॑स॒श्चित्ते॒दम् । भू॒तं भव्य॑ञ्च गुप्यते । तद्धि दे॒वेष्व॑ग्रि॒यम् ।।  ।। आ न॑ एतु पुरश्च॒रम् । स॒ह दे॒वैरि॒म हवम् । मन॒श्श्रेय॑सिश्रेयसि । कर्म॑न् य॒ज्ञप॑ति॒न्दध॑त् । जु॒षतां मे॒ वागि॒द ह॒विः । वि॒राड्दे॒वी पु॒रोहि॑ता । ह॒व्य॒वा़डन॑पायिनी । यया॑ रू॒पाणि॑ बहु॒धा वद॑न्ति । पेशा॑सि दे॒वा प॑र॒मे ज॒नित्रे । सा नो॑ वि॒राडन॑पस्फुरन्ती ।।  ।। वाग्दे॒वी जु॑षतामि॒द ह॒विः । चख्षु॑र्दे॒वाना॒ञ्ज्योति॑र॒मृते॒ न्य॑क्तम् । अ॒स्य वि॒ज्ञाना॑य बहु॒धा निधी॑यते । तस्य॑ सु॒म्नम॑शीमहि । मा नो॑ हासीद्विचख्ष॒णम् । आयु॒रिन्न॒ प्रतीर्यताम् । अन॑न्धा॒श्चख्षु॑षा व॒यम् । जी॒वा ज्योति॑रशीमहि । सुव॒र्ज्योति॑रु॒तामृतम् । श्रोत्रे॑ण भ॒द्रमु॒त शृ॑ण्वन्ति स॒त्यम् । श्रोत्रे॑ण॒ वाचं॑ बहु॒धोद्यमा॑नाम् । श्रोत्रे॑ण॒ मोद॑श्च॒ मह॑श्च श्रूयते । श्रोत्रे॑ण॒ सर्वा॒ दिश॒ आ शृ॑णोमि । येन॒ प्राच्या॑ उ॒त द॑ख्षि॒णा । प्र॒तीच्यै॑ दि॒शश्शृ॒ण्वन्त्यु॑त्त॒रात् । तदिच्छ्रोत्रं॑ बहु॒धोद्यमा॑नम् । अ॒रान्न ने॒मि परि॒ सर्वं॑ बभूव ।।  ।। जेता॒ शत्रू॒न्॒ विच॑ऱ्षणिः । आकूत्यै त्वा॒ कामा॑य त्वा स॒मृधे त्वा । पु॒रो द॑धे अमृत॒त्वाय॑ जी॒वसे । आकू॑तिम॒स्याव॑से । काम॑मस्य॒ समृ॑द्ध्यै । इन्द्र॑स्य युञ्जते॒ धियः॑ । आकू॑तिन्दे॒वीं मन॑स पु॒रो द॑धे । य॒ज्ञस्य॑ मा॒ता सु॒हवा॑ मे अस्तु । यदि॒च्छामि॒ मन॑सा॒ सका॑मः । वि॒देय॑मेन॒द्धृद॑ये॒ निवि॑ष्टम् ।।  ।। सेद॒ग्निर॒ग्नीरत्येत्य॒न्यान् । यत्र॑ वा॒जी तन॑यो वी॒डुपा॑णिः । स॒हस्र॑पाथा अ॒ख्षरा॑ स॒मेति॑ । आशा॑नान्त्वाऽऽशापा॒लेभ्यः॑ । च॒तुर्भ्यो॑ अ॒मृतेभ्यः । इ॒दं भू॒तस्याध्य॑ख्षेभ्यः । वि॒धेम॑ ह॒विषा॑ व॒यम् । विश्वा॒ आशा॒ मधु॑ना॒ स सृ॑जामि । अ॒न॒मी॒वा आप॒ ओष॑धयो भवन्तु । अ॒यय्यँज॑मानो॒ मृधो॒ व्य॑स्यताम् ।।  ।। अह॒न्नहि॒मन्व॒पस्त॑तर्द । प्रव॒ख्षणा॑ अभिन॒त्पर्व॑तानाम् । अह॒न्नहिं॒ पर्व॑ते शिश्रिया॒णम् । त्वष्टाऽस्मै॒ वज्र॑ स्व॒र्य॑न्ततख्ष । वा॒श्रा इ॑व धे॒नव॒स्स्यन्द॑मानाः । अञ्ज॑स्समु॒द्रमव॑ जग्मु॒रापः॑ । वृ॒षा॒यमा॑णोऽवृणीत॒ सोमम् । त्रिक॑द्रुकेष्वपिबथ्सु॒तस्य॑ । आ साय॑कं म॒घवा॑ दत्त॒ वज्रम् । अह॑न्नेनं प्रथम॒जा मही॑नाम् ।।  ।। नाता॑रीरस्य॒ समृ॑तिं व॒धानाम् । स रु॒जानाः पिपिष॒ इन्द्र॑शत्रुः । विश्वो॒ विहा॑या अर॒तिः । वसु॑र्दधे॒ हस्ते॒ दख्षि॑णे । त॒रणि॒र्न शि॑श्रथत् । श्र॒व॒स्य॑या॒ न शि॑श्रथत् । विश्व॑स्मा॒ इदि॑षुध्य॒से । दे॒व॒त्रा ह॒व्यमूहि॑षे । विश्व॑स्मा॒ इथ्सु॒कृते॒ वार॑मृण्वति । अ॒ग्निर्द्वारा॒ व्यृ॑ण्वति ।।  ।। उदु॒ज्जिहा॑नो अ॒भि काम॑मी॒रयन्न्॑ । प्र॒पृ॒ञ्चन्विश्वा॒ भुव॑नानि पू॒र्वथा । आ के॒तुना॒ सुष॑मिद्धो॒ यजि॑ष्ठः । काम॑न्नो अग्ने अ॒भिह॑र्य दि॒ग्भ्यः । जु॒षा॒णो ह॒व्यम॒मृते॑षु दू॒ढ्यः॑ । आ नो॑ र॒यिं ब॑हु॒लाङ्गोम॑ती॒मिषम् । नि धे॑हि॒ यख्ष॑द॒मृते॑षु॒ भूषन्न्॑ । अश्वि॑ना य॒ज्ञमाग॑तम् । दा॒शुष॒ पुरु॑दससा । पू॒षा र॑ख्षतु नो र॒यिम् ।।  ।। य॒ज्ञो रा॒यो य॒ज्ञ ई॑शे॒ वसू॑नाम् । य॒ज्ञस्स॒स्याना॑मु॒त सु॑ख्षिती॒नाम् । य॒ज्ञ इ॒ष्ट पू॒र्वचि॑त्तिन्दधातु । य॒ज्ञो ब्र॑ह्म॒ण्वा अप्ये॑तु दे॒वान् । अ॒यय्यँ॒ज्ञो व॑र्धता॒ङ्गोभि॒रश्वैः । इ॒यव्वेँदि॑स्स्वप॒त्या सु॒वीरा । इ॒दं ब॒र्॒हिरति॑ ब॒र्॒हीष्य॒न्या । इ॒मय्यँ॒ज्ञव्विँश्वे॑ अवन्तु दे॒वाः । भग॑ ए॒व भग॑वा अस्तु देवाः । तेन॑ व॒यं भग॑वन्तस्स्याम ।।  ।। हिर॑ण्यवाशीरिषि॒रस्सु॑व॒र्॒षाः । बृह॒स्पति॒स्स स्वा॑वे॒श ऋ॒ष्वाः । पू॒रू सखि॑भ्य आसु॒तिङ्क॑रिष्ठः । पूष॒॒ स्तव॑ व्र॒ते व॒यम् । नरि॑ष्येम क॒दाच॒न । स्तो॒तार॑स्त इ॒ह स्म॑सि । यास्ते॑ पूष॒न्ना वो॑ अ॒न्तस्स॑मु॒द्रे । हि॒र॒ण्ययी॑र॒न्तरि॑ख्षे॒ चर॑न्ति । याभि॑र्यासि दू॒त्या सूर्य॑स्य । कामे॑न कृ॒तश्रव॑ इ॒च्छमा॑नः ।।  ।। उ॒तो अ॑रण्या॒निस्सा॒यम् । श॒क॒टीरि॑व सर्जति । गाम॒ङ्गैष॒ आ ह्व॑यति । दार्व॒ङ्गैष॒ उपा॑वधीत् । वस॑न्नरण्या॒न्या सा॒यम् । अक्रु॑क्ष॒दिति॑ मन्यते । न वा अ॑रण्या॒निऱ्ह॑न्ति । अ॒न्यश्चेन्नाभि॒गच्छ॑ति । स्वा॒दो फल॑स्य ज॒ग्ध्वा । यत्र॒ कामं॒ नि प॑द्यते । आञ्ज॑नगन्धी सुर॒भीम् । ब॒ह्व॒न्नामकृ॑षीवलाम् । प्राहं मृ॒गाणां मा॒तरम् । अ॒र॒ण्या॒नीम॑शसिषम् ।।  ।। द्रु॒ह पाशा॒न्निऱ्ऋ॑त्यै॒ चोद॑मोचि । अहा॒ अव॑र्ति॒मवि॑दथ्स्यो॒नम् । अप्य॑भूद्भ॒द्रे सु॑कृ॒तस्य॑ लो॒के । सूर्य॑मृ॒तं तम॑सो॒ ग्राह्या॒ यत् । दे॒वा अमु॑ञ्च॒न्नसृ॑ज॒न्व्ये॑नसः । ए॒वम॒हमि॒मं क्षेत्रि॒याज्जा॑मिश॒॒सात् । द्रु॒हो मु॑ञ्चामि॒ वरु॑णस्य॒ पाशात् । बृह॑स्पते यु॒वमिन्द्र॑श्च॒ वस्वः॑ । दि॒व्यस्ये॑शाथे उ॒त पार्थि॑वस्य । ध॒त्त र॒यि स्तु॑व॒ते की॒रये॑चित् ।।  ।। यू॒यं पा॑त स्व॒स्तिभि॒स्सदा॑ नः । दे॒वा॒युध॒मिन्द्र॒मा जोहु॑वानाः । वि॒श्वा॒वृध॑म॒भि ये रक्ष॑माणाः । येन॑ ह॒ता दी॒र्घमध्वा॑न॒मायन्न्॑ । अ॒न॒न्तमर्थ॒मनि॑वर्थ्स्यमानाः । यत्ते॑ सुजाते हि॒मव॑थ्सु भेष॒जम् । म॒यो॒भूश्शन्त॑मा॒ यद्धृ॒दोसि॑ । ततो॑ नो देहि सीबले । अ॒दो गि॒रिभ्यो॒ अधि॒ यत्प्र॒धाव॑सि । स॒॒शोभ॑माना क॒न्ये॑व शुभ्रे ।।  ।। तां त्वा॒ मुद्ग॑ला ह॒विषा॑ वर्धयन्ति । सा न॑स्सीबले र॒यिमा भा॑जये॒ह । पूर्वं॑ देवा॒ अप॑रेणानु॒पश्य॒ञ्जन्म॑भिः । जन्मा॒न्यव॑रै॒ परा॑णि । वेदा॑नि देवा अ॒यम॒स्मीति॒ माम् । अ॒ह हि॒त्वा शरी॑रं ज॒रस॑ प॒रस्तात् । प्रा॒णा॒पा॒नौ चक्षु॒श्श्रोत्रम् । वाचं॒ मन॑सि॒ संभृ॑ताम् । हि॒त्वा शरी॑रं ज॒रस॑ प॒रस्तात् । आ भूतिं॒भूतिं॑ व॒यम॑श्ञवामहै । इ॒मा ए॒व ता उ॒षसो॒ या प्र॑थ॒मा व्यौच्छन्न्॑ । ता दे॒व्य॑ कुर्वते॒ पञ्च॑रू॒पा । शश्व॑ती॒र्नाव॑पृज्यन्ति । न ग॑म॒न्त्यन्तम् ।।  ।। दी॒र्घा॒यु॒त्वाय॑ श॒तशा॑रदाय । प्रति॑गृभ्णामि मह॒ते वी॒र्या॑य । आयु॑रसि वि॒श्वायु॑रसि । स॒र्वायु॑रसि॒ सर्व॒मायु॑रसि । सर्व॑म्म॒ आयु॑र्भूयात् । सर्व॒मायु॑र्गेषम् । भूर्भुव॒स्सुवः॑ । अ॒ग्निर्धर्मे॑णान्ना॒दः । मृ॒त्युर्धर्मे॒णान्न॑पतिः । ब्रह्म॑ क्ष॒त्र स्वाहा ।।  ।। प्र॒जाप॑ति प्रणे॒ता । बृह॒स्पतिः॑ पुरए॒ता । य॒म पन्थाः । च॒न्द्रमाः पुनर॒सुस्स्वाहा । अ॒ग्निर॑न्ना॒दोऽन्न॑पतिः । अ॒न्नाद्य॑म॒स्मिन् य॒ज्ञे यज॑मानाय ददातु॒ स्वाहा । सोमो॒ राजा॒ राज॑पतिः । रा॒ज्यम॒स्मिन् य॒ज्ञे यज॑मानाय ददातु॒ स्वाहा । वरु॑णस्स॒म्राट्थ्स॒म्राट्प॑तिः । साम्राज्यम॒स्मिन् य॒ज्ञे यज॑मानाय ददातु॒ स्वाहा ।।  ।। स ईं पाहि॒ य ऋ॑जी॒षी तरु॑त्रः । यश्शिप्र॑वान्वृष॒भो यो म॑ती॒नाम् । यो गोत्र॒भिद्व॑ज्र॒भृद्यो ह॑रि॒ष्ठाः । स इ॑न्द्र चि॒त्रा अ॒भि तृ॑न्धि॒ वाजान्॑ । आ ते॒ शुष्मो॑ वृष॒भ ए॑तु प॒श्चात् । ओत्त॒राद॑ध॒रागा पु॒रस्तात् । आ वि॒श्वतो॑ अ॒भिसमेत्व॒र्वाङ् । इन्द्र॑ द्यु॒म्न सुव॑र्वद्धेह्य॒स्मे । प्रोष्व॑स्मै पुरोर॒थम् । इन्द्रा॑य शू॒षम॑र्चत ।।  ।। अ॒भीके॑ चिदु लोक॒कृत् । स॒ङ्गे स॒मथ्सु॑ वृत्र॒हा । अ॒स्माकं॑ बोधि चोदि॒ता । नभ॑न्तामन्य॒केषाम् । ज्या॒का अधि॒ धन्व॑सु । इन्द्रं॑ व॒य शु॑ना॒सीरम् । अ॒स्मिन् य॒ज्ञे ह॑वामहे । आ वाजै॒रुप॑ नो गमत् । इन्द्रा॑य॒ शुना॒सीरा॑य । स्रु॒चा जु॑हुत नो ह॒विः ।।  ।। मरु॑तो वृत्र॒हन्त॑मम् । येन॒ ज्योति॒रज॑नयन्नृता॒वृधः॑ । दे॒वं दे॒वाय॒ जागृ॑वि । कामि॒हैका॒ क इ॒मे प॑त॒ङ्गाः । मा॒न्था॒ला कुलि॒परि॑मापतन्ति । अना॑वृतैना॒न्प्रध॑मन्तु दे॒वाः । सौप॑र्णं॒ चक्षु॑स्त॒नुवा॑ विदेय । ए॒वा व॑न्दस्व॒ वरु॑णं बृ॒हन्तम् । न॒म॒स्याधीर॑म॒मृत॑स्य गो॒पाम् । स न॒श्शर्म॑ त्रि॒वरू॑थं॒ विय॑सत् ।।  ।। यू॒यं पा॑त स्व॒स्तिभि॒स्सदा॑ नः । नाके॑ सुप॒र्णमुप॒ यत्पत॑न्तम् । हृ॒दा वेन॑न्तो अ॒भ्यच॑क्षत त्वा । हिर॑ण्यपक्षं॒ वरु॑णस्य दू॒तम् । य॒मस्य॒ योनौ॑ शकु॒नं भु॑र॒ण्युम् । शं नो॑ दे॒वीर॒भिष्ट॑ये । आपो॑ भवन्तु पी॒तये । शय्योँर॒भि स्र॑वन्तु नः । ईशा॑ना॒ वार्या॑णाम् । क्षय॑न्तीश्चऱ्षणी॒नाम् ।।  ।। अ॒पो या॑चामि भेष॒जम् । अ॒फ्सु मे॒ सोमो॑ अब्रवीत् । अ॒न्तर्विश्वा॑नि भेष॒जा । अ॒ग्निं च॑ वि॒श्वश॑म्भुवम् । आप॑श्च वि॒श्वभे॑षजीः । यद॒फ्सु ते॑ सरस्वति । गोष्वश्वे॑षु॒ यन्मधु॑ । तेन॑ मे वाजिनीवति । मुख॑मङ्ग्धि सरस्वति । या सर॑स्वती वैशम्भ॒ल्या ।।  ।। स्वा॒द्वीं त्वा स्वा॒दुना । ती॒व्रां ती॒व्रेण॑ । अ॒मृता॑म॒मृते॑न । मधु॑मतीं॒ मधु॑मता । सृ॒जामि॒ स सोमे॑न । सोमोऽस्य॒श्विभ्यां पच्यस्व । सर॑स्वत्यै पच्यस्व । इन्द्रा॑य सु॒त्राम्णे॑ पच्यस्व । परी॒तो षि॑ञ्चता सु॒तम् । सोमो॒ य उ॑त्त॒म ह॒विः ।।  ।। द॒ध॒न्वा यो नर्यो॑ अ॒प्स्व॑न्तरा । सु॒षाव॒ सोम॒मद्रि॑भिः । पु॒नातु॑ ते परि॒स्रुतम् । सोम॒॒ सूर्य॑स्य दुहि॒ता । वारे॑ण॒ शश्व॑ता॒ तना । वा॒यु पू॒त प॒वित्रे॑ण । प्राङ्ख्सोमो॒ अति॑द्रुतः । इन्द्र॑स्य॒ युज्य॒स्सखा । वा॒यु पू॒त प॒वित्रे॑ण । प्र॒त्यङ्ख्सोमो॒ अति॑द्रुतः ।।  ।। सोमो॒ राजा॒ऽमृत॑ सु॒तः । ऋ॒जी॒षेणा॑जहान्मृ॒त्युम् । ऋ॒तेन॑ स॒त्यमि॑न्द्रि॒यम् । विपान॑ शु॒क्रमन्ध॑सः । इन्द्र॑स्येन्द्रि॒यम् । इ॒दं पयो॒ऽमृतं॒ मधु॑ । सोम॑म॒द्भ्यो व्य॑पिबत् । छन्द॑सा ह॒॒सश्शु॑चि॒षत् । ऋ॒तेन॑ स॒त्यमि॑न्द्रि॒यम् । अ॒द्भ्यः ख्षी॒रव्व्यँ॑पिबत् ।।  ।। क्रुङ्ङाङ्गिर॒सो धि॒या । ऋ॒तेन॑ स॒त्यमि॑न्द्रि॒यम् । अन्नात्परि॒स्रुतो॒ रसम् । ब्रह्म॑णा॒ व्य॑पिबत् ख्ष॒त्रम् । ऋ॒तेन॑ स॒त्यमि॑न्द्रि॒यम् । रेतो॒ मूत्र॒व्विँज॑हाति । योनिं॑ प्रवि॒शदि॑न्द्रि॒यम् । गर्भो॑ ज॒रायु॒णाऽऽवृ॑तः । उल्ब॑ञ्जहाति॒ जन्म॑ना । ऋ॒तेन॑ स॒त्यमि॑न्द्रि॒यम् ।।  ।। वेदे॑न रू॒पे व्य॑करोत् । स॒ता॒स॒ती प्र॒जाप॑तिः । ऋ॒तेन॑ स॒त्यमि॑न्द्रि॒यम् । सोमे॑न॒ सोमौ॒ व्य॑पिबत् । सु॒ता॒सु॒तौ प्र॒जाप॑तिः । ऋ॒तेन॑ स॒त्यमि॑न्द्रि॒यम् । दृ॒ष्ट्वा रू॒पे व्याक॑रोत् । स॒त्या॒नृ॒ते प्र॒जाप॑तिः । अश्र॑द्धा॒मनृ॒तेऽद॑धात् । श्र॒द्धा स॒त्ये प्र॒जाप॑तिः । ऋ॒तेन॑ स॒त्यमि॑न्द्रि॒यम् । दृ॒ष्ट्वा प॑रि॒स्रुतो॒ रसम् । शु॒क्रेण॑ शु॒क्रव्व्यँ॑पिबत् । पय॒स्सोमं॑ प्र॒जाप॑तिः । ऋ॒तेन॑ स॒त्यमि॑न्द्रि॒यम् । विपान॑ शु॒क्रमन्ध॑सः । इन्द्र॑स्येन्द्रि॒यम् । इ॒दं पयो॒ऽमृतं॒ मधु॑ ।।  ।। अमी॑मदन्त पि॒तरः॑ । अती॑तृपन्त पि॒तरः॑ । अमी॑मृजन्त पि॒तरः॑ । पित॑र॒श्शुन्ध॑ध्वम् । पु॒नन्तु॑ मा पि॒तर॑स्सो॒म्यासः॑ । पु॒नन्तु॑ मा पिताम॒हाः । पु॒नन्तु॒ प्रपि॑तामहाः । प॒वित्रे॑ण श॒तायु॑षा । पु॒नन्तु॑ मा पिताम॒हाः । पु॒नन्तु॒ प्रपि॑तामहाः ।।  ।। सीसे॑न॒ तन्त्रं॒ मन॑सा मनी॒षिणः॑ । ऊ॒र्णा॒सू॒त्रेण॑ क॒वयो॑ वयन्ति । अ॒श्विना॑ य॒ज्ञ स॑वि॒ता सर॑स्वती । इन्द्र॑स्य रू॒पं वरु॑णो भिष॒ज्यन्न् । तद॑स्य रू॒पम॒मृत॒॒ शची॑भिः । ति॒स्रोऽद॑धुर्दे॒वतास्सररा॒णाः । लोमा॑नि॒ शष्पैर्बहु॒धा न तोक्म॑भिः । त्वग॑स्य मा॒॒सम॑भव॒न्न ला॒जाः । तद॒श्विना॑ भि॒षजा॑ रु॒द्रव॑र्तनी । सर॑स्वती वयति॒ पेशो॒ अन्त॑रः ।।  ।। इन्द्र॑स्सु॒त्रामा॒ हृद॑येन स॒त्यम् । पु॒रो॒डाशे॑न सवि॒ता ज॑जान । यकृ॑त्क्लो॒मान॒व्वँरु॑णो भिष॒ज्यन्न् । मत॑स्ने वाय॒व्यैर्न मि॑नाति पि॒त्तम् । आ॒न्त्राणि॑ स्था॒ली मधु॒ पिन्व॑माना । गुदा॒ पात्रा॑णि सु॒दुघा॒ न धे॒नुः । श्ये॒नस्य॒ पत्र॒न्न प्ली॒हा शची॑भिः । आ॒स॒न्दी नाभि॑रु॒दर॒न्न मा॒ता । कु॒म्भो व॑नि॒ष्ठुर्ज॑नि॒ता शची॑भिः । यस्मि॒न्नग्रे॒ योन्या॒ङ्गर्भो॑ अ॒न्तः ।।।। अवि॒र्न मे॒षो न॒सि वी॒र्या॑य । प्रा॒णस्य॒ पन्था॑ अ॒मृतो॒ ग्रहाभ्याम् । सर॑स्व॒त्युप॒वाकैर्व्या॒नम् । नस्या॑नि ब॒र्॒हिर्बद॑रैर्जजान । इन्द्र॑स्य रू॒पमृ॑ष॒भो बला॑य । कर्णाभ्या॒ श्रोत्र॑म॒मृत॒ङ्ग्रहाभ्याम् । यवा॒ न ब॒र्॒हिर्भ्रु॒वि केस॑राणि । क॒र्कन्धु॑ जज्ञे॒ मधु॑ सार॒घं मुखात् । आ॒त्मन्नु॒पस्थे॒ न वृक॑स्य॒ लोम॑ । मुखे॒ श्मश्रू॑णि॒ न व्याघ्रलो॒मम् ।।  ।। मि॒त्रो॑ऽसि॒ वरु॑णोऽसि । सम॒हं विश्वैर्दे॒वैः । ख्ष॒त्रस्य॒ नाभि॑रसि । ख्ष॒त्रस्य॒ योनि॑रसि । स्यो॒नामा सी॑द । सु॒षदा॒मा सी॑द । मा त्वा॑ हिसीत् । मा मा॑ हिसीत् । निष॑साद धृ॒तव्र॑तो॒ वरु॑णः । प॒स्त्यास्वा ।।  ।। साम्राज्याय सु॒क्रतुः॑ । दे॒वस्य॑ त्वा सवि॒तु प्र॑स॒वे । अ॒श्विनोर्बा॒हुभ्याम् । पू॒ष्णो हस्ताभ्याम् । अ॒श्विनो॒र्भैष॑ज्येन । तेज॑से ब्रह्मवर्च॒साया॒भिषि॑ञ्चामि । दे॒वस्य॑ त्वा सवि॒तु प्र॑स॒वे । अ॒श्विनोर्बा॒हुभ्याम् । पू॒ष्णो हस्ताभ्याम् । सर॑स्वत्यै॒ भैष॑ज्येन ।।  ।। वी॒र्या॑या॒न्नाद्या॑या॒भिषि॑ञ्चामि । दे॒वस्य॑ त्वा सवि॒तु प्र॑स॒वे । अ॒श्विनोर्बा॒हुभ्याम् । पू॒ष्णो हस्ताभ्याम् । इन्द्र॑स्येन्द्रि॒येण॑ । श्रि॒यै यश॑से॒ बला॑या॒भिषि॑ञ्चामि । को॑ऽसि कत॒मो॑ऽसि । कस्मै त्वा॒ काय॑ त्वा । सुश्लो॒काँ  सुम॑ङ्ग॒लाँ  सत्य॑रा॒जा ३ न् । शिरो॑ मे॒ श्रीः ।।  ।। यशो॒ मुखम् । त्विषि॒ केशाश्च॒ श्मश्रू॑णि । राजा॑ मे प्रा॒णो॑ऽमृतम् । स॒म्राट्चख्षुः॑ । वि॒राट्छ्रोत्रम् । जि॒ह्वा मे॑ भ॒द्रम् । वाङ्महः॑ । मनो॑ म॒न्युः । स्व॒राड्भामः॑ । मोदा प्रमो॒दा अ॒ङ्गुली॒रङ्गा॑नि ।।  ।। आ॒न॒न्द॒न॒न्दावा॒ण्डौ मे । भग॒स्सौभाग्यं॒ पसः॑ । जङ्घाभ्यां प॒द्भ्यां धर्मोऽस्मि । वि॒शि राजा॒ प्रति॑ष्ठितः । प्रति॑ ख्ष॒त्रे प्रति॑तिष्ठामि रा॒ष्ट्रे । प्रत्यश्वे॑षु॒ प्रति॑तिष्ठामि॒ गोषु॑ । प्रत्यङ्गे॑षु॒ प्रति॑तिष्ठाम्या॒त्मन्न् । प्रति॑ प्रा॒णेषु॒ प्रति॑तिष्ठामि पु॒ष्टे । प्रति॒ द्यावा॑पृथि॒व्योः । प्रति॑तिष्ठामि य॒ज्ञे ।।  ।। त्र॒या दे॒वा एका॑दश । त्र॒य॒स्त्रि॒॒शास्सु॒राध॑सः । बृह॒स्पति॑पुरोहिताः । दे॒वस्य॑ सवि॒तुस्स॒वे । दे॒वा दे॒वैर॑वन्तु मा । प्र॒थ॒मा द्वि॒तीयैः । द्वि॒तीयास्तृ॒तीयैः । तृ॒तीयास्स॒त्येन॑ । स॒त्यय्यँ॒ज्ञेन॑ । य॒ज्ञो यजु॑र्भिः ।।  ।। यजू॑षि॒ साम॑भिः । सामान्यृ॒ग्भिः । ऋचो॑ या॒ज्या॑भिः । या॒ज्या॑ वषट्का॒रैः । व॒ष॒ट्का॒रा आहु॑तिभिः । आहु॑तयो मे॒ कामा॒न्थ्सम॑र्धयन्तु । भूस्स्वाहा । लोमा॑नि॒ प्रय॑ति॒र्मम॑ । त्वङ्म॒ आन॑ति॒राग॑तिः । मा॒॒सं म॒ उप॑नतिः । वस्वस्थि॑ । म॒ज्जा म॒ आन॑तिः ।।  ।। यद्दे॑वा देव॒हेड॑नम् । देवा॑सश्चकृ॒मा व॒यम् । अ॒ग्निर्मा॒ तस्मा॒देन॑सः । विश्वान्मुञ्च॒त्वह॑सः । यदि॒ दिवा॒ यदि॒ नक्तम् । एना॑सि चकृ॒मा व॒यम् । वा॒युर्मा॒ तस्मा॒देन॑सः । विश्वान्मुञ्च॒त्वह॑सः । यदि॒ जाग्र॒द्यदि॒ स्वप्ने । एना॑सि चकृ॒मा व॒यम् ।।  ।। सूर्यो॑ मा॒ तस्मा॒देन॑सः । विश्वान्मुञ्च॒त्वह॑सः । यद्ग्रामे॒ यदर॑ण्ये । यथ्स॒भाया॒य्यँदि॑न्द्रि॒ये । यच्छू॒द्रे यद॒र्ये । एन॑श्चकृ॒मा व॒यम् । यदेक॒स्याधि॒ धर्म॑णि । तस्या॑व॒यज॑नमसि । यदापो॒ अघ्नि॑या॒ वरु॒णेति॒ शपा॑महे । ततो॑ वरुण नो मुञ्च ।।  ।। अव॑भृथ निचङ्कुण निचे॒रुर॑सि निचङ्कुण । अव॑ दे॒वैर्दे॒वकृ॑त॒मेनो॑ऽयाट् । अव॒ मर्त्यै॒र्मर्त्य॑कृतम् । उ॒रोरा नो॑ देव रि॒षस्पा॑हि । सु॒मि॒त्रा न॒ आप॒ ओष॑धयस्सन्तु । दु॒र्मि॒त्रास्तस्मै॑ भूयासुः । योऽस्मान्द्वेष्टि॑ । यञ्च॑ व॒यन्द्वि॒ष्मः । द्रु॒प॒दादि॒वेन्मु॑मुचा॒नः । स्वि॒न्नस्स्ना॒त्वी मला॑दिव ।।  ।। पू॒तं प॒वित्रे॑णे॒वाज्यम् । आप॑श्शुन्धन्तु॒ मैन॑सः । उद्व॒यन्तम॑स॒स्परि॑ । पश्य॑न्तो॒ ज्योति॒रुत्त॑रम् । दे॒वन्दे॑व॒त्रा सूर्यम् । अग॑न्म॒ ज्योति॑रुत्त॒मम् । प्रति॑युतो॒ वरु॑णस्य॒ पाशः॑ । प्रत्य॑स्तो॒ वरु॑णस्य॒ पाशः॑ । एधोऽस्येधिषी॒महि॑ । स॒मिद॑सि ।।।। होता॑ यख्षथ्स॒मिधेन्द्र॑मि॒डस्प॒दे । नाभा॑ पृथि॒व्या अधि॑ । दि॒वो वर्ष्म॒न्थ्समि॑ध्यते । ओजि॑ष्ठश्चर्षणी॒ सहान्॑ । वेत्वाज्य॑स्य॒ होत॒र्यज॑ । होता॑ यख्ष॒त्तनू॒नपा॑तम् । ऊ॒तिभि॒र्जेता॑र॒मप॑राजितम् । इन्द्र॑न्दे॒व सु॑व॒र्विदम् । प॒थिभि॒र्मधु॑मत्तमैः । नरा॒शसे॑न॒ तेज॑सा ।।  ।। वेत्वाज्य॑स्य॒ होत॒र्यज॑ । होता॑ यख्ष॒दिडा॑भि॒रिन्द्र॑मीडि॒तम् । आ॒जुह्वा॑न॒मम॑र्त्यम् । दे॒वो दे॒वैस्सवीर्यः । वज्र॑हस्त पुरन्द॒रः । वेत्वाज्य॑स्य॒ होत॒र्यज॑ । होता॑यख्षद्ब॒र्॒हिषीन्द्र॑न्निषद्व॒रम् । वृ॒ष॒भन्नर्या॑पसम् । वसु॑भीरु॒द्रैरा॑दि॒त्यैः । स॒युग्भि॑र्ब॒र्॒हिरास॑दत् ।।  ।। म॒हीन्द्र॑पत्नीर्ह॒विष्म॑तीः । वि॒यन्त्वाज्य॑स्य॒ होत॒र्यज॑ । होता॑ यख्ष॒त्त्वष्टा॑र॒मिन्द्र॑न्दे॒वम् । भि॒षज॑ सु॒यज॑ङ्घृत॒श्रियम् । पु॒रु॒रूप॑ सु॒रेत॑सं म॒घोनिम् । इन्द्रा॑य॒ त्वष्टा॒ दध॑दिन्द्रि॒याणि॑ । वेत्वाज्य॑स्य॒ होत॒र्यज॑ । होता॑ यख्ष॒द्वन॒स्पतिम् । श॒मि॒तार॑ श॒तक्र॑तुम् । धि॒यो जो॒ष्टार॑मिन्द्रि॒यम् ।।  ।। पु॒र॒न्द॒रो म॒घवा॒न् वज्र॑बाहुः । आया॑तु य॒ज्ञमुप॑नो जुषा॒णः । जु॒षा॒णो ब॒र्हिर्हरि॑वान्न॒ इन्द्रः॑ । प्रा॒चीन॑ सीदत्प्र॒दिशा॑ पृथि॒व्याः । उ॒रु॒व्यचा॒ प्रथ॑मान स्यो॒नम् । आ॒दि॒त्यैर॒क्तव्वँसु॑भिस्स॒जोषाः । इन्द्र॒न्दुर॑ कव॒ष्यो॑ धाव॑मानाः । वृषा॑णय्यँन्तु॒ जन॑यस्सु॒पत्नीः । द्वारो॑ दे॒वीर॒भितो॒ विश्र॑यन्ताम् । सु॒वीरा॑ वी॒रं प्रथ॑माना॒ महो॑भिः ।।  ।। अच्छि॑न्न॒न्तन्तुं॒ पय॑सा॒ सर॑स्वती । इडा॑ दे॒वी भार॑ती वि॒श्वतूर्तिः । त्वष्टा॒ दध॒दिन्द्रा॑य॒ शुष्मम् । अपा॒कोचि॑ष्टुर्य॒शसे॑ पु॒रूणि॑ । वृषा॒ यज॒न्वृष॑णं॒ भूरि॑रेताः । मू॒र्धन् य॒ज्ञस्य॒ सम॑नक्तु दे॒वान् । वन॒स्पति॒रव॑सृष्टो॒ न पाशैः । त्मन्या॑ सम॒ञ्जञ्छ॑मि॒ता न दे॒वः । इन्द्र॑स्य ह॒व्यैर्ज॒ठरं॑ पृणा॒नः । स्वदा॑ति ह॒व्यं मधु॑ना घृ॒तेन॑ । स्तो॒काना॒मिन्दुं॒ प्रति॒ शूर॒ इन्द्रः॑ । वृ॒षा॒यमा॑णो वृष॒भस्तु॑रा॒षाट् । घृ॒त॒प्रुषा॒ मधु॑ना ह॒व्यमु॒न्दन्न् । मू॒र्धन् य॒ज्ञस्य॑ जुषता॒॒ स्वाहा ।।  ।। आच॑र्षणि॒प्रा वि॒वेष॒ यन्मा । त स॒ध्रीचीः । स॒त्यमित्तन्न त्वावा॑ अ॒न्यो अस्ति॑ । इन्द्र॑ दे॒वो न मर्त्यो॒ ज्यायान्॑ । अह॒न्नहिं॑ परि॒शया॑न॒मर्णः॑ । अवा॑सृजो॒ऽपो अच्छा॑ समु॒द्रम् । प्रस॑साहिषे पुरुहूत॒ शत्रून्॑ । ज्येष्ठ॑स्ते॒ शुष्म॑ इ॒ह रा॒तिर॑स्तु । इन्द्रा भ॑र॒ दख्षि॑णेना॒ वसू॑नि । पति॒स्सिन्धू॑नामसि रे॒वती॑नाम् । स शेवृ॑ध॒मधि॑ धाद्द्यु॒म्नम॒स्मे । महि॑ ख्ष॒त्रञ्ज॑ना॒षाडि॑न्द्र॒ तव्यम् । रख्षा॑ च नो म॒घोन॑ पा॒हि सू॒रीन् । रा॒ये च॑ नः स्वप॒त्या इ॒षे धाः ।।  ।। दे॒वं ब॒र्॒हिरिन्द्र॑ सुदे॒वन्दे॒वैः । वी॒रव॑थ्स्ती॒र्णव्वेँद्या॑मवर्धयत् । वस्तोर्वृ॒तं प्राक्तोर्भृ॒तम् । रा॒या ब॒र्॒हिष्म॒तोऽत्य॑गात् । व॒सु॒वने॑ वसु॒धेय॑स्य वेतु॒ यज॑ । दे॒वीर्द्वार॒ इन्द्र॑ सङ्घा॒ते । वि॒ड्वीर्याम॑न्नवर्धयन्न् । आ व॒थ्सेन॒ तरु॑णेन कुमा॒रेण॑ चमीवि॒ता अपार्वा॑णम् । रे॒णुक॑काटन्नुदन्ताम् । व॒सु॒वने॑ वसु॒धेय॑स्य वियन्तु॒ यज॑ ।।  ।। दे॒वा दैव्या॒ होता॑रा । दे॒वमिन्द्र॑मवर्धताम् । ह॒ताघ॑शसा॒वाभार्ष्टा॒व्वँसु॒वार्या॑णि । यज॑मानाय शिख्षि॒तौ । व॒सु॒वने॑ वसु॒धेय॑स्य वीता॒य्यँज॑ । दे॒वीस्ति॒स्रस्ति॒स्रो दे॒वीः । पति॒मिन्द्र॑मवर्धयन्न् । अस्पृ॑ख्ष॒द्भार॑ती॒ दिवम् । रु॒द्रैर्य॒ज्ञ सर॑स्वती । इडा॒ वसु॑मती गृ॒हान् ।।  ।। व॒सु॒वने॑ वसु॒धेय॑स्य वियन्तु॒ यज॑ । दे॒व इन्द्रो॒ नरा॒शसः॑ । त्रि॒व॒रू॒थस्त्रि॑वन्धु॒रः । दे॒वमिन्द्र॑मवर्धयत् । श॒तेन॑ शितिपृ॒ष्ठाना॒माहि॑तः । स॒हस्रे॑ण॒ प्रव॑र्तते । मि॒त्रावरु॒णेद॑स्य हो॒त्रमर्ह॑तः । बृह॒स्पतिः॑ स्तो॒त्रम् । अ॒श्विनाऽऽध्व॑र्यवम् । व॒सु॒वने॑ वसु॒धेय॑स्य वेतु॒ यज॑ ।।  ।। दे॒व इन्द्रो॒ वन॒स्पतिः॑ । हिर॑ण्यवर्णो॒ मधु॑शाखस्सुपिप्प॒लः । दे॒वमिन्द्र॑मवर्धयत् । दिव॒मग्रे॑णाप्रात् । आऽन्तरि॑ख्षं पृथि॒वीम॑दृहीत् । व॒सु॒वने॑ वसु॒धेय॑स्य वेतु॒ यज॑ । दे॒वं ब॒र्॒हिर्वारि॑तीनाम् । दे॒वमिन्द्र॑मवर्धयत् । स्वा॒स॒स्थमिन्द्रे॒णास॑न्नम् । अ॒न्या ब॒र्॒हीष्य॒भ्य॑भूत् । व॒सु॒वने॑ वसु॒धेयस्य॑ वेतु॒ यज॑ । दे॒वो अ॒ग्निस्स्वि॑ष्ट॒कृत् । दे॒वमिन्द्र॑मवर्धयत् । स्वि॑ष्टङ्कु॒र्वन्थ्स्वि॑ष्ट॒कृत् । स्वि॑ष्टम॒द्य क॑रोतु नः । व॒सु॒वने॑ वसु॒धेय॑स्य वेतु॒ यज॑ ।।  ।। होता॑ यख्षदि॒डेडि॒त आ॒जुह्वा॑न॒स्सर॑स्वतीम् । इन्द्रं॒ बले॑न व॒र्धयन्न्॑ । ऋ॒ष॒भेण॒ गवेन्द्रि॒यम् । अ॒श्विनेन्द्रा॑य वी॒र्यम् । यवै क॒र्कन्धु॑भिः । मधु॑ ला॒जैर्न मास॑रम् । पय॒स्सोम॑ परि॒स्रुता॑ घृ॒तं मधु॑ । वि॒यन्त्वाज्य॑स्य॒ होत॒र्यज॑ । होता॑ यख्षद्ब॒र्॒हिस्सु॒ष्टरी॒मोर्ण॑म्रदाः । भि॒षङ्नास॑त्या ।।  ।। स्वाहा॒ऽग्नि हो॒त्राज्जु॑षा॒णो अ॒ग्निर्भे॑ष॒जम् । पय॒स्सोम॑ परि॒स्रुता॑ घृ॒तं मधु॑ । वि॒यन्त्वाज्य॑स्य॒ होत॒र्यज॑ । होता॑ यख्षद॒श्विना॒ सर॑स्वती॒मिन्द्र॑ सु॒त्रामा॑णम् । इ॒मे सोमास्सु॒रामा॑णः । छागै॒र्न मे॒षैऱ्ऋ॑ष॒भैस्सु॒ताः । शष्पै॒र्न तोक्म॑भिः । ला॒जैर्मह॑स्वन्तः । मदा॒ मास॑रेण॒ परि॑ष्कृताः । शु॒क्रा पय॑स्वन्तो॒ऽमृताः । प्रस्थि॑ता वो मधु॒श्चुतः॑ । तान॒श्विना॒ सर॑स्व॒तीन्द्र॑स्सु॒त्रामा॑ वृत्र॒हा । जु॒षन्ता॑ सौ॒म्यं मधु॑ । पिब॑न्तु॒ मद॑न्तु वि॒यन्तु॒ सोमम् । होत॒र्यज॑ ।।  ।। अधा॑ताम॒श्विना॒ मधु॑ । भे॒ष॒जं भि॒षजा॑ सु॒ते । आ॒जुह्वा॑ना॒ सर॑स्वती । इन्द्रा॑येन्द्रि॒याणि॑ वी॒र्यम् । इडा॑भिर॒श्विना॒विषम् । समूर्ज॒ स र॒यिन्द॑धुः । अश्वि॑ना॒ नमु॑चेस्सु॒तम् । सोम॑ शु॒क्रं प॑रि॒स्रुता । सर॑स्वती॒ तमाभ॑रत् । ब॒र्॒हिषेन्द्रा॑य॒ पात॑वे ।।  ।। दधा॑ना अ॒भ्य॑नूषत । ह॒विषा॑ य॒ज्ञमि॑न्द्रि॒यम् । य इन्द्र॑ इन्द्रि॒यन्द॒धुः । स॒वि॒ता वरु॑णो॒ भगः॑ । स सु॒त्रामा॑ ह॒विष्प॑तिः । यज॑मानाय सश्चत । स॒वि॒ता वरु॑णो॒ऽदध॑त् । यज॑मानाय दा॒शुषे । आद॑त्त॒ नमु॑चे॒र्वसु॑ । सु॒त्रामा॒ बल॑मिन्द्रि॒यम् ।।  ।। वरु॑णः ख्ष॒त्रमि॑न्द्रि॒यम् । भगे॑न सवि॒ता श्रियम् । सु॒त्रामा॒ यश॑सा॒ बलम् । दधा॑ना य॒ज्ञमा॑शत । अश्वि॑ना॒ गोभि॑रिन्द्रि॒यम् । अश्वे॑भिर्वी॒र्यं॑ बलम् । ह॒विषेन्द्र॒॒ सर॑स्वती । यज॑मानमवर्धयन्न् । ता नास॑त्या सु॒पेश॑सा । हिर॑ण्यवर्तनी॒ नरा । सर॑स्वती ह॒विष्म॑ती । इन्द्र॒ कर्म॑सु नोऽवत । ता भि॒षजा॑ सु॒कर्म॑णा । सा सु॒दुघा॒ सर॑स्वती । स वृ॑त्र॒हा श॒तक्र॑तुः । इन्द्रा॑य दधुरिन्द्रि॒यम् ।।  ।। दे॒वं ब॒र्॒हिस्स॑रस्वती । सु॒दे॒वमिन्द्रे॑ अ॒श्विना । तेजो॒ न चख्षु॑र॒ख्ष्योः । ब॒र्॒हिषा॑ दधुरिन्द्रि॒यम् । व॒सु॒वने॑ वसु॒धेय॑स्य वियन्तु॒ यज॑ । दे॒वीर्द्वारो॑ अ॒श्विना । भि॒षजेन्द्रे॒ सर॑स्वती । प्रा॒णन्न वी॒र्य॑न्न॒सि । द्वारो॑ दधुरिन्द्रि॒यम् । व॒सु॒वने॑ वसु॒धेय॑स्य वियन्तु॒ यज॑ ।।  ।। दे॒वी उ॒षासा॑व॒श्विना । भि॒षजेन्द्रे॒ सर॑स्वती । बल॒न्न वाच॑मा॒स्ये । उ॒षाभ्यान्दधुरिन्द्रि॒यम् । व॒सु॒वने॑ वसु॒धेय॑स्य वियन्तु॒ यज॑ । दे॒वी जोष्ट्री॑ अ॒श्विना । सु॒त्रामेन्द्रे॒ सर॑स्वती । श्रोत्र॒न्न कर्ण॑यो॒र्यशः॑ । जोष्ट्रीभ्यान्दधुरिन्द्रि॒यम् । व॒सु॒वने॑ वसु॒धेय॑स्य वियन्तु॒ यज॑ ।।  ।। दे॒वीस्ति॒स्रस्ति॒स्रो दे॒वीः । सर॑स्वत्य॒श्विना॒ भार॒तीडा । शूष॒न्न मध्ये॒ नाभ्याम् । इन्द्रा॑य दधुरिन्द्रि॒यम् । व॒सु॒वने॑ वसु॒धेय॑स्य वियन्तु॒ यज॑ । दे॒व इन्द्रो॒ नरा॒शसः॑ । त्रि॒व॒रू॒थस्सर॑स्वत्या॒ऽश्विभ्या॑मीयते॒ रथः॑ । रेतो॒ न रू॒पम॒मृत॑ञ्ज॒नित्रम् । इन्द्रा॑य॒ त्वष्टा॒ दध॑दिन्द्रि॒याणि॑ । व॒सु॒वने॑ वसु॒धेय॑स्य वियन्तु॒ यज॑ ।।  ।। दे॒व इन्द्रो॒ वन॒स्पतिः॑ । हिर॑ण्यपर्णो अ॒श्विभ्याम् । सर॑स्वत्यास्सुपिप्प॒लः । इन्द्रा॑य पच्यते॒ मधु॑ । ओजो॒ न जू॒तिमृ॑ष॒भो न भामम् । वन॒स्पति॑र्नो॒ दध॑दिन्द्रि॒याणि॑ । व॒सु॒वने॑ वसु॒धेय॑स्य वियन्तु॒ यज॑ । दे॒वं ब॒र्॒हिर्वारि॑तीनाम् । अ॒ध्व॒रे स्ती॒र्णम॒श्विभ्याम् । ऊर्ण॑म्रदा॒स्सर॑स्वत्याः ।।  ।। स्यो॒नमि॑न्द्र ते॒ सदः॑ । ई॒शायै॑ म॒न्यु राजा॑नं ब॒र्॒हिषा॑ दधुरिन्द्रि॒यम् । व॒सु॒वने॑ वसु॒धेय॑स्य वियन्तु॒ यज॑ । दे॒वो अ॒ग्निस्स्वि॑ष्ट॒कृत् । दे॒वान् य॑ख्षद्यथाय॒थम् । होता॑रा॒विन्द्र॑म॒श्विना । वा॒चा वाच॒॒ सर॑स्वतीम् । अ॒ग्नि सोम॑ स्विष्ट॒कृत् । स्वि॑ष्ट॒ इन्द्र॑स्सु॒त्रामा॑ सवि॒ता वरु॑णो भि॒षक् । इ॒ष्टो दे॒वो वन॒स्पतिः॑ । स्वि॑ष्टा दे॒वा आज्य॒पाः । इ॒ष्टो अ॒ग्निर॒ग्निना । होता॑ हो॒त्रे स्वि॑ष्ट॒कृत् । यशो॒ न दध॑दिन्द्रि॒यम् । ऊर्ज॒मप॑चिति स्व॒धाम् । व॒सु॒वने॑ वसु॒धेय॑स्य वियन्तु॒ यज॑ ।।  ।। सर॑स्वत्यै मे॒षेणेन्द्रा॑या॒श्विभ्याम् । इन्द्रा॑यर्ष॒भेणा॒श्विभ्या॒॒ सर॑स्वत्यै । अख्ष॒॒ स्तान्मे॑द॒स्त प्रति॑पच॒ताग्र॑भीषुः । अवी॑वृधन्त॒ ग्रहैः । अपा॑ताम॒श्विना॒ सर॑स्व॒तीन्द्र॑स्सु॒त्रामा॑ वृत्र॒हा । सोमान्थ्सु॒राम्णः॑ । उपो॑ उक्थाम॒दाः श्रौ॒द्विमदा॑ अदन्न् । अवी॑वृधन्ताङ्गू॒षैः । त्वाम॒द्यर्ष॑ आर्षेयर्षीणान्नपादवृणीत । अ॒य सु॑तासु॒ती यज॑मानः । ब॒हुभ्य॒ आ सङ्ग॑तेभ्यः । ए॒ष मे॑ दे॒वेषु॒ वसु॒ वार्या य॑ख्ष्यत॒ इति॑ । ता या दे॒वा दे॑व॒दाना॒न्यदुः॑ । तान्य॑स्मा॒ आ च॒ शास्व॑ । आ च॑ गुरस्व । इ॒षि॒तश्च॑ होत॒रसि॑ भद्र॒वाच्या॑य॒ प्रेषि॑तो॒ मानु॑षः । सू॒क्त॒वा॒काय॑ सू॒क्ता ब्रू॑हि ।।  ।। अ॒॒हो॒मुच॑ पि॒तर॑स्सो॒म्यासः॑ । परेऽव॑रे॒ऽमृता॑सो॒ भव॑न्तः । अधि॑ ब्रुवन्तु॒ ते अ॑वन्त्व॒स्मान् । वा॒न्या॑यै दु॒ग्धे जु॒षमा॑णा कर॒म्भम् । उ॒दीरा॑णा॒ अव॑रे॒ परे॑ च । अ॒ग्नि॒ष्वा॒त्ता ऋ॒तुभि॑स्सव्विँदा॒नाः । इन्द्र॑वन्तो ह॒विरि॒दञ्जु॑षन्ताम् । यद॑ग्ने कव्यवाहन॒ त्वम॑ग्न ईडि॒तो जा॑तवेदः । मात॑ली क॒व्यैः । ये ता॑तृ॒पुर्दे॑व॒त्रा जेह॑मानाः । हो॒त्रा॒वृध॒स्स्तोम॑तष्टासो अ॒र्कैः । आऽग्ने॑ याहि सुवि॒दत्रे॑भिर॒र्वाङ् । स॒त्यै क॒व्यै पि॒तृभि॑र्घर्म॒सद्भिः॑ । ह॒व्य॒वाह॑म॒जरं॑ पुरुप्रि॒यम् । अ॒ग्निङ्घृ॒तेन॑ ह॒विषा॑ सप॒र्यन्न् । उपा॑सदङ्कव्य॒वाहं॑ पितृ॒णाम् । स न॑ प्र॒जाव्वीँ॒रव॑ती॒॒ समृ॑ण्वतु ।।  ।। होता॑ यख्षदि॒डस्प॒दे । स॒मि॒धा॒नं म॒हद्यशः॑ । सुष॑मिद्ध॒व्वँरेण्यम् । अ॒ग्निमिन्द्र॑व्वँयो॒धसम् । गा॒य॒त्रीञ्छन्द॑ इन्द्रि॒यम् । त्र्यवि॒ङ्गाव्वँयो॒ दध॑त् । वेत्वाज्य॑स्य॒ होत॒र्यज॑ । होता॑ यख्ष॒च्छुचि॑व्रतम् । तनू॒नपा॑तमु॒द्भिदम् । यङ्गर्भ॒मदि॑तिर्द॒धे ।।  ।। शुचि॒मिन्द्र॑व्वँयो॒धसम् । उ॒ष्णिह॒ञ्छन्द॑ इन्द्रि॒यम् । दि॒त्य॒वाह॒ङ्गाव्वँयो॒ दध॑त् । वेत्वाज्य॑स्य॒ होत॒र्यज॑ । होता॑ यख्षदी॒डेन्यम् । ई॒डि॒तव्वृँ॑त्र॒हन्त॑मम् । इडा॑भि॒रीड्य॒॒ सहः॑ । सोम॒मिन्द्र॑व्वँयो॒धसम् । अ॒नु॒ष्टुभ॒ञ्छन्द॑ इन्द्रि॒यम् । त्रि॒व॒थ्सङ्गाव्वँयो॒ दध॑त् ।।  ।। वेत्वाज्य॑स्य॒ होत॒र्यज॑ । होता॑ यख्षथ्सुबऱ्हि॒षदम् । पू॒ष॒ण्वन्त॒मम॑र्त्यम् । सीद॑न्तं ब॒र्॒हिषि॑ प्रि॒ये । अ॒मृतेन्द्र॑व्वँयो॒धसम् । बृ॒ह॒तीञ्छन्द॑ इन्द्रि॒यम् । पञ्चा॑वि॒ङ्गाव्वँयो॒ दध॑त् । वेत्वाज्य॑स्य॒ होत॒र्यज॑ । होता॑यख्ष॒द्व्यच॑स्वतीः । सु॒प्रा॒य॒णा ऋ॑ता॒वृधः॑ ।।  ।। द्वारो॑ दे॒वीर्हि॑र॒ण्ययीः । ब्र॒ह्माण॒ इन्द्र॑व्वँयो॒धसम् । प॒ङ्क्तिञ्छन्द॑ इ॒हेन्द्रि॒यम् । तु॒र्य॒वाह॒ङ्गाव्वँयो॒ दध॑त् । वेत्वाज्य॑स्य॒ होत॒र्यज॑ । होता॑ यख्षथ्सु॒पेश॑से । सु॒शि॒ल्पे बृ॑ह॒ती उ॒भे । नक्तो॒षासा॒ न द॑र्श॒ते । विश्व॒मिन्द्र॑व्वँयो॒धसम् । त्रि॒ष्टुभ॒ञ्छन्द॑ इन्द्रि॒यम् ।।  ।। ति॒स्रो दे॒वीर्हि॑र॒ण्ययीः । भार॑तीर्बृह॒तीर्म॒हीः । पति॒मिन्द्र॑व्वँयो॒धसम् । वि॒राज॒ञ्छन्द॑ इ॒हेन्द्रि॒यम् । धे॒नुङ्गान्न वयो॒ दध॑त् । वेत्वाज्य॑स्य॒ होत॒र्यज॑ । होता॑ यख्षथ्सु॒रेत॑सम् । त्वष्टा॑रं पुष्टि॒वर्ध॑नम् । रू॒पाणि॒ बिभ्र॑तं॒ पृथ॑क् । पुष्टि॒मिन्द्र॑व्वँयो॒धसम् ।।  ।। द्वि॒पद॒ञ्छन्द॑ इ॒हेन्द्रि॒यम् । उ॒ख्षाण॒ङ्गान्न वयो॒ दध॑त् । वेत्वाज्य॑स्य॒ होत॒र्यज॑ । होता॑ यख्षच्छ॒तक्र॑तुम् । हिर॑ण्यपर्णमु॒क्थिनम् । र॒श॒नां बिभ्र॑तव्वँ॒शिम् । भग॒मिन्द्र॑व्वँयो॒धसम् । क॒कुभ॒ञ्छन्द॑ इ॒हेन्द्रि॒यम् । व॒शाव्वेँ॒हत॒ङ्गान्न वयो॒ दध॑त् । वेत्वाज्य॑स्य॒ होत॒र्यज॑ । होता॑ यख्ष॒थ्स्वाहा॑कृतीः । अ॒ग्निङ्गृ॒हप॑तिं॒ पृथ॑क् । वरु॑णं भेष॒जङ्क॒विम् । ख्ष॒त्रमिन्द्र॑व्वँयो॒धसम् । अति॑च्छन्दस॒ञ्छन्द॑ इन्द्रि॒यम् । बृ॒हदृ॑ष॒भङ्गाव्वँयो॒ दध॑त् । वेत्वाज्य॑स्य॒ होत॒र्यज॑ ।।  ।। समि॑द्धो अ॒ग्निस्स॒मिधा । सुष॑मिद्धो॒ वरेण्यः । गा॒य॒त्री छन्द॑ इन्द्रि॒यम् । त्र्यवि॒र्गौर्वयो॑ दधुः । तनू॒नपा॒च्छुचि॑व्रतः । त॒नू॒पाच्च॒ सर॑स्वती । उ॒ष्णिक्छन्द॑ इन्द्रि॒यम् । दि॒त्य॒वाड्गौर्वयो॑ दधुः । इडा॑भिर॒ग्निरीड्यः॑ । सोमो॑ दे॒वो अम॑र्त्यः ।।  ।। अ॒नु॒ष्टुप्छन्द॑ इन्द्रि॒यम् । त्रि॒व॒थ्सो गौर्वयो॑ दधुः । सु॒ब॒र्॒हिर॒ग्नि पू॑ष॒ण्वान् । स्ती॒र्णब॑र्हि॒रम॑र्त्यः । बृ॒ह॒ती छन्द॑ इन्द्रि॒यम् । पञ्चा॑वि॒र्गौर्वयो॑ दधुः । दुरो॑ दे॒वीर्दिशो॑ म॒हीः । ब्र॒ह्मा दे॒वो बृह॒स्पतिः॑ । प॒ङ्क्तिश्छन्द॑ इ॒हेन्द्रि॒यम् । तु॒र्य॒वाड्गौर्वयो॑ दधुः ।।  ।। उ॒षे य॒ह्वी सु॒पेश॑सा । विश्वे॑ दे॒वा अम॑र्त्याः । त्रि॒ष्टुप्छन्द॑ इन्द्रि॒यम् । प॒ष्ठ॒वाद्गौर्वयो॑ दधुः । दैव्या॑ होतारा भिषजा । इन्द्रे॑ण स॒युजा॑ यु॒जा । जग॑ती॒ छन्द॑ इ॒हेन्द्रि॒यम् । अ॒न॒ड्वान्गौर्वयो॑ दधुः । ति॒स्र इडा॒ सर॑स्वती । भार॑ती म॒रुतो॒ विशः॑ ।।  ।। वि॒राट्छन्द॑ इ॒हेन्द्रि॒यम् । धे॒नुर्गौर्न वयो॑ दधुः । त्वष्टा॑ तु॒रीपो॒ अद्भु॑तः । इ॒न्द्रा॒ग्नी पु॑ष्टि॒वर्ध॑ना । द्वि॒पाच्छन्द॑ इ॒हेन्द्रि॒यम् । उ॒ख्षा गौर्न वयो॑ दधुः । श॒मि॒ता नो॒ वन॒स्पतिः॑ । स॒वि॒ता प्र॑सु॒वन्भगम् । क॒कुच्छन्द॑ इ॒हेन्द्रि॒यम् । व॒शा वे॒हद्गौर्न वयो॑ दधुः । स्वाहा॑ य॒ज्ञव्वँरु॑णः । सु॒ख्ष॒त्रो भे॑ष॒जङ्क॑रत् । अति॑च्छन्दा॒श्छन्द॑ इन्द्रि॒यम् । बृ॒हदृ॑ष॒भो गौर्वयो॑ दधुः ।।  ।। व॒स॒न्तेन॒र्तुना॑ दे॒वाः । वस॑वस्त्रि॒वृता स्तु॒तम् । र॒थ॒न्त॒रेण॒ तेज॑सा । ह॒विरिन्द्रे॒ वयो॑ दधुः । ग्री॒ष्मेण॑ दे॒वा ऋ॒तुना । रु॒द्रा प॑ञ्चद॒शे स्तु॒तम् । बृ॒ह॒ता यश॑सा॒ बलम् । ह॒विरिन्द्रे॒ वयो॑ दधुः । व॒र्॒षाभि॑ऱ्ऋ॒तुना॑ऽऽदि॒त्याः । स्तोमे॑ सप्तद॒शे स्तु॒तम् ।।  ।। वै॒रू॒पेण॑ वि॒शौज॑सा । ह॒विरिन्द्रे॒ वयो॑ दधुः । शा॒र॒देन॒र्तुना॑ दे॒वाः । ए॒क॒वि॒॒श ऋ॒भव॑स्स्तु॒तम् । वै॒रा॒जेन॑ श्रि॒या श्रियम् । ह॒विरिन्द्रे॒ वयो॑ दधुः । हे॒म॒न्तेन॒र्तुना॑ दे॒वाः । म॒रुत॑स्त्रिण॒वे स्तु॒तम् । बले॑न॒ शक्व॑री॒स्सहः॑ । ह॒विरिन्द्रे॒ वयो॑ दधुः । शै॒शि॒रेण॒र्तुना॑ दे॒वाः । त्र॒य॒स्त्रि॒॒शे॑ऽमृत॑ स्तु॒तम् । स॒त्येन॑ रे॒वतीः ख्ष॒त्रम् । ह॒विरिन्द्रे॒ वयो॑ दधुः ।।  ।। दे॒वं ब॒र्॒हिरिन्द्र॑व्वँयो॒धसम् । दे॒वन्दे॒वम॑वर्धयत् । गा॒य॒त्रि॒या छन्द॑सेन्द्रि॒यम् । तेज॒ इन्द्रे॒ वयो॒ दध॑त् । व॒सु॒वने॑ वसु॒धेय॑स्य वेतु॒ यज॑ । दे॒वीर्द्वारो॑ दे॒वमिन्द्र॑व्वँयो॒धसम् । दे॒वीर्दे॒वम॑वर्धयन्न् । उ॒ष्णिहा॒ छन्द॑सेन्द्रि॒यम् । प्रा॒णमिन्द्रे॒ वयो॒ दध॑त् । व॒सु॒वने॑ वसु॒धेय॑स्य वियन्तु॒ यज॑ ।।  ।। दे॒वी दे॒वव्वँ॑यो॒धसम् । उ॒षे इन्द्र॑मवर्धताम् । अ॒नु॒ष्टुभा॒ छन्द॑सेन्द्रि॒यम् । वाच॒मिन्द्रे॒ वयो॒ दध॑त् । व॒सु॒वने॑ वसु॒धेय॑स्य वीता॒य्यँज॑ । दे॒वी जोष्ट्री॑ दे॒वमिन्द्र॑व्वँयो॒धसम् । दे॒वी दे॒वम॑वर्धताम् । बृ॒ह॒त्या छन्द॑सेन्द्रि॒यम् । श्रोत्र॒मिन्द्रे॒ वयो॒ दध॑त् । व॒सु॒वने॑ वसु॒धेय॑स्य वीता॒य्यँज॑ ।।  ।। दे॒वी ऊ॒र्जाहु॑ती दे॒वमिन्द्र॑व्वँयो॒धसम् । दे॒वी दे॒वम॑वर्धताम् । प॒ङ्क्त्या छन्द॑सेन्द्रि॒यम् । शु॒क्रमिन्द्रे॒ वयो॒ दध॑त् । व॒सु॒वने॑ वसु॒धेय॑स्य वीता॒य्यँज॑ । दे॒वा दैव्या॒ होता॑रा दे॒वमिन्द्र॑व्वँयो॒धसम् । दे॒वा दे॒वम॑वर्धताम् । त्रि॒ष्टुभा॒ छन्द॑सेन्द्रि॒यम् । त्विषि॒मिन्द्रे॒ वयो॒ दध॑त् । व॒सु॒वने॑ वसु॒धेय॑स्य वीता॒य्यँज॑ ।।  ।। दे॒वीस्ति॒स्रस्ति॒स्रो दे॒वीर्व॑यो॒धसम् । पति॒मिन्द्र॑मवर्धयन्न् । जग॑त्या॒ छन्द॑सेन्द्रि॒यम् । बल॒मिन्द्रे॒ वयो॒ दध॑त् । व॒सु॒व॒ने॑ वसु॒धेय॑स्य वियन्तु॒ यज॑ । दे॒वो नरा॒शसो॑ दे॒वमिन्द्र॑व्वँयो॒धसम् । दे॒वो दे॒वम॑वर्धयत् । वि॒राजा॒ छन्द॑सेन्द्रि॒यम् । रेत॒ इन्द्रे॒ वयो॒ दध॑त् । व॒सु॒वने॑ वसु॒धेय॑स्य वेतु॒ यज॑ ।।  ।। दे॒वो वन॒स्पति॑र्दे॒वमिन्द्र॑व्वँयो॒धसम् । दे॒वो दे॒वम॑वर्धयत् । द्वि॒पदा॒ छन्द॑सेन्द्रि॒यम् । भग॒मिन्द्रे॒ वयो॒ दध॑त् । व॒सु॒वने॑ वसु॒धेय॑स्य वेतु॒ यज॑ । दे॒वं ब॒र्॒हिर्वारि॑तीनान्दे॒वमिन्द्र॑व्वँयो॒धसम् । दे॒वन्दे॒वम॑वर्धयत् । क॒कुभा॒ छन्द॑सेन्द्रि॒यम् । यश॒ इन्द्रे॒ वयो॒ दध॑त् । व॒सु॒वने॑ वसु॒धेय॑स्य वेतु॒ यज॑ । दे॒वो अ॒ग्निस्स्वि॑ष्ट॒कृद्दे॒वमिन्द्र॑व्वँयो॒धसम् । दे॒वो दे॒वम॑वर्धयत् । अति॑च्छन्दसा॒ छन्द॑सेन्द्रि॒यम् । ख्ष॒त्रमिन्द्रे॒ वयो॒ दध॑त् । व॒सु॒वने॑ वसु॒धेय॑स्य वेतु॒ यज॑ ।।  ।। त्रि॒वृथ्स्तोमो॑ भवति । ब्र॒ह्म॒व॒र्च॒सव्वैँ त्रि॒वृत् । ब्र॒ह्म॒व॒र्च॒समे॒वाव॑ रुन्धे । अ॒ग्नि॒ष्टो॒मस्सोमो॑ भवति । ब्र॒ह्म॒व॒र्च॒सव्वाँ अ॑ग्निष्टो॒मः । ब्र॒ह्म॒व॒र्च॒समे॒वाव॑ रुन्धे । र॒थ॒न्त॒र साम॑ भवति । ब्र॒ह्म॒व॒र्च॒सव्वैँ र॑थन्त॒रम् । ब्र॒ह्म॒व॒र्च॒समे॒वाव॑ रुन्धे । प॒रि॒स्र॒जी होता॑ भवति ।।  ।। अ॒रु॒णो मि॑र्मि॒रस्त्रिशु॑क्रः । ए॒तद्वै ब्र॑ह्मवर्च॒सस्य॑ रू॒पम् । रू॒पेणै॒व ब्र॑ह्मवर्च॒समव॑ रुन्धे । बृह॒स्पति॑रकामयत दे॒वानां पुरो॒धाङ्ग॑च्छेय॒मिति॑ । स ए॒तं बृ॑हस्पतिस॒वम॑पश्यत् । तमाऽह॑रत् । तेना॑यजत । ततो॒ वै स दे॒वानां पुरो॒धाम॑गच्छत् । य पु॑रो॒धाका॑म॒स्स्यात् । स बृ॑हस्पतिस॒वेन॑ यजेत ।।  ।। पु॒रो॒धामे॒व ग॑च्छति । तस्य॑ प्रातस्सव॒ने स॒न्नेषु॑ नाराश॒॒सेषु॑ । एका॑दश॒ दख्षि॑णा नीयन्ते । एका॑दश॒ माध्य॑न्दिने॒ सव॑ने स॒न्नेषु॑ नाराश॒॒सेषु॑ । एका॑दश तृतीयसव॒ने स॒न्नेषु॑ नाराश॒॒सेषु॑ । त्रय॑स्त्रिश॒थ्संप॑द्यन्ते । त्रय॑स्त्रिश॒द्वै दे॒वताः । दे॒वता॑ ए॒वाव॑रुन्धे । अश्व॑श्चतुस्त्रि॒॒शः । प्रा॒जा॒प॒त्यो वा अश्वः॑ ।।  ।। प्र॒जाप॑तिश्चतुस्त्रि॒॒शो दे॒वता॑नाम् । याव॑तीरे॒व दे॒वताः । ता ए॒वाव॑रुन्धे । कृ॒ष्णा॒जि॒ने॑ऽभिषि॑ञ्चति । ब्रह्म॑णो॒ वा ए॒तद्रू॒पम् । यत्कृ॑ष्णाजि॒नम् । ब्र॒ह्म॒व॒र्च॒सेनै॒वैन॒॒ सम॑र्धयति । आज्ये॑ना॒भिषि॑ञ्चति । तेजो॒ वा आज्यम् । तेज॑ ए॒वास्मि॑न्दधाति ।।  ।। यदाग्ने॒यो भव॑ति । अ॒ग्निमु॑खा॒ ह्यृद्धिः॑ । अथ॒ यत्पौ॒ष्णः । पुष्टि॒र्वै पू॒षा । पुष्टि॒र्वैश्य॑स्य । पुष्टि॑मे॒वाव॑ रुन्धे । प्र॒स॒वाय॑ सावि॒त्रः । अथ॒ यत्त्वा॒ष्ट्रः । त्वष्टा॒ हि रू॒पाणि॑ विक॒रोति॑ । नि॒र्व॒रु॒ण॒त्वाय॑ वारु॒णः ।।  ।। अथो॒ य ए॒व कश्च॒ सन्थ्सू॒यते । स हि वा॑रु॒णः । अथ॒ यद्वैश्वदे॒वः । वै॒श्व॒दे॒वो हि वैश्यः॑ । अथ॒ यन्मा॑रु॒तः । मा॒रु॒तो हि वैश्यः॑ । स॒प्तैतानि॑ ह॒वीषि॑ भवन्ति । स॒प्तग॑णा॒ वै म॒रुतः॑ । पृश्ञि॑ पष्ठौ॒ही मा॑रु॒त्या ल॑भ्यते । विड्वै म॒रुतः॑ । विश॑ ए॒वैतन्म॑ध्य॒तो॑ऽभिषि॑च्यते । तस्मा॒द्वा ए॒ष वि॒श प्रि॒यः । वि॒शो हि म॑ध्य॒तो॑ऽभिषि॒च्यते । ऋ॒ष॒भ॒च॒र्मेऽध्य॒भिषि॑ञ्चति । स हि प्र॑जनयि॒ता । द॒ध्नाऽभिषि॑ञ्चति । ऊर्ग्वा अ॒न्नाद्य॒न्दधि॑ । ऊ॒र्जैवैन॑म॒न्नाद्ये॑न॒ सम॑र्धयति ।।  ।। यदाग्ने॒यो भव॑ति । आ॒ग्ने॒यो वै ब्राह्म॒णः । अथ॒ यथ्सौ॒म्यः । सौ॒म्यो हि ब्राह्म॒णः । प्र॒स॒वायै॒व सा॑वि॒त्रः । अथ॒ यद्बा॑ऱ्हस्प॒त्यः । ए॒तद्वै ब्राह्म॒णस्य॑ वाक्प॒तीयम् । अथ॒ यद॑ग्नीषो॒मीयः॑ । आ॒ग्ने॒यो वै ब्राह्म॒णः । तौ य॒दा स॒ङ्गच्छे॑ते ।।।। अथ॑ वी॒र्या॑वत्तरो भवति । अथ॒ यथ्सा॑रस्व॒तः । ए॒तद्धि प्र॒त्यख्षं॑ ब्राह्म॒णस्य॑ वाक्प॒तीयम् । नि॒र्व॒रु॒ण॒त्वायै॒व वा॑रु॒णः । अथो॒ य ए॒व कश्च॒ सन्थ्सू॒यते । स हि वा॑रु॒णः । अथ॒ यद्द्या॑वापृथि॒व्यः॑ । इन्द्रो॑ वृ॒त्राय॒ वज्र॒मुद॑यच्छत् । तन्द्यावा॑पृथि॒वी नान्व॑मन्येताम् । तमे॒तेनै॒व भा॑ग॒धेये॒नान्व॑मन्येताम् ।।  ।। वज्र॑स्य॒ वा ए॒षो॑ऽनुमा॒नाय॑ । अनु॑मतवज्रस्सूयाता॒ इति॑ । अ॒ष्टावे॒तानि॑ ह॒वीषि॑ भवन्ति । अ॒ष्टाख्ष॑रा गाय॒त्री । गा॒य॒त्री ब्र॑ह्मवर्च॒सम् । गा॒य॒त्रि॒यैव ब॑ह्मवर्च॒समव॑ रुन्धे । हिर॑ण्येन घृ॒तमुत्पु॑नाति । तेज॑स ए॒व रु॒चे । कृ॒ष्णा॒जि॒ने॑ऽभिषि॑ञ्चति । ब्रह्म॑णो॒ वा ए॒तदृ॑ख्सा॒मयो॑ रू॒पम् । यत्कृ॑ष्णाजि॒नम् । ब्रह्म॑न्ने॒वैन॑मृख्सा॒मयो॒रध्य॒भिषि॑ञ्चति । घृ॒तेना॒भिषि॑ञ्चति । तथा॑ वी॒र्या॑वत्तरो भवति ।।  ।। न वै सोमे॑न॒ सोम॑स्य स॒वोऽस्ति । ह॒तो ह्ये॑षः । अ॒भिषु॑तो॒ ह्ये॑षः । न हि ह॒तस्सू॒यते । सौ॒मी सू॒तव॑शा॒मा ल॑भते । सोमो॒ वै रे॑तो॒धाः । रेत॑ ए॒व तद्द॑धाति । सौ॒म्यर्चाऽभिषि॑ञ्चति । रे॒तो॒धा ह्ये॑षा । रेत॒स्सोमः॑ । रेत॑ ए॒वास्मि॑न्दधाति । यत्किञ्च॑ राज॒सूय॑मृ॒ते सोमम् । तथ्सर्वं॑ भवति । अषा॑ढय्युँ॒थ्सु पृत॑नासु॒ पप्रिम् । सु॒व॒र्॒षाम॒फ्स्वाव्वृँ॒जन॑स्य गो॒पाम् । भ॒रे॒षु॒जा सु॑ख्षि॒ति सु॒श्रव॑सम् । जय॑न्त॒न्त्वामनु॑ मदेम सोम ।।  ।। यो वै सोमे॑न सू॒यते । स दे॑वस॒वः । य प॒शुना॑ सू॒यते । स दे॑वस॒वः । य इष्ट्या॑ सू॒यते । स म॑नुष्यस॒वः । ए॒तव्वैँ पृथ॑ये दे॒वा प्राय॑च्छन्न् । ततो॒ वै सोऽप्या॑र॒ण्यानां पशू॒नाम॑सूयत । याव॑ती॒ किय॑तीश्च प्र॒जा वाच॒व्वँद॑न्ति । तासा॒॒ सर्वा॑सा सूयते ।।  ।। य ए॒तेन॒ यज॑ते । य उ॑ चैनमे॒वव्वेँद॑ । ना॒रा॒श॒स्यर्चाऽभिषि॑ञ्चति । म॒नु॒ष्या॑ वै नरा॒शसः॑ । नि॒ह्नुत्य॒ वावैतत् । अथा॒भिषि॑ञ्चति । यत्किञ्च॑ राज॒सूय॑मनुत्तरवे॒दीकम् । तथ्सर्वं॑ भवति । ये मे॑ पञ्चा॒शत॑न्द॒दुः । अश्वा॑ना स॒धस्तु॑तिः । द्यु॒मद॑ग्ने॒ महि॒ श्रवः॑ । बृ॒हत्कृ॑धि म॒घोनाम् । नृ॒वद॑मृत नृ॒णाम् ।।  ।। ए॒ष गो॑स॒वः । ष॒ट्त्रि॒॒श उ॒क्थ्यो॑ बृ॒हथ्सा॑मा । पव॑माने कण्वरथन्त॒रं भ॑वति । यो वै वा॑ज॒पेयः॑ । स स॑म्राट्थ्स॒वः । यो रा॑ज॒सूयः॑ । स व॑रुणस॒वः । प्र॒जाप॑ति॒स्स्वाराज्यं परमे॒ष्ठी । स्वाराज्य॒ङ्गौरे॒व । गौरि॑व भवति ।।  ।। य ए॒तेन॒ यज॑ते । य उ॑ चैनमे॒वव्वेँद॑ । उ॒भे बृ॑हद्रथन्त॒रे भ॑वतः । तद्धि स्वाराज्यम् । अ॒युत॒न्दख्षि॑णाः । तद्धि स्वाराज्यम् । प्र॒ति॒धुषा॒ऽभिषि॑ञ्चति । तद्धि स्वाराज्यम् । अनु॑द्धते॒ वेद्यै॑ दख्षिण॒त आ॑हव॒नीय॑स्य बृह॒तस्स्तो॒त्रं प्रत्य॒भिषि॑ञ्चति । इ॒यव्वाँव र॑थन्त॒रम् ।।  ।। अ॒सौ बृ॒हत् । अ॒नयो॑रे॒वैन॒मन॑न्तऱ्हितम॒भिषि॑ञ्चति । प॒शु॒स्तो॒मो वा ए॒षः । तेन॑ गोस॒वः । ष॒ट्त्रि॒॒शस्सर्वः॑ । रे॒वज्जा॒तस्सह॑सा वृ॒द्धः । ख्ष॒त्राणाङ्खत्र॒भृत्त॑मो वयो॒धाः । म॒हान्म॑हि॒त्वे त॑स्तभा॒नः । ख्ष॒त्रे रा॒ष्ट्रे च॑ जागृहि । प्र॒जाप॑तेस्त्वा परमे॒ष्ठिन॒स्स्वाराज्येना॒भिषि॑ञ्चा॒मीत्या॑ह । स्वाराज्यमे॒वैन॑ङ्गमयति ।।  ।। आयु॑रसि वि॒श्वायु॑रसि । स॒र्वायु॑रसि॒ सर्व॒मायु॑रसि । यतो॒ वातो॒ मनो॑जवाः । यतः॒ ख्षर॑न्ति॒ सिन्ध॑वः । तासान्त्वा॒ सर्वा॑सा रु॒चा । अ॒भिषि॑ञ्चामि॒ वर्च॑सा । स॒मु॒द्र इ॑वासि ग॒ह्मना । सोम॑ इवा॒स्यदाभ्यः । अ॒ग्निरि॑व वि॒श्वत॑ प्र॒त्यङ्ङ् । सूर्य॑ इव॒ ज्योति॑षा वि॒भूः ।।  ।। प्र॒जाप॑ति प्र॒जा अ॑सृजत । ता अ॑स्माथ्सृ॒ष्टा परा॑चीरायन्न् । स ए॒तं प्र॒जाप॑तिरोद॒नम॑पश्यत् । सोऽन्नं॑ भू॒तो॑ऽतिष्ठत् । ता अ॒न्यत्रा॒न्नाद्य॒मवि॑त्वा । प्र॒जाप॑तिं प्र॒जा उ॒पाव॑र्तन्त । अन्न॑मे॒वैनं॑ भू॒तं पश्य॑न्ती प्र॒जा उ॒पाव॑र्तन्ते । य ए॒तेन॒ यज॑ते । य उ॑ चैनमे॒वव्वेँद॑ । सर्वा॒ण्यन्ना॑नि भवन्ति ।।  ।। सर्वे॒ पुरु॑षाः । सर्वाण्ये॒वान्ना॒न्यव॑ रुन्धे । सर्वा॒न्पुरु॑षान् । राड॑सि वि॒राड॒सीत्या॑ह । स्वाराज्यमे॒वैन॑ङ्गमयति । यद्धिर॑ण्य॒न्ददा॑ति । तेज॒स्तेनाव॑रुन्धे । यत्ति॑सृध॒न्वम् । वी॒र्य॑न्तेन॑ । यदष्ट्राम् ।।  ।। पुष्टि॒न्तेन॑ । यत्क॑म॒ण्डलुम् । आयु॒ष्टेन॑ । यद्धिर॑ण्यमा ब॒ध्नाति॑ । ज्योति॒र्वै हिर॑ण्यम् । ज्योति॑रे॒वास्मि॑न्दधाति । अथो॒ तेजो॒ वै हिर॑ण्यम् । तेज॑ ए॒वात्मन्ध॑त्ते । यदो॑द॒नं प्रा॒श्ञाति॑ । ए॒तदे॒व सर्व॑मव॒रुध्य॑ ।।  ।। तद॑स्मिन्नेक॒धाऽधात् । रो॒हि॒ण्याङ्का॒र्यः॑ । यद्ब्राह्म॒ण ए॒व रो॑हि॒णी । तस्मा॑दे॒व । अथो॒ वर्ष्मै॒वैन॑ समा॒नानाङ्करोति । उ॒द्य॒ता सूर्ये॑ण का॒र्यः॑ । उ॒द्यन्त॒व्वाँ ए॒त सर्वा प्र॒जा प्रति॑नन्दन्ति । दि॒दृ॒ख्षेण्यो॑ दऱ्श॒नीयो॑ भवति । य ए॒वव्वेँद॑ । ब्र॒ह्म॒वा॒दिनो॑ वदन्ति ।।  ।। अ॒वेत्यो॑ऽवभृ॒था ३ ना ३ इति॑ । यद्द॑र्भपुञ्जी॒लै प॒वय॑ति । तथ्स्वि॑दे॒वावै॑ति । तन्नावै॑ति । त्रि॒भि प॑वयति । त्रय॑ इ॒मे लो॒काः । ए॒भिरे॒वैन॑ल्लोँ॒कै प॑वयति । अथो॑ अ॒पाव्वाँ ए॒तत्तेजो॒ वर्चः॑ । यद्द॒र्भाः । यद्द॑र्भपुञ्जी॒लै प॒वय॑ति । अ॒पामे॒वैन॒न्तेज॑सा॒ वर्च॑सा॒ऽभिषि॑ञ्चति ।।  ।। प्र॒जाप॑तिरकामयत ब॒होर्भूयान्थ्स्या॒मिति॑ । स ए॒तं प॑ञ्चशार॒दीय॑मपश्यत् । तमाऽह॑रत् । तेना॑यजत । ततो॒ वै स ब॒होर्भूया॑नभवत् । य का॒मये॑त ब॒होर्भूयान्थ्स्या॒मिति॑ । स प॑ञ्चशार॒दीये॑न यजेत । ब॒होरे॒व भूयान्भवति । म॒रु॒थ्स्तो॒मो वा ए॒षः । म॒रुतो॒ हि दे॒वानां॒ भूयि॑ष्ठाः ।।  ।। ब॒हुर्भ॑वति । य ए॒तेन॒ यज॑ते । य उ॑चैनमे॒वव्वेँद॑ । प॒ञ्च॒शा॒र॒दीयो॑ भवति । पञ्च॒ वा ऋ॒तव॑स्सव्वँथ्स॒रः । ऋ॒तुष्वे॒व स॑व्वँथ्स॒रे प्रति॑तिष्ठति । अथो॒ पञ्चाख्षरा प॒ङ्क्तिः । पाङ्क्तो॑ य॒ज्ञः । य॒ज्ञमे॒वाव॑ रुन्धे । स॒प्त॒द॒श स्तोमा॒ नाति॑ यन्ति । स॒प्त॒द॒श प्र॒जाप॑तिः । प्र॒जाप॑ते॒राप्त्यै ।।  ।। अ॒गस्त्यो॑ म॒रुद्भ्य॑ उ॒ख्ष्ण प्रौख्ष॑त् । तानिन्द्र॒ आद॑त्त । त ए॑न॒व्वँज्र॑मु॒द्यत्या॒भ्या॑यन्त । तान॒गस्त्य॑श्चै॒वेन्द्र॑श्च कयाशु॒भीये॑नाशमयताम् । ताञ्छा॒न्तानुपाह्वयत । यत्क॑याशु॒भीयं॒ भव॑ति॒ शान्त्यै । तस्मा॑दे॒त ऐन्द्रामारु॒ता उ॒ख्षाण॑स्सव॒नीया॑ भवन्ति । त्रय॑ प्रथ॒मेऽह॒न्ना ल॑भ्यन्ते । ए॒वन्द्वि॒तीये । ए॒वन्तृ॒तीये ।।  ।। ए॒वञ्च॑तु॒र्थे । पञ्चोत्त॒मेऽह॒न्ना ल॑भ्यन्ते । वऱ्षि॑ष्ठमिव॒ ह्ये॑तदहः॑ । वऱ्षि॑ष्ठस्समा॒नानां भवति । य ए॒तेन॒ यज॑ते । य उ॑चैनमे॒वव्वेँद॑ । स्वाराज्य॒व्वाँ ए॒ष य॒ज्ञः । ए॒तेन॒ वा एक॒या वा॑ कान्द॒मस्स्वाराज्यमगच्छत् । स्वराज्यङ्गच्छति । य ए॒तेन॒ यज॑ते ।।  ।। य उ॑ चैनमे॒वव्वेँद॑ । मा॒रु॒तो वा ए॒ष स्तोमः॑ । ए॒तेन॒ वै म॒रुतो॑ दे॒वानां॒ भूयि॑ष्ठा अभवन्न् । भूयि॑ष्ठस्समा॒नानां भवति । य ए॒तेन॒ यज॑ते । य उ॑ चैनमे॒वव्वेँद॑ । प॒ञ्च॒शा॒र॒दीयो॒ वा ए॒ष य॒ज्ञः । आ प॑ञ्च॒मात्पुरु॑षा॒दन्न॑मत्ति । य ए॒तेन॒ यज॑ते । य उ॑ चैनमे॒वव्वेँद॑ । स॒प्त॒द॒श स्तोमा॒ नाति॑ यन्ति । स॒प्त॒द॒श प्र॒जाप॑तिः । प्र॒जाप॑तेरे॒व नैति॑ ।।  ।। अ॒स्या जरा॑सो द॒मा म॒रित्राः । अ॒र्चद्धू॑मासो अ॒ग्नय॑ पाव॒काः । श्वि॒ची॒चय॑श्श्वा॒त्रासो॑ भुर॒ण्यवः॑ । व॒न॒र्॒षदो॑ वा॒यवो॒ न सोमाः । यजा॑ नो मि॒त्रावरु॑णा । यजा॑ दे॒वा ऋ॒तं बृ॒हत् । अग्ने॒ यख्षि॒ स्वन्दमम् । अश्वि॑ना॒ पिब॑त सु॒तम् । दीद्य॑ग्नी शुचिव्रता । ऋ॒तुना॑ यज्ञवाहसा ।।  ।। औख्ष॑न्घृ॒तैरास्तृ॑णन्ब॒र्॒हिर॑स्मै । आदिद्धोता॑र॒न्न्य॑षादयन्त । अ॒ग्निना॒ऽग्निस्समि॑ध्यते । क॒विर्गृ॒हप॑ति॒र्युवा । ह॒व्य॒वाड्जु॒ह्वास्यः । अ॒ग्निर्दे॒वानाञ्ज॒ठरम् । पू॒तद॑ख्ष क॒विक्र॑तुः । दे॒वो दे॒वेभि॒रा ग॑मत् । अ॒ग्नि॒श्रियो॑ म॒रुतो॑ वि॒श्वकृ॑ष्टयः । आ त्वे॒षमु॒ग्रमव॑ ईमहे व॒यम् ।।  ।। श्रु॒धि श्रु॑त्कर्ण॒ वह्नि॑भिः । दे॒वैर॑ग्ने स॒याव॑भिः । आसी॑दन्तु ब॒र्॒हिषि॑ । मि॒त्रो वरु॑णो अर्य॒मा । प्रा॒त॒र्यावा॑णो अध्व॒रम् । विश्वे॑षा॒मदि॑तिर्य॒ज्ञिया॑नाम् । विश्वे॑षा॒मति॑थि॒र्मानु॑षाणाम् । अ॒ग्निर्दे॒वाना॒मव॑ आवृणा॒नः । सु॒मृ॒डी॒को भवतु वि॒श्ववे॑दाः । त्वे अ॑ग्ने सुम॒तिं भिख्ष॑माणाः ।।  ।। दि॒वि श्रवो॑ दधिरे य॒ज्ञिया॑सः । नक्ता॑ च च॒क्रुरु॒षसा॒ विरू॑पे । कृ॒ष्णञ्च॒ वर्ण॑मरु॒णञ्च॒ सन्धुः॑ । त्वाम॑ग्न आदि॒त्यास॑ आ॒स्यम् । त्वाञ्जि॒ह्वा शुच॑यश्चक्रिरे कवे । त्वा रा॑ति॒षाचो॑ अध्व॒रेषु॑ सश्चिरे । त्वे दे॒वा ह॒विर॑द॒न्त्याहु॑तम् । नि त्वा॑ य॒ज्ञस्य॒ साध॑नम् । अग्ने॒ होता॑रमृ॒त्विजम् । व॒नु॒ष्वद्दे॑व धीमहि॒ प्रचे॑तसम् । जी॒रन्दू॒तमम॑र्त्यम् ।।  ।। द्वि॒ता यो वृ॑त्र॒हन्त॑मः । वि॒द इन्द्र॑श्श॒तक्र॑तुः । उप॑ नो॒ हरि॑भिस्सु॒तम् । स सूर॒ आज॒नय॒ञ्ज्योति॒रिन्द्रम् । अ॒या धि॒या त॒रणि॒रद्रि॑बऱ्हाः । ऋ॒तेन॑ शु॒ष्मी नव॑मानो अ॒र्कैः । व्यु॑स्रिधो॑ अ॒स्रो अद्रि॑र्बिभेद । उ॒तत्यदा॒श्वश्वि॑यम् । यदि॑न्द्र॒ नाहु॑षी॒ष्वा । अग्रे॑ वि॒ख्षु प्रतीद॑यत् ।।  ।। गभ॑स्तयो नि॒युतो॑ वि॒श्ववा॑राः । अह॑रह॒र्भूय॒ इज्जोगु॑वानाः । पू॒र्णा इ॑न्द्र ख्षु॒मतो॒ भोज॑नस्य । इ॒मान्ते॒ धियं॒ प्र भ॑रे म॒हो म॒हीम् । अ॒स्य स्तो॒त्रे धि॒षणा॒ यत्त॑ आन॒जे । तमु॑थ्स॒वे च॑ प्रस॒वे च॑ सास॒हिम् । इन्द्र॑न्दे॒वास॒श्शव॑सा मद॒न्ननु॑ ।।  ।। प्र॒जाप॑ति प॒शून॑सृजत । तेऽस्माथ्सृ॒ष्टा पराञ्च आयन्न् । तान॑ग्निष्टो॒मेन॒ नाप्नोत् । तानु॒क्थ्ये॑न॒ नाप्नोत् । तान्थ्षो॑ड॒शिना॒ नाप्नोत् । तान्रात्रि॑या॒ नाप्नोत् । तान्थ्स॒न्धिना॒ नाप्नोत् । सोऽग्निम॑ब्रवीत् । इ॒मान्म॑ ई॒प्सेति॑ । तान॒ग्निस्त्रि॒वृता॒ स्तोमे॑न॒ नाप्नोत् ।।  ।। स इन्द्र॑मब्रवीत् । इ॒मान्म॑ ई॒प्सेति॑ । तानिन्द्रः॑ पञ्चद॒शेन॒ स्तोमे॑न॒ नाप्नोत् । स विश्वान्दे॒वान॑ब्रवीत् । इ॒मान्म॑ ईप्स॒तेति॑ । तान् विश्वे॑दे॒वास्स॑प्तद॒शेन॒ स्तोमे॑न॒ नाप्नु॑वन्न् । स विष्णु॑मब्रवीत् । इ॒मान्म॑ ई॒प्सेति॑ । ताऩ् विष्णु॑रेकवि॒॒शेन॒ स्तोमे॑नाप्नोत् । वा॒र॒व॒न्तीये॑नावारयत ।।  ।। इ॒दव्विँष्णु॒र्वि च॑क्रम॒ इति॒ व्य॑क्रमत । यस्मात्प॒शव॒ प्रप्रेव॒ भ्रशे॑रन्न् । स ए॒तेन॑ यजेत । यदाप्नोत् । तद॒प्तोर्याम॑स्याप्तोर्याम॒त्वम् । ए॒तेन॒ वै दे॒वा जैत्वा॑नि जि॒त्वा । यङ्काम॒मका॑मयन्त॒ तमाप्नुवन्न् । यङ्काम॑ङ्का॒मय॑ते । तमे॒तेनाप्नोति ।।  ।। तस्य॑ मृ॒त्यौ च॑रति राज॒सूयम् । स राजा॑ रा॒ज्यमनु॑ मन्यतामि॒दम् । येभि॒श्शिल्पै पप्रथा॒नामदृ॑हत् । येभि॒र्द्याम॒भ्यपि॑शत्प्र॒जाप॑तिः । येभि॒र्वाच॑व्विँ॒श्वरू॑पा स॒मव्य॑यत् । तेने॒मम॑ग्न इ॒ह वर्च॑सा॒ सम॑ङ्ग्धि । येभि॑रादि॒त्यस्तप॑ति॒ प्र के॒तुभिः॑ । येभि॒स्सूर्यो॑ ददृ॒शे चि॒त्रभा॑नुः । येभि॒र्वाचं॑ पुष्क॒लेभि॒रव्य॑यत् । तेने॒मम॑ग्न इ॒ह वर्च॑सा॒ सम॑ङ्ग्धि ।।  ।। तद्ग्रावा॑णस्सोम॒सुतो॑ मयो॒भुवः॑ । तद॑श्विना शृणुत सौभगा यु॒वम् । अव॑ ते॒ हेड॒ उदु॑त्त॒मम् । ए॒ना व्या॒घ्रं प॑रिषस्वजा॒नाः । सि॒॒ह हि॑न्वन्ति मह॒ते सौभ॑गाय । स॒मु॒द्रन्न सु॒हव॑न्तस्थि॒वासम् । म॒र्मृ॒ज्यन्ते द्वी॒पिन॑म॒फ्स्व॑न्तः । उद॒सावे॑तु॒ सूर्यः॑ । उदि॒दं मा॑म॒कव्वँचः॑ । उदि॑हि देव सूर्य । स॒ह व॒ग्नुना॒ मम॑ । अ॒हव्वाँ॒चो वि॒वाच॑नम् । मयि॒ वाग॑स्तु धर्ण॒सिः । यन्तु॑ न॒दयो॒ वऱ्ष॑न्तु प॒र्जन्याः । सु॒पि॒प्प॒ला ओष॑धयो भवन्तु । अन्न॑वतामोद॒नव॑तामा॒मिख्ष॑वताम् । ए॒षा राजा॑ भूयसाम् ।।  ।। दे॒हि दख्षि॑णां॒ प्रति॑र॒स्वायुः॑ । अथा॑मुच्यस्व॒ वरु॑णस्य॒ पाशात् । येनाव॑पथ्सवि॒ता ख्षु॒रेण॑ । सोम॑स्य॒ राज्ञो॒ वरु॑णस्य वि॒द्वान् । तेन॑ ब्रह्माणो वपते॒दम॒स्योर्जेमम् । र॒य्या वर्च॑सा॒ स सृ॑जाथ । मा ते॒ केशा॒ननु॑ गा॒द्वर्च॑ ए॒तत् । तथा॑ धा॒ता क॑रोतु ते । तुभ्य॒मिन्द्रो॒ बृह॒स्पतिः॑ । स॒वि॒ता वर्च॒ आद॑धात् ।।  ।। इन्द्र॒व्वैँ स्वाविशो॑ म॒रुतो॒ नापा॑चायन्न् । सोऽन॑पचाय्यमान ए॒तव्विँ॑घ॒नम॑पश्यत् । तमाऽह॑रत् । तेना॑यजत । तेनै॒वासा॒न्त स॑ स्त॒म्भव्व्यँ॑हन्न् । यद्व्यहन्न्॑ । तद्वि॑घ॒नस्य॑ विघन॒त्वम् । वि पा॒प्मानं॒ भ्रातृ॑व्य हते । य ए॒तेन॒ यज॑ते । य उ॑ चैनमे॒वव्वेँद॑ ।।  ।। य राजा॑न॒व्विँशो॒ नाप॒चाये॑युः । यो वा ब्राह्म॒णस्तम॑सा पा॒प्मना॒ प्रावृ॑त॒स्स्यात् । स ए॒तेन॑ यजेत । वि॒घ॒नेनै॒वैन॑द्वि॒हत्य॑ । वि॒शामाधि॑पत्यङ्गच्छति । तस्य॒ द्वे द्वा॑द॒शे स्तो॒त्रे भव॑तः । द्वे च॑तुर्वि॒॒शे । औद्भि॑द्यमे॒व तत् । ए॒तद्वै ख्ष॒त्रस्यौद्भि॑द्यम् । यद॑स्मै॒ स्वाविशो॑ ब॒लि हर॑न्ति ।।  ।। हर॑न्त्यस्मै॒ विशो॑ ब॒लिम् । ऐन॒मप्र॑तिख्यातङ्गच्छति । य ए॒वव्वेँद॑ । प्र॒बाहु॒ग्वा अग्रे ख्ष॒त्राण्याते॑पुः । तेषा॒मिन्द्रः॑ ख्ष॒त्राण्याद॑त्त । न वा इ॒मानि॑ ख्ष॒त्राण्य॑भूव॒न्निति॑ । तन्नख्ष॑त्राणन्नख्षत्र॒त्वम् । आ श्रेय॑सो॒ भ्रातृ॑व्यस्य॒ तेज॑ इन्द्रि॒यन्द॑त्ते । य ए॒तेन॒ यज॑ते । य उ॑ चैनमे॒वव्वेँद॑ ।।  ।। तद्यथा॑ ह॒ वै स॑च॒क्रिणौ॒ कप्ल॑कावु॒पाव॑हितौ॒ स्याताम् । ए॒वमे॒तौ यु॒ग्मन्तौ॒ स्तोमौ । अ॒युख्षु॒ स्तोमे॑षु क्रियेते । पा॒प्मनोऽप॑हत्यै । अप॑ पा॒प्मानं॒ भ्रातृ॑व्य हते । य ए॒तेन॒ यज॑ते । य उ॑ चैनमे॒वव्वेँद॑ । तद्यथा॑ ह॒ वै सू॑तग्राम॒ण्यः॑ । ए॒वञ्छन्दा॑सि । तेष्व॒सावा॑दि॒त्यो बृ॑ह॒तीर॒भ्यू॑ढः ।।  ।। बृ॒हद्र॑यिव्विँ॒श्ववा॑रा रथ॒प्राम् । द्यु॒तद्या॑मा नि॒युत॒ पत्य॑मानः । क॒वि क॒विमि॑यख्षसि प्रयज्यो । आ नो॑ नि॒युद्भि॑श्श॒तिनी॑भिरध्व॒रम् । स॒ह॒स्रिणी॑भि॒रुप॑ याहि य॒ज्ञम् । वायो॑ अ॒स्मिन् ह॒विषि॑ मादयस्व । यू॒यं पा॑त स्व॒स्तिभि॒स्सदा॑ नः । प्रजा॑पते॒ न त्वदे॒तान्य॒न्यः । विश्वा॑ जा॒तानि॒ परि॒ ता ब॑भूव । यत्का॑मास्ते जुहु॒मस्तन्नो॑ अस्तु ।।  ।। व॒य स्या॑म॒ पत॑यो रयी॒णाम् । र॒यी॒णां पति॑य्यँज॒तं बृ॒हन्तम् । अ॒स्मिन्भरे॒ नृत॑म॒व्वाँज॑सातौ । प्र॒जाप॑तिं प्रथम॒जामृ॒तस्य॑ । यजा॑म दे॒वमधि॑ नो ब्रवीतु । प्रजा॑पते॒ त्वन्नि॑धि॒पा पु॑रा॒णः । दे॒वानां पि॒ता ज॑नि॒ता प्र॒जानाम् । पति॒र्विश्व॑स्य॒ जग॑त पर॒स्पाः । ह॒विर्नो॑ देव विह॒वे जु॑षस्व । तवे॒मे लो॒का प्र॒दिशो॒ दिश॑श्च ।।  ।। स॒हस्र॑धामा जुषता ह॒विर्नः॑ । सोमा॑पूषणे॒मौ दे॒वौ । सोमा॑पूषणा॒ रज॑सो वि॒मानम् । स॒प्तच॑क्र॒॒ रथ॒मवि॑श्वमिन्वम् । वि॒षू॒वृतं॒ मन॑सा यु॒ज्यमा॑नम् । तञ्जि॑न्वथो वृषणा॒ पञ्च॑रश्मिम् । दि॒व्य॑न्यस्सद॑नञ्च॒क्र उ॒च्चा । पृ॒थि॒व्याम॒न्यो अध्य॒न्तरि॑ख्षे । ताव॒स्मभ्यं॑ पुरु॒वारं॑ पुरु॒ख्षुम् । रा॒यस्पोष॒व्विँष्य॑ता॒न्नाभि॑म॒स्मे ।।  ।। अ॒स्मे काम॑न्दा॒शुषे॑ स॒न्नम॑न्तः । पुरो॒डाश॑ङ्घृ॒तव॑न्तञ्जुषन्ताम् । स्क॒भा॒यत॒ निऱ्ऋ॑ति॒॒ सेध॒ताम॑तिम् । प्र र॒श्मिभि॒र्यत॑माना अमृध्राः । आदि॑त्या॒ काम॒ प्रय॑ता॒व्वँष॑ट्कृतिम् । जु॒षध्व॑न्नो ह॒व्यदा॑तिय्यँजत्राः । आ॒दि॒त्यान्काम॒मव॑से हुवेम । ये भू॒तानि॑ ज॒नय॑न्तो विचि॒ख्युः । सीद॑न्तु पु॒त्रा अदि॑तेरु॒पस्थम् । स्ती॒र्णं ब॒र्॒हिऱ्ह॑वि॒रद्या॑य दे॒वाः ।।  ।। यो दैव्या॑नि॒ मानु॑षा ज॒नूषि॑ । अ॒न्तर्विश्वा॑नि वि॒द्मना॒ जिगा॑ति । अच्छा॒ गिरो॑ म॒तयो॑ देव॒यन्तीः । अ॒ग्निय्यँ॑न्ति॒ द्रवि॑णं॒ भिक्ष॑माणाः । सु॒स॒न्दृश॑ सु॒प्रती॑क॒॒ स्वञ्चम् । ह॒व्य॒वाह॑मर॒तिं मानु॑षाणाम् । अग्ने॒ त्वम॒स्मद्यु॑यो॒ध्यमी॑वाः । अन॑ग्नित्रा अ॒भ्य॑मन्त कृ॒ष्टीः । पुन॑र॒स्मभ्य॑ सुवि॒ताय॑ देव । ख्षाव्विँश्वे॑भिर॒जरे॑भिर्यजत्र ।।  ।। अग्ने॒ त्वं पा॑रया॒ नव्यो॑ अ॒स्मान् । स्व॒स्तिभि॒रति॑ दु॒र्गाणि॒ विश्वा । पूश्च॑ पृ॒थ्वी ब॑हु॒ला न॑ उ॒र्वी । भवा॑ तो॒काय॒ तन॑याय॒ शय्योँः । प्रका॑रवो मन॒ना व॒च्यमा॑नाः । दे॒व॒द्रीचीन्नयथ देव॒यन्तः॑ । द॒ख्षि॒णा॒वाड्वा॒जिनी॒ प्राच्ये॑ति । ह॒विर्भर॑न्त्य॒ग्नये॑ घृ॒ताची । इन्द्र॒न्नरो॑ यु॒जे रथम् । ज॒गृ॒भ्णाते॒ दख्षि॑णमिन्द्र॒ हस्तम् ।।  ।। सोमो॑ धे॒नु सोमो॒ अर्व॑न्तमा॒शुम् । सोमो॑ वी॒रङ्क॑र्म॒ण्य॑न्ददातु । सा॒द॒न्य॑व्विँद॒थ्य॑ स॒भेयम् । पि॒तु॒श्श्रव॑ण॒य्योँ ददा॑शदस्मै । अषा॑ढय्युँ॒थ्सु त्व सो॑म॒ क्रतु॑भिः । या ते॒ धामा॑नि ह॒विषा॒ यज॑न्ति । त्वमि॒मा ओष॑धीस्सोम॒ विश्वाः । त्वम॒पो अ॑जनय॒स्त्वङ्गाः । त्वमात॑तन्थो॒र्व॑न्तरि॑ख्षम् । त्वञ्ज्योति॑षा॒ वि तमो॑ ववर्थ ।।  ।। म॒न्द्र ओजि॑ष्ठो बहु॒लाभि॑मानः । अव॑र्ध॒न्निन्द्रं॑ म॒रुत॑श्चि॒दत्र॑ । मा॒ता यद्वी॒रन्द॒धन॒द्धनि॑ष्ठा । क्व॑स्यावो॑ मरुतस्स्व॒धाऽऽसीत् । यन्मामेक॑ स॒मध॑त्ताहि॒हत्ये । अ॒ह ह्यु॑ग्रस्त॑वि॒षस्तुवि॑ष्मान् । विश्व॑स्य॒ शत्रो॒रन॑मव्वँध॒स्नैः । वृ॒त्रस्य॑ त्वा श्व॒सथा॒ दीष॑माणाः । विश्वे॑ दे॒वा अ॑जहु॒र्ये सखा॑यः । म॒रुद्भि॑रिन्द्र स॒ख्यन्ते॑ अस्तु ।।  ।। अथे॒मा विश्वा॒ पृत॑ना जयासि । वधीव्वृँ॒त्रं म॑रुत इन्द्रि॒येण॑ । स्वेन॒ भामे॑न तवि॒षो ब॑भू॒वान् । अ॒हमे॒ता मन॑वे वि॒श्वश्च॑न्द्राः । सु॒गा अ॒पश्च॑कर॒ वज्र॑बाहुः । स यो वृषा॒ वृष्णि॑येभि॒स्समो॑काः । म॒हो दि॒व पृ॑थि॒व्याश्च॑ स॒म्राट् । स॒ती॒नस॑त्वा॒ हव्यो॒ भरे॑षु । म॒रुत्वान्नो भव॒त्विन्द्र॑ ऊ॒ती । इन्द्रो॑ वृ॒त्रम॑तरद्वृत्र॒तूर्ये ।।  ।। अ॒ना॒धृ॒ष्यो म॒घवा॒ शूर॒ इन्द्रः॑ । अन्वे॑न॒व्विँशो॑ अमदन्त पू॒र्वीः । अ॒य राजा॒ जग॑तश्चऱ्षणी॒नाम् । स ए॒व वी॒रस्स उ॑ वी॒र्या॑वान् । स ए॑करा॒जो जग॑त पर॒स्पाः । य॒दा वृ॒त्रमत॑र॒च्छूर॒ इन्द्रः॑ । अथा॑भवद्दमि॒ताभिक्र॑तूनाम् । इन्द्रो॑ य॒ज्ञव्वँ॒र्धय॑न्वि॒श्ववे॑दाः । पु॒रो॒डाश॑स्य जुषता ह॒विर्नः॑ । वृ॒त्रन्ती॒र्त्वा दा॑न॒वव्वँज्र॑बाहुः ।।  ।। इन्द्र॒स्तर॑स्वानभिमाति॒होग्रः । हिर॑ण्यवाशीरिषि॒रस्सु॑व॒र्॒षाः । तस्य॑ व॒य सु॑म॒तौ य॒ज्ञिय॑स्य । अपि॑ भ॒द्रे सौ॑मन॒से स्या॑म । हिर॑ण्यवर्णो॒ अभ॑यङ्कृणोतु । अ॒भि॒मा॒ति॒हेन्द्र॒ पृत॑नासु जि॒ष्णुः । स न॒श्शर्म॑ त्रि॒वरू॑थ॒व्विँ य॑सत् । यू॒यं पा॑त स्व॒स्तिभि॒स्सदा॑ नः । इन्द्र॑ स्तुहि व॒ज्रिण॒॒ स्तोम॑पृष्ठम् । पु॒रो॒डाश॑स्य जुषता ह॒विर्नः॑ ।।  ।। ह॒त्वाभिमा॑ती॒ पृत॑ना॒स्सह॑स्वान् । अथाभ॑यङ्कृणुहि वि॒श्वतो॑ नः । स्तु॒हि शूर॑व्वँ॒ज्रिण॒मप्र॑तीत्तम् । अ॒भि॒मा॒ति॒हनं॑ पुरुहू॒तमिन्द्रम् । य एक॒ इच्छ॒तप॑ति॒र्जने॑षु । तस्मा॒ इन्द्रा॑य ह॒विरा जु॑होत । इन्द्रो॑ दे॒वाना॑मधि॒पा पु॒रोहि॑तः । दि॒शां पति॑रभवद्वा॒जिनी॑वान् । अ॒भि॒मा॒ति॒हा त॑वि॒षस्तुवि॑ष्मान् । अ॒स्मभ्य॑ञ्चि॒त्रव्वृँष॑ण र॒यिन्दात् ।।  ।। य इ॒मे द्यावा॑पृथि॒वी म॑हि॒त्वा । बले॒नादृ॑हदभिमाति॒हेन्द्रः॑ । स नो॑ ह॒वि प्रति॑ गृभ्णातु रा॒तये । दे॒वानान्दे॒वो नि॑धि॒पा नो॑ अव्यात् । अन॑वस्ते॒ रथ॒व्वृँष्णे॒ यत्ते । इन्द्र॑स्य॒ नु वी॒र्याण्यह॒न्नहिम् । इन्द्रो॑ या॒तोऽव॑सितस्य॒ राजा । शम॑स्य च शृ॒ङ्गिणो॒ वज्र॑बाहुः । सेदु॒ राजा ख्षेति चऱ्षणी॒नाम् । अ॒रान्न ने॒मि परि॒ ता ब॑भूव ।।  ।। अ॒भि सि॒ध्मो अ॑जिगादस्य॒ शत्रून्॑ । विति॒ग्मेन॑ वृष॒भेणा॒ पुरो॑भेत् । सव्वँज्रे॑णासृजद्वृ॒त्रमिन्द्रः॑ । प्र स्वां म॒तिम॑तिर॒च्छाश॑दानः । विष्णु॑न्दे॒वव्वँरु॑णमू॒तये॒ भगम् । मेद॑सा दे॒वा व॒पया॑ यजध्वम् । ता नो॑ य॒ज्ञमाग॑तव्विँ॒श्वधे॑ना । प्र॒जाव॑द॒स्मे द्रवि॑णे॒ह ध॑त्तम् । मेद॑सा दे॒वा व॒पया॑ यजध्वम् । विष्णु॑ञ्च दे॒वव्वँरु॑णञ्च रा॒तिम् ।।  ।। प्रप॑थे दि॒व प्रप॑थे पृथि॒व्याः । उ॒भे अ॒भि प्रि॒यत॑मे स॒धस्थे । आ च॒ परा॑ च चरति प्रजा॒नन्न् । पू॒षा सु॒बन्धु॑र्दि॒व आ पृ॑थि॒व्याः । इ॒डस्पति॑र्म॒घवा॑ द॒स्मव॑र्चाः । तन्दे॒वासो॒ अद॑दुस्सू॒र्यायै । कामे॑न कृ॒तन्त॒वस॒॒ स्वञ्चम् । अ॒जाऽश्व॑ पशु॒पा वाज॑बस्त्यः । धि॒य॒ञ्जि॒न्वो विश्वे॒ भुव॑ने॒ अर्पि॑तः । अष्ट्रां पू॒षा शि॑थि॒रामु॒द्वरी॑वृजत् ।।  ।। स॒ञ्चख्षा॑णो॒ भुव॑ना दे॒व ई॑यते । शुची॑ वो ह॒व्या म॑रुत॒श्शुची॑नाम् । शुचि॑ हिनोम्यध्व॒र शुचि॑भ्यः । ऋ॒तेन॑ स॒त्यमृत॒साप॑ आयन्न् । शुचि॑जन्मान॒श्शुच॑य पाव॒काः । प्र चि॒त्रम॒र्कङ्गृ॑ण॒ते तु॒राय॑ । मारु॑ताय॒ स्वत॑वसे भरध्वम् । ये सहा॑सि॒ सह॑सा॒ सह॑न्ते । रेज॑ते अग्ने पृथि॒वी म॒खेभ्यः॑ । असे॒ष्वा म॑रुत खा॒दयो॑ वः ।।  ।। वि॒श्रय॑माणो॒ अम॑तिमुरू॒चीम् । म॒र्त॒भोज॑न॒मध॑रासतेन । विजनाञ्छ्या॒वाश्शि॑ति॒पादो॑ अख्यन्न् । रथ॒॒ हिर॑ण्यप्रउग॒व्वँह॑न्तः । शश्व॒द्दिश॑स्सवि॒तुर्दैव्य॑स्य । उ॒पस्थे॒ विश्वा॒ भुव॑नानि तस्थुः । वि सु॑प॒र्णो अ॒न्तरि॑ख्षाण्यख्यत् । ग॒भी॒रवे॑पा॒ असु॑रस्सुनी॒थः । क्वे॑दानी॒॒ सूर्य॒ कश्चि॑केत । क॒त॒मान्द्या र॒श्मिर॒स्या त॑तान ।।  ।। सूर्यो॑ दे॒वीमु॒षस॒॒ रोच॑माना॒मर्यः॑ । न योषा॑म॒भ्ये॑ति प॒श्चात् । यत्रा॒ नरो॑ देव॒यन्तो॑ यु॒गानि॑ । वि॒त॒न्वते॒ प्रति॑ भ॒द्राय॑ भ॒द्रम् । भ॒द्रा अश्वा॑ ह॒रित॒स्सूर्य॑स्य । चि॒त्रा एद॑ग्वा अनु॒माद्या॑सः । न॒म॒स्यन्तो॑ दि॒व आ पृ॒ष्ठम॑स्थुः । परि॒ द्यावा॑पृथि॒वी य॑न्ति स॒द्यः । तथ्सूर्य॑स्य देव॒त्वन्तन्म॑हि॒त्वम् । म॒ध्या कर्तो॒र्वित॑त॒॒ सञ्ज॑भार ।।  ।। दि॒वो रु॒क्म उ॑रु॒चख्षा॒ उदे॑ति । दू॒रे अ॑र्थस्त॒रणि॒र्भ्राज॑मानः । नू॒नञ्जना॒स्सूर्ये॑ण॒ प्रसू॑ताः । आयन्नर्था॑नि कृ॒णव॒न्नपा॑सि । शन्नो॑ भव॒ चख्ष॑सा॒ शन्नो॒ अह्ना । शं भा॒नुना॒ श हि॒मा शङ्घृ॒णेन॑ । यथा॒ शम॒स्मै शमस॑द्दुरो॒णे । तथ्सूर्य॒ द्रवि॑णन्धे॒हि चि॒त्रम् । चि॒त्रन्दे॒वाना॒मुद॑गा॒दनी॑कम् । चख्षु॑र्मि॒त्रस्य॒ वरु॑णस्या॒ग्नेः ।।  ।। आप्रा॒ द्यावा॑पृथि॒वी अ॒न्तरि॑ख्षम् । सूर्य॑ आ॒त्मा जग॑तस्त॒स्थुष॑श्च । त्वष्टा॒ दध॒त्तन्न॑स्तु॒रीपम् । त्वष्टा॑ वी॒रं पि॒शङ्ग॑रूपः । दशे॒मन्त्वष्टु॑र्जनयन्त॒ गर्भम् । अत॑न्द्रासो युव॒तयो॒ बिभ॑र्त्रम् । ति॒ग्मानी॑क॒॒ स्वय॑शस॒ञ्जने॑षु । वि॒रोच॑मानं॒ परि॑षीन्नयन्ति । आविष्ट्यो॑ वर्धते॒ चारु॑रासु । जि॒ह्माना॑मू॒र्ध्वस्वय॑शा उ॒पस्थे ।।  ।। उ॒भे त्वष्टु॑र्बिभ्यतु॒र्जाय॑मानात् । प्र॒तीची॑ सि॒॒हं प्रति॑जोषयेते । मि॒त्रो जना॒न्प्र स मि॑त्र । अ॒यं मि॒त्रो न॑म॒स्य॑स्सु॒शेवः॑ । राजा॑ सुक्ष॒त्रो अ॑जनिष्ट वे॒धाः । तस्य॑ व॒य सु॑म॒तौ य॒ज्ञिय॑स्य । अपि॑ भ॒द्रे सौ॑मन॒से स्या॑म । अ॒न॒मी॒वास॒ इड॑या॒ मद॑न्तः । मि॒तज्म॑वो॒ वरि॑म॒न्ना पृ॑थि॒व्याः । आ॒दि॒त्यस्य॑ व्र॒तमु॑प॒ख्ष्यन्तः॑ ।।  ।। अन्तान्दि॒वो बा॑धते वर्त॒निभ्याम् । यु॒वोश्श्रियं॒ परि॒ योषा॑वृणीत । सूरो॑ दुहि॒ता परि॑तक्मियायाम् । यद्दे॑व॒यन्त॒मव॑थ॒श्शची॑भिः । परि॑घ्र॒॒ सवां॒ मना॑वा॒व्वँयो॑गाम् । यो ह॒स्यवा॑ रथिरा॒वस्त॑ उ॒स्राः । रथो॑ युजा॒न प॑रि॒याति॑ व॒र्तिः । तेन॑ न॒श्शँय्योरु॒षसो॒ व्यु॑ष्टौ । न्य॑श्विना वहतय्यँ॒ज्ञे अ॒स्मिन्न् । यु॒वं भु॒ज्युमव॑विद्ध समु॒द्रे ।।  ।। वि॒शे जना॑य॒ महि॒ शर्म॑ यच्छतम् । अग्नी॑षोमा॒ य आहु॑तिम् । यो वा॒न्दाशाद्ध॒विष्कृ॑तिम् । स प्र॒जया॑ सु॒वीर्यम् । विश्व॒मायु॒र्व्य॑श्ञवत् । अग्नी॑षोमा॒ चेति॒ तद्वी॒र्य॑व्वाँम् । यदमु॑ष्णीतमव॒सं प॒णिङ्गोः । अवा॑तिरतं॒ प्रथ॑यस्य॒ शेषः॑ । अवि॑न्दत॒ञ्ज्योति॒रेकं॑ ब॒हुभ्यः॑ । अग्नी॑षोमावि॒म सु मेऽग्नी॑षोमा ह॒विष॒ प्रस्थि॑तस्य ।।  ।। अ॒हम॑स्मि प्रथम॒जा ऋ॒तस्य॑ । पूर्व॑न्दे॒वेभ्यो॑ अ॒मृत॑स्य॒ नाभिः॑ । यो मा॒ ददा॑ति॒ स इदे॒वमावाः । अ॒हमन्न॒मन्न॑न॒दन्त॑मद्मि । पूर्व॑म॒ग्नेरपि॑ दह॒त्यन्नम् । य॒त्तौ हा॑साते अहमुत्त॒रेषु॑ । व्यात्त॑मस्य प॒शव॑स्सु॒जम्भम् । पश्य॑न्ति॒ धीराः॒ प्रच॑रन्ति॒ पाकाः । जहाम्य॒न्यन्न ज॑हाम्य॒न्यम् । अ॒हमन्न॒व्वँश॒मिच्च॑रामि ।।  ।। अन्नं॑ प्रा॒णमन्न॑मपा॒नमा॑हुः । अन्नं॑ मृ॒त्युन्तमु॑ जी॒वातु॑माहुः । अन्नं॑ ब्र॒ह्माणो॑ ज॒रस॑व्वँदन्ति । अन्न॑माहु प्र॒जन॑नं प्र॒जानाम् । मोघ॒मन्न॑व्विँन्दते॒ अप्र॑चेताः । स॒त्यं ब्र॑वीमि व॒ध इथ्स तस्य॑ । नार्य॒मणं॒ पुष्य॑ति॒ नो सखा॑यम् । केव॑लाघो भवति केवला॒दी । अ॒हं मे॒घस्स्त॒नय॒न्वऱ़्ष॑न्नस्मि । माम॑दन्त्य॒हम॑द्म्य॒न्यान् ।।  ।। तानि॑ विदुर्ब्राह्म॒णा ये म॑नी॒षिणः॑ । गुहा॒ त्रीणि॒ निहि॑ता॒ नेङ्ग॑यन्ति । तु॒रीय॑व्वाँ॒चो म॑नु॒ष्या॑ वदन्ति । श्र॒द्धया॒ऽग्निस्समि॑ध्यते । श्र॒द्धया॑ विन्दते ह॒विः । श्र॒द्धां भग॑स्य मू॒र्धनि॑ । वच॒सा वे॑दयामसि । प्रि॒य श्र॑द्धे॒ दद॑तः । प्रि॒य श्र॑द्धे॒ दिदा॑सतः । प्रि॒यं भो॒जेषु॒ यज्व॑सु ।।  ।। इ॒दं म॑ उदि॒तङ्कृ॑धि । यथा॑ दे॒वा असु॑रेषु । श्र॒द्धामु॒ग्रेषु॑ चक्रि॒रे । ए॒वं भो॒जेषु॒ यज्व॑सु । अ॒स्माक॑मुदि॒तङ्कृ॑धि । श्र॒द्धान्दे॑वा॒ यज॑मानाः । वा॒युगो॑पा॒ उपा॑सते । श्र॒द्धा हृ॑द॒य्य॑याऽऽकूत्या । श्र॒द्धया॑ हूयते ह॒विः । श्र॒द्धां प्रा॒तऱ्ह॑वामहे ।।  ।। श्र॒द्धां म॒ध्यन्दि॑नं॒ परि॑ । श्र॒द्धा सूर्य॑स्य नि॒म्रुचि॑ । श्रद्धे॒ श्रद्धा॑पये॒ह मा । श्र॒द्धा दे॒वानधि॑ वस्ते । श्र॒द्धा विश्व॑मि॒दञ्जग॑त् । श्र॒द्धाङ्काम॑स्य मा॒तरम् । ह॒विषा॑ वर्धयामसि । ब्रह्म॑ जज्ञा॒नं प्र॑थ॒मं पु॒रस्तात् । वि सी॑म॒तस्सु॒रुचो॑ वे॒न आ॑वः । स बु॒ध्निया॑ उप॒ मा अ॑स्य वि॒ष्ठाः ।।  ।। स॒तश्च॒ योनि॒मस॑तश्च॒ विवः॑ । पि॒ता वि॒राजा॑मृष॒भो र॑यी॒णाम् । अ॒न्तरि॑ख्षव्विँ॒श्वरू॑प॒ आवि॑वेश । तम॒र्कैर॒भ्य॑र्चन्ति व॒थ्सम् । ब्रह्म॒ सन्तं॒ ब्रह्म॑णा व॒र्धय॑न्तः । ब्रह्म॑ दे॒वान॑जनयत् । ब्रह्म॒ विश्व॑मि॒दञ्जग॑त् । ब्रह्म॑णः ख्ष॒त्रन्निर्मि॑तम् । ब्रह्म॑ ब्राह्म॒ण आ॒त्मना । अ॒न्तर॑स्मिन्नि॒मे लो॒काः ।।  ।। ब्रह्म॑ स॒मिद्भ॑व॒त्याहु॑तीनाम् । आ गावो॑ अग्मन्नु॒त भ॒द्रम॑क्रन्न् । सीद॑न्तु गो॒ष्ठे र॒णय॑न्त्व॒स्मे । प्र॒जाव॑ती पुरु॒रूपा॑ इ॒ह स्युः । इन्द्रा॑य पू॒र्वीरु॒षसो॒ दुहा॑नाः । इन्द्रो॒ यज्व॑ने पृण॒ते च॑ शिख्षति । उपेद्द॑दाति॒ न स्वं मु॑षायति । भूयो॑भूयो र॒यमिद॑स्य व॒र्धयन्न्॑ । अभि॑न्ने खि॒ल्ले नि द॑धाति देव॒युम् । न ता न॑शन्ति॒ न ता अर्वा ।।  ।। गावो॒ भगो॒ गाव॒ इन्द्रो॑ मे अच्छात् । गाव॒स्सोम॑स्य प्रथ॒मस्य॑ भ॒ख्षः । इ॒मा या गाव॒स्सज॑नास॒ इन्द्रः॑ । इ॒च्छामीद्धृ॒दा मन॑सा चि॒दिन्द्रम् । यू॒यङ्गा॑वो मेदयथा कृ॒शञ्चि॑त् । अ॒श्ली॒लञ्चि॑त्कृणुथा सु॒प्रती॑कम् । भ॒द्रङ्गृ॒हङ्कृ॑णुथ भद्रवाचः । बृ॒हद्वो॒ वय॑ उच्यते स॒भासु॑ । प्र॒जाव॑तीस्सू॒यव॑स रि॒शन्तीः । शु॒द्धा अ॒पस्सु॑प्रपा॒णे पिब॑न्तीः । मा व॑स्स्ते॒न ई॑शत॒ माऽघश॑सः । परि॑ वो हे॒ती रु॒द्रस्य॑ वृञ्ज्यात् । उपे॒दमु॑प॒पर्च॑नम् । आ॒सु गोषूप॑पृच्यताम् । उप॑ऱ्ष॒भस्य॒ रेत॑सि । उपेन्द्र॒ तव॑ वी॒र्ये ।।  ।। अम्भ॒ किमा॑सी॒द्गह॑नङ्गभी॒रम् । न मृ॒त्युर॒मृत॒न्तऱ्हि॒ न । रात्रि॑या॒ अह्न॑ आसीत्प्रके॒तः । आनी॑दवा॒त स्व॒धया॒ तदेकम् । तस्माद्धा॒न्यन्न प॒र किञ्च॒नास॑ । तम॑ आसी॒त्तम॑सा गू॒ढमग्रे प्रके॒तम् । स॒लि॒ल सर्व॑मा इ॒दम् । तु॒च्छेना॒भ्वपि॑हित॒य्यँदासीत् । तम॑स॒स्तन्म॑हि॒ना जा॑य॒तैकम् । काम॒स्तदग्रे॒ सम॑वर्त॒ताधि॑ ।।  ।। तेन॑ व॒यं भग॑वन्तः स्याम । तन्त्वा॑ भग॒ सर्व॒ इज्जो॑हवीमि । स नो॑ भग पुरए॒ता भ॑वे॒ह । सम॑ध्व॒रायो॒षसो॑ नमन्त । द॒धि॒क्रावे॑व॒ शुच॑ये प॒दाय॑ । अ॒र्वा॒ची॒नव्वँ॑सु॒विदं॒ भग॑न्नः । रथ॑मि॒वाश्वा॑ वा॒जिन॒ आव॑हन्तु । अश्वा॑वती॒र्गोम॑तीर्न उ॒षासः॑ । वी॒रव॑ती॒स्सद॑मुच्छन्तु भ॒द्राः । घृ॒तन्दुहा॑ना वि॒श्वत॒ प्रपी॑नाः । यू॒यं पा॑त स्व॒स्तिभि॒स्सदा॑ नः ।।  ।। अ॒ग्निर्न॑ पातु॒ कृत्ति॑काः । नख्ष॑त्रन्दे॒वमि॑न्द्रि॒यम् । इ॒दमा॑साँव्विचख्ष॒णम् । ह॒विरा॒सञ्जु॑होतन । यस्य॒ भान्ति॑ र॒श्मयो॒ यस्य के॒तवः॑ । यस्ये॒मा विश्वा॒ भुव॑नानि॒ सर्वा । स कृत्ति॑काभिर॒भि स॒व्वँसा॑नः । अ॒ग्निर्नो॑ दे॒वस्सु॑वि॒ते द॑धातु । प्र॒जाप॑ते रोहि॒णी वे॑तु॒ पत्नी । वि॒श्वरू॑पा बृह॒ती चि॒त्रभा॑नुः ।।  ।। सा नो॑ य॒ज्ञस्य॑ सुवि॒ते द॑धातु । यथा॒ जीवे॑म श॒रद॒स्सवी॑राः । रो॒हि॒णी दे॒व्युद॑गात्पु॒रस्तात् । विश्वा॑ रू॒पाणि॑ प्रति॒मोद॑माना । प्र॒जाप॑ति ह॒विषा॑ व॒र्धय॑न्ती । प्रि॒या दे॒वाना॒मुप॑यातु य॒ज्ञम् । सोमो॒ राजा॑ मृगशी॒र्॒षेण॒ आगन्न्॑ । शि॒वन्नख्ष॑त्रं प्रि॒यम॑स्य॒ धाम॑ । आ॒प्याय॑मानो बहु॒धा जने॑षु । रेत॑ प्र॒जाय्यँज॑माने दधातु ।।  ।। ये अ॒न्तरि॑ख्षं पृथि॒वीङ्ख्षि॒यन्ति॑ । ते न॑स्स॒र्पासो॒ हव॒माग॑मिष्ठाः । ये रो॑च॒ने सूर्य॒स्यापि॑ स॒र्पाः । ये दिव॑न्दे॒वीमनु॑ स॒ञ्चर॑न्ति । येषा॑माश्रे॒षा अ॑नु॒यन्ति॒ कामम् । तेभ्य॑स्स॒र्पेभ्यो॒ मधु॑मज्जुहोमि । उप॑हूता पि॒तरो॒ ये म॒घासु॑ । मनो॑जवसस्सु॒कृत॑स्सुकृ॒त्याः । ते नो॒ नख्ष॑त्रे॒ हव॒माग॑मिष्ठाः । स्व॒धाभि॑र्य॒ज्ञं प्रय॑तञ्जुषन्ताम् ।।  ।। ये अ॑ग्निद॒ग्धा येऽन॑ग्निदग्धाः । ये॑ऽमुल्लोँ॒कं पि॒तरः॑ ख्षि॒यन्ति॑ । याश्च॑ वि॒द्म या उ॑ च॒ न प्र॑वि॒द्म । म॒घासु॑ य॒ज्ञ सुकृ॑तञ्जुषन्ताम् । गवां॒ पति॒ फल्गु॑नीनामसि॒ त्वम् । तद॑र्यमन्वरुण मित्र॒ चारु॑ । तन्त्वा॑ व॒य स॑नि॒तार॑ सनी॒नाम् । जी॒वा जीव॑न्त॒मुप॒ सव्विँ॑शेम । येने॒मा विश्वा॒ भुव॑नानि॒ सञ्जि॑ता । यस्य॑ दे॒वा अ॑नु स॒य्यँन्ति॒ चेतः॑ ।।  ।। अ॒र्य॒मा राजा॒ऽजर॒स्तुवि॑ष्मान् । फल्गु॑नीनामृष॒भो रो॑रवीति । श्रेष्ठो॑ दे॒वानां भगवो भगासि । तत्त्वा॑ विदु॒ फल्गु॑नी॒स्तस्य॑ वित्तात् । अ॒स्मभ्य॑ङ्ख्ष॒त्रम॒जर॑ सु॒वीर्यम् । गोम॒दश्व॑व॒दुप॒ सन्नु॑दे॒ह । भगो॑ ह दा॒ता भग॒ इत्प्र॑दा॒ता । भगो॑ दे॒वी फल्गु॑नी॒रा वि॑वेश । भग॒स्येत्तं प्र॑स॒वङ्ग॑मेम । यत्र॑ दे॒वैस्स॑ध॒मादं॑ मदेम ।।  ।। तन्नो॑ वा॒युस्तदु॒ निष्ट्या॑ शृणोतु । तन्नख्ष॑त्रं भूरि॒दा अ॑स्तु॒ मह्यम् । तन्नो॑ दे॒वासो॒ अनु॑जानन्तु॒ कामम् । यथा॒ तरे॑म दुरि॒तानि॒ विश्वा । दू॒रम॒स्मच्छत्र॑वो यन्तु भी॒ताः । तदि॑न्द्रा॒ग्नी कृ॑णुता॒न्तद्विशा॑खे । तन्नो॑ दे॒वा अनु॑मदन्तु य॒ज्ञम् । प॒श्चात्पु॒रस्ता॒दभ॑यन्नो अस्तु । नख्ष॑त्राणा॒मधि॑पत्नी॒ विशा॑खे । श्रेष्ठा॑विन्द्रा॒ग्नी भुव॑नस्य गो॒पौ ।।  ।। ऋ॒द्ध्यास्म॑ ह॒व्यैर्नम॑सोप॒सद्य॑ । मि॒त्रन्दे॒वं मि॑त्र॒धेय॑न्नो अस्तु । अ॒नू॒रा॒धान् ह॒विषा॑ व॒र्धय॑न्तः । श॒तञ्जी॑वेम श॒रद॒स्सवी॑राः । चि॒त्रन्नख्ष॑त्र॒मुद॑गात्पु॒रस्तात् । अ॒नू॒रा॒धास॒ इति॒ यद्वद॑न्ति । तन्मि॒त्र ए॑ति प॒थिभि॑र्देव॒यानैः । हि॒र॒ण्ययै॒र्वित॑तैर॒न्तरि॑ख्षे । इन्द्रो ज्ये॒ष्ठामनु॒ नख्ष॑त्रमेति । यस्मि॑न्वृ॒त्रव्वृँ॑त्र॒तूर्ये॑ त॒तार॑ ।।  ।। तस्मि॑न्व॒यम॒मृत॒न्दुहा॑नाः । ख्षुध॑न्तरेम॒ दुरि॑ति॒न्दुरि॑ष्टिम् । पु॒र॒न्द॒राय॑ वृष॒भाय॑ धृ॒ष्णवे । अषा॑ढाय॒ सह॑मानाय मी॒ढुषे । इन्द्रा॑य ज्ये॒ष्ठा मधु॑म॒द्दुहा॑ना । उ॒रुङ्कृ॑णोतु॒ यज॑मानाय लो॒कम् । मूलं॑ प्र॒जाव्वीँ॒रव॑तीव्विँदेय । पराच्येतु॒ निर्ऋ॑ति परा॒चा । गोभि॒र्नख्ष॑त्रं प॒शुभि॒स्सम॑क्तम् । अह॑र्भूया॒द्यज॑मानाय॒ मह्यम् ।।  ।। यासा॑मषा॒ढा मधु॑ भ॒ख्षय॑न्ति॒ । ता न॒ आप॒श्श स्यो॒ना भ॑वन्तु । तन्नो॒ विश्वे॒ उप॑ शृण्वन्तु दे॒वाः । तद॑षा॒ढा अ॒भिसय्यँ॑न्तु य॒ज्ञम् । तन्नख्ष॑त्त्रं प्रथतां प॒शुभ्यः॑ । कृ॒षिर्वृ॒ष्टिर्यज॑मानाय कल्पताम् । शु॒भ्रा क॒न्या॑ युव॒तय॑स्सु॒पेश॑सः । क॒र्म॒कृत॑स्सु॒कृतो॑ वी॒र्या॑वतीः । विश्वान्दे॒वान् ह॒विषा॑ व॒र्धय॑न्तीः । अ॒षा॒ढाकाम॒मुप॑ यान्तु य॒ज्ञम् ।।  ।। यस्मि॒न्ब्रह्मा॒ऽभ्यज॑य॒थ्सर्व॑मे॒तत् । अ॒मुञ्च॑ लो॒कमि॒दमू॑ च॒ सर्वम् । तन्नो॒ नख्ष॑त्रमभि॒जिद्वि॒जित्य॑ । श्रिय॑न्दधा॒त्वहृ॑णीयमानम् । उ॒भौ लो॒कौ ब्रह्म॑णा॒ सञ्जि॑ते॒मौ । तन्नो॒ नख्ष॑त्रमभि॒जिद्विच॑ष्टाम् । तस्मि॑न्व॒यं पृत॑ना॒स्सञ्ज॑येम । तन्नो॑ दे॒वासो॒ अनु॑जानन्तु॒ कामम् । शृ॒ण्वन्ति॑ श्रो॒णाम॒मृत॑स्य गो॒पाम् । पुण्या॑मस्या॒ उप॑शृणोमि॒ वाचम् ।।  ।। य॒ज्ञन्न॑ पान्तु॒ वस॑व पु॒रस्तात् । द॒ख्षि॒ण॒तो॑ऽभिय॑न्तु॒ श्रवि॑ष्ठाः । पुण्य॒न्नख्ष॑त्रम॒भि सव्विँ॑शाम । मा नो॒ अरा॑तिर॒घश॒॒साऽगन्न्॑ । ख्ष॒त्रस्य॒ राजा॒ वरु॑णोऽधिरा॒जः । नख्ष॑त्राणा श॒तभि॑ष॒ग्वसि॑ष्ठः । तौ दे॒वेभ्य॑ कृणुतो दी॒र्घमायुः॑ । श॒त स॒हस्रा॑ भेष॒जानि॑ धत्तः । य॒ज्ञन्नो॒ राजा॒ वरु॑ण॒ उप॑यातु । तन्नो॒ विश्वे॑ अ॒भि सय्यँ॑न्तु दे॒वाः ।।  ।। तन्नो॒ नख्ष॑त्र श॒तभि॑षग्जुषा॒णम् । दी॒र्घमायु॒ प्रति॑रद्भेष॒जानि॑ । अ॒ज एक॑पा॒दुद॑गात्पु॒रस्तात् । विश्वा॑ भू॒तानि॑ प्रति॒मोद॑मानः । तस्य॑ दे॒वा प्र॑स॒वय्यँ॑न्ति॒ सर्वे । प्रो॒ष्ठ॒प॒दासो॑ अ॒मृत॑स्य गो॒पाः । वि॒भ्राज॑मानस्समिधा॒न उ॒ग्रः । आऽन्तरि॑ख्षमरुह॒दग॒न्द्याम् । त सूर्य॑न्दे॒वम॒जमेक॑पादम् । प्रो॒ष्ठ॒प॒दासो॒ अनु॑यन्ति॒ सर्वे ।।  ।। यौ दे॒वानां भि॒षजौ॑ हव्यवा॒हौ । विश्व॑स्य दू॒ताव॒मृत॑स्य गो॒पौ । तौ नख्ष॑त्रञ्जुजुषा॒णोप॑याताम् । नमो॒ऽश्विभ्याङ्कृणुमोऽश्व॒युग्भ्याम् । अप॑ पा॒प्मानं॒ भर॑णीर्भरन्तु । तद्य॒मो राजा॒ भग॑वा॒न्॒ विच॑ष्टाम् । लो॒कस्य॒ राजा॑ मह॒तो म॒हान् हि । सु॒गन्नपन्था॒मभ॑यङ्कृणोतु । यस्मि॒न्नक्ष॑त्रे य॒म एति॒ राजा । यस्मि॑न्नेनम॒भ्यषि॑ञ्चन्त दे॒वाः । तद॑स्य चि॒त्र ह॒विषा॑ यजाम । अप॑ पा॒प्मानं॒ भर॑णीर्भरन्तु । नि॒वेश॑नी॒ यत्ते॑ दे॒वा अद॑धुः ।।  ।।\n",
            "Token length: 129145\n"
          ]
        }
      ]
    },
    {
      "cell_type": "markdown",
      "source": [
        "**Load Model**"
      ],
      "metadata": {
        "id": "xkSIoNtml1_o"
      }
    },
    {
      "cell_type": "markdown",
      "source": [
        "**Check whether Cuda is available**"
      ],
      "metadata": {
        "id": "CVMLLI0Vl1_s"
      }
    },
    {
      "cell_type": "code",
      "source": [
        "import torch\n",
        "\n",
        "device = torch.device('cuda' if torch.cuda.is_available() else 'cpu')\n",
        "print(f'Using device: {device}')"
      ],
      "metadata": {
        "execution": {
          "iopub.status.busy": "2025-04-08T23:45:04.846421Z",
          "iopub.execute_input": "2025-04-08T23:45:04.846778Z",
          "iopub.status.idle": "2025-04-08T23:45:04.908824Z",
          "shell.execute_reply.started": "2025-04-08T23:45:04.846745Z",
          "shell.execute_reply": "2025-04-08T23:45:04.907401Z"
        },
        "trusted": true,
        "colab": {
          "base_uri": "https://localhost:8080/"
        },
        "id": "fVN0Uobpl1_s",
        "outputId": "2ce917ca-6731-4f79-f0ef-ccadea360efd"
      },
      "outputs": [
        {
          "output_type": "stream",
          "name": "stdout",
          "text": [
            "Using device: cuda\n"
          ]
        }
      ],
      "execution_count": 14
    },
    {
      "cell_type": "markdown",
      "source": [
        "**LORA Configurations**"
      ],
      "metadata": {
        "id": "4m_5IbXCl1_s"
      }
    },
    {
      "cell_type": "code",
      "source": [
        "from transformers import BitsAndBytesConfig\n",
        "\n",
        "#bnb_config = BitsAndBytesConfig(load_in_8bit=True)\n",
        "bnb_config = BitsAndBytesConfig(\n",
        "    load_in_4bit=True,\n",
        "    bnb_4bit_quant_type='nf4',\n",
        "    bnb_4bit_use_double_quant=True,\n",
        "    bnb_4bit_compute_dtype=torch.float16,\n",
        ")\n",
        "\n",
        "model = AutoModelForCausalLM.from_pretrained(\n",
        "    model_name,\n",
        "    quantization_config=bnb_config,\n",
        "    device_map='auto',\n",
        ")"
      ],
      "metadata": {
        "execution": {
          "iopub.status.busy": "2025-04-08T23:45:04.909893Z",
          "iopub.execute_input": "2025-04-08T23:45:04.910253Z",
          "iopub.status.idle": "2025-04-08T23:47:13.338917Z",
          "shell.execute_reply.started": "2025-04-08T23:45:04.910212Z",
          "shell.execute_reply": "2025-04-08T23:47:13.338036Z"
        },
        "trusted": true,
        "colab": {
          "base_uri": "https://localhost:8080/",
          "height": 49,
          "referenced_widgets": [
            "011e9ad5e51245a09c61997cf0839df3",
            "ad9a8b5a8f51459b97d0561d8459e51f",
            "a50df5be9e3746fabc67a2cd34cdf8bd",
            "b16c7153b7c840aab4169aca84e892ae",
            "3f68f9a9e710462eaf17116bf334df4e",
            "af77445a67084822895c830f826ec5d4",
            "5ecae97df9834b8ea5a3c3b3f1b4e03e",
            "1a5a1306ef1a4e94bc7291f9cedb6972",
            "f0926bd78af64a329259b0b149bc87b8",
            "65978111236b4a4cb465faf1674b4d02",
            "15f23f3144d54970abe9829d326c31d2"
          ]
        },
        "id": "x12jTMiHl1_u",
        "outputId": "a6744b68-feb6-4351-c5b5-e3820d0dcf3e"
      },
      "outputs": [
        {
          "output_type": "display_data",
          "data": {
            "text/plain": [
              "Loading checkpoint shards:   0%|          | 0/2 [00:00<?, ?it/s]"
            ],
            "application/vnd.jupyter.widget-view+json": {
              "version_major": 2,
              "version_minor": 0,
              "model_id": "011e9ad5e51245a09c61997cf0839df3"
            }
          },
          "metadata": {}
        }
      ],
      "execution_count": 15
    },
    {
      "cell_type": "code",
      "source": [
        "lora_config = LoraConfig(\n",
        "    r=16,\n",
        "    lora_alpha=32,\n",
        "    target_modules=['q_proj', 'k_proj', 'v_proj', 'o_proj'],\n",
        "    lora_dropout=0.05,\n",
        "    bias='none',\n",
        "    task_type=TaskType.CAUSAL_LM,\n",
        ")"
      ],
      "metadata": {
        "execution": {
          "iopub.status.busy": "2025-04-08T23:47:13.339823Z",
          "iopub.execute_input": "2025-04-08T23:47:13.340097Z",
          "iopub.status.idle": "2025-04-08T23:47:13.344557Z",
          "shell.execute_reply.started": "2025-04-08T23:47:13.340075Z",
          "shell.execute_reply": "2025-04-08T23:47:13.343505Z"
        },
        "trusted": true,
        "id": "5nNXg9lSl1_v"
      },
      "outputs": [],
      "execution_count": 16
    },
    {
      "cell_type": "code",
      "source": [
        "model = get_peft_model(model, lora_config)"
      ],
      "metadata": {
        "execution": {
          "iopub.status.busy": "2025-04-08T23:47:13.345623Z",
          "iopub.execute_input": "2025-04-08T23:47:13.345906Z",
          "iopub.status.idle": "2025-04-08T23:47:13.527963Z",
          "shell.execute_reply.started": "2025-04-08T23:47:13.345882Z",
          "shell.execute_reply": "2025-04-08T23:47:13.527049Z"
        },
        "trusted": true,
        "id": "YjYUUs2Kl1_w"
      },
      "outputs": [],
      "execution_count": 17
    },
    {
      "cell_type": "code",
      "source": [
        "for name, param in model.named_parameters():\n",
        "    if 'lora' in name:\n",
        "        param.requires_grad = True\n",
        "    else:\n",
        "        param.requires_grad = False"
      ],
      "metadata": {
        "execution": {
          "iopub.status.busy": "2025-04-08T23:47:13.528991Z",
          "iopub.execute_input": "2025-04-08T23:47:13.529294Z",
          "iopub.status.idle": "2025-04-08T23:47:13.537628Z",
          "shell.execute_reply.started": "2025-04-08T23:47:13.529271Z",
          "shell.execute_reply": "2025-04-08T23:47:13.536387Z"
        },
        "trusted": true,
        "id": "tK18Y6I5l1_w"
      },
      "outputs": [],
      "execution_count": 18
    },
    {
      "cell_type": "markdown",
      "source": [
        "**Number of trainable parameters**"
      ],
      "metadata": {
        "id": "kOjbrTZel1_x"
      }
    },
    {
      "cell_type": "code",
      "source": [
        "# Verify trainable parameters\n",
        "def print_trainable_parameters(model):\n",
        "    trainable_params = 0\n",
        "    all_params = 0\n",
        "    for _, param in model.named_parameters():\n",
        "        all_params += param.numel()\n",
        "        if param.requires_grad:\n",
        "            trainable_params += param.numel()\n",
        "    print(\n",
        "        f\"Trainable params: {trainable_params} | All params: {all_params} | \"\n",
        "        f\"Trainable percentage: {100 * trainable_params / all_params:.2f}%\"\n",
        "    )\n",
        "\n",
        "print_trainable_parameters(model)"
      ],
      "metadata": {
        "execution": {
          "iopub.status.busy": "2025-04-08T23:47:13.538839Z",
          "iopub.execute_input": "2025-04-08T23:47:13.539269Z",
          "iopub.status.idle": "2025-04-08T23:47:13.560947Z",
          "shell.execute_reply.started": "2025-04-08T23:47:13.539230Z",
          "shell.execute_reply": "2025-04-08T23:47:13.559791Z"
        },
        "trusted": true,
        "colab": {
          "base_uri": "https://localhost:8080/"
        },
        "id": "V8L-ARD3l1_x",
        "outputId": "1191df85-75db-4f87-aab5-0194e612b815"
      },
      "outputs": [
        {
          "output_type": "stream",
          "name": "stdout",
          "text": [
            "Trainable params: 6389760 | All params: 1608593664 | Trainable percentage: 0.40%\n"
          ]
        }
      ],
      "execution_count": 19
    },
    {
      "cell_type": "code",
      "source": [
        "#model.gradient_checkpointing_enable()"
      ],
      "metadata": {
        "execution": {
          "iopub.status.busy": "2025-04-08T23:47:13.562241Z",
          "iopub.execute_input": "2025-04-08T23:47:13.562609Z",
          "iopub.status.idle": "2025-04-08T23:47:13.577336Z",
          "shell.execute_reply.started": "2025-04-08T23:47:13.562570Z",
          "shell.execute_reply": "2025-04-08T23:47:13.576267Z"
        },
        "trusted": true,
        "id": "PLULVD8Dl1_y"
      },
      "outputs": [],
      "execution_count": 20
    },
    {
      "cell_type": "markdown",
      "source": [
        "**Prepare Tokenized Dataset**"
      ],
      "metadata": {
        "id": "x3AovKOrl1_z"
      }
    },
    {
      "cell_type": "code",
      "source": [
        "# Prepare dataset\n",
        "def tokenize_function(examples):\n",
        "    tokens = tokenizer(\n",
        "        examples['text'],\n",
        "        padding='max_length',\n",
        "        truncation=True,\n",
        "        max_length=256,\n",
        "    )\n",
        "    tokens['labels'] = tokens['input_ids'].copy()\n",
        "    return tokens\n",
        "\n",
        "tokenized_dataset = dataset.map(tokenize_function, batched=True, remove_columns=['text'])\n",
        "print(tokenized_dataset[0])  # Check the first example in the tokenized dataset"
      ],
      "metadata": {
        "execution": {
          "iopub.status.busy": "2025-04-08T23:47:13.578541Z",
          "iopub.execute_input": "2025-04-08T23:47:13.578912Z",
          "iopub.status.idle": "2025-04-08T23:47:20.879880Z",
          "shell.execute_reply.started": "2025-04-08T23:47:13.578875Z",
          "shell.execute_reply": "2025-04-08T23:47:20.879028Z"
        },
        "trusted": true,
        "colab": {
          "base_uri": "https://localhost:8080/"
        },
        "id": "sgWKsu3ll1_0",
        "outputId": "c02c5264-23a0-435f-95cd-d2d730a2d3fa"
      },
      "outputs": [
        {
          "output_type": "stream",
          "name": "stdout",
          "text": [
            "{'id': 0, 'input_ids': [0, 0, 0, 0, 0, 0, 0, 0, 0, 0, 0, 0, 0, 0, 0, 0, 0, 0, 0, 0, 0, 0, 0, 0, 0, 0, 0, 0, 0, 0, 0, 0, 0, 0, 0, 0, 0, 0, 0, 0, 0, 0, 0, 0, 0, 0, 0, 0, 0, 0, 0, 0, 0, 0, 0, 0, 0, 0, 0, 0, 0, 0, 0, 0, 0, 0, 0, 0, 0, 0, 0, 0, 0, 0, 0, 0, 0, 0, 0, 0, 0, 0, 0, 0, 0, 0, 0, 0, 0, 0, 0, 0, 0, 0, 0, 0, 0, 0, 0, 0, 0, 0, 0, 0, 0, 0, 0, 2, 236088, 235530, 42894, 235844, 54736, 235530, 235827, 36352, 2280, 40831, 236127, 117062, 196908, 33920, 17285, 124267, 54701, 22870, 18852, 46577, 235485, 9043, 8104, 45884, 235527, 21640, 10321, 124199, 11201, 56667, 236062, 18029, 213831, 235437, 153743, 161306, 60152, 235699, 172684, 117062, 56667, 3640, 86532, 235527, 21640, 52348, 237453, 118948, 96061, 5444, 237453, 27456, 235527, 172684, 13568, 237453, 21640, 10321, 22740, 212361, 18029, 12255, 235699, 82046, 60152, 236396, 12255, 235550, 35871, 65892, 9043, 117232, 235643, 104371, 14176, 22870, 118948, 96061, 5444, 235563, 12218, 22729, 87046, 18249, 21640, 8460, 235935, 235485, 8460, 31218, 15848, 235699, 236062, 235530, 26989, 52348, 52556, 236062, 235530, 120292, 235571, 235844, 235699, 236062, 235530, 26989, 54701, 236277, 235579, 121504, 225250, 235827, 73635, 22870, 235827, 73635, 235550, 235827, 73635, 86532, 99524, 171253, 121504, 225250, 235827, 73635, 130289, 235827, 73635, 236277, 235827, 73635, 236277, 236351, 37399, 235579, 121504, 225250, 235827, 73635, 30860, 235527, 235827, 73635, 40936, 235827, 73635, 30860], 'attention_mask': [0, 0, 0, 0, 0, 0, 0, 0, 0, 0, 0, 0, 0, 0, 0, 0, 0, 0, 0, 0, 0, 0, 0, 0, 0, 0, 0, 0, 0, 0, 0, 0, 0, 0, 0, 0, 0, 0, 0, 0, 0, 0, 0, 0, 0, 0, 0, 0, 0, 0, 0, 0, 0, 0, 0, 0, 0, 0, 0, 0, 0, 0, 0, 0, 0, 0, 0, 0, 0, 0, 0, 0, 0, 0, 0, 0, 0, 0, 0, 0, 0, 0, 0, 0, 0, 0, 0, 0, 0, 0, 0, 0, 0, 0, 0, 0, 0, 0, 0, 0, 0, 0, 0, 0, 0, 0, 0, 1, 1, 1, 1, 1, 1, 1, 1, 1, 1, 1, 1, 1, 1, 1, 1, 1, 1, 1, 1, 1, 1, 1, 1, 1, 1, 1, 1, 1, 1, 1, 1, 1, 1, 1, 1, 1, 1, 1, 1, 1, 1, 1, 1, 1, 1, 1, 1, 1, 1, 1, 1, 1, 1, 1, 1, 1, 1, 1, 1, 1, 1, 1, 1, 1, 1, 1, 1, 1, 1, 1, 1, 1, 1, 1, 1, 1, 1, 1, 1, 1, 1, 1, 1, 1, 1, 1, 1, 1, 1, 1, 1, 1, 1, 1, 1, 1, 1, 1, 1, 1, 1, 1, 1, 1, 1, 1, 1, 1, 1, 1, 1, 1, 1, 1, 1, 1, 1, 1, 1, 1, 1, 1, 1, 1, 1, 1, 1, 1, 1, 1, 1, 1, 1, 1, 1, 1, 1, 1, 1, 1, 1, 1, 1, 1, 1, 1, 1, 1], 'labels': [0, 0, 0, 0, 0, 0, 0, 0, 0, 0, 0, 0, 0, 0, 0, 0, 0, 0, 0, 0, 0, 0, 0, 0, 0, 0, 0, 0, 0, 0, 0, 0, 0, 0, 0, 0, 0, 0, 0, 0, 0, 0, 0, 0, 0, 0, 0, 0, 0, 0, 0, 0, 0, 0, 0, 0, 0, 0, 0, 0, 0, 0, 0, 0, 0, 0, 0, 0, 0, 0, 0, 0, 0, 0, 0, 0, 0, 0, 0, 0, 0, 0, 0, 0, 0, 0, 0, 0, 0, 0, 0, 0, 0, 0, 0, 0, 0, 0, 0, 0, 0, 0, 0, 0, 0, 0, 0, 2, 236088, 235530, 42894, 235844, 54736, 235530, 235827, 36352, 2280, 40831, 236127, 117062, 196908, 33920, 17285, 124267, 54701, 22870, 18852, 46577, 235485, 9043, 8104, 45884, 235527, 21640, 10321, 124199, 11201, 56667, 236062, 18029, 213831, 235437, 153743, 161306, 60152, 235699, 172684, 117062, 56667, 3640, 86532, 235527, 21640, 52348, 237453, 118948, 96061, 5444, 237453, 27456, 235527, 172684, 13568, 237453, 21640, 10321, 22740, 212361, 18029, 12255, 235699, 82046, 60152, 236396, 12255, 235550, 35871, 65892, 9043, 117232, 235643, 104371, 14176, 22870, 118948, 96061, 5444, 235563, 12218, 22729, 87046, 18249, 21640, 8460, 235935, 235485, 8460, 31218, 15848, 235699, 236062, 235530, 26989, 52348, 52556, 236062, 235530, 120292, 235571, 235844, 235699, 236062, 235530, 26989, 54701, 236277, 235579, 121504, 225250, 235827, 73635, 22870, 235827, 73635, 235550, 235827, 73635, 86532, 99524, 171253, 121504, 225250, 235827, 73635, 130289, 235827, 73635, 236277, 235827, 73635, 236277, 236351, 37399, 235579, 121504, 225250, 235827, 73635, 30860, 235527, 235827, 73635, 40936, 235827, 73635, 30860]}\n"
          ]
        }
      ],
      "execution_count": 21
    },
    {
      "cell_type": "markdown",
      "source": [
        "**Customized Data Collator**"
      ],
      "metadata": {
        "id": "7qMbVaGFl1_0"
      }
    },
    {
      "cell_type": "code",
      "source": [
        "# Custom data collator\n",
        "def custom_data_collator(features):\n",
        "    batch = {}\n",
        "    for key in features[0].keys():\n",
        "        batch[key] = torch.stack([torch.tensor(f[key]) for f in features]).to('cuda')\n",
        "    return batch"
      ],
      "metadata": {
        "execution": {
          "iopub.status.busy": "2025-04-08T23:47:20.880815Z",
          "iopub.execute_input": "2025-04-08T23:47:20.881052Z",
          "iopub.status.idle": "2025-04-08T23:47:20.885958Z",
          "shell.execute_reply.started": "2025-04-08T23:47:20.881032Z",
          "shell.execute_reply": "2025-04-08T23:47:20.884907Z"
        },
        "trusted": true,
        "id": "IKo5FF8Ql1_0"
      },
      "outputs": [],
      "execution_count": 22
    },
    {
      "cell_type": "markdown",
      "source": [
        "# Custom Trainer Initialization\n",
        "\n",
        "A `CustomTrainer` instance is initialized with the model, training arguments, and dataset. This custom trainer coordinates the training process, using the arguments and model components configured earlier."
      ],
      "metadata": {
        "id": "j45qMMWZl1_1"
      }
    },
    {
      "cell_type": "code",
      "source": [
        "class CustomTrainer(Trainer):\n",
        "    def prepare_inputs(self, inputs):\n",
        "        # Ensure inputs are on GPU\n",
        "        inputs = {k: v.to('cuda') for k, v in inputs.items()}\n",
        "        return inputs"
      ],
      "metadata": {
        "execution": {
          "iopub.status.busy": "2025-04-08T23:47:20.886961Z",
          "iopub.execute_input": "2025-04-08T23:47:20.887253Z",
          "iopub.status.idle": "2025-04-08T23:47:20.915312Z",
          "shell.execute_reply.started": "2025-04-08T23:47:20.887231Z",
          "shell.execute_reply": "2025-04-08T23:47:20.914236Z"
        },
        "trusted": true,
        "id": "BU1CvzHxl1_1"
      },
      "outputs": [],
      "execution_count": 23
    },
    {
      "cell_type": "code",
      "source": [
        "# Get a batch of data\n",
        "batch = tokenized_dataset[:2]  # Take the first 2 samples\n",
        "\n",
        "# Convert batch to tensors and move to GPU\n",
        "inputs = {\n",
        "    'input_ids': torch.tensor(batch['input_ids']).to('cuda'),\n",
        "    'attention_mask': torch.tensor(batch['attention_mask']).to('cuda'),\n",
        "    'labels': torch.tensor(batch['labels']).to('cuda'),\n",
        "}"
      ],
      "metadata": {
        "execution": {
          "iopub.status.busy": "2025-04-08T23:47:20.916378Z",
          "iopub.execute_input": "2025-04-08T23:47:20.916669Z",
          "iopub.status.idle": "2025-04-08T23:47:20.938757Z",
          "shell.execute_reply.started": "2025-04-08T23:47:20.916645Z",
          "shell.execute_reply": "2025-04-08T23:47:20.937569Z"
        },
        "trusted": true,
        "id": "m1EAh0uml1_2"
      },
      "outputs": [],
      "execution_count": 24
    },
    {
      "cell_type": "markdown",
      "source": [
        "**Set model to evaluation mode**"
      ],
      "metadata": {
        "id": "AWZwTtg7l1_3"
      }
    },
    {
      "cell_type": "code",
      "source": [
        "model.eval()\n",
        "\n",
        "with torch.no_grad():\n",
        "    outputs = model(**inputs)\n",
        "    loss = outputs.loss\n",
        "    print(f\"Loss: {loss.item()}\")\n",
        "    print(f\"Loss requires grad: {loss.requires_grad}\")"
      ],
      "metadata": {
        "execution": {
          "iopub.status.busy": "2025-04-08T23:47:20.939888Z",
          "iopub.execute_input": "2025-04-08T23:47:20.940260Z",
          "iopub.status.idle": "2025-04-08T23:47:21.870707Z",
          "shell.execute_reply.started": "2025-04-08T23:47:20.940225Z",
          "shell.execute_reply": "2025-04-08T23:47:21.869679Z"
        },
        "trusted": true,
        "colab": {
          "base_uri": "https://localhost:8080/"
        },
        "id": "9dFWarjdl1_3",
        "outputId": "74d0f0bd-ab38-4ae5-bf76-440d2f79bf88"
      },
      "outputs": [
        {
          "output_type": "stream",
          "name": "stdout",
          "text": [
            "Loss: 20.809642791748047\n",
            "Loss requires grad: False\n"
          ]
        }
      ],
      "execution_count": 25
    },
    {
      "cell_type": "markdown",
      "source": [
        "**Set model to training mode**"
      ],
      "metadata": {
        "id": "HbpQsE2il1_4"
      }
    },
    {
      "cell_type": "code",
      "source": [
        "model.train()\n",
        "\n",
        "outputs = model(**inputs)\n",
        "loss = outputs.loss\n",
        "\n",
        "print(f\"Loss: {loss.item()}\")\n",
        "print(f\"Loss requires grad: {loss.requires_grad}\")"
      ],
      "metadata": {
        "execution": {
          "iopub.status.busy": "2025-04-08T23:47:21.871663Z",
          "iopub.execute_input": "2025-04-08T23:47:21.872070Z",
          "iopub.status.idle": "2025-04-08T23:47:22.182022Z",
          "shell.execute_reply.started": "2025-04-08T23:47:21.872023Z",
          "shell.execute_reply": "2025-04-08T23:47:22.181043Z"
        },
        "trusted": true,
        "colab": {
          "base_uri": "https://localhost:8080/"
        },
        "id": "FEtbYbpbl1_5",
        "outputId": "400831ad-ecb4-40a8-c569-2d7adff4f59a"
      },
      "outputs": [
        {
          "output_type": "stream",
          "name": "stderr",
          "text": [
            "It is strongly recommended to train Gemma2 models with the `eager` attention implementation instead of `sdpa`. Use `eager` with `AutoModelForCausalLM.from_pretrained('<path-to-checkpoint>', attn_implementation='eager')`.\n"
          ]
        },
        {
          "output_type": "stream",
          "name": "stdout",
          "text": [
            "Loss: 20.809642791748047\n",
            "Loss requires grad: True\n"
          ]
        }
      ],
      "execution_count": 26
    },
    {
      "cell_type": "code",
      "source": [
        "for name, param in model.named_parameters():\n",
        "    if param.requires_grad:\n",
        "        print(f\"{name}: requires_grad={param.requires_grad}, device={param.device}\")"
      ],
      "metadata": {
        "_kg_hide-output": true,
        "execution": {
          "iopub.status.busy": "2025-04-08T23:47:22.185366Z",
          "iopub.execute_input": "2025-04-08T23:47:22.185647Z",
          "iopub.status.idle": "2025-04-08T23:47:22.238259Z",
          "shell.execute_reply.started": "2025-04-08T23:47:22.185625Z",
          "shell.execute_reply": "2025-04-08T23:47:22.237187Z"
        },
        "trusted": true,
        "colab": {
          "base_uri": "https://localhost:8080/"
        },
        "id": "1H-3mbrhl1_6",
        "outputId": "34cd12a2-eef3-4c63-c26f-ae7b0fc611a6"
      },
      "outputs": [
        {
          "output_type": "stream",
          "name": "stdout",
          "text": [
            "base_model.model.model.layers.0.self_attn.q_proj.lora_A.default.weight: requires_grad=True, device=cuda:0\n",
            "base_model.model.model.layers.0.self_attn.q_proj.lora_B.default.weight: requires_grad=True, device=cuda:0\n",
            "base_model.model.model.layers.0.self_attn.k_proj.lora_A.default.weight: requires_grad=True, device=cuda:0\n",
            "base_model.model.model.layers.0.self_attn.k_proj.lora_B.default.weight: requires_grad=True, device=cuda:0\n",
            "base_model.model.model.layers.0.self_attn.v_proj.lora_A.default.weight: requires_grad=True, device=cuda:0\n",
            "base_model.model.model.layers.0.self_attn.v_proj.lora_B.default.weight: requires_grad=True, device=cuda:0\n",
            "base_model.model.model.layers.0.self_attn.o_proj.lora_A.default.weight: requires_grad=True, device=cuda:0\n",
            "base_model.model.model.layers.0.self_attn.o_proj.lora_B.default.weight: requires_grad=True, device=cuda:0\n",
            "base_model.model.model.layers.1.self_attn.q_proj.lora_A.default.weight: requires_grad=True, device=cuda:0\n",
            "base_model.model.model.layers.1.self_attn.q_proj.lora_B.default.weight: requires_grad=True, device=cuda:0\n",
            "base_model.model.model.layers.1.self_attn.k_proj.lora_A.default.weight: requires_grad=True, device=cuda:0\n",
            "base_model.model.model.layers.1.self_attn.k_proj.lora_B.default.weight: requires_grad=True, device=cuda:0\n",
            "base_model.model.model.layers.1.self_attn.v_proj.lora_A.default.weight: requires_grad=True, device=cuda:0\n",
            "base_model.model.model.layers.1.self_attn.v_proj.lora_B.default.weight: requires_grad=True, device=cuda:0\n",
            "base_model.model.model.layers.1.self_attn.o_proj.lora_A.default.weight: requires_grad=True, device=cuda:0\n",
            "base_model.model.model.layers.1.self_attn.o_proj.lora_B.default.weight: requires_grad=True, device=cuda:0\n",
            "base_model.model.model.layers.2.self_attn.q_proj.lora_A.default.weight: requires_grad=True, device=cuda:0\n",
            "base_model.model.model.layers.2.self_attn.q_proj.lora_B.default.weight: requires_grad=True, device=cuda:0\n",
            "base_model.model.model.layers.2.self_attn.k_proj.lora_A.default.weight: requires_grad=True, device=cuda:0\n",
            "base_model.model.model.layers.2.self_attn.k_proj.lora_B.default.weight: requires_grad=True, device=cuda:0\n",
            "base_model.model.model.layers.2.self_attn.v_proj.lora_A.default.weight: requires_grad=True, device=cuda:0\n",
            "base_model.model.model.layers.2.self_attn.v_proj.lora_B.default.weight: requires_grad=True, device=cuda:0\n",
            "base_model.model.model.layers.2.self_attn.o_proj.lora_A.default.weight: requires_grad=True, device=cuda:0\n",
            "base_model.model.model.layers.2.self_attn.o_proj.lora_B.default.weight: requires_grad=True, device=cuda:0\n",
            "base_model.model.model.layers.3.self_attn.q_proj.lora_A.default.weight: requires_grad=True, device=cuda:0\n",
            "base_model.model.model.layers.3.self_attn.q_proj.lora_B.default.weight: requires_grad=True, device=cuda:0\n",
            "base_model.model.model.layers.3.self_attn.k_proj.lora_A.default.weight: requires_grad=True, device=cuda:0\n",
            "base_model.model.model.layers.3.self_attn.k_proj.lora_B.default.weight: requires_grad=True, device=cuda:0\n",
            "base_model.model.model.layers.3.self_attn.v_proj.lora_A.default.weight: requires_grad=True, device=cuda:0\n",
            "base_model.model.model.layers.3.self_attn.v_proj.lora_B.default.weight: requires_grad=True, device=cuda:0\n",
            "base_model.model.model.layers.3.self_attn.o_proj.lora_A.default.weight: requires_grad=True, device=cuda:0\n",
            "base_model.model.model.layers.3.self_attn.o_proj.lora_B.default.weight: requires_grad=True, device=cuda:0\n",
            "base_model.model.model.layers.4.self_attn.q_proj.lora_A.default.weight: requires_grad=True, device=cuda:0\n",
            "base_model.model.model.layers.4.self_attn.q_proj.lora_B.default.weight: requires_grad=True, device=cuda:0\n",
            "base_model.model.model.layers.4.self_attn.k_proj.lora_A.default.weight: requires_grad=True, device=cuda:0\n",
            "base_model.model.model.layers.4.self_attn.k_proj.lora_B.default.weight: requires_grad=True, device=cuda:0\n",
            "base_model.model.model.layers.4.self_attn.v_proj.lora_A.default.weight: requires_grad=True, device=cuda:0\n",
            "base_model.model.model.layers.4.self_attn.v_proj.lora_B.default.weight: requires_grad=True, device=cuda:0\n",
            "base_model.model.model.layers.4.self_attn.o_proj.lora_A.default.weight: requires_grad=True, device=cuda:0\n",
            "base_model.model.model.layers.4.self_attn.o_proj.lora_B.default.weight: requires_grad=True, device=cuda:0\n",
            "base_model.model.model.layers.5.self_attn.q_proj.lora_A.default.weight: requires_grad=True, device=cuda:0\n",
            "base_model.model.model.layers.5.self_attn.q_proj.lora_B.default.weight: requires_grad=True, device=cuda:0\n",
            "base_model.model.model.layers.5.self_attn.k_proj.lora_A.default.weight: requires_grad=True, device=cuda:0\n",
            "base_model.model.model.layers.5.self_attn.k_proj.lora_B.default.weight: requires_grad=True, device=cuda:0\n",
            "base_model.model.model.layers.5.self_attn.v_proj.lora_A.default.weight: requires_grad=True, device=cuda:0\n",
            "base_model.model.model.layers.5.self_attn.v_proj.lora_B.default.weight: requires_grad=True, device=cuda:0\n",
            "base_model.model.model.layers.5.self_attn.o_proj.lora_A.default.weight: requires_grad=True, device=cuda:0\n",
            "base_model.model.model.layers.5.self_attn.o_proj.lora_B.default.weight: requires_grad=True, device=cuda:0\n",
            "base_model.model.model.layers.6.self_attn.q_proj.lora_A.default.weight: requires_grad=True, device=cuda:0\n",
            "base_model.model.model.layers.6.self_attn.q_proj.lora_B.default.weight: requires_grad=True, device=cuda:0\n",
            "base_model.model.model.layers.6.self_attn.k_proj.lora_A.default.weight: requires_grad=True, device=cuda:0\n",
            "base_model.model.model.layers.6.self_attn.k_proj.lora_B.default.weight: requires_grad=True, device=cuda:0\n",
            "base_model.model.model.layers.6.self_attn.v_proj.lora_A.default.weight: requires_grad=True, device=cuda:0\n",
            "base_model.model.model.layers.6.self_attn.v_proj.lora_B.default.weight: requires_grad=True, device=cuda:0\n",
            "base_model.model.model.layers.6.self_attn.o_proj.lora_A.default.weight: requires_grad=True, device=cuda:0\n",
            "base_model.model.model.layers.6.self_attn.o_proj.lora_B.default.weight: requires_grad=True, device=cuda:0\n",
            "base_model.model.model.layers.7.self_attn.q_proj.lora_A.default.weight: requires_grad=True, device=cuda:0\n",
            "base_model.model.model.layers.7.self_attn.q_proj.lora_B.default.weight: requires_grad=True, device=cuda:0\n",
            "base_model.model.model.layers.7.self_attn.k_proj.lora_A.default.weight: requires_grad=True, device=cuda:0\n",
            "base_model.model.model.layers.7.self_attn.k_proj.lora_B.default.weight: requires_grad=True, device=cuda:0\n",
            "base_model.model.model.layers.7.self_attn.v_proj.lora_A.default.weight: requires_grad=True, device=cuda:0\n",
            "base_model.model.model.layers.7.self_attn.v_proj.lora_B.default.weight: requires_grad=True, device=cuda:0\n",
            "base_model.model.model.layers.7.self_attn.o_proj.lora_A.default.weight: requires_grad=True, device=cuda:0\n",
            "base_model.model.model.layers.7.self_attn.o_proj.lora_B.default.weight: requires_grad=True, device=cuda:0\n",
            "base_model.model.model.layers.8.self_attn.q_proj.lora_A.default.weight: requires_grad=True, device=cuda:0\n",
            "base_model.model.model.layers.8.self_attn.q_proj.lora_B.default.weight: requires_grad=True, device=cuda:0\n",
            "base_model.model.model.layers.8.self_attn.k_proj.lora_A.default.weight: requires_grad=True, device=cuda:0\n",
            "base_model.model.model.layers.8.self_attn.k_proj.lora_B.default.weight: requires_grad=True, device=cuda:0\n",
            "base_model.model.model.layers.8.self_attn.v_proj.lora_A.default.weight: requires_grad=True, device=cuda:0\n",
            "base_model.model.model.layers.8.self_attn.v_proj.lora_B.default.weight: requires_grad=True, device=cuda:0\n",
            "base_model.model.model.layers.8.self_attn.o_proj.lora_A.default.weight: requires_grad=True, device=cuda:0\n",
            "base_model.model.model.layers.8.self_attn.o_proj.lora_B.default.weight: requires_grad=True, device=cuda:0\n",
            "base_model.model.model.layers.9.self_attn.q_proj.lora_A.default.weight: requires_grad=True, device=cuda:0\n",
            "base_model.model.model.layers.9.self_attn.q_proj.lora_B.default.weight: requires_grad=True, device=cuda:0\n",
            "base_model.model.model.layers.9.self_attn.k_proj.lora_A.default.weight: requires_grad=True, device=cuda:0\n",
            "base_model.model.model.layers.9.self_attn.k_proj.lora_B.default.weight: requires_grad=True, device=cuda:0\n",
            "base_model.model.model.layers.9.self_attn.v_proj.lora_A.default.weight: requires_grad=True, device=cuda:0\n",
            "base_model.model.model.layers.9.self_attn.v_proj.lora_B.default.weight: requires_grad=True, device=cuda:0\n",
            "base_model.model.model.layers.9.self_attn.o_proj.lora_A.default.weight: requires_grad=True, device=cuda:0\n",
            "base_model.model.model.layers.9.self_attn.o_proj.lora_B.default.weight: requires_grad=True, device=cuda:0\n",
            "base_model.model.model.layers.10.self_attn.q_proj.lora_A.default.weight: requires_grad=True, device=cuda:0\n",
            "base_model.model.model.layers.10.self_attn.q_proj.lora_B.default.weight: requires_grad=True, device=cuda:0\n",
            "base_model.model.model.layers.10.self_attn.k_proj.lora_A.default.weight: requires_grad=True, device=cuda:0\n",
            "base_model.model.model.layers.10.self_attn.k_proj.lora_B.default.weight: requires_grad=True, device=cuda:0\n",
            "base_model.model.model.layers.10.self_attn.v_proj.lora_A.default.weight: requires_grad=True, device=cuda:0\n",
            "base_model.model.model.layers.10.self_attn.v_proj.lora_B.default.weight: requires_grad=True, device=cuda:0\n",
            "base_model.model.model.layers.10.self_attn.o_proj.lora_A.default.weight: requires_grad=True, device=cuda:0\n",
            "base_model.model.model.layers.10.self_attn.o_proj.lora_B.default.weight: requires_grad=True, device=cuda:0\n",
            "base_model.model.model.layers.11.self_attn.q_proj.lora_A.default.weight: requires_grad=True, device=cuda:0\n",
            "base_model.model.model.layers.11.self_attn.q_proj.lora_B.default.weight: requires_grad=True, device=cuda:0\n",
            "base_model.model.model.layers.11.self_attn.k_proj.lora_A.default.weight: requires_grad=True, device=cuda:0\n",
            "base_model.model.model.layers.11.self_attn.k_proj.lora_B.default.weight: requires_grad=True, device=cuda:0\n",
            "base_model.model.model.layers.11.self_attn.v_proj.lora_A.default.weight: requires_grad=True, device=cuda:0\n",
            "base_model.model.model.layers.11.self_attn.v_proj.lora_B.default.weight: requires_grad=True, device=cuda:0\n",
            "base_model.model.model.layers.11.self_attn.o_proj.lora_A.default.weight: requires_grad=True, device=cuda:0\n",
            "base_model.model.model.layers.11.self_attn.o_proj.lora_B.default.weight: requires_grad=True, device=cuda:0\n",
            "base_model.model.model.layers.12.self_attn.q_proj.lora_A.default.weight: requires_grad=True, device=cuda:0\n",
            "base_model.model.model.layers.12.self_attn.q_proj.lora_B.default.weight: requires_grad=True, device=cuda:0\n",
            "base_model.model.model.layers.12.self_attn.k_proj.lora_A.default.weight: requires_grad=True, device=cuda:0\n",
            "base_model.model.model.layers.12.self_attn.k_proj.lora_B.default.weight: requires_grad=True, device=cuda:0\n",
            "base_model.model.model.layers.12.self_attn.v_proj.lora_A.default.weight: requires_grad=True, device=cuda:0\n",
            "base_model.model.model.layers.12.self_attn.v_proj.lora_B.default.weight: requires_grad=True, device=cuda:0\n",
            "base_model.model.model.layers.12.self_attn.o_proj.lora_A.default.weight: requires_grad=True, device=cuda:0\n",
            "base_model.model.model.layers.12.self_attn.o_proj.lora_B.default.weight: requires_grad=True, device=cuda:0\n",
            "base_model.model.model.layers.13.self_attn.q_proj.lora_A.default.weight: requires_grad=True, device=cuda:0\n",
            "base_model.model.model.layers.13.self_attn.q_proj.lora_B.default.weight: requires_grad=True, device=cuda:0\n",
            "base_model.model.model.layers.13.self_attn.k_proj.lora_A.default.weight: requires_grad=True, device=cuda:0\n",
            "base_model.model.model.layers.13.self_attn.k_proj.lora_B.default.weight: requires_grad=True, device=cuda:0\n",
            "base_model.model.model.layers.13.self_attn.v_proj.lora_A.default.weight: requires_grad=True, device=cuda:0\n",
            "base_model.model.model.layers.13.self_attn.v_proj.lora_B.default.weight: requires_grad=True, device=cuda:0\n",
            "base_model.model.model.layers.13.self_attn.o_proj.lora_A.default.weight: requires_grad=True, device=cuda:0\n",
            "base_model.model.model.layers.13.self_attn.o_proj.lora_B.default.weight: requires_grad=True, device=cuda:0\n",
            "base_model.model.model.layers.14.self_attn.q_proj.lora_A.default.weight: requires_grad=True, device=cuda:0\n",
            "base_model.model.model.layers.14.self_attn.q_proj.lora_B.default.weight: requires_grad=True, device=cuda:0\n",
            "base_model.model.model.layers.14.self_attn.k_proj.lora_A.default.weight: requires_grad=True, device=cuda:0\n",
            "base_model.model.model.layers.14.self_attn.k_proj.lora_B.default.weight: requires_grad=True, device=cuda:0\n",
            "base_model.model.model.layers.14.self_attn.v_proj.lora_A.default.weight: requires_grad=True, device=cuda:0\n",
            "base_model.model.model.layers.14.self_attn.v_proj.lora_B.default.weight: requires_grad=True, device=cuda:0\n",
            "base_model.model.model.layers.14.self_attn.o_proj.lora_A.default.weight: requires_grad=True, device=cuda:0\n",
            "base_model.model.model.layers.14.self_attn.o_proj.lora_B.default.weight: requires_grad=True, device=cuda:0\n",
            "base_model.model.model.layers.15.self_attn.q_proj.lora_A.default.weight: requires_grad=True, device=cuda:0\n",
            "base_model.model.model.layers.15.self_attn.q_proj.lora_B.default.weight: requires_grad=True, device=cuda:0\n",
            "base_model.model.model.layers.15.self_attn.k_proj.lora_A.default.weight: requires_grad=True, device=cuda:0\n",
            "base_model.model.model.layers.15.self_attn.k_proj.lora_B.default.weight: requires_grad=True, device=cuda:0\n",
            "base_model.model.model.layers.15.self_attn.v_proj.lora_A.default.weight: requires_grad=True, device=cuda:0\n",
            "base_model.model.model.layers.15.self_attn.v_proj.lora_B.default.weight: requires_grad=True, device=cuda:0\n",
            "base_model.model.model.layers.15.self_attn.o_proj.lora_A.default.weight: requires_grad=True, device=cuda:0\n",
            "base_model.model.model.layers.15.self_attn.o_proj.lora_B.default.weight: requires_grad=True, device=cuda:0\n",
            "base_model.model.model.layers.16.self_attn.q_proj.lora_A.default.weight: requires_grad=True, device=cuda:0\n",
            "base_model.model.model.layers.16.self_attn.q_proj.lora_B.default.weight: requires_grad=True, device=cuda:0\n",
            "base_model.model.model.layers.16.self_attn.k_proj.lora_A.default.weight: requires_grad=True, device=cuda:0\n",
            "base_model.model.model.layers.16.self_attn.k_proj.lora_B.default.weight: requires_grad=True, device=cuda:0\n",
            "base_model.model.model.layers.16.self_attn.v_proj.lora_A.default.weight: requires_grad=True, device=cuda:0\n",
            "base_model.model.model.layers.16.self_attn.v_proj.lora_B.default.weight: requires_grad=True, device=cuda:0\n",
            "base_model.model.model.layers.16.self_attn.o_proj.lora_A.default.weight: requires_grad=True, device=cuda:0\n",
            "base_model.model.model.layers.16.self_attn.o_proj.lora_B.default.weight: requires_grad=True, device=cuda:0\n",
            "base_model.model.model.layers.17.self_attn.q_proj.lora_A.default.weight: requires_grad=True, device=cuda:0\n",
            "base_model.model.model.layers.17.self_attn.q_proj.lora_B.default.weight: requires_grad=True, device=cuda:0\n",
            "base_model.model.model.layers.17.self_attn.k_proj.lora_A.default.weight: requires_grad=True, device=cuda:0\n",
            "base_model.model.model.layers.17.self_attn.k_proj.lora_B.default.weight: requires_grad=True, device=cuda:0\n",
            "base_model.model.model.layers.17.self_attn.v_proj.lora_A.default.weight: requires_grad=True, device=cuda:0\n",
            "base_model.model.model.layers.17.self_attn.v_proj.lora_B.default.weight: requires_grad=True, device=cuda:0\n",
            "base_model.model.model.layers.17.self_attn.o_proj.lora_A.default.weight: requires_grad=True, device=cuda:0\n",
            "base_model.model.model.layers.17.self_attn.o_proj.lora_B.default.weight: requires_grad=True, device=cuda:0\n",
            "base_model.model.model.layers.18.self_attn.q_proj.lora_A.default.weight: requires_grad=True, device=cuda:0\n",
            "base_model.model.model.layers.18.self_attn.q_proj.lora_B.default.weight: requires_grad=True, device=cuda:0\n",
            "base_model.model.model.layers.18.self_attn.k_proj.lora_A.default.weight: requires_grad=True, device=cuda:0\n",
            "base_model.model.model.layers.18.self_attn.k_proj.lora_B.default.weight: requires_grad=True, device=cuda:0\n",
            "base_model.model.model.layers.18.self_attn.v_proj.lora_A.default.weight: requires_grad=True, device=cuda:0\n",
            "base_model.model.model.layers.18.self_attn.v_proj.lora_B.default.weight: requires_grad=True, device=cuda:0\n",
            "base_model.model.model.layers.18.self_attn.o_proj.lora_A.default.weight: requires_grad=True, device=cuda:0\n",
            "base_model.model.model.layers.18.self_attn.o_proj.lora_B.default.weight: requires_grad=True, device=cuda:0\n",
            "base_model.model.model.layers.19.self_attn.q_proj.lora_A.default.weight: requires_grad=True, device=cuda:0\n",
            "base_model.model.model.layers.19.self_attn.q_proj.lora_B.default.weight: requires_grad=True, device=cuda:0\n",
            "base_model.model.model.layers.19.self_attn.k_proj.lora_A.default.weight: requires_grad=True, device=cuda:0\n",
            "base_model.model.model.layers.19.self_attn.k_proj.lora_B.default.weight: requires_grad=True, device=cuda:0\n",
            "base_model.model.model.layers.19.self_attn.v_proj.lora_A.default.weight: requires_grad=True, device=cuda:0\n",
            "base_model.model.model.layers.19.self_attn.v_proj.lora_B.default.weight: requires_grad=True, device=cuda:0\n",
            "base_model.model.model.layers.19.self_attn.o_proj.lora_A.default.weight: requires_grad=True, device=cuda:0\n",
            "base_model.model.model.layers.19.self_attn.o_proj.lora_B.default.weight: requires_grad=True, device=cuda:0\n",
            "base_model.model.model.layers.20.self_attn.q_proj.lora_A.default.weight: requires_grad=True, device=cuda:0\n",
            "base_model.model.model.layers.20.self_attn.q_proj.lora_B.default.weight: requires_grad=True, device=cuda:0\n",
            "base_model.model.model.layers.20.self_attn.k_proj.lora_A.default.weight: requires_grad=True, device=cuda:0\n",
            "base_model.model.model.layers.20.self_attn.k_proj.lora_B.default.weight: requires_grad=True, device=cuda:0\n",
            "base_model.model.model.layers.20.self_attn.v_proj.lora_A.default.weight: requires_grad=True, device=cuda:0\n",
            "base_model.model.model.layers.20.self_attn.v_proj.lora_B.default.weight: requires_grad=True, device=cuda:0\n",
            "base_model.model.model.layers.20.self_attn.o_proj.lora_A.default.weight: requires_grad=True, device=cuda:0\n",
            "base_model.model.model.layers.20.self_attn.o_proj.lora_B.default.weight: requires_grad=True, device=cuda:0\n",
            "base_model.model.model.layers.21.self_attn.q_proj.lora_A.default.weight: requires_grad=True, device=cuda:0\n",
            "base_model.model.model.layers.21.self_attn.q_proj.lora_B.default.weight: requires_grad=True, device=cuda:0\n",
            "base_model.model.model.layers.21.self_attn.k_proj.lora_A.default.weight: requires_grad=True, device=cuda:0\n",
            "base_model.model.model.layers.21.self_attn.k_proj.lora_B.default.weight: requires_grad=True, device=cuda:0\n",
            "base_model.model.model.layers.21.self_attn.v_proj.lora_A.default.weight: requires_grad=True, device=cuda:0\n",
            "base_model.model.model.layers.21.self_attn.v_proj.lora_B.default.weight: requires_grad=True, device=cuda:0\n",
            "base_model.model.model.layers.21.self_attn.o_proj.lora_A.default.weight: requires_grad=True, device=cuda:0\n",
            "base_model.model.model.layers.21.self_attn.o_proj.lora_B.default.weight: requires_grad=True, device=cuda:0\n",
            "base_model.model.model.layers.22.self_attn.q_proj.lora_A.default.weight: requires_grad=True, device=cuda:0\n",
            "base_model.model.model.layers.22.self_attn.q_proj.lora_B.default.weight: requires_grad=True, device=cuda:0\n",
            "base_model.model.model.layers.22.self_attn.k_proj.lora_A.default.weight: requires_grad=True, device=cuda:0\n",
            "base_model.model.model.layers.22.self_attn.k_proj.lora_B.default.weight: requires_grad=True, device=cuda:0\n",
            "base_model.model.model.layers.22.self_attn.v_proj.lora_A.default.weight: requires_grad=True, device=cuda:0\n",
            "base_model.model.model.layers.22.self_attn.v_proj.lora_B.default.weight: requires_grad=True, device=cuda:0\n",
            "base_model.model.model.layers.22.self_attn.o_proj.lora_A.default.weight: requires_grad=True, device=cuda:0\n",
            "base_model.model.model.layers.22.self_attn.o_proj.lora_B.default.weight: requires_grad=True, device=cuda:0\n",
            "base_model.model.model.layers.23.self_attn.q_proj.lora_A.default.weight: requires_grad=True, device=cuda:0\n",
            "base_model.model.model.layers.23.self_attn.q_proj.lora_B.default.weight: requires_grad=True, device=cuda:0\n",
            "base_model.model.model.layers.23.self_attn.k_proj.lora_A.default.weight: requires_grad=True, device=cuda:0\n",
            "base_model.model.model.layers.23.self_attn.k_proj.lora_B.default.weight: requires_grad=True, device=cuda:0\n",
            "base_model.model.model.layers.23.self_attn.v_proj.lora_A.default.weight: requires_grad=True, device=cuda:0\n",
            "base_model.model.model.layers.23.self_attn.v_proj.lora_B.default.weight: requires_grad=True, device=cuda:0\n",
            "base_model.model.model.layers.23.self_attn.o_proj.lora_A.default.weight: requires_grad=True, device=cuda:0\n",
            "base_model.model.model.layers.23.self_attn.o_proj.lora_B.default.weight: requires_grad=True, device=cuda:0\n",
            "base_model.model.model.layers.24.self_attn.q_proj.lora_A.default.weight: requires_grad=True, device=cuda:0\n",
            "base_model.model.model.layers.24.self_attn.q_proj.lora_B.default.weight: requires_grad=True, device=cuda:0\n",
            "base_model.model.model.layers.24.self_attn.k_proj.lora_A.default.weight: requires_grad=True, device=cuda:0\n",
            "base_model.model.model.layers.24.self_attn.k_proj.lora_B.default.weight: requires_grad=True, device=cuda:0\n",
            "base_model.model.model.layers.24.self_attn.v_proj.lora_A.default.weight: requires_grad=True, device=cuda:0\n",
            "base_model.model.model.layers.24.self_attn.v_proj.lora_B.default.weight: requires_grad=True, device=cuda:0\n",
            "base_model.model.model.layers.24.self_attn.o_proj.lora_A.default.weight: requires_grad=True, device=cuda:0\n",
            "base_model.model.model.layers.24.self_attn.o_proj.lora_B.default.weight: requires_grad=True, device=cuda:0\n",
            "base_model.model.model.layers.25.self_attn.q_proj.lora_A.default.weight: requires_grad=True, device=cuda:0\n",
            "base_model.model.model.layers.25.self_attn.q_proj.lora_B.default.weight: requires_grad=True, device=cuda:0\n",
            "base_model.model.model.layers.25.self_attn.k_proj.lora_A.default.weight: requires_grad=True, device=cuda:0\n",
            "base_model.model.model.layers.25.self_attn.k_proj.lora_B.default.weight: requires_grad=True, device=cuda:0\n",
            "base_model.model.model.layers.25.self_attn.v_proj.lora_A.default.weight: requires_grad=True, device=cuda:0\n",
            "base_model.model.model.layers.25.self_attn.v_proj.lora_B.default.weight: requires_grad=True, device=cuda:0\n",
            "base_model.model.model.layers.25.self_attn.o_proj.lora_A.default.weight: requires_grad=True, device=cuda:0\n",
            "base_model.model.model.layers.25.self_attn.o_proj.lora_B.default.weight: requires_grad=True, device=cuda:0\n"
          ]
        }
      ],
      "execution_count": 27
    },
    {
      "cell_type": "code",
      "source": [
        "import os\n",
        "os.environ[\"WANDB_DISABLED\"] = \"true\""
      ],
      "metadata": {
        "execution": {
          "iopub.status.busy": "2025-04-08T23:47:22.239713Z",
          "iopub.execute_input": "2025-04-08T23:47:22.239989Z",
          "iopub.status.idle": "2025-04-08T23:47:22.244148Z",
          "shell.execute_reply.started": "2025-04-08T23:47:22.239967Z",
          "shell.execute_reply": "2025-04-08T23:47:22.242874Z"
        },
        "trusted": true,
        "id": "NqzDun8Vl1_6"
      },
      "outputs": [],
      "execution_count": 28
    },
    {
      "cell_type": "markdown",
      "source": [
        "# Setting Training Arguments\n",
        "\n",
        "Training arguments are configured here, including batch size, number of training epochs, learning rate, and other key settings. This configuration is essential for controlling the fine-tuning process."
      ],
      "metadata": {
        "id": "LAmnNh2Ul1_6"
      }
    },
    {
      "cell_type": "code",
      "source": [
        "training_args = TrainingArguments(\n",
        "    output_dir='/kaggle/working/results/',\n",
        "    num_train_epochs=2,\n",
        "    per_device_train_batch_size=5,  # Adjust based on GPU memory\n",
        "    gradient_accumulation_steps=4,  # Adjust to maintain effective batch size\n",
        "    learning_rate=1e-4,\n",
        "    fp16=True,\n",
        "    save_total_limit=1,\n",
        "    save_steps=5000,\n",
        "    gradient_checkpointing=False,\n",
        "    optim='adamw_bnb_8bit',\n",
        "    dataloader_pin_memory=False\n",
        ")"
      ],
      "metadata": {
        "execution": {
          "iopub.status.busy": "2025-04-08T23:47:22.245046Z",
          "iopub.execute_input": "2025-04-08T23:47:22.245337Z",
          "iopub.status.idle": "2025-04-08T23:47:22.290787Z",
          "shell.execute_reply.started": "2025-04-08T23:47:22.245314Z",
          "shell.execute_reply": "2025-04-08T23:47:22.289835Z"
        },
        "trusted": true,
        "colab": {
          "base_uri": "https://localhost:8080/"
        },
        "id": "Qo4M-7Vul1_7",
        "outputId": "bdec9866-1e79-47ea-b36b-832b6cfe3783"
      },
      "outputs": [
        {
          "output_type": "stream",
          "name": "stderr",
          "text": [
            "Using the `WANDB_DISABLED` environment variable is deprecated and will be removed in v5. Use the --report_to flag to control the integrations used for logging result (for instance --report_to none).\n"
          ]
        }
      ],
      "execution_count": 29
    },
    {
      "cell_type": "code",
      "source": [
        "trainer = CustomTrainer(\n",
        "    model=model,\n",
        "    args=training_args,\n",
        "    train_dataset=tokenized_dataset,\n",
        "    data_collator=custom_data_collator,\n",
        ")"
      ],
      "metadata": {
        "execution": {
          "iopub.status.busy": "2025-04-08T23:47:22.291714Z",
          "iopub.execute_input": "2025-04-08T23:47:22.291952Z",
          "iopub.status.idle": "2025-04-08T23:47:22.498350Z",
          "shell.execute_reply.started": "2025-04-08T23:47:22.291932Z",
          "shell.execute_reply": "2025-04-08T23:47:22.497549Z"
        },
        "trusted": true,
        "colab": {
          "base_uri": "https://localhost:8080/"
        },
        "id": "VfYGdVwJl1_8",
        "outputId": "22b14bde-cc37-4852-ae2f-970b2fa19199"
      },
      "outputs": [
        {
          "output_type": "stream",
          "name": "stderr",
          "text": [
            "No label_names provided for model class `PeftModelForCausalLM`. Since `PeftModel` hides base models input arguments, if label_names is not given, label_names can't be set automatically within `Trainer`. Note that empty label_names list will be used instead.\n"
          ]
        }
      ],
      "execution_count": 30
    },
    {
      "cell_type": "markdown",
      "source": [
        "# Memory Management and Training Execution\n",
        "\n",
        "To manage memory effectively on the GPU, we clear the CUDA cache before starting the actual training. Then, the `trainer.train()` command is used to start the fine-tuning.\n",
        "\n",
        "The training progress, including the number of steps completed, current loss, and other details, is displayed to monitor the model's learning curve."
      ],
      "metadata": {
        "id": "jxpMIBENl1_8"
      }
    },
    {
      "cell_type": "code",
      "source": [
        "# Clear cache and start training\n",
        "torch.cuda.empty_cache()"
      ],
      "metadata": {
        "execution": {
          "iopub.status.busy": "2025-04-08T23:47:22.499179Z",
          "iopub.execute_input": "2025-04-08T23:47:22.499427Z",
          "iopub.status.idle": "2025-04-08T23:47:22.520724Z",
          "shell.execute_reply.started": "2025-04-08T23:47:22.499406Z",
          "shell.execute_reply": "2025-04-08T23:47:22.519860Z"
        },
        "trusted": true,
        "id": "-vSdkqPQl1_9"
      },
      "outputs": [],
      "execution_count": 31
    },
    {
      "cell_type": "code",
      "source": [
        "trainer.train()"
      ],
      "metadata": {
        "execution": {
          "iopub.status.busy": "2025-04-08T23:47:22.521591Z",
          "iopub.execute_input": "2025-04-08T23:47:22.521861Z",
          "iopub.status.idle": "2025-04-09T00:13:08.457700Z",
          "shell.execute_reply.started": "2025-04-08T23:47:22.521836Z",
          "shell.execute_reply": "2025-04-09T00:13:08.456927Z"
        },
        "trusted": true,
        "colab": {
          "base_uri": "https://localhost:8080/",
          "height": 141
        },
        "id": "C87ZN6d8l1_9",
        "outputId": "ecc471ab-4bb6-43cf-ff4f-e0e6773737f8"
      },
      "outputs": [
        {
          "output_type": "display_data",
          "data": {
            "text/plain": [
              "<IPython.core.display.HTML object>"
            ],
            "text/html": [
              "\n",
              "    <div>\n",
              "      \n",
              "      <progress value='668' max='668' style='width:300px; height:20px; vertical-align: middle;'></progress>\n",
              "      [668/668 53:50, Epoch 2/2]\n",
              "    </div>\n",
              "    <table border=\"1\" class=\"dataframe\">\n",
              "  <thead>\n",
              " <tr style=\"text-align: left;\">\n",
              "      <th>Step</th>\n",
              "      <th>Training Loss</th>\n",
              "    </tr>\n",
              "  </thead>\n",
              "  <tbody>\n",
              "    <tr>\n",
              "      <td>500</td>\n",
              "      <td>2.296700</td>\n",
              "    </tr>\n",
              "  </tbody>\n",
              "</table><p>"
            ]
          },
          "metadata": {}
        },
        {
          "output_type": "execute_result",
          "data": {
            "text/plain": [
              "TrainOutput(global_step=668, training_loss=2.24030322229077, metrics={'train_runtime': 3235.0584, 'train_samples_per_second': 4.129, 'train_steps_per_second': 0.206, 'total_flos': 4.166369671171277e+16, 'train_loss': 2.24030322229077, 'epoch': 2.0})"
            ]
          },
          "metadata": {},
          "execution_count": 32
        }
      ],
      "execution_count": 32
    },
    {
      "cell_type": "markdown",
      "source": [
        "# Saving the Trained Model\n",
        "\n",
        "Once training is complete, we save the fine-tuned model and tokenizer to a directory for future usage in generating Sanskrit text.\n"
      ],
      "metadata": {
        "id": "6RfSngvEl1_-"
      }
    },
    {
      "cell_type": "code",
      "source": [
        "trainer.save_model('fine-tuned-gemma2-sanskrit-lora')\n",
        "tokenizer.save_pretrained('fine-tuned-gemma2-sanskrit-lora')"
      ],
      "metadata": {
        "execution": {
          "iopub.status.busy": "2025-04-09T00:13:08.458565Z",
          "iopub.execute_input": "2025-04-09T00:13:08.458909Z",
          "iopub.status.idle": "2025-04-09T00:13:09.260407Z",
          "shell.execute_reply.started": "2025-04-09T00:13:08.458874Z",
          "shell.execute_reply": "2025-04-09T00:13:09.259367Z"
        },
        "trusted": true,
        "colab": {
          "base_uri": "https://localhost:8080/"
        },
        "id": "JFguAmBZl1_-",
        "outputId": "3860cbdc-29f0-452c-ffd7-c4b666e0d087"
      },
      "outputs": [
        {
          "output_type": "execute_result",
          "data": {
            "text/plain": [
              "('fine-tuned-gemma2-sanskrit-lora/tokenizer_config.json',\n",
              " 'fine-tuned-gemma2-sanskrit-lora/special_tokens_map.json',\n",
              " 'fine-tuned-gemma2-sanskrit-lora/tokenizer.model',\n",
              " 'fine-tuned-gemma2-sanskrit-lora/added_tokens.json',\n",
              " 'fine-tuned-gemma2-sanskrit-lora/tokenizer.json')"
            ]
          },
          "metadata": {},
          "execution_count": 33
        }
      ],
      "execution_count": 33
    },
    {
      "cell_type": "markdown",
      "source": [
        "# Model Loading and Evaluation Setup\n",
        "\n",
        "In this section, we load the fine-tuned model into evaluation mode for generating Sanskrit text. The `PeftModel` allows efficient loading and evaluation."
      ],
      "metadata": {
        "id": "M6raZb1dl1__"
      }
    },
    {
      "cell_type": "code",
      "source": [
        "from peft import PeftModel\n",
        "from transformers import AutoModelForCausalLM, BitsAndBytesConfig\n",
        "import os, gc\n",
        "offload_dir = \"./offload\"\n",
        "os.makedirs(offload_dir, exist_ok=True)\n",
        "\n",
        "quantization_config = BitsAndBytesConfig(\n",
        "    load_in_4bit=True,\n",
        "    llm_int8_enable_fp32_cpu_offload=True,\n",
        "    bnb_4bit_use_double_quant=True,\n",
        "    bnb_4bit_quant_type=\"nf4\",\n",
        ")\n",
        "\n",
        "model = AutoModelForCausalLM.from_pretrained(\n",
        "    model_name,\n",
        "    quantization_config=quantization_config,\n",
        "    device_map=\"sequential\",  # 👈️ Avoid RAM peak\n",
        "    offload_folder=offload_dir  # Enables offloading to the CPU if needed\n",
        ")\n",
        "\n",
        "model = PeftModel.from_pretrained(model, 'fine-tuned-gemma2-sanskrit-lora')\n",
        "gc.collect()\n",
        "# Set the model to evaluation mode\n",
        "model.eval()"
      ],
      "metadata": {
        "execution": {
          "iopub.status.busy": "2025-04-09T00:13:09.261530Z",
          "iopub.execute_input": "2025-04-09T00:13:09.261920Z",
          "iopub.status.idle": "2025-04-09T00:13:19.370094Z",
          "shell.execute_reply.started": "2025-04-09T00:13:09.261882Z",
          "shell.execute_reply": "2025-04-09T00:13:19.368943Z"
        },
        "trusted": true,
        "colab": {
          "base_uri": "https://localhost:8080/",
          "height": 1000,
          "referenced_widgets": [
            "f5826987023c4fb688a9149dcc06551d",
            "64540b44d98541a48030299c4e0b98cb",
            "0028e0ef61ab49619578865e37f618dd",
            "0db092bfcd6b4f51b4d25494cda6ae7c",
            "5e6546e9d04d4dfab61dab91d1a784db",
            "d7bf94e2334c4b33ac75270d54a4b4c7",
            "4cfc09fe3e8547be940844f48023155c",
            "1ee932799a7244b6bedccac494e193e2",
            "cd6cacd5cae84c69a67d38fd8ff5087e",
            "548b7d31643f4f9fa711edd2b2066c1b",
            "665fb31846744aab90f10f7aa5b19bf5"
          ]
        },
        "id": "S_VYj4q4l1__",
        "outputId": "ef414785-5951-4248-fb9d-34c9ed1f9348"
      },
      "outputs": [
        {
          "output_type": "display_data",
          "data": {
            "text/plain": [
              "Loading checkpoint shards:   0%|          | 0/2 [00:00<?, ?it/s]"
            ],
            "application/vnd.jupyter.widget-view+json": {
              "version_major": 2,
              "version_minor": 0,
              "model_id": "f5826987023c4fb688a9149dcc06551d"
            }
          },
          "metadata": {}
        },
        {
          "output_type": "execute_result",
          "data": {
            "text/plain": [
              "PeftModelForCausalLM(\n",
              "  (base_model): LoraModel(\n",
              "    (model): Gemma2ForCausalLM(\n",
              "      (model): Gemma2Model(\n",
              "        (embed_tokens): Embedding(256000, 2304, padding_idx=0)\n",
              "        (layers): ModuleList(\n",
              "          (0-25): 26 x Gemma2DecoderLayer(\n",
              "            (self_attn): Gemma2Attention(\n",
              "              (q_proj): lora.Linear4bit(\n",
              "                (base_layer): Linear4bit(in_features=2304, out_features=2048, bias=False)\n",
              "                (lora_dropout): ModuleDict(\n",
              "                  (default): Dropout(p=0.05, inplace=False)\n",
              "                )\n",
              "                (lora_A): ModuleDict(\n",
              "                  (default): Linear(in_features=2304, out_features=16, bias=False)\n",
              "                )\n",
              "                (lora_B): ModuleDict(\n",
              "                  (default): Linear(in_features=16, out_features=2048, bias=False)\n",
              "                )\n",
              "                (lora_embedding_A): ParameterDict()\n",
              "                (lora_embedding_B): ParameterDict()\n",
              "                (lora_magnitude_vector): ModuleDict()\n",
              "              )\n",
              "              (k_proj): lora.Linear4bit(\n",
              "                (base_layer): Linear4bit(in_features=2304, out_features=1024, bias=False)\n",
              "                (lora_dropout): ModuleDict(\n",
              "                  (default): Dropout(p=0.05, inplace=False)\n",
              "                )\n",
              "                (lora_A): ModuleDict(\n",
              "                  (default): Linear(in_features=2304, out_features=16, bias=False)\n",
              "                )\n",
              "                (lora_B): ModuleDict(\n",
              "                  (default): Linear(in_features=16, out_features=1024, bias=False)\n",
              "                )\n",
              "                (lora_embedding_A): ParameterDict()\n",
              "                (lora_embedding_B): ParameterDict()\n",
              "                (lora_magnitude_vector): ModuleDict()\n",
              "              )\n",
              "              (v_proj): lora.Linear4bit(\n",
              "                (base_layer): Linear4bit(in_features=2304, out_features=1024, bias=False)\n",
              "                (lora_dropout): ModuleDict(\n",
              "                  (default): Dropout(p=0.05, inplace=False)\n",
              "                )\n",
              "                (lora_A): ModuleDict(\n",
              "                  (default): Linear(in_features=2304, out_features=16, bias=False)\n",
              "                )\n",
              "                (lora_B): ModuleDict(\n",
              "                  (default): Linear(in_features=16, out_features=1024, bias=False)\n",
              "                )\n",
              "                (lora_embedding_A): ParameterDict()\n",
              "                (lora_embedding_B): ParameterDict()\n",
              "                (lora_magnitude_vector): ModuleDict()\n",
              "              )\n",
              "              (o_proj): lora.Linear4bit(\n",
              "                (base_layer): Linear4bit(in_features=2048, out_features=2304, bias=False)\n",
              "                (lora_dropout): ModuleDict(\n",
              "                  (default): Dropout(p=0.05, inplace=False)\n",
              "                )\n",
              "                (lora_A): ModuleDict(\n",
              "                  (default): Linear(in_features=2048, out_features=16, bias=False)\n",
              "                )\n",
              "                (lora_B): ModuleDict(\n",
              "                  (default): Linear(in_features=16, out_features=2304, bias=False)\n",
              "                )\n",
              "                (lora_embedding_A): ParameterDict()\n",
              "                (lora_embedding_B): ParameterDict()\n",
              "                (lora_magnitude_vector): ModuleDict()\n",
              "              )\n",
              "            )\n",
              "            (mlp): Gemma2MLP(\n",
              "              (gate_proj): Linear4bit(in_features=2304, out_features=9216, bias=False)\n",
              "              (up_proj): Linear4bit(in_features=2304, out_features=9216, bias=False)\n",
              "              (down_proj): Linear4bit(in_features=9216, out_features=2304, bias=False)\n",
              "              (act_fn): PytorchGELUTanh()\n",
              "            )\n",
              "            (input_layernorm): Gemma2RMSNorm((2304,), eps=1e-06)\n",
              "            (post_attention_layernorm): Gemma2RMSNorm((2304,), eps=1e-06)\n",
              "            (pre_feedforward_layernorm): Gemma2RMSNorm((2304,), eps=1e-06)\n",
              "            (post_feedforward_layernorm): Gemma2RMSNorm((2304,), eps=1e-06)\n",
              "          )\n",
              "        )\n",
              "        (norm): Gemma2RMSNorm((2304,), eps=1e-06)\n",
              "        (rotary_emb): Gemma2RotaryEmbedding()\n",
              "      )\n",
              "      (lm_head): Linear(in_features=2304, out_features=256000, bias=False)\n",
              "    )\n",
              "  )\n",
              ")"
            ]
          },
          "metadata": {},
          "execution_count": 6
        }
      ],
      "execution_count": 6
    },
    {
      "cell_type": "markdown",
      "source": [
        "# Text Generation Function\n",
        "\n",
        "A function, `generate_text`, is defined for generating Sanskrit text based on a provided prompt. Parameters for temperature, top-p sampling, and maximum length control the creativity and diversity of the generated text.\n"
      ],
      "metadata": {
        "id": "0ROv-dFCl2AA"
      }
    },
    {
      "cell_type": "code",
      "source": [
        "def generate_text(prompt, max_length=128, num_return_sequences=1):\n",
        "    # Tokenize the input prompt\n",
        "    inputs = tokenizer(prompt, return_tensors='pt').to(model.device)\n",
        "\n",
        "    # Generate output sequences\n",
        "    with torch.no_grad():\n",
        "        outputs = model.generate(\n",
        "            **inputs,\n",
        "            max_length=max_length,\n",
        "            num_return_sequences=num_return_sequences,\n",
        "            do_sample=True,           # Use sampling for more diverse outputs\n",
        "            temperature=0.7,          # Adjust temperature for creativity\n",
        "            top_p=0.9,                # Use top-p sampling\n",
        "            eos_token_id=tokenizer.eos_token_id,\n",
        "            pad_token_id=tokenizer.eos_token_id,\n",
        "        )\n",
        "\n",
        "    # Decode the generated tokens\n",
        "    generated_texts = []\n",
        "    for output in outputs:\n",
        "        text = tokenizer.decode(output, skip_special_tokens=True)\n",
        "        generated_texts.append(text)\n",
        "\n",
        "    return generated_texts"
      ],
      "metadata": {
        "execution": {
          "iopub.status.busy": "2025-04-09T00:13:19.371179Z",
          "iopub.execute_input": "2025-04-09T00:13:19.371468Z",
          "iopub.status.idle": "2025-04-09T00:13:19.376998Z",
          "shell.execute_reply.started": "2025-04-09T00:13:19.371445Z",
          "shell.execute_reply": "2025-04-09T00:13:19.376015Z"
        },
        "trusted": true,
        "id": "DX9ugUSRl2AB"
      },
      "outputs": [],
      "execution_count": 9
    },
    {
      "cell_type": "markdown",
      "source": [
        "# Example Prompt and Generated Text\n",
        "\n",
        "Using the `generate_text` function, we provide an example Sanskrit prompt and generate text based on it to showcase the model's capability to create coherent Sanskrit sentences."
      ],
      "metadata": {
        "id": "2JvvFyDsl2AB"
      }
    },
    {
      "cell_type": "code",
      "source": [
        "from transformers import AutoTokenizer\n",
        "import torch\n",
        "tokenizer = AutoTokenizer.from_pretrained(\"fine-tuned-gemma2-sanskrit-lora\")\n",
        "\n",
        "prompt = \"पाठः क्रियेटिव कॉमन्स ऐट्रिब्यूशन/शेयर-अलाइक अभिज्ञापत्रस्य अन्तर्गततया उपलब्धः अस्ति\"\n",
        "generated_texts = generate_text(prompt, max_length=256)\n",
        "print(\"Generated Text:\")\n",
        "print(generated_texts[0])"
      ],
      "metadata": {
        "execution": {
          "iopub.status.busy": "2025-04-09T00:13:19.378026Z",
          "iopub.execute_input": "2025-04-09T00:13:19.378397Z",
          "iopub.status.idle": "2025-04-09T00:13:27.440917Z",
          "shell.execute_reply.started": "2025-04-09T00:13:19.378363Z",
          "shell.execute_reply": "2025-04-09T00:13:27.439949Z"
        },
        "trusted": true,
        "colab": {
          "base_uri": "https://localhost:8080/"
        },
        "id": "AuhXc4Oel2AB",
        "outputId": "bc355e16-7148-4b22-83e0-e9415ffead6b"
      },
      "outputs": [
        {
          "output_type": "stream",
          "name": "stderr",
          "text": [
            "/usr/local/lib/python3.11/dist-packages/bitsandbytes/nn/modules.py:451: UserWarning: Input type into Linear4bit is torch.float16, but bnb_4bit_compute_dtype=torch.float32 (default). This will lead to slow inference or training speed.\n",
            "  warnings.warn(\n"
          ]
        },
        {
          "output_type": "stream",
          "name": "stdout",
          "text": [
            "Generated Text:\n",
            "पाठः क्रियेटिव कॉमन्स ऐट्रिब्यूशन/शेयर-अलाइक अभिज्ञापत्रस्य अन्तर्गततया उपलब्धः अस्ति । अत्र प्रथमविषयः एव कर्तृवार्तायाः प्रथमभागः भवति । अस्मिन् विषये एव चरित्रभाषणः च भवति । चरित्रभाषणस्य उद्देश्यः एव चरित्राणां प्रोत्साहनः । अत्र एव पञ्चमविषयः एव सञ्चितानां कल्पनात्मकवर्णनानां अभिज्ञापत्रस्य अन्तर्गततया उपलब्धः अस्ति । अत्र प्रथमविषयः एव पञ्चमविषयस्य प्रारम्भिकभागः भवति । अस्मिन् विषये एव पञ्चमविषयस्य उद्देश्यः एव कल्पनात्मकवर्णनानां प्रोत्साहनः । अत्र एव आठमविषयः एव सञ्च\n"
          ]
        }
      ],
      "execution_count": 11
    },
    {
      "cell_type": "code",
      "source": [
        "prompt = \"अनिरुद्धनगरे क्रीडिता रामलीला सम्‍प्रति समाप्‍ता अस्ति ।\"\n",
        "generated_texts = generate_text(prompt, max_length=256)\n",
        "\n",
        "print(\"Generated Text:\")\n",
        "print(generated_texts[0])"
      ],
      "metadata": {
        "execution": {
          "iopub.status.busy": "2025-04-09T00:13:27.441706Z",
          "iopub.execute_input": "2025-04-09T00:13:27.441949Z",
          "iopub.status.idle": "2025-04-09T00:13:36.542195Z",
          "shell.execute_reply.started": "2025-04-09T00:13:27.441928Z",
          "shell.execute_reply": "2025-04-09T00:13:36.541149Z"
        },
        "trusted": true,
        "colab": {
          "base_uri": "https://localhost:8080/"
        },
        "id": "lWwd-d9Xl2AD",
        "outputId": "40a44674-baa0-4e2f-91f6-76917b6856f6"
      },
      "outputs": [
        {
          "output_type": "stream",
          "name": "stdout",
          "text": [
            "Generated Text:\n",
            "अनिरुद्धनगरे क्रीडिता रामलीला सम्‍प्रति समाप्‍ता अस्ति । रामलीला सम्‍प्रतिं गौरववर्णं चतुर्विंशति अस्ति । अनिरुद्धनगरस्य नागरिकस्य सत्कारं चतुर्विंशति अस्ति । एवम् अभ्युत्पादयति नागरिकं नागरिकस्य सत्कारं चतुर्विंशति अस्ति । अनिरुद्धनगरस्य प्रसिद्धं नागरिकं रामलीला सम्‍प्रतियाम् आसीत् । एवम् आसीत् । अनिरुद्धनगरस्य रामलीला सम्‍प्रतियाम् आसीत् । एवम् आसीत् । अनिरुद्धनगरस्य रामलीला सम्‍प्रतियाम् आसीत् । एवम् आसीत् । अनिरुद्धनगरस्य रामलीला सम्‍प्रतियाम् आसीत् । एवम् आसीत् । अनिरुद्धनगरस्य रामलीला सम्‍प्रतियाम् आसीत् । एवम् आसीत् ।\n"
          ]
        }
      ],
      "execution_count": 12
    },
    {
      "cell_type": "code",
      "source": [
        "\n",
        "prompt = \"सर्वे भवन्तु सुखिनः, सर्वे सन्तु निरामयाः।\"\n",
        "generated_texts = generate_text(prompt, max_length=256)\n",
        "\n",
        "print(\"Generated Text:\")\n",
        "print(generated_texts[0])"
      ],
      "metadata": {
        "colab": {
          "base_uri": "https://localhost:8080/"
        },
        "id": "7AyERLbaudte",
        "outputId": "db04cfac-c178-4721-a3c1-b5f107e1d933"
      },
      "execution_count": 13,
      "outputs": [
        {
          "output_type": "stream",
          "name": "stdout",
          "text": [
            "Generated Text:\n",
            "सर्वे भवन्तु सुखिनः, सर्वे सन्तु निरामयाः। सर्वे भवन्तु सन्तु निरम्रायः। ॐ शान्तिः शान्तिः शान्तिः। ॐ।।।।।।।।।।।।।।।।।।।।।।।।।।।।।।।।।।।।।।।।।।।।।।।।।।।।।।।।।।।।।।।।।।।।।।।।।।।।।।।।।।।।।।।।।।।।।।।।।।।।।।।।।।।।।।।।।।।।।।।।।।।।।।।।।।।।।।।।।।।।।।।।।।।।।।।।।।।।।।।।।।।।।।।।।।।।।।।।।।।।।।।।।।।।।।।।।।।।।।।।\n"
          ]
        }
      ]
    },
    {
      "cell_type": "code",
      "source": [
        "\n",
        "prompt = \"कर्मण्येवाधिकारस्ते मा फलेषु कदाचन मा कर्मफलहेतुर्भूर्मा ते सङ्गोऽस्त्वकर्मणि।\"\n",
        "generated_texts = generate_text(prompt, max_length=256)\n",
        "\n",
        "print(\"Generated Text:\")\n",
        "print(generated_texts[0])"
      ],
      "metadata": {
        "colab": {
          "base_uri": "https://localhost:8080/"
        },
        "id": "sHS3TpSqvr4S",
        "outputId": "fd18cc80-b440-4cd7-ce3a-7c67bae0d5e2"
      },
      "execution_count": 14,
      "outputs": [
        {
          "output_type": "stream",
          "name": "stdout",
          "text": [
            "Generated Text:\n",
            "कर्मण्येवाधिकारस्ते मा फलेषु कदाचन मा कर्मफलहेतुर्भूर्मा ते सङ्गोऽस्त्वकर्मणि। अस्माकर्मणाङ्गस्ते तमं कर्मफलं भूयोरुच्यते कर्मफलं न भूयोरुच्यते॥ इति कर्मणिभूयोरुच्यते ॥ इति न कर्मणिभूयोरुच्यते ॥ इति एव कर्मणिभूयोरुच्यते ॥ इति एव न कर्मणिभूयोरुच्यते ॥ इति कर्मणिभूयोरुच्यते ॥ इति एव न कर्मणिभूयोरुच्यते ॥ इति कर्मणिभूयोरुच्यते ॥ इति एव न कर्मणिभूयोरुच्यते ॥ इति कर्मणिभूयोरुच्यते ॥ इति एव न कर्मणिभूयोरुच्यते ॥ इति कर्मणिभूयोरुच्यते ॥ इति एव न कर्म\n"
          ]
        }
      ]
    },
    {
      "cell_type": "code",
      "source": [],
      "metadata": {
        "id": "HnrjnU1fKkaG"
      },
      "execution_count": null,
      "outputs": []
    }
  ]
}