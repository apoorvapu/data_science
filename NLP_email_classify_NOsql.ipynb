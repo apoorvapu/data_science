{
  "nbformat": 4,
  "nbformat_minor": 0,
  "metadata": {
    "colab": {
      "provenance": [],
      "authorship_tag": "ABX9TyNPwMl1ohGaosjjaY8Uzht0",
      "include_colab_link": true
    },
    "kernelspec": {
      "name": "python3",
      "display_name": "Python 3"
    },
    "language_info": {
      "name": "python"
    }
  },
  "cells": [
    {
      "cell_type": "markdown",
      "metadata": {
        "id": "view-in-github",
        "colab_type": "text"
      },
      "source": [
        "<a href=\"https://colab.research.google.com/github/apoorvapu/data_science/blob/main/NLP_email_classify_NOsql.ipynb\" target=\"_parent\"><img src=\"https://colab.research.google.com/assets/colab-badge.svg\" alt=\"Open In Colab\"/></a>"
      ]
    },
    {
      "cell_type": "markdown",
      "source": [
        "#**NLP**: **(2 methods: (1) fine-tuning LLM and (2) model training from scratch)**"
      ],
      "metadata": {
        "id": "wtuYrKODRmus"
      }
    },
    {
      "cell_type": "markdown",
      "source": [
        "# **email detection (spam)**\n",
        "\n",
        "✅ Uses TF-IDF (no need for large word embeddings like BERT).\n",
        "✅ Restricts features (max_features=5000 in TF-IDF) to reduce RAM usage.\n",
        "✅ Uses LightGBM, which is optimized for fast, memory-efficient training.\n",
        "✅ Avoids deep learning (which requires high GPU/TPU memory)."
      ],
      "metadata": {
        "id": "Ijhirw_iSHev"
      }
    },
    {
      "cell_type": "code",
      "source": [
        "!pip install datasets"
      ],
      "metadata": {
        "id": "n5qEZSUY5tzB",
        "outputId": "62b17eec-ff2b-4577-c491-6e729bcbb50f",
        "colab": {
          "base_uri": "https://localhost:8080/"
        }
      },
      "execution_count": 10,
      "outputs": [
        {
          "output_type": "stream",
          "name": "stdout",
          "text": [
            "Requirement already satisfied: datasets in /usr/local/lib/python3.11/dist-packages (3.2.0)\n",
            "Requirement already satisfied: filelock in /usr/local/lib/python3.11/dist-packages (from datasets) (3.17.0)\n",
            "Requirement already satisfied: numpy>=1.17 in /usr/local/lib/python3.11/dist-packages (from datasets) (1.26.4)\n",
            "Requirement already satisfied: pyarrow>=15.0.0 in /usr/local/lib/python3.11/dist-packages (from datasets) (17.0.0)\n",
            "Requirement already satisfied: dill<0.3.9,>=0.3.0 in /usr/local/lib/python3.11/dist-packages (from datasets) (0.3.8)\n",
            "Requirement already satisfied: pandas in /usr/local/lib/python3.11/dist-packages (from datasets) (2.2.2)\n",
            "Requirement already satisfied: requests>=2.32.2 in /usr/local/lib/python3.11/dist-packages (from datasets) (2.32.3)\n",
            "Requirement already satisfied: tqdm>=4.66.3 in /usr/local/lib/python3.11/dist-packages (from datasets) (4.67.1)\n",
            "Requirement already satisfied: xxhash in /usr/local/lib/python3.11/dist-packages (from datasets) (3.5.0)\n",
            "Requirement already satisfied: multiprocess<0.70.17 in /usr/local/lib/python3.11/dist-packages (from datasets) (0.70.16)\n",
            "Requirement already satisfied: fsspec<=2024.9.0,>=2023.1.0 in /usr/local/lib/python3.11/dist-packages (from fsspec[http]<=2024.9.0,>=2023.1.0->datasets) (2024.9.0)\n",
            "Requirement already satisfied: aiohttp in /usr/local/lib/python3.11/dist-packages (from datasets) (3.11.11)\n",
            "Requirement already satisfied: huggingface-hub>=0.23.0 in /usr/local/lib/python3.11/dist-packages (from datasets) (0.27.1)\n",
            "Requirement already satisfied: packaging in /usr/local/lib/python3.11/dist-packages (from datasets) (24.2)\n",
            "Requirement already satisfied: pyyaml>=5.1 in /usr/local/lib/python3.11/dist-packages (from datasets) (6.0.2)\n",
            "Requirement already satisfied: aiohappyeyeballs>=2.3.0 in /usr/local/lib/python3.11/dist-packages (from aiohttp->datasets) (2.4.4)\n",
            "Requirement already satisfied: aiosignal>=1.1.2 in /usr/local/lib/python3.11/dist-packages (from aiohttp->datasets) (1.3.2)\n",
            "Requirement already satisfied: attrs>=17.3.0 in /usr/local/lib/python3.11/dist-packages (from aiohttp->datasets) (25.1.0)\n",
            "Requirement already satisfied: frozenlist>=1.1.1 in /usr/local/lib/python3.11/dist-packages (from aiohttp->datasets) (1.5.0)\n",
            "Requirement already satisfied: multidict<7.0,>=4.5 in /usr/local/lib/python3.11/dist-packages (from aiohttp->datasets) (6.1.0)\n",
            "Requirement already satisfied: propcache>=0.2.0 in /usr/local/lib/python3.11/dist-packages (from aiohttp->datasets) (0.2.1)\n",
            "Requirement already satisfied: yarl<2.0,>=1.17.0 in /usr/local/lib/python3.11/dist-packages (from aiohttp->datasets) (1.18.3)\n",
            "Requirement already satisfied: typing-extensions>=3.7.4.3 in /usr/local/lib/python3.11/dist-packages (from huggingface-hub>=0.23.0->datasets) (4.12.2)\n",
            "Requirement already satisfied: charset-normalizer<4,>=2 in /usr/local/lib/python3.11/dist-packages (from requests>=2.32.2->datasets) (3.4.1)\n",
            "Requirement already satisfied: idna<4,>=2.5 in /usr/local/lib/python3.11/dist-packages (from requests>=2.32.2->datasets) (3.10)\n",
            "Requirement already satisfied: urllib3<3,>=1.21.1 in /usr/local/lib/python3.11/dist-packages (from requests>=2.32.2->datasets) (2.3.0)\n",
            "Requirement already satisfied: certifi>=2017.4.17 in /usr/local/lib/python3.11/dist-packages (from requests>=2.32.2->datasets) (2024.12.14)\n",
            "Requirement already satisfied: python-dateutil>=2.8.2 in /usr/local/lib/python3.11/dist-packages (from pandas->datasets) (2.8.2)\n",
            "Requirement already satisfied: pytz>=2020.1 in /usr/local/lib/python3.11/dist-packages (from pandas->datasets) (2024.2)\n",
            "Requirement already satisfied: tzdata>=2022.7 in /usr/local/lib/python3.11/dist-packages (from pandas->datasets) (2025.1)\n",
            "Requirement already satisfied: six>=1.5 in /usr/local/lib/python3.11/dist-packages (from python-dateutil>=2.8.2->pandas->datasets) (1.17.0)\n"
          ]
        }
      ]
    },
    {
      "cell_type": "code",
      "source": [
        "import pandas as pd\n",
        "import numpy as np\n",
        "import lightgbm as lgb\n",
        "import re\n",
        "import string\n",
        "from sklearn.feature_extraction.text import TfidfVectorizer\n",
        "from sklearn.model_selection import train_test_split\n",
        "from sklearn.preprocessing import LabelEncoder\n",
        "from sklearn.metrics import accuracy_score"
      ],
      "metadata": {
        "id": "GX-CiS_S5xNv"
      },
      "execution_count": 11,
      "outputs": []
    },
    {
      "cell_type": "code",
      "source": [
        "from datasets import load_dataset\n",
        "ds = load_dataset(\"talby/spamassassin\", \"text\")\n",
        "print(ds['train'][0])"
      ],
      "metadata": {
        "id": "we6Iw5dH80G9",
        "outputId": "b06be898-2cf8-4c74-d172-586a2fbb2193",
        "colab": {
          "base_uri": "https://localhost:8080/"
        }
      },
      "execution_count": 12,
      "outputs": [
        {
          "output_type": "stream",
          "name": "stdout",
          "text": [
            "{'label': 1, 'group': 'easy_ham', 'text': '\"\\\\n> From: fork-admin@xent.com [mailto:fork-admin@xent.com] On Behalf Of\\\\nJames\\\\n> Rogers\\\\n\\\\n> Subject: Re: The Curse of India\\'s Socialism\\\\n> \\\\n> On Tue, 2002-08-20 at 15:01, Ian Andrew Bell wrote:\\\\n\\\\n> > They\\\\n> > finished their routine with the a quadruple lutz -- laying off\\\\n> > hundreds of thousands of workers when it all came crashing down.\\\\n> \\\\n> So what?  Nobody is guaranteed employment.  Laying people off is not a\\\\n> crime nor is it immoral.  Companies don\\'t exist to provide employment,\\\\n> nor should they.  The closest we have to such a thing in the US is a\\\\n> Government Job, and look at the quality THAT breeds.\\\\n\\\\nAnd further, why focus on the fact they were laid off and not on the\\\\nfact they were hired in the first place?\\\\n\\\\nBTW: I saw someone claim that aside from the efficiency of the market\\\\nthere were also gains to society from irrational behavior.\\\\n\\\\nIf a society has business people that systematically overestimate their\\\\nchances, that is bad for the businessmen but on net a big gain for\\\\nsociety.  On the social level, the law of averages works to societies\\\\nbenefit in a manner it can\\'t for an individual.\\\\n\\\\nA key reason, in this view, that the US wound up outperforming England\\\\nwas that the English investors were too rational for their societies own\\\\ngood.\\\\n\\\\n(Except, of course, when US investors were bilking them to build canals\\\\nand railroads over here.  Thanks, guys.)\\\\n\\\\n=====================\\\\n\\\\nApplied to telecom: a lot of dark wire (glass) and innovation will\\\\neventually be used for pennies on the dollar, the benefits to society\\\\nand the costs to the investors.\\\\n\\\\n\\\\n\\\\n\\\\n\\\\n\\\\n\"'}\n"
          ]
        }
      ]
    },
    {
      "cell_type": "code",
      "source": [
        "# Convert dataset to Pandas DataFrame for easier handling\n",
        "df = pd.DataFrame(ds[\"train\"])  # Convert 'train' split to DataFrame\n",
        "df.head()"
      ],
      "metadata": {
        "id": "6Jg-XgqQ89aU",
        "outputId": "1d916ed4-16d2-4cb4-f0e2-a4351523c3e4",
        "colab": {
          "base_uri": "https://localhost:8080/",
          "height": 206
        }
      },
      "execution_count": 13,
      "outputs": [
        {
          "output_type": "execute_result",
          "data": {
            "text/plain": [
              "   label     group                                               text\n",
              "0      1  easy_ham  \"\\n> From: fork-admin@xent.com [mailto:fork-ad...\n",
              "1      1  easy_ham  \"Hi,\\n\\nOn Sun, 01 Sep 2002 00:05:03 MDT Reg C...\n",
              "2      1  easy_ham  \"On Fri Sep 13 2002 at 02:03, Robert Elz wrote...\n",
              "3      1  easy_ham  \"On Thu, 2002-08-29 at 01:06, Matthias Saou wr...\n",
              "4      1  easy_ham  \"Hi, I'm building an rpm for the resin webserv..."
            ],
            "text/html": [
              "\n",
              "  <div id=\"df-fef13355-13e4-4537-a782-71282a4f766d\" class=\"colab-df-container\">\n",
              "    <div>\n",
              "<style scoped>\n",
              "    .dataframe tbody tr th:only-of-type {\n",
              "        vertical-align: middle;\n",
              "    }\n",
              "\n",
              "    .dataframe tbody tr th {\n",
              "        vertical-align: top;\n",
              "    }\n",
              "\n",
              "    .dataframe thead th {\n",
              "        text-align: right;\n",
              "    }\n",
              "</style>\n",
              "<table border=\"1\" class=\"dataframe\">\n",
              "  <thead>\n",
              "    <tr style=\"text-align: right;\">\n",
              "      <th></th>\n",
              "      <th>label</th>\n",
              "      <th>group</th>\n",
              "      <th>text</th>\n",
              "    </tr>\n",
              "  </thead>\n",
              "  <tbody>\n",
              "    <tr>\n",
              "      <th>0</th>\n",
              "      <td>1</td>\n",
              "      <td>easy_ham</td>\n",
              "      <td>\"\\n&gt; From: fork-admin@xent.com [mailto:fork-ad...</td>\n",
              "    </tr>\n",
              "    <tr>\n",
              "      <th>1</th>\n",
              "      <td>1</td>\n",
              "      <td>easy_ham</td>\n",
              "      <td>\"Hi,\\n\\nOn Sun, 01 Sep 2002 00:05:03 MDT Reg C...</td>\n",
              "    </tr>\n",
              "    <tr>\n",
              "      <th>2</th>\n",
              "      <td>1</td>\n",
              "      <td>easy_ham</td>\n",
              "      <td>\"On Fri Sep 13 2002 at 02:03, Robert Elz wrote...</td>\n",
              "    </tr>\n",
              "    <tr>\n",
              "      <th>3</th>\n",
              "      <td>1</td>\n",
              "      <td>easy_ham</td>\n",
              "      <td>\"On Thu, 2002-08-29 at 01:06, Matthias Saou wr...</td>\n",
              "    </tr>\n",
              "    <tr>\n",
              "      <th>4</th>\n",
              "      <td>1</td>\n",
              "      <td>easy_ham</td>\n",
              "      <td>\"Hi, I'm building an rpm for the resin webserv...</td>\n",
              "    </tr>\n",
              "  </tbody>\n",
              "</table>\n",
              "</div>\n",
              "    <div class=\"colab-df-buttons\">\n",
              "\n",
              "  <div class=\"colab-df-container\">\n",
              "    <button class=\"colab-df-convert\" onclick=\"convertToInteractive('df-fef13355-13e4-4537-a782-71282a4f766d')\"\n",
              "            title=\"Convert this dataframe to an interactive table.\"\n",
              "            style=\"display:none;\">\n",
              "\n",
              "  <svg xmlns=\"http://www.w3.org/2000/svg\" height=\"24px\" viewBox=\"0 -960 960 960\">\n",
              "    <path d=\"M120-120v-720h720v720H120Zm60-500h600v-160H180v160Zm220 220h160v-160H400v160Zm0 220h160v-160H400v160ZM180-400h160v-160H180v160Zm440 0h160v-160H620v160ZM180-180h160v-160H180v160Zm440 0h160v-160H620v160Z\"/>\n",
              "  </svg>\n",
              "    </button>\n",
              "\n",
              "  <style>\n",
              "    .colab-df-container {\n",
              "      display:flex;\n",
              "      gap: 12px;\n",
              "    }\n",
              "\n",
              "    .colab-df-convert {\n",
              "      background-color: #E8F0FE;\n",
              "      border: none;\n",
              "      border-radius: 50%;\n",
              "      cursor: pointer;\n",
              "      display: none;\n",
              "      fill: #1967D2;\n",
              "      height: 32px;\n",
              "      padding: 0 0 0 0;\n",
              "      width: 32px;\n",
              "    }\n",
              "\n",
              "    .colab-df-convert:hover {\n",
              "      background-color: #E2EBFA;\n",
              "      box-shadow: 0px 1px 2px rgba(60, 64, 67, 0.3), 0px 1px 3px 1px rgba(60, 64, 67, 0.15);\n",
              "      fill: #174EA6;\n",
              "    }\n",
              "\n",
              "    .colab-df-buttons div {\n",
              "      margin-bottom: 4px;\n",
              "    }\n",
              "\n",
              "    [theme=dark] .colab-df-convert {\n",
              "      background-color: #3B4455;\n",
              "      fill: #D2E3FC;\n",
              "    }\n",
              "\n",
              "    [theme=dark] .colab-df-convert:hover {\n",
              "      background-color: #434B5C;\n",
              "      box-shadow: 0px 1px 3px 1px rgba(0, 0, 0, 0.15);\n",
              "      filter: drop-shadow(0px 1px 2px rgba(0, 0, 0, 0.3));\n",
              "      fill: #FFFFFF;\n",
              "    }\n",
              "  </style>\n",
              "\n",
              "    <script>\n",
              "      const buttonEl =\n",
              "        document.querySelector('#df-fef13355-13e4-4537-a782-71282a4f766d button.colab-df-convert');\n",
              "      buttonEl.style.display =\n",
              "        google.colab.kernel.accessAllowed ? 'block' : 'none';\n",
              "\n",
              "      async function convertToInteractive(key) {\n",
              "        const element = document.querySelector('#df-fef13355-13e4-4537-a782-71282a4f766d');\n",
              "        const dataTable =\n",
              "          await google.colab.kernel.invokeFunction('convertToInteractive',\n",
              "                                                    [key], {});\n",
              "        if (!dataTable) return;\n",
              "\n",
              "        const docLinkHtml = 'Like what you see? Visit the ' +\n",
              "          '<a target=\"_blank\" href=https://colab.research.google.com/notebooks/data_table.ipynb>data table notebook</a>'\n",
              "          + ' to learn more about interactive tables.';\n",
              "        element.innerHTML = '';\n",
              "        dataTable['output_type'] = 'display_data';\n",
              "        await google.colab.output.renderOutput(dataTable, element);\n",
              "        const docLink = document.createElement('div');\n",
              "        docLink.innerHTML = docLinkHtml;\n",
              "        element.appendChild(docLink);\n",
              "      }\n",
              "    </script>\n",
              "  </div>\n",
              "\n",
              "\n",
              "<div id=\"df-f0a8c099-e4de-44f9-99af-43bb9487591e\">\n",
              "  <button class=\"colab-df-quickchart\" onclick=\"quickchart('df-f0a8c099-e4de-44f9-99af-43bb9487591e')\"\n",
              "            title=\"Suggest charts\"\n",
              "            style=\"display:none;\">\n",
              "\n",
              "<svg xmlns=\"http://www.w3.org/2000/svg\" height=\"24px\"viewBox=\"0 0 24 24\"\n",
              "     width=\"24px\">\n",
              "    <g>\n",
              "        <path d=\"M19 3H5c-1.1 0-2 .9-2 2v14c0 1.1.9 2 2 2h14c1.1 0 2-.9 2-2V5c0-1.1-.9-2-2-2zM9 17H7v-7h2v7zm4 0h-2V7h2v10zm4 0h-2v-4h2v4z\"/>\n",
              "    </g>\n",
              "</svg>\n",
              "  </button>\n",
              "\n",
              "<style>\n",
              "  .colab-df-quickchart {\n",
              "      --bg-color: #E8F0FE;\n",
              "      --fill-color: #1967D2;\n",
              "      --hover-bg-color: #E2EBFA;\n",
              "      --hover-fill-color: #174EA6;\n",
              "      --disabled-fill-color: #AAA;\n",
              "      --disabled-bg-color: #DDD;\n",
              "  }\n",
              "\n",
              "  [theme=dark] .colab-df-quickchart {\n",
              "      --bg-color: #3B4455;\n",
              "      --fill-color: #D2E3FC;\n",
              "      --hover-bg-color: #434B5C;\n",
              "      --hover-fill-color: #FFFFFF;\n",
              "      --disabled-bg-color: #3B4455;\n",
              "      --disabled-fill-color: #666;\n",
              "  }\n",
              "\n",
              "  .colab-df-quickchart {\n",
              "    background-color: var(--bg-color);\n",
              "    border: none;\n",
              "    border-radius: 50%;\n",
              "    cursor: pointer;\n",
              "    display: none;\n",
              "    fill: var(--fill-color);\n",
              "    height: 32px;\n",
              "    padding: 0;\n",
              "    width: 32px;\n",
              "  }\n",
              "\n",
              "  .colab-df-quickchart:hover {\n",
              "    background-color: var(--hover-bg-color);\n",
              "    box-shadow: 0 1px 2px rgba(60, 64, 67, 0.3), 0 1px 3px 1px rgba(60, 64, 67, 0.15);\n",
              "    fill: var(--button-hover-fill-color);\n",
              "  }\n",
              "\n",
              "  .colab-df-quickchart-complete:disabled,\n",
              "  .colab-df-quickchart-complete:disabled:hover {\n",
              "    background-color: var(--disabled-bg-color);\n",
              "    fill: var(--disabled-fill-color);\n",
              "    box-shadow: none;\n",
              "  }\n",
              "\n",
              "  .colab-df-spinner {\n",
              "    border: 2px solid var(--fill-color);\n",
              "    border-color: transparent;\n",
              "    border-bottom-color: var(--fill-color);\n",
              "    animation:\n",
              "      spin 1s steps(1) infinite;\n",
              "  }\n",
              "\n",
              "  @keyframes spin {\n",
              "    0% {\n",
              "      border-color: transparent;\n",
              "      border-bottom-color: var(--fill-color);\n",
              "      border-left-color: var(--fill-color);\n",
              "    }\n",
              "    20% {\n",
              "      border-color: transparent;\n",
              "      border-left-color: var(--fill-color);\n",
              "      border-top-color: var(--fill-color);\n",
              "    }\n",
              "    30% {\n",
              "      border-color: transparent;\n",
              "      border-left-color: var(--fill-color);\n",
              "      border-top-color: var(--fill-color);\n",
              "      border-right-color: var(--fill-color);\n",
              "    }\n",
              "    40% {\n",
              "      border-color: transparent;\n",
              "      border-right-color: var(--fill-color);\n",
              "      border-top-color: var(--fill-color);\n",
              "    }\n",
              "    60% {\n",
              "      border-color: transparent;\n",
              "      border-right-color: var(--fill-color);\n",
              "    }\n",
              "    80% {\n",
              "      border-color: transparent;\n",
              "      border-right-color: var(--fill-color);\n",
              "      border-bottom-color: var(--fill-color);\n",
              "    }\n",
              "    90% {\n",
              "      border-color: transparent;\n",
              "      border-bottom-color: var(--fill-color);\n",
              "    }\n",
              "  }\n",
              "</style>\n",
              "\n",
              "  <script>\n",
              "    async function quickchart(key) {\n",
              "      const quickchartButtonEl =\n",
              "        document.querySelector('#' + key + ' button');\n",
              "      quickchartButtonEl.disabled = true;  // To prevent multiple clicks.\n",
              "      quickchartButtonEl.classList.add('colab-df-spinner');\n",
              "      try {\n",
              "        const charts = await google.colab.kernel.invokeFunction(\n",
              "            'suggestCharts', [key], {});\n",
              "      } catch (error) {\n",
              "        console.error('Error during call to suggestCharts:', error);\n",
              "      }\n",
              "      quickchartButtonEl.classList.remove('colab-df-spinner');\n",
              "      quickchartButtonEl.classList.add('colab-df-quickchart-complete');\n",
              "    }\n",
              "    (() => {\n",
              "      let quickchartButtonEl =\n",
              "        document.querySelector('#df-f0a8c099-e4de-44f9-99af-43bb9487591e button');\n",
              "      quickchartButtonEl.style.display =\n",
              "        google.colab.kernel.accessAllowed ? 'block' : 'none';\n",
              "    })();\n",
              "  </script>\n",
              "</div>\n",
              "\n",
              "    </div>\n",
              "  </div>\n"
            ],
            "application/vnd.google.colaboratory.intrinsic+json": {
              "type": "dataframe",
              "variable_name": "df",
              "summary": "{\n  \"name\": \"df\",\n  \"rows\": 10749,\n  \"fields\": [\n    {\n      \"column\": \"label\",\n      \"properties\": {\n        \"dtype\": \"number\",\n        \"std\": 0,\n        \"min\": 0,\n        \"max\": 1,\n        \"num_unique_values\": 2,\n        \"samples\": [\n          0,\n          1\n        ],\n        \"semantic_type\": \"\",\n        \"description\": \"\"\n      }\n    },\n    {\n      \"column\": \"group\",\n      \"properties\": {\n        \"dtype\": \"category\",\n        \"num_unique_values\": 5,\n        \"samples\": [\n          \"hard_ham\",\n          \"spam_2\"\n        ],\n        \"semantic_type\": \"\",\n        \"description\": \"\"\n      }\n    },\n    {\n      \"column\": \"text\",\n      \"properties\": {\n        \"dtype\": \"string\",\n        \"num_unique_values\": 6098,\n        \"samples\": [\n          \"[\\\"To view this newsletter in full-color, visit:\\\\nhttp://newsletter.mediaunspun.com/index000018970.cfm\\\\n\\\\nM E D I A  U N S P U N\\\\nWhat the Press is Reporting and Why (www.mediaunspun.com)\\\\n-----------------------------------------------------------------\\\\nAugust 14, 2002\\\\n\\\\n-----------------------------------------------------------------\\\\nIN THIS ISSUE\\\\n-----------------------------------------------------------------\\\\n* SEC EXPOSES BIG BLUE'S PINK SLIPS\\\\n* SYNERGY AND BETRAYAL AT VIVENDI\\\\n* OTHER STORIES\\\\n\\\\nMedia Unspun serves business news and analysis, authoritatively\\\\nand irreverently, every business day. An annual subscription\\\\ncosts $50, less than a dollar a week. If your four-week free\\\\ntrial is coming to an end soon, please visit\\\\nhttp://www.mediaunspun.com/subscribe.html and sign up via credit card \\\\nor check.\\\\n\\\\n\\\\n-----------------------------------------------------------------\\\\nADVERTISEMENT\\\\n-----------------------------------------------------------------\\\\nKen Fisher offers his Quarterly Report for high net worth\\\\ninvestors FREE of cost & without obligation. Access the same\\\\ninvestment research he uses to guide his clients at:\\\\nhttp://pcg.fisherinvestments.com/newrespond/letter.asp?site=UNSP&KC=1229EFCAD0000\\\\n\\\\n\\\\n-----------------------------------------------------------------\\\\nSEC EXPOSES BIG BLUE'S PINK SLIPS\\\\n-----------------------------------------------------------------\\\\nDoes the Securities and Exchange Commission have a press pass\\\\nyet? It seems to be bringing us all our news lately. On the day\\\\nof the deadline for companies to certify their financial\\\\nstatements with the SEC, the business press squirmed and waited\\\\nfor the next Enron or WorldCom. (We might eat these words\\\\ntomorrow, but we doubt it.) In an unrelated confession, IBM gave \\\\nthe commission its latest layoff numbers.\\\\n\\\\nIBM talked about pink slips during its second-quarter earnings\\\\nreport, but with a vagueness worthy of your daily horoscope.\\\\n(\\\\\\\"Capricorn: Career changes may be on their way...\\\\\\\") Only after\\\\n\\\\\\\"months of surreptitious layoff notices\\\\\\\" did the company admit\\\\nthat it's cutting more than 15,600 jobs, said the AP. That's\\\\nabout 5% of its workforce, and a lot more than pundits expected. \\\\nAn IBM spokesperson told the Wall Street Journal the higher\\\\nnumber was due to \\\\\\\"rebalancing\\\\\\\" and more employees than expected \\\\ntaking voluntary layoffs. \\\\n\\\\nSorry, we're still back on \\\\\\\"rebalancing.\\\\\\\" Did IBM \\\\\\\"rightsize\\\\\\\"\\\\nlast quarter, too?\\\\n\\\\nIBM's news was still trickling out Wednesday morning, but some\\\\ndetails were available. About 1,400 workers got cut from IBM's\\\\nmicroelectronics unit, and most of the rest were from IT\\\\nservices and consulting. (That ought to make IBM's new employees \\\\nfrom PricewaterhouseCoopers feel all warm and fuzzy inside.)\\\\nLook for news updates from cities that will see the cuts, such\\\\nas Austin and Raleigh. \\\\n\\\\nOK, none of this is good. Two years into the tech slump, we're\\\\nstill tired of seeing people get sacked. But was it really so\\\\nbad that IBM only revealed it because of new accounting\\\\nregulations? Nah, Big Blue was always known for \\\\\\\"stealth\\\\nlayoffs,\\\\\\\" as CNN put it, but current corporate scrutiny forced\\\\nit to 'fess up for once. Until now, IBM would acknowledge the\\\\nlatest layoffs if reporters called and asked, but wouldn't give\\\\nspecifics. Yeesh. - Jen Muehlbauer\\\\n\\\\nIBM Cut 5% of Staff in Period, Double the Expected Number\\\\nhttp://online.wsj.com/article/0,,SB1029282408667791835,00.html\\\\n(Paid subscription required.) \\\\n\\\\nIBM to Cut Over 15,000 Employees (AP)\\\\nhttp://tinyurl.com/10kz\\\\n\\\\nIBM confirms 15,600 job cuts (Reuters)\\\\nhttp://www.msnbc.com/news/793777.asp \\\\n\\\\nIBM cutting 15,000 jobs \\\\nhttp://news.com.com/2100-1001-949677.html\\\\n\\\\nIBM job cuts exceed 15,600\\\\nhttp://money.cnn.com/2002/08/13/technology/ibm/index.htm\\\\n\\\\nIBM puts job cuts at 15,600, with fewer than 50 in this state\\\\nhttp://seattlepi.nwsource.com/business/82508_ibm14.shtml\\\\n\\\\n-----------------------------------------------------------------\\\\nADVERTISEMENT\\\\n-----------------------------------------------------------------\\\\nYou've heard about identity management, but do you know about\\\\nthe opportunities and business models that will emerge as a\\\\nresult? Download a free executive summary of Esther Dyson's coverage of\\\\nidentity management in Release 1.0. Learn more about the\\\\nexpanding market for these services and applications.\\\\nhttp://release1.edventure.com/executivesummary.cfm?MCode=Unspun\\\\n\\\\n-----------------------------------------------------------------\\\\nSYNERGY AND BETRAYAL AT VIVENDI\\\\n-----------------------------------------------------------------\\\\nSynergy always was a fuzzy concept. Now Vivendi Universal's top\\\\nman has slammed the lid on it. The French company announced\\\\ntoday that it's ready to peddle $9.8 billion in assets to rustle \\\\nup some cash. First up on the block? Synergy-less U.S. book\\\\npublisher Houghton Mifflin. \\\\n\\\\nIt's unclear whether new chairman Jean-Rene Fourtou has genuine\\\\nturnaround muscle, or whether he and Vivendi's board are simply\\\\nfollowing the winds of post-merger fashion. But when you owe\\\\n$18.7 billion, you get real practical, real fast. The Guardian\\\\nreported that Vivendi's share price sank 5% on Tuesday when\\\\ninvestors got the willies about the company's impending\\\\nannouncement on its financial health. But the company had\\\\npositive news to report: It's making money. Revenue in the first \\\\nhalf was up 13%, higher than analysts' estimates of a 7.7%\\\\nboost. \\\\n\\\\nDetails are scant on the breadth of Fourtou's restructuring\\\\nefforts, with more information expected at the next board\\\\nmeeting on September 25, according to reporters. Houghton\\\\nMifflin, acquired a year ago for $1.7 billion, and a vague\\\\nexplanation that included the \\\\\\\"Curious George\\\\\\\" character, were\\\\nthe only properties named for sale so far. The Guardian\\\\nspeculated that Vivendi will also sell its U.S. video games\\\\nbusiness and possibly its stake in the French mobile phone\\\\ncompany SFR, a debatable sale because of the cash it generates,\\\\naccording to the newspaper. \\\\n\\\\nMeanwhile, Fourtou's predecessor, Jean-Marie Messier, continues\\\\nto advocate empire-building. The New York Post said its sources\\\\nsay Messier hopes his former employer will feel generous enough\\\\nto let him continue to reside in his $17 million Manhattan\\\\nabode. And Bloomberg reported earlier this week that an\\\\nunrepentant Messier is penning a memoir as he vacations in the\\\\nMediterranean. The working title? \\\\\\\"How I Was Betrayed.\\\\\\\"  -\\\\nDeborah Asbrand \\\\n\\\\nVivendi to Sell Publisher Houghton Mifflin (Reuters)\\\\nhttp://www.washingtonpost.com/wp-dyn/articles/A15954-2002Aug14.html\\\\n\\\\nVivendi investors expect the worst\\\\nhttp://www.guardian.co.uk/business/story/0,3604,774190,00.html\\\\n\\\\nVivendi to Sell $9.8 Billion In Assets, Including Houghton\\\\nhttp://online.wsj.com/article/0,,SB102931297119161715,00.html\\\\n(Paid subscription required.) \\\\n\\\\nOusted Messier Aims To Score $17m Vivendi Pad\\\\nhttp://www.nypost.com/business/54701.htm\\\\n\\\\nEx-Chief of Vivendi Plans Tell-All Book (Bloomberg)\\\\nhttp://www.nytimes.com/2002/08/12/business/media/12VIVE.html\\\\n\\\\n-----------------------------------------------------------------\\\\nOTHER STORIES\\\\n-----------------------------------------------------------------\\\\nA Top AOL Manager Has Left Company\\\\nhttp://www.nytimes.com/2002/08/14/technology/14AOL.html\\\\n\\\\nFed Holds Steady on Interest Rates \\\\nhttp://www.washingtonpost.com/wp-dyn/articles/A14636-2002Aug13.html\\\\n\\\\nAmtrak halts all high-speed service after finding cracks\\\\nhttp://www.sunspot.net/bal-te.train14aug14.story\\\\n\\\\nAOL lets resigning exec keep stock options \\\\nhttp://www.usatoday.com/money/industries/technology/2002-08-13-aol-pittman_x.htm\\\\n\\\\nLucent licensing deal with Winstar focus of probe (AP)\\\\nhttp://www.bayarea.com/mld/mercurynews/business/3861117.htm\\\\n\\\\nStudy Says Net Could Benefit Music Firms\\\\nhttp://www.latimes.com/business/la-fi-music14aug14.story\\\\n\\\\nEisner Crimping His Own Style\\\\nhttp://www.latimes.com/business/la-fi-disney14aug14.story\\\\n\\\\nSeverance claims by Enron former execs anger ex-workers\\\\nhttp://www.chron.com/cs/CDA/story.hts/business/1533657\\\\n\\\\nPrinceton removes dean after Yale Web site flap (AP)\\\\nhttp://www.siliconvalley.com/mld/siliconvalley/3857890.htm\\\\n\\\\nFrisbee golf creator dies, may land on someone's roof (SF\\\\nChronicle)\\\\nhttp://seattlepi.nwsource.com/national/82560_frisbee14.shtml\\\\n\\\\nWill Kinsley's Slate Get Wiped?\\\\nhttp://www.ojr.org/ojr/kramer/1029281360.php\\\\n\\\\nHollywood, Russian Bicker Over Bass\\\\nhttp://www.cnn.com/2002/SHOWBIZ/News/08/13/bassspace.hollywood.ap/\\\\n\\\\n-----------------------------------------------------------------\\\\nDo you want to reach the Net's savviest audience?\\\\nAdvertise in Media Unspun.\\\\nContact Erik Vanderkolk for details at erikvanderkolk@yahoo.com \\\\ntoday.\\\\n\\\\n-----------------------------------------------------------------\\\\nSTAFF\\\\n-----------------------------------------------------------------\\\\nWritten by Deborah Asbrand (dasbrand@world.std.com), Keith\\\\nDawson (dawson@world.std.com), Jen Muehlbauer\\\\n(jen@englishmajor.com), and Lori Patel (loripatel@hotmail.com).\\\\n\\\\nCopyedited by Jim Duffy (jimduffy86@yahoo.com). \\\\n\\\\nMarketing: Cowpoke Productions (cowpokeproductions.com).\\\\nAdvertising: Erik Vanderkolk (erikvanderkolk@yahoo.com). \\\\n\\\\nEditor and publisher: Jimmy Guterman (guterman@vineyard.com).\\\\n\\\\nMedia Unspun is produced by The Vineyard Group Inc. \\\\nCopyright 2002 Media Unspun, Inc., and The Vineyard Group, Inc.\\\\nSubscribe already, willya? http://www.mediaunspun.com \\\\n\\\\nRedistribution by email is permitted as long as a link to\\\\nhttp://newsletter.mediaunspun.com is included.\\\\n\\\\n-|________________\\\\nPOWERED BY: http://www.imakenews.com\\\\nTo be removed from this list, use this link:\\\\nhttp://www.imakenews.com/eletra/remove.cfm?x=mediaunspun%2Czzz-unspun@example.com\\\\nTo receive future messages in HTML format, use this link:\\\\nhttp://www.imakenews.com/eletra/change.cfm?x=mediaunspun%2Czzz-unspun@example.com%2Chtm\\\\nTo change your subscriber information, use this link:\\\\nhttp://www.imakenews.com/eletra/update.cfm?x=mediaunspun%2Czzz-unspun@example.com\\\\n\\\\n\\\", \\\"\\\\n\\\\n\\\\n\\\\n\\\\n\\\\n\\\\n\\\\n\\\\n \\\\n\\\\n\\\\n\\\\n\\\\n\\\\n\\\\n\\\\n\\\\n\\\\n\\\\n\\\\n\\\\n\\\\n\\\\n\\\\n \\\\n \\\\n<HTML>\\\\n<HEAD>\\\\n<title>M E D I A  U N S P U N</title>\\\\n\\\\n \\\\n \\\\n<!--  \\\\n**********************************************************\\\\nIf you can read this message but the rest of the email \\\\ncontains strange characters, your email program is not\\\\ncapable of displaying HTML email. Use your browser to read the\\\\ncomplete newsletter online at: \\\\n   http://newsletter.mediaunspun.com/\\\\nTo receive future messages in plain text format, use this link:\\\\nhttp://www.imakenews.com/eletra/change.cfm?x=mediaunspun%2Czzz-unspun@example.com%2Ctxt\\\\n\\\\n**********************************************************\\\\nCREATED: August 14, 2002   \\\\n-->\\\\n<meta name=\\\\\\\"description\\\\\\\" content=\\\\\\\"\\\\\\\">\\\\n<meta name=\\\\\\\"keywords\\\\\\\" content=\\\\\\\"\\\\\\\">\\\\n<meta name=\\\\\\\"GENERATOR\\\\\\\" content=\\\\\\\"iMakeNews\\\\\\\">\\\\n<meta name=\\\\\\\"robots\\\\\\\" content=\\\\\\\"ALL\\\\\\\">\\\\n\\\\n \\\\n\\\\t\\\\n\\\\n\\\\n<style type=\\\\\\\"text/css\\\\\\\">\\\\n<!--\\\\n \\\\n .link {color:#000000; text-decoration:   none; }\\\\t.link:hover {color:#FF3300; text-decoration:underline;}\\\\t\\\\n\\\\n\\\\t.g-article_title, .g-article_url, .g-article_full_story,\\\\n\\\\t.g-article_printer_link, .g-contents_article_title,\\\\n\\\\t.g-topics_topic_title, .g-issue_issue_title, .g-issue_issue_info,\\\\n\\\\t.g-survey_results_link, .g-menu_link, .g-letter_summary_title,\\\\n\\\\t.g-letter_summary_author, .g-letter_summary_date,\\\\n\\\\t.g-letter_summary_location, .g-letter_post, .g-letter_view_title,\\\\n\\\\t.g-letter_view_author, .g-letter_view_post, .g-footer_publisher,\\\\n\\\\t.g-footer_tellafriend, .g-footer_archive, .g-footer_pdf\\\\n\\\\t{color:#000000;text-decoration:none}\\\\n\\\\t.g-article_title:hover, .g-article_url:hover,\\\\n\\\\t.g-article_full_story:hover, .g-article_printer_link:hover,\\\\n\\\\t.g-contents_article_title:hover, .g-topics_topic_title:hover,\\\\n\\\\t.g-issue_issue_title:hover, .g-issue_issue_info:hover,\\\\n\\\\t.g-survey_results_link:hover, .g-menu_link:hover,\\\\n\\\\t.g-letter_summary_title:hover, .g-letter_summary_author:hover,\\\\n\\\\t.g-letter_summary_date:hover, .g-letter_summary_location:hover, \\\\n\\\\t.g-letter_post:hover, .g-letter_view_title:hover,\\\\n\\\\t.g-letter_view_author:hover, .g-letter_view_post:hover,\\\\n\\\\t.g-footer_publisher:hover, .g-footer_tellafriend:hover,\\\\n\\\\t.g-footer_archive:hover, .g-footer_pdf:hover\\\\n\\\\t{color:#FF0000;text-decoration:underline}\\\\n\\\\t\\\\n\\\\n-->\\\\n</style>\\\\n\\\\n<!-- Footer Styles -->\\\\n<style type='text/css'>\\\\n<!--\\\\n.a226814927149384-section_heading{color:#FFFFFF;background-color:#000000;font-family:arial;font-size:x-small;font-weight:bold;font-style:normal;text-decoration:none;text-align:left}\\\\n.a226814927149384-footer_publisher{color:#000000;background-color:transparent;font-family:verdana;font-size:xx-small;font-weight:normal;font-style:normal;text-decoration:none}\\\\n.a226814927149384-footer_publisher:hover{color:#FF0000;background-color:transparent;font-family:verdana;font-size:xx-small;font-weight:normal;font-style:normal;text-decoration:underline}\\\\n.a226814927149384-footer_copyright{color:#000000;background-color:transparent;font-family:verdana;font-size:xx-small;font-weight:normal;font-style:normal;text-decoration:none}\\\\n.a226814927149384-footer_disclaimer{color:#000000;background-color:transparent;font-family:verdana;font-size:xx-small;font-weight:normal;font-style:normal;text-decoration:none}\\\\n.a226814927149384-footer_tellafriend{color:#000000;background-color:transparent;font-family:verdana;font-size:xx-small;font-weight:bold;font-style:normal;text-decoration:underline}\\\\n.a226814927149384-footer_tellafriend:hover{color:#FF0000;background-color:transparent;font-family:verdana;font-size:xx-small;font-weight:bold;font-style:normal;text-decoration:underline}\\\\n.a226814927149384-footer_archive{color:#000000;background-color:transparent;font-family:verdana;font-size:xx-small;font-weight:bold;font-style:normal;text-decoration:none}\\\\n.a226814927149384-footer_archive:hover{color:#FF0000;background-color:transparent;font-family:verdana;font-size:xx-small;font-weight:bold;font-style:normal;text-decoration:underline}\\\\n.a226814927149384-footer_pdf{color:#000000;background-color:transparent;font-family:verdana;font-size:xx-small;font-weight:bold;font-style:normal;text-decoration:none}\\\\n.a226814927149384-footer_pdf:hover{color:#FF0000;background-color:transparent;font-family:verdana;font-size:xx-small;font-weight:bold;font-style:normal;text-decoration:underline}\\\\n\\\\n-->\\\\n</style>\\\\n\\\\n\\\\n<!-- Article View Styles -->\\\\n<style type='text/css'>\\\\n<!--\\\\n.a226814927144888-section_heading{color:#FFFFFF;background-color:#000000;font-family:arial;font-size:x-small;font-weight:bold;font-style:normal;text-decoration:none;text-align:left}\\\\n.a226814927144888-contents_article_title{color:#000000;background-color:transparent;font-family:verdana;font-size:xx-small;font-weight:normal;font-style:normal;text-decoration:underline}\\\\n.a226814927144888-contents_article_title:hover{color:#FF0000;background-color:transparent;font-family:verdana;font-size:xx-small;font-weight:normal;font-style:normal;text-decoration:underline}\\\\n\\\\n-->\\\\n</style>\\\\n\\\\n\\\\n<!-- Article View Styles -->\\\\n<style type='text/css'>\\\\n<!--\\\\n.a226814927144469-section_heading{color:#FFFFFF;background-color:#000000;font-family:arial;font-size:x-small;font-weight:bold;font-style:normal;text-decoration:none;text-align:left}\\\\n.a226814927144469-contents_article_title{color:#000000;background-color:transparent;font-family:verdana;font-size:xx-small;font-weight:normal;font-style:normal;text-decoration:underline}\\\\n.a226814927144469-contents_article_title:hover{color:#FF0000;background-color:transparent;font-family:verdana;font-size:xx-small;font-weight:normal;font-style:normal;text-decoration:underline}\\\\n\\\\n-->\\\\n</style>\\\\n\\\\n\\\\n<!-- Footer Styles -->\\\\n<style type='text/css'>\\\\n<!--\\\\n.a226814927151492-section_heading{color:#FFFFFF;background-color:#000000;font-family:arial;font-size:x-small;font-weight:bold;font-style:normal;text-decoration:none;text-align:left}\\\\n.a226814927151492-footer_publisher{color:#000000;background-color:transparent;font-family:verdana;font-size:xx-small;font-weight:normal;font-style:normal;text-decoration:none}\\\\n.a226814927151492-footer_publisher:hover{color:#FF0000;background-color:transparent;font-family:verdana;font-size:xx-small;font-weight:normal;font-style:normal;text-decoration:underline}\\\\n.a226814927151492-footer_copyright{color:#000000;background-color:transparent;font-family:verdana;font-size:xx-small;font-weight:normal;font-style:normal;text-decoration:none}\\\\n.a226814927151492-footer_disclaimer{color:#000000;background-color:transparent;font-family:verdana;font-size:xx-small;font-weight:normal;font-style:normal;text-decoration:none}\\\\n.a226814927151492-footer_tellafriend{color:#000000;background-color:transparent;font-family:verdana;font-size:xx-small;font-weight:bold;font-style:normal;text-decoration:underline}\\\\n.a226814927151492-footer_tellafriend:hover{color:#FF0000;background-color:transparent;font-family:verdana;font-size:xx-small;font-weight:bold;font-style:normal;text-decoration:underline}\\\\n.a226814927151492-footer_archive{color:#000000;background-color:transparent;font-family:verdana;font-size:xx-small;font-weight:bold;font-style:normal;text-decoration:none}\\\\n.a226814927151492-footer_archive:hover{color:#FF0000;background-color:transparent;font-family:verdana;font-size:xx-small;font-weight:bold;font-style:normal;text-decoration:underline}\\\\n.a226814927151492-footer_pdf{color:#000000;background-color:transparent;font-family:verdana;font-size:xx-small;font-weight:bold;font-style:normal;text-decoration:none}\\\\n.a226814927151492-footer_pdf:hover{color:#FF0000;background-color:transparent;font-family:verdana;font-size:xx-small;font-weight:bold;font-style:normal;text-decoration:underline}\\\\n\\\\n-->\\\\n</style>\\\\n\\\\n</head> \\\\n<body bgcolor=\\\\\\\"#EEEEEE\\\\\\\" TEXT=\\\\\\\"#000000\\\\\\\" >\\\\n <div align=\\\\\\\"Left\\\\\\\"> <!--IMN:TOP--><table bgcolor=\\\\\\\"#000000\\\\\\\" border=\\\\\\\"0\\\\\\\" cellpadding=\\\\\\\"1\\\\\\\" cellspacing=\\\\\\\"0\\\\\\\" width=\\\\\\\"650\\\\\\\" >\\\\n<tr><td> <table bgcolor=\\\\\\\"#FFFFFF\\\\\\\" border=\\\\\\\"0\\\\\\\" cellpadding=\\\\\\\"0\\\\\\\" cellspacing=\\\\\\\"0\\\\\\\" width=\\\\\\\"100%\\\\\\\" cols=\\\\\\\"1\\\\\\\">\\\\n\\\\t<tr><td width=\\\\\\\"644\\\\\\\" valign=\\\\\\\"top\\\\\\\" bgcolor=\\\\\\\"#FFFFFF\\\\\\\"><!-- 1,1:footer -->\\\\n\\\\t\\\\t\\\\t\\\\n\\\\t\\\\t\\\\t\\\\t\\\\n\\\\t\\\\t\\\\t\\\\t\\\\n\\\\t\\\\t\\\\t\\\\t \\\\n \\\\n\\\\t\\\\n \\\\n \\\\n\\\\n\\\\t\\\\n\\\\t\\\\n\\\\n\\\\n \\\\n \\\\n\\\\t \\\\n<table width=\\\\\\\"100%\\\\\\\" border=\\\\\\\"0\\\\\\\" cellspacing=\\\\\\\"0\\\\\\\" cellpadding=\\\\\\\"4\\\\\\\" bgcolor=\\\\\\\"#FFFFFF\\\\\\\">\\\\n\\\\n<tr><td bgcolor=\\\\\\\"#FFFFFF\\\\\\\">\\\\n\\\\n\\\\n\\\\t\\\\n\\\\t<div align=\\\\\\\"left\\\\\\\">\\\\n\\\\t<table border=\\\\\\\"0\\\\\\\" cellpadding=\\\\\\\"2\\\\\\\" cellspacing=\\\\\\\"0\\\\\\\" width=\\\\\\\"100%\\\\\\\" bgcolor=\\\\\\\"#FFFFFF\\\\\\\">\\\\n\\\\t  <tr>\\\\n\\\\t    <td>\\\\n\\\\t \\\\n\\\\t\\\\t<font face=\\\\\\\"verdana,arial\\\\\\\" size=\\\\\\\"1\\\\\\\">\\\\n\\\\t\\\\t \\\\n\\\\t\\\\t</font>\\\\n\\\\t \\\\n\\\\t\\\\t</td>\\\\n\\\\t \\\\n\\\\t\\\\t\\\\t\\\\t<td align=\\\\\\\"right\\\\\\\" valign=\\\\\\\"top\\\\\\\">\\\\n\\\\t\\\\t \\\\n\\\\t\\\\t\\\\t<font face=\\\\\\\"verdana,arial\\\\\\\" size=\\\\\\\"1\\\\\\\">\\\\n\\\\t\\\\t\\\\t\\\\n\\\\t\\\\t\\\\t\\\\t\\\\n\\\\t\\\\t\\\\t\\\\n\\\\t\\\\t\\\\t\\\\n\\\\t\\\\t\\\\t<b>\\\\n\\\\t\\\\t\\\\t<a href=\\\\\\\"http://www.imakenews.com/eletra/mod_input_proc.cfm?mod_name=tell_friend_form&XXDESXXuser=mediaunspun&XXDESXXthanks=Thank%20You%2E&XXDESXXsubject=Check%20this%20out%3A%20%5B%5Btitle%5D%5D&XXDESXXheading=&XXDESXXbackto=http://newsletter.mediaunspun.com/index000018970.cfm&XXDESXXissue_id=18970&XXDESXXtitle=M%20E%20D%20I%20A%20%20U%20N%20S%20P%20U%20N\\\\\\\"\\\\n\\\\t\\\\t\\\\t class=\\\\\\\"a226814927149384-footer_tellafriend\\\\\\\">\\\\n\\\\t\\\\t\\\\t<font size=4>Pass it on...</font></a></b>\\\\n\\\\t\\\\t\\\\t\\\\n\\\\t\\\\t\\\\t</font>\\\\n\\\\t\\\\t \\\\n\\\\t\\\\t\\\\t</td>\\\\n\\\\t\\\\t\\\\n\\\\t\\\\t\\\\n\\\\t\\\\t\\\\n\\\\t  </tr>\\\\n\\\\t</table></div>\\\\n\\\\t \\\\n\\\\t</td></tr></table>\\\\n\\\\t\\\\n\\\\n\\\\t\\\\t\\\\t\\\\t\\\\n\\\\t\\\\n\\\\t\\\\n \\\\n\\\\n\\\\n\\\\n\\\\n\\\\n\\\\n\\\\n\\\\n\\\\n\\\\n\\\\n\\\\n\\\\t\\\\n\\\\n\\\\t\\\\t\\\\t\\\\n\\\\t\\\\t\\\\t\\\\n\\\\t\\\\t\\\\t<!-- 1,2:header -->\\\\n\\\\t\\\\t\\\\t\\\\n\\\\t\\\\t\\\\t\\\\t\\\\n\\\\t\\\\t\\\\t\\\\t\\\\t\\\\n\\\\t\\\\t\\\\t\\\\t \\\\n\\\\n\\\\n\\\\n \\\\n\\\\t\\\\n \\\\n\\\\t\\\\n \\\\n \\\\n\\\\t\\\\t\\\\n\\\\t \\\\n\\\\t\\\\t\\\\n\\\\t \\\\n\\\\t \\\\n<table width=\\\\\\\"100%\\\\\\\" border=\\\\\\\"0\\\\\\\" cellspacing=\\\\\\\"0\\\\\\\" cellpadding=\\\\\\\"4\\\\\\\" bgcolor=\\\\\\\"#FFFFFF\\\\\\\">\\\\n\\\\n<tr><td bgcolor=\\\\\\\"#FFFFFF\\\\\\\">\\\\n\\\\n\\\\n\\\\t\\\\t\\\\n\\\\t\\\\t<table border=\\\\\\\"0\\\\\\\" cellpadding=\\\\\\\"1\\\\\\\" cellspacing=\\\\\\\"0\\\\\\\" width=\\\\\\\"100%\\\\\\\">\\\\n\\\\t\\\\t\\\\n\\\\t\\\\t<tr><td colspan = 3>\\\\n\\\\n\\\\t\\\\t\\\\t\\\\n\\\\t\\\\t\\\\t\\\\n\\\\t\\\\t\\\\t\\\\n\\\\t\\\\t\\\\t \\\\t\\\\t\\\\t\\\\n\\\\t\\\\t\\\\t \\\\n\\\\t\\\\t\\\\t\\\\t\\\\n\\\\t\\\\t\\\\t\\\\t\\\\t\\\\n\\\\t\\\\t\\\\t\\\\t\\\\t\\\\t\\\\n\\\\t\\\\t\\\\t\\\\t\\\\t\\\\n\\\\t\\\\t\\\\t\\\\t\\\\n\\\\t\\\\t\\\\t \\\\n\\\\t\\\\t\\\\t\\\\t<a href=\\\\\\\"http://www.mediaunspun.com\\\\\\\">\\\\n\\\\t\\\\t\\\\t\\\\t\\\\n\\\\t\\\\t\\\\t\\\\t<img src=\\\\\\\"http://a298.g.akamai.net/7/298/5382/081402092715/www.imakenews.com/mediaunspun/mediaunspun_logo.GIF\\\\\\\" BORDER=\\\\\\\"0\\\\\\\" alt=\\\\\\\"M E D I A  U N S P U N\\\\\\\" hspace=\\\\\\\"6\\\\\\\" vspace=\\\\\\\"1\\\\\\\" align=\\\\\\\"top\\\\\\\" width=\\\\\\\"150\\\\\\\" ><br>\\\\n\\\\t\\\\t\\\\t\\\\t\\\\n\\\\t\\\\t\\\\t\\\\t</a>\\\\n\\\\t\\\\t\\\\t \\\\n\\\\t\\\\t\\\\t\\\\t\\\\n\\\\t\\\\t\\\\t\\\\t\\\\t<em><font face=\\\\\\\"Arial\\\\\\\" size=\\\\\\\"3\\\\\\\">\\\\n\\\\t\\\\t\\\\t\\\\t\\\\t\\\\n\\\\t\\\\t\\\\t\\\\t\\\\tWhat the Press is Reporting and Why (<a href=\\\\\\\"http://www.mediaunspun.com\\\\\\\">www.mediaunspun.com</a>)\\\\n\\\\t\\\\t\\\\t\\\\t\\\\t\\\\n\\\\t\\\\t\\\\t\\\\t\\\\t</font></em>\\\\n\\\\t\\\\t\\\\t\\\\t\\\\n\\\\t\\\\t\\\\t\\\\n\\\\t\\\\t\\\\t\\\\n\\\\t\\\\t</td></tr>\\\\n\\\\t\\\\t\\\\n\\\\t\\\\t\\\\n\\\\t \\\\t<tr><td colspan=\\\\\\\"3\\\\\\\"><hr noshade size=\\\\\\\"1\\\\\\\"></td></tr>\\\\n\\\\t\\\\t \\\\n\\\\t\\\\t\\\\n\\\\t\\\\t <tr>\\\\n\\\\t\\\\t \\\\n\\\\t\\\\t\\\\t\\\\t<td align=\\\\\\\"left\\\\\\\" width=\\\\\\\"33%\\\\\\\">\\\\n\\\\t\\\\t\\\\t \\\\n\\\\t\\\\t\\\\t\\\\t<font face=\\\\\\\"Verdana, Arial\\\\\\\" size=\\\\\\\"1\\\\\\\">\\\\n\\\\t\\\\t\\\\t\\\\t\\\\n\\\\t\\\\t\\\\t\\\\t\\\\n\\\\t\\\\t\\\\t\\\\t\\\\t\\\\n\\\\t\\\\t\\\\t\\\\t\\\\t\\\\n\\\\t\\\\t\\\\t\\\\t\\\\t\\\\t\\\\n\\\\t\\\\t\\\\t\\\\t\\\\t\\\\t\\\\tWednesday, August 14, 2002\\\\n\\\\t\\\\t\\\\t\\\\t\\\\t\\\\t\\\\n\\\\t\\\\t\\\\t\\\\t\\\\t\\\\n\\\\t\\\\t\\\\t\\\\t\\\\t\\\\n\\\\t\\\\t\\\\t\\\\t\\\\t\\\\n\\\\t\\\\t\\\\t\\\\t</font>\\\\n\\\\t\\\\t\\\\t\\\\n\\\\t\\\\t\\\\t</td>\\\\n\\\\t\\\\t \\\\n\\\\t\\\\t\\\\t\\\\t<td align=\\\\\\\"center\\\\\\\" width=\\\\\\\"34%\\\\\\\">\\\\n\\\\t\\\\t\\\\t \\\\n\\\\t\\\\t\\\\t</td>\\\\n\\\\t\\\\t \\\\n\\\\t\\\\t\\\\t\\\\t<td align=\\\\\\\"right\\\\\\\" width=\\\\\\\"33%\\\\\\\">\\\\n\\\\t\\\\t\\\\t \\\\n\\\\t\\\\t\\\\t</td>\\\\n\\\\t\\\\t \\\\n\\\\t\\\\t</tr>\\\\n\\\\t\\\\t</table>\\\\n\\\\t\\\\t \\\\n\\\\t</td></tr></table>\\\\n\\\\t\\\\n\\\\n\\\\t\\\\t\\\\t\\\\t\\\\n\\\\t\\\\n\\\\n\\\\n\\\\n\\\\t\\\\t\\\\t\\\\n\\\\t\\\\t\\\\t\\\\t\\\\t\\\\t\\\\t\\\\n\\\\t\\\\t\\\\t\\\\n\\\\t\\\\t\\\\t\\\\n\\\\t\\\\t\\\\t<!-- COLUMN: 1 -->\\\\n\\\\t\\\\t\\\\n\\\\t\\\\t</td></tr></table> <table bgcolor=\\\\\\\"#FFFFFF\\\\\\\" border=\\\\\\\"0\\\\\\\" cellpadding=\\\\\\\"0\\\\\\\" cellspacing=\\\\\\\"0\\\\\\\" width=\\\\\\\"100%\\\\\\\" cols=\\\\\\\"2\\\\\\\">\\\\n\\\\t<tr><td width=\\\\\\\"483\\\\\\\" valign=\\\\\\\"top\\\\\\\" bgcolor=\\\\\\\"#FFFFFF\\\\\\\"><!-- 2,1:contents -->\\\\n\\\\t\\\\t\\\\t\\\\n\\\\t\\\\t\\\\t\\\\t\\\\n\\\\t\\\\t\\\\t\\\\t \\\\n\\\\n\\\\n\\\\n \\\\n\\\\t\\\\t\\\\n\\\\t \\\\n\\\\t \\\\n \\\\n \\\\n\\\\t\\\\n \\\\n\\\\t\\\\n\\\\t\\\\n\\\\n \\\\n\\\\t \\\\n<font face=\\\\\\\"verdana,arial\\\\\\\" size=\\\\\\\"2\\\\\\\"><br><FONT face=Arial size=4><STRONG>Top Spins...</STRONG></FONT></font>\\\\n<table width=\\\\\\\"100%\\\\\\\" border=\\\\\\\"0\\\\\\\" cellspacing=\\\\\\\"0\\\\\\\" cellpadding=\\\\\\\"4\\\\\\\" bgcolor=\\\\\\\"#FFFFFF\\\\\\\">\\\\n\\\\n<tr><td bgcolor=\\\\\\\"#FFFFFF\\\\\\\">\\\\n\\\\n\\\\n\\\\t\\\\n\\\\t\\\\n\\\\t<TABLE bgcolor=\\\\\\\"#FFFFFF\\\\\\\" border=\\\\\\\"0\\\\\\\" cellpadding=\\\\\\\"3\\\\\\\" cellspacing=\\\\\\\"0\\\\\\\" width=\\\\\\\"100%\\\\\\\">\\\\n\\\\t\\\\n \\\\n\\\\t\\\\t\\\\n\\\\t \\\\n\\\\t<tr bgcolor=\\\\\\\"#FFFFFF\\\\\\\"><td>\\\\n\\\\t   \\\\n\\\\t\\\\t\\\\t\\\\n\\\\t\\\\t\\\\t\\\\n\\\\t\\\\t\\\\t<font face=\\\\\\\"Verdana,Arial\\\\\\\" size=\\\\\\\"1\\\\\\\">\\\\n\\\\t\\\\t\\\\t\\\\n\\\\t\\\\t\\\\t\\\\n\\\\t\\\\t\\\\t\\\\n\\\\t\\\\t\\\\t\\\\n\\\\t\\\\t\\\\t\\\\t<A HREF=\\\\\\\"#a87727\\\\\\\"\\\\n\\\\t\\\\t\\\\t\\\\t\\\\n\\\\t\\\\t\\\\t\\\\t\\\\t\\\\n\\\\t\\\\t\\\\t\\\\t\\\\t\\\\tclass=\\\\\\\"a226814927144888-contents_article_title\\\\\\\"\\\\n\\\\t\\\\t\\\\t\\\\t\\\\t\\\\n\\\\t\\\\t\\\\t\\\\t>\\\\n\\\\t\\\\t\\\\t\\\\n\\\\t\\\\t\\\\t\\\\t\\\\t\\\\t\\\\n\\\\t\\\\t\\\\t\\\\t\\\\n\\\\t\\\\t\\\\t\\\\n\\\\t\\\\t\\\\tSEC Exposes Big Blue's Pink Slips\\\\n\\\\t\\\\t\\\\t\\\\n\\\\t\\\\t\\\\t\\\\t\\\\n\\\\t\\\\t\\\\t\\\\n\\\\t\\\\t\\\\t\\\\n\\\\t\\\\t\\\\t\\\\n\\\\t\\\\t\\\\t</a></font>\\\\n\\\\t\\\\t\\\\t\\\\n\\\\t\\\\t\\\\t\\\\n\\\\t\\\\t\\\\t\\\\n\\\\t\\\\t\\\\t\\\\n\\\\t\\\\t\\\\t\\\\n\\\\t\\\\t\\\\t<br>\\\\n\\\\t\\\\t </td></tr> \\\\n\\\\t\\\\t\\\\n\\\\t\\\\n \\\\n\\\\t</table>\\\\n\\\\t \\\\n\\\\t</td></tr></table>\\\\n\\\\t\\\\n\\\\n\\\\t\\\\t\\\\t\\\\t\\\\n\\\\n \\\\n\\\\n\\\\n\\\\n\\\\n\\\\t\\\\t\\\\t\\\\n\\\\t\\\\t\\\\t\\\\t\\\\t\\\\n\\\\t\\\\t\\\\t\\\\n\\\\t\\\\t\\\\t\\\\n\\\\t\\\\t\\\\t<!-- 2,2:contents -->\\\\n\\\\t\\\\t\\\\t\\\\n\\\\t\\\\t\\\\t\\\\t\\\\n\\\\t\\\\t\\\\t\\\\t \\\\n\\\\n\\\\n\\\\n \\\\n\\\\t\\\\t\\\\n\\\\t \\\\n\\\\t \\\\n\\\\t\\\\n \\\\n \\\\n\\\\t\\\\n \\\\n\\\\t\\\\n\\\\t\\\\n\\\\n \\\\n\\\\t \\\\n<table width=\\\\\\\"100%\\\\\\\" border=\\\\\\\"0\\\\\\\" cellspacing=\\\\\\\"0\\\\\\\" cellpadding=\\\\\\\"4\\\\\\\" bgcolor=\\\\\\\"#FFFFFF\\\\\\\">\\\\n\\\\n<tr><td bgcolor=\\\\\\\"#FFFFFF\\\\\\\">\\\\n\\\\n\\\\n\\\\t\\\\n\\\\t\\\\n\\\\t<TABLE bgcolor=\\\\\\\"#FFFFFF\\\\\\\" border=\\\\\\\"0\\\\\\\" cellpadding=\\\\\\\"3\\\\\\\" cellspacing=\\\\\\\"0\\\\\\\" width=\\\\\\\"100%\\\\\\\">\\\\n\\\\t\\\\n \\\\n\\\\t\\\\t \\\\n\\\\t \\\\n\\\\t<tr bgcolor=\\\\\\\"#FFFFFF\\\\\\\"><td>\\\\n\\\\t   \\\\n\\\\t\\\\t\\\\t\\\\n\\\\t\\\\t\\\\t\\\\n\\\\t\\\\t\\\\t<font face=\\\\\\\"Verdana,Arial\\\\\\\" size=\\\\\\\"1\\\\\\\">\\\\n\\\\t\\\\t\\\\t\\\\n\\\\t\\\\t\\\\t\\\\n\\\\t\\\\t\\\\t\\\\n\\\\t\\\\t\\\\t\\\\n\\\\t\\\\t\\\\t\\\\t<A HREF=\\\\\\\"#a87728\\\\\\\"\\\\n\\\\t\\\\t\\\\t\\\\t\\\\n\\\\t\\\\t\\\\t\\\\t\\\\t\\\\n\\\\t\\\\t\\\\t\\\\t\\\\t\\\\tclass=\\\\\\\"a226814927144469-contents_article_title\\\\\\\"\\\\n\\\\t\\\\t\\\\t\\\\t\\\\t\\\\n\\\\t\\\\t\\\\t\\\\t>\\\\n\\\\t\\\\t\\\\t\\\\n\\\\t\\\\t\\\\t\\\\t\\\\t\\\\t\\\\n\\\\t\\\\t\\\\t\\\\t\\\\n\\\\t\\\\t\\\\t\\\\n\\\\t\\\\t\\\\tSynergy and Betrayal at Vivendi\\\\n\\\\t\\\\t\\\\t\\\\n\\\\t\\\\t\\\\t\\\\t\\\\n\\\\t\\\\t\\\\t\\\\n\\\\t\\\\t\\\\t\\\\n\\\\t\\\\t\\\\t\\\\n\\\\t\\\\t\\\\t</a></font>\\\\n\\\\t\\\\t\\\\t\\\\n\\\\t\\\\t\\\\t\\\\n\\\\t\\\\t\\\\t\\\\n\\\\t\\\\t\\\\t\\\\n\\\\t\\\\t\\\\t\\\\n\\\\t\\\\t\\\\t<br>\\\\n\\\\t\\\\t </td></tr> <tr><td><img src=\\\\\\\"http://www.imakenews.com/eletra/empty.gif\\\\\\\" height=\\\\\\\"1\\\\\\\" width=\\\\\\\"1\\\\\\\"></td></tr> \\\\n\\\\t\\\\t\\\\n\\\\t \\\\n\\\\t<tr bgcolor=\\\\\\\"#FFFFFF\\\\\\\"><td>\\\\n\\\\t   \\\\n\\\\t\\\\t\\\\t\\\\n\\\\t\\\\t\\\\t\\\\n\\\\t\\\\t\\\\t<font face=\\\\\\\"Verdana,Arial\\\\\\\" size=\\\\\\\"1\\\\\\\">\\\\n\\\\t\\\\t\\\\t\\\\n\\\\t\\\\t\\\\t\\\\n\\\\t\\\\t\\\\t\\\\n\\\\t\\\\t\\\\t\\\\n\\\\t\\\\t\\\\t\\\\t<A HREF=\\\\\\\"#a87730\\\\\\\"\\\\n\\\\t\\\\t\\\\t\\\\t\\\\n\\\\t\\\\t\\\\t\\\\t\\\\t\\\\n\\\\t\\\\t\\\\t\\\\t\\\\t\\\\tclass=\\\\\\\"a226814927144469-contents_article_title\\\\\\\"\\\\n\\\\t\\\\t\\\\t\\\\t\\\\t\\\\n\\\\t\\\\t\\\\t\\\\t>\\\\n\\\\t\\\\t\\\\t\\\\n\\\\t\\\\t\\\\t\\\\t\\\\t\\\\t\\\\n\\\\t\\\\t\\\\t\\\\t\\\\n\\\\t\\\\t\\\\t\\\\n\\\\t\\\\t\\\\tOther Stories\\\\n\\\\t\\\\t\\\\t\\\\n\\\\t\\\\t\\\\t\\\\t\\\\n\\\\t\\\\t\\\\t\\\\n\\\\t\\\\t\\\\t\\\\n\\\\t\\\\t\\\\t\\\\n\\\\t\\\\t\\\\t</a></font>\\\\n\\\\t\\\\t\\\\t\\\\n\\\\t\\\\t\\\\t\\\\n\\\\t\\\\t\\\\t\\\\n\\\\t\\\\t\\\\t\\\\n\\\\t\\\\t\\\\t\\\\n\\\\t\\\\t\\\\t<br>\\\\n\\\\t\\\\t </td></tr> \\\\n\\\\t\\\\t\\\\n\\\\t\\\\n \\\\n\\\\t</table>\\\\n\\\\t \\\\n\\\\t</td></tr></table>\\\\n\\\\t\\\\n\\\\n\\\\t\\\\t\\\\t\\\\t\\\\n\\\\n \\\\n\\\\n\\\\n\\\\n\\\\n\\\\t\\\\t\\\\t\\\\n\\\\t\\\\t\\\\t\\\\t\\\\t\\\\n\\\\t\\\\t\\\\t\\\\n\\\\t\\\\t\\\\t\\\\n\\\\t\\\\t\\\\t<!-- 2,3:article_view -->\\\\n\\\\t\\\\t\\\\t\\\\n\\\\t\\\\t\\\\t\\\\t\\\\n\\\\t\\\\t\\\\t\\\\t\\\\n\\\\t\\\\t\\\\t\\\\t  \\\\n\\\\n\\\\n\\\\n \\\\n\\\\t\\\\t\\\\n\\\\t \\\\n\\\\t \\\\n\\\\t\\\\n \\\\n \\\\n\\\\t\\\\n \\\\n\\\\t \\\\n<font face=\\\\\\\"verdana,arial\\\\\\\" size=\\\\\\\"2\\\\\\\"><br></font>\\\\n<table width=\\\\\\\"100%\\\\\\\" border=\\\\\\\"0\\\\\\\" cellspacing=\\\\\\\"0\\\\\\\" cellpadding=\\\\\\\"4\\\\\\\" bgcolor=\\\\\\\"#FFFFFF\\\\\\\">\\\\n\\\\n<tr><td bgcolor=\\\\\\\"#FFFFFF\\\\\\\">\\\\n\\\\n\\\\n\\\\t\\\\n\\\\t\\\\n\\\\t<TABLE bgcolor=\\\\\\\"#FFFFFF\\\\\\\" border=\\\\\\\"0\\\\\\\" cellpadding=\\\\\\\"3\\\\\\\" cellspacing=\\\\\\\"0\\\\\\\" width=\\\\\\\"100%\\\\\\\">\\\\n\\\\t\\\\n \\\\n\\\\t\\\\t\\\\n\\\\t \\\\n\\\\t<tr bgcolor=\\\\\\\"#FFFFFF\\\\\\\"><td>\\\\n\\\\t <a name=\\\\\\\"a66461\\\\\\\"></a>   \\\\n\\\\t\\\\t\\\\t\\\\n\\\\t\\\\t\\\\t\\\\n\\\\t\\\\t\\\\t<font face=\\\\\\\"Arial\\\\\\\" size=\\\\\\\"4\\\\\\\"><b>\\\\n\\\\t\\\\t\\\\t\\\\n\\\\t\\\\t\\\\t\\\\n\\\\t\\\\t\\\\t\\\\n\\\\t\\\\t\\\\t\\\\n\\\\t\\\\t\\\\t\\\\n\\\\t\\\\t\\\\t\\\\n\\\\t\\\\t\\\\t\\\\n\\\\t\\\\t\\\\t\\\\n\\\\t\\\\t\\\\t</b>\\\\n\\\\t\\\\t\\\\t</font>\\\\n\\\\t\\\\t\\\\t\\\\n\\\\t\\\\t\\\\t\\\\n\\\\t\\\\t\\\\t\\\\n\\\\t\\\\t\\\\t\\\\n\\\\t\\\\t\\\\t\\\\n\\\\t\\\\t\\\\t<br>\\\\n\\\\t\\\\t \\\\n\\\\t\\\\t\\\\t\\\\n\\\\t\\\\t \\\\n\\\\t\\\\t\\\\t<font face=\\\\\\\"verdana,arial\\\\\\\" size=\\\\\\\"2\\\\\\\">\\\\n\\\\t\\\\t\\\\t \\\\n\\\\t\\\\t\\\\t\\\\t\\\\n\\\\t\\\\t\\\\t\\\\t\\\\t\\\\n\\\\t\\\\t\\\\t\\\\t\\\\t \\\\n \\\\n\\\\n\\\\n\\\\n\\\\n\\\\n\\\\n\\\\n\\\\n\\\\n\\\\n\\\\n\\\\n\\\\n\\\\n\\\\n\\\\n\\\\n\\\\n\\\\n\\\\n\\\\n\\\\n\\\\n\\\\n\\\\n\\\\n\\\\n\\\\t\\\\t\\\\t\\\\t\\\\t \\\\n\\\\t\\\\t\\\\n\\\\t\\\\t\\\\n\\\\t \\\\n\\\\t\\\\n \\\\n\\\\t\\\\n\\\\n\\\\n\\\\n\\\\t\\\\t\\\\t\\\\t\\\\t\\\\n\\\\t\\\\t\\\\t\\\\t\\\\t<P>Media Unspun serves business news and analysis, authoritatively and irreverently, every business day. An annual subscription costs $50, less than a dollar a week. If your four-week free trial is coming to an end soon, please visit <A HREF=\\\\\\\"http://www.mediaunspun.com/subscribe.html\\\\\\\">http://www.mediaunspun.com/subscribe.html</A>  and sign up via credit card or check.<br>\\\\n</P>\\\\n\\\\t\\\\t\\\\t\\\\t\\\\t\\\\n\\\\t\\\\t\\\\t\\\\t\\\\t<br>\\\\n\\\\t\\\\t\\\\t\\\\t\\\\n\\\\t\\\\t\\\\t\\\\n\\\\t\\\\t\\\\t</font>\\\\n\\\\t\\\\t </td></tr> \\\\n\\\\t\\\\t\\\\n\\\\t\\\\n \\\\n\\\\t</table>\\\\n\\\\t \\\\n\\\\t</td></tr></table>\\\\n\\\\t\\\\n\\\\n\\\\t\\\\t\\\\t\\\\t\\\\n\\\\n \\\\n\\\\n\\\\n\\\\n\\\\n\\\\n\\\\t\\\\t\\\\t\\\\t\\\\n\\\\t\\\\t\\\\t\\\\t\\\\t\\\\t\\\\t\\\\t\\\\t\\\\n\\\\n\\\\t\\\\t\\\\t\\\\n\\\\t\\\\t\\\\t\\\\n\\\\t\\\\t\\\\t<!-- 2,4:article_view -->\\\\n\\\\t\\\\t\\\\t\\\\n\\\\t\\\\t\\\\t\\\\t\\\\n\\\\t\\\\t\\\\t\\\\t\\\\n\\\\t\\\\t\\\\t\\\\t  \\\\n\\\\n\\\\n\\\\n \\\\n\\\\t\\\\t\\\\n\\\\t \\\\n\\\\t \\\\n\\\\t\\\\n \\\\n \\\\n\\\\t\\\\n \\\\n\\\\t \\\\n<font face=\\\\\\\"verdana,arial\\\\\\\" size=\\\\\\\"2\\\\\\\"><FONT face=Verdana size=1><STRONG>Sponsor</STRONG></FONT></font>\\\\n<table width=\\\\\\\"100%\\\\\\\" border=\\\\\\\"0\\\\\\\" cellspacing=\\\\\\\"0\\\\\\\" cellpadding=\\\\\\\"1\\\\\\\" bgcolor=\\\\\\\"#000000\\\\\\\"> \\\\n<tr><td>\\\\n<table width=\\\\\\\"100%\\\\\\\" border=\\\\\\\"0\\\\\\\" cellspacing=\\\\\\\"0\\\\\\\" cellpadding=\\\\\\\"4\\\\\\\" bgcolor=\\\\\\\"#FFFFCC\\\\\\\">\\\\n\\\\n<tr><td bgcolor=\\\\\\\"#FFFFCC\\\\\\\">\\\\n\\\\n\\\\n\\\\t\\\\n\\\\t\\\\n\\\\t<TABLE bgcolor=\\\\\\\"#FFFFCC\\\\\\\" border=\\\\\\\"0\\\\\\\" cellpadding=\\\\\\\"3\\\\\\\" cellspacing=\\\\\\\"0\\\\\\\" width=\\\\\\\"100%\\\\\\\">\\\\n\\\\t\\\\n \\\\n\\\\t\\\\t\\\\n\\\\t \\\\n\\\\t<tr bgcolor=\\\\\\\"#FFFFCC\\\\\\\"><td>\\\\n\\\\t <a name=\\\\\\\"a59384\\\\\\\"></a> \\\\n\\\\t\\\\t\\\\t\\\\n\\\\t\\\\t \\\\n\\\\t\\\\t\\\\t<font face=\\\\\\\"verdana,arial\\\\\\\" size=\\\\\\\"2\\\\\\\">\\\\n\\\\t\\\\t\\\\t \\\\n\\\\t\\\\t\\\\t\\\\t\\\\n\\\\t\\\\t\\\\t\\\\t\\\\t\\\\n\\\\t\\\\t\\\\t\\\\t\\\\t \\\\n \\\\n\\\\n\\\\n\\\\n\\\\n\\\\n\\\\n\\\\n\\\\n\\\\n\\\\n\\\\n\\\\n\\\\n\\\\n\\\\n\\\\n\\\\n\\\\n\\\\n\\\\n\\\\n\\\\n\\\\n\\\\n\\\\n\\\\n\\\\n\\\\t\\\\t\\\\t\\\\t\\\\t \\\\n\\\\t\\\\t\\\\n\\\\t\\\\t\\\\n\\\\t \\\\n\\\\t\\\\n \\\\n\\\\t\\\\n\\\\n\\\\n\\\\n\\\\t\\\\t\\\\t\\\\t\\\\t\\\\n\\\\t\\\\t\\\\t\\\\t\\\\t<P>Ken Fisher offers his Quarterly Report for high net worth investors FREE of cost & without obligation. Access the same investment research he uses to guide his clients at:<br>\\\\n<A HREF=\\\\\\\"http://pcg.fisherinvestments.com/newrespond/letter.asp?site=UNSP&KC=1229EFCAD0000\\\\\\\">http://pcg.fisherinvestments.com/newrespond/letter.asp?site=UNSP&KC=1229EFCAD0000</A> </P>\\\\n\\\\t\\\\t\\\\t\\\\t\\\\t\\\\n\\\\t\\\\t\\\\t\\\\t\\\\t<br>\\\\n\\\\t\\\\t\\\\t\\\\t\\\\n\\\\t\\\\t\\\\t\\\\n\\\\t\\\\t\\\\t</font>\\\\n\\\\t\\\\t </td></tr> \\\\n\\\\t\\\\t\\\\n\\\\t\\\\n \\\\n\\\\t</table>\\\\n\\\\t </td></tr></table>\\\\n\\\\t</td></tr></table>\\\\n\\\\t\\\\n\\\\n\\\\t\\\\t\\\\t\\\\t\\\\n\\\\n \\\\n\\\\n\\\\n\\\\n\\\\n\\\\n\\\\t\\\\t\\\\t\\\\t\\\\n\\\\t\\\\t\\\\t\\\\t\\\\t\\\\t\\\\t\\\\t\\\\t\\\\n\\\\n\\\\t\\\\t\\\\t\\\\n\\\\t\\\\t\\\\t\\\\n\\\\t\\\\t\\\\t<!-- 2,5:article_view -->\\\\n\\\\t\\\\t\\\\t\\\\n\\\\t\\\\t\\\\t\\\\t\\\\n\\\\t\\\\t\\\\t\\\\t\\\\n\\\\t\\\\t\\\\t\\\\t  \\\\n\\\\n\\\\n\\\\n \\\\n\\\\t\\\\t\\\\n\\\\t \\\\n\\\\t \\\\n \\\\n \\\\n\\\\t\\\\n \\\\n\\\\t \\\\n<table width=\\\\\\\"100%\\\\\\\" border=\\\\\\\"0\\\\\\\" cellspacing=\\\\\\\"0\\\\\\\" cellpadding=\\\\\\\"4\\\\\\\" bgcolor=\\\\\\\"#FFFFFF\\\\\\\">\\\\n\\\\n<tr><td bgcolor=\\\\\\\"#FFFFFF\\\\\\\">\\\\n\\\\n\\\\n\\\\t\\\\n\\\\t\\\\n\\\\t<TABLE bgcolor=\\\\\\\"#FFFFFF\\\\\\\" border=\\\\\\\"0\\\\\\\" cellpadding=\\\\\\\"3\\\\\\\" cellspacing=\\\\\\\"0\\\\\\\" width=\\\\\\\"100%\\\\\\\">\\\\n\\\\t\\\\n \\\\n\\\\t\\\\t\\\\n\\\\t \\\\n\\\\t<tr bgcolor=\\\\\\\"#FFFFFF\\\\\\\"><td>\\\\n\\\\t <a name=\\\\\\\"a87727\\\\\\\"></a>   \\\\n\\\\t\\\\t\\\\t\\\\n\\\\t\\\\t\\\\t\\\\n\\\\t\\\\t\\\\t<font face=\\\\\\\"Arial\\\\\\\" size=\\\\\\\"4\\\\\\\"><b>\\\\n\\\\t\\\\t\\\\t\\\\n\\\\t\\\\t\\\\t\\\\n\\\\t\\\\t\\\\t\\\\n\\\\t\\\\t\\\\t\\\\n\\\\t\\\\t\\\\t\\\\n\\\\t\\\\t\\\\tSEC Exposes Big Blue's Pink Slips\\\\n\\\\t\\\\t\\\\t\\\\n\\\\t\\\\t\\\\t\\\\n\\\\t\\\\t\\\\t</b>\\\\n\\\\t\\\\t\\\\t</font>\\\\n\\\\t\\\\t\\\\t\\\\n\\\\t\\\\t\\\\t\\\\n\\\\t\\\\t\\\\t\\\\n\\\\t\\\\t\\\\t\\\\n\\\\t\\\\t\\\\t\\\\n\\\\t\\\\t\\\\t<br>\\\\n\\\\t\\\\t \\\\n\\\\t\\\\t\\\\t\\\\n\\\\t\\\\t \\\\n\\\\t\\\\t\\\\t<font face=\\\\\\\"verdana,arial\\\\\\\" size=\\\\\\\"2\\\\\\\">\\\\n\\\\t\\\\t\\\\t \\\\n\\\\t\\\\t\\\\t\\\\t\\\\n\\\\t\\\\t\\\\t\\\\t\\\\t\\\\n\\\\t\\\\t\\\\t\\\\t\\\\t \\\\n \\\\n\\\\n\\\\n\\\\n\\\\n\\\\n\\\\n\\\\n\\\\n\\\\n\\\\n\\\\n\\\\n\\\\n\\\\n\\\\n\\\\n\\\\n\\\\n\\\\n\\\\n\\\\n\\\\n\\\\n\\\\n\\\\n\\\\n\\\\n\\\\t\\\\t\\\\t\\\\t\\\\t \\\\n\\\\t\\\\t\\\\n\\\\t\\\\t\\\\n\\\\t \\\\n\\\\t\\\\n \\\\n\\\\t\\\\n\\\\n\\\\n\\\\n\\\\t\\\\t\\\\t\\\\t\\\\t\\\\n\\\\t\\\\t\\\\t\\\\t\\\\t<P>Does the Securities and Exchange Commission have a press pass yet? It seems to be bringing us all our news lately. On the day of the deadline for companies to certify their financial statements with the SEC, the business press squirmed and waited for the next Enron or WorldCom. (We might eat these words tomorrow, but we doubt it.) In an unrelated confession, IBM gave the commission its latest layoff numbers.</P><P>\\\\nIBM talked about pink slips during its second-quarter earnings report, but with a vagueness worthy of your daily horoscope. (\\\\\\\"Capricorn: Career changes may be on their way...\\\\\\\") Only after \\\\\\\"months of surreptitious layoff notices\\\\\\\" did the company admit that it's cutting more than 15,600 jobs, said the AP. That's about 5% of its workforce, and a lot more than pundits expected. An IBM spokesperson told the Wall Street Journal the higher number was due to \\\\\\\"rebalancing\\\\\\\" and more employees than\\\\nexpected taking voluntary layoffs. </P><P>\\\\nSorry, we're still back on \\\\\\\"rebalancing.\\\\\\\" Did IBM \\\\\\\"rightsize\\\\\\\" last quarter, too?</P><P>\\\\nIBM's news was still trickling out Wednesday morning, but some details were available. About 1,400 workers got cut from IBM's microelectronics unit, and most of the rest were from IT services and consulting. (That ought to make IBM's new employees from PricewaterhouseCoopers feel all warm and fuzzy inside.) Look for news updates from cities that will see the cuts, such as Austin and Raleigh. </P><P>\\\\nOK, none of this is good. Two years into the tech slump, we're still tired of seeing people get sacked. But was it really so bad that IBM only revealed it because of new accounting regulations? Nah, Big Blue was always known for \\\\\\\"stealth layoffs,\\\\\\\" as CNN put it, but current corporate scrutiny forced it to 'fess up for once. Until now, IBM would acknowledge the latest layoffs if reporters called and asked, but wouldn't give specifics. Yeesh. - Jen Muehlbauer</P><P>\\\\nIBM Cut 5% of Staff in Period, Double the Expected Number<br>\\\\n<A HREF=\\\\\\\"http://online.wsj.com/article/0,,SB1029282408667791835,00.html\\\\\\\">http://online.wsj.com/article/0,,SB1029282408667791835,00.html</A> <br>\\\\n(Paid subscription required.) </P><P>\\\\nIBM to Cut Over 15,000 Employees (AP)<br>\\\\n<A HREF=\\\\\\\"http://tinyurl.com/10kz\\\\\\\">http://tinyurl.com/10kz</A> </P><P>\\\\nIBM confirms 15,600 job cuts (Reuters)<br>\\\\n<A HREF=\\\\\\\"http://www.msnbc.com/news/793777.asp\\\\\\\">http://www.msnbc.com/news/793777.asp</A>  </P><P>\\\\nIBM cutting 15,000 jobs <br>\\\\n<A HREF=\\\\\\\"http://news.com.com/2100-1001-949677.html\\\\\\\">http://news.com.com/2100-1001-949677.html</A> </P><P>\\\\nIBM job cuts exceed 15,600<br>\\\\n<A HREF=\\\\\\\"http://money.cnn.com/2002/08/13/technology/ibm/index.htm\\\\\\\">http://money.cnn.com/2002/08/13/technology/ibm/index.htm</A> </P><P>\\\\nIBM puts job cuts at 15,600, with fewer than 50 in this state<br>\\\\n<A HREF=\\\\\\\"http://seattlepi.nwsource.com/business/82508_ibm14.shtml\\\\\\\">http://seattlepi.nwsource.com/business/82508_ibm14.shtml</A> </P>\\\\n\\\\t\\\\t\\\\t\\\\t\\\\t\\\\n\\\\t\\\\t\\\\t\\\\t\\\\t<br>\\\\n\\\\t\\\\t\\\\t\\\\t\\\\n\\\\t\\\\t\\\\t\\\\n\\\\t\\\\t\\\\t</font>\\\\n\\\\t\\\\t </td></tr> \\\\n\\\\t\\\\t\\\\n\\\\t\\\\n \\\\n\\\\t</table>\\\\n\\\\t \\\\n\\\\t</td></tr></table>\\\\n\\\\t\\\\n\\\\n\\\\t\\\\t\\\\t\\\\t\\\\n\\\\n \\\\n\\\\n\\\\n\\\\n\\\\n\\\\n\\\\t\\\\t\\\\t\\\\t\\\\n\\\\t\\\\t\\\\t\\\\t\\\\t\\\\t\\\\t\\\\t\\\\t\\\\n\\\\n\\\\t\\\\t\\\\t\\\\n\\\\t\\\\t\\\\t\\\\n\\\\t\\\\t\\\\t<!-- 2,6:article_view -->\\\\n\\\\t\\\\t\\\\t\\\\n\\\\t\\\\t\\\\t\\\\t\\\\n\\\\t\\\\t\\\\t\\\\t\\\\n\\\\t\\\\t\\\\t\\\\t  \\\\n\\\\n\\\\n\\\\n \\\\n\\\\t\\\\t\\\\n\\\\t \\\\n\\\\t \\\\n\\\\t\\\\n \\\\n \\\\n\\\\t\\\\n \\\\n\\\\t \\\\n<font face=\\\\\\\"verdana,arial\\\\\\\" size=\\\\\\\"2\\\\\\\"><FONT face=Verdana size=1><STRONG>Sponsor</STRONG></FONT></font>\\\\n<table width=\\\\\\\"100%\\\\\\\" border=\\\\\\\"0\\\\\\\" cellspacing=\\\\\\\"0\\\\\\\" cellpadding=\\\\\\\"1\\\\\\\" bgcolor=\\\\\\\"#000000\\\\\\\"> \\\\n<tr><td>\\\\n<table width=\\\\\\\"100%\\\\\\\" border=\\\\\\\"0\\\\\\\" cellspacing=\\\\\\\"0\\\\\\\" cellpadding=\\\\\\\"4\\\\\\\" bgcolor=\\\\\\\"#FFFFCC\\\\\\\">\\\\n\\\\n<tr><td bgcolor=\\\\\\\"#FFFFCC\\\\\\\">\\\\n\\\\n\\\\n\\\\t\\\\n\\\\t\\\\n\\\\t<TABLE bgcolor=\\\\\\\"#FFFFCC\\\\\\\" border=\\\\\\\"0\\\\\\\" cellpadding=\\\\\\\"3\\\\\\\" cellspacing=\\\\\\\"0\\\\\\\" width=\\\\\\\"100%\\\\\\\">\\\\n\\\\t\\\\n \\\\n\\\\t\\\\t\\\\n\\\\t \\\\n\\\\t<tr bgcolor=\\\\\\\"#FFFFCC\\\\\\\"><td>\\\\n\\\\t <a name=\\\\\\\"a75853\\\\\\\"></a> \\\\n\\\\t\\\\t\\\\t\\\\n\\\\t\\\\t \\\\n\\\\t\\\\t\\\\t<font face=\\\\\\\"verdana,arial\\\\\\\" size=\\\\\\\"2\\\\\\\">\\\\n\\\\t\\\\t\\\\t \\\\n\\\\t\\\\t\\\\t\\\\t\\\\n\\\\t\\\\t\\\\t\\\\t\\\\t\\\\n\\\\t\\\\t\\\\t\\\\t\\\\tYou've heard about identity management, but do you know about the opportunities and business models that will emerge as a result? <a href=\\\\\\\"http://release1.edventure.com/executivesummary.cfm?MCode=Unspun\\\\\\\">Download</a> a free executive summary of Esther Dyson's coverage of identity management in Release 1.0. Learn more about the expanding market for these services and applications.\\\\n\\\\t\\\\t\\\\t\\\\t\\\\t\\\\n\\\\t\\\\t\\\\t\\\\t\\\\t<br>\\\\n\\\\t\\\\t\\\\t\\\\t\\\\n\\\\t\\\\t\\\\t\\\\n\\\\t\\\\t\\\\t</font>\\\\n\\\\t\\\\t </td></tr> \\\\n\\\\t\\\\t\\\\n\\\\t\\\\n \\\\n\\\\t</table>\\\\n\\\\t </td></tr></table>\\\\n\\\\t</td></tr></table>\\\\n\\\\t\\\\n\\\\n\\\\t\\\\t\\\\t\\\\t\\\\n\\\\n \\\\n\\\\n\\\\n\\\\n\\\\n\\\\n\\\\t\\\\t\\\\t\\\\t\\\\n\\\\t\\\\t\\\\t\\\\t\\\\t\\\\t\\\\t\\\\t\\\\t\\\\n\\\\n\\\\t\\\\t\\\\t\\\\n\\\\t\\\\t\\\\t\\\\n\\\\t\\\\t\\\\t<!-- 2,7:article_view -->\\\\n\\\\t\\\\t\\\\t\\\\n\\\\t\\\\t\\\\t\\\\t\\\\n\\\\t\\\\t\\\\t\\\\t\\\\n\\\\t\\\\t\\\\t\\\\t  \\\\n\\\\n\\\\n\\\\n \\\\n\\\\t\\\\t\\\\n\\\\t \\\\n\\\\t \\\\n\\\\t\\\\n \\\\n \\\\n\\\\t\\\\n \\\\n\\\\t \\\\n<table width=\\\\\\\"100%\\\\\\\" border=\\\\\\\"0\\\\\\\" cellspacing=\\\\\\\"0\\\\\\\" cellpadding=\\\\\\\"4\\\\\\\" bgcolor=\\\\\\\"#FFFFFF\\\\\\\">\\\\n\\\\n<tr><td bgcolor=\\\\\\\"#FFFFFF\\\\\\\">\\\\n\\\\n\\\\n\\\\t\\\\n\\\\t\\\\n\\\\t<TABLE bgcolor=\\\\\\\"#FFFFFF\\\\\\\" border=\\\\\\\"0\\\\\\\" cellpadding=\\\\\\\"3\\\\\\\" cellspacing=\\\\\\\"0\\\\\\\" width=\\\\\\\"100%\\\\\\\">\\\\n\\\\t\\\\n \\\\n\\\\t\\\\t \\\\n\\\\t \\\\n\\\\t<tr bgcolor=\\\\\\\"#FFFFFF\\\\\\\"><td>\\\\n\\\\t <a name=\\\\\\\"a87728\\\\\\\"></a>   \\\\n\\\\t\\\\t\\\\t\\\\n\\\\t\\\\t\\\\t\\\\n\\\\t\\\\t\\\\t<font face=\\\\\\\"Arial\\\\\\\" size=\\\\\\\"4\\\\\\\"><b>\\\\n\\\\t\\\\t\\\\t\\\\n\\\\t\\\\t\\\\t\\\\n\\\\t\\\\t\\\\t\\\\n\\\\t\\\\t\\\\t\\\\n\\\\t\\\\t\\\\t\\\\n\\\\t\\\\t\\\\tSynergy and Betrayal at Vivendi\\\\n\\\\t\\\\t\\\\t\\\\n\\\\t\\\\t\\\\t\\\\n\\\\t\\\\t\\\\t</b>\\\\n\\\\t\\\\t\\\\t</font>\\\\n\\\\t\\\\t\\\\t\\\\n\\\\t\\\\t\\\\t\\\\n\\\\t\\\\t\\\\t\\\\n\\\\t\\\\t\\\\t\\\\n\\\\t\\\\t\\\\t\\\\n\\\\t\\\\t\\\\t<br>\\\\n\\\\t\\\\t \\\\n\\\\t\\\\t\\\\t\\\\n\\\\t\\\\t \\\\n\\\\t\\\\t\\\\t<font face=\\\\\\\"verdana,arial\\\\\\\" size=\\\\\\\"2\\\\\\\">\\\\n\\\\t\\\\t\\\\t \\\\n\\\\t\\\\t\\\\t\\\\t\\\\n\\\\t\\\\t\\\\t\\\\t\\\\t\\\\n\\\\t\\\\t\\\\t\\\\t\\\\t \\\\n \\\\n\\\\n\\\\n\\\\n\\\\n\\\\n\\\\n\\\\n\\\\n\\\\n\\\\n\\\\n\\\\n\\\\n\\\\n\\\\n\\\\n\\\\n\\\\n\\\\n\\\\n\\\\n\\\\n\\\\n\\\\n\\\\n\\\\n\\\\n\\\\t\\\\t\\\\t\\\\t\\\\t \\\\n\\\\t\\\\t\\\\n\\\\t\\\\t\\\\n\\\\t \\\\n\\\\t\\\\n \\\\n\\\\t\\\\n\\\\n\\\\n\\\\n\\\\t\\\\t\\\\t\\\\t\\\\t\\\\n\\\\t\\\\t\\\\t\\\\t\\\\t<P>Synergy always was a fuzzy concept. Now Vivendi Universal's top man has slammed the lid on it. The French company announced today that it's ready to peddle $9.8 billion in assets to rustle up some cash. First up on the block? Synergy-less U.S. book publisher Houghton Mifflin. </P><P>\\\\nIt's unclear whether new chairman Jean-Rene Fourtou has genuine turnaround muscle, or whether he and Vivendi's board are simply following the winds of post-merger fashion. But when you owe $18.7 billion, you get real practical, real fast. The Guardian reported that Vivendi's share price sank 5% on Tuesday when investors got the willies about the company's impending announcement on its financial health. But the company had positive news to report: It's making money. Revenue in the first half was \\\\nup 13%, higher than analysts' estimates of a 7.7% boost. </P><P>\\\\nDetails are scant on the breadth of Fourtou's restructuring efforts, with more information expected at the next board meeting on September 25, according to reporters. Houghton Mifflin, acquired a year ago for $1.7 billion, and a vague explanation that included the \\\\\\\"Curious George\\\\\\\" character, were the only properties named for sale so far. The Guardian speculated that Vivendi will also sell its U.S. video games business and possibly its stake in the French mobile phone company SFR, a debatable\\\\nsale because of the cash it generates, according to the newspaper. </P><P>\\\\nMeanwhile, Fourtou's predecessor, Jean-Marie Messier, continues to advocate empire-building. The New York Post said its sources say Messier hopes his former employer will feel generous enough to let him continue to reside in his $17 million Manhattan abode. And Bloomberg reported earlier this week that an unrepentant Messier is penning a memoir as he vacations in the Mediterranean. The working title? \\\\\\\"How I Was Betrayed.\\\\\\\"  - Deborah Asbrand </P><P>\\\\nVivendi to Sell Publisher Houghton Mifflin (Reuters)<br>\\\\n<A HREF=\\\\\\\"http://www.washingtonpost.com/wp-dyn/articles/A15954-2002Aug14.html\\\\\\\">http://www.washingtonpost.com/wp-dyn/articles/A15954-2002Aug14.html</A> </P><P>\\\\nVivendi investors expect the worst<br>\\\\n<A HREF=\\\\\\\"http://www.guardian.co.uk/business/story/0,3604,774190,00.html\\\\\\\">http://www.guardian.co.uk/business/story/0,3604,774190,00.html</A> </P><P>\\\\nVivendi to Sell $9.8 Billion In Assets, Including Houghton<br>\\\\n<A HREF=\\\\\\\"http://online.wsj.com/article/0,,SB102931297119161715,00.html\\\\\\\">http://online.wsj.com/article/0,,SB102931297119161715,00.html</A> <br>\\\\n(Paid subscription required.) </P><P>\\\\nOusted Messier Aims To Score $17m Vivendi Pad<br>\\\\n<A HREF=\\\\\\\"http://www.nypost.com/business/54701.htm\\\\\\\">http://www.nypost.com/business/54701.htm</A> </P><P>\\\\nEx-Chief of Vivendi Plans Tell-All Book (Bloomberg)<br>\\\\n<A HREF=\\\\\\\"http://www.nytimes.com/2002/08/12/business/media/12VIVE.html\\\\\\\">http://www.nytimes.com/2002/08/12/business/media/12VIVE.html</A> </P>\\\\n\\\\t\\\\t\\\\t\\\\t\\\\t\\\\n\\\\t\\\\t\\\\t\\\\t\\\\t<br>\\\\n\\\\t\\\\t\\\\t\\\\t\\\\n\\\\t\\\\t\\\\t\\\\n\\\\t\\\\t\\\\t</font>\\\\n\\\\t\\\\t </td></tr> \\\\n\\\\t\\\\t\\\\n\\\\t \\\\n\\\\t<tr bgcolor=\\\\\\\"#FFFFFF\\\\\\\"><td>\\\\n\\\\t <a name=\\\\\\\"a87730\\\\\\\"></a>   \\\\n\\\\t\\\\t\\\\t\\\\n\\\\t\\\\t\\\\t\\\\n\\\\t\\\\t\\\\t<font face=\\\\\\\"Arial\\\\\\\" size=\\\\\\\"4\\\\\\\"><b>\\\\n\\\\t\\\\t\\\\t\\\\n\\\\t\\\\t\\\\t\\\\n\\\\t\\\\t\\\\t\\\\n\\\\t\\\\t\\\\t\\\\n\\\\t\\\\t\\\\t\\\\n\\\\t\\\\t\\\\tOther Stories\\\\n\\\\t\\\\t\\\\t\\\\n\\\\t\\\\t\\\\t\\\\n\\\\t\\\\t\\\\t</b>\\\\n\\\\t\\\\t\\\\t</font>\\\\n\\\\t\\\\t\\\\t\\\\n\\\\t\\\\t\\\\t\\\\n\\\\t\\\\t\\\\t\\\\n\\\\t\\\\t\\\\t\\\\n\\\\t\\\\t\\\\t\\\\n\\\\t\\\\t\\\\t<br>\\\\n\\\\t\\\\t \\\\n\\\\t\\\\t\\\\t\\\\n\\\\t\\\\t \\\\n\\\\t\\\\t\\\\t<font face=\\\\\\\"verdana,arial\\\\\\\" size=\\\\\\\"2\\\\\\\">\\\\n\\\\t\\\\t\\\\t \\\\n\\\\t\\\\t\\\\t\\\\t\\\\n\\\\t\\\\t\\\\t\\\\t\\\\t\\\\n\\\\t\\\\t\\\\t\\\\t\\\\t \\\\n \\\\n\\\\n\\\\n\\\\n\\\\n\\\\n\\\\n\\\\n\\\\n\\\\n\\\\n\\\\n\\\\n\\\\n\\\\n\\\\n\\\\n\\\\n\\\\n\\\\n\\\\n\\\\n\\\\n\\\\n\\\\n\\\\n\\\\n\\\\n\\\\t\\\\t\\\\t\\\\t\\\\t \\\\n\\\\t\\\\t\\\\n\\\\t\\\\t\\\\n\\\\t \\\\n\\\\t\\\\n \\\\n\\\\t\\\\n\\\\n\\\\n\\\\n\\\\t\\\\t\\\\t\\\\t\\\\t\\\\n\\\\t\\\\t\\\\t\\\\t\\\\t<P>A Top AOL Manager Has Left Company<br>\\\\n<A HREF=\\\\\\\"http://www.nytimes.com/2002/08/14/technology/14AOL.html\\\\\\\">http://www.nytimes.com/2002/08/14/technology/14AOL.html</A> </P><P>\\\\nFed Holds Steady on Interest Rates <br>\\\\n<A HREF=\\\\\\\"http://www.washingtonpost.com/wp-dyn/articles/A14636-2002Aug13.html\\\\\\\">http://www.washingtonpost.com/wp-dyn/articles/A14636-2002Aug13.html</A> </P><P>\\\\nAmtrak halts all high-speed service after finding cracks<br>\\\\n<A HREF=\\\\\\\"http://www.sunspot.net/bal-te.train14aug14.story\\\\\\\">http://www.sunspot.net/bal-te.train14aug14.story</A> </P><P>\\\\nAOL lets resigning exec keep stock options <br>\\\\n<A HREF=\\\\\\\"http://www.usatoday.com/money/industries/technology/2002-08-13-aol-pittman_x.htm\\\\\\\">http://www.usatoday.com/money/industries/technology/2002-08-13-aol-pittman_x.htm</A> </P><P>\\\\nLucent licensing deal with Winstar focus of probe (AP)<br>\\\\n<A HREF=\\\\\\\"http://www.bayarea.com/mld/mercurynews/business/3861117.htm\\\\\\\">http://www.bayarea.com/mld/mercurynews/business/3861117.htm</A> </P><P>\\\\nStudy Says Net Could Benefit Music Firms<br>\\\\n<A HREF=\\\\\\\"http://www.latimes.com/business/la-fi-music14aug14.story\\\\\\\">http://www.latimes.com/business/la-fi-music14aug14.story</A> </P><P>\\\\nEisner Crimping His Own Style<br>\\\\n<A HREF=\\\\\\\"http://www.latimes.com/business/la-fi-disney14aug14.story\\\\\\\">http://www.latimes.com/business/la-fi-disney14aug14.story</A> </P><P></P><P>\\\\nSeverance claims by Enron former execs anger ex-workers<br>\\\\n<A HREF=\\\\\\\"http://www.chron.com/cs/CDA/story.hts/business/1533657\\\\\\\">http://www.chron.com/cs/CDA/story.hts/business/1533657</A> </P><P>\\\\nPrinceton removes dean after Yale Web site flap (AP)<br>\\\\n<A HREF=\\\\\\\"http://www.siliconvalley.com/mld/siliconvalley/3857890.htm\\\\\\\">http://www.siliconvalley.com/mld/siliconvalley/3857890.htm</A> </P><P>\\\\nFrisbee golf creator dies, may land on someone's roof (SF Chronicle)<br>\\\\n<A HREF=\\\\\\\"http://seattlepi.nwsource.com/national/82560_frisbee14.shtml\\\\\\\">http://seattlepi.nwsource.com/national/82560_frisbee14.shtml</A> </P><P>\\\\nWill Kinsley's Slate Get Wiped?<br>\\\\n<A HREF=\\\\\\\"http://www.ojr.org/ojr/kramer/1029281360.php\\\\\\\">http://www.ojr.org/ojr/kramer/1029281360.php</A> </P><P>\\\\nHollywood, Russian Bicker Over Bass<br>\\\\n<A HREF=\\\\\\\"http://www.cnn.com/2002/SHOWBIZ/News/08/13/bassspace.hollywood.ap/\\\\\\\">http://www.cnn.com/2002/SHOWBIZ/News/08/13/bassspace.hollywood.ap/</A> </P>\\\\n\\\\t\\\\t\\\\t\\\\t\\\\t\\\\n\\\\t\\\\t\\\\t\\\\t\\\\t<br>\\\\n\\\\t\\\\t\\\\t\\\\t\\\\n\\\\t\\\\t\\\\t\\\\n\\\\t\\\\t\\\\t</font>\\\\n\\\\t\\\\t </td></tr> \\\\n\\\\t\\\\t\\\\n\\\\t\\\\n \\\\n\\\\t</table>\\\\n\\\\t \\\\n\\\\t</td></tr></table>\\\\n\\\\t\\\\n\\\\n\\\\t\\\\t\\\\t\\\\t\\\\n\\\\n \\\\n\\\\n\\\\n\\\\n\\\\n\\\\n\\\\t\\\\t\\\\t\\\\t\\\\n\\\\t\\\\t\\\\t\\\\t\\\\t\\\\t\\\\t\\\\t\\\\t\\\\n\\\\n\\\\t\\\\t\\\\t\\\\n\\\\t\\\\t\\\\t\\\\n\\\\t\\\\t\\\\t<!-- 2,8:article_view -->\\\\n\\\\t\\\\t\\\\t\\\\n\\\\t\\\\t\\\\t\\\\t\\\\n\\\\t\\\\t\\\\t\\\\t\\\\n\\\\t\\\\t\\\\t\\\\t  \\\\n\\\\n\\\\n\\\\n \\\\n\\\\t\\\\t\\\\n\\\\t \\\\n\\\\t \\\\n\\\\t\\\\n \\\\n \\\\n\\\\t\\\\n \\\\n\\\\t \\\\n<font face=\\\\\\\"verdana,arial\\\\\\\" size=\\\\\\\"2\\\\\\\"><FONT face=Verdana size=1><STRONG>Sponsor</STRONG></FONT></font>\\\\n<table width=\\\\\\\"100%\\\\\\\" border=\\\\\\\"0\\\\\\\" cellspacing=\\\\\\\"0\\\\\\\" cellpadding=\\\\\\\"1\\\\\\\" bgcolor=\\\\\\\"#000000\\\\\\\"> \\\\n<tr><td>\\\\n<table width=\\\\\\\"100%\\\\\\\" border=\\\\\\\"0\\\\\\\" cellspacing=\\\\\\\"0\\\\\\\" cellpadding=\\\\\\\"4\\\\\\\" bgcolor=\\\\\\\"#FFFFCC\\\\\\\">\\\\n\\\\n<tr><td bgcolor=\\\\\\\"#FFFFCC\\\\\\\">\\\\n\\\\n\\\\n\\\\t\\\\n\\\\t\\\\n\\\\t<TABLE bgcolor=\\\\\\\"#FFFFCC\\\\\\\" border=\\\\\\\"0\\\\\\\" cellpadding=\\\\\\\"3\\\\\\\" cellspacing=\\\\\\\"0\\\\\\\" width=\\\\\\\"100%\\\\\\\">\\\\n\\\\t\\\\n \\\\n\\\\t\\\\t\\\\n\\\\t \\\\n\\\\t<tr bgcolor=\\\\\\\"#FFFFCC\\\\\\\"><td>\\\\n\\\\t <a name=\\\\\\\"a59804\\\\\\\"></a> \\\\n\\\\t\\\\t\\\\t\\\\n\\\\t\\\\t \\\\n\\\\t\\\\t\\\\t<font face=\\\\\\\"verdana,arial\\\\\\\" size=\\\\\\\"2\\\\\\\">\\\\n\\\\t\\\\t\\\\t \\\\n\\\\t\\\\t\\\\t\\\\t\\\\n\\\\t\\\\t\\\\t\\\\t\\\\t\\\\n\\\\t\\\\t\\\\t\\\\t\\\\tDo you want to reach the Net's savviest audience?<BR>\\\\nAdvertise in Media Unspun.<br>\\\\nContact Erik Vanderkolk for details at <a href=\\\\\\\"mailto:erikvanderkolk@yahoo.com\\\\\\\">erikvanderkolk@yahoo.com</A> today.\\\\n\\\\t\\\\t\\\\t\\\\t\\\\t\\\\n\\\\t\\\\t\\\\t\\\\t\\\\t<br>\\\\n\\\\t\\\\t\\\\t\\\\t\\\\n\\\\t\\\\t\\\\t\\\\n\\\\t\\\\t\\\\t</font>\\\\n\\\\t\\\\t </td></tr> \\\\n\\\\t\\\\t\\\\n\\\\t\\\\n \\\\n\\\\t</table>\\\\n\\\\t </td></tr></table>\\\\n\\\\t</td></tr></table>\\\\n\\\\t\\\\n\\\\n\\\\t\\\\t\\\\t\\\\t\\\\n\\\\n \\\\n\\\\n\\\\n\\\\n\\\\n\\\\n\\\\t\\\\t\\\\t\\\\t\\\\n\\\\t\\\\t\\\\t\\\\t\\\\t\\\\t\\\\t\\\\t\\\\t\\\\n\\\\n\\\\t\\\\t\\\\t\\\\n\\\\t\\\\t\\\\t\\\\n\\\\t\\\\t\\\\t<!-- 2,9:article_view -->\\\\n\\\\t\\\\t\\\\t\\\\n\\\\t\\\\t\\\\t\\\\t\\\\n\\\\t\\\\t\\\\t\\\\t\\\\n\\\\t\\\\t\\\\t\\\\t  \\\\n\\\\n\\\\n\\\\n \\\\n\\\\t\\\\t\\\\n\\\\t \\\\n\\\\t \\\\n\\\\t\\\\n \\\\n \\\\n\\\\t\\\\n \\\\n\\\\t \\\\n<table width=\\\\\\\"100%\\\\\\\" border=\\\\\\\"0\\\\\\\" cellspacing=\\\\\\\"0\\\\\\\" cellpadding=\\\\\\\"4\\\\\\\" bgcolor=\\\\\\\"#FFFFFF\\\\\\\">\\\\n\\\\n<tr><td bgcolor=\\\\\\\"#FFFFFF\\\\\\\">\\\\n\\\\n\\\\n\\\\t\\\\n\\\\t\\\\n\\\\t<TABLE bgcolor=\\\\\\\"#FFFFFF\\\\\\\" border=\\\\\\\"0\\\\\\\" cellpadding=\\\\\\\"3\\\\\\\" cellspacing=\\\\\\\"0\\\\\\\" width=\\\\\\\"100%\\\\\\\">\\\\n\\\\t\\\\n \\\\n\\\\t\\\\t\\\\n\\\\t \\\\n\\\\t<tr bgcolor=\\\\\\\"#FFFFFF\\\\\\\"><td>\\\\n\\\\t <a name=\\\\\\\"a59810\\\\\\\"></a>   \\\\n\\\\t\\\\t\\\\t\\\\n\\\\t\\\\t\\\\t\\\\n\\\\t\\\\t\\\\t<font face=\\\\\\\"Arial\\\\\\\" size=\\\\\\\"4\\\\\\\"><b>\\\\n\\\\t\\\\t\\\\t\\\\n\\\\t\\\\t\\\\t\\\\n\\\\t\\\\t\\\\t\\\\n\\\\t\\\\t\\\\t\\\\n\\\\t\\\\t\\\\t\\\\n\\\\t\\\\t\\\\tStaff\\\\n\\\\t\\\\t\\\\t\\\\n\\\\t\\\\t\\\\t\\\\n\\\\t\\\\t\\\\t</b>\\\\n\\\\t\\\\t\\\\t</font>\\\\n\\\\t\\\\t\\\\t\\\\n\\\\t\\\\t\\\\t\\\\n\\\\t\\\\t\\\\t\\\\n\\\\t\\\\t\\\\t\\\\n\\\\t\\\\t\\\\t\\\\n\\\\t\\\\t\\\\t<br>\\\\n\\\\t\\\\t \\\\n\\\\t\\\\t\\\\t\\\\n\\\\t\\\\t \\\\n\\\\t\\\\t\\\\t<font face=\\\\\\\"verdana,arial\\\\\\\" size=\\\\\\\"2\\\\\\\">\\\\n\\\\t\\\\t\\\\t \\\\n\\\\t\\\\t\\\\t\\\\t\\\\n\\\\t\\\\t\\\\t\\\\t\\\\t\\\\n\\\\t\\\\t\\\\t\\\\t\\\\tWritten by Deborah Asbrand (<a href=\\\\\\\"mailto:dasbrand@world.std.com\\\\\\\">dasbrand@world.std.com</a>), Keith Dawson (<a href=\\\\\\\"mailto:dawson@world.std.com\\\\\\\">dawson@world.std.com</a>), Jen Muehlbauer (<a href=\\\\\\\"mailto:jen@englishmajor.com\\\\\\\">jen@englishmajor.com</a>), and Lori Patel (<a href=\\\\\\\"mailto:loripatel@hotmail.com\\\\\\\">loripatel@hotmail.com</a>).\\\\n<P>\\\\nCopyedited by Jim Duffy (<a href=\\\\\\\"mailto:jimduffy86@yahoo.com\\\\\\\">jimduffy86@yahoo.com</a>).\\\\n<P>\\\\nMarketing: Cowpoke Productions (<a href=\\\\\\\"http://www.cowpokeproductions.com\\\\\\\">cowpokeproductions.com</a>).\\\\n<P>\\\\nAdvertising: Erik Vanderkolk (<a href=\\\\\\\"mailto:erikvanderkolk@yahoo.com\\\\\\\">erikvanderkolk@yahoo.com)</a>.\\\\n<P>\\\\nEditor and publisher: Jimmy Guterman (<a href=\\\\\\\"mailto:guterman@vineyard.com\\\\\\\">guterman@vineyard.com</a>).\\\\n<P>\\\\nMedia Unspun is produced by <a href=\\\\\\\"http://guterman.com\\\\\\\">The Vineyard Group Inc.</a>\\\\n<BR>Copyright 2002 Media Unspun, Inc., and The Vineyard Group, Inc.\\\\n<BR>Subscribe already, willya? <a href=\\\\\\\"http://www.mediaunspun.com\\\\\\\">http://www.mediaunspun.com</a>\\\\n<P>\\\\nRedistribution by email is permitted as long as a link to <a href=\\\\\\\"http://newsletter.mediaunspun.com\\\\\\\">http://newsletter.mediaunspun.com</a> is included.\\\\n\\\\t\\\\t\\\\t\\\\t\\\\t\\\\n\\\\t\\\\t\\\\t\\\\t\\\\t<br>\\\\n\\\\t\\\\t\\\\t\\\\t\\\\n\\\\t\\\\t\\\\t\\\\n\\\\t\\\\t\\\\t</font>\\\\n\\\\t\\\\t </td></tr> \\\\n\\\\t\\\\t\\\\n\\\\t\\\\n \\\\n\\\\t</table>\\\\n\\\\t \\\\n\\\\t</td></tr></table>\\\\n\\\\t\\\\n\\\\n\\\\t\\\\t\\\\t\\\\t\\\\n\\\\n \\\\n\\\\n\\\\n\\\\n\\\\n\\\\n\\\\t\\\\t\\\\t\\\\t\\\\n\\\\t\\\\t\\\\t\\\\t\\\\t\\\\t\\\\t\\\\t\\\\t\\\\n\\\\n\\\\t\\\\t\\\\t\\\\n\\\\t\\\\t\\\\t\\\\n\\\\t\\\\t\\\\t<!-- COLUMN: 2 -->\\\\n\\\\t\\\\t\\\\n\\\\t\\\\t</td><td width=\\\\\\\"5\\\\\\\" valign=\\\\\\\"top\\\\\\\" align=\\\\\\\"center\\\\\\\" ><img src=\\\\\\\"http://www.imakenews.com/eletra/empty.gif\\\\\\\" height=\\\\\\\"1\\\\\\\" width=\\\\\\\"5\\\\\\\"></td>\\\\n\\\\t\\\\t\\\\t<td width=\\\\\\\"1\\\\\\\" valign=\\\\\\\"top\\\\\\\" align=\\\\\\\"center\\\\\\\" bgcolor=\\\\\\\"#888888\\\\\\\"><img src=\\\\\\\"http://www.imakenews.com/eletra/empty.gif\\\\\\\" height=\\\\\\\"1\\\\\\\" width=\\\\\\\"1\\\\\\\"></td>\\\\n\\\\t\\\\t\\\\t<td width=\\\\\\\"5\\\\\\\" valign=\\\\\\\"top\\\\\\\" align=\\\\\\\"center\\\\\\\" ><img src=\\\\\\\"http://www.imakenews.com/eletra/empty.gif\\\\\\\" height=\\\\\\\"1\\\\\\\" width=\\\\\\\"5\\\\\\\"></td><td width=\\\\\\\"161\\\\\\\" valign=\\\\\\\"top\\\\\\\" bgcolor=\\\\\\\"#FFFFFF\\\\\\\"><!-- 3,1:subscription -->\\\\n\\\\t\\\\t\\\\t\\\\n\\\\t\\\\t\\\\t  \\\\n\\\\t\\\\t\\\\t  \\\\n\\\\t\\\\t\\\\t\\\\t\\\\n\\\\t\\\\t\\\\t\\\\t\\\\n\\\\t\\\\t\\\\t\\\\t \\\\n\\\\n\\\\n\\\\n \\\\n\\\\t\\\\n \\\\n\\\\t\\\\n \\\\n \\\\n<table width=\\\\\\\"100%\\\\\\\" border=\\\\\\\"0\\\\\\\" cellspacing=\\\\\\\"0\\\\\\\" cellpadding=\\\\\\\"1\\\\\\\" bgcolor=\\\\\\\"#000000\\\\\\\"> \\\\n<tr><td>\\\\n<table width=\\\\\\\"100%\\\\\\\" border=\\\\\\\"0\\\\\\\" cellspacing=\\\\\\\"0\\\\\\\" cellpadding=\\\\\\\"4\\\\\\\" bgcolor=\\\\\\\"#EEEEEE\\\\\\\">\\\\n\\\\n<tr><td\\\\nbgcolor=\\\\\\\"#000000\\\\\\\">\\\\n\\\\t<font face=\\\\\\\"arial\\\\\\\" size=\\\\\\\"2\\\\\\\" color=\\\\\\\"#FFFFFF\\\\\\\"><b>\\\\n\\\\t\\\\t\\\\n\\\\t\\\\tSUBSCRIBE\\\\n\\\\t\\\\t\\\\n\\\\t</b></font>\\\\n</td></tr>\\\\n<tr><td bgcolor=\\\\\\\"#EEEEEE\\\\\\\">\\\\n\\\\n\\\\n\\\\t \\\\n\\\\t\\\\t\\\\n\\\\t\\\\t\\\\t\\\\n\\\\t\\\\t\\\\t\\\\n\\\\t\\\\t\\\\t \\\\t\\\\t\\\\t\\\\t\\\\t\\\\t\\\\n\\\\t \\\\n\\\\t\\\\t\\\\n\\\\t \\\\n\\\\t\\\\t\\\\n\\\\t \\\\n\\\\t\\\\t\\\\n\\\\t \\\\n\\\\t\\\\t\\\\n\\\\t \\\\n\\\\t\\\\t<form method=\\\\\\\"POST\\\\\\\" action=\\\\\\\"http://www.imakenews.com/eletra/mod_input_proc.cfm\\\\\\\">\\\\n\\\\t\\\\t \\\\n<p><font face=\\\\\\\"verdana,arial\\\\\\\" size=\\\\\\\"1\\\\\\\">\\\\n Enter your email address in the box below to receive a free four-week trial of Media Unspun: \\\\n</font></p>\\\\n \\\\n\\\\t\\\\t\\\\n\\\\t \\\\n\\\\t\\\\t  <input type=\\\\\\\"hidden\\\\\\\" name=\\\\\\\"XXDESXXuser\\\\\\\" value=\\\\\\\"mediaunspun\\\\\\\">\\\\n\\\\t\\\\t  \\\\n\\\\t\\\\t  \\\\n\\\\t\\\\t  <input type=\\\\\\\"hidden\\\\\\\" name=\\\\\\\"mod_name\\\\\\\" value=\\\\\\\"subscription\\\\\\\">\\\\n\\\\t\\\\t  <input type=\\\\\\\"hidden\\\\\\\" name=\\\\\\\"XXDESXXfrom_address\\\\\\\" value=\\\\\\\"guterman@vineyard.com\\\\\\\">\\\\n          <input type=\\\\\\\"hidden\\\\\\\" name=\\\\\\\"XXDESXXfrom_name\\\\\\\" value=\\\\\\\"Media Unspun\\\\\\\">\\\\n\\\\t\\\\t  \\\\n\\\\t\\\\t  \\\\n\\\\t\\\\t  \\\\n\\\\t\\\\t  \\\\n\\\\t\\\\t  \\\\n \\\\t\\\\t  \\\\n\\\\t\\\\t\\\\t <input type=\\\\\\\"hidden\\\\\\\" name=\\\\\\\"XXDESXXpage\\\\\\\" value=\\\\\\\"http://newsletter.mediaunspun.com/index000018970.cfm\\\\\\\">\\\\t\\\\t  \\\\n\\\\t\\\\t  \\\\n\\\\t\\\\n\\\\t\\\\n    \\\\n\\\\n\\\\t\\\\n\\\\t\\\\n\\\\t\\\\t\\\\n    \\\\n\\\\t<p><input type=\\\\\\\"text\\\\\\\" name=\\\\\\\"XXDESXXemail_address\\\\\\\" size=\\\\\\\"15\\\\\\\" maxlength=\\\\\\\"100\\\\\\\">\\\\n\\\\t\\\\t<br><font face=\\\\\\\"verdana\\\\\\\" size=\\\\\\\"1\\\\\\\">\\\\n\\\\t \\\\n\\\\t\\\\t\\\\n\\\\t\\\\t\\\\t<input type=\\\\\\\"radio\\\\\\\" value=\\\\\\\"Add\\\\\\\" name=\\\\\\\"XXDESXXsubscribe_op\\\\\\\" checked>\\\\n\\\\t\\\\t\\\\t\\\\n\\\\t\\\\t\\\\tAdd\\\\n\\\\t\\\\t\\\\t\\\\n\\\\t\\\\t\\\\n\\\\t \\\\n\\\\t\\\\t<input type=\\\\\\\"radio\\\\\\\" value=\\\\\\\"Remove\\\\\\\" name=\\\\\\\"XXDESXXsubscribe_op\\\\\\\">\\\\n\\\\t\\\\t\\\\n\\\\t\\\\tRemove<br>\\\\n\\\\t\\\\t\\\\n\\\\t \\\\n\\\\t\\\\t<input type=\\\\\\\"checkbox\\\\\\\" name=\\\\\\\"XXDESXXemail_type\\\\\\\" value=\\\\\\\"htm\\\\\\\" checked>\\\\n\\\\t\\\\t Send\\u00a0as\\u00a0HTML<br>\\\\n\\\\t\\\\t\\\\n\\\\t   \\\\n\\\\t  <input type=\\\\\\\"submit\\\\\\\" value=\\\\\\\"Submit\\\\\\\" name=\\\\\\\"add\\\\\\\">&nbsp;\\\\n\\\\t\\\\n\\\\t</font></p>\\\\n    \\\\n\\\\n\\\\n\\\\t\\\\t</form>\\\\t\\\\n\\\\t\\\\n\\\\n </td></tr></table>\\\\n\\\\t</td></tr></table><font face=\\\\\\\"verdana,arial\\\\\\\" size=\\\\\\\"2\\\\\\\"><FONT face=Verdana size=1><STRONG>\\\\n<P align=center><BR>Newsletter Services <BR>Provided by <BR></STRONG></FONT><A href=\\\\\\\"http://www.imakenews.com/affiliate.cfm?a_id=unspun\\\\\\\"><FONT face=Verdana size=1><STRONG>iMakeNews.com</STRONG></FONT></A></P></font>\\\\n\\\\t\\\\n\\\\n\\\\t\\\\t\\\\t\\\\t\\\\t\\\\n\\\\t\\\\t\\\\t  \\\\t\\\\t\\\\n\\\\t\\\\t\\\\t\\\\t\\\\t\\\\n\\\\t\\\\t\\\\t\\\\n\\\\t\\\\t\\\\t\\\\n\\\\t\\\\t\\\\t<!-- 3,2:survey_view -->\\\\n\\\\t\\\\t\\\\t\\\\n\\\\t\\\\t\\\\t\\\\t\\\\n\\\\t\\\\t\\\\t\\\\t \\\\n\\\\n\\\\n\\\\n \\\\n \\\\n\\\\t\\\\n \\\\n\\\\t\\\\n \\\\n\\\\t\\\\n \\\\n \\\\n\\\\n\\\\n\\\\n\\\\n\\\\n\\\\n\\\\n\\\\n\\\\n\\\\t\\\\t\\\\t\\\\t\\\\t\\\\t\\\\t\\\\t\\\\t\\\\t\\\\t\\\\t\\\\n\\\\t\\\\t\\\\t\\\\n\\\\t\\\\t\\\\t\\\\n\\\\t\\\\t\\\\t<!-- 3,3:menu -->\\\\n\\\\t\\\\t\\\\t\\\\n\\\\t\\\\t\\\\t\\\\t\\\\n\\\\t\\\\t\\\\t\\\\t \\\\n\\\\t\\\\n \\\\n\\\\t\\\\n \\\\n\\\\n\\\\n\\\\n\\\\n\\\\n\\\\n\\\\n\\\\n\\\\t\\\\t\\\\t\\\\n\\\\t\\\\t\\\\t\\\\n\\\\t\\\\t\\\\t\\\\n\\\\t\\\\t\\\\t<!-- COLUMN: 3 -->\\\\n\\\\t\\\\t\\\\n\\\\t\\\\t</td></tr></table> <table bgcolor=\\\\\\\"#FFFFFF\\\\\\\" border=\\\\\\\"0\\\\\\\" cellpadding=\\\\\\\"0\\\\\\\" cellspacing=\\\\\\\"0\\\\\\\" width=\\\\\\\"100%\\\\\\\" cols=\\\\\\\"1\\\\\\\">\\\\n\\\\t<tr><td width=\\\\\\\"644\\\\\\\" valign=\\\\\\\"top\\\\\\\" bgcolor=\\\\\\\"#FFFFFF\\\\\\\"><!-- 4,1:footer -->\\\\n\\\\t\\\\t\\\\t\\\\n\\\\t\\\\t\\\\t\\\\t\\\\n\\\\t\\\\t\\\\t\\\\t\\\\n\\\\t\\\\t\\\\t\\\\t \\\\n \\\\n\\\\t\\\\n \\\\n \\\\n\\\\n\\\\t\\\\n\\\\t\\\\n\\\\n\\\\n \\\\n \\\\n\\\\t \\\\n<table width=\\\\\\\"100%\\\\\\\" border=\\\\\\\"0\\\\\\\" cellspacing=\\\\\\\"0\\\\\\\" cellpadding=\\\\\\\"4\\\\\\\" bgcolor=\\\\\\\"#FFFFFF\\\\\\\">\\\\n\\\\n<tr><td bgcolor=\\\\\\\"#FFFFFF\\\\\\\">\\\\n\\\\n\\\\n\\\\t\\\\n\\\\t<div align=\\\\\\\"left\\\\\\\">\\\\n\\\\t<table border=\\\\\\\"0\\\\\\\" cellpadding=\\\\\\\"2\\\\\\\" cellspacing=\\\\\\\"0\\\\\\\" width=\\\\\\\"100%\\\\\\\" bgcolor=\\\\\\\"#FFFFFF\\\\\\\">\\\\n\\\\t  <tr>\\\\n\\\\t    <td>\\\\n\\\\t \\\\n\\\\t\\\\t<font face=\\\\\\\"verdana,arial\\\\\\\" size=\\\\\\\"1\\\\\\\">\\\\n\\\\t\\\\t \\\\n\\\\t\\\\t</font>\\\\n\\\\t \\\\n\\\\t\\\\t</td>\\\\n\\\\t \\\\n\\\\t\\\\t\\\\t\\\\t<td align=\\\\\\\"right\\\\\\\" valign=\\\\\\\"top\\\\\\\">\\\\n\\\\t\\\\t \\\\n\\\\t\\\\t\\\\t<font face=\\\\\\\"verdana,arial\\\\\\\" size=\\\\\\\"1\\\\\\\">\\\\n\\\\t\\\\t\\\\t\\\\n\\\\t\\\\t\\\\t\\\\t\\\\n\\\\t\\\\t\\\\t\\\\n\\\\t\\\\t\\\\t\\\\n\\\\t\\\\t\\\\t<b>\\\\n\\\\t\\\\t\\\\t<a href=\\\\\\\"http://www.imakenews.com/eletra/mod_input_proc.cfm?mod_name=tell_friend_form&XXDESXXuser=mediaunspun&XXDESXXthanks=Thank%20You%2E&XXDESXXsubject=Check%20this%20out%3A%20%5B%5Btitle%5D%5D&XXDESXXheading=&XXDESXXbackto=http://newsletter.mediaunspun.com/index000018970.cfm&XXDESXXissue_id=18970&XXDESXXtitle=M%20E%20D%20I%20A%20%20U%20N%20S%20P%20U%20N\\\\\\\"\\\\n\\\\t\\\\t\\\\t class=\\\\\\\"a226814927151492-footer_tellafriend\\\\\\\">\\\\n\\\\t\\\\t\\\\t<font size=4>TELL A FRIEND</font></a></b>\\\\n\\\\t\\\\t\\\\t\\\\n\\\\t\\\\t\\\\t</font>\\\\n\\\\t\\\\t \\\\n\\\\t\\\\t\\\\t</td>\\\\n\\\\t\\\\t\\\\n\\\\t\\\\t\\\\n\\\\t\\\\t\\\\n\\\\t  </tr>\\\\n\\\\t</table></div>\\\\n\\\\t \\\\n\\\\t</td></tr></table>\\\\n\\\\t\\\\n\\\\n\\\\t\\\\t\\\\t\\\\t\\\\n\\\\t\\\\n\\\\t\\\\n \\\\n\\\\n\\\\n\\\\n\\\\n\\\\n\\\\n\\\\n\\\\n\\\\n\\\\n\\\\n\\\\n\\\\t\\\\n\\\\n\\\\t\\\\t\\\\t\\\\n\\\\t\\\\t\\\\t\\\\n\\\\t\\\\t\\\\t<!-- COLUMN: 4 -->\\\\n\\\\t\\\\t\\\\n\\\\t\\\\t</td></tr></table> </td></tr></table>\\\\n<!--IMN:BOTTOM-->\\\\n<table border=\\\\\\\"0\\\\\\\" cellpadding=\\\\\\\"2\\\\\\\" cellspacing=\\\\\\\"0\\\\\\\" width=\\\\\\\"650\\\\\\\">\\\\n  <tr><td><font face=\\\\\\\"verdana,arial\\\\\\\" size=\\\\\\\"1\\\\\\\">Powered by <strong><a href=\\\\\\\"http://www.imakenews.com\\\\\\\" target=\\\\\\\"_top\\\\\\\" class=\\\\\\\"link\\\\\\\">iMakeNews.com</a>&#153;</strong></font><br>\\\\n\\\\t<font face=\\\\\\\"verdana,arial\\\\\\\" size=\\\\\\\"1\\\\\\\">This email was sent to: zzz-unspun@example.com <br><a href=\\\\\\\"http://www.imakenews.com/eletra/remove.cfm?x=mediaunspun%2Czzz-unspun@example.com\\\\\\\">Click here</a> to be instantly removed from this list.<br><a href=\\\\\\\"http://www.imakenews.com/eletra/change.cfm?x=mediaunspun%2Czzz-unspun@example.com%2Ctxt\\\\\\\">Click here</a> to receive future messages in plain text format.<br></font><font face=\\\\\\\"verdana,arial\\\\\\\" size=\\\\\\\"1\\\\\\\"><a\\\\nhref=\\\\\\\"http://www.imakenews.com/eletra/update.cfm?x=mediaunspun%2Czzz-unspun@example.com\\\\\\\">Click here</a> to change your subscriber information and preferences.<br></font></tr></table>\\\\n<!--Ver. 7-->\\\\n\\\\n\\\\t\\\\n\\\\t\\\\t\\\\n\\\\t\\\\t\\\\t\\\\n\\\\t\\\\t \\\\n\\\\t\\\\t \\\\n\\\\t\\\\t  \\\\n\\\\t\\\\t<p>&nbsp;\\\\n\\\\t\\\\t   \\\\n\\\\t   \\\\n       <img src=\\\\\\\"http://machina.imakenews.com/E178767,5114587XXmediaunspunXX18970XXXXindex000018970.cfmXXemailXX5114587XXXX0Y0XX1\\\\\\\" alt=\\\\\\\"\\\\\\\" height=\\\\\\\"0\\\\\\\" width=\\\\\\\"0\\\\\\\">\\\\t\\\\t \\\\n\\\\t   \\\\n\\\\t   \\\\n\\\\t\\\\t</p>\\\\n\\\\t\\\\t\\\\n\\\\t\\\\n\\\\n   \\\\n \\\\n</div>\\\\n\\\\n\\\\n</body>\\\\n</html>\\\\n\\\\n\\\\n\\\"]\",\n          \"\\\"<!DOCTYPE HTML PUBLIC \\\\\\\"-//W3C//DTD HTML 4.01 Transitional//EN\\\\\\\">\\\\n\\\\n<html>\\\\n<head>\\\\n\\\\t<title></title>\\\\n</head>\\\\n<style type=\\\\\\\"text/css\\\\\\\">\\\\nA.yellow:link {text-decoration: none; color: #FFF200}\\\\nA.yellow:visited {text-decoration: none; color: #FFF200}\\\\nA.yellow:active {text-decoration: none; color: #EFEFC8}\\\\nA.yellow:hover {text-decoration: none; color: #FFFFFF}\\\\n</style>\\\\n<body topmargin=\\\\\\\"0\\\\\\\" bgcolor=\\\\\\\"#FFFFFF\\\\\\\">\\\\n<div align=\\\\\\\"center\\\\\\\"><br>\\\\n  <table width=\\\\\\\"650\\\\\\\" border=\\\\\\\"1\\\\\\\" cellspacing=\\\\\\\"0\\\\\\\" cellpadding=\\\\\\\"2\\\\\\\" bordercolor=\\\\\\\"#000000\\\\\\\">\\\\n    <tr>\\\\n      <td>\\\\n        <table width=\\\\\\\"650\\\\\\\" border=\\\\\\\"0\\\\\\\" cellspacing=\\\\\\\"0\\\\\\\" cellpadding=\\\\\\\"4\\\\\\\" align=\\\\\\\"center\\\\\\\">\\\\n          <tr> \\\\n            <td bgcolor=\\\\\\\"003366\\\\\\\"><font size=\\\\\\\"2\\\\\\\" color=\\\\\\\"#FFFFFF\\\\\\\" face=\\\\\\\"Arial, Helvetica, sans-serif\\\\\\\">. \\\\n              U N I V E R S I T Y . D I P L O M A S .</font></td>\\\\n          </tr>\\\\n          <tr> \\\\n            <td bgcolor=\\\\\\\"000000\\\\\\\" height=\\\\\\\"40\\\\\\\" valign=\\\\\\\"middle\\\\\\\"> \\\\n              <div align=\\\\\\\"center\\\\\\\"><font face=\\\\\\\"Verdana, Arial, Helvetica, sans-serif\\\\\\\" size=\\\\\\\"2\\\\\\\" color=\\\\\\\"#FFFFFF\\\\\\\"><i>Do \\\\n                you want for a prosperous future, increased money earning power, \\\\n                and the respect of all?</i><br>\\\\n                </font></div>\\\\n            </td>\\\\n          </tr>\\\\n          <tr> \\\\n            <td bgcolor=\\\\\\\"CC0033\\\\\\\"> \\\\n              <div align=\\\\\\\"center\\\\\\\"> \\\\n                <p><b><i><font face=\\\\\\\"Verdana, Arial, Helvetica, sans-serif\\\\\\\" size=\\\\\\\"2\\\\\\\">We \\\\n                  can assist with Diplomas from prestigious non-accredited universities \\\\n                  based on your present knowledge and life experience.</font></i></b></p>\\\\n              </div>\\\\n            </td>\\\\n          </tr>\\\\n          <tr> \\\\n            <td background=\\\\\\\"images/bg.jpg\\\\\\\"> \\\\n              <div align=\\\\\\\"center\\\\\\\"><font face=\\\\\\\"Verdana, Arial, Helvetica, sans-serif\\\\\\\" size=\\\\\\\"3\\\\\\\"><br>\\\\n                <b><font color=\\\\\\\"#FF0000\\\\\\\">No required tests, classes, books, or \\\\n                interviews.</font></b></font> </div>\\\\n              <p align=\\\\\\\"center\\\\\\\"><font face=\\\\\\\"Verdana, Arial, Helvetica, sans-serif\\\\\\\" size=\\\\\\\"3\\\\\\\"><i>Bachelors, \\\\n                masters, MBA, and doctorate (PhD) diplomas available in the field \\\\n                of your choice - that's right, you can become a Doctor, Lawyer or Accountant and receive \\\\n                all the benefits and admiration that comes with it!</i></font></p>\\\\n              <p align=\\\\\\\"center\\\\\\\"><font face=\\\\\\\"Verdana, Arial, Helvetica, sans-serif\\\\\\\" size=\\\\\\\"3\\\\\\\"><b><font size=\\\\\\\"5\\\\\\\" color=\\\\\\\"#0000FF\\\\\\\">No \\\\n                one is turned down!</font></b></font></p>\\\\n              <p align=\\\\\\\"center\\\\\\\"><font face=\\\\\\\"Verdana, Arial, Helvetica, sans-serif\\\\\\\" size=\\\\\\\"3\\\\\\\"><i>Confidentiality \\\\n                assured - Change your Life Today!</i></font><br>\\\\n                <br>\\\\n              </p>\\\\n            </td>\\\\n          </tr>\\\\n          <tr> \\\\n            <td bgcolor=\\\\\\\"000000\\\\\\\"> \\\\n              <div align=\\\\\\\"center\\\\\\\"> \\\\n                <p><font size=\\\\\\\"2\\\\\\\" face=\\\\\\\"Arial, Helvetica, sans-serif\\\\\\\" color=\\\\\\\"#FFFFFF\\\\\\\"><br>\\\\n                  Either <b><a href=\\\\\\\"http://61.129.81.72/jf/diploma/diploma.htm\\\\\\\" class=\\\\\\\"yellow\\\\\\\">Click Here</a></b><a href=\\\\\\\"http://61.129.81.72/jf/diploma/diploma.htm\\\\\\\"> </a>or \\\\n                  you can call us 24 hours a day, 7 days a week! <font size=\\\\\\\"1\\\\\\\">(including \\\\n                  Sundays and holidays):</font></font></p>\\\\n                <p><font size=\\\\\\\"2\\\\\\\" face=\\\\\\\"Arial, Helvetica, sans-serif\\\\\\\" color=\\\\\\\"#FFFFFF\\\\\\\"><b><font size=\\\\\\\"5\\\\\\\">1 - 310 - 388 - 6087</font></b> </font> <font size=\\\\\\\"5\\\\\\\" face=\\\\\\\"Arial, Helvetica, sans-serif\\\\\\\" color=\\\\\\\"#FFFFFF\\\\\\\">\\\\n                  <br>\\\\n                  </b></font></p>\\\\n              </div>\\\\n            </td>\\\\n          </tr>\\\\n          <tr> \\\\n            <td bgcolor=\\\\\\\"003366\\\\\\\"> \\\\n              <div align=\\\\\\\"center\\\\\\\"><font size=\\\\\\\"2\\\\\\\" color=\\\\\\\"#FFFFFF\\\\\\\" face=\\\\\\\"Arial, Helvetica, sans-serif\\\\\\\"><b><a class=\\\\\\\"yellow\\\\\\\" href=\\\\\\\"http://61.129.81.72/jf/diploma/diploma.htm\\\\\\\">Contact \\\\n                us NOW</a> to receive your diploma within days, and start improving \\\\n                your life!</b></font></div>\\\\n            </td>\\\\n          </tr>\\\\n        </table>\\\\n      </td>\\\\n    </tr>\\\\n  </table>\\\\n</div>\\\\n<table align=\\\\\\\"center\\\\\\\" width=\\\\\\\"650\\\\\\\" cellspacing=\\\\\\\"2\\\\\\\" cellpadding=\\\\\\\"2\\\\\\\" border=\\\\\\\"0\\\\\\\" class=\\\\\\\"footer2\\\\\\\">\\\\n  <tr><td colspan=\\\\\\\"2\\\\\\\"><font face=\\\\\\\"Verdana, Arial, Helvetica, sans-serif\\\\\\\" size=\\\\\\\"1\\\\\\\"><br>\\\\n <font color=\\\\\\\"ED1C24\\\\\\\">Did you receive an email advertisement in error?</font> Our goal is to only target individuals who would like to take advantage of our offers. If you'd like to be removed from our mailing list, please click on the link below. You will be removed immediately and automatically from all of our future mailings.<br><br></font></td>\\\\n</tr><tr> <td><font face=\\\\\\\"Verdana, Arial, Helvetica, sans-serif\\\\\\\" size=\\\\\\\"1\\\\\\\">We protect all email addresses from other third parties. Thank you.</font></td>\\\\n<td align=\\\\\\\"right\\\\\\\"><a href=\\\\\\\"http://61.129.81.72/remove/remove.htm\\\\\\\"><font face=\\\\\\\"Verdana, Arial, Helvetica, sans-serif\\\\\\\" size=\\\\\\\"1\\\\\\\">Please remove me.</font></a></td></tr></table>\\\\n</body>\\\\n</html>\\\\n\\\\n\\\\n\\\\n\\\\n\\\"\"\n        ],\n        \"semantic_type\": \"\",\n        \"description\": \"\"\n      }\n    }\n  ]\n}"
            }
          },
          "metadata": {},
          "execution_count": 13
        }
      ]
    },
    {
      "cell_type": "code",
      "source": [
        "# Preprocessing function\n",
        "def clean_text(text):\n",
        "    text = text.lower()  # Lowercasing\n",
        "    text = re.sub(r'\\S+@\\S+', ' ', text)  # Remove emails\n",
        "    text = re.sub(r'https?://\\S+', ' ', text)  # Remove URLs\n",
        "    text = re.sub(r'[^a-z\\s]', ' ', text)  # Keep only letters and spaces\n",
        "    text = re.sub(r'\\s+', ' ', text).strip()  # Remove extra spaces\n",
        "    return text\n",
        "\n",
        "# Apply cleaning\n",
        "df[\"clean_text\"] = df[\"text\"].apply(clean_text)\n",
        "\n",
        "# Encode labels (1 = spam, 0 = ham)\n",
        "df[\"label\"] = df[\"label\"].astype(int)\n",
        "\n",
        "# Check dataset\n",
        "print(df.head())"
      ],
      "metadata": {
        "id": "-2i-Nezr8yLy",
        "outputId": "31fc37fa-cd5f-4350-bb7a-94a741e13096",
        "colab": {
          "base_uri": "https://localhost:8080/"
        }
      },
      "execution_count": 14,
      "outputs": [
        {
          "output_type": "stream",
          "name": "stdout",
          "text": [
            "   label     group                                               text  \\\n",
            "0      1  easy_ham  \"\\n> From: fork-admin@xent.com [mailto:fork-ad...   \n",
            "1      1  easy_ham  \"Hi,\\n\\nOn Sun, 01 Sep 2002 00:05:03 MDT Reg C...   \n",
            "2      1  easy_ham  \"On Fri Sep 13 2002 at 02:03, Robert Elz wrote...   \n",
            "3      1  easy_ham  \"On Thu, 2002-08-29 at 01:06, Matthias Saou wr...   \n",
            "4      1  easy_ham  \"Hi, I'm building an rpm for the resin webserv...   \n",
            "\n",
            "                                          clean_text  \n",
            "0  n from on behalf of njames n rogers n n subjec...  \n",
            "1  hi n non sun sep mdt reg clemens wrote n n n i...  \n",
            "2  on fri sep at robert elz wrote n n date wed se...  \n",
            "3  on thu at matthias saou wrote n n thanks a lot...  \n",
            "4  hi i m building an rpm for the resin webserver...  \n"
          ]
        }
      ]
    },
    {
      "cell_type": "code",
      "source": [
        "from sklearn.feature_extraction.text import TfidfVectorizer\n",
        "from sklearn.model_selection import train_test_split\n",
        "import lightgbm as lgb\n",
        "from sklearn.metrics import accuracy_score\n",
        "\n",
        "# Convert text to TF-IDF features\n",
        "vectorizer = TfidfVectorizer(max_features=5000)\n",
        "X = vectorizer.fit_transform(df[\"clean_text\"]).toarray()\n",
        "y = df[\"label\"]\n",
        "\n",
        "# Split dataset\n",
        "X_train, X_test, y_train, y_test = train_test_split(X, y, test_size=0.2, random_state=42)\n",
        "\n",
        "# Train LightGBM model\n",
        "lgbm = lgb.LGBMClassifier(n_estimators=100)\n",
        "lgbm.fit(X_train, y_train)\n",
        "\n",
        "# Predict\n",
        "y_pred = lgbm.predict(X_test)\n",
        "accuracy = accuracy_score(y_test, y_pred)\n",
        "\n",
        "print(f\"LightGBM Accuracy: {accuracy:.4f}\")\n",
        "\n",
        "\n",
        "\n",
        "\n",
        "\n",
        "\n",
        "\n",
        "\n",
        "\n",
        "\n",
        "# Encode categories\n",
        "label_encoder = LabelEncoder()\n",
        "df[\"group\"] = label_encoder.fit_transform(df[\"group\"])  # Encode labels as numbers\n",
        "\n"
      ],
      "metadata": {
        "id": "ddJS5rmw6CaR",
        "outputId": "b4cf6099-d932-4f1a-dc6d-754f1e2f6a6a",
        "colab": {
          "base_uri": "https://localhost:8080/",
          "height": 547
        }
      },
      "execution_count": 15,
      "outputs": [
        {
          "output_type": "error",
          "ename": "KeyError",
          "evalue": "'category'",
          "traceback": [
            "\u001b[0;31m---------------------------------------------------------------------------\u001b[0m",
            "\u001b[0;31mKeyError\u001b[0m                                  Traceback (most recent call last)",
            "\u001b[0;32m/usr/local/lib/python3.11/dist-packages/pandas/core/indexes/base.py\u001b[0m in \u001b[0;36mget_loc\u001b[0;34m(self, key)\u001b[0m\n\u001b[1;32m   3804\u001b[0m         \u001b[0;32mtry\u001b[0m\u001b[0;34m:\u001b[0m\u001b[0;34m\u001b[0m\u001b[0;34m\u001b[0m\u001b[0m\n\u001b[0;32m-> 3805\u001b[0;31m             \u001b[0;32mreturn\u001b[0m \u001b[0mself\u001b[0m\u001b[0;34m.\u001b[0m\u001b[0m_engine\u001b[0m\u001b[0;34m.\u001b[0m\u001b[0mget_loc\u001b[0m\u001b[0;34m(\u001b[0m\u001b[0mcasted_key\u001b[0m\u001b[0;34m)\u001b[0m\u001b[0;34m\u001b[0m\u001b[0;34m\u001b[0m\u001b[0m\n\u001b[0m\u001b[1;32m   3806\u001b[0m         \u001b[0;32mexcept\u001b[0m \u001b[0mKeyError\u001b[0m \u001b[0;32mas\u001b[0m \u001b[0merr\u001b[0m\u001b[0;34m:\u001b[0m\u001b[0;34m\u001b[0m\u001b[0;34m\u001b[0m\u001b[0m\n",
            "\u001b[0;32mindex.pyx\u001b[0m in \u001b[0;36mpandas._libs.index.IndexEngine.get_loc\u001b[0;34m()\u001b[0m\n",
            "\u001b[0;32mindex.pyx\u001b[0m in \u001b[0;36mpandas._libs.index.IndexEngine.get_loc\u001b[0;34m()\u001b[0m\n",
            "\u001b[0;32mpandas/_libs/hashtable_class_helper.pxi\u001b[0m in \u001b[0;36mpandas._libs.hashtable.PyObjectHashTable.get_item\u001b[0;34m()\u001b[0m\n",
            "\u001b[0;32mpandas/_libs/hashtable_class_helper.pxi\u001b[0m in \u001b[0;36mpandas._libs.hashtable.PyObjectHashTable.get_item\u001b[0;34m()\u001b[0m\n",
            "\u001b[0;31mKeyError\u001b[0m: 'category'",
            "\nThe above exception was the direct cause of the following exception:\n",
            "\u001b[0;31mKeyError\u001b[0m                                  Traceback (most recent call last)",
            "\u001b[0;32m<ipython-input-15-088d5a205b40>\u001b[0m in \u001b[0;36m<cell line: 0>\u001b[0;34m()\u001b[0m\n\u001b[1;32m      5\u001b[0m \u001b[0;31m# Encode categories\u001b[0m\u001b[0;34m\u001b[0m\u001b[0;34m\u001b[0m\u001b[0m\n\u001b[1;32m      6\u001b[0m \u001b[0mlabel_encoder\u001b[0m \u001b[0;34m=\u001b[0m \u001b[0mLabelEncoder\u001b[0m\u001b[0;34m(\u001b[0m\u001b[0;34m)\u001b[0m\u001b[0;34m\u001b[0m\u001b[0;34m\u001b[0m\u001b[0m\n\u001b[0;32m----> 7\u001b[0;31m \u001b[0mdf\u001b[0m\u001b[0;34m[\u001b[0m\u001b[0;34m\"category\"\u001b[0m\u001b[0;34m]\u001b[0m \u001b[0;34m=\u001b[0m \u001b[0mlabel_encoder\u001b[0m\u001b[0;34m.\u001b[0m\u001b[0mfit_transform\u001b[0m\u001b[0;34m(\u001b[0m\u001b[0mdf\u001b[0m\u001b[0;34m[\u001b[0m\u001b[0;34m\"category\"\u001b[0m\u001b[0;34m]\u001b[0m\u001b[0;34m)\u001b[0m  \u001b[0;31m# Encode labels as numbers\u001b[0m\u001b[0;34m\u001b[0m\u001b[0;34m\u001b[0m\u001b[0m\n\u001b[0m\u001b[1;32m      8\u001b[0m \u001b[0;34m\u001b[0m\u001b[0m\n",
            "\u001b[0;32m/usr/local/lib/python3.11/dist-packages/pandas/core/frame.py\u001b[0m in \u001b[0;36m__getitem__\u001b[0;34m(self, key)\u001b[0m\n\u001b[1;32m   4100\u001b[0m             \u001b[0;32mif\u001b[0m \u001b[0mself\u001b[0m\u001b[0;34m.\u001b[0m\u001b[0mcolumns\u001b[0m\u001b[0;34m.\u001b[0m\u001b[0mnlevels\u001b[0m \u001b[0;34m>\u001b[0m \u001b[0;36m1\u001b[0m\u001b[0;34m:\u001b[0m\u001b[0;34m\u001b[0m\u001b[0;34m\u001b[0m\u001b[0m\n\u001b[1;32m   4101\u001b[0m                 \u001b[0;32mreturn\u001b[0m \u001b[0mself\u001b[0m\u001b[0;34m.\u001b[0m\u001b[0m_getitem_multilevel\u001b[0m\u001b[0;34m(\u001b[0m\u001b[0mkey\u001b[0m\u001b[0;34m)\u001b[0m\u001b[0;34m\u001b[0m\u001b[0;34m\u001b[0m\u001b[0m\n\u001b[0;32m-> 4102\u001b[0;31m             \u001b[0mindexer\u001b[0m \u001b[0;34m=\u001b[0m \u001b[0mself\u001b[0m\u001b[0;34m.\u001b[0m\u001b[0mcolumns\u001b[0m\u001b[0;34m.\u001b[0m\u001b[0mget_loc\u001b[0m\u001b[0;34m(\u001b[0m\u001b[0mkey\u001b[0m\u001b[0;34m)\u001b[0m\u001b[0;34m\u001b[0m\u001b[0;34m\u001b[0m\u001b[0m\n\u001b[0m\u001b[1;32m   4103\u001b[0m             \u001b[0;32mif\u001b[0m \u001b[0mis_integer\u001b[0m\u001b[0;34m(\u001b[0m\u001b[0mindexer\u001b[0m\u001b[0;34m)\u001b[0m\u001b[0;34m:\u001b[0m\u001b[0;34m\u001b[0m\u001b[0;34m\u001b[0m\u001b[0m\n\u001b[1;32m   4104\u001b[0m                 \u001b[0mindexer\u001b[0m \u001b[0;34m=\u001b[0m \u001b[0;34m[\u001b[0m\u001b[0mindexer\u001b[0m\u001b[0;34m]\u001b[0m\u001b[0;34m\u001b[0m\u001b[0;34m\u001b[0m\u001b[0m\n",
            "\u001b[0;32m/usr/local/lib/python3.11/dist-packages/pandas/core/indexes/base.py\u001b[0m in \u001b[0;36mget_loc\u001b[0;34m(self, key)\u001b[0m\n\u001b[1;32m   3810\u001b[0m             ):\n\u001b[1;32m   3811\u001b[0m                 \u001b[0;32mraise\u001b[0m \u001b[0mInvalidIndexError\u001b[0m\u001b[0;34m(\u001b[0m\u001b[0mkey\u001b[0m\u001b[0;34m)\u001b[0m\u001b[0;34m\u001b[0m\u001b[0;34m\u001b[0m\u001b[0m\n\u001b[0;32m-> 3812\u001b[0;31m             \u001b[0;32mraise\u001b[0m \u001b[0mKeyError\u001b[0m\u001b[0;34m(\u001b[0m\u001b[0mkey\u001b[0m\u001b[0;34m)\u001b[0m \u001b[0;32mfrom\u001b[0m \u001b[0merr\u001b[0m\u001b[0;34m\u001b[0m\u001b[0;34m\u001b[0m\u001b[0m\n\u001b[0m\u001b[1;32m   3813\u001b[0m         \u001b[0;32mexcept\u001b[0m \u001b[0mTypeError\u001b[0m\u001b[0;34m:\u001b[0m\u001b[0;34m\u001b[0m\u001b[0;34m\u001b[0m\u001b[0m\n\u001b[1;32m   3814\u001b[0m             \u001b[0;31m# If we have a listlike key, _check_indexing_error will raise\u001b[0m\u001b[0;34m\u001b[0m\u001b[0;34m\u001b[0m\u001b[0m\n",
            "\u001b[0;31mKeyError\u001b[0m: 'category'"
          ]
        }
      ]
    },
    {
      "cell_type": "code",
      "source": [
        "# Convert text to TF-IDF features (low memory friendly)\n",
        "vectorizer = TfidfVectorizer(max_features=5000)  # Limit features for low memory\n",
        "X = vectorizer.fit_transform(df[\"text\"]).toarray()\n",
        "y = df[\"group\"]\n",
        "\n",
        "# Split data\n",
        "X_train, X_test, y_train, y_test = train_test_split(X, y, test_size=0.2, random_state=42)\n",
        "\n",
        "# LightGBM model\n",
        "lgb_train = lgb.Dataset(X_train, y_train)\n",
        "lgb_test = lgb.Dataset(X_test, y_test, reference=lgb_train)\n"
      ],
      "metadata": {
        "id": "M6X-ztH16Mvx"
      },
      "execution_count": null,
      "outputs": []
    },
    {
      "cell_type": "code",
      "source": [
        "params = {\n",
        "    \"objective\": \"multiclass\",\n",
        "    \"num_class\": len(np.unique(y)),\n",
        "    \"metric\": \"multi_logloss\",\n",
        "    \"boosting_type\": \"gbdt\",\n",
        "    \"max_depth\": -1,\n",
        "    \"learning_rate\": 0.1,\n",
        "    \"verbose\": -1,\n",
        "    \"num_leaves\": 31,\n",
        "    \"feature_fraction\": 0.8,\n",
        "    \"bagging_fraction\": 0.8,\n",
        "    \"bagging_freq\": 5\n",
        "}\n",
        "\n",
        "# Train LightGBM\n",
        "model = lgb.train(params, lgb_train, valid_sets=[lgb_test], early_stopping_rounds=20, verbose_eval=False)\n",
        "\n"
      ],
      "metadata": {
        "id": "UrTNCctLSN3K"
      },
      "execution_count": null,
      "outputs": []
    },
    {
      "cell_type": "code",
      "source": [
        "# Predict and evaluate\n",
        "y_pred = model.predict(X_test)\n",
        "y_pred = np.argmax(y_pred, axis=1)\n",
        "accuracy = accuracy_score(y_test, y_pred)\n",
        "\n",
        "print(f\"Test Accuracy: {accuracy:.4f}\")\n"
      ],
      "metadata": {
        "id": "bHnQEIn76ZS4"
      },
      "execution_count": null,
      "outputs": []
    },
    {
      "cell_type": "markdown",
      "source": [
        "#**using DistilBERT (more expensive)**"
      ],
      "metadata": {
        "id": "QR4V3i-C60Pq"
      }
    },
    {
      "cell_type": "code",
      "source": [
        "pip install transformers datasets torch scikit-learn\n"
      ],
      "metadata": {
        "id": "wRmmPA3Q66VE"
      },
      "execution_count": null,
      "outputs": []
    },
    {
      "cell_type": "code",
      "source": [
        "import torch\n",
        "import pandas as pd\n",
        "from sklearn.model_selection import train_test_split\n",
        "from sklearn.preprocessing import LabelEncoder\n",
        "from datasets import Dataset\n",
        "from transformers import DistilBertTokenizer, DistilBertForSequenceClassification, Trainer, TrainingArguments\n",
        "import numpy as np\n",
        "\n",
        "# Load dataset (ensure 'text' and 'category' columns exist)\n",
        "df = pd.read_csv(\"email_dataset.csv\")\n",
        "df.dropna(inplace=True)\n",
        "\n",
        "# Encode labels\n",
        "label_encoder = LabelEncoder()\n",
        "df[\"category\"] = label_encoder.fit_transform(df[\"category\"])\n",
        "num_classes = len(label_encoder.classes_)\n",
        "\n",
        "# Split data\n",
        "train_texts, test_texts, train_labels, test_labels = train_test_split(\n",
        "    df[\"text\"].tolist(), df[\"category\"].tolist(), test_size=0.2, random_state=42\n",
        ")\n",
        "\n",
        "# Tokenization\n",
        "tokenizer = DistilBertTokenizer.from_pretrained(\"distilbert-base-uncased\")\n",
        "\n",
        "train_encodings = tokenizer(train_texts, truncation=True, padding=True, max_length=512)\n",
        "test_encodings = tokenizer(test_texts, truncation=True, padding=True, max_length=512)\n",
        "\n",
        "# Convert to Dataset format\n",
        "train_dataset = Dataset.from_dict({\"input_ids\": train_encodings[\"input_ids\"], \"attention_mask\": train_encodings[\"attention_mask\"], \"labels\": train_labels})\n",
        "test_dataset = Dataset.from_dict({\"input_ids\": test_encodings[\"input_ids\"], \"attention_mask\": test_encodings[\"attention_mask\"], \"labels\": test_labels})\n",
        "\n",
        "# Load DistilBERT model\n",
        "model = DistilBertForSequenceClassification.from_pretrained(\"distilbert-base-uncased\", num_labels=num_classes)\n",
        "\n",
        "# Training arguments\n",
        "training_args = TrainingArguments(\n",
        "    output_dir=\"./results\",\n",
        "    evaluation_strategy=\"epoch\",\n",
        "    save_strategy=\"epoch\",\n",
        "    per_device_train_batch_size=8,  # Reduce batch size for low memory\n",
        "    per_device_eval_batch_size=8,\n",
        "    num_train_epochs=3,\n",
        "    weight_decay=0.01,\n",
        "    logging_dir=\"./logs\",\n",
        "    load_best_model_at_end=True\n",
        ")\n",
        "\n",
        "# Trainer\n",
        "trainer = Trainer(\n",
        "    model=model,\n",
        "    args=training_args,\n",
        "    train_dataset=train_dataset,\n",
        "    eval_dataset=test_dataset\n",
        ")\n",
        "\n",
        "# Train model\n",
        "trainer.train()\n",
        "\n",
        "# Evaluate\n",
        "preds = trainer.predict(test_dataset).predictions\n",
        "pred_labels = np.argmax(preds, axis=1)\n",
        "accuracy = (pred_labels == np.array(test_labels)).mean()\n",
        "\n",
        "print(f\"Test Accuracy: {accuracy:.4f}\")\n"
      ],
      "metadata": {
        "id": "v6QtLKea69TS"
      },
      "execution_count": null,
      "outputs": []
    }
  ]
}