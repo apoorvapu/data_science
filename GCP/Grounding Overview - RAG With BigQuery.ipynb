{
 "cells": [
  {
   "cell_type": "markdown",
   "id": "841ce815",
   "metadata": {},
   "source": [
    "![tracker](https://us-central1-vertex-ai-mlops-369716.cloudfunctions.net/pixel-tracking?path=statmike%2Fvertex-ai-mlops%2FApplied+GenAI&file=Grounding+Overview+-+RAG+With+BigQuery.ipynb)\n",
    "<!--- header table --->\n",
    "<table align=\"left\">\n",
    "  <td style=\"text-align: center\">\n",
    "    <a href=\"https://colab.research.google.com/github/statmike/vertex-ai-mlops/blob/main/Applied%20GenAI/Grounding%20Overview%20-%20RAG%20With%20BigQuery.ipynb\">\n",
    "      <img src=\"https://cloud.google.com/ml-engine/images/colab-logo-32px.png\" alt=\"Google Colaboratory logo\">\n",
    "      <br>Run in<br>Colab\n",
    "    </a>\n",
    "  </td>\n",
    "  <td style=\"text-align: center\">\n",
    "    <a href=\"https://console.cloud.google.com/vertex-ai/colab/import/https%3A%2F%2Fraw.githubusercontent.com%2Fstatmike%2Fvertex-ai-mlops%2Fmain%2FApplied%2520GenAI%2FGrounding%2520Overview%2520-%2520RAG%2520With%2520BigQuery.ipynb\">\n",
    "      <img width=\"32px\" src=\"https://lh3.googleusercontent.com/JmcxdQi-qOpctIvWKgPtrzZdJJK-J3sWE1RsfjZNwshCFgE_9fULcNpuXYTilIR2hjwN\" alt=\"Google Cloud Colab Enterprise logo\">\n",
    "      <br>Run in<br>Colab Enterprise\n",
    "    </a>\n",
    "  </td>      \n",
    "  <td style=\"text-align: center\">\n",
    "    <a href=\"https://github.com/statmike/vertex-ai-mlops/blob/main/Applied%20GenAI/Grounding%20Overview%20-%20RAG%20With%20BigQuery.ipynb\">\n",
    "      <img src=\"https://cloud.google.com/ml-engine/images/github-logo-32px.png\" alt=\"GitHub logo\">\n",
    "      <br>View on<br>GitHub\n",
    "    </a>\n",
    "  </td>\n",
    "  <td style=\"text-align: center\">\n",
    "    <a href=\"https://console.cloud.google.com/vertex-ai/workbench/deploy-notebook?download_url=https://raw.githubusercontent.com/statmike/vertex-ai-mlops/main/Applied%20GenAI/Grounding%20Overview%20-%20RAG%20With%20BigQuery.ipynb\">\n",
    "      <img src=\"https://lh3.googleusercontent.com/UiNooY4LUgW_oTvpsNhPpQzsstV5W8F7rYgxgGBD85cWJoLmrOzhVs_ksK_vgx40SHs7jCqkTkCk=e14-rj-sc0xffffff-h130-w32\" alt=\"Vertex AI logo\">\n",
    "      <br>Open in<br>Vertex AI Workbench\n",
    "    </a>\n",
    "  </td>\n",
    "</table>"
   ]
  },
  {
   "cell_type": "markdown",
   "id": "1e6390f9-8983-4bbe-b3f5-dae322ff62e1",
   "metadata": {},
   "source": [
    "---\n",
    "This is part a [series of notebook based workflows](./readme.md) for Applided GenAI using Vertex AI.\n",
    "Specifically, these are related to grounding methods for LLMs:\n",
    "\n",
    "||Notebook Workflow|Description|\n",
    "|---|---|---|\n",
    "||[Grounding Overview](./Grounding%20Overview.ipynb)|Overview of grounding methods with comparison and evaluation|\n",
    "||[Grounding Overview - Vertex AI Search](./Grounding%20Overview%20-%20Vertex%20AI%20Search.ipynb)|Setting up and using Vertex AI Search.|\n",
    "|**This Notebook**|[Grounding Overview - RAG With BigQuery](./Grounding%20Overview%20-%20RAG%20With%20BigQuery.ipynb)|A Complete workflow (process, parse, embed, index, retrieve, generate) with BigQuery Vector Search.|\n",
    "||[Grounding Overview - RAG With Vertex AI Feature Store](./Grounding%20Overview%20-%20RAG%20With%20Vertex%20AI%20Feature%20Store.ipynb)|A complete workflow (process, parse, embed, index, retrieve, generate) with Vertex AI Feature Store as an online retrieval system over BigQuery data.|\n",
    "||Grounding Overview - RAG With Vertex AI Vector Search|A complete workflow (process, parse, embed, index, retrieve, generate) with Vertex AI Vector Search as an online retrieval system.|\n",
    "||Grounding Overview - RAG With LlamaIndex ON Vertex AI|A complete retrieval workflow (process, parse, embed, index, retrieve, generate) with LlamaIndex on Vertex AI as a retrieval system.|\n",
    "\n",
    "---"
   ]
  },
  {
   "cell_type": "markdown",
   "id": "f84ce1b4-dbaf-4fd6-9636-f8d142239a3f",
   "metadata": {},
   "source": [
    "# Grounding Overview - RAG With BigQuery\n",
    "\n",
    "WRITEUP IS IN PROGRESS\n",
    "\n",
    "Todo:\n",
    "- finish the RAG on FS version (parent to this one - visa versa)\n",
    "- Write overview\n",
    "- add screenshots\n",
    "- Add links in each section\n",
    "- add section showing RAG with BQ\n",
    "    - add the RAG with BQ to overall groundinng overview\n",
    "- add RAG in BQ methods\n",
    "    - ml.generate text with RAG all inside BQ\n",
    "- Poinnt to Grounding Overview at top and bottom"
   ]
  },
  {
   "cell_type": "markdown",
   "id": "c6ea69ed-712b-4b29-8a39-92300221d220",
   "metadata": {
    "id": "od_UkDpvRmgD"
   },
   "source": [
    "---\n",
    "## Colab Setup\n",
    "\n",
    "When running this notebook in [Colab](https://colab.google/) or [Colab Enterprise](https://cloud.google.com/colab/docs/introduction), this section will authenticate to GCP (follow prompts in the popup) and set the current project for the session."
   ]
  },
  {
   "cell_type": "code",
   "execution_count": 1,
   "id": "6e182e45-e933-419f-929b-da79a5009f5a",
   "metadata": {
    "executionInfo": {
     "elapsed": 195,
     "status": "ok",
     "timestamp": 1683726184843,
     "user": {
      "displayName": "Mike Henderson",
      "userId": "07691629187611687318"
     },
     "user_tz": 240
    },
    "id": "8UO9FnqyKBlF",
    "tags": []
   },
   "outputs": [],
   "source": [
    "PROJECT_ID = 'statmike-mlops-349915' # replace with project ID"
   ]
  },
  {
   "cell_type": "code",
   "execution_count": 2,
   "id": "7f813a45-f4b5-4c48-beca-1314eff857a1",
   "metadata": {
    "colab": {
     "base_uri": "https://localhost:8080/"
    },
    "executionInfo": {
     "elapsed": 68869,
     "status": "ok",
     "timestamp": 1683726253709,
     "user": {
      "displayName": "Mike Henderson",
      "userId": "07691629187611687318"
     },
     "user_tz": 240
    },
    "id": "N98-KK7LRkjm",
    "outputId": "09ec5008-0def-4e1a-c349-c598ee752f78",
    "tags": []
   },
   "outputs": [],
   "source": [
    "try:\n",
    "    from google.colab import auth\n",
    "    auth.authenticate_user()\n",
    "    !gcloud config set project {PROJECT_ID}\n",
    "except Exception:\n",
    "    pass"
   ]
  },
  {
   "cell_type": "markdown",
   "id": "d3f03b53-3efb-4f0f-830d-5d31d0dd32f1",
   "metadata": {},
   "source": [
    "---\n",
    "## Installs and API Enablement\n",
    "\n",
    "The clients packages may need installing in this environment. "
   ]
  },
  {
   "cell_type": "markdown",
   "id": "22df5948-9d1a-47a9-bd8c-a78ee98057b6",
   "metadata": {},
   "source": [
    "### Installs (If Needed)"
   ]
  },
  {
   "cell_type": "code",
   "execution_count": 3,
   "id": "9e07a7d8-2ef8-43e0-8563-ab11e9af294b",
   "metadata": {
    "tags": []
   },
   "outputs": [],
   "source": [
    "# tuples of (import name, install name, min_version)\n",
    "packages = [\n",
    "    ('google.cloud.aiplatform', 'google-cloud-aiplatform', '1.62.0'),\n",
    "    ('google.cloud.documentai', 'google-cloud-documentai', '2.31.0'),\n",
    "    ('google.cloud.bigquery', 'google-cloud-bigquery'),\n",
    "    ('google.cloud.storage', 'google-cloud-storage')\n",
    "]\n",
    "\n",
    "import importlib\n",
    "install = False\n",
    "for package in packages:\n",
    "    if not importlib.util.find_spec(package[0]):\n",
    "        print(f'installing package {package[1]}')\n",
    "        install = True\n",
    "        !pip install {package[1]} -U -q --user\n",
    "    elif len(package) == 3:\n",
    "        if importlib.metadata.version(package[0]) < package[2]:\n",
    "            print(f'updating package {package[1]}')\n",
    "            install = True\n",
    "            !pip install {package[1]} -U -q --user"
   ]
  },
  {
   "cell_type": "markdown",
   "id": "c1399a49-bac5-4559-a0dc-187bfd7103b4",
   "metadata": {},
   "source": [
    "### API Enablement"
   ]
  },
  {
   "cell_type": "code",
   "execution_count": 4,
   "id": "da977c97-b960-4a11-8d95-3fe3b4c69467",
   "metadata": {
    "tags": []
   },
   "outputs": [],
   "source": [
    "!gcloud services enable aiplatform.googleapis.com\n",
    "!gcloud services enable documentai.googleapis.com"
   ]
  },
  {
   "cell_type": "markdown",
   "id": "eadb3b8b-5380-4531-8ef4-c597bfab6291",
   "metadata": {},
   "source": [
    "### Restart Kernel (If Installs Occured)\n",
    "\n",
    "After a kernel restart the code submission can start with the next cell after this one."
   ]
  },
  {
   "cell_type": "code",
   "execution_count": 5,
   "id": "0e90e525-3b66-4972-aa59-1677c5dabdab",
   "metadata": {
    "tags": []
   },
   "outputs": [],
   "source": [
    "if install:\n",
    "    import IPython\n",
    "    app = IPython.Application.instance()\n",
    "    app.kernel.do_shutdown(True)\n",
    "    IPython.display.display(IPython.display.Markdown(\"\"\"<div class=\\\"alert alert-block alert-warning\\\">\n",
    "        <b>⚠️ The kernel is going to restart. Please wait until it is finished before continuing to the next step. The previous cells do not need to be run again⚠️</b>\n",
    "        </div>\"\"\"))"
   ]
  },
  {
   "cell_type": "markdown",
   "id": "adb022c9-da14-401c-97ec-acf141eb60e0",
   "metadata": {
    "id": "appt8-yVRtJ1"
   },
   "source": [
    "---\n",
    "## Setup"
   ]
  },
  {
   "cell_type": "markdown",
   "id": "6191fe06-9cc6-4e0d-ba26-11a19cbf7e8e",
   "metadata": {
    "id": "63mx2EozRxFP"
   },
   "source": [
    "Inputs"
   ]
  },
  {
   "cell_type": "code",
   "execution_count": 6,
   "id": "6f58c91f-4581-4360-8242-68455ed3a2d7",
   "metadata": {
    "colab": {
     "base_uri": "https://localhost:8080/",
     "height": 35
    },
    "executionInfo": {
     "elapsed": 2124,
     "status": "ok",
     "timestamp": 1683726390544,
     "user": {
      "displayName": "Mike Henderson",
      "userId": "07691629187611687318"
     },
     "user_tz": 240
    },
    "id": "xzcoXjM5Rky5",
    "outputId": "b3bdcbc1-70d5-472e-aea2-42c74a42efde",
    "tags": []
   },
   "outputs": [
    {
     "data": {
      "text/plain": [
       "'statmike-mlops-349915'"
      ]
     },
     "execution_count": 6,
     "metadata": {},
     "output_type": "execute_result"
    }
   ],
   "source": [
    "project = !gcloud config get-value project\n",
    "PROJECT_ID = project[0]\n",
    "PROJECT_ID"
   ]
  },
  {
   "cell_type": "code",
   "execution_count": 7,
   "id": "6c7b2438-1305-4db0-ae83-eee15261cf5c",
   "metadata": {
    "executionInfo": {
     "elapsed": 2,
     "status": "ok",
     "timestamp": 1683726390712,
     "user": {
      "displayName": "Mike Henderson",
      "userId": "07691629187611687318"
     },
     "user_tz": 240
    },
    "id": "IxWrFtqYMfku",
    "tags": []
   },
   "outputs": [],
   "source": [
    "REGION = 'us-central1'\n",
    "SERIES = 'applied-genai'\n",
    "EXPERIMENT = 'grounding-overview'\n",
    "\n",
    "# make this the gcs bucket for storing files\n",
    "GCS_BUCKET = PROJECT_ID \n",
    "\n",
    "# make this the BQ Project / Dataset / Table prefix to store results\n",
    "BQ_PROJECT = PROJECT_ID\n",
    "BQ_DATASET = SERIES.replace('-', '_')\n",
    "BQ_TABLE = EXPERIMENT\n",
    "BQ_REGION = REGION[0:2]"
   ]
  },
  {
   "cell_type": "markdown",
   "id": "a4f30a11-22a1-45fb-912e-90f684872362",
   "metadata": {
    "id": "LuajVwCiO6Yg"
   },
   "source": [
    "Packages"
   ]
  },
  {
   "cell_type": "code",
   "execution_count": 8,
   "id": "7628cdf8-d3f9-4e07-8a88-d1ef09df7149",
   "metadata": {
    "executionInfo": {
     "elapsed": 17761,
     "status": "ok",
     "timestamp": 1683726409304,
     "user": {
      "displayName": "Mike Henderson",
      "userId": "07691629187611687318"
     },
     "user_tz": 240
    },
    "id": "LVC7zzSLRk2C",
    "tags": []
   },
   "outputs": [],
   "source": [
    "import os\n",
    "import re\n",
    "import io\n",
    "import json\n",
    "import base64\n",
    "import requests\n",
    "import concurrent.futures\n",
    "import time\n",
    "import asyncio\n",
    "\n",
    "from google.cloud import aiplatform\n",
    "import vertexai.language_models\n",
    "import vertexai.generative_models # for Gemini Models\n",
    "from google.cloud import documentai\n",
    "from google.cloud import storage\n",
    "from google.cloud import bigquery"
   ]
  },
  {
   "cell_type": "code",
   "execution_count": 9,
   "id": "fec44630-e909-433e-b935-d7f6bddd15f8",
   "metadata": {
    "tags": []
   },
   "outputs": [
    {
     "data": {
      "text/plain": [
       "'1.62.0'"
      ]
     },
     "execution_count": 9,
     "metadata": {},
     "output_type": "execute_result"
    }
   ],
   "source": [
    "aiplatform.__version__"
   ]
  },
  {
   "cell_type": "markdown",
   "id": "e828f97f-03b0-491e-a406-c78057bceb0a",
   "metadata": {
    "id": "EyAVFG9TO9H-"
   },
   "source": [
    "Clients"
   ]
  },
  {
   "cell_type": "code",
   "execution_count": 10,
   "id": "31938c2e-9a7c-4940-abec-9e4144710abd",
   "metadata": {
    "executionInfo": {
     "elapsed": 19,
     "status": "ok",
     "timestamp": 1683726409306,
     "user": {
      "displayName": "Mike Henderson",
      "userId": "07691629187611687318"
     },
     "user_tz": 240
    },
    "id": "L0RPE13LOZce",
    "tags": []
   },
   "outputs": [],
   "source": [
    "# vertex ai clients\n",
    "vertexai.init(project = PROJECT_ID, location = REGION)\n",
    "\n",
    "# document AI client\n",
    "LOCATION = REGION.split('-')[0]\n",
    "docai_client = documentai.DocumentProcessorServiceClient(\n",
    "    client_options = dict(api_endpoint = f\"{LOCATION}-documentai.googleapis.com\")\n",
    ")\n",
    "docai_async_client = documentai.DocumentProcessorServiceAsyncClient(\n",
    "    client_options = dict(api_endpoint = f\"{LOCATION}-documentai.googleapis.com\")\n",
    ")\n",
    "\n",
    "# bigquery client\n",
    "bq = bigquery.Client(project = PROJECT_ID)\n",
    "\n",
    "# gcs client: assumes bucket already exists\n",
    "gcs = storage.Client(project = PROJECT_ID)\n",
    "bucket = gcs.bucket(GCS_BUCKET)"
   ]
  },
  {
   "cell_type": "markdown",
   "id": "b365c23d-3284-48a8-9ab6-467780871ac7",
   "metadata": {},
   "source": [
    "models: [Google Models](https://cloud.google.com/vertex-ai/generative-ai/docs/learn/models#models)"
   ]
  },
  {
   "cell_type": "code",
   "execution_count": 11,
   "id": "85ee1d1b-3de7-413d-beaa-dc412acc8e30",
   "metadata": {
    "tags": []
   },
   "outputs": [],
   "source": [
    "models = dict(\n",
    "    gemini_pro = vertexai.generative_models.GenerativeModel(\"gemini-1.5-pro-001\"),\n",
    "    gemini_flash = vertexai.generative_models.GenerativeModel(\"gemini-1.5-flash-001\"),\n",
    "    embedding = vertexai.language_models.TextEmbeddingModel.from_pretrained('text-embedding-004')\n",
    ")"
   ]
  },
  {
   "cell_type": "markdown",
   "id": "348a0ce5-7a1f-41c2-a675-2da2761ab071",
   "metadata": {
    "tags": []
   },
   "source": [
    "generation configs:"
   ]
  },
  {
   "cell_type": "code",
   "execution_count": 12,
   "id": "d0129c1a-bba3-4727-bb8d-98e873e4db78",
   "metadata": {
    "tags": []
   },
   "outputs": [],
   "source": [
    "grounding_config = vertexai.generative_models.GenerationConfig(\n",
    "    temperature = 0.0\n",
    ")"
   ]
  },
  {
   "cell_type": "markdown",
   "id": "3f09ee5e-b531-4bf1-82a1-654484711c7f",
   "metadata": {},
   "source": [
    "---\n",
    "## Prompt And Context\n",
    "\n",
    "The [official rules of baseball](https://img.mlbstatic.com/mlb-images/image/upload/mlb/wqn5ah4c3qtivwx3jatm.pdf), a pdf that is updated annually with the latest changes to the game and published by MLB.\n"
   ]
  },
  {
   "cell_type": "code",
   "execution_count": 13,
   "id": "6cf0da60-24a5-48f3-8197-6f66932283c8",
   "metadata": {
    "tags": []
   },
   "outputs": [],
   "source": [
    "prompt = \"what are the dimensions of first base in baseball?\""
   ]
  },
  {
   "cell_type": "code",
   "execution_count": 14,
   "id": "51878493-483a-480b-a14c-8a526ddf7ab7",
   "metadata": {
    "tags": []
   },
   "outputs": [],
   "source": [
    "url = 'https://img.mlbstatic.com/mlb-images/image/upload/mlb/wqn5ah4c3qtivwx3jatm.pdf'\n",
    "# get the pdf\n",
    "context_bytes = requests.get(url).content\n",
    "context_base64 = base64.b64encode(context_bytes).decode('utf-8')"
   ]
  },
  {
   "cell_type": "markdown",
   "id": "a71af1e3-1e56-4e6a-9bff-23fa9f9e9c39",
   "metadata": {
    "id": "Ydo-up2TMwo1"
   },
   "source": [
    "---\n",
    "## Get/Create Document AI Processors\n",
    "\n",
    "Document AI is comprised of multiple processors.  In this case the Layout parser is used for its ability to detect and extract paragraphs, tables, titles, heading, page headers, and page footers.  For a more thorough review of Document AI processors, including customized parsers, see the [Working With/Document AI](../Working%20With/Document%20AI/readme.md) section of this repository.  This repository includes example of processing document at larger scales and storing the data for processing and retrieval.\n",
    "\n",
    "Using the [Layout Parser](https://cloud.google.com/document-ai/docs/layout-parse-chunk)."
   ]
  },
  {
   "cell_type": "code",
   "execution_count": 15,
   "id": "eefbf384-001a-4b03-91c9-b5fc6070373f",
   "metadata": {
    "tags": []
   },
   "outputs": [
    {
     "name": "stdout",
     "output_type": "stream",
     "text": [
      "Retrieved existing parser:  projects/1026793852137/locations/us/processors/3779bd3a8f535977\n"
     ]
    }
   ],
   "source": [
    "PARSER_DISPLAY_NAME = 'my_layout_processor'\n",
    "PARSER_TYPE = 'LAYOUT_PARSER_PROCESSOR'\n",
    "PARSER_VERSION = 'pretrained-layout-parser-v1.0-2024-06-03'\n",
    "\n",
    "for p in docai_client.list_processors(parent = f'projects/{PROJECT_ID}/locations/{LOCATION}'):\n",
    "    if p.display_name == PARSER_DISPLAY_NAME:\n",
    "        parser = p\n",
    "try:\n",
    "    print('Retrieved existing parser: ', parser.name)\n",
    "except Exception:\n",
    "    parser = docai_client.create_processor(\n",
    "        parent = f'projects/{PROJECT_ID}/locations/{LOCATION}',\n",
    "        processor = dict(display_name = PARSER_DISPLAY_NAME, type_ = PARSER_TYPE, default_processor_version = PARSER_VERSION)\n",
    "    )\n",
    "    print('Created New Parser: ', parser.name)"
   ]
  },
  {
   "cell_type": "markdown",
   "id": "acf7f5da-3a30-4206-881d-ade9816f77d8",
   "metadata": {},
   "source": [
    "---\n",
    "## Process Document\n",
    "\n",
    "Document AI has online and batch processing.  These methods are subject to [limits](https://cloud.google.com/document-ai/limits#content_limits) and [qoutas](https://cloud.google.com/document-ai/quotas).  In this case online is limited to 15 pages and batch is limited to 500 pages.  The document is >100 pages so we either have to split it into smaller sections, like pages, for online processing or use batch processing.  Batch processing works for documents stored in GCS.\n",
    "\n",
    "> NOTE: The code below could be extended to many document in many locations."
   ]
  },
  {
   "cell_type": "markdown",
   "id": "9e03d587-aea0-41aa-8a9b-d44365ac2ccd",
   "metadata": {},
   "source": [
    "### Move Document To GCS"
   ]
  },
  {
   "cell_type": "code",
   "execution_count": 16,
   "id": "8aa5b800-dfc1-46fe-959c-2bf94c7c34eb",
   "metadata": {
    "tags": []
   },
   "outputs": [],
   "source": [
    "blob = bucket.blob(f'{SERIES}/{EXPERIMENT}/mlb_rules.pdf')\n",
    "blob.upload_from_string(context_bytes, content_type = 'application/pdf')"
   ]
  },
  {
   "cell_type": "markdown",
   "id": "cf11d785-7540-4f69-99ca-0a40042875ce",
   "metadata": {},
   "source": [
    "### Batch Process Document"
   ]
  },
  {
   "cell_type": "code",
   "execution_count": 17,
   "id": "d782eb32-96b3-409d-8cae-322173160eb7",
   "metadata": {
    "tags": []
   },
   "outputs": [
    {
     "name": "stdout",
     "output_type": "stream",
     "text": [
      "Waiting on batch job to complete: projects/1026793852137/locations/us/operations/6654363295788003058\n",
      "State.SUCCEEDED\n"
     ]
    }
   ],
   "source": [
    "from google.api_core.exceptions import InternalServerError\n",
    "from google.api_core.exceptions import RetryError\n",
    "\n",
    "batch_job = docai_client.batch_process_documents(\n",
    "    request = documentai.BatchProcessRequest(\n",
    "        name = parser.name,\n",
    "        input_documents = documentai.BatchDocumentsInputConfig(\n",
    "            gcs_documents = documentai.GcsDocuments(\n",
    "                documents = [\n",
    "                        documentai.GcsDocument(\n",
    "                            gcs_uri = f'gs://{GCS_BUCKET}/{SERIES}/{EXPERIMENT}/mlb_rules.pdf',\n",
    "                            mime_type = 'application/pdf'\n",
    "                    )\n",
    "                ]\n",
    "            )\n",
    "        ),\n",
    "        document_output_config = documentai.DocumentOutputConfig(\n",
    "            gcs_output_config = documentai.DocumentOutputConfig.GcsOutputConfig(\n",
    "                gcs_uri = f'gs://{GCS_BUCKET}/{SERIES}/{EXPERIMENT}/parsing'\n",
    "            )\n",
    "        ),\n",
    "        process_options = documentai.ProcessOptions(\n",
    "            layout_config = documentai.ProcessOptions.LayoutConfig(\n",
    "                chunking_config = documentai.ProcessOptions.LayoutConfig.ChunkingConfig(\n",
    "                    chunk_size = 100,\n",
    "                    include_ancestor_headings = True,\n",
    "                )\n",
    "            )\n",
    "        )\n",
    "    )\n",
    ")\n",
    "print(f'Waiting on batch job to complete: {batch_job.operation.name}')\n",
    "batch_job.result()\n",
    "        \n",
    "print(documentai.BatchProcessMetadata(batch_job.metadata).state)"
   ]
  },
  {
   "cell_type": "markdown",
   "id": "53cec6d7-79e9-4219-a138-9ad1b5714c4f",
   "metadata": {},
   "source": [
    "### Retrieve Document Parsing Results"
   ]
  },
  {
   "cell_type": "code",
   "execution_count": 18,
   "id": "eb3a84c3-1413-42b5-8f11-4ed59e9dd5ae",
   "metadata": {
    "tags": []
   },
   "outputs": [],
   "source": [
    "documents = []\n",
    "for process in documentai.BatchProcessMetadata(batch_job.metadata).individual_process_statuses:\n",
    "    matches = re.match(r\"gs://(.*?)/(.*)\", process.output_gcs_destination)\n",
    "    output_bucket, output_prefix = matches.groups()\n",
    "    output_blobs = bucket.list_blobs(prefix = output_prefix)\n",
    "    for blob in output_blobs:\n",
    "        document = documentai.Document.from_json(blob.download_as_bytes(), ignore_unknown_fields = True)\n",
    "        documents.append(document)"
   ]
  },
  {
   "cell_type": "code",
   "execution_count": 19,
   "id": "a28ff694-2f82-4dfa-a408-5aede0836c5d",
   "metadata": {
    "tags": []
   },
   "outputs": [
    {
     "data": {
      "text/plain": [
       "1"
      ]
     },
     "execution_count": 19,
     "metadata": {},
     "output_type": "execute_result"
    }
   ],
   "source": [
    "len(documents)"
   ]
  },
  {
   "cell_type": "code",
   "execution_count": 20,
   "id": "97e9527c-bafb-4bce-baf2-9458ccbb90d0",
   "metadata": {
    "tags": []
   },
   "outputs": [],
   "source": [
    "parsed_document = documentai.Document.to_dict(documents[0])"
   ]
  },
  {
   "cell_type": "code",
   "execution_count": 21,
   "id": "17f8b0ca-8988-4738-bf12-30dd8c083365",
   "metadata": {
    "tags": []
   },
   "outputs": [
    {
     "data": {
      "text/plain": [
       "dict_keys(['shard_info', 'document_layout', 'chunked_document', 'mime_type', 'text', 'text_styles', 'pages', 'entities', 'entity_relations', 'text_changes', 'revisions'])"
      ]
     },
     "execution_count": 21,
     "metadata": {},
     "output_type": "execute_result"
    }
   ],
   "source": [
    "parsed_document.keys()"
   ]
  },
  {
   "cell_type": "code",
   "execution_count": 22,
   "id": "0b1c3d4c-ebd2-4d51-8a5c-664456f494ad",
   "metadata": {
    "tags": []
   },
   "outputs": [
    {
     "data": {
      "text/plain": [
       "dict_keys(['chunks'])"
      ]
     },
     "execution_count": 22,
     "metadata": {},
     "output_type": "execute_result"
    }
   ],
   "source": [
    "parsed_document['chunked_document'].keys()"
   ]
  },
  {
   "cell_type": "markdown",
   "id": "20e0c6e4-7c23-484e-ad25-2820104d4c6c",
   "metadata": {},
   "source": [
    "### Parse Chunks\n",
    "\n",
    "Create a list of dictionaries for each chunk"
   ]
  },
  {
   "cell_type": "code",
   "execution_count": 23,
   "id": "76eadb9c-a182-4331-916e-317db837ff97",
   "metadata": {
    "tags": []
   },
   "outputs": [
    {
     "data": {
      "text/plain": [
       "867"
      ]
     },
     "execution_count": 23,
     "metadata": {},
     "output_type": "execute_result"
    }
   ],
   "source": [
    "len(parsed_document['chunked_document']['chunks'])"
   ]
  },
  {
   "cell_type": "code",
   "execution_count": 24,
   "id": "28946d21-d317-497f-8120-7c4e46582078",
   "metadata": {
    "tags": []
   },
   "outputs": [
    {
     "data": {
      "text/plain": [
       "dict_keys(['chunk_id', 'content', 'page_span', 'page_footers', 'source_block_ids', 'page_headers'])"
      ]
     },
     "execution_count": 24,
     "metadata": {},
     "output_type": "execute_result"
    }
   ],
   "source": [
    "parsed_document['chunked_document']['chunks'][0].keys()"
   ]
  },
  {
   "cell_type": "code",
   "execution_count": 25,
   "id": "af3deef2-bbcd-4a07-9317-b75fc79982ab",
   "metadata": {
    "tags": []
   },
   "outputs": [
    {
     "data": {
      "text/plain": [
       "{'chunk_id': 'c1',\n",
       " 'content': '# OFFICIAL BASEBALL RULES\\n\\n2023 Edition TM TM',\n",
       " 'page_span': {'page_start': 1, 'page_end': 7},\n",
       " 'page_footers': [{'text': 'V1',\n",
       "   'page_span': {'page_start': 6, 'page_end': 6}},\n",
       "  {'text': 'vii', 'page_span': {'page_start': 7, 'page_end': 7}}],\n",
       " 'source_block_ids': [],\n",
       " 'page_headers': []}"
      ]
     },
     "execution_count": 25,
     "metadata": {},
     "output_type": "execute_result"
    }
   ],
   "source": [
    "parsed_document['chunked_document']['chunks'][0]"
   ]
  },
  {
   "cell_type": "code",
   "execution_count": 26,
   "id": "3d7a08ef-37aa-4212-9c90-53156a735874",
   "metadata": {
    "tags": []
   },
   "outputs": [],
   "source": [
    "chunks = [\n",
    "    dict(\n",
    "        chunk_id = chunk['chunk_id'],\n",
    "        content = chunk['content'],\n",
    "    ) for chunk in parsed_document['chunked_document']['chunks']\n",
    "]"
   ]
  },
  {
   "cell_type": "code",
   "execution_count": 27,
   "id": "f2282d48-8eca-4a9e-a6fa-fcf7d0359291",
   "metadata": {
    "tags": []
   },
   "outputs": [
    {
     "data": {
      "text/plain": [
       "{'chunk_id': 'c1',\n",
       " 'content': '# OFFICIAL BASEBALL RULES\\n\\n2023 Edition TM TM'}"
      ]
     },
     "execution_count": 27,
     "metadata": {},
     "output_type": "execute_result"
    }
   ],
   "source": [
    "chunks[0]"
   ]
  },
  {
   "cell_type": "markdown",
   "id": "bb51ff15-3e5a-4377-9e63-c004961fb11c",
   "metadata": {},
   "source": [
    "### Generate Embeddings For Each Chunk\n",
    "\n",
    "Add the embeddings to the chunks dictionary"
   ]
  },
  {
   "cell_type": "code",
   "execution_count": 28,
   "id": "a489ac3e-09dd-4504-9147-314b941d9718",
   "metadata": {
    "tags": []
   },
   "outputs": [],
   "source": [
    "async def embedding_runner(chunks, limit_concur_requests = 1500):\n",
    "    limit = asyncio.Semaphore(limit_concur_requests)\n",
    "    results = [None] * len(chunks)\n",
    "    \n",
    "    # make requests - async\n",
    "    async def make_request(p):\n",
    "        \n",
    "        async with limit:\n",
    "            if limit.locked():\n",
    "                await asyncio.sleep(0.01)\n",
    "                \n",
    "            ########### manual Error Handling ############################################\n",
    "            fail_count = 0\n",
    "            while fail_count <= 20:\n",
    "                try:\n",
    "                    result = await models['embedding'].get_embeddings_async([chunks[p]['content']])\n",
    "                    if fail_count > 0:\n",
    "                        print(f'Item {p} succeeded after fail count = {fail_count}')\n",
    "                    break\n",
    "                except:\n",
    "                    fail_count += 1\n",
    "                    #print(f'Item {p} failed: current fail count = {fail_count}')\n",
    "                    await asyncio.sleep(2^(min(fail_count, 6) - 1))\n",
    "            ##############################################################################\n",
    "            \n",
    "        results[p] = result[0].values\n",
    "    \n",
    "    # manage tasks\n",
    "    tasks = [asyncio.create_task(make_request(p)) for p in range(len(chunks))]\n",
    "    responses = await asyncio.gather(*tasks)\n",
    "    \n",
    "    # add embeddings to input list of dictionaries for all the chunks\n",
    "    for c, content in enumerate(chunks):\n",
    "        content['embedding'] = results[c]\n",
    "    \n",
    "    await asyncio.sleep(60)\n",
    "    \n",
    "    return"
   ]
  },
  {
   "cell_type": "code",
   "execution_count": 29,
   "id": "2a551027-ffb8-40a2-b3e9-e8fa1eea2e81",
   "metadata": {
    "tags": []
   },
   "outputs": [],
   "source": [
    "await embedding_runner(chunks)"
   ]
  },
  {
   "cell_type": "markdown",
   "id": "99008f76-7720-41a3-861c-511ba0d5c0c9",
   "metadata": {},
   "source": [
    "---\n",
    "## Results To BigQuery"
   ]
  },
  {
   "cell_type": "markdown",
   "id": "47d5ce85-59d1-4c7a-9de8-45bbda36d9c6",
   "metadata": {},
   "source": [
    "### Create/Recall Dataset"
   ]
  },
  {
   "cell_type": "code",
   "execution_count": 80,
   "id": "302e29c4-96d4-4b38-b2cd-022ef80a617b",
   "metadata": {
    "tags": []
   },
   "outputs": [],
   "source": [
    "dataset = bigquery.Dataset(f\"{BQ_PROJECT}.{BQ_DATASET}\")\n",
    "dataset.location = BQ_REGION\n",
    "bq_dataset = bq.create_dataset(dataset, exists_ok = True)"
   ]
  },
  {
   "cell_type": "markdown",
   "id": "152d5579-7ef6-4a5f-81e6-3a838f5d6b03",
   "metadata": {},
   "source": [
    "### Load JSON TO BigQuery Table"
   ]
  },
  {
   "cell_type": "code",
   "execution_count": 82,
   "id": "93facd25-2dda-4747-b71b-b71f24e6c831",
   "metadata": {
    "tags": []
   },
   "outputs": [],
   "source": [
    "bq_table = bq_dataset.table(BQ_TABLE)"
   ]
  },
  {
   "cell_type": "code",
   "execution_count": 83,
   "id": "48ce833c-7647-49a1-9668-e9b19a51af73",
   "metadata": {
    "tags": []
   },
   "outputs": [],
   "source": [
    "job_config = bigquery.LoadJobConfig(\n",
    "    source_format = bigquery.SourceFormat.NEWLINE_DELIMITED_JSON,\n",
    "    write_disposition = bigquery.WriteDisposition.WRITE_TRUNCATE,\n",
    "    autodetect = True\n",
    ")"
   ]
  },
  {
   "cell_type": "code",
   "execution_count": 84,
   "id": "2fdaf79a-a805-443c-8a8d-2af69b22bc08",
   "metadata": {
    "tags": []
   },
   "outputs": [
    {
     "data": {
      "text/plain": [
       "LoadJob<project=statmike-mlops-349915, location=US, id=50f53bc5-5542-4075-bf73-f51d4811ba0c>"
      ]
     },
     "execution_count": 84,
     "metadata": {},
     "output_type": "execute_result"
    }
   ],
   "source": [
    "load_job = bq.load_table_from_json(\n",
    "    json_rows = chunks,\n",
    "    destination = bq_table,\n",
    "    job_config = job_config\n",
    ")\n",
    "load_job.result()"
   ]
  },
  {
   "cell_type": "code",
   "execution_count": 85,
   "id": "90275099-c0e8-404d-ae47-96594c47bb4e",
   "metadata": {
    "tags": []
   },
   "outputs": [
    {
     "data": {
      "text/html": [
       "<div>\n",
       "<style scoped>\n",
       "    .dataframe tbody tr th:only-of-type {\n",
       "        vertical-align: middle;\n",
       "    }\n",
       "\n",
       "    .dataframe tbody tr th {\n",
       "        vertical-align: top;\n",
       "    }\n",
       "\n",
       "    .dataframe thead th {\n",
       "        text-align: right;\n",
       "    }\n",
       "</style>\n",
       "<table border=\"1\" class=\"dataframe\">\n",
       "  <thead>\n",
       "    <tr style=\"text-align: right;\">\n",
       "      <th></th>\n",
       "      <th>embedding</th>\n",
       "      <th>content</th>\n",
       "      <th>chunk_id</th>\n",
       "    </tr>\n",
       "  </thead>\n",
       "  <tbody>\n",
       "    <tr>\n",
       "      <th>0</th>\n",
       "      <td>[0.0004709406348410994, 0.02043033391237259, -...</td>\n",
       "      <td># OFFICIAL BASEBALL RULES\\n\\n2023 EditionTMTM</td>\n",
       "      <td>c1</td>\n",
       "    </tr>\n",
       "    <tr>\n",
       "      <th>1</th>\n",
       "      <td>[0.007890317589044571, 0.06800366938114166, 0....</td>\n",
       "      <td># OFFICIAL BASEBALL RULES\\n\\n## Official Baseb...</td>\n",
       "      <td>c2</td>\n",
       "    </tr>\n",
       "    <tr>\n",
       "      <th>2</th>\n",
       "      <td>[0.004036529455333948, 0.06828887015581131, 0....</td>\n",
       "      <td># OFFICIAL BASEBALL RULES\\n\\n## Official Baseb...</td>\n",
       "      <td>c3</td>\n",
       "    </tr>\n",
       "    <tr>\n",
       "      <th>3</th>\n",
       "      <td>[0.005448083858937025, 0.03563479334115982, 0....</td>\n",
       "      <td># OFFICIAL BASEBALL RULES\\n\\n## FOREWORD\\n\\nTh...</td>\n",
       "      <td>c4</td>\n",
       "    </tr>\n",
       "    <tr>\n",
       "      <th>4</th>\n",
       "      <td>[0.011302550323307514, 0.043852854520082474, 0...</td>\n",
       "      <td># OFFICIAL BASEBALL RULES\\n\\n## FOREWORD\\n\\nMo...</td>\n",
       "      <td>c5</td>\n",
       "    </tr>\n",
       "  </tbody>\n",
       "</table>\n",
       "</div>"
      ],
      "text/plain": [
       "                                           embedding  \\\n",
       "0  [0.0004709406348410994, 0.02043033391237259, -...   \n",
       "1  [0.007890317589044571, 0.06800366938114166, 0....   \n",
       "2  [0.004036529455333948, 0.06828887015581131, 0....   \n",
       "3  [0.005448083858937025, 0.03563479334115982, 0....   \n",
       "4  [0.011302550323307514, 0.043852854520082474, 0...   \n",
       "\n",
       "                                             content chunk_id  \n",
       "0      # OFFICIAL BASEBALL RULES\\n\\n2023 EditionTMTM       c1  \n",
       "1  # OFFICIAL BASEBALL RULES\\n\\n## Official Baseb...       c2  \n",
       "2  # OFFICIAL BASEBALL RULES\\n\\n## Official Baseb...       c3  \n",
       "3  # OFFICIAL BASEBALL RULES\\n\\n## FOREWORD\\n\\nTh...       c4  \n",
       "4  # OFFICIAL BASEBALL RULES\\n\\n## FOREWORD\\n\\nMo...       c5  "
      ]
     },
     "execution_count": 85,
     "metadata": {},
     "output_type": "execute_result"
    }
   ],
   "source": [
    "bq.query(f\"SELECT * FROM `{BQ_PROJECT}.{BQ_DATASET}.{BQ_TABLE}` LIMIT 5\").to_dataframe()"
   ]
  },
  {
   "cell_type": "markdown",
   "id": "0e202fc0-b741-487a-b5bd-373bb68d5103",
   "metadata": {},
   "source": [
    "### Important Notes About Setting Up An Index\n",
    "\n",
    "Working with embeddings, a vectors of numbers, a list of floating points... the nature of vector database solutions.  These are considerations to be taken regardless of the solution being used.  Here Vertex AI Feature Store, which has many configurable options to aide in this.\n",
    "\n",
    "- **Storage**\n",
    "    - filter attributes: values that can be used to limit a search\n",
    "    - crowding attributes: limit the number of matches with these attributes\n",
    "    - additional columns inline, like the text chunk an embedding represents to prevent the additional step of retrieving data for matches\n",
    "- **Indexing**\n",
    "    - a brute force configuration to force search across all embeddings, good for benchmarkinng and ground truth retrieval\n",
    "    - a method of segmenting embeddings, primarily:\n",
    "        - inverted file index (IVF), or k-means clustering of embeddings\n",
    "        - TreeAH, or [ScaNN](https://research.google/blog/announcing-scann-efficient-vector-similarity-search/), for compressing embeddings\n",
    "    - setting to configure the size of a cluster (IVF) or leaf nodes (TreeAH)\n",
    "    - distance type to set how matches are computed: dot product, euclidean, manhatten, cosine\n",
    "- **Retrieval**\n",
    "    - a brute force override to retrieve ground truth across the full index\n",
    "    - ability to control the number of neighbors retrieved at query time\n",
    "    - option to set distance calcuation type at query time\n",
    "    - usage of filtering and crowding attributes to tailor neighbors list"
   ]
  },
  {
   "cell_type": "markdown",
   "id": "30429612-da3e-412e-b470-78b4172cb55b",
   "metadata": {},
   "source": [
    "---\n",
    "## BigQuery For Vector Indexing And Search\n",
    "\n",
    "Directly in BigQuery columns of embeddings can be used for brute for [vector search](https://cloud.google.com/bigquery/docs/reference/standard-sql/search_functions#vector_search) and [can be indexed](https://cloud.google.com/bigquery/docs/vector-index#create_a_vector_index) with either [IVF](https://cloud.google.com/bigquery/docs/vector-index#ivf-index) or [TreeAH](https://cloud.google.com/bigquery/docs/vector-index#tree-ah-index) for optimized vector search."
   ]
  },
  {
   "cell_type": "raw",
   "id": "430ab80a-66fc-46e5-b4a1-3c3db3ef162a",
   "metadata": {},
   "source": [
    "- direct vector search\n",
    "- setup index\n",
    "- search over index\n",
    "- brute force search over index\n",
    "\n",
    "- retrieve from BQ\n",
    "    - add this to overall workflow\n",
    "- setup ML.GENERATE\n",
    "- retrieve inside BQ"
   ]
  },
  {
   "cell_type": "code",
   "execution_count": null,
   "id": "21a32d9a-fd67-4934-b49d-189cae36f5df",
   "metadata": {},
   "outputs": [],
   "source": []
  },
  {
   "cell_type": "code",
   "execution_count": null,
   "id": "5b231d9d-5588-49b4-9608-782f6b3717ab",
   "metadata": {},
   "outputs": [],
   "source": []
  },
  {
   "cell_type": "code",
   "execution_count": null,
   "id": "8801a6c6-ce0f-404d-8367-f24a86ded1b0",
   "metadata": {},
   "outputs": [],
   "source": []
  },
  {
   "cell_type": "code",
   "execution_count": null,
   "id": "61a3d851-d53b-4cfb-8f81-72f5379e6cd8",
   "metadata": {},
   "outputs": [],
   "source": []
  },
  {
   "cell_type": "code",
   "execution_count": null,
   "id": "a457ec05-d16b-4850-baa3-9d96f48e31e8",
   "metadata": {},
   "outputs": [],
   "source": []
  },
  {
   "cell_type": "code",
   "execution_count": null,
   "id": "d3a74df7-9aa2-4a3a-8f9f-26f374a8a0a5",
   "metadata": {},
   "outputs": [],
   "source": []
  },
  {
   "cell_type": "code",
   "execution_count": null,
   "id": "30917356-d641-4d4c-b991-34a3f6deb6f5",
   "metadata": {},
   "outputs": [],
   "source": []
  },
  {
   "cell_type": "code",
   "execution_count": null,
   "id": "8cd53269-4212-4293-8e79-73dc2e16c0bb",
   "metadata": {},
   "outputs": [],
   "source": []
  },
  {
   "cell_type": "code",
   "execution_count": null,
   "id": "c54b73bc-eb02-44e9-90d7-96881c047f04",
   "metadata": {},
   "outputs": [],
   "source": []
  },
  {
   "cell_type": "code",
   "execution_count": null,
   "id": "0ff0e739-1ae6-4421-9503-7a86e396239d",
   "metadata": {},
   "outputs": [],
   "source": []
  },
  {
   "cell_type": "code",
   "execution_count": null,
   "id": "76ea2719-7835-4eab-9940-f432a98c074c",
   "metadata": {},
   "outputs": [],
   "source": []
  }
 ],
 "metadata": {
  "environment": {
   "kernel": "conda-base-py",
   "name": "workbench-notebooks.m125",
   "type": "gcloud",
   "uri": "us-docker.pkg.dev/deeplearning-platform-release/gcr.io/workbench-notebooks:m125"
  },
  "kernelspec": {
   "display_name": "Python 3 (ipykernel) (Local)",
   "language": "python",
   "name": "conda-base-py"
  },
  "language_info": {
   "codemirror_mode": {
    "name": "ipython",
    "version": 3
   },
   "file_extension": ".py",
   "mimetype": "text/x-python",
   "name": "python",
   "nbconvert_exporter": "python",
   "pygments_lexer": "ipython3",
   "version": "3.10.15"
  }
 },
 "nbformat": 4,
 "nbformat_minor": 5
}
