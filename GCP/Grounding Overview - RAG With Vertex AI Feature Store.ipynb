{
 "cells": [
  {
   "cell_type": "markdown",
   "id": "7c768739",
   "metadata": {},
   "source": [
    "![tracker](https://us-central1-vertex-ai-mlops-369716.cloudfunctions.net/pixel-tracking?path=statmike%2Fvertex-ai-mlops%2FApplied+GenAI&file=Grounding+Overview+-+RAG+With+Vertex+AI+Feature+Store.ipynb)\n",
    "<!--- header table --->\n",
    "<table align=\"left\">\n",
    "  <td style=\"text-align: center\">\n",
    "    <a href=\"https://colab.research.google.com/github/statmike/vertex-ai-mlops/blob/main/Applied%20GenAI/Grounding%20Overview%20-%20RAG%20With%20Vertex%20AI%20Feature%20Store.ipynb\">\n",
    "      <img src=\"https://cloud.google.com/ml-engine/images/colab-logo-32px.png\" alt=\"Google Colaboratory logo\">\n",
    "      <br>Run in<br>Colab\n",
    "    </a>\n",
    "  </td>\n",
    "  <td style=\"text-align: center\">\n",
    "    <a href=\"https://console.cloud.google.com/vertex-ai/colab/import/https%3A%2F%2Fraw.githubusercontent.com%2Fstatmike%2Fvertex-ai-mlops%2Fmain%2FApplied%2520GenAI%2FGrounding%2520Overview%2520-%2520RAG%2520With%2520Vertex%2520AI%2520Feature%2520Store.ipynb\">\n",
    "      <img width=\"32px\" src=\"https://lh3.googleusercontent.com/JmcxdQi-qOpctIvWKgPtrzZdJJK-J3sWE1RsfjZNwshCFgE_9fULcNpuXYTilIR2hjwN\" alt=\"Google Cloud Colab Enterprise logo\">\n",
    "      <br>Run in<br>Colab Enterprise\n",
    "    </a>\n",
    "  </td>      \n",
    "  <td style=\"text-align: center\">\n",
    "    <a href=\"https://github.com/statmike/vertex-ai-mlops/blob/main/Applied%20GenAI/Grounding%20Overview%20-%20RAG%20With%20Vertex%20AI%20Feature%20Store.ipynb\">\n",
    "      <img src=\"https://cloud.google.com/ml-engine/images/github-logo-32px.png\" alt=\"GitHub logo\">\n",
    "      <br>View on<br>GitHub\n",
    "    </a>\n",
    "  </td>\n",
    "  <td style=\"text-align: center\">\n",
    "    <a href=\"https://console.cloud.google.com/vertex-ai/workbench/deploy-notebook?download_url=https://raw.githubusercontent.com/statmike/vertex-ai-mlops/main/Applied%20GenAI/Grounding%20Overview%20-%20RAG%20With%20Vertex%20AI%20Feature%20Store.ipynb\">\n",
    "      <img src=\"https://lh3.googleusercontent.com/UiNooY4LUgW_oTvpsNhPpQzsstV5W8F7rYgxgGBD85cWJoLmrOzhVs_ksK_vgx40SHs7jCqkTkCk=e14-rj-sc0xffffff-h130-w32\" alt=\"Vertex AI logo\">\n",
    "      <br>Open in<br>Vertex AI Workbench\n",
    "    </a>\n",
    "  </td>\n",
    "</table>"
   ]
  },
  {
   "cell_type": "markdown",
   "id": "0bd37cfa-2221-4c83-89bd-55242ca1feea",
   "metadata": {},
   "source": [
    "---\n",
    "This is part a [series of notebook based workflows](./readme.md) for Applided GenAI using Vertex AI.\n",
    "Specifically, these are related to grounding methods for LLMs:\n",
    "\n",
    "||Notebook Workflow|Description|\n",
    "|---|---|---|\n",
    "||[Grounding Overview](./Grounding%20Overview.ipynb)|Overview of grounding methods with comparison and evaluation|\n",
    "||[Grounding Overview - Vertex AI Search](./Grounding%20Overview%20-%20Vertex%20AI%20Search.ipynb)|Setting up and using Vertex AI Search.|\n",
    "||[Grounding Overview - RAG With BigQuery](./Grounding%20Overview%20-%20RAG%20With%20BigQuery.ipynb)|A Complete workflow (process, parse, embed, index, retrieve, generate) with BigQuery Vector Search.|\n",
    "|**This Notebook**|[Grounding Overview - RAG With Vertex AI Feature Store](./Grounding%20Overview%20-%20RAG%20With%20Vertex%20AI%20Feature%20Store.ipynb)|A complete workflow (process, parse, embed, index, retrieve, generate) with Vertex AI Feature Store as an online retrieval system over BigQuery data.|\n",
    "||Grounding Overview - RAG With Vertex AI Vector Search|A complete workflow (process, parse, embed, index, retrieve, generate) with Vertex AI Vector Search as an online retrieval system.|\n",
    "||Grounding Overview - RAG With LlamaIndex ON Vertex AI|A complete retrieval workflow (process, parse, embed, index, retrieve, generate) with LlamaIndex on Vertex AI as a retrieval system.|\n",
    "\n",
    "---"
   ]
  },
  {
   "cell_type": "markdown",
   "id": "f84ce1b4-dbaf-4fd6-9636-f8d142239a3f",
   "metadata": {},
   "source": [
    "# Grounding Overview - RAG With Vertex AI Feature Store\n",
    "\n",
    "Harnessing an LLM to respond accurately means supplying the correct and relevant information to the prompt.  This notebooks create a custom retrieval augmented generation (RAG) application to retrieve grounded context for prompts.  This workflow will process a document through:\n",
    "\n",
    "- Process document(s) into chunks With the [Layout Parser](https://cloud.google.com/document-ai/docs/layout-parse-chunk) (for example)\n",
    "- Create embeddings for chunks with the [Vertex AI Embeddings APIs](https://cloud.google.com/vertex-ai/generative-ai/docs/embeddings)\n",
    "- Store chunks with embeddings in BigQuery\n",
    "- Create online serving for the data on [Vertex AI Feature Store](https://cloud.google.com/vertex-ai/docs/featurestore/latest/overview)\n",
    "- Retrieve chunks related to input queries\n",
    "- Generate grounded responsed from [Gemini on Vertex AI](https://cloud.google.com/vertex-ai/generative-ai/docs/learn/models)\n",
    "\n",
    "To see this and many more grounding approaches side-by-side check out the accompanying workflow in this repository that uses the RAG application created here:\n",
    "- [Grounding Overview](./Grounding%20Overview.ipynb)\n"
   ]
  },
  {
   "cell_type": "markdown",
   "id": "c6ea69ed-712b-4b29-8a39-92300221d220",
   "metadata": {
    "id": "od_UkDpvRmgD"
   },
   "source": [
    "---\n",
    "## Colab Setup\n",
    "\n",
    "When running this notebook in [Colab](https://colab.google/) or [Colab Enterprise](https://cloud.google.com/colab/docs/introduction), this section will authenticate to GCP (follow prompts in the popup) and set the current project for the session."
   ]
  },
  {
   "cell_type": "code",
   "execution_count": 5,
   "id": "6e182e45-e933-419f-929b-da79a5009f5a",
   "metadata": {
    "executionInfo": {
     "elapsed": 195,
     "status": "ok",
     "timestamp": 1683726184843,
     "user": {
      "displayName": "Mike Henderson",
      "userId": "07691629187611687318"
     },
     "user_tz": 240
    },
    "id": "8UO9FnqyKBlF",
    "tags": []
   },
   "outputs": [],
   "source": [
    "PROJECT_ID = 'statmike-mlops-349915' # replace with project ID"
   ]
  },
  {
   "cell_type": "code",
   "execution_count": 6,
   "id": "7f813a45-f4b5-4c48-beca-1314eff857a1",
   "metadata": {
    "colab": {
     "base_uri": "https://localhost:8080/"
    },
    "executionInfo": {
     "elapsed": 68869,
     "status": "ok",
     "timestamp": 1683726253709,
     "user": {
      "displayName": "Mike Henderson",
      "userId": "07691629187611687318"
     },
     "user_tz": 240
    },
    "id": "N98-KK7LRkjm",
    "outputId": "09ec5008-0def-4e1a-c349-c598ee752f78",
    "tags": []
   },
   "outputs": [],
   "source": [
    "try:\n",
    "    from google.colab import auth\n",
    "    auth.authenticate_user()\n",
    "    !gcloud config set project {PROJECT_ID}\n",
    "except Exception:\n",
    "    pass"
   ]
  },
  {
   "cell_type": "markdown",
   "id": "d3f03b53-3efb-4f0f-830d-5d31d0dd32f1",
   "metadata": {},
   "source": [
    "---\n",
    "## Installs and API Enablement\n",
    "\n",
    "The clients packages may need installing in this environment. "
   ]
  },
  {
   "cell_type": "markdown",
   "id": "22df5948-9d1a-47a9-bd8c-a78ee98057b6",
   "metadata": {},
   "source": [
    "### Installs (If Needed)"
   ]
  },
  {
   "cell_type": "code",
   "execution_count": 7,
   "id": "9e07a7d8-2ef8-43e0-8563-ab11e9af294b",
   "metadata": {
    "tags": []
   },
   "outputs": [],
   "source": [
    "# tuples of (import name, install name, min_version)\n",
    "packages = [\n",
    "    ('google.cloud.aiplatform', 'google-cloud-aiplatform', '1.62.0'),\n",
    "    ('google.cloud.documentai', 'google-cloud-documentai', '2.31.0'),\n",
    "    ('google.cloud.bigquery', 'google-cloud-bigquery'),\n",
    "    ('google.cloud.storage', 'google-cloud-storage')\n",
    "]\n",
    "\n",
    "import importlib\n",
    "install = False\n",
    "for package in packages:\n",
    "    if not importlib.util.find_spec(package[0]):\n",
    "        print(f'installing package {package[1]}')\n",
    "        install = True\n",
    "        !pip install {package[1]} -U -q --user\n",
    "    elif len(package) == 3:\n",
    "        if importlib.metadata.version(package[0]) < package[2]:\n",
    "            print(f'updating package {package[1]}')\n",
    "            install = True\n",
    "            !pip install {package[1]} -U -q --user"
   ]
  },
  {
   "cell_type": "markdown",
   "id": "c1399a49-bac5-4559-a0dc-187bfd7103b4",
   "metadata": {},
   "source": [
    "### API Enablement"
   ]
  },
  {
   "cell_type": "code",
   "execution_count": 8,
   "id": "da977c97-b960-4a11-8d95-3fe3b4c69467",
   "metadata": {
    "tags": []
   },
   "outputs": [],
   "source": [
    "!gcloud services enable aiplatform.googleapis.com\n",
    "!gcloud services enable documentai.googleapis.com"
   ]
  },
  {
   "cell_type": "markdown",
   "id": "eadb3b8b-5380-4531-8ef4-c597bfab6291",
   "metadata": {},
   "source": [
    "### Restart Kernel (If Installs Occured)\n",
    "\n",
    "After a kernel restart the code submission can start with the next cell after this one."
   ]
  },
  {
   "cell_type": "code",
   "execution_count": 9,
   "id": "0e90e525-3b66-4972-aa59-1677c5dabdab",
   "metadata": {
    "tags": []
   },
   "outputs": [],
   "source": [
    "if install:\n",
    "    import IPython\n",
    "    app = IPython.Application.instance()\n",
    "    app.kernel.do_shutdown(True)\n",
    "    IPython.display.display(IPython.display.Markdown(\"\"\"<div class=\\\"alert alert-block alert-warning\\\">\n",
    "        <b>⚠️ The kernel is going to restart. Please wait until it is finished before continuing to the next step. The previous cells do not need to be run again⚠️</b>\n",
    "        </div>\"\"\"))"
   ]
  },
  {
   "cell_type": "markdown",
   "id": "adb022c9-da14-401c-97ec-acf141eb60e0",
   "metadata": {
    "id": "appt8-yVRtJ1"
   },
   "source": [
    "---\n",
    "## Setup"
   ]
  },
  {
   "cell_type": "markdown",
   "id": "6191fe06-9cc6-4e0d-ba26-11a19cbf7e8e",
   "metadata": {
    "id": "63mx2EozRxFP"
   },
   "source": [
    "Inputs"
   ]
  },
  {
   "cell_type": "code",
   "execution_count": 10,
   "id": "6f58c91f-4581-4360-8242-68455ed3a2d7",
   "metadata": {
    "colab": {
     "base_uri": "https://localhost:8080/",
     "height": 35
    },
    "executionInfo": {
     "elapsed": 2124,
     "status": "ok",
     "timestamp": 1683726390544,
     "user": {
      "displayName": "Mike Henderson",
      "userId": "07691629187611687318"
     },
     "user_tz": 240
    },
    "id": "xzcoXjM5Rky5",
    "outputId": "b3bdcbc1-70d5-472e-aea2-42c74a42efde",
    "tags": []
   },
   "outputs": [
    {
     "data": {
      "text/plain": [
       "'statmike-mlops-349915'"
      ]
     },
     "execution_count": 10,
     "metadata": {},
     "output_type": "execute_result"
    }
   ],
   "source": [
    "project = !gcloud config get-value project\n",
    "PROJECT_ID = project[0]\n",
    "PROJECT_ID"
   ]
  },
  {
   "cell_type": "code",
   "execution_count": 11,
   "id": "6c7b2438-1305-4db0-ae83-eee15261cf5c",
   "metadata": {
    "executionInfo": {
     "elapsed": 2,
     "status": "ok",
     "timestamp": 1683726390712,
     "user": {
      "displayName": "Mike Henderson",
      "userId": "07691629187611687318"
     },
     "user_tz": 240
    },
    "id": "IxWrFtqYMfku",
    "tags": []
   },
   "outputs": [],
   "source": [
    "REGION = 'us-central1'\n",
    "SERIES = 'applied-genai'\n",
    "EXPERIMENT = 'grounding-overview'\n",
    "\n",
    "# make this the gcs bucket for storing files\n",
    "GCS_BUCKET = PROJECT_ID \n",
    "\n",
    "# make this the BQ Project / Dataset / Table prefix to store results\n",
    "BQ_PROJECT = PROJECT_ID\n",
    "BQ_DATASET = SERIES.replace('-', '_')\n",
    "BQ_TABLE = EXPERIMENT\n",
    "BQ_REGION = REGION[0:2]"
   ]
  },
  {
   "cell_type": "markdown",
   "id": "a4f30a11-22a1-45fb-912e-90f684872362",
   "metadata": {
    "id": "LuajVwCiO6Yg"
   },
   "source": [
    "Packages"
   ]
  },
  {
   "cell_type": "code",
   "execution_count": 71,
   "id": "7628cdf8-d3f9-4e07-8a88-d1ef09df7149",
   "metadata": {
    "executionInfo": {
     "elapsed": 17761,
     "status": "ok",
     "timestamp": 1683726409304,
     "user": {
      "displayName": "Mike Henderson",
      "userId": "07691629187611687318"
     },
     "user_tz": 240
    },
    "id": "LVC7zzSLRk2C",
    "tags": []
   },
   "outputs": [],
   "source": [
    "import os\n",
    "import re\n",
    "import io\n",
    "import json\n",
    "import base64\n",
    "import requests\n",
    "import concurrent.futures\n",
    "import time\n",
    "import asyncio\n",
    "from IPython.display import Markdown as display\n",
    "\n",
    "from google.cloud import aiplatform\n",
    "import vertexai.language_models\n",
    "import vertexai.generative_models # for Gemini Models\n",
    "from google.cloud import documentai\n",
    "from google.cloud import storage\n",
    "from google.cloud import bigquery"
   ]
  },
  {
   "cell_type": "code",
   "execution_count": 13,
   "id": "fec44630-e909-433e-b935-d7f6bddd15f8",
   "metadata": {
    "tags": []
   },
   "outputs": [
    {
     "data": {
      "text/plain": [
       "'1.62.0'"
      ]
     },
     "execution_count": 13,
     "metadata": {},
     "output_type": "execute_result"
    }
   ],
   "source": [
    "aiplatform.__version__"
   ]
  },
  {
   "cell_type": "markdown",
   "id": "e828f97f-03b0-491e-a406-c78057bceb0a",
   "metadata": {
    "id": "EyAVFG9TO9H-"
   },
   "source": [
    "Clients"
   ]
  },
  {
   "cell_type": "code",
   "execution_count": 14,
   "id": "31938c2e-9a7c-4940-abec-9e4144710abd",
   "metadata": {
    "executionInfo": {
     "elapsed": 19,
     "status": "ok",
     "timestamp": 1683726409306,
     "user": {
      "displayName": "Mike Henderson",
      "userId": "07691629187611687318"
     },
     "user_tz": 240
    },
    "id": "L0RPE13LOZce",
    "tags": []
   },
   "outputs": [],
   "source": [
    "# vertex ai clients\n",
    "vertexai.init(project = PROJECT_ID, location = REGION)\n",
    "\n",
    "# document AI client\n",
    "LOCATION = REGION.split('-')[0]\n",
    "docai_client = documentai.DocumentProcessorServiceClient(\n",
    "    client_options = dict(api_endpoint = f\"{LOCATION}-documentai.googleapis.com\")\n",
    ")\n",
    "docai_async_client = documentai.DocumentProcessorServiceAsyncClient(\n",
    "    client_options = dict(api_endpoint = f\"{LOCATION}-documentai.googleapis.com\")\n",
    ")\n",
    "\n",
    "# bigquery client\n",
    "bq = bigquery.Client(project = PROJECT_ID)\n",
    "\n",
    "# gcs client: assumes bucket already exists\n",
    "gcs = storage.Client(project = PROJECT_ID)\n",
    "bucket = gcs.bucket(GCS_BUCKET)"
   ]
  },
  {
   "cell_type": "markdown",
   "id": "b365c23d-3284-48a8-9ab6-467780871ac7",
   "metadata": {},
   "source": [
    "models: [Google Models](https://cloud.google.com/vertex-ai/generative-ai/docs/learn/models#models)"
   ]
  },
  {
   "cell_type": "code",
   "execution_count": 15,
   "id": "85ee1d1b-3de7-413d-beaa-dc412acc8e30",
   "metadata": {
    "tags": []
   },
   "outputs": [],
   "source": [
    "models = dict(\n",
    "    gemini_pro = vertexai.generative_models.GenerativeModel(\"gemini-1.5-pro-001\"),\n",
    "    gemini_flash = vertexai.generative_models.GenerativeModel(\"gemini-1.5-flash-001\"),\n",
    "    embedding = vertexai.language_models.TextEmbeddingModel.from_pretrained('text-embedding-004')\n",
    ")"
   ]
  },
  {
   "cell_type": "markdown",
   "id": "348a0ce5-7a1f-41c2-a675-2da2761ab071",
   "metadata": {
    "tags": []
   },
   "source": [
    "generation configs:"
   ]
  },
  {
   "cell_type": "code",
   "execution_count": 16,
   "id": "d0129c1a-bba3-4727-bb8d-98e873e4db78",
   "metadata": {
    "tags": []
   },
   "outputs": [],
   "source": [
    "grounding_config = vertexai.generative_models.GenerationConfig(\n",
    "    temperature = 0.0\n",
    ")"
   ]
  },
  {
   "cell_type": "markdown",
   "id": "3f09ee5e-b531-4bf1-82a1-654484711c7f",
   "metadata": {},
   "source": [
    "---\n",
    "## Prompt And Context\n",
    "\n",
    "The [official rules of baseball](https://img.mlbstatic.com/mlb-images/image/upload/mlb/wqn5ah4c3qtivwx3jatm.pdf), a pdf that is updated annually with the latest changes to the game and published by MLB.\n"
   ]
  },
  {
   "cell_type": "code",
   "execution_count": 36,
   "id": "6cf0da60-24a5-48f3-8197-6f66932283c8",
   "metadata": {
    "tags": []
   },
   "outputs": [],
   "source": [
    "prompt = \"what are the dimensions of first base in baseball?\""
   ]
  },
  {
   "cell_type": "code",
   "execution_count": 37,
   "id": "51878493-483a-480b-a14c-8a526ddf7ab7",
   "metadata": {
    "tags": []
   },
   "outputs": [],
   "source": [
    "url = 'https://img.mlbstatic.com/mlb-images/image/upload/mlb/wqn5ah4c3qtivwx3jatm.pdf'\n",
    "# get the pdf\n",
    "context_bytes = requests.get(url).content\n",
    "context_base64 = base64.b64encode(context_bytes).decode('utf-8')"
   ]
  },
  {
   "cell_type": "markdown",
   "id": "a71af1e3-1e56-4e6a-9bff-23fa9f9e9c39",
   "metadata": {
    "id": "Ydo-up2TMwo1"
   },
   "source": [
    "---\n",
    "## Get/Create Document AI Processors\n",
    "\n",
    "Document AI is comprised of multiple processors.  In this case the Layout parser is used for its ability to detect and extract paragraphs, tables, titles, heading, page headers, and page footers.  For a more thorough review of Document AI processors, including customized parsers, see the [Working With/Document AI](../Working%20With/Document%20AI/readme.md) section of this repository.  This repository includes example of processing document at larger scales and storing the data for processing and retrieval.\n",
    "\n",
    "Using the [Layout Parser](https://cloud.google.com/document-ai/docs/layout-parse-chunk)."
   ]
  },
  {
   "cell_type": "code",
   "execution_count": 38,
   "id": "eefbf384-001a-4b03-91c9-b5fc6070373f",
   "metadata": {
    "tags": []
   },
   "outputs": [
    {
     "name": "stdout",
     "output_type": "stream",
     "text": [
      "Retrieved existing parser:  projects/1026793852137/locations/us/processors/3779bd3a8f535977\n"
     ]
    }
   ],
   "source": [
    "PARSER_DISPLAY_NAME = 'my_layout_processor'\n",
    "PARSER_TYPE = 'LAYOUT_PARSER_PROCESSOR'\n",
    "PARSER_VERSION = 'pretrained-layout-parser-v1.0-2024-06-03'\n",
    "\n",
    "for p in docai_client.list_processors(parent = f'projects/{PROJECT_ID}/locations/{LOCATION}'):\n",
    "    if p.display_name == PARSER_DISPLAY_NAME:\n",
    "        parser = p\n",
    "try:\n",
    "    print('Retrieved existing parser: ', parser.name)\n",
    "except Exception:\n",
    "    parser = docai_client.create_processor(\n",
    "        parent = f'projects/{PROJECT_ID}/locations/{LOCATION}',\n",
    "        processor = dict(display_name = PARSER_DISPLAY_NAME, type_ = PARSER_TYPE, default_processor_version = PARSER_VERSION)\n",
    "    )\n",
    "    print('Created New Parser: ', parser.name)"
   ]
  },
  {
   "cell_type": "markdown",
   "id": "acf7f5da-3a30-4206-881d-ade9816f77d8",
   "metadata": {},
   "source": [
    "---\n",
    "## Process Document\n",
    "\n",
    "Document AI has online and batch processing.  These methods are subject to [limits](https://cloud.google.com/document-ai/limits#content_limits) and [qoutas](https://cloud.google.com/document-ai/quotas).  In this case online is limited to 15 pages and batch is limited to 500 pages.  The document is >100 pages so we either have to split it into smaller sections, like pages, for online processing or use batch processing.  Batch processing works for documents stored in GCS.\n",
    "\n",
    "> NOTE: The code below could be extended to many document in many locations."
   ]
  },
  {
   "cell_type": "markdown",
   "id": "9e03d587-aea0-41aa-8a9b-d44365ac2ccd",
   "metadata": {},
   "source": [
    "### Move Document To GCS"
   ]
  },
  {
   "cell_type": "code",
   "execution_count": 39,
   "id": "8aa5b800-dfc1-46fe-959c-2bf94c7c34eb",
   "metadata": {
    "tags": []
   },
   "outputs": [],
   "source": [
    "blob = bucket.blob(f'{SERIES}/{EXPERIMENT}/mlb_rules.pdf')\n",
    "blob.upload_from_string(context_bytes, content_type = 'application/pdf')"
   ]
  },
  {
   "cell_type": "markdown",
   "id": "cf11d785-7540-4f69-99ca-0a40042875ce",
   "metadata": {},
   "source": [
    "### Batch Process Document"
   ]
  },
  {
   "cell_type": "code",
   "execution_count": 40,
   "id": "d782eb32-96b3-409d-8cae-322173160eb7",
   "metadata": {
    "tags": []
   },
   "outputs": [
    {
     "name": "stdout",
     "output_type": "stream",
     "text": [
      "Waiting on batch job to complete: projects/1026793852137/locations/us/operations/11528564131844070679\n",
      "State.SUCCEEDED\n"
     ]
    }
   ],
   "source": [
    "from google.api_core.exceptions import InternalServerError\n",
    "from google.api_core.exceptions import RetryError\n",
    "\n",
    "batch_job = docai_client.batch_process_documents(\n",
    "    request = documentai.BatchProcessRequest(\n",
    "        name = parser.name,\n",
    "        input_documents = documentai.BatchDocumentsInputConfig(\n",
    "            gcs_documents = documentai.GcsDocuments(\n",
    "                documents = [\n",
    "                        documentai.GcsDocument(\n",
    "                            gcs_uri = f'gs://{GCS_BUCKET}/{SERIES}/{EXPERIMENT}/mlb_rules.pdf',\n",
    "                            mime_type = 'application/pdf'\n",
    "                    )\n",
    "                ]\n",
    "            )\n",
    "        ),\n",
    "        document_output_config = documentai.DocumentOutputConfig(\n",
    "            gcs_output_config = documentai.DocumentOutputConfig.GcsOutputConfig(\n",
    "                gcs_uri = f'gs://{GCS_BUCKET}/{SERIES}/{EXPERIMENT}/parsing'\n",
    "            )\n",
    "        ),\n",
    "        process_options = documentai.ProcessOptions(\n",
    "            layout_config = documentai.ProcessOptions.LayoutConfig(\n",
    "                chunking_config = documentai.ProcessOptions.LayoutConfig.ChunkingConfig(\n",
    "                    chunk_size = 100,\n",
    "                    include_ancestor_headings = True,\n",
    "                )\n",
    "            )\n",
    "        )\n",
    "    )\n",
    ")\n",
    "print(f'Waiting on batch job to complete: {batch_job.operation.name}')\n",
    "batch_job.result()\n",
    "        \n",
    "print(documentai.BatchProcessMetadata(batch_job.metadata).state)"
   ]
  },
  {
   "cell_type": "markdown",
   "id": "53cec6d7-79e9-4219-a138-9ad1b5714c4f",
   "metadata": {},
   "source": [
    "### Retrieve Document Parsing Results"
   ]
  },
  {
   "cell_type": "code",
   "execution_count": 41,
   "id": "eb3a84c3-1413-42b5-8f11-4ed59e9dd5ae",
   "metadata": {
    "tags": []
   },
   "outputs": [],
   "source": [
    "documents = []\n",
    "for process in documentai.BatchProcessMetadata(batch_job.metadata).individual_process_statuses:\n",
    "    matches = re.match(r\"gs://(.*?)/(.*)\", process.output_gcs_destination)\n",
    "    output_bucket, output_prefix = matches.groups()\n",
    "    output_blobs = bucket.list_blobs(prefix = output_prefix)\n",
    "    for blob in output_blobs:\n",
    "        document = documentai.Document.from_json(blob.download_as_bytes(), ignore_unknown_fields = True)\n",
    "        documents.append(document)"
   ]
  },
  {
   "cell_type": "code",
   "execution_count": 42,
   "id": "a28ff694-2f82-4dfa-a408-5aede0836c5d",
   "metadata": {
    "tags": []
   },
   "outputs": [
    {
     "data": {
      "text/plain": [
       "1"
      ]
     },
     "execution_count": 42,
     "metadata": {},
     "output_type": "execute_result"
    }
   ],
   "source": [
    "len(documents)"
   ]
  },
  {
   "cell_type": "code",
   "execution_count": 43,
   "id": "97e9527c-bafb-4bce-baf2-9458ccbb90d0",
   "metadata": {
    "tags": []
   },
   "outputs": [],
   "source": [
    "parsed_document = documentai.Document.to_dict(documents[0])"
   ]
  },
  {
   "cell_type": "code",
   "execution_count": 44,
   "id": "17f8b0ca-8988-4738-bf12-30dd8c083365",
   "metadata": {
    "tags": []
   },
   "outputs": [
    {
     "data": {
      "text/plain": [
       "dict_keys(['shard_info', 'document_layout', 'chunked_document', 'mime_type', 'text', 'text_styles', 'pages', 'entities', 'entity_relations', 'text_changes', 'revisions'])"
      ]
     },
     "execution_count": 44,
     "metadata": {},
     "output_type": "execute_result"
    }
   ],
   "source": [
    "parsed_document.keys()"
   ]
  },
  {
   "cell_type": "code",
   "execution_count": 45,
   "id": "0b1c3d4c-ebd2-4d51-8a5c-664456f494ad",
   "metadata": {
    "tags": []
   },
   "outputs": [
    {
     "data": {
      "text/plain": [
       "dict_keys(['chunks'])"
      ]
     },
     "execution_count": 45,
     "metadata": {},
     "output_type": "execute_result"
    }
   ],
   "source": [
    "parsed_document['chunked_document'].keys()"
   ]
  },
  {
   "cell_type": "markdown",
   "id": "20e0c6e4-7c23-484e-ad25-2820104d4c6c",
   "metadata": {},
   "source": [
    "### Parse Chunks\n",
    "\n",
    "Create a list of dictionaries for each chunk"
   ]
  },
  {
   "cell_type": "code",
   "execution_count": 46,
   "id": "76eadb9c-a182-4331-916e-317db837ff97",
   "metadata": {
    "tags": []
   },
   "outputs": [
    {
     "data": {
      "text/plain": [
       "867"
      ]
     },
     "execution_count": 46,
     "metadata": {},
     "output_type": "execute_result"
    }
   ],
   "source": [
    "len(parsed_document['chunked_document']['chunks'])"
   ]
  },
  {
   "cell_type": "code",
   "execution_count": 47,
   "id": "28946d21-d317-497f-8120-7c4e46582078",
   "metadata": {
    "tags": []
   },
   "outputs": [
    {
     "data": {
      "text/plain": [
       "dict_keys(['chunk_id', 'content', 'page_span', 'page_footers', 'source_block_ids', 'page_headers'])"
      ]
     },
     "execution_count": 47,
     "metadata": {},
     "output_type": "execute_result"
    }
   ],
   "source": [
    "parsed_document['chunked_document']['chunks'][0].keys()"
   ]
  },
  {
   "cell_type": "code",
   "execution_count": 48,
   "id": "af3deef2-bbcd-4a07-9317-b75fc79982ab",
   "metadata": {
    "tags": []
   },
   "outputs": [
    {
     "data": {
      "text/plain": [
       "{'chunk_id': 'c1',\n",
       " 'content': '# OFFICIAL BASEBALL RULES\\n\\n2023 Edition TM TM',\n",
       " 'page_span': {'page_start': 1, 'page_end': 7},\n",
       " 'page_footers': [{'text': 'V1',\n",
       "   'page_span': {'page_start': 6, 'page_end': 6}},\n",
       "  {'text': 'vii', 'page_span': {'page_start': 7, 'page_end': 7}}],\n",
       " 'source_block_ids': [],\n",
       " 'page_headers': []}"
      ]
     },
     "execution_count": 48,
     "metadata": {},
     "output_type": "execute_result"
    }
   ],
   "source": [
    "parsed_document['chunked_document']['chunks'][0]"
   ]
  },
  {
   "cell_type": "code",
   "execution_count": 49,
   "id": "3d7a08ef-37aa-4212-9c90-53156a735874",
   "metadata": {
    "tags": []
   },
   "outputs": [],
   "source": [
    "chunks = [\n",
    "    dict(\n",
    "        chunk_id = chunk['chunk_id'],\n",
    "        content = chunk['content'],\n",
    "    ) for chunk in parsed_document['chunked_document']['chunks']\n",
    "]"
   ]
  },
  {
   "cell_type": "code",
   "execution_count": 50,
   "id": "f2282d48-8eca-4a9e-a6fa-fcf7d0359291",
   "metadata": {
    "tags": []
   },
   "outputs": [
    {
     "data": {
      "text/plain": [
       "{'chunk_id': 'c1',\n",
       " 'content': '# OFFICIAL BASEBALL RULES\\n\\n2023 Edition TM TM'}"
      ]
     },
     "execution_count": 50,
     "metadata": {},
     "output_type": "execute_result"
    }
   ],
   "source": [
    "chunks[0]"
   ]
  },
  {
   "cell_type": "markdown",
   "id": "bb51ff15-3e5a-4377-9e63-c004961fb11c",
   "metadata": {},
   "source": [
    "### Generate Embeddings For Each Chunk\n",
    "\n",
    "Add the embeddings to the chunks dictionary by using the [Vertex AI Embeddings APIs](https://cloud.google.com/vertex-ai/generative-ai/docs/embeddings)."
   ]
  },
  {
   "cell_type": "code",
   "execution_count": 28,
   "id": "a489ac3e-09dd-4504-9147-314b941d9718",
   "metadata": {
    "tags": []
   },
   "outputs": [],
   "source": [
    "async def embedding_runner(chunks, limit_concur_requests = 1500):\n",
    "    limit = asyncio.Semaphore(limit_concur_requests)\n",
    "    results = [None] * len(chunks)\n",
    "    \n",
    "    # make requests - async\n",
    "    async def make_request(p):\n",
    "        \n",
    "        async with limit:\n",
    "            if limit.locked():\n",
    "                await asyncio.sleep(0.01)\n",
    "                \n",
    "            ########### manual Error Handling ############################################\n",
    "            fail_count = 0\n",
    "            while fail_count <= 20:\n",
    "                try:\n",
    "                    result = await models['embedding'].get_embeddings_async([chunks[p]['content']])\n",
    "                    if fail_count > 0:\n",
    "                        print(f'Item {p} succeeded after fail count = {fail_count}')\n",
    "                    break\n",
    "                except:\n",
    "                    fail_count += 1\n",
    "                    #print(f'Item {p} failed: current fail count = {fail_count}')\n",
    "                    await asyncio.sleep(2^(min(fail_count, 6) - 1))\n",
    "            ##############################################################################\n",
    "            \n",
    "        results[p] = result[0].values\n",
    "    \n",
    "    # manage tasks\n",
    "    tasks = [asyncio.create_task(make_request(p)) for p in range(len(chunks))]\n",
    "    responses = await asyncio.gather(*tasks)\n",
    "    \n",
    "    # add embeddings to input list of dictionaries for all the chunks\n",
    "    for c, content in enumerate(chunks):\n",
    "        content['embedding'] = results[c]\n",
    "    \n",
    "    await asyncio.sleep(60)\n",
    "    \n",
    "    return"
   ]
  },
  {
   "cell_type": "code",
   "execution_count": 29,
   "id": "2a551027-ffb8-40a2-b3e9-e8fa1eea2e81",
   "metadata": {
    "tags": []
   },
   "outputs": [],
   "source": [
    "await embedding_runner(chunks)"
   ]
  },
  {
   "cell_type": "markdown",
   "id": "99008f76-7720-41a3-861c-511ba0d5c0c9",
   "metadata": {},
   "source": [
    "---\n",
    "## Results To BigQuery\n",
    "\n",
    "BigQuery is the offline store to the Vertex AI Feature Store as featured in the next section.  This section show how to load the chunks and embeddings to a BigQuery table for use in Feature Store.\n",
    "\n",
    "BigQuery also has vector indexing and searching functions as well as built in connection LLMs on Vertex AI.  For a review of doing RAG from BQ, and even inside of BQ check out the companion workflow in this series here:\n",
    "- [Grounding Overview - RAG With BigQuery](./Grounding%20Overview%20-%20RAG%20With%20BigQuery.ipynb)\n"
   ]
  },
  {
   "cell_type": "markdown",
   "id": "47d5ce85-59d1-4c7a-9de8-45bbda36d9c6",
   "metadata": {},
   "source": [
    "### Create/Recall Dataset"
   ]
  },
  {
   "cell_type": "code",
   "execution_count": 30,
   "id": "302e29c4-96d4-4b38-b2cd-022ef80a617b",
   "metadata": {
    "tags": []
   },
   "outputs": [],
   "source": [
    "dataset = bigquery.Dataset(f\"{BQ_PROJECT}.{BQ_DATASET}\")\n",
    "dataset.location = BQ_REGION\n",
    "bq_dataset = bq.create_dataset(dataset, exists_ok = True)"
   ]
  },
  {
   "cell_type": "markdown",
   "id": "152d5579-7ef6-4a5f-81e6-3a838f5d6b03",
   "metadata": {},
   "source": [
    "### Load JSON TO BigQuery Table"
   ]
  },
  {
   "cell_type": "code",
   "execution_count": 31,
   "id": "93facd25-2dda-4747-b71b-b71f24e6c831",
   "metadata": {
    "tags": []
   },
   "outputs": [],
   "source": [
    "bq_table = bq_dataset.table(BQ_TABLE)"
   ]
  },
  {
   "cell_type": "code",
   "execution_count": 32,
   "id": "48ce833c-7647-49a1-9668-e9b19a51af73",
   "metadata": {
    "tags": []
   },
   "outputs": [],
   "source": [
    "job_config = bigquery.LoadJobConfig(\n",
    "    source_format = bigquery.SourceFormat.NEWLINE_DELIMITED_JSON,\n",
    "    write_disposition = bigquery.WriteDisposition.WRITE_TRUNCATE,\n",
    "    autodetect = True\n",
    ")"
   ]
  },
  {
   "cell_type": "code",
   "execution_count": 33,
   "id": "2fdaf79a-a805-443c-8a8d-2af69b22bc08",
   "metadata": {
    "tags": []
   },
   "outputs": [
    {
     "data": {
      "text/plain": [
       "LoadJob<project=statmike-mlops-349915, location=US, id=25a1b145-e1df-4a52-b867-ec079464aa00>"
      ]
     },
     "execution_count": 33,
     "metadata": {},
     "output_type": "execute_result"
    }
   ],
   "source": [
    "load_job = bq.load_table_from_json(\n",
    "    json_rows = chunks,\n",
    "    destination = bq_table,\n",
    "    job_config = job_config\n",
    ")\n",
    "load_job.result()"
   ]
  },
  {
   "cell_type": "code",
   "execution_count": 34,
   "id": "90275099-c0e8-404d-ae47-96594c47bb4e",
   "metadata": {
    "tags": []
   },
   "outputs": [
    {
     "data": {
      "text/html": [
       "<div>\n",
       "<style scoped>\n",
       "    .dataframe tbody tr th:only-of-type {\n",
       "        vertical-align: middle;\n",
       "    }\n",
       "\n",
       "    .dataframe tbody tr th {\n",
       "        vertical-align: top;\n",
       "    }\n",
       "\n",
       "    .dataframe thead th {\n",
       "        text-align: right;\n",
       "    }\n",
       "</style>\n",
       "<table border=\"1\" class=\"dataframe\">\n",
       "  <thead>\n",
       "    <tr style=\"text-align: right;\">\n",
       "      <th></th>\n",
       "      <th>embedding</th>\n",
       "      <th>content</th>\n",
       "      <th>chunk_id</th>\n",
       "    </tr>\n",
       "  </thead>\n",
       "  <tbody>\n",
       "    <tr>\n",
       "      <th>0</th>\n",
       "      <td>[-0.0014270133106037974, 0.0252088475972414, -...</td>\n",
       "      <td># OFFICIAL BASEBALL RULES\\n\\n2023 Edition TM TM</td>\n",
       "      <td>c1</td>\n",
       "    </tr>\n",
       "    <tr>\n",
       "      <th>1</th>\n",
       "      <td>[0.008681542240083218, 0.06999468058347702, 0....</td>\n",
       "      <td># OFFICIAL BASEBALL RULES\\n\\n## Official Baseb...</td>\n",
       "      <td>c2</td>\n",
       "    </tr>\n",
       "    <tr>\n",
       "      <th>2</th>\n",
       "      <td>[0.006522744428366423, 0.07181957364082336, 0....</td>\n",
       "      <td># OFFICIAL BASEBALL RULES\\n\\n## Official Baseb...</td>\n",
       "      <td>c3</td>\n",
       "    </tr>\n",
       "    <tr>\n",
       "      <th>3</th>\n",
       "      <td>[0.0074585191905498505, 0.0359831228852272, 0....</td>\n",
       "      <td># OFFICIAL BASEBALL RULES\\n\\n## FOREWORD\\n\\nTh...</td>\n",
       "      <td>c4</td>\n",
       "    </tr>\n",
       "    <tr>\n",
       "      <th>4</th>\n",
       "      <td>[0.008693071082234383, 0.048620305955410004, 0...</td>\n",
       "      <td># OFFICIAL BASEBALL RULES\\n\\n## FOREWORD\\n\\nMo...</td>\n",
       "      <td>c5</td>\n",
       "    </tr>\n",
       "  </tbody>\n",
       "</table>\n",
       "</div>"
      ],
      "text/plain": [
       "                                           embedding  \\\n",
       "0  [-0.0014270133106037974, 0.0252088475972414, -...   \n",
       "1  [0.008681542240083218, 0.06999468058347702, 0....   \n",
       "2  [0.006522744428366423, 0.07181957364082336, 0....   \n",
       "3  [0.0074585191905498505, 0.0359831228852272, 0....   \n",
       "4  [0.008693071082234383, 0.048620305955410004, 0...   \n",
       "\n",
       "                                             content chunk_id  \n",
       "0    # OFFICIAL BASEBALL RULES\\n\\n2023 Edition TM TM       c1  \n",
       "1  # OFFICIAL BASEBALL RULES\\n\\n## Official Baseb...       c2  \n",
       "2  # OFFICIAL BASEBALL RULES\\n\\n## Official Baseb...       c3  \n",
       "3  # OFFICIAL BASEBALL RULES\\n\\n## FOREWORD\\n\\nTh...       c4  \n",
       "4  # OFFICIAL BASEBALL RULES\\n\\n## FOREWORD\\n\\nMo...       c5  "
      ]
     },
     "execution_count": 34,
     "metadata": {},
     "output_type": "execute_result"
    }
   ],
   "source": [
    "bq.query(f\"SELECT * FROM `{BQ_PROJECT}.{BQ_DATASET}.{BQ_TABLE}` LIMIT 5\").to_dataframe()"
   ]
  },
  {
   "cell_type": "markdown",
   "id": "78f34eca-9670-4fd8-b60b-6eda60bf4dc2",
   "metadata": {},
   "source": [
    "---\n",
    "## Vertex AI Feature Store\n",
    "\n",
    "[Vertex AI Feature Store](https://cloud.google.com/vertex-ai/docs/featurestore/latest/overview) creates online feature views from BigQuery Tables/Views either directly or through the Feature Registry.  The online store have a low-latency API that does [vector matching](https://cloud.google.com/vertex-ai/docs/featurestore/latest/embeddings-search) on input vectors or input entities.  The response include all feature which means the actual text content will also be returned since it is in the table with the embeddings.\n",
    "\n",
    "Read more about Feature Store [here in this repository](../MLOps/Feature%20Store/readme.md)."
   ]
  },
  {
   "cell_type": "markdown",
   "id": "18764fde-61f1-4a85-9bb6-fc449a6339ad",
   "metadata": {},
   "source": [
    "### Feature Online Store Admin Client\n",
    "\n",
    "Used to create online stores and feature views"
   ]
  },
  {
   "cell_type": "code",
   "execution_count": 19,
   "id": "75ec5ac1-5115-46d7-9a9d-e19d5ef68e3f",
   "metadata": {
    "tags": []
   },
   "outputs": [],
   "source": [
    "online_admin_client = aiplatform.gapic.FeatureOnlineStoreAdminServiceClient(client_options = dict(api_endpoint = f'{REGION}-aiplatform.googleapis.com'))"
   ]
  },
  {
   "cell_type": "markdown",
   "id": "406762fb-3443-4650-8353-5ddb8445d939",
   "metadata": {},
   "source": [
    "### Create/Retrieve Online Store\n",
    "\n",
    "**NOTE:** This can take around 10 minutes if creating a new feature store instance\n",
    "\n",
    "**Reference:**\n",
    "- [Online Serving Types](https://cloud.google.com/vertex-ai/docs/featurestore/latest/online-serving-types)\n",
    "- [Create an Online Store Instance](https://cloud.google.com/vertex-ai/docs/featurestore/latest/create-onlinestore)"
   ]
  },
  {
   "cell_type": "code",
   "execution_count": 20,
   "id": "0f328ff4-3bc6-4b5c-9911-6bcf02da95b6",
   "metadata": {
    "tags": []
   },
   "outputs": [],
   "source": [
    "FEATURE_ONLINE_STORE_NAME = SERIES.replace('-', '_')"
   ]
  },
  {
   "cell_type": "code",
   "execution_count": 21,
   "id": "3b664e77-aa35-4f3d-af17-14b7a7860a41",
   "metadata": {
    "tags": []
   },
   "outputs": [
    {
     "data": {
      "text/plain": [
       "'projects/1026793852137/locations/us-central1/featureOnlineStores/applied_genai'"
      ]
     },
     "execution_count": 21,
     "metadata": {},
     "output_type": "execute_result"
    }
   ],
   "source": [
    "try:\n",
    "    online_store = online_admin_client.get_feature_online_store(name = f'projects/{PROJECT_ID}/locations/{REGION}/featureOnlineStores/{FEATURE_ONLINE_STORE_NAME}')\n",
    "except Exception:\n",
    "    create_online_store = online_admin_client.create_feature_online_store(\n",
    "        request = aiplatform.gapic.CreateFeatureOnlineStoreRequest(\n",
    "            parent = f'projects/{PROJECT_ID}/locations/{REGION}',\n",
    "            feature_online_store_id = FEATURE_ONLINE_STORE_NAME,\n",
    "            feature_online_store = aiplatform.gapic.FeatureOnlineStore(\n",
    "                optimized = aiplatform.gapic.FeatureOnlineStore.Optimized()\n",
    "            )\n",
    "        )\n",
    "    )\n",
    "    online_store = create_online_store.result()\n",
    "    \n",
    "online_store.name"
   ]
  },
  {
   "cell_type": "code",
   "execution_count": 22,
   "id": "7ad5ca7a-20cc-4775-b9ca-9a9256958c16",
   "metadata": {
    "tags": []
   },
   "outputs": [
    {
     "name": "stdout",
     "output_type": "stream",
     "text": [
      "Review in the console:\n",
      "\n",
      "https://console.cloud.google.com/vertex-ai/locations/us-central1/online-stores/applied_genai?project=statmike-mlops-349915\n"
     ]
    }
   ],
   "source": [
    "print(f'Review in the console:\\n\\nhttps://console.cloud.google.com/vertex-ai/locations/{REGION}/online-stores/{FEATURE_ONLINE_STORE_NAME}?project={PROJECT_ID}')"
   ]
  },
  {
   "cell_type": "markdown",
   "id": "23abf171-602b-4c08-86ae-3ed571532f2b",
   "metadata": {},
   "source": [
    "<p align=\"center\">\n",
    "    <img src=\"./resources/images/screenshots/grounding/fs_onlinestore.png\" width=\"75%\">\n",
    "<p>"
   ]
  },
  {
   "cell_type": "markdown",
   "id": "548cdd1f-80e0-4475-8628-a96e08c28f6b",
   "metadata": {},
   "source": [
    "### Important Notes About Setting Up An Index\n",
    "\n",
    "Working with embeddings, a vectors of numbers, a list of floating points... the nature of vector database solutions.  These are considerations to be taken regardless of the solution being used.  Here Vertex AI Feature Store, which has many configurable options to aide in this.\n",
    "\n",
    "- **Storage**\n",
    "    - filter attributes: values that can be used to limit a search\n",
    "    - crowding attributes: limit the number of matches with these attributes\n",
    "    - additional columns inline, like the text chunk an embedding represents to prevent the additional step of retrieving data for matches\n",
    "- **Indexing**\n",
    "    - a brute force configuration to force search across all embeddings, good for benchmarkinng and ground truth retrieval\n",
    "    - a method of segmenting embeddings, primarily:\n",
    "        - inverted file index (IVF), or k-means clustering of embeddings\n",
    "        - TreeAH, or [ScaNN](https://research.google/blog/announcing-scann-efficient-vector-similarity-search/), for compressing embeddings\n",
    "    - setting to configure the size of a cluster (IVF) or leaf nodes (TreeAH)\n",
    "    - distance type to set how matches are computed: dot product, euclidean, manhatten, cosine\n",
    "- **Retrieval**\n",
    "    - a brute force override to retrieve ground truth across the full index\n",
    "    - ability to control the number of neighbors retrieved at query time\n",
    "    - option to set distance calcuation type at query time\n",
    "    - usage of filtering and crowding attributes to tailor neighbors list"
   ]
  },
  {
   "cell_type": "markdown",
   "id": "db3ffd08-4dda-4ef0-87f2-3c291a8f94a7",
   "metadata": {},
   "source": [
    "### Create Feature View: From BigQuery Source\n",
    "\n",
    "Create a feature view directly from a BigQuery table/view - the table created above.\n",
    "\n",
    "**Reference:**\n",
    "- [Create a feature view from a BigQuery source](https://cloud.google.com/vertex-ai/docs/featurestore/latest/create-featureview#create_from_bq)\n",
    "- API Link for [`aiplatform.gapic.FeatureView.IndexConfig()`](https://cloud.google.com/python/docs/reference/aiplatform/latest/google.cloud.aiplatform_v1.types.FeatureView.IndexConfig)\n"
   ]
  },
  {
   "cell_type": "code",
   "execution_count": 23,
   "id": "94797cfa-0321-4ee2-a089-dd0c62cf9d4f",
   "metadata": {
    "tags": []
   },
   "outputs": [],
   "source": [
    "BQ_FEATURE_VIEW_NAME = BQ_TABLE.replace('-','_')"
   ]
  },
  {
   "cell_type": "code",
   "execution_count": 24,
   "id": "e23d3a77-984c-4597-b8db-8704ff25a9cc",
   "metadata": {
    "tags": []
   },
   "outputs": [
    {
     "data": {
      "text/plain": [
       "'projects/1026793852137/locations/us-central1/featureOnlineStores/applied_genai/featureViews/grounding_overview'"
      ]
     },
     "execution_count": 24,
     "metadata": {},
     "output_type": "execute_result"
    }
   ],
   "source": [
    "try:\n",
    "    bq_view = online_admin_client.get_feature_view(name = f'{online_store.name}/featureViews/{BQ_FEATURE_VIEW_NAME}')\n",
    "except Exception:\n",
    "    create_bq_view = online_admin_client.create_feature_view(\n",
    "        request = aiplatform.gapic.CreateFeatureViewRequest(\n",
    "            parent = online_store.name,\n",
    "            feature_view_id = BQ_FEATURE_VIEW_NAME,\n",
    "            feature_view = aiplatform.gapic.FeatureView(\n",
    "                big_query_source = aiplatform.gapic.FeatureView.BigQuerySource(\n",
    "                    uri = f'bq://{BQ_PROJECT}.{BQ_DATASET}.{BQ_TABLE}',\n",
    "                    entity_id_columns = ['chunk_id']\n",
    "                ),\n",
    "                sync_config = aiplatform.gapic.FeatureView.SyncConfig(cron = 'TZ=America/New_York 10 * * * *'),\n",
    "                index_config = aiplatform.gapic.FeatureView.IndexConfig(\n",
    "                    embedding_column = 'embedding',\n",
    "                    embedding_dimension = len(chunks[0]['embedding']),\n",
    "                    #filter_columns = ['splits'],\n",
    "                    #crowding_column = 'Class',\n",
    "                    tree_ah_config = aiplatform.gapic.FeatureView.IndexConfig.TreeAHConfig(\n",
    "                        leaf_node_embedding_count = 500\n",
    "                    ),\n",
    "                    # 0 = unspecified, 1 = Euclidean (squared L2), 2 = Cosine, 3 = Dot Product (negative of dot product)\n",
    "                    distance_measure_type = aiplatform.gapic.FeatureView.IndexConfig.DistanceMeasureType(3)\n",
    "                )\n",
    "            ),\n",
    "            run_sync_immediately = True\n",
    "        )\n",
    "    )\n",
    "    bq_view = create_bq_view.result()\n",
    "    \n",
    "bq_view.name"
   ]
  },
  {
   "cell_type": "code",
   "execution_count": 25,
   "id": "3c7f9710-1cb8-433b-9750-eb9316ae7a6d",
   "metadata": {
    "tags": []
   },
   "outputs": [
    {
     "name": "stdout",
     "output_type": "stream",
     "text": [
      "Review in the console:\n",
      "\n",
      "https://console.cloud.google.com/vertex-ai/locations/us-central1/online-stores/applied_genai/feature-views/grounding_overview/details?project=statmike-mlops-349915\n"
     ]
    }
   ],
   "source": [
    "print(f'Review in the console:\\n\\nhttps://console.cloud.google.com/vertex-ai/locations/{REGION}/online-stores/{FEATURE_ONLINE_STORE_NAME}/feature-views/{BQ_FEATURE_VIEW_NAME}/details?project={PROJECT_ID}')"
   ]
  },
  {
   "cell_type": "markdown",
   "id": "d12d81ca-db92-460f-96e9-3a830e209044",
   "metadata": {},
   "source": [
    "### Start/Get Sync Manually: BQ View\n",
    "\n",
    "Manually start a sync for the feature view create from BigQuery source.\n",
    "\n",
    "**References:**\n",
    "- [Sync feature data to online store](https://cloud.google.com/vertex-ai/docs/featurestore/latest/sync-data)\n",
    "- [List sync operations](https://cloud.google.com/vertex-ai/docs/featurestore/latest/list-data-syncs)"
   ]
  },
  {
   "cell_type": "code",
   "execution_count": 26,
   "id": "3abbbc66-1a96-42da-bb56-a38c88023394",
   "metadata": {
    "tags": []
   },
   "outputs": [],
   "source": [
    "bq_sync = list(online_admin_client.list_feature_view_syncs(parent = bq_view.name))[-1]"
   ]
  },
  {
   "cell_type": "code",
   "execution_count": 27,
   "id": "4b0714d7-f2fe-49f3-b06e-f676423329d3",
   "metadata": {
    "tags": []
   },
   "outputs": [
    {
     "data": {
      "text/plain": [
       "'projects/1026793852137/locations/us-central1/featureOnlineStores/applied_genai/featureViews/grounding_overview/featureViewSyncs/3471515395549036544'"
      ]
     },
     "execution_count": 27,
     "metadata": {},
     "output_type": "execute_result"
    }
   ],
   "source": [
    "bq_sync.name"
   ]
  },
  {
   "cell_type": "code",
   "execution_count": 28,
   "id": "8d060d09-6805-45fb-b845-a7ae313d498d",
   "metadata": {
    "tags": []
   },
   "outputs": [
    {
     "name": "stdout",
     "output_type": "stream",
     "text": [
      "Succeeded!\n"
     ]
    }
   ],
   "source": [
    "waited = 0\n",
    "while True:\n",
    "    feature_view_sync = online_admin_client.get_feature_view_sync(name = bq_sync.name)\n",
    "    if feature_view_sync.run_time.end_time.seconds > 0:\n",
    "        status = feature_view_sync.final_status.code\n",
    "        break\n",
    "    else:\n",
    "        print(f'Waited {waited} seconds. Update in 30 seconds...')\n",
    "    time.sleep(30)\n",
    "    waited += 30\n",
    "    \n",
    "if status == 0: print('Succeeded!')\n",
    "else: print('Failed!')"
   ]
  },
  {
   "cell_type": "code",
   "execution_count": 29,
   "id": "785f4645-221c-4369-b884-a77b28688af8",
   "metadata": {
    "tags": []
   },
   "outputs": [
    {
     "data": {
      "text/plain": [
       "ListFeatureViewSyncsPager<feature_view_syncs {\n",
       "  name: \"projects/1026793852137/locations/us-central1/featureOnlineStores/applied_genai/featureViews/grounding_overview/featureViewSyncs/3564824350328619008\"\n",
       "  create_time {\n",
       "    seconds: 1724353801\n",
       "    nanos: 193815000\n",
       "  }\n",
       "  run_time {\n",
       "    start_time {\n",
       "      seconds: 1724353801\n",
       "      nanos: 193815000\n",
       "    }\n",
       "    end_time {\n",
       "      seconds: 1724353987\n",
       "      nanos: 590589000\n",
       "    }\n",
       "  }\n",
       "  final_status {\n",
       "  }\n",
       "}\n",
       "next_page_token: \"AMEw9yP4rLyfWoQuA-YARRWa2vXgeCNyMxEQy3r5hRokQKXNQ3G6odbZMiP1L0JuWqA2bpN2\"\n",
       ">"
      ]
     },
     "execution_count": 29,
     "metadata": {},
     "output_type": "execute_result"
    }
   ],
   "source": [
    "online_admin_client.list_feature_view_syncs(\n",
    "    request = dict(\n",
    "        parent = bq_view.name,\n",
    "        page_size = 1,\n",
    "        #filter = f'create_time > \"{(datetime.now() - timedelta(hours = 9)).strftime(\"%Y-%m-%dT%X\")}\"'\n",
    "    )\n",
    ")"
   ]
  },
  {
   "cell_type": "code",
   "execution_count": 30,
   "id": "00e33d85-ef85-4a66-bfc9-93f6668c62b2",
   "metadata": {
    "tags": []
   },
   "outputs": [
    {
     "name": "stdout",
     "output_type": "stream",
     "text": [
      "Review in the console:\n",
      "\n",
      "https://console.cloud.google.com/vertex-ai/locations/us-central1/online-stores/applied_genai/feature-views/grounding_overview/details?project=statmike-mlops-349915\n"
     ]
    }
   ],
   "source": [
    "print(f'Review in the console:\\n\\nhttps://console.cloud.google.com/vertex-ai/locations/{REGION}/online-stores/{FEATURE_ONLINE_STORE_NAME}/feature-views/{BQ_FEATURE_VIEW_NAME}/details?project={PROJECT_ID}')"
   ]
  },
  {
   "cell_type": "markdown",
   "id": "5b2a6361-79e5-40ff-a83d-d91cce4f4934",
   "metadata": {},
   "source": [
    "<p align=\"center\">\n",
    "    <img src=\"./resources/images/screenshots/grounding/fs_featureview.png\" width=\"75%\">\n",
    "<p>"
   ]
  },
  {
   "cell_type": "markdown",
   "id": "5ab55a56-1e07-4b40-bcfe-4fe75eefbf75",
   "metadata": {},
   "source": [
    "---\n",
    "## Online Retrieval With Vertex AI Feature Store \n",
    "\n",
    "**Note:** It might take a few minutes for the newly created feature view created above to respond here.  If you get an error wait a minute and retry.  "
   ]
  },
  {
   "cell_type": "markdown",
   "id": "0e42c6c4-b765-44c5-b217-9118eca57f56",
   "metadata": {},
   "source": [
    "### Setup New SDK"
   ]
  },
  {
   "cell_type": "code",
   "execution_count": 31,
   "id": "6478386f-9220-42a2-bb32-201a1dbe5170",
   "metadata": {
    "tags": []
   },
   "outputs": [],
   "source": [
    "try:\n",
    "    from vertexai.resources.preview.feature_store.feature_view import FeatureView\n",
    "except Exception as err:\n",
    "    print('Retry')"
   ]
  },
  {
   "cell_type": "code",
   "execution_count": 32,
   "id": "0845c285-6d08-436e-8ac9-4ed8cb22b81f",
   "metadata": {
    "tags": []
   },
   "outputs": [],
   "source": [
    "fsv = FeatureView(name = bq_view.name)"
   ]
  },
  {
   "cell_type": "code",
   "execution_count": 33,
   "id": "c9247294-edc0-496c-ba54-b1d127c51010",
   "metadata": {
    "tags": []
   },
   "outputs": [
    {
     "data": {
      "text/plain": [
       "'projects/1026793852137/locations/us-central1/featureOnlineStores/applied_genai/featureViews/grounding_overview'"
      ]
     },
     "execution_count": 33,
     "metadata": {},
     "output_type": "execute_result"
    }
   ],
   "source": [
    "bq_view.name"
   ]
  },
  {
   "cell_type": "markdown",
   "id": "bb8b240b-692d-40fd-bc84-8207391ba954",
   "metadata": {},
   "source": [
    "### Retrieve Features For An Entity\n",
    "\n",
    "**NOTE:** The embedding is also retrieved."
   ]
  },
  {
   "cell_type": "code",
   "execution_count": 51,
   "id": "e0858b23-a702-4f43-8b06-d22c02c127ba",
   "metadata": {
    "tags": []
   },
   "outputs": [
    {
     "data": {
      "text/plain": [
       "'c1'"
      ]
     },
     "execution_count": 51,
     "metadata": {},
     "output_type": "execute_result"
    }
   ],
   "source": [
    "chunks[0]['chunk_id']"
   ]
  },
  {
   "cell_type": "code",
   "execution_count": 52,
   "id": "266dbb7c-8c5e-43bd-ad43-d3c595990b06",
   "metadata": {
    "tags": []
   },
   "outputs": [],
   "source": [
    "results = fsv.read(key = ['c1']).to_dict()['features']"
   ]
  },
  {
   "cell_type": "code",
   "execution_count": 53,
   "id": "f03e80a9-79a1-481a-bcf1-1b60fd3599d6",
   "metadata": {
    "tags": []
   },
   "outputs": [],
   "source": [
    "for f, feature in enumerate(results):\n",
    "    if feature['name'] == 'embedding':\n",
    "        results.pop(f)"
   ]
  },
  {
   "cell_type": "code",
   "execution_count": 54,
   "id": "ed9acfdd-d950-464b-9bd4-2f436a453bf8",
   "metadata": {
    "tags": []
   },
   "outputs": [
    {
     "data": {
      "text/plain": [
       "[{'name': 'content',\n",
       "  'value': {'string_value': '# OFFICIAL BASEBALL RULES\\n\\n2023 Edition TM TM'}}]"
      ]
     },
     "execution_count": 54,
     "metadata": {},
     "output_type": "execute_result"
    }
   ],
   "source": [
    "results"
   ]
  },
  {
   "cell_type": "markdown",
   "id": "ff631797-6efa-42f7-82aa-3c913c7358f9",
   "metadata": {},
   "source": [
    "### Search For Matches Based On Entity"
   ]
  },
  {
   "cell_type": "code",
   "execution_count": 55,
   "id": "99eaa739-d2b7-49fa-90dc-db2112c80d09",
   "metadata": {
    "tags": []
   },
   "outputs": [
    {
     "data": {
      "text/plain": [
       "SearchNearestEntitiesResponse(_response=nearest_neighbors {\n",
       "  neighbors {\n",
       "    entity_id: \"c3\"\n",
       "    distance: -0.83912760019302368\n",
       "  }\n",
       "  neighbors {\n",
       "    entity_id: \"c21\"\n",
       "    distance: -0.77282094955444336\n",
       "  }\n",
       "  neighbors {\n",
       "    entity_id: \"c12\"\n",
       "    distance: -0.77026277780532837\n",
       "  }\n",
       "  neighbors {\n",
       "    entity_id: \"c20\"\n",
       "    distance: -0.76806008815765381\n",
       "  }\n",
       "  neighbors {\n",
       "    entity_id: \"c14\"\n",
       "    distance: -0.76674884557724\n",
       "  }\n",
       "}\n",
       ")"
      ]
     },
     "execution_count": 55,
     "metadata": {},
     "output_type": "execute_result"
    }
   ],
   "source": [
    "fsv.search(\n",
    "    entity_id = chunks[0]['chunk_id'],\n",
    "    neighbor_count = 5,\n",
    "    return_full_entity = False\n",
    ")"
   ]
  },
  {
   "cell_type": "markdown",
   "id": "5dacc878-a2bb-468b-8801-56aef560ef8e",
   "metadata": {},
   "source": [
    "### Search For Matches: Return All Features"
   ]
  },
  {
   "cell_type": "code",
   "execution_count": 56,
   "id": "86530d9c-c255-4fa1-8989-88467dfbd609",
   "metadata": {
    "tags": []
   },
   "outputs": [],
   "source": [
    "results = fsv.search(\n",
    "    entity_id = chunks[0]['chunk_id'],\n",
    "    neighbor_count = 3,\n",
    "    return_full_entity = True\n",
    ").to_dict()['neighbors']"
   ]
  },
  {
   "cell_type": "code",
   "execution_count": 57,
   "id": "d79c37c1-250d-4303-8951-4830a50e833f",
   "metadata": {
    "tags": []
   },
   "outputs": [],
   "source": [
    "matches = []\n",
    "for result in results:\n",
    "    for feature in result['entity_key_values']['key_values']['features']:\n",
    "        if feature['name'] == 'content':\n",
    "            matches.append(dict(\n",
    "                chunk_id = result['entity_id'],\n",
    "                content = feature['value']['string_value']\n",
    "            ))"
   ]
  },
  {
   "cell_type": "code",
   "execution_count": 58,
   "id": "a13ab101-559d-4f5a-aba3-8cdfb17150bd",
   "metadata": {
    "tags": []
   },
   "outputs": [
    {
     "data": {
      "text/plain": [
       "[{'chunk_id': 'c3',\n",
       "  'content': '# OFFICIAL BASEBALL RULES\\n\\n## Official Baseball Rules 2023 Edition\\n\\n### All rights reserved.\\n\\nNo part of the Official Baseball Rules may be reproduced or transmitted in any form or by any means, electronic or mechanical, including photocopy, recording, or any information storage and retrieval system now known or to be invented, without permission in writing from the Office of the Commissioner of Baseball. The Major League Baseball silhouetted batter logo is a registered trademark of Major League Baseball Properties, Inc. Cover photo by MLB Photos. ISBN 978-1-63727-284-8 Printed in the United States of America'},\n",
       " {'chunk_id': 'c21',\n",
       "  'content': '# Table of Contents 2023 Official Baseball Rules\\n\\n## 5.00-PLAYING THE GAME\\n\\n|-|-|-|\\n| 9.01 | Official Scorer (General Rules) | 105 |\\n| 9.02 | Official Scorer Report | 108 |\\n| 9.03 | Official Scorer Report (Additional Rules) | 111 |\\n| 9.04 | Runs Batted In | 114 |\\n| 9.05 | Base Hits | 114 |\\n| 9.06 | Determining Value of Base Hits | 116 |\\n| 9.07 | Stolen Bases and Caught Stealing | 119 |\\n| 9.08 | Sacrifices | 121 |\\n| 9.09 | Putouts | 123 |\\n| 9.10 |  |\\n\\n'},\n",
       " {'chunk_id': 'c12',\n",
       "  'content': \"# Table of Contents 2023 Official Baseball Rules\\n\\n|-|-|\\n| 1.00—OBJECTIVES OF THE GAME | 1 |\\n| 2.00-THE PLAYING FIELD 2.01 Layout of the Field 2.02 Home Base. 2.03 The Bases 2.04 The Pitcher's Plate 2.05 Benches 3.00- EQUIPMENT AND UNIFORMS | 2 3 3 4 4 |\\n| 3.01 The Ball | 5 |\\n| 3.02 The Bat | 5 |\\n| 3.03 Player Uniforms | 6 |\\n| 3.04 Catcher's Mitt | 7 |\\n| 3.05 First Baseman's Glove | 7 |\\n| 3.06 Fielding Gloves | 8 |\\n| Pitcher's Glove 3.07 | 9 |\\n|\\n\\n\"}]"
      ]
     },
     "execution_count": 58,
     "metadata": {},
     "output_type": "execute_result"
    }
   ],
   "source": [
    "matches"
   ]
  },
  {
   "cell_type": "markdown",
   "id": "80fa717f-3ddc-45e7-adcf-9c3cecb3ae83",
   "metadata": {},
   "source": [
    "### Search For Matches Based On Embedding"
   ]
  },
  {
   "cell_type": "code",
   "execution_count": 59,
   "id": "06ddf7d8-9ad8-45ff-85b5-791a1d4fa6aa",
   "metadata": {
    "tags": []
   },
   "outputs": [],
   "source": [
    "results = fsv.search(\n",
    "    embedding_value = models['embedding'].get_embeddings([prompt])[0].values,\n",
    "    neighbor_count = 5,\n",
    "    return_full_entity = True\n",
    ").to_dict()['neighbors']"
   ]
  },
  {
   "cell_type": "code",
   "execution_count": 60,
   "id": "893e4d8a-b093-4fc6-a675-aa2c03afb257",
   "metadata": {
    "tags": []
   },
   "outputs": [],
   "source": [
    "matches = []\n",
    "for result in results:\n",
    "    for feature in result['entity_key_values']['key_values']['features']:\n",
    "        if feature['name'] == 'content':\n",
    "            matches.append(dict(\n",
    "                chunk_id = result['entity_id'],\n",
    "                content = feature['value']['string_value']\n",
    "            ))"
   ]
  },
  {
   "cell_type": "code",
   "execution_count": 61,
   "id": "25bef14c-be97-481a-b5e4-25d3a90a6deb",
   "metadata": {
    "tags": []
   },
   "outputs": [
    {
     "data": {
      "text/plain": [
       "[{'chunk_id': 'c32',\n",
       "  'content': \"# 2.00-THE PLAYING FIELD\\n\\n## 2.01 Layout of the Field\\n\\nThe distance between first base and third base is 127 feet, 3\\\\frac{3}{8} inches. All measurements from home base shall be taken from the point where the first and third base lines intersect.The catcher's box, the batters' boxes, the coaches' boxes, the three- foot first base lines and the next batter's boxes shall be laid out as shown in the diagrams in Appendices 1 and 2. 2\"},\n",
       " {'chunk_id': 'c39',\n",
       "  'content': \"# 2.00-THE PLAYING FIELD\\n\\n## 2.02 Home Base\\n\\nIt shall be set in the ground with the point at the intersection of the lines extending from home base to first base and to third base; with the 17-inch edge facing the pitcher's plate, and the two 12-inch edges coinciding with the first and third base lines. The top edges of home base shall be beveled and the base shall be fixed in the ground level with the ground surface. (See drawing D in Appendix 2.)3\"},\n",
       " {'chunk_id': 'c31',\n",
       "  'content': '# 2.00-THE PLAYING FIELD\\n\\n## 2.01 Layout of the Field\\n\\nWhen location of home base is determined, with a steel tape measure 127 feet, 3\\\\frac{3}{8} inches in desired direction to establish second base. From home base, measure 90 feet toward first base; from second base, measure 90 feet toward first base; the intersection of these lines establishes first base. From home base, measure 90 feet toward third base; from second base, measure 90 feet toward third base; the intersection of these lines establishes third base.'},\n",
       " {'chunk_id': 'c24',\n",
       "  'content': \"# Table of Contents 2023 Official Baseball Rules\\n\\n## 5.00-PLAYING THE GAME\\n\\nand 3rd Bases| 161 | 3 | Layout of Pitching Mound | 162 |\\n| 4 | Dimensions of Fielder's Glove | 163 |\\n| 5 | The Strike Zone | 164 |\\n| INDEX |  | 165 |\\n\\n\\n# Rule 1.01 to 1.06\"},\n",
       " {'chunk_id': 'c60',\n",
       "  'content': \"# Rule 3.03(g) to 3.05\\n\\n## 3.05 First Baseman's Glove\\n\\nwide across the palm, measured from the base of the thumb crotch to the outer edge of the mitt. The space between the thumb section and the finger section of the mitt shall not exceed four inches at the top of the mitt and three and one-half inches at the base of the thumb crotch. The mitt shall be constructed so that this space is permanently fixed and cannot be enlarged, extended, widened, or deepened by the use of any materials or process whatsoever.\"}]"
      ]
     },
     "execution_count": 61,
     "metadata": {},
     "output_type": "execute_result"
    }
   ],
   "source": [
    "matches"
   ]
  },
  {
   "cell_type": "markdown",
   "id": "d46be487-79af-4e44-bb20-7bbdccb21f17",
   "metadata": {},
   "source": [
    "---\n",
    "## RAG With Feature Store\n",
    "\n",
    "Based on a user query retrieve content from Feature Store and then provide it as context to an LLM, in this case [Gemini On Vertex AI](https://cloud.google.com/vertex-ai/generative-ai/docs/learn/models).\n",
    "\n",
    "For a detailed overview of this approach, as well as extentions like reranking, and comparing ot other grounding methods make sure to check out the companion workflow in this repository: \n",
    "- [Grounding Overview](./Grounding%20Overview.ipynb)"
   ]
  },
  {
   "cell_type": "code",
   "execution_count": 78,
   "id": "d13181d3-678d-43bb-a4ef-f63726dff952",
   "metadata": {
    "tags": []
   },
   "outputs": [
    {
     "data": {
      "text/plain": [
       "'what are the dimensions of first base in baseball?'"
      ]
     },
     "execution_count": 78,
     "metadata": {},
     "output_type": "execute_result"
    }
   ],
   "source": [
    "prompt"
   ]
  },
  {
   "cell_type": "markdown",
   "id": "65573239-4b2d-4004-82bb-912a02fdede0",
   "metadata": {
    "tags": []
   },
   "source": [
    "### Retrieval"
   ]
  },
  {
   "cell_type": "code",
   "execution_count": 62,
   "id": "25fa0a55-09b8-485c-818e-1df1ff824212",
   "metadata": {
    "tags": []
   },
   "outputs": [],
   "source": [
    "results = fsv.search(\n",
    "    embedding_value = models['embedding'].get_embeddings([prompt])[0].values,\n",
    "    neighbor_count = 20,\n",
    "    return_full_entity = True\n",
    ").to_dict()['neighbors']"
   ]
  },
  {
   "cell_type": "code",
   "execution_count": 63,
   "id": "47b68ac1-ebeb-4ca1-8bdb-3a511070814b",
   "metadata": {
    "tags": []
   },
   "outputs": [],
   "source": [
    "matches = []\n",
    "for result in results:\n",
    "    for feature in result['entity_key_values']['key_values']['features']:\n",
    "        if feature['name'] == 'content':\n",
    "            matches.append(dict(\n",
    "                chunk_id = result['entity_id'],\n",
    "                distance = result['distance'],\n",
    "                content = feature['value']['string_value']\n",
    "            ))"
   ]
  },
  {
   "cell_type": "code",
   "execution_count": 64,
   "id": "a2c996df-becb-46e8-8cb3-1f7fc14d7019",
   "metadata": {
    "tags": []
   },
   "outputs": [
    {
     "name": "stdout",
     "output_type": "stream",
     "text": [
      "1 - chunk_id: c32 with distance: -0.7050017714500427\n",
      "2 - chunk_id: c39 with distance: -0.6960663795471191\n",
      "3 - chunk_id: c31 with distance: -0.691490650177002\n",
      "4 - chunk_id: c24 with distance: -0.6890405416488647\n",
      "5 - chunk_id: c60 with distance: -0.6760091781616211\n",
      "6 - chunk_id: c29 with distance: -0.6737022399902344\n",
      "7 - chunk_id: c838 with distance: -0.6642963886260986\n",
      "8 - chunk_id: c30 with distance: -0.6638877391815186\n",
      "9 - chunk_id: c38 with distance: -0.661100447177887\n",
      "10 - chunk_id: c28 with distance: -0.6602258086204529\n",
      "11 - chunk_id: c59 with distance: -0.6543205976486206\n",
      "12 - chunk_id: c37 with distance: -0.6491357088088989\n",
      "13 - chunk_id: c41 with distance: -0.6488881707191467\n",
      "14 - chunk_id: c23 with distance: -0.6433005332946777\n",
      "15 - chunk_id: c40 with distance: -0.6430721879005432\n",
      "16 - chunk_id: c25 with distance: -0.6380656361579895\n",
      "17 - chunk_id: c61 with distance: -0.6375458836555481\n",
      "18 - chunk_id: c36 with distance: -0.6370067000389099\n",
      "19 - chunk_id: c837 with distance: -0.6339529752731323\n",
      "20 - chunk_id: c12 with distance: -0.6282616853713989\n"
     ]
    }
   ],
   "source": [
    "for m, match in enumerate(matches): print(f\"{m+1} - chunk_id: {match['chunk_id']} with distance: {match['distance']}\")"
   ]
  },
  {
   "cell_type": "code",
   "execution_count": 65,
   "id": "183d4b70-08ea-4237-8b7f-d3381268025e",
   "metadata": {
    "tags": []
   },
   "outputs": [],
   "source": [
    "retrieved_context = \"Context presented as chunks of text extracted from source documents:\\n\"\n",
    "for match in matches:\n",
    "    retrieved_context += f\"\\n- Chunk {match['chunk_id']}: {match['content']}\""
   ]
  },
  {
   "cell_type": "code",
   "execution_count": 66,
   "id": "1888f765-9ede-4948-9006-d0e9223f9315",
   "metadata": {
    "tags": []
   },
   "outputs": [],
   "source": [
    "#display(retrieved_context)"
   ]
  },
  {
   "cell_type": "code",
   "execution_count": 68,
   "id": "a1e2aa1c-2e1c-435b-b2fc-c2f4ade8f95b",
   "metadata": {
    "tags": []
   },
   "outputs": [
    {
     "name": "stdout",
     "output_type": "stream",
     "text": [
      "c25 \n",
      "\n",
      " # Rule 3.03(g) to 3.05\n",
      "\n",
      "## 3.05 First Baseman's Glove\n",
      "\n",
      "The web of the mitt shall measure not more than five inches from its top to the base of the thumb crotch. The web may be either a lacing, lacing through leather tunnels, or a center piece of leather which may be an extension of the palm connected to the mitt with lacing and constructed so that it will not exceed the above mentioned measurements. The webbing shall not be constructed of wound or wrapped lacing or deepened to make a net type of trap. The glove may be of any weight.\n"
     ]
    }
   ],
   "source": [
    "print(matches[15]['chunk_id'], '\\n\\n', matches[16]['content'])"
   ]
  },
  {
   "cell_type": "markdown",
   "id": "df622770-e22b-4dbd-aa9f-9c7bb8a6d36d",
   "metadata": {},
   "source": [
    "### Generation"
   ]
  },
  {
   "cell_type": "code",
   "execution_count": 72,
   "id": "6b60ce31-2b8d-46de-b765-b05b7f0f5cbd",
   "metadata": {
    "tags": []
   },
   "outputs": [
    {
     "data": {
      "text/markdown": [
       "The provided text snippets describe the layout and markings of a baseball field but do not specify the dimensions of first base itself. \n",
       "\n",
       "However, the text *does* say that first base is marked by a bag with these characteristics:\n",
       "\n",
       "* **Shape:** Square\n",
       "* **Size:** 18 inches by 18 inches\n",
       "* **Thickness:** Not less than 3 inches, not more than 5 inches\n",
       "* **Material:** White canvas or rubber-covered \n",
       "* **Filling:** Soft material\n",
       "\n",
       "Therefore, while a specific dimension for first base isn't given, you know it's marked by an 18-inch square bag. \n"
      ],
      "text/plain": [
       "<IPython.core.display.Markdown object>"
      ]
     },
     "execution_count": 72,
     "metadata": {},
     "output_type": "execute_result"
    }
   ],
   "source": [
    "grounded_with_rag_vertexfs = models['gemini_pro'].generate_content([retrieved_context, prompt], generation_config = grounding_config)\n",
    "display(grounded_with_rag_vertexfs.text)"
   ]
  },
  {
   "cell_type": "code",
   "execution_count": 77,
   "id": "fd5e71a9-2448-4689-a8ee-4cd9dc7b9bd0",
   "metadata": {
    "tags": []
   },
   "outputs": [
    {
     "data": {
      "text/markdown": [
       "First base in baseball is marked by a white canvas or rubber-covered bag that is 18 inches square. \n",
       "\n",
       "This information is found in chunk c40:\n",
       "\n",
       "## 2.03 The Bases\n",
       "\n",
       "First, second and third bases shall be marked by white canvas or rubber-covered bags, securely attached to the ground as indicated in Diagram 2. The first and third base bags shall be entirely within the infield. The second base bag shall be centered on second base. The bags shall be 18 inches square, not less than three nor more than five inches thick, and filled with soft material. \n"
      ],
      "text/plain": [
       "<IPython.core.display.Markdown object>"
      ]
     },
     "execution_count": 77,
     "metadata": {},
     "output_type": "execute_result"
    }
   ],
   "source": [
    "grounded_with_rag_vertexfs = models['gemini_flash'].generate_content([retrieved_context, prompt, 'State which chunk helped answer the question.'], generation_config = grounding_config)\n",
    "display(grounded_with_rag_vertexfs.text)"
   ]
  },
  {
   "cell_type": "markdown",
   "id": "83b7963a-99b7-4991-ab8f-64f35f134ac6",
   "metadata": {},
   "source": [
    "---\n",
    "## Cleanup\n",
    "\n",
    "Vertex AI Feature Store Online instances continue to run and have cost.  If done with this demonstration then the following code can be used to remove the online instance but will leave the BigQuery table in place for future use.\n",
    "\n",
    "Review in the console and complete delete of feature views and onlines store with the following link:"
   ]
  },
  {
   "cell_type": "code",
   "execution_count": 264,
   "id": "e528bb84-8927-4e0a-b117-37b21eaadd35",
   "metadata": {
    "tags": []
   },
   "outputs": [
    {
     "name": "stdout",
     "output_type": "stream",
     "text": [
      "Review in the console:\n",
      "\n",
      "https://console.cloud.google.com/vertex-ai/locations/us-central1/online-stores/applied_genai?project=statmike-mlops-349915\n"
     ]
    }
   ],
   "source": [
    "print(f'Review in the console:\\n\\nhttps://console.cloud.google.com/vertex-ai/locations/{REGION}/online-stores/{FEATURE_ONLINE_STORE_NAME}?project={PROJECT_ID}')"
   ]
  },
  {
   "cell_type": "code",
   "execution_count": 269,
   "id": "37af7cb0-fb73-421e-b180-68597fb66050",
   "metadata": {
    "tags": []
   },
   "outputs": [],
   "source": [
    "# change to True to force deletion of the online store created above\n",
    "remove_online_store = False #True"
   ]
  },
  {
   "cell_type": "code",
   "execution_count": 268,
   "id": "6298e4b0-8c7c-40fb-b3fe-3d4ba69978d1",
   "metadata": {
    "tags": []
   },
   "outputs": [],
   "source": [
    "if remove_online_store:\n",
    "    online_admin_client.delete_feature_online_store(\n",
    "        name = online_store.name,\n",
    "        force = True\n",
    "    )"
   ]
  },
  {
   "cell_type": "code",
   "execution_count": null,
   "id": "a5423988-0b9d-4635-bd95-e246bc5f3a03",
   "metadata": {},
   "outputs": [],
   "source": []
  },
  {
   "cell_type": "code",
   "execution_count": null,
   "id": "72c62f3b-2bbf-46bf-ba4a-b2ad7bbff0de",
   "metadata": {},
   "outputs": [],
   "source": []
  },
  {
   "cell_type": "code",
   "execution_count": null,
   "id": "21a32d9a-fd67-4934-b49d-189cae36f5df",
   "metadata": {},
   "outputs": [],
   "source": []
  }
 ],
 "metadata": {
  "environment": {
   "kernel": "conda-base-py",
   "name": "workbench-notebooks.m125",
   "type": "gcloud",
   "uri": "us-docker.pkg.dev/deeplearning-platform-release/gcr.io/workbench-notebooks:m125"
  },
  "kernelspec": {
   "display_name": "Python 3 (ipykernel) (Local)",
   "language": "python",
   "name": "conda-base-py"
  },
  "language_info": {
   "codemirror_mode": {
    "name": "ipython",
    "version": 3
   },
   "file_extension": ".py",
   "mimetype": "text/x-python",
   "name": "python",
   "nbconvert_exporter": "python",
   "pygments_lexer": "ipython3",
   "version": "3.10.15"
  }
 },
 "nbformat": 4,
 "nbformat_minor": 5
}
