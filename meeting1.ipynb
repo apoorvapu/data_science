{
  "nbformat": 4,
  "nbformat_minor": 0,
  "metadata": {
    "colab": {
      "provenance": [],
      "authorship_tag": "ABX9TyMFcU00+D2NYEysXC63fv++",
      "include_colab_link": true
    },
    "kernelspec": {
      "name": "python3",
      "display_name": "Python 3"
    },
    "language_info": {
      "name": "python"
    }
  },
  "cells": [
    {
      "cell_type": "markdown",
      "metadata": {
        "id": "view-in-github",
        "colab_type": "text"
      },
      "source": [
        "<a href=\"https://colab.research.google.com/github/apoorvapu/data_science/blob/main/meeting1.ipynb\" target=\"_parent\"><img src=\"https://colab.research.google.com/assets/colab-badge.svg\" alt=\"Open In Colab\"/></a>"
      ]
    },
    {
      "cell_type": "code",
      "source": [
        "# ================================\n",
        "# STEP 1: Install dependencies\n",
        "# ================================\n",
        "!pip install chembl_webresource_client rdkit pandas matplotlib seaborn scikit-learn\n",
        "\n",
        "from chembl_webresource_client.new_client import new_client\n",
        "import pandas as pd\n",
        "from rdkit import Chem\n",
        "from rdkit.Chem import AllChem, Draw, Descriptors, DataStructs\n",
        "import matplotlib.pyplot as plt\n",
        "import seaborn as sns\n",
        "import random\n"
      ],
      "metadata": {
        "colab": {
          "base_uri": "https://localhost:8080/"
        },
        "id": "Ze_I6czq_PKZ",
        "outputId": "4b1579ae-8f0a-42e4-a65c-5a59ba35c2f4"
      },
      "execution_count": 2,
      "outputs": [
        {
          "output_type": "stream",
          "name": "stdout",
          "text": [
            "Collecting chembl_webresource_client\n",
            "  Downloading chembl_webresource_client-0.10.9-py3-none-any.whl.metadata (1.4 kB)\n",
            "Collecting rdkit\n",
            "  Downloading rdkit-2025.3.6-cp312-cp312-manylinux_2_28_x86_64.whl.metadata (4.1 kB)\n",
            "Requirement already satisfied: pandas in /usr/local/lib/python3.12/dist-packages (2.2.2)\n",
            "Requirement already satisfied: matplotlib in /usr/local/lib/python3.12/dist-packages (3.10.0)\n",
            "Requirement already satisfied: seaborn in /usr/local/lib/python3.12/dist-packages (0.13.2)\n",
            "Requirement already satisfied: scikit-learn in /usr/local/lib/python3.12/dist-packages (1.6.1)\n",
            "Requirement already satisfied: urllib3 in /usr/local/lib/python3.12/dist-packages (from chembl_webresource_client) (2.5.0)\n",
            "Requirement already satisfied: requests>=2.18.4 in /usr/local/lib/python3.12/dist-packages (from chembl_webresource_client) (2.32.4)\n",
            "Collecting requests-cache~=1.2 (from chembl_webresource_client)\n",
            "  Downloading requests_cache-1.2.1-py3-none-any.whl.metadata (9.9 kB)\n",
            "Requirement already satisfied: easydict in /usr/local/lib/python3.12/dist-packages (from chembl_webresource_client) (1.13)\n",
            "Requirement already satisfied: numpy in /usr/local/lib/python3.12/dist-packages (from rdkit) (2.0.2)\n",
            "Requirement already satisfied: Pillow in /usr/local/lib/python3.12/dist-packages (from rdkit) (11.3.0)\n",
            "Requirement already satisfied: python-dateutil>=2.8.2 in /usr/local/lib/python3.12/dist-packages (from pandas) (2.9.0.post0)\n",
            "Requirement already satisfied: pytz>=2020.1 in /usr/local/lib/python3.12/dist-packages (from pandas) (2025.2)\n",
            "Requirement already satisfied: tzdata>=2022.7 in /usr/local/lib/python3.12/dist-packages (from pandas) (2025.2)\n",
            "Requirement already satisfied: contourpy>=1.0.1 in /usr/local/lib/python3.12/dist-packages (from matplotlib) (1.3.3)\n",
            "Requirement already satisfied: cycler>=0.10 in /usr/local/lib/python3.12/dist-packages (from matplotlib) (0.12.1)\n",
            "Requirement already satisfied: fonttools>=4.22.0 in /usr/local/lib/python3.12/dist-packages (from matplotlib) (4.59.2)\n",
            "Requirement already satisfied: kiwisolver>=1.3.1 in /usr/local/lib/python3.12/dist-packages (from matplotlib) (1.4.9)\n",
            "Requirement already satisfied: packaging>=20.0 in /usr/local/lib/python3.12/dist-packages (from matplotlib) (25.0)\n",
            "Requirement already satisfied: pyparsing>=2.3.1 in /usr/local/lib/python3.12/dist-packages (from matplotlib) (3.2.3)\n",
            "Requirement already satisfied: scipy>=1.6.0 in /usr/local/lib/python3.12/dist-packages (from scikit-learn) (1.16.1)\n",
            "Requirement already satisfied: joblib>=1.2.0 in /usr/local/lib/python3.12/dist-packages (from scikit-learn) (1.5.2)\n",
            "Requirement already satisfied: threadpoolctl>=3.1.0 in /usr/local/lib/python3.12/dist-packages (from scikit-learn) (3.6.0)\n",
            "Requirement already satisfied: six>=1.5 in /usr/local/lib/python3.12/dist-packages (from python-dateutil>=2.8.2->pandas) (1.17.0)\n",
            "Requirement already satisfied: charset_normalizer<4,>=2 in /usr/local/lib/python3.12/dist-packages (from requests>=2.18.4->chembl_webresource_client) (3.4.3)\n",
            "Requirement already satisfied: idna<4,>=2.5 in /usr/local/lib/python3.12/dist-packages (from requests>=2.18.4->chembl_webresource_client) (3.10)\n",
            "Requirement already satisfied: certifi>=2017.4.17 in /usr/local/lib/python3.12/dist-packages (from requests>=2.18.4->chembl_webresource_client) (2025.8.3)\n",
            "Requirement already satisfied: attrs>=21.2 in /usr/local/lib/python3.12/dist-packages (from requests-cache~=1.2->chembl_webresource_client) (25.3.0)\n",
            "Collecting cattrs>=22.2 (from requests-cache~=1.2->chembl_webresource_client)\n",
            "  Downloading cattrs-25.2.0-py3-none-any.whl.metadata (8.4 kB)\n",
            "Requirement already satisfied: platformdirs>=2.5 in /usr/local/lib/python3.12/dist-packages (from requests-cache~=1.2->chembl_webresource_client) (4.4.0)\n",
            "Collecting url-normalize>=1.4 (from requests-cache~=1.2->chembl_webresource_client)\n",
            "  Downloading url_normalize-2.2.1-py3-none-any.whl.metadata (5.6 kB)\n",
            "Requirement already satisfied: typing-extensions>=4.12.2 in /usr/local/lib/python3.12/dist-packages (from cattrs>=22.2->requests-cache~=1.2->chembl_webresource_client) (4.15.0)\n",
            "Downloading chembl_webresource_client-0.10.9-py3-none-any.whl (55 kB)\n",
            "\u001b[2K   \u001b[90m━━━━━━━━━━━━━━━━━━━━━━━━━━━━━━━━━━━━━━━━\u001b[0m \u001b[32m55.2/55.2 kB\u001b[0m \u001b[31m2.2 MB/s\u001b[0m eta \u001b[36m0:00:00\u001b[0m\n",
            "\u001b[?25hDownloading rdkit-2025.3.6-cp312-cp312-manylinux_2_28_x86_64.whl (36.1 MB)\n",
            "\u001b[2K   \u001b[90m━━━━━━━━━━━━━━━━━━━━━━━━━━━━━━━━━━━━━━━━\u001b[0m \u001b[32m36.1/36.1 MB\u001b[0m \u001b[31m53.1 MB/s\u001b[0m eta \u001b[36m0:00:00\u001b[0m\n",
            "\u001b[?25hDownloading requests_cache-1.2.1-py3-none-any.whl (61 kB)\n",
            "\u001b[2K   \u001b[90m━━━━━━━━━━━━━━━━━━━━━━━━━━━━━━━━━━━━━━━━\u001b[0m \u001b[32m61.4/61.4 kB\u001b[0m \u001b[31m5.6 MB/s\u001b[0m eta \u001b[36m0:00:00\u001b[0m\n",
            "\u001b[?25hDownloading cattrs-25.2.0-py3-none-any.whl (70 kB)\n",
            "\u001b[2K   \u001b[90m━━━━━━━━━━━━━━━━━━━━━━━━━━━━━━━━━━━━━━━━\u001b[0m \u001b[32m70.0/70.0 kB\u001b[0m \u001b[31m6.6 MB/s\u001b[0m eta \u001b[36m0:00:00\u001b[0m\n",
            "\u001b[?25hDownloading url_normalize-2.2.1-py3-none-any.whl (14 kB)\n",
            "Installing collected packages: url-normalize, rdkit, cattrs, requests-cache, chembl_webresource_client\n",
            "Successfully installed cattrs-25.2.0 chembl_webresource_client-0.10.9 rdkit-2025.3.6 requests-cache-1.2.1 url-normalize-2.2.1\n"
          ]
        }
      ]
    },
    {
      "cell_type": "markdown",
      "source": [
        "# see the following webpage:\n",
        "https://www.ebi.ac.uk/chembl/explore/target/CHEMBL217#NameAndClassification\n",
        "\n",
        "protein and different known drugs shown"
      ],
      "metadata": {
        "id": "M34WU0uzXlVF"
      }
    },
    {
      "cell_type": "code",
      "source": [
        "# ================================\n",
        "# STEP 2: Download DRD2 data\n",
        "# ================================\n",
        "target_id = \"CHEMBL217\"  # Dopamine D2 receptor\n",
        "\n",
        "\n",
        "activities = new_client.activity.filter(target_chembl_id=target_id).only(\n",
        "    [\"molecule_chembl_id\", \"canonical_smiles\", \"standard_type\",\n",
        "     \"standard_relation\", \"standard_value\", \"standard_units\", \"pchembl_value\"]\n",
        ")\n",
        "\n",
        "df = pd.DataFrame(activities)\n",
        "print(\"Total raw entries:\", len(df))\n"
      ],
      "metadata": {
        "id": "SHC9vz_q_jdq"
      },
      "execution_count": null,
      "outputs": []
    },
    {
      "cell_type": "markdown",
      "source": [
        "# view a few rows of what we have downloaded:"
      ],
      "metadata": {
        "id": "sNTjzzzRYmjk"
      }
    },
    {
      "cell_type": "code",
      "source": [
        "df.head()"
      ],
      "metadata": {
        "id": "L4YRGAYtABJB"
      },
      "execution_count": null,
      "outputs": []
    },
    {
      "cell_type": "code",
      "source": [
        "# ================================\n",
        "# STEP 3: Clean dataset\n",
        "# ================================\n",
        "# Remove duplicate molecules (keep the first occurrence)\n",
        "df = df.drop_duplicates(subset=\"canonical_smiles\").reset_index(drop=True)\n",
        "\n",
        "# Drop missing SMILES or pChEMBL\n",
        "df = df.dropna(subset=[\"canonical_smiles\", \"standard_value\"]).reset_index(drop=True)\n",
        "df[\"standard_value\"] = pd.to_numeric(df[\"standard_value\"], errors='coerce')\n",
        "df = df.dropna(subset=[\"standard_value\"]).reset_index(drop=True)\n",
        "\n",
        "# Optional: keep only common activity types\n",
        "df = df[df[\"standard_type\"].isin([\"Ki\", \"Kd\"])]\n",
        "print(\"Remaining molecules after cleaning:\", len(df))\n"
      ],
      "metadata": {
        "id": "rsh48WSZ_ja0"
      },
      "execution_count": null,
      "outputs": []
    },
    {
      "cell_type": "code",
      "source": [
        "df.head()"
      ],
      "metadata": {
        "id": "naMAriZUAF51"
      },
      "execution_count": null,
      "outputs": []
    },
    {
      "cell_type": "code",
      "source": [
        "# ================================\n",
        "# STEP 4: Compute Morgan fingerprints\n",
        "# ================================\n",
        "def smiles_to_fingerprint(smiles):\n",
        "    mol = Chem.MolFromSmiles(smiles)\n",
        "    if mol is None:\n",
        "        return None\n",
        "    fp = AllChem.GetMorganFingerprintAsBitVect(mol, radius=2, nBits=2048)\n",
        "    return fp\n",
        "\n",
        "df[\"fingerprint\"] = df[\"canonical_smiles\"].apply(smiles_to_fingerprint)\n",
        "df = df.dropna(subset=[\"fingerprint\"]).reset_index(drop=True)\n",
        "print(\"Remaining molecules after fingerprinting:\", len(df))\n",
        "\n",
        "# Convert SMILES to RDKit Mol objects for visualization\n",
        "df[\"mol\"] = df[\"canonical_smiles\"].apply(lambda x: Chem.MolFromSmiles(x))\n"
      ],
      "metadata": {
        "id": "6WBXrOsl_nT8"
      },
      "execution_count": null,
      "outputs": []
    },
    {
      "cell_type": "code",
      "source": [
        "# ================================\n",
        "# STEP 5: Sample pairs for similarity analysis\n",
        "# ================================\n",
        "# Sample pairs where i != j\n",
        "pairs = []\n",
        "n_samples = 5000\n",
        "\n",
        "while len(pairs) < n_samples:\n",
        "    i, j = random.sample(range(len(df)), 2)\n",
        "    if i != j:  # ensure different molecules\n",
        "        fp1, fp2 = df.loc[i, \"fingerprint\"], df.loc[j, \"fingerprint\"]\n",
        "        sim = DataStructs.TanimotoSimilarity(fp1, fp2)\n",
        "        act_diff = abs(df.loc[i, \"standard_value\"] - df.loc[j, \"standard_value\"])\n",
        "        pairs.append((i, j, sim, act_diff))\n",
        "\n",
        "pairs_df = pd.DataFrame(pairs, columns=[\"i\", \"j\", \"similarity\", \"activity_difference\"])\n",
        "\n",
        "pairs_df.head()"
      ],
      "metadata": {
        "id": "bXV_HrYp_nW7"
      },
      "execution_count": null,
      "outputs": []
    },
    {
      "cell_type": "code",
      "source": [
        "# ================================\n",
        "# STEP 6: Scatter plot - similarity vs activity difference\n",
        "# ================================\n",
        "plt.figure(figsize=(8,6))\n",
        "sns.scatterplot(data=pairs_df, x=\"similarity\", y=\"activity_difference\", alpha=0.3)\n",
        "plt.xlabel(\"Tanimoto Similarity\")\n",
        "plt.ylabel(\"Δ Activity (|Δ pChEMBL|)\")\n",
        "plt.title(\"Similarity vs Activity Difference (DRD2)\")\n",
        "plt.show()\n"
      ],
      "metadata": {
        "id": "c17ZJ5CE_sPW"
      },
      "execution_count": null,
      "outputs": []
    },
    {
      "cell_type": "code",
      "source": [
        "# ================================\n",
        "# STEP 7: Histogram of pChEMBL values\n",
        "# ================================\n",
        "plt.figure(figsize=(8,6))\n",
        "sns.histplot(df[\"standard_value\"], bins=30, kde=True)\n",
        "plt.xlabel(\"pChEMBL Value\")\n",
        "plt.ylabel(\"Number of Molecules\")\n",
        "plt.title(\"Distribution of DRD2 pChEMBL Values\")\n",
        "plt.show()\n"
      ],
      "metadata": {
        "id": "jv94K5MA_u2T"
      },
      "execution_count": null,
      "outputs": []
    },
    {
      "cell_type": "code",
      "source": [
        "# ================================\n",
        "# STEP 8: Correlation analysis\n",
        "# ================================\n",
        "corr = pairs_df[\"similarity\"].corr(pairs_df[\"activity_difference\"])\n",
        "print(f\"Correlation between similarity and activity difference: {corr:.3f}\")\n"
      ],
      "metadata": {
        "id": "9VIc-0dA_u5N"
      },
      "execution_count": null,
      "outputs": []
    },
    {
      "cell_type": "code",
      "source": [
        "\n",
        "# ================================\n",
        "# STEP 9: Show 2D images of random molecules\n",
        "# ================================\n",
        "sample_mols = df.sample(9)[\"mol\"].tolist()\n",
        "img = Draw.MolsToGridImage(sample_mols, molsPerRow=3, subImgSize=(200,200))\n",
        "display(img)\n",
        "\n"
      ],
      "metadata": {
        "id": "z4muf93h9mYt"
      },
      "execution_count": null,
      "outputs": []
    },
    {
      "cell_type": "code",
      "source": [
        "# ================================\n",
        "# STEP 10: Most similar pair\n",
        "# ================================\n",
        "most_sim = pairs_df.loc[pairs_df[\"similarity\"].idxmax()]\n",
        "mol1 = df.loc[most_sim[\"i\"], \"mol\"]\n",
        "mol2 = df.loc[most_sim[\"j\"], \"mol\"]\n",
        "sim_val = most_sim[\"similarity\"]\n",
        "act_diff_val = most_sim[\"activity_difference\"]\n",
        "\n",
        "print(f\"Most similar pair - Tanimoto: {sim_val:.3f}, ΔpChEMBL: {act_diff_val:.2f}\")\n",
        "display(Draw.MolsToGridImage([mol1, mol2], molsPerRow=2, subImgSize=(250,250)))\n"
      ],
      "metadata": {
        "id": "purKgA-L_06P"
      },
      "execution_count": null,
      "outputs": []
    },
    {
      "cell_type": "code",
      "source": [
        "# ================================\n",
        "# STEP 11: Least similar pair\n",
        "# ================================\n",
        "least_sim = pairs_df.loc[pairs_df[\"similarity\"].idxmin()]\n",
        "mol1 = df.loc[least_sim[\"i\"], \"mol\"]\n",
        "mol2 = df.loc[least_sim[\"j\"], \"mol\"]\n",
        "sim_val = least_sim[\"similarity\"]\n",
        "act_diff_val = least_sim[\"activity_difference\"]\n",
        "\n",
        "print(f\"Least similar pair - Tanimoto: {sim_val:.3f}, ΔpChEMBL: {act_diff_val:.2f}\")\n",
        "display(Draw.MolsToGridImage([mol1, mol2], molsPerRow=2, subImgSize=(250,250)))\n"
      ],
      "metadata": {
        "id": "Dg_bZKcX_08z"
      },
      "execution_count": null,
      "outputs": []
    },
    {
      "cell_type": "code",
      "source": [
        "\n",
        "\n",
        "# ================================\n",
        "# STEP 12: Save datasets for future use\n",
        "# ================================\n",
        "df.to_csv(\"DRD2_activities_fingerprints.csv\", index=False)\n",
        "pairs_df.to_csv(\"DRD2_similarity_activity_pairs.csv\", index=False)\n",
        "print(\"Data saved to CSV files.\")\n"
      ],
      "metadata": {
        "id": "SKjG6rwT-iGz"
      },
      "execution_count": null,
      "outputs": []
    },
    {
      "cell_type": "code",
      "source": [
        "# ================================\n",
        "# STEP 13: Binned plot - average activity difference vs similarity bins\n",
        "# ================================\n",
        "# Define bins\n",
        "import numpy as np\n",
        "bins = np.linspace(0, 1, 11)  # 0.0, 0.1, ..., 1.0\n",
        "pairs_df['sim_bin'] = pd.cut(pairs_df['similarity'], bins)\n",
        "\n",
        "# Compute mean and std of activity differences per bin\n",
        "binned_stats = pairs_df.groupby('sim_bin')['activity_difference'].agg(['mean','std','count']).reset_index()\n",
        "binned_stats = binned_stats[binned_stats['count']>0]  # remove empty bins\n",
        "\n",
        "# Plot\n",
        "plt.figure(figsize=(8,6))\n",
        "plt.errorbar(\n",
        "    x=[interval.mid for interval in binned_stats['sim_bin']],\n",
        "    y=binned_stats['mean'],\n",
        "    yerr=binned_stats['std'],\n",
        "    fmt='o-', capsize=5\n",
        ")\n",
        "plt.xlabel(\"Tanimoto Similarity Bin\")\n",
        "plt.ylabel(\"Average Δ Activity (|Δ pChEMBL|)\")\n",
        "plt.title(\"Average Activity Difference vs Molecular Similarity (Binned)\")\n",
        "plt.grid(True)\n",
        "plt.show()\n"
      ],
      "metadata": {
        "id": "fpnJbdi-9qL3"
      },
      "execution_count": null,
      "outputs": []
    },
    {
      "cell_type": "code",
      "source": [],
      "metadata": {
        "id": "nH2GIdnmcMQN"
      },
      "execution_count": null,
      "outputs": []
    }
  ]
}