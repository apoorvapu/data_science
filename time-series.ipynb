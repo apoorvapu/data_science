{
  "nbformat": 4,
  "nbformat_minor": 0,
  "metadata": {
    "colab": {
      "provenance": [],
      "authorship_tag": "ABX9TyNooDIb/rZiTKsbq5Ms4qm+",
      "include_colab_link": true
    },
    "kernelspec": {
      "name": "python3",
      "display_name": "Python 3"
    },
    "language_info": {
      "name": "python"
    }
  },
  "cells": [
    {
      "cell_type": "markdown",
      "metadata": {
        "id": "view-in-github",
        "colab_type": "text"
      },
      "source": [
        "<a href=\"https://colab.research.google.com/github/apoorvapu/data_science/blob/main/time-series.ipynb\" target=\"_parent\"><img src=\"https://colab.research.google.com/assets/colab-badge.svg\" alt=\"Open In Colab\"/></a>"
      ]
    },
    {
      "cell_type": "markdown",
      "source": [
        "# Time-series forecasting: ARIMA (AutoRegressive Integrated Moving Average), SARIMA (seasonal)"
      ],
      "metadata": {
        "id": "Q11XHzj2JAFd"
      }
    },
    {
      "cell_type": "markdown",
      "source": [
        "\n",
        "    AR (Autoregression): dependent relationship between an observation and its preceding or ‘lagged’ observations.\n",
        "    I (Integrated): To achieve a stationary time series, one that doesn’t exhibit trend or seasonality, differencing is applied. It typically involves subtracting an observation from its preceding observation.\n",
        "    MA (Moving Average): This component zeroes in on the relationship between an observation and the residual error from a moving average model based on lagged observations."
      ],
      "metadata": {
        "id": "6R3NoZxOJ2hM"
      }
    },
    {
      "cell_type": "code",
      "source": [],
      "metadata": {
        "id": "EUPTJNYjJEvl"
      },
      "execution_count": null,
      "outputs": []
    }
  ]
}