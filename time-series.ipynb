{
  "nbformat": 4,
  "nbformat_minor": 0,
  "metadata": {
    "colab": {
      "provenance": [],
      "authorship_tag": "ABX9TyOk0tQ98YiPrHSfpnAA/Gpu",
      "include_colab_link": true
    },
    "kernelspec": {
      "name": "python3",
      "display_name": "Python 3"
    },
    "language_info": {
      "name": "python"
    }
  },
  "cells": [
    {
      "cell_type": "markdown",
      "metadata": {
        "id": "view-in-github",
        "colab_type": "text"
      },
      "source": [
        "<a href=\"https://colab.research.google.com/github/apoorvapu/data_science/blob/main/time-series.ipynb\" target=\"_parent\"><img src=\"https://colab.research.google.com/assets/colab-badge.svg\" alt=\"Open In Colab\"/></a>"
      ]
    },
    {
      "cell_type": "markdown",
      "source": [
        "# Time-series forecasting: ARIMA (AutoRegressive Integrated Moving Average), SARIMA (seasonal)"
      ],
      "metadata": {
        "id": "Q11XHzj2JAFd"
      }
    },
    {
      "cell_type": "markdown",
      "source": [
        "AR (Autoregression): dependent relationship between an observation and its preceding or ‘lagged’ observations. Autocorrelation is the measure of the degree of similarity between a given time series and the lagged version of that time series over successive time periods.\n",
        "    \n",
        "I (Integrated): To achieve a stationary time series, one that doesn’t exhibit trend or seasonality, differencing is applied. It typically involves subtracting an observation from its preceding observation.\n",
        "\n",
        "MA (Moving Average): This component zeroes in on the relationship between an observation and the residual error from a moving average model based on lagged observations."
      ],
      "metadata": {
        "id": "6R3NoZxOJ2hM"
      }
    },
    {
      "cell_type": "code",
      "source": [],
      "metadata": {
        "id": "EUPTJNYjJEvl"
      },
      "execution_count": null,
      "outputs": []
    },
    {
      "cell_type": "markdown",
      "source": [
        "https://www.kaggle.com/code/harshjain123/time-series-arima-sarima\n",
        "\n",
        "https://medium.com/@ozdogar/time-series-forecasting-using-sarima-python-8db28f1d8cfc\n",
        "\n",
        "https://www.geeksforgeeks.org/sarima-seasonal-autoregressive-integrated-moving-average/\n",
        "\n",
        "https://en.wikipedia.org/wiki/Autoregressive_integrated_moving_average"
      ],
      "metadata": {
        "id": "1ON1WfeAPWTI"
      }
    },
    {
      "cell_type": "markdown",
      "source": [
        "\n",
        "ARIMA\n",
        "\n",
        "    it supports both an autoregressive and moving average elements. The integrated element refers to differencing allowing the method to support time series data with a trend.\n",
        "\n",
        "    A problem with ARIMA is that it does not support seasonal data. That is a time series with a repeating cycle.\n",
        "\n",
        "    ARIMA expects data that is either not seasonal or has the seasonal component removed, e.g. seasonally adjusted via methods such as seasonal differencing.\n",
        "\n",
        "SARIMA\n",
        "\n",
        "    It adds three new hyperparameters to specify the autoregression (AR), differencing (I) and moving average (MA) for the seasonal component of the series, as well as an additional parameter for the period of the seasonality.\n",
        "\n",
        "    A seasonal ARIMA model is formed by including additional seasonal terms in the ARIMA.\n",
        "\n",
        "    The seasonal part of the model consists of terms that are very similar to the non-seasonal components of the model, but they involve backshifts of the seasonal period.\n",
        "\n",
        "The general process for ARIMA models is the following:\n",
        "\n",
        "    Visualize the Time Series Data\n",
        "    Make the time series data stationary\n",
        "    Plot the Correlation and AutoCorrelation Charts\n",
        "    Construct the ARIMA Model or Seasonal ARIMA based on the data\n",
        "    Use the model to make prediction\n",
        "\n"
      ],
      "metadata": {
        "id": "pjNnJq42NKQL"
      }
    },
    {
      "cell_type": "code",
      "source": [],
      "metadata": {
        "id": "hQmUPaT-NrPV"
      },
      "execution_count": null,
      "outputs": []
    }
  ]
}