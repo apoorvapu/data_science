{
  "nbformat": 4,
  "nbformat_minor": 0,
  "metadata": {
    "colab": {
      "provenance": [],
      "authorship_tag": "ABX9TyMTDzIgpoUwLmsj7jR1ouA2",
      "include_colab_link": true
    },
    "kernelspec": {
      "name": "python3",
      "display_name": "Python 3"
    },
    "language_info": {
      "name": "python"
    }
  },
  "cells": [
    {
      "cell_type": "markdown",
      "metadata": {
        "id": "view-in-github",
        "colab_type": "text"
      },
      "source": [
        "<a href=\"https://colab.research.google.com/github/apoorvapu/data_science/blob/main/stock-price-prediction.ipynb\" target=\"_parent\"><img src=\"https://colab.research.google.com/assets/colab-badge.svg\" alt=\"Open In Colab\"/></a>"
      ]
    },
    {
      "cell_type": "markdown",
      "source": [
        "# Time-series forecasting: Apple stock prediction\n"
      ],
      "metadata": {
        "id": "Q11XHzj2JAFd"
      }
    },
    {
      "cell_type": "code",
      "source": [
        "!pip install yfinance --quiet"
      ],
      "metadata": {
        "id": "hQmUPaT-NrPV"
      },
      "execution_count": 38,
      "outputs": []
    },
    {
      "cell_type": "code",
      "source": [
        "import yfinance as yf\n",
        "import pandas as pd\n",
        "import numpy as np\n",
        "# getting data from Yahoo Finance\n",
        "stock_name = 'AAPL'\n",
        "data = yf.download(stock_name, start=\"2010-01-01\", end=\"2025-04-01\")"
      ],
      "metadata": {
        "colab": {
          "base_uri": "https://localhost:8080/"
        },
        "id": "RuLLoYguE7BT",
        "outputId": "1e29706b-4071-4105-eec5-088f498ef025"
      },
      "execution_count": 39,
      "outputs": [
        {
          "output_type": "stream",
          "name": "stderr",
          "text": [
            "\r[*********************100%***********************]  1 of 1 completed\n"
          ]
        }
      ]
    },
    {
      "cell_type": "code",
      "source": [
        "data.head()"
      ],
      "metadata": {
        "colab": {
          "base_uri": "https://localhost:8080/",
          "height": 269
        },
        "id": "Vz0nwUE2HkPO",
        "outputId": "f8dd8212-da82-4f63-b03d-fb5a7b647fe1"
      },
      "execution_count": 40,
      "outputs": [
        {
          "output_type": "execute_result",
          "data": {
            "text/plain": [
              "Price          Close      High       Low      Open     Volume\n",
              "Ticker          AAPL      AAPL      AAPL      AAPL       AAPL\n",
              "Date                                                         \n",
              "2010-01-04  6.440331  6.455076  6.391278  6.422876  493729600\n",
              "2010-01-05  6.451467  6.487880  6.417460  6.458087  601904800\n",
              "2010-01-06  6.348844  6.477043  6.342223  6.451463  552160000\n",
              "2010-01-07  6.337110  6.379844  6.291067  6.372320  477131200\n",
              "2010-01-08  6.379242  6.379844  6.291369  6.328685  447610800"
            ],
            "text/html": [
              "\n",
              "  <div id=\"df-b8750d23-4b3a-47f9-b0da-ddcaddf71ab0\" class=\"colab-df-container\">\n",
              "    <div>\n",
              "<style scoped>\n",
              "    .dataframe tbody tr th:only-of-type {\n",
              "        vertical-align: middle;\n",
              "    }\n",
              "\n",
              "    .dataframe tbody tr th {\n",
              "        vertical-align: top;\n",
              "    }\n",
              "\n",
              "    .dataframe thead tr th {\n",
              "        text-align: left;\n",
              "    }\n",
              "\n",
              "    .dataframe thead tr:last-of-type th {\n",
              "        text-align: right;\n",
              "    }\n",
              "</style>\n",
              "<table border=\"1\" class=\"dataframe\">\n",
              "  <thead>\n",
              "    <tr>\n",
              "      <th>Price</th>\n",
              "      <th>Close</th>\n",
              "      <th>High</th>\n",
              "      <th>Low</th>\n",
              "      <th>Open</th>\n",
              "      <th>Volume</th>\n",
              "    </tr>\n",
              "    <tr>\n",
              "      <th>Ticker</th>\n",
              "      <th>AAPL</th>\n",
              "      <th>AAPL</th>\n",
              "      <th>AAPL</th>\n",
              "      <th>AAPL</th>\n",
              "      <th>AAPL</th>\n",
              "    </tr>\n",
              "    <tr>\n",
              "      <th>Date</th>\n",
              "      <th></th>\n",
              "      <th></th>\n",
              "      <th></th>\n",
              "      <th></th>\n",
              "      <th></th>\n",
              "    </tr>\n",
              "  </thead>\n",
              "  <tbody>\n",
              "    <tr>\n",
              "      <th>2010-01-04</th>\n",
              "      <td>6.440331</td>\n",
              "      <td>6.455076</td>\n",
              "      <td>6.391278</td>\n",
              "      <td>6.422876</td>\n",
              "      <td>493729600</td>\n",
              "    </tr>\n",
              "    <tr>\n",
              "      <th>2010-01-05</th>\n",
              "      <td>6.451467</td>\n",
              "      <td>6.487880</td>\n",
              "      <td>6.417460</td>\n",
              "      <td>6.458087</td>\n",
              "      <td>601904800</td>\n",
              "    </tr>\n",
              "    <tr>\n",
              "      <th>2010-01-06</th>\n",
              "      <td>6.348844</td>\n",
              "      <td>6.477043</td>\n",
              "      <td>6.342223</td>\n",
              "      <td>6.451463</td>\n",
              "      <td>552160000</td>\n",
              "    </tr>\n",
              "    <tr>\n",
              "      <th>2010-01-07</th>\n",
              "      <td>6.337110</td>\n",
              "      <td>6.379844</td>\n",
              "      <td>6.291067</td>\n",
              "      <td>6.372320</td>\n",
              "      <td>477131200</td>\n",
              "    </tr>\n",
              "    <tr>\n",
              "      <th>2010-01-08</th>\n",
              "      <td>6.379242</td>\n",
              "      <td>6.379844</td>\n",
              "      <td>6.291369</td>\n",
              "      <td>6.328685</td>\n",
              "      <td>447610800</td>\n",
              "    </tr>\n",
              "  </tbody>\n",
              "</table>\n",
              "</div>\n",
              "    <div class=\"colab-df-buttons\">\n",
              "\n",
              "  <div class=\"colab-df-container\">\n",
              "    <button class=\"colab-df-convert\" onclick=\"convertToInteractive('df-b8750d23-4b3a-47f9-b0da-ddcaddf71ab0')\"\n",
              "            title=\"Convert this dataframe to an interactive table.\"\n",
              "            style=\"display:none;\">\n",
              "\n",
              "  <svg xmlns=\"http://www.w3.org/2000/svg\" height=\"24px\" viewBox=\"0 -960 960 960\">\n",
              "    <path d=\"M120-120v-720h720v720H120Zm60-500h600v-160H180v160Zm220 220h160v-160H400v160Zm0 220h160v-160H400v160ZM180-400h160v-160H180v160Zm440 0h160v-160H620v160ZM180-180h160v-160H180v160Zm440 0h160v-160H620v160Z\"/>\n",
              "  </svg>\n",
              "    </button>\n",
              "\n",
              "  <style>\n",
              "    .colab-df-container {\n",
              "      display:flex;\n",
              "      gap: 12px;\n",
              "    }\n",
              "\n",
              "    .colab-df-convert {\n",
              "      background-color: #E8F0FE;\n",
              "      border: none;\n",
              "      border-radius: 50%;\n",
              "      cursor: pointer;\n",
              "      display: none;\n",
              "      fill: #1967D2;\n",
              "      height: 32px;\n",
              "      padding: 0 0 0 0;\n",
              "      width: 32px;\n",
              "    }\n",
              "\n",
              "    .colab-df-convert:hover {\n",
              "      background-color: #E2EBFA;\n",
              "      box-shadow: 0px 1px 2px rgba(60, 64, 67, 0.3), 0px 1px 3px 1px rgba(60, 64, 67, 0.15);\n",
              "      fill: #174EA6;\n",
              "    }\n",
              "\n",
              "    .colab-df-buttons div {\n",
              "      margin-bottom: 4px;\n",
              "    }\n",
              "\n",
              "    [theme=dark] .colab-df-convert {\n",
              "      background-color: #3B4455;\n",
              "      fill: #D2E3FC;\n",
              "    }\n",
              "\n",
              "    [theme=dark] .colab-df-convert:hover {\n",
              "      background-color: #434B5C;\n",
              "      box-shadow: 0px 1px 3px 1px rgba(0, 0, 0, 0.15);\n",
              "      filter: drop-shadow(0px 1px 2px rgba(0, 0, 0, 0.3));\n",
              "      fill: #FFFFFF;\n",
              "    }\n",
              "  </style>\n",
              "\n",
              "    <script>\n",
              "      const buttonEl =\n",
              "        document.querySelector('#df-b8750d23-4b3a-47f9-b0da-ddcaddf71ab0 button.colab-df-convert');\n",
              "      buttonEl.style.display =\n",
              "        google.colab.kernel.accessAllowed ? 'block' : 'none';\n",
              "\n",
              "      async function convertToInteractive(key) {\n",
              "        const element = document.querySelector('#df-b8750d23-4b3a-47f9-b0da-ddcaddf71ab0');\n",
              "        const dataTable =\n",
              "          await google.colab.kernel.invokeFunction('convertToInteractive',\n",
              "                                                    [key], {});\n",
              "        if (!dataTable) return;\n",
              "\n",
              "        const docLinkHtml = 'Like what you see? Visit the ' +\n",
              "          '<a target=\"_blank\" href=https://colab.research.google.com/notebooks/data_table.ipynb>data table notebook</a>'\n",
              "          + ' to learn more about interactive tables.';\n",
              "        element.innerHTML = '';\n",
              "        dataTable['output_type'] = 'display_data';\n",
              "        await google.colab.output.renderOutput(dataTable, element);\n",
              "        const docLink = document.createElement('div');\n",
              "        docLink.innerHTML = docLinkHtml;\n",
              "        element.appendChild(docLink);\n",
              "      }\n",
              "    </script>\n",
              "  </div>\n",
              "\n",
              "\n",
              "    <div id=\"df-92515ce3-c1a4-4159-bfc7-7b04953335c8\">\n",
              "      <button class=\"colab-df-quickchart\" onclick=\"quickchart('df-92515ce3-c1a4-4159-bfc7-7b04953335c8')\"\n",
              "                title=\"Suggest charts\"\n",
              "                style=\"display:none;\">\n",
              "\n",
              "<svg xmlns=\"http://www.w3.org/2000/svg\" height=\"24px\"viewBox=\"0 0 24 24\"\n",
              "     width=\"24px\">\n",
              "    <g>\n",
              "        <path d=\"M19 3H5c-1.1 0-2 .9-2 2v14c0 1.1.9 2 2 2h14c1.1 0 2-.9 2-2V5c0-1.1-.9-2-2-2zM9 17H7v-7h2v7zm4 0h-2V7h2v10zm4 0h-2v-4h2v4z\"/>\n",
              "    </g>\n",
              "</svg>\n",
              "      </button>\n",
              "\n",
              "<style>\n",
              "  .colab-df-quickchart {\n",
              "      --bg-color: #E8F0FE;\n",
              "      --fill-color: #1967D2;\n",
              "      --hover-bg-color: #E2EBFA;\n",
              "      --hover-fill-color: #174EA6;\n",
              "      --disabled-fill-color: #AAA;\n",
              "      --disabled-bg-color: #DDD;\n",
              "  }\n",
              "\n",
              "  [theme=dark] .colab-df-quickchart {\n",
              "      --bg-color: #3B4455;\n",
              "      --fill-color: #D2E3FC;\n",
              "      --hover-bg-color: #434B5C;\n",
              "      --hover-fill-color: #FFFFFF;\n",
              "      --disabled-bg-color: #3B4455;\n",
              "      --disabled-fill-color: #666;\n",
              "  }\n",
              "\n",
              "  .colab-df-quickchart {\n",
              "    background-color: var(--bg-color);\n",
              "    border: none;\n",
              "    border-radius: 50%;\n",
              "    cursor: pointer;\n",
              "    display: none;\n",
              "    fill: var(--fill-color);\n",
              "    height: 32px;\n",
              "    padding: 0;\n",
              "    width: 32px;\n",
              "  }\n",
              "\n",
              "  .colab-df-quickchart:hover {\n",
              "    background-color: var(--hover-bg-color);\n",
              "    box-shadow: 0 1px 2px rgba(60, 64, 67, 0.3), 0 1px 3px 1px rgba(60, 64, 67, 0.15);\n",
              "    fill: var(--button-hover-fill-color);\n",
              "  }\n",
              "\n",
              "  .colab-df-quickchart-complete:disabled,\n",
              "  .colab-df-quickchart-complete:disabled:hover {\n",
              "    background-color: var(--disabled-bg-color);\n",
              "    fill: var(--disabled-fill-color);\n",
              "    box-shadow: none;\n",
              "  }\n",
              "\n",
              "  .colab-df-spinner {\n",
              "    border: 2px solid var(--fill-color);\n",
              "    border-color: transparent;\n",
              "    border-bottom-color: var(--fill-color);\n",
              "    animation:\n",
              "      spin 1s steps(1) infinite;\n",
              "  }\n",
              "\n",
              "  @keyframes spin {\n",
              "    0% {\n",
              "      border-color: transparent;\n",
              "      border-bottom-color: var(--fill-color);\n",
              "      border-left-color: var(--fill-color);\n",
              "    }\n",
              "    20% {\n",
              "      border-color: transparent;\n",
              "      border-left-color: var(--fill-color);\n",
              "      border-top-color: var(--fill-color);\n",
              "    }\n",
              "    30% {\n",
              "      border-color: transparent;\n",
              "      border-left-color: var(--fill-color);\n",
              "      border-top-color: var(--fill-color);\n",
              "      border-right-color: var(--fill-color);\n",
              "    }\n",
              "    40% {\n",
              "      border-color: transparent;\n",
              "      border-right-color: var(--fill-color);\n",
              "      border-top-color: var(--fill-color);\n",
              "    }\n",
              "    60% {\n",
              "      border-color: transparent;\n",
              "      border-right-color: var(--fill-color);\n",
              "    }\n",
              "    80% {\n",
              "      border-color: transparent;\n",
              "      border-right-color: var(--fill-color);\n",
              "      border-bottom-color: var(--fill-color);\n",
              "    }\n",
              "    90% {\n",
              "      border-color: transparent;\n",
              "      border-bottom-color: var(--fill-color);\n",
              "    }\n",
              "  }\n",
              "</style>\n",
              "\n",
              "      <script>\n",
              "        async function quickchart(key) {\n",
              "          const quickchartButtonEl =\n",
              "            document.querySelector('#' + key + ' button');\n",
              "          quickchartButtonEl.disabled = true;  // To prevent multiple clicks.\n",
              "          quickchartButtonEl.classList.add('colab-df-spinner');\n",
              "          try {\n",
              "            const charts = await google.colab.kernel.invokeFunction(\n",
              "                'suggestCharts', [key], {});\n",
              "          } catch (error) {\n",
              "            console.error('Error during call to suggestCharts:', error);\n",
              "          }\n",
              "          quickchartButtonEl.classList.remove('colab-df-spinner');\n",
              "          quickchartButtonEl.classList.add('colab-df-quickchart-complete');\n",
              "        }\n",
              "        (() => {\n",
              "          let quickchartButtonEl =\n",
              "            document.querySelector('#df-92515ce3-c1a4-4159-bfc7-7b04953335c8 button');\n",
              "          quickchartButtonEl.style.display =\n",
              "            google.colab.kernel.accessAllowed ? 'block' : 'none';\n",
              "        })();\n",
              "      </script>\n",
              "    </div>\n",
              "\n",
              "    </div>\n",
              "  </div>\n"
            ],
            "application/vnd.google.colaboratory.intrinsic+json": {
              "type": "dataframe",
              "variable_name": "data",
              "summary": "{\n  \"name\": \"data\",\n  \"rows\": 3834,\n  \"fields\": [\n    {\n      \"column\": [\n        \"Date\",\n        \"\"\n      ],\n      \"properties\": {\n        \"dtype\": \"date\",\n        \"min\": \"2010-01-04 00:00:00\",\n        \"max\": \"2025-03-31 00:00:00\",\n        \"num_unique_values\": 3834,\n        \"samples\": [\n          \"2021-04-08 00:00:00\",\n          \"2020-02-25 00:00:00\",\n          \"2013-03-18 00:00:00\"\n        ],\n        \"semantic_type\": \"\",\n        \"description\": \"\"\n      }\n    },\n    {\n      \"column\": [\n        \"Close\",\n        \"AAPL\"\n      ],\n      \"properties\": {\n        \"dtype\": \"number\",\n        \"std\": 68.21022941600759,\n        \"min\": 5.779477119445801,\n        \"max\": 258.7355041503906,\n        \"num_unique_values\": 3782,\n        \"samples\": [\n          14.881675720214844,\n          156.69970703125,\n          172.51133728027344\n        ],\n        \"semantic_type\": \"\",\n        \"description\": \"\"\n      }\n    },\n    {\n      \"column\": [\n        \"High\",\n        \"AAPL\"\n      ],\n      \"properties\": {\n        \"dtype\": \"number\",\n        \"std\": 68.86617446024589,\n        \"min\": 5.89834434204499,\n        \"max\": 259.81433504408284,\n        \"num_unique_values\": 3834,\n        \"samples\": [\n          127.55279878438414,\n          73.41767156165426,\n          13.969815810782087\n        ],\n        \"semantic_type\": \"\",\n        \"description\": \"\"\n      }\n    },\n    {\n      \"column\": [\n        \"Low\",\n        \"AAPL\"\n      ],\n      \"properties\": {\n        \"dtype\": \"number\",\n        \"std\": 67.46627957200457,\n        \"min\": 5.725306646729277,\n        \"max\": 257.34704665632455,\n        \"num_unique_values\": 3834,\n        \"samples\": [\n          125.72349353070734,\n          69.4377377687625,\n          13.473272243211815\n        ],\n        \"semantic_type\": \"\",\n        \"description\": \"\"\n      }\n    },\n    {\n      \"column\": [\n        \"Open\",\n        \"AAPL\"\n      ],\n      \"properties\": {\n        \"dtype\": \"number\",\n        \"std\": 68.13544681971112,\n        \"min\": 5.789106054008692,\n        \"max\": 257.90642916266114,\n        \"num_unique_values\": 3834,\n        \"samples\": [\n          126.14412984874876,\n          73.03424203168211,\n          13.480906457248413\n        ],\n        \"semantic_type\": \"\",\n        \"description\": \"\"\n      }\n    },\n    {\n      \"column\": [\n        \"Volume\",\n        \"AAPL\"\n      ],\n      \"properties\": {\n        \"dtype\": \"number\",\n        \"std\": 217480866,\n        \"min\": 23234700,\n        \"max\": 1880998000,\n        \"num_unique_values\": 3825,\n        \"samples\": [\n          103909600,\n          64751400,\n          71028800\n        ],\n        \"semantic_type\": \"\",\n        \"description\": \"\"\n      }\n    }\n  ]\n}"
            }
          },
          "metadata": {},
          "execution_count": 40
        }
      ]
    },
    {
      "cell_type": "code",
      "source": [
        "data.tail()"
      ],
      "metadata": {
        "colab": {
          "base_uri": "https://localhost:8080/",
          "height": 269
        },
        "id": "iv27eVc2AEVj",
        "outputId": "adbe48d7-1884-4755-faa4-ff4d52c9e998"
      },
      "execution_count": 41,
      "outputs": [
        {
          "output_type": "execute_result",
          "data": {
            "text/plain": [
              "Price            Close        High         Low        Open    Volume\n",
              "Ticker            AAPL        AAPL        AAPL        AAPL      AAPL\n",
              "Date                                                                \n",
              "2025-03-25  223.750000  224.100006  220.080002  220.770004  34493600\n",
              "2025-03-26  221.529999  225.020004  220.470001  223.509995  34466100\n",
              "2025-03-27  223.850006  224.990005  220.559998  221.389999  37094800\n",
              "2025-03-28  217.899994  223.809998  217.679993  221.669998  39818600\n",
              "2025-03-31  222.130005  225.619995  216.229996  217.009995  65299300"
            ],
            "text/html": [
              "\n",
              "  <div id=\"df-1c341be1-006d-4eb1-b59e-84d545e621d0\" class=\"colab-df-container\">\n",
              "    <div>\n",
              "<style scoped>\n",
              "    .dataframe tbody tr th:only-of-type {\n",
              "        vertical-align: middle;\n",
              "    }\n",
              "\n",
              "    .dataframe tbody tr th {\n",
              "        vertical-align: top;\n",
              "    }\n",
              "\n",
              "    .dataframe thead tr th {\n",
              "        text-align: left;\n",
              "    }\n",
              "\n",
              "    .dataframe thead tr:last-of-type th {\n",
              "        text-align: right;\n",
              "    }\n",
              "</style>\n",
              "<table border=\"1\" class=\"dataframe\">\n",
              "  <thead>\n",
              "    <tr>\n",
              "      <th>Price</th>\n",
              "      <th>Close</th>\n",
              "      <th>High</th>\n",
              "      <th>Low</th>\n",
              "      <th>Open</th>\n",
              "      <th>Volume</th>\n",
              "    </tr>\n",
              "    <tr>\n",
              "      <th>Ticker</th>\n",
              "      <th>AAPL</th>\n",
              "      <th>AAPL</th>\n",
              "      <th>AAPL</th>\n",
              "      <th>AAPL</th>\n",
              "      <th>AAPL</th>\n",
              "    </tr>\n",
              "    <tr>\n",
              "      <th>Date</th>\n",
              "      <th></th>\n",
              "      <th></th>\n",
              "      <th></th>\n",
              "      <th></th>\n",
              "      <th></th>\n",
              "    </tr>\n",
              "  </thead>\n",
              "  <tbody>\n",
              "    <tr>\n",
              "      <th>2025-03-25</th>\n",
              "      <td>223.750000</td>\n",
              "      <td>224.100006</td>\n",
              "      <td>220.080002</td>\n",
              "      <td>220.770004</td>\n",
              "      <td>34493600</td>\n",
              "    </tr>\n",
              "    <tr>\n",
              "      <th>2025-03-26</th>\n",
              "      <td>221.529999</td>\n",
              "      <td>225.020004</td>\n",
              "      <td>220.470001</td>\n",
              "      <td>223.509995</td>\n",
              "      <td>34466100</td>\n",
              "    </tr>\n",
              "    <tr>\n",
              "      <th>2025-03-27</th>\n",
              "      <td>223.850006</td>\n",
              "      <td>224.990005</td>\n",
              "      <td>220.559998</td>\n",
              "      <td>221.389999</td>\n",
              "      <td>37094800</td>\n",
              "    </tr>\n",
              "    <tr>\n",
              "      <th>2025-03-28</th>\n",
              "      <td>217.899994</td>\n",
              "      <td>223.809998</td>\n",
              "      <td>217.679993</td>\n",
              "      <td>221.669998</td>\n",
              "      <td>39818600</td>\n",
              "    </tr>\n",
              "    <tr>\n",
              "      <th>2025-03-31</th>\n",
              "      <td>222.130005</td>\n",
              "      <td>225.619995</td>\n",
              "      <td>216.229996</td>\n",
              "      <td>217.009995</td>\n",
              "      <td>65299300</td>\n",
              "    </tr>\n",
              "  </tbody>\n",
              "</table>\n",
              "</div>\n",
              "    <div class=\"colab-df-buttons\">\n",
              "\n",
              "  <div class=\"colab-df-container\">\n",
              "    <button class=\"colab-df-convert\" onclick=\"convertToInteractive('df-1c341be1-006d-4eb1-b59e-84d545e621d0')\"\n",
              "            title=\"Convert this dataframe to an interactive table.\"\n",
              "            style=\"display:none;\">\n",
              "\n",
              "  <svg xmlns=\"http://www.w3.org/2000/svg\" height=\"24px\" viewBox=\"0 -960 960 960\">\n",
              "    <path d=\"M120-120v-720h720v720H120Zm60-500h600v-160H180v160Zm220 220h160v-160H400v160Zm0 220h160v-160H400v160ZM180-400h160v-160H180v160Zm440 0h160v-160H620v160ZM180-180h160v-160H180v160Zm440 0h160v-160H620v160Z\"/>\n",
              "  </svg>\n",
              "    </button>\n",
              "\n",
              "  <style>\n",
              "    .colab-df-container {\n",
              "      display:flex;\n",
              "      gap: 12px;\n",
              "    }\n",
              "\n",
              "    .colab-df-convert {\n",
              "      background-color: #E8F0FE;\n",
              "      border: none;\n",
              "      border-radius: 50%;\n",
              "      cursor: pointer;\n",
              "      display: none;\n",
              "      fill: #1967D2;\n",
              "      height: 32px;\n",
              "      padding: 0 0 0 0;\n",
              "      width: 32px;\n",
              "    }\n",
              "\n",
              "    .colab-df-convert:hover {\n",
              "      background-color: #E2EBFA;\n",
              "      box-shadow: 0px 1px 2px rgba(60, 64, 67, 0.3), 0px 1px 3px 1px rgba(60, 64, 67, 0.15);\n",
              "      fill: #174EA6;\n",
              "    }\n",
              "\n",
              "    .colab-df-buttons div {\n",
              "      margin-bottom: 4px;\n",
              "    }\n",
              "\n",
              "    [theme=dark] .colab-df-convert {\n",
              "      background-color: #3B4455;\n",
              "      fill: #D2E3FC;\n",
              "    }\n",
              "\n",
              "    [theme=dark] .colab-df-convert:hover {\n",
              "      background-color: #434B5C;\n",
              "      box-shadow: 0px 1px 3px 1px rgba(0, 0, 0, 0.15);\n",
              "      filter: drop-shadow(0px 1px 2px rgba(0, 0, 0, 0.3));\n",
              "      fill: #FFFFFF;\n",
              "    }\n",
              "  </style>\n",
              "\n",
              "    <script>\n",
              "      const buttonEl =\n",
              "        document.querySelector('#df-1c341be1-006d-4eb1-b59e-84d545e621d0 button.colab-df-convert');\n",
              "      buttonEl.style.display =\n",
              "        google.colab.kernel.accessAllowed ? 'block' : 'none';\n",
              "\n",
              "      async function convertToInteractive(key) {\n",
              "        const element = document.querySelector('#df-1c341be1-006d-4eb1-b59e-84d545e621d0');\n",
              "        const dataTable =\n",
              "          await google.colab.kernel.invokeFunction('convertToInteractive',\n",
              "                                                    [key], {});\n",
              "        if (!dataTable) return;\n",
              "\n",
              "        const docLinkHtml = 'Like what you see? Visit the ' +\n",
              "          '<a target=\"_blank\" href=https://colab.research.google.com/notebooks/data_table.ipynb>data table notebook</a>'\n",
              "          + ' to learn more about interactive tables.';\n",
              "        element.innerHTML = '';\n",
              "        dataTable['output_type'] = 'display_data';\n",
              "        await google.colab.output.renderOutput(dataTable, element);\n",
              "        const docLink = document.createElement('div');\n",
              "        docLink.innerHTML = docLinkHtml;\n",
              "        element.appendChild(docLink);\n",
              "      }\n",
              "    </script>\n",
              "  </div>\n",
              "\n",
              "\n",
              "    <div id=\"df-98242ebc-ee77-44e3-b077-fed984a00534\">\n",
              "      <button class=\"colab-df-quickchart\" onclick=\"quickchart('df-98242ebc-ee77-44e3-b077-fed984a00534')\"\n",
              "                title=\"Suggest charts\"\n",
              "                style=\"display:none;\">\n",
              "\n",
              "<svg xmlns=\"http://www.w3.org/2000/svg\" height=\"24px\"viewBox=\"0 0 24 24\"\n",
              "     width=\"24px\">\n",
              "    <g>\n",
              "        <path d=\"M19 3H5c-1.1 0-2 .9-2 2v14c0 1.1.9 2 2 2h14c1.1 0 2-.9 2-2V5c0-1.1-.9-2-2-2zM9 17H7v-7h2v7zm4 0h-2V7h2v10zm4 0h-2v-4h2v4z\"/>\n",
              "    </g>\n",
              "</svg>\n",
              "      </button>\n",
              "\n",
              "<style>\n",
              "  .colab-df-quickchart {\n",
              "      --bg-color: #E8F0FE;\n",
              "      --fill-color: #1967D2;\n",
              "      --hover-bg-color: #E2EBFA;\n",
              "      --hover-fill-color: #174EA6;\n",
              "      --disabled-fill-color: #AAA;\n",
              "      --disabled-bg-color: #DDD;\n",
              "  }\n",
              "\n",
              "  [theme=dark] .colab-df-quickchart {\n",
              "      --bg-color: #3B4455;\n",
              "      --fill-color: #D2E3FC;\n",
              "      --hover-bg-color: #434B5C;\n",
              "      --hover-fill-color: #FFFFFF;\n",
              "      --disabled-bg-color: #3B4455;\n",
              "      --disabled-fill-color: #666;\n",
              "  }\n",
              "\n",
              "  .colab-df-quickchart {\n",
              "    background-color: var(--bg-color);\n",
              "    border: none;\n",
              "    border-radius: 50%;\n",
              "    cursor: pointer;\n",
              "    display: none;\n",
              "    fill: var(--fill-color);\n",
              "    height: 32px;\n",
              "    padding: 0;\n",
              "    width: 32px;\n",
              "  }\n",
              "\n",
              "  .colab-df-quickchart:hover {\n",
              "    background-color: var(--hover-bg-color);\n",
              "    box-shadow: 0 1px 2px rgba(60, 64, 67, 0.3), 0 1px 3px 1px rgba(60, 64, 67, 0.15);\n",
              "    fill: var(--button-hover-fill-color);\n",
              "  }\n",
              "\n",
              "  .colab-df-quickchart-complete:disabled,\n",
              "  .colab-df-quickchart-complete:disabled:hover {\n",
              "    background-color: var(--disabled-bg-color);\n",
              "    fill: var(--disabled-fill-color);\n",
              "    box-shadow: none;\n",
              "  }\n",
              "\n",
              "  .colab-df-spinner {\n",
              "    border: 2px solid var(--fill-color);\n",
              "    border-color: transparent;\n",
              "    border-bottom-color: var(--fill-color);\n",
              "    animation:\n",
              "      spin 1s steps(1) infinite;\n",
              "  }\n",
              "\n",
              "  @keyframes spin {\n",
              "    0% {\n",
              "      border-color: transparent;\n",
              "      border-bottom-color: var(--fill-color);\n",
              "      border-left-color: var(--fill-color);\n",
              "    }\n",
              "    20% {\n",
              "      border-color: transparent;\n",
              "      border-left-color: var(--fill-color);\n",
              "      border-top-color: var(--fill-color);\n",
              "    }\n",
              "    30% {\n",
              "      border-color: transparent;\n",
              "      border-left-color: var(--fill-color);\n",
              "      border-top-color: var(--fill-color);\n",
              "      border-right-color: var(--fill-color);\n",
              "    }\n",
              "    40% {\n",
              "      border-color: transparent;\n",
              "      border-right-color: var(--fill-color);\n",
              "      border-top-color: var(--fill-color);\n",
              "    }\n",
              "    60% {\n",
              "      border-color: transparent;\n",
              "      border-right-color: var(--fill-color);\n",
              "    }\n",
              "    80% {\n",
              "      border-color: transparent;\n",
              "      border-right-color: var(--fill-color);\n",
              "      border-bottom-color: var(--fill-color);\n",
              "    }\n",
              "    90% {\n",
              "      border-color: transparent;\n",
              "      border-bottom-color: var(--fill-color);\n",
              "    }\n",
              "  }\n",
              "</style>\n",
              "\n",
              "      <script>\n",
              "        async function quickchart(key) {\n",
              "          const quickchartButtonEl =\n",
              "            document.querySelector('#' + key + ' button');\n",
              "          quickchartButtonEl.disabled = true;  // To prevent multiple clicks.\n",
              "          quickchartButtonEl.classList.add('colab-df-spinner');\n",
              "          try {\n",
              "            const charts = await google.colab.kernel.invokeFunction(\n",
              "                'suggestCharts', [key], {});\n",
              "          } catch (error) {\n",
              "            console.error('Error during call to suggestCharts:', error);\n",
              "          }\n",
              "          quickchartButtonEl.classList.remove('colab-df-spinner');\n",
              "          quickchartButtonEl.classList.add('colab-df-quickchart-complete');\n",
              "        }\n",
              "        (() => {\n",
              "          let quickchartButtonEl =\n",
              "            document.querySelector('#df-98242ebc-ee77-44e3-b077-fed984a00534 button');\n",
              "          quickchartButtonEl.style.display =\n",
              "            google.colab.kernel.accessAllowed ? 'block' : 'none';\n",
              "        })();\n",
              "      </script>\n",
              "    </div>\n",
              "\n",
              "    </div>\n",
              "  </div>\n"
            ],
            "application/vnd.google.colaboratory.intrinsic+json": {
              "type": "dataframe",
              "summary": "{\n  \"name\": \"data\",\n  \"rows\": 5,\n  \"fields\": [\n    {\n      \"column\": [\n        \"Date\",\n        \"\"\n      ],\n      \"properties\": {\n        \"dtype\": \"date\",\n        \"min\": \"2025-03-25 00:00:00\",\n        \"max\": \"2025-03-31 00:00:00\",\n        \"num_unique_values\": 5,\n        \"samples\": [\n          \"2025-03-26 00:00:00\",\n          \"2025-03-31 00:00:00\",\n          \"2025-03-27 00:00:00\"\n        ],\n        \"semantic_type\": \"\",\n        \"description\": \"\"\n      }\n    },\n    {\n      \"column\": [\n        \"Close\",\n        \"AAPL\"\n      ],\n      \"properties\": {\n        \"dtype\": \"number\",\n        \"std\": 2.4182512420855917,\n        \"min\": 217.89999389648438,\n        \"max\": 223.85000610351562,\n        \"num_unique_values\": 5,\n        \"samples\": [\n          221.52999877929688,\n          222.1300048828125,\n          223.85000610351562\n        ],\n        \"semantic_type\": \"\",\n        \"description\": \"\"\n      }\n    },\n    {\n      \"column\": [\n        \"High\",\n        \"AAPL\"\n      ],\n      \"properties\": {\n        \"dtype\": \"number\",\n        \"std\": 0.7390321070328512,\n        \"min\": 223.80999755859375,\n        \"max\": 225.6199951171875,\n        \"num_unique_values\": 5,\n        \"samples\": [\n          225.02000427246094,\n          225.6199951171875,\n          224.99000549316406\n        ],\n        \"semantic_type\": \"\",\n        \"description\": \"\"\n      }\n    },\n    {\n      \"column\": [\n        \"Low\",\n        \"AAPL\"\n      ],\n      \"properties\": {\n        \"dtype\": \"number\",\n        \"std\": 1.9478297551427648,\n        \"min\": 216.22999572753906,\n        \"max\": 220.55999755859375,\n        \"num_unique_values\": 5,\n        \"samples\": [\n          220.47000122070312,\n          216.22999572753906,\n          220.55999755859375\n        ],\n        \"semantic_type\": \"\",\n        \"description\": \"\"\n      }\n    },\n    {\n      \"column\": [\n        \"Open\",\n        \"AAPL\"\n      ],\n      \"properties\": {\n        \"dtype\": \"number\",\n        \"std\": 2.386923175577744,\n        \"min\": 217.00999450683594,\n        \"max\": 223.50999450683594,\n        \"num_unique_values\": 5,\n        \"samples\": [\n          223.50999450683594,\n          217.00999450683594,\n          221.38999938964844\n        ],\n        \"semantic_type\": \"\",\n        \"description\": \"\"\n      }\n    },\n    {\n      \"column\": [\n        \"Volume\",\n        \"AAPL\"\n      ],\n      \"properties\": {\n        \"dtype\": \"number\",\n        \"std\": 13081548,\n        \"min\": 34466100,\n        \"max\": 65299300,\n        \"num_unique_values\": 5,\n        \"samples\": [\n          34466100,\n          65299300,\n          37094800\n        ],\n        \"semantic_type\": \"\",\n        \"description\": \"\"\n      }\n    }\n  ]\n}"
            }
          },
          "metadata": {},
          "execution_count": 41
        }
      ]
    },
    {
      "cell_type": "code",
      "source": [
        "data.info()"
      ],
      "metadata": {
        "colab": {
          "base_uri": "https://localhost:8080/"
        },
        "id": "rS3GowxNFEg9",
        "outputId": "815fb4bd-9b87-4f3e-f504-326f579fb48d"
      },
      "execution_count": 42,
      "outputs": [
        {
          "output_type": "stream",
          "name": "stdout",
          "text": [
            "<class 'pandas.core.frame.DataFrame'>\n",
            "DatetimeIndex: 3834 entries, 2010-01-04 to 2025-03-31\n",
            "Data columns (total 5 columns):\n",
            " #   Column          Non-Null Count  Dtype  \n",
            "---  ------          --------------  -----  \n",
            " 0   (Close, AAPL)   3834 non-null   float64\n",
            " 1   (High, AAPL)    3834 non-null   float64\n",
            " 2   (Low, AAPL)     3834 non-null   float64\n",
            " 3   (Open, AAPL)    3834 non-null   float64\n",
            " 4   (Volume, AAPL)  3834 non-null   int64  \n",
            "dtypes: float64(4), int64(1)\n",
            "memory usage: 179.7 KB\n"
          ]
        }
      ]
    },
    {
      "cell_type": "code",
      "source": [
        "data['close price']=data['Close']\n",
        "data.index=pd.to_datetime(data.index)\n"
      ],
      "metadata": {
        "id": "r0bZG6IjFbZ5"
      },
      "execution_count": 43,
      "outputs": []
    },
    {
      "cell_type": "code",
      "source": [
        "data.drop(columns=['Open','High','Close','Low','Volume'],inplace=True)\n",
        "data.info()"
      ],
      "metadata": {
        "colab": {
          "base_uri": "https://localhost:8080/"
        },
        "id": "5khBJMixGd_9",
        "outputId": "dd828da3-9b35-4406-f354-9903d56e41b1"
      },
      "execution_count": 44,
      "outputs": [
        {
          "output_type": "stream",
          "name": "stdout",
          "text": [
            "<class 'pandas.core.frame.DataFrame'>\n",
            "DatetimeIndex: 3834 entries, 2010-01-04 to 2025-03-31\n",
            "Data columns (total 1 columns):\n",
            " #   Column           Non-Null Count  Dtype  \n",
            "---  ------           --------------  -----  \n",
            " 0   (close price, )  3834 non-null   float64\n",
            "dtypes: float64(1)\n",
            "memory usage: 59.9 KB\n"
          ]
        }
      ]
    },
    {
      "cell_type": "code",
      "source": [
        "data.head()"
      ],
      "metadata": {
        "colab": {
          "base_uri": "https://localhost:8080/",
          "height": 269
        },
        "id": "VBtv-nieHADk",
        "outputId": "86ef9449-f40e-4d04-9b42-164c04f6fe64"
      },
      "execution_count": 45,
      "outputs": [
        {
          "output_type": "execute_result",
          "data": {
            "text/plain": [
              "Price      close price\n",
              "Ticker                \n",
              "Date                  \n",
              "2010-01-04    6.440331\n",
              "2010-01-05    6.451467\n",
              "2010-01-06    6.348844\n",
              "2010-01-07    6.337110\n",
              "2010-01-08    6.379242"
            ],
            "text/html": [
              "\n",
              "  <div id=\"df-32afd1f6-f739-4b34-a95b-49115866f113\" class=\"colab-df-container\">\n",
              "    <div>\n",
              "<style scoped>\n",
              "    .dataframe tbody tr th:only-of-type {\n",
              "        vertical-align: middle;\n",
              "    }\n",
              "\n",
              "    .dataframe tbody tr th {\n",
              "        vertical-align: top;\n",
              "    }\n",
              "\n",
              "    .dataframe thead tr th {\n",
              "        text-align: left;\n",
              "    }\n",
              "\n",
              "    .dataframe thead tr:last-of-type th {\n",
              "        text-align: right;\n",
              "    }\n",
              "</style>\n",
              "<table border=\"1\" class=\"dataframe\">\n",
              "  <thead>\n",
              "    <tr>\n",
              "      <th>Price</th>\n",
              "      <th>close price</th>\n",
              "    </tr>\n",
              "    <tr>\n",
              "      <th>Ticker</th>\n",
              "      <th></th>\n",
              "    </tr>\n",
              "    <tr>\n",
              "      <th>Date</th>\n",
              "      <th></th>\n",
              "    </tr>\n",
              "  </thead>\n",
              "  <tbody>\n",
              "    <tr>\n",
              "      <th>2010-01-04</th>\n",
              "      <td>6.440331</td>\n",
              "    </tr>\n",
              "    <tr>\n",
              "      <th>2010-01-05</th>\n",
              "      <td>6.451467</td>\n",
              "    </tr>\n",
              "    <tr>\n",
              "      <th>2010-01-06</th>\n",
              "      <td>6.348844</td>\n",
              "    </tr>\n",
              "    <tr>\n",
              "      <th>2010-01-07</th>\n",
              "      <td>6.337110</td>\n",
              "    </tr>\n",
              "    <tr>\n",
              "      <th>2010-01-08</th>\n",
              "      <td>6.379242</td>\n",
              "    </tr>\n",
              "  </tbody>\n",
              "</table>\n",
              "</div>\n",
              "    <div class=\"colab-df-buttons\">\n",
              "\n",
              "  <div class=\"colab-df-container\">\n",
              "    <button class=\"colab-df-convert\" onclick=\"convertToInteractive('df-32afd1f6-f739-4b34-a95b-49115866f113')\"\n",
              "            title=\"Convert this dataframe to an interactive table.\"\n",
              "            style=\"display:none;\">\n",
              "\n",
              "  <svg xmlns=\"http://www.w3.org/2000/svg\" height=\"24px\" viewBox=\"0 -960 960 960\">\n",
              "    <path d=\"M120-120v-720h720v720H120Zm60-500h600v-160H180v160Zm220 220h160v-160H400v160Zm0 220h160v-160H400v160ZM180-400h160v-160H180v160Zm440 0h160v-160H620v160ZM180-180h160v-160H180v160Zm440 0h160v-160H620v160Z\"/>\n",
              "  </svg>\n",
              "    </button>\n",
              "\n",
              "  <style>\n",
              "    .colab-df-container {\n",
              "      display:flex;\n",
              "      gap: 12px;\n",
              "    }\n",
              "\n",
              "    .colab-df-convert {\n",
              "      background-color: #E8F0FE;\n",
              "      border: none;\n",
              "      border-radius: 50%;\n",
              "      cursor: pointer;\n",
              "      display: none;\n",
              "      fill: #1967D2;\n",
              "      height: 32px;\n",
              "      padding: 0 0 0 0;\n",
              "      width: 32px;\n",
              "    }\n",
              "\n",
              "    .colab-df-convert:hover {\n",
              "      background-color: #E2EBFA;\n",
              "      box-shadow: 0px 1px 2px rgba(60, 64, 67, 0.3), 0px 1px 3px 1px rgba(60, 64, 67, 0.15);\n",
              "      fill: #174EA6;\n",
              "    }\n",
              "\n",
              "    .colab-df-buttons div {\n",
              "      margin-bottom: 4px;\n",
              "    }\n",
              "\n",
              "    [theme=dark] .colab-df-convert {\n",
              "      background-color: #3B4455;\n",
              "      fill: #D2E3FC;\n",
              "    }\n",
              "\n",
              "    [theme=dark] .colab-df-convert:hover {\n",
              "      background-color: #434B5C;\n",
              "      box-shadow: 0px 1px 3px 1px rgba(0, 0, 0, 0.15);\n",
              "      filter: drop-shadow(0px 1px 2px rgba(0, 0, 0, 0.3));\n",
              "      fill: #FFFFFF;\n",
              "    }\n",
              "  </style>\n",
              "\n",
              "    <script>\n",
              "      const buttonEl =\n",
              "        document.querySelector('#df-32afd1f6-f739-4b34-a95b-49115866f113 button.colab-df-convert');\n",
              "      buttonEl.style.display =\n",
              "        google.colab.kernel.accessAllowed ? 'block' : 'none';\n",
              "\n",
              "      async function convertToInteractive(key) {\n",
              "        const element = document.querySelector('#df-32afd1f6-f739-4b34-a95b-49115866f113');\n",
              "        const dataTable =\n",
              "          await google.colab.kernel.invokeFunction('convertToInteractive',\n",
              "                                                    [key], {});\n",
              "        if (!dataTable) return;\n",
              "\n",
              "        const docLinkHtml = 'Like what you see? Visit the ' +\n",
              "          '<a target=\"_blank\" href=https://colab.research.google.com/notebooks/data_table.ipynb>data table notebook</a>'\n",
              "          + ' to learn more about interactive tables.';\n",
              "        element.innerHTML = '';\n",
              "        dataTable['output_type'] = 'display_data';\n",
              "        await google.colab.output.renderOutput(dataTable, element);\n",
              "        const docLink = document.createElement('div');\n",
              "        docLink.innerHTML = docLinkHtml;\n",
              "        element.appendChild(docLink);\n",
              "      }\n",
              "    </script>\n",
              "  </div>\n",
              "\n",
              "\n",
              "    <div id=\"df-ac7debe5-25c8-4324-b385-e94a2b42b4c3\">\n",
              "      <button class=\"colab-df-quickchart\" onclick=\"quickchart('df-ac7debe5-25c8-4324-b385-e94a2b42b4c3')\"\n",
              "                title=\"Suggest charts\"\n",
              "                style=\"display:none;\">\n",
              "\n",
              "<svg xmlns=\"http://www.w3.org/2000/svg\" height=\"24px\"viewBox=\"0 0 24 24\"\n",
              "     width=\"24px\">\n",
              "    <g>\n",
              "        <path d=\"M19 3H5c-1.1 0-2 .9-2 2v14c0 1.1.9 2 2 2h14c1.1 0 2-.9 2-2V5c0-1.1-.9-2-2-2zM9 17H7v-7h2v7zm4 0h-2V7h2v10zm4 0h-2v-4h2v4z\"/>\n",
              "    </g>\n",
              "</svg>\n",
              "      </button>\n",
              "\n",
              "<style>\n",
              "  .colab-df-quickchart {\n",
              "      --bg-color: #E8F0FE;\n",
              "      --fill-color: #1967D2;\n",
              "      --hover-bg-color: #E2EBFA;\n",
              "      --hover-fill-color: #174EA6;\n",
              "      --disabled-fill-color: #AAA;\n",
              "      --disabled-bg-color: #DDD;\n",
              "  }\n",
              "\n",
              "  [theme=dark] .colab-df-quickchart {\n",
              "      --bg-color: #3B4455;\n",
              "      --fill-color: #D2E3FC;\n",
              "      --hover-bg-color: #434B5C;\n",
              "      --hover-fill-color: #FFFFFF;\n",
              "      --disabled-bg-color: #3B4455;\n",
              "      --disabled-fill-color: #666;\n",
              "  }\n",
              "\n",
              "  .colab-df-quickchart {\n",
              "    background-color: var(--bg-color);\n",
              "    border: none;\n",
              "    border-radius: 50%;\n",
              "    cursor: pointer;\n",
              "    display: none;\n",
              "    fill: var(--fill-color);\n",
              "    height: 32px;\n",
              "    padding: 0;\n",
              "    width: 32px;\n",
              "  }\n",
              "\n",
              "  .colab-df-quickchart:hover {\n",
              "    background-color: var(--hover-bg-color);\n",
              "    box-shadow: 0 1px 2px rgba(60, 64, 67, 0.3), 0 1px 3px 1px rgba(60, 64, 67, 0.15);\n",
              "    fill: var(--button-hover-fill-color);\n",
              "  }\n",
              "\n",
              "  .colab-df-quickchart-complete:disabled,\n",
              "  .colab-df-quickchart-complete:disabled:hover {\n",
              "    background-color: var(--disabled-bg-color);\n",
              "    fill: var(--disabled-fill-color);\n",
              "    box-shadow: none;\n",
              "  }\n",
              "\n",
              "  .colab-df-spinner {\n",
              "    border: 2px solid var(--fill-color);\n",
              "    border-color: transparent;\n",
              "    border-bottom-color: var(--fill-color);\n",
              "    animation:\n",
              "      spin 1s steps(1) infinite;\n",
              "  }\n",
              "\n",
              "  @keyframes spin {\n",
              "    0% {\n",
              "      border-color: transparent;\n",
              "      border-bottom-color: var(--fill-color);\n",
              "      border-left-color: var(--fill-color);\n",
              "    }\n",
              "    20% {\n",
              "      border-color: transparent;\n",
              "      border-left-color: var(--fill-color);\n",
              "      border-top-color: var(--fill-color);\n",
              "    }\n",
              "    30% {\n",
              "      border-color: transparent;\n",
              "      border-left-color: var(--fill-color);\n",
              "      border-top-color: var(--fill-color);\n",
              "      border-right-color: var(--fill-color);\n",
              "    }\n",
              "    40% {\n",
              "      border-color: transparent;\n",
              "      border-right-color: var(--fill-color);\n",
              "      border-top-color: var(--fill-color);\n",
              "    }\n",
              "    60% {\n",
              "      border-color: transparent;\n",
              "      border-right-color: var(--fill-color);\n",
              "    }\n",
              "    80% {\n",
              "      border-color: transparent;\n",
              "      border-right-color: var(--fill-color);\n",
              "      border-bottom-color: var(--fill-color);\n",
              "    }\n",
              "    90% {\n",
              "      border-color: transparent;\n",
              "      border-bottom-color: var(--fill-color);\n",
              "    }\n",
              "  }\n",
              "</style>\n",
              "\n",
              "      <script>\n",
              "        async function quickchart(key) {\n",
              "          const quickchartButtonEl =\n",
              "            document.querySelector('#' + key + ' button');\n",
              "          quickchartButtonEl.disabled = true;  // To prevent multiple clicks.\n",
              "          quickchartButtonEl.classList.add('colab-df-spinner');\n",
              "          try {\n",
              "            const charts = await google.colab.kernel.invokeFunction(\n",
              "                'suggestCharts', [key], {});\n",
              "          } catch (error) {\n",
              "            console.error('Error during call to suggestCharts:', error);\n",
              "          }\n",
              "          quickchartButtonEl.classList.remove('colab-df-spinner');\n",
              "          quickchartButtonEl.classList.add('colab-df-quickchart-complete');\n",
              "        }\n",
              "        (() => {\n",
              "          let quickchartButtonEl =\n",
              "            document.querySelector('#df-ac7debe5-25c8-4324-b385-e94a2b42b4c3 button');\n",
              "          quickchartButtonEl.style.display =\n",
              "            google.colab.kernel.accessAllowed ? 'block' : 'none';\n",
              "        })();\n",
              "      </script>\n",
              "    </div>\n",
              "\n",
              "    </div>\n",
              "  </div>\n"
            ],
            "application/vnd.google.colaboratory.intrinsic+json": {
              "type": "dataframe",
              "variable_name": "data",
              "summary": "{\n  \"name\": \"data\",\n  \"rows\": 3834,\n  \"fields\": [\n    {\n      \"column\": [\n        \"Date\",\n        \"\"\n      ],\n      \"properties\": {\n        \"dtype\": \"date\",\n        \"min\": \"2010-01-04 00:00:00\",\n        \"max\": \"2025-03-31 00:00:00\",\n        \"num_unique_values\": 3834,\n        \"samples\": [\n          \"2021-04-08 00:00:00\",\n          \"2020-02-25 00:00:00\",\n          \"2013-03-18 00:00:00\"\n        ],\n        \"semantic_type\": \"\",\n        \"description\": \"\"\n      }\n    },\n    {\n      \"column\": [\n        \"close price\",\n        \"\"\n      ],\n      \"properties\": {\n        \"dtype\": \"number\",\n        \"std\": 68.21022941600759,\n        \"min\": 5.779477119445801,\n        \"max\": 258.7355041503906,\n        \"num_unique_values\": 3782,\n        \"samples\": [\n          14.881675720214844,\n          156.69970703125,\n          172.51133728027344\n        ],\n        \"semantic_type\": \"\",\n        \"description\": \"\"\n      }\n    }\n  ]\n}"
            }
          },
          "metadata": {},
          "execution_count": 45
        }
      ]
    },
    {
      "cell_type": "code",
      "source": [
        "import matplotlib.pyplot as plt\n",
        "\n",
        "plt.figure(figsize=(8, 5))\n",
        "plt.plot(data.index, data['close price'])\n",
        "plt.title('Close Price vs Date')\n",
        "plt.xlabel('Date')\n",
        "plt.ylabel('Close Price')\n",
        "plt.grid(True)\n",
        "plt.xticks(rotation=45)\n",
        "plt.tight_layout()\n",
        "plt.show()"
      ],
      "metadata": {
        "colab": {
          "base_uri": "https://localhost:8080/",
          "height": 507
        },
        "id": "Z7p3QRZmHDgK",
        "outputId": "bd797f62-2145-49f8-f422-65d67fbf1fe3"
      },
      "execution_count": 46,
      "outputs": [
        {
          "output_type": "display_data",
          "data": {
            "text/plain": [
              "<Figure size 800x500 with 1 Axes>"
            ],
            "image/png": "[encoded data removed]"
          },
          "metadata": {}
        }
      ]
    },
    {
      "cell_type": "markdown",
      "source": [
        "# facebook Prophet model"
      ],
      "metadata": {
        "id": "SKkDU6inJuSq"
      }
    },
    {
      "cell_type": "code",
      "source": [
        "!pip install prophet --quiet"
      ],
      "metadata": {
        "id": "rDXe6zk5MHML"
      },
      "execution_count": null,
      "outputs": []
    },
    {
      "cell_type": "code",
      "source": [
        "from prophet import Prophet\n",
        "Prophet.set_backend(\"cmdstanpy\")\n",
        "\n",
        "from prophet.diagnostics import cross_validation, performance_metrics\n",
        "from sklearn.metrics import mean_squared_error, mean_absolute_error, r2_score\n",
        "from sklearn.model_selection import ParameterGrid\n",
        "\n",
        "prophet_data=data.reset_index()\n",
        "prophet_data=prophet_data.rename(columns={'Date':'ds','close price':'y'})\n",
        "prophet_data.head()"
      ],
      "metadata": {
        "id": "sUxmAADe-UhL"
      },
      "execution_count": null,
      "outputs": []
    },
    {
      "cell_type": "code",
      "source": [
        "# 2. Train-Validation-Test Split\n",
        "train_size = int(0.7 * len(prophet_data))  # 70% train\n",
        "val_size = int(0.15 * len(prophet_data))   # 15% validation\n",
        "train_df = prophet_data[:train_size]\n",
        "val_df = prophet_data[train_size:train_size+val_size]\n",
        "test_df = prophet_data[train_size+val_size:]\n",
        "\n",
        "print(f'Train size: {len(train_df)}, Validation size: {len(val_df)}, Test size: {len(test_df)}')\n"
      ],
      "metadata": {
        "id": "6PkZDuAg_Mit"
      },
      "execution_count": null,
      "outputs": []
    },
    {
      "cell_type": "code",
      "source": [
        "params_grid = {\n",
        "    'seasonality_mode': ('multiplicative', 'additive'),\n",
        "    'changepoint_prior_scale': [0.001, 0.01, 0.1, 0.5],\n",
        "    'holidays_prior_scale': [0.01, 0.1, 1.0],\n",
        "    'n_changepoints': [10, 20, 50]\n",
        "}\n",
        "\n",
        "grid = list(ParameterGrid(params_grid))\n",
        "print(f'Total combinations: {len(grid)}')\n",
        "\n",
        "# --- Cross-validation (manual) for hyperparameter tuning ---\n",
        "best_params = None\n",
        "best_val_mae = float('inf')\n",
        "\n",
        "for params in grid:\n",
        "    try:\n",
        "        # Define model with current params\n",
        "        model = Prophet(\n",
        "            seasonality_mode=params['seasonality_mode'],\n",
        "            changepoint_prior_scale=params['changepoint_prior_scale'],\n",
        "            holidays_prior_scale=params['holidays_prior_scale'],\n",
        "            n_changepoints=params['n_changepoints']\n",
        "        )\n",
        "\n",
        "        # Fit on training data\n",
        "        model.fit(train_df)\n",
        "\n",
        "        # Make future dataframe covering validation set\n",
        "        future = val_df[['ds']].copy()\n",
        "        forecast = model.predict(future)\n",
        "\n",
        "        # Make sure 'yhat' is in forecast columns\n",
        "        if 'yhat' not in forecast.columns:\n",
        "            print(f\"⚠️ Skipping params {params} because 'yhat' missing in forecast.\")\n",
        "            continue\n",
        "\n",
        "        # Evaluation on validation set\n",
        "        val_pred = forecast['yhat'].values\n",
        "        val_true = val_df['y'].values\n",
        "\n",
        "        val_mae = mean_absolute_error(val_true, val_pred)\n",
        "        val_rmse = mean_squared_error(val_true, val_pred, squared=False)\n",
        "\n",
        "        if val_mae < best_val_mae:\n",
        "            best_val_mae = val_mae\n",
        "            best_params = params\n",
        "\n",
        "    except Exception as e:\n",
        "        print(f\"⚠️ Skipping params {params} due to error: {e}\")\n",
        "        continue\n",
        "\n",
        "\n"
      ],
      "metadata": {
        "colab": {
          "base_uri": "https://localhost:8080/"
        },
        "id": "xOB5OoXa_xKf",
        "outputId": "8f98b200-ce8e-4247-9d83-b8d7809c1d0f"
      },
      "execution_count": null,
      "outputs": [
        {
          "output_type": "stream",
          "name": "stderr",
          "text": [
            "INFO:prophet:Disabling daily seasonality. Run prophet with daily_seasonality=True to override this.\n"
          ]
        },
        {
          "output_type": "stream",
          "name": "stdout",
          "text": [
            "Total combinations: 72\n"
          ]
        },
        {
          "output_type": "stream",
          "name": "stderr",
          "text": [
            "DEBUG:cmdstanpy:input tempfile: /tmp/tmp4piqu2qx/gacu9bu3.json\n",
            "DEBUG:cmdstanpy:input tempfile: /tmp/tmp4piqu2qx/4qriopnh.json\n",
            "DEBUG:cmdstanpy:idx 0\n",
            "DEBUG:cmdstanpy:running CmdStan, num_threads: None\n",
            "DEBUG:cmdstanpy:CmdStan args: ['/usr/local/lib/python3.11/dist-packages/prophet/stan_model/prophet_model.bin', 'random', 'seed=70398', 'data', 'file=/tmp/tmp4piqu2qx/gacu9bu3.json', 'init=/tmp/tmp4piqu2qx/4qriopnh.json', 'output', 'file=/tmp/tmp4piqu2qx/prophet_modelw8spq29y/prophet_model-20250428155539.csv', 'method=optimize', 'algorithm=lbfgs', 'iter=10000']\n",
            "15:55:39 - cmdstanpy - INFO - Chain [1] start processing\n",
            "INFO:cmdstanpy:Chain [1] start processing\n",
            "15:55:39 - cmdstanpy - INFO - Chain [1] done processing\n",
            "INFO:cmdstanpy:Chain [1] done processing\n",
            "INFO:prophet:Disabling daily seasonality. Run prophet with daily_seasonality=True to override this.\n",
            "DEBUG:cmdstanpy:input tempfile: /tmp/tmp4piqu2qx/ugjn41x7.json\n"
          ]
        },
        {
          "output_type": "stream",
          "name": "stdout",
          "text": [
            "⚠️ Skipping params {'changepoint_prior_scale': 0.001, 'holidays_prior_scale': 0.01, 'n_changepoints': 10, 'seasonality_mode': 'multiplicative'} due to error: 'trend'\n"
          ]
        },
        {
          "output_type": "stream",
          "name": "stderr",
          "text": [
            "DEBUG:cmdstanpy:input tempfile: /tmp/tmp4piqu2qx/1unq1x3k.json\n",
            "DEBUG:cmdstanpy:idx 0\n",
            "DEBUG:cmdstanpy:running CmdStan, num_threads: None\n",
            "DEBUG:cmdstanpy:CmdStan args: ['/usr/local/lib/python3.11/dist-packages/prophet/stan_model/prophet_model.bin', 'random', 'seed=19069', 'data', 'file=/tmp/tmp4piqu2qx/ugjn41x7.json', 'init=/tmp/tmp4piqu2qx/1unq1x3k.json', 'output', 'file=/tmp/tmp4piqu2qx/prophet_model9vgrcdix/prophet_model-20250428155540.csv', 'method=optimize', 'algorithm=lbfgs', 'iter=10000']\n",
            "15:55:40 - cmdstanpy - INFO - Chain [1] start processing\n",
            "INFO:cmdstanpy:Chain [1] start processing\n",
            "15:55:41 - cmdstanpy - INFO - Chain [1] done processing\n",
            "INFO:cmdstanpy:Chain [1] done processing\n",
            "INFO:prophet:Disabling daily seasonality. Run prophet with daily_seasonality=True to override this.\n",
            "DEBUG:cmdstanpy:input tempfile: /tmp/tmp4piqu2qx/xkf14n5e.json\n"
          ]
        },
        {
          "output_type": "stream",
          "name": "stdout",
          "text": [
            "⚠️ Skipping params {'changepoint_prior_scale': 0.001, 'holidays_prior_scale': 0.01, 'n_changepoints': 10, 'seasonality_mode': 'additive'} due to error: 'trend'\n"
          ]
        },
        {
          "output_type": "stream",
          "name": "stderr",
          "text": [
            "DEBUG:cmdstanpy:input tempfile: /tmp/tmp4piqu2qx/wuai_lhr.json\n",
            "DEBUG:cmdstanpy:idx 0\n",
            "DEBUG:cmdstanpy:running CmdStan, num_threads: None\n",
            "DEBUG:cmdstanpy:CmdStan args: ['/usr/local/lib/python3.11/dist-packages/prophet/stan_model/prophet_model.bin', 'random', 'seed=8260', 'data', 'file=/tmp/tmp4piqu2qx/xkf14n5e.json', 'init=/tmp/tmp4piqu2qx/wuai_lhr.json', 'output', 'file=/tmp/tmp4piqu2qx/prophet_model31jm50on/prophet_model-20250428155542.csv', 'method=optimize', 'algorithm=lbfgs', 'iter=10000']\n",
            "15:55:42 - cmdstanpy - INFO - Chain [1] start processing\n",
            "INFO:cmdstanpy:Chain [1] start processing\n",
            "15:55:42 - cmdstanpy - INFO - Chain [1] done processing\n",
            "INFO:cmdstanpy:Chain [1] done processing\n",
            "INFO:prophet:Disabling daily seasonality. Run prophet with daily_seasonality=True to override this.\n",
            "DEBUG:cmdstanpy:input tempfile: /tmp/tmp4piqu2qx/eebc20kh.json\n"
          ]
        },
        {
          "output_type": "stream",
          "name": "stdout",
          "text": [
            "⚠️ Skipping params {'changepoint_prior_scale': 0.001, 'holidays_prior_scale': 0.01, 'n_changepoints': 20, 'seasonality_mode': 'multiplicative'} due to error: 'trend'\n"
          ]
        },
        {
          "output_type": "stream",
          "name": "stderr",
          "text": [
            "DEBUG:cmdstanpy:input tempfile: /tmp/tmp4piqu2qx/9526rjwe.json\n",
            "DEBUG:cmdstanpy:idx 0\n",
            "DEBUG:cmdstanpy:running CmdStan, num_threads: None\n",
            "DEBUG:cmdstanpy:CmdStan args: ['/usr/local/lib/python3.11/dist-packages/prophet/stan_model/prophet_model.bin', 'random', 'seed=398', 'data', 'file=/tmp/tmp4piqu2qx/eebc20kh.json', 'init=/tmp/tmp4piqu2qx/9526rjwe.json', 'output', 'file=/tmp/tmp4piqu2qx/prophet_model9ry3ntnq/prophet_model-20250428155543.csv', 'method=optimize', 'algorithm=lbfgs', 'iter=10000']\n",
            "15:55:43 - cmdstanpy - INFO - Chain [1] start processing\n",
            "INFO:cmdstanpy:Chain [1] start processing\n",
            "15:55:44 - cmdstanpy - INFO - Chain [1] done processing\n",
            "INFO:cmdstanpy:Chain [1] done processing\n",
            "INFO:prophet:Disabling daily seasonality. Run prophet with daily_seasonality=True to override this.\n",
            "DEBUG:cmdstanpy:input tempfile: /tmp/tmp4piqu2qx/_c5ohzhm.json\n"
          ]
        },
        {
          "output_type": "stream",
          "name": "stdout",
          "text": [
            "⚠️ Skipping params {'changepoint_prior_scale': 0.001, 'holidays_prior_scale': 0.01, 'n_changepoints': 20, 'seasonality_mode': 'additive'} due to error: 'trend'\n"
          ]
        },
        {
          "output_type": "stream",
          "name": "stderr",
          "text": [
            "DEBUG:cmdstanpy:input tempfile: /tmp/tmp4piqu2qx/t1r3xr4f.json\n",
            "DEBUG:cmdstanpy:idx 0\n",
            "DEBUG:cmdstanpy:running CmdStan, num_threads: None\n",
            "DEBUG:cmdstanpy:CmdStan args: ['/usr/local/lib/python3.11/dist-packages/prophet/stan_model/prophet_model.bin', 'random', 'seed=60556', 'data', 'file=/tmp/tmp4piqu2qx/_c5ohzhm.json', 'init=/tmp/tmp4piqu2qx/t1r3xr4f.json', 'output', 'file=/tmp/tmp4piqu2qx/prophet_modela1aa6zw8/prophet_model-20250428155545.csv', 'method=optimize', 'algorithm=lbfgs', 'iter=10000']\n",
            "15:55:45 - cmdstanpy - INFO - Chain [1] start processing\n",
            "INFO:cmdstanpy:Chain [1] start processing\n",
            "15:55:45 - cmdstanpy - INFO - Chain [1] done processing\n",
            "INFO:cmdstanpy:Chain [1] done processing\n",
            "15:55:45 - cmdstanpy - ERROR - Chain [1] error: error during processing Operation not permitted\n",
            "ERROR:cmdstanpy:Chain [1] error: error during processing Operation not permitted\n",
            "WARNING:prophet.models:Optimization terminated abnormally. Falling back to Newton.\n",
            "DEBUG:cmdstanpy:input tempfile: /tmp/tmp4piqu2qx/lpvfgdof.json\n",
            "DEBUG:cmdstanpy:input tempfile: /tmp/tmp4piqu2qx/pj8uzaoh.json\n",
            "DEBUG:cmdstanpy:idx 0\n",
            "DEBUG:cmdstanpy:running CmdStan, num_threads: None\n",
            "DEBUG:cmdstanpy:CmdStan args: ['/usr/local/lib/python3.11/dist-packages/prophet/stan_model/prophet_model.bin', 'random', 'seed=26053', 'data', 'file=/tmp/tmp4piqu2qx/lpvfgdof.json', 'init=/tmp/tmp4piqu2qx/pj8uzaoh.json', 'output', 'file=/tmp/tmp4piqu2qx/prophet_model4y1wkv84/prophet_model-20250428155546.csv', 'method=optimize', 'algorithm=newton', 'iter=10000']\n",
            "15:55:46 - cmdstanpy - INFO - Chain [1] start processing\n",
            "INFO:cmdstanpy:Chain [1] start processing\n",
            "15:56:19 - cmdstanpy - INFO - Chain [1] done processing\n",
            "INFO:cmdstanpy:Chain [1] done processing\n",
            "INFO:prophet:Disabling daily seasonality. Run prophet with daily_seasonality=True to override this.\n",
            "DEBUG:cmdstanpy:input tempfile: /tmp/tmp4piqu2qx/9xghp4h0.json\n",
            "DEBUG:cmdstanpy:input tempfile: /tmp/tmp4piqu2qx/wp34czp4.json\n",
            "DEBUG:cmdstanpy:idx 0\n"
          ]
        },
        {
          "output_type": "stream",
          "name": "stdout",
          "text": [
            "⚠️ Skipping params {'changepoint_prior_scale': 0.001, 'holidays_prior_scale': 0.01, 'n_changepoints': 50, 'seasonality_mode': 'multiplicative'} due to error: 'trend'\n"
          ]
        },
        {
          "output_type": "stream",
          "name": "stderr",
          "text": [
            "DEBUG:cmdstanpy:running CmdStan, num_threads: None\n",
            "DEBUG:cmdstanpy:CmdStan args: ['/usr/local/lib/python3.11/dist-packages/prophet/stan_model/prophet_model.bin', 'random', 'seed=94790', 'data', 'file=/tmp/tmp4piqu2qx/9xghp4h0.json', 'init=/tmp/tmp4piqu2qx/wp34czp4.json', 'output', 'file=/tmp/tmp4piqu2qx/prophet_model6afpltay/prophet_model-20250428155620.csv', 'method=optimize', 'algorithm=lbfgs', 'iter=10000']\n",
            "15:56:20 - cmdstanpy - INFO - Chain [1] start processing\n",
            "INFO:cmdstanpy:Chain [1] start processing\n",
            "15:56:20 - cmdstanpy - INFO - Chain [1] done processing\n",
            "INFO:cmdstanpy:Chain [1] done processing\n",
            "15:56:20 - cmdstanpy - ERROR - Chain [1] error: error during processing Operation not permitted\n",
            "ERROR:cmdstanpy:Chain [1] error: error during processing Operation not permitted\n",
            "WARNING:prophet.models:Optimization terminated abnormally. Falling back to Newton.\n",
            "DEBUG:cmdstanpy:input tempfile: /tmp/tmp4piqu2qx/_yu8r748.json\n",
            "DEBUG:cmdstanpy:input tempfile: /tmp/tmp4piqu2qx/uww6a9dl.json\n",
            "DEBUG:cmdstanpy:idx 0\n",
            "DEBUG:cmdstanpy:running CmdStan, num_threads: None\n",
            "DEBUG:cmdstanpy:CmdStan args: ['/usr/local/lib/python3.11/dist-packages/prophet/stan_model/prophet_model.bin', 'random', 'seed=3144', 'data', 'file=/tmp/tmp4piqu2qx/_yu8r748.json', 'init=/tmp/tmp4piqu2qx/uww6a9dl.json', 'output', 'file=/tmp/tmp4piqu2qx/prophet_modelg5_x6s53/prophet_model-20250428155620.csv', 'method=optimize', 'algorithm=newton', 'iter=10000']\n",
            "15:56:20 - cmdstanpy - INFO - Chain [1] start processing\n",
            "INFO:cmdstanpy:Chain [1] start processing\n",
            "15:56:59 - cmdstanpy - INFO - Chain [1] done processing\n",
            "INFO:cmdstanpy:Chain [1] done processing\n",
            "INFO:prophet:Disabling daily seasonality. Run prophet with daily_seasonality=True to override this.\n",
            "DEBUG:cmdstanpy:input tempfile: /tmp/tmp4piqu2qx/kuiedhdv.json\n",
            "DEBUG:cmdstanpy:input tempfile: /tmp/tmp4piqu2qx/mf72p811.json\n",
            "DEBUG:cmdstanpy:idx 0\n"
          ]
        },
        {
          "output_type": "stream",
          "name": "stdout",
          "text": [
            "⚠️ Skipping params {'changepoint_prior_scale': 0.001, 'holidays_prior_scale': 0.01, 'n_changepoints': 50, 'seasonality_mode': 'additive'} due to error: 'trend'\n"
          ]
        },
        {
          "output_type": "stream",
          "name": "stderr",
          "text": [
            "DEBUG:cmdstanpy:running CmdStan, num_threads: None\n",
            "DEBUG:cmdstanpy:CmdStan args: ['/usr/local/lib/python3.11/dist-packages/prophet/stan_model/prophet_model.bin', 'random', 'seed=67853', 'data', 'file=/tmp/tmp4piqu2qx/kuiedhdv.json', 'init=/tmp/tmp4piqu2qx/mf72p811.json', 'output', 'file=/tmp/tmp4piqu2qx/prophet_modelii_647mw/prophet_model-20250428155659.csv', 'method=optimize', 'algorithm=lbfgs', 'iter=10000']\n",
            "15:56:59 - cmdstanpy - INFO - Chain [1] start processing\n",
            "INFO:cmdstanpy:Chain [1] start processing\n",
            "15:56:59 - cmdstanpy - INFO - Chain [1] done processing\n",
            "INFO:cmdstanpy:Chain [1] done processing\n",
            "INFO:prophet:Disabling daily seasonality. Run prophet with daily_seasonality=True to override this.\n",
            "DEBUG:cmdstanpy:input tempfile: /tmp/tmp4piqu2qx/ttup70sp.json\n",
            "DEBUG:cmdstanpy:input tempfile: /tmp/tmp4piqu2qx/d_8vzpfe.json\n"
          ]
        },
        {
          "output_type": "stream",
          "name": "stdout",
          "text": [
            "⚠️ Skipping params {'changepoint_prior_scale': 0.001, 'holidays_prior_scale': 0.1, 'n_changepoints': 10, 'seasonality_mode': 'multiplicative'} due to error: 'trend'\n"
          ]
        },
        {
          "output_type": "stream",
          "name": "stderr",
          "text": [
            "DEBUG:cmdstanpy:idx 0\n",
            "DEBUG:cmdstanpy:running CmdStan, num_threads: None\n",
            "DEBUG:cmdstanpy:CmdStan args: ['/usr/local/lib/python3.11/dist-packages/prophet/stan_model/prophet_model.bin', 'random', 'seed=24583', 'data', 'file=/tmp/tmp4piqu2qx/ttup70sp.json', 'init=/tmp/tmp4piqu2qx/d_8vzpfe.json', 'output', 'file=/tmp/tmp4piqu2qx/prophet_modelyy_bd9a4/prophet_model-20250428155700.csv', 'method=optimize', 'algorithm=lbfgs', 'iter=10000']\n",
            "15:57:00 - cmdstanpy - INFO - Chain [1] start processing\n",
            "INFO:cmdstanpy:Chain [1] start processing\n",
            "15:57:00 - cmdstanpy - INFO - Chain [1] done processing\n",
            "INFO:cmdstanpy:Chain [1] done processing\n",
            "INFO:prophet:Disabling daily seasonality. Run prophet with daily_seasonality=True to override this.\n",
            "DEBUG:cmdstanpy:input tempfile: /tmp/tmp4piqu2qx/5ixkny9q.json\n"
          ]
        },
        {
          "output_type": "stream",
          "name": "stdout",
          "text": [
            "⚠️ Skipping params {'changepoint_prior_scale': 0.001, 'holidays_prior_scale': 0.1, 'n_changepoints': 10, 'seasonality_mode': 'additive'} due to error: 'trend'\n"
          ]
        },
        {
          "output_type": "stream",
          "name": "stderr",
          "text": [
            "DEBUG:cmdstanpy:input tempfile: /tmp/tmp4piqu2qx/3c10gewr.json\n",
            "DEBUG:cmdstanpy:idx 0\n",
            "DEBUG:cmdstanpy:running CmdStan, num_threads: None\n",
            "DEBUG:cmdstanpy:CmdStan args: ['/usr/local/lib/python3.11/dist-packages/prophet/stan_model/prophet_model.bin', 'random', 'seed=89453', 'data', 'file=/tmp/tmp4piqu2qx/5ixkny9q.json', 'init=/tmp/tmp4piqu2qx/3c10gewr.json', 'output', 'file=/tmp/tmp4piqu2qx/prophet_model053blly5/prophet_model-20250428155700.csv', 'method=optimize', 'algorithm=lbfgs', 'iter=10000']\n",
            "15:57:00 - cmdstanpy - INFO - Chain [1] start processing\n",
            "INFO:cmdstanpy:Chain [1] start processing\n",
            "15:57:01 - cmdstanpy - INFO - Chain [1] done processing\n",
            "INFO:cmdstanpy:Chain [1] done processing\n",
            "INFO:prophet:Disabling daily seasonality. Run prophet with daily_seasonality=True to override this.\n",
            "DEBUG:cmdstanpy:input tempfile: /tmp/tmp4piqu2qx/b6x99cmi.json\n",
            "DEBUG:cmdstanpy:input tempfile: /tmp/tmp4piqu2qx/7z2wzg41.json\n"
          ]
        },
        {
          "output_type": "stream",
          "name": "stdout",
          "text": [
            "⚠️ Skipping params {'changepoint_prior_scale': 0.001, 'holidays_prior_scale': 0.1, 'n_changepoints': 20, 'seasonality_mode': 'multiplicative'} due to error: 'trend'\n"
          ]
        },
        {
          "output_type": "stream",
          "name": "stderr",
          "text": [
            "DEBUG:cmdstanpy:idx 0\n",
            "DEBUG:cmdstanpy:running CmdStan, num_threads: None\n",
            "DEBUG:cmdstanpy:CmdStan args: ['/usr/local/lib/python3.11/dist-packages/prophet/stan_model/prophet_model.bin', 'random', 'seed=13310', 'data', 'file=/tmp/tmp4piqu2qx/b6x99cmi.json', 'init=/tmp/tmp4piqu2qx/7z2wzg41.json', 'output', 'file=/tmp/tmp4piqu2qx/prophet_model0k37785h/prophet_model-20250428155701.csv', 'method=optimize', 'algorithm=lbfgs', 'iter=10000']\n",
            "15:57:01 - cmdstanpy - INFO - Chain [1] start processing\n",
            "INFO:cmdstanpy:Chain [1] start processing\n",
            "15:57:01 - cmdstanpy - INFO - Chain [1] done processing\n",
            "INFO:cmdstanpy:Chain [1] done processing\n",
            "INFO:prophet:Disabling daily seasonality. Run prophet with daily_seasonality=True to override this.\n",
            "DEBUG:cmdstanpy:input tempfile: /tmp/tmp4piqu2qx/uk0fsv0t.json\n"
          ]
        },
        {
          "output_type": "stream",
          "name": "stdout",
          "text": [
            "⚠️ Skipping params {'changepoint_prior_scale': 0.001, 'holidays_prior_scale': 0.1, 'n_changepoints': 20, 'seasonality_mode': 'additive'} due to error: 'trend'\n"
          ]
        },
        {
          "output_type": "stream",
          "name": "stderr",
          "text": [
            "DEBUG:cmdstanpy:input tempfile: /tmp/tmp4piqu2qx/kcw0zqvj.json\n",
            "DEBUG:cmdstanpy:idx 0\n",
            "DEBUG:cmdstanpy:running CmdStan, num_threads: None\n",
            "DEBUG:cmdstanpy:CmdStan args: ['/usr/local/lib/python3.11/dist-packages/prophet/stan_model/prophet_model.bin', 'random', 'seed=74537', 'data', 'file=/tmp/tmp4piqu2qx/uk0fsv0t.json', 'init=/tmp/tmp4piqu2qx/kcw0zqvj.json', 'output', 'file=/tmp/tmp4piqu2qx/prophet_modelwf5yz9cr/prophet_model-20250428155702.csv', 'method=optimize', 'algorithm=lbfgs', 'iter=10000']\n",
            "15:57:02 - cmdstanpy - INFO - Chain [1] start processing\n",
            "INFO:cmdstanpy:Chain [1] start processing\n",
            "15:57:02 - cmdstanpy - INFO - Chain [1] done processing\n",
            "INFO:cmdstanpy:Chain [1] done processing\n",
            "15:57:02 - cmdstanpy - ERROR - Chain [1] error: error during processing Operation not permitted\n",
            "ERROR:cmdstanpy:Chain [1] error: error during processing Operation not permitted\n",
            "WARNING:prophet.models:Optimization terminated abnormally. Falling back to Newton.\n",
            "DEBUG:cmdstanpy:input tempfile: /tmp/tmp4piqu2qx/m_8d0bvh.json\n",
            "DEBUG:cmdstanpy:input tempfile: /tmp/tmp4piqu2qx/_ndnpuei.json\n",
            "DEBUG:cmdstanpy:idx 0\n",
            "DEBUG:cmdstanpy:running CmdStan, num_threads: None\n",
            "DEBUG:cmdstanpy:CmdStan args: ['/usr/local/lib/python3.11/dist-packages/prophet/stan_model/prophet_model.bin', 'random', 'seed=85081', 'data', 'file=/tmp/tmp4piqu2qx/m_8d0bvh.json', 'init=/tmp/tmp4piqu2qx/_ndnpuei.json', 'output', 'file=/tmp/tmp4piqu2qx/prophet_modeln_i83z9t/prophet_model-20250428155702.csv', 'method=optimize', 'algorithm=newton', 'iter=10000']\n",
            "15:57:02 - cmdstanpy - INFO - Chain [1] start processing\n",
            "INFO:cmdstanpy:Chain [1] start processing\n",
            "15:57:27 - cmdstanpy - INFO - Chain [1] done processing\n",
            "INFO:cmdstanpy:Chain [1] done processing\n",
            "INFO:prophet:Disabling daily seasonality. Run prophet with daily_seasonality=True to override this.\n",
            "DEBUG:cmdstanpy:input tempfile: /tmp/tmp4piqu2qx/birgwrth.json\n"
          ]
        },
        {
          "output_type": "stream",
          "name": "stdout",
          "text": [
            "⚠️ Skipping params {'changepoint_prior_scale': 0.001, 'holidays_prior_scale': 0.1, 'n_changepoints': 50, 'seasonality_mode': 'multiplicative'} due to error: 'trend'\n"
          ]
        },
        {
          "output_type": "stream",
          "name": "stderr",
          "text": [
            "DEBUG:cmdstanpy:input tempfile: /tmp/tmp4piqu2qx/seu2itqu.json\n",
            "DEBUG:cmdstanpy:idx 0\n",
            "DEBUG:cmdstanpy:running CmdStan, num_threads: None\n",
            "DEBUG:cmdstanpy:CmdStan args: ['/usr/local/lib/python3.11/dist-packages/prophet/stan_model/prophet_model.bin', 'random', 'seed=54835', 'data', 'file=/tmp/tmp4piqu2qx/birgwrth.json', 'init=/tmp/tmp4piqu2qx/seu2itqu.json', 'output', 'file=/tmp/tmp4piqu2qx/prophet_modelpg4qoncy/prophet_model-20250428155727.csv', 'method=optimize', 'algorithm=lbfgs', 'iter=10000']\n",
            "15:57:27 - cmdstanpy - INFO - Chain [1] start processing\n",
            "INFO:cmdstanpy:Chain [1] start processing\n",
            "15:57:27 - cmdstanpy - INFO - Chain [1] done processing\n",
            "INFO:cmdstanpy:Chain [1] done processing\n",
            "15:57:27 - cmdstanpy - ERROR - Chain [1] error: error during processing Operation not permitted\n",
            "ERROR:cmdstanpy:Chain [1] error: error during processing Operation not permitted\n",
            "WARNING:prophet.models:Optimization terminated abnormally. Falling back to Newton.\n",
            "DEBUG:cmdstanpy:input tempfile: /tmp/tmp4piqu2qx/c0uqutd4.json\n",
            "DEBUG:cmdstanpy:input tempfile: /tmp/tmp4piqu2qx/bmi6k3_l.json\n",
            "DEBUG:cmdstanpy:idx 0\n",
            "DEBUG:cmdstanpy:running CmdStan, num_threads: None\n",
            "DEBUG:cmdstanpy:CmdStan args: ['/usr/local/lib/python3.11/dist-packages/prophet/stan_model/prophet_model.bin', 'random', 'seed=87819', 'data', 'file=/tmp/tmp4piqu2qx/c0uqutd4.json', 'init=/tmp/tmp4piqu2qx/bmi6k3_l.json', 'output', 'file=/tmp/tmp4piqu2qx/prophet_model7nqwvbx7/prophet_model-20250428155727.csv', 'method=optimize', 'algorithm=newton', 'iter=10000']\n",
            "15:57:27 - cmdstanpy - INFO - Chain [1] start processing\n",
            "INFO:cmdstanpy:Chain [1] start processing\n"
          ]
        }
      ]
    },
    {
      "cell_type": "code",
      "source": [
        "print(\"\\nBest Hyperparameters:\")\n",
        "print(best_params)\n",
        "print(f'Best Validation MAE: {best_val_mae:.4f}')"
      ],
      "metadata": {
        "id": "axhLl3MXDrp7"
      },
      "execution_count": null,
      "outputs": []
    },
    {
      "cell_type": "code",
      "source": [
        "# --- Check for Overfitting ---\n",
        "# Train error\n",
        "best_model = Prophet(\n",
        "    seasonality_mode=best_params['seasonality_mode'],\n",
        "    changepoint_prior_scale=best_params['changepoint_prior_scale'],\n",
        "    holidays_prior_scale=best_params['holidays_prior_scale'],\n",
        "    n_changepoints=best_params['n_changepoints']\n",
        ")\n",
        "\n",
        "best_model.fit(train_df)\n",
        "\n",
        "# Predict on training set\n",
        "train_future = train_df[['ds']]\n",
        "train_forecast = best_model.predict(train_future)\n",
        "\n",
        "train_mae = mean_absolute_error(train_df['y'], train_forecast['yhat'])\n",
        "train_rmse = mean_squared_error(train_df['y'], train_forecast['yhat'], squared=False)\n",
        "\n",
        "print(f\"\\nTraining MAE: {train_mae:.4f}\")\n",
        "print(f\"Validation MAE: {best_val_mae:.4f}\")\n",
        "\n",
        "if abs(train_mae - best_val_mae) > 0.1 * train_mae:\n",
        "    print(\"⚠️  Possible overfitting detected (big train vs val error gap).\")\n",
        "else:\n",
        "    print(\"✅ No major overfitting detected.\")\n",
        "\n"
      ],
      "metadata": {
        "id": "vJk__7k7DrzS"
      },
      "execution_count": null,
      "outputs": []
    },
    {
      "cell_type": "code",
      "source": [
        "# --- Final Testing on unseen data ---\n",
        "full_df = pd.concat([train_df, val_df])\n",
        "\n",
        "final_model = Prophet(\n",
        "    seasonality_mode=best_params['seasonality_mode'],\n",
        "    changepoint_prior_scale=best_params['changepoint_prior_scale'],\n",
        "    holidays_prior_scale=best_params['holidays_prior_scale'],\n",
        "    n_changepoints=best_params['n_changepoints']\n",
        ")\n",
        "\n",
        "final_model.fit(full_df)\n",
        "\n",
        "future = test_df[['ds']]\n",
        "forecast = final_model.predict(future)\n",
        "\n",
        "test_pred = forecast['yhat'].values\n",
        "test_true = test_df['y'].values\n",
        "\n",
        "test_mae = mean_absolute_error(test_true, test_pred)\n",
        "test_rmse = mean_squared_error(test_true, test_pred, squared=False)\n",
        "\n",
        "print(f\"\\nTest MAE: {test_mae:.4f}\")\n",
        "print(f\"Test RMSE: {test_rmse:.4f}\")\n",
        "\n",
        "# --- Plot forecast vs actual prices on test set ---\n",
        "plt.figure(figsize=(12,6))\n",
        "plt.plot(test_df['ds'], test_true, label='Actual')\n",
        "plt.plot(test_df['ds'], test_pred, label='Forecast', linestyle='--')\n",
        "plt.xlabel('Date')\n",
        "plt.ylabel('Stock Price')\n",
        "plt.title('Forecast vs Actual Prices on Test Set')\n",
        "plt.legend()\n",
        "plt.grid(True)\n",
        "plt.show()\n"
      ],
      "metadata": {
        "id": "HzuBDjZSDr8B"
      },
      "execution_count": null,
      "outputs": []
    },
    {
      "cell_type": "code",
      "source": [],
      "metadata": {
        "id": "QfBxBpS39HxA"
      },
      "execution_count": null,
      "outputs": []
    },
    {
      "cell_type": "code",
      "source": [],
      "metadata": {
        "id": "K_SWnEXM9H47"
      },
      "execution_count": null,
      "outputs": []
    },
    {
      "cell_type": "code",
      "source": [],
      "metadata": {
        "id": "QvcQV3Fd9IA5"
      },
      "execution_count": null,
      "outputs": []
    },
    {
      "cell_type": "markdown",
      "source": [
        "# creating lag features to be used for DNN and ensemble methods"
      ],
      "metadata": {
        "id": "9c-Ss0j9O3py"
      }
    },
    {
      "cell_type": "code",
      "source": [
        "lags = [1, 7, 30, 365]  # Example: 1-day, 2-day, 5-day, 10-day lags\n",
        "\n",
        "for lag in lags:\n",
        "    data[f'Close_lag_{lag}'] = data['close price'].shift(lag)"
      ],
      "metadata": {
        "id": "ZUa3PxC-O3Dj"
      },
      "execution_count": null,
      "outputs": []
    },
    {
      "cell_type": "code",
      "source": [
        "data = data.dropna()\n",
        "data.head()"
      ],
      "metadata": {
        "id": "L5qXGBOnPeY2"
      },
      "execution_count": null,
      "outputs": []
    },
    {
      "cell_type": "code",
      "source": [
        "data.tail()"
      ],
      "metadata": {
        "id": "fjAyfABFUp4T"
      },
      "execution_count": null,
      "outputs": []
    },
    {
      "cell_type": "code",
      "source": [
        "data['date_column']=data.index\n",
        "data['day'] = data['date_column'].dt.day\n",
        "data['month'] = data['date_column'].dt.month\n",
        "data['year'] = data['date_column'].dt.year\n",
        "data['weekday'] = data['date_column'].dt.day_name()  # Gives full weekday name (e.g., \"Thursday\")\n",
        "#data.drop(columns=['date_column'],inplace=True)\n",
        "data.head()"
      ],
      "metadata": {
        "id": "y27V329CU_EQ"
      },
      "execution_count": null,
      "outputs": []
    },
    {
      "cell_type": "code",
      "source": [
        "data.tail()"
      ],
      "metadata": {
        "id": "PyL5iZ9fcta_"
      },
      "execution_count": null,
      "outputs": []
    },
    {
      "cell_type": "code",
      "source": [
        "#Cyclic Encoding (Best for LSTMs and Time-Series)\n",
        "#Best for LSTM models, as it captures the cyclic nature of time-based data.\n",
        "#Transforms features into sine and cosine to preserve periodicity.\n",
        "# Convert time-based features into cyclic representation\n",
        "data['day_sin'] = np.sin(2 * np.pi * data['day'] / 31)\n",
        "data['day_cos'] = np.cos(2 * np.pi * data['day'] / 31)\n",
        "\n",
        "data['month_sin'] = np.sin(2 * np.pi * data['month'] / 12)\n",
        "data['month_cos'] = np.cos(2 * np.pi * data['month'] / 12)\n",
        "\n",
        "data['year_sin'] = np.sin(2 * np.pi * data['year'] / 365)\n",
        "data['year_cos'] = np.cos(2 * np.pi * data['year'] / 365)\n",
        "data.drop(columns=['day','month','year'],inplace=True)\n",
        "data.head()"
      ],
      "metadata": {
        "id": "aGDDh2jXfinG"
      },
      "execution_count": null,
      "outputs": []
    },
    {
      "cell_type": "code",
      "source": [
        "from sklearn.model_selection import train_test_split\n",
        "X_train, X_test, y_train, y_test = train_test_split(data[['close price',\t'Close_lag_1',\t'Close_lag_7',\t'Close_lag_30',\t'Close_lag_365',\t'day_sin',\t'day_cos', 'month_sin', 'month_cos',\t'year_sin',\t'year_cos', 'weekday']], data['close price'], test_size=0.2, shuffle=False)\n",
        "print(\"Training Dates:\", len(X_train))\n",
        "print(\"Testing Dates:\", len(X_test))\n",
        "X_train.head()"
      ],
      "metadata": {
        "id": "pze5xUOgI5xn"
      },
      "execution_count": null,
      "outputs": []
    },
    {
      "cell_type": "markdown",
      "source": [
        "A lag is a time delay or offset in a time series, representing a past value of a variable used to predict its future values.\n",
        "Example:\n",
        "If you're forecasting sales, a lag of 1 might mean using last month's sales to predict this month's sales.\n",
        "Purpose:\n",
        "Lags help capture the relationships between past and future values of a variable, which can be crucial for accurate forecasting.\n",
        "\n",
        "ARIMA, SARIMA, and Temporal Fusion Transformer (TFT) Models:\n",
        "\n",
        "ARIMA (Autoregressive Integrated Moving Average):\n",
        "A statistical model that uses past values of a time series (autoregressive), differencing to achieve stationarity (integrated), and past forecast errors (moving average) to predict future values.\n",
        "Strengths: Can handle a wide range of time series patterns, including trends and seasonality.\n",
        "Limitations: Assumes linear relationships and may struggle with complex patterns.\n",
        "\n",
        "SARIMA (Seasonal ARIMA):\n",
        "An extension of ARIMA that incorporates seasonal patterns in the data.\n",
        "Strengths: Captures both non-seasonal and seasonal patterns in the data.\n",
        "Limitations: Still assumes linear relationships and may struggle with complex patterns.\n",
        "\n",
        "Temporal Fusion Transformer (TFT):\n",
        "A deep learning model that uses self-attention mechanisms to capture complex temporal patterns across multiple time sequences.\n",
        "Strengths: Can handle complex patterns, multi-horizon forecasting, and interpretability through attention mechanisms.\n",
        "Limitations: Requires a large amount of data and can be computationally expensive"
      ],
      "metadata": {
        "id": "GHSNTdEikRXi"
      }
    },
    {
      "cell_type": "markdown",
      "source": [
        "# LSTM"
      ],
      "metadata": {
        "id": "nL8KLzIEJkOb"
      }
    },
    {
      "cell_type": "code",
      "source": [
        "import tensorflow as tf\n",
        "from tensorflow.keras.models import Sequential\n",
        "from tensorflow.keras.layers import LSTM, Dense, Dropout\n",
        "from sklearn.preprocessing import MinMaxScaler\n",
        "scaler = MinMaxScaler(feature_range=(0,1))\n",
        "X_train.loc[:, ['Close_lag_1', 'Close_lag_7', 'Close_lag_30', 'Close_lag_365']] = scaler.fit_transform(\n",
        "    X_train.loc[:, ['Close_lag_1', 'Close_lag_7', 'Close_lag_30', 'Close_lag_365']]\n",
        ")\n",
        "\n",
        "X_test.loc[:, ['Close_lag_1', 'Close_lag_7', 'Close_lag_30', 'Close_lag_365']] = scaler.transform(\n",
        "    X_test.loc[:, ['Close_lag_1', 'Close_lag_7', 'Close_lag_30', 'Close_lag_365']]\n",
        ")\n",
        "X_train = pd.get_dummies(X_train, columns=['weekday'], drop_first=True)  # drop_first to avoid dummy variable trap\n",
        "X_test = pd.get_dummies(X_test, columns=['weekday'], drop_first=True)\n",
        "\n",
        "X_train.head()"
      ],
      "metadata": {
        "id": "qH6s3-4-XtxR"
      },
      "execution_count": null,
      "outputs": []
    },
    {
      "cell_type": "code",
      "source": [
        "X_test.head()"
      ],
      "metadata": {
        "id": "6_Ej2MPaXt7k"
      },
      "execution_count": null,
      "outputs": []
    },
    {
      "cell_type": "code",
      "source": [
        "print(X_train.shape, X_test.shape)"
      ],
      "metadata": {
        "id": "p_HmiOjXlJSN"
      },
      "execution_count": null,
      "outputs": []
    },
    {
      "cell_type": "code",
      "source": [
        "X_train.shape[0]"
      ],
      "metadata": {
        "id": "rGrtNosMmPx1"
      },
      "execution_count": null,
      "outputs": []
    },
    {
      "cell_type": "code",
      "source": [
        "time_steps = 1\n",
        "# Calculate how many complete sequences you can create\n",
        "num_samples = X_train.shape[0] // time_steps\n",
        "# Reshape the data accordingly\n",
        "X_train_reshaped = X_train.values[:num_samples * time_steps].reshape((num_samples, time_steps, X_train.shape[1]))\n",
        "print(X_train_reshaped.shape)"
      ],
      "metadata": {
        "id": "_FGiuOcarFRz"
      },
      "execution_count": null,
      "outputs": []
    },
    {
      "cell_type": "code",
      "source": [
        "# Ensure your test data is reshaped similarly to the training data\n",
        "# Calculate the number of full sequences in the test data\n",
        "num_samples_test = X_test.shape[0] // time_steps\n",
        "# Reshape X_test into the same shape as X_train_reshaped\n",
        "X_test_reshaped = X_test.values[:num_samples_test * time_steps].reshape((num_samples_test, time_steps, X_test.shape[1]))\n",
        "# Check the new shape of X_test_reshaped\n",
        "print(X_test_reshaped.shape)"
      ],
      "metadata": {
        "id": "dO2mVuvwsa-0"
      },
      "execution_count": null,
      "outputs": []
    },
    {
      "cell_type": "code",
      "source": [
        "X_train_reshaped.dtype\n",
        "# Ensure that your features (X_train_reshaped) are of numeric type\n",
        "X_train_reshaped = X_train_reshaped.astype('float32')\n",
        "\n",
        "# Ensure that your target variable (y_train) is of numeric type\n",
        "y_train = y_train.astype('float32')\n",
        "\n",
        "# Similarly, apply the same for validation data if needed\n",
        "X_test_reshaped = X_test_reshaped.astype('float32')\n",
        "y_test = y_test.astype('float32')"
      ],
      "metadata": {
        "id": "uUdtsk25tyJS"
      },
      "execution_count": null,
      "outputs": []
    },
    {
      "cell_type": "code",
      "source": [
        "# Define the model\n",
        "model = Sequential([\n",
        "    LSTM(50, return_sequences=True, input_shape=(X_train_reshaped.shape[1], X_train_reshaped.shape[2])),  # (time_steps, features)\n",
        "    Dropout(0.2),\n",
        "    LSTM(50, return_sequences=False),\n",
        "    Dropout(0.2),\n",
        "    Dense(25),\n",
        "    Dense(1)\n",
        "])\n",
        "\n",
        "# Compile the model\n",
        "model.compile(optimizer='adam', loss='mean_squared_error')\n",
        "\n",
        "# Train the model\n",
        "model.fit(X_train_reshaped, y_train, epochs=500, batch_size=1000, validation_data=(X_test_reshaped, y_test))\n"
      ],
      "metadata": {
        "id": "uy8-r5GmqmNr"
      },
      "execution_count": null,
      "outputs": []
    },
    {
      "cell_type": "code",
      "source": [
        "# Predict on test data\n",
        "y_pred = model.predict(X_test)\n",
        "\n",
        "# Convert predictions back to original scale\n",
        "y_pred_actual = scaler.inverse_transform(y_pred)\n",
        "y_test_actual = scaler.inverse_transform(y_test.reshape(-1, 1))\n",
        "\n",
        "# Plot actual vs. predicted prices\n",
        "plt.figure(figsize=(10,6))\n",
        "plt.plot(df.index[-len(y_test_actual):], y_test_actual, label=\"Actual Prices\")\n",
        "plt.plot(df.index[-len(y_pred_actual):], y_pred_actual, label=\"Predicted Prices\")\n",
        "plt.legend()\n",
        "plt.title(\"Stock Price Prediction with LSTM\")\n",
        "plt.show()"
      ],
      "metadata": {
        "id": "OvpK5ISDXuRO"
      },
      "execution_count": null,
      "outputs": []
    },
    {
      "cell_type": "code",
      "source": [],
      "metadata": {
        "id": "1e2vRUnuLp7z"
      },
      "execution_count": null,
      "outputs": []
    },
    {
      "cell_type": "code",
      "source": [],
      "metadata": {
        "id": "tS2peOz3Jawr"
      },
      "execution_count": null,
      "outputs": []
    },
    {
      "cell_type": "code",
      "source": [],
      "metadata": {
        "id": "oDv3cWrGJ0ca"
      },
      "execution_count": null,
      "outputs": []
    },
    {
      "cell_type": "code",
      "source": [],
      "metadata": {
        "id": "bb3iV6H6JyQb"
      },
      "execution_count": null,
      "outputs": []
    },
    {
      "cell_type": "code",
      "source": [],
      "metadata": {
        "id": "tEmj-ub3Jq3j"
      },
      "execution_count": null,
      "outputs": []
    }
  ]
}