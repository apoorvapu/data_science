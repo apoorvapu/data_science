{
  "nbformat": 4,
  "nbformat_minor": 0,
  "metadata": {
    "colab": {
      "provenance": [],
      "authorship_tag": "ABX9TyPWh9jg8IkA6CIuByyv6BLq",
      "include_colab_link": true
    },
    "kernelspec": {
      "name": "python3",
      "display_name": "Python 3"
    },
    "language_info": {
      "name": "python"
    }
  },
  "cells": [
    {
      "cell_type": "markdown",
      "metadata": {
        "id": "view-in-github",
        "colab_type": "text"
      },
      "source": [
        "<a href=\"https://colab.research.google.com/github/apoorvapu/data_science/blob/main/Build_ChatBot_TrainedOnBook.ipynb\" target=\"_parent\"><img src=\"https://colab.research.google.com/assets/colab-badge.svg\" alt=\"Open In Colab\"/></a>"
      ]
    },
    {
      "cell_type": "markdown",
      "source": [
        "#**fine-tuning LLM**"
      ],
      "metadata": {
        "id": "wtuYrKODRmus"
      }
    },
    {
      "cell_type": "markdown",
      "source": [],
      "metadata": {
        "id": "8-0m5kBJRlLe"
      }
    },
    {
      "cell_type": "code",
      "source": [
        "import torch\n",
        "import transformers\n",
        "from transformers import AutoModelForCausalLM, AutoTokenizer, TrainingArguments, Trainer\n",
        "from datasets import load_dataset\n",
        "from peft import LoraConfig, get_peft_model\n",
        "import gradio as gr\n",
        "\n",
        "# Load Bible Dataset (You can customize this to use a different translation)\n",
        "dataset = load_dataset(\"Helsinki-NLP/opus-100\", \"en-he\")\n",
        "\n",
        "# Process the dataset into a fine-tuning format\n",
        "def preprocess_data(example):\n",
        "    return {\"input\": example[\"translation\"][\"en\"], \"output\": example[\"translation\"][\"he\"]}\n",
        "\n",
        "dataset = dataset.map(preprocess_data, remove_columns=[\"translation\"])\n",
        "\n",
        "# Load LLaMA 2 Tokenizer and Model (Meta AI's 7B model, using QLoRA for efficient fine-tuning)\n",
        "model_name = \"meta-llama/Llama-2-7b-hf\"\n",
        "tokenizer = AutoTokenizer.from_pretrained(model_name)\n",
        "model = AutoModelForCausalLM.from_pretrained(model_name, load_in_8bit=True, device_map=\"auto\")\n",
        "\n",
        "# Apply QLoRA for memory-efficient fine-tuning\n",
        "lora_config = LoraConfig(r=16, lora_alpha=32, lora_dropout=0.1, target_modules=[\"q_proj\", \"v_proj\"])\n",
        "model = get_peft_model(model, lora_config)\n",
        "\n",
        "# Define Training Arguments\n",
        "training_args = TrainingArguments(\n",
        "    output_dir=\"./bible_llama2\",\n",
        "    per_device_train_batch_size=2,\n",
        "    per_device_eval_batch_size=2,\n",
        "    gradient_accumulation_steps=4,\n",
        "    evaluation_strategy=\"epoch\",\n",
        "    save_strategy=\"epoch\",\n",
        "    logging_dir=\"./logs\",\n",
        "    num_train_epochs=3,\n",
        "    save_total_limit=2,\n",
        "    load_best_model_at_end=True,\n",
        ")\n",
        "\n",
        "# Trainer Setup\n",
        "trainer = Trainer(\n",
        "    model=model,\n",
        "    args=training_args,\n",
        "    train_dataset=dataset[\"train\"],\n",
        "    eval_dataset=dataset[\"validation\"],\n",
        ")\n",
        "\n",
        "# Fine-tune the model\n",
        "trainer.train()\n",
        "\n",
        "# Save the fine-tuned model\n",
        "model.save_pretrained(\"./bible_llama2\")\n",
        "tokenizer.save_pretrained(\"./bible_llama2\")\n",
        "\n",
        "# Load Fine-tuned Model for Chatbot\n",
        "model = AutoModelForCausalLM.from_pretrained(\"./bible_llama2\", device_map=\"auto\")\n",
        "tokenizer = AutoTokenizer.from_pretrained(\"./bible_llama2\")\n",
        "\n",
        "def chatbot_response(prompt):\n",
        "    input_ids = tokenizer(prompt, return_tensors=\"pt\").input_ids.to(model.device)\n",
        "    output = model.generate(input_ids, max_length=150)\n",
        "    response = tokenizer.decode(output[0], skip_special_tokens=True)\n",
        "    return response\n",
        "\n",
        "# Create a ChatGPT-style Interface\n",
        "def chat_interface(user_input):\n",
        "    return chatbot_response(user_input)\n",
        "\n",
        "# Gradio Chatbot UI\n",
        "gui = gr.Interface(fn=chat_interface,\n",
        "                   inputs=\"text\",\n",
        "                   outputs=\"text\",\n",
        "                   title=\"Bible Chatbot\",\n",
        "                   description=\"Ask anything about the Bible and get responses!\")\n",
        "\n",
        "gui.launch()\n"
      ],
      "metadata": {
        "id": "ov7jdMJLR0Wc"
      },
      "execution_count": null,
      "outputs": []
    },
    {
      "cell_type": "code",
      "source": [],
      "metadata": {
        "id": "UrTNCctLSN3K"
      },
      "execution_count": null,
      "outputs": []
    },
    {
      "cell_type": "code",
      "source": [],
      "metadata": {
        "id": "EC6E3EQMSVfv"
      },
      "execution_count": null,
      "outputs": []
    },
    {
      "cell_type": "code",
      "source": [],
      "metadata": {
        "id": "WkEjpe4ySox-"
      },
      "execution_count": null,
      "outputs": []
    },
    {
      "cell_type": "code",
      "source": [],
      "metadata": {
        "id": "mgrNKCh9T5zO"
      },
      "execution_count": null,
      "outputs": []
    }
  ]
}