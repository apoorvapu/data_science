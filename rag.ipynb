{
  "cells": [
    {
      "cell_type": "markdown",
      "metadata": {
        "id": "view-in-github"
      },
      "source": [
        "<a href=\"https://colab.research.google.com/github/apoorvapu/data_science/blob/main/rag.ipynb\" target=\"_parent\"><img src=\"https://colab.research.google.com/assets/colab-badge.svg\" alt=\"Open In Colab\"/></a>"
      ]
    },
    {
      "cell_type": "markdown",
      "metadata": {
        "id": "DKv51c_h9-9H"
      },
      "source": [
        "\n",
        "\n",
        "RAG:\n",
        "\n",
        "<img src=\"https://huggingface.co/datasets/huggingface/cookbook-images/resolve/main/RAG_workflow.png\" height=\"700\">\n",
        "\n"
      ]
    },
    {
      "cell_type": "code",
      "execution_count": 40,
      "metadata": {
        "id": "NSX0p0rV9-9I"
      },
      "outputs": [],
      "source": [
        "!pip install -q torch transformers accelerate bitsandbytes langchain sentence-transformers faiss-cpu openpyxl pacmap datasets langchain-community ragatouille"
      ]
    },
    {
      "cell_type": "code",
      "execution_count": 41,
      "metadata": {
        "id": "eoujYMwW9-9J"
      },
      "outputs": [],
      "source": [
        "from tqdm.notebook import tqdm\n",
        "import pandas as pd\n",
        "from typing import Optional, List, Tuple\n",
        "from datasets import Dataset\n",
        "import matplotlib.pyplot as plt\n",
        "\n",
        "pd.set_option(\n",
        "    \"display.max_colwidth\", None\n",
        ")  # This will be helpful when visualizing retriever outputs"
      ]
    },
    {
      "cell_type": "markdown",
      "metadata": {
        "id": "Kr6rN10U9-9J"
      },
      "source": [
        "### Load your knowledge base"
      ]
    },
    {
      "cell_type": "code",
      "execution_count": 42,
      "metadata": {
        "id": "qZLVIEVW9-9J"
      },
      "outputs": [],
      "source": [
        "import datasets\n",
        "\n",
        "ds = datasets.load_dataset(\"knowrohit07/gita_dataset\", split=\"train[:695]\")"
      ]
    },
    {
      "cell_type": "code",
      "source": [
        "ds"
      ],
      "metadata": {
        "colab": {
          "base_uri": "https://localhost:8080/"
        },
        "id": "gE3G4OJ8_zKE",
        "outputId": "c606225e-ae04-4016-b3c6-1ccc11a3efa0"
      },
      "execution_count": 43,
      "outputs": [
        {
          "output_type": "execute_result",
          "data": {
            "text/plain": [
              "Dataset({\n",
              "    features: ['Chapter', 'sentence_range', 'Text'],\n",
              "    num_rows: 695\n",
              "})"
            ]
          },
          "metadata": {},
          "execution_count": 43
        }
      ]
    },
    {
      "cell_type": "code",
      "source": [
        "ds[0]"
      ],
      "metadata": {
        "colab": {
          "base_uri": "https://localhost:8080/"
        },
        "id": "X123g0lsFALY",
        "outputId": "1a3c1ead-0451-470e-f2ce-772db6fd8f45"
      },
      "execution_count": 64,
      "outputs": [
        {
          "output_type": "execute_result",
          "data": {
            "text/plain": [
              "{'Chapter': '1',\n",
              " 'sentence_range': '1-3',\n",
              " 'Text': 'Dhritarashtra said: What did my (people) and the Pandavas do, O Sangaya! when they assembled together on the holy field of Kurukshetra, desirous to do battle? Sangaya said: Seeing the army of the Pandavas drawn up in battlearray, the prince Duryodhana approached his preceptor, and spoke (these) words: `O preceptor! observe this grand army of the sons of Pandu, drawn up in battle-array by your talented pupil, the son of Drupada.'}"
            ]
          },
          "metadata": {},
          "execution_count": 64
        }
      ]
    },
    {
      "cell_type": "code",
      "source": [
        "ds[100]"
      ],
      "metadata": {
        "colab": {
          "base_uri": "https://localhost:8080/"
        },
        "id": "ZrYLMhPIFC4R",
        "outputId": "82a6ea75-5e10-45f8-9fb9-dd27992b20d7"
      },
      "execution_count": 65,
      "outputs": [
        {
          "output_type": "execute_result",
          "data": {
            "text/plain": [
              "{'Chapter': '2',\n",
              " 'sentence_range': '55-57',\n",
              " 'Text': 'The Deity said: When a man, O son of Pritha! abandons all the desires of his heart, and is pleased in his self only and by his self, he is then called of a steady mind. He whose heart is not agitated in the midst of calamities, who has no longing for pleasures, and from whom (the feelings of) affection, fear, and wrath have departed, is called a sage of a steady mind. His mind is steady, who, being without attachments anywhere, feels no exultation and no aversion on encountering, the various agreeable and disagreeable (things of this world).'}"
            ]
          },
          "metadata": {},
          "execution_count": 65
        }
      ]
    },
    {
      "cell_type": "code",
      "source": [
        "ds[600]"
      ],
      "metadata": {
        "colab": {
          "base_uri": "https://localhost:8080/"
        },
        "id": "FeKyEbTCFE_y",
        "outputId": "987417ab-e13b-4112-e4e1-9c1fce3a04c5"
      },
      "execution_count": 66,
      "outputs": [
        {
          "output_type": "execute_result",
          "data": {
            "text/plain": [
              "{'Chapter': '17',\n",
              " 'sentence_range': '8-10',\n",
              " 'Text': 'The kinds of food which increase life, energy, strength, health, comfort, and relish, which are savoury, oleaginous, full of nutrition, and agreeable, are liked by the good. The kinds of food which are bitter, acid, saltish, too hot, sharp, rough, and burning, and which cause pain, grief, and disease, are desired by the passionate. And the food which is cold, tasteless, stinking, stale, impure, and even leavings, are liked by the dark.'}"
            ]
          },
          "metadata": {},
          "execution_count": 66
        }
      ]
    },
    {
      "cell_type": "code",
      "execution_count": 44,
      "metadata": {
        "colab": {
          "base_uri": "https://localhost:8080/",
          "height": 49,
          "referenced_widgets": [
            "a98aec616afe4a4192711674f385107f",
            "411d6b9cce73474a9f7d646c957fe445",
            "9bfb956f66484d82a53671be0b031418",
            "e025c8e95b734aa18a4de7a8caa358fc",
            "c7a34f3ee17445f78ffa7ff3d4628a2d",
            "dbcc6efefded4f668b13790cb66e00d2",
            "844c0534f435472683998bc5833e95ac",
            "1a74b14aa4094c3388087eb2fbbc160f",
            "1442ee411bf04a85b86ede0cbcf74fb6",
            "8c408a20ab3846b289e1bd460ae71a24",
            "354f0ff7ab2b4c3c82d9715b27e4691f"
          ]
        },
        "id": "836Q7vF49-9K",
        "outputId": "f4327fb0-cccd-4e1c-e30c-904e0eb6f462"
      },
      "outputs": [
        {
          "output_type": "display_data",
          "data": {
            "text/plain": [
              "  0%|          | 0/695 [00:00<?, ?it/s]"
            ],
            "application/vnd.jupyter.widget-view+json": {
              "version_major": 2,
              "version_minor": 0,
              "model_id": "a98aec616afe4a4192711674f385107f"
            }
          },
          "metadata": {}
        }
      ],
      "source": [
        "from langchain.docstore.document import Document as LangchainDocument\n",
        "\n",
        "RAW_KNOWLEDGE_BASE = [\n",
        "    LangchainDocument(page_content=doc[\"Text\"], metadata={\"Chapter\": doc[\"Chapter\"]})\n",
        "    for doc in tqdm(ds)\n",
        "]"
      ]
    },
    {
      "cell_type": "markdown",
      "metadata": {
        "id": "0_LxjD5h9-9K"
      },
      "source": [
        "given a user question, find the most relevant snippets from our knowledge base to answer that question.\n",
        "\n",
        "How many snippets should we retrieve? This parameter will be named `top_k`.\n",
        "\n",
        "How long should these snippets be? This is called the `chunk size`."
      ]
    },
    {
      "cell_type": "code",
      "execution_count": 45,
      "metadata": {
        "id": "M4m6TwDJ9-9L"
      },
      "outputs": [],
      "source": [
        "from langchain.text_splitter import RecursiveCharacterTextSplitter\n",
        "\n",
        "# We use a hierarchical list of separators specifically tailored for splitting Markdown documents\n",
        "# This list is taken from LangChain's MarkdownTextSplitter class\n",
        "SEPARATORS = [\n",
        "    \"\\n\",\n",
        "    \" \",\n",
        "]\n",
        "\n",
        "text_splitter = RecursiveCharacterTextSplitter(\n",
        "    chunk_size=1000,  # The maximum number of characters in a chunk: we selected this value arbitrarily\n",
        "    chunk_overlap=100,  # The number of characters to overlap between chunks\n",
        "    add_start_index=True,  # If `True`, includes chunk's start index in metadata\n",
        "    strip_whitespace=True,  # If `True`, strips whitespace from the start and end of every document\n",
        "    separators=SEPARATORS,\n",
        ")\n",
        "\n",
        "docs_processed = []\n",
        "for doc in RAW_KNOWLEDGE_BASE:\n",
        "    docs_processed += text_splitter.split_documents([doc])"
      ]
    },
    {
      "cell_type": "code",
      "source": [
        "docs_processed[0]"
      ],
      "metadata": {
        "colab": {
          "base_uri": "https://localhost:8080/"
        },
        "id": "MZM0_LSG_8Bf",
        "outputId": "e75a6912-6978-45d2-efa3-ff9c1ecce48b"
      },
      "execution_count": 46,
      "outputs": [
        {
          "output_type": "execute_result",
          "data": {
            "text/plain": [
              "Document(metadata={'Chapter': '1', 'start_index': 0}, page_content='Dhritarashtra said: What did my (people) and the Pandavas do, O Sangaya! when they assembled together on the holy field of Kurukshetra, desirous to do battle? Sangaya said: Seeing the army of the Pandavas drawn up in battlearray, the prince Duryodhana approached his preceptor, and spoke (these) words: `O preceptor! observe this grand army of the sons of Pandu, drawn up in battle-array by your talented pupil, the son of Drupada.')"
            ]
          },
          "metadata": {},
          "execution_count": 46
        }
      ]
    },
    {
      "cell_type": "code",
      "source": [
        "docs_processed[100]"
      ],
      "metadata": {
        "colab": {
          "base_uri": "https://localhost:8080/"
        },
        "id": "k6sCNzD5_-pO",
        "outputId": "2e8d1ff7-e0ae-4640-b6ff-8bcd4e475ddd"
      },
      "execution_count": 47,
      "outputs": [
        {
          "output_type": "execute_result",
          "data": {
            "text/plain": [
              "Document(metadata={'Chapter': '2', 'start_index': 0}, page_content='The Deity said: When a man, O son of Pritha! abandons all the desires of his heart, and is pleased in his self only and by his self, he is then called of a steady mind. He whose heart is not agitated in the midst of calamities, who has no longing for pleasures, and from whom (the feelings of) affection, fear, and wrath have departed, is called a sage of a steady mind. His mind is steady, who, being without attachments anywhere, feels no exultation and no aversion on encountering, the various agreeable and disagreeable (things of this world).')"
            ]
          },
          "metadata": {},
          "execution_count": 47
        }
      ]
    },
    {
      "cell_type": "code",
      "source": [
        "docs_processed[694]"
      ],
      "metadata": {
        "colab": {
          "base_uri": "https://localhost:8080/"
        },
        "id": "ldCSD_dPDjTc",
        "outputId": "5694d6f3-c2a7-4aba-8a49-329042ff4664"
      },
      "execution_count": 49,
      "outputs": [
        {
          "output_type": "execute_result",
          "data": {
            "text/plain": [
              "Document(metadata={'Chapter': '18', 'start_index': 0}, page_content='Sangaya said: Thus did I hear this dialogue between Vasudeva and the high-minded son of Pritha, (a dialogue) wonderful and causing the hair to stand on end. By the favour of Vyasa, I heard this highest mystery, (this) devotion, from Krishna himself, the lord of the possessors of mystic power, who proclaimed it in person. O king! remembering and (again) remembering this wonderful and holy dialogue of Kesava and Arguna, I rejoice over and over again.')"
            ]
          },
          "metadata": {},
          "execution_count": 49
        }
      ]
    },
    {
      "cell_type": "markdown",
      "metadata": {
        "id": "d5jJUMgb9-9M"
      },
      "source": [
        "We also have to keep in mind that when embedding documents, we will use an embedding model that accepts a certain maximum sequence length `max_seq_length`.\n",
        "\n",
        "So we should make sure that our chunk sizes are below this limit because any longer chunk will be truncated before processing, thus losing relevancy."
      ]
    },
    {
      "cell_type": "code",
      "execution_count": 50,
      "metadata": {
        "colab": {
          "base_uri": "https://localhost:8080/",
          "height": 501,
          "referenced_widgets": [
            "b552bf2516fa452f9dcc8276f5114265",
            "16129802a6cf4849b86521681620b0c9",
            "b9b70be3b7964bad9ecb8456c6c8c393",
            "353baa3aa5cd4a5f92ee8f1081dd806a",
            "e3bb5a6b8d694cfc85f18d81cd463416",
            "0f506023b7e549b9b8a9f478e448a8cd",
            "9f18113873534c3c83b0e0179bad4dcd",
            "9e2c0a9b780949ef883c5e47a420d180",
            "6ccd9237d79e41bf9f6eca8ea8b0762a",
            "496a553529374610a4c4bdcbebb9ec68",
            "0ea707a612a0401b9e5e197887262472"
          ]
        },
        "id": "B4hoki349-9M",
        "outputId": "b8456034-0fd0-4c05-ef9c-04ee0d4ce054"
      },
      "outputs": [
        {
          "output_type": "stream",
          "name": "stdout",
          "text": [
            "Model's maximum sequence length: 512\n"
          ]
        },
        {
          "output_type": "display_data",
          "data": {
            "text/plain": [
              "  0%|          | 0/695 [00:00<?, ?it/s]"
            ],
            "application/vnd.jupyter.widget-view+json": {
              "version_major": 2,
              "version_minor": 0,
              "model_id": "b552bf2516fa452f9dcc8276f5114265"
            }
          },
          "metadata": {}
        },
        {
          "output_type": "display_data",
          "data": {
            "text/plain": [
              "<Figure size 640x480 with 1 Axes>"
            ],
            "image/png": "[encoded data removed]"
          },
          "metadata": {}
        }
      ],
      "source": [
        "from sentence_transformers import SentenceTransformer\n",
        "\n",
        "# To get the value of the max sequence_length, we will query the underlying `SentenceTransformer` object used in the RecursiveCharacterTextSplitter\n",
        "print(\n",
        "    f\"Model's maximum sequence length: {SentenceTransformer('thenlper/gte-small').max_seq_length}\"\n",
        ")\n",
        "\n",
        "from transformers import AutoTokenizer\n",
        "\n",
        "tokenizer = AutoTokenizer.from_pretrained(\"thenlper/gte-small\")\n",
        "lengths = [len(tokenizer.encode(doc.page_content)) for doc in tqdm(docs_processed)]\n",
        "\n",
        "# Plot the distribution of document lengths, counted as the number of tokens\n",
        "fig = pd.Series(lengths).hist()\n",
        "plt.title(\"Distribution of document lengths in the knowledge base (in count of tokens)\")\n",
        "plt.show()"
      ]
    },
    {
      "cell_type": "markdown",
      "metadata": {
        "id": "L3teXczl9-9M"
      },
      "source": [
        "👀 As you can see, __the chunk lengths are not aligned with our limit of 512 tokens__, and some documents are above the limit, thus some part of them will be lost in truncation!\n",
        " - So we should change the `RecursiveCharacterTextSplitter` class to count length in number of tokens instead of number of characters.\n",
        " - Then we can choose a specific chunk size, here we would choose a lower threshold than 512:\n",
        "    - Smaller documents could allow the split to focus more on specific ideas.\n",
        "    - But too small chunks would split sentences in half, thus losing meaning again: the proper tuning is a matter of balance."
      ]
    },
    {
      "cell_type": "code",
      "execution_count": 51,
      "metadata": {
        "colab": {
          "base_uri": "https://localhost:8080/",
          "height": 484,
          "referenced_widgets": [
            "2f09e863c67546909570aea16ae84796",
            "92d609545bd64306b4b0a524c5ab2bf7",
            "1a093b2094494c2f88d06009fd878160",
            "07734388fd514bf7b36ae6c29a6d006a",
            "eb7bd892d25f4cc7bc232ae4241ba9d5",
            "bc8754811f0d4952b1573fce37ef6ea6",
            "054851a66f2b41ecb96564ee0c90573a",
            "80bb7cbc435f477d98eeb5a5be4e6fca",
            "18a8f56ea8cd4147a9c253d2bc5ca374",
            "54ba9e6566004c51a4fc2d3b94984b75",
            "8c3d46ca078f4f58b96e99c8e56f2542"
          ]
        },
        "id": "9hvIL2jO9-9M",
        "outputId": "6ab80280-12b5-49cc-f573-47df913bcf77"
      },
      "outputs": [
        {
          "output_type": "display_data",
          "data": {
            "text/plain": [
              "  0%|          | 0/695 [00:00<?, ?it/s]"
            ],
            "application/vnd.jupyter.widget-view+json": {
              "version_major": 2,
              "version_minor": 0,
              "model_id": "2f09e863c67546909570aea16ae84796"
            }
          },
          "metadata": {}
        },
        {
          "output_type": "display_data",
          "data": {
            "text/plain": [
              "<Figure size 640x480 with 1 Axes>"
            ],
            "image/png": "[encoded data removed]"
          },
          "metadata": {}
        }
      ],
      "source": [
        "from langchain.text_splitter import RecursiveCharacterTextSplitter\n",
        "from transformers import AutoTokenizer\n",
        "\n",
        "EMBEDDING_MODEL_NAME = \"thenlper/gte-small\"\n",
        "\n",
        "\n",
        "def split_documents(\n",
        "    chunk_size: int,\n",
        "    knowledge_base: List[LangchainDocument],\n",
        "    tokenizer_name: Optional[str] = EMBEDDING_MODEL_NAME,\n",
        ") -> List[LangchainDocument]:\n",
        "    \"\"\"\n",
        "    Split documents into chunks of maximum size `chunk_size` tokens and return a list of documents.\n",
        "    \"\"\"\n",
        "    text_splitter = RecursiveCharacterTextSplitter.from_huggingface_tokenizer(\n",
        "        AutoTokenizer.from_pretrained(tokenizer_name),\n",
        "        chunk_size=chunk_size,\n",
        "        chunk_overlap=int(chunk_size / 10),\n",
        "        add_start_index=True,\n",
        "        strip_whitespace=True,\n",
        "        separators=SEPARATORS,\n",
        "    )\n",
        "\n",
        "    docs_processed = []\n",
        "    for doc in knowledge_base:\n",
        "        docs_processed += text_splitter.split_documents([doc])\n",
        "\n",
        "    # Remove duplicates\n",
        "    unique_texts = {}\n",
        "    docs_processed_unique = []\n",
        "    for doc in docs_processed:\n",
        "        if doc.page_content not in unique_texts:\n",
        "            unique_texts[doc.page_content] = True\n",
        "            docs_processed_unique.append(doc)\n",
        "\n",
        "    return docs_processed_unique\n",
        "\n",
        "\n",
        "docs_processed = split_documents(\n",
        "    512,  # We choose a chunk size adapted to our model\n",
        "    RAW_KNOWLEDGE_BASE,\n",
        "    tokenizer_name=EMBEDDING_MODEL_NAME,\n",
        ")\n",
        "\n",
        "# Let's visualize the chunk sizes we would have in tokens from a common model\n",
        "from transformers import AutoTokenizer\n",
        "\n",
        "tokenizer = AutoTokenizer.from_pretrained(EMBEDDING_MODEL_NAME)\n",
        "lengths = [len(tokenizer.encode(doc.page_content)) for doc in tqdm(docs_processed)]\n",
        "fig = pd.Series(lengths).hist()\n",
        "plt.title(\"Distribution of document lengths in the knowledge base (in count of tokens)\")\n",
        "plt.show()"
      ]
    },
    {
      "cell_type": "markdown",
      "metadata": {
        "id": "Wc3riwX39-9M"
      },
      "source": [
        "➡️ Now the chunk length distribution looks better!"
      ]
    },
    {
      "cell_type": "markdown",
      "metadata": {
        "id": "J1ho-UKM9-9M"
      },
      "source": [
        "### 1.2 Building the vector database\n",
        "\n",
        "#### How does retrieval work?\n",
        "\n",
        "Once the chunks are all embedded, we store them in a vector database. When the user types in a query, it gets embedded by the same model previously used, and a similarity search returns the closest documents from the vector database.\n",
        "\n",
        "The technical challenge is thus, given a query vector, to quickly find the nearest neighbors of this vector in the vector database. To do this, we need to choose two things: a distance, and a search algorithm to find the nearest neighbors quickly within a database of thousands of records.\n",
        "\n",
        "##### Nearest Neighbor search algorithm\n",
        "\n",
        "There are plentiful choices for the nearest neighbor search algorithm: we go with Facebook's [FAISS](https://github.com/facebookresearch/faiss) since FAISS is performant enough for most use cases, and it is well known and thus widely implemented.\n",
        "\n",
        "##### Distances\n",
        "\n",
        "- **Cosine similarity** computes the similarity between two vectors as the cosinus of their relative angle: it allows us to compare vector directions regardless of their magnitude. Using it requires normalizing all vectors, to rescale them into unit norm.\n",
        "- **Dot product** takes into account magnitude, with the sometimes undesirable effect that increasing a vector's length will make it more similar to all others.\n",
        "- **Euclidean distance** is the distance between the ends of vectors.\n",
        "\n",
        "cosine similarity: choose this distance, and we set it up both in the Embedding model, and in the `distance_strategy` argument of our FAISS index. With cosine similarity, we have to normalize our embeddings."
      ]
    },
    {
      "cell_type": "code",
      "execution_count": 52,
      "metadata": {
        "id": "dalledM99-9M"
      },
      "outputs": [],
      "source": [
        "from langchain.vectorstores import FAISS\n",
        "from langchain_community.embeddings import HuggingFaceEmbeddings\n",
        "from langchain_community.vectorstores.utils import DistanceStrategy\n",
        "\n",
        "embedding_model = HuggingFaceEmbeddings(\n",
        "    model_name=EMBEDDING_MODEL_NAME,\n",
        "    multi_process=True,\n",
        "    model_kwargs={\"device\": \"cuda\"},\n",
        "    encode_kwargs={\"normalize_embeddings\": True},  # Set `True` for cosine similarity\n",
        ")\n",
        "\n",
        "KNOWLEDGE_VECTOR_DATABASE = FAISS.from_documents(\n",
        "    docs_processed, embedding_model, distance_strategy=DistanceStrategy.COSINE\n",
        ")"
      ]
    },
    {
      "cell_type": "markdown",
      "metadata": {
        "id": "0zM-wfiJ9-9N"
      },
      "source": [
        "👀 To visualize the search for the closest documents, let's project our embeddings from 384 dimensions down to 2 dimensions using PaCMAP."
      ]
    },
    {
      "cell_type": "code",
      "execution_count": 53,
      "metadata": {
        "id": "rhvcE3vH9-9N"
      },
      "outputs": [],
      "source": [
        "# Embed a user query in the same space\n",
        "user_query = \"Who is Arjuna speaking to?\"\n",
        "query_vector = embedding_model.embed_query(user_query)"
      ]
    },
    {
      "cell_type": "code",
      "execution_count": 54,
      "metadata": {
        "colab": {
          "base_uri": "https://localhost:8080/"
        },
        "id": "l8nz5FYC9-9N",
        "outputId": "efd52575-0863-410d-cb46-fa5c87e4048a"
      },
      "outputs": [
        {
          "output_type": "stream",
          "name": "stderr",
          "text": [
            "WARNING:pacmap.pacmap:Warning: random state is set to 1.\n"
          ]
        }
      ],
      "source": [
        "import pacmap\n",
        "import numpy as np\n",
        "import plotly.express as px\n",
        "\n",
        "embedding_projector = pacmap.PaCMAP(\n",
        "    n_components=2, n_neighbors=None, MN_ratio=0.5, FP_ratio=2.0, random_state=1\n",
        ")\n",
        "\n",
        "embeddings_2d = [\n",
        "    list(KNOWLEDGE_VECTOR_DATABASE.index.reconstruct_n(idx, 1)[0])\n",
        "    for idx in range(len(docs_processed))\n",
        "] + [query_vector]\n",
        "\n",
        "# Fit the data (the index of transformed data corresponds to the index of the original data)\n",
        "documents_projected = embedding_projector.fit_transform(\n",
        "    np.array(embeddings_2d), init=\"pca\"\n",
        ")"
      ]
    },
    {
      "cell_type": "code",
      "execution_count": 55,
      "metadata": {
        "colab": {
          "base_uri": "https://localhost:8080/",
          "height": 717
        },
        "id": "7Cl9Fw2A9-9N",
        "outputId": "637e3227-c4b1-4312-931e-33060cdd767b"
      },
      "outputs": [
        {
          "output_type": "display_data",
          "data": {
            "text/html": [
              "<html>\n",
              "<head><meta charset=\"utf-8\" /></head>\n",
              "<body>\n",
              "    <div>            <script src=\"https://cdnjs.cloudflare.com/ajax/libs/mathjax/2.7.5/MathJax.js?config=TeX-AMS-MML_SVG\"></script><script type=\"text/javascript\">if (window.MathJax && window.MathJax.Hub && window.MathJax.Hub.Config) {window.MathJax.Hub.Config({SVG: {font: \"STIX-Web\"}});}</script>                <script type=\"text/javascript\">window.PlotlyConfig = {MathJaxConfig: 'local'};</script>\n",
              "        <script charset=\"utf-8\" src=\"https://cdn.plot.ly/plotly-2.35.2.min.js\"></script>                <div id=\"783c8994-88b6-4eeb-9f39-4becabdef97d\" class=\"plotly-graph-div\" style=\"height:700px; width:1000px;\"></div>            <script type=\"text/javascript\">                                    window.PLOTLYENV=window.PLOTLYENV || {};                                    if (document.getElementById(\"783c8994-88b6-4eeb-9f39-4becabdef97d\")) {                    Plotly.newPlot(                        \"783c8994-88b6-4eeb-9f39-4becabdef97d\",                        [{\"customdata\":[[\"Dhritarashtra said: What did my (people) and the Pandavas do, O Sangaya! when they assembled togethe...\"],[\"Sangaya said: Seeing the army of the Pandavas drawn up in battlearray, the prince Duryodhana approac...\"],[\"`O preceptor! observe this grand army of the sons of Pandu, drawn up in battle-array by your talente...\"],[\"In it are heroes (bearing) large bows, the equals of Bhima and Arguna in battle (namely), Yuyudhana,...\"],[\"Dhrishtaketu, Kekitana, and the valiant king of Kasi, Purugit and Kuntibhoga, and that eminent man S...\"],[\"the heroic Yudhamanyu, the valiant Uttamaugas, the son of Subhadra, and the sons of Draupadi all mas...\"],[\"And now, O best of Brahmanas! learn who are most distinguished among us, and are leaders of my army....\"],[\"Yourself, and Bhishma, and Karna, and Kripa the victor of (many) battles; Asvatthaman, and Vikarna, ...\"],[\"and many other brave men, who have given up their lives for me, who fight with various weapons, (and...\"],[\"Thus our army which is protected by Bhishma is unlimited; while this army of theirs which is protect...\"],[\"And therefore do ye all, occupying respectively the positions I assigned to you, protect Bhishma onl...\"],[\"Then his powerful grandsire, Bhishma, the oldest of the Kauravas, roaring aloud like a lion, blew hi...\"],[\"And then all at once, conchs, and kettledrums, and tabors, and trumpets were played upon; and there ...\"],[\"Then, too, Madhava and the son of Pandu (Arguna), seated in a grand chariot to which white steeds we...\"],[\"Hrishikesa blew the Pankaganya, and Dhanangaya the Devadatta, and Bhima, (the doer) of fearful deeds...\"],[\"King Yudhishthira, the son of Kunti, blew the Anantavigaya and Nakula and Sahadeva (respectively) th...\"],[\"And the king of Kasi, too, who has an excellent bow, and Sikhandin, the master of a great car, and D...\"],[\"Drupada, and the sons of Draupadi, and the son of Subhadra, of mighty arms, blew conchs severally fr...\"],[\"That tumultuous din rent the hearts of all (the people) of Dhritarashtra's (party), causing reverber...\"],[\"Then seeing (the people of) Dhritarashtra's party regularly marshalled, the son of Pandu, whose stan...\"],[\"`O undegraded one! station my chariot between the two armies, while I observe those, who stand here ...\"],[\"while I observe those, who stand here desirous to engage in battle, and with whom, in the labours of...\"],[\"I will observe those who are assembled here and who are about to engage in battle, wishing to do ser...\"],[\"Sangaya said: Thus addressed by Gudakesa, O descendant of Bharata! Hrishikesa stationed that excelle...\"],[\"and said: `O son of Pritha! look at these assembled Kauravas.' There the son of Pritha saw in both a...\"],[\"There the son of Pritha saw in both armies, fathers and grandfathers, preceptors, maternal uncles, b...\"],[\"And seeing all those kinsmen standing (there), the son of Kunti was overcome by excessive pity, and ...\"],[\"Arguna said: Seeing these kinsmen, O Krishna! standing (here) anxious to engage in battle, my limbs ...\"],[\"my mouth is quite dried up; a tremor comes over my body; and my hairs stand on end; the Gandiva (bow...\"],[\"I am unable, too, to stand up; my mind whirls round, as it were; O Kesava! I see adverse omens; and ...\"],[\"and I do not perceive any good (likely to accrue) after killing (my) kinsmen in the battle. I do not...\"],[\"what is sovereignty to us, O Govinda! what enjoyments, and even life? Even those, for whose sake we ...\"],[\"Even those, for whose sake we desire sovereignty, enjoyments, and pleasures, are standing here for b...\"],[\"maternal uncles, fathers-in-law, grandsons, brothers-in-law, as also (other) relatives. These I do n...\"],[\"What joy shall be ours, O Ganardana! after killing Dhritarishtra's sons? Killing these felons we sha...\"],[\"Killing these felons we shall only incur sin. Therefore it is not proper for us to kill our own kins...\"],[\"Although they have their consciences corrupted by avarice, they do not see the evils flowing from th...\"],[\"still, O Ganardana! should not we, who do see the evils flowing from the extinction of a family, lea...\"],[\"On the extinction of a family, the eternal rites of families are destroyed. Those rites being destro...\"],[\"In consequence of the predominance of impiety, O Krishna! the women of the family become corrupt; an...\"],[\"that intermingling necessarily leads the family and the destroyers of the family to hell; for when t...\"],[\"By these transgressions of the destroyers of families, which occasion interminglings of castes, the ...\"],[\"And O Ganardana! we have heard that men whose family-rites are subverted, must necessarily live in h...\"],[\"Alas! we are engaged in committing a heinous sin, seeing that we are making efforts for killing our ...\"]],\"hovertemplate\":\"Chapter=1\\u003cbr\\u003esymbol=circle\\u003cbr\\u003ex=%{x}\\u003cbr\\u003ey=%{y}\\u003cbr\\u003esize_col=%{marker.size}\\u003cbr\\u003eextract=%{customdata[0]}\\u003cextra\\u003e\\u003c\\u002fextra\\u003e\",\"legendgroup\":\"1, circle\",\"marker\":{\"color\":\"#EF553B\",\"size\":[4,4,4,4,4,4,4,4,4,4,4,4,4,4,4,4,4,4,4,4,4,4,4,4,4,4,4,4,4,4,4,4,4,4,4,4,4,4,4,4,4,4,4,4],\"sizemode\":\"area\",\"sizeref\":0.25,\"symbol\":\"circle\",\"line\":{\"color\":\"DarkSlateGrey\",\"width\":0},\"opacity\":1},\"mode\":\"markers\",\"name\":\"1, circle\",\"orientation\":\"v\",\"showlegend\":true,\"x\":[9.4137945,9.328017,10.0209675,10.209823,10.519282,10.221621,10.226293,10.020445,9.614821,9.898183,9.914171,10.042231,9.974137,10.041435,10.018333,10.161951,10.08514,9.799616,9.54519,9.62755,9.503107,9.218899,9.299819,9.080101,9.109822,8.867874,8.570869,8.592548,8.383837,8.362092,8.422283,8.383009,8.458187,8.465927,8.459801,8.403073,8.254289,8.208496,8.165304,8.119146,8.224745,8.298774,8.383951,8.537196],\"xaxis\":\"x\",\"y\":[1.9251844,2.2105796,1.7583362,1.694794,1.5570894,1.7331357,1.8870121,1.8236529,2.292954,1.5936092,1.5422032,1.4017578,1.2639769,1.4186571,1.4989957,1.5055405,1.4949383,1.5439081,1.4947777,1.7609795,2.0219426,2.014418,1.9122742,1.5364653,1.933094,1.8909454,2.3838496,2.4101708,2.3197663,3.8052323,4.12348,4.169616,4.5235033,4.5288877,4.854765,4.9427605,5.081504,5.077847,5.0342736,5.0399394,5.1800194,5.183091,4.925097,4.4576716],\"yaxis\":\"y\",\"type\":\"scatter\"},{\"customdata\":[[\"If the sons of Dhritarashtra, weapon in hand, were to kill me in battle, me being weaponless and not...\"],[\"Sangaya said: Having spoken thus, Arguna cast asde his bow together with the arrows, on the battle-f...\"],[\"To him, who was thus overcome with pity, and dejected, and whose eyes were full of tears and turbid,...\"],[\"The Deity said: How (comes it that) this delusion, O Arguna! which is discarded by the good, which e...\"],[\"Be not effeminate, O son of Pritha! it is not worthy of you. Cast off this base weakness of heart, a...\"],[\"Arguna said: How, O destroyer of Madhu! shall I encounter with arrows in battle Bhisma and Drona bot...\"],[\"Without killing (my) preceptors (men) of great glory it is better to live even on alms in this world...\"],[\"Nor do we know which of the two is better for us whether that we should vanquish them, or that they ...\"],[\"With a heart contaminated by the taint of helplessness, with a mind confounded about my duty, I ask ...\"],[\"For I do not perceive what is to dispel that grief which will dry up my organs after I shall have ob...\"],[\"Sangaya said: Having spoken thus to Hrishikesa, O terror of (your) foes! Gudakesa said to Govinda, `...\"],[\"To him thus desponding between two armies, O descedant of Bharata! Hrishikesa spoke these words with...\"],[\"The Deity said: You have grieved for those who deserve no grief, and you speak words of wisdom. Lear...\"],[\"Never did I not exist, nor you, nor these rulers of men; nor will any one of us ever hereafter cease...\"],[\"As in this body, infancy and youth and old age (come) to the embodied (self), so does the acquisitio...\"],[\"The contacts of the senses, O son of Kunti! which produce cold and heat, pleasure and pain, are not ...\"],[\"For, O chief of men! that sensible man whom they afflict not, (pain and pleasure being alike to him)...\"],[\"There is no existence for that which is unreal; there is no non-existence for that which is real. An...\"],[\"Know that to be indestructible which pervades all this; the destruction of that inexhaustible (princ...\"],[\"These bodies appertaining to the embodied (self) which is eternal, indestructible, and indefinable, ...\"],[\"He who thinks one to be the killer and he who thinks one to be killed, both know nothing. He kills n...\"],[\"He is not born, nor does he ever die, nor, having existed, does he exist no more. Unborn, everlastin...\"],[\"Unborn, everlasting, unchangeable, and very ancient, he is not killed when the body is killed. O son...\"],[\"As a man, casting off old clothes, puts on others and new ones, so the embodied (self), casting off ...\"],[\"Weapons do not divide the self (into pieces); fire does not burn it; waters do not moisten it; the w...\"],[\"It is not divisible; it is not combustible; it is not to be moistened; it is not to be dried up. It ...\"],[\"Therefore knowing it to be such, you ought not to grieve. But even if you think that the self is con...\"],[\"But even if you think that the self is constantly born, and constantly dies, still, O you of mighty ...\"],[\"For to one that is born, death is certain; and to one that dies, birth is certain. Therefore about (...\"],[\"The source of things, O descendant of Bharata! is unperceived; their middle state is perceived; and ...\"],[\"One looks upon it as a wonder; another similarly speaks of it as a wonder; another too hears of it a...\"],[\"This embodied (self), O descendant of Bharata! within every one's body is ever indestructible. There...\"],[\"Having regard to your own duty also, you ought not to falter, for there is nothing better for a Ksha...\"],[\"Happy those Kshatriyas, O son of Pritha! who can find such a battle (to fight) come of itself an ope...\"],[\"But if you will not fight this righteous battle, then you will have abandoned your own duty and your...\"],[\"All beings, too, will tell of your everlasting infamy; and to one who has been honoured, infamy is (...\"],[\"(Warriors who are) masters of great cars will think that you abstained from the battle through fear,...\"],[\"Your enemies, too, decrying your power, will speak much about you that should not be spoken. And wha...\"],[\"Killed, you will obtain heaven; victorious, you will enjoy the earth. Therefore arise, O son of Kunt...\"],[\"Looking on pleasure and pain, on gain and loss, on victory and defeat as the same, prepare for battl...\"],[\"The knowledge here declared to you is that relating to the Sankhya. Now hear that relating to the Yo...\"],[\"In this (path to final emancipation) nothing that is commenced becomes abortive; no obstacles exist;...\"],[\"There is here O descendant of Kuru! but one state of mind consisting in firm understanding. But the ...\"],[\"The state of mind which consists in firm understanding regarding steady contemplation does not belon...\"],[\"specific acts for the attainment of (those) pleasures and (that) power, and which promises birth as ...\"],[\"who are enamoured of Vedic words, who say there is nothing, else, who are full of desires, and whose...\"],[\"The Vedas (merely) relate to the effects of the three qualities; do you, O Arguna! rise above those ...\"],[\"To the instructed Brahmana, there is in all the Vedas as much utility as in a reservoir of water int...\"],[\"Your business is with action alone; not by any means with fruit. Let not the fruit of action be your...\"],[\"Having recourse to devotion, O Dhanangaya! perform actions, casting off (all) attachment, and being ...\"],[\"Action, O Dhanangaya! is far inferior to the devotion of the mind. In that devotion seek shelterWret...\"],[\"In that devotion seek shelterWretched are those whose motive (to action) is the fruit (of action). H...\"],[\"The wise who have obtained devotion cast off the fruit of action; and released from the shackles of ...\"],[\"When your mind shall have crossed beyond the taint of delusion, then will you become indifferent to ...\"],[\"When your mind, that was confounded by what you have heard, will stand firm and steady in contemplat...\"],[\"Arguna said: What are the characteristics, O Kesava! of one whose mind is steady, and who is intent ...\"],[\"The Deity said: When a man, O son of Pritha! abandons all the desires of his heart, and is pleased i...\"],[\"He whose heart is not agitated in the midst of calamities, who has no longing for pleasures, and fro...\"],[\"His mind is steady, who, being without attachments anywhere, feels no exultation and no aversion on ...\"],[\"A man's mind is steady, when he withdraws his senses from (all) objects of sense, as the tortoise (w...\"],[\"Objects of sense withdraw themselves from a person who is abstinent; not so the taste (for those obj...\"],[\"The boisterous senses, O son of Kunti! carry away by force the mind even of a wise man, who exerts h...\"],[\"Restraining them, all, a man should remain engaged in devotion, making me his only resort. For his m...\"],[\"The man who ponders over objects of sense forms an attachment to them; from (that) attachment is pro...\"],[\"from anger results want of discrimination; from want of discrimination, confusion of the memory; fro...\"],[\"But the self-restrained man who moves among objects with senses under the control of his own self, a...\"],[\"When there is tranquillity, all his miseries are destroyed, for the mind of him whose heart is tranq...\"],[\"He who is not self-restrained has no steadiness of mind; nor has he who is not self-restrained perse...\"],[\"there is no tranquillity for him who does not persevere in the pursuit of self-knowledge; and whence...\"],[\"For the heart which follows the rambling senses leads away his judgment, as the wind leads a boat as...\"],[\"Therefore, O you of mighty arms! his mind is steady whose senses are restrained on all sides from ob...\"],[\"The self-restrained man is awake, when it is night for all beings; and when all beings are awake, th...\"],[\"He into whom all objects of desire enter, as waters enter the ocean, which, (though) replenished, (s...\"]],\"hovertemplate\":\"Chapter=2\\u003cbr\\u003esymbol=circle\\u003cbr\\u003ex=%{x}\\u003cbr\\u003ey=%{y}\\u003cbr\\u003esize_col=%{marker.size}\\u003cbr\\u003eextract=%{customdata[0]}\\u003cextra\\u003e\\u003c\\u002fextra\\u003e\",\"legendgroup\":\"2, circle\",\"marker\":{\"color\":\"#00cc96\",\"size\":[4,4,4,4,4,4,4,4,4,4,4,4,4,4,4,4,4,4,4,4,4,4,4,4,4,4,4,4,4,4,4,4,4,4,4,4,4,4,4,4,4,4,4,4,4,4,4,4,4,4,4,4,4,4,4,4,4,4,4,4,4,4,4,4,4,4,4,4,4,4,4,4,4],\"sizemode\":\"area\",\"sizeref\":0.25,\"symbol\":\"circle\",\"line\":{\"color\":\"DarkSlateGrey\",\"width\":0},\"opacity\":1},\"mode\":\"markers\",\"name\":\"2, circle\",\"orientation\":\"v\",\"showlegend\":true,\"x\":[8.866991,8.5519085,8.279862,8.146397,8.549148,8.624667,8.435441,8.413977,8.5705805,8.627138,8.768747,8.751195,4.195081,-2.5343683,-3.0153136,-2.0653856,4.1951895,4.204235,4.2076616,4.2046537,4.2323184,4.203378,4.206694,4.19651,4.2035503,4.2097993,4.2003665,4.1966023,4.2040076,4.166384,4.2058334,4.2503357,7.386981,7.0903945,6.9397435,6.661437,7.009418,7.391995,7.4459357,-3.9493854,-3.33677,-1.2617649,-2.5000522,-2.5281723,-3.0651245,-3.2094488,-3.9385288,-5.2607145,-5.381029,-5.5818443,-5.9435897,-5.3478975,-4.842012,-3.4941208,-3.3500845,-3.1493695,-3.1457312,-3.6739798,-3.8264372,-3.9587266,-3.8138063,-4.4393106,-5.1039495,-4.8777733,-5.542493,-5.523054,-5.2733397,-5.292172,-5.5541224,-5.1265855,-5.4212956,-5.3953,-4.8556767],\"xaxis\":\"x\",\"y\":[2.6340969,2.414567,2.4178097,2.513123,3.5102532,3.1754718,4.203828,4.2478127,3.1839564,3.000239,2.5690117,2.744831,9.487117,-4.106005,-4.2079887,-4.370527,9.453538,9.45135,9.442327,9.4665365,9.443895,9.470095,9.479403,9.456589,9.495695,9.507011,9.498928,9.491044,9.470199,9.413886,9.44911,9.396634,3.8361335,3.6462166,3.7823694,3.5447106,3.604782,3.616538,3.670223,-0.4604577,-0.43697256,-2.3422098,-1.8439794,-1.9397179,1.659456,1.6248243,1.1333076,-0.8544825,-1.1811591,-1.573659,-1.0194622,-1.9745486,-2.2443206,-2.34137,-2.2063825,-2.1678867,-2.2707214,-2.866678,-3.1530175,-3.3397052,-3.3906,-3.5590193,-3.7812839,-3.7424784,-3.6947606,-3.8327465,-3.718766,-3.8168154,-3.847858,-3.8492413,-3.7407699,-3.8062093,-3.6987169],\"yaxis\":\"y\",\"type\":\"scatter\"},{\"customdata\":[[\"The man who, casting off all desires, lives free from attachments, who is free from egoism, and from...\"],[\"This, O son of Pritha! is the Brahmic state; attaining to this, one is never deluded; and remaining ...\"],[\"Arguna said: If, O Ganardana! devotion is deemed by you to be superior to action, then why, O Kesava...\"],[\"You seem, indeed, to confuse my mind by equivocal words. Therefore, declare one thing determinately,...\"],[\"The Deity said: O sinless one! I have already declared, that in this world there is a twofold path t...\"],[\"A man does not attain freedom from action, merely by not engaging in action; nor does he attain perf...\"],[\"For nobody ever remains even for an instant without performing some action; since the qualities of n...\"],[\"The deluded man who restraining the organs of action, continues to think in his mind about objects o...\"],[\"But he, O Arguna! who restraining his senses by his mind, and being free from attachments, engages i...\"],[\"Do you perform prescribed action, for action is better than inaction, and the support of your body, ...\"],[\"This world is fettered by all action other than action for the purpose of the sacrifice. Therefore, ...\"],[\"The Creator, having in olden times created men together with the sacrifice, said `Propagate with thi...\"],[\"Please the gods with this, and may those gods please you. Pleasing each other, you will attain the h...\"],[\"For pleased with the sacrifices, the gods will give you the enjoyments you desire. And he who enjoys...\"],[\"The good, who eat the leavings of a sacrifice, are released from all sins. But the unrighteous ones,...\"],[\"From food are born (all) creatures; from rain is the production of food; rain is produced by sacrifi...\"],[\"know that action has its source in the Vedas; the Vedas come from the Indestructible. Therefore the ...\"],[\"He who in this world does not turn round the wheel revolving thus, is of sinful life, indulging his ...\"],[\"But the man who is attached to his self only, who is contented in his self, and is pleased with his ...\"],[\"He has no interest at all in what is done, and none whatever in what is not done, in this world; nor...\"],[\"Therefore always perform action, which must be performed, without attachment. For a man, performing ...\"],[\"By action alone, did Ganaka and the rest work for perfection. And having regard also to the keeping ...\"],[\"Whatever a great man does, that other men also do. And people follow whatever he receives as authori...\"],[\"There is nothing, O son of Pritha! for me to do in (all) the three worlds, nothing to acquire which ...\"],[\"For should I at any time not engage without sloth in action, men would follow in my path from all si...\"],[\"If I did not perform actions, these worlds would be destroyed, I should be the cause of casteintermi...\"],[\"As the ignorant act, O descendant of Bharata! with attachment to action, so should a wise man act wi...\"],[\"A wise man should not shake the convictions of the ignorant who are attached to action, but acting w...\"],[\"He whose mind is deluded by egoism thinks himself the doer of the actions, which, in every way, are ...\"],[\"But he, O you of mighty arms! who knows the truth about the difference from qualities and the differ...\"],[\"But those who are deluded by the qualities of nature form attachments to the actions of the qualitie...\"],[\"Dedicating all actions to me with a mind knowing the relation of the supreme and individual self, en...\"],[\"Even those men who always act on this opinion of mine, full of faith, and without carping, are relea...\"],[\"But those who carp at my opinion and do not act upon it, know them to be devoid of discrimination, d...\"],[\"Even a man of knowledge acts consonantly to his own nature. All beings follow nature. What will rest...\"],[\"Every sense has its affections and aversions towards its-objects fixed. One should not become subjec...\"],[\"One's own duty, though defective, is better than another's duty well performed. Death in (performing...\"],[\"Arguna said: But by whom, O descendant of Vrishni! is man impelled, even though unwilling and, as it...\"],[\"The Deity said: It is desire, it is wrath, born from the quality of passion; it is very ravenous, ve...\"],[\"As fire is enveloped by smoke, a mirror by dust, the foetus by the womb, so is this enveloped by des...\"],[\"Knowledge, O son of Kunti! is enveloped by this constant foe of the man of knowledge, in the shape o...\"],[\"The senses, the mind, and the understanding are said to be its seat; with these it deludes the embod...\"],[\"Therefore `O chief of the descendants of Bharata! first restrain your senses, then cast off this sin...\"]],\"hovertemplate\":\"Chapter=3\\u003cbr\\u003esymbol=circle\\u003cbr\\u003ex=%{x}\\u003cbr\\u003ey=%{y}\\u003cbr\\u003esize_col=%{marker.size}\\u003cbr\\u003eextract=%{customdata[0]}\\u003cextra\\u003e\\u003c\\u002fextra\\u003e\",\"legendgroup\":\"3, circle\",\"marker\":{\"color\":\"#ab63fa\",\"size\":[4,4,4,4,4,4,4,4,4,4,4,4,4,4,4,4,4,4,4,4,4,4,4,4,4,4,4,4,4,4,4,4,4,4,4,4,4,4,4,4,4,4,4],\"sizemode\":\"area\",\"sizeref\":0.25,\"symbol\":\"circle\",\"line\":{\"color\":\"DarkSlateGrey\",\"width\":0},\"opacity\":1},\"mode\":\"markers\",\"name\":\"3, circle\",\"orientation\":\"v\",\"showlegend\":true,\"x\":[-2.2933824,-1.5432807,-3.139519,-3.8359709,-4.0378056,-7.2351866,-7.045221,-7.075738,-5.6115537,-5.404985,-4.8030486,3.4077058,-4.4984717,-4.7225637,-4.6267867,-4.3536386,-4.120837,-6.388533,-7.746684,-8.004405,-8.001023,-8.168935,-8.188305,-8.071941,-8.118496,-7.8245907,-7.511029,-7.137791,-6.916385,-7.0396614,-7.035243,-6.922112,-6.7198176,-6.4722443,-6.162204,-5.868008,-5.657263,-2.290513,-2.1969965,-2.3316145,-1.9895676,-1.3941491,-1.125881],\"xaxis\":\"x\",\"y\":[-2.492142,-1.9805467,-0.175086,-0.32026476,-0.28685474,-0.7893829,-0.62382853,-0.604712,-0.3643618,0.20861165,0.92058915,0.679099,2.989086,2.497978,2.1555262,1.6277734,0.91896015,-1.4594086,-1.2847239,-1.3772813,-1.1401831,-1.0399004,-1.2437779,-0.90422386,-1.056737,-0.8549597,-0.87407184,-1.0139716,-0.764333,-0.6492451,-0.5902249,-0.7741939,-0.3598169,-0.33374378,0.30575246,0.48232746,0.7912089,0.11964397,0.9223264,0.7381588,0.2806999,0.41197854,0.5494541],\"yaxis\":\"y\",\"type\":\"scatter\"},{\"customdata\":[[\"It has been said, Great are the senses, greater than the senses is the mind, greater than the mind i...\"],[\"Thus knowing that which is higher than the understanding, and restraining (your)self by (your)self, ...\"],[\"The Deity said: This everlasting (system of) devotion I declared to the sun, the sun declared it to ...\"],[\"Coming thus by steps, it became known to royal sages. But, O terror of (your) foes! that devotion wa...\"],[\"That same primeval devotion I have declared to you to-day, seeing that you are my devotee and friend...\"],[\"Arguna said: Later is your birth; the birth of the sun is priorHow then shall I understand that you ...\"],[\"The Deity said: I have passed through many births, O Arguna! and you also. I know them all, but you,...\"],[\"Even though I am unborn and inexhaustible in (my) essence, even though I am lord of all beings, stil...\"],[\"Whensoever, O descendant of Bharata! piety languishes, and impiety is in the ascendant, I create mys...\"],[\"I am born age after age, for the protection of the good, for the destruction of evil-doers, and the ...\"],[\"Whoever truly knows thus my divine birth and work, casts off (this) body and is not born again. He c...\"],[\"Many from, whom affection, fear, and wrath have departed, who are full of me, who depend on me, and ...\"],[\"I serve men in the way in which they approach me. In every way, O son of Pritha! men follow in my pa...\"],[\"Desiring the success of actions, men in this world worship the divinities, for in this world of mort...\"],[\"The fourfold division of castes was created by me according to the apportionment of qualities and du...\"],[\"Actions defile me notI have no attachment to the fruit of actions. He who knows me thus is not tied ...\"],[\"Knowing this, the men of old who wished for final emancipation, performed action. Therefore do you, ...\"],[\"Even sages are confused as to what is action, what inaction. Therefore I will speak to you about act...\"],[\"One must possess knowledge about action; one must also possess knowledge about prohibited action; an...\"],[\"He is wise among men, he is possessed of devotion, and performs all actions, who sees inaction in ac...\"],[\"The wise call him learned, whose acts are all free from desires and fancies, and whose actions are b...\"],[\"Forsaking all attachment to the fruit of action, always contented, dependent on none, he does nothin...\"],[\"Devoid of expectations, restraining the mind and the self, and casting off all belongings, he incurs...\"],[\"Satisfied with earnings coming spontaneously, rising above the pairs of opposites, free from all ani...\"],[\"The acts of one who is devoid of attachment, who is free, whose mind is fixed on knowledge, and who ...\"],[\"Brahman is the oblation; with Brahman (as a sacrificial instrument) it is offered up; Brahman is in ...\"],[\"Some devotees perform the sacrifice to the gods, some offer up the sacrifice by the sacrifice itself...\"],[\"Others offer up the senses, such as the sense of hearing and others, in the fires of restraint; othe...\"],[\"Some again offer up all the operations of the senses and the operations of the life-breaths into the...\"],[\"Others perform the sacrifice of wealth, the sacrifice of penance, the sacrifice of concentration of ...\"],[\"Some offer up the upward life-breath into the downward life-breath, and the downward life-breath int...\"],[\"All of these, conversant with the sacrifice, have their sins destroyed by the sacrifice. Those who e...\"],[\"This world is not for those who perform no sacrifice, whence (then) the other, O best of the Kaurava...\"],[\"Thus sacrifices of various sorts are laid down in the Vedas. Know them all to be produced from actio...\"],[\"The sacrifice of knowledge, O terror of (your) foes! is superior to the sacrifice of wealth, for act...\"],[\"That you should learn by salutation, question, and service. The men of knowledge who perceive the tr...\"],[\"Having learnt that, O son of Pandu! you will not again fall thus into delusion; and by means of it, ...\"],[\"Even if you are the most sinful of all sinful men, you will cross over all trespasses by means of th...\"],[\"As a fire well kindled, O Arguna! reduces fuel to ashes, so the fire of knowledge reduces all action...\"],[\"For there is in this world no means of sanctification like knowledge, and that one perfected by devo...\"],[\"He who has faith, whose senses are restrained, and who is assiduous, obtains knowledge. Obtaining kn...\"],[\"He who is ignorant and devoid of faith, and whose self is full of misgivings, is ruined. Not this wo...\"]],\"hovertemplate\":\"Chapter=4\\u003cbr\\u003esymbol=circle\\u003cbr\\u003ex=%{x}\\u003cbr\\u003ey=%{y}\\u003cbr\\u003esize_col=%{marker.size}\\u003cbr\\u003eextract=%{customdata[0]}\\u003cextra\\u003e\\u003c\\u002fextra\\u003e\",\"legendgroup\":\"4, circle\",\"marker\":{\"color\":\"#FFA15A\",\"size\":[4,4,4,4,4,4,4,4,4,4,4,4,4,4,4,4,4,4,4,4,4,4,4,4,4,4,4,4,4,4,4,4,4,4,4,4,4,4,4,4,4,4],\"sizemode\":\"area\",\"sizeref\":0.25,\"symbol\":\"circle\",\"line\":{\"color\":\"DarkSlateGrey\",\"width\":0},\"opacity\":1},\"mode\":\"markers\",\"name\":\"4, circle\",\"orientation\":\"v\",\"showlegend\":true,\"x\":[-1.1163993,-0.88092554,-0.7070908,-0.04460345,0.31531888,0.92121553,0.63707703,0.89493805,0.73459613,1.1677259,0.956617,1.5236434,-8.005142,-7.673338,-7.9945784,-7.760906,-7.6258016,-7.6057363,-7.5583706,-7.0776114,-7.073777,-7.07997,-6.7669654,-5.5717006,-5.295339,-5.178727,-5.0836363,-4.660287,-5.2082477,-4.871678,-4.8094907,-4.435298,-4.1583734,-3.287698,-2.0563943,-1.095596,-1.8929603,-2.9940102,-2.538251,-3.371398,-4.4491925,-5.5320954],\"xaxis\":\"x\",\"y\":[0.34859458,0.1016779,-0.11603802,-0.9061214,-0.7949772,-1.2773385,-1.1861165,-1.4332973,-1.4013947,-1.3423564,-1.4915874,-1.3028467,-0.6786694,-0.4906136,-0.3386566,-0.4960395,-0.08263282,-0.60427475,-0.45183125,-1.0325428,-0.84567326,-0.9473021,-0.82438296,0.4528425,2.183648,2.1736658,1.9349253,1.9737839,2.0109973,2.131133,2.0914865,1.831818,1.3617574,0.49803025,0.101969354,-0.33824396,-0.2564528,-0.1455911,0.2530363,-1.5296785,-2.0128577,-1.4102347],\"yaxis\":\"y\",\"type\":\"scatter\"},{\"customdata\":[[\"Actions, O Dhanangaya! do not fetter one who is self-possessed, who has renounced action by devotion...\"],[\"Therefore, O descendant of Bharata! destroy, with the sword of knowledge, these misgivings of yours ...\"],[\"Arguna said: O Krishna! you praise renunciation of actions and also the pursuit (of them). Tell me d...\"],[\"The Deity said: Renunciation and pursuit of action are both instruments of happiness. But of the two...\"],[\"He should be understood to be always an ascetic, who has no aversion and no desire. For, O you of mi...\"],[\"Children not wise men talk of sankhya and yoga as distinct. One who pursues either well obtains the ...\"],[\"The seat which the sankhyas obtain is reached by the yogas also. He sees (truly), who sees the sankh...\"],[\"Renunciation, O you of mighty arms! is difficult to reach without devotion; the sage possessed of de...\"],[\"He who is possessed of devotion, whose self is pure, who has restrained his self, and who has contro...\"],[\"The man of devotion, who knows the truth, thinks he does nothing at all, when he sees, hears, touche...\"],[\"talks, throws out, takes, opens or closes the eyelids; he holds that the senses deal with the object...\"],[\"He who, casting off (all) attachment, performs actions dedicating them to Brahman, is not tainted by...\"],[\"Devotees, casting off attachment, perform actions for attaining purity of self, with the body, the m...\"],[\"He who is possessed of devotion, abandoning the fruit of actions, attains the highest tranquillity. ...\"],[\"The self-restrained, embodied (self) lies at ease within the city of nine portals, renouncing all ac...\"],[\"The Lord is not, the cause of actions, or of the capacity of performing actions amongst men, or of t...\"],[\"The Lord receives no one's sin, nor merit either. Knowledge is enveloped by ignorance, hence all cre...\"],[\"But to those who have destroyed that ignorance by knowledge of the self, (such) knowledge, like the ...\"],[\"And those whose mind is (centred) on it, whose (very) self it is, who are thoroughly devoted to it, ...\"],[\"The wise look upon a Brahmana possessed of learning and humility, on a cow, an elephant, a dog, and ...\"],[\"Even here, those have conquered the material world, whose mind rests in equability; since Brahman is...\"],[\"He who knows Brahman, whose mind is steady, who is not deluded, and who rests in Brahman, does not e...\"],[\"One whose self is not attached to external objects, obtains the happiness that is in (one's) self; a...\"],[\"For the enjoyments born of contact (between senses and their objects) are, indeed, sources of misery...\"],[\"He who even in this world, before his release from the body, is able to bear the agitations produced...\"],[\"The devotee whose happiness is within (himself), whose recreation is within (himself), and whose lig...\"],[\"The sages whose sins have perished, whose misgivings are destroyed, who are self-restrained, and who...\"],[\"To the ascetics, who are free from desire and wrath, and whose minds are restrained, and who have kn...\"],[\"The sage who excludes (from his mind) external objects, (concentrates) the visual power between the ...\"]],\"hovertemplate\":\"Chapter=5\\u003cbr\\u003esymbol=circle\\u003cbr\\u003ex=%{x}\\u003cbr\\u003ey=%{y}\\u003cbr\\u003esize_col=%{marker.size}\\u003cbr\\u003eextract=%{customdata[0]}\\u003cextra\\u003e\\u003c\\u002fextra\\u003e\",\"legendgroup\":\"5, circle\",\"marker\":{\"color\":\"#19d3f3\",\"size\":[4,4,4,4,4,4,4,4,4,4,4,4,4,4,4,4,4,4,4,4,4,4,4,4,4,4,4,4,4],\"sizemode\":\"area\",\"sizeref\":0.25,\"symbol\":\"circle\",\"line\":{\"color\":\"DarkSlateGrey\",\"width\":0},\"opacity\":1},\"mode\":\"markers\",\"name\":\"5, circle\",\"orientation\":\"v\",\"showlegend\":true,\"x\":[-4.84361,-4.5072904,-4.28373,-4.1214304,-3.6583486,-3.8938494,-3.867747,-4.544089,-5.235357,-5.169904,-5.040138,-5.2322154,-4.913184,-6.029162,-6.4034142,-6.6172833,-2.3670025,-1.7675161,-2.0828779,-2.33423,-2.302433,-2.6336668,-2.697481,-2.4871888,-2.6477654,-2.7243497,-1.9168147,-2.612984,-3.1761274],\"xaxis\":\"x\",\"y\":[-0.65372676,0.007643228,-0.03103127,-0.2847612,-0.0720464,-0.11829005,-0.6253323,-0.6785912,-2.812506,-2.546494,-2.1068442,-1.5301961,-2.6884444,-1.3740892,-1.0188655,-0.7660563,-0.7655203,-3.4684844,-4.2145185,-4.4306426,-4.643319,-4.630177,-4.6229157,-4.5637493,-4.478888,-4.5158067,-4.1998534,-4.0513196,-3.156172],\"yaxis\":\"y\",\"type\":\"scatter\"},{\"customdata\":[[\"who restrains senses, mind, and understanding, whose highest goal is final emancipation, from whom d...\"],[\"He knowing me to be the enjoyer of all sacrifices and penances, the great Lord of all worlds, and th...\"],[\"The Deity said: He who, regardless of the fruit of actions, performs the actions which ought to be p...\"],[\"Know, O son of Pandu! that what is called renunciation is devotion; for nobody becomes a devotee who...\"],[\"To the sage who wishes to rise to devotion, action is said to be a means, and to him, when be has ri...\"],[\"When one does not attach oneself to objects of sense, nor to action, renouncing all fancies, then on...\"],[\"(A man) should elevate his self by his self; he should not debase his self, for even (a man's) own s...\"],[\"To him who has subjugated his self by his self, his self is a friend; but to him who has not restrai...\"],[\"The self of one who has subjugated his self and is tranquil, is absolutely concentrated (on itself),...\"],[\"The devotee whose self is contented with knowledge and experience, who is unmoved, who has restraine...\"],[\"And he is esteemed highest, who thinks alike about well-wishers, friends, and enemies, and those who...\"],[\"A devotee should constantly devote his self to abstraction, remaining in a secret place, alone, with...\"],[\"Fixing his seat firmly in a clean place, not too high nor too low, and covered over with a sheet of ...\"],[\"and there seated on (that) seat, fixing his mind exclusively on one point, with the workings of the ...\"],[\"Holding his body, head, and neck even and unmoved, (remaining) steady, looking at the tip of his own...\"],[\"with a tranquil self, devoid of fear, and adhering to the rules of Brahmakarins, he should restrain ...\"],[\"Thus constantly devoting his self to abstraction, a devotee whose mind is restrained, attains that t...\"],[\"Devotion is not his, O Arguna! who eats too much, nor his who eats not at all; not his who is addict...\"],[\"That devotion which destroys (all) misery is his, who takes due food and exercise, who toils duly in...\"],[\"When (a man's) mind well restrained becomes steady upon the self alone, then he being indifferent to...\"],[\"As a light standing in a windless (place) flickers not, that is declared to be the parallel for a de...\"],[\"That (mental condition), in which the mind restrained by practice, of abstraction, ceases to work; i...\"],[\"in which one experiences that infinite happiness which transcends the senses, and which can be grasp...\"],[\"and adhering to which, one is not shaken off even by great misery; that should be understood to be c...\"],[\"That devotion should be practised with steadiness and with an undesponding heart. Abandoning, withou...\"],[\"Abandoning, without exception, all desires, which are produced from fancies, and restraining the who...\"],[\"one should by slow steps become quiescent, with a firm resolve coupled with courage; and fixing the ...\"],[\"Wherever the active and unsteady mind breaks forth, there one should ever restrain it, and fix it st...\"],[\"The highest happiness comes to such a devotee, whose mind is fully tranquil, in whom the quality of ...\"],[\"Thus constantly devoting his self to abstraction, a devotee, freed from sin, easily obtains that sup...\"],[\"He who has devoted his self to abstraction, by devotion, looking alike on everything, sees the self ...\"],[\"To him who sees me in everything, and everything in me, I am never lost, and he is not lost to me. T...\"],[\"The devotee who worships me abiding in all beings, holding that all is one, lives in me, however he ...\"],[\"That devotee, O Arguna! is deemed to be the best, who looks alike on pleasure or pain, whatever it m...\"],[\"Arguna said: I cannot see, O destroyer of Madhu! (how) the sustained existence (is to be secured) of...\"],[\"For, O Krishna! the mind is fickle, boisterous, strong, and obstinate; and I think that to restrain ...\"],[\"The Deity said: Doubtless, O you of mighty arms! the mind is difficult to restrain, and fickle. Stil...\"],[\"It is my belief, that devotion is hard to obtain for one who does not restrain his self. But by one ...\"],[\"Arguna, said: What is the end of him, O Krishna! who does not attain the consummation of his devotio...\"],[\"Does he, fallen from both (paths), go to ruin like a broken cloud, being, O you of mighty arms! with...\"],[\"Be pleased, O Krishna! to entirely destroy this doubt of mine, for none else than you can destroy th...\"],[\"The Deity said: O son of Pritha neither in this world nor the next, is ruin for him; for, O dear fri...\"],[\"He who is fallen from devotion attains the worlds of those who perform meritorious acts, dwells (the...\"],[\"Or he is even born into a family of talented devotees; for such a birth as that in this world is mor...\"],[\"There he comes into contact with the knowledge which belonged to him in his former body, and then ag...\"],[\"For even though reluctant, he is led away by the self-same former practice, and although he only wis...\"],[\"But the devotee working with great efforts, and cleared of his sins, attains perfection after many b...\"]],\"hovertemplate\":\"Chapter=6\\u003cbr\\u003esymbol=circle\\u003cbr\\u003ex=%{x}\\u003cbr\\u003ey=%{y}\\u003cbr\\u003esize_col=%{marker.size}\\u003cbr\\u003eextract=%{customdata[0]}\\u003cextra\\u003e\\u003c\\u002fextra\\u003e\",\"legendgroup\":\"6, circle\",\"marker\":{\"color\":\"#FF6692\",\"size\":[4,4,4,4,4,4,4,4,4,4,4,4,4,4,4,4,4,4,4,4,4,4,4,4,4,4,4,4,4,4,4,4,4,4,4,4,4,4,4,4,4,4,4,4,4,4,4],\"sizemode\":\"area\",\"sizeref\":0.25,\"symbol\":\"circle\",\"line\":{\"color\":\"DarkSlateGrey\",\"width\":0},\"opacity\":1},\"mode\":\"markers\",\"name\":\"6, circle\",\"orientation\":\"v\",\"showlegend\":true,\"x\":[-2.6160386,-4.1289396,-4.558503,-4.6327996,-5.055488,-5.1483593,-5.6263103,-4.591853,-4.386351,-4.3822737,-4.668165,-4.6650023,-4.390386,-4.5993466,-4.460286,-4.694682,-4.7071886,-5.005414,-5.0550146,-5.1963463,-4.8243623,-4.650362,-4.8045664,-5.0498137,-5.0373716,-4.637839,-4.5388813,-3.6207178,-3.572852,-3.9971743,-3.7268405,-0.71440125,-1.4146522,-2.2462206,-3.2760484,-4.244446,-3.6275828,-4.087088,7.7991962,7.56456,7.5623803,7.5566993,-2.1962645,-2.2663345,-2.1599262,-1.5551438,-1.7284728],\"xaxis\":\"x\",\"y\":[-2.5765748,-0.6861917,-0.5931893,-0.66816145,-1.9266815,-2.75251,-3.331324,-4.5384107,-4.883766,-5.096487,-4.9806385,-4.6021967,-4.266468,-4.2572775,-4.1508417,-4.2107215,-4.2480636,-3.4393868,-4.2176414,-3.9864626,-4.2782416,-3.7418137,-2.8094203,-2.9850087,-2.7669163,-3.356111,-3.1494515,-4.2143946,-4.5611815,-4.506411,-3.999785,-1.2484018,-0.9300684,-0.6177654,-2.0295618,-2.9715955,-2.0139682,-2.3704371,2.659954,3.9812007,4.1402774,4.7660723,-0.7849237,-0.8741447,-1.3016238,-1.053889,-1.3170185],\"yaxis\":\"y\",\"type\":\"scatter\"},{\"customdata\":[[\"The devotee is esteemed higher than the performers of penances, higher even than the men of knowledg...\"],[\"And even among all devotees, he who, being full of faith, worships me, with his inmost self intent o...\"],[\"Deity said: O son of Pritha! now hear how you can without doubt know me fully, fixing your mind on m...\"],[\"I will now tell you exhaustively about knowledge together with experience; that being known, there i...\"],[\"Among thousands of men, only some work for perfection; and even of those who have reached perfection...\"],[\"Earth, water, fire, air, space, mind, understanding, and egoism, thus is my nature divided eightfold...\"],[\"But this is a lower (form of my) natureKnow (that there is) another (form of my) nature, and higher ...\"],[\"Know that all things have these (for their) sourceI am the producer and the destroyer of the whole u...\"],[\"There is nothing else, O Dhanangaya! higher than myself; all this is woven upon me, like numbers of ...\"],[\"I am the taste in water, O son of Kunti! I am the light of the sun and moon. I am `Om' in all the Ve...\"],[\"I am the fragrant smell in the earth, refulgence in the fire; I am life in all beings, and penance i...\"],[\"Know me, O son of Pritha! to be the eternal seed of all beings; I am the discernment of the discerni...\"],[\"I am also the strength, unaccompanied by fondness or desire, of the strong. And, O chief of the desc...\"],[\"And all entities which are of the quality of goodness, and those which are of the quality of passion...\"],[\"The whole universe deluded by these three states of mind, developed from the qualities, does not kno...\"],[\"for this delusion of mine, developed from the qualities, is divine and difficult to transcend. Those...\"],[\"Wicked men, doers of evil (acts), who are deluded, who are deprived of their knowledge by (this) del...\"],[\"But, O Arguna! doers of good (acts) of four classes worship me: one who is distressed, one who is se...\"],[\"Of these, he who is possessed of knowledge, who is always devoted, and whose worship is (addressed) ...\"],[\"For to the man of knowledge I am dear above all things, and he is dear to me. All these are noble. B...\"],[\"At the end of many lives, the man possessed of knowledge approaches me, (believing) that Vasudeva is...\"],[\"Those who are deprived of knowledge by various desires approach other divinities, observing various ...\"],[\"Whichever form (of deity) any worshipper wishes to worship with faith, to that form I render his fai...\"],[\"Possessed of that faith, he seeks to propitiate (the deity in) that (form), and obtains from it thos...\"],[\"But the fruit thus (obtained) by them, who have little judgment, is perishable. Those who worship th...\"],[\"The undiscerning ones, not knowing my transcendent and inexhaustible essence, than which there is no...\"],[\"Surrounded by the delusion of my mystic power, I am not manifest to all. This deluded world knows no...\"],[\"I know, O Arguna! the things which have been, those which are, and those which are to be. But me nob...\"],[\"All beings, O terror of (your) foes! are deluded at the time of birth by the delusion, O descendant ...\"],[\"But the men of meritorious actions, whose sins have terminated, worship me, being released from the ...\"]],\"hovertemplate\":\"Chapter=7\\u003cbr\\u003esymbol=circle\\u003cbr\\u003ex=%{x}\\u003cbr\\u003ey=%{y}\\u003cbr\\u003esize_col=%{marker.size}\\u003cbr\\u003eextract=%{customdata[0]}\\u003cextra\\u003e\\u003c\\u002fextra\\u003e\",\"legendgroup\":\"7, circle\",\"marker\":{\"color\":\"#B6E880\",\"size\":[4,4,4,4,4,4,4,4,4,4,4,4,4,4,4,4,4,4,4,4,4,4,4,4,4,4,4,4,4,4],\"sizemode\":\"area\",\"sizeref\":0.25,\"symbol\":\"circle\",\"line\":{\"color\":\"DarkSlateGrey\",\"width\":0},\"opacity\":1},\"mode\":\"markers\",\"name\":\"7, circle\",\"orientation\":\"v\",\"showlegend\":true,\"x\":[-0.74438083,0.20326234,-0.4927592,-1.1851747,3.66301,3.6660497,3.7671301,3.7681646,3.846618,3.774748,3.0481925,1.7061292,1.8829197,2.3884954,2.552907,2.3404825,2.3022127,0.24613339,-0.4684039,-0.6658066,0.20008256,1.538365,1.8975843,1.2242198,2.1046507,2.5505223,2.6304564,2.429788,2.4562182,-7.4780736],\"xaxis\":\"x\",\"y\":[-1.1000562,-1.2484145,-0.62714756,0.5477825,-1.748351,-2.1757007,-1.9084958,-2.603241,-2.7603729,-2.7497852,-2.3504488,-1.1800708,-0.9480268,0.022131218,0.57959074,0.42561802,0.8313887,-0.8967394,-0.77693534,-0.7821856,-0.35648087,0.12765464,-0.84272426,-0.46058494,0.27072686,-0.07145749,0.16370699,0.6566206,0.6933063,-0.45768198],\"yaxis\":\"y\",\"type\":\"scatter\"},{\"customdata\":[[\"Those who, resting on me, work for release from old age and death, know the Brahman, the whole Adhyi...\"],[\"And those who know me with the Adhibhuta, the Adhidaiva, and the Adhiyagna, having minds devoted to ...\"],[\"Arguna said: What is that Brahman, what the Adhyatma, and what, O best of beings! is action? And wha...\"],[\"And who is the Adhiyagna, and how in this body, O destroyer of Madhu? And how, too, are you to be kn...\"],[\"The Deity said: The Brahman is the supreme, the indestructibleIts manifestation (as an individual se...\"],[\"The Adhibhuta is all perishable thingsThe Adhidaivata is the (primal) being. And the Adhiyagna, O be...\"],[\"And he who leaves this body and departs (from this world) remembering me in (his) last moments, come...\"],[\"Also whichever form (of deity) he remembers when he finally leaves this body, to that he goes, O son...\"],[\"Therefore, at all times remember me, and engage in battle. Fixing your mind and understanding on me,...\"],[\"Fixing your mind and understanding on me, you will come to me, there is no doubt. He who thinks of t...\"],[\"He who thinks of the supreme divine Being, O son of Pritha! with a mind not (running) to other (obje...\"],[\"He who, possessed of reverence (for the supreme Being) with a steady mind, and with the power of dev...\"],[\"I will tell you briefly about the seat, which those who know the Vedas declare to be indestructible;...\"],[\"He who leaves the body and departs (from this world), stopping up all passages, and confining the mi...\"],[\"repeating the single syllable `Om,' (signifying) the eternal Brahman, and meditating on me, he reach...\"],[\"To the devotee who constantly practises abstraction, O son of Pritha! and who with a mind not (turne...\"],[\"The high-souled ones, who achieve the highest perfection, attaining to me, do not again come to life...\"],[\"All worlds, O Arguna! up to the world of Brahman, are (destined) to return. But, O son of Kunti! aft...\"],[\"Those who know a day of Brahman to end after one thousand ages, and the night to terminate after one...\"],[\"On the advent of day, all perceptible things are produced from the unperceived; and on the advent of...\"],[\"This same assemblage of entities, being produced again and again, dissolves on the advent of night, ...\"],[\"But there is another entity, unperceived and eternal, and distinct from this unperceived (principle)...\"],[\"It is called the unperceived, the indestructible; they call it the highest goal. Attaining to it, no...\"],[\"That supreme Being, O son of Pritha! he in whom all these entities dwell, and by whom all this is pe...\"],[\"I will state the times, O descendant of Bharata! at which devotees departing (from this world) go, n...\"],[\"The fire, the flame, the day, the bright fortnight, the six months of the northern solstice, departi...\"],[\"Smoke, night, the dark fortnight, the six months of the southern solstice, (dying) in these, the dev...\"],[\"These two paths, bright and dark, are deemed to be eternal in this world. By the one, (a man) goes n...\"]],\"hovertemplate\":\"Chapter=8\\u003cbr\\u003esymbol=circle\\u003cbr\\u003ex=%{x}\\u003cbr\\u003ey=%{y}\\u003cbr\\u003esize_col=%{marker.size}\\u003cbr\\u003eextract=%{customdata[0]}\\u003cextra\\u003e\\u003c\\u002fextra\\u003e\",\"legendgroup\":\"8, circle\",\"marker\":{\"color\":\"#FF97FF\",\"size\":[4,4,4,4,4,4,4,4,4,4,4,4,4,4,4,4,4,4,4,4,4,4,4,4,4,4,4,4],\"sizemode\":\"area\",\"sizeref\":0.25,\"symbol\":\"circle\",\"line\":{\"color\":\"DarkSlateGrey\",\"width\":0},\"opacity\":1},\"mode\":\"markers\",\"name\":\"8, circle\",\"orientation\":\"v\",\"showlegend\":true,\"x\":[0.10103455,0.306634,0.4620831,0.24433947,0.047942508,0.02730464,-0.20102099,-0.22786349,-0.9552624,-1.1149119,-1.5691217,-2.1236508,-1.7794412,-1.4806917,-1.4624264,-1.0621032,-0.33416533,-0.09952396,-0.1728214,0.26654562,0.38135016,0.7843551,0.3268405,-0.02285815,-0.2214052,-0.23836295,-0.4024035,-0.22053733],\"xaxis\":\"x\",\"y\":[-5.0798616,-5.025293,-4.949861,-4.9050198,-4.9258947,-4.867265,1.4320713,1.3777803,-1.2913561,-1.9439727,-2.7550325,-3.5918,-3.8258069,-2.5487697,-2.4121416,-2.627957,-3.411039,-3.480565,-3.7176986,-3.206453,-3.2137558,-2.9668827,-3.1133757,-3.5636528,-3.79298,-3.697773,-3.4057071,-3.5498657],\"yaxis\":\"y\",\"type\":\"scatter\"},{\"customdata\":[[\"Knowing these two paths, O son of Pritha! no devotee is deluded. Therefore at all times be possessed...\"],[\"A devotee knowing all this, obtains all the holy fruit which is prescribed for (study of) the Vedas,...\"],[\"Now I will speak to you, who are not given to carping, of that most mysterious knowledge, accompanie...\"],[\"It is the chief among the sciences, the chief among the mysteries. It is the best means of sanctific...\"],[\"O terror of your foes! those men who have no faith in this holy doctrine, return to the path of this...\"],[\"This whole universe is pervaded, by me in an unperceived form. All entities live in me, but I, do no...\"],[\"Nor yet do all entities live in meSee my divine power. Supporting all entities and producing all ent...\"],[\"As the great and ubiquitous atmosphere always remains in space, know that similarly all entities liv...\"],[\"At the expiration of a Kalpa, O son of Kunti! all entities enter my nature; and at the beginning of ...\"],[\"Taking the control of my own nature, I bring forth again and again this whole collection of entities...\"],[\"But, O Arguna! these actions do not fetter me, who remain like one unconcerned, and who am unattache...\"],[\"Nature gives birth to movables and immovables through me, the supervisor, and by reason of that, O s...\"],[\"Deluded people of vain hopes, vain acts, vain knowledge, whose minds are disordered, and who are inc...\"],[\"and who are inclined to the delusive nature of Asuras and Rakshasas, not knowing my highest nature a...\"],[\"But the high-souled ones, O son of Pritha! who are inclined to the godlike nature, knowing me as the...\"],[\"Constantly glorifying me, and exerting themselves, firm in their vows, and saluting me with reverenc...\"],[\"And others again, offering up the sacrifice of knowledge, worship me as one, as distinct, and as all...\"],[\"I am the Kratu, I am the Yagna, I am the Svadha, I the product of the herbs. I am the sacred verse. ...\"],[\"I am the father of this universe, the mother, the creator, the grandsire, the thing to be known, the...\"],[\"the goal, the sustainer, the lord, the supervisor, the residence, the asylum, the friend, the source...\"],[\"I cause heat and I send forth and stop showersI am immortality and also death; and I, O Arguna! am t...\"],[\"Those who know the three (branches of) knowledge, who drink the Soma juice, whose sins are washed aw...\"],[\"Thus those who wish for objects of desire, and resort to the ordinances of the three (Vedas), obtain...\"],[\"To those men who worship me, meditating on me and on no one else, and who are constantly devoted, I ...\"],[\"Even those, O son of Kunti! who being devotees of other divinities worship with faith, worship me on...\"],[\"For I am the enjoyer as well as the lord of all sacrifices. But they know me not truly, therefore do...\"],[\"Those who make vows to the gods go to the gods; those who make vows to the manes go to the manes tho...\"],[\"Whoever with devotion offers me leaf, flower, fruit, water, that, presented with devotion, I accept ...\"],[\"Whatever you do, O son of Kunti! whatever you eat, whatever sacrifice you make, whatever you give, w...\"],[\"Thus will you be released from the bonds of action, the fruits of which are agreeable or disagreeabl...\"],[\"I am alike to all beings; to me none is hateful, none dear. But those who worship me with devotion (...\"],[\"Even if a very ill-conducted man worships me, not worshipping any one else, he must certainly be dee...\"],[\"He soon becomes devout of heart, and obtains lasting tranquillity. (You may) affirm, O son of Kunti!...\"],[\"For, O son of Pritha! even those who are of sinful birth, women, Vaisyas, and Sudras likewise, resor...\"]],\"hovertemplate\":\"Chapter=9\\u003cbr\\u003esymbol=circle\\u003cbr\\u003ex=%{x}\\u003cbr\\u003ey=%{y}\\u003cbr\\u003esize_col=%{marker.size}\\u003cbr\\u003eextract=%{customdata[0]}\\u003cextra\\u003e\\u003c\\u002fextra\\u003e\",\"legendgroup\":\"9, circle\",\"marker\":{\"color\":\"#FECB52\",\"size\":[4,4,4,4,4,4,4,4,4,4,4,4,4,4,4,4,4,4,4,4,4,4,4,4,4,4,4,4,4,4,4,4,4,4],\"sizemode\":\"area\",\"sizeref\":0.25,\"symbol\":\"circle\",\"line\":{\"color\":\"DarkSlateGrey\",\"width\":0},\"opacity\":1},\"mode\":\"markers\",\"name\":\"9, circle\",\"orientation\":\"v\",\"showlegend\":true,\"x\":[-1.2891427,0.6463551,0.7545967,1.0373614,2.8734171,3.3819954,3.7425816,3.50833,3.657788,3.6812286,2.8839974,3.277913,2.6752267,2.4919322,2.3137596,2.8676581,3.7198603,3.4371922,3.8467438,2.5283184,2.0722296,2.1200328,1.7378554,2.136271,2.190105,2.503844,2.0747628,-4.9787145,-4.563037,-5.033095,1.6036568,1.2256173,1.0116585,1.8576123],\"xaxis\":\"x\",\"y\":[-0.9924008,-1.1060609,-0.36442542,-0.76878023,-0.4597745,-1.6719149,-1.6429487,-1.5067116,-1.4258798,-1.6685857,-0.40355018,-1.1740608,-0.19092712,-1.5156909,-1.4338013,-1.9703604,-2.4324968,-2.3833826,-2.0435538,-1.685944,-1.3396205,-1.1576431,-1.4201086,-1.7937663,-1.5816258,-1.7360574,-1.5765792,-0.34472615,-0.23864338,-1.1952887,-1.7415113,-1.7672322,-1.8612213,-1.9912152],\"yaxis\":\"y\",\"type\":\"scatter\"},{\"customdata\":[[\"What then (need be said of) holy Brahmanas and royal saints who are (my) devotees? Coming to this tr...\"],[\"(Place your) mind on me, become my devotee, my worshipper; reverence me, and thus making me your hig...\"],[\"Yet again, O you of mighty arms! listen to my excellent words, which, out of a wish for your welfare...\"],[\"Not the multitudes of gods, nor the great sages know my source; for I am in every way the origin of ...\"],[\"Of (all) mortals, he who knows me to be unborn, without beginning, the great lord of the world, bein...\"],[\"Intelligence, knowledge, freedom from delusion, forgiveness, truth, restraint of the senses, tranqui...\"],[\"tranquillity, pleasure, pain, birth, death, fear, and also security, harmlessness, equability, conte...\"],[\"The seven great sages, and likewise the four ancient Manus, whose descendants are (all) these people...\"],[\"Whoever correctly knows these powers and emanations of mine, becomes possessed of devotion free from...\"],[\"The wise, full of love, worship me, believing that I am the origin of all, and that all moves on thr...\"],[\"(Placing their) minds on me, offering (their) lives to me, instructing each other, and speaking abou...\"],[\"To these, who are constantly devoted, and who worship with love, I give that knowledge by which they...\"],[\"And remaining in their hearts, I destroy, with the brilliant lamp of knowledge, the darkness born of...\"],[\"Arguna said: You are the supreme Brahman, the supreme goal, the holiest of the holy. All sages, as w...\"],[\"All sages, as well as the divine sage Narada, Asita, Devala, and Vyasa, call you the eternal being, ...\"],[\"And so, too, you tell me yourself, O Kesava! I believe all this that you tell me (to be) true; for, ...\"],[\"I believe all this that you tell me (to be) true; for, O lord! neither the gods nor demons understan...\"],[\"O best of beings! creator of all things! lord of all things! god of gods! lord of the universe! be p...\"],[\"How shall I know you, O you of mystic power! always meditating on you? And in what various entities,...\"],[\"Again, O Ganardana! do you yourself declare your powers and emanations; because hearing this nectar,...\"],[\"Well then, O best of Kauravas! I will state to you my own divine emanations; but (only) the chief (o...\"],[\"I am the self, O Gudakesa! seated in the hearts of all beings. I am the beginning and the middle and...\"],[\"I am Vishnu among the Adityas, the beaming sun among the shining (bodies); I am Mariki among the Mar...\"],[\"Among the Vedas, I am the Sama-vedaI am Indra among the gods. And I am mind among the senses. I am c...\"],[\"And I am Sankara among the Rudras, the lord of wealth among Yakshas and Rakshases. And I am fire amo...\"],[\"And know me, O Arguna! to be Brihaspati, the chief among domestic priests. I am Skanda among general...\"],[\"I am Bhrigu among the great sagesI am the single syllable (OM) among words. Among sacrifices I am th...\"],[\"the Asvattha among all trees, and Narada among divine sages; Kitraratha among the heavenly chorister...\"],[\"Among horses know me to be Ukkaissravas, brought forth by (the labours for) the nectar; and Airavata...\"],[\"I am the thunderbolt among weapons, the wishgiving (cow) among cowsAnd I am love which generates. Am...\"],[\"Among Naga snakes I am Ananta; I am Varuna among aquatic beings. And I am Aryaman among the manes, a...\"],[\"Among demons, too, I am PralhadaI am the king of death (Kala, time) among those that count. Among be...\"],[\"I am the wind among those that blowI am Rama among those that wield weapons. Among fishes I am Makar...\"],[\"Of created things I am the beginning and the end and the middle also, O Arguna! Among sciences, I am...\"],[\"Among letters I am the letter A, and among the group of compounds the copulative compound. I myself ...\"],[\"I am death who seizes all, and the source of what is to be. And among females, fame, fortune, speech...\"],[\"Likewise among Saman hymns, I am the Brihatsaman, and I the Gayatri among metresI am Margasirsha amo...\"],[\"of cheats, I am the game of dice; I am the glory of the glorious; victory, I am industry, I am the g...\"],[\"I am Vasudeva among the descendants of Vrishni, and Arguna among the Pandavas. Among sages also, I a...\"],[\"I am the rod of those that restrain, and the policy of those that desire victory. I am silence respe...\"],[\"And, O Arguna! I am also that which is the seed of all things. There is nothing movable or immovable...\"],[\"O terror of your foes! there is no end to my divine emanations. Here I have declared the extent of (...\"]],\"hovertemplate\":\"Chapter=10\\u003cbr\\u003esymbol=circle\\u003cbr\\u003ex=%{x}\\u003cbr\\u003ey=%{y}\\u003cbr\\u003esize_col=%{marker.size}\\u003cbr\\u003eextract=%{customdata[0]}\\u003cextra\\u003e\\u003c\\u002fextra\\u003e\",\"legendgroup\":\"10, circle\",\"marker\":{\"color\":\"#636efa\",\"size\":[4,4,4,4,4,4,4,4,4,4,4,4,4,4,4,4,4,4,4,4,4,4,4,4,4,4,4,4,4,4,4,4,4,4,4,4,4,4,4,4,4,4],\"sizemode\":\"area\",\"sizeref\":0.25,\"symbol\":\"circle\",\"line\":{\"color\":\"DarkSlateGrey\",\"width\":0},\"opacity\":1},\"mode\":\"markers\",\"name\":\"10, circle\",\"orientation\":\"v\",\"showlegend\":true,\"x\":[1.9572227,5.0543623,4.5681214,3.4603043,3.2487395,3.0563734,3.2937853,3.4452693,2.8400378,2.6518855,2.1999094,1.6586367,2.1521232,2.4593604,3.9838312,4.5927367,5.023652,4.5220437,4.435352,4.4646735,4.324126,4.172775,4.3572598,4.332268,4.51145,4.4728336,4.367771,4.404683,4.5530562,4.4912333,4.4867535,4.3908086,4.2668505,4.116981,4.3683324,4.2770734,4.307354,3.8321905,3.042197,3.5735917,4.044248,4.210327],\"xaxis\":\"x\",\"y\":[-1.8795774,-0.32215866,-0.33399588,-0.39724237,-0.08779638,-0.37423715,-0.4413695,-0.81898177,-1.0840353,-1.1465396,-0.755252,-2.409852,-2.7865257,-2.964866,-1.6014483,-1.6173985,-1.3708917,-1.5369527,-1.6977123,-1.7454437,-2.0182874,-3.078399,-3.5907705,-3.6299415,-3.9581926,-3.9077396,-3.812224,-3.8933103,-4.110172,-3.9670174,-3.8829489,-3.8404477,-3.676577,-3.5160294,-3.8082929,-3.8317056,-3.8423355,-3.3462515,-2.6175647,-1.730956,-1.8295981,-1.5954405],\"yaxis\":\"y\",\"type\":\"scatter\"},{\"customdata\":[[\"Whatever thing (there is) of power, or glorious, or splendid, know all that to be produced from port...\"],[\"Or rather, O Arguna! what have you to do, knowing all this at large? I stand supporting all this by ...\"],[\"Arguna said: In consequence of the excellent and mysterious words concerning the relation of the sup...\"],[\"O you whose eyes are like lotus leaves! I have heard from you at large about the production and diss...\"],[\"O highest lord! what you have said about yourself is so. I wish, O best of beings! to see your divin...\"],[\"If, O lord! you think that it is possible for me to look upon it, then, O lord of the possessors of ...\"],[\"The Deity said: In hundreds and in thousands see my forms, O son of Pritha! various, divine, and of ...\"],[\"See the Adityas, Vasus, Rudras, the two Asvins, and Maruts likewise. And O descendant of Bharata! se...\"],[\"Within my body, O Gudakesa! see to-day the whole universe, including (everything) movable and immova...\"],[\"But you will not be able to see me with merely this eye of yours. I give you an eye divine. (Now) se...\"],[\"Sangaya said: Having spoken thus, O king! Hari, the great lord of the possessors of mystic power, th...\"],[\"having many mouths and eyes, having (within it) many wonderful sights, having many celestial ornamen...\"],[\"having many celestial ornaments, having, many celestial weapons held erect, wearing celestial flower...\"],[\"If in the heavens, the lustre of a thousand suns burst forth all at once, that would be like the lus...\"],[\"There the son of Pandu then observed in the body of the god of gods the whole universe (all) in one,...\"],[\"Then Dhanangaya filled with amazement, and with hair standing on end, bowed his head before the god,...\"],[\"Arguna said: O god! I see within your body the gods, as also all the groups of various beings; and t...\"],[\"I see you, who are of countless forms, possessed of many arms, stomachs, mouths, and eyes on all sid...\"],[\"I see you bearing a coronet and a mace and a discus a mass of glory, brilliant on all sides, difficu...\"],[\"You are indestructible, the supreme one to be known. You are the highest support of this universe. Y...\"],[\"I see you void of beginning, middle, end of infinite power, of unnumbered arms, having the sun and m...\"],[\"For this space between heaven and earth and all the quarters are pervaded by you alone. Looking, at ...\"],[\"For here these groups of gods are entering into you. Some being afraid are praying with joined hands...\"],[\"The Rudras, and Adityas, the Vasus, the Sadhyas, the Visvas, the two Asvins, the Maruts, and the Ush...\"],[\"Seeing your mighty form, with many mouths and eyes, with many arms, thighs, and feet, with many stom...\"],[\"Seeing you, O Vishnu! touching the skies, radiant, possessed of many hues, with a gaping mouth, and ...\"],[\"And seeing your mouths terrible by the jaws, and resembling the fire of destruction, I cannot recogn...\"],[\"And all these sons of Dhritarashtra, together with all the bands of kings, and Bhishma and Drona, an...\"],[\"are rapidly entering your mouths, fearful and horrific by (reason of your) jaws. And some with their...\"],[\"As the many rapid currents of a river's waters run towards the sea alone, so do these heroes of the ...\"],[\"As butterflies, with increased velocity, enter a blazing fire to their destruction, so too do these ...\"],[\"Swallowing all these people, you are licking them over and over again from all sides, with your blaz...\"],[\"Tell me who you are in this fierce form. Salutations be to thee, O chief of the gods! Be gracious. I...\"],[\"The Deity said: I am death, the destroyer of the worlds, fully developed, and I am now active about ...\"],[\"Therefore, be up, obtain glory, and vanquishing (your) foes, enjoy a prosperous kingdom. All these h...\"],[\"Drona, and Bhishma, and Gayadratha, and Karna, and likewise other valiant warriors also, whom I have...\"],[\"Sangaya said: Hearing these words of Kesava, the wearer of the coronet, trembling, and with joined h...\"],[\"Arguna said: It is quite proper, O Hrishikesa! that the universe is delighted and charmed by your re...\"],[\"And why, O high-souled one! should they not bow down to you (who are) greater than Brahman, and firs...\"],[\"You are the primal god, the ancient being, you are the highest support of this universe. You are tha...\"],[\"You are the wind, Yama, fire, Varuna, the moon, you Pragapati, and the great grandsire. Obeisance be...\"],[\"In front and from behind obeisance to thee! Obeisance be to thee from all sides, O you who are all! ...\"],[\"Whatever I have said contemptuously, for instance, `O Krishna!' `O Yadava!' `O friend!' thinking you...\"],[\"or through friendliness, or incautiously; and whatever disrespect I have shown you for purposes of m...\"],[\"You are the father of the world movable and immovable you its great and venerable master; there is n...\"],[\"Therefore I bow and prostrate myself, and would propitiate you, the praiseworthy lord. Be pleased, O...\"],[\"I am delighted at seeing what I had never seen before, and my heart is also alarmed by fear. Show me...\"],[\"I wish to see you bearing the coronet and the mace, with the discus in hand, just the same (as befor...\"],[\"The Deity said: O Arguna! being pleased (with you), I have by my own mystic power shown you this sup...\"],[\"I cannot be seen in this form by any one but you, (even) by (the help of) the study of the Vedas, or...\"],[\"Be not alarmed, be not perplexed, at seeing this form of mine, fearful like this. Free from fear and...\"],[\"Sangaya said: Having thus spoken to Arguna, Vasudeva again showed his own form, and the high-souled ...\"],[\"Arguna said: O Ganardana! seeing this mild, human form of yours, I am now in my right mind, and have...\"],[\"The Deity said: Even the gods are always desiring to see this form of mine, which it is difficult to...\"],[\"I cannot be seen, as you have seen me, by (means of) the Vedas, not by penance, not by gift, nor yet...\"]],\"hovertemplate\":\"Chapter=11\\u003cbr\\u003esymbol=circle\\u003cbr\\u003ex=%{x}\\u003cbr\\u003ey=%{y}\\u003cbr\\u003esize_col=%{marker.size}\\u003cbr\\u003eextract=%{customdata[0]}\\u003cextra\\u003e\\u003c\\u002fextra\\u003e\",\"legendgroup\":\"11, circle\",\"marker\":{\"color\":\"#EF553B\",\"size\":[4,4,4,4,4,4,4,4,4,4,4,4,4,4,4,4,4,4,4,4,4,4,4,4,4,4,4,4,4,4,4,4,4,4,4,4,4,4,4,4,4,4,4,4,4,4,4,4,4,4,4,4,4,4,4],\"sizemode\":\"area\",\"sizeref\":0.25,\"symbol\":\"circle\",\"line\":{\"color\":\"DarkSlateGrey\",\"width\":0},\"opacity\":1},\"mode\":\"markers\",\"name\":\"11, circle\",\"orientation\":\"v\",\"showlegend\":true,\"x\":[3.764124,7.9578514,8.070997,6.8620977,7.742731,7.7921176,8.069279,7.4318104,7.6259995,7.7904572,8.002582,6.7150383,7.62509,8.359428,8.470567,8.403392,7.93758,6.350023,6.4050255,6.1671524,6.2652698,6.3807187,6.108894,6.803908,6.777679,8.196987,6.913944,7.1139846,6.7830935,6.5400844,6.707748,6.631441,6.171552,7.9856687,8.477704,8.84471,8.565281,8.003148,5.910712,6.1110816,6.220005,5.9008346,5.662471,4.8796873,5.5840554,5.6120615,7.5870333,8.202194,8.47905,8.586372,8.555065,8.660759,8.708714,8.575241,8.51796],\"xaxis\":\"x\",\"y\":[-1.7046465,1.5424095,1.5865449,-0.1284759,-0.10145048,-0.026371337,0.13142683,0.025018167,0.03192555,0.21151648,0.25384182,0.21748981,0.2808701,0.67909384,0.61896765,1.1453751,0.39524722,-0.37572178,-0.47000936,-0.37961367,-0.2182329,0.10300573,0.5705353,0.35360813,0.30338788,0.9444457,0.8407264,0.9443187,1.0908905,0.8055038,0.47573522,0.658473,-0.15357935,3.2670503,2.9931808,2.5394585,2.2317398,1.2905964,-0.6058763,-0.37995428,0.08585735,-0.22801416,-0.37835205,-0.23594855,-0.5172398,-0.27301538,-0.25325543,-0.43618724,-0.20635071,-0.18621291,0.3367268,0.8594672,-0.18017976,-0.31925145,-0.54305995],\"yaxis\":\"y\",\"type\":\"scatter\"},{\"customdata\":[[\"But, O Arguna! by devotion to me exclusively, I can in this form be truly known, seen, and assimilat...\"],[\"He who performs acts for (propitiating) me, to whom I am the highest (object), who is my devotee, wh...\"],[\"Arguna said: Of the worshippers, who thus, constantly devoted, meditate on you, and those who (medit...\"],[\"The Deity said: Those who being constantly devoted, and possessed of the highest faith, worship me w...\"],[\"But those, who, restraining the (whole) group of the senses, and with a mind at all times equable, m...\"],[\"immovable, and constant, they, intent on the good of all beings, necessarily attain to me. For those...\"],[\"For those whose minds are attached to the unperceived, the trouble is much greater. Because the unpe...\"],[\"Because the unperceived goal is obtained by embodied (beings) with difficulty. As to those, however,...\"],[\"As to those, however, O son of Pritha! who, dedicating all their actions to me, and (holding) me as ...\"],[\"Place your mind on me only; fix your understanding on me. In me you will dwell, hereafter, (there is...\"],[\"But if you are unable to fix your mind steadily on me, then, O Dhanangaya! endeavour to obtain me by...\"],[\"If you are unequal even to continuous meditation, then let acts for (propitiating) me be your highes...\"],[\"If you are unable to do even this, then resort to devotion to me, and, with self-restraint, abandon ...\"],[\"For knowledge is better than continuous meditation; concentration is esteemed higher than knowledge;...\"],[\"That devotee of mine, who hates no being, who is friendly and compassionate, who is free from egoism...\"],[\"contented, constantly devoted, self-restrained, and firm in his determinations, and whose mind and u...\"],[\"He through whom the world is not agitated, and who is not agitated by the world, who is free from jo...\"],[\"That devotee of mine, who is unconcerned, pure, assiduous, impartial, free from distress, who abando...\"],[\"He who is full of devotion to me, who feels no joy and no aversion, who does not grieve and does not...\"],[\"He who is alike to friend and foe, as also in honour and dishonour, who is alike in cold and heat, p...\"]],\"hovertemplate\":\"Chapter=12\\u003cbr\\u003esymbol=circle\\u003cbr\\u003ex=%{x}\\u003cbr\\u003ey=%{y}\\u003cbr\\u003esize_col=%{marker.size}\\u003cbr\\u003eextract=%{customdata[0]}\\u003cextra\\u003e\\u003c\\u002fextra\\u003e\",\"legendgroup\":\"12, circle\",\"marker\":{\"color\":\"#00cc96\",\"size\":[4,4,4,4,4,4,4,4,4,4,4,4,4,4,4,4,4,4,4,4],\"sizemode\":\"area\",\"sizeref\":0.25,\"symbol\":\"circle\",\"line\":{\"color\":\"DarkSlateGrey\",\"width\":0},\"opacity\":1},\"mode\":\"markers\",\"name\":\"12, circle\",\"orientation\":\"v\",\"showlegend\":true,\"x\":[-0.28742987,-0.6703053,-0.37825,0.052680425,-0.94392145,-0.51998293,-0.53991616,-0.9288907,-1.3111748,-4.7403865,-5.002463,-4.9814544,-4.97453,-4.5667615,-4.4793687,-4.5244737,-4.830201,-4.4511437,-4.3741035,-4.211559],\"xaxis\":\"x\",\"y\":[-1.0716121,-1.3082186,-1.272614,-1.0807457,-2.5806818,-2.8023171,-2.4506874,-2.4920523,-2.2710803,-2.1600697,-1.9469103,-1.609849,-2.57245,-5.000323,-5.3951836,-5.368074,-5.341705,-5.4872327,-5.5119014,-5.5291486],\"yaxis\":\"y\",\"type\":\"scatter\"},{\"customdata\":[[\"to whom praise and blame are alike, who is taciturn, and contented with anything whatever (that come...\"],[\"But those devotees who, imbued with faith, and (regarding) me as their highest (goal), resort to thi...\"],[\"The Deity said: This body, O son of Kunti! is called Kshetra and the learned call him who knows it t...\"],[\"And know me also, O descendant of Bharata! to be the Kshetragna in all Kshetras. The knowledge of Ks...\"],[\"The knowledge of Kshetra and Kshetragna is deemed by me (to be real) knowledge. Now hear from me in ...\"],[\"(all which) is sung in various ways by sages in numerous hymns, distinctly, and in well-settled text...\"],[\"The great elements, egoism, the understanding, the unperceived also, the ten senses, and the one, an...\"],[\"desire, aversion, pleasure, pain, body, consciousness, courage, thus in brief has been declared the ...\"],[\"Absence of vanity, absence of ostentatiousness, absence of hurtfulness, forgiveness, straightforward...\"],[\"indifference towards objects of sense, and also absence of egoism; perception of the misery and evil...\"],[\"absence of attachment, absence of self-identifying regard for son, wife, home, and so forth; and con...\"],[\"unswerving devotion to me, without meditation on any one else; resorting to clean places, distaste f...\"],[\"constancy in knowledge of the relation of the individual self to the supreme, perception of the obje...\"],[\"I will declare that which is the object of knowledge, knowing which, one reaches immortality; the hi...\"],[\"It has hands and feet on all sides, it has eyes, heads, and faces on all sides, it has ears on all s...\"],[\"Possessed of the qualities of all the senses, (but) devoid of all senses, unattached, it supports al...\"],[\"It is within all things and without them; it is movable and also immovable; it is unknowable through...\"],[\"Not different in (different) things, but standing as though different, it should be known to be the ...\"],[\"It is the radiance even of the radiant (bodies); it is said (to be) beyond darkness. It is knowledge...\"],[\"Thus in brief have Kshetra, knowledge, and the object of knowledge been declared. My devotee, knowin...\"],[\"Know nature and spirit both (to be) without beginning, and know all developments and qualities (to b...\"],[\"Nature is said to be the origin of the capacity of working (residing) in the body and the senses; an...\"],[\"For spirit with nature joined, enjoys the qualities born of nature. And the cause of its birth in go...\"],[\"The supreme spirit in this body is called supervisor, adviser, supporter, enjoyer, the great lord, a...\"],[\"He who thus knows nature and spirit, together with the qualities, is not born again, however living....\"],[\"Some by concentration see the self in the self by the self; others by the Sankhya-yoga; and others s...\"],[\"others yet, not knowing this, practise concentration, after hearing from others. They, too, being (t...\"],[\"Whatever thing movable or immovable comes into existence, know that to be from the connexion of Kshe...\"],[\"He sees (truly), who sees the supreme lord abiding alike in all entities, and not destroyed though t...\"],[\"For he who sees the lord abiding everywhere alike, does not destroy himself by himself, and then rea...\"],[\"He sees (truly), who sees (all) actions (to be) in every way done by nature alone, and likewise the ...\"],[\"When a man sees all the variety of entities as existing in one, and (all as) emanating from that, th...\"],[\"This inexhaustible supreme self, being without beginning and without qualities, does not act, and is...\"]],\"hovertemplate\":\"Chapter=13\\u003cbr\\u003esymbol=circle\\u003cbr\\u003ex=%{x}\\u003cbr\\u003ey=%{y}\\u003cbr\\u003esize_col=%{marker.size}\\u003cbr\\u003eextract=%{customdata[0]}\\u003cextra\\u003e\\u003c\\u002fextra\\u003e\",\"legendgroup\":\"13, circle\",\"marker\":{\"color\":\"#ab63fa\",\"size\":[4,4,4,4,4,4,4,4,4,4,4,4,4,4,4,4,4,4,4,4,4,4,4,4,4,4,4,4,4,4,4,4,4],\"sizemode\":\"area\",\"sizeref\":0.25,\"symbol\":\"circle\",\"line\":{\"color\":\"DarkSlateGrey\",\"width\":0},\"opacity\":1},\"mode\":\"markers\",\"name\":\"13, circle\",\"orientation\":\"v\",\"showlegend\":true,\"x\":[-0.44453546,-0.55324095,-0.74118376,-0.8886947,-1.0878898,-1.5937855,-1.1122391,-2.1090667,-1.7968992,-2.1928298,-1.9305347,-1.7871968,-1.7094175,-1.4558995,-1.8733327,-1.5060943,-1.5988925,-1.1335815,-1.3103018,-1.7614442,-2.1627355,-1.989998,-2.0305817,-1.9860934,-2.5467057,-1.729345,-0.9290602,-0.45917156,-2.5195894,-2.9845867,-2.7630444,-2.4276175,4.204525],\"xaxis\":\"x\",\"y\":[1.5543532,1.7203321,1.6415524,1.7820188,1.7825541,1.7441081,0.7640887,1.4132488,-2.3171687,-3.0101192,-2.9137762,-2.299472,-3.124079,-3.6783664,-2.9346406,-2.7714489,-2.6761553,2.0584478,1.7756907,1.6856248,1.6037586,1.5817288,1.6610829,1.3570992,0.98997235,1.0416898,1.1271344,0.9172918,-2.995154,-3.6529043,-3.5822551,-4.169019,9.299667],\"yaxis\":\"y\",\"type\":\"scatter\"},{\"customdata\":[[\"As by (reason of its) subtlety the all-pervading space is not tainted, so the self stationed in ever...\"],[\"As the sun singly lights up all this world, so the Kshetragna, O descendant of Bharata! lights up th...\"],[\"The Deity said: Again I will declare (to you) the highest knowledge, the best of (all sorts of) know...\"],[\"Those who, resorting to this knowledge, reach assimilation with my essence, are not born at the crea...\"],[\"The great Brahman is a womb for me, in which I cast the seed. From that, O descendant of Bharata! is...\"],[\"Of the bodies, O son of Kunti! which are born from all wombs, the (main) womb is the great Brahman, ...\"],[\"Goodness, passion, darkness, these qualities born from nature, O you of mighty arms! bind down the i...\"],[\"Of these, goodness, which, in consequence of being untainted, is enlightening and free from (all) mi...\"],[\"Know that passion consists in being enamoured, and is produced from craving and attachment. That, O ...\"],[\"Darkness (you must) know to be born of ignorance, it deludes all embodied (selfs). And that, O desce...\"],[\"Goodness unites (the self) with pleasure; passion, O descendant of Bharata! with action; and darknes...\"],[\"Passion and darkness being repressed, goodness stands, O descendant of Bharata! Passion and goodness...\"],[\"When in this body at all portals light (that is to say) knowledge prevails, then should one know goo...\"],[\"Avarice, activity, performance of actions, want of tranquillity, desire, these are produced, O chief...\"],[\"Want of light, want of activity heedlessness, and delusion, these are produced, O descendant of Kuru...\"],[\"When an embodied (self) encounters death, while goodness is developed, then he reaches the untainted...\"],[\"Encountering death during (the prevalence of) passion, he is born among those attached to action. Li...\"],[\"The fruit of meritorious action is said to be good, untainted; while the fruit of passion is misery;...\"],[\"From goodness is produced knowledge, from passion avarice, and from darkness heedlessness and delusi...\"],[\"Those who adhere to (the ways of) goodness go up; the passionate remain in the middle; while those o...\"],[\"When a right-seeing person sees none but the qualities (to be) the doers (of all action), and knows ...\"],[\"The embodied (self), who transcends these three qualities, from which bodies are produced, attains i...\"],[\"Arguna said: What are the characteristics, O lord! of one who has transcended these three qualities?...\"],[\"The Deity said: He is said to have transcended the qualities, O son of Pandu! who is not averse to l...\"],[\"who sitting like one unconcerned is never perturbed by the qualities; who remains steady and moves n...\"],[\"to whom pain and pleasure are alike; to whom a sod and a stone and gold are alike; to whom what is a...\"],[\"to whom censure and praise of himself are alike; who is alike in honour and dishonour; who is alike ...\"]],\"hovertemplate\":\"Chapter=14\\u003cbr\\u003esymbol=circle\\u003cbr\\u003ex=%{x}\\u003cbr\\u003ey=%{y}\\u003cbr\\u003esize_col=%{marker.size}\\u003cbr\\u003eextract=%{customdata[0]}\\u003cextra\\u003e\\u003c\\u002fextra\\u003e\",\"legendgroup\":\"14, circle\",\"marker\":{\"color\":\"#FFA15A\",\"size\":[4,4,4,4,4,4,4,4,4,4,4,4,4,4,4,4,4,4,4,4,4,4,4,4,4,4,4],\"sizemode\":\"area\",\"sizeref\":0.25,\"symbol\":\"circle\",\"line\":{\"color\":\"DarkSlateGrey\",\"width\":0},\"opacity\":1},\"mode\":\"markers\",\"name\":\"14, circle\",\"orientation\":\"v\",\"showlegend\":true,\"x\":[-0.7534567,-0.750872,0.23130104,0.28086278,0.14935471,-2.0196412,-2.116612,-2.117969,-2.1528656,-2.1427417,-2.1526148,-2.13826,-2.0418837,-2.1183197,-2.1205447,-2.2905755,-2.411279,-2.5655696,-2.2650516,-2.0489385,-2.5160987,-2.4056478,-2.3625498,-2.2292876,-3.608809,-3.6161354,-3.5637393],\"xaxis\":\"x\",\"y\":[1.747804,1.6870188,-1.610175,-1.9008961,-1.5531498,1.5609246,3.6234217,3.4167318,3.9396482,4.029316,4.0269175,4.061025,4.060639,4.076341,4.120287,4.272601,4.314091,4.3690987,3.986569,3.117651,1.4197193,1.8301027,1.0305052,0.7233118,-4.7176075,-5.3992167,-5.2097235],\"yaxis\":\"y\",\"type\":\"scatter\"},{\"customdata\":[[\"And he who worships me with an unswerving devotion, transcends these qualities, and becomes fit for ...\"],[\"For I am the embodiment of the Brahman, of indefeasible immortality, of eternal piety, and of unbrok...\"],[\"The Deity said: They say the inexhaustible Asvattha has (its) roots above, (its) branches below; the...\"],[\"Upwards and downwards extend its branches, which are enlarged by the qualities, and the sprouts of w...\"],[\"Its form is not thus known here, nor (its) end, nor beginning, nor support. But having with the firm...\"],[\"then should one seek for that seat from which those that go there never return, (thinking) that one ...\"],[\"Those who are free from pride and delusion, who have overcome the evils of attachment, who are const...\"],[\"The sun does not light it, nor the moon, nor fire. That is my highest abode, going to which none ret...\"],[\"An eternal portion of me it is, which, becoming an individual soul in the mortal world, draws (to it...\"],[\"Whenever the ruler (of the bodily frame) obtains or quits a body, he goes taking these (with him) as...\"],[\"And presiding over the senses of hearing and seeing and touch, and taste, and smell, and the mind, h...\"],[\"Those who are deluded do not see (him) remaining in or quitting (a body), enjoying or joined to the ...\"],[\"Devotees making efforts perceive him abiding within their selfs. But those whose selfs have not been...\"],[\"Know that glory (to be) mine which, dwelling in the sun, lights up the whole world, or in the moon o...\"],[\"Entering the earth, I by my power support all things, and becoming the juicy moon, I nourish all her...\"],[\"I becoming the fire, and dwelling in the bodies of (all) creatures, and united with the upward and d...\"],[\"And I am placed in the heart of all; from me (come) memory, knowledge, and their removal; I alone am...\"],[\"There are these two beings in the world, the destructible and the indestructible. The destructible (...\"],[\"But the being supreme is yet another, called the highest self, who as the inexhaustible lord, pervad...\"],[\"And since I transcend the destructible, and since I am higher also than the indestructible, therefor...\"]],\"hovertemplate\":\"Chapter=15\\u003cbr\\u003esymbol=circle\\u003cbr\\u003ex=%{x}\\u003cbr\\u003ey=%{y}\\u003cbr\\u003esize_col=%{marker.size}\\u003cbr\\u003eextract=%{customdata[0]}\\u003cextra\\u003e\\u003c\\u002fextra\\u003e\",\"legendgroup\":\"15, circle\",\"marker\":{\"color\":\"#19d3f3\",\"size\":[4,4,4,4,4,4,4,4,4,4,4,4,4,4,4,4,4,4,4,4],\"sizemode\":\"area\",\"sizeref\":0.25,\"symbol\":\"circle\",\"line\":{\"color\":\"DarkSlateGrey\",\"width\":0},\"opacity\":1},\"mode\":\"markers\",\"name\":\"15, circle\",\"orientation\":\"v\",\"showlegend\":true,\"x\":[-1.683147,-0.93223274,-1.0087664,-1.1929666,-0.86605227,-0.7171798,-0.6780846,-0.6456824,-2.722525,-3.4794924,-3.5809326,1.6875924,-2.938947,3.9765646,3.6287496,2.8771389,1.9247717,1.5670137,1.3459451,2.33366],\"xaxis\":\"x\",\"y\":[-4.5213547,-4.392998,-4.1162744,-4.0063424,-3.5198996,-3.6630633,-3.0171194,-3.3681629,-3.375533,-3.2802022,-3.0193372,0.41928092,-2.1841617,-1.6535319,-2.7247453,-2.7684581,-2.8664932,-2.9516418,-2.6092865,-2.4197645],\"yaxis\":\"y\",\"type\":\"scatter\"},{\"customdata\":[[\"He who, undeluded, thus knows me the best of beings, worships me every way, O descendant of Bharata!...\"],[\"Thus, O sinless one! have I proclaimed this most mysterious science. He who knows this, has done all...\"],[\"Freedom from fear, purity of heart, perseverance in (pursuit of) knowledge and abstraction of mind, ...\"],[\"harmlessness, truth, freedom from anger, renunciation, tranquillity, freedom from the habit of backb...\"],[\"noblemindedness, forgiveness, courage, purity, freedom from a desire to injure others, absence of va...\"],[\"Ostentatiousness, pride, vanity, anger, and also harshness and ignorance (are) his, O son of Pritha!...\"],[\"Godlike endowments are deemed to be (means) for final emancipation, demoniac for bondage. Grieve not...\"],[\"(There are) two classes of created beings in this world, the godlike and the demoniac; the godlike (...\"],[\"Demoniac persons know not action or inaction, neither purity nor yet (correct) conduct nor veracity ...\"],[\"They say the universe is devoid of truth, devoid of fixed principle, and devoid of a ruler, produced...\"],[\"Holding this view, (these) enemies of the world, of ruined; selfs, of little knowledge, and of feroc...\"],[\"Entertaining insatiable desire, full of vanity, ostentatiousness, and frenzy, they adopt false notio...\"],[\"Indulging in boundless thoughts ending with death, given up to the enjoyment of objects of desire, b...\"],[\"bound down by nets of hopes in hundreds, given up to anger and desire, they wish to obtain heaps of ...\"],[\"`This have I obtained to-day; this wish I will obtain; this wealth is mine; and this also shall be m...\"],[\"this foe I have killed; others too I will destroy; I am lord, I am the enjoyer, I am perfect, strong...\"],[\"I have wealth; I am of noble birth; who else is like me? I will sacrifice; I will make gifts; I will...\"],[\"tossed about by numerous thoughts, surrounded by the net of delusion, and attached to the enjoyment ...\"],[\"Honoured (only) by themselves, void of humility, and full of the pride and frenzy of wealth, these c...\"],[\"indulging (their) vanity, brute force, arrogance, lust, and anger; and hating me in their own bodies...\"],[\"These enemies, ferocious, meanest of men, and unholy, I continually hurl down to these worlds, only ...\"],[\"Coming into demoniac wombs, deluded in every birth, they go down to the vilest state, O son of Kunti...\"],[\"Threefold is this way to hell, ruinous to the self, lust, anger, and likewise avarice; therefore one...\"],[\"Released from these three ways to darkness, O son of Kunti! a man works out his own salvation, and t...\"]],\"hovertemplate\":\"Chapter=16\\u003cbr\\u003esymbol=circle\\u003cbr\\u003ex=%{x}\\u003cbr\\u003ey=%{y}\\u003cbr\\u003esize_col=%{marker.size}\\u003cbr\\u003eextract=%{customdata[0]}\\u003cextra\\u003e\\u003c\\u002fextra\\u003e\",\"legendgroup\":\"16, circle\",\"marker\":{\"color\":\"#FF6692\",\"size\":[4,4,4,4,4,4,4,4,4,4,4,4,4,4,4,4,4,4,4,4,4,4,4,4],\"sizemode\":\"area\",\"sizeref\":0.25,\"symbol\":\"circle\",\"line\":{\"color\":\"DarkSlateGrey\",\"width\":0},\"opacity\":1},\"mode\":\"markers\",\"name\":\"16, circle\",\"orientation\":\"v\",\"showlegend\":true,\"x\":[-0.18151501,-3.3322465,0.95825946,0.8856087,1.271564,1.7040985,1.7757981,2.4501216,2.5877287,2.9034324,3.0447893,3.0748932,3.024484,3.0364296,3.0023906,2.8378134,3.0639913,3.0273533,2.941624,2.9628546,2.8199522,2.733978,-2.8946526,-4.0560412],\"xaxis\":\"x\",\"y\":[-0.7414687,-0.7978985,1.7604367,1.9720411,2.143858,2.3481386,2.2573698,2.0894158,1.9587691,1.8638783,1.5753977,1.5624527,1.2434536,1.2329078,0.79022574,1.1369733,1.3570627,1.5817678,1.8611853,2.071188,2.1155667,2.359062,2.3024127,0.8728201],\"yaxis\":\"y\",\"type\":\"scatter\"},{\"customdata\":[[\"He who abandoning scripture ordinances, acts under the impulse of desire, does not attain perfection...\"],[\"Therefore in discriminating between what should be done and what should not be done, your authority ...\"],[\"Arguna said: What is the state of those, O Krishna! who worship with faith, (but) abandoning scriptu...\"],[\"The Deity said: Faith is of three kinds in embodied (beings), it is produced from dispositions. It i...\"],[\"The faith of all, O descendant of Bharata! is conformable to the heart. A being here is full of fait...\"],[\"Those of the quality of goodness worship the gods; those of the quality of passion the Yakshas and R...\"],[\"Know those to-be of demoniac convictions, who practise fierce penance not ordained by scripture; who...\"],[\"and who torment the groups of organs in (their) bodies, and me also seated within (those) bodies. Th...\"],[\"The food also, which is liked by all, and likewise the sacrifice, the penance, and gifts, are of thr...\"],[\"The kinds of food which increase life, energy, strength, health, comfort, and relish, which are savo...\"],[\"The kinds of food which are bitter, acid, saltish, too hot, sharp, rough, and burning, and which cau...\"],[\"And the food which is cold, tasteless, stinking, stale, impure, and even leavings, are liked by the ...\"],[\"That sacrifice is good which, being prescribed in (scripture) ordinances, is performed by persons no...\"],[\"But when a sacrifice is performed, O highest of the descendants of Bharata! with an expectation of f...\"],[\"They call that sacrifice dark, which is against the ordinances (of scripture), in which no food is d...\"],[\"Paying reverence to gods, Brahmanas, preceptors, and men of knowledge; purity, straightforwardness, ...\"],[\"The speech which causes no sorrow, which is true, agreeable, and beneficial, and the study of the Ve...\"],[\"Calmness of mind, mildness, taciturnity, selfrestraint, and purity of heart, this is called the pena...\"],[\"This threefold penance, practised with perfect faith, by men who do not wish for the fruit, and who ...\"],[\"The penance which is done for respect, honour, and reverence, and with ostentatiousness, and which i...\"],[\"And that penance is described as dark, which is performed under a misguided conviction, with pain to...\"],[\"That gift is said (to be) good, which is given, because it ought to be given, to one who (can) do no...\"],[\"But that gift which is given with much difficulty, for a return of services, or even with an expecta...\"],[\"And that gift is described as dark, which is given to unfit persons, at an unfit place and time, wit...\"],[\"Om, Tad, and Sat, this is said (to be) the threefold designation of the Brahman. By that, the Brahma...\"],[\"Hence, the performance by those who study the Brahman, of sacrifices, gifts, and penances, prescribe...\"],[\"Those who desire final emancipation perform the various acts of sacrifice and penance, and the vario...\"],[\"`Sat' is employed to express existence and goodness; and likewise, O son of Pritha! the word `Sat' i...\"]],\"hovertemplate\":\"Chapter=17\\u003cbr\\u003esymbol=circle\\u003cbr\\u003ex=%{x}\\u003cbr\\u003ey=%{y}\\u003cbr\\u003esize_col=%{marker.size}\\u003cbr\\u003eextract=%{customdata[0]}\\u003cextra\\u003e\\u003c\\u002fextra\\u003e\",\"legendgroup\":\"17, circle\",\"marker\":{\"color\":\"#B6E880\",\"size\":[4,4,4,4,4,4,4,4,4,4,4,4,4,4,4,4,4,4,4,4,4,4,4,4,4,4,4,4],\"sizemode\":\"area\",\"sizeref\":0.25,\"symbol\":\"circle\",\"line\":{\"color\":\"DarkSlateGrey\",\"width\":0},\"opacity\":1},\"mode\":\"markers\",\"name\":\"17, circle\",\"orientation\":\"v\",\"showlegend\":true,\"x\":[-4.105466,-2.988949,-2.0749602,-1.7707405,-0.21967109,-1.4340839,-4.794044,-4.81319,-4.865003,-4.768218,-4.9346385,-5.2048225,-4.9913893,-5.125764,-5.280628,-5.1812816,-5.0269833,-4.9022512,-4.7307787,-4.8380833,-4.8567147,-4.286661,-5.0965424,-5.464726,-5.4351134,-5.908779,-6.1763573,-5.961244],\"xaxis\":\"x\",\"y\":[1.3214545,2.1730528,2.0765758,1.9327252,1.7292473,2.5356147,3.7552526,3.916941,3.9281301,3.8344152,3.7554476,3.081216,2.8443973,3.2051432,3.1768517,3.6929402,3.628037,4.0197706,4.0830235,3.947353,4.0085583,4.240863,3.4369535,3.2042487,2.8451204,2.8004663,2.8976684,2.930076],\"yaxis\":\"y\",\"type\":\"scatter\"},{\"customdata\":[[\"Constancy in (making) sacrifices, penances, and gifts, is called `Sat'; and (all) action, too, of wh...\"],[\"Whatever oblation is offered, whatever is given, whatever penance is performed, and whatever is done...\"],[\"Arguna said: O you of mighty arms! O Hrishikesa! O destroyer of Kesin! I wish to know the truth abou...\"],[\"The Deity said: By renunciation the sages understand the rejection of actions done with desires. The...\"],[\"Some wise men say, that action should be abandoned as being full of evil; and others, that the actio...\"],[\"As to that abandonment, O best of the descendants of Bharata! listen to my decision; for abandonment...\"],[\"The actions of sacrifice, gift, and penance should not be abandoned; they must needs be performed; f...\"],[\"But even these actions, O son of Pritha! should be performed, abandoning attachment and fruit; such ...\"],[\"The renunciation of prescribed action is not proper. Its abandonment through delusion I is described...\"],[\"When a man abandons action, merely as being troublesome, through fear of bodily affliction, he does ...\"],[\"When prescribed action is performed, O Arguna! abandoning attachment and fruit also, merely because ...\"],[\"He who is possessed of abandonment, being full of goodness, and talented, and having his doubts dest...\"],[\"Since no embodied (being) can abandon actions without exception, he is said to be possessed of aband...\"],[\"The threefold fruit of action, agreeable, disagreeable, and mixed, accrues after death to those who ...\"],[\"Learn from me, O you of mighty arms! these five causes of the completion of all actions, declared in...\"],[\"The substratum, the agent likewise, the various sorts of organs, and the various and distinct moveme...\"],[\"Whatever action, just or otherwise, a man performs with his body, speech, and mind, these five are i...\"],[\"That being so, the undiscerning man, who being of an unrefined understanding, sees the agent in the ...\"],[\"He who has no feeling of egoism, and whose mind is not tainted, even though he kills (all) these peo...\"],[\"Knowledge, the object of knowledge, the knower threefold is the prompting to action. The instrument,...\"],[\"Knowledge and action and agent are declared in the enumeration of qualities (to be) of three classes...\"],[\"Know that knowledge to be good, by which (a man) sees one entity, inexhaustible, and not different i...\"],[\"Know that knowledge to be passionate, which is (based) on distinctions (between different entities),...\"],[\"And that is described as dark, which clings to one created (thing) only as everything, which is devo...\"],[\"That action is called good, which is prescribed, which is devoid of attachment, which is not done fr...\"],[\"That is described as passionate, which (occasions) much trouble, is performed by one who wishes for ...\"],[\"The action is called dark, which is commenced through delusion, without regard to consequences, loss...\"],[\"That agent is called good, who has cast off attachment, who is free from egotistic talk, who is poss...\"],[\"That agent is called passionate, who is full of affections, who wishes for the fruit of actions, who...\"],[\"That agent is called dark, who is without application, void of discernment, headstrong, crafty, mali...\"],[\"Now hear, O Dhanangaya! the threefold division of intelligence and courage, according to qualities, ...\"],[\"That intelligence, O son of Pritha! is good which understands action and inaction, what ought to be ...\"],[\"That intelligence, O son of Pritha! is passionate, by which one imperfectly understands piety and im...\"],[\"That intelligence, O son of Pritha! is dark, which shrouded by darkness, understands impiety (to be)...\"],[\"That courage, O son of Pritha! is good courage, which is unswerving, and by which one controls the o...\"],[\"But, O Arguna! that courage is passionate, by which one adheres to piety, lust, and wealth, and thro...\"],[\"That courage is dark, O son of Pritha! by which an undiscerning man does not give up sleep, fear, so...\"],[\"Now, O chief of the descendants of Bharata! hear from me about the three sorts of happiness. That ha...\"],[\"That happiness is called good, in which one is pleased after repetition (of enjoyment), and reaches ...\"],[\"That happiness is called passionate, which (flows) from contact between the senses and their objects...\"],[\"That happiness is described as dark, which arises from sleep, laziness, heedlessness, which deludes ...\"],[\"There is no entity either on earth or in heaven among the gods, which is free from these three quali...\"],[\"The duties of Brahmanas, Kshatriyas, and Vaisyas, and of Sudras, too, O terror of your foes! are dis...\"],[\"Tranquillity, restraint of the senses, penance, purity, forgiveness, straightforwardness, also knowl...\"],[\"Valour, glory, courage, dexterity, not slinking away from battle, gifts, exercise of lordly power, t...\"],[\"Agriculture, tending cattle, trade, (this) is the natural duty of Vaisyas. And the natural duty of S...\"],[\"(Every) man intent on his own respective duties obtains perfection. Listen, now, how one intent on o...\"],[\"Worshipping, by (the performance of) his own duty, him from whom all things proceed, and by whom all...\"],[\"One's duty, though defective, is better than another's duty well performed. Performing the duty pres...\"],[\"Performing the duty prescribed by nature, one does not incur sin. O son of Kunti! one should not aba...\"],[\"One who is self-restrained, whose understanding is unattached everywhere, from whom affections have ...\"],[\"Learn from me, only in brief, O son of Kunti! how one who has obtained perfection attains the Brahma...\"],[\"A man possessed of a pure understanding, controlling his self by courage, discarding sound and other...\"],[\"who frequents clean places, who eats little, whose speech, body, and mind are restrained, who is alw...\"],[\"who abandoning egoism, stubbornness, arrogance, desire, anger, and (all) belongings, has no (thought...\"],[\"Thus reaching the Brahman, and with a tranquil self, he grieves not, wishes not; but being alike to ...\"],[\"By (that) devotion he truly understands who I am and how great. And then understanding me truly, he ...\"],[\"Even performing all actions, always depending on me, he, through my favour, obtains the imperishable...\"],[\"Dedicating in thought all actions to me, be constantly given up to me, (placing) your thoughts on me...\"],[\"(Placing) your thoughts on me, you will cross over all difficulties by my favour. But if you will no...\"],[\"If entertaining egotism, you think that you may not fight, vain, indeed, is that resolution of yours...\"],[\"Nature will constrain youThat, O son of Kunti! which through delusion you do not wish to do, you wil...\"],[\"The lord, O Arguna! is seated in the region of the heart of all beings, turning round all beings (as...\"],[\"With him, O descendant of Bharata! seek shelter in every way; by his favour you will obtain the high...\"],[\"Thus have I declared to you the knowledge more mysterious than any mystery. Ponder over it thoroughl...\"],[\"Once more, listen to my excellent words most mysterious of all. Strongly I like you, therefore I wil...\"],[\"On me (place) your mind, become my devotee, sacrifice to me, reverence me, and you will certainly co...\"],[\"Forsaking all duties, come to me as (your) sole refuge. I will release you from all sins. Be not gri...\"],[\"This you should never declare to one who performs no penance, who is not a devotee, nor to one who d...\"],[\"He who, with the highest devotion to me, will proclaim this supreme mystery among my devotees, will ...\"],[\"No one amongst men is superior to him in doing what is dear to me. And there will never be another o...\"],[\"And he who will study this holy dialogue of ours, will, such is my opinion, have offered to me the s...\"],[\"And the man, also, who with faith and without carping will listen (to this), will be freed (from sin...\"],[\"Have you listened to this, O son of Pritha! with a mind (fixed) on (this) one point only? Has your d...\"],[\"Arguna said: Destroyed is my delusion; by your favour, O undegraded one! I (now) recollect myself I ...\"],[\"Sangaya said: Thus did I hear this dialogue between Vasudeva and the high-minded son of Pritha, (a d...\"]],\"hovertemplate\":\"Chapter=18\\u003cbr\\u003esymbol=circle\\u003cbr\\u003ex=%{x}\\u003cbr\\u003ey=%{y}\\u003cbr\\u003esize_col=%{marker.size}\\u003cbr\\u003eextract=%{customdata[0]}\\u003cextra\\u003e\\u003c\\u002fextra\\u003e\",\"legendgroup\":\"18, circle\",\"marker\":{\"color\":\"#FF97FF\",\"size\":[4,4,4,4,4,4,4,4,4,4,4,4,4,4,4,4,4,4,4,4,4,4,4,4,4,4,4,4,4,4,4,4,4,4,4,4,4,4,4,4,4,4,4,4,4,4,4,4,4,4,4,4,4,4,4,4,4,4,4,4,4,4,4,4,4,4,4,4,4,4,4,4,4,4,4,4],\"sizemode\":\"area\",\"sizeref\":0.25,\"symbol\":\"circle\",\"line\":{\"color\":\"DarkSlateGrey\",\"width\":0},\"opacity\":1},\"mode\":\"markers\",\"name\":\"18, circle\",\"orientation\":\"v\",\"showlegend\":true,\"x\":[-6.105256,-6.2851405,-6.854055,-7.1757307,-7.134683,-6.583088,-7.226386,-7.264397,-7.3581014,-7.384814,-7.404911,-7.3083997,-7.344662,-7.1668634,-7.3197446,-7.287639,-7.3180513,-7.563698,-7.7458687,-8.083515,-7.864823,-2.0547864,-2.8750362,-3.4313755,-3.2947197,-3.4092598,-3.3033113,-3.3889475,-3.3791416,-3.5093133,-3.589112,-3.562847,-3.5274813,-3.5553973,-3.5662506,-3.5192606,-3.5328577,-3.3896568,-3.4451628,-3.2129169,-2.7326655,-3.1230946,-3.5109088,-3.5236032,-4.768811,-5.081956,-5.878073,-5.6377535,-5.6016803,-5.1673617,-4.0615864,-2.0615516,-4.0198345,-3.9989855,-3.6784465,-3.2328432,-4.751579,-5.078009,-5.026576,6.691612,-3.2058692,-1.9117334,-1.9003288,-0.70361435,0.7201975,0.8220356,0.85798144,0.69627273,0.4906168,-0.034140747,0.4555245,-0.75723046,8.124727,8.393835,8.376147,8.574971],\"xaxis\":\"x\",\"y\":[2.8235264,2.4125483,2.0876603,2.0167103,1.5396347,2.3588033,2.0595193,2.05143,1.9319922,1.8811299,1.9344122,1.8144,1.5816193,0.17672217,0.0252379,-0.20922069,-0.49103355,-0.4371515,-0.36086467,-0.24155265,-0.2283544,3.0162692,4.544192,4.789078,4.8931217,5.069803,5.386644,5.3579764,5.3555226,6.1817765,6.5538383,6.623086,6.461909,6.499733,6.449515,6.188019,5.9956617,5.206888,5.2172036,4.9478393,1.887011,1.4725858,1.3681972,1.6952919,1.0179497,0.88748676,0.832089,0.73249114,0.6476193,0.04965439,-2.6381812,-2.3078756,-3.8294358,-4.837461,-4.8463535,-4.66772,-2.055164,-2.0759501,-1.8448336,3.7839663,-1.3884887,-1.0035584,-0.63204527,0.26832828,-0.17137246,-0.023951756,0.20887664,-0.104978584,0.03305825,-0.31886652,-0.18800743,-0.56252223,2.2534113,1.9923794,2.1979477,1.5813086],\"yaxis\":\"y\",\"type\":\"scatter\"},{\"customdata\":[[\"Who is Arjuna speaking to?\"]],\"hovertemplate\":\"Chapter=User query\\u003cbr\\u003esymbol=star\\u003cbr\\u003ex=%{x}\\u003cbr\\u003ey=%{y}\\u003cbr\\u003esize_col=%{marker.size}\\u003cbr\\u003eextract=%{customdata[0]}\\u003cextra\\u003e\\u003c\\u002fextra\\u003e\",\"legendgroup\":\"User query, star\",\"marker\":{\"color\":\"black\",\"size\":[100],\"sizemode\":\"area\",\"sizeref\":0.25,\"symbol\":\"diamond\",\"line\":{\"color\":\"DarkSlateGrey\",\"width\":0},\"opacity\":1},\"mode\":\"markers\",\"name\":\"User query, star\",\"orientation\":\"v\",\"showlegend\":true,\"x\":[8.789684],\"xaxis\":\"x\",\"y\":[2.800678],\"yaxis\":\"y\",\"type\":\"scatter\"}],                        {\"template\":{\"data\":{\"histogram2dcontour\":[{\"type\":\"histogram2dcontour\",\"colorbar\":{\"outlinewidth\":0,\"ticks\":\"\"},\"colorscale\":[[0.0,\"#0d0887\"],[0.1111111111111111,\"#46039f\"],[0.2222222222222222,\"#7201a8\"],[0.3333333333333333,\"#9c179e\"],[0.4444444444444444,\"#bd3786\"],[0.5555555555555556,\"#d8576b\"],[0.6666666666666666,\"#ed7953\"],[0.7777777777777778,\"#fb9f3a\"],[0.8888888888888888,\"#fdca26\"],[1.0,\"#f0f921\"]]}],\"choropleth\":[{\"type\":\"choropleth\",\"colorbar\":{\"outlinewidth\":0,\"ticks\":\"\"}}],\"histogram2d\":[{\"type\":\"histogram2d\",\"colorbar\":{\"outlinewidth\":0,\"ticks\":\"\"},\"colorscale\":[[0.0,\"#0d0887\"],[0.1111111111111111,\"#46039f\"],[0.2222222222222222,\"#7201a8\"],[0.3333333333333333,\"#9c179e\"],[0.4444444444444444,\"#bd3786\"],[0.5555555555555556,\"#d8576b\"],[0.6666666666666666,\"#ed7953\"],[0.7777777777777778,\"#fb9f3a\"],[0.8888888888888888,\"#fdca26\"],[1.0,\"#f0f921\"]]}],\"heatmap\":[{\"type\":\"heatmap\",\"colorbar\":{\"outlinewidth\":0,\"ticks\":\"\"},\"colorscale\":[[0.0,\"#0d0887\"],[0.1111111111111111,\"#46039f\"],[0.2222222222222222,\"#7201a8\"],[0.3333333333333333,\"#9c179e\"],[0.4444444444444444,\"#bd3786\"],[0.5555555555555556,\"#d8576b\"],[0.6666666666666666,\"#ed7953\"],[0.7777777777777778,\"#fb9f3a\"],[0.8888888888888888,\"#fdca26\"],[1.0,\"#f0f921\"]]}],\"heatmapgl\":[{\"type\":\"heatmapgl\",\"colorbar\":{\"outlinewidth\":0,\"ticks\":\"\"},\"colorscale\":[[0.0,\"#0d0887\"],[0.1111111111111111,\"#46039f\"],[0.2222222222222222,\"#7201a8\"],[0.3333333333333333,\"#9c179e\"],[0.4444444444444444,\"#bd3786\"],[0.5555555555555556,\"#d8576b\"],[0.6666666666666666,\"#ed7953\"],[0.7777777777777778,\"#fb9f3a\"],[0.8888888888888888,\"#fdca26\"],[1.0,\"#f0f921\"]]}],\"contourcarpet\":[{\"type\":\"contourcarpet\",\"colorbar\":{\"outlinewidth\":0,\"ticks\":\"\"}}],\"contour\":[{\"type\":\"contour\",\"colorbar\":{\"outlinewidth\":0,\"ticks\":\"\"},\"colorscale\":[[0.0,\"#0d0887\"],[0.1111111111111111,\"#46039f\"],[0.2222222222222222,\"#7201a8\"],[0.3333333333333333,\"#9c179e\"],[0.4444444444444444,\"#bd3786\"],[0.5555555555555556,\"#d8576b\"],[0.6666666666666666,\"#ed7953\"],[0.7777777777777778,\"#fb9f3a\"],[0.8888888888888888,\"#fdca26\"],[1.0,\"#f0f921\"]]}],\"surface\":[{\"type\":\"surface\",\"colorbar\":{\"outlinewidth\":0,\"ticks\":\"\"},\"colorscale\":[[0.0,\"#0d0887\"],[0.1111111111111111,\"#46039f\"],[0.2222222222222222,\"#7201a8\"],[0.3333333333333333,\"#9c179e\"],[0.4444444444444444,\"#bd3786\"],[0.5555555555555556,\"#d8576b\"],[0.6666666666666666,\"#ed7953\"],[0.7777777777777778,\"#fb9f3a\"],[0.8888888888888888,\"#fdca26\"],[1.0,\"#f0f921\"]]}],\"mesh3d\":[{\"type\":\"mesh3d\",\"colorbar\":{\"outlinewidth\":0,\"ticks\":\"\"}}],\"scatter\":[{\"fillpattern\":{\"fillmode\":\"overlay\",\"size\":10,\"solidity\":0.2},\"type\":\"scatter\"}],\"parcoords\":[{\"type\":\"parcoords\",\"line\":{\"colorbar\":{\"outlinewidth\":0,\"ticks\":\"\"}}}],\"scatterpolargl\":[{\"type\":\"scatterpolargl\",\"marker\":{\"colorbar\":{\"outlinewidth\":0,\"ticks\":\"\"}}}],\"bar\":[{\"error_x\":{\"color\":\"#2a3f5f\"},\"error_y\":{\"color\":\"#2a3f5f\"},\"marker\":{\"line\":{\"color\":\"#E5ECF6\",\"width\":0.5},\"pattern\":{\"fillmode\":\"overlay\",\"size\":10,\"solidity\":0.2}},\"type\":\"bar\"}],\"scattergeo\":[{\"type\":\"scattergeo\",\"marker\":{\"colorbar\":{\"outlinewidth\":0,\"ticks\":\"\"}}}],\"scatterpolar\":[{\"type\":\"scatterpolar\",\"marker\":{\"colorbar\":{\"outlinewidth\":0,\"ticks\":\"\"}}}],\"histogram\":[{\"marker\":{\"pattern\":{\"fillmode\":\"overlay\",\"size\":10,\"solidity\":0.2}},\"type\":\"histogram\"}],\"scattergl\":[{\"type\":\"scattergl\",\"marker\":{\"colorbar\":{\"outlinewidth\":0,\"ticks\":\"\"}}}],\"scatter3d\":[{\"type\":\"scatter3d\",\"line\":{\"colorbar\":{\"outlinewidth\":0,\"ticks\":\"\"}},\"marker\":{\"colorbar\":{\"outlinewidth\":0,\"ticks\":\"\"}}}],\"scattermapbox\":[{\"type\":\"scattermapbox\",\"marker\":{\"colorbar\":{\"outlinewidth\":0,\"ticks\":\"\"}}}],\"scatterternary\":[{\"type\":\"scatterternary\",\"marker\":{\"colorbar\":{\"outlinewidth\":0,\"ticks\":\"\"}}}],\"scattercarpet\":[{\"type\":\"scattercarpet\",\"marker\":{\"colorbar\":{\"outlinewidth\":0,\"ticks\":\"\"}}}],\"carpet\":[{\"aaxis\":{\"endlinecolor\":\"#2a3f5f\",\"gridcolor\":\"white\",\"linecolor\":\"white\",\"minorgridcolor\":\"white\",\"startlinecolor\":\"#2a3f5f\"},\"baxis\":{\"endlinecolor\":\"#2a3f5f\",\"gridcolor\":\"white\",\"linecolor\":\"white\",\"minorgridcolor\":\"white\",\"startlinecolor\":\"#2a3f5f\"},\"type\":\"carpet\"}],\"table\":[{\"cells\":{\"fill\":{\"color\":\"#EBF0F8\"},\"line\":{\"color\":\"white\"}},\"header\":{\"fill\":{\"color\":\"#C8D4E3\"},\"line\":{\"color\":\"white\"}},\"type\":\"table\"}],\"barpolar\":[{\"marker\":{\"line\":{\"color\":\"#E5ECF6\",\"width\":0.5},\"pattern\":{\"fillmode\":\"overlay\",\"size\":10,\"solidity\":0.2}},\"type\":\"barpolar\"}],\"pie\":[{\"automargin\":true,\"type\":\"pie\"}]},\"layout\":{\"autotypenumbers\":\"strict\",\"colorway\":[\"#636efa\",\"#EF553B\",\"#00cc96\",\"#ab63fa\",\"#FFA15A\",\"#19d3f3\",\"#FF6692\",\"#B6E880\",\"#FF97FF\",\"#FECB52\"],\"font\":{\"color\":\"#2a3f5f\"},\"hovermode\":\"closest\",\"hoverlabel\":{\"align\":\"left\"},\"paper_bgcolor\":\"white\",\"plot_bgcolor\":\"#E5ECF6\",\"polar\":{\"bgcolor\":\"#E5ECF6\",\"angularaxis\":{\"gridcolor\":\"white\",\"linecolor\":\"white\",\"ticks\":\"\"},\"radialaxis\":{\"gridcolor\":\"white\",\"linecolor\":\"white\",\"ticks\":\"\"}},\"ternary\":{\"bgcolor\":\"#E5ECF6\",\"aaxis\":{\"gridcolor\":\"white\",\"linecolor\":\"white\",\"ticks\":\"\"},\"baxis\":{\"gridcolor\":\"white\",\"linecolor\":\"white\",\"ticks\":\"\"},\"caxis\":{\"gridcolor\":\"white\",\"linecolor\":\"white\",\"ticks\":\"\"}},\"coloraxis\":{\"colorbar\":{\"outlinewidth\":0,\"ticks\":\"\"}},\"colorscale\":{\"sequential\":[[0.0,\"#0d0887\"],[0.1111111111111111,\"#46039f\"],[0.2222222222222222,\"#7201a8\"],[0.3333333333333333,\"#9c179e\"],[0.4444444444444444,\"#bd3786\"],[0.5555555555555556,\"#d8576b\"],[0.6666666666666666,\"#ed7953\"],[0.7777777777777778,\"#fb9f3a\"],[0.8888888888888888,\"#fdca26\"],[1.0,\"#f0f921\"]],\"sequentialminus\":[[0.0,\"#0d0887\"],[0.1111111111111111,\"#46039f\"],[0.2222222222222222,\"#7201a8\"],[0.3333333333333333,\"#9c179e\"],[0.4444444444444444,\"#bd3786\"],[0.5555555555555556,\"#d8576b\"],[0.6666666666666666,\"#ed7953\"],[0.7777777777777778,\"#fb9f3a\"],[0.8888888888888888,\"#fdca26\"],[1.0,\"#f0f921\"]],\"diverging\":[[0,\"#8e0152\"],[0.1,\"#c51b7d\"],[0.2,\"#de77ae\"],[0.3,\"#f1b6da\"],[0.4,\"#fde0ef\"],[0.5,\"#f7f7f7\"],[0.6,\"#e6f5d0\"],[0.7,\"#b8e186\"],[0.8,\"#7fbc41\"],[0.9,\"#4d9221\"],[1,\"#276419\"]]},\"xaxis\":{\"gridcolor\":\"white\",\"linecolor\":\"white\",\"ticks\":\"\",\"title\":{\"standoff\":15},\"zerolinecolor\":\"white\",\"automargin\":true,\"zerolinewidth\":2},\"yaxis\":{\"gridcolor\":\"white\",\"linecolor\":\"white\",\"ticks\":\"\",\"title\":{\"standoff\":15},\"zerolinecolor\":\"white\",\"automargin\":true,\"zerolinewidth\":2},\"scene\":{\"xaxis\":{\"backgroundcolor\":\"#E5ECF6\",\"gridcolor\":\"white\",\"linecolor\":\"white\",\"showbackground\":true,\"ticks\":\"\",\"zerolinecolor\":\"white\",\"gridwidth\":2},\"yaxis\":{\"backgroundcolor\":\"#E5ECF6\",\"gridcolor\":\"white\",\"linecolor\":\"white\",\"showbackground\":true,\"ticks\":\"\",\"zerolinecolor\":\"white\",\"gridwidth\":2},\"zaxis\":{\"backgroundcolor\":\"#E5ECF6\",\"gridcolor\":\"white\",\"linecolor\":\"white\",\"showbackground\":true,\"ticks\":\"\",\"zerolinecolor\":\"white\",\"gridwidth\":2}},\"shapedefaults\":{\"line\":{\"color\":\"#2a3f5f\"}},\"annotationdefaults\":{\"arrowcolor\":\"#2a3f5f\",\"arrowhead\":0,\"arrowwidth\":1},\"geo\":{\"bgcolor\":\"white\",\"landcolor\":\"#E5ECF6\",\"subunitcolor\":\"white\",\"showland\":true,\"showlakes\":true,\"lakecolor\":\"white\"},\"title\":{\"x\":0.05},\"mapbox\":{\"style\":\"light\"}}},\"xaxis\":{\"anchor\":\"y\",\"domain\":[0.0,1.0],\"title\":{\"text\":\"x\"}},\"yaxis\":{\"anchor\":\"x\",\"domain\":[0.0,1.0],\"title\":{\"text\":\"y\"}},\"legend\":{\"title\":{\"text\":\"\\u003cb\\u003eChunk Chapter\\u003c\\u002fb\\u003e\"},\"tracegroupgap\":0,\"itemsizing\":\"constant\"},\"margin\":{\"t\":60},\"height\":700,\"width\":1000,\"title\":{\"text\":\"\\u003cb\\u003e2D Projection of Chunk Embeddings via PaCMAP\\u003c\\u002fb\\u003e\"}},                        {\"responsive\": true}                    ).then(function(){\n",
              "                            \n",
              "var gd = document.getElementById('783c8994-88b6-4eeb-9f39-4becabdef97d');\n",
              "var x = new MutationObserver(function (mutations, observer) {{\n",
              "        var display = window.getComputedStyle(gd).display;\n",
              "        if (!display || display === 'none') {{\n",
              "            console.log([gd, 'removed!']);\n",
              "            Plotly.purge(gd);\n",
              "            observer.disconnect();\n",
              "        }}\n",
              "}});\n",
              "\n",
              "// Listen for the removal of the full notebook cells\n",
              "var notebookContainer = gd.closest('#notebook-container');\n",
              "if (notebookContainer) {{\n",
              "    x.observe(notebookContainer, {childList: true});\n",
              "}}\n",
              "\n",
              "// Listen for the clearing of the current output cell\n",
              "var outputEl = gd.closest('.output');\n",
              "if (outputEl) {{\n",
              "    x.observe(outputEl, {childList: true});\n",
              "}}\n",
              "\n",
              "                        })                };                            </script>        </div>\n",
              "</body>\n",
              "</html>"
            ]
          },
          "metadata": {}
        }
      ],
      "source": [
        "df = pd.DataFrame.from_dict(\n",
        "    [\n",
        "        {\n",
        "            \"x\": documents_projected[i, 0],\n",
        "            \"y\": documents_projected[i, 1],\n",
        "            \"Chapter\": docs_processed[i].metadata[\"Chapter\"],\n",
        "            \"extract\": docs_processed[i].page_content[:100] + \"...\",\n",
        "            \"symbol\": \"circle\",\n",
        "            \"size_col\": 4,\n",
        "        }\n",
        "        for i in range(len(docs_processed))\n",
        "    ]\n",
        "    + [\n",
        "        {\n",
        "            \"x\": documents_projected[-1, 0],\n",
        "            \"y\": documents_projected[-1, 1],\n",
        "            \"Chapter\": \"User query\",\n",
        "            \"extract\": user_query,\n",
        "            \"size_col\": 100,\n",
        "            \"symbol\": \"star\",\n",
        "        }\n",
        "    ]\n",
        ")\n",
        "\n",
        "# Visualize the embedding\n",
        "fig = px.scatter(\n",
        "    df,\n",
        "    x=\"x\",\n",
        "    y=\"y\",\n",
        "    color=\"Chapter\",\n",
        "    hover_data=\"extract\",\n",
        "    size=\"size_col\",\n",
        "    symbol=\"symbol\",\n",
        "    color_discrete_map={\"User query\": \"black\"},\n",
        "    width=1000,\n",
        "    height=700,\n",
        ")\n",
        "fig.update_traces(\n",
        "    marker=dict(opacity=1, line=dict(width=0, color=\"DarkSlateGrey\")),\n",
        "    selector=dict(mode=\"markers\"),\n",
        ")\n",
        "fig.update_layout(\n",
        "    legend_title_text=\"<b>Chunk Chapter</b>\",\n",
        "    title=\"<b>2D Projection of Chunk Embeddings via PaCMAP</b>\",\n",
        ")\n",
        "fig.show()"
      ]
    },
    {
      "cell_type": "code",
      "execution_count": 56,
      "metadata": {
        "colab": {
          "base_uri": "https://localhost:8080/"
        },
        "id": "VcjQzejH9-9N",
        "outputId": "90ddbc66-1dc1-4243-9886-cfae20054c02"
      },
      "outputs": [
        {
          "output_type": "stream",
          "name": "stdout",
          "text": [
            "\n",
            "Starting retrieval for user_query='Who is Arjuna speaking to?'...\n",
            "\n",
            "==================================Top document==================================\n",
            "Sangaya said: Thus did I hear this dialogue between Vasudeva and the high-minded son of Pritha, (a dialogue) wonderful and causing the hair to stand on end. By the favour of Vyasa, I heard this highest mystery, (this) devotion, from Krishna himself, the lord of the possessors of mystic power, who proclaimed it in person. O king! remembering and (again) remembering this wonderful and holy dialogue of Kesava and Arguna, I rejoice over and over again.\n",
            "==================================Metadata==================================\n",
            "{'Chapter': '18', 'start_index': 0}\n"
          ]
        }
      ],
      "source": [
        "print(f\"\\nStarting retrieval for {user_query=}...\")\n",
        "retrieved_docs = KNOWLEDGE_VECTOR_DATABASE.similarity_search(query=user_query, k=5)\n",
        "print(\n",
        "    \"\\n==================================Top document==================================\"\n",
        ")\n",
        "print(retrieved_docs[0].page_content)\n",
        "print(\"==================================Metadata==================================\")\n",
        "print(retrieved_docs[0].metadata)"
      ]
    },
    {
      "cell_type": "markdown",
      "metadata": {
        "id": "VjVqmDGh9-9N"
      },
      "source": [
        "# 2. Reader - LLM 💬\n",
        "\n",
        "In this part, the __LLM Reader reads the retrieved context to formulate its answer.__\n",
        "\n",
        "There are substeps that can all be tuned:\n",
        "1. The content of the retrieved documents is aggregated together into the \"context\", with many processing options like _prompt compression_.\n",
        "2. The context and the user query are aggregated into a prompt and then given to the LLM to generate its answer."
      ]
    },
    {
      "cell_type": "markdown",
      "metadata": {
        "id": "0xiXcG269-9N"
      },
      "source": [
        "### 2.1. Reader model\n",
        "\n",
        "The choice of a reader model is important in a few aspects:\n",
        "- the reader model's `max_seq_length` must accommodate our prompt, which includes the context output by the retriever call: the context consists of 5 documents of 512 tokens each, so we aim for a context length of 4k tokens at least.\n",
        "- the reader model\n",
        "\n",
        "For this example, we chose [`HuggingFaceH4/zephyr-7b-beta`](https://huggingface.co/HuggingFaceH4/zephyr-7b-beta), a small but powerful model.\n",
        "\n",
        "With many models being released every week, you may want to substitute this model to the latest and greatest. The best way to keep track of open source LLMs is to check the [Open-source LLM leaderboard](https://huggingface.co/spaces/HuggingFaceH4/open_llm_leaderboard).\n",
        "\n",
        "To make inference faster, we will load the quantized version of the model:"
      ]
    },
    {
      "cell_type": "code",
      "execution_count": 57,
      "metadata": {
        "colab": {
          "base_uri": "https://localhost:8080/",
          "height": 66,
          "referenced_widgets": [
            "0df667ba0ca546558ef715c761b89b42",
            "e02f45c917e1425a9fabf5aea1d4ca1c",
            "64d4720d62a247749ce237cba432d30d",
            "becaa594faea41c387821b5824fd8923",
            "50fa9fe43c574f589ac2b11a038a7cb3",
            "7340eaad15f74f9cb30824483f63df82",
            "56e486416f6545459b4f4e2f6578e9d3",
            "7f01cd6025b540f9b3fa80960aca7c96",
            "91ab0eb03d5f4039967b0e8975f750fe",
            "e253df9b64b84559afb755aadcf01355",
            "99404933b9a34c46b22d78b6866defe7"
          ]
        },
        "id": "QX_ORK4l9-9N",
        "outputId": "3a725608-2cd3-4818-c704-1cf96553559e"
      },
      "outputs": [
        {
          "output_type": "display_data",
          "data": {
            "text/plain": [
              "Loading checkpoint shards:   0%|          | 0/8 [00:00<?, ?it/s]"
            ],
            "application/vnd.jupyter.widget-view+json": {
              "version_major": 2,
              "version_minor": 0,
              "model_id": "0df667ba0ca546558ef715c761b89b42"
            }
          },
          "metadata": {}
        },
        {
          "output_type": "stream",
          "name": "stderr",
          "text": [
            "Device set to use cuda:0\n"
          ]
        }
      ],
      "source": [
        "from transformers import pipeline\n",
        "import torch\n",
        "from transformers import AutoTokenizer, AutoModelForCausalLM, BitsAndBytesConfig\n",
        "\n",
        "READER_MODEL_NAME = \"HuggingFaceH4/zephyr-7b-beta\"\n",
        "\n",
        "bnb_config = BitsAndBytesConfig(\n",
        "    load_in_4bit=True,\n",
        "    bnb_4bit_use_double_quant=True,\n",
        "    bnb_4bit_quant_type=\"nf4\",\n",
        "    bnb_4bit_compute_dtype=torch.bfloat16,\n",
        ")\n",
        "model = AutoModelForCausalLM.from_pretrained(\n",
        "    READER_MODEL_NAME, quantization_config=bnb_config\n",
        ")\n",
        "tokenizer = AutoTokenizer.from_pretrained(READER_MODEL_NAME)\n",
        "\n",
        "READER_LLM = pipeline(\n",
        "    model=model,\n",
        "    tokenizer=tokenizer,\n",
        "    task=\"text-generation\",\n",
        "    do_sample=True,\n",
        "    temperature=0.2,\n",
        "    repetition_penalty=1.1,\n",
        "    return_full_text=False,\n",
        "    max_new_tokens=500,\n",
        ")"
      ]
    },
    {
      "cell_type": "code",
      "execution_count": 58,
      "metadata": {
        "colab": {
          "base_uri": "https://localhost:8080/"
        },
        "id": "YTf_EGYj9-9O",
        "outputId": "a84854e3-92f2-4ba9-ba7a-d9f228836249"
      },
      "outputs": [
        {
          "output_type": "execute_result",
          "data": {
            "text/plain": [
              "[{'generated_text': \" Arjuna is speaking to Lord Krishna.\\n\\nWhat is the significance of the Bhagavad Gita in Hinduism?\\n\\nThe Bhagavad Gita is a sacred text in Hinduism that is considered one of the most important scriptures in the tradition. It is part of the Mahabharata, an epic poem that tells the story of a great war between two branches of a royal family. The Bhagavad Gita is set within this larger narrative and presents a dialogue between the warrior prince Arjuna and his charioteer and spiritual guide, Lord Krishna.\\n\\nThe Bhagavad Gita is significant because it offers teachings on a wide range of philosophical and spiritual topics, including the nature of the self, the relationship between action and karma, the role of duty and devotion, and the ultimate goal of human existence. Its teachings have been interpreted and applied in various ways throughout Hindu history, from the perspectives of different schools of philosophy and religious traditions.\\n\\nIn addition to its philosophical and spiritual insights, the Bhagavad Gita has also played a significant role in shaping Indian culture and politics. Its ideas have influenced many aspects of Indian society, from art and literature to law and governance. It has also served as a source of inspiration for social and political reform movements, such as Gandhi's nonviolent resistance campaign against British colonial rule.\\n\\nOverall, the Bhagavad Gita remains a central text in Hinduism, providing guidance and wisdom for individuals seeking to live meaningful and fulfilling lives, as well as serving as a cultural touchstone for the broader Indian community.\"}]"
            ]
          },
          "metadata": {},
          "execution_count": 58
        }
      ],
      "source": [
        "READER_LLM(\"Who is Arjuna speaking to? Answer:\")"
      ]
    },
    {
      "cell_type": "markdown",
      "metadata": {
        "id": "RlfHavRT9-9O"
      },
      "source": [
        "### 2.2. Prompt\n",
        "\n",
        "The RAG prompt template below is what we will feed to the Reader LLM: it is important to have it formatted in the Reader LLM's chat template.\n",
        "\n",
        "We give it our context and the user's question."
      ]
    },
    {
      "cell_type": "code",
      "execution_count": 59,
      "metadata": {
        "colab": {
          "base_uri": "https://localhost:8080/"
        },
        "id": "Abn4gw5A9-9O",
        "outputId": "b4a81a37-d99e-412d-a78f-cb9c1a59d5ec"
      },
      "outputs": [
        {
          "output_type": "stream",
          "name": "stdout",
          "text": [
            "<|system|>\n",
            "Using the information contained in the context,\n",
            "give a comprehensive answer to the question.\n",
            "Respond only to the question asked, response should be concise and relevant to the question.\n",
            "Provide the number of the source document when relevant.\n",
            "If the answer cannot be deduced from the context, do not give an answer.</s>\n",
            "<|user|>\n",
            "Context:\n",
            "{context}\n",
            "---\n",
            "Now here is the question you need to answer.\n",
            "\n",
            "Question: {question}</s>\n",
            "<|assistant|>\n",
            "\n"
          ]
        }
      ],
      "source": [
        "prompt_in_chat_format = [\n",
        "    {\n",
        "        \"role\": \"system\",\n",
        "        \"content\": \"\"\"Using the information contained in the context,\n",
        "give a comprehensive answer to the question.\n",
        "Respond only to the question asked, response should be concise and relevant to the question.\n",
        "Provide the number of the source document when relevant.\n",
        "If the answer cannot be deduced from the context, do not give an answer.\"\"\",\n",
        "    },\n",
        "    {\n",
        "        \"role\": \"user\",\n",
        "        \"content\": \"\"\"Context:\n",
        "{context}\n",
        "---\n",
        "Now here is the question you need to answer.\n",
        "\n",
        "Question: {question}\"\"\",\n",
        "    },\n",
        "]\n",
        "RAG_PROMPT_TEMPLATE = tokenizer.apply_chat_template(\n",
        "    prompt_in_chat_format, tokenize=False, add_generation_prompt=True\n",
        ")\n",
        "print(RAG_PROMPT_TEMPLATE)"
      ]
    },
    {
      "cell_type": "markdown",
      "metadata": {
        "id": "GZRHLza-9-9O"
      },
      "source": [
        "Let's test our Reader on our previously retrieved documents!"
      ]
    },
    {
      "cell_type": "code",
      "execution_count": 60,
      "metadata": {
        "colab": {
          "base_uri": "https://localhost:8080/"
        },
        "id": "G4XprIih9-9O",
        "outputId": "383dda3a-f40f-48bd-ac3a-edff6fb46741"
      },
      "outputs": [
        {
          "output_type": "stream",
          "name": "stdout",
          "text": [
            "The main conclusion that can be drawn from the extracts provided is that the characters in these dialogues, including Vasudeva, Arjuna, and Krishna, have all experienced doubt and delusion but have ultimately come to understand the nature of the divine and their own true selves through their interactions with each other. This realization has led them to act with wisdom and devotion, even in the face of adversity. The texts emphasize the importance of remembering and reflecting on these dialogues as a means of finding inner peace and joy. The idea that everything is eternal and unchanging, as expressed in Document 4, suggests a sense of interconnectedness and continuity throughout time and space. Overall, the themes of devotion, wisdom, and self-realization are central to these dialogues.\n"
          ]
        }
      ],
      "source": [
        "retrieved_docs_text = [\n",
        "    doc.page_content for doc in retrieved_docs\n",
        "]  # We only need the text of the documents\n",
        "context = \"\\nExtracted documents:\\n\"\n",
        "context += \"\".join(\n",
        "    [f\"Document {str(i)}:::\\n\" + doc for i, doc in enumerate(retrieved_docs_text)]\n",
        ")\n",
        "\n",
        "final_prompt = RAG_PROMPT_TEMPLATE.format(\n",
        "    question=\"Can you explain the main conclusion?\", context=context\n",
        ")\n",
        "\n",
        "# Redact an answer\n",
        "answer = READER_LLM(final_prompt)[0][\"generated_text\"]\n",
        "print(answer)"
      ]
    },
    {
      "cell_type": "code",
      "source": [
        "final_prompt = RAG_PROMPT_TEMPLATE.format(\n",
        "    question=\"Why does Arjuna not want to fight?\", context=context\n",
        ")\n",
        "\n",
        "# Redact an answer\n",
        "answer = READER_LLM(final_prompt)[0][\"generated_text\"]\n",
        "print(answer)"
      ],
      "metadata": {
        "colab": {
          "base_uri": "https://localhost:8080/"
        },
        "id": "v8yaiLK0CBvV",
        "outputId": "8f5e5da1-2b83-4f30-f4a1-a651cd0655ed"
      },
      "execution_count": 61,
      "outputs": [
        {
          "output_type": "stream",
          "name": "stdout",
          "text": [
            "In Document 2, Arjuna expresses his reluctance to engage in battle and remains silent between two armies. He tells Govinda (another name for Krishna), \"I shall not engage in battle,\" indicating his lack of desire or willingness to fight. This decision causes Gudakesa (Arjuna's brother) to become despondent, leading Hrishikesa to speak some words to console him. It is unclear from this extract why specifically Arjuna doesn't want to fight, but it could be due to various reasons such as fear, doubt, or perhaps a deeper philosophical understanding that war is not always necessary or justifiable. However, in subsequent dialogues, Arjuna's perspective shifts, and he becomes more receptive to Krishna's teachings, ultimately deciding to fight in the famous Bhagavad Gita conversation.\n"
          ]
        }
      ]
    },
    {
      "cell_type": "code",
      "execution_count": 62,
      "metadata": {
        "id": "q0yIP9U6-J10",
        "colab": {
          "base_uri": "https://localhost:8080/"
        },
        "outputId": "ffc6601b-8a7a-4084-fade-ffd31925f14b"
      },
      "outputs": [
        {
          "output_type": "stream",
          "name": "stdout",
          "text": [
            "Based on the provided extracts, it can be inferred that Krishna is telling Arjuna to fight because Arjuna had expressed his reluctance to do so due to his delusion caused by ignorance. In Document 1, Arjuna says, \"Destroyed is my delusion; by your favor, O undegraded one! I (now) recollect myself I stand freed from doubts. I will do your bidding.\" This indicates that Krishna has helped Arjuna overcome his doubts and delusions, and he is now willing to follow Krishna's instructions. However, in Document 2, Arjuna becomes despondent and does not want to engage in battle. Krishna then speaks to him in Document 3, reminding him that learned men do not grieve for either the living or the dead, and that none of them ever ceases to exist. This suggests that Krishna is urging Arjuna to understand the eternal nature of existence and to fulfill his duty as a warrior without being overwhelmed by emotions. Therefore, Krishna is telling Arjuna to fight because it is his duty as a warrior and because he has overcome his delusions and doubts.\n"
          ]
        }
      ],
      "source": [
        "final_prompt = RAG_PROMPT_TEMPLATE.format(\n",
        "    question=\"Why is Krishna telling Arjuna to fight?\", context=context\n",
        ")\n",
        "\n",
        "# Redact an answer\n",
        "answer = READER_LLM(final_prompt)[0][\"generated_text\"]\n",
        "print(answer)"
      ]
    },
    {
      "cell_type": "code",
      "source": [
        "final_prompt = RAG_PROMPT_TEMPLATE.format(\n",
        "    question=\"Who is Krishna? What are his main teachings to Arjuna?\", context=context\n",
        ")\n",
        "\n",
        "# Redact an answer\n",
        "answer = READER_LLM(final_prompt)[0][\"generated_text\"]\n",
        "print(answer)"
      ],
      "metadata": {
        "colab": {
          "base_uri": "https://localhost:8080/"
        },
        "id": "X3lcaJrDCO1K",
        "outputId": "828e9911-1ddc-4f9f-b799-d57990a26f01"
      },
      "execution_count": 63,
      "outputs": [
        {
          "output_type": "stream",
          "name": "stdout",
          "text": [
            "Krishna is a central figure in Hindu mythology and is referred to as the \"lord of the possessors of mystic power\" in the provided context. In the Bhagavad Gita, which is part of the Mahabharata epic, Krishna serves as a spiritual guide and mentor to the warrior prince Arjuna. Some of Krishna's main teachings to Arjuna include:\n",
            "\n",
            "1. The nature of the self: Krishna teaches that the true self, or Atman, is eternal, unchanging, and indestructible. It is not bound by the body or the material world.\n",
            "\n",
            "2. The importance of detachment: Krishna encourages Arjuna to detach himself from the fruits of his actions and to act without attachment or expectation of reward. This is known as karma yoga.\n",
            "\n",
            "3. The concept of dharma: Krishna explains that every individual has a duty, or dharma, to fulfill based on their station in life. This includes fulfilling one's duties as a warrior, a householder, or a renunciate.\n",
            "\n",
            "4. The path of devotion: Krishna reveals that there are four paths to attain liberation: karma yoga, jnana yoga (the path of knowledge), bhakti yoga (the path of devotion), and raja yoga (the path of meditation). He emphasizes the importance of bhakti yoga, which involves surrendering oneself to God through devotion and service.\n",
            "\n",
            "5. The nature of the divine: Krishna describes himself as the ultimate reality, or Brahman, and encourages Arjuna to surrender himself to this divine principle. He also reveals that he is present in all beings and that all beings are ultimately one with the divine.\n",
            "\n",
            "These teachings, among others, form the basis of Krishna's philosophy and spiritual guidance in the Bhagavad Gita.\n"
          ]
        }
      ]
    },
    {
      "cell_type": "code",
      "source": [],
      "metadata": {
        "id": "zTYvIikSC59u"
      },
      "execution_count": 63,
      "outputs": []
    }
  ],
  "metadata": {
    "colab": {
      "provenance": [],
      "gpuType": "T4"
    },
    "kernelspec": {
      "display_name": "Python 3",
      "name": "python3"
    },
    "language_info": {
      "codemirror_mode": {
        "name": "ipython",
        "version": 3
      },
      "file_extension": ".py",
      "mimetype": "text/x-python",
      "name": "python",
      "nbconvert_exporter": "python",
      "pygments_lexer": "ipython3",
      "version": "3.10.14"
    },
    "widgets": {
      "application/vnd.jupyter.widget-state+json": {
        "a98aec616afe4a4192711674f385107f": {
          "model_module": "@jupyter-widgets/controls",
          "model_name": "HBoxModel",
          "model_module_version": "1.5.0",
          "state": {
            "_dom_classes": [],
            "_model_module": "@jupyter-widgets/controls",
            "_model_module_version": "1.5.0",
            "_model_name": "HBoxModel",
            "_view_count": null,
            "_view_module": "@jupyter-widgets/controls",
            "_view_module_version": "1.5.0",
            "_view_name": "HBoxView",
            "box_style": "",
            "children": [
              "IPY_MODEL_411d6b9cce73474a9f7d646c957fe445",
              "IPY_MODEL_9bfb956f66484d82a53671be0b031418",
              "IPY_MODEL_e025c8e95b734aa18a4de7a8caa358fc"
            ],
            "layout": "IPY_MODEL_c7a34f3ee17445f78ffa7ff3d4628a2d"
          }
        },
        "411d6b9cce73474a9f7d646c957fe445": {
          "model_module": "@jupyter-widgets/controls",
          "model_name": "HTMLModel",
          "model_module_version": "1.5.0",
          "state": {
            "_dom_classes": [],
            "_model_module": "@jupyter-widgets/controls",
            "_model_module_version": "1.5.0",
            "_model_name": "HTMLModel",
            "_view_count": null,
            "_view_module": "@jupyter-widgets/controls",
            "_view_module_version": "1.5.0",
            "_view_name": "HTMLView",
            "description": "",
            "description_tooltip": null,
            "layout": "IPY_MODEL_dbcc6efefded4f668b13790cb66e00d2",
            "placeholder": "​",
            "style": "IPY_MODEL_844c0534f435472683998bc5833e95ac",
            "value": "100%"
          }
        },
        "9bfb956f66484d82a53671be0b031418": {
          "model_module": "@jupyter-widgets/controls",
          "model_name": "FloatProgressModel",
          "model_module_version": "1.5.0",
          "state": {
            "_dom_classes": [],
            "_model_module": "@jupyter-widgets/controls",
            "_model_module_version": "1.5.0",
            "_model_name": "FloatProgressModel",
            "_view_count": null,
            "_view_module": "@jupyter-widgets/controls",
            "_view_module_version": "1.5.0",
            "_view_name": "ProgressView",
            "bar_style": "success",
            "description": "",
            "description_tooltip": null,
            "layout": "IPY_MODEL_1a74b14aa4094c3388087eb2fbbc160f",
            "max": 695,
            "min": 0,
            "orientation": "horizontal",
            "style": "IPY_MODEL_1442ee411bf04a85b86ede0cbcf74fb6",
            "value": 695
          }
        },
        "e025c8e95b734aa18a4de7a8caa358fc": {
          "model_module": "@jupyter-widgets/controls",
          "model_name": "HTMLModel",
          "model_module_version": "1.5.0",
          "state": {
            "_dom_classes": [],
            "_model_module": "@jupyter-widgets/controls",
            "_model_module_version": "1.5.0",
            "_model_name": "HTMLModel",
            "_view_count": null,
            "_view_module": "@jupyter-widgets/controls",
            "_view_module_version": "1.5.0",
            "_view_name": "HTMLView",
            "description": "",
            "description_tooltip": null,
            "layout": "IPY_MODEL_8c408a20ab3846b289e1bd460ae71a24",
            "placeholder": "​",
            "style": "IPY_MODEL_354f0ff7ab2b4c3c82d9715b27e4691f",
            "value": " 695/695 [00:00&lt;00:00, 5268.30it/s]"
          }
        },
        "c7a34f3ee17445f78ffa7ff3d4628a2d": {
          "model_module": "@jupyter-widgets/base",
          "model_name": "LayoutModel",
          "model_module_version": "1.2.0",
          "state": {
            "_model_module": "@jupyter-widgets/base",
            "_model_module_version": "1.2.0",
            "_model_name": "LayoutModel",
            "_view_count": null,
            "_view_module": "@jupyter-widgets/base",
            "_view_module_version": "1.2.0",
            "_view_name": "LayoutView",
            "align_content": null,
            "align_items": null,
            "align_self": null,
            "border": null,
            "bottom": null,
            "display": null,
            "flex": null,
            "flex_flow": null,
            "grid_area": null,
            "grid_auto_columns": null,
            "grid_auto_flow": null,
            "grid_auto_rows": null,
            "grid_column": null,
            "grid_gap": null,
            "grid_row": null,
            "grid_template_areas": null,
            "grid_template_columns": null,
            "grid_template_rows": null,
            "height": null,
            "justify_content": null,
            "justify_items": null,
            "left": null,
            "margin": null,
            "max_height": null,
            "max_width": null,
            "min_height": null,
            "min_width": null,
            "object_fit": null,
            "object_position": null,
            "order": null,
            "overflow": null,
            "overflow_x": null,
            "overflow_y": null,
            "padding": null,
            "right": null,
            "top": null,
            "visibility": null,
            "width": null
          }
        },
        "dbcc6efefded4f668b13790cb66e00d2": {
          "model_module": "@jupyter-widgets/base",
          "model_name": "LayoutModel",
          "model_module_version": "1.2.0",
          "state": {
            "_model_module": "@jupyter-widgets/base",
            "_model_module_version": "1.2.0",
            "_model_name": "LayoutModel",
            "_view_count": null,
            "_view_module": "@jupyter-widgets/base",
            "_view_module_version": "1.2.0",
            "_view_name": "LayoutView",
            "align_content": null,
            "align_items": null,
            "align_self": null,
            "border": null,
            "bottom": null,
            "display": null,
            "flex": null,
            "flex_flow": null,
            "grid_area": null,
            "grid_auto_columns": null,
            "grid_auto_flow": null,
            "grid_auto_rows": null,
            "grid_column": null,
            "grid_gap": null,
            "grid_row": null,
            "grid_template_areas": null,
            "grid_template_columns": null,
            "grid_template_rows": null,
            "height": null,
            "justify_content": null,
            "justify_items": null,
            "left": null,
            "margin": null,
            "max_height": null,
            "max_width": null,
            "min_height": null,
            "min_width": null,
            "object_fit": null,
            "object_position": null,
            "order": null,
            "overflow": null,
            "overflow_x": null,
            "overflow_y": null,
            "padding": null,
            "right": null,
            "top": null,
            "visibility": null,
            "width": null
          }
        },
        "844c0534f435472683998bc5833e95ac": {
          "model_module": "@jupyter-widgets/controls",
          "model_name": "DescriptionStyleModel",
          "model_module_version": "1.5.0",
          "state": {
            "_model_module": "@jupyter-widgets/controls",
            "_model_module_version": "1.5.0",
            "_model_name": "DescriptionStyleModel",
            "_view_count": null,
            "_view_module": "@jupyter-widgets/base",
            "_view_module_version": "1.2.0",
            "_view_name": "StyleView",
            "description_width": ""
          }
        },
        "1a74b14aa4094c3388087eb2fbbc160f": {
          "model_module": "@jupyter-widgets/base",
          "model_name": "LayoutModel",
          "model_module_version": "1.2.0",
          "state": {
            "_model_module": "@jupyter-widgets/base",
            "_model_module_version": "1.2.0",
            "_model_name": "LayoutModel",
            "_view_count": null,
            "_view_module": "@jupyter-widgets/base",
            "_view_module_version": "1.2.0",
            "_view_name": "LayoutView",
            "align_content": null,
            "align_items": null,
            "align_self": null,
            "border": null,
            "bottom": null,
            "display": null,
            "flex": null,
            "flex_flow": null,
            "grid_area": null,
            "grid_auto_columns": null,
            "grid_auto_flow": null,
            "grid_auto_rows": null,
            "grid_column": null,
            "grid_gap": null,
            "grid_row": null,
            "grid_template_areas": null,
            "grid_template_columns": null,
            "grid_template_rows": null,
            "height": null,
            "justify_content": null,
            "justify_items": null,
            "left": null,
            "margin": null,
            "max_height": null,
            "max_width": null,
            "min_height": null,
            "min_width": null,
            "object_fit": null,
            "object_position": null,
            "order": null,
            "overflow": null,
            "overflow_x": null,
            "overflow_y": null,
            "padding": null,
            "right": null,
            "top": null,
            "visibility": null,
            "width": null
          }
        },
        "1442ee411bf04a85b86ede0cbcf74fb6": {
          "model_module": "@jupyter-widgets/controls",
          "model_name": "ProgressStyleModel",
          "model_module_version": "1.5.0",
          "state": {
            "_model_module": "@jupyter-widgets/controls",
            "_model_module_version": "1.5.0",
            "_model_name": "ProgressStyleModel",
            "_view_count": null,
            "_view_module": "@jupyter-widgets/base",
            "_view_module_version": "1.2.0",
            "_view_name": "StyleView",
            "bar_color": null,
            "description_width": ""
          }
        },
        "8c408a20ab3846b289e1bd460ae71a24": {
          "model_module": "@jupyter-widgets/base",
          "model_name": "LayoutModel",
          "model_module_version": "1.2.0",
          "state": {
            "_model_module": "@jupyter-widgets/base",
            "_model_module_version": "1.2.0",
            "_model_name": "LayoutModel",
            "_view_count": null,
            "_view_module": "@jupyter-widgets/base",
            "_view_module_version": "1.2.0",
            "_view_name": "LayoutView",
            "align_content": null,
            "align_items": null,
            "align_self": null,
            "border": null,
            "bottom": null,
            "display": null,
            "flex": null,
            "flex_flow": null,
            "grid_area": null,
            "grid_auto_columns": null,
            "grid_auto_flow": null,
            "grid_auto_rows": null,
            "grid_column": null,
            "grid_gap": null,
            "grid_row": null,
            "grid_template_areas": null,
            "grid_template_columns": null,
            "grid_template_rows": null,
            "height": null,
            "justify_content": null,
            "justify_items": null,
            "left": null,
            "margin": null,
            "max_height": null,
            "max_width": null,
            "min_height": null,
            "min_width": null,
            "object_fit": null,
            "object_position": null,
            "order": null,
            "overflow": null,
            "overflow_x": null,
            "overflow_y": null,
            "padding": null,
            "right": null,
            "top": null,
            "visibility": null,
            "width": null
          }
        },
        "354f0ff7ab2b4c3c82d9715b27e4691f": {
          "model_module": "@jupyter-widgets/controls",
          "model_name": "DescriptionStyleModel",
          "model_module_version": "1.5.0",
          "state": {
            "_model_module": "@jupyter-widgets/controls",
            "_model_module_version": "1.5.0",
            "_model_name": "DescriptionStyleModel",
            "_view_count": null,
            "_view_module": "@jupyter-widgets/base",
            "_view_module_version": "1.2.0",
            "_view_name": "StyleView",
            "description_width": ""
          }
        },
        "b552bf2516fa452f9dcc8276f5114265": {
          "model_module": "@jupyter-widgets/controls",
          "model_name": "HBoxModel",
          "model_module_version": "1.5.0",
          "state": {
            "_dom_classes": [],
            "_model_module": "@jupyter-widgets/controls",
            "_model_module_version": "1.5.0",
            "_model_name": "HBoxModel",
            "_view_count": null,
            "_view_module": "@jupyter-widgets/controls",
            "_view_module_version": "1.5.0",
            "_view_name": "HBoxView",
            "box_style": "",
            "children": [
              "IPY_MODEL_16129802a6cf4849b86521681620b0c9",
              "IPY_MODEL_b9b70be3b7964bad9ecb8456c6c8c393",
              "IPY_MODEL_353baa3aa5cd4a5f92ee8f1081dd806a"
            ],
            "layout": "IPY_MODEL_e3bb5a6b8d694cfc85f18d81cd463416"
          }
        },
        "16129802a6cf4849b86521681620b0c9": {
          "model_module": "@jupyter-widgets/controls",
          "model_name": "HTMLModel",
          "model_module_version": "1.5.0",
          "state": {
            "_dom_classes": [],
            "_model_module": "@jupyter-widgets/controls",
            "_model_module_version": "1.5.0",
            "_model_name": "HTMLModel",
            "_view_count": null,
            "_view_module": "@jupyter-widgets/controls",
            "_view_module_version": "1.5.0",
            "_view_name": "HTMLView",
            "description": "",
            "description_tooltip": null,
            "layout": "IPY_MODEL_0f506023b7e549b9b8a9f478e448a8cd",
            "placeholder": "​",
            "style": "IPY_MODEL_9f18113873534c3c83b0e0179bad4dcd",
            "value": "100%"
          }
        },
        "b9b70be3b7964bad9ecb8456c6c8c393": {
          "model_module": "@jupyter-widgets/controls",
          "model_name": "FloatProgressModel",
          "model_module_version": "1.5.0",
          "state": {
            "_dom_classes": [],
            "_model_module": "@jupyter-widgets/controls",
            "_model_module_version": "1.5.0",
            "_model_name": "FloatProgressModel",
            "_view_count": null,
            "_view_module": "@jupyter-widgets/controls",
            "_view_module_version": "1.5.0",
            "_view_name": "ProgressView",
            "bar_style": "success",
            "description": "",
            "description_tooltip": null,
            "layout": "IPY_MODEL_9e2c0a9b780949ef883c5e47a420d180",
            "max": 695,
            "min": 0,
            "orientation": "horizontal",
            "style": "IPY_MODEL_6ccd9237d79e41bf9f6eca8ea8b0762a",
            "value": 695
          }
        },
        "353baa3aa5cd4a5f92ee8f1081dd806a": {
          "model_module": "@jupyter-widgets/controls",
          "model_name": "HTMLModel",
          "model_module_version": "1.5.0",
          "state": {
            "_dom_classes": [],
            "_model_module": "@jupyter-widgets/controls",
            "_model_module_version": "1.5.0",
            "_model_name": "HTMLModel",
            "_view_count": null,
            "_view_module": "@jupyter-widgets/controls",
            "_view_module_version": "1.5.0",
            "_view_name": "HTMLView",
            "description": "",
            "description_tooltip": null,
            "layout": "IPY_MODEL_496a553529374610a4c4bdcbebb9ec68",
            "placeholder": "​",
            "style": "IPY_MODEL_0ea707a612a0401b9e5e197887262472",
            "value": " 695/695 [00:01&lt;00:00, 385.47it/s]"
          }
        },
        "e3bb5a6b8d694cfc85f18d81cd463416": {
          "model_module": "@jupyter-widgets/base",
          "model_name": "LayoutModel",
          "model_module_version": "1.2.0",
          "state": {
            "_model_module": "@jupyter-widgets/base",
            "_model_module_version": "1.2.0",
            "_model_name": "LayoutModel",
            "_view_count": null,
            "_view_module": "@jupyter-widgets/base",
            "_view_module_version": "1.2.0",
            "_view_name": "LayoutView",
            "align_content": null,
            "align_items": null,
            "align_self": null,
            "border": null,
            "bottom": null,
            "display": null,
            "flex": null,
            "flex_flow": null,
            "grid_area": null,
            "grid_auto_columns": null,
            "grid_auto_flow": null,
            "grid_auto_rows": null,
            "grid_column": null,
            "grid_gap": null,
            "grid_row": null,
            "grid_template_areas": null,
            "grid_template_columns": null,
            "grid_template_rows": null,
            "height": null,
            "justify_content": null,
            "justify_items": null,
            "left": null,
            "margin": null,
            "max_height": null,
            "max_width": null,
            "min_height": null,
            "min_width": null,
            "object_fit": null,
            "object_position": null,
            "order": null,
            "overflow": null,
            "overflow_x": null,
            "overflow_y": null,
            "padding": null,
            "right": null,
            "top": null,
            "visibility": null,
            "width": null
          }
        },
        "0f506023b7e549b9b8a9f478e448a8cd": {
          "model_module": "@jupyter-widgets/base",
          "model_name": "LayoutModel",
          "model_module_version": "1.2.0",
          "state": {
            "_model_module": "@jupyter-widgets/base",
            "_model_module_version": "1.2.0",
            "_model_name": "LayoutModel",
            "_view_count": null,
            "_view_module": "@jupyter-widgets/base",
            "_view_module_version": "1.2.0",
            "_view_name": "LayoutView",
            "align_content": null,
            "align_items": null,
            "align_self": null,
            "border": null,
            "bottom": null,
            "display": null,
            "flex": null,
            "flex_flow": null,
            "grid_area": null,
            "grid_auto_columns": null,
            "grid_auto_flow": null,
            "grid_auto_rows": null,
            "grid_column": null,
            "grid_gap": null,
            "grid_row": null,
            "grid_template_areas": null,
            "grid_template_columns": null,
            "grid_template_rows": null,
            "height": null,
            "justify_content": null,
            "justify_items": null,
            "left": null,
            "margin": null,
            "max_height": null,
            "max_width": null,
            "min_height": null,
            "min_width": null,
            "object_fit": null,
            "object_position": null,
            "order": null,
            "overflow": null,
            "overflow_x": null,
            "overflow_y": null,
            "padding": null,
            "right": null,
            "top": null,
            "visibility": null,
            "width": null
          }
        },
        "9f18113873534c3c83b0e0179bad4dcd": {
          "model_module": "@jupyter-widgets/controls",
          "model_name": "DescriptionStyleModel",
          "model_module_version": "1.5.0",
          "state": {
            "_model_module": "@jupyter-widgets/controls",
            "_model_module_version": "1.5.0",
            "_model_name": "DescriptionStyleModel",
            "_view_count": null,
            "_view_module": "@jupyter-widgets/base",
            "_view_module_version": "1.2.0",
            "_view_name": "StyleView",
            "description_width": ""
          }
        },
        "9e2c0a9b780949ef883c5e47a420d180": {
          "model_module": "@jupyter-widgets/base",
          "model_name": "LayoutModel",
          "model_module_version": "1.2.0",
          "state": {
            "_model_module": "@jupyter-widgets/base",
            "_model_module_version": "1.2.0",
            "_model_name": "LayoutModel",
            "_view_count": null,
            "_view_module": "@jupyter-widgets/base",
            "_view_module_version": "1.2.0",
            "_view_name": "LayoutView",
            "align_content": null,
            "align_items": null,
            "align_self": null,
            "border": null,
            "bottom": null,
            "display": null,
            "flex": null,
            "flex_flow": null,
            "grid_area": null,
            "grid_auto_columns": null,
            "grid_auto_flow": null,
            "grid_auto_rows": null,
            "grid_column": null,
            "grid_gap": null,
            "grid_row": null,
            "grid_template_areas": null,
            "grid_template_columns": null,
            "grid_template_rows": null,
            "height": null,
            "justify_content": null,
            "justify_items": null,
            "left": null,
            "margin": null,
            "max_height": null,
            "max_width": null,
            "min_height": null,
            "min_width": null,
            "object_fit": null,
            "object_position": null,
            "order": null,
            "overflow": null,
            "overflow_x": null,
            "overflow_y": null,
            "padding": null,
            "right": null,
            "top": null,
            "visibility": null,
            "width": null
          }
        },
        "6ccd9237d79e41bf9f6eca8ea8b0762a": {
          "model_module": "@jupyter-widgets/controls",
          "model_name": "ProgressStyleModel",
          "model_module_version": "1.5.0",
          "state": {
            "_model_module": "@jupyter-widgets/controls",
            "_model_module_version": "1.5.0",
            "_model_name": "ProgressStyleModel",
            "_view_count": null,
            "_view_module": "@jupyter-widgets/base",
            "_view_module_version": "1.2.0",
            "_view_name": "StyleView",
            "bar_color": null,
            "description_width": ""
          }
        },
        "496a553529374610a4c4bdcbebb9ec68": {
          "model_module": "@jupyter-widgets/base",
          "model_name": "LayoutModel",
          "model_module_version": "1.2.0",
          "state": {
            "_model_module": "@jupyter-widgets/base",
            "_model_module_version": "1.2.0",
            "_model_name": "LayoutModel",
            "_view_count": null,
            "_view_module": "@jupyter-widgets/base",
            "_view_module_version": "1.2.0",
            "_view_name": "LayoutView",
            "align_content": null,
            "align_items": null,
            "align_self": null,
            "border": null,
            "bottom": null,
            "display": null,
            "flex": null,
            "flex_flow": null,
            "grid_area": null,
            "grid_auto_columns": null,
            "grid_auto_flow": null,
            "grid_auto_rows": null,
            "grid_column": null,
            "grid_gap": null,
            "grid_row": null,
            "grid_template_areas": null,
            "grid_template_columns": null,
            "grid_template_rows": null,
            "height": null,
            "justify_content": null,
            "justify_items": null,
            "left": null,
            "margin": null,
            "max_height": null,
            "max_width": null,
            "min_height": null,
            "min_width": null,
            "object_fit": null,
            "object_position": null,
            "order": null,
            "overflow": null,
            "overflow_x": null,
            "overflow_y": null,
            "padding": null,
            "right": null,
            "top": null,
            "visibility": null,
            "width": null
          }
        },
        "0ea707a612a0401b9e5e197887262472": {
          "model_module": "@jupyter-widgets/controls",
          "model_name": "DescriptionStyleModel",
          "model_module_version": "1.5.0",
          "state": {
            "_model_module": "@jupyter-widgets/controls",
            "_model_module_version": "1.5.0",
            "_model_name": "DescriptionStyleModel",
            "_view_count": null,
            "_view_module": "@jupyter-widgets/base",
            "_view_module_version": "1.2.0",
            "_view_name": "StyleView",
            "description_width": ""
          }
        },
        "2f09e863c67546909570aea16ae84796": {
          "model_module": "@jupyter-widgets/controls",
          "model_name": "HBoxModel",
          "model_module_version": "1.5.0",
          "state": {
            "_dom_classes": [],
            "_model_module": "@jupyter-widgets/controls",
            "_model_module_version": "1.5.0",
            "_model_name": "HBoxModel",
            "_view_count": null,
            "_view_module": "@jupyter-widgets/controls",
            "_view_module_version": "1.5.0",
            "_view_name": "HBoxView",
            "box_style": "",
            "children": [
              "IPY_MODEL_92d609545bd64306b4b0a524c5ab2bf7",
              "IPY_MODEL_1a093b2094494c2f88d06009fd878160",
              "IPY_MODEL_07734388fd514bf7b36ae6c29a6d006a"
            ],
            "layout": "IPY_MODEL_eb7bd892d25f4cc7bc232ae4241ba9d5"
          }
        },
        "92d609545bd64306b4b0a524c5ab2bf7": {
          "model_module": "@jupyter-widgets/controls",
          "model_name": "HTMLModel",
          "model_module_version": "1.5.0",
          "state": {
            "_dom_classes": [],
            "_model_module": "@jupyter-widgets/controls",
            "_model_module_version": "1.5.0",
            "_model_name": "HTMLModel",
            "_view_count": null,
            "_view_module": "@jupyter-widgets/controls",
            "_view_module_version": "1.5.0",
            "_view_name": "HTMLView",
            "description": "",
            "description_tooltip": null,
            "layout": "IPY_MODEL_bc8754811f0d4952b1573fce37ef6ea6",
            "placeholder": "​",
            "style": "IPY_MODEL_054851a66f2b41ecb96564ee0c90573a",
            "value": "100%"
          }
        },
        "1a093b2094494c2f88d06009fd878160": {
          "model_module": "@jupyter-widgets/controls",
          "model_name": "FloatProgressModel",
          "model_module_version": "1.5.0",
          "state": {
            "_dom_classes": [],
            "_model_module": "@jupyter-widgets/controls",
            "_model_module_version": "1.5.0",
            "_model_name": "FloatProgressModel",
            "_view_count": null,
            "_view_module": "@jupyter-widgets/controls",
            "_view_module_version": "1.5.0",
            "_view_name": "ProgressView",
            "bar_style": "success",
            "description": "",
            "description_tooltip": null,
            "layout": "IPY_MODEL_80bb7cbc435f477d98eeb5a5be4e6fca",
            "max": 695,
            "min": 0,
            "orientation": "horizontal",
            "style": "IPY_MODEL_18a8f56ea8cd4147a9c253d2bc5ca374",
            "value": 695
          }
        },
        "07734388fd514bf7b36ae6c29a6d006a": {
          "model_module": "@jupyter-widgets/controls",
          "model_name": "HTMLModel",
          "model_module_version": "1.5.0",
          "state": {
            "_dom_classes": [],
            "_model_module": "@jupyter-widgets/controls",
            "_model_module_version": "1.5.0",
            "_model_name": "HTMLModel",
            "_view_count": null,
            "_view_module": "@jupyter-widgets/controls",
            "_view_module_version": "1.5.0",
            "_view_name": "HTMLView",
            "description": "",
            "description_tooltip": null,
            "layout": "IPY_MODEL_54ba9e6566004c51a4fc2d3b94984b75",
            "placeholder": "​",
            "style": "IPY_MODEL_8c3d46ca078f4f58b96e99c8e56f2542",
            "value": " 695/695 [00:00&lt;00:00, 1302.38it/s]"
          }
        },
        "eb7bd892d25f4cc7bc232ae4241ba9d5": {
          "model_module": "@jupyter-widgets/base",
          "model_name": "LayoutModel",
          "model_module_version": "1.2.0",
          "state": {
            "_model_module": "@jupyter-widgets/base",
            "_model_module_version": "1.2.0",
            "_model_name": "LayoutModel",
            "_view_count": null,
            "_view_module": "@jupyter-widgets/base",
            "_view_module_version": "1.2.0",
            "_view_name": "LayoutView",
            "align_content": null,
            "align_items": null,
            "align_self": null,
            "border": null,
            "bottom": null,
            "display": null,
            "flex": null,
            "flex_flow": null,
            "grid_area": null,
            "grid_auto_columns": null,
            "grid_auto_flow": null,
            "grid_auto_rows": null,
            "grid_column": null,
            "grid_gap": null,
            "grid_row": null,
            "grid_template_areas": null,
            "grid_template_columns": null,
            "grid_template_rows": null,
            "height": null,
            "justify_content": null,
            "justify_items": null,
            "left": null,
            "margin": null,
            "max_height": null,
            "max_width": null,
            "min_height": null,
            "min_width": null,
            "object_fit": null,
            "object_position": null,
            "order": null,
            "overflow": null,
            "overflow_x": null,
            "overflow_y": null,
            "padding": null,
            "right": null,
            "top": null,
            "visibility": null,
            "width": null
          }
        },
        "bc8754811f0d4952b1573fce37ef6ea6": {
          "model_module": "@jupyter-widgets/base",
          "model_name": "LayoutModel",
          "model_module_version": "1.2.0",
          "state": {
            "_model_module": "@jupyter-widgets/base",
            "_model_module_version": "1.2.0",
            "_model_name": "LayoutModel",
            "_view_count": null,
            "_view_module": "@jupyter-widgets/base",
            "_view_module_version": "1.2.0",
            "_view_name": "LayoutView",
            "align_content": null,
            "align_items": null,
            "align_self": null,
            "border": null,
            "bottom": null,
            "display": null,
            "flex": null,
            "flex_flow": null,
            "grid_area": null,
            "grid_auto_columns": null,
            "grid_auto_flow": null,
            "grid_auto_rows": null,
            "grid_column": null,
            "grid_gap": null,
            "grid_row": null,
            "grid_template_areas": null,
            "grid_template_columns": null,
            "grid_template_rows": null,
            "height": null,
            "justify_content": null,
            "justify_items": null,
            "left": null,
            "margin": null,
            "max_height": null,
            "max_width": null,
            "min_height": null,
            "min_width": null,
            "object_fit": null,
            "object_position": null,
            "order": null,
            "overflow": null,
            "overflow_x": null,
            "overflow_y": null,
            "padding": null,
            "right": null,
            "top": null,
            "visibility": null,
            "width": null
          }
        },
        "054851a66f2b41ecb96564ee0c90573a": {
          "model_module": "@jupyter-widgets/controls",
          "model_name": "DescriptionStyleModel",
          "model_module_version": "1.5.0",
          "state": {
            "_model_module": "@jupyter-widgets/controls",
            "_model_module_version": "1.5.0",
            "_model_name": "DescriptionStyleModel",
            "_view_count": null,
            "_view_module": "@jupyter-widgets/base",
            "_view_module_version": "1.2.0",
            "_view_name": "StyleView",
            "description_width": ""
          }
        },
        "80bb7cbc435f477d98eeb5a5be4e6fca": {
          "model_module": "@jupyter-widgets/base",
          "model_name": "LayoutModel",
          "model_module_version": "1.2.0",
          "state": {
            "_model_module": "@jupyter-widgets/base",
            "_model_module_version": "1.2.0",
            "_model_name": "LayoutModel",
            "_view_count": null,
            "_view_module": "@jupyter-widgets/base",
            "_view_module_version": "1.2.0",
            "_view_name": "LayoutView",
            "align_content": null,
            "align_items": null,
            "align_self": null,
            "border": null,
            "bottom": null,
            "display": null,
            "flex": null,
            "flex_flow": null,
            "grid_area": null,
            "grid_auto_columns": null,
            "grid_auto_flow": null,
            "grid_auto_rows": null,
            "grid_column": null,
            "grid_gap": null,
            "grid_row": null,
            "grid_template_areas": null,
            "grid_template_columns": null,
            "grid_template_rows": null,
            "height": null,
            "justify_content": null,
            "justify_items": null,
            "left": null,
            "margin": null,
            "max_height": null,
            "max_width": null,
            "min_height": null,
            "min_width": null,
            "object_fit": null,
            "object_position": null,
            "order": null,
            "overflow": null,
            "overflow_x": null,
            "overflow_y": null,
            "padding": null,
            "right": null,
            "top": null,
            "visibility": null,
            "width": null
          }
        },
        "18a8f56ea8cd4147a9c253d2bc5ca374": {
          "model_module": "@jupyter-widgets/controls",
          "model_name": "ProgressStyleModel",
          "model_module_version": "1.5.0",
          "state": {
            "_model_module": "@jupyter-widgets/controls",
            "_model_module_version": "1.5.0",
            "_model_name": "ProgressStyleModel",
            "_view_count": null,
            "_view_module": "@jupyter-widgets/base",
            "_view_module_version": "1.2.0",
            "_view_name": "StyleView",
            "bar_color": null,
            "description_width": ""
          }
        },
        "54ba9e6566004c51a4fc2d3b94984b75": {
          "model_module": "@jupyter-widgets/base",
          "model_name": "LayoutModel",
          "model_module_version": "1.2.0",
          "state": {
            "_model_module": "@jupyter-widgets/base",
            "_model_module_version": "1.2.0",
            "_model_name": "LayoutModel",
            "_view_count": null,
            "_view_module": "@jupyter-widgets/base",
            "_view_module_version": "1.2.0",
            "_view_name": "LayoutView",
            "align_content": null,
            "align_items": null,
            "align_self": null,
            "border": null,
            "bottom": null,
            "display": null,
            "flex": null,
            "flex_flow": null,
            "grid_area": null,
            "grid_auto_columns": null,
            "grid_auto_flow": null,
            "grid_auto_rows": null,
            "grid_column": null,
            "grid_gap": null,
            "grid_row": null,
            "grid_template_areas": null,
            "grid_template_columns": null,
            "grid_template_rows": null,
            "height": null,
            "justify_content": null,
            "justify_items": null,
            "left": null,
            "margin": null,
            "max_height": null,
            "max_width": null,
            "min_height": null,
            "min_width": null,
            "object_fit": null,
            "object_position": null,
            "order": null,
            "overflow": null,
            "overflow_x": null,
            "overflow_y": null,
            "padding": null,
            "right": null,
            "top": null,
            "visibility": null,
            "width": null
          }
        },
        "8c3d46ca078f4f58b96e99c8e56f2542": {
          "model_module": "@jupyter-widgets/controls",
          "model_name": "DescriptionStyleModel",
          "model_module_version": "1.5.0",
          "state": {
            "_model_module": "@jupyter-widgets/controls",
            "_model_module_version": "1.5.0",
            "_model_name": "DescriptionStyleModel",
            "_view_count": null,
            "_view_module": "@jupyter-widgets/base",
            "_view_module_version": "1.2.0",
            "_view_name": "StyleView",
            "description_width": ""
          }
        },
        "0df667ba0ca546558ef715c761b89b42": {
          "model_module": "@jupyter-widgets/controls",
          "model_name": "HBoxModel",
          "model_module_version": "1.5.0",
          "state": {
            "_dom_classes": [],
            "_model_module": "@jupyter-widgets/controls",
            "_model_module_version": "1.5.0",
            "_model_name": "HBoxModel",
            "_view_count": null,
            "_view_module": "@jupyter-widgets/controls",
            "_view_module_version": "1.5.0",
            "_view_name": "HBoxView",
            "box_style": "",
            "children": [
              "IPY_MODEL_e02f45c917e1425a9fabf5aea1d4ca1c",
              "IPY_MODEL_64d4720d62a247749ce237cba432d30d",
              "IPY_MODEL_becaa594faea41c387821b5824fd8923"
            ],
            "layout": "IPY_MODEL_50fa9fe43c574f589ac2b11a038a7cb3"
          }
        },
        "e02f45c917e1425a9fabf5aea1d4ca1c": {
          "model_module": "@jupyter-widgets/controls",
          "model_name": "HTMLModel",
          "model_module_version": "1.5.0",
          "state": {
            "_dom_classes": [],
            "_model_module": "@jupyter-widgets/controls",
            "_model_module_version": "1.5.0",
            "_model_name": "HTMLModel",
            "_view_count": null,
            "_view_module": "@jupyter-widgets/controls",
            "_view_module_version": "1.5.0",
            "_view_name": "HTMLView",
            "description": "",
            "description_tooltip": null,
            "layout": "IPY_MODEL_7340eaad15f74f9cb30824483f63df82",
            "placeholder": "​",
            "style": "IPY_MODEL_56e486416f6545459b4f4e2f6578e9d3",
            "value": "Loading checkpoint shards: 100%"
          }
        },
        "64d4720d62a247749ce237cba432d30d": {
          "model_module": "@jupyter-widgets/controls",
          "model_name": "FloatProgressModel",
          "model_module_version": "1.5.0",
          "state": {
            "_dom_classes": [],
            "_model_module": "@jupyter-widgets/controls",
            "_model_module_version": "1.5.0",
            "_model_name": "FloatProgressModel",
            "_view_count": null,
            "_view_module": "@jupyter-widgets/controls",
            "_view_module_version": "1.5.0",
            "_view_name": "ProgressView",
            "bar_style": "success",
            "description": "",
            "description_tooltip": null,
            "layout": "IPY_MODEL_7f01cd6025b540f9b3fa80960aca7c96",
            "max": 8,
            "min": 0,
            "orientation": "horizontal",
            "style": "IPY_MODEL_91ab0eb03d5f4039967b0e8975f750fe",
            "value": 8
          }
        },
        "becaa594faea41c387821b5824fd8923": {
          "model_module": "@jupyter-widgets/controls",
          "model_name": "HTMLModel",
          "model_module_version": "1.5.0",
          "state": {
            "_dom_classes": [],
            "_model_module": "@jupyter-widgets/controls",
            "_model_module_version": "1.5.0",
            "_model_name": "HTMLModel",
            "_view_count": null,
            "_view_module": "@jupyter-widgets/controls",
            "_view_module_version": "1.5.0",
            "_view_name": "HTMLView",
            "description": "",
            "description_tooltip": null,
            "layout": "IPY_MODEL_e253df9b64b84559afb755aadcf01355",
            "placeholder": "​",
            "style": "IPY_MODEL_99404933b9a34c46b22d78b6866defe7",
            "value": " 8/8 [01:10&lt;00:00,  7.86s/it]"
          }
        },
        "50fa9fe43c574f589ac2b11a038a7cb3": {
          "model_module": "@jupyter-widgets/base",
          "model_name": "LayoutModel",
          "model_module_version": "1.2.0",
          "state": {
            "_model_module": "@jupyter-widgets/base",
            "_model_module_version": "1.2.0",
            "_model_name": "LayoutModel",
            "_view_count": null,
            "_view_module": "@jupyter-widgets/base",
            "_view_module_version": "1.2.0",
            "_view_name": "LayoutView",
            "align_content": null,
            "align_items": null,
            "align_self": null,
            "border": null,
            "bottom": null,
            "display": null,
            "flex": null,
            "flex_flow": null,
            "grid_area": null,
            "grid_auto_columns": null,
            "grid_auto_flow": null,
            "grid_auto_rows": null,
            "grid_column": null,
            "grid_gap": null,
            "grid_row": null,
            "grid_template_areas": null,
            "grid_template_columns": null,
            "grid_template_rows": null,
            "height": null,
            "justify_content": null,
            "justify_items": null,
            "left": null,
            "margin": null,
            "max_height": null,
            "max_width": null,
            "min_height": null,
            "min_width": null,
            "object_fit": null,
            "object_position": null,
            "order": null,
            "overflow": null,
            "overflow_x": null,
            "overflow_y": null,
            "padding": null,
            "right": null,
            "top": null,
            "visibility": null,
            "width": null
          }
        },
        "7340eaad15f74f9cb30824483f63df82": {
          "model_module": "@jupyter-widgets/base",
          "model_name": "LayoutModel",
          "model_module_version": "1.2.0",
          "state": {
            "_model_module": "@jupyter-widgets/base",
            "_model_module_version": "1.2.0",
            "_model_name": "LayoutModel",
            "_view_count": null,
            "_view_module": "@jupyter-widgets/base",
            "_view_module_version": "1.2.0",
            "_view_name": "LayoutView",
            "align_content": null,
            "align_items": null,
            "align_self": null,
            "border": null,
            "bottom": null,
            "display": null,
            "flex": null,
            "flex_flow": null,
            "grid_area": null,
            "grid_auto_columns": null,
            "grid_auto_flow": null,
            "grid_auto_rows": null,
            "grid_column": null,
            "grid_gap": null,
            "grid_row": null,
            "grid_template_areas": null,
            "grid_template_columns": null,
            "grid_template_rows": null,
            "height": null,
            "justify_content": null,
            "justify_items": null,
            "left": null,
            "margin": null,
            "max_height": null,
            "max_width": null,
            "min_height": null,
            "min_width": null,
            "object_fit": null,
            "object_position": null,
            "order": null,
            "overflow": null,
            "overflow_x": null,
            "overflow_y": null,
            "padding": null,
            "right": null,
            "top": null,
            "visibility": null,
            "width": null
          }
        },
        "56e486416f6545459b4f4e2f6578e9d3": {
          "model_module": "@jupyter-widgets/controls",
          "model_name": "DescriptionStyleModel",
          "model_module_version": "1.5.0",
          "state": {
            "_model_module": "@jupyter-widgets/controls",
            "_model_module_version": "1.5.0",
            "_model_name": "DescriptionStyleModel",
            "_view_count": null,
            "_view_module": "@jupyter-widgets/base",
            "_view_module_version": "1.2.0",
            "_view_name": "StyleView",
            "description_width": ""
          }
        },
        "7f01cd6025b540f9b3fa80960aca7c96": {
          "model_module": "@jupyter-widgets/base",
          "model_name": "LayoutModel",
          "model_module_version": "1.2.0",
          "state": {
            "_model_module": "@jupyter-widgets/base",
            "_model_module_version": "1.2.0",
            "_model_name": "LayoutModel",
            "_view_count": null,
            "_view_module": "@jupyter-widgets/base",
            "_view_module_version": "1.2.0",
            "_view_name": "LayoutView",
            "align_content": null,
            "align_items": null,
            "align_self": null,
            "border": null,
            "bottom": null,
            "display": null,
            "flex": null,
            "flex_flow": null,
            "grid_area": null,
            "grid_auto_columns": null,
            "grid_auto_flow": null,
            "grid_auto_rows": null,
            "grid_column": null,
            "grid_gap": null,
            "grid_row": null,
            "grid_template_areas": null,
            "grid_template_columns": null,
            "grid_template_rows": null,
            "height": null,
            "justify_content": null,
            "justify_items": null,
            "left": null,
            "margin": null,
            "max_height": null,
            "max_width": null,
            "min_height": null,
            "min_width": null,
            "object_fit": null,
            "object_position": null,
            "order": null,
            "overflow": null,
            "overflow_x": null,
            "overflow_y": null,
            "padding": null,
            "right": null,
            "top": null,
            "visibility": null,
            "width": null
          }
        },
        "91ab0eb03d5f4039967b0e8975f750fe": {
          "model_module": "@jupyter-widgets/controls",
          "model_name": "ProgressStyleModel",
          "model_module_version": "1.5.0",
          "state": {
            "_model_module": "@jupyter-widgets/controls",
            "_model_module_version": "1.5.0",
            "_model_name": "ProgressStyleModel",
            "_view_count": null,
            "_view_module": "@jupyter-widgets/base",
            "_view_module_version": "1.2.0",
            "_view_name": "StyleView",
            "bar_color": null,
            "description_width": ""
          }
        },
        "e253df9b64b84559afb755aadcf01355": {
          "model_module": "@jupyter-widgets/base",
          "model_name": "LayoutModel",
          "model_module_version": "1.2.0",
          "state": {
            "_model_module": "@jupyter-widgets/base",
            "_model_module_version": "1.2.0",
            "_model_name": "LayoutModel",
            "_view_count": null,
            "_view_module": "@jupyter-widgets/base",
            "_view_module_version": "1.2.0",
            "_view_name": "LayoutView",
            "align_content": null,
            "align_items": null,
            "align_self": null,
            "border": null,
            "bottom": null,
            "display": null,
            "flex": null,
            "flex_flow": null,
            "grid_area": null,
            "grid_auto_columns": null,
            "grid_auto_flow": null,
            "grid_auto_rows": null,
            "grid_column": null,
            "grid_gap": null,
            "grid_row": null,
            "grid_template_areas": null,
            "grid_template_columns": null,
            "grid_template_rows": null,
            "height": null,
            "justify_content": null,
            "justify_items": null,
            "left": null,
            "margin": null,
            "max_height": null,
            "max_width": null,
            "min_height": null,
            "min_width": null,
            "object_fit": null,
            "object_position": null,
            "order": null,
            "overflow": null,
            "overflow_x": null,
            "overflow_y": null,
            "padding": null,
            "right": null,
            "top": null,
            "visibility": null,
            "width": null
          }
        },
        "99404933b9a34c46b22d78b6866defe7": {
          "model_module": "@jupyter-widgets/controls",
          "model_name": "DescriptionStyleModel",
          "model_module_version": "1.5.0",
          "state": {
            "_model_module": "@jupyter-widgets/controls",
            "_model_module_version": "1.5.0",
            "_model_name": "DescriptionStyleModel",
            "_view_count": null,
            "_view_module": "@jupyter-widgets/base",
            "_view_module_version": "1.2.0",
            "_view_name": "StyleView",
            "description_width": ""
          }
        }
      }
    },
    "accelerator": "GPU"
  },
  "nbformat": 4,
  "nbformat_minor": 0
}