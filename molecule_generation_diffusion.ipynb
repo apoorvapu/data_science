{
  "cells": [
    {
      "cell_type": "markdown",
      "metadata": {
        "id": "view-in-github",
        "colab_type": "text"
      },
      "source": [
        "<a href=\"https://colab.research.google.com/github/apoorvapu/data_science/blob/main/molecule_generation_diffusion.ipynb\" target=\"_parent\"><img src=\"https://colab.research.google.com/assets/colab-badge.svg\" alt=\"Open In Colab\"/></a>"
      ]
    },
    {
      "cell_type": "code",
      "source": [
        "!pip install torch torchvision diffusers transformers"
      ],
      "metadata": {
        "id": "_0-3PhNqlhLq",
        "outputId": "c3e5f541-618a-4920-a54b-5332abbdec47",
        "colab": {
          "base_uri": "https://localhost:8080/"
        }
      },
      "execution_count": 96,
      "outputs": [
        {
          "output_type": "stream",
          "name": "stdout",
          "text": [
            "Requirement already satisfied: torch in /usr/local/lib/python3.11/dist-packages (2.6.0+cu124)\n",
            "Requirement already satisfied: torchvision in /usr/local/lib/python3.11/dist-packages (0.21.0+cu124)\n",
            "Requirement already satisfied: diffusers in /usr/local/lib/python3.11/dist-packages (0.32.2)\n",
            "Requirement already satisfied: transformers in /usr/local/lib/python3.11/dist-packages (4.50.3)\n",
            "Requirement already satisfied: filelock in /usr/local/lib/python3.11/dist-packages (from torch) (3.18.0)\n",
            "Requirement already satisfied: typing-extensions>=4.10.0 in /usr/local/lib/python3.11/dist-packages (from torch) (4.13.1)\n",
            "Requirement already satisfied: networkx in /usr/local/lib/python3.11/dist-packages (from torch) (3.4.2)\n",
            "Requirement already satisfied: jinja2 in /usr/local/lib/python3.11/dist-packages (from torch) (3.1.6)\n",
            "Requirement already satisfied: fsspec in /usr/local/lib/python3.11/dist-packages (from torch) (2025.3.2)\n",
            "Requirement already satisfied: nvidia-cuda-nvrtc-cu12==12.4.127 in /usr/local/lib/python3.11/dist-packages (from torch) (12.4.127)\n",
            "Requirement already satisfied: nvidia-cuda-runtime-cu12==12.4.127 in /usr/local/lib/python3.11/dist-packages (from torch) (12.4.127)\n",
            "Requirement already satisfied: nvidia-cuda-cupti-cu12==12.4.127 in /usr/local/lib/python3.11/dist-packages (from torch) (12.4.127)\n",
            "Requirement already satisfied: nvidia-cudnn-cu12==9.1.0.70 in /usr/local/lib/python3.11/dist-packages (from torch) (9.1.0.70)\n",
            "Requirement already satisfied: nvidia-cublas-cu12==12.4.5.8 in /usr/local/lib/python3.11/dist-packages (from torch) (12.4.5.8)\n",
            "Requirement already satisfied: nvidia-cufft-cu12==11.2.1.3 in /usr/local/lib/python3.11/dist-packages (from torch) (11.2.1.3)\n",
            "Requirement already satisfied: nvidia-curand-cu12==10.3.5.147 in /usr/local/lib/python3.11/dist-packages (from torch) (10.3.5.147)\n",
            "Requirement already satisfied: nvidia-cusolver-cu12==11.6.1.9 in /usr/local/lib/python3.11/dist-packages (from torch) (11.6.1.9)\n",
            "Requirement already satisfied: nvidia-cusparse-cu12==12.3.1.170 in /usr/local/lib/python3.11/dist-packages (from torch) (12.3.1.170)\n",
            "Requirement already satisfied: nvidia-cusparselt-cu12==0.6.2 in /usr/local/lib/python3.11/dist-packages (from torch) (0.6.2)\n",
            "Requirement already satisfied: nvidia-nccl-cu12==2.21.5 in /usr/local/lib/python3.11/dist-packages (from torch) (2.21.5)\n",
            "Requirement already satisfied: nvidia-nvtx-cu12==12.4.127 in /usr/local/lib/python3.11/dist-packages (from torch) (12.4.127)\n",
            "Requirement already satisfied: nvidia-nvjitlink-cu12==12.4.127 in /usr/local/lib/python3.11/dist-packages (from torch) (12.4.127)\n",
            "Requirement already satisfied: triton==3.2.0 in /usr/local/lib/python3.11/dist-packages (from torch) (3.2.0)\n",
            "Requirement already satisfied: sympy==1.13.1 in /usr/local/lib/python3.11/dist-packages (from torch) (1.13.1)\n",
            "Requirement already satisfied: mpmath<1.4,>=1.1.0 in /usr/local/lib/python3.11/dist-packages (from sympy==1.13.1->torch) (1.3.0)\n",
            "Requirement already satisfied: numpy in /usr/local/lib/python3.11/dist-packages (from torchvision) (2.0.2)\n",
            "Requirement already satisfied: pillow!=8.3.*,>=5.3.0 in /usr/local/lib/python3.11/dist-packages (from torchvision) (11.1.0)\n",
            "Requirement already satisfied: importlib-metadata in /usr/local/lib/python3.11/dist-packages (from diffusers) (8.6.1)\n",
            "Requirement already satisfied: huggingface-hub>=0.23.2 in /usr/local/lib/python3.11/dist-packages (from diffusers) (0.30.1)\n",
            "Requirement already satisfied: regex!=2019.12.17 in /usr/local/lib/python3.11/dist-packages (from diffusers) (2024.11.6)\n",
            "Requirement already satisfied: requests in /usr/local/lib/python3.11/dist-packages (from diffusers) (2.32.3)\n",
            "Requirement already satisfied: safetensors>=0.3.1 in /usr/local/lib/python3.11/dist-packages (from diffusers) (0.5.3)\n",
            "Requirement already satisfied: packaging>=20.0 in /usr/local/lib/python3.11/dist-packages (from transformers) (24.2)\n",
            "Requirement already satisfied: pyyaml>=5.1 in /usr/local/lib/python3.11/dist-packages (from transformers) (6.0.2)\n",
            "Requirement already satisfied: tokenizers<0.22,>=0.21 in /usr/local/lib/python3.11/dist-packages (from transformers) (0.21.1)\n",
            "Requirement already satisfied: tqdm>=4.27 in /usr/local/lib/python3.11/dist-packages (from transformers) (4.67.1)\n",
            "Requirement already satisfied: zipp>=3.20 in /usr/local/lib/python3.11/dist-packages (from importlib-metadata->diffusers) (3.21.0)\n",
            "Requirement already satisfied: MarkupSafe>=2.0 in /usr/local/lib/python3.11/dist-packages (from jinja2->torch) (3.0.2)\n",
            "Requirement already satisfied: charset-normalizer<4,>=2 in /usr/local/lib/python3.11/dist-packages (from requests->diffusers) (3.4.1)\n",
            "Requirement already satisfied: idna<4,>=2.5 in /usr/local/lib/python3.11/dist-packages (from requests->diffusers) (3.10)\n",
            "Requirement already satisfied: urllib3<3,>=1.21.1 in /usr/local/lib/python3.11/dist-packages (from requests->diffusers) (2.3.0)\n",
            "Requirement already satisfied: certifi>=2017.4.17 in /usr/local/lib/python3.11/dist-packages (from requests->diffusers) (2025.1.31)\n"
          ]
        }
      ]
    },
    {
      "cell_type": "code",
      "source": [
        "!pip install rdkit pubchempy tqdm py3Dmol"
      ],
      "metadata": {
        "id": "uRgecKIwl6wT",
        "outputId": "541fbbf2-2a93-4b7f-cb2e-a00c4fba6292",
        "colab": {
          "base_uri": "https://localhost:8080/"
        }
      },
      "execution_count": 97,
      "outputs": [
        {
          "output_type": "stream",
          "name": "stdout",
          "text": [
            "Requirement already satisfied: rdkit in /usr/local/lib/python3.11/dist-packages (2024.9.6)\n",
            "Requirement already satisfied: pubchempy in /usr/local/lib/python3.11/dist-packages (1.0.4)\n",
            "Requirement already satisfied: tqdm in /usr/local/lib/python3.11/dist-packages (4.67.1)\n",
            "Requirement already satisfied: py3Dmol in /usr/local/lib/python3.11/dist-packages (2.4.2)\n",
            "Requirement already satisfied: numpy in /usr/local/lib/python3.11/dist-packages (from rdkit) (2.0.2)\n",
            "Requirement already satisfied: Pillow in /usr/local/lib/python3.11/dist-packages (from rdkit) (11.1.0)\n"
          ]
        }
      ]
    },
    {
      "cell_type": "markdown",
      "source": [
        "## download 1000 molecules 3D .sdf files from pubchem and store in a molecules directory"
      ],
      "metadata": {
        "id": "ACBgRogDtF2N"
      }
    },
    {
      "cell_type": "code",
      "source": [
        "import os\n",
        "import requests\n",
        "from tqdm import tqdm\n",
        "\n",
        "# Make sure the folder exists\n",
        "os.makedirs(\"molecules\", exist_ok=True)\n",
        "\n",
        "downloaded = 0\n",
        "target = 1000\n",
        "cid = 1\n",
        "\n",
        "while downloaded < target and cid < 10000:\n",
        "    try:\n",
        "        url = f\"https://pubchem.ncbi.nlm.nih.gov/rest/pug/compound/cid/{cid}/SDF?record_type=3d\"\n",
        "        response = requests.get(url, timeout=10)\n",
        "        if response.status_code == 200 and len(response.text) > 100:\n",
        "            file_path = f\"molecules/mol_{cid}.sdf\"\n",
        "            with open(file_path, \"w\") as f:\n",
        "                f.write(response.text)\n",
        "            downloaded += 1\n",
        "        cid += 1\n",
        "    except Exception as e:\n",
        "        print(f\"CID {cid} failed: {e}\")\n",
        "        cid += 1\n"
      ],
      "metadata": {
        "id": "He8pFiNSo-hd"
      },
      "execution_count": 98,
      "outputs": []
    },
    {
      "cell_type": "code",
      "source": [
        "ls molecules/*.sdf | wc -l\n"
      ],
      "metadata": {
        "id": "TZ19DIlGqryi",
        "outputId": "e458de43-21de-440b-a679-cd41bb046206",
        "colab": {
          "base_uri": "https://localhost:8080/"
        }
      },
      "execution_count": 99,
      "outputs": [
        {
          "output_type": "stream",
          "name": "stdout",
          "text": [
            "1048\n"
          ]
        }
      ]
    },
    {
      "cell_type": "code",
      "source": [
        "import os\n",
        "from rdkit import Chem\n",
        "from rdkit.Chem import AllChem\n",
        "import py3Dmol\n",
        "from IPython.display import display\n",
        "\n",
        "def view_mol(mol):\n",
        "    # Generate 3D coordinates if missing\n",
        "    if mol.GetNumConformers() == 0:\n",
        "        AllChem.EmbedMolecule(mol)\n",
        "    mb = Chem.MolToMolBlock(mol)\n",
        "    viewer = py3Dmol.view(width=400, height=350)\n",
        "    viewer.addModel(mb, 'mol')\n",
        "    viewer.setStyle({'stick': {}})\n",
        "    viewer.setBackgroundColor('white')\n",
        "    viewer.zoomTo()\n",
        "    return viewer\n",
        "\n",
        "# List SDF files\n",
        "sdf_dir = \"molecules\"\n",
        "sdf_files = sorted([f for f in os.listdir(sdf_dir) if f.endswith(\".sdf\")])\n",
        "\n",
        "# Visualize first 5 molecules (change range as needed)\n",
        "for sdf_file in sdf_files[:5]:\n",
        "    sdf_path = os.path.join(sdf_dir, sdf_file)\n",
        "    mol = Chem.MolFromMolFile(sdf_path, removeHs=False)\n",
        "    if mol:\n",
        "        print(f\"Showing: {sdf_file}\")\n",
        "        view_mol(mol).show()\n"
      ],
      "metadata": {
        "id": "cSIcGQBGqI4w",
        "outputId": "c8be5dd7-cca2-4acb-ff63-1098aa0f6e4d",
        "colab": {
          "base_uri": "https://localhost:8080/",
          "height": 1000
        }
      },
      "execution_count": 100,
      "outputs": [
        {
          "output_type": "stream",
          "name": "stdout",
          "text": [
            "Showing: mol_1.sdf\n"
          ]
        },
        {
          "output_type": "display_data",
          "data": {
            "application/3dmoljs_load.v0": "<div id=\"3dmolviewer_17444769321139996\"  style=\"position: relative; width: 400px; height: 350px;\">\n        <p id=\"3dmolwarning_17444769321139996\" style=\"background-color:#ffcccc;color:black\">3Dmol.js failed to load for some reason.  Please check your browser console for error messages.<br></p>\n        </div>\n<script>\n\nvar loadScriptAsync = function(uri){\n  return new Promise((resolve, reject) => {\n    //this is to ignore the existence of requirejs amd\n    var savedexports, savedmodule;\n    if (typeof exports !== 'undefined') savedexports = exports;\n    else exports = {}\n    if (typeof module !== 'undefined') savedmodule = module;\n    else module = {}\n\n    var tag = document.createElement('script');\n    tag.src = uri;\n    tag.async = true;\n    tag.onload = () => {\n        exports = savedexports;\n        module = savedmodule;\n        resolve();\n    };\n  var firstScriptTag = document.getElementsByTagName('script')[0];\n  firstScriptTag.parentNode.insertBefore(tag, firstScriptTag);\n});\n};\n\nif(typeof $3Dmolpromise === 'undefined') {\n$3Dmolpromise = null;\n  $3Dmolpromise = loadScriptAsync('https://cdnjs.cloudflare.com/ajax/libs/3Dmol/2.4.2/3Dmol-min.js');\n}\n\nvar viewer_17444769321139996 = null;\nvar warn = document.getElementById(\"3dmolwarning_17444769321139996\");\nif(warn) {\n    warn.parentNode.removeChild(warn);\n}\n$3Dmolpromise.then(function() {\nviewer_17444769321139996 = $3Dmol.createViewer(document.getElementById(\"3dmolviewer_17444769321139996\"),{backgroundColor:\"white\"});\nviewer_17444769321139996.zoomTo();\n\tviewer_17444769321139996.addModel(\"1\\n     RDKit          3D\\n\\n 31 30  0  0  1  0  0  0  0  0999 V2000\\n    0.3387    0.9262    0.4600 O   0  0  0  0  0  0  0  0  0  0  0  0\\n    3.4786   -1.7069   -0.3119 O   0  0  0  0  0  0  0  0  0  0  0  0\\n    1.8428   -1.4073    1.2523 O   0  0  0  0  0  0  0  0  0  0  0  0\\n    0.4166    2.5213   -1.2091 O   0  0  0  0  0  0  0  0  0  0  0  0\\n   -2.2359   -0.7251    0.0270 N   0  0  0  0  0  0  0  0  0  0  0  0\\n   -0.7783   -1.1579    0.0914 C   0  0  0  0  0  0  0  0  0  0  0  0\\n    0.1368   -0.0961   -0.5161 C   0  0  2  0  0  0  0  0  0  0  0  0\\n   -3.1119   -1.7972    0.6590 C   0  0  0  0  0  0  0  0  0  0  0  0\\n   -2.4103    0.5837    0.7840 C   0  0  0  0  0  0  0  0  0  0  0  0\\n   -2.6433   -0.5289   -1.4260 C   0  0  0  0  0  0  0  0  0  0  0  0\\n    1.4879   -0.6438   -0.9795 C   0  0  0  0  0  0  0  0  0  0  0  0\\n    2.3478   -1.3163    0.1002 C   0  0  0  0  0  0  0  0  0  0  0  0\\n    0.4627    2.1935   -0.0312 C   0  0  0  0  0  0  0  0  0  0  0  0\\n    0.6678    3.1549    1.1001 C   0  0  0  0  0  0  0  0  0  0  0  0\\n   -0.7073   -2.1051   -0.4563 H   0  0  0  0  0  0  0  0  0  0  0  0\\n   -0.5669   -1.3392    1.1503 H   0  0  0  0  0  0  0  0  0  0  0  0\\n   -0.3089    0.3239   -1.4193 H   0  0  0  0  0  0  0  0  0  0  0  0\\n   -2.9705   -2.7295    0.1044 H   0  0  0  0  0  0  0  0  0  0  0  0\\n   -2.8083   -1.9210    1.7028 H   0  0  0  0  0  0  0  0  0  0  0  0\\n   -4.1563   -1.4762    0.6031 H   0  0  0  0  0  0  0  0  0  0  0  0\\n   -2.0398    1.4170    0.1863 H   0  0  0  0  0  0  0  0  0  0  0  0\\n   -3.4837    0.7378    0.9384 H   0  0  0  0  0  0  0  0  0  0  0  0\\n   -1.9129    0.5071    1.7551 H   0  0  0  0  0  0  0  0  0  0  0  0\\n   -2.2450    0.4089   -1.8190 H   0  0  0  0  0  0  0  0  0  0  0  0\\n   -2.3000   -1.3879   -2.0100 H   0  0  0  0  0  0  0  0  0  0  0  0\\n   -3.7365   -0.4723   -1.4630 H   0  0  0  0  0  0  0  0  0  0  0  0\\n    1.3299   -1.3744   -1.7823 H   0  0  0  0  0  0  0  0  0  0  0  0\\n    2.0900    0.1756   -1.3923 H   0  0  0  0  0  0  0  0  0  0  0  0\\n   -0.1953    3.1280    1.7699 H   0  0  0  0  0  0  0  0  0  0  0  0\\n    0.7681    4.1684    0.7012 H   0  0  0  0  0  0  0  0  0  0  0  0\\n    1.5832    2.9010    1.6404 H   0  0  0  0  0  0  0  0  0  0  0  0\\n  1  7  1  0\\n  1 13  1  0\\n  2 12  1  0\\n  3 12  2  0\\n  4 13  2  0\\n  5  6  1  0\\n  5  8  1  0\\n  5  9  1  0\\n  5 10  1  0\\n  6  7  1  0\\n  6 15  1  0\\n  6 16  1  0\\n  7 11  1  0\\n  7 17  1  6\\n  8 18  1  0\\n  8 19  1  0\\n  8 20  1  0\\n  9 21  1  0\\n  9 22  1  0\\n  9 23  1  0\\n 10 24  1  0\\n 10 25  1  0\\n 10 26  1  0\\n 11 12  1  0\\n 11 27  1  0\\n 11 28  1  0\\n 13 14  1  0\\n 14 29  1  0\\n 14 30  1  0\\n 14 31  1  0\\nM  CHG  2   2  -1   5   1\\nM  END\\n\",\"mol\");\n\tviewer_17444769321139996.setStyle({\"stick\": {}});\n\tviewer_17444769321139996.setBackgroundColor(\"white\");\n\tviewer_17444769321139996.zoomTo();\nviewer_17444769321139996.render();\n});\n</script>",
            "text/html": [
              "<div id=\"3dmolviewer_17444769321139996\"  style=\"position: relative; width: 400px; height: 350px;\">\n",
              "        <p id=\"3dmolwarning_17444769321139996\" style=\"background-color:#ffcccc;color:black\">3Dmol.js failed to load for some reason.  Please check your browser console for error messages.<br></p>\n",
              "        </div>\n",
              "<script>\n",
              "\n",
              "var loadScriptAsync = function(uri){\n",
              "  return new Promise((resolve, reject) => {\n",
              "    //this is to ignore the existence of requirejs amd\n",
              "    var savedexports, savedmodule;\n",
              "    if (typeof exports !== 'undefined') savedexports = exports;\n",
              "    else exports = {}\n",
              "    if (typeof module !== 'undefined') savedmodule = module;\n",
              "    else module = {}\n",
              "\n",
              "    var tag = document.createElement('script');\n",
              "    tag.src = uri;\n",
              "    tag.async = true;\n",
              "    tag.onload = () => {\n",
              "        exports = savedexports;\n",
              "        module = savedmodule;\n",
              "        resolve();\n",
              "    };\n",
              "  var firstScriptTag = document.getElementsByTagName('script')[0];\n",
              "  firstScriptTag.parentNode.insertBefore(tag, firstScriptTag);\n",
              "});\n",
              "};\n",
              "\n",
              "if(typeof $3Dmolpromise === 'undefined') {\n",
              "$3Dmolpromise = null;\n",
              "  $3Dmolpromise = loadScriptAsync('https://cdnjs.cloudflare.com/ajax/libs/3Dmol/2.4.2/3Dmol-min.js');\n",
              "}\n",
              "\n",
              "var viewer_17444769321139996 = null;\n",
              "var warn = document.getElementById(\"3dmolwarning_17444769321139996\");\n",
              "if(warn) {\n",
              "    warn.parentNode.removeChild(warn);\n",
              "}\n",
              "$3Dmolpromise.then(function() {\n",
              "viewer_17444769321139996 = $3Dmol.createViewer(document.getElementById(\"3dmolviewer_17444769321139996\"),{backgroundColor:\"white\"});\n",
              "viewer_17444769321139996.zoomTo();\n",
              "\tviewer_17444769321139996.addModel(\"1\\n     RDKit          3D\\n\\n 31 30  0  0  1  0  0  0  0  0999 V2000\\n    0.3387    0.9262    0.4600 O   0  0  0  0  0  0  0  0  0  0  0  0\\n    3.4786   -1.7069   -0.3119 O   0  0  0  0  0  0  0  0  0  0  0  0\\n    1.8428   -1.4073    1.2523 O   0  0  0  0  0  0  0  0  0  0  0  0\\n    0.4166    2.5213   -1.2091 O   0  0  0  0  0  0  0  0  0  0  0  0\\n   -2.2359   -0.7251    0.0270 N   0  0  0  0  0  0  0  0  0  0  0  0\\n   -0.7783   -1.1579    0.0914 C   0  0  0  0  0  0  0  0  0  0  0  0\\n    0.1368   -0.0961   -0.5161 C   0  0  2  0  0  0  0  0  0  0  0  0\\n   -3.1119   -1.7972    0.6590 C   0  0  0  0  0  0  0  0  0  0  0  0\\n   -2.4103    0.5837    0.7840 C   0  0  0  0  0  0  0  0  0  0  0  0\\n   -2.6433   -0.5289   -1.4260 C   0  0  0  0  0  0  0  0  0  0  0  0\\n    1.4879   -0.6438   -0.9795 C   0  0  0  0  0  0  0  0  0  0  0  0\\n    2.3478   -1.3163    0.1002 C   0  0  0  0  0  0  0  0  0  0  0  0\\n    0.4627    2.1935   -0.0312 C   0  0  0  0  0  0  0  0  0  0  0  0\\n    0.6678    3.1549    1.1001 C   0  0  0  0  0  0  0  0  0  0  0  0\\n   -0.7073   -2.1051   -0.4563 H   0  0  0  0  0  0  0  0  0  0  0  0\\n   -0.5669   -1.3392    1.1503 H   0  0  0  0  0  0  0  0  0  0  0  0\\n   -0.3089    0.3239   -1.4193 H   0  0  0  0  0  0  0  0  0  0  0  0\\n   -2.9705   -2.7295    0.1044 H   0  0  0  0  0  0  0  0  0  0  0  0\\n   -2.8083   -1.9210    1.7028 H   0  0  0  0  0  0  0  0  0  0  0  0\\n   -4.1563   -1.4762    0.6031 H   0  0  0  0  0  0  0  0  0  0  0  0\\n   -2.0398    1.4170    0.1863 H   0  0  0  0  0  0  0  0  0  0  0  0\\n   -3.4837    0.7378    0.9384 H   0  0  0  0  0  0  0  0  0  0  0  0\\n   -1.9129    0.5071    1.7551 H   0  0  0  0  0  0  0  0  0  0  0  0\\n   -2.2450    0.4089   -1.8190 H   0  0  0  0  0  0  0  0  0  0  0  0\\n   -2.3000   -1.3879   -2.0100 H   0  0  0  0  0  0  0  0  0  0  0  0\\n   -3.7365   -0.4723   -1.4630 H   0  0  0  0  0  0  0  0  0  0  0  0\\n    1.3299   -1.3744   -1.7823 H   0  0  0  0  0  0  0  0  0  0  0  0\\n    2.0900    0.1756   -1.3923 H   0  0  0  0  0  0  0  0  0  0  0  0\\n   -0.1953    3.1280    1.7699 H   0  0  0  0  0  0  0  0  0  0  0  0\\n    0.7681    4.1684    0.7012 H   0  0  0  0  0  0  0  0  0  0  0  0\\n    1.5832    2.9010    1.6404 H   0  0  0  0  0  0  0  0  0  0  0  0\\n  1  7  1  0\\n  1 13  1  0\\n  2 12  1  0\\n  3 12  2  0\\n  4 13  2  0\\n  5  6  1  0\\n  5  8  1  0\\n  5  9  1  0\\n  5 10  1  0\\n  6  7  1  0\\n  6 15  1  0\\n  6 16  1  0\\n  7 11  1  0\\n  7 17  1  6\\n  8 18  1  0\\n  8 19  1  0\\n  8 20  1  0\\n  9 21  1  0\\n  9 22  1  0\\n  9 23  1  0\\n 10 24  1  0\\n 10 25  1  0\\n 10 26  1  0\\n 11 12  1  0\\n 11 27  1  0\\n 11 28  1  0\\n 13 14  1  0\\n 14 29  1  0\\n 14 30  1  0\\n 14 31  1  0\\nM  CHG  2   2  -1   5   1\\nM  END\\n\",\"mol\");\n",
              "\tviewer_17444769321139996.setStyle({\"stick\": {}});\n",
              "\tviewer_17444769321139996.setBackgroundColor(\"white\");\n",
              "\tviewer_17444769321139996.zoomTo();\n",
              "viewer_17444769321139996.render();\n",
              "});\n",
              "</script>"
            ]
          },
          "metadata": {}
        },
        {
          "output_type": "stream",
          "name": "stdout",
          "text": [
            "Showing: mol_10.sdf\n"
          ]
        },
        {
          "output_type": "display_data",
          "data": {
            "application/3dmoljs_load.v0": "<div id=\"3dmolviewer_17444769321187344\"  style=\"position: relative; width: 400px; height: 350px;\">\n        <p id=\"3dmolwarning_17444769321187344\" style=\"background-color:#ffcccc;color:black\">3Dmol.js failed to load for some reason.  Please check your browser console for error messages.<br></p>\n        </div>\n<script>\n\nvar loadScriptAsync = function(uri){\n  return new Promise((resolve, reject) => {\n    //this is to ignore the existence of requirejs amd\n    var savedexports, savedmodule;\n    if (typeof exports !== 'undefined') savedexports = exports;\n    else exports = {}\n    if (typeof module !== 'undefined') savedmodule = module;\n    else module = {}\n\n    var tag = document.createElement('script');\n    tag.src = uri;\n    tag.async = true;\n    tag.onload = () => {\n        exports = savedexports;\n        module = savedmodule;\n        resolve();\n    };\n  var firstScriptTag = document.getElementsByTagName('script')[0];\n  firstScriptTag.parentNode.insertBefore(tag, firstScriptTag);\n});\n};\n\nif(typeof $3Dmolpromise === 'undefined') {\n$3Dmolpromise = null;\n  $3Dmolpromise = loadScriptAsync('https://cdnjs.cloudflare.com/ajax/libs/3Dmol/2.4.2/3Dmol-min.js');\n}\n\nvar viewer_17444769321187344 = null;\nvar warn = document.getElementById(\"3dmolwarning_17444769321187344\");\nif(warn) {\n    warn.parentNode.removeChild(warn);\n}\n$3Dmolpromise.then(function() {\nviewer_17444769321187344 = $3Dmol.createViewer(document.getElementById(\"3dmolviewer_17444769321187344\"),{backgroundColor:\"white\"});\nviewer_17444769321187344.zoomTo();\n\tviewer_17444769321187344.addModel(\"10\\n     RDKit          3D\\n\\n 57 59  0  0  1  0  0  0  0  0999 V2000\\n   -0.5676    1.1273   -1.7704 O   0  0  0  0  0  0  0  0  0  0  0  0\\n   -5.6851   -2.9381   -0.6072 O   0  0  0  0  0  0  0  0  0  0  0  0\\n    2.5234   -3.3586   -0.6032 O   0  0  0  0  0  0  0  0  0  0  0  0\\n    5.8661   -0.9187    2.2745 O   0  0  0  0  0  0  0  0  0  0  0  0\\n    3.7543   -0.3316    2.8628 O   0  0  0  0  0  0  0  0  0  0  0  0\\n    4.7272    2.8641   -1.8444 O   0  0  0  0  0  0  0  0  0  0  0  0\\n    5.7591    1.0038   -2.6330 O   0  0  0  0  0  0  0  0  0  0  0  0\\n   -3.1783    0.6922   -0.9522 N   0  0  0  0  0  0  0  0  0  0  0  0\\n   -4.2046    2.3582    0.9600 N   0  0  0  0  0  0  0  0  0  0  0  0\\n   -3.6477   -1.9429    0.0197 N   0  0  0  0  0  0  0  0  0  0  0  0\\n   -2.0453    3.4731    1.0808 N   0  0  0  0  0  0  0  0  0  0  0  0\\n   -0.2282    2.8547   -0.2947 N   0  0  0  0  0  0  0  0  0  0  0  0\\n    2.6967   -1.4073    0.6373 N   0  0  0  0  0  0  0  0  0  0  0  0\\n   -0.0511    4.6036    1.2684 N   0  0  0  0  0  0  0  0  0  0  0  0\\n   -4.4755    0.3125   -0.4018 C   0  0  2  0  0  0  0  0  0  0  0  0\\n   -5.1617    1.5442    0.2233 C   0  0  0  0  0  0  0  0  0  0  0  0\\n   -4.2819   -0.8085    0.6186 C   0  0  0  0  0  0  0  0  0  0  0  0\\n   -2.4115    1.6993   -0.4053 C   0  0  0  0  0  0  0  0  0  0  0  0\\n   -2.8879    2.5215    0.5565 C   0  0  0  0  0  0  0  0  0  0  0  0\\n   -2.1920   -2.0644    0.0099 C   0  0  0  0  0  0  0  0  0  0  0  0\\n   -0.9965    1.8641   -0.8856 C   0  0  0  0  0  0  0  0  0  0  0  0\\n   -4.4570   -2.9408   -0.5606 C   0  0  0  0  0  0  0  0  0  0  0  0\\n   -0.7506    3.6064    0.6396 C   0  0  0  0  0  0  0  0  0  0  0  0\\n   -1.5040   -1.4951    1.0398 C   0  0  0  0  0  0  0  0  0  0  0  0\\n   -1.6208   -2.7387   -1.0281 C   0  0  0  0  0  0  0  0  0  0  0  0\\n    4.1403   -1.3733    0.6955 C   0  0  1  0  0  0  0  0  0  0  0  0\\n    0.5226   -2.2907   -0.0074 C   0  0  0  0  0  0  0  0  0  0  0  0\\n    4.7637   -0.6300   -0.4922 C   0  0  0  0  0  0  0  0  0  0  0  0\\n   -0.1140   -1.6109    1.0310 C   0  0  0  0  0  0  0  0  0  0  0  0\\n   -0.2307   -2.8547   -1.0369 C   0  0  0  0  0  0  0  0  0  0  0  0\\n    1.9718   -2.4105   -0.0167 C   0  0  0  0  0  0  0  0  0  0  0  0\\n    4.4027    0.8560   -0.6144 C   0  0  0  0  0  0  0  0  0  0  0  0\\n    4.5315   -0.8067    2.0448 C   0  0  0  0  0  0  0  0  0  0  0  0\\n    5.0325    1.5405   -1.8084 C   0  0  0  0  0  0  0  0  0  0  0  0\\n   -5.1045   -0.0570   -1.2211 H   0  0  0  0  0  0  0  0  0  0  0  0\\n   -5.5852    2.1640   -0.5765 H   0  0  0  0  0  0  0  0  0  0  0  0\\n   -5.9889    1.2497    0.8778 H   0  0  0  0  0  0  0  0  0  0  0  0\\n   -5.2739   -1.1147    0.9770 H   0  0  0  0  0  0  0  0  0  0  0  0\\n   -3.7714   -0.4517    1.5143 H   0  0  0  0  0  0  0  0  0  0  0  0\\n   -2.7519    0.1094   -1.6645 H   0  0  0  0  0  0  0  0  0  0  0  0\\n   -4.5462    3.0033    1.6644 H   0  0  0  0  0  0  0  0  0  0  0  0\\n   -2.4244    4.0746    1.8035 H   0  0  0  0  0  0  0  0  0  0  0  0\\n   -3.8955   -3.8053   -0.9407 H   0  0  0  0  0  0  0  0  0  0  0  0\\n   -1.9491   -0.9983    1.8911 H   0  0  0  0  0  0  0  0  0  0  0  0\\n   -2.1694   -3.1477   -1.8684 H   0  0  0  0  0  0  0  0  0  0  0  0\\n    4.4889   -2.4137    0.6794 H   0  0  0  0  0  0  0  0  0  0  0  0\\n    5.8565   -0.7168   -0.4344 H   0  0  0  0  0  0  0  0  0  0  0  0\\n    4.4704   -1.1370   -1.4211 H   0  0  0  0  0  0  0  0  0  0  0  0\\n    0.4317   -1.1910    1.8711 H   0  0  0  0  0  0  0  0  0  0  0  0\\n    0.2476   -3.3752   -1.8628 H   0  0  0  0  0  0  0  0  0  0  0  0\\n    2.2078   -0.6105    1.0326 H   0  0  0  0  0  0  0  0  0  0  0  0\\n    3.3165    0.9652   -0.7080 H   0  0  0  0  0  0  0  0  0  0  0  0\\n    4.7336    1.3881    0.2843 H   0  0  0  0  0  0  0  0  0  0  0  0\\n   -0.4770    5.1748    1.9900 H   0  0  0  0  0  0  0  0  0  0  0  0\\n    0.9148    4.7988    1.0285 H   0  0  0  0  0  0  0  0  0  0  0  0\\n    6.1160   -0.5662    3.1551 H   0  0  0  0  0  0  0  0  0  0  0  0\\n    5.1481    3.3155   -2.6070 H   0  0  0  0  0  0  0  0  0  0  0  0\\n  1 21  2  0\\n  2 22  2  0\\n  3 31  2  0\\n  4 33  1  0\\n  4 56  1  0\\n  5 33  2  0\\n  6 34  1  0\\n  6 57  1  0\\n  7 34  2  0\\n  8 15  1  0\\n  8 18  1  0\\n  8 40  1  0\\n  9 16  1  0\\n  9 19  1  0\\n  9 41  1  0\\n 10 17  1  0\\n 10 20  1  0\\n 10 22  1  0\\n 11 19  1  0\\n 11 23  1  0\\n 11 42  1  0\\n 12 21  1  0\\n 12 23  2  0\\n 13 26  1  0\\n 13 31  1  0\\n 13 51  1  0\\n 14 23  1  0\\n 14 54  1  0\\n 14 55  1  0\\n 15 16  1  0\\n 15 17  1  0\\n 15 35  1  6\\n 16 36  1  0\\n 16 37  1  0\\n 17 38  1  0\\n 17 39  1  0\\n 18 19  2  0\\n 18 21  1  0\\n 20 24  2  0\\n 20 25  1  0\\n 22 43  1  0\\n 24 29  1  0\\n 24 44  1  0\\n 25 30  2  0\\n 25 45  1  0\\n 26 28  1  0\\n 26 33  1  0\\n 26 46  1  1\\n 27 29  2  0\\n 27 30  1  0\\n 27 31  1  0\\n 28 32  1  0\\n 28 47  1  0\\n 28 48  1  0\\n 29 49  1  0\\n 30 50  1  0\\n 32 34  1  0\\n 32 52  1  0\\n 32 53  1  0\\nM  END\\n\",\"mol\");\n\tviewer_17444769321187344.setStyle({\"stick\": {}});\n\tviewer_17444769321187344.setBackgroundColor(\"white\");\n\tviewer_17444769321187344.zoomTo();\nviewer_17444769321187344.render();\n});\n</script>",
            "text/html": [
              "<div id=\"3dmolviewer_17444769321187344\"  style=\"position: relative; width: 400px; height: 350px;\">\n",
              "        <p id=\"3dmolwarning_17444769321187344\" style=\"background-color:#ffcccc;color:black\">3Dmol.js failed to load for some reason.  Please check your browser console for error messages.<br></p>\n",
              "        </div>\n",
              "<script>\n",
              "\n",
              "var loadScriptAsync = function(uri){\n",
              "  return new Promise((resolve, reject) => {\n",
              "    //this is to ignore the existence of requirejs amd\n",
              "    var savedexports, savedmodule;\n",
              "    if (typeof exports !== 'undefined') savedexports = exports;\n",
              "    else exports = {}\n",
              "    if (typeof module !== 'undefined') savedmodule = module;\n",
              "    else module = {}\n",
              "\n",
              "    var tag = document.createElement('script');\n",
              "    tag.src = uri;\n",
              "    tag.async = true;\n",
              "    tag.onload = () => {\n",
              "        exports = savedexports;\n",
              "        module = savedmodule;\n",
              "        resolve();\n",
              "    };\n",
              "  var firstScriptTag = document.getElementsByTagName('script')[0];\n",
              "  firstScriptTag.parentNode.insertBefore(tag, firstScriptTag);\n",
              "});\n",
              "};\n",
              "\n",
              "if(typeof $3Dmolpromise === 'undefined') {\n",
              "$3Dmolpromise = null;\n",
              "  $3Dmolpromise = loadScriptAsync('https://cdnjs.cloudflare.com/ajax/libs/3Dmol/2.4.2/3Dmol-min.js');\n",
              "}\n",
              "\n",
              "var viewer_17444769321187344 = null;\n",
              "var warn = document.getElementById(\"3dmolwarning_17444769321187344\");\n",
              "if(warn) {\n",
              "    warn.parentNode.removeChild(warn);\n",
              "}\n",
              "$3Dmolpromise.then(function() {\n",
              "viewer_17444769321187344 = $3Dmol.createViewer(document.getElementById(\"3dmolviewer_17444769321187344\"),{backgroundColor:\"white\"});\n",
              "viewer_17444769321187344.zoomTo();\n",
              "\tviewer_17444769321187344.addModel(\"10\\n     RDKit          3D\\n\\n 57 59  0  0  1  0  0  0  0  0999 V2000\\n   -0.5676    1.1273   -1.7704 O   0  0  0  0  0  0  0  0  0  0  0  0\\n   -5.6851   -2.9381   -0.6072 O   0  0  0  0  0  0  0  0  0  0  0  0\\n    2.5234   -3.3586   -0.6032 O   0  0  0  0  0  0  0  0  0  0  0  0\\n    5.8661   -0.9187    2.2745 O   0  0  0  0  0  0  0  0  0  0  0  0\\n    3.7543   -0.3316    2.8628 O   0  0  0  0  0  0  0  0  0  0  0  0\\n    4.7272    2.8641   -1.8444 O   0  0  0  0  0  0  0  0  0  0  0  0\\n    5.7591    1.0038   -2.6330 O   0  0  0  0  0  0  0  0  0  0  0  0\\n   -3.1783    0.6922   -0.9522 N   0  0  0  0  0  0  0  0  0  0  0  0\\n   -4.2046    2.3582    0.9600 N   0  0  0  0  0  0  0  0  0  0  0  0\\n   -3.6477   -1.9429    0.0197 N   0  0  0  0  0  0  0  0  0  0  0  0\\n   -2.0453    3.4731    1.0808 N   0  0  0  0  0  0  0  0  0  0  0  0\\n   -0.2282    2.8547   -0.2947 N   0  0  0  0  0  0  0  0  0  0  0  0\\n    2.6967   -1.4073    0.6373 N   0  0  0  0  0  0  0  0  0  0  0  0\\n   -0.0511    4.6036    1.2684 N   0  0  0  0  0  0  0  0  0  0  0  0\\n   -4.4755    0.3125   -0.4018 C   0  0  2  0  0  0  0  0  0  0  0  0\\n   -5.1617    1.5442    0.2233 C   0  0  0  0  0  0  0  0  0  0  0  0\\n   -4.2819   -0.8085    0.6186 C   0  0  0  0  0  0  0  0  0  0  0  0\\n   -2.4115    1.6993   -0.4053 C   0  0  0  0  0  0  0  0  0  0  0  0\\n   -2.8879    2.5215    0.5565 C   0  0  0  0  0  0  0  0  0  0  0  0\\n   -2.1920   -2.0644    0.0099 C   0  0  0  0  0  0  0  0  0  0  0  0\\n   -0.9965    1.8641   -0.8856 C   0  0  0  0  0  0  0  0  0  0  0  0\\n   -4.4570   -2.9408   -0.5606 C   0  0  0  0  0  0  0  0  0  0  0  0\\n   -0.7506    3.6064    0.6396 C   0  0  0  0  0  0  0  0  0  0  0  0\\n   -1.5040   -1.4951    1.0398 C   0  0  0  0  0  0  0  0  0  0  0  0\\n   -1.6208   -2.7387   -1.0281 C   0  0  0  0  0  0  0  0  0  0  0  0\\n    4.1403   -1.3733    0.6955 C   0  0  1  0  0  0  0  0  0  0  0  0\\n    0.5226   -2.2907   -0.0074 C   0  0  0  0  0  0  0  0  0  0  0  0\\n    4.7637   -0.6300   -0.4922 C   0  0  0  0  0  0  0  0  0  0  0  0\\n   -0.1140   -1.6109    1.0310 C   0  0  0  0  0  0  0  0  0  0  0  0\\n   -0.2307   -2.8547   -1.0369 C   0  0  0  0  0  0  0  0  0  0  0  0\\n    1.9718   -2.4105   -0.0167 C   0  0  0  0  0  0  0  0  0  0  0  0\\n    4.4027    0.8560   -0.6144 C   0  0  0  0  0  0  0  0  0  0  0  0\\n    4.5315   -0.8067    2.0448 C   0  0  0  0  0  0  0  0  0  0  0  0\\n    5.0325    1.5405   -1.8084 C   0  0  0  0  0  0  0  0  0  0  0  0\\n   -5.1045   -0.0570   -1.2211 H   0  0  0  0  0  0  0  0  0  0  0  0\\n   -5.5852    2.1640   -0.5765 H   0  0  0  0  0  0  0  0  0  0  0  0\\n   -5.9889    1.2497    0.8778 H   0  0  0  0  0  0  0  0  0  0  0  0\\n   -5.2739   -1.1147    0.9770 H   0  0  0  0  0  0  0  0  0  0  0  0\\n   -3.7714   -0.4517    1.5143 H   0  0  0  0  0  0  0  0  0  0  0  0\\n   -2.7519    0.1094   -1.6645 H   0  0  0  0  0  0  0  0  0  0  0  0\\n   -4.5462    3.0033    1.6644 H   0  0  0  0  0  0  0  0  0  0  0  0\\n   -2.4244    4.0746    1.8035 H   0  0  0  0  0  0  0  0  0  0  0  0\\n   -3.8955   -3.8053   -0.9407 H   0  0  0  0  0  0  0  0  0  0  0  0\\n   -1.9491   -0.9983    1.8911 H   0  0  0  0  0  0  0  0  0  0  0  0\\n   -2.1694   -3.1477   -1.8684 H   0  0  0  0  0  0  0  0  0  0  0  0\\n    4.4889   -2.4137    0.6794 H   0  0  0  0  0  0  0  0  0  0  0  0\\n    5.8565   -0.7168   -0.4344 H   0  0  0  0  0  0  0  0  0  0  0  0\\n    4.4704   -1.1370   -1.4211 H   0  0  0  0  0  0  0  0  0  0  0  0\\n    0.4317   -1.1910    1.8711 H   0  0  0  0  0  0  0  0  0  0  0  0\\n    0.2476   -3.3752   -1.8628 H   0  0  0  0  0  0  0  0  0  0  0  0\\n    2.2078   -0.6105    1.0326 H   0  0  0  0  0  0  0  0  0  0  0  0\\n    3.3165    0.9652   -0.7080 H   0  0  0  0  0  0  0  0  0  0  0  0\\n    4.7336    1.3881    0.2843 H   0  0  0  0  0  0  0  0  0  0  0  0\\n   -0.4770    5.1748    1.9900 H   0  0  0  0  0  0  0  0  0  0  0  0\\n    0.9148    4.7988    1.0285 H   0  0  0  0  0  0  0  0  0  0  0  0\\n    6.1160   -0.5662    3.1551 H   0  0  0  0  0  0  0  0  0  0  0  0\\n    5.1481    3.3155   -2.6070 H   0  0  0  0  0  0  0  0  0  0  0  0\\n  1 21  2  0\\n  2 22  2  0\\n  3 31  2  0\\n  4 33  1  0\\n  4 56  1  0\\n  5 33  2  0\\n  6 34  1  0\\n  6 57  1  0\\n  7 34  2  0\\n  8 15  1  0\\n  8 18  1  0\\n  8 40  1  0\\n  9 16  1  0\\n  9 19  1  0\\n  9 41  1  0\\n 10 17  1  0\\n 10 20  1  0\\n 10 22  1  0\\n 11 19  1  0\\n 11 23  1  0\\n 11 42  1  0\\n 12 21  1  0\\n 12 23  2  0\\n 13 26  1  0\\n 13 31  1  0\\n 13 51  1  0\\n 14 23  1  0\\n 14 54  1  0\\n 14 55  1  0\\n 15 16  1  0\\n 15 17  1  0\\n 15 35  1  6\\n 16 36  1  0\\n 16 37  1  0\\n 17 38  1  0\\n 17 39  1  0\\n 18 19  2  0\\n 18 21  1  0\\n 20 24  2  0\\n 20 25  1  0\\n 22 43  1  0\\n 24 29  1  0\\n 24 44  1  0\\n 25 30  2  0\\n 25 45  1  0\\n 26 28  1  0\\n 26 33  1  0\\n 26 46  1  1\\n 27 29  2  0\\n 27 30  1  0\\n 27 31  1  0\\n 28 32  1  0\\n 28 47  1  0\\n 28 48  1  0\\n 29 49  1  0\\n 30 50  1  0\\n 32 34  1  0\\n 32 52  1  0\\n 32 53  1  0\\nM  END\\n\",\"mol\");\n",
              "\tviewer_17444769321187344.setStyle({\"stick\": {}});\n",
              "\tviewer_17444769321187344.setBackgroundColor(\"white\");\n",
              "\tviewer_17444769321187344.zoomTo();\n",
              "viewer_17444769321187344.render();\n",
              "});\n",
              "</script>"
            ]
          },
          "metadata": {}
        },
        {
          "output_type": "stream",
          "name": "stdout",
          "text": [
            "Showing: mol_1000.sdf\n"
          ]
        },
        {
          "output_type": "display_data",
          "data": {
            "application/3dmoljs_load.v0": "<div id=\"3dmolviewer_17444769321231084\"  style=\"position: relative; width: 400px; height: 350px;\">\n        <p id=\"3dmolwarning_17444769321231084\" style=\"background-color:#ffcccc;color:black\">3Dmol.js failed to load for some reason.  Please check your browser console for error messages.<br></p>\n        </div>\n<script>\n\nvar loadScriptAsync = function(uri){\n  return new Promise((resolve, reject) => {\n    //this is to ignore the existence of requirejs amd\n    var savedexports, savedmodule;\n    if (typeof exports !== 'undefined') savedexports = exports;\n    else exports = {}\n    if (typeof module !== 'undefined') savedmodule = module;\n    else module = {}\n\n    var tag = document.createElement('script');\n    tag.src = uri;\n    tag.async = true;\n    tag.onload = () => {\n        exports = savedexports;\n        module = savedmodule;\n        resolve();\n    };\n  var firstScriptTag = document.getElementsByTagName('script')[0];\n  firstScriptTag.parentNode.insertBefore(tag, firstScriptTag);\n});\n};\n\nif(typeof $3Dmolpromise === 'undefined') {\n$3Dmolpromise = null;\n  $3Dmolpromise = loadScriptAsync('https://cdnjs.cloudflare.com/ajax/libs/3Dmol/2.4.2/3Dmol-min.js');\n}\n\nvar viewer_17444769321231084 = null;\nvar warn = document.getElementById(\"3dmolwarning_17444769321231084\");\nif(warn) {\n    warn.parentNode.removeChild(warn);\n}\n$3Dmolpromise.then(function() {\nviewer_17444769321231084 = $3Dmol.createViewer(document.getElementById(\"3dmolviewer_17444769321231084\"),{backgroundColor:\"white\"});\nviewer_17444769321231084.zoomTo();\n\tviewer_17444769321231084.addModel(\"1000\\n     RDKit          3D\\n\\n 21 21  0  0  1  0  0  0  0  0999 V2000\\n    1.7669    1.2709    0.8744 O   0  0  0  0  0  0  0  0  0  0  0  0\\n    3.6056   -0.4922   -0.4719 N   0  0  0  0  0  0  0  0  0  0  0  0\\n    1.3578   -0.0471    0.4853 C   0  0  1  0  0  0  0  0  0  0  0  0\\n   -0.1104   -0.0436    0.2222 C   0  0  0  0  0  0  0  0  0  0  0  0\\n    2.1706   -0.4909   -0.7471 C   0  0  0  0  0  0  0  0  0  0  0  0\\n   -0.7283    1.1066   -0.2686 C   0  0  0  0  0  0  0  0  0  0  0  0\\n   -0.8656   -1.1903    0.4674 C   0  0  0  0  0  0  0  0  0  0  0  0\\n   -2.1014    1.1101   -0.5142 C   0  0  0  0  0  0  0  0  0  0  0  0\\n   -2.2387   -1.1870    0.2217 C   0  0  0  0  0  0  0  0  0  0  0  0\\n   -2.8565   -0.0367   -0.2691 C   0  0  0  0  0  0  0  0  0  0  0  0\\n    1.5736   -0.7038    1.3379 H   0  0  0  0  0  0  0  0  0  0  0  0\\n    1.9849    0.1880   -1.5881 H   0  0  0  0  0  0  0  0  0  0  0  0\\n    1.8655   -1.4961   -1.0589 H   0  0  0  0  0  0  0  0  0  0  0  0\\n   -0.1626    2.0095   -0.4819 H   0  0  0  0  0  0  0  0  0  0  0  0\\n   -0.3959   -2.0934    0.8481 H   0  0  0  0  0  0  0  0  0  0  0  0\\n   -2.5822    2.0046   -0.8995 H   0  0  0  0  0  0  0  0  0  0  0  0\\n   -2.8267   -2.0801    0.4118 H   0  0  0  0  0  0  0  0  0  0  0  0\\n   -3.9255   -0.0344   -0.4613 H   0  0  0  0  0  0  0  0  0  0  0  0\\n    2.6857    1.2104    1.1859 H   0  0  0  0  0  0  0  0  0  0  0  0\\n    3.9203    0.4585   -0.2836 H   0  0  0  0  0  0  0  0  0  0  0  0\\n    4.1068   -0.7931   -1.3070 H   0  0  0  0  0  0  0  0  0  0  0  0\\n  1  3  1  0\\n  1 19  1  0\\n  2  5  1  0\\n  2 20  1  0\\n  2 21  1  0\\n  3  4  1  0\\n  3  5  1  0\\n  3 11  1  1\\n  4  6  2  0\\n  4  7  1  0\\n  5 12  1  0\\n  5 13  1  0\\n  6  8  1  0\\n  6 14  1  0\\n  7  9  2  0\\n  7 15  1  0\\n  8 10  2  0\\n  8 16  1  0\\n  9 10  1  0\\n  9 17  1  0\\n 10 18  1  0\\nM  END\\n\",\"mol\");\n\tviewer_17444769321231084.setStyle({\"stick\": {}});\n\tviewer_17444769321231084.setBackgroundColor(\"white\");\n\tviewer_17444769321231084.zoomTo();\nviewer_17444769321231084.render();\n});\n</script>",
            "text/html": [
              "<div id=\"3dmolviewer_17444769321231084\"  style=\"position: relative; width: 400px; height: 350px;\">\n",
              "        <p id=\"3dmolwarning_17444769321231084\" style=\"background-color:#ffcccc;color:black\">3Dmol.js failed to load for some reason.  Please check your browser console for error messages.<br></p>\n",
              "        </div>\n",
              "<script>\n",
              "\n",
              "var loadScriptAsync = function(uri){\n",
              "  return new Promise((resolve, reject) => {\n",
              "    //this is to ignore the existence of requirejs amd\n",
              "    var savedexports, savedmodule;\n",
              "    if (typeof exports !== 'undefined') savedexports = exports;\n",
              "    else exports = {}\n",
              "    if (typeof module !== 'undefined') savedmodule = module;\n",
              "    else module = {}\n",
              "\n",
              "    var tag = document.createElement('script');\n",
              "    tag.src = uri;\n",
              "    tag.async = true;\n",
              "    tag.onload = () => {\n",
              "        exports = savedexports;\n",
              "        module = savedmodule;\n",
              "        resolve();\n",
              "    };\n",
              "  var firstScriptTag = document.getElementsByTagName('script')[0];\n",
              "  firstScriptTag.parentNode.insertBefore(tag, firstScriptTag);\n",
              "});\n",
              "};\n",
              "\n",
              "if(typeof $3Dmolpromise === 'undefined') {\n",
              "$3Dmolpromise = null;\n",
              "  $3Dmolpromise = loadScriptAsync('https://cdnjs.cloudflare.com/ajax/libs/3Dmol/2.4.2/3Dmol-min.js');\n",
              "}\n",
              "\n",
              "var viewer_17444769321231084 = null;\n",
              "var warn = document.getElementById(\"3dmolwarning_17444769321231084\");\n",
              "if(warn) {\n",
              "    warn.parentNode.removeChild(warn);\n",
              "}\n",
              "$3Dmolpromise.then(function() {\n",
              "viewer_17444769321231084 = $3Dmol.createViewer(document.getElementById(\"3dmolviewer_17444769321231084\"),{backgroundColor:\"white\"});\n",
              "viewer_17444769321231084.zoomTo();\n",
              "\tviewer_17444769321231084.addModel(\"1000\\n     RDKit          3D\\n\\n 21 21  0  0  1  0  0  0  0  0999 V2000\\n    1.7669    1.2709    0.8744 O   0  0  0  0  0  0  0  0  0  0  0  0\\n    3.6056   -0.4922   -0.4719 N   0  0  0  0  0  0  0  0  0  0  0  0\\n    1.3578   -0.0471    0.4853 C   0  0  1  0  0  0  0  0  0  0  0  0\\n   -0.1104   -0.0436    0.2222 C   0  0  0  0  0  0  0  0  0  0  0  0\\n    2.1706   -0.4909   -0.7471 C   0  0  0  0  0  0  0  0  0  0  0  0\\n   -0.7283    1.1066   -0.2686 C   0  0  0  0  0  0  0  0  0  0  0  0\\n   -0.8656   -1.1903    0.4674 C   0  0  0  0  0  0  0  0  0  0  0  0\\n   -2.1014    1.1101   -0.5142 C   0  0  0  0  0  0  0  0  0  0  0  0\\n   -2.2387   -1.1870    0.2217 C   0  0  0  0  0  0  0  0  0  0  0  0\\n   -2.8565   -0.0367   -0.2691 C   0  0  0  0  0  0  0  0  0  0  0  0\\n    1.5736   -0.7038    1.3379 H   0  0  0  0  0  0  0  0  0  0  0  0\\n    1.9849    0.1880   -1.5881 H   0  0  0  0  0  0  0  0  0  0  0  0\\n    1.8655   -1.4961   -1.0589 H   0  0  0  0  0  0  0  0  0  0  0  0\\n   -0.1626    2.0095   -0.4819 H   0  0  0  0  0  0  0  0  0  0  0  0\\n   -0.3959   -2.0934    0.8481 H   0  0  0  0  0  0  0  0  0  0  0  0\\n   -2.5822    2.0046   -0.8995 H   0  0  0  0  0  0  0  0  0  0  0  0\\n   -2.8267   -2.0801    0.4118 H   0  0  0  0  0  0  0  0  0  0  0  0\\n   -3.9255   -0.0344   -0.4613 H   0  0  0  0  0  0  0  0  0  0  0  0\\n    2.6857    1.2104    1.1859 H   0  0  0  0  0  0  0  0  0  0  0  0\\n    3.9203    0.4585   -0.2836 H   0  0  0  0  0  0  0  0  0  0  0  0\\n    4.1068   -0.7931   -1.3070 H   0  0  0  0  0  0  0  0  0  0  0  0\\n  1  3  1  0\\n  1 19  1  0\\n  2  5  1  0\\n  2 20  1  0\\n  2 21  1  0\\n  3  4  1  0\\n  3  5  1  0\\n  3 11  1  1\\n  4  6  2  0\\n  4  7  1  0\\n  5 12  1  0\\n  5 13  1  0\\n  6  8  1  0\\n  6 14  1  0\\n  7  9  2  0\\n  7 15  1  0\\n  8 10  2  0\\n  8 16  1  0\\n  9 10  1  0\\n  9 17  1  0\\n 10 18  1  0\\nM  END\\n\",\"mol\");\n",
              "\tviewer_17444769321231084.setStyle({\"stick\": {}});\n",
              "\tviewer_17444769321231084.setBackgroundColor(\"white\");\n",
              "\tviewer_17444769321231084.zoomTo();\n",
              "viewer_17444769321231084.render();\n",
              "});\n",
              "</script>"
            ]
          },
          "metadata": {}
        },
        {
          "output_type": "stream",
          "name": "stdout",
          "text": [
            "Showing: mol_1001.sdf\n"
          ]
        },
        {
          "output_type": "display_data",
          "data": {
            "application/3dmoljs_load.v0": "<div id=\"3dmolviewer_17444769321266468\"  style=\"position: relative; width: 400px; height: 350px;\">\n        <p id=\"3dmolwarning_17444769321266468\" style=\"background-color:#ffcccc;color:black\">3Dmol.js failed to load for some reason.  Please check your browser console for error messages.<br></p>\n        </div>\n<script>\n\nvar loadScriptAsync = function(uri){\n  return new Promise((resolve, reject) => {\n    //this is to ignore the existence of requirejs amd\n    var savedexports, savedmodule;\n    if (typeof exports !== 'undefined') savedexports = exports;\n    else exports = {}\n    if (typeof module !== 'undefined') savedmodule = module;\n    else module = {}\n\n    var tag = document.createElement('script');\n    tag.src = uri;\n    tag.async = true;\n    tag.onload = () => {\n        exports = savedexports;\n        module = savedmodule;\n        resolve();\n    };\n  var firstScriptTag = document.getElementsByTagName('script')[0];\n  firstScriptTag.parentNode.insertBefore(tag, firstScriptTag);\n});\n};\n\nif(typeof $3Dmolpromise === 'undefined') {\n$3Dmolpromise = null;\n  $3Dmolpromise = loadScriptAsync('https://cdnjs.cloudflare.com/ajax/libs/3Dmol/2.4.2/3Dmol-min.js');\n}\n\nvar viewer_17444769321266468 = null;\nvar warn = document.getElementById(\"3dmolwarning_17444769321266468\");\nif(warn) {\n    warn.parentNode.removeChild(warn);\n}\n$3Dmolpromise.then(function() {\nviewer_17444769321266468 = $3Dmol.createViewer(document.getElementById(\"3dmolviewer_17444769321266468\"),{backgroundColor:\"white\"});\nviewer_17444769321266468.zoomTo();\n\tviewer_17444769321266468.addModel(\"1001\\n     RDKit          3D\\n\\n 20 20  0  0  0  0  0  0  0  0999 V2000\\n    3.8236   -0.0118   -0.2192 N   0  0  0  0  0  0  0  0  0  0  0  0\\n    1.5175    0.0087    0.6824 C   0  0  0  0  0  0  0  0  0  0  0  0\\n    0.0660    0.0036    0.3386 C   0  0  0  0  0  0  0  0  0  0  0  0\\n    2.4073    0.0095   -0.5686 C   0  0  0  0  0  0  0  0  0  0  0  0\\n   -0.6165    1.2092    0.1765 C   0  0  0  0  0  0  0  0  0  0  0  0\\n   -0.6088   -1.2067    0.1797 C   0  0  0  0  0  0  0  0  0  0  0  0\\n   -1.9740    1.2046   -0.1444 C   0  0  0  0  0  0  0  0  0  0  0  0\\n   -1.9663   -1.2114   -0.1414 C   0  0  0  0  0  0  0  0  0  0  0  0\\n   -2.6488   -0.0058   -0.3035 C   0  0  0  0  0  0  0  0  0  0  0  0\\n    1.7462    0.8836    1.3057 H   0  0  0  0  0  0  0  0  0  0  0  0\\n    1.7509   -0.8645    1.3064 H   0  0  0  0  0  0  0  0  0  0  0  0\\n    2.2014    0.8974   -1.1780 H   0  0  0  0  0  0  0  0  0  0  0  0\\n    2.1854   -0.8662   -1.1894 H   0  0  0  0  0  0  0  0  0  0  0  0\\n   -0.1018    2.1589    0.2958 H   0  0  0  0  0  0  0  0  0  0  0  0\\n   -0.0880   -2.1528    0.3015 H   0  0  0  0  0  0  0  0  0  0  0  0\\n   -2.5054    2.1432   -0.2712 H   0  0  0  0  0  0  0  0  0  0  0  0\\n   -2.4916   -2.1538   -0.2658 H   0  0  0  0  0  0  0  0  0  0  0  0\\n   -3.7056   -0.0095   -0.5538 H   0  0  0  0  0  0  0  0  0  0  0  0\\n    4.0520    0.8136    0.3334 H   0  0  0  0  0  0  0  0  0  0  0  0\\n    4.3824    0.0493   -1.0692 H   0  0  0  0  0  0  0  0  0  0  0  0\\n  1  4  1  0\\n  1 19  1  0\\n  1 20  1  0\\n  2  3  1  0\\n  2  4  1  0\\n  2 10  1  0\\n  2 11  1  0\\n  3  5  2  0\\n  3  6  1  0\\n  4 12  1  0\\n  4 13  1  0\\n  5  7  1  0\\n  5 14  1  0\\n  6  8  2  0\\n  6 15  1  0\\n  7  9  2  0\\n  7 16  1  0\\n  8  9  1  0\\n  8 17  1  0\\n  9 18  1  0\\nM  END\\n\",\"mol\");\n\tviewer_17444769321266468.setStyle({\"stick\": {}});\n\tviewer_17444769321266468.setBackgroundColor(\"white\");\n\tviewer_17444769321266468.zoomTo();\nviewer_17444769321266468.render();\n});\n</script>",
            "text/html": [
              "<div id=\"3dmolviewer_17444769321266468\"  style=\"position: relative; width: 400px; height: 350px;\">\n",
              "        <p id=\"3dmolwarning_17444769321266468\" style=\"background-color:#ffcccc;color:black\">3Dmol.js failed to load for some reason.  Please check your browser console for error messages.<br></p>\n",
              "        </div>\n",
              "<script>\n",
              "\n",
              "var loadScriptAsync = function(uri){\n",
              "  return new Promise((resolve, reject) => {\n",
              "    //this is to ignore the existence of requirejs amd\n",
              "    var savedexports, savedmodule;\n",
              "    if (typeof exports !== 'undefined') savedexports = exports;\n",
              "    else exports = {}\n",
              "    if (typeof module !== 'undefined') savedmodule = module;\n",
              "    else module = {}\n",
              "\n",
              "    var tag = document.createElement('script');\n",
              "    tag.src = uri;\n",
              "    tag.async = true;\n",
              "    tag.onload = () => {\n",
              "        exports = savedexports;\n",
              "        module = savedmodule;\n",
              "        resolve();\n",
              "    };\n",
              "  var firstScriptTag = document.getElementsByTagName('script')[0];\n",
              "  firstScriptTag.parentNode.insertBefore(tag, firstScriptTag);\n",
              "});\n",
              "};\n",
              "\n",
              "if(typeof $3Dmolpromise === 'undefined') {\n",
              "$3Dmolpromise = null;\n",
              "  $3Dmolpromise = loadScriptAsync('https://cdnjs.cloudflare.com/ajax/libs/3Dmol/2.4.2/3Dmol-min.js');\n",
              "}\n",
              "\n",
              "var viewer_17444769321266468 = null;\n",
              "var warn = document.getElementById(\"3dmolwarning_17444769321266468\");\n",
              "if(warn) {\n",
              "    warn.parentNode.removeChild(warn);\n",
              "}\n",
              "$3Dmolpromise.then(function() {\n",
              "viewer_17444769321266468 = $3Dmol.createViewer(document.getElementById(\"3dmolviewer_17444769321266468\"),{backgroundColor:\"white\"});\n",
              "viewer_17444769321266468.zoomTo();\n",
              "\tviewer_17444769321266468.addModel(\"1001\\n     RDKit          3D\\n\\n 20 20  0  0  0  0  0  0  0  0999 V2000\\n    3.8236   -0.0118   -0.2192 N   0  0  0  0  0  0  0  0  0  0  0  0\\n    1.5175    0.0087    0.6824 C   0  0  0  0  0  0  0  0  0  0  0  0\\n    0.0660    0.0036    0.3386 C   0  0  0  0  0  0  0  0  0  0  0  0\\n    2.4073    0.0095   -0.5686 C   0  0  0  0  0  0  0  0  0  0  0  0\\n   -0.6165    1.2092    0.1765 C   0  0  0  0  0  0  0  0  0  0  0  0\\n   -0.6088   -1.2067    0.1797 C   0  0  0  0  0  0  0  0  0  0  0  0\\n   -1.9740    1.2046   -0.1444 C   0  0  0  0  0  0  0  0  0  0  0  0\\n   -1.9663   -1.2114   -0.1414 C   0  0  0  0  0  0  0  0  0  0  0  0\\n   -2.6488   -0.0058   -0.3035 C   0  0  0  0  0  0  0  0  0  0  0  0\\n    1.7462    0.8836    1.3057 H   0  0  0  0  0  0  0  0  0  0  0  0\\n    1.7509   -0.8645    1.3064 H   0  0  0  0  0  0  0  0  0  0  0  0\\n    2.2014    0.8974   -1.1780 H   0  0  0  0  0  0  0  0  0  0  0  0\\n    2.1854   -0.8662   -1.1894 H   0  0  0  0  0  0  0  0  0  0  0  0\\n   -0.1018    2.1589    0.2958 H   0  0  0  0  0  0  0  0  0  0  0  0\\n   -0.0880   -2.1528    0.3015 H   0  0  0  0  0  0  0  0  0  0  0  0\\n   -2.5054    2.1432   -0.2712 H   0  0  0  0  0  0  0  0  0  0  0  0\\n   -2.4916   -2.1538   -0.2658 H   0  0  0  0  0  0  0  0  0  0  0  0\\n   -3.7056   -0.0095   -0.5538 H   0  0  0  0  0  0  0  0  0  0  0  0\\n    4.0520    0.8136    0.3334 H   0  0  0  0  0  0  0  0  0  0  0  0\\n    4.3824    0.0493   -1.0692 H   0  0  0  0  0  0  0  0  0  0  0  0\\n  1  4  1  0\\n  1 19  1  0\\n  1 20  1  0\\n  2  3  1  0\\n  2  4  1  0\\n  2 10  1  0\\n  2 11  1  0\\n  3  5  2  0\\n  3  6  1  0\\n  4 12  1  0\\n  4 13  1  0\\n  5  7  1  0\\n  5 14  1  0\\n  6  8  2  0\\n  6 15  1  0\\n  7  9  2  0\\n  7 16  1  0\\n  8  9  1  0\\n  8 17  1  0\\n  9 18  1  0\\nM  END\\n\",\"mol\");\n",
              "\tviewer_17444769321266468.setStyle({\"stick\": {}});\n",
              "\tviewer_17444769321266468.setBackgroundColor(\"white\");\n",
              "\tviewer_17444769321266468.zoomTo();\n",
              "viewer_17444769321266468.render();\n",
              "});\n",
              "</script>"
            ]
          },
          "metadata": {}
        },
        {
          "output_type": "stream",
          "name": "stdout",
          "text": [
            "Showing: mol_1002.sdf\n"
          ]
        },
        {
          "output_type": "display_data",
          "data": {
            "application/3dmoljs_load.v0": "<div id=\"3dmolviewer_17444769321306796\"  style=\"position: relative; width: 400px; height: 350px;\">\n        <p id=\"3dmolwarning_17444769321306796\" style=\"background-color:#ffcccc;color:black\">3Dmol.js failed to load for some reason.  Please check your browser console for error messages.<br></p>\n        </div>\n<script>\n\nvar loadScriptAsync = function(uri){\n  return new Promise((resolve, reject) => {\n    //this is to ignore the existence of requirejs amd\n    var savedexports, savedmodule;\n    if (typeof exports !== 'undefined') savedexports = exports;\n    else exports = {}\n    if (typeof module !== 'undefined') savedmodule = module;\n    else module = {}\n\n    var tag = document.createElement('script');\n    tag.src = uri;\n    tag.async = true;\n    tag.onload = () => {\n        exports = savedexports;\n        module = savedmodule;\n        resolve();\n    };\n  var firstScriptTag = document.getElementsByTagName('script')[0];\n  firstScriptTag.parentNode.insertBefore(tag, firstScriptTag);\n});\n};\n\nif(typeof $3Dmolpromise === 'undefined') {\n$3Dmolpromise = null;\n  $3Dmolpromise = loadScriptAsync('https://cdnjs.cloudflare.com/ajax/libs/3Dmol/2.4.2/3Dmol-min.js');\n}\n\nvar viewer_17444769321306796 = null;\nvar warn = document.getElementById(\"3dmolwarning_17444769321306796\");\nif(warn) {\n    warn.parentNode.removeChild(warn);\n}\n$3Dmolpromise.then(function() {\nviewer_17444769321306796 = $3Dmol.createViewer(document.getElementById(\"3dmolviewer_17444769321306796\"),{backgroundColor:\"white\"});\nviewer_17444769321306796.zoomTo();\n\tviewer_17444769321306796.addModel(\"1002\\n     RDKit          3D\\n\\n 21 22  0  0  1  0  0  0  0  0999 V2000\\n    1.0500    2.3336   -0.4001 O   0  0  0  0  0  0  0  0  0  0  0  0\\n    3.3533   -1.4673    0.7371 O   0  0  0  0  0  0  0  0  0  0  0  0\\n    1.3755   -1.1240   -0.4644 N   0  0  0  0  0  0  0  0  0  0  0  0\\n    2.4641    0.6454    0.3367 N   0  0  0  0  0  0  0  0  0  0  0  0\\n    0.5798   -0.0035   -0.9039 C   0  0  1  0  0  0  0  0  0  0  0  0\\n   -0.8125   -0.0716   -0.3728 C   0  0  0  0  0  0  0  0  0  0  0  0\\n    1.3622    1.1543   -0.3087 C   0  0  0  0  0  0  0  0  0  0  0  0\\n    2.5017   -0.7294    0.2608 C   0  0  0  0  0  0  0  0  0  0  0  0\\n   -1.8374   -0.5863   -1.1666 C   0  0  0  0  0  0  0  0  0  0  0  0\\n   -1.0895    0.3799    0.9175 C   0  0  0  0  0  0  0  0  0  0  0  0\\n   -3.1394   -0.6495   -0.6701 C   0  0  0  0  0  0  0  0  0  0  0  0\\n   -2.3914    0.3166    1.4142 C   0  0  0  0  0  0  0  0  0  0  0  0\\n   -3.4164   -0.1981    0.6202 C   0  0  0  0  0  0  0  0  0  0  0  0\\n    0.6230    0.0567   -1.9962 H   0  0  0  0  0  0  0  0  0  0  0  0\\n    1.1631   -2.0925   -0.6834 H   0  0  0  0  0  0  0  0  0  0  0  0\\n    3.1569    1.2095    0.8152 H   0  0  0  0  0  0  0  0  0  0  0  0\\n   -1.6338   -0.9426   -2.1729 H   0  0  0  0  0  0  0  0  0  0  0  0\\n   -0.3152    0.7683    1.5727 H   0  0  0  0  0  0  0  0  0  0  0  0\\n   -3.9374   -1.0509   -1.2880 H   0  0  0  0  0  0  0  0  0  0  0  0\\n   -2.6068    0.6636    2.4205 H   0  0  0  0  0  0  0  0  0  0  0  0\\n   -4.4299   -0.2487    1.0074 H   0  0  0  0  0  0  0  0  0  0  0  0\\n  1  7  2  0\\n  2  8  2  0\\n  3  5  1  0\\n  3  8  1  0\\n  3 15  1  0\\n  4  7  1  0\\n  4  8  1  0\\n  4 16  1  0\\n  5  6  1  0\\n  5  7  1  0\\n  5 14  1  6\\n  6  9  2  0\\n  6 10  1  0\\n  9 11  1  0\\n  9 17  1  0\\n 10 12  2  0\\n 10 18  1  0\\n 11 13  2  0\\n 11 19  1  0\\n 12 13  1  0\\n 12 20  1  0\\n 13 21  1  0\\nM  END\\n\",\"mol\");\n\tviewer_17444769321306796.setStyle({\"stick\": {}});\n\tviewer_17444769321306796.setBackgroundColor(\"white\");\n\tviewer_17444769321306796.zoomTo();\nviewer_17444769321306796.render();\n});\n</script>",
            "text/html": [
              "<div id=\"3dmolviewer_17444769321306796\"  style=\"position: relative; width: 400px; height: 350px;\">\n",
              "        <p id=\"3dmolwarning_17444769321306796\" style=\"background-color:#ffcccc;color:black\">3Dmol.js failed to load for some reason.  Please check your browser console for error messages.<br></p>\n",
              "        </div>\n",
              "<script>\n",
              "\n",
              "var loadScriptAsync = function(uri){\n",
              "  return new Promise((resolve, reject) => {\n",
              "    //this is to ignore the existence of requirejs amd\n",
              "    var savedexports, savedmodule;\n",
              "    if (typeof exports !== 'undefined') savedexports = exports;\n",
              "    else exports = {}\n",
              "    if (typeof module !== 'undefined') savedmodule = module;\n",
              "    else module = {}\n",
              "\n",
              "    var tag = document.createElement('script');\n",
              "    tag.src = uri;\n",
              "    tag.async = true;\n",
              "    tag.onload = () => {\n",
              "        exports = savedexports;\n",
              "        module = savedmodule;\n",
              "        resolve();\n",
              "    };\n",
              "  var firstScriptTag = document.getElementsByTagName('script')[0];\n",
              "  firstScriptTag.parentNode.insertBefore(tag, firstScriptTag);\n",
              "});\n",
              "};\n",
              "\n",
              "if(typeof $3Dmolpromise === 'undefined') {\n",
              "$3Dmolpromise = null;\n",
              "  $3Dmolpromise = loadScriptAsync('https://cdnjs.cloudflare.com/ajax/libs/3Dmol/2.4.2/3Dmol-min.js');\n",
              "}\n",
              "\n",
              "var viewer_17444769321306796 = null;\n",
              "var warn = document.getElementById(\"3dmolwarning_17444769321306796\");\n",
              "if(warn) {\n",
              "    warn.parentNode.removeChild(warn);\n",
              "}\n",
              "$3Dmolpromise.then(function() {\n",
              "viewer_17444769321306796 = $3Dmol.createViewer(document.getElementById(\"3dmolviewer_17444769321306796\"),{backgroundColor:\"white\"});\n",
              "viewer_17444769321306796.zoomTo();\n",
              "\tviewer_17444769321306796.addModel(\"1002\\n     RDKit          3D\\n\\n 21 22  0  0  1  0  0  0  0  0999 V2000\\n    1.0500    2.3336   -0.4001 O   0  0  0  0  0  0  0  0  0  0  0  0\\n    3.3533   -1.4673    0.7371 O   0  0  0  0  0  0  0  0  0  0  0  0\\n    1.3755   -1.1240   -0.4644 N   0  0  0  0  0  0  0  0  0  0  0  0\\n    2.4641    0.6454    0.3367 N   0  0  0  0  0  0  0  0  0  0  0  0\\n    0.5798   -0.0035   -0.9039 C   0  0  1  0  0  0  0  0  0  0  0  0\\n   -0.8125   -0.0716   -0.3728 C   0  0  0  0  0  0  0  0  0  0  0  0\\n    1.3622    1.1543   -0.3087 C   0  0  0  0  0  0  0  0  0  0  0  0\\n    2.5017   -0.7294    0.2608 C   0  0  0  0  0  0  0  0  0  0  0  0\\n   -1.8374   -0.5863   -1.1666 C   0  0  0  0  0  0  0  0  0  0  0  0\\n   -1.0895    0.3799    0.9175 C   0  0  0  0  0  0  0  0  0  0  0  0\\n   -3.1394   -0.6495   -0.6701 C   0  0  0  0  0  0  0  0  0  0  0  0\\n   -2.3914    0.3166    1.4142 C   0  0  0  0  0  0  0  0  0  0  0  0\\n   -3.4164   -0.1981    0.6202 C   0  0  0  0  0  0  0  0  0  0  0  0\\n    0.6230    0.0567   -1.9962 H   0  0  0  0  0  0  0  0  0  0  0  0\\n    1.1631   -2.0925   -0.6834 H   0  0  0  0  0  0  0  0  0  0  0  0\\n    3.1569    1.2095    0.8152 H   0  0  0  0  0  0  0  0  0  0  0  0\\n   -1.6338   -0.9426   -2.1729 H   0  0  0  0  0  0  0  0  0  0  0  0\\n   -0.3152    0.7683    1.5727 H   0  0  0  0  0  0  0  0  0  0  0  0\\n   -3.9374   -1.0509   -1.2880 H   0  0  0  0  0  0  0  0  0  0  0  0\\n   -2.6068    0.6636    2.4205 H   0  0  0  0  0  0  0  0  0  0  0  0\\n   -4.4299   -0.2487    1.0074 H   0  0  0  0  0  0  0  0  0  0  0  0\\n  1  7  2  0\\n  2  8  2  0\\n  3  5  1  0\\n  3  8  1  0\\n  3 15  1  0\\n  4  7  1  0\\n  4  8  1  0\\n  4 16  1  0\\n  5  6  1  0\\n  5  7  1  0\\n  5 14  1  6\\n  6  9  2  0\\n  6 10  1  0\\n  9 11  1  0\\n  9 17  1  0\\n 10 12  2  0\\n 10 18  1  0\\n 11 13  2  0\\n 11 19  1  0\\n 12 13  1  0\\n 12 20  1  0\\n 13 21  1  0\\nM  END\\n\",\"mol\");\n",
              "\tviewer_17444769321306796.setStyle({\"stick\": {}});\n",
              "\tviewer_17444769321306796.setBackgroundColor(\"white\");\n",
              "\tviewer_17444769321306796.zoomTo();\n",
              "viewer_17444769321306796.render();\n",
              "});\n",
              "</script>"
            ]
          },
          "metadata": {}
        }
      ]
    },
    {
      "cell_type": "markdown",
      "source": [
        "# create padding based on maximum number of atoms in a molecule"
      ],
      "metadata": {
        "id": "pSqVk9QPteqO"
      }
    },
    {
      "cell_type": "code",
      "source": [
        "# Find maximum number of atoms across all molecules\n",
        "max_atoms = max(len(coords) for coords in coords_list)\n",
        "max_atoms"
      ],
      "metadata": {
        "id": "Q0iLbDRmrqiF",
        "outputId": "1949cc1d-e32e-484b-cd6b-9648a6ae2f5e",
        "colab": {
          "base_uri": "https://localhost:8080/"
        }
      },
      "execution_count": 101,
      "outputs": [
        {
          "output_type": "execute_result",
          "data": {
            "text/plain": [
              "57"
            ]
          },
          "metadata": {},
          "execution_count": 101
        }
      ]
    },
    {
      "cell_type": "code",
      "source": [
        "# Pad coordinates and atom types\n",
        "padded_coords = []\n",
        "padded_atom_types = []\n",
        "\n",
        "for coords, atom_types in zip(coords_list, atom_types_list):\n",
        "    # Pad coordinates (with zeros)\n",
        "    padded_coords.append(np.pad(coords, ((0, max_atoms - len(coords)), (0, 0)), mode='constant'))\n",
        "\n",
        "    # Pad atom types (with placeholder 'X')\n",
        "    padded_atom_types.append(atom_types + ['X'] * (max_atoms - len(atom_types)))\n",
        "\n",
        "coords_array = np.array(padded_coords)\n",
        "atom_types_array = np.array(padded_atom_types)\n",
        "\n",
        "print(f\"Shape of coords_array: {coords_array.shape}\")\n",
        "print(f\"Shape of atom_types_array: {atom_types_array.shape}\")\n"
      ],
      "metadata": {
        "id": "oFek7mqHrrl7",
        "outputId": "97686dab-7bd7-4d5d-9a46-ec24bfeff330",
        "colab": {
          "base_uri": "https://localhost:8080/"
        }
      },
      "execution_count": 102,
      "outputs": [
        {
          "output_type": "stream",
          "name": "stdout",
          "text": [
            "Shape of coords_array: (100, 57, 3)\n",
            "Shape of atom_types_array: (100, 57)\n"
          ]
        }
      ]
    },
    {
      "cell_type": "code",
      "source": [
        "atom_types_array"
      ],
      "metadata": {
        "id": "QnOZi4t6rro8",
        "outputId": "e21d0344-87fa-4e7e-c6c1-20f24ef98610",
        "colab": {
          "base_uri": "https://localhost:8080/"
        }
      },
      "execution_count": 103,
      "outputs": [
        {
          "output_type": "execute_result",
          "data": {
            "text/plain": [
              "array([['O', 'O', 'O', ..., 'X', 'X', 'X'],\n",
              "       ['O', 'O', 'O', ..., 'X', 'X', 'X'],\n",
              "       ['O', 'O', 'O', ..., 'X', 'X', 'X'],\n",
              "       ...,\n",
              "       ['O', 'O', 'N', ..., 'X', 'X', 'X'],\n",
              "       ['O', 'O', 'C', ..., 'X', 'X', 'X'],\n",
              "       ['O', 'O', 'O', ..., 'X', 'X', 'X']], dtype='<U2')"
            ]
          },
          "metadata": {},
          "execution_count": 103
        }
      ]
    },
    {
      "cell_type": "code",
      "source": [
        "coords_array"
      ],
      "metadata": {
        "id": "aTfQcfYzrrrT",
        "outputId": "8d69f514-10aa-47db-fe7b-1f5382d3d1b0",
        "colab": {
          "base_uri": "https://localhost:8080/"
        }
      },
      "execution_count": 104,
      "outputs": [
        {
          "output_type": "execute_result",
          "data": {
            "text/plain": [
              "array([[[-2.1417,  1.0315,  0.7136],\n",
              "        [ 0.4877,  1.4813, -0.3153],\n",
              "        [ 2.8465,  0.6297, -0.0278],\n",
              "        ...,\n",
              "        [ 0.    ,  0.    ,  0.    ],\n",
              "        [ 0.    ,  0.    ,  0.    ],\n",
              "        [ 0.    ,  0.    ,  0.    ]],\n",
              "\n",
              "       [[-0.8007,  3.1719, -0.3307],\n",
              "        [ 1.9377,  2.1145, -0.2359],\n",
              "        [-2.2221, -2.4151, -1.7057],\n",
              "        ...,\n",
              "        [ 0.    ,  0.    ,  0.    ],\n",
              "        [ 0.    ,  0.    ,  0.    ],\n",
              "        [ 0.    ,  0.    ,  0.    ]],\n",
              "\n",
              "       [[-1.3259, -1.1598, -0.3674],\n",
              "        [ 3.2938,  2.0525,  0.2706],\n",
              "        [ 1.1787,  2.8738,  0.5567],\n",
              "        ...,\n",
              "        [ 0.    ,  0.    ,  0.    ],\n",
              "        [ 0.    ,  0.    ,  0.    ],\n",
              "        [ 0.    ,  0.    ,  0.    ]],\n",
              "\n",
              "       ...,\n",
              "\n",
              "       [[ 2.5311,  1.0877,  1.1888],\n",
              "        [-2.5344, -1.0904, -1.1875],\n",
              "        [ 1.4397,  1.8125, -0.7268],\n",
              "        ...,\n",
              "        [ 0.    ,  0.    ,  0.    ],\n",
              "        [ 0.    ,  0.    ,  0.    ],\n",
              "        [ 0.    ,  0.    ,  0.    ]],\n",
              "\n",
              "       [[ 2.923 ,  0.6054, -0.7218],\n",
              "        [-2.435 ,  1.506 , -0.0832],\n",
              "        [ 0.8626, -0.0372,  0.2773],\n",
              "        ...,\n",
              "        [ 0.    ,  0.    ,  0.    ],\n",
              "        [ 0.    ,  0.    ,  0.    ],\n",
              "        [ 0.    ,  0.    ,  0.    ]],\n",
              "\n",
              "       [[ 0.2405, -0.2804,  1.6729],\n",
              "        [ 0.6398,  1.2246, -1.536 ],\n",
              "        [-2.2259,  0.412 ,  0.942 ],\n",
              "        ...,\n",
              "        [ 0.    ,  0.    ,  0.    ],\n",
              "        [ 0.    ,  0.    ,  0.    ],\n",
              "        [ 0.    ,  0.    ,  0.    ]]])"
            ]
          },
          "metadata": {},
          "execution_count": 104
        }
      ]
    },
    {
      "cell_type": "markdown",
      "source": [
        "# convert absolute coordinates to relative coordinates of each molecule so that invariant to translation, rotation, etc."
      ],
      "metadata": {
        "id": "OGgukw8IuviO"
      }
    },
    {
      "cell_type": "code",
      "source": [
        "# Atomic weights in g/mol (for common atoms)\n",
        "atomic_weights = {\n",
        "    'H': 1.008,\n",
        "    'C': 12.011,\n",
        "    'N': 14.007,\n",
        "    'O': 15.999,\n",
        "    'S': 32.06,\n",
        "    'P': 30.974,\n",
        "    'Cl': 35.45,\n",
        "    'Br': 79.904,\n",
        "    'I': 126.904,\n",
        "    'F': 18.998,\n",
        "    # Add more atoms as needed\n",
        "}\n"
      ],
      "metadata": {
        "id": "NjucGnOBt-mG"
      },
      "execution_count": 105,
      "outputs": []
    },
    {
      "cell_type": "code",
      "source": [
        "import numpy as np\n",
        "\n",
        "def compute_center_of_mass(coords, atom_types, atomic_weights):\n",
        "    # Initialize the total mass and weighted sum of coordinates\n",
        "    total_mass = 0.0\n",
        "    weighted_coords = np.zeros(3)\n",
        "\n",
        "    # Sum over each atom's contribution to the center of mass\n",
        "    for i in range(len(coords)):\n",
        "        atom_weight = atomic_weights.get(atom_types[i], 0)  # Default to 0 if atom type is not found\n",
        "        total_mass += atom_weight\n",
        "        weighted_coords += np.array(coords[i]) * atom_weight\n",
        "\n",
        "    # Compute the center of mass\n",
        "    center_of_mass = weighted_coords / total_mass\n",
        "    return center_of_mass\n",
        "\n",
        "# Example for a single molecule (coords and atom_types are lists for the molecule)\n",
        "coords = [[0.0, 0.0, 0.0], [1.0, 0.0, 0.0], [0.0, 1.0, 0.0]]  # Example coordinates\n",
        "atom_types = ['C', 'H', 'H']  # Example atom types\n",
        "\n",
        "# Compute the center of mass\n",
        "com = compute_center_of_mass(coords, atom_types, atomic_weights)\n",
        "print(\"Center of Mass:\", com)\n"
      ],
      "metadata": {
        "id": "D3NQ_3k1u85o",
        "outputId": "0dd5ff95-0479-4823-8f55-455ab461930b",
        "colab": {
          "base_uri": "https://localhost:8080/"
        }
      },
      "execution_count": 106,
      "outputs": [
        {
          "output_type": "stream",
          "name": "stdout",
          "text": [
            "Center of Mass: [0.07186141 0.07186141 0.        ]\n"
          ]
        }
      ]
    },
    {
      "cell_type": "code",
      "source": [
        "def convert_to_relative_coordinates(coords, com):\n",
        "    # Subtract the center of mass from each atom's coordinates\n",
        "    relative_coords = np.array(coords) - com\n",
        "    return relative_coords\n",
        "\n",
        "# Convert to relative coordinates for the molecule\n",
        "relative_coords = convert_to_relative_coordinates(coords, com)\n",
        "print(\"Relative Coordinates:\", relative_coords)\n"
      ],
      "metadata": {
        "id": "61xPsDpnu88z",
        "outputId": "9de96f84-f1c5-4903-b317-7066f518ef8a",
        "colab": {
          "base_uri": "https://localhost:8080/"
        }
      },
      "execution_count": 107,
      "outputs": [
        {
          "output_type": "stream",
          "name": "stdout",
          "text": [
            "Relative Coordinates: [[-0.07186141 -0.07186141  0.        ]\n",
            " [ 0.92813859 -0.07186141  0.        ]\n",
            " [-0.07186141  0.92813859  0.        ]]\n"
          ]
        }
      ]
    },
    {
      "cell_type": "code",
      "source": [
        "relative_coords_list = []\n",
        "\n",
        "for i in range(coords_array.shape[0]):  # Iterate over each molecule\n",
        "    coords = coords_array[i]\n",
        "    atom_types = atom_types_array[i]\n",
        "\n",
        "    # Remove padding atoms for COM calculation (ensure atom_types is a list)\n",
        "    atom_types = atom_types.tolist()  # Convert numpy array to list if needed\n",
        "\n",
        "    # Identify the indices of valid atoms (i.e., not 'X')\n",
        "    valid_indices = [i for i, atom in enumerate(atom_types) if atom != 'X']\n",
        "\n",
        "    # Get non-padding coordinates and atom types\n",
        "    non_padding_coords = coords[valid_indices]\n",
        "    non_padding_atom_types = [atom_types[i] for i in valid_indices]\n",
        "\n",
        "    # Compute the center of mass\n",
        "    com = compute_center_of_mass(non_padding_coords, non_padding_atom_types, atomic_weights)\n",
        "\n",
        "    # Convert to relative coordinates\n",
        "    relative_coords = convert_to_relative_coordinates(coords, com)\n",
        "\n",
        "    # Append the relative coordinates for the current molecule\n",
        "    relative_coords_list.append(relative_coords)\n",
        "\n",
        "# Convert relative coordinates list to numpy array\n",
        "relative_coords_array = np.array(relative_coords_list)\n",
        "\n",
        "print(f\"Shape of relative_coords_array: {relative_coords_array.shape}\")"
      ],
      "metadata": {
        "id": "Zckq6tfvu8_t",
        "outputId": "bc6a91b2-cd64-4ed0-c4a5-21023930bfbf",
        "colab": {
          "base_uri": "https://localhost:8080/"
        }
      },
      "execution_count": 108,
      "outputs": [
        {
          "output_type": "stream",
          "name": "stdout",
          "text": [
            "Shape of relative_coords_array: (100, 57, 3)\n"
          ]
        }
      ]
    },
    {
      "cell_type": "code",
      "source": [
        "import torch\n",
        "import torch.nn as nn\n",
        "from diffusers import DDPMScheduler, UNet2DModel\n",
        "from torch.utils.data import Dataset, DataLoader\n",
        "import numpy as np\n",
        "from tqdm import tqdm\n",
        "import random\n",
        "\n",
        "# Example sizes and hyperparameters\n",
        "device = torch.device(\"cuda\" if torch.cuda.is_available() else \"cpu\")\n",
        "batch_size = 4\n",
        "learning_rate = 1e-4\n",
        "num_epochs = 10\n",
        "num_molecules = 1000  # Adjust as necessary\n",
        "max_atoms = 50  # Maximum number of atoms in a molecule, adjust accordingly\n",
        "\n",
        "# Dataset class to load relative coordinates and atom types\n",
        "class MoleculeDataset(Dataset):\n",
        "    def __init__(self, coords_array, atom_types_array):\n",
        "        self.coords = coords_array\n",
        "        self.atom_types = atom_types_array\n",
        "\n",
        "    def __len__(self):\n",
        "        return len(self.coords)\n",
        "\n",
        "    def __getitem__(self, idx):\n",
        "        coords = self.coords[idx]\n",
        "        atom_types = self.atom_types[idx]\n",
        "\n",
        "        # Convert atom types to one-hot encoding (you can also use embedding layer later)\n",
        "        atom_type_encoding = np.zeros(len(atom_types))  # Placeholder for encoding\n",
        "        for i, atom in enumerate(atom_types):\n",
        "            atom_type_encoding[i] = random.randint(0, 1)  # Example encoding, you can extend for all atoms\n",
        "\n",
        "        return torch.tensor(coords, dtype=torch.float32), torch.tensor(atom_type_encoding, dtype=torch.float32)\n",
        "\n",
        "# Initialize dataset and dataloaders\n",
        "dataset = MoleculeDataset(relative_coords_array, atom_types_array)\n",
        "train_loader = DataLoader(dataset, batch_size=batch_size, shuffle=True)\n",
        "\n",
        "# Define the U-Net model (simplified for this example)\n",
        "class DiffusionUNet(nn.Module):\n",
        "    def __init__(self, in_channels, out_channels, time_embed_dim=128):\n",
        "        super().__init__()\n",
        "        self.time_mlp = nn.Sequential(\n",
        "            nn.Linear(1, time_embed_dim),\n",
        "            nn.ReLU(),\n",
        "            nn.Linear(time_embed_dim, in_channels)\n",
        "        )\n",
        "        self.encoder = nn.Sequential(\n",
        "            nn.Conv1d(in_channels, 64, 3, padding=1),\n",
        "            nn.ReLU(),\n",
        "            nn.Conv1d(64, 128, 3, padding=1),\n",
        "            nn.ReLU(),\n",
        "        )\n",
        "        self.decoder = nn.Sequential(\n",
        "            nn.Conv1d(128, 64, 3, padding=1),\n",
        "            nn.ReLU(),\n",
        "            nn.Conv1d(64, out_channels, 3, padding=1),\n",
        "        )\n",
        "\n",
        "    def forward(self, x, t):\n",
        "        # t: (batch,) → (batch, 1)\n",
        "        t_embed = self.time_mlp(t[:, None]).unsqueeze(-1)  # (batch, in_channels, 1)\n",
        "        x = x + t_embed  # Broadcast to all atoms\n",
        "        return self.decoder(self.encoder(x))\n"
      ],
      "metadata": {
        "id": "kX6G0YLEu9CN"
      },
      "execution_count": 109,
      "outputs": []
    },
    {
      "cell_type": "code",
      "source": [
        "# Initialize the U-Net model for diffusion\n",
        "model = DiffusionUNet(in_channels=3, out_channels=3).to(device)  # We are working with 3D coordinates\n",
        "optimizer = torch.optim.Adam(model.parameters(), lr=learning_rate)\n",
        "\n",
        "# Initialize DDPMScheduler (this defines the diffusion process)\n",
        "scheduler = DDPMScheduler(num_train_timesteps=1000)\n",
        "\n",
        "# Training loop\n",
        "# Training loop\n",
        "for epoch in range(num_epochs):\n",
        "    model.train()\n",
        "    total_loss = 0\n",
        "    for batch in tqdm(train_loader, desc=f\"Epoch {epoch+1}/{num_epochs}\"):\n",
        "        coords, atom_types = batch\n",
        "        coords, atom_types = coords.to(device), atom_types.to(device)\n",
        "\n",
        "        # Sample random timesteps and noise\n",
        "        timesteps = torch.randint(0, scheduler.num_train_timesteps, (coords.shape[0],), device=device).long()\n",
        "        noise = torch.randn_like(coords)\n",
        "\n",
        "        # Add noise to the original coordinates\n",
        "        noisy_coords = scheduler.add_noise(original_samples=coords, noise=noise, timesteps=timesteps)\n",
        "\n",
        "        # Predict noise using the model\n",
        "        model_input = noisy_coords.permute(0, 2, 1)  # (batch_size, 3, max_atoms) for Conv1D\n",
        "        predicted_noise = model(model_input, timesteps.float()).permute(0, 2, 1)  # Back to (batch_size, max_atoms, 3)\n",
        "\n",
        "        # Loss: compare predicted noise with true noise\n",
        "        loss = torch.mean((predicted_noise - noise) ** 2)\n",
        "\n",
        "        optimizer.zero_grad()\n",
        "        loss.backward()\n",
        "        optimizer.step()\n",
        "\n",
        "        total_loss += loss.item()\n",
        "\n",
        "    print(f\"Epoch {epoch+1}/{num_epochs} - Loss: {total_loss / len(train_loader):.6f}\")\n",
        "\n",
        "\n"
      ],
      "metadata": {
        "id": "AufWVS5cwz2s",
        "outputId": "9c7a28e3-cc16-475c-b120-bd5b4004a4e1",
        "colab": {
          "base_uri": "https://localhost:8080/"
        }
      },
      "execution_count": 110,
      "outputs": [
        {
          "output_type": "stream",
          "name": "stderr",
          "text": [
            "Epoch 1/10:   0%|          | 0/25 [00:00<?, ?it/s]/usr/local/lib/python3.11/dist-packages/diffusers/configuration_utils.py:140: FutureWarning: Accessing config attribute `num_train_timesteps` directly via 'DDPMScheduler' object attribute is deprecated. Please access 'num_train_timesteps' over 'DDPMScheduler's config object instead, e.g. 'scheduler.config.num_train_timesteps'.\n",
            "  deprecate(\"direct config name access\", \"1.0.0\", deprecation_message, standard_warn=False)\n",
            "Epoch 1/10: 100%|██████████| 25/25 [00:00<00:00, 66.49it/s]\n"
          ]
        },
        {
          "output_type": "stream",
          "name": "stdout",
          "text": [
            "Epoch 1/10 - Loss: 11.839390\n"
          ]
        },
        {
          "output_type": "stream",
          "name": "stderr",
          "text": [
            "Epoch 2/10: 100%|██████████| 25/25 [00:00<00:00, 63.58it/s]\n"
          ]
        },
        {
          "output_type": "stream",
          "name": "stdout",
          "text": [
            "Epoch 2/10 - Loss: 1.448439\n"
          ]
        },
        {
          "output_type": "stream",
          "name": "stderr",
          "text": [
            "Epoch 3/10: 100%|██████████| 25/25 [00:00<00:00, 54.07it/s]\n"
          ]
        },
        {
          "output_type": "stream",
          "name": "stdout",
          "text": [
            "Epoch 3/10 - Loss: 1.059202\n"
          ]
        },
        {
          "output_type": "stream",
          "name": "stderr",
          "text": [
            "Epoch 4/10: 100%|██████████| 25/25 [00:00<00:00, 75.61it/s]\n"
          ]
        },
        {
          "output_type": "stream",
          "name": "stdout",
          "text": [
            "Epoch 4/10 - Loss: 1.019744\n"
          ]
        },
        {
          "output_type": "stream",
          "name": "stderr",
          "text": [
            "Epoch 5/10: 100%|██████████| 25/25 [00:00<00:00, 61.62it/s]\n"
          ]
        },
        {
          "output_type": "stream",
          "name": "stdout",
          "text": [
            "Epoch 5/10 - Loss: 1.025103\n"
          ]
        },
        {
          "output_type": "stream",
          "name": "stderr",
          "text": [
            "Epoch 6/10: 100%|██████████| 25/25 [00:00<00:00, 53.97it/s]\n"
          ]
        },
        {
          "output_type": "stream",
          "name": "stdout",
          "text": [
            "Epoch 6/10 - Loss: 1.005381\n"
          ]
        },
        {
          "output_type": "stream",
          "name": "stderr",
          "text": [
            "Epoch 7/10: 100%|██████████| 25/25 [00:00<00:00, 47.93it/s]\n"
          ]
        },
        {
          "output_type": "stream",
          "name": "stdout",
          "text": [
            "Epoch 7/10 - Loss: 1.002916\n"
          ]
        },
        {
          "output_type": "stream",
          "name": "stderr",
          "text": [
            "Epoch 8/10: 100%|██████████| 25/25 [00:00<00:00, 65.24it/s]\n"
          ]
        },
        {
          "output_type": "stream",
          "name": "stdout",
          "text": [
            "Epoch 8/10 - Loss: 1.010818\n"
          ]
        },
        {
          "output_type": "stream",
          "name": "stderr",
          "text": [
            "Epoch 9/10: 100%|██████████| 25/25 [00:00<00:00, 49.44it/s]\n"
          ]
        },
        {
          "output_type": "stream",
          "name": "stdout",
          "text": [
            "Epoch 9/10 - Loss: 0.996224\n"
          ]
        },
        {
          "output_type": "stream",
          "name": "stderr",
          "text": [
            "Epoch 10/10: 100%|██████████| 25/25 [00:00<00:00, 54.32it/s]"
          ]
        },
        {
          "output_type": "stream",
          "name": "stdout",
          "text": [
            "Epoch 10/10 - Loss: 0.998601\n"
          ]
        },
        {
          "output_type": "stream",
          "name": "stderr",
          "text": [
            "\n"
          ]
        }
      ]
    },
    {
      "cell_type": "code",
      "source": [
        "\n",
        "import py3Dmol\n",
        "from rdkit import Chem\n",
        "from rdkit.Chem import AllChem\n",
        "from rdkit.Geometry import Point3D\n",
        "\n",
        "def visualize_mol(mol):\n",
        "    mb = Chem.MolToMolBlock(mol)\n",
        "    viewer = py3Dmol.view(width=500, height=400)\n",
        "    viewer.addModel(mb, 'mol')\n",
        "    viewer.setStyle({'stick': {}})\n",
        "    viewer.setBackgroundColor('white')\n",
        "    viewer.zoomTo()\n",
        "    return viewer  # <-- Return the viewer instead of .show()\n",
        "\n"
      ],
      "metadata": {
        "id": "iuKwPc-9m4o0"
      },
      "execution_count": 111,
      "outputs": []
    },
    {
      "cell_type": "code",
      "source": [
        "from rdkit import Chem\n",
        "from rdkit.Chem import AllChem\n",
        "\n",
        "def coords_to_rdkit_mol(coords, atom_types):\n",
        "    mol = Chem.RWMol()\n",
        "    atom_ids = []\n",
        "\n",
        "    for atom_symbol in atom_types:\n",
        "        if atom_symbol == 'X':  # Skip padding atoms\n",
        "            continue\n",
        "        atom = Chem.Atom(atom_symbol)\n",
        "        atom_id = mol.AddAtom(atom)\n",
        "        atom_ids.append(atom_id)\n",
        "\n",
        "    conf = Chem.Conformer(len(atom_ids))\n",
        "    for i, (x, y, z) in enumerate(coords[:len(atom_ids)]):\n",
        "        conf.SetAtomPosition(i, (float(x), float(y), float(z)))\n",
        "    mol.AddConformer(conf)\n",
        "\n",
        "    # Optionally, sanitize\n",
        "    try:\n",
        "        Chem.SanitizeMol(mol)\n",
        "    except:\n",
        "        pass  # Might fail for rough initial coords\n",
        "\n",
        "    return mol\n"
      ],
      "metadata": {
        "id": "1_IeQz5GyGmb"
      },
      "execution_count": 112,
      "outputs": []
    },
    {
      "cell_type": "code",
      "source": [
        "# Generate new molecules after training\n",
        "from IPython.display import display\n",
        "\n",
        "model.eval()\n",
        "with torch.no_grad():\n",
        "    x = torch.randn((1, 3, max_atoms), device=device)  # Initial noise\n",
        "\n",
        "    T = 1000  # Number of diffusion steps (should match training)\n",
        "    betas = torch.linspace(1e-4, 0.02, T).to(device)\n",
        "    alphas = 1.0 - betas\n",
        "    alphas_cumprod = torch.cumprod(alphas, dim=0)\n",
        "\n",
        "    for t in reversed(range(T)):\n",
        "        t_tensor = torch.full((1,), t, device=device, dtype=torch.float32)\n",
        "        noise_pred = model(x, t_tensor)  # Predict noise at time t\n",
        "\n",
        "        alpha = alphas[t]\n",
        "        alpha_cum = alphas_cumprod[t]\n",
        "        beta = betas[t]\n",
        "\n",
        "        if t > 0:\n",
        "            noise = torch.randn_like(x)\n",
        "        else:\n",
        "            noise = 0\n",
        "\n",
        "        x = (1 / torch.sqrt(alpha)) * (\n",
        "            x - ((1 - alpha) / torch.sqrt(1 - alpha_cum)) * noise_pred\n",
        "        ) + torch.sqrt(beta) * noise\n",
        "\n",
        "    generated_coords = x.permute(0, 2, 1).squeeze(0).cpu().numpy()  # (max_atoms, 3)\n",
        "    generated_atom_types = ['C'] * max_atoms  # Simplified for now\n",
        "\n",
        "\n",
        "\n",
        "\n",
        "\n",
        "\n",
        "    mol = coords_to_rdkit_mol(generated_coords, generated_atom_types)\n",
        "    viewer = visualize_mol(mol)\n",
        "    display(viewer.show())\n",
        "\n",
        "    #img = Chem.Draw.MolToImage(mol, size=(400, 300))\n",
        "    #img.show()\n"
      ],
      "metadata": {
        "id": "9GhFePoRxVNP",
        "outputId": "fcbdf30d-e56f-4bbf-8828-a11c6273d68b",
        "colab": {
          "base_uri": "https://localhost:8080/",
          "height": 434
        }
      },
      "execution_count": 115,
      "outputs": [
        {
          "output_type": "display_data",
          "data": {
            "application/3dmoljs_load.v0": "<div id=\"3dmolviewer_17444771068241572\"  style=\"position: relative; width: 500px; height: 400px;\">\n        <p id=\"3dmolwarning_17444771068241572\" style=\"background-color:#ffcccc;color:black\">3Dmol.js failed to load for some reason.  Please check your browser console for error messages.<br></p>\n        </div>\n<script>\n\nvar loadScriptAsync = function(uri){\n  return new Promise((resolve, reject) => {\n    //this is to ignore the existence of requirejs amd\n    var savedexports, savedmodule;\n    if (typeof exports !== 'undefined') savedexports = exports;\n    else exports = {}\n    if (typeof module !== 'undefined') savedmodule = module;\n    else module = {}\n\n    var tag = document.createElement('script');\n    tag.src = uri;\n    tag.async = true;\n    tag.onload = () => {\n        exports = savedexports;\n        module = savedmodule;\n        resolve();\n    };\n  var firstScriptTag = document.getElementsByTagName('script')[0];\n  firstScriptTag.parentNode.insertBefore(tag, firstScriptTag);\n});\n};\n\nif(typeof $3Dmolpromise === 'undefined') {\n$3Dmolpromise = null;\n  $3Dmolpromise = loadScriptAsync('https://cdnjs.cloudflare.com/ajax/libs/3Dmol/2.4.2/3Dmol-min.js');\n}\n\nvar viewer_17444771068241572 = null;\nvar warn = document.getElementById(\"3dmolwarning_17444771068241572\");\nif(warn) {\n    warn.parentNode.removeChild(warn);\n}\n$3Dmolpromise.then(function() {\nviewer_17444771068241572 = $3Dmol.createViewer(document.getElementById(\"3dmolviewer_17444771068241572\"),{backgroundColor:\"white\"});\nviewer_17444771068241572.zoomTo();\n\tviewer_17444771068241572.addModel(\"\\n     RDKit          3D\\n\\n 50  0  0  0  0  0  0  0  0  0999 V2000\\n   88.0655  437.7046  -82.7760 C   0  0  0  0  0  0  0  0  0  0  0  0\\n   59.8263 -110.6217 -143.7276 C   0  0  0  0  0  0  0  0  0  0  0  0\\n  -91.4067 -179.0513 -161.4534 C   0  0  0  0  0  0  0  0  0  0  0  0\\n    3.0196  167.8544   -5.9245 C   0  0  0  0  0  0  0  0  0  0  0  0\\n  -32.1006 -295.2130 -306.3420 C   0  0  0  0  0  0  0  0  0  0  0  0\\n -188.5558  -76.9681   29.3712 C   0  0  0  0  0  0  0  0  0  0  0  0\\n  277.3710 -272.7984 -644.0563 C   0  0  0  0  0  0  0  0  0  0  0  0\\n -296.9893  275.7066   -8.7929 C   0  0  0  0  0  0  0  0  0  0  0  0\\n   26.9894   88.8603 -382.7951 C   0  0  0  0  0  0  0  0  0  0  0  0\\n -155.2287   78.2449  528.1646 C   0  0  0  0  0  0  0  0  0  0  0  0\\n  -47.8928 -146.8510 -180.2070 C   0  0  0  0  0  0  0  0  0  0  0  0\\n  242.7733  -48.3070 -199.3843 C   0  0  0  0  0  0  0  0  0  0  0  0\\n -127.8272  233.9364   70.7600 C   0  0  0  0  0  0  0  0  0  0  0  0\\n   91.1475 -397.3792 -381.0522 C   0  0  0  0  0  0  0  0  0  0  0  0\\n   45.1933  -39.0024  518.5803 C   0  0  0  0  0  0  0  0  0  0  0  0\\n   80.6683  261.8318 -140.2548 C   0  0  0  0  0  0  0  0  0  0  0  0\\n -409.0261  -35.2810  -64.7192 C   0  0  0  0  0  0  0  0  0  0  0  0\\n  417.3938  126.2783 -554.1884 C   0  0  0  0  0  0  0  0  0  0  0  0\\n  -19.0393   82.4566  550.6360 C   0  0  0  0  0  0  0  0  0  0  0  0\\n -155.1126  -13.8601 -106.0605 C   0  0  0  0  0  0  0  0  0  0  0  0\\n -362.7376  210.2090  -52.1054 C   0  0  0  0  0  0  0  0  0  0  0  0\\n  -91.7552  251.1125 -447.7981 C   0  0  0  0  0  0  0  0  0  0  0  0\\n  295.2343 -107.1977   27.1764 C   0  0  0  0  0  0  0  0  0  0  0  0\\n  221.8571  -99.9038   76.4140 C   0  0  0  0  0  0  0  0  0  0  0  0\\n   53.3912  -10.3864 -161.3562 C   0  0  0  0  0  0  0  0  0  0  0  0\\n   33.3224 -436.9096   10.0164 C   0  0  0  0  0  0  0  0  0  0  0  0\\n   97.5418 -179.4083  328.5215 C   0  0  0  0  0  0  0  0  0  0  0  0\\n  -14.9047  123.3781    3.4949 C   0  0  0  0  0  0  0  0  0  0  0  0\\n -135.6613 -320.6682 -214.9075 C   0  0  0  0  0  0  0  0  0  0  0  0\\n -249.9922 -104.3103  269.8604 C   0  0  0  0  0  0  0  0  0  0  0  0\\n   72.9891   27.3966  -19.2182 C   0  0  0  0  0  0  0  0  0  0  0  0\\n -136.5738 -160.0875  224.3333 C   0  0  0  0  0  0  0  0  0  0  0  0\\n  201.4199 -279.8013  -51.3507 C   0  0  0  0  0  0  0  0  0  0  0  0\\n -166.8400   -4.2260  -63.5104 C   0  0  0  0  0  0  0  0  0  0  0  0\\n  -98.1317 -293.4846 -219.8571 C   0  0  0  0  0  0  0  0  0  0  0  0\\n -212.0798  346.6798  119.6181 C   0  0  0  0  0  0  0  0  0  0  0  0\\n   12.4244  207.8104   -3.6162 C   0  0  0  0  0  0  0  0  0  0  0  0\\n  122.9502   77.2011 -212.2015 C   0  0  0  0  0  0  0  0  0  0  0  0\\n  511.4017  130.0000  297.8461 C   0  0  0  0  0  0  0  0  0  0  0  0\\n -284.8801  -72.5991  167.8431 C   0  0  0  0  0  0  0  0  0  0  0  0\\n -271.0635   26.3860  136.3226 C   0  0  0  0  0  0  0  0  0  0  0  0\\n  182.6481   11.3092 -232.9301 C   0  0  0  0  0  0  0  0  0  0  0  0\\n  156.3582 -479.7519 -306.0145 C   0  0  0  0  0  0  0  0  0  0  0  0\\n -164.9550 -300.2792   77.7301 C   0  0  0  0  0  0  0  0  0  0  0  0\\n -161.7924 -425.1912 -165.4325 C   0  0  0  0  0  0  0  0  0  0  0  0\\n -140.2679 -193.1650 -276.7032 C   0  0  0  0  0  0  0  0  0  0  0  0\\n  575.5220 -192.1756 -170.1686 C   0  0  0  0  0  0  0  0  0  0  0  0\\n -294.2641  -15.5165  103.7966 C   0  0  0  0  0  0  0  0  0  0  0  0\\n   -8.9173 -120.5028 -354.6355 C   0  0  0  0  0  0  0  0  0  0  0  0\\n -286.9908  361.9931  163.5412 C   0  0  0  0  0  0  0  0  0  0  0  0\\nM  END\\n\",\"mol\");\n\tviewer_17444771068241572.setStyle({\"stick\": {}});\n\tviewer_17444771068241572.setBackgroundColor(\"white\");\n\tviewer_17444771068241572.zoomTo();\nviewer_17444771068241572.render();\n});\n</script>",
            "text/html": [
              "<div id=\"3dmolviewer_17444771068241572\"  style=\"position: relative; width: 500px; height: 400px;\">\n",
              "        <p id=\"3dmolwarning_17444771068241572\" style=\"background-color:#ffcccc;color:black\">3Dmol.js failed to load for some reason.  Please check your browser console for error messages.<br></p>\n",
              "        </div>\n",
              "<script>\n",
              "\n",
              "var loadScriptAsync = function(uri){\n",
              "  return new Promise((resolve, reject) => {\n",
              "    //this is to ignore the existence of requirejs amd\n",
              "    var savedexports, savedmodule;\n",
              "    if (typeof exports !== 'undefined') savedexports = exports;\n",
              "    else exports = {}\n",
              "    if (typeof module !== 'undefined') savedmodule = module;\n",
              "    else module = {}\n",
              "\n",
              "    var tag = document.createElement('script');\n",
              "    tag.src = uri;\n",
              "    tag.async = true;\n",
              "    tag.onload = () => {\n",
              "        exports = savedexports;\n",
              "        module = savedmodule;\n",
              "        resolve();\n",
              "    };\n",
              "  var firstScriptTag = document.getElementsByTagName('script')[0];\n",
              "  firstScriptTag.parentNode.insertBefore(tag, firstScriptTag);\n",
              "});\n",
              "};\n",
              "\n",
              "if(typeof $3Dmolpromise === 'undefined') {\n",
              "$3Dmolpromise = null;\n",
              "  $3Dmolpromise = loadScriptAsync('https://cdnjs.cloudflare.com/ajax/libs/3Dmol/2.4.2/3Dmol-min.js');\n",
              "}\n",
              "\n",
              "var viewer_17444771068241572 = null;\n",
              "var warn = document.getElementById(\"3dmolwarning_17444771068241572\");\n",
              "if(warn) {\n",
              "    warn.parentNode.removeChild(warn);\n",
              "}\n",
              "$3Dmolpromise.then(function() {\n",
              "viewer_17444771068241572 = $3Dmol.createViewer(document.getElementById(\"3dmolviewer_17444771068241572\"),{backgroundColor:\"white\"});\n",
              "viewer_17444771068241572.zoomTo();\n",
              "\tviewer_17444771068241572.addModel(\"\\n     RDKit          3D\\n\\n 50  0  0  0  0  0  0  0  0  0999 V2000\\n   88.0655  437.7046  -82.7760 C   0  0  0  0  0  0  0  0  0  0  0  0\\n   59.8263 -110.6217 -143.7276 C   0  0  0  0  0  0  0  0  0  0  0  0\\n  -91.4067 -179.0513 -161.4534 C   0  0  0  0  0  0  0  0  0  0  0  0\\n    3.0196  167.8544   -5.9245 C   0  0  0  0  0  0  0  0  0  0  0  0\\n  -32.1006 -295.2130 -306.3420 C   0  0  0  0  0  0  0  0  0  0  0  0\\n -188.5558  -76.9681   29.3712 C   0  0  0  0  0  0  0  0  0  0  0  0\\n  277.3710 -272.7984 -644.0563 C   0  0  0  0  0  0  0  0  0  0  0  0\\n -296.9893  275.7066   -8.7929 C   0  0  0  0  0  0  0  0  0  0  0  0\\n   26.9894   88.8603 -382.7951 C   0  0  0  0  0  0  0  0  0  0  0  0\\n -155.2287   78.2449  528.1646 C   0  0  0  0  0  0  0  0  0  0  0  0\\n  -47.8928 -146.8510 -180.2070 C   0  0  0  0  0  0  0  0  0  0  0  0\\n  242.7733  -48.3070 -199.3843 C   0  0  0  0  0  0  0  0  0  0  0  0\\n -127.8272  233.9364   70.7600 C   0  0  0  0  0  0  0  0  0  0  0  0\\n   91.1475 -397.3792 -381.0522 C   0  0  0  0  0  0  0  0  0  0  0  0\\n   45.1933  -39.0024  518.5803 C   0  0  0  0  0  0  0  0  0  0  0  0\\n   80.6683  261.8318 -140.2548 C   0  0  0  0  0  0  0  0  0  0  0  0\\n -409.0261  -35.2810  -64.7192 C   0  0  0  0  0  0  0  0  0  0  0  0\\n  417.3938  126.2783 -554.1884 C   0  0  0  0  0  0  0  0  0  0  0  0\\n  -19.0393   82.4566  550.6360 C   0  0  0  0  0  0  0  0  0  0  0  0\\n -155.1126  -13.8601 -106.0605 C   0  0  0  0  0  0  0  0  0  0  0  0\\n -362.7376  210.2090  -52.1054 C   0  0  0  0  0  0  0  0  0  0  0  0\\n  -91.7552  251.1125 -447.7981 C   0  0  0  0  0  0  0  0  0  0  0  0\\n  295.2343 -107.1977   27.1764 C   0  0  0  0  0  0  0  0  0  0  0  0\\n  221.8571  -99.9038   76.4140 C   0  0  0  0  0  0  0  0  0  0  0  0\\n   53.3912  -10.3864 -161.3562 C   0  0  0  0  0  0  0  0  0  0  0  0\\n   33.3224 -436.9096   10.0164 C   0  0  0  0  0  0  0  0  0  0  0  0\\n   97.5418 -179.4083  328.5215 C   0  0  0  0  0  0  0  0  0  0  0  0\\n  -14.9047  123.3781    3.4949 C   0  0  0  0  0  0  0  0  0  0  0  0\\n -135.6613 -320.6682 -214.9075 C   0  0  0  0  0  0  0  0  0  0  0  0\\n -249.9922 -104.3103  269.8604 C   0  0  0  0  0  0  0  0  0  0  0  0\\n   72.9891   27.3966  -19.2182 C   0  0  0  0  0  0  0  0  0  0  0  0\\n -136.5738 -160.0875  224.3333 C   0  0  0  0  0  0  0  0  0  0  0  0\\n  201.4199 -279.8013  -51.3507 C   0  0  0  0  0  0  0  0  0  0  0  0\\n -166.8400   -4.2260  -63.5104 C   0  0  0  0  0  0  0  0  0  0  0  0\\n  -98.1317 -293.4846 -219.8571 C   0  0  0  0  0  0  0  0  0  0  0  0\\n -212.0798  346.6798  119.6181 C   0  0  0  0  0  0  0  0  0  0  0  0\\n   12.4244  207.8104   -3.6162 C   0  0  0  0  0  0  0  0  0  0  0  0\\n  122.9502   77.2011 -212.2015 C   0  0  0  0  0  0  0  0  0  0  0  0\\n  511.4017  130.0000  297.8461 C   0  0  0  0  0  0  0  0  0  0  0  0\\n -284.8801  -72.5991  167.8431 C   0  0  0  0  0  0  0  0  0  0  0  0\\n -271.0635   26.3860  136.3226 C   0  0  0  0  0  0  0  0  0  0  0  0\\n  182.6481   11.3092 -232.9301 C   0  0  0  0  0  0  0  0  0  0  0  0\\n  156.3582 -479.7519 -306.0145 C   0  0  0  0  0  0  0  0  0  0  0  0\\n -164.9550 -300.2792   77.7301 C   0  0  0  0  0  0  0  0  0  0  0  0\\n -161.7924 -425.1912 -165.4325 C   0  0  0  0  0  0  0  0  0  0  0  0\\n -140.2679 -193.1650 -276.7032 C   0  0  0  0  0  0  0  0  0  0  0  0\\n  575.5220 -192.1756 -170.1686 C   0  0  0  0  0  0  0  0  0  0  0  0\\n -294.2641  -15.5165  103.7966 C   0  0  0  0  0  0  0  0  0  0  0  0\\n   -8.9173 -120.5028 -354.6355 C   0  0  0  0  0  0  0  0  0  0  0  0\\n -286.9908  361.9931  163.5412 C   0  0  0  0  0  0  0  0  0  0  0  0\\nM  END\\n\",\"mol\");\n",
              "\tviewer_17444771068241572.setStyle({\"stick\": {}});\n",
              "\tviewer_17444771068241572.setBackgroundColor(\"white\");\n",
              "\tviewer_17444771068241572.zoomTo();\n",
              "viewer_17444771068241572.render();\n",
              "});\n",
              "</script>"
            ]
          },
          "metadata": {}
        },
        {
          "output_type": "display_data",
          "data": {
            "text/plain": [
              "None"
            ]
          },
          "metadata": {}
        }
      ]
    },
    {
      "cell_type": "code",
      "source": [
        "T = scheduler.num_train_timesteps  # Number of diffusion steps\n",
        "x = torch.randn((1, max_atoms, 3), device=device)  # Random noisy 3D positions\n",
        "random_coords = x.squeeze(0).cpu().numpy()\n",
        "random_atom_types = ['C'] * max_atoms  # Assume all atoms are Carbon\n",
        "\n",
        "mol_random = coords_to_rdkit_mol(random_coords, random_atom_types)\n",
        "viewer_random = visualize_mol(mol_random)\n",
        "display(viewer_random.show())\n"
      ],
      "metadata": {
        "id": "2FOzww5205zw",
        "outputId": "31ce2901-7ac1-4a70-c9f7-9e94a32dce40",
        "colab": {
          "base_uri": "https://localhost:8080/",
          "height": 489
        }
      },
      "execution_count": 116,
      "outputs": [
        {
          "output_type": "stream",
          "name": "stderr",
          "text": [
            "/usr/local/lib/python3.11/dist-packages/diffusers/configuration_utils.py:140: FutureWarning: Accessing config attribute `num_train_timesteps` directly via 'DDPMScheduler' object attribute is deprecated. Please access 'num_train_timesteps' over 'DDPMScheduler's config object instead, e.g. 'scheduler.config.num_train_timesteps'.\n",
            "  deprecate(\"direct config name access\", \"1.0.0\", deprecation_message, standard_warn=False)\n"
          ]
        },
        {
          "output_type": "display_data",
          "data": {
            "application/3dmoljs_load.v0": "<div id=\"3dmolviewer_17444774189926622\"  style=\"position: relative; width: 500px; height: 400px;\">\n        <p id=\"3dmolwarning_17444774189926622\" style=\"background-color:#ffcccc;color:black\">3Dmol.js failed to load for some reason.  Please check your browser console for error messages.<br></p>\n        </div>\n<script>\n\nvar loadScriptAsync = function(uri){\n  return new Promise((resolve, reject) => {\n    //this is to ignore the existence of requirejs amd\n    var savedexports, savedmodule;\n    if (typeof exports !== 'undefined') savedexports = exports;\n    else exports = {}\n    if (typeof module !== 'undefined') savedmodule = module;\n    else module = {}\n\n    var tag = document.createElement('script');\n    tag.src = uri;\n    tag.async = true;\n    tag.onload = () => {\n        exports = savedexports;\n        module = savedmodule;\n        resolve();\n    };\n  var firstScriptTag = document.getElementsByTagName('script')[0];\n  firstScriptTag.parentNode.insertBefore(tag, firstScriptTag);\n});\n};\n\nif(typeof $3Dmolpromise === 'undefined') {\n$3Dmolpromise = null;\n  $3Dmolpromise = loadScriptAsync('https://cdnjs.cloudflare.com/ajax/libs/3Dmol/2.4.2/3Dmol-min.js');\n}\n\nvar viewer_17444774189926622 = null;\nvar warn = document.getElementById(\"3dmolwarning_17444774189926622\");\nif(warn) {\n    warn.parentNode.removeChild(warn);\n}\n$3Dmolpromise.then(function() {\nviewer_17444774189926622 = $3Dmol.createViewer(document.getElementById(\"3dmolviewer_17444774189926622\"),{backgroundColor:\"white\"});\nviewer_17444774189926622.zoomTo();\n\tviewer_17444774189926622.addModel(\"\\n     RDKit          3D\\n\\n 50  0  0  0  0  0  0  0  0  0999 V2000\\n   -0.7093   -0.4810    0.5846 C   0  0  0  0  0  0  0  0  0  0  0  0\\n    0.3311   -0.6373    0.7609 C   0  0  0  0  0  0  0  0  0  0  0  0\\n   -1.0094   -0.2692   -2.0726 C   0  0  0  0  0  0  0  0  0  0  0  0\\n   -0.4539    0.8538    0.5836 C   0  0  0  0  0  0  0  0  0  0  0  0\\n    0.0354   -0.2229    0.6756 C   0  0  0  0  0  0  0  0  0  0  0  0\\n    1.0519    0.5074   -0.4578 C   0  0  0  0  0  0  0  0  0  0  0  0\\n    0.7015    0.0387   -0.4720 C   0  0  0  0  0  0  0  0  0  0  0  0\\n   -0.3827   -0.3467    0.3404 C   0  0  0  0  0  0  0  0  0  0  0  0\\n    0.3018    0.1250   -0.1993 C   0  0  0  0  0  0  0  0  0  0  0  0\\n    0.7514   -0.2905    0.2908 C   0  0  0  0  0  0  0  0  0  0  0  0\\n   -0.3300    1.0081    0.1400 C   0  0  0  0  0  0  0  0  0  0  0  0\\n   -0.4747    1.0097    0.2224 C   0  0  0  0  0  0  0  0  0  0  0  0\\n   -0.6521   -1.1568    1.0805 C   0  0  0  0  0  0  0  0  0  0  0  0\\n   -1.7109   -1.0111   -2.5181 C   0  0  0  0  0  0  0  0  0  0  0  0\\n    0.6246    0.8833   -1.2765 C   0  0  0  0  0  0  0  0  0  0  0  0\\n   -0.0689   -0.8636   -0.0876 C   0  0  0  0  0  0  0  0  0  0  0  0\\n    0.3275    0.4308    0.5878 C   0  0  0  0  0  0  0  0  0  0  0  0\\n   -0.3587   -0.1661    0.3797 C   0  0  0  0  0  0  0  0  0  0  0  0\\n   -0.6622    1.0929    0.0288 C   0  0  0  0  0  0  0  0  0  0  0  0\\n   -0.2772    0.3989    2.9507 C   0  0  0  0  0  0  0  0  0  0  0  0\\n   -0.2954   -0.0890    1.6865 C   0  0  0  0  0  0  0  0  0  0  0  0\\n    0.2768   -1.1154    0.3353 C   0  0  0  0  0  0  0  0  0  0  0  0\\n   -0.7907    0.3152   -0.5667 C   0  0  0  0  0  0  0  0  0  0  0  0\\n    0.0012    1.3368   -2.3876 C   0  0  0  0  0  0  0  0  0  0  0  0\\n    0.7700    0.1176    0.4729 C   0  0  0  0  0  0  0  0  0  0  0  0\\n    1.6154    0.0468    1.0520 C   0  0  0  0  0  0  0  0  0  0  0  0\\n    1.3840    1.7378    0.8418 C   0  0  0  0  0  0  0  0  0  0  0  0\\n    0.5862   -0.5654   -0.2150 C   0  0  0  0  0  0  0  0  0  0  0  0\\n    1.1346   -0.9521    0.1211 C   0  0  0  0  0  0  0  0  0  0  0  0\\n   -0.0381   -1.3867    0.4926 C   0  0  0  0  0  0  0  0  0  0  0  0\\n    1.4737   -0.7388    0.1356 C   0  0  0  0  0  0  0  0  0  0  0  0\\n    2.3146    0.1228   -0.3738 C   0  0  0  0  0  0  0  0  0  0  0  0\\n    0.9110   -0.0952   -0.9241 C   0  0  0  0  0  0  0  0  0  0  0  0\\n   -0.6427   -0.8392   -0.8890 C   0  0  0  0  0  0  0  0  0  0  0  0\\n    0.3984    1.0333    0.0779 C   0  0  0  0  0  0  0  0  0  0  0  0\\n   -0.5268    0.1137   -0.1492 C   0  0  0  0  0  0  0  0  0  0  0  0\\n    1.4671   -1.0542    0.2093 C   0  0  0  0  0  0  0  0  0  0  0  0\\n    2.1166   -0.6313   -0.6744 C   0  0  0  0  0  0  0  0  0  0  0  0\\n    1.3845    0.5118    1.1706 C   0  0  0  0  0  0  0  0  0  0  0  0\\n   -1.7376    0.8513    0.3264 C   0  0  0  0  0  0  0  0  0  0  0  0\\n    0.4976   -2.4858    0.0247 C   0  0  0  0  0  0  0  0  0  0  0  0\\n   -0.5066   -0.1983   -0.5621 C   0  0  0  0  0  0  0  0  0  0  0  0\\n    0.2673   -0.4756   -0.7283 C   0  0  0  0  0  0  0  0  0  0  0  0\\n    0.3647    0.4708   -0.6176 C   0  0  0  0  0  0  0  0  0  0  0  0\\n   -0.2969    0.3508   -0.9369 C   0  0  0  0  0  0  0  0  0  0  0  0\\n    1.0747   -0.3909   -0.0650 C   0  0  0  0  0  0  0  0  0  0  0  0\\n    0.2349   -0.2607   -0.5078 C   0  0  0  0  0  0  0  0  0  0  0  0\\n   -0.2156    1.0478    0.6341 C   0  0  0  0  0  0  0  0  0  0  0  0\\n   -0.6165   -0.4256    1.3200 C   0  0  0  0  0  0  0  0  0  0  0  0\\n    0.5838    1.5701   -1.1446 C   0  0  0  0  0  0  0  0  0  0  0  0\\nM  END\\n\",\"mol\");\n\tviewer_17444774189926622.setStyle({\"stick\": {}});\n\tviewer_17444774189926622.setBackgroundColor(\"white\");\n\tviewer_17444774189926622.zoomTo();\nviewer_17444774189926622.render();\n});\n</script>",
            "text/html": [
              "<div id=\"3dmolviewer_17444774189926622\"  style=\"position: relative; width: 500px; height: 400px;\">\n",
              "        <p id=\"3dmolwarning_17444774189926622\" style=\"background-color:#ffcccc;color:black\">3Dmol.js failed to load for some reason.  Please check your browser console for error messages.<br></p>\n",
              "        </div>\n",
              "<script>\n",
              "\n",
              "var loadScriptAsync = function(uri){\n",
              "  return new Promise((resolve, reject) => {\n",
              "    //this is to ignore the existence of requirejs amd\n",
              "    var savedexports, savedmodule;\n",
              "    if (typeof exports !== 'undefined') savedexports = exports;\n",
              "    else exports = {}\n",
              "    if (typeof module !== 'undefined') savedmodule = module;\n",
              "    else module = {}\n",
              "\n",
              "    var tag = document.createElement('script');\n",
              "    tag.src = uri;\n",
              "    tag.async = true;\n",
              "    tag.onload = () => {\n",
              "        exports = savedexports;\n",
              "        module = savedmodule;\n",
              "        resolve();\n",
              "    };\n",
              "  var firstScriptTag = document.getElementsByTagName('script')[0];\n",
              "  firstScriptTag.parentNode.insertBefore(tag, firstScriptTag);\n",
              "});\n",
              "};\n",
              "\n",
              "if(typeof $3Dmolpromise === 'undefined') {\n",
              "$3Dmolpromise = null;\n",
              "  $3Dmolpromise = loadScriptAsync('https://cdnjs.cloudflare.com/ajax/libs/3Dmol/2.4.2/3Dmol-min.js');\n",
              "}\n",
              "\n",
              "var viewer_17444774189926622 = null;\n",
              "var warn = document.getElementById(\"3dmolwarning_17444774189926622\");\n",
              "if(warn) {\n",
              "    warn.parentNode.removeChild(warn);\n",
              "}\n",
              "$3Dmolpromise.then(function() {\n",
              "viewer_17444774189926622 = $3Dmol.createViewer(document.getElementById(\"3dmolviewer_17444774189926622\"),{backgroundColor:\"white\"});\n",
              "viewer_17444774189926622.zoomTo();\n",
              "\tviewer_17444774189926622.addModel(\"\\n     RDKit          3D\\n\\n 50  0  0  0  0  0  0  0  0  0999 V2000\\n   -0.7093   -0.4810    0.5846 C   0  0  0  0  0  0  0  0  0  0  0  0\\n    0.3311   -0.6373    0.7609 C   0  0  0  0  0  0  0  0  0  0  0  0\\n   -1.0094   -0.2692   -2.0726 C   0  0  0  0  0  0  0  0  0  0  0  0\\n   -0.4539    0.8538    0.5836 C   0  0  0  0  0  0  0  0  0  0  0  0\\n    0.0354   -0.2229    0.6756 C   0  0  0  0  0  0  0  0  0  0  0  0\\n    1.0519    0.5074   -0.4578 C   0  0  0  0  0  0  0  0  0  0  0  0\\n    0.7015    0.0387   -0.4720 C   0  0  0  0  0  0  0  0  0  0  0  0\\n   -0.3827   -0.3467    0.3404 C   0  0  0  0  0  0  0  0  0  0  0  0\\n    0.3018    0.1250   -0.1993 C   0  0  0  0  0  0  0  0  0  0  0  0\\n    0.7514   -0.2905    0.2908 C   0  0  0  0  0  0  0  0  0  0  0  0\\n   -0.3300    1.0081    0.1400 C   0  0  0  0  0  0  0  0  0  0  0  0\\n   -0.4747    1.0097    0.2224 C   0  0  0  0  0  0  0  0  0  0  0  0\\n   -0.6521   -1.1568    1.0805 C   0  0  0  0  0  0  0  0  0  0  0  0\\n   -1.7109   -1.0111   -2.5181 C   0  0  0  0  0  0  0  0  0  0  0  0\\n    0.6246    0.8833   -1.2765 C   0  0  0  0  0  0  0  0  0  0  0  0\\n   -0.0689   -0.8636   -0.0876 C   0  0  0  0  0  0  0  0  0  0  0  0\\n    0.3275    0.4308    0.5878 C   0  0  0  0  0  0  0  0  0  0  0  0\\n   -0.3587   -0.1661    0.3797 C   0  0  0  0  0  0  0  0  0  0  0  0\\n   -0.6622    1.0929    0.0288 C   0  0  0  0  0  0  0  0  0  0  0  0\\n   -0.2772    0.3989    2.9507 C   0  0  0  0  0  0  0  0  0  0  0  0\\n   -0.2954   -0.0890    1.6865 C   0  0  0  0  0  0  0  0  0  0  0  0\\n    0.2768   -1.1154    0.3353 C   0  0  0  0  0  0  0  0  0  0  0  0\\n   -0.7907    0.3152   -0.5667 C   0  0  0  0  0  0  0  0  0  0  0  0\\n    0.0012    1.3368   -2.3876 C   0  0  0  0  0  0  0  0  0  0  0  0\\n    0.7700    0.1176    0.4729 C   0  0  0  0  0  0  0  0  0  0  0  0\\n    1.6154    0.0468    1.0520 C   0  0  0  0  0  0  0  0  0  0  0  0\\n    1.3840    1.7378    0.8418 C   0  0  0  0  0  0  0  0  0  0  0  0\\n    0.5862   -0.5654   -0.2150 C   0  0  0  0  0  0  0  0  0  0  0  0\\n    1.1346   -0.9521    0.1211 C   0  0  0  0  0  0  0  0  0  0  0  0\\n   -0.0381   -1.3867    0.4926 C   0  0  0  0  0  0  0  0  0  0  0  0\\n    1.4737   -0.7388    0.1356 C   0  0  0  0  0  0  0  0  0  0  0  0\\n    2.3146    0.1228   -0.3738 C   0  0  0  0  0  0  0  0  0  0  0  0\\n    0.9110   -0.0952   -0.9241 C   0  0  0  0  0  0  0  0  0  0  0  0\\n   -0.6427   -0.8392   -0.8890 C   0  0  0  0  0  0  0  0  0  0  0  0\\n    0.3984    1.0333    0.0779 C   0  0  0  0  0  0  0  0  0  0  0  0\\n   -0.5268    0.1137   -0.1492 C   0  0  0  0  0  0  0  0  0  0  0  0\\n    1.4671   -1.0542    0.2093 C   0  0  0  0  0  0  0  0  0  0  0  0\\n    2.1166   -0.6313   -0.6744 C   0  0  0  0  0  0  0  0  0  0  0  0\\n    1.3845    0.5118    1.1706 C   0  0  0  0  0  0  0  0  0  0  0  0\\n   -1.7376    0.8513    0.3264 C   0  0  0  0  0  0  0  0  0  0  0  0\\n    0.4976   -2.4858    0.0247 C   0  0  0  0  0  0  0  0  0  0  0  0\\n   -0.5066   -0.1983   -0.5621 C   0  0  0  0  0  0  0  0  0  0  0  0\\n    0.2673   -0.4756   -0.7283 C   0  0  0  0  0  0  0  0  0  0  0  0\\n    0.3647    0.4708   -0.6176 C   0  0  0  0  0  0  0  0  0  0  0  0\\n   -0.2969    0.3508   -0.9369 C   0  0  0  0  0  0  0  0  0  0  0  0\\n    1.0747   -0.3909   -0.0650 C   0  0  0  0  0  0  0  0  0  0  0  0\\n    0.2349   -0.2607   -0.5078 C   0  0  0  0  0  0  0  0  0  0  0  0\\n   -0.2156    1.0478    0.6341 C   0  0  0  0  0  0  0  0  0  0  0  0\\n   -0.6165   -0.4256    1.3200 C   0  0  0  0  0  0  0  0  0  0  0  0\\n    0.5838    1.5701   -1.1446 C   0  0  0  0  0  0  0  0  0  0  0  0\\nM  END\\n\",\"mol\");\n",
              "\tviewer_17444774189926622.setStyle({\"stick\": {}});\n",
              "\tviewer_17444774189926622.setBackgroundColor(\"white\");\n",
              "\tviewer_17444774189926622.zoomTo();\n",
              "viewer_17444774189926622.render();\n",
              "});\n",
              "</script>"
            ]
          },
          "metadata": {}
        },
        {
          "output_type": "display_data",
          "data": {
            "text/plain": [
              "None"
            ]
          },
          "metadata": {}
        }
      ]
    },
    {
      "cell_type": "code",
      "source": [
        "model.eval()\n",
        "with torch.no_grad():\n",
        "    for t in reversed(range(T)):\n",
        "        t_tensor = torch.full((1,), t, device=device, dtype=torch.float32)\n",
        "        noise_pred = model(x.permute(0, 2, 1), t_tensor).permute(0, 2, 1)\n",
        "\n",
        "        # Update using DDPM reverse formula\n",
        "        x = scheduler.step(noise_pred, t, x).prev_sample\n",
        "        if t % 200 == 0:\n",
        "            coords_t = x.squeeze(0).cpu().numpy()\n",
        "            mol_t = coords_to_rdkit_mol(coords_t, random_atom_types)\n",
        "            viewer_t = visualize_mol(mol_t)\n",
        "            display(viewer_t.show())\n"
      ],
      "metadata": {
        "id": "Rt37HA5g9PKf",
        "outputId": "a21018a2-ce70-4b06-9f50-51f22019a857",
        "colab": {
          "base_uri": "https://localhost:8080/",
          "height": 1000
        }
      },
      "execution_count": 117,
      "outputs": [
        {
          "output_type": "display_data",
          "data": {
            "application/3dmoljs_load.v0": "<div id=\"3dmolviewer_17444774491139555\"  style=\"position: relative; width: 500px; height: 400px;\">\n        <p id=\"3dmolwarning_17444774491139555\" style=\"background-color:#ffcccc;color:black\">3Dmol.js failed to load for some reason.  Please check your browser console for error messages.<br></p>\n        </div>\n<script>\n\nvar loadScriptAsync = function(uri){\n  return new Promise((resolve, reject) => {\n    //this is to ignore the existence of requirejs amd\n    var savedexports, savedmodule;\n    if (typeof exports !== 'undefined') savedexports = exports;\n    else exports = {}\n    if (typeof module !== 'undefined') savedmodule = module;\n    else module = {}\n\n    var tag = document.createElement('script');\n    tag.src = uri;\n    tag.async = true;\n    tag.onload = () => {\n        exports = savedexports;\n        module = savedmodule;\n        resolve();\n    };\n  var firstScriptTag = document.getElementsByTagName('script')[0];\n  firstScriptTag.parentNode.insertBefore(tag, firstScriptTag);\n});\n};\n\nif(typeof $3Dmolpromise === 'undefined') {\n$3Dmolpromise = null;\n  $3Dmolpromise = loadScriptAsync('https://cdnjs.cloudflare.com/ajax/libs/3Dmol/2.4.2/3Dmol-min.js');\n}\n\nvar viewer_17444774491139555 = null;\nvar warn = document.getElementById(\"3dmolwarning_17444774491139555\");\nif(warn) {\n    warn.parentNode.removeChild(warn);\n}\n$3Dmolpromise.then(function() {\nviewer_17444774491139555 = $3Dmol.createViewer(document.getElementById(\"3dmolviewer_17444774491139555\"),{backgroundColor:\"white\"});\nviewer_17444774491139555.zoomTo();\n\tviewer_17444774491139555.addModel(\"\\n     RDKit          3D\\n\\n 50  0  0  0  0  0  0  0  0  0999 V2000\\n   -0.5711   -0.3095    1.8639 C   0  0  0  0  0  0  0  0  0  0  0  0\\n    1.5609   -0.7792   -0.5905 C   0  0  0  0  0  0  0  0  0  0  0  0\\n   -0.2004   -1.5924   -1.3967 C   0  0  0  0  0  0  0  0  0  0  0  0\\n   -1.3066    0.6141    0.4599 C   0  0  0  0  0  0  0  0  0  0  0  0\\n   -0.9457   -0.3716   -0.1634 C   0  0  0  0  0  0  0  0  0  0  0  0\\n   -0.0402    0.1759   -1.0930 C   0  0  0  0  0  0  0  0  0  0  0  0\\n   -0.5505    0.2955   -0.9342 C   0  0  0  0  0  0  0  0  0  0  0  0\\n   -0.1867    0.0199    0.1146 C   0  0  0  0  0  0  0  0  0  0  0  0\\n   -0.1535    0.4494   -0.8366 C   0  0  0  0  0  0  0  0  0  0  0  0\\n   -0.3703   -1.3002   -1.0230 C   0  0  0  0  0  0  0  0  0  0  0  0\\n    0.9619    0.6902   -0.2439 C   0  0  0  0  0  0  0  0  0  0  0  0\\n    0.7569    0.8893   -0.9487 C   0  0  0  0  0  0  0  0  0  0  0  0\\n    0.4688    0.6982   -1.8610 C   0  0  0  0  0  0  0  0  0  0  0  0\\n   -1.5458    0.1892    1.2613 C   0  0  0  0  0  0  0  0  0  0  0  0\\n    0.8361    0.1259   -2.1036 C   0  0  0  0  0  0  0  0  0  0  0  0\\n   -1.5115   -0.7079    1.2877 C   0  0  0  0  0  0  0  0  0  0  0  0\\n   -0.5962    0.9194   -0.3867 C   0  0  0  0  0  0  0  0  0  0  0  0\\n    1.3671    0.4219   -0.0641 C   0  0  0  0  0  0  0  0  0  0  0  0\\n   -0.4961   -0.0097   -0.9178 C   0  0  0  0  0  0  0  0  0  0  0  0\\n   -1.4492    0.2724   -1.2509 C   0  0  0  0  0  0  0  0  0  0  0  0\\n   -0.6495   -0.7535   -0.0773 C   0  0  0  0  0  0  0  0  0  0  0  0\\n   -0.6332   -0.3098   -0.0863 C   0  0  0  0  0  0  0  0  0  0  0  0\\n   -0.6982   -0.9608    0.3331 C   0  0  0  0  0  0  0  0  0  0  0  0\\n    1.2334    0.5436   -0.7257 C   0  0  0  0  0  0  0  0  0  0  0  0\\n    0.5927    0.2880   -0.1855 C   0  0  0  0  0  0  0  0  0  0  0  0\\n    0.4642   -0.2536   -0.0323 C   0  0  0  0  0  0  0  0  0  0  0  0\\n    1.5669    0.2781    2.4219 C   0  0  0  0  0  0  0  0  0  0  0  0\\n    0.0994    0.2673    0.1143 C   0  0  0  0  0  0  0  0  0  0  0  0\\n    1.2452   -1.3207    1.9528 C   0  0  0  0  0  0  0  0  0  0  0  0\\n    1.5161   -0.4331   -2.1964 C   0  0  0  0  0  0  0  0  0  0  0  0\\n   -0.3817   -0.5038    0.2390 C   0  0  0  0  0  0  0  0  0  0  0  0\\n    0.2459    0.2492    1.1479 C   0  0  0  0  0  0  0  0  0  0  0  0\\n   -0.4607   -0.0335   -0.7907 C   0  0  0  0  0  0  0  0  0  0  0  0\\n    0.1237   -2.4171   -0.0259 C   0  0  0  0  0  0  0  0  0  0  0  0\\n   -0.3789    0.8728    0.9589 C   0  0  0  0  0  0  0  0  0  0  0  0\\n    1.4584    1.0572    0.1289 C   0  0  0  0  0  0  0  0  0  0  0  0\\n   -0.0532   -2.7283   -0.9901 C   0  0  0  0  0  0  0  0  0  0  0  0\\n    1.4790   -0.6576    0.5715 C   0  0  0  0  0  0  0  0  0  0  0  0\\n    0.8720    1.0449    0.7618 C   0  0  0  0  0  0  0  0  0  0  0  0\\n   -0.0310    2.5634    1.2286 C   0  0  0  0  0  0  0  0  0  0  0  0\\n   -0.5578   -0.1858    0.5927 C   0  0  0  0  0  0  0  0  0  0  0  0\\n   -0.0659   -1.7799    0.1705 C   0  0  0  0  0  0  0  0  0  0  0  0\\n    0.1500    2.3206    0.8767 C   0  0  0  0  0  0  0  0  0  0  0  0\\n    0.6235    1.6080   -0.4061 C   0  0  0  0  0  0  0  0  0  0  0  0\\n   -0.5645   -1.3443   -0.0130 C   0  0  0  0  0  0  0  0  0  0  0  0\\n    1.8941    0.3584    0.5057 C   0  0  0  0  0  0  0  0  0  0  0  0\\n   -0.7734    1.2294   -0.4734 C   0  0  0  0  0  0  0  0  0  0  0  0\\n    0.1662    0.5982    1.8061 C   0  0  0  0  0  0  0  0  0  0  0  0\\n   -0.1796    1.3853    2.0141 C   0  0  0  0  0  0  0  0  0  0  0  0\\n    0.7698    0.5000    0.5809 C   0  0  0  0  0  0  0  0  0  0  0  0\\nM  END\\n\",\"mol\");\n\tviewer_17444774491139555.setStyle({\"stick\": {}});\n\tviewer_17444774491139555.setBackgroundColor(\"white\");\n\tviewer_17444774491139555.zoomTo();\nviewer_17444774491139555.render();\n});\n</script>",
            "text/html": [
              "<div id=\"3dmolviewer_17444774491139555\"  style=\"position: relative; width: 500px; height: 400px;\">\n",
              "        <p id=\"3dmolwarning_17444774491139555\" style=\"background-color:#ffcccc;color:black\">3Dmol.js failed to load for some reason.  Please check your browser console for error messages.<br></p>\n",
              "        </div>\n",
              "<script>\n",
              "\n",
              "var loadScriptAsync = function(uri){\n",
              "  return new Promise((resolve, reject) => {\n",
              "    //this is to ignore the existence of requirejs amd\n",
              "    var savedexports, savedmodule;\n",
              "    if (typeof exports !== 'undefined') savedexports = exports;\n",
              "    else exports = {}\n",
              "    if (typeof module !== 'undefined') savedmodule = module;\n",
              "    else module = {}\n",
              "\n",
              "    var tag = document.createElement('script');\n",
              "    tag.src = uri;\n",
              "    tag.async = true;\n",
              "    tag.onload = () => {\n",
              "        exports = savedexports;\n",
              "        module = savedmodule;\n",
              "        resolve();\n",
              "    };\n",
              "  var firstScriptTag = document.getElementsByTagName('script')[0];\n",
              "  firstScriptTag.parentNode.insertBefore(tag, firstScriptTag);\n",
              "});\n",
              "};\n",
              "\n",
              "if(typeof $3Dmolpromise === 'undefined') {\n",
              "$3Dmolpromise = null;\n",
              "  $3Dmolpromise = loadScriptAsync('https://cdnjs.cloudflare.com/ajax/libs/3Dmol/2.4.2/3Dmol-min.js');\n",
              "}\n",
              "\n",
              "var viewer_17444774491139555 = null;\n",
              "var warn = document.getElementById(\"3dmolwarning_17444774491139555\");\n",
              "if(warn) {\n",
              "    warn.parentNode.removeChild(warn);\n",
              "}\n",
              "$3Dmolpromise.then(function() {\n",
              "viewer_17444774491139555 = $3Dmol.createViewer(document.getElementById(\"3dmolviewer_17444774491139555\"),{backgroundColor:\"white\"});\n",
              "viewer_17444774491139555.zoomTo();\n",
              "\tviewer_17444774491139555.addModel(\"\\n     RDKit          3D\\n\\n 50  0  0  0  0  0  0  0  0  0999 V2000\\n   -0.5711   -0.3095    1.8639 C   0  0  0  0  0  0  0  0  0  0  0  0\\n    1.5609   -0.7792   -0.5905 C   0  0  0  0  0  0  0  0  0  0  0  0\\n   -0.2004   -1.5924   -1.3967 C   0  0  0  0  0  0  0  0  0  0  0  0\\n   -1.3066    0.6141    0.4599 C   0  0  0  0  0  0  0  0  0  0  0  0\\n   -0.9457   -0.3716   -0.1634 C   0  0  0  0  0  0  0  0  0  0  0  0\\n   -0.0402    0.1759   -1.0930 C   0  0  0  0  0  0  0  0  0  0  0  0\\n   -0.5505    0.2955   -0.9342 C   0  0  0  0  0  0  0  0  0  0  0  0\\n   -0.1867    0.0199    0.1146 C   0  0  0  0  0  0  0  0  0  0  0  0\\n   -0.1535    0.4494   -0.8366 C   0  0  0  0  0  0  0  0  0  0  0  0\\n   -0.3703   -1.3002   -1.0230 C   0  0  0  0  0  0  0  0  0  0  0  0\\n    0.9619    0.6902   -0.2439 C   0  0  0  0  0  0  0  0  0  0  0  0\\n    0.7569    0.8893   -0.9487 C   0  0  0  0  0  0  0  0  0  0  0  0\\n    0.4688    0.6982   -1.8610 C   0  0  0  0  0  0  0  0  0  0  0  0\\n   -1.5458    0.1892    1.2613 C   0  0  0  0  0  0  0  0  0  0  0  0\\n    0.8361    0.1259   -2.1036 C   0  0  0  0  0  0  0  0  0  0  0  0\\n   -1.5115   -0.7079    1.2877 C   0  0  0  0  0  0  0  0  0  0  0  0\\n   -0.5962    0.9194   -0.3867 C   0  0  0  0  0  0  0  0  0  0  0  0\\n    1.3671    0.4219   -0.0641 C   0  0  0  0  0  0  0  0  0  0  0  0\\n   -0.4961   -0.0097   -0.9178 C   0  0  0  0  0  0  0  0  0  0  0  0\\n   -1.4492    0.2724   -1.2509 C   0  0  0  0  0  0  0  0  0  0  0  0\\n   -0.6495   -0.7535   -0.0773 C   0  0  0  0  0  0  0  0  0  0  0  0\\n   -0.6332   -0.3098   -0.0863 C   0  0  0  0  0  0  0  0  0  0  0  0\\n   -0.6982   -0.9608    0.3331 C   0  0  0  0  0  0  0  0  0  0  0  0\\n    1.2334    0.5436   -0.7257 C   0  0  0  0  0  0  0  0  0  0  0  0\\n    0.5927    0.2880   -0.1855 C   0  0  0  0  0  0  0  0  0  0  0  0\\n    0.4642   -0.2536   -0.0323 C   0  0  0  0  0  0  0  0  0  0  0  0\\n    1.5669    0.2781    2.4219 C   0  0  0  0  0  0  0  0  0  0  0  0\\n    0.0994    0.2673    0.1143 C   0  0  0  0  0  0  0  0  0  0  0  0\\n    1.2452   -1.3207    1.9528 C   0  0  0  0  0  0  0  0  0  0  0  0\\n    1.5161   -0.4331   -2.1964 C   0  0  0  0  0  0  0  0  0  0  0  0\\n   -0.3817   -0.5038    0.2390 C   0  0  0  0  0  0  0  0  0  0  0  0\\n    0.2459    0.2492    1.1479 C   0  0  0  0  0  0  0  0  0  0  0  0\\n   -0.4607   -0.0335   -0.7907 C   0  0  0  0  0  0  0  0  0  0  0  0\\n    0.1237   -2.4171   -0.0259 C   0  0  0  0  0  0  0  0  0  0  0  0\\n   -0.3789    0.8728    0.9589 C   0  0  0  0  0  0  0  0  0  0  0  0\\n    1.4584    1.0572    0.1289 C   0  0  0  0  0  0  0  0  0  0  0  0\\n   -0.0532   -2.7283   -0.9901 C   0  0  0  0  0  0  0  0  0  0  0  0\\n    1.4790   -0.6576    0.5715 C   0  0  0  0  0  0  0  0  0  0  0  0\\n    0.8720    1.0449    0.7618 C   0  0  0  0  0  0  0  0  0  0  0  0\\n   -0.0310    2.5634    1.2286 C   0  0  0  0  0  0  0  0  0  0  0  0\\n   -0.5578   -0.1858    0.5927 C   0  0  0  0  0  0  0  0  0  0  0  0\\n   -0.0659   -1.7799    0.1705 C   0  0  0  0  0  0  0  0  0  0  0  0\\n    0.1500    2.3206    0.8767 C   0  0  0  0  0  0  0  0  0  0  0  0\\n    0.6235    1.6080   -0.4061 C   0  0  0  0  0  0  0  0  0  0  0  0\\n   -0.5645   -1.3443   -0.0130 C   0  0  0  0  0  0  0  0  0  0  0  0\\n    1.8941    0.3584    0.5057 C   0  0  0  0  0  0  0  0  0  0  0  0\\n   -0.7734    1.2294   -0.4734 C   0  0  0  0  0  0  0  0  0  0  0  0\\n    0.1662    0.5982    1.8061 C   0  0  0  0  0  0  0  0  0  0  0  0\\n   -0.1796    1.3853    2.0141 C   0  0  0  0  0  0  0  0  0  0  0  0\\n    0.7698    0.5000    0.5809 C   0  0  0  0  0  0  0  0  0  0  0  0\\nM  END\\n\",\"mol\");\n",
              "\tviewer_17444774491139555.setStyle({\"stick\": {}});\n",
              "\tviewer_17444774491139555.setBackgroundColor(\"white\");\n",
              "\tviewer_17444774491139555.zoomTo();\n",
              "viewer_17444774491139555.render();\n",
              "});\n",
              "</script>"
            ]
          },
          "metadata": {}
        },
        {
          "output_type": "display_data",
          "data": {
            "text/plain": [
              "None"
            ]
          },
          "metadata": {}
        },
        {
          "output_type": "display_data",
          "data": {
            "application/3dmoljs_load.v0": "<div id=\"3dmolviewer_17444774495103052\"  style=\"position: relative; width: 500px; height: 400px;\">\n        <p id=\"3dmolwarning_17444774495103052\" style=\"background-color:#ffcccc;color:black\">3Dmol.js failed to load for some reason.  Please check your browser console for error messages.<br></p>\n        </div>\n<script>\n\nvar loadScriptAsync = function(uri){\n  return new Promise((resolve, reject) => {\n    //this is to ignore the existence of requirejs amd\n    var savedexports, savedmodule;\n    if (typeof exports !== 'undefined') savedexports = exports;\n    else exports = {}\n    if (typeof module !== 'undefined') savedmodule = module;\n    else module = {}\n\n    var tag = document.createElement('script');\n    tag.src = uri;\n    tag.async = true;\n    tag.onload = () => {\n        exports = savedexports;\n        module = savedmodule;\n        resolve();\n    };\n  var firstScriptTag = document.getElementsByTagName('script')[0];\n  firstScriptTag.parentNode.insertBefore(tag, firstScriptTag);\n});\n};\n\nif(typeof $3Dmolpromise === 'undefined') {\n$3Dmolpromise = null;\n  $3Dmolpromise = loadScriptAsync('https://cdnjs.cloudflare.com/ajax/libs/3Dmol/2.4.2/3Dmol-min.js');\n}\n\nvar viewer_17444774495103052 = null;\nvar warn = document.getElementById(\"3dmolwarning_17444774495103052\");\nif(warn) {\n    warn.parentNode.removeChild(warn);\n}\n$3Dmolpromise.then(function() {\nviewer_17444774495103052 = $3Dmol.createViewer(document.getElementById(\"3dmolviewer_17444774495103052\"),{backgroundColor:\"white\"});\nviewer_17444774495103052.zoomTo();\n\tviewer_17444774495103052.addModel(\"\\n     RDKit          3D\\n\\n 50  0  0  0  0  0  0  0  0  0999 V2000\\n   -0.0277    0.4524   -0.9078 C   0  0  0  0  0  0  0  0  0  0  0  0\\n    0.4444   -0.5909   -0.6397 C   0  0  0  0  0  0  0  0  0  0  0  0\\n    0.7709   -0.7218   -0.1416 C   0  0  0  0  0  0  0  0  0  0  0  0\\n   -0.6757    0.8050    0.3968 C   0  0  0  0  0  0  0  0  0  0  0  0\\n    0.3916   -1.0227    1.0448 C   0  0  0  0  0  0  0  0  0  0  0  0\\n    0.3809   -0.0248    0.2981 C   0  0  0  0  0  0  0  0  0  0  0  0\\n   -0.6562   -0.5577    1.2885 C   0  0  0  0  0  0  0  0  0  0  0  0\\n   -0.7185    0.8256    0.0689 C   0  0  0  0  0  0  0  0  0  0  0  0\\n    1.5181   -0.4178   -0.9123 C   0  0  0  0  0  0  0  0  0  0  0  0\\n   -0.3390   -1.0358   -2.6218 C   0  0  0  0  0  0  0  0  0  0  0  0\\n    0.6330   -1.0821    0.2239 C   0  0  0  0  0  0  0  0  0  0  0  0\\n    1.3674    0.7689    2.4406 C   0  0  0  0  0  0  0  0  0  0  0  0\\n    0.5284    1.6517   -0.9918 C   0  0  0  0  0  0  0  0  0  0  0  0\\n   -0.8092   -0.2378   -0.3765 C   0  0  0  0  0  0  0  0  0  0  0  0\\n    1.4105   -0.0168   -1.6363 C   0  0  0  0  0  0  0  0  0  0  0  0\\n   -1.3594   -0.5943   -0.3915 C   0  0  0  0  0  0  0  0  0  0  0  0\\n   -0.3393   -1.1803   -2.6653 C   0  0  0  0  0  0  0  0  0  0  0  0\\n    0.2927    0.1663    1.2906 C   0  0  0  0  0  0  0  0  0  0  0  0\\n   -0.5674   -0.3292   -0.5354 C   0  0  0  0  0  0  0  0  0  0  0  0\\n   -2.0055    0.8528   -0.3678 C   0  0  0  0  0  0  0  0  0  0  0  0\\n   -1.1279   -0.3427   -0.1865 C   0  0  0  0  0  0  0  0  0  0  0  0\\n    0.3411   -0.7139    0.3658 C   0  0  0  0  0  0  0  0  0  0  0  0\\n    0.9871    1.3300   -0.4501 C   0  0  0  0  0  0  0  0  0  0  0  0\\n    0.6164    0.0490   -1.0980 C   0  0  0  0  0  0  0  0  0  0  0  0\\n   -2.2001   -1.4049   -1.1065 C   0  0  0  0  0  0  0  0  0  0  0  0\\n   -1.4847    1.2136   -0.0538 C   0  0  0  0  0  0  0  0  0  0  0  0\\n    2.1399    0.4795    0.9834 C   0  0  0  0  0  0  0  0  0  0  0  0\\n   -0.2893    2.0442    0.0331 C   0  0  0  0  0  0  0  0  0  0  0  0\\n   -0.6887   -1.2038    0.0993 C   0  0  0  0  0  0  0  0  0  0  0  0\\n   -0.4497    1.7004   -0.6259 C   0  0  0  0  0  0  0  0  0  0  0  0\\n   -0.5216   -1.7469    1.3667 C   0  0  0  0  0  0  0  0  0  0  0  0\\n   -0.0979    0.1359   -0.7139 C   0  0  0  0  0  0  0  0  0  0  0  0\\n    0.5094    0.4707   -0.2706 C   0  0  0  0  0  0  0  0  0  0  0  0\\n   -0.4338   -1.1230    1.6971 C   0  0  0  0  0  0  0  0  0  0  0  0\\n    1.5216    1.1687    2.0916 C   0  0  0  0  0  0  0  0  0  0  0  0\\n    0.3424    0.2017    0.0089 C   0  0  0  0  0  0  0  0  0  0  0  0\\n   -0.9410    0.4009   -2.3630 C   0  0  0  0  0  0  0  0  0  0  0  0\\n   -1.5283    1.3160   -1.8227 C   0  0  0  0  0  0  0  0  0  0  0  0\\n   -0.5297    0.4430    1.4374 C   0  0  0  0  0  0  0  0  0  0  0  0\\n   -1.2664   -0.1813    1.9006 C   0  0  0  0  0  0  0  0  0  0  0  0\\n   -0.4188   -0.0425   -1.3548 C   0  0  0  0  0  0  0  0  0  0  0  0\\n   -0.4797   -1.1713    0.0138 C   0  0  0  0  0  0  0  0  0  0  0  0\\n    0.2457    1.4069    1.0487 C   0  0  0  0  0  0  0  0  0  0  0  0\\n    1.1971    0.5999   -0.7030 C   0  0  0  0  0  0  0  0  0  0  0  0\\n    0.6353   -1.1170   -0.2103 C   0  0  0  0  0  0  0  0  0  0  0  0\\n    1.5143    0.5078    1.9938 C   0  0  0  0  0  0  0  0  0  0  0  0\\n    1.6357    0.6720    0.3700 C   0  0  0  0  0  0  0  0  0  0  0  0\\n   -0.9228    0.6964   -1.3027 C   0  0  0  0  0  0  0  0  0  0  0  0\\n    0.9717   -0.8957    2.1386 C   0  0  0  0  0  0  0  0  0  0  0  0\\n   -0.3456    0.8856    0.9091 C   0  0  0  0  0  0  0  0  0  0  0  0\\nM  END\\n\",\"mol\");\n\tviewer_17444774495103052.setStyle({\"stick\": {}});\n\tviewer_17444774495103052.setBackgroundColor(\"white\");\n\tviewer_17444774495103052.zoomTo();\nviewer_17444774495103052.render();\n});\n</script>",
            "text/html": [
              "<div id=\"3dmolviewer_17444774495103052\"  style=\"position: relative; width: 500px; height: 400px;\">\n",
              "        <p id=\"3dmolwarning_17444774495103052\" style=\"background-color:#ffcccc;color:black\">3Dmol.js failed to load for some reason.  Please check your browser console for error messages.<br></p>\n",
              "        </div>\n",
              "<script>\n",
              "\n",
              "var loadScriptAsync = function(uri){\n",
              "  return new Promise((resolve, reject) => {\n",
              "    //this is to ignore the existence of requirejs amd\n",
              "    var savedexports, savedmodule;\n",
              "    if (typeof exports !== 'undefined') savedexports = exports;\n",
              "    else exports = {}\n",
              "    if (typeof module !== 'undefined') savedmodule = module;\n",
              "    else module = {}\n",
              "\n",
              "    var tag = document.createElement('script');\n",
              "    tag.src = uri;\n",
              "    tag.async = true;\n",
              "    tag.onload = () => {\n",
              "        exports = savedexports;\n",
              "        module = savedmodule;\n",
              "        resolve();\n",
              "    };\n",
              "  var firstScriptTag = document.getElementsByTagName('script')[0];\n",
              "  firstScriptTag.parentNode.insertBefore(tag, firstScriptTag);\n",
              "});\n",
              "};\n",
              "\n",
              "if(typeof $3Dmolpromise === 'undefined') {\n",
              "$3Dmolpromise = null;\n",
              "  $3Dmolpromise = loadScriptAsync('https://cdnjs.cloudflare.com/ajax/libs/3Dmol/2.4.2/3Dmol-min.js');\n",
              "}\n",
              "\n",
              "var viewer_17444774495103052 = null;\n",
              "var warn = document.getElementById(\"3dmolwarning_17444774495103052\");\n",
              "if(warn) {\n",
              "    warn.parentNode.removeChild(warn);\n",
              "}\n",
              "$3Dmolpromise.then(function() {\n",
              "viewer_17444774495103052 = $3Dmol.createViewer(document.getElementById(\"3dmolviewer_17444774495103052\"),{backgroundColor:\"white\"});\n",
              "viewer_17444774495103052.zoomTo();\n",
              "\tviewer_17444774495103052.addModel(\"\\n     RDKit          3D\\n\\n 50  0  0  0  0  0  0  0  0  0999 V2000\\n   -0.0277    0.4524   -0.9078 C   0  0  0  0  0  0  0  0  0  0  0  0\\n    0.4444   -0.5909   -0.6397 C   0  0  0  0  0  0  0  0  0  0  0  0\\n    0.7709   -0.7218   -0.1416 C   0  0  0  0  0  0  0  0  0  0  0  0\\n   -0.6757    0.8050    0.3968 C   0  0  0  0  0  0  0  0  0  0  0  0\\n    0.3916   -1.0227    1.0448 C   0  0  0  0  0  0  0  0  0  0  0  0\\n    0.3809   -0.0248    0.2981 C   0  0  0  0  0  0  0  0  0  0  0  0\\n   -0.6562   -0.5577    1.2885 C   0  0  0  0  0  0  0  0  0  0  0  0\\n   -0.7185    0.8256    0.0689 C   0  0  0  0  0  0  0  0  0  0  0  0\\n    1.5181   -0.4178   -0.9123 C   0  0  0  0  0  0  0  0  0  0  0  0\\n   -0.3390   -1.0358   -2.6218 C   0  0  0  0  0  0  0  0  0  0  0  0\\n    0.6330   -1.0821    0.2239 C   0  0  0  0  0  0  0  0  0  0  0  0\\n    1.3674    0.7689    2.4406 C   0  0  0  0  0  0  0  0  0  0  0  0\\n    0.5284    1.6517   -0.9918 C   0  0  0  0  0  0  0  0  0  0  0  0\\n   -0.8092   -0.2378   -0.3765 C   0  0  0  0  0  0  0  0  0  0  0  0\\n    1.4105   -0.0168   -1.6363 C   0  0  0  0  0  0  0  0  0  0  0  0\\n   -1.3594   -0.5943   -0.3915 C   0  0  0  0  0  0  0  0  0  0  0  0\\n   -0.3393   -1.1803   -2.6653 C   0  0  0  0  0  0  0  0  0  0  0  0\\n    0.2927    0.1663    1.2906 C   0  0  0  0  0  0  0  0  0  0  0  0\\n   -0.5674   -0.3292   -0.5354 C   0  0  0  0  0  0  0  0  0  0  0  0\\n   -2.0055    0.8528   -0.3678 C   0  0  0  0  0  0  0  0  0  0  0  0\\n   -1.1279   -0.3427   -0.1865 C   0  0  0  0  0  0  0  0  0  0  0  0\\n    0.3411   -0.7139    0.3658 C   0  0  0  0  0  0  0  0  0  0  0  0\\n    0.9871    1.3300   -0.4501 C   0  0  0  0  0  0  0  0  0  0  0  0\\n    0.6164    0.0490   -1.0980 C   0  0  0  0  0  0  0  0  0  0  0  0\\n   -2.2001   -1.4049   -1.1065 C   0  0  0  0  0  0  0  0  0  0  0  0\\n   -1.4847    1.2136   -0.0538 C   0  0  0  0  0  0  0  0  0  0  0  0\\n    2.1399    0.4795    0.9834 C   0  0  0  0  0  0  0  0  0  0  0  0\\n   -0.2893    2.0442    0.0331 C   0  0  0  0  0  0  0  0  0  0  0  0\\n   -0.6887   -1.2038    0.0993 C   0  0  0  0  0  0  0  0  0  0  0  0\\n   -0.4497    1.7004   -0.6259 C   0  0  0  0  0  0  0  0  0  0  0  0\\n   -0.5216   -1.7469    1.3667 C   0  0  0  0  0  0  0  0  0  0  0  0\\n   -0.0979    0.1359   -0.7139 C   0  0  0  0  0  0  0  0  0  0  0  0\\n    0.5094    0.4707   -0.2706 C   0  0  0  0  0  0  0  0  0  0  0  0\\n   -0.4338   -1.1230    1.6971 C   0  0  0  0  0  0  0  0  0  0  0  0\\n    1.5216    1.1687    2.0916 C   0  0  0  0  0  0  0  0  0  0  0  0\\n    0.3424    0.2017    0.0089 C   0  0  0  0  0  0  0  0  0  0  0  0\\n   -0.9410    0.4009   -2.3630 C   0  0  0  0  0  0  0  0  0  0  0  0\\n   -1.5283    1.3160   -1.8227 C   0  0  0  0  0  0  0  0  0  0  0  0\\n   -0.5297    0.4430    1.4374 C   0  0  0  0  0  0  0  0  0  0  0  0\\n   -1.2664   -0.1813    1.9006 C   0  0  0  0  0  0  0  0  0  0  0  0\\n   -0.4188   -0.0425   -1.3548 C   0  0  0  0  0  0  0  0  0  0  0  0\\n   -0.4797   -1.1713    0.0138 C   0  0  0  0  0  0  0  0  0  0  0  0\\n    0.2457    1.4069    1.0487 C   0  0  0  0  0  0  0  0  0  0  0  0\\n    1.1971    0.5999   -0.7030 C   0  0  0  0  0  0  0  0  0  0  0  0\\n    0.6353   -1.1170   -0.2103 C   0  0  0  0  0  0  0  0  0  0  0  0\\n    1.5143    0.5078    1.9938 C   0  0  0  0  0  0  0  0  0  0  0  0\\n    1.6357    0.6720    0.3700 C   0  0  0  0  0  0  0  0  0  0  0  0\\n   -0.9228    0.6964   -1.3027 C   0  0  0  0  0  0  0  0  0  0  0  0\\n    0.9717   -0.8957    2.1386 C   0  0  0  0  0  0  0  0  0  0  0  0\\n   -0.3456    0.8856    0.9091 C   0  0  0  0  0  0  0  0  0  0  0  0\\nM  END\\n\",\"mol\");\n",
              "\tviewer_17444774495103052.setStyle({\"stick\": {}});\n",
              "\tviewer_17444774495103052.setBackgroundColor(\"white\");\n",
              "\tviewer_17444774495103052.zoomTo();\n",
              "viewer_17444774495103052.render();\n",
              "});\n",
              "</script>"
            ]
          },
          "metadata": {}
        },
        {
          "output_type": "display_data",
          "data": {
            "text/plain": [
              "None"
            ]
          },
          "metadata": {}
        },
        {
          "output_type": "display_data",
          "data": {
            "application/3dmoljs_load.v0": "<div id=\"3dmolviewer_17444774498425336\"  style=\"position: relative; width: 500px; height: 400px;\">\n        <p id=\"3dmolwarning_17444774498425336\" style=\"background-color:#ffcccc;color:black\">3Dmol.js failed to load for some reason.  Please check your browser console for error messages.<br></p>\n        </div>\n<script>\n\nvar loadScriptAsync = function(uri){\n  return new Promise((resolve, reject) => {\n    //this is to ignore the existence of requirejs amd\n    var savedexports, savedmodule;\n    if (typeof exports !== 'undefined') savedexports = exports;\n    else exports = {}\n    if (typeof module !== 'undefined') savedmodule = module;\n    else module = {}\n\n    var tag = document.createElement('script');\n    tag.src = uri;\n    tag.async = true;\n    tag.onload = () => {\n        exports = savedexports;\n        module = savedmodule;\n        resolve();\n    };\n  var firstScriptTag = document.getElementsByTagName('script')[0];\n  firstScriptTag.parentNode.insertBefore(tag, firstScriptTag);\n});\n};\n\nif(typeof $3Dmolpromise === 'undefined') {\n$3Dmolpromise = null;\n  $3Dmolpromise = loadScriptAsync('https://cdnjs.cloudflare.com/ajax/libs/3Dmol/2.4.2/3Dmol-min.js');\n}\n\nvar viewer_17444774498425336 = null;\nvar warn = document.getElementById(\"3dmolwarning_17444774498425336\");\nif(warn) {\n    warn.parentNode.removeChild(warn);\n}\n$3Dmolpromise.then(function() {\nviewer_17444774498425336 = $3Dmol.createViewer(document.getElementById(\"3dmolviewer_17444774498425336\"),{backgroundColor:\"white\"});\nviewer_17444774498425336.zoomTo();\n\tviewer_17444774498425336.addModel(\"\\n     RDKit          3D\\n\\n 50  0  0  0  0  0  0  0  0  0999 V2000\\n    0.4811   -1.5443   -0.9089 C   0  0  0  0  0  0  0  0  0  0  0  0\\n    0.6162   -1.2834    0.9143 C   0  0  0  0  0  0  0  0  0  0  0  0\\n    1.6872   -0.7895   -0.1676 C   0  0  0  0  0  0  0  0  0  0  0  0\\n   -0.4913   -0.3930    1.2705 C   0  0  0  0  0  0  0  0  0  0  0  0\\n   -1.7456   -0.8617    1.2020 C   0  0  0  0  0  0  0  0  0  0  0  0\\n   -1.0391    0.2906   -0.7037 C   0  0  0  0  0  0  0  0  0  0  0  0\\n    0.4987    0.1925    0.3825 C   0  0  0  0  0  0  0  0  0  0  0  0\\n    0.2353   -1.5265   -0.1110 C   0  0  0  0  0  0  0  0  0  0  0  0\\n    2.1380    0.7759   -1.8056 C   0  0  0  0  0  0  0  0  0  0  0  0\\n    0.5038    0.8102   -1.1556 C   0  0  0  0  0  0  0  0  0  0  0  0\\n   -0.9117    0.0769    0.1868 C   0  0  0  0  0  0  0  0  0  0  0  0\\n    0.3134    1.0943   -0.9610 C   0  0  0  0  0  0  0  0  0  0  0  0\\n    2.0815    0.0136   -0.9745 C   0  0  0  0  0  0  0  0  0  0  0  0\\n   -0.8948    0.8134    0.6926 C   0  0  0  0  0  0  0  0  0  0  0  0\\n    2.4546   -0.9540   -0.2756 C   0  0  0  0  0  0  0  0  0  0  0  0\\n   -1.5518   -0.7447   -0.3543 C   0  0  0  0  0  0  0  0  0  0  0  0\\n    0.5665   -1.2430   -1.3058 C   0  0  0  0  0  0  0  0  0  0  0  0\\n   -1.2501   -1.2845    1.3948 C   0  0  0  0  0  0  0  0  0  0  0  0\\n   -2.3991    1.2575   -0.5950 C   0  0  0  0  0  0  0  0  0  0  0  0\\n   -2.6991    0.6385   -1.1966 C   0  0  0  0  0  0  0  0  0  0  0  0\\n    1.0956    1.3541   -0.1696 C   0  0  0  0  0  0  0  0  0  0  0  0\\n    1.2632   -0.4181   -1.3920 C   0  0  0  0  0  0  0  0  0  0  0  0\\n    2.3466    0.4872    0.8350 C   0  0  0  0  0  0  0  0  0  0  0  0\\n    1.3929   -0.1893   -0.2346 C   0  0  0  0  0  0  0  0  0  0  0  0\\n   -1.6000   -0.1340    0.1894 C   0  0  0  0  0  0  0  0  0  0  0  0\\n   -1.6163    0.0582    0.0446 C   0  0  0  0  0  0  0  0  0  0  0  0\\n    2.1773    2.4966    0.6760 C   0  0  0  0  0  0  0  0  0  0  0  0\\n    0.7748    0.3083    0.8947 C   0  0  0  0  0  0  0  0  0  0  0  0\\n    0.1662    1.9698    0.2153 C   0  0  0  0  0  0  0  0  0  0  0  0\\n    0.4870   -0.0506   -1.1787 C   0  0  0  0  0  0  0  0  0  0  0  0\\n   -1.5326   -2.3977   -0.0363 C   0  0  0  0  0  0  0  0  0  0  0  0\\n   -0.3401   -0.4777   -0.5486 C   0  0  0  0  0  0  0  0  0  0  0  0\\n    0.0578   -0.3895    1.8960 C   0  0  0  0  0  0  0  0  0  0  0  0\\n   -0.9682   -0.9268   -0.1560 C   0  0  0  0  0  0  0  0  0  0  0  0\\n    0.9449    1.0727    2.0821 C   0  0  0  0  0  0  0  0  0  0  0  0\\n    0.0435    0.2729   -2.3647 C   0  0  0  0  0  0  0  0  0  0  0  0\\n   -0.6466   -0.1079    0.2654 C   0  0  0  0  0  0  0  0  0  0  0  0\\n    0.8690    0.8805   -0.6699 C   0  0  0  0  0  0  0  0  0  0  0  0\\n    0.8003    1.7406   -0.0844 C   0  0  0  0  0  0  0  0  0  0  0  0\\n    0.7996    0.0565    0.4713 C   0  0  0  0  0  0  0  0  0  0  0  0\\n   -0.7357   -0.5347   -1.4976 C   0  0  0  0  0  0  0  0  0  0  0  0\\n   -2.1077   -0.1776   -0.5718 C   0  0  0  0  0  0  0  0  0  0  0  0\\n    0.8595   -0.5859    0.3827 C   0  0  0  0  0  0  0  0  0  0  0  0\\n   -0.3310    0.2484   -1.2257 C   0  0  0  0  0  0  0  0  0  0  0  0\\n    1.3194    1.3709   -2.5132 C   0  0  0  0  0  0  0  0  0  0  0  0\\n    0.0482    0.7836   -0.7101 C   0  0  0  0  0  0  0  0  0  0  0  0\\n    0.5976    1.1310    1.0174 C   0  0  0  0  0  0  0  0  0  0  0  0\\n    0.6797    0.2163   -1.0601 C   0  0  0  0  0  0  0  0  0  0  0  0\\n    1.1602    0.5742    0.3371 C   0  0  0  0  0  0  0  0  0  0  0  0\\n    1.5640    2.8423   -0.5681 C   0  0  0  0  0  0  0  0  0  0  0  0\\nM  END\\n\",\"mol\");\n\tviewer_17444774498425336.setStyle({\"stick\": {}});\n\tviewer_17444774498425336.setBackgroundColor(\"white\");\n\tviewer_17444774498425336.zoomTo();\nviewer_17444774498425336.render();\n});\n</script>",
            "text/html": [
              "<div id=\"3dmolviewer_17444774498425336\"  style=\"position: relative; width: 500px; height: 400px;\">\n",
              "        <p id=\"3dmolwarning_17444774498425336\" style=\"background-color:#ffcccc;color:black\">3Dmol.js failed to load for some reason.  Please check your browser console for error messages.<br></p>\n",
              "        </div>\n",
              "<script>\n",
              "\n",
              "var loadScriptAsync = function(uri){\n",
              "  return new Promise((resolve, reject) => {\n",
              "    //this is to ignore the existence of requirejs amd\n",
              "    var savedexports, savedmodule;\n",
              "    if (typeof exports !== 'undefined') savedexports = exports;\n",
              "    else exports = {}\n",
              "    if (typeof module !== 'undefined') savedmodule = module;\n",
              "    else module = {}\n",
              "\n",
              "    var tag = document.createElement('script');\n",
              "    tag.src = uri;\n",
              "    tag.async = true;\n",
              "    tag.onload = () => {\n",
              "        exports = savedexports;\n",
              "        module = savedmodule;\n",
              "        resolve();\n",
              "    };\n",
              "  var firstScriptTag = document.getElementsByTagName('script')[0];\n",
              "  firstScriptTag.parentNode.insertBefore(tag, firstScriptTag);\n",
              "});\n",
              "};\n",
              "\n",
              "if(typeof $3Dmolpromise === 'undefined') {\n",
              "$3Dmolpromise = null;\n",
              "  $3Dmolpromise = loadScriptAsync('https://cdnjs.cloudflare.com/ajax/libs/3Dmol/2.4.2/3Dmol-min.js');\n",
              "}\n",
              "\n",
              "var viewer_17444774498425336 = null;\n",
              "var warn = document.getElementById(\"3dmolwarning_17444774498425336\");\n",
              "if(warn) {\n",
              "    warn.parentNode.removeChild(warn);\n",
              "}\n",
              "$3Dmolpromise.then(function() {\n",
              "viewer_17444774498425336 = $3Dmol.createViewer(document.getElementById(\"3dmolviewer_17444774498425336\"),{backgroundColor:\"white\"});\n",
              "viewer_17444774498425336.zoomTo();\n",
              "\tviewer_17444774498425336.addModel(\"\\n     RDKit          3D\\n\\n 50  0  0  0  0  0  0  0  0  0999 V2000\\n    0.4811   -1.5443   -0.9089 C   0  0  0  0  0  0  0  0  0  0  0  0\\n    0.6162   -1.2834    0.9143 C   0  0  0  0  0  0  0  0  0  0  0  0\\n    1.6872   -0.7895   -0.1676 C   0  0  0  0  0  0  0  0  0  0  0  0\\n   -0.4913   -0.3930    1.2705 C   0  0  0  0  0  0  0  0  0  0  0  0\\n   -1.7456   -0.8617    1.2020 C   0  0  0  0  0  0  0  0  0  0  0  0\\n   -1.0391    0.2906   -0.7037 C   0  0  0  0  0  0  0  0  0  0  0  0\\n    0.4987    0.1925    0.3825 C   0  0  0  0  0  0  0  0  0  0  0  0\\n    0.2353   -1.5265   -0.1110 C   0  0  0  0  0  0  0  0  0  0  0  0\\n    2.1380    0.7759   -1.8056 C   0  0  0  0  0  0  0  0  0  0  0  0\\n    0.5038    0.8102   -1.1556 C   0  0  0  0  0  0  0  0  0  0  0  0\\n   -0.9117    0.0769    0.1868 C   0  0  0  0  0  0  0  0  0  0  0  0\\n    0.3134    1.0943   -0.9610 C   0  0  0  0  0  0  0  0  0  0  0  0\\n    2.0815    0.0136   -0.9745 C   0  0  0  0  0  0  0  0  0  0  0  0\\n   -0.8948    0.8134    0.6926 C   0  0  0  0  0  0  0  0  0  0  0  0\\n    2.4546   -0.9540   -0.2756 C   0  0  0  0  0  0  0  0  0  0  0  0\\n   -1.5518   -0.7447   -0.3543 C   0  0  0  0  0  0  0  0  0  0  0  0\\n    0.5665   -1.2430   -1.3058 C   0  0  0  0  0  0  0  0  0  0  0  0\\n   -1.2501   -1.2845    1.3948 C   0  0  0  0  0  0  0  0  0  0  0  0\\n   -2.3991    1.2575   -0.5950 C   0  0  0  0  0  0  0  0  0  0  0  0\\n   -2.6991    0.6385   -1.1966 C   0  0  0  0  0  0  0  0  0  0  0  0\\n    1.0956    1.3541   -0.1696 C   0  0  0  0  0  0  0  0  0  0  0  0\\n    1.2632   -0.4181   -1.3920 C   0  0  0  0  0  0  0  0  0  0  0  0\\n    2.3466    0.4872    0.8350 C   0  0  0  0  0  0  0  0  0  0  0  0\\n    1.3929   -0.1893   -0.2346 C   0  0  0  0  0  0  0  0  0  0  0  0\\n   -1.6000   -0.1340    0.1894 C   0  0  0  0  0  0  0  0  0  0  0  0\\n   -1.6163    0.0582    0.0446 C   0  0  0  0  0  0  0  0  0  0  0  0\\n    2.1773    2.4966    0.6760 C   0  0  0  0  0  0  0  0  0  0  0  0\\n    0.7748    0.3083    0.8947 C   0  0  0  0  0  0  0  0  0  0  0  0\\n    0.1662    1.9698    0.2153 C   0  0  0  0  0  0  0  0  0  0  0  0\\n    0.4870   -0.0506   -1.1787 C   0  0  0  0  0  0  0  0  0  0  0  0\\n   -1.5326   -2.3977   -0.0363 C   0  0  0  0  0  0  0  0  0  0  0  0\\n   -0.3401   -0.4777   -0.5486 C   0  0  0  0  0  0  0  0  0  0  0  0\\n    0.0578   -0.3895    1.8960 C   0  0  0  0  0  0  0  0  0  0  0  0\\n   -0.9682   -0.9268   -0.1560 C   0  0  0  0  0  0  0  0  0  0  0  0\\n    0.9449    1.0727    2.0821 C   0  0  0  0  0  0  0  0  0  0  0  0\\n    0.0435    0.2729   -2.3647 C   0  0  0  0  0  0  0  0  0  0  0  0\\n   -0.6466   -0.1079    0.2654 C   0  0  0  0  0  0  0  0  0  0  0  0\\n    0.8690    0.8805   -0.6699 C   0  0  0  0  0  0  0  0  0  0  0  0\\n    0.8003    1.7406   -0.0844 C   0  0  0  0  0  0  0  0  0  0  0  0\\n    0.7996    0.0565    0.4713 C   0  0  0  0  0  0  0  0  0  0  0  0\\n   -0.7357   -0.5347   -1.4976 C   0  0  0  0  0  0  0  0  0  0  0  0\\n   -2.1077   -0.1776   -0.5718 C   0  0  0  0  0  0  0  0  0  0  0  0\\n    0.8595   -0.5859    0.3827 C   0  0  0  0  0  0  0  0  0  0  0  0\\n   -0.3310    0.2484   -1.2257 C   0  0  0  0  0  0  0  0  0  0  0  0\\n    1.3194    1.3709   -2.5132 C   0  0  0  0  0  0  0  0  0  0  0  0\\n    0.0482    0.7836   -0.7101 C   0  0  0  0  0  0  0  0  0  0  0  0\\n    0.5976    1.1310    1.0174 C   0  0  0  0  0  0  0  0  0  0  0  0\\n    0.6797    0.2163   -1.0601 C   0  0  0  0  0  0  0  0  0  0  0  0\\n    1.1602    0.5742    0.3371 C   0  0  0  0  0  0  0  0  0  0  0  0\\n    1.5640    2.8423   -0.5681 C   0  0  0  0  0  0  0  0  0  0  0  0\\nM  END\\n\",\"mol\");\n",
              "\tviewer_17444774498425336.setStyle({\"stick\": {}});\n",
              "\tviewer_17444774498425336.setBackgroundColor(\"white\");\n",
              "\tviewer_17444774498425336.zoomTo();\n",
              "viewer_17444774498425336.render();\n",
              "});\n",
              "</script>"
            ]
          },
          "metadata": {}
        },
        {
          "output_type": "display_data",
          "data": {
            "text/plain": [
              "None"
            ]
          },
          "metadata": {}
        },
        {
          "output_type": "display_data",
          "data": {
            "application/3dmoljs_load.v0": "<div id=\"3dmolviewer_17444774500493157\"  style=\"position: relative; width: 500px; height: 400px;\">\n        <p id=\"3dmolwarning_17444774500493157\" style=\"background-color:#ffcccc;color:black\">3Dmol.js failed to load for some reason.  Please check your browser console for error messages.<br></p>\n        </div>\n<script>\n\nvar loadScriptAsync = function(uri){\n  return new Promise((resolve, reject) => {\n    //this is to ignore the existence of requirejs amd\n    var savedexports, savedmodule;\n    if (typeof exports !== 'undefined') savedexports = exports;\n    else exports = {}\n    if (typeof module !== 'undefined') savedmodule = module;\n    else module = {}\n\n    var tag = document.createElement('script');\n    tag.src = uri;\n    tag.async = true;\n    tag.onload = () => {\n        exports = savedexports;\n        module = savedmodule;\n        resolve();\n    };\n  var firstScriptTag = document.getElementsByTagName('script')[0];\n  firstScriptTag.parentNode.insertBefore(tag, firstScriptTag);\n});\n};\n\nif(typeof $3Dmolpromise === 'undefined') {\n$3Dmolpromise = null;\n  $3Dmolpromise = loadScriptAsync('https://cdnjs.cloudflare.com/ajax/libs/3Dmol/2.4.2/3Dmol-min.js');\n}\n\nvar viewer_17444774500493157 = null;\nvar warn = document.getElementById(\"3dmolwarning_17444774500493157\");\nif(warn) {\n    warn.parentNode.removeChild(warn);\n}\n$3Dmolpromise.then(function() {\nviewer_17444774500493157 = $3Dmol.createViewer(document.getElementById(\"3dmolviewer_17444774500493157\"),{backgroundColor:\"white\"});\nviewer_17444774500493157.zoomTo();\n\tviewer_17444774500493157.addModel(\"\\n     RDKit          3D\\n\\n 50  0  0  0  0  0  0  0  0  0999 V2000\\n    0.8463   -1.0134   -1.3819 C   0  0  0  0  0  0  0  0  0  0  0  0\\n   -1.8006   -0.5716    0.8735 C   0  0  0  0  0  0  0  0  0  0  0  0\\n    0.8298   -0.9420   -1.2708 C   0  0  0  0  0  0  0  0  0  0  0  0\\n   -0.4460   -1.2033    1.5864 C   0  0  0  0  0  0  0  0  0  0  0  0\\n   -1.2649    0.9253    0.4746 C   0  0  0  0  0  0  0  0  0  0  0  0\\n   -2.0308    0.8602   -0.1148 C   0  0  0  0  0  0  0  0  0  0  0  0\\n    0.6038    0.7279   -0.4022 C   0  0  0  0  0  0  0  0  0  0  0  0\\n   -0.6135   -1.1079    1.2677 C   0  0  0  0  0  0  0  0  0  0  0  0\\n   -0.3039    0.2066   -1.1611 C   0  0  0  0  0  0  0  0  0  0  0  0\\n   -1.1841   -0.7345    0.5110 C   0  0  0  0  0  0  0  0  0  0  0  0\\n   -0.5882    1.1779   -1.4650 C   0  0  0  0  0  0  0  0  0  0  0  0\\n   -0.4712    1.0437    0.1505 C   0  0  0  0  0  0  0  0  0  0  0  0\\n    1.7476    1.5719    1.8373 C   0  0  0  0  0  0  0  0  0  0  0  0\\n   -1.6730    0.9202    1.6693 C   0  0  0  0  0  0  0  0  0  0  0  0\\n    1.4225   -0.3972    0.7824 C   0  0  0  0  0  0  0  0  0  0  0  0\\n   -0.9969   -1.1550   -0.3579 C   0  0  0  0  0  0  0  0  0  0  0  0\\n    0.9486    0.1725   -1.3649 C   0  0  0  0  0  0  0  0  0  0  0  0\\n   -0.8965   -1.6726    0.5722 C   0  0  0  0  0  0  0  0  0  0  0  0\\n   -1.4872    1.8213   -0.3754 C   0  0  0  0  0  0  0  0  0  0  0  0\\n   -1.0849   -0.1210   -1.2512 C   0  0  0  0  0  0  0  0  0  0  0  0\\n    0.8541    1.4737   -0.3519 C   0  0  0  0  0  0  0  0  0  0  0  0\\n    0.5811   -1.7273   -1.1797 C   0  0  0  0  0  0  0  0  0  0  0  0\\n    1.0281   -0.1312    0.9590 C   0  0  0  0  0  0  0  0  0  0  0  0\\n    1.0748   -0.8184    0.7894 C   0  0  0  0  0  0  0  0  0  0  0  0\\n   -0.8367   -0.3422    1.0058 C   0  0  0  0  0  0  0  0  0  0  0  0\\n   -1.4039    0.4696    0.6942 C   0  0  0  0  0  0  0  0  0  0  0  0\\n    1.0671    0.8169    1.6937 C   0  0  0  0  0  0  0  0  0  0  0  0\\n    1.2502    1.1331    0.1309 C   0  0  0  0  0  0  0  0  0  0  0  0\\n   -0.1170    1.3648    1.4919 C   0  0  0  0  0  0  0  0  0  0  0  0\\n   -1.0104   -0.9755   -2.0430 C   0  0  0  0  0  0  0  0  0  0  0  0\\n   -1.7467   -1.2854    0.3163 C   0  0  0  0  0  0  0  0  0  0  0  0\\n    0.4999   -0.6081   -1.4205 C   0  0  0  0  0  0  0  0  0  0  0  0\\n   -2.1655   -0.9433    1.1941 C   0  0  0  0  0  0  0  0  0  0  0  0\\n   -1.6602   -1.8604   -0.9563 C   0  0  0  0  0  0  0  0  0  0  0  0\\n    0.4976    1.3335    1.7917 C   0  0  0  0  0  0  0  0  0  0  0  0\\n   -0.1753    0.4090   -1.2151 C   0  0  0  0  0  0  0  0  0  0  0  0\\n   -0.8247    0.1520    1.5758 C   0  0  0  0  0  0  0  0  0  0  0  0\\n    0.9153   -1.0048    0.2617 C   0  0  0  0  0  0  0  0  0  0  0  0\\n   -0.4481    1.8260    0.4084 C   0  0  0  0  0  0  0  0  0  0  0  0\\n   -0.1979    0.7455    0.8088 C   0  0  0  0  0  0  0  0  0  0  0  0\\n   -0.8207   -0.9533   -2.0439 C   0  0  0  0  0  0  0  0  0  0  0  0\\n    0.5423   -1.3529    0.0396 C   0  0  0  0  0  0  0  0  0  0  0  0\\n    0.7155   -1.2050   -1.4033 C   0  0  0  0  0  0  0  0  0  0  0  0\\n   -1.1979   -0.7605   -1.2023 C   0  0  0  0  0  0  0  0  0  0  0  0\\n    1.1632    1.3087   -1.2935 C   0  0  0  0  0  0  0  0  0  0  0  0\\n    0.8359    0.3281   -1.6168 C   0  0  0  0  0  0  0  0  0  0  0  0\\n    1.4945   -1.2892    1.2217 C   0  0  0  0  0  0  0  0  0  0  0  0\\n   -0.9005    1.1036   -0.5696 C   0  0  0  0  0  0  0  0  0  0  0  0\\n    2.0415   -1.0636    0.7955 C   0  0  0  0  0  0  0  0  0  0  0  0\\n    1.6164    1.9089   -1.0333 C   0  0  0  0  0  0  0  0  0  0  0  0\\nM  END\\n\",\"mol\");\n\tviewer_17444774500493157.setStyle({\"stick\": {}});\n\tviewer_17444774500493157.setBackgroundColor(\"white\");\n\tviewer_17444774500493157.zoomTo();\nviewer_17444774500493157.render();\n});\n</script>",
            "text/html": [
              "<div id=\"3dmolviewer_17444774500493157\"  style=\"position: relative; width: 500px; height: 400px;\">\n",
              "        <p id=\"3dmolwarning_17444774500493157\" style=\"background-color:#ffcccc;color:black\">3Dmol.js failed to load for some reason.  Please check your browser console for error messages.<br></p>\n",
              "        </div>\n",
              "<script>\n",
              "\n",
              "var loadScriptAsync = function(uri){\n",
              "  return new Promise((resolve, reject) => {\n",
              "    //this is to ignore the existence of requirejs amd\n",
              "    var savedexports, savedmodule;\n",
              "    if (typeof exports !== 'undefined') savedexports = exports;\n",
              "    else exports = {}\n",
              "    if (typeof module !== 'undefined') savedmodule = module;\n",
              "    else module = {}\n",
              "\n",
              "    var tag = document.createElement('script');\n",
              "    tag.src = uri;\n",
              "    tag.async = true;\n",
              "    tag.onload = () => {\n",
              "        exports = savedexports;\n",
              "        module = savedmodule;\n",
              "        resolve();\n",
              "    };\n",
              "  var firstScriptTag = document.getElementsByTagName('script')[0];\n",
              "  firstScriptTag.parentNode.insertBefore(tag, firstScriptTag);\n",
              "});\n",
              "};\n",
              "\n",
              "if(typeof $3Dmolpromise === 'undefined') {\n",
              "$3Dmolpromise = null;\n",
              "  $3Dmolpromise = loadScriptAsync('https://cdnjs.cloudflare.com/ajax/libs/3Dmol/2.4.2/3Dmol-min.js');\n",
              "}\n",
              "\n",
              "var viewer_17444774500493157 = null;\n",
              "var warn = document.getElementById(\"3dmolwarning_17444774500493157\");\n",
              "if(warn) {\n",
              "    warn.parentNode.removeChild(warn);\n",
              "}\n",
              "$3Dmolpromise.then(function() {\n",
              "viewer_17444774500493157 = $3Dmol.createViewer(document.getElementById(\"3dmolviewer_17444774500493157\"),{backgroundColor:\"white\"});\n",
              "viewer_17444774500493157.zoomTo();\n",
              "\tviewer_17444774500493157.addModel(\"\\n     RDKit          3D\\n\\n 50  0  0  0  0  0  0  0  0  0999 V2000\\n    0.8463   -1.0134   -1.3819 C   0  0  0  0  0  0  0  0  0  0  0  0\\n   -1.8006   -0.5716    0.8735 C   0  0  0  0  0  0  0  0  0  0  0  0\\n    0.8298   -0.9420   -1.2708 C   0  0  0  0  0  0  0  0  0  0  0  0\\n   -0.4460   -1.2033    1.5864 C   0  0  0  0  0  0  0  0  0  0  0  0\\n   -1.2649    0.9253    0.4746 C   0  0  0  0  0  0  0  0  0  0  0  0\\n   -2.0308    0.8602   -0.1148 C   0  0  0  0  0  0  0  0  0  0  0  0\\n    0.6038    0.7279   -0.4022 C   0  0  0  0  0  0  0  0  0  0  0  0\\n   -0.6135   -1.1079    1.2677 C   0  0  0  0  0  0  0  0  0  0  0  0\\n   -0.3039    0.2066   -1.1611 C   0  0  0  0  0  0  0  0  0  0  0  0\\n   -1.1841   -0.7345    0.5110 C   0  0  0  0  0  0  0  0  0  0  0  0\\n   -0.5882    1.1779   -1.4650 C   0  0  0  0  0  0  0  0  0  0  0  0\\n   -0.4712    1.0437    0.1505 C   0  0  0  0  0  0  0  0  0  0  0  0\\n    1.7476    1.5719    1.8373 C   0  0  0  0  0  0  0  0  0  0  0  0\\n   -1.6730    0.9202    1.6693 C   0  0  0  0  0  0  0  0  0  0  0  0\\n    1.4225   -0.3972    0.7824 C   0  0  0  0  0  0  0  0  0  0  0  0\\n   -0.9969   -1.1550   -0.3579 C   0  0  0  0  0  0  0  0  0  0  0  0\\n    0.9486    0.1725   -1.3649 C   0  0  0  0  0  0  0  0  0  0  0  0\\n   -0.8965   -1.6726    0.5722 C   0  0  0  0  0  0  0  0  0  0  0  0\\n   -1.4872    1.8213   -0.3754 C   0  0  0  0  0  0  0  0  0  0  0  0\\n   -1.0849   -0.1210   -1.2512 C   0  0  0  0  0  0  0  0  0  0  0  0\\n    0.8541    1.4737   -0.3519 C   0  0  0  0  0  0  0  0  0  0  0  0\\n    0.5811   -1.7273   -1.1797 C   0  0  0  0  0  0  0  0  0  0  0  0\\n    1.0281   -0.1312    0.9590 C   0  0  0  0  0  0  0  0  0  0  0  0\\n    1.0748   -0.8184    0.7894 C   0  0  0  0  0  0  0  0  0  0  0  0\\n   -0.8367   -0.3422    1.0058 C   0  0  0  0  0  0  0  0  0  0  0  0\\n   -1.4039    0.4696    0.6942 C   0  0  0  0  0  0  0  0  0  0  0  0\\n    1.0671    0.8169    1.6937 C   0  0  0  0  0  0  0  0  0  0  0  0\\n    1.2502    1.1331    0.1309 C   0  0  0  0  0  0  0  0  0  0  0  0\\n   -0.1170    1.3648    1.4919 C   0  0  0  0  0  0  0  0  0  0  0  0\\n   -1.0104   -0.9755   -2.0430 C   0  0  0  0  0  0  0  0  0  0  0  0\\n   -1.7467   -1.2854    0.3163 C   0  0  0  0  0  0  0  0  0  0  0  0\\n    0.4999   -0.6081   -1.4205 C   0  0  0  0  0  0  0  0  0  0  0  0\\n   -2.1655   -0.9433    1.1941 C   0  0  0  0  0  0  0  0  0  0  0  0\\n   -1.6602   -1.8604   -0.9563 C   0  0  0  0  0  0  0  0  0  0  0  0\\n    0.4976    1.3335    1.7917 C   0  0  0  0  0  0  0  0  0  0  0  0\\n   -0.1753    0.4090   -1.2151 C   0  0  0  0  0  0  0  0  0  0  0  0\\n   -0.8247    0.1520    1.5758 C   0  0  0  0  0  0  0  0  0  0  0  0\\n    0.9153   -1.0048    0.2617 C   0  0  0  0  0  0  0  0  0  0  0  0\\n   -0.4481    1.8260    0.4084 C   0  0  0  0  0  0  0  0  0  0  0  0\\n   -0.1979    0.7455    0.8088 C   0  0  0  0  0  0  0  0  0  0  0  0\\n   -0.8207   -0.9533   -2.0439 C   0  0  0  0  0  0  0  0  0  0  0  0\\n    0.5423   -1.3529    0.0396 C   0  0  0  0  0  0  0  0  0  0  0  0\\n    0.7155   -1.2050   -1.4033 C   0  0  0  0  0  0  0  0  0  0  0  0\\n   -1.1979   -0.7605   -1.2023 C   0  0  0  0  0  0  0  0  0  0  0  0\\n    1.1632    1.3087   -1.2935 C   0  0  0  0  0  0  0  0  0  0  0  0\\n    0.8359    0.3281   -1.6168 C   0  0  0  0  0  0  0  0  0  0  0  0\\n    1.4945   -1.2892    1.2217 C   0  0  0  0  0  0  0  0  0  0  0  0\\n   -0.9005    1.1036   -0.5696 C   0  0  0  0  0  0  0  0  0  0  0  0\\n    2.0415   -1.0636    0.7955 C   0  0  0  0  0  0  0  0  0  0  0  0\\n    1.6164    1.9089   -1.0333 C   0  0  0  0  0  0  0  0  0  0  0  0\\nM  END\\n\",\"mol\");\n",
              "\tviewer_17444774500493157.setStyle({\"stick\": {}});\n",
              "\tviewer_17444774500493157.setBackgroundColor(\"white\");\n",
              "\tviewer_17444774500493157.zoomTo();\n",
              "viewer_17444774500493157.render();\n",
              "});\n",
              "</script>"
            ]
          },
          "metadata": {}
        },
        {
          "output_type": "display_data",
          "data": {
            "text/plain": [
              "None"
            ]
          },
          "metadata": {}
        },
        {
          "output_type": "display_data",
          "data": {
            "application/3dmoljs_load.v0": "<div id=\"3dmolviewer_17444774502326038\"  style=\"position: relative; width: 500px; height: 400px;\">\n        <p id=\"3dmolwarning_17444774502326038\" style=\"background-color:#ffcccc;color:black\">3Dmol.js failed to load for some reason.  Please check your browser console for error messages.<br></p>\n        </div>\n<script>\n\nvar loadScriptAsync = function(uri){\n  return new Promise((resolve, reject) => {\n    //this is to ignore the existence of requirejs amd\n    var savedexports, savedmodule;\n    if (typeof exports !== 'undefined') savedexports = exports;\n    else exports = {}\n    if (typeof module !== 'undefined') savedmodule = module;\n    else module = {}\n\n    var tag = document.createElement('script');\n    tag.src = uri;\n    tag.async = true;\n    tag.onload = () => {\n        exports = savedexports;\n        module = savedmodule;\n        resolve();\n    };\n  var firstScriptTag = document.getElementsByTagName('script')[0];\n  firstScriptTag.parentNode.insertBefore(tag, firstScriptTag);\n});\n};\n\nif(typeof $3Dmolpromise === 'undefined') {\n$3Dmolpromise = null;\n  $3Dmolpromise = loadScriptAsync('https://cdnjs.cloudflare.com/ajax/libs/3Dmol/2.4.2/3Dmol-min.js');\n}\n\nvar viewer_17444774502326038 = null;\nvar warn = document.getElementById(\"3dmolwarning_17444774502326038\");\nif(warn) {\n    warn.parentNode.removeChild(warn);\n}\n$3Dmolpromise.then(function() {\nviewer_17444774502326038 = $3Dmol.createViewer(document.getElementById(\"3dmolviewer_17444774502326038\"),{backgroundColor:\"white\"});\nviewer_17444774502326038.zoomTo();\n\tviewer_17444774502326038.addModel(\"\\n     RDKit          3D\\n\\n 50  0  0  0  0  0  0  0  0  0999 V2000\\n    0.7322   -0.9918   -0.7690 C   0  0  0  0  0  0  0  0  0  0  0  0\\n   -0.7454   -0.9233    0.4788 C   0  0  0  0  0  0  0  0  0  0  0  0\\n    0.9697   -0.9937   -0.8180 C   0  0  0  0  0  0  0  0  0  0  0  0\\n   -0.1695   -1.0000    0.4902 C   0  0  0  0  0  0  0  0  0  0  0  0\\n   -0.9612    0.4246    0.1548 C   0  0  0  0  0  0  0  0  0  0  0  0\\n   -0.9237    0.9934   -1.0000 C   0  0  0  0  0  0  0  0  0  0  0  0\\n    0.4587    1.0000    0.6247 C   0  0  0  0  0  0  0  0  0  0  0  0\\n    0.4712   -0.2032    0.8570 C   0  0  0  0  0  0  0  0  0  0  0  0\\n   -0.1635    0.4567   -0.8385 C   0  0  0  0  0  0  0  0  0  0  0  0\\n   -1.0000    0.0303    0.7094 C   0  0  0  0  0  0  0  0  0  0  0  0\\n   -1.0000    1.0000   -1.0000 C   0  0  0  0  0  0  0  0  0  0  0  0\\n    0.3040    0.5527    0.3277 C   0  0  0  0  0  0  0  0  0  0  0  0\\n    0.6225    0.7608    0.9998 C   0  0  0  0  0  0  0  0  0  0  0  0\\n   -0.9745    1.0000    0.9800 C   0  0  0  0  0  0  0  0  0  0  0  0\\n    0.7339   -0.6353    0.9909 C   0  0  0  0  0  0  0  0  0  0  0  0\\n   -0.6594   -0.8133   -0.3430 C   0  0  0  0  0  0  0  0  0  0  0  0\\n    0.9085    0.1029   -0.9934 C   0  0  0  0  0  0  0  0  0  0  0  0\\n   -0.8596   -0.9511    0.2655 C   0  0  0  0  0  0  0  0  0  0  0  0\\n    0.5541    0.6052    0.4291 C   0  0  0  0  0  0  0  0  0  0  0  0\\n   -0.0263   -0.7300   -1.0000 C   0  0  0  0  0  0  0  0  0  0  0  0\\n    0.7268    0.9672    0.0308 C   0  0  0  0  0  0  0  0  0  0  0  0\\n    0.1753   -0.7385   -0.6773 C   0  0  0  0  0  0  0  0  0  0  0  0\\n    0.0732   -0.6589    0.9618 C   0  0  0  0  0  0  0  0  0  0  0  0\\n    0.6555   -0.6098    0.8560 C   0  0  0  0  0  0  0  0  0  0  0  0\\n   -0.8660   -0.8111    1.0000 C   0  0  0  0  0  0  0  0  0  0  0  0\\n   -0.6595    0.1520   -0.3721 C   0  0  0  0  0  0  0  0  0  0  0  0\\n    0.6485    0.3098    0.8324 C   0  0  0  0  0  0  0  0  0  0  0  0\\n    0.9964    0.6509   -0.6907 C   0  0  0  0  0  0  0  0  0  0  0  0\\n    0.8508    1.0000    0.5407 C   0  0  0  0  0  0  0  0  0  0  0  0\\n   -1.0000   -0.9072   -0.8423 C   0  0  0  0  0  0  0  0  0  0  0  0\\n   -0.9711   -0.8621    0.5281 C   0  0  0  0  0  0  0  0  0  0  0  0\\n    0.6270   -0.3805   -0.9942 C   0  0  0  0  0  0  0  0  0  0  0  0\\n   -0.9393   -0.5410    0.5930 C   0  0  0  0  0  0  0  0  0  0  0  0\\n   -0.9779   -0.8099   -0.3704 C   0  0  0  0  0  0  0  0  0  0  0  0\\n    0.7148    0.9327    0.6971 C   0  0  0  0  0  0  0  0  0  0  0  0\\n   -1.0000    1.0000   -0.5265 C   0  0  0  0  0  0  0  0  0  0  0  0\\n   -0.7253   -0.2030    0.9645 C   0  0  0  0  0  0  0  0  0  0  0  0\\n    0.7829   -1.0000    0.0146 C   0  0  0  0  0  0  0  0  0  0  0  0\\n    0.3813    1.0000    1.0000 C   0  0  0  0  0  0  0  0  0  0  0  0\\n   -0.9329    0.9713    0.9947 C   0  0  0  0  0  0  0  0  0  0  0  0\\n   -0.6292   -0.9400   -0.9931 C   0  0  0  0  0  0  0  0  0  0  0  0\\n    0.5567   -0.9893   -0.6212 C   0  0  0  0  0  0  0  0  0  0  0  0\\n    0.9996   -0.9810   -0.9498 C   0  0  0  0  0  0  0  0  0  0  0  0\\n   -0.5645   -1.0000   -0.8756 C   0  0  0  0  0  0  0  0  0  0  0  0\\n    0.7852    0.5273   -0.9974 C   0  0  0  0  0  0  0  0  0  0  0  0\\n    0.9950    0.0222   -1.0000 C   0  0  0  0  0  0  0  0  0  0  0  0\\n    0.7621   -0.8502    0.6796 C   0  0  0  0  0  0  0  0  0  0  0  0\\n   -0.9910    0.9697    0.4015 C   0  0  0  0  0  0  0  0  0  0  0  0\\n    0.8845   -0.9801    0.7939 C   0  0  0  0  0  0  0  0  0  0  0  0\\n    0.9821    0.9737   -0.7730 C   0  0  0  0  0  0  0  0  0  0  0  0\\nM  END\\n\",\"mol\");\n\tviewer_17444774502326038.setStyle({\"stick\": {}});\n\tviewer_17444774502326038.setBackgroundColor(\"white\");\n\tviewer_17444774502326038.zoomTo();\nviewer_17444774502326038.render();\n});\n</script>",
            "text/html": [
              "<div id=\"3dmolviewer_17444774502326038\"  style=\"position: relative; width: 500px; height: 400px;\">\n",
              "        <p id=\"3dmolwarning_17444774502326038\" style=\"background-color:#ffcccc;color:black\">3Dmol.js failed to load for some reason.  Please check your browser console for error messages.<br></p>\n",
              "        </div>\n",
              "<script>\n",
              "\n",
              "var loadScriptAsync = function(uri){\n",
              "  return new Promise((resolve, reject) => {\n",
              "    //this is to ignore the existence of requirejs amd\n",
              "    var savedexports, savedmodule;\n",
              "    if (typeof exports !== 'undefined') savedexports = exports;\n",
              "    else exports = {}\n",
              "    if (typeof module !== 'undefined') savedmodule = module;\n",
              "    else module = {}\n",
              "\n",
              "    var tag = document.createElement('script');\n",
              "    tag.src = uri;\n",
              "    tag.async = true;\n",
              "    tag.onload = () => {\n",
              "        exports = savedexports;\n",
              "        module = savedmodule;\n",
              "        resolve();\n",
              "    };\n",
              "  var firstScriptTag = document.getElementsByTagName('script')[0];\n",
              "  firstScriptTag.parentNode.insertBefore(tag, firstScriptTag);\n",
              "});\n",
              "};\n",
              "\n",
              "if(typeof $3Dmolpromise === 'undefined') {\n",
              "$3Dmolpromise = null;\n",
              "  $3Dmolpromise = loadScriptAsync('https://cdnjs.cloudflare.com/ajax/libs/3Dmol/2.4.2/3Dmol-min.js');\n",
              "}\n",
              "\n",
              "var viewer_17444774502326038 = null;\n",
              "var warn = document.getElementById(\"3dmolwarning_17444774502326038\");\n",
              "if(warn) {\n",
              "    warn.parentNode.removeChild(warn);\n",
              "}\n",
              "$3Dmolpromise.then(function() {\n",
              "viewer_17444774502326038 = $3Dmol.createViewer(document.getElementById(\"3dmolviewer_17444774502326038\"),{backgroundColor:\"white\"});\n",
              "viewer_17444774502326038.zoomTo();\n",
              "\tviewer_17444774502326038.addModel(\"\\n     RDKit          3D\\n\\n 50  0  0  0  0  0  0  0  0  0999 V2000\\n    0.7322   -0.9918   -0.7690 C   0  0  0  0  0  0  0  0  0  0  0  0\\n   -0.7454   -0.9233    0.4788 C   0  0  0  0  0  0  0  0  0  0  0  0\\n    0.9697   -0.9937   -0.8180 C   0  0  0  0  0  0  0  0  0  0  0  0\\n   -0.1695   -1.0000    0.4902 C   0  0  0  0  0  0  0  0  0  0  0  0\\n   -0.9612    0.4246    0.1548 C   0  0  0  0  0  0  0  0  0  0  0  0\\n   -0.9237    0.9934   -1.0000 C   0  0  0  0  0  0  0  0  0  0  0  0\\n    0.4587    1.0000    0.6247 C   0  0  0  0  0  0  0  0  0  0  0  0\\n    0.4712   -0.2032    0.8570 C   0  0  0  0  0  0  0  0  0  0  0  0\\n   -0.1635    0.4567   -0.8385 C   0  0  0  0  0  0  0  0  0  0  0  0\\n   -1.0000    0.0303    0.7094 C   0  0  0  0  0  0  0  0  0  0  0  0\\n   -1.0000    1.0000   -1.0000 C   0  0  0  0  0  0  0  0  0  0  0  0\\n    0.3040    0.5527    0.3277 C   0  0  0  0  0  0  0  0  0  0  0  0\\n    0.6225    0.7608    0.9998 C   0  0  0  0  0  0  0  0  0  0  0  0\\n   -0.9745    1.0000    0.9800 C   0  0  0  0  0  0  0  0  0  0  0  0\\n    0.7339   -0.6353    0.9909 C   0  0  0  0  0  0  0  0  0  0  0  0\\n   -0.6594   -0.8133   -0.3430 C   0  0  0  0  0  0  0  0  0  0  0  0\\n    0.9085    0.1029   -0.9934 C   0  0  0  0  0  0  0  0  0  0  0  0\\n   -0.8596   -0.9511    0.2655 C   0  0  0  0  0  0  0  0  0  0  0  0\\n    0.5541    0.6052    0.4291 C   0  0  0  0  0  0  0  0  0  0  0  0\\n   -0.0263   -0.7300   -1.0000 C   0  0  0  0  0  0  0  0  0  0  0  0\\n    0.7268    0.9672    0.0308 C   0  0  0  0  0  0  0  0  0  0  0  0\\n    0.1753   -0.7385   -0.6773 C   0  0  0  0  0  0  0  0  0  0  0  0\\n    0.0732   -0.6589    0.9618 C   0  0  0  0  0  0  0  0  0  0  0  0\\n    0.6555   -0.6098    0.8560 C   0  0  0  0  0  0  0  0  0  0  0  0\\n   -0.8660   -0.8111    1.0000 C   0  0  0  0  0  0  0  0  0  0  0  0\\n   -0.6595    0.1520   -0.3721 C   0  0  0  0  0  0  0  0  0  0  0  0\\n    0.6485    0.3098    0.8324 C   0  0  0  0  0  0  0  0  0  0  0  0\\n    0.9964    0.6509   -0.6907 C   0  0  0  0  0  0  0  0  0  0  0  0\\n    0.8508    1.0000    0.5407 C   0  0  0  0  0  0  0  0  0  0  0  0\\n   -1.0000   -0.9072   -0.8423 C   0  0  0  0  0  0  0  0  0  0  0  0\\n   -0.9711   -0.8621    0.5281 C   0  0  0  0  0  0  0  0  0  0  0  0\\n    0.6270   -0.3805   -0.9942 C   0  0  0  0  0  0  0  0  0  0  0  0\\n   -0.9393   -0.5410    0.5930 C   0  0  0  0  0  0  0  0  0  0  0  0\\n   -0.9779   -0.8099   -0.3704 C   0  0  0  0  0  0  0  0  0  0  0  0\\n    0.7148    0.9327    0.6971 C   0  0  0  0  0  0  0  0  0  0  0  0\\n   -1.0000    1.0000   -0.5265 C   0  0  0  0  0  0  0  0  0  0  0  0\\n   -0.7253   -0.2030    0.9645 C   0  0  0  0  0  0  0  0  0  0  0  0\\n    0.7829   -1.0000    0.0146 C   0  0  0  0  0  0  0  0  0  0  0  0\\n    0.3813    1.0000    1.0000 C   0  0  0  0  0  0  0  0  0  0  0  0\\n   -0.9329    0.9713    0.9947 C   0  0  0  0  0  0  0  0  0  0  0  0\\n   -0.6292   -0.9400   -0.9931 C   0  0  0  0  0  0  0  0  0  0  0  0\\n    0.5567   -0.9893   -0.6212 C   0  0  0  0  0  0  0  0  0  0  0  0\\n    0.9996   -0.9810   -0.9498 C   0  0  0  0  0  0  0  0  0  0  0  0\\n   -0.5645   -1.0000   -0.8756 C   0  0  0  0  0  0  0  0  0  0  0  0\\n    0.7852    0.5273   -0.9974 C   0  0  0  0  0  0  0  0  0  0  0  0\\n    0.9950    0.0222   -1.0000 C   0  0  0  0  0  0  0  0  0  0  0  0\\n    0.7621   -0.8502    0.6796 C   0  0  0  0  0  0  0  0  0  0  0  0\\n   -0.9910    0.9697    0.4015 C   0  0  0  0  0  0  0  0  0  0  0  0\\n    0.8845   -0.9801    0.7939 C   0  0  0  0  0  0  0  0  0  0  0  0\\n    0.9821    0.9737   -0.7730 C   0  0  0  0  0  0  0  0  0  0  0  0\\nM  END\\n\",\"mol\");\n",
              "\tviewer_17444774502326038.setStyle({\"stick\": {}});\n",
              "\tviewer_17444774502326038.setBackgroundColor(\"white\");\n",
              "\tviewer_17444774502326038.zoomTo();\n",
              "viewer_17444774502326038.render();\n",
              "});\n",
              "</script>"
            ]
          },
          "metadata": {}
        },
        {
          "output_type": "display_data",
          "data": {
            "text/plain": [
              "None"
            ]
          },
          "metadata": {}
        }
      ]
    },
    {
      "cell_type": "code",
      "source": [
        "final_coords = x.squeeze(0).cpu().numpy()\n",
        "mol = coords_to_rdkit_mol(final_coords, random_atom_types)\n",
        "\n",
        "viewer = visualize_mol(mol)\n",
        "display(viewer.show())\n",
        "\n",
        "# Optional 2D image\n",
        "img = Chem.Draw.MolToImage(mol, size=(400, 300))\n",
        "img.show()\n"
      ],
      "metadata": {
        "id": "IQQTktS89WoI",
        "outputId": "1f815cb5-77e5-461e-b986-c2de0aac4af8",
        "colab": {
          "base_uri": "https://localhost:8080/",
          "height": 434
        }
      },
      "execution_count": 118,
      "outputs": [
        {
          "output_type": "display_data",
          "data": {
            "application/3dmoljs_load.v0": "<div id=\"3dmolviewer_17444774533800335\"  style=\"position: relative; width: 500px; height: 400px;\">\n        <p id=\"3dmolwarning_17444774533800335\" style=\"background-color:#ffcccc;color:black\">3Dmol.js failed to load for some reason.  Please check your browser console for error messages.<br></p>\n        </div>\n<script>\n\nvar loadScriptAsync = function(uri){\n  return new Promise((resolve, reject) => {\n    //this is to ignore the existence of requirejs amd\n    var savedexports, savedmodule;\n    if (typeof exports !== 'undefined') savedexports = exports;\n    else exports = {}\n    if (typeof module !== 'undefined') savedmodule = module;\n    else module = {}\n\n    var tag = document.createElement('script');\n    tag.src = uri;\n    tag.async = true;\n    tag.onload = () => {\n        exports = savedexports;\n        module = savedmodule;\n        resolve();\n    };\n  var firstScriptTag = document.getElementsByTagName('script')[0];\n  firstScriptTag.parentNode.insertBefore(tag, firstScriptTag);\n});\n};\n\nif(typeof $3Dmolpromise === 'undefined') {\n$3Dmolpromise = null;\n  $3Dmolpromise = loadScriptAsync('https://cdnjs.cloudflare.com/ajax/libs/3Dmol/2.4.2/3Dmol-min.js');\n}\n\nvar viewer_17444774533800335 = null;\nvar warn = document.getElementById(\"3dmolwarning_17444774533800335\");\nif(warn) {\n    warn.parentNode.removeChild(warn);\n}\n$3Dmolpromise.then(function() {\nviewer_17444774533800335 = $3Dmol.createViewer(document.getElementById(\"3dmolviewer_17444774533800335\"),{backgroundColor:\"white\"});\nviewer_17444774533800335.zoomTo();\n\tviewer_17444774533800335.addModel(\"\\n     RDKit          3D\\n\\n 50  0  0  0  0  0  0  0  0  0999 V2000\\n    0.7322   -0.9918   -0.7690 C   0  0  0  0  0  0  0  0  0  0  0  0\\n   -0.7454   -0.9233    0.4788 C   0  0  0  0  0  0  0  0  0  0  0  0\\n    0.9697   -0.9937   -0.8180 C   0  0  0  0  0  0  0  0  0  0  0  0\\n   -0.1695   -1.0000    0.4902 C   0  0  0  0  0  0  0  0  0  0  0  0\\n   -0.9612    0.4246    0.1548 C   0  0  0  0  0  0  0  0  0  0  0  0\\n   -0.9237    0.9934   -1.0000 C   0  0  0  0  0  0  0  0  0  0  0  0\\n    0.4587    1.0000    0.6247 C   0  0  0  0  0  0  0  0  0  0  0  0\\n    0.4712   -0.2032    0.8570 C   0  0  0  0  0  0  0  0  0  0  0  0\\n   -0.1635    0.4567   -0.8385 C   0  0  0  0  0  0  0  0  0  0  0  0\\n   -1.0000    0.0303    0.7094 C   0  0  0  0  0  0  0  0  0  0  0  0\\n   -1.0000    1.0000   -1.0000 C   0  0  0  0  0  0  0  0  0  0  0  0\\n    0.3040    0.5527    0.3277 C   0  0  0  0  0  0  0  0  0  0  0  0\\n    0.6225    0.7608    0.9998 C   0  0  0  0  0  0  0  0  0  0  0  0\\n   -0.9745    1.0000    0.9800 C   0  0  0  0  0  0  0  0  0  0  0  0\\n    0.7339   -0.6353    0.9909 C   0  0  0  0  0  0  0  0  0  0  0  0\\n   -0.6594   -0.8133   -0.3430 C   0  0  0  0  0  0  0  0  0  0  0  0\\n    0.9085    0.1029   -0.9934 C   0  0  0  0  0  0  0  0  0  0  0  0\\n   -0.8596   -0.9511    0.2655 C   0  0  0  0  0  0  0  0  0  0  0  0\\n    0.5541    0.6052    0.4291 C   0  0  0  0  0  0  0  0  0  0  0  0\\n   -0.0263   -0.7300   -1.0000 C   0  0  0  0  0  0  0  0  0  0  0  0\\n    0.7268    0.9672    0.0308 C   0  0  0  0  0  0  0  0  0  0  0  0\\n    0.1753   -0.7385   -0.6773 C   0  0  0  0  0  0  0  0  0  0  0  0\\n    0.0732   -0.6589    0.9618 C   0  0  0  0  0  0  0  0  0  0  0  0\\n    0.6555   -0.6098    0.8560 C   0  0  0  0  0  0  0  0  0  0  0  0\\n   -0.8660   -0.8111    1.0000 C   0  0  0  0  0  0  0  0  0  0  0  0\\n   -0.6595    0.1520   -0.3721 C   0  0  0  0  0  0  0  0  0  0  0  0\\n    0.6485    0.3098    0.8324 C   0  0  0  0  0  0  0  0  0  0  0  0\\n    0.9964    0.6509   -0.6907 C   0  0  0  0  0  0  0  0  0  0  0  0\\n    0.8508    1.0000    0.5407 C   0  0  0  0  0  0  0  0  0  0  0  0\\n   -1.0000   -0.9072   -0.8423 C   0  0  0  0  0  0  0  0  0  0  0  0\\n   -0.9711   -0.8621    0.5281 C   0  0  0  0  0  0  0  0  0  0  0  0\\n    0.6270   -0.3805   -0.9942 C   0  0  0  0  0  0  0  0  0  0  0  0\\n   -0.9393   -0.5410    0.5930 C   0  0  0  0  0  0  0  0  0  0  0  0\\n   -0.9779   -0.8099   -0.3704 C   0  0  0  0  0  0  0  0  0  0  0  0\\n    0.7148    0.9327    0.6971 C   0  0  0  0  0  0  0  0  0  0  0  0\\n   -1.0000    1.0000   -0.5265 C   0  0  0  0  0  0  0  0  0  0  0  0\\n   -0.7253   -0.2030    0.9645 C   0  0  0  0  0  0  0  0  0  0  0  0\\n    0.7829   -1.0000    0.0146 C   0  0  0  0  0  0  0  0  0  0  0  0\\n    0.3813    1.0000    1.0000 C   0  0  0  0  0  0  0  0  0  0  0  0\\n   -0.9329    0.9713    0.9947 C   0  0  0  0  0  0  0  0  0  0  0  0\\n   -0.6292   -0.9400   -0.9931 C   0  0  0  0  0  0  0  0  0  0  0  0\\n    0.5567   -0.9893   -0.6212 C   0  0  0  0  0  0  0  0  0  0  0  0\\n    0.9996   -0.9810   -0.9498 C   0  0  0  0  0  0  0  0  0  0  0  0\\n   -0.5645   -1.0000   -0.8756 C   0  0  0  0  0  0  0  0  0  0  0  0\\n    0.7852    0.5273   -0.9974 C   0  0  0  0  0  0  0  0  0  0  0  0\\n    0.9950    0.0222   -1.0000 C   0  0  0  0  0  0  0  0  0  0  0  0\\n    0.7621   -0.8502    0.6796 C   0  0  0  0  0  0  0  0  0  0  0  0\\n   -0.9910    0.9697    0.4015 C   0  0  0  0  0  0  0  0  0  0  0  0\\n    0.8845   -0.9801    0.7939 C   0  0  0  0  0  0  0  0  0  0  0  0\\n    0.9821    0.9737   -0.7730 C   0  0  0  0  0  0  0  0  0  0  0  0\\nM  END\\n\",\"mol\");\n\tviewer_17444774533800335.setStyle({\"stick\": {}});\n\tviewer_17444774533800335.setBackgroundColor(\"white\");\n\tviewer_17444774533800335.zoomTo();\nviewer_17444774533800335.render();\n});\n</script>",
            "text/html": [
              "<div id=\"3dmolviewer_17444774533800335\"  style=\"position: relative; width: 500px; height: 400px;\">\n",
              "        <p id=\"3dmolwarning_17444774533800335\" style=\"background-color:#ffcccc;color:black\">3Dmol.js failed to load for some reason.  Please check your browser console for error messages.<br></p>\n",
              "        </div>\n",
              "<script>\n",
              "\n",
              "var loadScriptAsync = function(uri){\n",
              "  return new Promise((resolve, reject) => {\n",
              "    //this is to ignore the existence of requirejs amd\n",
              "    var savedexports, savedmodule;\n",
              "    if (typeof exports !== 'undefined') savedexports = exports;\n",
              "    else exports = {}\n",
              "    if (typeof module !== 'undefined') savedmodule = module;\n",
              "    else module = {}\n",
              "\n",
              "    var tag = document.createElement('script');\n",
              "    tag.src = uri;\n",
              "    tag.async = true;\n",
              "    tag.onload = () => {\n",
              "        exports = savedexports;\n",
              "        module = savedmodule;\n",
              "        resolve();\n",
              "    };\n",
              "  var firstScriptTag = document.getElementsByTagName('script')[0];\n",
              "  firstScriptTag.parentNode.insertBefore(tag, firstScriptTag);\n",
              "});\n",
              "};\n",
              "\n",
              "if(typeof $3Dmolpromise === 'undefined') {\n",
              "$3Dmolpromise = null;\n",
              "  $3Dmolpromise = loadScriptAsync('https://cdnjs.cloudflare.com/ajax/libs/3Dmol/2.4.2/3Dmol-min.js');\n",
              "}\n",
              "\n",
              "var viewer_17444774533800335 = null;\n",
              "var warn = document.getElementById(\"3dmolwarning_17444774533800335\");\n",
              "if(warn) {\n",
              "    warn.parentNode.removeChild(warn);\n",
              "}\n",
              "$3Dmolpromise.then(function() {\n",
              "viewer_17444774533800335 = $3Dmol.createViewer(document.getElementById(\"3dmolviewer_17444774533800335\"),{backgroundColor:\"white\"});\n",
              "viewer_17444774533800335.zoomTo();\n",
              "\tviewer_17444774533800335.addModel(\"\\n     RDKit          3D\\n\\n 50  0  0  0  0  0  0  0  0  0999 V2000\\n    0.7322   -0.9918   -0.7690 C   0  0  0  0  0  0  0  0  0  0  0  0\\n   -0.7454   -0.9233    0.4788 C   0  0  0  0  0  0  0  0  0  0  0  0\\n    0.9697   -0.9937   -0.8180 C   0  0  0  0  0  0  0  0  0  0  0  0\\n   -0.1695   -1.0000    0.4902 C   0  0  0  0  0  0  0  0  0  0  0  0\\n   -0.9612    0.4246    0.1548 C   0  0  0  0  0  0  0  0  0  0  0  0\\n   -0.9237    0.9934   -1.0000 C   0  0  0  0  0  0  0  0  0  0  0  0\\n    0.4587    1.0000    0.6247 C   0  0  0  0  0  0  0  0  0  0  0  0\\n    0.4712   -0.2032    0.8570 C   0  0  0  0  0  0  0  0  0  0  0  0\\n   -0.1635    0.4567   -0.8385 C   0  0  0  0  0  0  0  0  0  0  0  0\\n   -1.0000    0.0303    0.7094 C   0  0  0  0  0  0  0  0  0  0  0  0\\n   -1.0000    1.0000   -1.0000 C   0  0  0  0  0  0  0  0  0  0  0  0\\n    0.3040    0.5527    0.3277 C   0  0  0  0  0  0  0  0  0  0  0  0\\n    0.6225    0.7608    0.9998 C   0  0  0  0  0  0  0  0  0  0  0  0\\n   -0.9745    1.0000    0.9800 C   0  0  0  0  0  0  0  0  0  0  0  0\\n    0.7339   -0.6353    0.9909 C   0  0  0  0  0  0  0  0  0  0  0  0\\n   -0.6594   -0.8133   -0.3430 C   0  0  0  0  0  0  0  0  0  0  0  0\\n    0.9085    0.1029   -0.9934 C   0  0  0  0  0  0  0  0  0  0  0  0\\n   -0.8596   -0.9511    0.2655 C   0  0  0  0  0  0  0  0  0  0  0  0\\n    0.5541    0.6052    0.4291 C   0  0  0  0  0  0  0  0  0  0  0  0\\n   -0.0263   -0.7300   -1.0000 C   0  0  0  0  0  0  0  0  0  0  0  0\\n    0.7268    0.9672    0.0308 C   0  0  0  0  0  0  0  0  0  0  0  0\\n    0.1753   -0.7385   -0.6773 C   0  0  0  0  0  0  0  0  0  0  0  0\\n    0.0732   -0.6589    0.9618 C   0  0  0  0  0  0  0  0  0  0  0  0\\n    0.6555   -0.6098    0.8560 C   0  0  0  0  0  0  0  0  0  0  0  0\\n   -0.8660   -0.8111    1.0000 C   0  0  0  0  0  0  0  0  0  0  0  0\\n   -0.6595    0.1520   -0.3721 C   0  0  0  0  0  0  0  0  0  0  0  0\\n    0.6485    0.3098    0.8324 C   0  0  0  0  0  0  0  0  0  0  0  0\\n    0.9964    0.6509   -0.6907 C   0  0  0  0  0  0  0  0  0  0  0  0\\n    0.8508    1.0000    0.5407 C   0  0  0  0  0  0  0  0  0  0  0  0\\n   -1.0000   -0.9072   -0.8423 C   0  0  0  0  0  0  0  0  0  0  0  0\\n   -0.9711   -0.8621    0.5281 C   0  0  0  0  0  0  0  0  0  0  0  0\\n    0.6270   -0.3805   -0.9942 C   0  0  0  0  0  0  0  0  0  0  0  0\\n   -0.9393   -0.5410    0.5930 C   0  0  0  0  0  0  0  0  0  0  0  0\\n   -0.9779   -0.8099   -0.3704 C   0  0  0  0  0  0  0  0  0  0  0  0\\n    0.7148    0.9327    0.6971 C   0  0  0  0  0  0  0  0  0  0  0  0\\n   -1.0000    1.0000   -0.5265 C   0  0  0  0  0  0  0  0  0  0  0  0\\n   -0.7253   -0.2030    0.9645 C   0  0  0  0  0  0  0  0  0  0  0  0\\n    0.7829   -1.0000    0.0146 C   0  0  0  0  0  0  0  0  0  0  0  0\\n    0.3813    1.0000    1.0000 C   0  0  0  0  0  0  0  0  0  0  0  0\\n   -0.9329    0.9713    0.9947 C   0  0  0  0  0  0  0  0  0  0  0  0\\n   -0.6292   -0.9400   -0.9931 C   0  0  0  0  0  0  0  0  0  0  0  0\\n    0.5567   -0.9893   -0.6212 C   0  0  0  0  0  0  0  0  0  0  0  0\\n    0.9996   -0.9810   -0.9498 C   0  0  0  0  0  0  0  0  0  0  0  0\\n   -0.5645   -1.0000   -0.8756 C   0  0  0  0  0  0  0  0  0  0  0  0\\n    0.7852    0.5273   -0.9974 C   0  0  0  0  0  0  0  0  0  0  0  0\\n    0.9950    0.0222   -1.0000 C   0  0  0  0  0  0  0  0  0  0  0  0\\n    0.7621   -0.8502    0.6796 C   0  0  0  0  0  0  0  0  0  0  0  0\\n   -0.9910    0.9697    0.4015 C   0  0  0  0  0  0  0  0  0  0  0  0\\n    0.8845   -0.9801    0.7939 C   0  0  0  0  0  0  0  0  0  0  0  0\\n    0.9821    0.9737   -0.7730 C   0  0  0  0  0  0  0  0  0  0  0  0\\nM  END\\n\",\"mol\");\n",
              "\tviewer_17444774533800335.setStyle({\"stick\": {}});\n",
              "\tviewer_17444774533800335.setBackgroundColor(\"white\");\n",
              "\tviewer_17444774533800335.zoomTo();\n",
              "viewer_17444774533800335.render();\n",
              "});\n",
              "</script>"
            ]
          },
          "metadata": {}
        },
        {
          "output_type": "display_data",
          "data": {
            "text/plain": [
              "None"
            ]
          },
          "metadata": {}
        }
      ]
    },
    {
      "cell_type": "code",
      "source": [],
      "metadata": {
        "id": "zNEQdi8Z9Xum"
      },
      "execution_count": null,
      "outputs": []
    }
  ],
  "metadata": {
    "colab": {
      "name": "Welcome To Colab",
      "provenance": [],
      "include_colab_link": true
    },
    "kernelspec": {
      "display_name": "Python 3",
      "name": "python3"
    }
  },
  "nbformat": 4,
  "nbformat_minor": 0
}