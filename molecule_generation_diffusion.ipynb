{
  "cells": [
    {
      "cell_type": "markdown",
      "metadata": {
        "id": "view-in-github",
        "colab_type": "text"
      },
      "source": [
        "<a href=\"https://colab.research.google.com/github/apoorvapu/data_science/blob/main/molecule_generation_diffusion.ipynb\" target=\"_parent\"><img src=\"https://colab.research.google.com/assets/colab-badge.svg\" alt=\"Open In Colab\"/></a>"
      ]
    },
    {
      "cell_type": "code",
      "source": [
        "!pip install torch torchvision diffusers transformers"
      ],
      "metadata": {
        "colab": {
          "base_uri": "https://localhost:8080/"
        },
        "id": "_0-3PhNqlhLq",
        "outputId": "c3e5f541-618a-4920-a54b-5332abbdec47"
      },
      "execution_count": 96,
      "outputs": [
        {
          "output_type": "stream",
          "name": "stdout",
          "text": [
            "Requirement already satisfied: torch in /usr/local/lib/python3.11/dist-packages (2.6.0+cu124)\n",
            "Requirement already satisfied: torchvision in /usr/local/lib/python3.11/dist-packages (0.21.0+cu124)\n",
            "Requirement already satisfied: diffusers in /usr/local/lib/python3.11/dist-packages (0.32.2)\n",
            "Requirement already satisfied: transformers in /usr/local/lib/python3.11/dist-packages (4.50.3)\n",
            "Requirement already satisfied: filelock in /usr/local/lib/python3.11/dist-packages (from torch) (3.18.0)\n",
            "Requirement already satisfied: typing-extensions>=4.10.0 in /usr/local/lib/python3.11/dist-packages (from torch) (4.13.1)\n",
            "Requirement already satisfied: networkx in /usr/local/lib/python3.11/dist-packages (from torch) (3.4.2)\n",
            "Requirement already satisfied: jinja2 in /usr/local/lib/python3.11/dist-packages (from torch) (3.1.6)\n",
            "Requirement already satisfied: fsspec in /usr/local/lib/python3.11/dist-packages (from torch) (2025.3.2)\n",
            "Requirement already satisfied: nvidia-cuda-nvrtc-cu12==12.4.127 in /usr/local/lib/python3.11/dist-packages (from torch) (12.4.127)\n",
            "Requirement already satisfied: nvidia-cuda-runtime-cu12==12.4.127 in /usr/local/lib/python3.11/dist-packages (from torch) (12.4.127)\n",
            "Requirement already satisfied: nvidia-cuda-cupti-cu12==12.4.127 in /usr/local/lib/python3.11/dist-packages (from torch) (12.4.127)\n",
            "Requirement already satisfied: nvidia-cudnn-cu12==9.1.0.70 in /usr/local/lib/python3.11/dist-packages (from torch) (9.1.0.70)\n",
            "Requirement already satisfied: nvidia-cublas-cu12==12.4.5.8 in /usr/local/lib/python3.11/dist-packages (from torch) (12.4.5.8)\n",
            "Requirement already satisfied: nvidia-cufft-cu12==11.2.1.3 in /usr/local/lib/python3.11/dist-packages (from torch) (11.2.1.3)\n",
            "Requirement already satisfied: nvidia-curand-cu12==10.3.5.147 in /usr/local/lib/python3.11/dist-packages (from torch) (10.3.5.147)\n",
            "Requirement already satisfied: nvidia-cusolver-cu12==11.6.1.9 in /usr/local/lib/python3.11/dist-packages (from torch) (11.6.1.9)\n",
            "Requirement already satisfied: nvidia-cusparse-cu12==12.3.1.170 in /usr/local/lib/python3.11/dist-packages (from torch) (12.3.1.170)\n",
            "Requirement already satisfied: nvidia-cusparselt-cu12==0.6.2 in /usr/local/lib/python3.11/dist-packages (from torch) (0.6.2)\n",
            "Requirement already satisfied: nvidia-nccl-cu12==2.21.5 in /usr/local/lib/python3.11/dist-packages (from torch) (2.21.5)\n",
            "Requirement already satisfied: nvidia-nvtx-cu12==12.4.127 in /usr/local/lib/python3.11/dist-packages (from torch) (12.4.127)\n",
            "Requirement already satisfied: nvidia-nvjitlink-cu12==12.4.127 in /usr/local/lib/python3.11/dist-packages (from torch) (12.4.127)\n",
            "Requirement already satisfied: triton==3.2.0 in /usr/local/lib/python3.11/dist-packages (from torch) (3.2.0)\n",
            "Requirement already satisfied: sympy==1.13.1 in /usr/local/lib/python3.11/dist-packages (from torch) (1.13.1)\n",
            "Requirement already satisfied: mpmath<1.4,>=1.1.0 in /usr/local/lib/python3.11/dist-packages (from sympy==1.13.1->torch) (1.3.0)\n",
            "Requirement already satisfied: numpy in /usr/local/lib/python3.11/dist-packages (from torchvision) (2.0.2)\n",
            "Requirement already satisfied: pillow!=8.3.*,>=5.3.0 in /usr/local/lib/python3.11/dist-packages (from torchvision) (11.1.0)\n",
            "Requirement already satisfied: importlib-metadata in /usr/local/lib/python3.11/dist-packages (from diffusers) (8.6.1)\n",
            "Requirement already satisfied: huggingface-hub>=0.23.2 in /usr/local/lib/python3.11/dist-packages (from diffusers) (0.30.1)\n",
            "Requirement already satisfied: regex!=2019.12.17 in /usr/local/lib/python3.11/dist-packages (from diffusers) (2024.11.6)\n",
            "Requirement already satisfied: requests in /usr/local/lib/python3.11/dist-packages (from diffusers) (2.32.3)\n",
            "Requirement already satisfied: safetensors>=0.3.1 in /usr/local/lib/python3.11/dist-packages (from diffusers) (0.5.3)\n",
            "Requirement already satisfied: packaging>=20.0 in /usr/local/lib/python3.11/dist-packages (from transformers) (24.2)\n",
            "Requirement already satisfied: pyyaml>=5.1 in /usr/local/lib/python3.11/dist-packages (from transformers) (6.0.2)\n",
            "Requirement already satisfied: tokenizers<0.22,>=0.21 in /usr/local/lib/python3.11/dist-packages (from transformers) (0.21.1)\n",
            "Requirement already satisfied: tqdm>=4.27 in /usr/local/lib/python3.11/dist-packages (from transformers) (4.67.1)\n",
            "Requirement already satisfied: zipp>=3.20 in /usr/local/lib/python3.11/dist-packages (from importlib-metadata->diffusers) (3.21.0)\n",
            "Requirement already satisfied: MarkupSafe>=2.0 in /usr/local/lib/python3.11/dist-packages (from jinja2->torch) (3.0.2)\n",
            "Requirement already satisfied: charset-normalizer<4,>=2 in /usr/local/lib/python3.11/dist-packages (from requests->diffusers) (3.4.1)\n",
            "Requirement already satisfied: idna<4,>=2.5 in /usr/local/lib/python3.11/dist-packages (from requests->diffusers) (3.10)\n",
            "Requirement already satisfied: urllib3<3,>=1.21.1 in /usr/local/lib/python3.11/dist-packages (from requests->diffusers) (2.3.0)\n",
            "Requirement already satisfied: certifi>=2017.4.17 in /usr/local/lib/python3.11/dist-packages (from requests->diffusers) (2025.1.31)\n"
          ]
        }
      ]
    },
    {
      "cell_type": "code",
      "source": [
        "!pip install rdkit pubchempy tqdm py3Dmol"
      ],
      "metadata": {
        "colab": {
          "base_uri": "https://localhost:8080/"
        },
        "id": "uRgecKIwl6wT",
        "outputId": "541fbbf2-2a93-4b7f-cb2e-a00c4fba6292"
      },
      "execution_count": 97,
      "outputs": [
        {
          "output_type": "stream",
          "name": "stdout",
          "text": [
            "Requirement already satisfied: rdkit in /usr/local/lib/python3.11/dist-packages (2024.9.6)\n",
            "Requirement already satisfied: pubchempy in /usr/local/lib/python3.11/dist-packages (1.0.4)\n",
            "Requirement already satisfied: tqdm in /usr/local/lib/python3.11/dist-packages (4.67.1)\n",
            "Requirement already satisfied: py3Dmol in /usr/local/lib/python3.11/dist-packages (2.4.2)\n",
            "Requirement already satisfied: numpy in /usr/local/lib/python3.11/dist-packages (from rdkit) (2.0.2)\n",
            "Requirement already satisfied: Pillow in /usr/local/lib/python3.11/dist-packages (from rdkit) (11.1.0)\n"
          ]
        }
      ]
    },
    {
      "cell_type": "markdown",
      "source": [
        "## download 1000 molecules 3D .sdf files from pubchem and store in a molecules directory"
      ],
      "metadata": {
        "id": "ACBgRogDtF2N"
      }
    },
    {
      "cell_type": "code",
      "source": [
        "import os\n",
        "import requests\n",
        "from tqdm import tqdm\n",
        "\n",
        "# Make sure the folder exists\n",
        "os.makedirs(\"molecules\", exist_ok=True)\n",
        "\n",
        "downloaded = 0\n",
        "target = 1000\n",
        "cid = 1\n",
        "\n",
        "while downloaded < target and cid < 10000:\n",
        "    try:\n",
        "        url = f\"https://pubchem.ncbi.nlm.nih.gov/rest/pug/compound/cid/{cid}/SDF?record_type=3d\"\n",
        "        response = requests.get(url, timeout=10)\n",
        "        if response.status_code == 200 and len(response.text) > 100:\n",
        "            file_path = f\"molecules/mol_{cid}.sdf\"\n",
        "            with open(file_path, \"w\") as f:\n",
        "                f.write(response.text)\n",
        "            downloaded += 1\n",
        "        cid += 1\n",
        "    except Exception as e:\n",
        "        print(f\"CID {cid} failed: {e}\")\n",
        "        cid += 1\n"
      ],
      "metadata": {
        "id": "He8pFiNSo-hd"
      },
      "execution_count": 98,
      "outputs": []
    },
    {
      "cell_type": "code",
      "source": [
        "ls molecules/*.sdf | wc -l\n"
      ],
      "metadata": {
        "colab": {
          "base_uri": "https://localhost:8080/"
        },
        "id": "TZ19DIlGqryi",
        "outputId": "e458de43-21de-440b-a679-cd41bb046206"
      },
      "execution_count": 99,
      "outputs": [
        {
          "output_type": "stream",
          "name": "stdout",
          "text": [
            "1048\n"
          ]
        }
      ]
    },
    {
      "cell_type": "code",
      "source": [
        "import os\n",
        "from rdkit import Chem\n",
        "from rdkit.Chem import AllChem\n",
        "import py3Dmol\n",
        "from IPython.display import display\n",
        "\n",
        "def view_mol(mol):\n",
        "    # Generate 3D coordinates if missing\n",
        "    if mol.GetNumConformers() == 0:\n",
        "        AllChem.EmbedMolecule(mol)\n",
        "    mb = Chem.MolToMolBlock(mol)\n",
        "    viewer = py3Dmol.view(width=400, height=350)\n",
        "    viewer.addModel(mb, 'mol')\n",
        "    viewer.setStyle({'stick': {}})\n",
        "    viewer.setBackgroundColor('white')\n",
        "    viewer.zoomTo()\n",
        "    return viewer\n",
        "\n",
        "# List SDF files\n",
        "sdf_dir = \"molecules\"\n",
        "sdf_files = sorted([f for f in os.listdir(sdf_dir) if f.endswith(\".sdf\")])\n",
        "\n",
        "# Visualize first 5 molecules (change range as needed)\n",
        "for sdf_file in sdf_files[:5]:\n",
        "    sdf_path = os.path.join(sdf_dir, sdf_file)\n",
        "    mol = Chem.MolFromMolFile(sdf_path, removeHs=False)\n",
        "    if mol:\n",
        "        print(f\"Showing: {sdf_file}\")\n",
        "        view_mol(mol).show()\n"
      ],
      "metadata": {
        "colab": {
          "base_uri": "https://localhost:8080/",
          "height": 1000
        },
        "id": "cSIcGQBGqI4w",
        "outputId": "c8be5dd7-cca2-4acb-ff63-1098aa0f6e4d"
      },
      "execution_count": 100,
      "outputs": [
        {
          "output_type": "stream",
          "name": "stdout",
          "text": [
            "Showing: mol_1.sdf\n"
          ]
        },
        {
          "output_type": "display_data",
          "data": {
            "application/3dmoljs_load.v0": "<div id=\"3dmolviewer_17444769321139996\"  style=\"position: relative; width: 400px; height: 350px;\">\n        <p id=\"3dmolwarning_17444769321139996\" style=\"background-color:#ffcccc;color:black\">3Dmol.js failed to load for some reason.  Please check your browser console for error messages.<br></p>\n        </div>\n<script>\n\nvar loadScriptAsync = function(uri){\n  return new Promise((resolve, reject) => {\n    //this is to ignore the existence of requirejs amd\n    var savedexports, savedmodule;\n    if (typeof exports !== 'undefined') savedexports = exports;\n    else exports = {}\n    if (typeof module !== 'undefined') savedmodule = module;\n    else module = {}\n\n    var tag = document.createElement('script');\n    tag.src = uri;\n    tag.async = true;\n    tag.onload = () => {\n        exports = savedexports;\n        module = savedmodule;\n        resolve();\n    };\n  var firstScriptTag = document.getElementsByTagName('script')[0];\n  firstScriptTag.parentNode.insertBefore(tag, firstScriptTag);\n});\n};\n\nif(typeof $3Dmolpromise === 'undefined') {\n$3Dmolpromise = null;\n  $3Dmolpromise = loadScriptAsync('https://cdnjs.cloudflare.com/ajax/libs/3Dmol/2.4.2/3Dmol-min.js');\n}\n\nvar viewer_17444769321139996 = null;\nvar warn = document.getElementById(\"3dmolwarning_17444769321139996\");\nif(warn) {\n    warn.parentNode.removeChild(warn);\n}\n$3Dmolpromise.then(function() {\nviewer_17444769321139996 = $3Dmol.createViewer(document.getElementById(\"3dmolviewer_17444769321139996\"),{backgroundColor:\"white\"});\nviewer_17444769321139996.zoomTo();\n\tviewer_17444769321139996.addModel(\"1\\n     RDKit          3D\\n\\n 31 30  0  0  1  0  0  0  0  0999 V2000\\n    0.3387    0.9262    0.4600 O   0  0  0  0  0  0  0  0  0  0  0  0\\n    3.4786   -1.7069   -0.3119 O   0  0  0  0  0  0  0  0  0  0  0  0\\n    1.8428   -1.4073    1.2523 O   0  0  0  0  0  0  0  0  0  0  0  0\\n    0.4166    2.5213   -1.2091 O   0  0  0  0  0  0  0  0  0  0  0  0\\n   -2.2359   -0.7251    0.0270 N   0  0  0  0  0  0  0  0  0  0  0  0\\n   -0.7783   -1.1579    0.0914 C   0  0  0  0  0  0  0  0  0  0  0  0\\n    0.1368   -0.0961   -0.5161 C   0  0  2  0  0  0  0  0  0  0  0  0\\n   -3.1119   -1.7972    0.6590 C   0  0  0  0  0  0  0  0  0  0  0  0\\n   -2.4103    0.5837    0.7840 C   0  0  0  0  0  0  0  0  0  0  0  0\\n   -2.6433   -0.5289   -1.4260 C   0  0  0  0  0  0  0  0  0  0  0  0\\n    1.4879   -0.6438   -0.9795 C   0  0  0  0  0  0  0  0  0  0  0  0\\n    2.3478   -1.3163    0.1002 C   0  0  0  0  0  0  0  0  0  0  0  0\\n    0.4627    2.1935   -0.0312 C   0  0  0  0  0  0  0  0  0  0  0  0\\n    0.6678    3.1549    1.1001 C   0  0  0  0  0  0  0  0  0  0  0  0\\n   -0.7073   -2.1051   -0.4563 H   0  0  0  0  0  0  0  0  0  0  0  0\\n   -0.5669   -1.3392    1.1503 H   0  0  0  0  0  0  0  0  0  0  0  0\\n   -0.3089    0.3239   -1.4193 H   0  0  0  0  0  0  0  0  0  0  0  0\\n   -2.9705   -2.7295    0.1044 H   0  0  0  0  0  0  0  0  0  0  0  0\\n   -2.8083   -1.9210    1.7028 H   0  0  0  0  0  0  0  0  0  0  0  0\\n   -4.1563   -1.4762    0.6031 H   0  0  0  0  0  0  0  0  0  0  0  0\\n   -2.0398    1.4170    0.1863 H   0  0  0  0  0  0  0  0  0  0  0  0\\n   -3.4837    0.7378    0.9384 H   0  0  0  0  0  0  0  0  0  0  0  0\\n   -1.9129    0.5071    1.7551 H   0  0  0  0  0  0  0  0  0  0  0  0\\n   -2.2450    0.4089   -1.8190 H   0  0  0  0  0  0  0  0  0  0  0  0\\n   -2.3000   -1.3879   -2.0100 H   0  0  0  0  0  0  0  0  0  0  0  0\\n   -3.7365   -0.4723   -1.4630 H   0  0  0  0  0  0  0  0  0  0  0  0\\n    1.3299   -1.3744   -1.7823 H   0  0  0  0  0  0  0  0  0  0  0  0\\n    2.0900    0.1756   -1.3923 H   0  0  0  0  0  0  0  0  0  0  0  0\\n   -0.1953    3.1280    1.7699 H   0  0  0  0  0  0  0  0  0  0  0  0\\n    0.7681    4.1684    0.7012 H   0  0  0  0  0  0  0  0  0  0  0  0\\n    1.5832    2.9010    1.6404 H   0  0  0  0  0  0  0  0  0  0  0  0\\n  1  7  1  0\\n  1 13  1  0\\n  2 12  1  0\\n  3 12  2  0\\n  4 13  2  0\\n  5  6  1  0\\n  5  8  1  0\\n  5  9  1  0\\n  5 10  1  0\\n  6  7  1  0\\n  6 15  1  0\\n  6 16  1  0\\n  7 11  1  0\\n  7 17  1  6\\n  8 18  1  0\\n  8 19  1  0\\n  8 20  1  0\\n  9 21  1  0\\n  9 22  1  0\\n  9 23  1  0\\n 10 24  1  0\\n 10 25  1  0\\n 10 26  1  0\\n 11 12  1  0\\n 11 27  1  0\\n 11 28  1  0\\n 13 14  1  0\\n 14 29  1  0\\n 14 30  1  0\\n 14 31  1  0\\nM  CHG  2   2  -1   5   1\\nM  END\\n\",\"mol\");\n\tviewer_17444769321139996.setStyle({\"stick\": {}});\n\tviewer_17444769321139996.setBackgroundColor(\"white\");\n\tviewer_17444769321139996.zoomTo();\nviewer_17444769321139996.render();\n});\n</script>",
            "text/html": [
              "<div id=\"3dmolviewer_17444769321139996\"  style=\"position: relative; width: 400px; height: 350px;\">\n",
              "        <p id=\"3dmolwarning_17444769321139996\" style=\"background-color:#ffcccc;color:black\">3Dmol.js failed to load for some reason.  Please check your browser console for error messages.<br></p>\n",
              "        </div>\n",
              "<script>\n",
              "\n",
              "var loadScriptAsync = function(uri){\n",
              "  return new Promise((resolve, reject) => {\n",
              "    //this is to ignore the existence of requirejs amd\n",
              "    var savedexports, savedmodule;\n",
              "    if (typeof exports !== 'undefined') savedexports = exports;\n",
              "    else exports = {}\n",
              "    if (typeof module !== 'undefined') savedmodule = module;\n",
              "    else module = {}\n",
              "\n",
              "    var tag = document.createElement('script');\n",
              "    tag.src = uri;\n",
              "    tag.async = true;\n",
              "    tag.onload = () => {\n",
              "        exports = savedexports;\n",
              "        module = savedmodule;\n",
              "        resolve();\n",
              "    };\n",
              "  var firstScriptTag = document.getElementsByTagName('script')[0];\n",
              "  firstScriptTag.parentNode.insertBefore(tag, firstScriptTag);\n",
              "});\n",
              "};\n",
              "\n",
              "if(typeof $3Dmolpromise === 'undefined') {\n",
              "$3Dmolpromise = null;\n",
              "  $3Dmolpromise = loadScriptAsync('https://cdnjs.cloudflare.com/ajax/libs/3Dmol/2.4.2/3Dmol-min.js');\n",
              "}\n",
              "\n",
              "var viewer_17444769321139996 = null;\n",
              "var warn = document.getElementById(\"3dmolwarning_17444769321139996\");\n",
              "if(warn) {\n",
              "    warn.parentNode.removeChild(warn);\n",
              "}\n",
              "$3Dmolpromise.then(function() {\n",
              "viewer_17444769321139996 = $3Dmol.createViewer(document.getElementById(\"3dmolviewer_17444769321139996\"),{backgroundColor:\"white\"});\n",
              "viewer_17444769321139996.zoomTo();\n",
              "\tviewer_17444769321139996.addModel(\"1\\n     RDKit          3D\\n\\n 31 30  0  0  1  0  0  0  0  0999 V2000\\n    0.3387    0.9262    0.4600 O   0  0  0  0  0  0  0  0  0  0  0  0\\n    3.4786   -1.7069   -0.3119 O   0  0  0  0  0  0  0  0  0  0  0  0\\n    1.8428   -1.4073    1.2523 O   0  0  0  0  0  0  0  0  0  0  0  0\\n    0.4166    2.5213   -1.2091 O   0  0  0  0  0  0  0  0  0  0  0  0\\n   -2.2359   -0.7251    0.0270 N   0  0  0  0  0  0  0  0  0  0  0  0\\n   -0.7783   -1.1579    0.0914 C   0  0  0  0  0  0  0  0  0  0  0  0\\n    0.1368   -0.0961   -0.5161 C   0  0  2  0  0  0  0  0  0  0  0  0\\n   -3.1119   -1.7972    0.6590 C   0  0  0  0  0  0  0  0  0  0  0  0\\n   -2.4103    0.5837    0.7840 C   0  0  0  0  0  0  0  0  0  0  0  0\\n   -2.6433   -0.5289   -1.4260 C   0  0  0  0  0  0  0  0  0  0  0  0\\n    1.4879   -0.6438   -0.9795 C   0  0  0  0  0  0  0  0  0  0  0  0\\n    2.3478   -1.3163    0.1002 C   0  0  0  0  0  0  0  0  0  0  0  0\\n    0.4627    2.1935   -0.0312 C   0  0  0  0  0  0  0  0  0  0  0  0\\n    0.6678    3.1549    1.1001 C   0  0  0  0  0  0  0  0  0  0  0  0\\n   -0.7073   -2.1051   -0.4563 H   0  0  0  0  0  0  0  0  0  0  0  0\\n   -0.5669   -1.3392    1.1503 H   0  0  0  0  0  0  0  0  0  0  0  0\\n   -0.3089    0.3239   -1.4193 H   0  0  0  0  0  0  0  0  0  0  0  0\\n   -2.9705   -2.7295    0.1044 H   0  0  0  0  0  0  0  0  0  0  0  0\\n   -2.8083   -1.9210    1.7028 H   0  0  0  0  0  0  0  0  0  0  0  0\\n   -4.1563   -1.4762    0.6031 H   0  0  0  0  0  0  0  0  0  0  0  0\\n   -2.0398    1.4170    0.1863 H   0  0  0  0  0  0  0  0  0  0  0  0\\n   -3.4837    0.7378    0.9384 H   0  0  0  0  0  0  0  0  0  0  0  0\\n   -1.9129    0.5071    1.7551 H   0  0  0  0  0  0  0  0  0  0  0  0\\n   -2.2450    0.4089   -1.8190 H   0  0  0  0  0  0  0  0  0  0  0  0\\n   -2.3000   -1.3879   -2.0100 H   0  0  0  0  0  0  0  0  0  0  0  0\\n   -3.7365   -0.4723   -1.4630 H   0  0  0  0  0  0  0  0  0  0  0  0\\n    1.3299   -1.3744   -1.7823 H   0  0  0  0  0  0  0  0  0  0  0  0\\n    2.0900    0.1756   -1.3923 H   0  0  0  0  0  0  0  0  0  0  0  0\\n   -0.1953    3.1280    1.7699 H   0  0  0  0  0  0  0  0  0  0  0  0\\n    0.7681    4.1684    0.7012 H   0  0  0  0  0  0  0  0  0  0  0  0\\n    1.5832    2.9010    1.6404 H   0  0  0  0  0  0  0  0  0  0  0  0\\n  1  7  1  0\\n  1 13  1  0\\n  2 12  1  0\\n  3 12  2  0\\n  4 13  2  0\\n  5  6  1  0\\n  5  8  1  0\\n  5  9  1  0\\n  5 10  1  0\\n  6  7  1  0\\n  6 15  1  0\\n  6 16  1  0\\n  7 11  1  0\\n  7 17  1  6\\n  8 18  1  0\\n  8 19  1  0\\n  8 20  1  0\\n  9 21  1  0\\n  9 22  1  0\\n  9 23  1  0\\n 10 24  1  0\\n 10 25  1  0\\n 10 26  1  0\\n 11 12  1  0\\n 11 27  1  0\\n 11 28  1  0\\n 13 14  1  0\\n 14 29  1  0\\n 14 30  1  0\\n 14 31  1  0\\nM  CHG  2   2  -1   5   1\\nM  END\\n\",\"mol\");\n",
              "\tviewer_17444769321139996.setStyle({\"stick\": {}});\n",
              "\tviewer_17444769321139996.setBackgroundColor(\"white\");\n",
              "\tviewer_17444769321139996.zoomTo();\n",
              "viewer_17444769321139996.render();\n",
              "});\n",
              "</script>"
            ]
          },
          "metadata": {}
        },
        {
          "output_type": "stream",
          "name": "stdout",
          "text": [
            "Showing: mol_10.sdf\n"
          ]
        },
        {
          "output_type": "display_data",
          "data": {
            "application/3dmoljs_load.v0": "<div id=\"3dmolviewer_17444769321187344\"  style=\"position: relative; width: 400px; height: 350px;\">\n        <p id=\"3dmolwarning_17444769321187344\" style=\"background-color:#ffcccc;color:black\">3Dmol.js failed to load for some reason.  Please check your browser console for error messages.<br></p>\n        </div>\n<script>\n\nvar loadScriptAsync = function(uri){\n  return new Promise((resolve, reject) => {\n    //this is to ignore the existence of requirejs amd\n    var savedexports, savedmodule;\n    if (typeof exports !== 'undefined') savedexports = exports;\n    else exports = {}\n    if (typeof module !== 'undefined') savedmodule = module;\n    else module = {}\n\n    var tag = document.createElement('script');\n    tag.src = uri;\n    tag.async = true;\n    tag.onload = () => {\n        exports = savedexports;\n        module = savedmodule;\n        resolve();\n    };\n  var firstScriptTag = document.getElementsByTagName('script')[0];\n  firstScriptTag.parentNode.insertBefore(tag, firstScriptTag);\n});\n};\n\nif(typeof $3Dmolpromise === 'undefined') {\n$3Dmolpromise = null;\n  $3Dmolpromise = loadScriptAsync('https://cdnjs.cloudflare.com/ajax/libs/3Dmol/2.4.2/3Dmol-min.js');\n}\n\nvar viewer_17444769321187344 = null;\nvar warn = document.getElementById(\"3dmolwarning_17444769321187344\");\nif(warn) {\n    warn.parentNode.removeChild(warn);\n}\n$3Dmolpromise.then(function() {\nviewer_17444769321187344 = $3Dmol.createViewer(document.getElementById(\"3dmolviewer_17444769321187344\"),{backgroundColor:\"white\"});\nviewer_17444769321187344.zoomTo();\n\tviewer_17444769321187344.addModel(\"10\\n     RDKit          3D\\n\\n 57 59  0  0  1  0  0  0  0  0999 V2000\\n   -0.5676    1.1273   -1.7704 O   0  0  0  0  0  0  0  0  0  0  0  0\\n   -5.6851   -2.9381   -0.6072 O   0  0  0  0  0  0  0  0  0  0  0  0\\n    2.5234   -3.3586   -0.6032 O   0  0  0  0  0  0  0  0  0  0  0  0\\n    5.8661   -0.9187    2.2745 O   0  0  0  0  0  0  0  0  0  0  0  0\\n    3.7543   -0.3316    2.8628 O   0  0  0  0  0  0  0  0  0  0  0  0\\n    4.7272    2.8641   -1.8444 O   0  0  0  0  0  0  0  0  0  0  0  0\\n    5.7591    1.0038   -2.6330 O   0  0  0  0  0  0  0  0  0  0  0  0\\n   -3.1783    0.6922   -0.9522 N   0  0  0  0  0  0  0  0  0  0  0  0\\n   -4.2046    2.3582    0.9600 N   0  0  0  0  0  0  0  0  0  0  0  0\\n   -3.6477   -1.9429    0.0197 N   0  0  0  0  0  0  0  0  0  0  0  0\\n   -2.0453    3.4731    1.0808 N   0  0  0  0  0  0  0  0  0  0  0  0\\n   -0.2282    2.8547   -0.2947 N   0  0  0  0  0  0  0  0  0  0  0  0\\n    2.6967   -1.4073    0.6373 N   0  0  0  0  0  0  0  0  0  0  0  0\\n   -0.0511    4.6036    1.2684 N   0  0  0  0  0  0  0  0  0  0  0  0\\n   -4.4755    0.3125   -0.4018 C   0  0  2  0  0  0  0  0  0  0  0  0\\n   -5.1617    1.5442    0.2233 C   0  0  0  0  0  0  0  0  0  0  0  0\\n   -4.2819   -0.8085    0.6186 C   0  0  0  0  0  0  0  0  0  0  0  0\\n   -2.4115    1.6993   -0.4053 C   0  0  0  0  0  0  0  0  0  0  0  0\\n   -2.8879    2.5215    0.5565 C   0  0  0  0  0  0  0  0  0  0  0  0\\n   -2.1920   -2.0644    0.0099 C   0  0  0  0  0  0  0  0  0  0  0  0\\n   -0.9965    1.8641   -0.8856 C   0  0  0  0  0  0  0  0  0  0  0  0\\n   -4.4570   -2.9408   -0.5606 C   0  0  0  0  0  0  0  0  0  0  0  0\\n   -0.7506    3.6064    0.6396 C   0  0  0  0  0  0  0  0  0  0  0  0\\n   -1.5040   -1.4951    1.0398 C   0  0  0  0  0  0  0  0  0  0  0  0\\n   -1.6208   -2.7387   -1.0281 C   0  0  0  0  0  0  0  0  0  0  0  0\\n    4.1403   -1.3733    0.6955 C   0  0  1  0  0  0  0  0  0  0  0  0\\n    0.5226   -2.2907   -0.0074 C   0  0  0  0  0  0  0  0  0  0  0  0\\n    4.7637   -0.6300   -0.4922 C   0  0  0  0  0  0  0  0  0  0  0  0\\n   -0.1140   -1.6109    1.0310 C   0  0  0  0  0  0  0  0  0  0  0  0\\n   -0.2307   -2.8547   -1.0369 C   0  0  0  0  0  0  0  0  0  0  0  0\\n    1.9718   -2.4105   -0.0167 C   0  0  0  0  0  0  0  0  0  0  0  0\\n    4.4027    0.8560   -0.6144 C   0  0  0  0  0  0  0  0  0  0  0  0\\n    4.5315   -0.8067    2.0448 C   0  0  0  0  0  0  0  0  0  0  0  0\\n    5.0325    1.5405   -1.8084 C   0  0  0  0  0  0  0  0  0  0  0  0\\n   -5.1045   -0.0570   -1.2211 H   0  0  0  0  0  0  0  0  0  0  0  0\\n   -5.5852    2.1640   -0.5765 H   0  0  0  0  0  0  0  0  0  0  0  0\\n   -5.9889    1.2497    0.8778 H   0  0  0  0  0  0  0  0  0  0  0  0\\n   -5.2739   -1.1147    0.9770 H   0  0  0  0  0  0  0  0  0  0  0  0\\n   -3.7714   -0.4517    1.5143 H   0  0  0  0  0  0  0  0  0  0  0  0\\n   -2.7519    0.1094   -1.6645 H   0  0  0  0  0  0  0  0  0  0  0  0\\n   -4.5462    3.0033    1.6644 H   0  0  0  0  0  0  0  0  0  0  0  0\\n   -2.4244    4.0746    1.8035 H   0  0  0  0  0  0  0  0  0  0  0  0\\n   -3.8955   -3.8053   -0.9407 H   0  0  0  0  0  0  0  0  0  0  0  0\\n   -1.9491   -0.9983    1.8911 H   0  0  0  0  0  0  0  0  0  0  0  0\\n   -2.1694   -3.1477   -1.8684 H   0  0  0  0  0  0  0  0  0  0  0  0\\n    4.4889   -2.4137    0.6794 H   0  0  0  0  0  0  0  0  0  0  0  0\\n    5.8565   -0.7168   -0.4344 H   0  0  0  0  0  0  0  0  0  0  0  0\\n    4.4704   -1.1370   -1.4211 H   0  0  0  0  0  0  0  0  0  0  0  0\\n    0.4317   -1.1910    1.8711 H   0  0  0  0  0  0  0  0  0  0  0  0\\n    0.2476   -3.3752   -1.8628 H   0  0  0  0  0  0  0  0  0  0  0  0\\n    2.2078   -0.6105    1.0326 H   0  0  0  0  0  0  0  0  0  0  0  0\\n    3.3165    0.9652   -0.7080 H   0  0  0  0  0  0  0  0  0  0  0  0\\n    4.7336    1.3881    0.2843 H   0  0  0  0  0  0  0  0  0  0  0  0\\n   -0.4770    5.1748    1.9900 H   0  0  0  0  0  0  0  0  0  0  0  0\\n    0.9148    4.7988    1.0285 H   0  0  0  0  0  0  0  0  0  0  0  0\\n    6.1160   -0.5662    3.1551 H   0  0  0  0  0  0  0  0  0  0  0  0\\n    5.1481    3.3155   -2.6070 H   0  0  0  0  0  0  0  0  0  0  0  0\\n  1 21  2  0\\n  2 22  2  0\\n  3 31  2  0\\n  4 33  1  0\\n  4 56  1  0\\n  5 33  2  0\\n  6 34  1  0\\n  6 57  1  0\\n  7 34  2  0\\n  8 15  1  0\\n  8 18  1  0\\n  8 40  1  0\\n  9 16  1  0\\n  9 19  1  0\\n  9 41  1  0\\n 10 17  1  0\\n 10 20  1  0\\n 10 22  1  0\\n 11 19  1  0\\n 11 23  1  0\\n 11 42  1  0\\n 12 21  1  0\\n 12 23  2  0\\n 13 26  1  0\\n 13 31  1  0\\n 13 51  1  0\\n 14 23  1  0\\n 14 54  1  0\\n 14 55  1  0\\n 15 16  1  0\\n 15 17  1  0\\n 15 35  1  6\\n 16 36  1  0\\n 16 37  1  0\\n 17 38  1  0\\n 17 39  1  0\\n 18 19  2  0\\n 18 21  1  0\\n 20 24  2  0\\n 20 25  1  0\\n 22 43  1  0\\n 24 29  1  0\\n 24 44  1  0\\n 25 30  2  0\\n 25 45  1  0\\n 26 28  1  0\\n 26 33  1  0\\n 26 46  1  1\\n 27 29  2  0\\n 27 30  1  0\\n 27 31  1  0\\n 28 32  1  0\\n 28 47  1  0\\n 28 48  1  0\\n 29 49  1  0\\n 30 50  1  0\\n 32 34  1  0\\n 32 52  1  0\\n 32 53  1  0\\nM  END\\n\",\"mol\");\n\tviewer_17444769321187344.setStyle({\"stick\": {}});\n\tviewer_17444769321187344.setBackgroundColor(\"white\");\n\tviewer_17444769321187344.zoomTo();\nviewer_17444769321187344.render();\n});\n</script>",
            "text/html": [
              "<div id=\"3dmolviewer_17444769321187344\"  style=\"position: relative; width: 400px; height: 350px;\">\n",
              "        <p id=\"3dmolwarning_17444769321187344\" style=\"background-color:#ffcccc;color:black\">3Dmol.js failed to load for some reason.  Please check your browser console for error messages.<br></p>\n",
              "        </div>\n",
              "<script>\n",
              "\n",
              "var loadScriptAsync = function(uri){\n",
              "  return new Promise((resolve, reject) => {\n",
              "    //this is to ignore the existence of requirejs amd\n",
              "    var savedexports, savedmodule;\n",
              "    if (typeof exports !== 'undefined') savedexports = exports;\n",
              "    else exports = {}\n",
              "    if (typeof module !== 'undefined') savedmodule = module;\n",
              "    else module = {}\n",
              "\n",
              "    var tag = document.createElement('script');\n",
              "    tag.src = uri;\n",
              "    tag.async = true;\n",
              "    tag.onload = () => {\n",
              "        exports = savedexports;\n",
              "        module = savedmodule;\n",
              "        resolve();\n",
              "    };\n",
              "  var firstScriptTag = document.getElementsByTagName('script')[0];\n",
              "  firstScriptTag.parentNode.insertBefore(tag, firstScriptTag);\n",
              "});\n",
              "};\n",
              "\n",
              "if(typeof $3Dmolpromise === 'undefined') {\n",
              "$3Dmolpromise = null;\n",
              "  $3Dmolpromise = loadScriptAsync('https://cdnjs.cloudflare.com/ajax/libs/3Dmol/2.4.2/3Dmol-min.js');\n",
              "}\n",
              "\n",
              "var viewer_17444769321187344 = null;\n",
              "var warn = document.getElementById(\"3dmolwarning_17444769321187344\");\n",
              "if(warn) {\n",
              "    warn.parentNode.removeChild(warn);\n",
              "}\n",
              "$3Dmolpromise.then(function() {\n",
              "viewer_17444769321187344 = $3Dmol.createViewer(document.getElementById(\"3dmolviewer_17444769321187344\"),{backgroundColor:\"white\"});\n",
              "viewer_17444769321187344.zoomTo();\n",
              "\tviewer_17444769321187344.addModel(\"10\\n     RDKit          3D\\n\\n 57 59  0  0  1  0  0  0  0  0999 V2000\\n   -0.5676    1.1273   -1.7704 O   0  0  0  0  0  0  0  0  0  0  0  0\\n   -5.6851   -2.9381   -0.6072 O   0  0  0  0  0  0  0  0  0  0  0  0\\n    2.5234   -3.3586   -0.6032 O   0  0  0  0  0  0  0  0  0  0  0  0\\n    5.8661   -0.9187    2.2745 O   0  0  0  0  0  0  0  0  0  0  0  0\\n    3.7543   -0.3316    2.8628 O   0  0  0  0  0  0  0  0  0  0  0  0\\n    4.7272    2.8641   -1.8444 O   0  0  0  0  0  0  0  0  0  0  0  0\\n    5.7591    1.0038   -2.6330 O   0  0  0  0  0  0  0  0  0  0  0  0\\n   -3.1783    0.6922   -0.9522 N   0  0  0  0  0  0  0  0  0  0  0  0\\n   -4.2046    2.3582    0.9600 N   0  0  0  0  0  0  0  0  0  0  0  0\\n   -3.6477   -1.9429    0.0197 N   0  0  0  0  0  0  0  0  0  0  0  0\\n   -2.0453    3.4731    1.0808 N   0  0  0  0  0  0  0  0  0  0  0  0\\n   -0.2282    2.8547   -0.2947 N   0  0  0  0  0  0  0  0  0  0  0  0\\n    2.6967   -1.4073    0.6373 N   0  0  0  0  0  0  0  0  0  0  0  0\\n   -0.0511    4.6036    1.2684 N   0  0  0  0  0  0  0  0  0  0  0  0\\n   -4.4755    0.3125   -0.4018 C   0  0  2  0  0  0  0  0  0  0  0  0\\n   -5.1617    1.5442    0.2233 C   0  0  0  0  0  0  0  0  0  0  0  0\\n   -4.2819   -0.8085    0.6186 C   0  0  0  0  0  0  0  0  0  0  0  0\\n   -2.4115    1.6993   -0.4053 C   0  0  0  0  0  0  0  0  0  0  0  0\\n   -2.8879    2.5215    0.5565 C   0  0  0  0  0  0  0  0  0  0  0  0\\n   -2.1920   -2.0644    0.0099 C   0  0  0  0  0  0  0  0  0  0  0  0\\n   -0.9965    1.8641   -0.8856 C   0  0  0  0  0  0  0  0  0  0  0  0\\n   -4.4570   -2.9408   -0.5606 C   0  0  0  0  0  0  0  0  0  0  0  0\\n   -0.7506    3.6064    0.6396 C   0  0  0  0  0  0  0  0  0  0  0  0\\n   -1.5040   -1.4951    1.0398 C   0  0  0  0  0  0  0  0  0  0  0  0\\n   -1.6208   -2.7387   -1.0281 C   0  0  0  0  0  0  0  0  0  0  0  0\\n    4.1403   -1.3733    0.6955 C   0  0  1  0  0  0  0  0  0  0  0  0\\n    0.5226   -2.2907   -0.0074 C   0  0  0  0  0  0  0  0  0  0  0  0\\n    4.7637   -0.6300   -0.4922 C   0  0  0  0  0  0  0  0  0  0  0  0\\n   -0.1140   -1.6109    1.0310 C   0  0  0  0  0  0  0  0  0  0  0  0\\n   -0.2307   -2.8547   -1.0369 C   0  0  0  0  0  0  0  0  0  0  0  0\\n    1.9718   -2.4105   -0.0167 C   0  0  0  0  0  0  0  0  0  0  0  0\\n    4.4027    0.8560   -0.6144 C   0  0  0  0  0  0  0  0  0  0  0  0\\n    4.5315   -0.8067    2.0448 C   0  0  0  0  0  0  0  0  0  0  0  0\\n    5.0325    1.5405   -1.8084 C   0  0  0  0  0  0  0  0  0  0  0  0\\n   -5.1045   -0.0570   -1.2211 H   0  0  0  0  0  0  0  0  0  0  0  0\\n   -5.5852    2.1640   -0.5765 H   0  0  0  0  0  0  0  0  0  0  0  0\\n   -5.9889    1.2497    0.8778 H   0  0  0  0  0  0  0  0  0  0  0  0\\n   -5.2739   -1.1147    0.9770 H   0  0  0  0  0  0  0  0  0  0  0  0\\n   -3.7714   -0.4517    1.5143 H   0  0  0  0  0  0  0  0  0  0  0  0\\n   -2.7519    0.1094   -1.6645 H   0  0  0  0  0  0  0  0  0  0  0  0\\n   -4.5462    3.0033    1.6644 H   0  0  0  0  0  0  0  0  0  0  0  0\\n   -2.4244    4.0746    1.8035 H   0  0  0  0  0  0  0  0  0  0  0  0\\n   -3.8955   -3.8053   -0.9407 H   0  0  0  0  0  0  0  0  0  0  0  0\\n   -1.9491   -0.9983    1.8911 H   0  0  0  0  0  0  0  0  0  0  0  0\\n   -2.1694   -3.1477   -1.8684 H   0  0  0  0  0  0  0  0  0  0  0  0\\n    4.4889   -2.4137    0.6794 H   0  0  0  0  0  0  0  0  0  0  0  0\\n    5.8565   -0.7168   -0.4344 H   0  0  0  0  0  0  0  0  0  0  0  0\\n    4.4704   -1.1370   -1.4211 H   0  0  0  0  0  0  0  0  0  0  0  0\\n    0.4317   -1.1910    1.8711 H   0  0  0  0  0  0  0  0  0  0  0  0\\n    0.2476   -3.3752   -1.8628 H   0  0  0  0  0  0  0  0  0  0  0  0\\n    2.2078   -0.6105    1.0326 H   0  0  0  0  0  0  0  0  0  0  0  0\\n    3.3165    0.9652   -0.7080 H   0  0  0  0  0  0  0  0  0  0  0  0\\n    4.7336    1.3881    0.2843 H   0  0  0  0  0  0  0  0  0  0  0  0\\n   -0.4770    5.1748    1.9900 H   0  0  0  0  0  0  0  0  0  0  0  0\\n    0.9148    4.7988    1.0285 H   0  0  0  0  0  0  0  0  0  0  0  0\\n    6.1160   -0.5662    3.1551 H   0  0  0  0  0  0  0  0  0  0  0  0\\n    5.1481    3.3155   -2.6070 H   0  0  0  0  0  0  0  0  0  0  0  0\\n  1 21  2  0\\n  2 22  2  0\\n  3 31  2  0\\n  4 33  1  0\\n  4 56  1  0\\n  5 33  2  0\\n  6 34  1  0\\n  6 57  1  0\\n  7 34  2  0\\n  8 15  1  0\\n  8 18  1  0\\n  8 40  1  0\\n  9 16  1  0\\n  9 19  1  0\\n  9 41  1  0\\n 10 17  1  0\\n 10 20  1  0\\n 10 22  1  0\\n 11 19  1  0\\n 11 23  1  0\\n 11 42  1  0\\n 12 21  1  0\\n 12 23  2  0\\n 13 26  1  0\\n 13 31  1  0\\n 13 51  1  0\\n 14 23  1  0\\n 14 54  1  0\\n 14 55  1  0\\n 15 16  1  0\\n 15 17  1  0\\n 15 35  1  6\\n 16 36  1  0\\n 16 37  1  0\\n 17 38  1  0\\n 17 39  1  0\\n 18 19  2  0\\n 18 21  1  0\\n 20 24  2  0\\n 20 25  1  0\\n 22 43  1  0\\n 24 29  1  0\\n 24 44  1  0\\n 25 30  2  0\\n 25 45  1  0\\n 26 28  1  0\\n 26 33  1  0\\n 26 46  1  1\\n 27 29  2  0\\n 27 30  1  0\\n 27 31  1  0\\n 28 32  1  0\\n 28 47  1  0\\n 28 48  1  0\\n 29 49  1  0\\n 30 50  1  0\\n 32 34  1  0\\n 32 52  1  0\\n 32 53  1  0\\nM  END\\n\",\"mol\");\n",
              "\tviewer_17444769321187344.setStyle({\"stick\": {}});\n",
              "\tviewer_17444769321187344.setBackgroundColor(\"white\");\n",
              "\tviewer_17444769321187344.zoomTo();\n",
              "viewer_17444769321187344.render();\n",
              "});\n",
              "</script>"
            ]
          },
          "metadata": {}
        },
        {
          "output_type": "stream",
          "name": "stdout",
          "text": [
            "Showing: mol_1000.sdf\n"
          ]
        },
        {
          "output_type": "display_data",
          "data": {
            "application/3dmoljs_load.v0": "<div id=\"3dmolviewer_17444769321231084\"  style=\"position: relative; width: 400px; height: 350px;\">\n        <p id=\"3dmolwarning_17444769321231084\" style=\"background-color:#ffcccc;color:black\">3Dmol.js failed to load for some reason.  Please check your browser console for error messages.<br></p>\n        </div>\n<script>\n\nvar loadScriptAsync = function(uri){\n  return new Promise((resolve, reject) => {\n    //this is to ignore the existence of requirejs amd\n    var savedexports, savedmodule;\n    if (typeof exports !== 'undefined') savedexports = exports;\n    else exports = {}\n    if (typeof module !== 'undefined') savedmodule = module;\n    else module = {}\n\n    var tag = document.createElement('script');\n    tag.src = uri;\n    tag.async = true;\n    tag.onload = () => {\n        exports = savedexports;\n        module = savedmodule;\n        resolve();\n    };\n  var firstScriptTag = document.getElementsByTagName('script')[0];\n  firstScriptTag.parentNode.insertBefore(tag, firstScriptTag);\n});\n};\n\nif(typeof $3Dmolpromise === 'undefined') {\n$3Dmolpromise = null;\n  $3Dmolpromise = loadScriptAsync('https://cdnjs.cloudflare.com/ajax/libs/3Dmol/2.4.2/3Dmol-min.js');\n}\n\nvar viewer_17444769321231084 = null;\nvar warn = document.getElementById(\"3dmolwarning_17444769321231084\");\nif(warn) {\n    warn.parentNode.removeChild(warn);\n}\n$3Dmolpromise.then(function() {\nviewer_17444769321231084 = $3Dmol.createViewer(document.getElementById(\"3dmolviewer_17444769321231084\"),{backgroundColor:\"white\"});\nviewer_17444769321231084.zoomTo();\n\tviewer_17444769321231084.addModel(\"1000\\n     RDKit          3D\\n\\n 21 21  0  0  1  0  0  0  0  0999 V2000\\n    1.7669    1.2709    0.8744 O   0  0  0  0  0  0  0  0  0  0  0  0\\n    3.6056   -0.4922   -0.4719 N   0  0  0  0  0  0  0  0  0  0  0  0\\n    1.3578   -0.0471    0.4853 C   0  0  1  0  0  0  0  0  0  0  0  0\\n   -0.1104   -0.0436    0.2222 C   0  0  0  0  0  0  0  0  0  0  0  0\\n    2.1706   -0.4909   -0.7471 C   0  0  0  0  0  0  0  0  0  0  0  0\\n   -0.7283    1.1066   -0.2686 C   0  0  0  0  0  0  0  0  0  0  0  0\\n   -0.8656   -1.1903    0.4674 C   0  0  0  0  0  0  0  0  0  0  0  0\\n   -2.1014    1.1101   -0.5142 C   0  0  0  0  0  0  0  0  0  0  0  0\\n   -2.2387   -1.1870    0.2217 C   0  0  0  0  0  0  0  0  0  0  0  0\\n   -2.8565   -0.0367   -0.2691 C   0  0  0  0  0  0  0  0  0  0  0  0\\n    1.5736   -0.7038    1.3379 H   0  0  0  0  0  0  0  0  0  0  0  0\\n    1.9849    0.1880   -1.5881 H   0  0  0  0  0  0  0  0  0  0  0  0\\n    1.8655   -1.4961   -1.0589 H   0  0  0  0  0  0  0  0  0  0  0  0\\n   -0.1626    2.0095   -0.4819 H   0  0  0  0  0  0  0  0  0  0  0  0\\n   -0.3959   -2.0934    0.8481 H   0  0  0  0  0  0  0  0  0  0  0  0\\n   -2.5822    2.0046   -0.8995 H   0  0  0  0  0  0  0  0  0  0  0  0\\n   -2.8267   -2.0801    0.4118 H   0  0  0  0  0  0  0  0  0  0  0  0\\n   -3.9255   -0.0344   -0.4613 H   0  0  0  0  0  0  0  0  0  0  0  0\\n    2.6857    1.2104    1.1859 H   0  0  0  0  0  0  0  0  0  0  0  0\\n    3.9203    0.4585   -0.2836 H   0  0  0  0  0  0  0  0  0  0  0  0\\n    4.1068   -0.7931   -1.3070 H   0  0  0  0  0  0  0  0  0  0  0  0\\n  1  3  1  0\\n  1 19  1  0\\n  2  5  1  0\\n  2 20  1  0\\n  2 21  1  0\\n  3  4  1  0\\n  3  5  1  0\\n  3 11  1  1\\n  4  6  2  0\\n  4  7  1  0\\n  5 12  1  0\\n  5 13  1  0\\n  6  8  1  0\\n  6 14  1  0\\n  7  9  2  0\\n  7 15  1  0\\n  8 10  2  0\\n  8 16  1  0\\n  9 10  1  0\\n  9 17  1  0\\n 10 18  1  0\\nM  END\\n\",\"mol\");\n\tviewer_17444769321231084.setStyle({\"stick\": {}});\n\tviewer_17444769321231084.setBackgroundColor(\"white\");\n\tviewer_17444769321231084.zoomTo();\nviewer_17444769321231084.render();\n});\n</script>",
            "text/html": [
              "<div id=\"3dmolviewer_17444769321231084\"  style=\"position: relative; width: 400px; height: 350px;\">\n",
              "        <p id=\"3dmolwarning_17444769321231084\" style=\"background-color:#ffcccc;color:black\">3Dmol.js failed to load for some reason.  Please check your browser console for error messages.<br></p>\n",
              "        </div>\n",
              "<script>\n",
              "\n",
              "var loadScriptAsync = function(uri){\n",
              "  return new Promise((resolve, reject) => {\n",
              "    //this is to ignore the existence of requirejs amd\n",
              "    var savedexports, savedmodule;\n",
              "    if (typeof exports !== 'undefined') savedexports = exports;\n",
              "    else exports = {}\n",
              "    if (typeof module !== 'undefined') savedmodule = module;\n",
              "    else module = {}\n",
              "\n",
              "    var tag = document.createElement('script');\n",
              "    tag.src = uri;\n",
              "    tag.async = true;\n",
              "    tag.onload = () => {\n",
              "        exports = savedexports;\n",
              "        module = savedmodule;\n",
              "        resolve();\n",
              "    };\n",
              "  var firstScriptTag = document.getElementsByTagName('script')[0];\n",
              "  firstScriptTag.parentNode.insertBefore(tag, firstScriptTag);\n",
              "});\n",
              "};\n",
              "\n",
              "if(typeof $3Dmolpromise === 'undefined') {\n",
              "$3Dmolpromise = null;\n",
              "  $3Dmolpromise = loadScriptAsync('https://cdnjs.cloudflare.com/ajax/libs/3Dmol/2.4.2/3Dmol-min.js');\n",
              "}\n",
              "\n",
              "var viewer_17444769321231084 = null;\n",
              "var warn = document.getElementById(\"3dmolwarning_17444769321231084\");\n",
              "if(warn) {\n",
              "    warn.parentNode.removeChild(warn);\n",
              "}\n",
              "$3Dmolpromise.then(function() {\n",
              "viewer_17444769321231084 = $3Dmol.createViewer(document.getElementById(\"3dmolviewer_17444769321231084\"),{backgroundColor:\"white\"});\n",
              "viewer_17444769321231084.zoomTo();\n",
              "\tviewer_17444769321231084.addModel(\"1000\\n     RDKit          3D\\n\\n 21 21  0  0  1  0  0  0  0  0999 V2000\\n    1.7669    1.2709    0.8744 O   0  0  0  0  0  0  0  0  0  0  0  0\\n    3.6056   -0.4922   -0.4719 N   0  0  0  0  0  0  0  0  0  0  0  0\\n    1.3578   -0.0471    0.4853 C   0  0  1  0  0  0  0  0  0  0  0  0\\n   -0.1104   -0.0436    0.2222 C   0  0  0  0  0  0  0  0  0  0  0  0\\n    2.1706   -0.4909   -0.7471 C   0  0  0  0  0  0  0  0  0  0  0  0\\n   -0.7283    1.1066   -0.2686 C   0  0  0  0  0  0  0  0  0  0  0  0\\n   -0.8656   -1.1903    0.4674 C   0  0  0  0  0  0  0  0  0  0  0  0\\n   -2.1014    1.1101   -0.5142 C   0  0  0  0  0  0  0  0  0  0  0  0\\n   -2.2387   -1.1870    0.2217 C   0  0  0  0  0  0  0  0  0  0  0  0\\n   -2.8565   -0.0367   -0.2691 C   0  0  0  0  0  0  0  0  0  0  0  0\\n    1.5736   -0.7038    1.3379 H   0  0  0  0  0  0  0  0  0  0  0  0\\n    1.9849    0.1880   -1.5881 H   0  0  0  0  0  0  0  0  0  0  0  0\\n    1.8655   -1.4961   -1.0589 H   0  0  0  0  0  0  0  0  0  0  0  0\\n   -0.1626    2.0095   -0.4819 H   0  0  0  0  0  0  0  0  0  0  0  0\\n   -0.3959   -2.0934    0.8481 H   0  0  0  0  0  0  0  0  0  0  0  0\\n   -2.5822    2.0046   -0.8995 H   0  0  0  0  0  0  0  0  0  0  0  0\\n   -2.8267   -2.0801    0.4118 H   0  0  0  0  0  0  0  0  0  0  0  0\\n   -3.9255   -0.0344   -0.4613 H   0  0  0  0  0  0  0  0  0  0  0  0\\n    2.6857    1.2104    1.1859 H   0  0  0  0  0  0  0  0  0  0  0  0\\n    3.9203    0.4585   -0.2836 H   0  0  0  0  0  0  0  0  0  0  0  0\\n    4.1068   -0.7931   -1.3070 H   0  0  0  0  0  0  0  0  0  0  0  0\\n  1  3  1  0\\n  1 19  1  0\\n  2  5  1  0\\n  2 20  1  0\\n  2 21  1  0\\n  3  4  1  0\\n  3  5  1  0\\n  3 11  1  1\\n  4  6  2  0\\n  4  7  1  0\\n  5 12  1  0\\n  5 13  1  0\\n  6  8  1  0\\n  6 14  1  0\\n  7  9  2  0\\n  7 15  1  0\\n  8 10  2  0\\n  8 16  1  0\\n  9 10  1  0\\n  9 17  1  0\\n 10 18  1  0\\nM  END\\n\",\"mol\");\n",
              "\tviewer_17444769321231084.setStyle({\"stick\": {}});\n",
              "\tviewer_17444769321231084.setBackgroundColor(\"white\");\n",
              "\tviewer_17444769321231084.zoomTo();\n",
              "viewer_17444769321231084.render();\n",
              "});\n",
              "</script>"
            ]
          },
          "metadata": {}
        },
        {
          "output_type": "stream",
          "name": "stdout",
          "text": [
            "Showing: mol_1001.sdf\n"
          ]
        },
        {
          "output_type": "display_data",
          "data": {
            "application/3dmoljs_load.v0": "<div id=\"3dmolviewer_17444769321266468\"  style=\"position: relative; width: 400px; height: 350px;\">\n        <p id=\"3dmolwarning_17444769321266468\" style=\"background-color:#ffcccc;color:black\">3Dmol.js failed to load for some reason.  Please check your browser console for error messages.<br></p>\n        </div>\n<script>\n\nvar loadScriptAsync = function(uri){\n  return new Promise((resolve, reject) => {\n    //this is to ignore the existence of requirejs amd\n    var savedexports, savedmodule;\n    if (typeof exports !== 'undefined') savedexports = exports;\n    else exports = {}\n    if (typeof module !== 'undefined') savedmodule = module;\n    else module = {}\n\n    var tag = document.createElement('script');\n    tag.src = uri;\n    tag.async = true;\n    tag.onload = () => {\n        exports = savedexports;\n        module = savedmodule;\n        resolve();\n    };\n  var firstScriptTag = document.getElementsByTagName('script')[0];\n  firstScriptTag.parentNode.insertBefore(tag, firstScriptTag);\n});\n};\n\nif(typeof $3Dmolpromise === 'undefined') {\n$3Dmolpromise = null;\n  $3Dmolpromise = loadScriptAsync('https://cdnjs.cloudflare.com/ajax/libs/3Dmol/2.4.2/3Dmol-min.js');\n}\n\nvar viewer_17444769321266468 = null;\nvar warn = document.getElementById(\"3dmolwarning_17444769321266468\");\nif(warn) {\n    warn.parentNode.removeChild(warn);\n}\n$3Dmolpromise.then(function() {\nviewer_17444769321266468 = $3Dmol.createViewer(document.getElementById(\"3dmolviewer_17444769321266468\"),{backgroundColor:\"white\"});\nviewer_17444769321266468.zoomTo();\n\tviewer_17444769321266468.addModel(\"1001\\n     RDKit          3D\\n\\n 20 20  0  0  0  0  0  0  0  0999 V2000\\n    3.8236   -0.0118   -0.2192 N   0  0  0  0  0  0  0  0  0  0  0  0\\n    1.5175    0.0087    0.6824 C   0  0  0  0  0  0  0  0  0  0  0  0\\n    0.0660    0.0036    0.3386 C   0  0  0  0  0  0  0  0  0  0  0  0\\n    2.4073    0.0095   -0.5686 C   0  0  0  0  0  0  0  0  0  0  0  0\\n   -0.6165    1.2092    0.1765 C   0  0  0  0  0  0  0  0  0  0  0  0\\n   -0.6088   -1.2067    0.1797 C   0  0  0  0  0  0  0  0  0  0  0  0\\n   -1.9740    1.2046   -0.1444 C   0  0  0  0  0  0  0  0  0  0  0  0\\n   -1.9663   -1.2114   -0.1414 C   0  0  0  0  0  0  0  0  0  0  0  0\\n   -2.6488   -0.0058   -0.3035 C   0  0  0  0  0  0  0  0  0  0  0  0\\n    1.7462    0.8836    1.3057 H   0  0  0  0  0  0  0  0  0  0  0  0\\n    1.7509   -0.8645    1.3064 H   0  0  0  0  0  0  0  0  0  0  0  0\\n    2.2014    0.8974   -1.1780 H   0  0  0  0  0  0  0  0  0  0  0  0\\n    2.1854   -0.8662   -1.1894 H   0  0  0  0  0  0  0  0  0  0  0  0\\n   -0.1018    2.1589    0.2958 H   0  0  0  0  0  0  0  0  0  0  0  0\\n   -0.0880   -2.1528    0.3015 H   0  0  0  0  0  0  0  0  0  0  0  0\\n   -2.5054    2.1432   -0.2712 H   0  0  0  0  0  0  0  0  0  0  0  0\\n   -2.4916   -2.1538   -0.2658 H   0  0  0  0  0  0  0  0  0  0  0  0\\n   -3.7056   -0.0095   -0.5538 H   0  0  0  0  0  0  0  0  0  0  0  0\\n    4.0520    0.8136    0.3334 H   0  0  0  0  0  0  0  0  0  0  0  0\\n    4.3824    0.0493   -1.0692 H   0  0  0  0  0  0  0  0  0  0  0  0\\n  1  4  1  0\\n  1 19  1  0\\n  1 20  1  0\\n  2  3  1  0\\n  2  4  1  0\\n  2 10  1  0\\n  2 11  1  0\\n  3  5  2  0\\n  3  6  1  0\\n  4 12  1  0\\n  4 13  1  0\\n  5  7  1  0\\n  5 14  1  0\\n  6  8  2  0\\n  6 15  1  0\\n  7  9  2  0\\n  7 16  1  0\\n  8  9  1  0\\n  8 17  1  0\\n  9 18  1  0\\nM  END\\n\",\"mol\");\n\tviewer_17444769321266468.setStyle({\"stick\": {}});\n\tviewer_17444769321266468.setBackgroundColor(\"white\");\n\tviewer_17444769321266468.zoomTo();\nviewer_17444769321266468.render();\n});\n</script>",
            "text/html": [
              "<div id=\"3dmolviewer_17444769321266468\"  style=\"position: relative; width: 400px; height: 350px;\">\n",
              "        <p id=\"3dmolwarning_17444769321266468\" style=\"background-color:#ffcccc;color:black\">3Dmol.js failed to load for some reason.  Please check your browser console for error messages.<br></p>\n",
              "        </div>\n",
              "<script>\n",
              "\n",
              "var loadScriptAsync = function(uri){\n",
              "  return new Promise((resolve, reject) => {\n",
              "    //this is to ignore the existence of requirejs amd\n",
              "    var savedexports, savedmodule;\n",
              "    if (typeof exports !== 'undefined') savedexports = exports;\n",
              "    else exports = {}\n",
              "    if (typeof module !== 'undefined') savedmodule = module;\n",
              "    else module = {}\n",
              "\n",
              "    var tag = document.createElement('script');\n",
              "    tag.src = uri;\n",
              "    tag.async = true;\n",
              "    tag.onload = () => {\n",
              "        exports = savedexports;\n",
              "        module = savedmodule;\n",
              "        resolve();\n",
              "    };\n",
              "  var firstScriptTag = document.getElementsByTagName('script')[0];\n",
              "  firstScriptTag.parentNode.insertBefore(tag, firstScriptTag);\n",
              "});\n",
              "};\n",
              "\n",
              "if(typeof $3Dmolpromise === 'undefined') {\n",
              "$3Dmolpromise = null;\n",
              "  $3Dmolpromise = loadScriptAsync('https://cdnjs.cloudflare.com/ajax/libs/3Dmol/2.4.2/3Dmol-min.js');\n",
              "}\n",
              "\n",
              "var viewer_17444769321266468 = null;\n",
              "var warn = document.getElementById(\"3dmolwarning_17444769321266468\");\n",
              "if(warn) {\n",
              "    warn.parentNode.removeChild(warn);\n",
              "}\n",
              "$3Dmolpromise.then(function() {\n",
              "viewer_17444769321266468 = $3Dmol.createViewer(document.getElementById(\"3dmolviewer_17444769321266468\"),{backgroundColor:\"white\"});\n",
              "viewer_17444769321266468.zoomTo();\n",
              "\tviewer_17444769321266468.addModel(\"1001\\n     RDKit          3D\\n\\n 20 20  0  0  0  0  0  0  0  0999 V2000\\n    3.8236   -0.0118   -0.2192 N   0  0  0  0  0  0  0  0  0  0  0  0\\n    1.5175    0.0087    0.6824 C   0  0  0  0  0  0  0  0  0  0  0  0\\n    0.0660    0.0036    0.3386 C   0  0  0  0  0  0  0  0  0  0  0  0\\n    2.4073    0.0095   -0.5686 C   0  0  0  0  0  0  0  0  0  0  0  0\\n   -0.6165    1.2092    0.1765 C   0  0  0  0  0  0  0  0  0  0  0  0\\n   -0.6088   -1.2067    0.1797 C   0  0  0  0  0  0  0  0  0  0  0  0\\n   -1.9740    1.2046   -0.1444 C   0  0  0  0  0  0  0  0  0  0  0  0\\n   -1.9663   -1.2114   -0.1414 C   0  0  0  0  0  0  0  0  0  0  0  0\\n   -2.6488   -0.0058   -0.3035 C   0  0  0  0  0  0  0  0  0  0  0  0\\n    1.7462    0.8836    1.3057 H   0  0  0  0  0  0  0  0  0  0  0  0\\n    1.7509   -0.8645    1.3064 H   0  0  0  0  0  0  0  0  0  0  0  0\\n    2.2014    0.8974   -1.1780 H   0  0  0  0  0  0  0  0  0  0  0  0\\n    2.1854   -0.8662   -1.1894 H   0  0  0  0  0  0  0  0  0  0  0  0\\n   -0.1018    2.1589    0.2958 H   0  0  0  0  0  0  0  0  0  0  0  0\\n   -0.0880   -2.1528    0.3015 H   0  0  0  0  0  0  0  0  0  0  0  0\\n   -2.5054    2.1432   -0.2712 H   0  0  0  0  0  0  0  0  0  0  0  0\\n   -2.4916   -2.1538   -0.2658 H   0  0  0  0  0  0  0  0  0  0  0  0\\n   -3.7056   -0.0095   -0.5538 H   0  0  0  0  0  0  0  0  0  0  0  0\\n    4.0520    0.8136    0.3334 H   0  0  0  0  0  0  0  0  0  0  0  0\\n    4.3824    0.0493   -1.0692 H   0  0  0  0  0  0  0  0  0  0  0  0\\n  1  4  1  0\\n  1 19  1  0\\n  1 20  1  0\\n  2  3  1  0\\n  2  4  1  0\\n  2 10  1  0\\n  2 11  1  0\\n  3  5  2  0\\n  3  6  1  0\\n  4 12  1  0\\n  4 13  1  0\\n  5  7  1  0\\n  5 14  1  0\\n  6  8  2  0\\n  6 15  1  0\\n  7  9  2  0\\n  7 16  1  0\\n  8  9  1  0\\n  8 17  1  0\\n  9 18  1  0\\nM  END\\n\",\"mol\");\n",
              "\tviewer_17444769321266468.setStyle({\"stick\": {}});\n",
              "\tviewer_17444769321266468.setBackgroundColor(\"white\");\n",
              "\tviewer_17444769321266468.zoomTo();\n",
              "viewer_17444769321266468.render();\n",
              "});\n",
              "</script>"
            ]
          },
          "metadata": {}
        },
        {
          "output_type": "stream",
          "name": "stdout",
          "text": [
            "Showing: mol_1002.sdf\n"
          ]
        },
        {
          "output_type": "display_data",
          "data": {
            "application/3dmoljs_load.v0": "<div id=\"3dmolviewer_17444769321306796\"  style=\"position: relative; width: 400px; height: 350px;\">\n        <p id=\"3dmolwarning_17444769321306796\" style=\"background-color:#ffcccc;color:black\">3Dmol.js failed to load for some reason.  Please check your browser console for error messages.<br></p>\n        </div>\n<script>\n\nvar loadScriptAsync = function(uri){\n  return new Promise((resolve, reject) => {\n    //this is to ignore the existence of requirejs amd\n    var savedexports, savedmodule;\n    if (typeof exports !== 'undefined') savedexports = exports;\n    else exports = {}\n    if (typeof module !== 'undefined') savedmodule = module;\n    else module = {}\n\n    var tag = document.createElement('script');\n    tag.src = uri;\n    tag.async = true;\n    tag.onload = () => {\n        exports = savedexports;\n        module = savedmodule;\n        resolve();\n    };\n  var firstScriptTag = document.getElementsByTagName('script')[0];\n  firstScriptTag.parentNode.insertBefore(tag, firstScriptTag);\n});\n};\n\nif(typeof $3Dmolpromise === 'undefined') {\n$3Dmolpromise = null;\n  $3Dmolpromise = loadScriptAsync('https://cdnjs.cloudflare.com/ajax/libs/3Dmol/2.4.2/3Dmol-min.js');\n}\n\nvar viewer_17444769321306796 = null;\nvar warn = document.getElementById(\"3dmolwarning_17444769321306796\");\nif(warn) {\n    warn.parentNode.removeChild(warn);\n}\n$3Dmolpromise.then(function() {\nviewer_17444769321306796 = $3Dmol.createViewer(document.getElementById(\"3dmolviewer_17444769321306796\"),{backgroundColor:\"white\"});\nviewer_17444769321306796.zoomTo();\n\tviewer_17444769321306796.addModel(\"1002\\n     RDKit          3D\\n\\n 21 22  0  0  1  0  0  0  0  0999 V2000\\n    1.0500    2.3336   -0.4001 O   0  0  0  0  0  0  0  0  0  0  0  0\\n    3.3533   -1.4673    0.7371 O   0  0  0  0  0  0  0  0  0  0  0  0\\n    1.3755   -1.1240   -0.4644 N   0  0  0  0  0  0  0  0  0  0  0  0\\n    2.4641    0.6454    0.3367 N   0  0  0  0  0  0  0  0  0  0  0  0\\n    0.5798   -0.0035   -0.9039 C   0  0  1  0  0  0  0  0  0  0  0  0\\n   -0.8125   -0.0716   -0.3728 C   0  0  0  0  0  0  0  0  0  0  0  0\\n    1.3622    1.1543   -0.3087 C   0  0  0  0  0  0  0  0  0  0  0  0\\n    2.5017   -0.7294    0.2608 C   0  0  0  0  0  0  0  0  0  0  0  0\\n   -1.8374   -0.5863   -1.1666 C   0  0  0  0  0  0  0  0  0  0  0  0\\n   -1.0895    0.3799    0.9175 C   0  0  0  0  0  0  0  0  0  0  0  0\\n   -3.1394   -0.6495   -0.6701 C   0  0  0  0  0  0  0  0  0  0  0  0\\n   -2.3914    0.3166    1.4142 C   0  0  0  0  0  0  0  0  0  0  0  0\\n   -3.4164   -0.1981    0.6202 C   0  0  0  0  0  0  0  0  0  0  0  0\\n    0.6230    0.0567   -1.9962 H   0  0  0  0  0  0  0  0  0  0  0  0\\n    1.1631   -2.0925   -0.6834 H   0  0  0  0  0  0  0  0  0  0  0  0\\n    3.1569    1.2095    0.8152 H   0  0  0  0  0  0  0  0  0  0  0  0\\n   -1.6338   -0.9426   -2.1729 H   0  0  0  0  0  0  0  0  0  0  0  0\\n   -0.3152    0.7683    1.5727 H   0  0  0  0  0  0  0  0  0  0  0  0\\n   -3.9374   -1.0509   -1.2880 H   0  0  0  0  0  0  0  0  0  0  0  0\\n   -2.6068    0.6636    2.4205 H   0  0  0  0  0  0  0  0  0  0  0  0\\n   -4.4299   -0.2487    1.0074 H   0  0  0  0  0  0  0  0  0  0  0  0\\n  1  7  2  0\\n  2  8  2  0\\n  3  5  1  0\\n  3  8  1  0\\n  3 15  1  0\\n  4  7  1  0\\n  4  8  1  0\\n  4 16  1  0\\n  5  6  1  0\\n  5  7  1  0\\n  5 14  1  6\\n  6  9  2  0\\n  6 10  1  0\\n  9 11  1  0\\n  9 17  1  0\\n 10 12  2  0\\n 10 18  1  0\\n 11 13  2  0\\n 11 19  1  0\\n 12 13  1  0\\n 12 20  1  0\\n 13 21  1  0\\nM  END\\n\",\"mol\");\n\tviewer_17444769321306796.setStyle({\"stick\": {}});\n\tviewer_17444769321306796.setBackgroundColor(\"white\");\n\tviewer_17444769321306796.zoomTo();\nviewer_17444769321306796.render();\n});\n</script>",
            "text/html": [
              "<div id=\"3dmolviewer_17444769321306796\"  style=\"position: relative; width: 400px; height: 350px;\">\n",
              "        <p id=\"3dmolwarning_17444769321306796\" style=\"background-color:#ffcccc;color:black\">3Dmol.js failed to load for some reason.  Please check your browser console for error messages.<br></p>\n",
              "        </div>\n",
              "<script>\n",
              "\n",
              "var loadScriptAsync = function(uri){\n",
              "  return new Promise((resolve, reject) => {\n",
              "    //this is to ignore the existence of requirejs amd\n",
              "    var savedexports, savedmodule;\n",
              "    if (typeof exports !== 'undefined') savedexports = exports;\n",
              "    else exports = {}\n",
              "    if (typeof module !== 'undefined') savedmodule = module;\n",
              "    else module = {}\n",
              "\n",
              "    var tag = document.createElement('script');\n",
              "    tag.src = uri;\n",
              "    tag.async = true;\n",
              "    tag.onload = () => {\n",
              "        exports = savedexports;\n",
              "        module = savedmodule;\n",
              "        resolve();\n",
              "    };\n",
              "  var firstScriptTag = document.getElementsByTagName('script')[0];\n",
              "  firstScriptTag.parentNode.insertBefore(tag, firstScriptTag);\n",
              "});\n",
              "};\n",
              "\n",
              "if(typeof $3Dmolpromise === 'undefined') {\n",
              "$3Dmolpromise = null;\n",
              "  $3Dmolpromise = loadScriptAsync('https://cdnjs.cloudflare.com/ajax/libs/3Dmol/2.4.2/3Dmol-min.js');\n",
              "}\n",
              "\n",
              "var viewer_17444769321306796 = null;\n",
              "var warn = document.getElementById(\"3dmolwarning_17444769321306796\");\n",
              "if(warn) {\n",
              "    warn.parentNode.removeChild(warn);\n",
              "}\n",
              "$3Dmolpromise.then(function() {\n",
              "viewer_17444769321306796 = $3Dmol.createViewer(document.getElementById(\"3dmolviewer_17444769321306796\"),{backgroundColor:\"white\"});\n",
              "viewer_17444769321306796.zoomTo();\n",
              "\tviewer_17444769321306796.addModel(\"1002\\n     RDKit          3D\\n\\n 21 22  0  0  1  0  0  0  0  0999 V2000\\n    1.0500    2.3336   -0.4001 O   0  0  0  0  0  0  0  0  0  0  0  0\\n    3.3533   -1.4673    0.7371 O   0  0  0  0  0  0  0  0  0  0  0  0\\n    1.3755   -1.1240   -0.4644 N   0  0  0  0  0  0  0  0  0  0  0  0\\n    2.4641    0.6454    0.3367 N   0  0  0  0  0  0  0  0  0  0  0  0\\n    0.5798   -0.0035   -0.9039 C   0  0  1  0  0  0  0  0  0  0  0  0\\n   -0.8125   -0.0716   -0.3728 C   0  0  0  0  0  0  0  0  0  0  0  0\\n    1.3622    1.1543   -0.3087 C   0  0  0  0  0  0  0  0  0  0  0  0\\n    2.5017   -0.7294    0.2608 C   0  0  0  0  0  0  0  0  0  0  0  0\\n   -1.8374   -0.5863   -1.1666 C   0  0  0  0  0  0  0  0  0  0  0  0\\n   -1.0895    0.3799    0.9175 C   0  0  0  0  0  0  0  0  0  0  0  0\\n   -3.1394   -0.6495   -0.6701 C   0  0  0  0  0  0  0  0  0  0  0  0\\n   -2.3914    0.3166    1.4142 C   0  0  0  0  0  0  0  0  0  0  0  0\\n   -3.4164   -0.1981    0.6202 C   0  0  0  0  0  0  0  0  0  0  0  0\\n    0.6230    0.0567   -1.9962 H   0  0  0  0  0  0  0  0  0  0  0  0\\n    1.1631   -2.0925   -0.6834 H   0  0  0  0  0  0  0  0  0  0  0  0\\n    3.1569    1.2095    0.8152 H   0  0  0  0  0  0  0  0  0  0  0  0\\n   -1.6338   -0.9426   -2.1729 H   0  0  0  0  0  0  0  0  0  0  0  0\\n   -0.3152    0.7683    1.5727 H   0  0  0  0  0  0  0  0  0  0  0  0\\n   -3.9374   -1.0509   -1.2880 H   0  0  0  0  0  0  0  0  0  0  0  0\\n   -2.6068    0.6636    2.4205 H   0  0  0  0  0  0  0  0  0  0  0  0\\n   -4.4299   -0.2487    1.0074 H   0  0  0  0  0  0  0  0  0  0  0  0\\n  1  7  2  0\\n  2  8  2  0\\n  3  5  1  0\\n  3  8  1  0\\n  3 15  1  0\\n  4  7  1  0\\n  4  8  1  0\\n  4 16  1  0\\n  5  6  1  0\\n  5  7  1  0\\n  5 14  1  6\\n  6  9  2  0\\n  6 10  1  0\\n  9 11  1  0\\n  9 17  1  0\\n 10 12  2  0\\n 10 18  1  0\\n 11 13  2  0\\n 11 19  1  0\\n 12 13  1  0\\n 12 20  1  0\\n 13 21  1  0\\nM  END\\n\",\"mol\");\n",
              "\tviewer_17444769321306796.setStyle({\"stick\": {}});\n",
              "\tviewer_17444769321306796.setBackgroundColor(\"white\");\n",
              "\tviewer_17444769321306796.zoomTo();\n",
              "viewer_17444769321306796.render();\n",
              "});\n",
              "</script>"
            ]
          },
          "metadata": {}
        }
      ]
    },
    {
      "cell_type": "markdown",
      "source": [
        "# create padding based on maximum number of atoms in a molecule"
      ],
      "metadata": {
        "id": "pSqVk9QPteqO"
      }
    },
    {
      "cell_type": "code",
      "source": [
        "# Find maximum number of atoms across all molecules\n",
        "max_atoms = max(len(coords) for coords in coords_list)\n",
        "max_atoms"
      ],
      "metadata": {
        "colab": {
          "base_uri": "https://localhost:8080/"
        },
        "id": "Q0iLbDRmrqiF",
        "outputId": "1949cc1d-e32e-484b-cd6b-9648a6ae2f5e"
      },
      "execution_count": 101,
      "outputs": [
        {
          "output_type": "execute_result",
          "data": {
            "text/plain": [
              "57"
            ]
          },
          "metadata": {},
          "execution_count": 101
        }
      ]
    },
    {
      "cell_type": "code",
      "source": [
        "# Pad coordinates and atom types\n",
        "padded_coords = []\n",
        "padded_atom_types = []\n",
        "\n",
        "for coords, atom_types in zip(coords_list, atom_types_list):\n",
        "    # Pad coordinates (with zeros)\n",
        "    padded_coords.append(np.pad(coords, ((0, max_atoms - len(coords)), (0, 0)), mode='constant'))\n",
        "\n",
        "    # Pad atom types (with placeholder 'X')\n",
        "    padded_atom_types.append(atom_types + ['X'] * (max_atoms - len(atom_types)))\n",
        "\n",
        "coords_array = np.array(padded_coords)\n",
        "atom_types_array = np.array(padded_atom_types)\n",
        "\n",
        "print(f\"Shape of coords_array: {coords_array.shape}\")\n",
        "print(f\"Shape of atom_types_array: {atom_types_array.shape}\")\n"
      ],
      "metadata": {
        "colab": {
          "base_uri": "https://localhost:8080/"
        },
        "id": "oFek7mqHrrl7",
        "outputId": "97686dab-7bd7-4d5d-9a46-ec24bfeff330"
      },
      "execution_count": 102,
      "outputs": [
        {
          "output_type": "stream",
          "name": "stdout",
          "text": [
            "Shape of coords_array: (100, 57, 3)\n",
            "Shape of atom_types_array: (100, 57)\n"
          ]
        }
      ]
    },
    {
      "cell_type": "code",
      "source": [
        "atom_types_array"
      ],
      "metadata": {
        "colab": {
          "base_uri": "https://localhost:8080/"
        },
        "id": "QnOZi4t6rro8",
        "outputId": "e21d0344-87fa-4e7e-c6c1-20f24ef98610"
      },
      "execution_count": 103,
      "outputs": [
        {
          "output_type": "execute_result",
          "data": {
            "text/plain": [
              "array([['O', 'O', 'O', ..., 'X', 'X', 'X'],\n",
              "       ['O', 'O', 'O', ..., 'X', 'X', 'X'],\n",
              "       ['O', 'O', 'O', ..., 'X', 'X', 'X'],\n",
              "       ...,\n",
              "       ['O', 'O', 'N', ..., 'X', 'X', 'X'],\n",
              "       ['O', 'O', 'C', ..., 'X', 'X', 'X'],\n",
              "       ['O', 'O', 'O', ..., 'X', 'X', 'X']], dtype='<U2')"
            ]
          },
          "metadata": {},
          "execution_count": 103
        }
      ]
    },
    {
      "cell_type": "code",
      "source": [
        "coords_array"
      ],
      "metadata": {
        "colab": {
          "base_uri": "https://localhost:8080/"
        },
        "id": "aTfQcfYzrrrT",
        "outputId": "8d69f514-10aa-47db-fe7b-1f5382d3d1b0"
      },
      "execution_count": 104,
      "outputs": [
        {
          "output_type": "execute_result",
          "data": {
            "text/plain": [
              "array([[[-2.1417,  1.0315,  0.7136],\n",
              "        [ 0.4877,  1.4813, -0.3153],\n",
              "        [ 2.8465,  0.6297, -0.0278],\n",
              "        ...,\n",
              "        [ 0.    ,  0.    ,  0.    ],\n",
              "        [ 0.    ,  0.    ,  0.    ],\n",
              "        [ 0.    ,  0.    ,  0.    ]],\n",
              "\n",
              "       [[-0.8007,  3.1719, -0.3307],\n",
              "        [ 1.9377,  2.1145, -0.2359],\n",
              "        [-2.2221, -2.4151, -1.7057],\n",
              "        ...,\n",
              "        [ 0.    ,  0.    ,  0.    ],\n",
              "        [ 0.    ,  0.    ,  0.    ],\n",
              "        [ 0.    ,  0.    ,  0.    ]],\n",
              "\n",
              "       [[-1.3259, -1.1598, -0.3674],\n",
              "        [ 3.2938,  2.0525,  0.2706],\n",
              "        [ 1.1787,  2.8738,  0.5567],\n",
              "        ...,\n",
              "        [ 0.    ,  0.    ,  0.    ],\n",
              "        [ 0.    ,  0.    ,  0.    ],\n",
              "        [ 0.    ,  0.    ,  0.    ]],\n",
              "\n",
              "       ...,\n",
              "\n",
              "       [[ 2.5311,  1.0877,  1.1888],\n",
              "        [-2.5344, -1.0904, -1.1875],\n",
              "        [ 1.4397,  1.8125, -0.7268],\n",
              "        ...,\n",
              "        [ 0.    ,  0.    ,  0.    ],\n",
              "        [ 0.    ,  0.    ,  0.    ],\n",
              "        [ 0.    ,  0.    ,  0.    ]],\n",
              "\n",
              "       [[ 2.923 ,  0.6054, -0.7218],\n",
              "        [-2.435 ,  1.506 , -0.0832],\n",
              "        [ 0.8626, -0.0372,  0.2773],\n",
              "        ...,\n",
              "        [ 0.    ,  0.    ,  0.    ],\n",
              "        [ 0.    ,  0.    ,  0.    ],\n",
              "        [ 0.    ,  0.    ,  0.    ]],\n",
              "\n",
              "       [[ 0.2405, -0.2804,  1.6729],\n",
              "        [ 0.6398,  1.2246, -1.536 ],\n",
              "        [-2.2259,  0.412 ,  0.942 ],\n",
              "        ...,\n",
              "        [ 0.    ,  0.    ,  0.    ],\n",
              "        [ 0.    ,  0.    ,  0.    ],\n",
              "        [ 0.    ,  0.    ,  0.    ]]])"
            ]
          },
          "metadata": {},
          "execution_count": 104
        }
      ]
    },
    {
      "cell_type": "markdown",
      "source": [
        "# convert absolute coordinates to relative coordinates of each molecule so that invariant to translation, rotation, etc."
      ],
      "metadata": {
        "id": "OGgukw8IuviO"
      }
    },
    {
      "cell_type": "code",
      "source": [
        "# Atomic weights in g/mol (for common atoms)\n",
        "atomic_weights = {\n",
        "    'H': 1.008,\n",
        "    'C': 12.011,\n",
        "    'N': 14.007,\n",
        "    'O': 15.999,\n",
        "    'S': 32.06,\n",
        "    'P': 30.974,\n",
        "    'Cl': 35.45,\n",
        "    'Br': 79.904,\n",
        "    'I': 126.904,\n",
        "    'F': 18.998,\n",
        "    # Add more atoms as needed\n",
        "}\n"
      ],
      "metadata": {
        "id": "NjucGnOBt-mG"
      },
      "execution_count": 105,
      "outputs": []
    },
    {
      "cell_type": "code",
      "source": [
        "import numpy as np\n",
        "\n",
        "def compute_center_of_mass(coords, atom_types, atomic_weights):\n",
        "    # Initialize the total mass and weighted sum of coordinates\n",
        "    total_mass = 0.0\n",
        "    weighted_coords = np.zeros(3)\n",
        "\n",
        "    # Sum over each atom's contribution to the center of mass\n",
        "    for i in range(len(coords)):\n",
        "        atom_weight = atomic_weights.get(atom_types[i], 0)  # Default to 0 if atom type is not found\n",
        "        total_mass += atom_weight\n",
        "        weighted_coords += np.array(coords[i]) * atom_weight\n",
        "\n",
        "    # Compute the center of mass\n",
        "    center_of_mass = weighted_coords / total_mass\n",
        "    return center_of_mass\n",
        "\n",
        "# Example for a single molecule (coords and atom_types are lists for the molecule)\n",
        "coords = [[0.0, 0.0, 0.0], [1.0, 0.0, 0.0], [0.0, 1.0, 0.0]]  # Example coordinates\n",
        "atom_types = ['C', 'H', 'H']  # Example atom types\n",
        "\n",
        "# Compute the center of mass\n",
        "com = compute_center_of_mass(coords, atom_types, atomic_weights)\n",
        "print(\"Center of Mass:\", com)\n"
      ],
      "metadata": {
        "colab": {
          "base_uri": "https://localhost:8080/"
        },
        "id": "D3NQ_3k1u85o",
        "outputId": "0dd5ff95-0479-4823-8f55-455ab461930b"
      },
      "execution_count": 106,
      "outputs": [
        {
          "output_type": "stream",
          "name": "stdout",
          "text": [
            "Center of Mass: [0.07186141 0.07186141 0.        ]\n"
          ]
        }
      ]
    },
    {
      "cell_type": "code",
      "source": [
        "def convert_to_relative_coordinates(coords, com):\n",
        "    # Subtract the center of mass from each atom's coordinates\n",
        "    relative_coords = np.array(coords) - com\n",
        "    return relative_coords\n",
        "\n",
        "# Convert to relative coordinates for the molecule\n",
        "relative_coords = convert_to_relative_coordinates(coords, com)\n",
        "print(\"Relative Coordinates:\", relative_coords)\n"
      ],
      "metadata": {
        "colab": {
          "base_uri": "https://localhost:8080/"
        },
        "id": "61xPsDpnu88z",
        "outputId": "9de96f84-f1c5-4903-b317-7066f518ef8a"
      },
      "execution_count": 107,
      "outputs": [
        {
          "output_type": "stream",
          "name": "stdout",
          "text": [
            "Relative Coordinates: [[-0.07186141 -0.07186141  0.        ]\n",
            " [ 0.92813859 -0.07186141  0.        ]\n",
            " [-0.07186141  0.92813859  0.        ]]\n"
          ]
        }
      ]
    },
    {
      "cell_type": "code",
      "source": [
        "relative_coords_list = []\n",
        "\n",
        "for i in range(coords_array.shape[0]):  # Iterate over each molecule\n",
        "    coords = coords_array[i]\n",
        "    atom_types = atom_types_array[i]\n",
        "\n",
        "    # Remove padding atoms for COM calculation (ensure atom_types is a list)\n",
        "    atom_types = atom_types.tolist()  # Convert numpy array to list if needed\n",
        "\n",
        "    # Identify the indices of valid atoms (i.e., not 'X')\n",
        "    valid_indices = [i for i, atom in enumerate(atom_types) if atom != 'X']\n",
        "\n",
        "    # Get non-padding coordinates and atom types\n",
        "    non_padding_coords = coords[valid_indices]\n",
        "    non_padding_atom_types = [atom_types[i] for i in valid_indices]\n",
        "\n",
        "    # Compute the center of mass\n",
        "    com = compute_center_of_mass(non_padding_coords, non_padding_atom_types, atomic_weights)\n",
        "\n",
        "    # Convert to relative coordinates\n",
        "    relative_coords = convert_to_relative_coordinates(coords, com)\n",
        "\n",
        "    # Append the relative coordinates for the current molecule\n",
        "    relative_coords_list.append(relative_coords)\n",
        "\n",
        "# Convert relative coordinates list to numpy array\n",
        "relative_coords_array = np.array(relative_coords_list)\n",
        "\n",
        "print(f\"Shape of relative_coords_array: {relative_coords_array.shape}\")"
      ],
      "metadata": {
        "colab": {
          "base_uri": "https://localhost:8080/"
        },
        "id": "Zckq6tfvu8_t",
        "outputId": "bc6a91b2-cd64-4ed0-c4a5-21023930bfbf"
      },
      "execution_count": 108,
      "outputs": [
        {
          "output_type": "stream",
          "name": "stdout",
          "text": [
            "Shape of relative_coords_array: (100, 57, 3)\n"
          ]
        }
      ]
    },
    {
      "cell_type": "code",
      "source": [
        "import torch\n",
        "import torch.nn as nn\n",
        "from diffusers import DDPMScheduler, UNet2DModel\n",
        "from torch.utils.data import Dataset, DataLoader\n",
        "import numpy as np\n",
        "from tqdm import tqdm\n",
        "import random\n",
        "\n",
        "# Example sizes and hyperparameters\n",
        "device = torch.device(\"cuda\" if torch.cuda.is_available() else \"cpu\")\n",
        "batch_size = 4\n",
        "learning_rate = 1e-4\n",
        "num_epochs = 10\n",
        "num_molecules = 1000  # Adjust as necessary\n",
        "max_atoms = 50  # Maximum number of atoms in a molecule, adjust accordingly\n",
        "\n",
        "# Dataset class to load relative coordinates and atom types\n",
        "class MoleculeDataset(Dataset):\n",
        "    def __init__(self, coords_array, atom_types_array):\n",
        "        self.coords = coords_array\n",
        "        self.atom_types = atom_types_array\n",
        "\n",
        "    def __len__(self):\n",
        "        return len(self.coords)\n",
        "\n",
        "    def __getitem__(self, idx):\n",
        "        coords = self.coords[idx]\n",
        "        atom_types = self.atom_types[idx]\n",
        "\n",
        "        # Convert atom types to one-hot encoding (you can also use embedding layer later)\n",
        "        atom_type_encoding = np.zeros(len(atom_types))  # Placeholder for encoding\n",
        "        for i, atom in enumerate(atom_types):\n",
        "            atom_type_encoding[i] = random.randint(0, 1)  # Example encoding, you can extend for all atoms\n",
        "\n",
        "        return torch.tensor(coords, dtype=torch.float32), torch.tensor(atom_type_encoding, dtype=torch.float32)\n",
        "\n",
        "# Initialize dataset and dataloaders\n",
        "dataset = MoleculeDataset(relative_coords_array, atom_types_array)\n",
        "train_loader = DataLoader(dataset, batch_size=batch_size, shuffle=True)\n",
        "\n",
        "# Define the U-Net model (simplified for this example)\n",
        "class DiffusionUNet(nn.Module):\n",
        "    def __init__(self, in_channels, out_channels, time_embed_dim=128):\n",
        "        super().__init__()\n",
        "        self.time_mlp = nn.Sequential(\n",
        "            nn.Linear(1, time_embed_dim),\n",
        "            nn.ReLU(),\n",
        "            nn.Linear(time_embed_dim, in_channels)\n",
        "        )\n",
        "        self.encoder = nn.Sequential(\n",
        "            nn.Conv1d(in_channels, 64, 3, padding=1),\n",
        "            nn.ReLU(),\n",
        "            nn.Conv1d(64, 128, 3, padding=1),\n",
        "            nn.ReLU(),\n",
        "        )\n",
        "        self.decoder = nn.Sequential(\n",
        "            nn.Conv1d(128, 64, 3, padding=1),\n",
        "            nn.ReLU(),\n",
        "            nn.Conv1d(64, out_channels, 3, padding=1),\n",
        "        )\n",
        "\n",
        "    def forward(self, x, t):\n",
        "        # t: (batch,) → (batch, 1)\n",
        "        t_embed = self.time_mlp(t[:, None]).unsqueeze(-1)  # (batch, in_channels, 1)\n",
        "        x = x + t_embed  # Broadcast to all atoms\n",
        "        return self.decoder(self.encoder(x))\n"
      ],
      "metadata": {
        "id": "kX6G0YLEu9CN"
      },
      "execution_count": 109,
      "outputs": []
    },
    {
      "cell_type": "code",
      "source": [
        "# Initialize the U-Net model for diffusion\n",
        "model = DiffusionUNet(in_channels=3, out_channels=3).to(device)  # We are working with 3D coordinates\n",
        "optimizer = torch.optim.Adam(model.parameters(), lr=learning_rate)\n",
        "\n",
        "# Initialize DDPMScheduler (this defines the diffusion process)\n",
        "scheduler = DDPMScheduler(num_train_timesteps=1000)\n",
        "\n",
        "# Training loop\n",
        "# Training loop\n",
        "for epoch in range(num_epochs):\n",
        "    model.train()\n",
        "    total_loss = 0\n",
        "    for batch in tqdm(train_loader, desc=f\"Epoch {epoch+1}/{num_epochs}\"):\n",
        "        coords, atom_types = batch\n",
        "        coords, atom_types = coords.to(device), atom_types.to(device)\n",
        "\n",
        "        # Sample random timesteps and noise\n",
        "        timesteps = torch.randint(0, scheduler.num_train_timesteps, (coords.shape[0],), device=device).long()\n",
        "        noise = torch.randn_like(coords)\n",
        "\n",
        "        # Add noise to the original coordinates\n",
        "        noisy_coords = scheduler.add_noise(original_samples=coords, noise=noise, timesteps=timesteps)\n",
        "\n",
        "        # Predict noise using the model\n",
        "        model_input = noisy_coords.permute(0, 2, 1)  # (batch_size, 3, max_atoms) for Conv1D\n",
        "        predicted_noise = model(model_input, timesteps.float()).permute(0, 2, 1)  # Back to (batch_size, max_atoms, 3)\n",
        "\n",
        "        # Loss: compare predicted noise with true noise\n",
        "        loss = torch.mean((predicted_noise - noise) ** 2)\n",
        "\n",
        "        optimizer.zero_grad()\n",
        "        loss.backward()\n",
        "        optimizer.step()\n",
        "\n",
        "        total_loss += loss.item()\n",
        "\n",
        "    print(f\"Epoch {epoch+1}/{num_epochs} - Loss: {total_loss / len(train_loader):.6f}\")\n",
        "\n",
        "\n"
      ],
      "metadata": {
        "colab": {
          "base_uri": "https://localhost:8080/"
        },
        "id": "AufWVS5cwz2s",
        "outputId": "37bfed8a-5a45-49cf-f8f8-27b79ce0e9ed"
      },
      "execution_count": 126,
      "outputs": [
        {
          "output_type": "stream",
          "name": "stderr",
          "text": [
            "Epoch 1/10:   0%|          | 0/25 [00:00<?, ?it/s]/usr/local/lib/python3.11/dist-packages/diffusers/configuration_utils.py:140: FutureWarning: Accessing config attribute `num_train_timesteps` directly via 'DDPMScheduler' object attribute is deprecated. Please access 'num_train_timesteps' over 'DDPMScheduler's config object instead, e.g. 'scheduler.config.num_train_timesteps'.\n",
            "  deprecate(\"direct config name access\", \"1.0.0\", deprecation_message, standard_warn=False)\n",
            "Epoch 1/10: 100%|██████████| 25/25 [00:00<00:00, 101.90it/s]\n"
          ]
        },
        {
          "output_type": "stream",
          "name": "stdout",
          "text": [
            "Epoch 1/10 - Loss: 14.835545\n"
          ]
        },
        {
          "output_type": "stream",
          "name": "stderr",
          "text": [
            "Epoch 2/10: 100%|██████████| 25/25 [00:00<00:00, 114.50it/s]\n"
          ]
        },
        {
          "output_type": "stream",
          "name": "stdout",
          "text": [
            "Epoch 2/10 - Loss: 1.496276\n"
          ]
        },
        {
          "output_type": "stream",
          "name": "stderr",
          "text": [
            "Epoch 3/10: 100%|██████████| 25/25 [00:00<00:00, 117.48it/s]\n"
          ]
        },
        {
          "output_type": "stream",
          "name": "stdout",
          "text": [
            "Epoch 3/10 - Loss: 1.052751\n"
          ]
        },
        {
          "output_type": "stream",
          "name": "stderr",
          "text": [
            "Epoch 4/10: 100%|██████████| 25/25 [00:00<00:00, 107.14it/s]\n"
          ]
        },
        {
          "output_type": "stream",
          "name": "stdout",
          "text": [
            "Epoch 4/10 - Loss: 1.004195\n"
          ]
        },
        {
          "output_type": "stream",
          "name": "stderr",
          "text": [
            "Epoch 5/10: 100%|██████████| 25/25 [00:00<00:00, 117.89it/s]\n"
          ]
        },
        {
          "output_type": "stream",
          "name": "stdout",
          "text": [
            "Epoch 5/10 - Loss: 1.013461\n"
          ]
        },
        {
          "output_type": "stream",
          "name": "stderr",
          "text": [
            "Epoch 6/10: 100%|██████████| 25/25 [00:00<00:00, 118.25it/s]\n"
          ]
        },
        {
          "output_type": "stream",
          "name": "stdout",
          "text": [
            "Epoch 6/10 - Loss: 1.012562\n"
          ]
        },
        {
          "output_type": "stream",
          "name": "stderr",
          "text": [
            "Epoch 7/10: 100%|██████████| 25/25 [00:00<00:00, 122.17it/s]\n"
          ]
        },
        {
          "output_type": "stream",
          "name": "stdout",
          "text": [
            "Epoch 7/10 - Loss: 0.991217\n"
          ]
        },
        {
          "output_type": "stream",
          "name": "stderr",
          "text": [
            "Epoch 8/10: 100%|██████████| 25/25 [00:00<00:00, 122.05it/s]\n"
          ]
        },
        {
          "output_type": "stream",
          "name": "stdout",
          "text": [
            "Epoch 8/10 - Loss: 0.972000\n"
          ]
        },
        {
          "output_type": "stream",
          "name": "stderr",
          "text": [
            "Epoch 9/10: 100%|██████████| 25/25 [00:00<00:00, 112.50it/s]\n"
          ]
        },
        {
          "output_type": "stream",
          "name": "stdout",
          "text": [
            "Epoch 9/10 - Loss: 1.008299\n"
          ]
        },
        {
          "output_type": "stream",
          "name": "stderr",
          "text": [
            "Epoch 10/10: 100%|██████████| 25/25 [00:00<00:00, 112.46it/s]"
          ]
        },
        {
          "output_type": "stream",
          "name": "stdout",
          "text": [
            "Epoch 10/10 - Loss: 0.977777\n"
          ]
        },
        {
          "output_type": "stream",
          "name": "stderr",
          "text": [
            "\n"
          ]
        }
      ]
    },
    {
      "cell_type": "code",
      "source": [
        "\n",
        "import py3Dmol\n",
        "from rdkit import Chem\n",
        "from rdkit.Chem import AllChem\n",
        "from rdkit.Geometry import Point3D\n",
        "\n",
        "def visualize_mol(mol):\n",
        "    mb = Chem.MolToMolBlock(mol)\n",
        "    viewer = py3Dmol.view(width=500, height=400)\n",
        "    viewer.addModel(mb, 'mol')\n",
        "    viewer.setStyle({'stick': {}})\n",
        "    viewer.setBackgroundColor('white')\n",
        "    viewer.zoomTo()\n",
        "    return viewer  # <-- Important"
      ],
      "metadata": {
        "id": "iuKwPc-9m4o0"
      },
      "execution_count": 134,
      "outputs": []
    },
    {
      "cell_type": "code",
      "source": [
        "from rdkit import Chem\n",
        "from rdkit.Chem import AllChem\n",
        "\n",
        "def coords_to_rdkit_mol(coords, atom_types):\n",
        "    mol = Chem.RWMol()\n",
        "    atom_ids = []\n",
        "\n",
        "    for atom_symbol in atom_types:\n",
        "        if atom_symbol == 'X':  # Skip padding atoms\n",
        "            continue\n",
        "        atom = Chem.Atom(atom_symbol)\n",
        "        atom_id = mol.AddAtom(atom)\n",
        "        atom_ids.append(atom_id)\n",
        "\n",
        "    conf = Chem.Conformer(len(atom_ids))\n",
        "    for i, (x, y, z) in enumerate(coords[:len(atom_ids)]):\n",
        "        conf.SetAtomPosition(i, (float(x), float(y), float(z)))\n",
        "    mol.AddConformer(conf)\n",
        "\n",
        "    # Optionally, sanitize\n",
        "    try:\n",
        "        Chem.SanitizeMol(mol)\n",
        "    except:\n",
        "        pass  # Might fail for rough initial coords\n",
        "\n",
        "    return mol\n"
      ],
      "metadata": {
        "id": "1_IeQz5GyGmb"
      },
      "execution_count": 135,
      "outputs": []
    },
    {
      "cell_type": "code",
      "source": [
        "# Generate new molecules after training\n",
        "from IPython.display import display\n",
        "\n",
        "model.eval()\n",
        "with torch.no_grad():\n",
        "    x = torch.randn((1, 3, max_atoms), device=device)  # Initial noise\n",
        "\n",
        "    T = 1000  # Number of diffusion steps (should match training)\n",
        "    betas = torch.linspace(1e-4, 0.02, T).to(device)\n",
        "    alphas = 1.0 - betas\n",
        "    alphas_cumprod = torch.cumprod(alphas, dim=0)\n",
        "\n",
        "    for t in reversed(range(T)):\n",
        "        t_tensor = torch.full((1,), t, device=device, dtype=torch.float32)\n",
        "        noise_pred = model(x, t_tensor)  # Predict noise at time t\n",
        "\n",
        "        alpha = alphas[t]\n",
        "        alpha_cum = alphas_cumprod[t]\n",
        "        beta = betas[t]\n",
        "\n",
        "        if t > 0:\n",
        "            noise = torch.randn_like(x)\n",
        "        else:\n",
        "            noise = 0\n",
        "\n",
        "        x = (1 / torch.sqrt(alpha)) * (\n",
        "            x - ((1 - alpha) / torch.sqrt(1 - alpha_cum)) * noise_pred\n",
        "        ) + torch.sqrt(beta) * noise\n",
        "\n",
        "    generated_coords = x.permute(0, 2, 1).squeeze(0).cpu().numpy()  # (max_atoms, 3)\n",
        "    generated_atom_types = ['C'] * max_atoms  # Simplified for now\n",
        "\n",
        "\n",
        "\n",
        "\n",
        "\n",
        "\n",
        "    mol = coords_to_rdkit_mol(generated_coords, generated_atom_types)\n",
        "    viewer = visualize_mol(mol)\n",
        "    display(viewer)\n",
        "\n",
        "    #img = Chem.Draw.MolToImage(mol, size=(400, 300))\n",
        "    #img.show()\n"
      ],
      "metadata": {
        "colab": {
          "base_uri": "https://localhost:8080/",
          "height": 434
        },
        "id": "9GhFePoRxVNP",
        "outputId": "d9a8d37b-e877-4c1c-efb1-fe64fa2b0322"
      },
      "execution_count": 136,
      "outputs": [
        {
          "output_type": "display_data",
          "data": {
            "application/3dmoljs_load.v0": "<div id=\"3dmolviewer_1744477897268424\"  style=\"position: relative; width: 500px; height: 400px;\">\n        <p id=\"3dmolwarning_1744477897268424\" style=\"background-color:#ffcccc;color:black\">3Dmol.js failed to load for some reason.  Please check your browser console for error messages.<br></p>\n        </div>\n<script>\n\nvar loadScriptAsync = function(uri){\n  return new Promise((resolve, reject) => {\n    //this is to ignore the existence of requirejs amd\n    var savedexports, savedmodule;\n    if (typeof exports !== 'undefined') savedexports = exports;\n    else exports = {}\n    if (typeof module !== 'undefined') savedmodule = module;\n    else module = {}\n\n    var tag = document.createElement('script');\n    tag.src = uri;\n    tag.async = true;\n    tag.onload = () => {\n        exports = savedexports;\n        module = savedmodule;\n        resolve();\n    };\n  var firstScriptTag = document.getElementsByTagName('script')[0];\n  firstScriptTag.parentNode.insertBefore(tag, firstScriptTag);\n});\n};\n\nif(typeof $3Dmolpromise === 'undefined') {\n$3Dmolpromise = null;\n  $3Dmolpromise = loadScriptAsync('https://cdnjs.cloudflare.com/ajax/libs/3Dmol/2.4.2/3Dmol-min.js');\n}\n\nvar viewer_1744477897268424 = null;\nvar warn = document.getElementById(\"3dmolwarning_1744477897268424\");\nif(warn) {\n    warn.parentNode.removeChild(warn);\n}\n$3Dmolpromise.then(function() {\nviewer_1744477897268424 = $3Dmol.createViewer(document.getElementById(\"3dmolviewer_1744477897268424\"),{backgroundColor:\"white\"});\nviewer_1744477897268424.zoomTo();\n\tviewer_1744477897268424.addModel(\"\\n     RDKit          3D\\n\\n 50  0  0  0  0  0  0  0  0  0999 V2000\\n -142.2658  153.3325  -96.5914 C   0  0  0  0  0  0  0  0  0  0  0  0\\n  100.8531 -114.9167 -116.3597 C   0  0  0  0  0  0  0  0  0  0  0  0\\n  392.2125  -85.2430  321.6307 C   0  0  0  0  0  0  0  0  0  0  0  0\\n -141.6081  252.9920  -13.6586 C   0  0  0  0  0  0  0  0  0  0  0  0\\n  121.3248 -177.7897 -155.7208 C   0  0  0  0  0  0  0  0  0  0  0  0\\n   18.2520 -235.4384 -231.0100 C   0  0  0  0  0  0  0  0  0  0  0  0\\n  -45.8557 -359.5771 -202.9156 C   0  0  0  0  0  0  0  0  0  0  0  0\\n -154.4892  -91.7685  337.3070 C   0  0  0  0  0  0  0  0  0  0  0  0\\n -162.4016 -143.6985   97.7028 C   0  0  0  0  0  0  0  0  0  0  0  0\\n  -41.6389   10.2922   41.4917 C   0  0  0  0  0  0  0  0  0  0  0  0\\n -124.5819  -91.5271   13.4799 C   0  0  0  0  0  0  0  0  0  0  0  0\\n   30.4753  126.8924   -5.8979 C   0  0  0  0  0  0  0  0  0  0  0  0\\n  283.8899    1.6277 -373.6461 C   0  0  0  0  0  0  0  0  0  0  0  0\\n  -22.9696 -109.3961  -52.2199 C   0  0  0  0  0  0  0  0  0  0  0  0\\n  368.6158 -140.6303 -116.1284 C   0  0  0  0  0  0  0  0  0  0  0  0\\n  188.4964 -697.0383 -217.3514 C   0  0  0  0  0  0  0  0  0  0  0  0\\n   17.3749 -112.1628   33.0153 C   0  0  0  0  0  0  0  0  0  0  0  0\\n  154.6293 -274.1581   43.5967 C   0  0  0  0  0  0  0  0  0  0  0  0\\n  315.4175 -268.4838  161.4054 C   0  0  0  0  0  0  0  0  0  0  0  0\\n   71.9695  -63.7766  122.0478 C   0  0  0  0  0  0  0  0  0  0  0  0\\n   82.0803   50.6817 -242.9887 C   0  0  0  0  0  0  0  0  0  0  0  0\\n  374.9458  250.1589  118.7787 C   0  0  0  0  0  0  0  0  0  0  0  0\\n  -79.3156 -110.8510 -217.6042 C   0  0  0  0  0  0  0  0  0  0  0  0\\n  -44.5697   15.2643   84.0632 C   0  0  0  0  0  0  0  0  0  0  0  0\\n  389.6479  338.0871 -452.6287 C   0  0  0  0  0  0  0  0  0  0  0  0\\n  434.9734   34.0952 -147.2189 C   0  0  0  0  0  0  0  0  0  0  0  0\\n -258.5653 -213.5705  -99.4474 C   0  0  0  0  0  0  0  0  0  0  0  0\\n  511.7384 -484.6586  175.2402 C   0  0  0  0  0  0  0  0  0  0  0  0\\n  317.9643  -51.3288 -213.4306 C   0  0  0  0  0  0  0  0  0  0  0  0\\n   38.5152 -202.0978  176.0983 C   0  0  0  0  0  0  0  0  0  0  0  0\\n  544.2966   95.1806 -378.6253 C   0  0  0  0  0  0  0  0  0  0  0  0\\n -165.7671   41.9156  -12.7817 C   0  0  0  0  0  0  0  0  0  0  0  0\\n  283.1923   86.2908  -24.1884 C   0  0  0  0  0  0  0  0  0  0  0  0\\n  -37.9330  -39.8522  -25.4483 C   0  0  0  0  0  0  0  0  0  0  0  0\\n  432.7204 -115.8172  -96.1823 C   0  0  0  0  0  0  0  0  0  0  0  0\\n -112.2166  -60.2290 -153.4139 C   0  0  0  0  0  0  0  0  0  0  0  0\\n  131.5995   28.9544  188.3529 C   0  0  0  0  0  0  0  0  0  0  0  0\\n -164.3985  124.0273  383.4421 C   0  0  0  0  0  0  0  0  0  0  0  0\\n -290.1527   62.4865   79.7166 C   0  0  0  0  0  0  0  0  0  0  0  0\\n   78.5888  522.7803   24.5857 C   0  0  0  0  0  0  0  0  0  0  0  0\\n   35.9572 -297.4721 -414.3186 C   0  0  0  0  0  0  0  0  0  0  0  0\\n   40.4361 -224.8178 -336.1987 C   0  0  0  0  0  0  0  0  0  0  0  0\\n  -16.6278 -376.3454  111.9513 C   0  0  0  0  0  0  0  0  0  0  0  0\\n  -19.1941 -209.2553 -169.2862 C   0  0  0  0  0  0  0  0  0  0  0  0\\n   63.8123 -239.6972  -21.8875 C   0  0  0  0  0  0  0  0  0  0  0  0\\n  153.8042 -101.7833   78.6927 C   0  0  0  0  0  0  0  0  0  0  0  0\\n  338.2096  191.7639 -105.1607 C   0  0  0  0  0  0  0  0  0  0  0  0\\n  253.4019  117.8515   41.2759 C   0  0  0  0  0  0  0  0  0  0  0  0\\n   57.4308  190.0532 -139.6876 C   0  0  0  0  0  0  0  0  0  0  0  0\\n -204.1828 -206.2922  501.8376 C   0  0  0  0  0  0  0  0  0  0  0  0\\nM  END\\n\",\"mol\");\n\tviewer_1744477897268424.setStyle({\"stick\": {}});\n\tviewer_1744477897268424.setBackgroundColor(\"white\");\n\tviewer_1744477897268424.zoomTo();\nviewer_1744477897268424.render();\n});\n</script>",
            "text/html": [
              "<div id=\"3dmolviewer_1744477897268424\"  style=\"position: relative; width: 500px; height: 400px;\">\n",
              "        <p id=\"3dmolwarning_1744477897268424\" style=\"background-color:#ffcccc;color:black\">3Dmol.js failed to load for some reason.  Please check your browser console for error messages.<br></p>\n",
              "        </div>\n",
              "<script>\n",
              "\n",
              "var loadScriptAsync = function(uri){\n",
              "  return new Promise((resolve, reject) => {\n",
              "    //this is to ignore the existence of requirejs amd\n",
              "    var savedexports, savedmodule;\n",
              "    if (typeof exports !== 'undefined') savedexports = exports;\n",
              "    else exports = {}\n",
              "    if (typeof module !== 'undefined') savedmodule = module;\n",
              "    else module = {}\n",
              "\n",
              "    var tag = document.createElement('script');\n",
              "    tag.src = uri;\n",
              "    tag.async = true;\n",
              "    tag.onload = () => {\n",
              "        exports = savedexports;\n",
              "        module = savedmodule;\n",
              "        resolve();\n",
              "    };\n",
              "  var firstScriptTag = document.getElementsByTagName('script')[0];\n",
              "  firstScriptTag.parentNode.insertBefore(tag, firstScriptTag);\n",
              "});\n",
              "};\n",
              "\n",
              "if(typeof $3Dmolpromise === 'undefined') {\n",
              "$3Dmolpromise = null;\n",
              "  $3Dmolpromise = loadScriptAsync('https://cdnjs.cloudflare.com/ajax/libs/3Dmol/2.4.2/3Dmol-min.js');\n",
              "}\n",
              "\n",
              "var viewer_1744477897268424 = null;\n",
              "var warn = document.getElementById(\"3dmolwarning_1744477897268424\");\n",
              "if(warn) {\n",
              "    warn.parentNode.removeChild(warn);\n",
              "}\n",
              "$3Dmolpromise.then(function() {\n",
              "viewer_1744477897268424 = $3Dmol.createViewer(document.getElementById(\"3dmolviewer_1744477897268424\"),{backgroundColor:\"white\"});\n",
              "viewer_1744477897268424.zoomTo();\n",
              "\tviewer_1744477897268424.addModel(\"\\n     RDKit          3D\\n\\n 50  0  0  0  0  0  0  0  0  0999 V2000\\n -142.2658  153.3325  -96.5914 C   0  0  0  0  0  0  0  0  0  0  0  0\\n  100.8531 -114.9167 -116.3597 C   0  0  0  0  0  0  0  0  0  0  0  0\\n  392.2125  -85.2430  321.6307 C   0  0  0  0  0  0  0  0  0  0  0  0\\n -141.6081  252.9920  -13.6586 C   0  0  0  0  0  0  0  0  0  0  0  0\\n  121.3248 -177.7897 -155.7208 C   0  0  0  0  0  0  0  0  0  0  0  0\\n   18.2520 -235.4384 -231.0100 C   0  0  0  0  0  0  0  0  0  0  0  0\\n  -45.8557 -359.5771 -202.9156 C   0  0  0  0  0  0  0  0  0  0  0  0\\n -154.4892  -91.7685  337.3070 C   0  0  0  0  0  0  0  0  0  0  0  0\\n -162.4016 -143.6985   97.7028 C   0  0  0  0  0  0  0  0  0  0  0  0\\n  -41.6389   10.2922   41.4917 C   0  0  0  0  0  0  0  0  0  0  0  0\\n -124.5819  -91.5271   13.4799 C   0  0  0  0  0  0  0  0  0  0  0  0\\n   30.4753  126.8924   -5.8979 C   0  0  0  0  0  0  0  0  0  0  0  0\\n  283.8899    1.6277 -373.6461 C   0  0  0  0  0  0  0  0  0  0  0  0\\n  -22.9696 -109.3961  -52.2199 C   0  0  0  0  0  0  0  0  0  0  0  0\\n  368.6158 -140.6303 -116.1284 C   0  0  0  0  0  0  0  0  0  0  0  0\\n  188.4964 -697.0383 -217.3514 C   0  0  0  0  0  0  0  0  0  0  0  0\\n   17.3749 -112.1628   33.0153 C   0  0  0  0  0  0  0  0  0  0  0  0\\n  154.6293 -274.1581   43.5967 C   0  0  0  0  0  0  0  0  0  0  0  0\\n  315.4175 -268.4838  161.4054 C   0  0  0  0  0  0  0  0  0  0  0  0\\n   71.9695  -63.7766  122.0478 C   0  0  0  0  0  0  0  0  0  0  0  0\\n   82.0803   50.6817 -242.9887 C   0  0  0  0  0  0  0  0  0  0  0  0\\n  374.9458  250.1589  118.7787 C   0  0  0  0  0  0  0  0  0  0  0  0\\n  -79.3156 -110.8510 -217.6042 C   0  0  0  0  0  0  0  0  0  0  0  0\\n  -44.5697   15.2643   84.0632 C   0  0  0  0  0  0  0  0  0  0  0  0\\n  389.6479  338.0871 -452.6287 C   0  0  0  0  0  0  0  0  0  0  0  0\\n  434.9734   34.0952 -147.2189 C   0  0  0  0  0  0  0  0  0  0  0  0\\n -258.5653 -213.5705  -99.4474 C   0  0  0  0  0  0  0  0  0  0  0  0\\n  511.7384 -484.6586  175.2402 C   0  0  0  0  0  0  0  0  0  0  0  0\\n  317.9643  -51.3288 -213.4306 C   0  0  0  0  0  0  0  0  0  0  0  0\\n   38.5152 -202.0978  176.0983 C   0  0  0  0  0  0  0  0  0  0  0  0\\n  544.2966   95.1806 -378.6253 C   0  0  0  0  0  0  0  0  0  0  0  0\\n -165.7671   41.9156  -12.7817 C   0  0  0  0  0  0  0  0  0  0  0  0\\n  283.1923   86.2908  -24.1884 C   0  0  0  0  0  0  0  0  0  0  0  0\\n  -37.9330  -39.8522  -25.4483 C   0  0  0  0  0  0  0  0  0  0  0  0\\n  432.7204 -115.8172  -96.1823 C   0  0  0  0  0  0  0  0  0  0  0  0\\n -112.2166  -60.2290 -153.4139 C   0  0  0  0  0  0  0  0  0  0  0  0\\n  131.5995   28.9544  188.3529 C   0  0  0  0  0  0  0  0  0  0  0  0\\n -164.3985  124.0273  383.4421 C   0  0  0  0  0  0  0  0  0  0  0  0\\n -290.1527   62.4865   79.7166 C   0  0  0  0  0  0  0  0  0  0  0  0\\n   78.5888  522.7803   24.5857 C   0  0  0  0  0  0  0  0  0  0  0  0\\n   35.9572 -297.4721 -414.3186 C   0  0  0  0  0  0  0  0  0  0  0  0\\n   40.4361 -224.8178 -336.1987 C   0  0  0  0  0  0  0  0  0  0  0  0\\n  -16.6278 -376.3454  111.9513 C   0  0  0  0  0  0  0  0  0  0  0  0\\n  -19.1941 -209.2553 -169.2862 C   0  0  0  0  0  0  0  0  0  0  0  0\\n   63.8123 -239.6972  -21.8875 C   0  0  0  0  0  0  0  0  0  0  0  0\\n  153.8042 -101.7833   78.6927 C   0  0  0  0  0  0  0  0  0  0  0  0\\n  338.2096  191.7639 -105.1607 C   0  0  0  0  0  0  0  0  0  0  0  0\\n  253.4019  117.8515   41.2759 C   0  0  0  0  0  0  0  0  0  0  0  0\\n   57.4308  190.0532 -139.6876 C   0  0  0  0  0  0  0  0  0  0  0  0\\n -204.1828 -206.2922  501.8376 C   0  0  0  0  0  0  0  0  0  0  0  0\\nM  END\\n\",\"mol\");\n",
              "\tviewer_1744477897268424.setStyle({\"stick\": {}});\n",
              "\tviewer_1744477897268424.setBackgroundColor(\"white\");\n",
              "\tviewer_1744477897268424.zoomTo();\n",
              "viewer_1744477897268424.render();\n",
              "});\n",
              "</script>"
            ]
          },
          "metadata": {}
        },
        {
          "output_type": "display_data",
          "data": {
            "text/plain": [
              "<py3Dmol.view at 0x7fdca095e390>"
            ]
          },
          "metadata": {}
        }
      ]
    },
    {
      "cell_type": "code",
      "source": [
        "T = scheduler.num_train_timesteps  # Number of diffusion steps\n",
        "x = torch.randn((1, max_atoms, 3), device=device)  # Random noisy 3D positions\n",
        "random_coords = x.squeeze(0).cpu().numpy()\n",
        "random_atom_types = ['C'] * max_atoms  # Assume all atoms are Carbon\n",
        "\n",
        "mol_random = coords_to_rdkit_mol(random_coords, random_atom_types)\n",
        "viewer_random = visualize_mol(mol_random)\n",
        "display(viewer_random)\n"
      ],
      "metadata": {
        "colab": {
          "base_uri": "https://localhost:8080/",
          "height": 489
        },
        "id": "2FOzww5205zw",
        "outputId": "7152f53b-8d77-4027-bd81-dc339195df23"
      },
      "execution_count": 137,
      "outputs": [
        {
          "output_type": "stream",
          "name": "stderr",
          "text": [
            "/usr/local/lib/python3.11/dist-packages/diffusers/configuration_utils.py:140: FutureWarning: Accessing config attribute `num_train_timesteps` directly via 'DDPMScheduler' object attribute is deprecated. Please access 'num_train_timesteps' over 'DDPMScheduler's config object instead, e.g. 'scheduler.config.num_train_timesteps'.\n",
            "  deprecate(\"direct config name access\", \"1.0.0\", deprecation_message, standard_warn=False)\n"
          ]
        },
        {
          "output_type": "display_data",
          "data": {
            "application/3dmoljs_load.v0": "<div id=\"3dmolviewer_1744477897282712\"  style=\"position: relative; width: 500px; height: 400px;\">\n        <p id=\"3dmolwarning_1744477897282712\" style=\"background-color:#ffcccc;color:black\">3Dmol.js failed to load for some reason.  Please check your browser console for error messages.<br></p>\n        </div>\n<script>\n\nvar loadScriptAsync = function(uri){\n  return new Promise((resolve, reject) => {\n    //this is to ignore the existence of requirejs amd\n    var savedexports, savedmodule;\n    if (typeof exports !== 'undefined') savedexports = exports;\n    else exports = {}\n    if (typeof module !== 'undefined') savedmodule = module;\n    else module = {}\n\n    var tag = document.createElement('script');\n    tag.src = uri;\n    tag.async = true;\n    tag.onload = () => {\n        exports = savedexports;\n        module = savedmodule;\n        resolve();\n    };\n  var firstScriptTag = document.getElementsByTagName('script')[0];\n  firstScriptTag.parentNode.insertBefore(tag, firstScriptTag);\n});\n};\n\nif(typeof $3Dmolpromise === 'undefined') {\n$3Dmolpromise = null;\n  $3Dmolpromise = loadScriptAsync('https://cdnjs.cloudflare.com/ajax/libs/3Dmol/2.4.2/3Dmol-min.js');\n}\n\nvar viewer_1744477897282712 = null;\nvar warn = document.getElementById(\"3dmolwarning_1744477897282712\");\nif(warn) {\n    warn.parentNode.removeChild(warn);\n}\n$3Dmolpromise.then(function() {\nviewer_1744477897282712 = $3Dmol.createViewer(document.getElementById(\"3dmolviewer_1744477897282712\"),{backgroundColor:\"white\"});\nviewer_1744477897282712.zoomTo();\n\tviewer_1744477897282712.addModel(\"\\n     RDKit          3D\\n\\n 50  0  0  0  0  0  0  0  0  0999 V2000\\n    0.4250    0.5416   -0.3063 C   0  0  0  0  0  0  0  0  0  0  0  0\\n    0.1893   -1.3521   -0.5626 C   0  0  0  0  0  0  0  0  0  0  0  0\\n    0.7919   -0.4089   -0.8680 C   0  0  0  0  0  0  0  0  0  0  0  0\\n   -0.5092   -0.5483    0.7032 C   0  0  0  0  0  0  0  0  0  0  0  0\\n    1.3183   -0.0916    2.9324 C   0  0  0  0  0  0  0  0  0  0  0  0\\n    0.3736    0.1440   -1.2264 C   0  0  0  0  0  0  0  0  0  0  0  0\\n   -1.2139   -1.7969    1.4568 C   0  0  0  0  0  0  0  0  0  0  0  0\\n   -1.5841    1.8006    0.1851 C   0  0  0  0  0  0  0  0  0  0  0  0\\n    2.4762    0.9363   -1.7373 C   0  0  0  0  0  0  0  0  0  0  0  0\\n   -0.3072   -0.6286    1.2427 C   0  0  0  0  0  0  0  0  0  0  0  0\\n   -0.3145   -1.1681   -0.4582 C   0  0  0  0  0  0  0  0  0  0  0  0\\n    1.7728   -0.6853   -1.9413 C   0  0  0  0  0  0  0  0  0  0  0  0\\n   -0.6180    0.8647    0.8879 C   0  0  0  0  0  0  0  0  0  0  0  0\\n    0.9634    0.4861   -0.5498 C   0  0  0  0  0  0  0  0  0  0  0  0\\n   -0.8579   -0.7127   -0.3662 C   0  0  0  0  0  0  0  0  0  0  0  0\\n   -0.6759    0.0107   -0.5386 C   0  0  0  0  0  0  0  0  0  0  0  0\\n   -0.9579   -0.1787   -0.3581 C   0  0  0  0  0  0  0  0  0  0  0  0\\n    1.1391   -0.8762    0.4109 C   0  0  0  0  0  0  0  0  0  0  0  0\\n    1.2789   -0.8484    1.5994 C   0  0  0  0  0  0  0  0  0  0  0  0\\n   -0.3704    0.5833    0.0906 C   0  0  0  0  0  0  0  0  0  0  0  0\\n    0.8783   -1.6469   -0.2831 C   0  0  0  0  0  0  0  0  0  0  0  0\\n    0.0787    0.1484    0.1616 C   0  0  0  0  0  0  0  0  0  0  0  0\\n    1.0712    0.3318   -0.3311 C   0  0  0  0  0  0  0  0  0  0  0  0\\n   -0.2853    0.4732    0.0164 C   0  0  0  0  0  0  0  0  0  0  0  0\\n    0.9409    1.5116   -0.3431 C   0  0  0  0  0  0  0  0  0  0  0  0\\n   -1.8891   -0.8324   -1.9738 C   0  0  0  0  0  0  0  0  0  0  0  0\\n   -1.7188    1.0625    0.5015 C   0  0  0  0  0  0  0  0  0  0  0  0\\n    0.6235    0.5554    2.2908 C   0  0  0  0  0  0  0  0  0  0  0  0\\n    0.9242    0.4413    0.6088 C   0  0  0  0  0  0  0  0  0  0  0  0\\n   -1.0118   -0.7327   -0.0935 C   0  0  0  0  0  0  0  0  0  0  0  0\\n   -1.4439    0.1737    2.1400 C   0  0  0  0  0  0  0  0  0  0  0  0\\n    0.2567    0.6662    0.6763 C   0  0  0  0  0  0  0  0  0  0  0  0\\n    0.8089   -0.4610    1.6115 C   0  0  0  0  0  0  0  0  0  0  0  0\\n    0.4770   -1.1353    0.7791 C   0  0  0  0  0  0  0  0  0  0  0  0\\n   -0.8193   -1.3555    1.3683 C   0  0  0  0  0  0  0  0  0  0  0  0\\n   -1.6674   -0.2188    1.8523 C   0  0  0  0  0  0  0  0  0  0  0  0\\n   -0.8818   -1.2886   -1.7044 C   0  0  0  0  0  0  0  0  0  0  0  0\\n   -1.8159    0.8782    2.3196 C   0  0  0  0  0  0  0  0  0  0  0  0\\n   -1.6996    0.4630    0.7460 C   0  0  0  0  0  0  0  0  0  0  0  0\\n   -0.3201   -0.1869    0.3588 C   0  0  0  0  0  0  0  0  0  0  0  0\\n   -0.4784    0.5187   -0.2091 C   0  0  0  0  0  0  0  0  0  0  0  0\\n    0.4017   -0.3390   -1.0151 C   0  0  0  0  0  0  0  0  0  0  0  0\\n    0.7140   -0.4591    0.2399 C   0  0  0  0  0  0  0  0  0  0  0  0\\n    1.6433    1.8451   -0.2764 C   0  0  0  0  0  0  0  0  0  0  0  0\\n    0.1714    0.1494    0.4758 C   0  0  0  0  0  0  0  0  0  0  0  0\\n   -0.0423   -0.1888   -0.1857 C   0  0  0  0  0  0  0  0  0  0  0  0\\n    0.7125    1.0523    1.6357 C   0  0  0  0  0  0  0  0  0  0  0  0\\n   -1.3954   -0.4795   -0.5274 C   0  0  0  0  0  0  0  0  0  0  0  0\\n    0.9665   -0.6023    0.4940 C   0  0  0  0  0  0  0  0  0  0  0  0\\n    1.5010   -0.1017   -0.3218 C   0  0  0  0  0  0  0  0  0  0  0  0\\nM  END\\n\",\"mol\");\n\tviewer_1744477897282712.setStyle({\"stick\": {}});\n\tviewer_1744477897282712.setBackgroundColor(\"white\");\n\tviewer_1744477897282712.zoomTo();\nviewer_1744477897282712.render();\n});\n</script>",
            "text/html": [
              "<div id=\"3dmolviewer_1744477897282712\"  style=\"position: relative; width: 500px; height: 400px;\">\n",
              "        <p id=\"3dmolwarning_1744477897282712\" style=\"background-color:#ffcccc;color:black\">3Dmol.js failed to load for some reason.  Please check your browser console for error messages.<br></p>\n",
              "        </div>\n",
              "<script>\n",
              "\n",
              "var loadScriptAsync = function(uri){\n",
              "  return new Promise((resolve, reject) => {\n",
              "    //this is to ignore the existence of requirejs amd\n",
              "    var savedexports, savedmodule;\n",
              "    if (typeof exports !== 'undefined') savedexports = exports;\n",
              "    else exports = {}\n",
              "    if (typeof module !== 'undefined') savedmodule = module;\n",
              "    else module = {}\n",
              "\n",
              "    var tag = document.createElement('script');\n",
              "    tag.src = uri;\n",
              "    tag.async = true;\n",
              "    tag.onload = () => {\n",
              "        exports = savedexports;\n",
              "        module = savedmodule;\n",
              "        resolve();\n",
              "    };\n",
              "  var firstScriptTag = document.getElementsByTagName('script')[0];\n",
              "  firstScriptTag.parentNode.insertBefore(tag, firstScriptTag);\n",
              "});\n",
              "};\n",
              "\n",
              "if(typeof $3Dmolpromise === 'undefined') {\n",
              "$3Dmolpromise = null;\n",
              "  $3Dmolpromise = loadScriptAsync('https://cdnjs.cloudflare.com/ajax/libs/3Dmol/2.4.2/3Dmol-min.js');\n",
              "}\n",
              "\n",
              "var viewer_1744477897282712 = null;\n",
              "var warn = document.getElementById(\"3dmolwarning_1744477897282712\");\n",
              "if(warn) {\n",
              "    warn.parentNode.removeChild(warn);\n",
              "}\n",
              "$3Dmolpromise.then(function() {\n",
              "viewer_1744477897282712 = $3Dmol.createViewer(document.getElementById(\"3dmolviewer_1744477897282712\"),{backgroundColor:\"white\"});\n",
              "viewer_1744477897282712.zoomTo();\n",
              "\tviewer_1744477897282712.addModel(\"\\n     RDKit          3D\\n\\n 50  0  0  0  0  0  0  0  0  0999 V2000\\n    0.4250    0.5416   -0.3063 C   0  0  0  0  0  0  0  0  0  0  0  0\\n    0.1893   -1.3521   -0.5626 C   0  0  0  0  0  0  0  0  0  0  0  0\\n    0.7919   -0.4089   -0.8680 C   0  0  0  0  0  0  0  0  0  0  0  0\\n   -0.5092   -0.5483    0.7032 C   0  0  0  0  0  0  0  0  0  0  0  0\\n    1.3183   -0.0916    2.9324 C   0  0  0  0  0  0  0  0  0  0  0  0\\n    0.3736    0.1440   -1.2264 C   0  0  0  0  0  0  0  0  0  0  0  0\\n   -1.2139   -1.7969    1.4568 C   0  0  0  0  0  0  0  0  0  0  0  0\\n   -1.5841    1.8006    0.1851 C   0  0  0  0  0  0  0  0  0  0  0  0\\n    2.4762    0.9363   -1.7373 C   0  0  0  0  0  0  0  0  0  0  0  0\\n   -0.3072   -0.6286    1.2427 C   0  0  0  0  0  0  0  0  0  0  0  0\\n   -0.3145   -1.1681   -0.4582 C   0  0  0  0  0  0  0  0  0  0  0  0\\n    1.7728   -0.6853   -1.9413 C   0  0  0  0  0  0  0  0  0  0  0  0\\n   -0.6180    0.8647    0.8879 C   0  0  0  0  0  0  0  0  0  0  0  0\\n    0.9634    0.4861   -0.5498 C   0  0  0  0  0  0  0  0  0  0  0  0\\n   -0.8579   -0.7127   -0.3662 C   0  0  0  0  0  0  0  0  0  0  0  0\\n   -0.6759    0.0107   -0.5386 C   0  0  0  0  0  0  0  0  0  0  0  0\\n   -0.9579   -0.1787   -0.3581 C   0  0  0  0  0  0  0  0  0  0  0  0\\n    1.1391   -0.8762    0.4109 C   0  0  0  0  0  0  0  0  0  0  0  0\\n    1.2789   -0.8484    1.5994 C   0  0  0  0  0  0  0  0  0  0  0  0\\n   -0.3704    0.5833    0.0906 C   0  0  0  0  0  0  0  0  0  0  0  0\\n    0.8783   -1.6469   -0.2831 C   0  0  0  0  0  0  0  0  0  0  0  0\\n    0.0787    0.1484    0.1616 C   0  0  0  0  0  0  0  0  0  0  0  0\\n    1.0712    0.3318   -0.3311 C   0  0  0  0  0  0  0  0  0  0  0  0\\n   -0.2853    0.4732    0.0164 C   0  0  0  0  0  0  0  0  0  0  0  0\\n    0.9409    1.5116   -0.3431 C   0  0  0  0  0  0  0  0  0  0  0  0\\n   -1.8891   -0.8324   -1.9738 C   0  0  0  0  0  0  0  0  0  0  0  0\\n   -1.7188    1.0625    0.5015 C   0  0  0  0  0  0  0  0  0  0  0  0\\n    0.6235    0.5554    2.2908 C   0  0  0  0  0  0  0  0  0  0  0  0\\n    0.9242    0.4413    0.6088 C   0  0  0  0  0  0  0  0  0  0  0  0\\n   -1.0118   -0.7327   -0.0935 C   0  0  0  0  0  0  0  0  0  0  0  0\\n   -1.4439    0.1737    2.1400 C   0  0  0  0  0  0  0  0  0  0  0  0\\n    0.2567    0.6662    0.6763 C   0  0  0  0  0  0  0  0  0  0  0  0\\n    0.8089   -0.4610    1.6115 C   0  0  0  0  0  0  0  0  0  0  0  0\\n    0.4770   -1.1353    0.7791 C   0  0  0  0  0  0  0  0  0  0  0  0\\n   -0.8193   -1.3555    1.3683 C   0  0  0  0  0  0  0  0  0  0  0  0\\n   -1.6674   -0.2188    1.8523 C   0  0  0  0  0  0  0  0  0  0  0  0\\n   -0.8818   -1.2886   -1.7044 C   0  0  0  0  0  0  0  0  0  0  0  0\\n   -1.8159    0.8782    2.3196 C   0  0  0  0  0  0  0  0  0  0  0  0\\n   -1.6996    0.4630    0.7460 C   0  0  0  0  0  0  0  0  0  0  0  0\\n   -0.3201   -0.1869    0.3588 C   0  0  0  0  0  0  0  0  0  0  0  0\\n   -0.4784    0.5187   -0.2091 C   0  0  0  0  0  0  0  0  0  0  0  0\\n    0.4017   -0.3390   -1.0151 C   0  0  0  0  0  0  0  0  0  0  0  0\\n    0.7140   -0.4591    0.2399 C   0  0  0  0  0  0  0  0  0  0  0  0\\n    1.6433    1.8451   -0.2764 C   0  0  0  0  0  0  0  0  0  0  0  0\\n    0.1714    0.1494    0.4758 C   0  0  0  0  0  0  0  0  0  0  0  0\\n   -0.0423   -0.1888   -0.1857 C   0  0  0  0  0  0  0  0  0  0  0  0\\n    0.7125    1.0523    1.6357 C   0  0  0  0  0  0  0  0  0  0  0  0\\n   -1.3954   -0.4795   -0.5274 C   0  0  0  0  0  0  0  0  0  0  0  0\\n    0.9665   -0.6023    0.4940 C   0  0  0  0  0  0  0  0  0  0  0  0\\n    1.5010   -0.1017   -0.3218 C   0  0  0  0  0  0  0  0  0  0  0  0\\nM  END\\n\",\"mol\");\n",
              "\tviewer_1744477897282712.setStyle({\"stick\": {}});\n",
              "\tviewer_1744477897282712.setBackgroundColor(\"white\");\n",
              "\tviewer_1744477897282712.zoomTo();\n",
              "viewer_1744477897282712.render();\n",
              "});\n",
              "</script>"
            ]
          },
          "metadata": {}
        },
        {
          "output_type": "display_data",
          "data": {
            "text/plain": [
              "<py3Dmol.view at 0x7fdca094b090>"
            ]
          },
          "metadata": {}
        }
      ]
    },
    {
      "cell_type": "code",
      "source": [
        "model.eval()\n",
        "with torch.no_grad():\n",
        "    for t in reversed(range(T)):\n",
        "        t_tensor = torch.full((1,), t, device=device, dtype=torch.float32)\n",
        "        noise_pred = model(x.permute(0, 2, 1), t_tensor).permute(0, 2, 1)\n",
        "\n",
        "        # Update using DDPM reverse formula\n",
        "        x = scheduler.step(noise_pred, t, x).prev_sample\n",
        "        if t % 200 == 0:\n",
        "            coords_t = x.squeeze(0).cpu().numpy()\n",
        "            mol_t = coords_to_rdkit_mol(coords_t, random_atom_types)\n",
        "            viewer_t = visualize_mol(mol_t)\n",
        "            display(viewer_t)\n"
      ],
      "metadata": {
        "colab": {
          "base_uri": "https://localhost:8080/",
          "height": 1000
        },
        "id": "Rt37HA5g9PKf",
        "outputId": "9454a14d-d060-4fd0-b2a0-31a013b3e1ca"
      },
      "execution_count": 138,
      "outputs": [
        {
          "output_type": "display_data",
          "data": {
            "application/3dmoljs_load.v0": "<div id=\"3dmolviewer_174447789747885\"  style=\"position: relative; width: 500px; height: 400px;\">\n        <p id=\"3dmolwarning_174447789747885\" style=\"background-color:#ffcccc;color:black\">3Dmol.js failed to load for some reason.  Please check your browser console for error messages.<br></p>\n        </div>\n<script>\n\nvar loadScriptAsync = function(uri){\n  return new Promise((resolve, reject) => {\n    //this is to ignore the existence of requirejs amd\n    var savedexports, savedmodule;\n    if (typeof exports !== 'undefined') savedexports = exports;\n    else exports = {}\n    if (typeof module !== 'undefined') savedmodule = module;\n    else module = {}\n\n    var tag = document.createElement('script');\n    tag.src = uri;\n    tag.async = true;\n    tag.onload = () => {\n        exports = savedexports;\n        module = savedmodule;\n        resolve();\n    };\n  var firstScriptTag = document.getElementsByTagName('script')[0];\n  firstScriptTag.parentNode.insertBefore(tag, firstScriptTag);\n});\n};\n\nif(typeof $3Dmolpromise === 'undefined') {\n$3Dmolpromise = null;\n  $3Dmolpromise = loadScriptAsync('https://cdnjs.cloudflare.com/ajax/libs/3Dmol/2.4.2/3Dmol-min.js');\n}\n\nvar viewer_174447789747885 = null;\nvar warn = document.getElementById(\"3dmolwarning_174447789747885\");\nif(warn) {\n    warn.parentNode.removeChild(warn);\n}\n$3Dmolpromise.then(function() {\nviewer_174447789747885 = $3Dmol.createViewer(document.getElementById(\"3dmolviewer_174447789747885\"),{backgroundColor:\"white\"});\nviewer_174447789747885.zoomTo();\n\tviewer_174447789747885.addModel(\"\\n     RDKit          3D\\n\\n 50  0  0  0  0  0  0  0  0  0999 V2000\\n    0.3587    0.9793    0.9115 C   0  0  0  0  0  0  0  0  0  0  0  0\\n   -0.6191    0.0873    1.3321 C   0  0  0  0  0  0  0  0  0  0  0  0\\n    0.7070   -0.6918    0.3227 C   0  0  0  0  0  0  0  0  0  0  0  0\\n   -0.4819    0.4782   -0.1949 C   0  0  0  0  0  0  0  0  0  0  0  0\\n   -0.6964    0.8962    0.5861 C   0  0  0  0  0  0  0  0  0  0  0  0\\n    1.6536    0.2917   -0.1458 C   0  0  0  0  0  0  0  0  0  0  0  0\\n    0.1898    1.3978   -2.7143 C   0  0  0  0  0  0  0  0  0  0  0  0\\n    1.9980   -1.0000    1.5987 C   0  0  0  0  0  0  0  0  0  0  0  0\\n    1.1704   -0.1338   -1.5656 C   0  0  0  0  0  0  0  0  0  0  0  0\\n   -1.5269    0.3148    1.1738 C   0  0  0  0  0  0  0  0  0  0  0  0\\n   -0.7015    0.5139    0.4983 C   0  0  0  0  0  0  0  0  0  0  0  0\\n   -1.1402    1.1018   -1.0378 C   0  0  0  0  0  0  0  0  0  0  0  0\\n   -0.5375   -1.1323    0.1951 C   0  0  0  0  0  0  0  0  0  0  0  0\\n    0.2602   -0.9312   -1.8423 C   0  0  0  0  0  0  0  0  0  0  0  0\\n   -0.7798    0.7170    0.8208 C   0  0  0  0  0  0  0  0  0  0  0  0\\n   -0.7196   -0.0725   -0.8339 C   0  0  0  0  0  0  0  0  0  0  0  0\\n   -0.4468    0.8878   -0.8809 C   0  0  0  0  0  0  0  0  0  0  0  0\\n   -0.1654   -1.5847    0.0549 C   0  0  0  0  0  0  0  0  0  0  0  0\\n    0.8253   -0.3200    0.8519 C   0  0  0  0  0  0  0  0  0  0  0  0\\n    1.3965    0.8929   -1.6417 C   0  0  0  0  0  0  0  0  0  0  0  0\\n    1.0066   -1.1853   -1.7195 C   0  0  0  0  0  0  0  0  0  0  0  0\\n    1.2395    0.6531   -0.4691 C   0  0  0  0  0  0  0  0  0  0  0  0\\n    0.6025    1.5874    0.4911 C   0  0  0  0  0  0  0  0  0  0  0  0\\n   -0.6453    2.7684    2.4302 C   0  0  0  0  0  0  0  0  0  0  0  0\\n    1.2328    0.8221    1.0992 C   0  0  0  0  0  0  0  0  0  0  0  0\\n   -0.5933    0.7292   -1.0154 C   0  0  0  0  0  0  0  0  0  0  0  0\\n    1.7859   -0.5026   -1.7418 C   0  0  0  0  0  0  0  0  0  0  0  0\\n   -0.2588    0.2207    0.2595 C   0  0  0  0  0  0  0  0  0  0  0  0\\n   -1.1413    0.2703    0.0854 C   0  0  0  0  0  0  0  0  0  0  0  0\\n    0.2797    0.7792   -2.6652 C   0  0  0  0  0  0  0  0  0  0  0  0\\n   -0.9549    0.3464    1.4720 C   0  0  0  0  0  0  0  0  0  0  0  0\\n   -0.2254    1.9711   -0.8713 C   0  0  0  0  0  0  0  0  0  0  0  0\\n   -0.4591    0.4202    1.0009 C   0  0  0  0  0  0  0  0  0  0  0  0\\n   -0.3705    0.3871    1.0843 C   0  0  0  0  0  0  0  0  0  0  0  0\\n    0.6144   -1.7890   -0.4846 C   0  0  0  0  0  0  0  0  0  0  0  0\\n   -1.0249   -0.3120    0.4542 C   0  0  0  0  0  0  0  0  0  0  0  0\\n   -0.9033   -0.7621   -1.0750 C   0  0  0  0  0  0  0  0  0  0  0  0\\n    0.4496    0.7142   -1.5104 C   0  0  0  0  0  0  0  0  0  0  0  0\\n   -1.2979    0.4271   -1.1079 C   0  0  0  0  0  0  0  0  0  0  0  0\\n    0.4673    0.9267   -0.3683 C   0  0  0  0  0  0  0  0  0  0  0  0\\n    0.1452    0.6304   -2.2429 C   0  0  0  0  0  0  0  0  0  0  0  0\\n    2.1222   -1.3405    1.2524 C   0  0  0  0  0  0  0  0  0  0  0  0\\n   -0.6766    0.7514   -0.6103 C   0  0  0  0  0  0  0  0  0  0  0  0\\n   -0.7322   -1.2471   -0.7424 C   0  0  0  0  0  0  0  0  0  0  0  0\\n    0.4024   -0.7701    1.4617 C   0  0  0  0  0  0  0  0  0  0  0  0\\n    0.4341   -0.7976    1.2107 C   0  0  0  0  0  0  0  0  0  0  0  0\\n   -0.1701    0.4127    0.9577 C   0  0  0  0  0  0  0  0  0  0  0  0\\n   -0.8534    0.6215    0.6203 C   0  0  0  0  0  0  0  0  0  0  0  0\\n    0.1869    0.4362    1.2242 C   0  0  0  0  0  0  0  0  0  0  0  0\\n   -0.5662    0.1830   -1.5465 C   0  0  0  0  0  0  0  0  0  0  0  0\\nM  END\\n\",\"mol\");\n\tviewer_174447789747885.setStyle({\"stick\": {}});\n\tviewer_174447789747885.setBackgroundColor(\"white\");\n\tviewer_174447789747885.zoomTo();\nviewer_174447789747885.render();\n});\n</script>",
            "text/html": [
              "<div id=\"3dmolviewer_174447789747885\"  style=\"position: relative; width: 500px; height: 400px;\">\n",
              "        <p id=\"3dmolwarning_174447789747885\" style=\"background-color:#ffcccc;color:black\">3Dmol.js failed to load for some reason.  Please check your browser console for error messages.<br></p>\n",
              "        </div>\n",
              "<script>\n",
              "\n",
              "var loadScriptAsync = function(uri){\n",
              "  return new Promise((resolve, reject) => {\n",
              "    //this is to ignore the existence of requirejs amd\n",
              "    var savedexports, savedmodule;\n",
              "    if (typeof exports !== 'undefined') savedexports = exports;\n",
              "    else exports = {}\n",
              "    if (typeof module !== 'undefined') savedmodule = module;\n",
              "    else module = {}\n",
              "\n",
              "    var tag = document.createElement('script');\n",
              "    tag.src = uri;\n",
              "    tag.async = true;\n",
              "    tag.onload = () => {\n",
              "        exports = savedexports;\n",
              "        module = savedmodule;\n",
              "        resolve();\n",
              "    };\n",
              "  var firstScriptTag = document.getElementsByTagName('script')[0];\n",
              "  firstScriptTag.parentNode.insertBefore(tag, firstScriptTag);\n",
              "});\n",
              "};\n",
              "\n",
              "if(typeof $3Dmolpromise === 'undefined') {\n",
              "$3Dmolpromise = null;\n",
              "  $3Dmolpromise = loadScriptAsync('https://cdnjs.cloudflare.com/ajax/libs/3Dmol/2.4.2/3Dmol-min.js');\n",
              "}\n",
              "\n",
              "var viewer_174447789747885 = null;\n",
              "var warn = document.getElementById(\"3dmolwarning_174447789747885\");\n",
              "if(warn) {\n",
              "    warn.parentNode.removeChild(warn);\n",
              "}\n",
              "$3Dmolpromise.then(function() {\n",
              "viewer_174447789747885 = $3Dmol.createViewer(document.getElementById(\"3dmolviewer_174447789747885\"),{backgroundColor:\"white\"});\n",
              "viewer_174447789747885.zoomTo();\n",
              "\tviewer_174447789747885.addModel(\"\\n     RDKit          3D\\n\\n 50  0  0  0  0  0  0  0  0  0999 V2000\\n    0.3587    0.9793    0.9115 C   0  0  0  0  0  0  0  0  0  0  0  0\\n   -0.6191    0.0873    1.3321 C   0  0  0  0  0  0  0  0  0  0  0  0\\n    0.7070   -0.6918    0.3227 C   0  0  0  0  0  0  0  0  0  0  0  0\\n   -0.4819    0.4782   -0.1949 C   0  0  0  0  0  0  0  0  0  0  0  0\\n   -0.6964    0.8962    0.5861 C   0  0  0  0  0  0  0  0  0  0  0  0\\n    1.6536    0.2917   -0.1458 C   0  0  0  0  0  0  0  0  0  0  0  0\\n    0.1898    1.3978   -2.7143 C   0  0  0  0  0  0  0  0  0  0  0  0\\n    1.9980   -1.0000    1.5987 C   0  0  0  0  0  0  0  0  0  0  0  0\\n    1.1704   -0.1338   -1.5656 C   0  0  0  0  0  0  0  0  0  0  0  0\\n   -1.5269    0.3148    1.1738 C   0  0  0  0  0  0  0  0  0  0  0  0\\n   -0.7015    0.5139    0.4983 C   0  0  0  0  0  0  0  0  0  0  0  0\\n   -1.1402    1.1018   -1.0378 C   0  0  0  0  0  0  0  0  0  0  0  0\\n   -0.5375   -1.1323    0.1951 C   0  0  0  0  0  0  0  0  0  0  0  0\\n    0.2602   -0.9312   -1.8423 C   0  0  0  0  0  0  0  0  0  0  0  0\\n   -0.7798    0.7170    0.8208 C   0  0  0  0  0  0  0  0  0  0  0  0\\n   -0.7196   -0.0725   -0.8339 C   0  0  0  0  0  0  0  0  0  0  0  0\\n   -0.4468    0.8878   -0.8809 C   0  0  0  0  0  0  0  0  0  0  0  0\\n   -0.1654   -1.5847    0.0549 C   0  0  0  0  0  0  0  0  0  0  0  0\\n    0.8253   -0.3200    0.8519 C   0  0  0  0  0  0  0  0  0  0  0  0\\n    1.3965    0.8929   -1.6417 C   0  0  0  0  0  0  0  0  0  0  0  0\\n    1.0066   -1.1853   -1.7195 C   0  0  0  0  0  0  0  0  0  0  0  0\\n    1.2395    0.6531   -0.4691 C   0  0  0  0  0  0  0  0  0  0  0  0\\n    0.6025    1.5874    0.4911 C   0  0  0  0  0  0  0  0  0  0  0  0\\n   -0.6453    2.7684    2.4302 C   0  0  0  0  0  0  0  0  0  0  0  0\\n    1.2328    0.8221    1.0992 C   0  0  0  0  0  0  0  0  0  0  0  0\\n   -0.5933    0.7292   -1.0154 C   0  0  0  0  0  0  0  0  0  0  0  0\\n    1.7859   -0.5026   -1.7418 C   0  0  0  0  0  0  0  0  0  0  0  0\\n   -0.2588    0.2207    0.2595 C   0  0  0  0  0  0  0  0  0  0  0  0\\n   -1.1413    0.2703    0.0854 C   0  0  0  0  0  0  0  0  0  0  0  0\\n    0.2797    0.7792   -2.6652 C   0  0  0  0  0  0  0  0  0  0  0  0\\n   -0.9549    0.3464    1.4720 C   0  0  0  0  0  0  0  0  0  0  0  0\\n   -0.2254    1.9711   -0.8713 C   0  0  0  0  0  0  0  0  0  0  0  0\\n   -0.4591    0.4202    1.0009 C   0  0  0  0  0  0  0  0  0  0  0  0\\n   -0.3705    0.3871    1.0843 C   0  0  0  0  0  0  0  0  0  0  0  0\\n    0.6144   -1.7890   -0.4846 C   0  0  0  0  0  0  0  0  0  0  0  0\\n   -1.0249   -0.3120    0.4542 C   0  0  0  0  0  0  0  0  0  0  0  0\\n   -0.9033   -0.7621   -1.0750 C   0  0  0  0  0  0  0  0  0  0  0  0\\n    0.4496    0.7142   -1.5104 C   0  0  0  0  0  0  0  0  0  0  0  0\\n   -1.2979    0.4271   -1.1079 C   0  0  0  0  0  0  0  0  0  0  0  0\\n    0.4673    0.9267   -0.3683 C   0  0  0  0  0  0  0  0  0  0  0  0\\n    0.1452    0.6304   -2.2429 C   0  0  0  0  0  0  0  0  0  0  0  0\\n    2.1222   -1.3405    1.2524 C   0  0  0  0  0  0  0  0  0  0  0  0\\n   -0.6766    0.7514   -0.6103 C   0  0  0  0  0  0  0  0  0  0  0  0\\n   -0.7322   -1.2471   -0.7424 C   0  0  0  0  0  0  0  0  0  0  0  0\\n    0.4024   -0.7701    1.4617 C   0  0  0  0  0  0  0  0  0  0  0  0\\n    0.4341   -0.7976    1.2107 C   0  0  0  0  0  0  0  0  0  0  0  0\\n   -0.1701    0.4127    0.9577 C   0  0  0  0  0  0  0  0  0  0  0  0\\n   -0.8534    0.6215    0.6203 C   0  0  0  0  0  0  0  0  0  0  0  0\\n    0.1869    0.4362    1.2242 C   0  0  0  0  0  0  0  0  0  0  0  0\\n   -0.5662    0.1830   -1.5465 C   0  0  0  0  0  0  0  0  0  0  0  0\\nM  END\\n\",\"mol\");\n",
              "\tviewer_174447789747885.setStyle({\"stick\": {}});\n",
              "\tviewer_174447789747885.setBackgroundColor(\"white\");\n",
              "\tviewer_174447789747885.zoomTo();\n",
              "viewer_174447789747885.render();\n",
              "});\n",
              "</script>"
            ]
          },
          "metadata": {}
        },
        {
          "output_type": "display_data",
          "data": {
            "text/plain": [
              "<py3Dmol.view at 0x7fdca0952250>"
            ]
          },
          "metadata": {}
        },
        {
          "output_type": "display_data",
          "data": {
            "application/3dmoljs_load.v0": "<div id=\"3dmolviewer_17444778976649365\"  style=\"position: relative; width: 500px; height: 400px;\">\n        <p id=\"3dmolwarning_17444778976649365\" style=\"background-color:#ffcccc;color:black\">3Dmol.js failed to load for some reason.  Please check your browser console for error messages.<br></p>\n        </div>\n<script>\n\nvar loadScriptAsync = function(uri){\n  return new Promise((resolve, reject) => {\n    //this is to ignore the existence of requirejs amd\n    var savedexports, savedmodule;\n    if (typeof exports !== 'undefined') savedexports = exports;\n    else exports = {}\n    if (typeof module !== 'undefined') savedmodule = module;\n    else module = {}\n\n    var tag = document.createElement('script');\n    tag.src = uri;\n    tag.async = true;\n    tag.onload = () => {\n        exports = savedexports;\n        module = savedmodule;\n        resolve();\n    };\n  var firstScriptTag = document.getElementsByTagName('script')[0];\n  firstScriptTag.parentNode.insertBefore(tag, firstScriptTag);\n});\n};\n\nif(typeof $3Dmolpromise === 'undefined') {\n$3Dmolpromise = null;\n  $3Dmolpromise = loadScriptAsync('https://cdnjs.cloudflare.com/ajax/libs/3Dmol/2.4.2/3Dmol-min.js');\n}\n\nvar viewer_17444778976649365 = null;\nvar warn = document.getElementById(\"3dmolwarning_17444778976649365\");\nif(warn) {\n    warn.parentNode.removeChild(warn);\n}\n$3Dmolpromise.then(function() {\nviewer_17444778976649365 = $3Dmol.createViewer(document.getElementById(\"3dmolviewer_17444778976649365\"),{backgroundColor:\"white\"});\nviewer_17444778976649365.zoomTo();\n\tviewer_17444778976649365.addModel(\"\\n     RDKit          3D\\n\\n 50  0  0  0  0  0  0  0  0  0999 V2000\\n   -1.2778   -0.2208   -1.4352 C   0  0  0  0  0  0  0  0  0  0  0  0\\n    0.3201    0.0836    1.9065 C   0  0  0  0  0  0  0  0  0  0  0  0\\n    1.1901    0.5401    0.0605 C   0  0  0  0  0  0  0  0  0  0  0  0\\n    0.6998   -0.9430   -0.4045 C   0  0  0  0  0  0  0  0  0  0  0  0\\n   -0.6573   -0.2810   -0.2477 C   0  0  0  0  0  0  0  0  0  0  0  0\\n   -0.1284    0.0906    0.4393 C   0  0  0  0  0  0  0  0  0  0  0  0\\n    0.2317    0.3655   -1.9386 C   0  0  0  0  0  0  0  0  0  0  0  0\\n    0.7268   -0.5983   -0.8899 C   0  0  0  0  0  0  0  0  0  0  0  0\\n   -0.3079   -0.9827   -0.2461 C   0  0  0  0  0  0  0  0  0  0  0  0\\n   -0.6404   -0.5675    1.5831 C   0  0  0  0  0  0  0  0  0  0  0  0\\n    0.5735    0.5465    0.5488 C   0  0  0  0  0  0  0  0  0  0  0  0\\n   -0.3314   -0.1824    0.1278 C   0  0  0  0  0  0  0  0  0  0  0  0\\n    0.0442   -1.0467    1.7763 C   0  0  0  0  0  0  0  0  0  0  0  0\\n   -0.0817   -0.5271   -2.0125 C   0  0  0  0  0  0  0  0  0  0  0  0\\n   -0.2066    2.9813   -0.8810 C   0  0  0  0  0  0  0  0  0  0  0  0\\n    1.2490    0.6749   -1.7805 C   0  0  0  0  0  0  0  0  0  0  0  0\\n    0.2413   -0.9218    0.6152 C   0  0  0  0  0  0  0  0  0  0  0  0\\n   -0.5113   -1.0599    0.5642 C   0  0  0  0  0  0  0  0  0  0  0  0\\n   -0.3614    0.3161   -2.5935 C   0  0  0  0  0  0  0  0  0  0  0  0\\n    1.0761    0.1077   -1.2038 C   0  0  0  0  0  0  0  0  0  0  0  0\\n   -0.0548    0.5785   -1.0156 C   0  0  0  0  0  0  0  0  0  0  0  0\\n    0.4604    2.9893   -0.9813 C   0  0  0  0  0  0  0  0  0  0  0  0\\n   -0.3534    1.1630   -0.2209 C   0  0  0  0  0  0  0  0  0  0  0  0\\n    0.9676   -0.9460    0.4910 C   0  0  0  0  0  0  0  0  0  0  0  0\\n    1.3874    0.8422   -1.7245 C   0  0  0  0  0  0  0  0  0  0  0  0\\n    0.6520   -0.2344   -1.4335 C   0  0  0  0  0  0  0  0  0  0  0  0\\n   -0.4648   -0.0780   -1.3838 C   0  0  0  0  0  0  0  0  0  0  0  0\\n    0.8721   -0.2476   -0.5951 C   0  0  0  0  0  0  0  0  0  0  0  0\\n   -0.9317   -0.5893   -1.9027 C   0  0  0  0  0  0  0  0  0  0  0  0\\n   -1.0253   -1.0280   -2.8083 C   0  0  0  0  0  0  0  0  0  0  0  0\\n    0.3976    1.2100    1.8425 C   0  0  0  0  0  0  0  0  0  0  0  0\\n   -0.6464   -1.9702   -1.8519 C   0  0  0  0  0  0  0  0  0  0  0  0\\n    1.7316    1.1662    0.0954 C   0  0  0  0  0  0  0  0  0  0  0  0\\n   -0.2112   -0.1437   -1.2058 C   0  0  0  0  0  0  0  0  0  0  0  0\\n   -1.9291   -0.6030    1.2289 C   0  0  0  0  0  0  0  0  0  0  0  0\\n    0.8932   -1.3472    0.3226 C   0  0  0  0  0  0  0  0  0  0  0  0\\n   -2.3308    1.5576    0.6764 C   0  0  0  0  0  0  0  0  0  0  0  0\\n    1.0398    1.7861   -1.5767 C   0  0  0  0  0  0  0  0  0  0  0  0\\n   -0.3369   -0.0536   -0.2557 C   0  0  0  0  0  0  0  0  0  0  0  0\\n    1.4369   -0.8387    0.3781 C   0  0  0  0  0  0  0  0  0  0  0  0\\n   -1.6130   -1.1282   -1.6462 C   0  0  0  0  0  0  0  0  0  0  0  0\\n    1.2740    2.4053   -0.3138 C   0  0  0  0  0  0  0  0  0  0  0  0\\n    1.2258    2.0302   -0.1809 C   0  0  0  0  0  0  0  0  0  0  0  0\\n    1.1939    0.9625   -1.9899 C   0  0  0  0  0  0  0  0  0  0  0  0\\n   -0.6115   -0.6327    1.6767 C   0  0  0  0  0  0  0  0  0  0  0  0\\n    1.5659   -0.1263    0.8556 C   0  0  0  0  0  0  0  0  0  0  0  0\\n    0.3494    0.1396    0.9708 C   0  0  0  0  0  0  0  0  0  0  0  0\\n   -0.7618   -0.6656   -1.1299 C   0  0  0  0  0  0  0  0  0  0  0  0\\n    1.1161   -0.4997   -0.3511 C   0  0  0  0  0  0  0  0  0  0  0  0\\n   -1.4911   -0.5109    0.4882 C   0  0  0  0  0  0  0  0  0  0  0  0\\nM  END\\n\",\"mol\");\n\tviewer_17444778976649365.setStyle({\"stick\": {}});\n\tviewer_17444778976649365.setBackgroundColor(\"white\");\n\tviewer_17444778976649365.zoomTo();\nviewer_17444778976649365.render();\n});\n</script>",
            "text/html": [
              "<div id=\"3dmolviewer_17444778976649365\"  style=\"position: relative; width: 500px; height: 400px;\">\n",
              "        <p id=\"3dmolwarning_17444778976649365\" style=\"background-color:#ffcccc;color:black\">3Dmol.js failed to load for some reason.  Please check your browser console for error messages.<br></p>\n",
              "        </div>\n",
              "<script>\n",
              "\n",
              "var loadScriptAsync = function(uri){\n",
              "  return new Promise((resolve, reject) => {\n",
              "    //this is to ignore the existence of requirejs amd\n",
              "    var savedexports, savedmodule;\n",
              "    if (typeof exports !== 'undefined') savedexports = exports;\n",
              "    else exports = {}\n",
              "    if (typeof module !== 'undefined') savedmodule = module;\n",
              "    else module = {}\n",
              "\n",
              "    var tag = document.createElement('script');\n",
              "    tag.src = uri;\n",
              "    tag.async = true;\n",
              "    tag.onload = () => {\n",
              "        exports = savedexports;\n",
              "        module = savedmodule;\n",
              "        resolve();\n",
              "    };\n",
              "  var firstScriptTag = document.getElementsByTagName('script')[0];\n",
              "  firstScriptTag.parentNode.insertBefore(tag, firstScriptTag);\n",
              "});\n",
              "};\n",
              "\n",
              "if(typeof $3Dmolpromise === 'undefined') {\n",
              "$3Dmolpromise = null;\n",
              "  $3Dmolpromise = loadScriptAsync('https://cdnjs.cloudflare.com/ajax/libs/3Dmol/2.4.2/3Dmol-min.js');\n",
              "}\n",
              "\n",
              "var viewer_17444778976649365 = null;\n",
              "var warn = document.getElementById(\"3dmolwarning_17444778976649365\");\n",
              "if(warn) {\n",
              "    warn.parentNode.removeChild(warn);\n",
              "}\n",
              "$3Dmolpromise.then(function() {\n",
              "viewer_17444778976649365 = $3Dmol.createViewer(document.getElementById(\"3dmolviewer_17444778976649365\"),{backgroundColor:\"white\"});\n",
              "viewer_17444778976649365.zoomTo();\n",
              "\tviewer_17444778976649365.addModel(\"\\n     RDKit          3D\\n\\n 50  0  0  0  0  0  0  0  0  0999 V2000\\n   -1.2778   -0.2208   -1.4352 C   0  0  0  0  0  0  0  0  0  0  0  0\\n    0.3201    0.0836    1.9065 C   0  0  0  0  0  0  0  0  0  0  0  0\\n    1.1901    0.5401    0.0605 C   0  0  0  0  0  0  0  0  0  0  0  0\\n    0.6998   -0.9430   -0.4045 C   0  0  0  0  0  0  0  0  0  0  0  0\\n   -0.6573   -0.2810   -0.2477 C   0  0  0  0  0  0  0  0  0  0  0  0\\n   -0.1284    0.0906    0.4393 C   0  0  0  0  0  0  0  0  0  0  0  0\\n    0.2317    0.3655   -1.9386 C   0  0  0  0  0  0  0  0  0  0  0  0\\n    0.7268   -0.5983   -0.8899 C   0  0  0  0  0  0  0  0  0  0  0  0\\n   -0.3079   -0.9827   -0.2461 C   0  0  0  0  0  0  0  0  0  0  0  0\\n   -0.6404   -0.5675    1.5831 C   0  0  0  0  0  0  0  0  0  0  0  0\\n    0.5735    0.5465    0.5488 C   0  0  0  0  0  0  0  0  0  0  0  0\\n   -0.3314   -0.1824    0.1278 C   0  0  0  0  0  0  0  0  0  0  0  0\\n    0.0442   -1.0467    1.7763 C   0  0  0  0  0  0  0  0  0  0  0  0\\n   -0.0817   -0.5271   -2.0125 C   0  0  0  0  0  0  0  0  0  0  0  0\\n   -0.2066    2.9813   -0.8810 C   0  0  0  0  0  0  0  0  0  0  0  0\\n    1.2490    0.6749   -1.7805 C   0  0  0  0  0  0  0  0  0  0  0  0\\n    0.2413   -0.9218    0.6152 C   0  0  0  0  0  0  0  0  0  0  0  0\\n   -0.5113   -1.0599    0.5642 C   0  0  0  0  0  0  0  0  0  0  0  0\\n   -0.3614    0.3161   -2.5935 C   0  0  0  0  0  0  0  0  0  0  0  0\\n    1.0761    0.1077   -1.2038 C   0  0  0  0  0  0  0  0  0  0  0  0\\n   -0.0548    0.5785   -1.0156 C   0  0  0  0  0  0  0  0  0  0  0  0\\n    0.4604    2.9893   -0.9813 C   0  0  0  0  0  0  0  0  0  0  0  0\\n   -0.3534    1.1630   -0.2209 C   0  0  0  0  0  0  0  0  0  0  0  0\\n    0.9676   -0.9460    0.4910 C   0  0  0  0  0  0  0  0  0  0  0  0\\n    1.3874    0.8422   -1.7245 C   0  0  0  0  0  0  0  0  0  0  0  0\\n    0.6520   -0.2344   -1.4335 C   0  0  0  0  0  0  0  0  0  0  0  0\\n   -0.4648   -0.0780   -1.3838 C   0  0  0  0  0  0  0  0  0  0  0  0\\n    0.8721   -0.2476   -0.5951 C   0  0  0  0  0  0  0  0  0  0  0  0\\n   -0.9317   -0.5893   -1.9027 C   0  0  0  0  0  0  0  0  0  0  0  0\\n   -1.0253   -1.0280   -2.8083 C   0  0  0  0  0  0  0  0  0  0  0  0\\n    0.3976    1.2100    1.8425 C   0  0  0  0  0  0  0  0  0  0  0  0\\n   -0.6464   -1.9702   -1.8519 C   0  0  0  0  0  0  0  0  0  0  0  0\\n    1.7316    1.1662    0.0954 C   0  0  0  0  0  0  0  0  0  0  0  0\\n   -0.2112   -0.1437   -1.2058 C   0  0  0  0  0  0  0  0  0  0  0  0\\n   -1.9291   -0.6030    1.2289 C   0  0  0  0  0  0  0  0  0  0  0  0\\n    0.8932   -1.3472    0.3226 C   0  0  0  0  0  0  0  0  0  0  0  0\\n   -2.3308    1.5576    0.6764 C   0  0  0  0  0  0  0  0  0  0  0  0\\n    1.0398    1.7861   -1.5767 C   0  0  0  0  0  0  0  0  0  0  0  0\\n   -0.3369   -0.0536   -0.2557 C   0  0  0  0  0  0  0  0  0  0  0  0\\n    1.4369   -0.8387    0.3781 C   0  0  0  0  0  0  0  0  0  0  0  0\\n   -1.6130   -1.1282   -1.6462 C   0  0  0  0  0  0  0  0  0  0  0  0\\n    1.2740    2.4053   -0.3138 C   0  0  0  0  0  0  0  0  0  0  0  0\\n    1.2258    2.0302   -0.1809 C   0  0  0  0  0  0  0  0  0  0  0  0\\n    1.1939    0.9625   -1.9899 C   0  0  0  0  0  0  0  0  0  0  0  0\\n   -0.6115   -0.6327    1.6767 C   0  0  0  0  0  0  0  0  0  0  0  0\\n    1.5659   -0.1263    0.8556 C   0  0  0  0  0  0  0  0  0  0  0  0\\n    0.3494    0.1396    0.9708 C   0  0  0  0  0  0  0  0  0  0  0  0\\n   -0.7618   -0.6656   -1.1299 C   0  0  0  0  0  0  0  0  0  0  0  0\\n    1.1161   -0.4997   -0.3511 C   0  0  0  0  0  0  0  0  0  0  0  0\\n   -1.4911   -0.5109    0.4882 C   0  0  0  0  0  0  0  0  0  0  0  0\\nM  END\\n\",\"mol\");\n",
              "\tviewer_17444778976649365.setStyle({\"stick\": {}});\n",
              "\tviewer_17444778976649365.setBackgroundColor(\"white\");\n",
              "\tviewer_17444778976649365.zoomTo();\n",
              "viewer_17444778976649365.render();\n",
              "});\n",
              "</script>"
            ]
          },
          "metadata": {}
        },
        {
          "output_type": "display_data",
          "data": {
            "text/plain": [
              "<py3Dmol.view at 0x7fdca084c590>"
            ]
          },
          "metadata": {}
        },
        {
          "output_type": "display_data",
          "data": {
            "application/3dmoljs_load.v0": "<div id=\"3dmolviewer_17444778978593154\"  style=\"position: relative; width: 500px; height: 400px;\">\n        <p id=\"3dmolwarning_17444778978593154\" style=\"background-color:#ffcccc;color:black\">3Dmol.js failed to load for some reason.  Please check your browser console for error messages.<br></p>\n        </div>\n<script>\n\nvar loadScriptAsync = function(uri){\n  return new Promise((resolve, reject) => {\n    //this is to ignore the existence of requirejs amd\n    var savedexports, savedmodule;\n    if (typeof exports !== 'undefined') savedexports = exports;\n    else exports = {}\n    if (typeof module !== 'undefined') savedmodule = module;\n    else module = {}\n\n    var tag = document.createElement('script');\n    tag.src = uri;\n    tag.async = true;\n    tag.onload = () => {\n        exports = savedexports;\n        module = savedmodule;\n        resolve();\n    };\n  var firstScriptTag = document.getElementsByTagName('script')[0];\n  firstScriptTag.parentNode.insertBefore(tag, firstScriptTag);\n});\n};\n\nif(typeof $3Dmolpromise === 'undefined') {\n$3Dmolpromise = null;\n  $3Dmolpromise = loadScriptAsync('https://cdnjs.cloudflare.com/ajax/libs/3Dmol/2.4.2/3Dmol-min.js');\n}\n\nvar viewer_17444778978593154 = null;\nvar warn = document.getElementById(\"3dmolwarning_17444778978593154\");\nif(warn) {\n    warn.parentNode.removeChild(warn);\n}\n$3Dmolpromise.then(function() {\nviewer_17444778978593154 = $3Dmol.createViewer(document.getElementById(\"3dmolviewer_17444778978593154\"),{backgroundColor:\"white\"});\nviewer_17444778978593154.zoomTo();\n\tviewer_17444778978593154.addModel(\"\\n     RDKit          3D\\n\\n 50  0  0  0  0  0  0  0  0  0999 V2000\\n    1.0826   -0.1372   -0.2771 C   0  0  0  0  0  0  0  0  0  0  0  0\\n   -0.2306    1.3263    1.1750 C   0  0  0  0  0  0  0  0  0  0  0  0\\n    0.0998   -0.2142   -1.3551 C   0  0  0  0  0  0  0  0  0  0  0  0\\n    1.2411   -0.7856   -0.2848 C   0  0  0  0  0  0  0  0  0  0  0  0\\n   -0.4583    0.1867    0.5111 C   0  0  0  0  0  0  0  0  0  0  0  0\\n   -2.1725    0.3656   -0.0361 C   0  0  0  0  0  0  0  0  0  0  0  0\\n    1.0862    2.1147   -0.6830 C   0  0  0  0  0  0  0  0  0  0  0  0\\n    0.0766    0.9957    0.9309 C   0  0  0  0  0  0  0  0  0  0  0  0\\n   -2.2084   -0.9375   -0.1149 C   0  0  0  0  0  0  0  0  0  0  0  0\\n    0.2070    0.4480    0.2083 C   0  0  0  0  0  0  0  0  0  0  0  0\\n    0.9355    0.7793   -0.9190 C   0  0  0  0  0  0  0  0  0  0  0  0\\n    1.2587   -0.6704    1.1201 C   0  0  0  0  0  0  0  0  0  0  0  0\\n    0.3638    0.1578    0.3545 C   0  0  0  0  0  0  0  0  0  0  0  0\\n    1.7123   -0.0520   -0.4400 C   0  0  0  0  0  0  0  0  0  0  0  0\\n    0.5310    2.3979   -0.8056 C   0  0  0  0  0  0  0  0  0  0  0  0\\n    1.8607    1.1298    0.2554 C   0  0  0  0  0  0  0  0  0  0  0  0\\n   -0.4952   -1.0475    0.3948 C   0  0  0  0  0  0  0  0  0  0  0  0\\n    1.7010   -1.5718   -0.3345 C   0  0  0  0  0  0  0  0  0  0  0  0\\n    0.6108   -0.6914    0.0371 C   0  0  0  0  0  0  0  0  0  0  0  0\\n    1.4742    0.9494   -0.8842 C   0  0  0  0  0  0  0  0  0  0  0  0\\n    0.5906   -1.4441    0.5975 C   0  0  0  0  0  0  0  0  0  0  0  0\\n    0.9295    1.4025    0.3226 C   0  0  0  0  0  0  0  0  0  0  0  0\\n   -2.6160    1.0335    0.6300 C   0  0  0  0  0  0  0  0  0  0  0  0\\n   -0.7078   -1.5801    0.8081 C   0  0  0  0  0  0  0  0  0  0  0  0\\n   -0.0503   -0.9969   -1.9939 C   0  0  0  0  0  0  0  0  0  0  0  0\\n   -0.6769   -0.3231   -1.7583 C   0  0  0  0  0  0  0  0  0  0  0  0\\n    0.8491   -1.1581   -0.6024 C   0  0  0  0  0  0  0  0  0  0  0  0\\n    1.6708   -1.2391   -0.2234 C   0  0  0  0  0  0  0  0  0  0  0  0\\n    0.2876   -0.6122    1.0216 C   0  0  0  0  0  0  0  0  0  0  0  0\\n   -1.6392   -1.3941   -2.8764 C   0  0  0  0  0  0  0  0  0  0  0  0\\n    0.3728    2.3621    1.2055 C   0  0  0  0  0  0  0  0  0  0  0  0\\n   -1.6125    1.3410   -2.2882 C   0  0  0  0  0  0  0  0  0  0  0  0\\n    1.5353    0.7408   -0.4067 C   0  0  0  0  0  0  0  0  0  0  0  0\\n   -0.5034   -0.8053   -0.2522 C   0  0  0  0  0  0  0  0  0  0  0  0\\n   -0.2780   -0.5458    2.1303 C   0  0  0  0  0  0  0  0  0  0  0  0\\n    1.3032   -1.3304   -1.0172 C   0  0  0  0  0  0  0  0  0  0  0  0\\n   -0.5063    1.3030    2.1025 C   0  0  0  0  0  0  0  0  0  0  0  0\\n    0.4498    0.9105   -0.1930 C   0  0  0  0  0  0  0  0  0  0  0  0\\n   -2.0151    1.2636   -1.5212 C   0  0  0  0  0  0  0  0  0  0  0  0\\n   -0.5109   -0.4363    0.9500 C   0  0  0  0  0  0  0  0  0  0  0  0\\n   -1.9961   -0.3049   -0.4940 C   0  0  0  0  0  0  0  0  0  0  0  0\\n    0.3635    1.5883   -0.9129 C   0  0  0  0  0  0  0  0  0  0  0  0\\n    1.3472    0.0264   -0.6122 C   0  0  0  0  0  0  0  0  0  0  0  0\\n    1.3007    0.3727    0.1666 C   0  0  0  0  0  0  0  0  0  0  0  0\\n   -0.9627   -1.5063   -0.3947 C   0  0  0  0  0  0  0  0  0  0  0  0\\n   -0.4264   -0.2090    1.3129 C   0  0  0  0  0  0  0  0  0  0  0  0\\n    0.1085   -1.1367    0.9273 C   0  0  0  0  0  0  0  0  0  0  0  0\\n    0.3357   -1.6027   -1.2841 C   0  0  0  0  0  0  0  0  0  0  0  0\\n   -0.6438   -0.3872   -1.8142 C   0  0  0  0  0  0  0  0  0  0  0  0\\n   -0.7987   -0.3424    0.2569 C   0  0  0  0  0  0  0  0  0  0  0  0\\nM  END\\n\",\"mol\");\n\tviewer_17444778978593154.setStyle({\"stick\": {}});\n\tviewer_17444778978593154.setBackgroundColor(\"white\");\n\tviewer_17444778978593154.zoomTo();\nviewer_17444778978593154.render();\n});\n</script>",
            "text/html": [
              "<div id=\"3dmolviewer_17444778978593154\"  style=\"position: relative; width: 500px; height: 400px;\">\n",
              "        <p id=\"3dmolwarning_17444778978593154\" style=\"background-color:#ffcccc;color:black\">3Dmol.js failed to load for some reason.  Please check your browser console for error messages.<br></p>\n",
              "        </div>\n",
              "<script>\n",
              "\n",
              "var loadScriptAsync = function(uri){\n",
              "  return new Promise((resolve, reject) => {\n",
              "    //this is to ignore the existence of requirejs amd\n",
              "    var savedexports, savedmodule;\n",
              "    if (typeof exports !== 'undefined') savedexports = exports;\n",
              "    else exports = {}\n",
              "    if (typeof module !== 'undefined') savedmodule = module;\n",
              "    else module = {}\n",
              "\n",
              "    var tag = document.createElement('script');\n",
              "    tag.src = uri;\n",
              "    tag.async = true;\n",
              "    tag.onload = () => {\n",
              "        exports = savedexports;\n",
              "        module = savedmodule;\n",
              "        resolve();\n",
              "    };\n",
              "  var firstScriptTag = document.getElementsByTagName('script')[0];\n",
              "  firstScriptTag.parentNode.insertBefore(tag, firstScriptTag);\n",
              "});\n",
              "};\n",
              "\n",
              "if(typeof $3Dmolpromise === 'undefined') {\n",
              "$3Dmolpromise = null;\n",
              "  $3Dmolpromise = loadScriptAsync('https://cdnjs.cloudflare.com/ajax/libs/3Dmol/2.4.2/3Dmol-min.js');\n",
              "}\n",
              "\n",
              "var viewer_17444778978593154 = null;\n",
              "var warn = document.getElementById(\"3dmolwarning_17444778978593154\");\n",
              "if(warn) {\n",
              "    warn.parentNode.removeChild(warn);\n",
              "}\n",
              "$3Dmolpromise.then(function() {\n",
              "viewer_17444778978593154 = $3Dmol.createViewer(document.getElementById(\"3dmolviewer_17444778978593154\"),{backgroundColor:\"white\"});\n",
              "viewer_17444778978593154.zoomTo();\n",
              "\tviewer_17444778978593154.addModel(\"\\n     RDKit          3D\\n\\n 50  0  0  0  0  0  0  0  0  0999 V2000\\n    1.0826   -0.1372   -0.2771 C   0  0  0  0  0  0  0  0  0  0  0  0\\n   -0.2306    1.3263    1.1750 C   0  0  0  0  0  0  0  0  0  0  0  0\\n    0.0998   -0.2142   -1.3551 C   0  0  0  0  0  0  0  0  0  0  0  0\\n    1.2411   -0.7856   -0.2848 C   0  0  0  0  0  0  0  0  0  0  0  0\\n   -0.4583    0.1867    0.5111 C   0  0  0  0  0  0  0  0  0  0  0  0\\n   -2.1725    0.3656   -0.0361 C   0  0  0  0  0  0  0  0  0  0  0  0\\n    1.0862    2.1147   -0.6830 C   0  0  0  0  0  0  0  0  0  0  0  0\\n    0.0766    0.9957    0.9309 C   0  0  0  0  0  0  0  0  0  0  0  0\\n   -2.2084   -0.9375   -0.1149 C   0  0  0  0  0  0  0  0  0  0  0  0\\n    0.2070    0.4480    0.2083 C   0  0  0  0  0  0  0  0  0  0  0  0\\n    0.9355    0.7793   -0.9190 C   0  0  0  0  0  0  0  0  0  0  0  0\\n    1.2587   -0.6704    1.1201 C   0  0  0  0  0  0  0  0  0  0  0  0\\n    0.3638    0.1578    0.3545 C   0  0  0  0  0  0  0  0  0  0  0  0\\n    1.7123   -0.0520   -0.4400 C   0  0  0  0  0  0  0  0  0  0  0  0\\n    0.5310    2.3979   -0.8056 C   0  0  0  0  0  0  0  0  0  0  0  0\\n    1.8607    1.1298    0.2554 C   0  0  0  0  0  0  0  0  0  0  0  0\\n   -0.4952   -1.0475    0.3948 C   0  0  0  0  0  0  0  0  0  0  0  0\\n    1.7010   -1.5718   -0.3345 C   0  0  0  0  0  0  0  0  0  0  0  0\\n    0.6108   -0.6914    0.0371 C   0  0  0  0  0  0  0  0  0  0  0  0\\n    1.4742    0.9494   -0.8842 C   0  0  0  0  0  0  0  0  0  0  0  0\\n    0.5906   -1.4441    0.5975 C   0  0  0  0  0  0  0  0  0  0  0  0\\n    0.9295    1.4025    0.3226 C   0  0  0  0  0  0  0  0  0  0  0  0\\n   -2.6160    1.0335    0.6300 C   0  0  0  0  0  0  0  0  0  0  0  0\\n   -0.7078   -1.5801    0.8081 C   0  0  0  0  0  0  0  0  0  0  0  0\\n   -0.0503   -0.9969   -1.9939 C   0  0  0  0  0  0  0  0  0  0  0  0\\n   -0.6769   -0.3231   -1.7583 C   0  0  0  0  0  0  0  0  0  0  0  0\\n    0.8491   -1.1581   -0.6024 C   0  0  0  0  0  0  0  0  0  0  0  0\\n    1.6708   -1.2391   -0.2234 C   0  0  0  0  0  0  0  0  0  0  0  0\\n    0.2876   -0.6122    1.0216 C   0  0  0  0  0  0  0  0  0  0  0  0\\n   -1.6392   -1.3941   -2.8764 C   0  0  0  0  0  0  0  0  0  0  0  0\\n    0.3728    2.3621    1.2055 C   0  0  0  0  0  0  0  0  0  0  0  0\\n   -1.6125    1.3410   -2.2882 C   0  0  0  0  0  0  0  0  0  0  0  0\\n    1.5353    0.7408   -0.4067 C   0  0  0  0  0  0  0  0  0  0  0  0\\n   -0.5034   -0.8053   -0.2522 C   0  0  0  0  0  0  0  0  0  0  0  0\\n   -0.2780   -0.5458    2.1303 C   0  0  0  0  0  0  0  0  0  0  0  0\\n    1.3032   -1.3304   -1.0172 C   0  0  0  0  0  0  0  0  0  0  0  0\\n   -0.5063    1.3030    2.1025 C   0  0  0  0  0  0  0  0  0  0  0  0\\n    0.4498    0.9105   -0.1930 C   0  0  0  0  0  0  0  0  0  0  0  0\\n   -2.0151    1.2636   -1.5212 C   0  0  0  0  0  0  0  0  0  0  0  0\\n   -0.5109   -0.4363    0.9500 C   0  0  0  0  0  0  0  0  0  0  0  0\\n   -1.9961   -0.3049   -0.4940 C   0  0  0  0  0  0  0  0  0  0  0  0\\n    0.3635    1.5883   -0.9129 C   0  0  0  0  0  0  0  0  0  0  0  0\\n    1.3472    0.0264   -0.6122 C   0  0  0  0  0  0  0  0  0  0  0  0\\n    1.3007    0.3727    0.1666 C   0  0  0  0  0  0  0  0  0  0  0  0\\n   -0.9627   -1.5063   -0.3947 C   0  0  0  0  0  0  0  0  0  0  0  0\\n   -0.4264   -0.2090    1.3129 C   0  0  0  0  0  0  0  0  0  0  0  0\\n    0.1085   -1.1367    0.9273 C   0  0  0  0  0  0  0  0  0  0  0  0\\n    0.3357   -1.6027   -1.2841 C   0  0  0  0  0  0  0  0  0  0  0  0\\n   -0.6438   -0.3872   -1.8142 C   0  0  0  0  0  0  0  0  0  0  0  0\\n   -0.7987   -0.3424    0.2569 C   0  0  0  0  0  0  0  0  0  0  0  0\\nM  END\\n\",\"mol\");\n",
              "\tviewer_17444778978593154.setStyle({\"stick\": {}});\n",
              "\tviewer_17444778978593154.setBackgroundColor(\"white\");\n",
              "\tviewer_17444778978593154.zoomTo();\n",
              "viewer_17444778978593154.render();\n",
              "});\n",
              "</script>"
            ]
          },
          "metadata": {}
        },
        {
          "output_type": "display_data",
          "data": {
            "text/plain": [
              "<py3Dmol.view at 0x7fdca084ccd0>"
            ]
          },
          "metadata": {}
        },
        {
          "output_type": "display_data",
          "data": {
            "application/3dmoljs_load.v0": "<div id=\"3dmolviewer_17444778980268364\"  style=\"position: relative; width: 500px; height: 400px;\">\n        <p id=\"3dmolwarning_17444778980268364\" style=\"background-color:#ffcccc;color:black\">3Dmol.js failed to load for some reason.  Please check your browser console for error messages.<br></p>\n        </div>\n<script>\n\nvar loadScriptAsync = function(uri){\n  return new Promise((resolve, reject) => {\n    //this is to ignore the existence of requirejs amd\n    var savedexports, savedmodule;\n    if (typeof exports !== 'undefined') savedexports = exports;\n    else exports = {}\n    if (typeof module !== 'undefined') savedmodule = module;\n    else module = {}\n\n    var tag = document.createElement('script');\n    tag.src = uri;\n    tag.async = true;\n    tag.onload = () => {\n        exports = savedexports;\n        module = savedmodule;\n        resolve();\n    };\n  var firstScriptTag = document.getElementsByTagName('script')[0];\n  firstScriptTag.parentNode.insertBefore(tag, firstScriptTag);\n});\n};\n\nif(typeof $3Dmolpromise === 'undefined') {\n$3Dmolpromise = null;\n  $3Dmolpromise = loadScriptAsync('https://cdnjs.cloudflare.com/ajax/libs/3Dmol/2.4.2/3Dmol-min.js');\n}\n\nvar viewer_17444778980268364 = null;\nvar warn = document.getElementById(\"3dmolwarning_17444778980268364\");\nif(warn) {\n    warn.parentNode.removeChild(warn);\n}\n$3Dmolpromise.then(function() {\nviewer_17444778980268364 = $3Dmol.createViewer(document.getElementById(\"3dmolviewer_17444778980268364\"),{backgroundColor:\"white\"});\nviewer_17444778980268364.zoomTo();\n\tviewer_17444778980268364.addModel(\"\\n     RDKit          3D\\n\\n 50  0  0  0  0  0  0  0  0  0999 V2000\\n    1.7449    0.2779   -0.9287 C   0  0  0  0  0  0  0  0  0  0  0  0\\n    0.8954    0.4859    1.4443 C   0  0  0  0  0  0  0  0  0  0  0  0\\n    1.2183   -0.8952   -0.6217 C   0  0  0  0  0  0  0  0  0  0  0  0\\n    1.1266   -1.3781    0.0545 C   0  0  0  0  0  0  0  0  0  0  0  0\\n   -0.4174   -0.0718    1.1850 C   0  0  0  0  0  0  0  0  0  0  0  0\\n   -1.5471   -1.9391   -0.6698 C   0  0  0  0  0  0  0  0  0  0  0  0\\n   -0.2616    1.3359    1.3223 C   0  0  0  0  0  0  0  0  0  0  0  0\\n    0.9659   -0.5577   -0.7688 C   0  0  0  0  0  0  0  0  0  0  0  0\\n   -1.0440   -0.1252    0.2475 C   0  0  0  0  0  0  0  0  0  0  0  0\\n   -0.7280    0.1031    0.4759 C   0  0  0  0  0  0  0  0  0  0  0  0\\n    1.2027    0.7291   -0.2741 C   0  0  0  0  0  0  0  0  0  0  0  0\\n    1.4314   -0.3531    0.2022 C   0  0  0  0  0  0  0  0  0  0  0  0\\n   -0.2065    0.5461   -0.7757 C   0  0  0  0  0  0  0  0  0  0  0  0\\n    1.7628   -1.7972   -0.9367 C   0  0  0  0  0  0  0  0  0  0  0  0\\n    0.4557    1.0593    0.4954 C   0  0  0  0  0  0  0  0  0  0  0  0\\n    1.6003    1.5250   -0.2381 C   0  0  0  0  0  0  0  0  0  0  0  0\\n   -0.4867   -0.6587    0.4652 C   0  0  0  0  0  0  0  0  0  0  0  0\\n    1.3810   -1.9249   -0.7820 C   0  0  0  0  0  0  0  0  0  0  0  0\\n    1.1272   -1.5155    1.6083 C   0  0  0  0  0  0  0  0  0  0  0  0\\n    1.6083    1.5580   -1.0310 C   0  0  0  0  0  0  0  0  0  0  0  0\\n    0.6963   -0.8512    1.5573 C   0  0  0  0  0  0  0  0  0  0  0  0\\n    1.3857    2.0774   -0.0456 C   0  0  0  0  0  0  0  0  0  0  0  0\\n   -1.2315    0.8586    0.8150 C   0  0  0  0  0  0  0  0  0  0  0  0\\n   -0.7742   -0.2762    0.8202 C   0  0  0  0  0  0  0  0  0  0  0  0\\n   -1.4717   -0.6394   -1.1508 C   0  0  0  0  0  0  0  0  0  0  0  0\\n    1.7698    0.1251   -1.1846 C   0  0  0  0  0  0  0  0  0  0  0  0\\n    1.3666   -1.3683    1.0712 C   0  0  0  0  0  0  0  0  0  0  0  0\\n    1.3247   -1.9043   -0.3167 C   0  0  0  0  0  0  0  0  0  0  0  0\\n   -0.7594   -1.2454    0.6378 C   0  0  0  0  0  0  0  0  0  0  0  0\\n   -0.6180   -1.4811   -2.3155 C   0  0  0  0  0  0  0  0  0  0  0  0\\n    1.2697    1.6226    1.7120 C   0  0  0  0  0  0  0  0  0  0  0  0\\n   -0.1979   -0.4327   -1.4649 C   0  0  0  0  0  0  0  0  0  0  0  0\\n    0.7739   -0.3968    0.1678 C   0  0  0  0  0  0  0  0  0  0  0  0\\n    0.6132    0.3740   -1.4468 C   0  0  0  0  0  0  0  0  0  0  0  0\\n    1.0934   -1.6110    2.2151 C   0  0  0  0  0  0  0  0  0  0  0  0\\n    1.4069   -0.6497   -1.8473 C   0  0  0  0  0  0  0  0  0  0  0  0\\n   -0.2927    1.0280    1.5627 C   0  0  0  0  0  0  0  0  0  0  0  0\\n   -0.1981    1.1399    0.6638 C   0  0  0  0  0  0  0  0  0  0  0  0\\n   -1.8093    1.6122   -1.3195 C   0  0  0  0  0  0  0  0  0  0  0  0\\n   -0.9931   -1.4702   -1.0653 C   0  0  0  0  0  0  0  0  0  0  0  0\\n    0.0148   -1.4319    0.5960 C   0  0  0  0  0  0  0  0  0  0  0  0\\n    1.5684    0.1452   -0.0585 C   0  0  0  0  0  0  0  0  0  0  0  0\\n    0.6570   -0.2607   -0.2897 C   0  0  0  0  0  0  0  0  0  0  0  0\\n    1.3722    1.9271   -1.4708 C   0  0  0  0  0  0  0  0  0  0  0  0\\n   -1.2621   -1.0628   -1.0347 C   0  0  0  0  0  0  0  0  0  0  0  0\\n   -1.0379   -2.0029    1.0045 C   0  0  0  0  0  0  0  0  0  0  0  0\\n   -1.5716   -0.5537    2.2019 C   0  0  0  0  0  0  0  0  0  0  0  0\\n    1.3195   -1.4465    1.4695 C   0  0  0  0  0  0  0  0  0  0  0  0\\n   -0.2434    0.7820   -0.9321 C   0  0  0  0  0  0  0  0  0  0  0  0\\n   -1.7415   -1.0919    1.3027 C   0  0  0  0  0  0  0  0  0  0  0  0\\nM  END\\n\",\"mol\");\n\tviewer_17444778980268364.setStyle({\"stick\": {}});\n\tviewer_17444778980268364.setBackgroundColor(\"white\");\n\tviewer_17444778980268364.zoomTo();\nviewer_17444778980268364.render();\n});\n</script>",
            "text/html": [
              "<div id=\"3dmolviewer_17444778980268364\"  style=\"position: relative; width: 500px; height: 400px;\">\n",
              "        <p id=\"3dmolwarning_17444778980268364\" style=\"background-color:#ffcccc;color:black\">3Dmol.js failed to load for some reason.  Please check your browser console for error messages.<br></p>\n",
              "        </div>\n",
              "<script>\n",
              "\n",
              "var loadScriptAsync = function(uri){\n",
              "  return new Promise((resolve, reject) => {\n",
              "    //this is to ignore the existence of requirejs amd\n",
              "    var savedexports, savedmodule;\n",
              "    if (typeof exports !== 'undefined') savedexports = exports;\n",
              "    else exports = {}\n",
              "    if (typeof module !== 'undefined') savedmodule = module;\n",
              "    else module = {}\n",
              "\n",
              "    var tag = document.createElement('script');\n",
              "    tag.src = uri;\n",
              "    tag.async = true;\n",
              "    tag.onload = () => {\n",
              "        exports = savedexports;\n",
              "        module = savedmodule;\n",
              "        resolve();\n",
              "    };\n",
              "  var firstScriptTag = document.getElementsByTagName('script')[0];\n",
              "  firstScriptTag.parentNode.insertBefore(tag, firstScriptTag);\n",
              "});\n",
              "};\n",
              "\n",
              "if(typeof $3Dmolpromise === 'undefined') {\n",
              "$3Dmolpromise = null;\n",
              "  $3Dmolpromise = loadScriptAsync('https://cdnjs.cloudflare.com/ajax/libs/3Dmol/2.4.2/3Dmol-min.js');\n",
              "}\n",
              "\n",
              "var viewer_17444778980268364 = null;\n",
              "var warn = document.getElementById(\"3dmolwarning_17444778980268364\");\n",
              "if(warn) {\n",
              "    warn.parentNode.removeChild(warn);\n",
              "}\n",
              "$3Dmolpromise.then(function() {\n",
              "viewer_17444778980268364 = $3Dmol.createViewer(document.getElementById(\"3dmolviewer_17444778980268364\"),{backgroundColor:\"white\"});\n",
              "viewer_17444778980268364.zoomTo();\n",
              "\tviewer_17444778980268364.addModel(\"\\n     RDKit          3D\\n\\n 50  0  0  0  0  0  0  0  0  0999 V2000\\n    1.7449    0.2779   -0.9287 C   0  0  0  0  0  0  0  0  0  0  0  0\\n    0.8954    0.4859    1.4443 C   0  0  0  0  0  0  0  0  0  0  0  0\\n    1.2183   -0.8952   -0.6217 C   0  0  0  0  0  0  0  0  0  0  0  0\\n    1.1266   -1.3781    0.0545 C   0  0  0  0  0  0  0  0  0  0  0  0\\n   -0.4174   -0.0718    1.1850 C   0  0  0  0  0  0  0  0  0  0  0  0\\n   -1.5471   -1.9391   -0.6698 C   0  0  0  0  0  0  0  0  0  0  0  0\\n   -0.2616    1.3359    1.3223 C   0  0  0  0  0  0  0  0  0  0  0  0\\n    0.9659   -0.5577   -0.7688 C   0  0  0  0  0  0  0  0  0  0  0  0\\n   -1.0440   -0.1252    0.2475 C   0  0  0  0  0  0  0  0  0  0  0  0\\n   -0.7280    0.1031    0.4759 C   0  0  0  0  0  0  0  0  0  0  0  0\\n    1.2027    0.7291   -0.2741 C   0  0  0  0  0  0  0  0  0  0  0  0\\n    1.4314   -0.3531    0.2022 C   0  0  0  0  0  0  0  0  0  0  0  0\\n   -0.2065    0.5461   -0.7757 C   0  0  0  0  0  0  0  0  0  0  0  0\\n    1.7628   -1.7972   -0.9367 C   0  0  0  0  0  0  0  0  0  0  0  0\\n    0.4557    1.0593    0.4954 C   0  0  0  0  0  0  0  0  0  0  0  0\\n    1.6003    1.5250   -0.2381 C   0  0  0  0  0  0  0  0  0  0  0  0\\n   -0.4867   -0.6587    0.4652 C   0  0  0  0  0  0  0  0  0  0  0  0\\n    1.3810   -1.9249   -0.7820 C   0  0  0  0  0  0  0  0  0  0  0  0\\n    1.1272   -1.5155    1.6083 C   0  0  0  0  0  0  0  0  0  0  0  0\\n    1.6083    1.5580   -1.0310 C   0  0  0  0  0  0  0  0  0  0  0  0\\n    0.6963   -0.8512    1.5573 C   0  0  0  0  0  0  0  0  0  0  0  0\\n    1.3857    2.0774   -0.0456 C   0  0  0  0  0  0  0  0  0  0  0  0\\n   -1.2315    0.8586    0.8150 C   0  0  0  0  0  0  0  0  0  0  0  0\\n   -0.7742   -0.2762    0.8202 C   0  0  0  0  0  0  0  0  0  0  0  0\\n   -1.4717   -0.6394   -1.1508 C   0  0  0  0  0  0  0  0  0  0  0  0\\n    1.7698    0.1251   -1.1846 C   0  0  0  0  0  0  0  0  0  0  0  0\\n    1.3666   -1.3683    1.0712 C   0  0  0  0  0  0  0  0  0  0  0  0\\n    1.3247   -1.9043   -0.3167 C   0  0  0  0  0  0  0  0  0  0  0  0\\n   -0.7594   -1.2454    0.6378 C   0  0  0  0  0  0  0  0  0  0  0  0\\n   -0.6180   -1.4811   -2.3155 C   0  0  0  0  0  0  0  0  0  0  0  0\\n    1.2697    1.6226    1.7120 C   0  0  0  0  0  0  0  0  0  0  0  0\\n   -0.1979   -0.4327   -1.4649 C   0  0  0  0  0  0  0  0  0  0  0  0\\n    0.7739   -0.3968    0.1678 C   0  0  0  0  0  0  0  0  0  0  0  0\\n    0.6132    0.3740   -1.4468 C   0  0  0  0  0  0  0  0  0  0  0  0\\n    1.0934   -1.6110    2.2151 C   0  0  0  0  0  0  0  0  0  0  0  0\\n    1.4069   -0.6497   -1.8473 C   0  0  0  0  0  0  0  0  0  0  0  0\\n   -0.2927    1.0280    1.5627 C   0  0  0  0  0  0  0  0  0  0  0  0\\n   -0.1981    1.1399    0.6638 C   0  0  0  0  0  0  0  0  0  0  0  0\\n   -1.8093    1.6122   -1.3195 C   0  0  0  0  0  0  0  0  0  0  0  0\\n   -0.9931   -1.4702   -1.0653 C   0  0  0  0  0  0  0  0  0  0  0  0\\n    0.0148   -1.4319    0.5960 C   0  0  0  0  0  0  0  0  0  0  0  0\\n    1.5684    0.1452   -0.0585 C   0  0  0  0  0  0  0  0  0  0  0  0\\n    0.6570   -0.2607   -0.2897 C   0  0  0  0  0  0  0  0  0  0  0  0\\n    1.3722    1.9271   -1.4708 C   0  0  0  0  0  0  0  0  0  0  0  0\\n   -1.2621   -1.0628   -1.0347 C   0  0  0  0  0  0  0  0  0  0  0  0\\n   -1.0379   -2.0029    1.0045 C   0  0  0  0  0  0  0  0  0  0  0  0\\n   -1.5716   -0.5537    2.2019 C   0  0  0  0  0  0  0  0  0  0  0  0\\n    1.3195   -1.4465    1.4695 C   0  0  0  0  0  0  0  0  0  0  0  0\\n   -0.2434    0.7820   -0.9321 C   0  0  0  0  0  0  0  0  0  0  0  0\\n   -1.7415   -1.0919    1.3027 C   0  0  0  0  0  0  0  0  0  0  0  0\\nM  END\\n\",\"mol\");\n",
              "\tviewer_17444778980268364.setStyle({\"stick\": {}});\n",
              "\tviewer_17444778980268364.setBackgroundColor(\"white\");\n",
              "\tviewer_17444778980268364.zoomTo();\n",
              "viewer_17444778980268364.render();\n",
              "});\n",
              "</script>"
            ]
          },
          "metadata": {}
        },
        {
          "output_type": "display_data",
          "data": {
            "text/plain": [
              "<py3Dmol.view at 0x7fdca09475d0>"
            ]
          },
          "metadata": {}
        },
        {
          "output_type": "display_data",
          "data": {
            "application/3dmoljs_load.v0": "<div id=\"3dmolviewer_17444778982050483\"  style=\"position: relative; width: 500px; height: 400px;\">\n        <p id=\"3dmolwarning_17444778982050483\" style=\"background-color:#ffcccc;color:black\">3Dmol.js failed to load for some reason.  Please check your browser console for error messages.<br></p>\n        </div>\n<script>\n\nvar loadScriptAsync = function(uri){\n  return new Promise((resolve, reject) => {\n    //this is to ignore the existence of requirejs amd\n    var savedexports, savedmodule;\n    if (typeof exports !== 'undefined') savedexports = exports;\n    else exports = {}\n    if (typeof module !== 'undefined') savedmodule = module;\n    else module = {}\n\n    var tag = document.createElement('script');\n    tag.src = uri;\n    tag.async = true;\n    tag.onload = () => {\n        exports = savedexports;\n        module = savedmodule;\n        resolve();\n    };\n  var firstScriptTag = document.getElementsByTagName('script')[0];\n  firstScriptTag.parentNode.insertBefore(tag, firstScriptTag);\n});\n};\n\nif(typeof $3Dmolpromise === 'undefined') {\n$3Dmolpromise = null;\n  $3Dmolpromise = loadScriptAsync('https://cdnjs.cloudflare.com/ajax/libs/3Dmol/2.4.2/3Dmol-min.js');\n}\n\nvar viewer_17444778982050483 = null;\nvar warn = document.getElementById(\"3dmolwarning_17444778982050483\");\nif(warn) {\n    warn.parentNode.removeChild(warn);\n}\n$3Dmolpromise.then(function() {\nviewer_17444778982050483 = $3Dmol.createViewer(document.getElementById(\"3dmolviewer_17444778982050483\"),{backgroundColor:\"white\"});\nviewer_17444778982050483.zoomTo();\n\tviewer_17444778982050483.addModel(\"\\n     RDKit          3D\\n\\n 50  0  0  0  0  0  0  0  0  0999 V2000\\n    0.7090    0.7599   -0.3226 C   0  0  0  0  0  0  0  0  0  0  0  0\\n    1.0000    0.9784    0.8854 C   0  0  0  0  0  0  0  0  0  0  0  0\\n    0.9916   -0.8403   -0.9791 C   0  0  0  0  0  0  0  0  0  0  0  0\\n    0.9554   -1.0000   -0.5233 C   0  0  0  0  0  0  0  0  0  0  0  0\\n    0.0151   -0.9690    0.9842 C   0  0  0  0  0  0  0  0  0  0  0  0\\n   -1.0000   -1.0000   -0.5923 C   0  0  0  0  0  0  0  0  0  0  0  0\\n   -0.6387    0.9174    0.7280 C   0  0  0  0  0  0  0  0  0  0  0  0\\n    0.9244   -0.9141   -0.1206 C   0  0  0  0  0  0  0  0  0  0  0  0\\n   -0.9907    0.9548   -0.6880 C   0  0  0  0  0  0  0  0  0  0  0  0\\n   -0.8385   -0.5934    0.9338 C   0  0  0  0  0  0  0  0  0  0  0  0\\n    1.0000   -0.1701   -0.8832 C   0  0  0  0  0  0  0  0  0  0  0  0\\n    0.9820   -1.0000   -0.1863 C   0  0  0  0  0  0  0  0  0  0  0  0\\n   -0.9923    0.8961   -0.6364 C   0  0  0  0  0  0  0  0  0  0  0  0\\n    0.7890   -1.0000   -0.9816 C   0  0  0  0  0  0  0  0  0  0  0  0\\n    0.9974    0.9290    0.3522 C   0  0  0  0  0  0  0  0  0  0  0  0\\n    0.4293    0.6721   -0.6466 C   0  0  0  0  0  0  0  0  0  0  0  0\\n   -1.0000   -0.1907    1.0000 C   0  0  0  0  0  0  0  0  0  0  0  0\\n    0.5494   -0.9273   -1.0000 C   0  0  0  0  0  0  0  0  0  0  0  0\\n    0.6939   -0.8899    0.9954 C   0  0  0  0  0  0  0  0  0  0  0  0\\n    1.0000    0.9923   -0.1376 C   0  0  0  0  0  0  0  0  0  0  0  0\\n    0.7500   -0.9429    1.0000 C   0  0  0  0  0  0  0  0  0  0  0  0\\n    0.9673    1.0000   -0.1007 C   0  0  0  0  0  0  0  0  0  0  0  0\\n   -0.8795    0.9244    0.2146 C   0  0  0  0  0  0  0  0  0  0  0  0\\n   -1.0000   -0.8757    0.2286 C   0  0  0  0  0  0  0  0  0  0  0  0\\n   -0.9922   -1.0000   -0.8513 C   0  0  0  0  0  0  0  0  0  0  0  0\\n    1.0000   -1.0000   -0.7646 C   0  0  0  0  0  0  0  0  0  0  0  0\\n    0.9227   -0.8945    0.9703 C   0  0  0  0  0  0  0  0  0  0  0  0\\n    0.8752   -0.9998   -0.7432 C   0  0  0  0  0  0  0  0  0  0  0  0\\n   -0.5352   -0.4182    0.9866 C   0  0  0  0  0  0  0  0  0  0  0  0\\n   -0.3364   -0.6272   -0.9480 C   0  0  0  0  0  0  0  0  0  0  0  0\\n    0.7761    0.8783    1.0000 C   0  0  0  0  0  0  0  0  0  0  0  0\\n    0.5960   -0.6490   -0.8423 C   0  0  0  0  0  0  0  0  0  0  0  0\\n    0.6710   -0.4833    0.3283 C   0  0  0  0  0  0  0  0  0  0  0  0\\n    1.0000    0.2319   -0.6845 C   0  0  0  0  0  0  0  0  0  0  0  0\\n    0.9781   -1.0000    0.8794 C   0  0  0  0  0  0  0  0  0  0  0  0\\n    0.9870   -0.3695   -0.8527 C   0  0  0  0  0  0  0  0  0  0  0  0\\n    0.1477    0.6681    0.9180 C   0  0  0  0  0  0  0  0  0  0  0  0\\n   -0.9736    0.9401    0.4445 C   0  0  0  0  0  0  0  0  0  0  0  0\\n   -0.5533    0.9012   -0.7850 C   0  0  0  0  0  0  0  0  0  0  0  0\\n   -0.9146   -0.8919   -0.2776 C   0  0  0  0  0  0  0  0  0  0  0  0\\n    0.1486   -1.0000    0.9961 C   0  0  0  0  0  0  0  0  0  0  0  0\\n    0.5367   -1.0000   -0.3990 C   0  0  0  0  0  0  0  0  0  0  0  0\\n   -0.8760    0.1205   -0.8253 C   0  0  0  0  0  0  0  0  0  0  0  0\\n    0.9763    0.9662   -1.0000 C   0  0  0  0  0  0  0  0  0  0  0  0\\n   -0.9608   -1.0000   -0.9589 C   0  0  0  0  0  0  0  0  0  0  0  0\\n   -0.9882   -1.0000    0.9910 C   0  0  0  0  0  0  0  0  0  0  0  0\\n   -0.9745   -0.6171    1.0000 C   0  0  0  0  0  0  0  0  0  0  0  0\\n    0.7045   -1.0000    0.9798 C   0  0  0  0  0  0  0  0  0  0  0  0\\n   -0.8927    0.5841   -0.9507 C   0  0  0  0  0  0  0  0  0  0  0  0\\n   -0.7588   -0.6775    0.8730 C   0  0  0  0  0  0  0  0  0  0  0  0\\nM  END\\n\",\"mol\");\n\tviewer_17444778982050483.setStyle({\"stick\": {}});\n\tviewer_17444778982050483.setBackgroundColor(\"white\");\n\tviewer_17444778982050483.zoomTo();\nviewer_17444778982050483.render();\n});\n</script>",
            "text/html": [
              "<div id=\"3dmolviewer_17444778982050483\"  style=\"position: relative; width: 500px; height: 400px;\">\n",
              "        <p id=\"3dmolwarning_17444778982050483\" style=\"background-color:#ffcccc;color:black\">3Dmol.js failed to load for some reason.  Please check your browser console for error messages.<br></p>\n",
              "        </div>\n",
              "<script>\n",
              "\n",
              "var loadScriptAsync = function(uri){\n",
              "  return new Promise((resolve, reject) => {\n",
              "    //this is to ignore the existence of requirejs amd\n",
              "    var savedexports, savedmodule;\n",
              "    if (typeof exports !== 'undefined') savedexports = exports;\n",
              "    else exports = {}\n",
              "    if (typeof module !== 'undefined') savedmodule = module;\n",
              "    else module = {}\n",
              "\n",
              "    var tag = document.createElement('script');\n",
              "    tag.src = uri;\n",
              "    tag.async = true;\n",
              "    tag.onload = () => {\n",
              "        exports = savedexports;\n",
              "        module = savedmodule;\n",
              "        resolve();\n",
              "    };\n",
              "  var firstScriptTag = document.getElementsByTagName('script')[0];\n",
              "  firstScriptTag.parentNode.insertBefore(tag, firstScriptTag);\n",
              "});\n",
              "};\n",
              "\n",
              "if(typeof $3Dmolpromise === 'undefined') {\n",
              "$3Dmolpromise = null;\n",
              "  $3Dmolpromise = loadScriptAsync('https://cdnjs.cloudflare.com/ajax/libs/3Dmol/2.4.2/3Dmol-min.js');\n",
              "}\n",
              "\n",
              "var viewer_17444778982050483 = null;\n",
              "var warn = document.getElementById(\"3dmolwarning_17444778982050483\");\n",
              "if(warn) {\n",
              "    warn.parentNode.removeChild(warn);\n",
              "}\n",
              "$3Dmolpromise.then(function() {\n",
              "viewer_17444778982050483 = $3Dmol.createViewer(document.getElementById(\"3dmolviewer_17444778982050483\"),{backgroundColor:\"white\"});\n",
              "viewer_17444778982050483.zoomTo();\n",
              "\tviewer_17444778982050483.addModel(\"\\n     RDKit          3D\\n\\n 50  0  0  0  0  0  0  0  0  0999 V2000\\n    0.7090    0.7599   -0.3226 C   0  0  0  0  0  0  0  0  0  0  0  0\\n    1.0000    0.9784    0.8854 C   0  0  0  0  0  0  0  0  0  0  0  0\\n    0.9916   -0.8403   -0.9791 C   0  0  0  0  0  0  0  0  0  0  0  0\\n    0.9554   -1.0000   -0.5233 C   0  0  0  0  0  0  0  0  0  0  0  0\\n    0.0151   -0.9690    0.9842 C   0  0  0  0  0  0  0  0  0  0  0  0\\n   -1.0000   -1.0000   -0.5923 C   0  0  0  0  0  0  0  0  0  0  0  0\\n   -0.6387    0.9174    0.7280 C   0  0  0  0  0  0  0  0  0  0  0  0\\n    0.9244   -0.9141   -0.1206 C   0  0  0  0  0  0  0  0  0  0  0  0\\n   -0.9907    0.9548   -0.6880 C   0  0  0  0  0  0  0  0  0  0  0  0\\n   -0.8385   -0.5934    0.9338 C   0  0  0  0  0  0  0  0  0  0  0  0\\n    1.0000   -0.1701   -0.8832 C   0  0  0  0  0  0  0  0  0  0  0  0\\n    0.9820   -1.0000   -0.1863 C   0  0  0  0  0  0  0  0  0  0  0  0\\n   -0.9923    0.8961   -0.6364 C   0  0  0  0  0  0  0  0  0  0  0  0\\n    0.7890   -1.0000   -0.9816 C   0  0  0  0  0  0  0  0  0  0  0  0\\n    0.9974    0.9290    0.3522 C   0  0  0  0  0  0  0  0  0  0  0  0\\n    0.4293    0.6721   -0.6466 C   0  0  0  0  0  0  0  0  0  0  0  0\\n   -1.0000   -0.1907    1.0000 C   0  0  0  0  0  0  0  0  0  0  0  0\\n    0.5494   -0.9273   -1.0000 C   0  0  0  0  0  0  0  0  0  0  0  0\\n    0.6939   -0.8899    0.9954 C   0  0  0  0  0  0  0  0  0  0  0  0\\n    1.0000    0.9923   -0.1376 C   0  0  0  0  0  0  0  0  0  0  0  0\\n    0.7500   -0.9429    1.0000 C   0  0  0  0  0  0  0  0  0  0  0  0\\n    0.9673    1.0000   -0.1007 C   0  0  0  0  0  0  0  0  0  0  0  0\\n   -0.8795    0.9244    0.2146 C   0  0  0  0  0  0  0  0  0  0  0  0\\n   -1.0000   -0.8757    0.2286 C   0  0  0  0  0  0  0  0  0  0  0  0\\n   -0.9922   -1.0000   -0.8513 C   0  0  0  0  0  0  0  0  0  0  0  0\\n    1.0000   -1.0000   -0.7646 C   0  0  0  0  0  0  0  0  0  0  0  0\\n    0.9227   -0.8945    0.9703 C   0  0  0  0  0  0  0  0  0  0  0  0\\n    0.8752   -0.9998   -0.7432 C   0  0  0  0  0  0  0  0  0  0  0  0\\n   -0.5352   -0.4182    0.9866 C   0  0  0  0  0  0  0  0  0  0  0  0\\n   -0.3364   -0.6272   -0.9480 C   0  0  0  0  0  0  0  0  0  0  0  0\\n    0.7761    0.8783    1.0000 C   0  0  0  0  0  0  0  0  0  0  0  0\\n    0.5960   -0.6490   -0.8423 C   0  0  0  0  0  0  0  0  0  0  0  0\\n    0.6710   -0.4833    0.3283 C   0  0  0  0  0  0  0  0  0  0  0  0\\n    1.0000    0.2319   -0.6845 C   0  0  0  0  0  0  0  0  0  0  0  0\\n    0.9781   -1.0000    0.8794 C   0  0  0  0  0  0  0  0  0  0  0  0\\n    0.9870   -0.3695   -0.8527 C   0  0  0  0  0  0  0  0  0  0  0  0\\n    0.1477    0.6681    0.9180 C   0  0  0  0  0  0  0  0  0  0  0  0\\n   -0.9736    0.9401    0.4445 C   0  0  0  0  0  0  0  0  0  0  0  0\\n   -0.5533    0.9012   -0.7850 C   0  0  0  0  0  0  0  0  0  0  0  0\\n   -0.9146   -0.8919   -0.2776 C   0  0  0  0  0  0  0  0  0  0  0  0\\n    0.1486   -1.0000    0.9961 C   0  0  0  0  0  0  0  0  0  0  0  0\\n    0.5367   -1.0000   -0.3990 C   0  0  0  0  0  0  0  0  0  0  0  0\\n   -0.8760    0.1205   -0.8253 C   0  0  0  0  0  0  0  0  0  0  0  0\\n    0.9763    0.9662   -1.0000 C   0  0  0  0  0  0  0  0  0  0  0  0\\n   -0.9608   -1.0000   -0.9589 C   0  0  0  0  0  0  0  0  0  0  0  0\\n   -0.9882   -1.0000    0.9910 C   0  0  0  0  0  0  0  0  0  0  0  0\\n   -0.9745   -0.6171    1.0000 C   0  0  0  0  0  0  0  0  0  0  0  0\\n    0.7045   -1.0000    0.9798 C   0  0  0  0  0  0  0  0  0  0  0  0\\n   -0.8927    0.5841   -0.9507 C   0  0  0  0  0  0  0  0  0  0  0  0\\n   -0.7588   -0.6775    0.8730 C   0  0  0  0  0  0  0  0  0  0  0  0\\nM  END\\n\",\"mol\");\n",
              "\tviewer_17444778982050483.setStyle({\"stick\": {}});\n",
              "\tviewer_17444778982050483.setBackgroundColor(\"white\");\n",
              "\tviewer_17444778982050483.zoomTo();\n",
              "viewer_17444778982050483.render();\n",
              "});\n",
              "</script>"
            ]
          },
          "metadata": {}
        },
        {
          "output_type": "display_data",
          "data": {
            "text/plain": [
              "<py3Dmol.view at 0x7fdca0876d90>"
            ]
          },
          "metadata": {}
        }
      ]
    },
    {
      "cell_type": "code",
      "source": [
        "final_coords = x.squeeze(0).cpu().numpy()\n",
        "mol = coords_to_rdkit_mol(final_coords, random_atom_types)\n",
        "\n",
        "viewer = visualize_mol(mol)\n",
        "display(viewer)\n",
        "\n",
        "# Optional 2D image\n",
        "img = Chem.Draw.MolToImage(mol, size=(400, 300))\n",
        "img.show()\n"
      ],
      "metadata": {
        "colab": {
          "base_uri": "https://localhost:8080/",
          "height": 434
        },
        "id": "IQQTktS89WoI",
        "outputId": "bf4aa963-9f29-4c19-b9fa-434e4976b1fc"
      },
      "execution_count": 139,
      "outputs": [
        {
          "output_type": "display_data",
          "data": {
            "application/3dmoljs_load.v0": "<div id=\"3dmolviewer_17444778982190793\"  style=\"position: relative; width: 500px; height: 400px;\">\n        <p id=\"3dmolwarning_17444778982190793\" style=\"background-color:#ffcccc;color:black\">3Dmol.js failed to load for some reason.  Please check your browser console for error messages.<br></p>\n        </div>\n<script>\n\nvar loadScriptAsync = function(uri){\n  return new Promise((resolve, reject) => {\n    //this is to ignore the existence of requirejs amd\n    var savedexports, savedmodule;\n    if (typeof exports !== 'undefined') savedexports = exports;\n    else exports = {}\n    if (typeof module !== 'undefined') savedmodule = module;\n    else module = {}\n\n    var tag = document.createElement('script');\n    tag.src = uri;\n    tag.async = true;\n    tag.onload = () => {\n        exports = savedexports;\n        module = savedmodule;\n        resolve();\n    };\n  var firstScriptTag = document.getElementsByTagName('script')[0];\n  firstScriptTag.parentNode.insertBefore(tag, firstScriptTag);\n});\n};\n\nif(typeof $3Dmolpromise === 'undefined') {\n$3Dmolpromise = null;\n  $3Dmolpromise = loadScriptAsync('https://cdnjs.cloudflare.com/ajax/libs/3Dmol/2.4.2/3Dmol-min.js');\n}\n\nvar viewer_17444778982190793 = null;\nvar warn = document.getElementById(\"3dmolwarning_17444778982190793\");\nif(warn) {\n    warn.parentNode.removeChild(warn);\n}\n$3Dmolpromise.then(function() {\nviewer_17444778982190793 = $3Dmol.createViewer(document.getElementById(\"3dmolviewer_17444778982190793\"),{backgroundColor:\"white\"});\nviewer_17444778982190793.zoomTo();\n\tviewer_17444778982190793.addModel(\"\\n     RDKit          3D\\n\\n 50  0  0  0  0  0  0  0  0  0999 V2000\\n    0.7090    0.7599   -0.3226 C   0  0  0  0  0  0  0  0  0  0  0  0\\n    1.0000    0.9784    0.8854 C   0  0  0  0  0  0  0  0  0  0  0  0\\n    0.9916   -0.8403   -0.9791 C   0  0  0  0  0  0  0  0  0  0  0  0\\n    0.9554   -1.0000   -0.5233 C   0  0  0  0  0  0  0  0  0  0  0  0\\n    0.0151   -0.9690    0.9842 C   0  0  0  0  0  0  0  0  0  0  0  0\\n   -1.0000   -1.0000   -0.5923 C   0  0  0  0  0  0  0  0  0  0  0  0\\n   -0.6387    0.9174    0.7280 C   0  0  0  0  0  0  0  0  0  0  0  0\\n    0.9244   -0.9141   -0.1206 C   0  0  0  0  0  0  0  0  0  0  0  0\\n   -0.9907    0.9548   -0.6880 C   0  0  0  0  0  0  0  0  0  0  0  0\\n   -0.8385   -0.5934    0.9338 C   0  0  0  0  0  0  0  0  0  0  0  0\\n    1.0000   -0.1701   -0.8832 C   0  0  0  0  0  0  0  0  0  0  0  0\\n    0.9820   -1.0000   -0.1863 C   0  0  0  0  0  0  0  0  0  0  0  0\\n   -0.9923    0.8961   -0.6364 C   0  0  0  0  0  0  0  0  0  0  0  0\\n    0.7890   -1.0000   -0.9816 C   0  0  0  0  0  0  0  0  0  0  0  0\\n    0.9974    0.9290    0.3522 C   0  0  0  0  0  0  0  0  0  0  0  0\\n    0.4293    0.6721   -0.6466 C   0  0  0  0  0  0  0  0  0  0  0  0\\n   -1.0000   -0.1907    1.0000 C   0  0  0  0  0  0  0  0  0  0  0  0\\n    0.5494   -0.9273   -1.0000 C   0  0  0  0  0  0  0  0  0  0  0  0\\n    0.6939   -0.8899    0.9954 C   0  0  0  0  0  0  0  0  0  0  0  0\\n    1.0000    0.9923   -0.1376 C   0  0  0  0  0  0  0  0  0  0  0  0\\n    0.7500   -0.9429    1.0000 C   0  0  0  0  0  0  0  0  0  0  0  0\\n    0.9673    1.0000   -0.1007 C   0  0  0  0  0  0  0  0  0  0  0  0\\n   -0.8795    0.9244    0.2146 C   0  0  0  0  0  0  0  0  0  0  0  0\\n   -1.0000   -0.8757    0.2286 C   0  0  0  0  0  0  0  0  0  0  0  0\\n   -0.9922   -1.0000   -0.8513 C   0  0  0  0  0  0  0  0  0  0  0  0\\n    1.0000   -1.0000   -0.7646 C   0  0  0  0  0  0  0  0  0  0  0  0\\n    0.9227   -0.8945    0.9703 C   0  0  0  0  0  0  0  0  0  0  0  0\\n    0.8752   -0.9998   -0.7432 C   0  0  0  0  0  0  0  0  0  0  0  0\\n   -0.5352   -0.4182    0.9866 C   0  0  0  0  0  0  0  0  0  0  0  0\\n   -0.3364   -0.6272   -0.9480 C   0  0  0  0  0  0  0  0  0  0  0  0\\n    0.7761    0.8783    1.0000 C   0  0  0  0  0  0  0  0  0  0  0  0\\n    0.5960   -0.6490   -0.8423 C   0  0  0  0  0  0  0  0  0  0  0  0\\n    0.6710   -0.4833    0.3283 C   0  0  0  0  0  0  0  0  0  0  0  0\\n    1.0000    0.2319   -0.6845 C   0  0  0  0  0  0  0  0  0  0  0  0\\n    0.9781   -1.0000    0.8794 C   0  0  0  0  0  0  0  0  0  0  0  0\\n    0.9870   -0.3695   -0.8527 C   0  0  0  0  0  0  0  0  0  0  0  0\\n    0.1477    0.6681    0.9180 C   0  0  0  0  0  0  0  0  0  0  0  0\\n   -0.9736    0.9401    0.4445 C   0  0  0  0  0  0  0  0  0  0  0  0\\n   -0.5533    0.9012   -0.7850 C   0  0  0  0  0  0  0  0  0  0  0  0\\n   -0.9146   -0.8919   -0.2776 C   0  0  0  0  0  0  0  0  0  0  0  0\\n    0.1486   -1.0000    0.9961 C   0  0  0  0  0  0  0  0  0  0  0  0\\n    0.5367   -1.0000   -0.3990 C   0  0  0  0  0  0  0  0  0  0  0  0\\n   -0.8760    0.1205   -0.8253 C   0  0  0  0  0  0  0  0  0  0  0  0\\n    0.9763    0.9662   -1.0000 C   0  0  0  0  0  0  0  0  0  0  0  0\\n   -0.9608   -1.0000   -0.9589 C   0  0  0  0  0  0  0  0  0  0  0  0\\n   -0.9882   -1.0000    0.9910 C   0  0  0  0  0  0  0  0  0  0  0  0\\n   -0.9745   -0.6171    1.0000 C   0  0  0  0  0  0  0  0  0  0  0  0\\n    0.7045   -1.0000    0.9798 C   0  0  0  0  0  0  0  0  0  0  0  0\\n   -0.8927    0.5841   -0.9507 C   0  0  0  0  0  0  0  0  0  0  0  0\\n   -0.7588   -0.6775    0.8730 C   0  0  0  0  0  0  0  0  0  0  0  0\\nM  END\\n\",\"mol\");\n\tviewer_17444778982190793.setStyle({\"stick\": {}});\n\tviewer_17444778982190793.setBackgroundColor(\"white\");\n\tviewer_17444778982190793.zoomTo();\nviewer_17444778982190793.render();\n});\n</script>",
            "text/html": [
              "<div id=\"3dmolviewer_17444778982190793\"  style=\"position: relative; width: 500px; height: 400px;\">\n",
              "        <p id=\"3dmolwarning_17444778982190793\" style=\"background-color:#ffcccc;color:black\">3Dmol.js failed to load for some reason.  Please check your browser console for error messages.<br></p>\n",
              "        </div>\n",
              "<script>\n",
              "\n",
              "var loadScriptAsync = function(uri){\n",
              "  return new Promise((resolve, reject) => {\n",
              "    //this is to ignore the existence of requirejs amd\n",
              "    var savedexports, savedmodule;\n",
              "    if (typeof exports !== 'undefined') savedexports = exports;\n",
              "    else exports = {}\n",
              "    if (typeof module !== 'undefined') savedmodule = module;\n",
              "    else module = {}\n",
              "\n",
              "    var tag = document.createElement('script');\n",
              "    tag.src = uri;\n",
              "    tag.async = true;\n",
              "    tag.onload = () => {\n",
              "        exports = savedexports;\n",
              "        module = savedmodule;\n",
              "        resolve();\n",
              "    };\n",
              "  var firstScriptTag = document.getElementsByTagName('script')[0];\n",
              "  firstScriptTag.parentNode.insertBefore(tag, firstScriptTag);\n",
              "});\n",
              "};\n",
              "\n",
              "if(typeof $3Dmolpromise === 'undefined') {\n",
              "$3Dmolpromise = null;\n",
              "  $3Dmolpromise = loadScriptAsync('https://cdnjs.cloudflare.com/ajax/libs/3Dmol/2.4.2/3Dmol-min.js');\n",
              "}\n",
              "\n",
              "var viewer_17444778982190793 = null;\n",
              "var warn = document.getElementById(\"3dmolwarning_17444778982190793\");\n",
              "if(warn) {\n",
              "    warn.parentNode.removeChild(warn);\n",
              "}\n",
              "$3Dmolpromise.then(function() {\n",
              "viewer_17444778982190793 = $3Dmol.createViewer(document.getElementById(\"3dmolviewer_17444778982190793\"),{backgroundColor:\"white\"});\n",
              "viewer_17444778982190793.zoomTo();\n",
              "\tviewer_17444778982190793.addModel(\"\\n     RDKit          3D\\n\\n 50  0  0  0  0  0  0  0  0  0999 V2000\\n    0.7090    0.7599   -0.3226 C   0  0  0  0  0  0  0  0  0  0  0  0\\n    1.0000    0.9784    0.8854 C   0  0  0  0  0  0  0  0  0  0  0  0\\n    0.9916   -0.8403   -0.9791 C   0  0  0  0  0  0  0  0  0  0  0  0\\n    0.9554   -1.0000   -0.5233 C   0  0  0  0  0  0  0  0  0  0  0  0\\n    0.0151   -0.9690    0.9842 C   0  0  0  0  0  0  0  0  0  0  0  0\\n   -1.0000   -1.0000   -0.5923 C   0  0  0  0  0  0  0  0  0  0  0  0\\n   -0.6387    0.9174    0.7280 C   0  0  0  0  0  0  0  0  0  0  0  0\\n    0.9244   -0.9141   -0.1206 C   0  0  0  0  0  0  0  0  0  0  0  0\\n   -0.9907    0.9548   -0.6880 C   0  0  0  0  0  0  0  0  0  0  0  0\\n   -0.8385   -0.5934    0.9338 C   0  0  0  0  0  0  0  0  0  0  0  0\\n    1.0000   -0.1701   -0.8832 C   0  0  0  0  0  0  0  0  0  0  0  0\\n    0.9820   -1.0000   -0.1863 C   0  0  0  0  0  0  0  0  0  0  0  0\\n   -0.9923    0.8961   -0.6364 C   0  0  0  0  0  0  0  0  0  0  0  0\\n    0.7890   -1.0000   -0.9816 C   0  0  0  0  0  0  0  0  0  0  0  0\\n    0.9974    0.9290    0.3522 C   0  0  0  0  0  0  0  0  0  0  0  0\\n    0.4293    0.6721   -0.6466 C   0  0  0  0  0  0  0  0  0  0  0  0\\n   -1.0000   -0.1907    1.0000 C   0  0  0  0  0  0  0  0  0  0  0  0\\n    0.5494   -0.9273   -1.0000 C   0  0  0  0  0  0  0  0  0  0  0  0\\n    0.6939   -0.8899    0.9954 C   0  0  0  0  0  0  0  0  0  0  0  0\\n    1.0000    0.9923   -0.1376 C   0  0  0  0  0  0  0  0  0  0  0  0\\n    0.7500   -0.9429    1.0000 C   0  0  0  0  0  0  0  0  0  0  0  0\\n    0.9673    1.0000   -0.1007 C   0  0  0  0  0  0  0  0  0  0  0  0\\n   -0.8795    0.9244    0.2146 C   0  0  0  0  0  0  0  0  0  0  0  0\\n   -1.0000   -0.8757    0.2286 C   0  0  0  0  0  0  0  0  0  0  0  0\\n   -0.9922   -1.0000   -0.8513 C   0  0  0  0  0  0  0  0  0  0  0  0\\n    1.0000   -1.0000   -0.7646 C   0  0  0  0  0  0  0  0  0  0  0  0\\n    0.9227   -0.8945    0.9703 C   0  0  0  0  0  0  0  0  0  0  0  0\\n    0.8752   -0.9998   -0.7432 C   0  0  0  0  0  0  0  0  0  0  0  0\\n   -0.5352   -0.4182    0.9866 C   0  0  0  0  0  0  0  0  0  0  0  0\\n   -0.3364   -0.6272   -0.9480 C   0  0  0  0  0  0  0  0  0  0  0  0\\n    0.7761    0.8783    1.0000 C   0  0  0  0  0  0  0  0  0  0  0  0\\n    0.5960   -0.6490   -0.8423 C   0  0  0  0  0  0  0  0  0  0  0  0\\n    0.6710   -0.4833    0.3283 C   0  0  0  0  0  0  0  0  0  0  0  0\\n    1.0000    0.2319   -0.6845 C   0  0  0  0  0  0  0  0  0  0  0  0\\n    0.9781   -1.0000    0.8794 C   0  0  0  0  0  0  0  0  0  0  0  0\\n    0.9870   -0.3695   -0.8527 C   0  0  0  0  0  0  0  0  0  0  0  0\\n    0.1477    0.6681    0.9180 C   0  0  0  0  0  0  0  0  0  0  0  0\\n   -0.9736    0.9401    0.4445 C   0  0  0  0  0  0  0  0  0  0  0  0\\n   -0.5533    0.9012   -0.7850 C   0  0  0  0  0  0  0  0  0  0  0  0\\n   -0.9146   -0.8919   -0.2776 C   0  0  0  0  0  0  0  0  0  0  0  0\\n    0.1486   -1.0000    0.9961 C   0  0  0  0  0  0  0  0  0  0  0  0\\n    0.5367   -1.0000   -0.3990 C   0  0  0  0  0  0  0  0  0  0  0  0\\n   -0.8760    0.1205   -0.8253 C   0  0  0  0  0  0  0  0  0  0  0  0\\n    0.9763    0.9662   -1.0000 C   0  0  0  0  0  0  0  0  0  0  0  0\\n   -0.9608   -1.0000   -0.9589 C   0  0  0  0  0  0  0  0  0  0  0  0\\n   -0.9882   -1.0000    0.9910 C   0  0  0  0  0  0  0  0  0  0  0  0\\n   -0.9745   -0.6171    1.0000 C   0  0  0  0  0  0  0  0  0  0  0  0\\n    0.7045   -1.0000    0.9798 C   0  0  0  0  0  0  0  0  0  0  0  0\\n   -0.8927    0.5841   -0.9507 C   0  0  0  0  0  0  0  0  0  0  0  0\\n   -0.7588   -0.6775    0.8730 C   0  0  0  0  0  0  0  0  0  0  0  0\\nM  END\\n\",\"mol\");\n",
              "\tviewer_17444778982190793.setStyle({\"stick\": {}});\n",
              "\tviewer_17444778982190793.setBackgroundColor(\"white\");\n",
              "\tviewer_17444778982190793.zoomTo();\n",
              "viewer_17444778982190793.render();\n",
              "});\n",
              "</script>"
            ]
          },
          "metadata": {}
        },
        {
          "output_type": "display_data",
          "data": {
            "text/plain": [
              "<py3Dmol.view at 0x7fdca162c250>"
            ]
          },
          "metadata": {}
        }
      ]
    },
    {
      "cell_type": "code",
      "source": [
        "import numpy as np\n",
        "from rdkit import Chem\n",
        "import py3Dmol\n",
        "\n",
        "# Function to convert coordinates and atom types to RDKit molecule\n",
        "def coords_to_rdkit_mol(coords, atom_types):\n",
        "    mol = Chem.RWMol()\n",
        "    atom_ids = []\n",
        "\n",
        "    # Add atoms to the molecule\n",
        "    for atom_symbol in atom_types:\n",
        "        if atom_symbol == 'X':  # Skip padding atoms\n",
        "            continue\n",
        "        atom = Chem.Atom(atom_symbol)  # Create atom based on atom symbol\n",
        "        atom_id = mol.AddAtom(atom)  # Add atom to the molecule\n",
        "        atom_ids.append(atom_id)\n",
        "\n",
        "    # Create conformer (3D coordinates)\n",
        "    conf = Chem.Conformer(len(atom_ids))\n",
        "\n",
        "    # Set atom positions in the conformer\n",
        "    for i, (x, y, z) in enumerate(coords[:len(atom_ids)]):\n",
        "        conf.SetAtomPosition(i, (float(x), float(y), float(z)))\n",
        "\n",
        "    mol.AddConformer(conf)  # Add the 3D conformer to the molecule\n",
        "    return mol\n",
        "\n",
        "# Visualize the molecule using py3Dmol\n",
        "def visualize_mol(mol):\n",
        "    mb = Chem.MolToMolBlock(mol)  # Convert molecule to MolBlock string\n",
        "    viewer = py3Dmol.view(width=500, height=400)\n",
        "    viewer.addModel(mb, 'mol')  # Add the molecule to the viewer\n",
        "    viewer.setStyle({'stick': {}})  # Display as sticks\n",
        "    viewer.setBackgroundColor('white')\n",
        "    viewer.zoomTo()  # Zoom to fit the molecule\n",
        "    viewer.render()  # Force rendering explicitly\n",
        "    return viewer\n",
        "\n",
        "# Generate random coordinates for a molecule (10 atoms)\n",
        "random_coords = np.random.randn(10, 3) * 2  # Scale by 2 to bring atoms closer to center\n",
        "print(\"Generated Random Coordinates:\", random_coords)  # Print to check the range of the coordinates\n",
        "atom_types = ['C'] * 10  # Assume all Carbon atoms for simplicity\n",
        "\n",
        "# Convert random coordinates and atom types to RDKit molecule\n",
        "mol = coords_to_rdkit_mol(random_coords, atom_types)\n",
        "\n",
        "# Visualize the generated molecule\n",
        "viewer = visualize_mol(mol)\n",
        "display(viewer)  # Display the molecule in Jupyter (try viewer.render() if show() doesn't work)\n"
      ],
      "metadata": {
        "id": "i1yK_sOSABy6",
        "outputId": "be17762e-3077-4e33-e7b1-89819c704367",
        "colab": {
          "base_uri": "https://localhost:8080/",
          "height": 608
        }
      },
      "execution_count": 153,
      "outputs": [
        {
          "output_type": "stream",
          "name": "stdout",
          "text": [
            "Generated Random Coordinates: [[ 0.08303902 -3.87488769 -0.32631536]\n",
            " [ 1.42835736 -3.80152147  0.79706572]\n",
            " [-1.27933583  0.02735966  0.29104738]\n",
            " [ 0.93919783 -3.2474667  -3.14239803]\n",
            " [-1.80387779 -0.93001449  2.41397647]\n",
            " [ 1.89297651  0.23261267  0.17166731]\n",
            " [-2.3786438  -1.49173271 -1.45300293]\n",
            " [ 1.00972858 -1.99679915 -0.48444925]\n",
            " [-2.85212865  1.03499896 -6.39803832]\n",
            " [ 2.0542918   2.42305478 -1.26635097]]\n"
          ]
        },
        {
          "output_type": "display_data",
          "data": {
            "application/3dmoljs_load.v0": "<div id=\"3dmolviewer_17444784843631532\"  style=\"position: relative; width: 500px; height: 400px;\">\n        <p id=\"3dmolwarning_17444784843631532\" style=\"background-color:#ffcccc;color:black\">3Dmol.js failed to load for some reason.  Please check your browser console for error messages.<br></p>\n        </div>\n<script>\n\nvar loadScriptAsync = function(uri){\n  return new Promise((resolve, reject) => {\n    //this is to ignore the existence of requirejs amd\n    var savedexports, savedmodule;\n    if (typeof exports !== 'undefined') savedexports = exports;\n    else exports = {}\n    if (typeof module !== 'undefined') savedmodule = module;\n    else module = {}\n\n    var tag = document.createElement('script');\n    tag.src = uri;\n    tag.async = true;\n    tag.onload = () => {\n        exports = savedexports;\n        module = savedmodule;\n        resolve();\n    };\n  var firstScriptTag = document.getElementsByTagName('script')[0];\n  firstScriptTag.parentNode.insertBefore(tag, firstScriptTag);\n});\n};\n\nif(typeof $3Dmolpromise === 'undefined') {\n$3Dmolpromise = null;\n  $3Dmolpromise = loadScriptAsync('https://cdnjs.cloudflare.com/ajax/libs/3Dmol/2.4.2/3Dmol-min.js');\n}\n\nvar viewer_17444784843631532 = null;\nvar warn = document.getElementById(\"3dmolwarning_17444784843631532\");\nif(warn) {\n    warn.parentNode.removeChild(warn);\n}\n$3Dmolpromise.then(function() {\nviewer_17444784843631532 = $3Dmol.createViewer(document.getElementById(\"3dmolviewer_17444784843631532\"),{backgroundColor:\"white\"});\nviewer_17444784843631532.zoomTo();\n\tviewer_17444784843631532.addModel(\"\\n     RDKit          3D\\n\\n 10  0  0  0  0  0  0  0  0  0999 V2000\\n    0.0830   -3.8749   -0.3263 C   0  0  0  0  0  0  0  0  0  0  0  0\\n    1.4284   -3.8015    0.7971 C   0  0  0  0  0  0  0  0  0  0  0  0\\n   -1.2793    0.0274    0.2910 C   0  0  0  0  0  0  0  0  0  0  0  0\\n    0.9392   -3.2475   -3.1424 C   0  0  0  0  0  0  0  0  0  0  0  0\\n   -1.8039   -0.9300    2.4140 C   0  0  0  0  0  0  0  0  0  0  0  0\\n    1.8930    0.2326    0.1717 C   0  0  0  0  0  0  0  0  0  0  0  0\\n   -2.3786   -1.4917   -1.4530 C   0  0  0  0  0  0  0  0  0  0  0  0\\n    1.0097   -1.9968   -0.4844 C   0  0  0  0  0  0  0  0  0  0  0  0\\n   -2.8521    1.0350   -6.3980 C   0  0  0  0  0  0  0  0  0  0  0  0\\n    2.0543    2.4231   -1.2664 C   0  0  0  0  0  0  0  0  0  0  0  0\\nM  END\\n\",\"mol\");\n\tviewer_17444784843631532.setStyle({\"stick\": {}});\n\tviewer_17444784843631532.setBackgroundColor(\"white\");\n\tviewer_17444784843631532.zoomTo();\n\tviewer_17444784843631532.render();\nviewer_17444784843631532.render();\n});\n</script>",
            "text/html": [
              "<div id=\"3dmolviewer_17444784843631532\"  style=\"position: relative; width: 500px; height: 400px;\">\n",
              "        <p id=\"3dmolwarning_17444784843631532\" style=\"background-color:#ffcccc;color:black\">3Dmol.js failed to load for some reason.  Please check your browser console for error messages.<br></p>\n",
              "        </div>\n",
              "<script>\n",
              "\n",
              "var loadScriptAsync = function(uri){\n",
              "  return new Promise((resolve, reject) => {\n",
              "    //this is to ignore the existence of requirejs amd\n",
              "    var savedexports, savedmodule;\n",
              "    if (typeof exports !== 'undefined') savedexports = exports;\n",
              "    else exports = {}\n",
              "    if (typeof module !== 'undefined') savedmodule = module;\n",
              "    else module = {}\n",
              "\n",
              "    var tag = document.createElement('script');\n",
              "    tag.src = uri;\n",
              "    tag.async = true;\n",
              "    tag.onload = () => {\n",
              "        exports = savedexports;\n",
              "        module = savedmodule;\n",
              "        resolve();\n",
              "    };\n",
              "  var firstScriptTag = document.getElementsByTagName('script')[0];\n",
              "  firstScriptTag.parentNode.insertBefore(tag, firstScriptTag);\n",
              "});\n",
              "};\n",
              "\n",
              "if(typeof $3Dmolpromise === 'undefined') {\n",
              "$3Dmolpromise = null;\n",
              "  $3Dmolpromise = loadScriptAsync('https://cdnjs.cloudflare.com/ajax/libs/3Dmol/2.4.2/3Dmol-min.js');\n",
              "}\n",
              "\n",
              "var viewer_17444784843631532 = null;\n",
              "var warn = document.getElementById(\"3dmolwarning_17444784843631532\");\n",
              "if(warn) {\n",
              "    warn.parentNode.removeChild(warn);\n",
              "}\n",
              "$3Dmolpromise.then(function() {\n",
              "viewer_17444784843631532 = $3Dmol.createViewer(document.getElementById(\"3dmolviewer_17444784843631532\"),{backgroundColor:\"white\"});\n",
              "viewer_17444784843631532.zoomTo();\n",
              "\tviewer_17444784843631532.addModel(\"\\n     RDKit          3D\\n\\n 10  0  0  0  0  0  0  0  0  0999 V2000\\n    0.0830   -3.8749   -0.3263 C   0  0  0  0  0  0  0  0  0  0  0  0\\n    1.4284   -3.8015    0.7971 C   0  0  0  0  0  0  0  0  0  0  0  0\\n   -1.2793    0.0274    0.2910 C   0  0  0  0  0  0  0  0  0  0  0  0\\n    0.9392   -3.2475   -3.1424 C   0  0  0  0  0  0  0  0  0  0  0  0\\n   -1.8039   -0.9300    2.4140 C   0  0  0  0  0  0  0  0  0  0  0  0\\n    1.8930    0.2326    0.1717 C   0  0  0  0  0  0  0  0  0  0  0  0\\n   -2.3786   -1.4917   -1.4530 C   0  0  0  0  0  0  0  0  0  0  0  0\\n    1.0097   -1.9968   -0.4844 C   0  0  0  0  0  0  0  0  0  0  0  0\\n   -2.8521    1.0350   -6.3980 C   0  0  0  0  0  0  0  0  0  0  0  0\\n    2.0543    2.4231   -1.2664 C   0  0  0  0  0  0  0  0  0  0  0  0\\nM  END\\n\",\"mol\");\n",
              "\tviewer_17444784843631532.setStyle({\"stick\": {}});\n",
              "\tviewer_17444784843631532.setBackgroundColor(\"white\");\n",
              "\tviewer_17444784843631532.zoomTo();\n",
              "\tviewer_17444784843631532.render();\n",
              "viewer_17444784843631532.render();\n",
              "});\n",
              "</script>"
            ]
          },
          "metadata": {}
        },
        {
          "output_type": "display_data",
          "data": {
            "text/plain": [
              "<py3Dmol.view at 0x7fdd19575050>"
            ]
          },
          "metadata": {}
        }
      ]
    },
    {
      "cell_type": "code",
      "source": [
        "import numpy as np\n",
        "from rdkit import Chem\n",
        "import py3Dmol\n",
        "\n",
        "# Function to convert coordinates and atom types to RDKit molecule\n",
        "def coords_to_rdkit_mol(coords, atom_types):\n",
        "    mol = Chem.RWMol()  # Create a molecule object\n",
        "    atom_ids = []\n",
        "\n",
        "    # Add atoms to the molecule\n",
        "    for atom_symbol in atom_types:\n",
        "        if atom_symbol == 'X':  # Skip padding atoms\n",
        "            continue\n",
        "        atom = Chem.Atom(atom_symbol)  # Create atom based on atom symbol\n",
        "        atom_id = mol.AddAtom(atom)  # Add atom to the molecule\n",
        "        atom_ids.append(atom_id)\n",
        "\n",
        "    # Create conformer (3D coordinates)\n",
        "    conf = Chem.Conformer(len(atom_ids))\n",
        "\n",
        "    # Set atom positions in the conformer\n",
        "    for i, (x, y, z) in enumerate(coords[:len(atom_ids)]):\n",
        "        conf.SetAtomPosition(i, (float(x), float(y), float(z)))\n",
        "\n",
        "    mol.AddConformer(conf)  # Add the 3D conformer to the molecule\n",
        "    return mol\n",
        "\n",
        "# Visualize the molecule using py3Dmol\n",
        "def visualize_mol(mol):\n",
        "    try:\n",
        "        # Convert molecule to MolBlock string\n",
        "        mb = Chem.MolToMolBlock(mol)\n",
        "        if mb is None:\n",
        "            print(\"Error: MolBlock is None. Molecule conversion failed.\")\n",
        "            return None\n",
        "\n",
        "        viewer = py3Dmol.view(width=500, height=400)  # Initialize viewer\n",
        "        viewer.addModel(mb, 'mol')  # Add the molecule to the viewer\n",
        "\n",
        "        # Check if the molecule has been added correctly\n",
        "        if not viewer.hasModels():\n",
        "            print(\"Error: No models in viewer.\")\n",
        "            return None\n",
        "\n",
        "        viewer.setStyle({'stick': {}})  # Display as sticks\n",
        "        viewer.setBackgroundColor('white')\n",
        "        viewer.zoomTo()  # Zoom to fit the molecule\n",
        "        viewer.render()  # Explicit rendering\n",
        "        return viewer\n",
        "    except Exception as e:\n",
        "        print(f\"Error visualizing molecule: {e}\")\n",
        "        return None\n",
        "\n",
        "# Generate random coordinates for a molecule (10 atoms)\n",
        "random_coords = np.random.randn(10, 3) * 2  # Scale by 2 to bring atoms closer to center\n",
        "print(\"Generated Random Coordinates:\", random_coords)  # Print to check the range of the coordinates\n",
        "atom_types = ['C'] * 10  # Assume all Carbon atoms for simplicity\n",
        "\n",
        "# Convert random coordinates and atom types to RDKit molecule\n",
        "mol = coords_to_rdkit_mol(random_coords, atom_types)\n",
        "\n",
        "# Visualize the generated molecule\n",
        "viewer = visualize_mol(mol)\n",
        "if viewer:\n",
        "    viewer.show()  # Display the molecule in Jupyter (try viewer.render() if show() doesn't work)\n",
        "else:\n",
        "    print(\"Visualization failed. Check the MolBlock creation and viewer setup.\")\n"
      ],
      "metadata": {
        "id": "zbzZZiQaBaZr",
        "outputId": "47a86e58-ff1e-4526-b825-9ab15c668158",
        "colab": {
          "base_uri": "https://localhost:8080/",
          "height": 591
        }
      },
      "execution_count": 156,
      "outputs": [
        {
          "output_type": "stream",
          "name": "stdout",
          "text": [
            "Generated Random Coordinates: [[-0.01549835 -0.12453898 -4.72314064]\n",
            " [-0.73409415 -5.56209483  5.19013159]\n",
            " [ 1.11804135 -8.40404979 -1.01373902]\n",
            " [ 1.22169946 -1.23286878  0.81168008]\n",
            " [-1.4085895   3.33023013 -0.24479682]\n",
            " [ 1.37969352 -0.48432945 -2.37330798]\n",
            " [ 0.32160724 -0.72558495  1.8608191 ]\n",
            " [-1.45430248 -1.43531614  2.66677788]\n",
            " [-2.35843236  1.95898242  0.86281939]\n",
            " [-1.41095969 -1.55993289  0.83774404]]\n"
          ]
        },
        {
          "output_type": "display_data",
          "data": {
            "application/3dmoljs_load.v0": "<div id=\"3dmolviewer_17444786394930985\"  style=\"position: relative; width: 500px; height: 400px;\">\n        <p id=\"3dmolwarning_17444786394930985\" style=\"background-color:#ffcccc;color:black\">3Dmol.js failed to load for some reason.  Please check your browser console for error messages.<br></p>\n        </div>\n<script>\n\nvar loadScriptAsync = function(uri){\n  return new Promise((resolve, reject) => {\n    //this is to ignore the existence of requirejs amd\n    var savedexports, savedmodule;\n    if (typeof exports !== 'undefined') savedexports = exports;\n    else exports = {}\n    if (typeof module !== 'undefined') savedmodule = module;\n    else module = {}\n\n    var tag = document.createElement('script');\n    tag.src = uri;\n    tag.async = true;\n    tag.onload = () => {\n        exports = savedexports;\n        module = savedmodule;\n        resolve();\n    };\n  var firstScriptTag = document.getElementsByTagName('script')[0];\n  firstScriptTag.parentNode.insertBefore(tag, firstScriptTag);\n});\n};\n\nif(typeof $3Dmolpromise === 'undefined') {\n$3Dmolpromise = null;\n  $3Dmolpromise = loadScriptAsync('https://cdnjs.cloudflare.com/ajax/libs/3Dmol/2.4.2/3Dmol-min.js');\n}\n\nvar viewer_17444786394930985 = null;\nvar warn = document.getElementById(\"3dmolwarning_17444786394930985\");\nif(warn) {\n    warn.parentNode.removeChild(warn);\n}\n$3Dmolpromise.then(function() {\nviewer_17444786394930985 = $3Dmol.createViewer(document.getElementById(\"3dmolviewer_17444786394930985\"),{backgroundColor:\"white\"});\nviewer_17444786394930985.zoomTo();\n\tviewer_17444786394930985.addModel(\"\\n     RDKit          3D\\n\\n 10  0  0  0  0  0  0  0  0  0999 V2000\\n   -0.0155   -0.1245   -4.7231 C   0  0  0  0  0  0  0  0  0  0  0  0\\n   -0.7341   -5.5621    5.1901 C   0  0  0  0  0  0  0  0  0  0  0  0\\n    1.1180   -8.4040   -1.0137 C   0  0  0  0  0  0  0  0  0  0  0  0\\n    1.2217   -1.2329    0.8117 C   0  0  0  0  0  0  0  0  0  0  0  0\\n   -1.4086    3.3302   -0.2448 C   0  0  0  0  0  0  0  0  0  0  0  0\\n    1.3797   -0.4843   -2.3733 C   0  0  0  0  0  0  0  0  0  0  0  0\\n    0.3216   -0.7256    1.8608 C   0  0  0  0  0  0  0  0  0  0  0  0\\n   -1.4543   -1.4353    2.6668 C   0  0  0  0  0  0  0  0  0  0  0  0\\n   -2.3584    1.9590    0.8628 C   0  0  0  0  0  0  0  0  0  0  0  0\\n   -1.4110   -1.5599    0.8377 C   0  0  0  0  0  0  0  0  0  0  0  0\\nM  END\\n\",\"mol\");\n\tviewer_17444786394930985.hasModels();\n\tviewer_17444786394930985.setStyle({\"stick\": {}});\n\tviewer_17444786394930985.setBackgroundColor(\"white\");\n\tviewer_17444786394930985.zoomTo();\n\tviewer_17444786394930985.render();\nviewer_17444786394930985.render();\n});\n</script>",
            "text/html": [
              "<div id=\"3dmolviewer_17444786394930985\"  style=\"position: relative; width: 500px; height: 400px;\">\n",
              "        <p id=\"3dmolwarning_17444786394930985\" style=\"background-color:#ffcccc;color:black\">3Dmol.js failed to load for some reason.  Please check your browser console for error messages.<br></p>\n",
              "        </div>\n",
              "<script>\n",
              "\n",
              "var loadScriptAsync = function(uri){\n",
              "  return new Promise((resolve, reject) => {\n",
              "    //this is to ignore the existence of requirejs amd\n",
              "    var savedexports, savedmodule;\n",
              "    if (typeof exports !== 'undefined') savedexports = exports;\n",
              "    else exports = {}\n",
              "    if (typeof module !== 'undefined') savedmodule = module;\n",
              "    else module = {}\n",
              "\n",
              "    var tag = document.createElement('script');\n",
              "    tag.src = uri;\n",
              "    tag.async = true;\n",
              "    tag.onload = () => {\n",
              "        exports = savedexports;\n",
              "        module = savedmodule;\n",
              "        resolve();\n",
              "    };\n",
              "  var firstScriptTag = document.getElementsByTagName('script')[0];\n",
              "  firstScriptTag.parentNode.insertBefore(tag, firstScriptTag);\n",
              "});\n",
              "};\n",
              "\n",
              "if(typeof $3Dmolpromise === 'undefined') {\n",
              "$3Dmolpromise = null;\n",
              "  $3Dmolpromise = loadScriptAsync('https://cdnjs.cloudflare.com/ajax/libs/3Dmol/2.4.2/3Dmol-min.js');\n",
              "}\n",
              "\n",
              "var viewer_17444786394930985 = null;\n",
              "var warn = document.getElementById(\"3dmolwarning_17444786394930985\");\n",
              "if(warn) {\n",
              "    warn.parentNode.removeChild(warn);\n",
              "}\n",
              "$3Dmolpromise.then(function() {\n",
              "viewer_17444786394930985 = $3Dmol.createViewer(document.getElementById(\"3dmolviewer_17444786394930985\"),{backgroundColor:\"white\"});\n",
              "viewer_17444786394930985.zoomTo();\n",
              "\tviewer_17444786394930985.addModel(\"\\n     RDKit          3D\\n\\n 10  0  0  0  0  0  0  0  0  0999 V2000\\n   -0.0155   -0.1245   -4.7231 C   0  0  0  0  0  0  0  0  0  0  0  0\\n   -0.7341   -5.5621    5.1901 C   0  0  0  0  0  0  0  0  0  0  0  0\\n    1.1180   -8.4040   -1.0137 C   0  0  0  0  0  0  0  0  0  0  0  0\\n    1.2217   -1.2329    0.8117 C   0  0  0  0  0  0  0  0  0  0  0  0\\n   -1.4086    3.3302   -0.2448 C   0  0  0  0  0  0  0  0  0  0  0  0\\n    1.3797   -0.4843   -2.3733 C   0  0  0  0  0  0  0  0  0  0  0  0\\n    0.3216   -0.7256    1.8608 C   0  0  0  0  0  0  0  0  0  0  0  0\\n   -1.4543   -1.4353    2.6668 C   0  0  0  0  0  0  0  0  0  0  0  0\\n   -2.3584    1.9590    0.8628 C   0  0  0  0  0  0  0  0  0  0  0  0\\n   -1.4110   -1.5599    0.8377 C   0  0  0  0  0  0  0  0  0  0  0  0\\nM  END\\n\",\"mol\");\n",
              "\tviewer_17444786394930985.hasModels();\n",
              "\tviewer_17444786394930985.setStyle({\"stick\": {}});\n",
              "\tviewer_17444786394930985.setBackgroundColor(\"white\");\n",
              "\tviewer_17444786394930985.zoomTo();\n",
              "\tviewer_17444786394930985.render();\n",
              "viewer_17444786394930985.render();\n",
              "});\n",
              "</script>"
            ]
          },
          "metadata": {}
        }
      ]
    },
    {
      "cell_type": "code",
      "source": [
        "import numpy as np\n",
        "from rdkit import Chem\n",
        "from rdkit.Chem import AllChem\n",
        "\n",
        "# Function to convert coordinates and atom types to RDKit molecule\n",
        "def coords_to_rdkit_mol(coords, atom_types):\n",
        "    mol = Chem.RWMol()  # Create a molecule object\n",
        "    atom_ids = []\n",
        "\n",
        "    # Add atoms to the molecule\n",
        "    for atom_symbol in atom_types:\n",
        "        if atom_symbol == 'X':  # Skip padding atoms\n",
        "            continue\n",
        "        atom = Chem.Atom(atom_symbol)  # Create atom based on atom symbol\n",
        "        atom_id = mol.AddAtom(atom)  # Add atom to the molecule\n",
        "        atom_ids.append(atom_id)\n",
        "\n",
        "    # Create conformer (3D coordinates)\n",
        "    conf = Chem.Conformer(len(atom_ids))\n",
        "\n",
        "    # Set atom positions in the conformer\n",
        "    for i, (x, y, z) in enumerate(coords[:len(atom_ids)]):\n",
        "        conf.SetAtomPosition(i, (float(x), float(y), float(z)))\n",
        "\n",
        "    mol.AddConformer(conf)  # Add the 3D conformer to the molecule\n",
        "    return mol\n",
        "\n",
        "# Function to save the molecule to an SDF file\n",
        "def save_molecule_to_sdf(mol, file_name):\n",
        "    writer = Chem.SDWriter(file_name)\n",
        "    writer.write(mol)\n",
        "    writer.close()\n",
        "    print(f\"Molecule saved to {file_name}\")\n",
        "\n",
        "# Generate random coordinates for a molecule (10 atoms)\n",
        "random_coords = np.random.randn(10, 3) * 2  # Scale by 2 to bring atoms closer to center\n",
        "print(\"Generated Random Coordinates:\", random_coords)  # Print to check the range of the coordinates\n",
        "atom_types = ['C'] * 10  # Assume all Carbon atoms for simplicity\n",
        "\n",
        "# Convert random coordinates and atom types to RDKit molecule\n",
        "mol = coords_to_rdkit_mol(random_coords, atom_types)\n",
        "\n",
        "# Save the generated molecule to an SDF file\n",
        "save_molecule_to_sdf(mol, 'generated_molecule.sdf')\n"
      ],
      "metadata": {
        "id": "UNPZysTAB5TI",
        "outputId": "1fcaaaf0-f8e9-4ddd-8e24-3965bc50a820",
        "colab": {
          "base_uri": "https://localhost:8080/"
        }
      },
      "execution_count": 157,
      "outputs": [
        {
          "output_type": "stream",
          "name": "stdout",
          "text": [
            "Generated Random Coordinates: [[ 6.52857958e-01 -2.68824962e+00 -4.59690217e+00]\n",
            " [ 7.68094699e-01 -2.08049306e+00 -3.26685939e-01]\n",
            " [ 4.65318434e-01 -1.88953185e+00 -8.17474470e-01]\n",
            " [ 1.43944871e+00  2.43185078e+00  2.09511923e-03]\n",
            " [-2.17641637e+00 -9.57961408e-01 -1.18721509e+00]\n",
            " [-2.71069035e-02  1.24698416e+00 -2.05568976e-02]\n",
            " [-3.74703322e-03  1.07165504e+00 -7.08576284e-03]\n",
            " [-3.12798235e-01 -6.04544120e-01 -1.13160243e+00]\n",
            " [ 1.76271175e+00  6.83360300e-01  1.34067353e+00]\n",
            " [ 9.69319241e-01  1.06172612e+00  1.00533835e+00]]\n",
            "Molecule saved to generated_molecule.sdf\n"
          ]
        }
      ]
    },
    {
      "cell_type": "code",
      "source": [],
      "metadata": {
        "id": "bvCBndEDCpds"
      },
      "execution_count": null,
      "outputs": []
    }
  ],
  "metadata": {
    "colab": {
      "name": "Welcome To Colab",
      "provenance": [],
      "include_colab_link": true
    },
    "kernelspec": {
      "display_name": "Python 3",
      "name": "python3"
    }
  },
  "nbformat": 4,
  "nbformat_minor": 0
}