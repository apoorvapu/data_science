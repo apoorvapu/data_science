{
 "cells": [
  {
   "cell_type": "markdown",
   "metadata": {
    "id": "view-in-github"
   },
   "source": [
    "<a href=\"https://colab.research.google.com/github/apoorvapu/data_science/blob/main/rag.ipynb\" target=\"_parent\"><img src=\"https://colab.research.google.com/assets/colab-badge.svg\" alt=\"Open In Colab\"/></a>"
   ]
  },
  {
   "cell_type": "code",
   "execution_count": 1,
   "metadata": {},
   "outputs": [
    {
     "name": "stdout",
     "output_type": "stream",
     "text": [
      "Collecting pymupdf\n",
      "  Downloading pymupdf-1.25.5-cp39-abi3-manylinux2014_x86_64.manylinux_2_17_x86_64.whl.metadata (3.4 kB)\n",
      "Requirement already satisfied: requests in /usr/local/lib/python3.11/dist-packages (2.32.3)\n",
      "Requirement already satisfied: charset-normalizer<4,>=2 in /usr/local/lib/python3.11/dist-packages (from requests) (3.4.1)\n",
      "Requirement already satisfied: idna<4,>=2.5 in /usr/local/lib/python3.11/dist-packages (from requests) (3.10)\n",
      "Requirement already satisfied: urllib3<3,>=1.21.1 in /usr/local/lib/python3.11/dist-packages (from requests) (2.4.0)\n",
      "Requirement already satisfied: certifi>=2017.4.17 in /usr/local/lib/python3.11/dist-packages (from requests) (2025.4.26)\n",
      "Downloading pymupdf-1.25.5-cp39-abi3-manylinux2014_x86_64.manylinux_2_17_x86_64.whl (20.0 MB)\n",
      "\u001b[2K   \u001b[90m━━━━━━━━━━━━━━━━━━━━━━━━━━━━━━━━━━━━━━━━\u001b[0m \u001b[32m20.0/20.0 MB\u001b[0m \u001b[31m31.6 MB/s\u001b[0m eta \u001b[36m0:00:00\u001b[0m\n",
      "\u001b[?25hInstalling collected packages: pymupdf\n",
      "Successfully installed pymupdf-1.25.5\n"
     ]
    }
   ],
   "source": [
    "!pip install pymupdf requests"
   ]
  },
  {
   "cell_type": "code",
   "execution_count": 2,
   "metadata": {},
   "outputs": [],
   "source": [
    "import os\n",
    "import requests\n",
    "import fitz  # PyMuPDF\n",
    "\n",
    "# Sample arXiv paper IDs related to diffusion models\n",
    "arxiv_ids = [ \"2210.05274\",  # Equivariant 3D-Conditional Diffusion Models for Molecular Linker Design\n",
    "             ]\n",
    "\n",
    "def download_pdf(arxiv_id, output_folder):\n",
    "    url = f\"https://arxiv.org/pdf/{arxiv_id}.pdf\"\n",
    "    pdf_path = os.path.join(output_folder, f\"{arxiv_id}.pdf\")\n",
    "    response = requests.get(url)\n",
    "    with open(pdf_path, \"wb\") as f:\n",
    "        f.write(response.content)\n",
    "    print(f\"Downloaded {arxiv_id}\")\n",
    "    return pdf_path\n",
    "\n",
    "def pdf_to_text(pdf_path, txt_path):\n",
    "    doc = fitz.open(pdf_path)\n",
    "    text = \"\"\n",
    "    for page in doc:\n",
    "        text += page.get_text()\n",
    "    with open(txt_path, \"w\", encoding=\"utf-8\") as f:\n",
    "        f.write(text)\n",
    "    print(f\"Converted to text: {txt_path}\")\n"
   ]
  },
  {
   "cell_type": "code",
   "execution_count": 3,
   "metadata": {},
   "outputs": [
    {
     "name": "stdout",
     "output_type": "stream",
     "text": [
      "Downloaded 2210.05274\n",
      "Converted to text: data/2210.05274.txt\n"
     ]
    }
   ],
   "source": [
    "    data_dir = \"data\"\n",
    "    os.makedirs(data_dir, exist_ok=True)\n",
    "\n",
    "    for arxiv_id in arxiv_ids:\n",
    "        pdf_path = download_pdf(arxiv_id, data_dir)\n",
    "        txt_path = os.path.join(data_dir, f\"{arxiv_id}.txt\")\n",
    "        pdf_to_text(pdf_path, txt_path)"
   ]
  },
  {
   "cell_type": "code",
   "execution_count": 4,
   "metadata": {},
   "outputs": [],
   "source": [
    "\n",
    "def clean_text(text):\n",
    "    import re\n",
    "\n",
    "    # Remove URLs\n",
    "    text = re.sub(r\"http\\S+|www\\.\\S+\", \"\", text)\n",
    "\n",
    "    # Remove LaTeX math expressions\n",
    "    text = re.sub(r\"$.*?$\", \"\", text)\n",
    "\n",
    "    # Remove repeated words\n",
    "    text = re.sub(r\"\\b(\\w+)( \\1\\b)+\", r\"\\1\", text)\n",
    "\n",
    "    # Remove special characters\n",
    "    text = re.sub(r\"[^a-zA-Z0-9.,;:?!\\s]\", \"\", text)\n",
    "\n",
    "    # Pattern for common author name formats\n",
    "    pattern = r\"\\b([A-Z][a-z]+(?: [A-Z][a-z]+)*,? (?:[A-Z]\\.)?\\b(?: and [A-Z][a-z]+(?: [A-Z][a-z]+)*,? (?:[A-Z]\\.)?)+|\\b(?:et al\\.)\\b)\"\n",
    "    # Replace any matched author names with an empty string\n",
    "    text = re.sub(pattern, '', text)\n",
    "\n",
    "    # Remove excessive whitespace\n",
    "    text = re.sub(r'\\s+', ' ', text).strip()\n",
    "\n",
    "    return text\n",
    "\n",
    "def clean_text_remove_references(text):\n",
    "    # Remove extra newlines and empty lines\n",
    "    text = \"\\n\".join([line.strip() for line in text.splitlines() if line.strip() != \"\"])\n",
    "\n",
    "    # Cut off everything after 'References' or 'Bibliography'\n",
    "    refs_keywords = [\"references\", \"bibliography\"]\n",
    "    for keyword in refs_keywords:\n",
    "        idx = text.lower().find(keyword)\n",
    "        if idx != -1:\n",
    "            text = text[:idx]  # Keep text before the references section\n",
    "            break\n",
    "\n",
    "    # Remove sections related to funding or acknowledgments\n",
    "    text = re.sub(r\".*grant agreement.*|.*funding.*|.*acknowledg(e)?ment.*\", \"\", text, flags=re.IGNORECASE)\n",
    "\n",
    "    return text\n"
   ]
  },
  {
   "cell_type": "markdown",
   "metadata": {
    "id": "DKv51c_h9-9H"
   },
   "source": [
    "\n",
    "\n",
    "RAG:\n",
    "\n",
    "<img src=\"https://huggingface.co/datasets/huggingface/cookbook-images/resolve/main/RAG_workflow.png\" height=\"700\">\n",
    "\n"
   ]
  },
  {
   "cell_type": "code",
   "execution_count": 5,
   "metadata": {},
   "outputs": [
    {
     "name": "stdout",
     "output_type": "stream",
     "text": [
      "\u001b[2K     \u001b[90m━━━━━━━━━━━━━━━━━━━━━━━━━━━━━━━━━━━━━━\u001b[0m \u001b[32m647.5/647.5 kB\u001b[0m \u001b[31m25.8 MB/s\u001b[0m eta \u001b[36m0:00:00\u001b[0m\n",
      "\u001b[?25h  Preparing metadata (setup.py) ... \u001b[?25l\u001b[?25hdone\n",
      "\u001b[2K   \u001b[90m━━━━━━━━━━━━━━━━━━━━━━━━━━━━━━━━━━━━━━━━\u001b[0m \u001b[32m363.4/363.4 MB\u001b[0m \u001b[31m2.8 MB/s\u001b[0m eta \u001b[36m0:00:00\u001b[0m\n",
      "\u001b[2K   \u001b[90m━━━━━━━━━━━━━━━━━━━━━━━━━━━━━━━━━━━━━━━━\u001b[0m \u001b[32m13.8/13.8 MB\u001b[0m \u001b[31m117.9 MB/s\u001b[0m eta \u001b[36m0:00:00\u001b[0m\n",
      "\u001b[2K   \u001b[90m━━━━━━━━━━━━━━━━━━━━━━━━━━━━━━━━━━━━━━━━\u001b[0m \u001b[32m24.6/24.6 MB\u001b[0m \u001b[31m93.4 MB/s\u001b[0m eta \u001b[36m0:00:00\u001b[0m\n",
      "\u001b[2K   \u001b[90m━━━━━━━━━━━━━━━━━━━━━━━━━━━━━━━━━━━━━━━━\u001b[0m \u001b[32m883.7/883.7 kB\u001b[0m \u001b[31m58.9 MB/s\u001b[0m eta \u001b[36m0:00:00\u001b[0m\n",
      "\u001b[2K   \u001b[90m━━━━━━━━━━━━━━━━━━━━━━━━━━━━━━━━━━━━━━━\u001b[0m \u001b[32m664.8/664.8 MB\u001b[0m \u001b[31m821.1 kB/s\u001b[0m eta \u001b[36m0:00:00\u001b[0m\n",
      "\u001b[2K   \u001b[90m━━━━━━━━━━━━━━━━━━━━━━━━━━━━━━━━━━━━━━━━\u001b[0m \u001b[32m211.5/211.5 MB\u001b[0m \u001b[31m5.3 MB/s\u001b[0m eta \u001b[36m0:00:00\u001b[0m\n",
      "\u001b[2K   \u001b[90m━━━━━━━━━━━━━━━━━━━━━━━━━━━━━━━━━━━━━━━━\u001b[0m \u001b[32m56.3/56.3 MB\u001b[0m \u001b[31m16.8 MB/s\u001b[0m eta \u001b[36m0:00:00\u001b[0m\n",
      "\u001b[2K   \u001b[90m━━━━━━━━━━━━━━━━━━━━━━━━━━━━━━━━━━━━━━━━\u001b[0m \u001b[32m127.9/127.9 MB\u001b[0m \u001b[31m8.6 MB/s\u001b[0m eta \u001b[36m0:00:00\u001b[0m\n",
      "\u001b[2K   \u001b[90m━━━━━━━━━━━━━━━━━━━━━━━━━━━━━━━━━━━━━━━━\u001b[0m \u001b[32m207.5/207.5 MB\u001b[0m \u001b[31m6.0 MB/s\u001b[0m eta \u001b[36m0:00:00\u001b[0m\n",
      "\u001b[2K   \u001b[90m━━━━━━━━━━━━━━━━━━━━━━━━━━━━━━━━━━━━━━━━\u001b[0m \u001b[32m21.1/21.1 MB\u001b[0m \u001b[31m70.6 MB/s\u001b[0m eta \u001b[36m0:00:00\u001b[0m\n",
      "\u001b[2K   \u001b[90m━━━━━━━━━━━━━━━━━━━━━━━━━━━━━━━━━━━━━━━━\u001b[0m \u001b[32m76.1/76.1 MB\u001b[0m \u001b[31m7.3 MB/s\u001b[0m eta \u001b[36m0:00:00\u001b[0m\n",
      "\u001b[2K   \u001b[90m━━━━━━━━━━━━━━━━━━━━━━━━━━━━━━━━━━━━━━━━\u001b[0m \u001b[32m31.3/31.3 MB\u001b[0m \u001b[31m63.6 MB/s\u001b[0m eta \u001b[36m0:00:00\u001b[0m\n",
      "\u001b[2K   \u001b[90m━━━━━━━━━━━━━━━━━━━━━━━━━━━━━━━━━━━━━━━━\u001b[0m \u001b[32m491.4/491.4 kB\u001b[0m \u001b[31m31.2 MB/s\u001b[0m eta \u001b[36m0:00:00\u001b[0m\n",
      "\u001b[2K   \u001b[90m━━━━━━━━━━━━━━━━━━━━━━━━━━━━━━━━━━━━━━━━\u001b[0m \u001b[32m2.5/2.5 MB\u001b[0m \u001b[31m66.7 MB/s\u001b[0m eta \u001b[36m0:00:00\u001b[0m\n",
      "\u001b[2K   \u001b[90m━━━━━━━━━━━━━━━━━━━━━━━━━━━━━━━━━━━━━━━━\u001b[0m \u001b[32m45.7/45.7 kB\u001b[0m \u001b[31m2.4 MB/s\u001b[0m eta \u001b[36m0:00:00\u001b[0m\n",
      "\u001b[2K   \u001b[90m━━━━━━━━━━━━━━━━━━━━━━━━━━━━━━━━━━━━━━━━\u001b[0m \u001b[32m116.1/116.1 kB\u001b[0m \u001b[31m9.6 MB/s\u001b[0m eta \u001b[36m0:00:00\u001b[0m\n",
      "\u001b[2K   \u001b[90m━━━━━━━━━━━━━━━━━━━━━━━━━━━━━━━━━━━━━━━━\u001b[0m \u001b[32m116.3/116.3 kB\u001b[0m \u001b[31m7.5 MB/s\u001b[0m eta \u001b[36m0:00:00\u001b[0m\n",
      "\u001b[2K   \u001b[90m━━━━━━━━━━━━━━━━━━━━━━━━━━━━━━━━━━━━━━━━\u001b[0m \u001b[32m193.6/193.6 kB\u001b[0m \u001b[31m14.5 MB/s\u001b[0m eta \u001b[36m0:00:00\u001b[0m\n",
      "\u001b[2K   \u001b[90m━━━━━━━━━━━━━━━━━━━━━━━━━━━━━━━━━━━━━━━━\u001b[0m \u001b[32m143.5/143.5 kB\u001b[0m \u001b[31m10.6 MB/s\u001b[0m eta \u001b[36m0:00:00\u001b[0m\n",
      "\u001b[2K   \u001b[90m━━━━━━━━━━━━━━━━━━━━━━━━━━━━━━━━━━━━━━━━\u001b[0m \u001b[32m44.4/44.4 kB\u001b[0m \u001b[31m3.0 MB/s\u001b[0m eta \u001b[36m0:00:00\u001b[0m\n",
      "\u001b[2K   \u001b[90m━━━━━━━━━━━━━━━━━━━━━━━━━━━━━━━━━━━━━━━━\u001b[0m \u001b[32m16.0/16.0 MB\u001b[0m \u001b[31m72.0 MB/s\u001b[0m eta \u001b[36m0:00:00\u001b[0m\n",
      "\u001b[2K   \u001b[90m━━━━━━━━━━━━━━━━━━━━━━━━━━━━━━━━━━━━━━━━\u001b[0m \u001b[32m4.4/4.4 MB\u001b[0m \u001b[31m33.2 MB/s\u001b[0m eta \u001b[36m0:00:00\u001b[0m\n",
      "\u001b[2K   \u001b[90m━━━━━━━━━━━━━━━━━━━━━━━━━━━━━━━━━━━━━━━━\u001b[0m \u001b[32m194.8/194.8 kB\u001b[0m \u001b[31m9.2 MB/s\u001b[0m eta \u001b[36m0:00:00\u001b[0m\n",
      "\u001b[2K   \u001b[90m━━━━━━━━━━━━━━━━━━━━━━━━━━━━━━━━━━━━━━━━\u001b[0m \u001b[32m7.7/7.7 MB\u001b[0m \u001b[31m82.6 MB/s\u001b[0m eta \u001b[36m0:00:00\u001b[0m\n",
      "\u001b[2K   \u001b[90m━━━━━━━━━━━━━━━━━━━━━━━━━━━━━━━━━━━━━━━━\u001b[0m \u001b[32m40.8/40.8 kB\u001b[0m \u001b[31m2.8 MB/s\u001b[0m eta \u001b[36m0:00:00\u001b[0m\n",
      "\u001b[2K   \u001b[90m━━━━━━━━━━━━━━━━━━━━━━━━━━━━━━━━━━━━━━━━\u001b[0m \u001b[32m50.9/50.9 kB\u001b[0m \u001b[31m4.0 MB/s\u001b[0m eta \u001b[36m0:00:00\u001b[0m\n",
      "\u001b[2K   \u001b[90m━━━━━━━━━━━━━━━━━━━━━━━━━━━━━━━━━━━━━━━━\u001b[0m \u001b[32m305.5/305.5 kB\u001b[0m \u001b[31m23.2 MB/s\u001b[0m eta \u001b[36m0:00:00\u001b[0m\n",
      "\u001b[2K   \u001b[90m━━━━━━━━━━━━━━━━━━━━━━━━━━━━━━━━━━━━━━━━\u001b[0m \u001b[32m422.8/422.8 kB\u001b[0m \u001b[31m30.0 MB/s\u001b[0m eta \u001b[36m0:00:00\u001b[0m\n",
      "\u001b[2K   \u001b[90m━━━━━━━━━━━━━━━━━━━━━━━━━━━━━━━━━━━━━━━━\u001b[0m \u001b[32m53.6/53.6 kB\u001b[0m \u001b[31m3.9 MB/s\u001b[0m eta \u001b[36m0:00:00\u001b[0m\n",
      "\u001b[2K   \u001b[90m━━━━━━━━━━━━━━━━━━━━━━━━━━━━━━━━━━━━━━━━\u001b[0m \u001b[32m263.6/263.6 kB\u001b[0m \u001b[31m21.9 MB/s\u001b[0m eta \u001b[36m0:00:00\u001b[0m\n",
      "\u001b[2K   \u001b[90m━━━━━━━━━━━━━━━━━━━━━━━━━━━━━━━━━━━━━━━━\u001b[0m \u001b[32m302.3/302.3 kB\u001b[0m \u001b[31m26.8 MB/s\u001b[0m eta \u001b[36m0:00:00\u001b[0m\n",
      "\u001b[2K   \u001b[90m━━━━━━━━━━━━━━━━━━━━━━━━━━━━━━━━━━━━━━━━\u001b[0m \u001b[32m1.2/1.2 MB\u001b[0m \u001b[31m37.1 MB/s\u001b[0m eta \u001b[36m0:00:00\u001b[0m\n",
      "\u001b[2K   \u001b[90m━━━━━━━━━━━━━━━━━━━━━━━━━━━━━━━━━━━━━━━━\u001b[0m \u001b[32m129.3/129.3 kB\u001b[0m \u001b[31m10.8 MB/s\u001b[0m eta \u001b[36m0:00:00\u001b[0m\n",
      "\u001b[?25h  Building wheel for annoy (setup.py) ... \u001b[?25l\u001b[?25hdone\n",
      "\u001b[31mERROR: pip's dependency resolver does not currently take into account all the packages that are installed. This behaviour is the source of the following dependency conflicts.\n",
      "gcsfs 2025.3.2 requires fsspec==2025.3.2, but you have fsspec 2025.3.0 which is incompatible.\u001b[0m\u001b[31m\n",
      "\u001b[0m"
     ]
    }
   ],
   "source": [
    "!pip install -q torch transformers accelerate bitsandbytes langchain sentence-transformers faiss-cpu openpyxl pacmap datasets langchain-community ragatouille"
   ]
  },
  {
   "cell_type": "code",
   "execution_count": 6,
   "metadata": {},
   "outputs": [],
   "source": [
    "from tqdm.notebook import tqdm\n",
    "import pandas as pd\n",
    "from typing import Optional, List, Tuple\n",
    "import matplotlib.pyplot as plt\n",
    "import re\n",
    "pd.set_option(\n",
    "    \"display.max_colwidth\", None\n",
    ")  # This will be helpful when visualizing retriever outputs"
   ]
  },
  {
   "cell_type": "code",
   "execution_count": 7,
   "metadata": {},
   "outputs": [],
   "source": [
    "from langchain.docstore.document import Document as LangchainDocument\n",
    "\n",
    "# Read the text file\n",
    "with open(\"/content/data/2210.05274.txt\", \"r\", encoding=\"utf-8\") as f:\n",
    "    text = f.read()\n",
    "\n",
    "text = clean_text_remove_references(text)\n",
    "text = clean_text(text)\n",
    "\n",
    "# Create a list with one LangchainDocument\n",
    "RAW_KNOWLEDGE_BASE = [\n",
    "    LangchainDocument(page_content=text, metadata={\"source\": \"*.txt\"})\n",
    "]\n"
   ]
  },
  {
   "cell_type": "code",
   "execution_count": 8,
   "metadata": {},
   "outputs": [
    {
     "name": "stdout",
     "output_type": "stream",
     "text": [
      "Preprint EQUIVARIANT 3DCONDITIONAL DIFFUSION MODELS FOR MOLECULAR LINKER DESIGN Ilia Igashov EPFL ilia.igashovepfl.ch Hannes Stark Massachusetts Institute of Technology hstarkmit.edu Clement Vignac EPFL clement.vignacepfl.ch Victor Garcia Satorras Microsoft Research AI4Science victorgarmicrosoft.com Pascal Frossard EPFL pascal.frossardepfl.ch Max Welling Microsoft Research AI4Science maxwellingmicrosoft.com Michael Bronstein University of Oxford michael.bronsteincs.ox.ac.uk Bruno Correia EPFL bruno.correiaepfl.ch ABSTRACT Fragmentbased drug discovery has been an effective paradigm in earlystage drug development. An open challenge in this area is designing linkers between dis connected molecular fragments of interest to obtain chemicallyrelevant candi date drug molecules. In this work, we propose DiffLinker, an E3equivariant 3Dconditional diffusion model for molecular linker design. Given a set of dis connected fragments, our model places missing atoms in between and designs a molecule incorporating all the initial fragments. Unlike previous approaches that are only able to connect pairs of molecular fragments, our method can link an arbi trary number of fragments. Additionally, the model automatically determines the number of atoms in the linker and its attachment points to the input fragments. We demonstrate that DiffLinker outperforms other methods on the standard datasets generating more diverse and syntheticallyaccessible molecules. Besides, we ex perimentally test our method in realworld applications, showing that it can suc cessfully generate valid linkers conditioned on target protein pockets. 1 INTRODUCTION The space of pharmacologicallyrelevant molecules is estimated to exceed 1060 structures Virshup et al., 2013, and searching in that space poses signicant challenges for drug design. A successful approach to reduce the size of this space is to start from fragments, smaller molecular compounds that usually have no more than 20 heavy nonhydrogen atoms. This strategy is known as fragment based drug design FBDD Erlanson et al., 2016. Given a protein pocket a part of the target protein that employs suitable properties for binding a ligand, computationally determining fragments that interact with the pocket is a cheaper and more efcient alternative to experimental highthroughput screening methods Erlanson et al., 2016. Once the relevant fragments have been identied and docked to the target protein, it remains to combine them into a single, connected molecule. Among various strategies such as fragment linking, merging, and growing Lamoree Hubbard, 2017, the former has been preferred as it allows to boost rapidly the binding energy of the target and the compound Jencks, 1981; Hajduk et al., 1997. This work addresses the fragment linking problem. Early computational methods for molecular linker design were based on database search and phys ical simulations Sheng Zhang, 2013, both of which are computationally intensive. Therefore, 1 arXiv:2210.05274v1 cs.LG 11 Oct 2022 Preprint there is increasing interest for machine learning methods that can go beyond the available data and design diverse linkers more efciently. Existing approaches are either based on syntactic pattern recognition Yang et al., 2020 or on autoregressive models Imrie et al., 2020; 2021; Huang et al., 2022. While the former method operates solely on SMILES Weininger, 1988, the latter take into account 3D positions and orientations of the input fragments. However, these methods are not equivariant with respect to the permutation of atoms and can only combine pairs of fragments. Linker design depends on the target protein pocket, and using this information correctly can improve the afnity of the resulting overall compound. To date, however, there is no computational method for molecular linker design that takes the pocket into account. In this work, we introduce DiffLinker1, a conditional diffusion model that generates molecular link ers for a set of input fragments represented as a 3D atomic point cloud. First, our model generates the size of the prospective linker and then samples initial linker atom types and positions from the normal distribution. Next, the linker atom types and coordinates are iteratively updated using a neu ral network that is conditioned on the input fragments. Eventually, the denoised linker atoms and the input fragment atoms form a single connected molecule, as shown in Figure 1. DiffLinker enjoys several desirable properties: it is equivariant to translations, rotations, reections and permutations, it is not limited by the number of input fragments, it does not require information on the attachment atoms and generates linkers with no predened size. Besides, the conditioning mechanism of DiffLinker allows to pass additional information about the surrounding protein pocket atoms, which makes the model applicable in structurebased drug design applications Congreve et al., 2005. We empirically show that DiffLinker is more effective than previous methods in generating chemicallyrelevant linkers between pairs of fragments. Our method achieves the stateoftheart results in synthetic accessibility and druglikeness which makes it preferable for using in drug de sign pipelines. Besides, DiffLinker remarkably outperforms other methods in the diversity of the generated linkers. We further propose a more challenging benchmark and show that our method is able to successfully link more than two fragments, which cannot be done by the other methods. We also demonstrate that DiffLinker can be conditioned on the target protein pocket: our model respects geometric constraints imposed by the surrounding protein atoms and generates molecules that have minimum clashes with the corresponding pockets. To the best of our knowledge, DiffLinker is the rst method that is not limited by the number of input fragments and accounts the information about pockets. The overall goal of this work is to provide practitioners with an effective tool for molecular linker generation in realistic drug design scenarios. 2 RELATED WORK Molecular linker design has been widely used in the fragmentbased drug discovery community Sheng Zhang, 2013. Various de novo design methods refer to the fragment linking problem Tschinke Cohen, 1993; Miranker Karplus, 1995; Roe Kuntz, 1995; Pearlman Murcko, 1996; Stahl et al., 2002; Thompson et al., 2008; Ichihara et al., 2011. Early fragment linking methods were based on search in the predened libraries of linkers Bohm, 1992; Lauri Bartlett, 1994, genetic algorithm, tabu search Glover, 1986 and force eld optimization Dey Caisch, 2008. Having been successfully used in multiple application cases Ji et al., 2003; Silverman, 2009; Sheng Zhang, 2011, these methods are however computationally expensive and substantially limited by the available data. Hence, there has recently been interest in developing learningbased methods for molecular linker design. Yang et al. 2020 proposed SyntaLinker, a SMILESbased deep conditional transformer neural network that solves a sentence completion problem Zweig et al., 2012. This method inherits the drawbacks of SMILES, which are the absence of 3D structure and the lack of consistency atoms that are close in the molecule can be far away in the SMILES string. Imrie et al. 2020 overcome these limitations by introducing an autoregressive model DeLinker and its extension DEVELOP Imrie et al., 2021 that uses additional pharmacophore information. Although these methods op erate on 3D molecular conformations, they use a very limited geometric information and require input on the attachment atoms of the fragments. Recently, Huang et al. 2022 have proposed an 1 2 Preprint 4 3 5 6 7 Linker Size Prediction Generative Denoising Process Input Fragments Graph NN Linker Size Prob Sample Linker Size Figure 1: Top Overview of the molecular linker generation process. First, probabilities of linker sizes are computed for the input fragments. Next, linker atoms are sampled and denoised using our fragmentconditioned equivariant diffusion model. Bottom Example of the linker generation process. Linker atoms are highlighted in orange. other autoregressive method 3DLinker that does not require one to specify attachment points and leverages the geometric information to a much greater extent. It makes this approach more relevant for connecting docked fragments. As both DeLinker and 3DLinker are autoregressive models, they are not permutation equivariant which limits their sample efciency and ability to scale to large molecules Elesedy Zaidi, 2021; Rath Condurache, 2022. Besides, these methods are capable of connecting only pairs of fragments and cannot be easily extended to larger sets of fragments. Outside of the linker design problem, several recent works proposed denoising diffusion models for molecular data in 3D. Conformer generation methods GeoDiff Xu et al., 2022 and ConfGF Shi et al., 2021 condition the model on the adjacency matrix of the molecular graph. Since they have access to the connectivity information, they can compute torsion angles between atoms and optimize them Jing et al., 2022. Equivariant Diffusion Model EDM Hoogeboom et al., 2022 generates 3D molecules from scratch and is able to be conditioned on the predened scalar prop erties. Another diffusion model has been recently proposed for designing protein scaffolds given protein motifs Trippe et al., 2022. Having the conditional sampling procedure, this model is how ever trained in an unconditional setup. Finally, Luo et al. 2022 proposed a model for antibody design which combines discrete diffusion for the molecular graphs and continuous diffusion on the 3D coordinates. The conditioning mechanism proposed in this work is the closest to ours, but their model is targeted at generating chains of amino acids rather than atomic point clouds. 3 PRELIMINARIES 3.1 DIFFUSION MODELS Diffusion models SohlDickstein et al., 2015 are a class of generative methods that consist of a diffusion process, which progressively distorts a data point mapping it to a noise, and a generative denoising process which approximates the reverse of the diffusion process. The diffusion process iteratively adds noise to a data point x in order to progressively transform it into the Gaussian noise. At a time step t 0, . . . , T, the conditional distribution of the intermediate data state zt given the previous state is dened by the multivariate normal distribution, qztzt1 Nzt; tzt1, 2 tI, 1 where t R controls how much signal is retained and t R controls how much noise is added. By hypothesis, the full transition model is Markov, so that it can be written: qz0, z1, . . . , zT x qz0x T Y t1 qztzt1. 2 3 Preprint Since the distribution q is normal, a simple formula for the distribution of zt given x can be derived: qztx Nzttx, 2 t I, 3 where t tt1 and 2 t 2 t 2 t2 t1. This closedform expression shows that noise does not need to be added iteratively to x in order to achieve an intermediate state zt. Another key property of Gaussian noise is that the reverse of the diffusion process, the true denoising process, also admits a closedform solution when conditioned on x: qzt1x, zt Nzt1; tx, zt, 2 t I, 4 where distribution parameters can be obtained analytically: tx, zt t2 t1 2 t zt s2 t 2 t x and t tt1 t . 5 This formula simply describes that if a diffusion trajectory starts at x and ends at zT , then the expected value of any intermediate state is an interpolation between x and zT . The second component of a diffusion model is the generative denoising process that learns to invert this trajectory having the data point x unknown. The generative transition distribution is dened as: pzt1zt qzt1x, zt, 6 where x is an approximation of the data point x computed by a neural network . Ho et al. 2020 have empirically shown that it works better to predict the Gaussian noise t zt, t instead, and then estimate the data point x using Equation 3: x 1tzt ttt. 7 The neural network is trained to maximize an evidence lower bound to the likelihood of the data under the model. Up to a prefactor that depends on t, this objective is equivalent to the mean squared error between predicted and true noise Ho et al., 2020; Kingma et al., 2021. We therefore use the simplied objective Lt t2 that can be optimized by minibatch gradient descent using an estimator EtU0,...,T T Lt. Finally, once the network is trained, it can be used to sample new data points. For this purpose, one rst samples the Gaussian noise: zT N0, I. Then, for t T, . . . , 1, one should iteratively sample zt1 pzt1zt and nally sample x pxz0. 3.2 DIFFUSION FOR MOLECULES Molecule Representation We consider now diffusion models that can operate on molecules rep resented as 3D atomic point clouds. A data point x, which is an attributed point cloud consisting of M atoms, is represented by atom coordinates r r1, . . . , rM RM3 and the correspond ing feature vectors h h1, . . . , hM RMnf which are onehot encoded atom types. We will therefore denote point cloud x as a tuple x r, h. Categorical Features Along with continuous atom coordinates, a molecular diffusion model has to operate on atom types that are discrete variables. While categorical diffusion models do exist Hoogeboom et al., 2021; Austin et al., 2021, we follow a simpler strategy Hoogeboom et al., 2022 that is based on lifting the atom types to a continuous space: we consider a onehot encoding of the discrete variables, and add Gaussian noise on top of it. In the end of the denoising process, once z0 is sampled, the continuous values corresponding to the atom types should be converted back to discrete values. We consider the argmax over the different categories and include it in the nal transition from z0 to x. For more details on the structure of the nal transition distribution pxz0 and likelihood computation in this setting, we refer the reader to Hoogeboom et al., 2022. Equivariance Processing 3D molecules requires operations that respect data symmetries. In this work, we consider the Euclidean group E3 that comprises translations, rotations and reections of R3 and the orthogonal group O3 that includes rotations and reections of R3. A function f : R3 R3 is E3equivariant if fRx t Rfx t for any orthogonal matrix R R33, det R 1, for any translation vector t R3 and for any x R3. Note that for simplicity 4 Preprint we use notation Rx Rx1, . . . , RxM. A conditional distribution pxy is E3equivariant if pRx tRy t pxy for any x, y R3. A function f and a distribution p are O3 equivariant if fRx Rfx and pRxRy pxy respectively. We call the function f translation invariant if fx t fx. 4 DIFFLINKER: EQUIVARIANT 3DCONDITIONAL DIFFUSION MODEL FOR MOLECULAR LINKER DESIGN In this section, we introduce DiffLinker, a new E3equivariant diffusion model for generating molecular linkers conditioned on 3D fragments. We formulate equivariance requirements for the underlying denoising distributions in Section 4.1 and propose an appropriate learnable dynamic function in Section 4.2. We discuss the strategy of sampling the size of a linker and conditioning on protein pockets in Sections 4.3 and 4.4 respectively. The full linker generation workow is schemat ically represented in Figure 1 and the overview of DiffLinker training and sampling procedures is provided in Algorithms 1 and 2 correspondingly. 4.1 EQUIVARIANT 3DCONDITIONAL DIFFUSION MODEL Unlike other diffusion models for molecule generation Hoogeboom et al., 2022; Xu et al., 2022, our method is conditioned on threedimensional data. More specically, we assume that each point cloud x has a corresponding context u, which is another point cloud consisting of all input fragments and optionally protein pocket atoms that remain unchanged throughout the diffusion and denoising processes, as shown in Figure 1. Hence, we consider the generative process from Equation 6 to operate on point cloud x while being conditioned on the xed corresponding context: pzt1zt, u qzt1x, zt, where x 1tzt ttzt, u, t. 8 The presence of a 3D context puts additional requirements on the generative process as it should be equivariant to its transformations. Proposition 1 Consider a prior noise distribution pzT u NzT ; fu, I and transition dis tributions pzt1zt, u qzt1x, zt, where q is an isotropic Gaussian, f : RM3 R3 is a function operating on 3D point clouds, and x is an approximation computed by the neural network according to Equation 8. Let the conditional denoising probabilistic model p be a Markov chain dened as pz0, z1, . . . , zT u pzT u T Y t1 pzt1zt, u. 9 If f is O3equivariant and is equivariant to joint O3transformations of zt and u, then pz0u is O3equivariant. The choice of the function f highly depends on the problem being solved and the available priors. In our experiments, we consider two cases. First, following Imrie et al., 2020, we make use of the information about atoms that should be connected by the linker. We call these atoms anchors and dene fu as the anchors center of mass. However, in realworld scenarios it is unlikely to know which atoms should be the anchors. In this case we dene fu as the center of mass of the whole context u. We note that the probabilistic model p is not equivariant to translations, as shown in Appendix A.2. To overcome this issue and make the generative process independent of translations, we construct the network to be additionally translation invariant. Then, instead of sampling the initial noise from Nfu, I we center the data at fu and sample from N0, I. 4.2 EQUIVARIANT GRAPH NEURAL NETWORK The learnable function that models the dynamics of the diffusion model is implemented as a modied E3equivariant graph neural network EGNN Satorras et al., 2021. Its input is the noisy version of the linker zt at time t and the context u. These two parts are modeled as a single fullyconnected graph where nodes are represented by coordinates r and feature vectors h that 5 Preprint include atom types, time t, fragment ags and optionally anchor ags. The predicted noise includes coordinate and feature components: r, h. In order to make function invariant to translations, we subtract the initial coordinates from the coordinate component of the predicted noise following Hoogeboom et al. 2022: r, h zt, u, t EGNNzt, u, t zr t , 0. 10 EGNN consists of the composition of Equivariant Graph Convolutional Layers rl1, hl1 EGCLrl, hl which are dened as follows: mij ehl i, hl j, d2 ij, hl1 i hhl i, X ji mij, rl1 i rl i velrl, hl, i, 11 where dij rl i rl jand e, h are learnable functions parametrized by fully connected neural networks see Appendix A.4 for details. The latter update for the node coordinates is computed by the learnable function vel. Note that our graph includes both a noisy linker zt and a xed context u, and is intended to predict the noise that should be subtracted from the coordinates and features of zt. Therefore, it is natural to keep the context coordinates unchanged when computing dynamics and to apply nonzero displacements only to the linker part at each EGCL step. Hence, we model the node displacements as follows, velrl, hl, i P ji rl irl j dij1 rhl i, hl j, d2 ij if node i belongs to the point cloud zt, 0 if node i belongs to the context u, 12 where r is a learnable function parametrized by a fully connected neural network. The equivariance of convolutional layers is achieved by construction. The messages e and the node updates h depend only on scalar node features and distances between nodes that are E3invariant. Coordinate updates vel additionally depend linearly on the difference between coordinate vectors rl i and rl j, which makes them E3equivariant. After the sequence of EGCLs is applied, we have an updated graph with new node coordinates r ur, zr t and new node features h uh, zh t . Since we are interested only in the linkerrelated part, we discard the coordinates and features of context nodes and consider the tuple zr t , zh t to be the EGNN output. 4.3 LINKER SIZE PREDICTION To predict the size of the missing linker between a set of fragments, we represent fragments as a fullyconnected graph with onehot encoded atom types as node features and distances between nodes as edge features. From this, a separately trained GNN see Appendix A.5 for details produces probabilities for the linker size. Our assumption is that relative fragment positions and orientations along with atom types contain all the information essential for predicting most likely size of the prospective linker. When generating a linker, we rst sample its size with the predicted probabilities from the categorical distribution over the list of linker sizes seen in the training data, as shown in Figure 1. 4.4 PROTEIN POCKET CONDITIONING In realworld fragmentbased drug design applications, it often occurs that fragments are selected and docked into a target protein pocket Igashov et al., 2022. To propose a drug candidate molecule, the fragments have to be linked. When generating the linker, one should take the surrounding pocket into account and construct a linker that has no clashes with protein pocket atoms in other words, the conguration of the linker and pocket atoms should be physicallyrealistic and keeps the binding strength high. To add pocket conditioning to DiffLinker, we represent a protein pocket as an atomic point cloud and consider it as a part of the context u cf. Section 4.1. We also extend node features with an additional binary ag marking atoms that belong to the protein pocket. Finally, as the new context point cloud contains much more atoms, we modify the joint representation of the data point zt and the context u that are passed to the neural network . Instead of considering fullyconnected graphs, we assign edges between nodes based on a 4 A distance cutoff as it makes the resulting graphs less dense and counterbalances the increase in the number of nodes. 6 Preprint Numbers of clashes in DiLinker samples with dierent pocket representations Reference Full Pocket Backbone No Pocket 0 10 20 30 40 50 Number of clashes PocketConditioned Samples Unconditioned Samples Input Fragments True Molecule Figure 2: Left Examples of linkers sampled by DiffLinker conditioned on pocket atoms top row and unconditioned bottom row. Linkers sampled by the unconditioned model have multiple clashes with the protein pocket. Right Distribution of numbers of clashes in reference test molecules and samples from three DiffLinker models differently conditioned or unconditioned on pocket atoms. 5 EXPERIMENTS 5.1 DATASETS ZINC We follow Imrie et al. 2020 and consider a subset of 250,000 molecules randomly se lected by GomezBombarelli et al. 2018 from ZINC database Irwin Shoichet, 2005. First, we generate 3D conformers using RDKit Landrum, 2013 and dene a reference 3D structure for each molecule by selecting the lowest energy conformation. Then, these molecules are fragmented by enumerating all double cuts of acyclic single bonds that are not within functional groups. The resulting splits are ltered by the number of atoms in the linker and fragments, synthetic accessibil ity Ertl Schuffenhauer, 2009, ring aromaticity, and panassay interference compounds PAINS Baell Holloway, 2010 criteria. One molecule can therefore result in various combinations of two fragments with a linker in between. The resulting dataset is randomly split into train 438,610 examples, validation 400 examples, and test 400 examples sets. CASF Another evaluation benchmark used by Imrie et al. 2020 is taken from the CASF2016 dataset Su et al., 2018. In contrast to ZINC, where molecule conformers were generated compu tationally, CASF includes experimentally veried 3D conformations. Following the same prepro cessing procedures as for the ZINC dataset, Imrie et al. 2020 obtained an additional test set of 309 examples, which we use in our work. GEOM ZINC and CASF datasets used in previous works only contain pairs of fragments. How ever, realworld applications often require connecting more than two fragments with one or more linkers Igashov et al., 2022. To address this case, we construct a new dataset based on GEOM molecules Axelrod GomezBombarelli, 2022 which we decompose into three or more frag ments with one or two linkers connecting them. To achieve such splits, we use RDKit implemen tations of two fragmentation techniques an MMPAbased algorithm Dossetter et al., 2013 and BRICS Degen et al., 2008 and combine results removing duplicates. Overall, we obtain 41,907 molecules and 285,142 fragmentations that are randomly split in train 282,602 examples, valida tion 1,250 examples and test 1,290 examples sets. Pockets Dataset In order to assess the ability of DiffLinker to generate valid linkers given addi tional information about protein pockets, we use the proteinligand dataset curated by Anonymous 2023 from Binding MOAD Hu et al., 2005. To dene pockets, we consider amino acids that have at least one atom closer than 6 A to any atom of the ligand. All atoms belonging to these residues constitute the pocket. We split molecules into fragments using RDKits implementation of MMPAbased algorithm Dossetter et al., 2013. We randomly split the resulting data into train 185,678 examples, validation 490 examples and test 566 examples sets taking into account Enzyme Commission EC numbers of the proteins. 7 Preprint Table 1: Performance metrics on ZINC, CASF and GEOM test sets. The rst three metrics assess the chemical relevance of the generated molecules. The last three metrics evaluate the standard generative properties of the methods. Method QED SA Rings Valid, Unique, Novel, ZINC DeLinker ConfVAE MMFF 0.64 3.11 0.21 98.3 44.2 47.1 3DLinker given anchors 0.65 3.11 0.23 99.3 29.0 41.2 3DLinker 0.65 3.14 0.24 71.5 29.2 41.9 DiffLinker 0.68 3.01 0.25 93.8 24.0 30.3 DiffLinker given anchors 0.68 3.03 0.26 97.6 22.7 32.4 DiffLinker sampled size 0.65 3.19 0.32 90.6 51.4 42.9 DiffLinker given anchors, sampled size 0.65 3.24 0.36 94.8 50.9 47.7 CASF DeLinker ConfVAE MMFF 0.35 4.05 0.35 95.7 51.6 55.6 DiffLinker 0.41 4.00 0.34 85.3 40.5 41.8 DiffLinker given anchors 0.40 4.03 0.38 90.2 37.3 48.4 DiffLinker sampled size 0.40 4.06 0.30 63.7 60.0 49.3 DiffLinker given anchors, sampled size 0.40 4.10 0.38 68.4 57.1 56.9 GEOM 3DLinker 0.36 3.56 0.00 16.3 73.7 DiffLinker 0.48 2.99 0.75 94.0 34.7 68.6 DiffLinker given anchors 0.49 3.01 0.79 94.0 35.0 68.4 DiffLinker sampled size 0.45 3.27 0.75 87.2 62.4 76.0 DiffLinker given anchors, sampled size 0.46 3.33 0.83 88.8 63.6 76.0 5.2 EVALUATION Metrics First, we report several chemical properties of the generated molecules that are espe cially important in drug design applications: average quantitative estimation of druglikeness QED Bickerton et al., 2012, average synthetic accessibility SA Ertl Schuffenhauer, 2009 and aver age number of rings in the linker. Next, following Imrie et al. 2020, we measure validity, unique ness and novelty of the samples. We then determine if the generated linkers are consistent with the 2D lters used to produce the ZINC training set. These lters are explained in detail in Appendix A.9. In addition, we record the percentage of the original molecules that were recovered by the gen eration process. To compare the 3D shapes of the sampled and groundtruth molecules, we estimate the Root Mean Squared Deviation RMSD between the generated and real linker coordinates in the cases where true molecules are recovered. We also compute the SCRDKit metric that evaluates the geometric and chemical similarity between the groundtruth and generated molecules Putta et al., 2005; Landrum et al., 2006. Baselines We compare our method with DeLinker Imrie et al., 2020 and 3DLinker Huang et al., 2022 on the ZINC test set and with DeLinker on the CASF dataset. Besides, we adjust 3DLinker to connect more than two fragments see Appendix A.6 for details and evaluate its performane on the GEOM dataset. To obtain 3D conformations for the molecules generated by DeLinker on ZINC and CASF, we apply a pretrained ConfVAE Xu et al., 2021 followed by a force eld relaxation procedure. For all methods including ours, we generate linkers with the groundtruth size unless explicitly noted otherwise. To obtain SMILES representations of atomic point clouds generated by our models, we utilize OpenBabel OBoyle et al., 2011 to compute covalent bonds between atoms. We also use OpenBabel to rebuild covalent bonds for the molecules in test sets in order to correctly compute the recovery rate, RMSD and SCRDKit scores for our models. In ZINC and CASF experiments, we sample 250 linkers for each input pair of fragments. For the GEOM dataset and in experiments with pocket conditioning, we sample 100 linkers for each input set of fragments. 5.3 RESULTS ZINC and CASF While our models have much greater exibility and applicability in more appli cations as we show below, they also outperform other methods on standard benchmarks ZINC and CASF in terms of chemical relevance of the generated molecules. As shown in Table 1, molecules sampled by DiffLinker are more synthetically accessible and demonstrate higher druglikeness, which is especially important for drug design applications. Besides, our models generate linkers containing more rings. Moreover, our molecules usually share higher chemical and geometric sim 8 Preprint Table 2: Metrics assessing the ability of the methods to generate molecules that are chemically and geometrically similar to the reference ones. SCRDKit Method 2D Filters, Recovery, RMSD 0.7 0.8 0.9 Avg ZINC DeLinker ConfVAE MMFF 84.88 80.2 5.48 3.73 0.61 0.09 0.49 3DLinker given anchors 84.24 94.0 0.10 99.86 97.05 63.78 0.92 3DLinker 83.72 93.5 0.11 99.83 96.22 63.63 0.92 DiffLinker 86.26 82.0 0.34 99.72 94.62 67.85 0.93 DiffLinker given anchors 84.36 87.2 0.32 99.96 97.02 71.73 0.94 DiffLinker sampled size 87.98 70.7 0.34 99.37 90.21 51.90 0.90 DiffLinker given anchors, sampled size 84.76 77.5 0.35 99.67 95.04 56.35 0.91 CASF DeLinker ConfVAE MMFF 77.25 52.8 11.89 1.24 0.19 0.03 0.39 DiffLinker 87.73 42.8 0.44 92.17 79.62 50.14 0.84 DiffLinker given anchors 82.37 50.2 0.37 95.07 89.05 60.63 0.86 DiffLinker sampled size 89.27 40.5 0.34 92.83 79.12 43.99 0.82 DiffLinker given anchors, sampled size 82.08 48.8 0.32 94.52 87.90 55.25 0.84 GEOM 3DLinker 94.10 0.0 60.63 29.30 8.22 0.72 DiffLinker 49.56 86.8 0.12 96.11 89.09 73.56 0.93 DiffLinker given anchors 51.38 86.2 0.11 95.73 88.24 72.39 0.93 DiffLinker sampled size 56.35 70.9 0.07 92.38 82.67 58.39 0.88 DiffLinker given anchors, sampled size 58.41 70.8 0.07 91.63 80.98 56.16 0.88 ilarity with the reference molecules as demonstrated by the SCRDKit scores in Table 2. In terms of validity, our models perform on par with the other methods. Note that both autoregressive ap proaches employ valency rules at each generation step explicitly, while our model is shown to be able to learn these rules from the data. Remarkably, the validity of the reference molecules from CASF with covalent bonds computed by OpenBabel is 92.2 while our model generated molecules with 90.2 validity. Notably, sampling the size of the linker signicantly improves novelty and uniqueness of the generated linkers without signicant degradation of the most important metrics. Examples of linkers generated by DiffLinker for different input fragments are provided in Figure 5. Multiple Fragments The major advantage of DiffLinker compared to recently proposed autore gressive models DeLinker and 3DLinker is oneshot generation of the whole linker between arbitrary amounts of fragments. This overcomes the limitation of DeLinker and 3DLinker, which can only link two fragments at a time. Although these autoregressive models can be adjusted to connect pairs of fragments iteratively while growing the molecule, the full context cannot be taken into ac count in this case. Therefore, suboptimal solutions are more likely to be produced. To illustrate this difference, we adapted 3DLinker to iteratively connect pairs of fragments in molecules where more than two fragments should be connected. As shown in Table 1, 3DLinker fails to construct valid molecules in almost 84 of cases and cannot recover any reference molecule while, despite the higher complexity of linkers in this dataset, our models achieve 94 validity and recover more than 50 of the reference molecules. Besides, molecules generated by 3DLinker have no rings in the linkers, have substantially lower QED and are much harder to synthesize. Examples of linkers generated by DiffLinker for different input fragments are provided in Figure 4. An example of the DiffLinker sampling process for the molecule from the GEOM dataset is shown in Figure 1. Protein Pocket Conditioning To illustrate the ability of DiffLinker to take surrounding pockets into account, we trained three models on the Pockets Dataset: these are respectively conditioned on the fullatomic pocket representation, conditioned on the pocket backbone atoms and unconditioned. Besides the standard metrics reported in Tables 5 and 6, we also compute the number of clashes between generated molecules and surrounding pockets. We say that there is a clash between two atoms if the distance between them is lower than the sum of their van der Waals radii. As shown in Figure 2, the model conditioned on the fullatomic pocket representation generates molecules with almost the same amount of clashes in average 7 clashes per molecule as in the reference complexes from the test set in average 6 clashes per molecule. There is a clear trend on the number of clashes depending on the amount of information about pockets DiffLinker is conditioned on: the model conditioned on pocket backbone atoms generates molecules with 14 clashes in average, and the unconditioned model produces molecules with 21 clashes in average. 9 Preprint 6 CONCLUSION In this work, we introduced DiffLinker, a new E3equivariant 3Dconditional diffusion model for molecular linker design. DiffLinker designs realistic molecules from a set of disconnected fragments by generating a linker, i.e., an atomic point cloud that interconnects the input fragments. While previous methods were only capable to connect pairs of fragments, DiffLinker naturally scales to an arbitrary number of fragments. Our method does not require to specify the attachment points of the fragments and predicts the distribution of linker size from the fragments. We show that the proposed method outperforms other models on standard benchmarks and produces more chemicallyrelevant molecules. Besides, we demonstrate that our model can be conditioned on protein pockets and generate linkers with a minimum number of clashes. We believe that our method will accelerate the development of prospective drug candidates and has the potential to become widely used in the fragmentbased drug design community. We thank Arne Schneuing, Yuanqi Du, and Joshua Southern for helpful feedback and insightful dis Vignac would like to thank the Swiss Data Science Center for supporting him through the PhD fellowship program grant P1811.\n"
     ]
    }
   ],
   "source": [
    "print(text)"
   ]
  },
  {
   "cell_type": "markdown",
   "metadata": {
    "id": "Kr6rN10U9-9J"
   },
   "source": [
    "### Load your knowledge base"
   ]
  },
  {
   "cell_type": "markdown",
   "metadata": {
    "id": "0_LxjD5h9-9K"
   },
   "source": [
    "given a user question, find the most relevant snippets from our knowledge base to answer that question.\n",
    "\n",
    "How many snippets should we retrieve? This parameter will be named `top_k`.\n",
    "\n",
    "How long should these snippets be? This is called the `chunk size`."
   ]
  },
  {
   "cell_type": "code",
   "execution_count": 9,
   "metadata": {},
   "outputs": [],
   "source": [
    "from langchain.text_splitter import RecursiveCharacterTextSplitter\n",
    "\n",
    "# We use a hierarchical list of separators specifically tailored for splitting Markdown documents\n",
    "# This list is taken from LangChain's MarkdownTextSplitter class\n",
    "SEPARATORS = [\n",
    "    \"\\n\",\n",
    "    \" \",\n",
    "]\n",
    "\n",
    "text_splitter = RecursiveCharacterTextSplitter(\n",
    "    chunk_size=1000,  # The maximum number of characters in a chunk: we selected this value arbitrarily\n",
    "    chunk_overlap=100,  # The number of characters to overlap between chunks\n",
    "    add_start_index=True,  # If `True`, includes chunk's start index in metadata\n",
    "    strip_whitespace=True,  # If `True`, strips whitespace from the start and end of every document\n",
    "    separators=SEPARATORS,\n",
    ")\n",
    "\n",
    "docs_processed = []\n",
    "for doc in RAW_KNOWLEDGE_BASE:\n",
    "    docs_processed += text_splitter.split_documents([doc])"
   ]
  },
  {
   "cell_type": "code",
   "execution_count": 10,
   "metadata": {},
   "outputs": [
    {
     "data": {
      "text/plain": [
       "Document(metadata={'source': '*.txt', 'start_index': 0}, page_content='Preprint EQUIVARIANT 3DCONDITIONAL DIFFUSION MODELS FOR MOLECULAR LINKER DESIGN Ilia Igashov EPFL ilia.igashovepfl.ch Hannes Stark Massachusetts Institute of Technology hstarkmit.edu Clement Vignac EPFL clement.vignacepfl.ch Victor Garcia Satorras Microsoft Research AI4Science victorgarmicrosoft.com Pascal Frossard EPFL pascal.frossardepfl.ch Max Welling Microsoft Research AI4Science maxwellingmicrosoft.com Michael Bronstein University of Oxford michael.bronsteincs.ox.ac.uk Bruno Correia EPFL bruno.correiaepfl.ch ABSTRACT Fragmentbased drug discovery has been an effective paradigm in earlystage drug development. An open challenge in this area is designing linkers between dis connected molecular fragments of interest to obtain chemicallyrelevant candi date drug molecules. In this work, we propose DiffLinker, an E3equivariant 3Dconditional diffusion model for molecular linker design. Given a set of dis connected fragments, our model places missing atoms in between and designs a molecule')"
      ]
     },
     "execution_count": 10,
     "metadata": {},
     "output_type": "execute_result"
    }
   ],
   "source": [
    "docs_processed[0]"
   ]
  },
  {
   "cell_type": "code",
   "execution_count": 11,
   "metadata": {},
   "outputs": [
    {
     "data": {
      "text/plain": [
       "Document(metadata={'source': '*.txt', 'start_index': 8999}, page_content='molecular graph. Since they have access to the connectivity information, they can compute torsion angles between atoms and optimize them Jing et al., 2022. Equivariant Diffusion Model EDM Hoogeboom et al., 2022 generates 3D molecules from scratch and is able to be conditioned on the predened scalar prop erties. Another diffusion model has been recently proposed for designing protein scaffolds given protein motifs Trippe et al., 2022. Having the conditional sampling procedure, this model is how ever trained in an unconditional setup. Finally, Luo et al. 2022 proposed a model for antibody design which combines discrete diffusion for the molecular graphs and continuous diffusion on the 3D coordinates. The conditioning mechanism proposed in this work is the closest to ours, but their model is targeted at generating chains of amino acids rather than atomic point clouds. 3 PRELIMINARIES 3.1 DIFFUSION MODELS Diffusion models SohlDickstein et al., 2015 are a class of generative methods that')"
      ]
     },
     "execution_count": 11,
     "metadata": {},
     "output_type": "execute_result"
    }
   ],
   "source": [
    "docs_processed[10]"
   ]
  },
  {
   "cell_type": "markdown",
   "metadata": {
    "id": "d5jJUMgb9-9M"
   },
   "source": [
    "We also have to keep in mind that when embedding documents, we will use an embedding model that accepts a certain maximum sequence length `max_seq_length`.\n",
    "\n",
    "So we should make sure that our chunk sizes are below this limit because any longer chunk will be truncated before processing, thus losing relevancy."
   ]
  },
  {
   "cell_type": "code",
   "execution_count": 12,
   "metadata": {},
   "outputs": [
    {
     "name": "stderr",
     "output_type": "stream",
     "text": [
      "/usr/local/lib/python3.11/dist-packages/huggingface_hub/utils/_auth.py:94: UserWarning: \n",
      "The secret `HF_TOKEN` does not exist in your Colab secrets.\n",
      "To authenticate with the Hugging Face Hub, create a token in your settings tab (https://huggingface.co/settings/tokens), set it as secret in your Google Colab and restart your session.\n",
      "You will be able to reuse this secret in all of your notebooks.\n",
      "Please note that authentication is recommended but still optional to access public models or datasets.\n",
      "  warnings.warn(\n"
     ]
    },
    {
     "data": {
      "application/vnd.jupyter.widget-view+json": {
       "model_id": "6036599915894c639ddddc35501a43d7",
       "version_major": 2,
       "version_minor": 0
      },
      "text/plain": [
       "modules.json:   0%|          | 0.00/385 [00:00<?, ?B/s]"
      ]
     },
     "metadata": {},
     "output_type": "display_data"
    },
    {
     "data": {
      "application/vnd.jupyter.widget-view+json": {
       "model_id": "cdba2d5d5a874d96b376265968cab0ef",
       "version_major": 2,
       "version_minor": 0
      },
      "text/plain": [
       "README.md:   0%|          | 0.00/68.1k [00:00<?, ?B/s]"
      ]
     },
     "metadata": {},
     "output_type": "display_data"
    },
    {
     "data": {
      "application/vnd.jupyter.widget-view+json": {
       "model_id": "e4e623d014fc4c129e046e9c176d750f",
       "version_major": 2,
       "version_minor": 0
      },
      "text/plain": [
       "sentence_bert_config.json:   0%|          | 0.00/57.0 [00:00<?, ?B/s]"
      ]
     },
     "metadata": {},
     "output_type": "display_data"
    },
    {
     "data": {
      "application/vnd.jupyter.widget-view+json": {
       "model_id": "1400ae0b6ab54d179004acface04f4a5",
       "version_major": 2,
       "version_minor": 0
      },
      "text/plain": [
       "config.json:   0%|          | 0.00/583 [00:00<?, ?B/s]"
      ]
     },
     "metadata": {},
     "output_type": "display_data"
    },
    {
     "data": {
      "application/vnd.jupyter.widget-view+json": {
       "model_id": "fc823dba582c4b1c855bf036b00cdddc",
       "version_major": 2,
       "version_minor": 0
      },
      "text/plain": [
       "model.safetensors:   0%|          | 0.00/66.7M [00:00<?, ?B/s]"
      ]
     },
     "metadata": {},
     "output_type": "display_data"
    },
    {
     "data": {
      "application/vnd.jupyter.widget-view+json": {
       "model_id": "41b24b26072f40f29602dbac4ee22eaa",
       "version_major": 2,
       "version_minor": 0
      },
      "text/plain": [
       "tokenizer_config.json:   0%|          | 0.00/394 [00:00<?, ?B/s]"
      ]
     },
     "metadata": {},
     "output_type": "display_data"
    },
    {
     "data": {
      "application/vnd.jupyter.widget-view+json": {
       "model_id": "967b8f35b5d3468eb4daea145db540db",
       "version_major": 2,
       "version_minor": 0
      },
      "text/plain": [
       "vocab.txt:   0%|          | 0.00/232k [00:00<?, ?B/s]"
      ]
     },
     "metadata": {},
     "output_type": "display_data"
    },
    {
     "data": {
      "application/vnd.jupyter.widget-view+json": {
       "model_id": "b74c32d4e06a4273bd1fd1a91f7b3b0b",
       "version_major": 2,
       "version_minor": 0
      },
      "text/plain": [
       "tokenizer.json:   0%|          | 0.00/712k [00:00<?, ?B/s]"
      ]
     },
     "metadata": {},
     "output_type": "display_data"
    },
    {
     "data": {
      "application/vnd.jupyter.widget-view+json": {
       "model_id": "c43c70ea3f864dd080f898d8ba6bc656",
       "version_major": 2,
       "version_minor": 0
      },
      "text/plain": [
       "special_tokens_map.json:   0%|          | 0.00/125 [00:00<?, ?B/s]"
      ]
     },
     "metadata": {},
     "output_type": "display_data"
    },
    {
     "data": {
      "application/vnd.jupyter.widget-view+json": {
       "model_id": "d5d7c80aecaa4588b77c343c17746c93",
       "version_major": 2,
       "version_minor": 0
      },
      "text/plain": [
       "config.json:   0%|          | 0.00/190 [00:00<?, ?B/s]"
      ]
     },
     "metadata": {},
     "output_type": "display_data"
    },
    {
     "name": "stdout",
     "output_type": "stream",
     "text": [
      "Model's maximum sequence length: 512\n"
     ]
    },
    {
     "data": {
      "application/vnd.jupyter.widget-view+json": {
       "model_id": "45507c046b374803a704fb1ccea26356",
       "version_major": 2,
       "version_minor": 0
      },
      "text/plain": [
       "  0%|          | 0/39 [00:00<?, ?it/s]"
      ]
     },
     "metadata": {},
     "output_type": "display_data"
    },
    {
     "data": {
      "image/png": "[encoded data removed]",
      "text/plain": [
       "<Figure size 640x480 with 1 Axes>"
      ]
     },
     "metadata": {},
     "output_type": "display_data"
    }
   ],
   "source": [
    "from sentence_transformers import SentenceTransformer\n",
    "\n",
    "# To get the value of the max sequence_length, we will query the underlying `SentenceTransformer` object used in the RecursiveCharacterTextSplitter\n",
    "print(\n",
    "    f\"Model's maximum sequence length: {SentenceTransformer('thenlper/gte-small').max_seq_length}\"\n",
    ")\n",
    "\n",
    "from transformers import AutoTokenizer\n",
    "\n",
    "tokenizer = AutoTokenizer.from_pretrained(\"thenlper/gte-small\")\n",
    "lengths = [len(tokenizer.encode(doc.page_content)) for doc in tqdm(docs_processed)]\n",
    "\n",
    "# Plot the distribution of document lengths, counted as the number of tokens\n",
    "fig = pd.Series(lengths).hist()\n",
    "plt.title(\"Distribution of document lengths in the knowledge base (in count of tokens)\")\n",
    "plt.show()"
   ]
  },
  {
   "cell_type": "markdown",
   "metadata": {
    "id": "L3teXczl9-9M"
   },
   "source": [
    "👀 As you can see, __the chunk lengths are not aligned with our limit of 512 tokens__, and some documents are above the limit, thus some part of them will be lost in truncation!\n",
    " - So we should change the `RecursiveCharacterTextSplitter` class to count length in number of tokens instead of number of characters.\n",
    " - Then we can choose a specific chunk size, here we would choose a lower threshold than 512:\n",
    "    - Smaller documents could allow the split to focus more on specific ideas.\n",
    "    - But too small chunks would split sentences in half, thus losing meaning again: the proper tuning is a matter of balance."
   ]
  },
  {
   "cell_type": "code",
   "execution_count": 13,
   "metadata": {},
   "outputs": [
    {
     "data": {
      "application/vnd.jupyter.widget-view+json": {
       "model_id": "982a04c28497431c9f193979139d6ae1",
       "version_major": 2,
       "version_minor": 0
      },
      "text/plain": [
       "  0%|          | 0/18 [00:00<?, ?it/s]"
      ]
     },
     "metadata": {},
     "output_type": "display_data"
    },
    {
     "data": {
      "image/png": "[encoded data removed]",
      "text/plain": [
       "<Figure size 640x480 with 1 Axes>"
      ]
     },
     "metadata": {},
     "output_type": "display_data"
    }
   ],
   "source": [
    "from langchain.text_splitter import RecursiveCharacterTextSplitter\n",
    "from transformers import AutoTokenizer\n",
    "\n",
    "EMBEDDING_MODEL_NAME = \"thenlper/gte-small\"\n",
    "\n",
    "\n",
    "def split_documents(\n",
    "    chunk_size: int,\n",
    "    knowledge_base: List[LangchainDocument],\n",
    "    tokenizer_name: Optional[str] = EMBEDDING_MODEL_NAME,\n",
    ") -> List[LangchainDocument]:\n",
    "    \"\"\"\n",
    "    Split documents into chunks of maximum size `chunk_size` tokens and return a list of documents.\n",
    "    \"\"\"\n",
    "    text_splitter = RecursiveCharacterTextSplitter.from_huggingface_tokenizer(\n",
    "        AutoTokenizer.from_pretrained(tokenizer_name),\n",
    "        chunk_size=chunk_size,\n",
    "        chunk_overlap=int(chunk_size / 10),\n",
    "        add_start_index=True,\n",
    "        strip_whitespace=True,\n",
    "        separators=SEPARATORS,\n",
    "    )\n",
    "\n",
    "    docs_processed = []\n",
    "    for doc in knowledge_base:\n",
    "        docs_processed += text_splitter.split_documents([doc])\n",
    "\n",
    "    # Remove duplicates\n",
    "    unique_texts = {}\n",
    "    docs_processed_unique = []\n",
    "    for doc in docs_processed:\n",
    "        if doc.page_content not in unique_texts:\n",
    "            unique_texts[doc.page_content] = True\n",
    "            docs_processed_unique.append(doc)\n",
    "\n",
    "    return docs_processed_unique\n",
    "\n",
    "\n",
    "docs_processed = split_documents(\n",
    "    512,  # We choose a chunk size adapted to our model\n",
    "    RAW_KNOWLEDGE_BASE,\n",
    "    tokenizer_name=EMBEDDING_MODEL_NAME,\n",
    ")\n",
    "\n",
    "# Let's visualize the chunk sizes we would have in tokens from a common model\n",
    "from transformers import AutoTokenizer\n",
    "\n",
    "tokenizer = AutoTokenizer.from_pretrained(EMBEDDING_MODEL_NAME)\n",
    "lengths = [len(tokenizer.encode(doc.page_content)) for doc in tqdm(docs_processed)]\n",
    "fig = pd.Series(lengths).hist()\n",
    "plt.title(\"Distribution of document lengths in the knowledge base (in count of tokens)\")\n",
    "plt.show()"
   ]
  },
  {
   "cell_type": "markdown",
   "metadata": {
    "id": "Wc3riwX39-9M"
   },
   "source": [
    "➡️ Now the chunk length distribution looks better!"
   ]
  },
  {
   "cell_type": "markdown",
   "metadata": {
    "id": "J1ho-UKM9-9M"
   },
   "source": [
    "### 1.2 Building the vector database\n",
    "\n",
    "#### How does retrieval work?\n",
    "\n",
    "Once the chunks are all embedded, we store them in a vector database. When the user types in a query, it gets embedded by the same model previously used, and a similarity search returns the closest documents from the vector database.\n",
    "\n",
    "The technical challenge is thus, given a query vector, to quickly find the nearest neighbors of this vector in the vector database. To do this, we need to choose two things: a distance, and a search algorithm to find the nearest neighbors quickly within a database of thousands of records.\n",
    "\n",
    "##### Nearest Neighbor search algorithm\n",
    "\n",
    "There are plentiful choices for the nearest neighbor search algorithm: we go with Facebook's [FAISS](https://github.com/facebookresearch/faiss) since FAISS is performant enough for most use cases, and it is well known and thus widely implemented.\n",
    "\n",
    "##### Distances\n",
    "\n",
    "- **Cosine similarity** computes the similarity between two vectors as the cosinus of their relative angle: it allows us to compare vector directions regardless of their magnitude. Using it requires normalizing all vectors, to rescale them into unit norm.\n",
    "- **Dot product** takes into account magnitude, with the sometimes undesirable effect that increasing a vector's length will make it more similar to all others.\n",
    "- **Euclidean distance** is the distance between the ends of vectors.\n",
    "\n",
    "cosine similarity: choose this distance, and we set it up both in the Embedding model, and in the `distance_strategy` argument of our FAISS index. With cosine similarity, we have to normalize our embeddings."
   ]
  },
  {
   "cell_type": "code",
   "execution_count": 14,
   "metadata": {},
   "outputs": [
    {
     "name": "stderr",
     "output_type": "stream",
     "text": [
      "<ipython-input-14-86d3e6721df3>:5: LangChainDeprecationWarning: The class `HuggingFaceEmbeddings` was deprecated in LangChain 0.2.2 and will be removed in 1.0. An updated version of the class exists in the :class:`~langchain-huggingface package and should be used instead. To use it run `pip install -U :class:`~langchain-huggingface` and import as `from :class:`~langchain_huggingface import HuggingFaceEmbeddings``.\n",
      "  embedding_model = HuggingFaceEmbeddings(\n"
     ]
    }
   ],
   "source": [
    "from langchain.vectorstores import FAISS\n",
    "from langchain_community.embeddings import HuggingFaceEmbeddings\n",
    "from langchain_community.vectorstores.utils import DistanceStrategy\n",
    "\n",
    "embedding_model = HuggingFaceEmbeddings(\n",
    "    model_name=EMBEDDING_MODEL_NAME,\n",
    "    multi_process=True,\n",
    "    model_kwargs={\"device\": \"cuda\"},\n",
    "    encode_kwargs={\"normalize_embeddings\": True},  # Set `True` for cosine similarity\n",
    ")\n",
    "\n",
    "KNOWLEDGE_VECTOR_DATABASE = FAISS.from_documents(\n",
    "    docs_processed, embedding_model, distance_strategy=DistanceStrategy.COSINE\n",
    ")"
   ]
  },
  {
   "cell_type": "markdown",
   "metadata": {
    "id": "0zM-wfiJ9-9N"
   },
   "source": [
    "👀 To visualize the search for the closest documents, let's project our embeddings from 384 dimensions down to 2 dimensions using PaCMAP."
   ]
  },
  {
   "cell_type": "code",
   "execution_count": 15,
   "metadata": {},
   "outputs": [],
   "source": [
    "# Embed a user query in the same space\n",
    "user_query = \"What is diffusion?\"\n",
    "query_vector = embedding_model.embed_query(user_query)"
   ]
  },
  {
   "cell_type": "code",
   "execution_count": 16,
   "metadata": {},
   "outputs": [
    {
     "name": "stderr",
     "output_type": "stream",
     "text": [
      "WARNING:pacmap.pacmap:Warning: random state is set to 1.\n",
      "WARNING:pacmap.pacmap:Sample size cannot accommodate number of further pairs requested. n_FP will be reduced.\n"
     ]
    }
   ],
   "source": [
    "import pacmap\n",
    "import numpy as np\n",
    "import plotly.express as px\n",
    "\n",
    "embedding_projector = pacmap.PaCMAP(\n",
    "    n_components=2, n_neighbors=None, MN_ratio=0.5, FP_ratio=2.0, random_state=1\n",
    ")\n",
    "\n",
    "embeddings_2d = [\n",
    "    list(KNOWLEDGE_VECTOR_DATABASE.index.reconstruct_n(idx, 1)[0])\n",
    "    for idx in range(len(docs_processed))\n",
    "] + [query_vector]\n",
    "\n",
    "# Fit the data (the index of transformed data corresponds to the index of the original data)\n",
    "documents_projected = embedding_projector.fit_transform(\n",
    "    np.array(embeddings_2d), init=\"pca\"\n",
    ")"
   ]
  },
  {
   "cell_type": "code",
   "execution_count": 17,
   "metadata": {},
   "outputs": [
    {
     "name": "stdout",
     "output_type": "stream",
     "text": [
      "\n",
      "Starting retrieval for user_query='What is diffusion?'...\n",
      "\n",
      "==================================Top document==================================\n",
      "pairs of fragments and cannot be easily extended to larger sets of fragments. Outside of the linker design problem, several recent works proposed denoising diffusion models for molecular data in 3D. Conformer generation methods GeoDiff Xu et al., 2022 and ConfGF Shi et al., 2021 condition the model on the adjacency matrix of the molecular graph. Since they have access to the connectivity information, they can compute torsion angles between atoms and optimize them Jing et al., 2022. Equivariant Diffusion Model EDM Hoogeboom et al., 2022 generates 3D molecules from scratch and is able to be conditioned on the predened scalar prop erties. Another diffusion model has been recently proposed for designing protein scaffolds given protein motifs Trippe et al., 2022. Having the conditional sampling procedure, this model is how ever trained in an unconditional setup. Finally, Luo et al. 2022 proposed a model for antibody design which combines discrete diffusion for the molecular graphs and continuous diffusion on the 3D coordinates. The conditioning mechanism proposed in this work is the closest to ours, but their model is targeted at generating chains of amino acids rather than atomic point clouds. 3 PRELIMINARIES 3.1 DIFFUSION MODELS Diffusion models SohlDickstein et al., 2015 are a class of generative methods that consist of a diffusion process, which progressively distorts a data point mapping it to a noise, and a generative denoising process which approximates the reverse of the diffusion process. The diffusion process iteratively adds noise to a data point x in order to progressively transform it into the Gaussian noise. At a time step t 0, . . . , T, the conditional distribution of the intermediate data state zt given the previous state is dened by the multivariate normal distribution, qztzt1 Nzt; tzt1, 2 tI, 1 where t R controls how much signal is retained and t R controls how much noise is added. By hypothesis, the full transition model is Markov, so that it can be written: qz0, z1, . . . , zT x qz0x T Y t1 qztzt1. 2 3 Preprint Since the distribution q is normal, a simple formula for the distribution of zt given x can be derived: qztx Nzttx, 2 t I, 3 where t tt1 and 2 t\n",
      "==================================Metadata==================================\n",
      "{'source': '*.txt', 'start_index': 8668}\n"
     ]
    }
   ],
   "source": [
    "print(f\"\\nStarting retrieval for {user_query=}...\")\n",
    "retrieved_docs = KNOWLEDGE_VECTOR_DATABASE.similarity_search(query=user_query, k=5)\n",
    "print(\n",
    "    \"\\n==================================Top document==================================\"\n",
    ")\n",
    "print(retrieved_docs[0].page_content)\n",
    "print(\"==================================Metadata==================================\")\n",
    "print(retrieved_docs[0].metadata)"
   ]
  },
  {
   "cell_type": "markdown",
   "metadata": {
    "id": "VjVqmDGh9-9N"
   },
   "source": [
    "# 2. Reader - LLM 💬\n",
    "\n",
    "In this part, the __LLM Reader reads the retrieved context to formulate its answer.__\n",
    "\n",
    "There are substeps that can all be tuned:\n",
    "1. The content of the retrieved documents is aggregated together into the \"context\", with many processing options like _prompt compression_.\n",
    "2. The context and the user query are aggregated into a prompt and then given to the LLM to generate its answer."
   ]
  },
  {
   "cell_type": "markdown",
   "metadata": {
    "id": "0xiXcG269-9N"
   },
   "source": [
    "### 2.1. Reader model\n",
    "\n",
    "The choice of a reader model is important in a few aspects:\n",
    "- the reader model's `max_seq_length` must accommodate our prompt, which includes the context output by the retriever call: the context consists of 5 documents of 512 tokens each, so we aim for a context length of 4k tokens at least.\n",
    "- the reader model\n",
    "\n",
    "For this example, we chose [`HuggingFaceH4/zephyr-7b-beta`](https://huggingface.co/HuggingFaceH4/zephyr-7b-beta), a small but powerful model.\n",
    "\n",
    "With many models being released every week, you may want to substitute this model to the latest and greatest. The best way to keep track of open source LLMs is to check the [Open-source LLM leaderboard](https://huggingface.co/spaces/HuggingFaceH4/open_llm_leaderboard).\n",
    "\n",
    "To make inference faster, we will load the quantized version of the model:"
   ]
  },
  {
   "cell_type": "code",
   "execution_count": 18,
   "metadata": {},
   "outputs": [
    {
     "data": {
      "application/vnd.jupyter.widget-view+json": {
       "model_id": "29fca49def4547a7a552780787027f5b",
       "version_major": 2,
       "version_minor": 0
      },
      "text/plain": [
       "config.json:   0%|          | 0.00/638 [00:00<?, ?B/s]"
      ]
     },
     "metadata": {},
     "output_type": "display_data"
    },
    {
     "data": {
      "application/vnd.jupyter.widget-view+json": {
       "model_id": "94cc9073e7e14b49990482c953f4dacd",
       "version_major": 2,
       "version_minor": 0
      },
      "text/plain": [
       "model.safetensors.index.json:   0%|          | 0.00/23.9k [00:00<?, ?B/s]"
      ]
     },
     "metadata": {},
     "output_type": "display_data"
    },
    {
     "data": {
      "application/vnd.jupyter.widget-view+json": {
       "model_id": "6b2ac408e462418bb1ae267f6b92cdc9",
       "version_major": 2,
       "version_minor": 0
      },
      "text/plain": [
       "Fetching 8 files:   0%|          | 0/8 [00:00<?, ?it/s]"
      ]
     },
     "metadata": {},
     "output_type": "display_data"
    },
    {
     "name": "stderr",
     "output_type": "stream",
     "text": [
      "Xet Storage is enabled for this repo, but the 'hf_xet' package is not installed. Falling back to regular HTTP download. For better performance, install the package with: `pip install huggingface_hub[hf_xet]` or `pip install hf_xet`\n",
      "WARNING:huggingface_hub.file_download:Xet Storage is enabled for this repo, but the 'hf_xet' package is not installed. Falling back to regular HTTP download. For better performance, install the package with: `pip install huggingface_hub[hf_xet]` or `pip install hf_xet`\n",
      "Xet Storage is enabled for this repo, but the 'hf_xet' package is not installed. Falling back to regular HTTP download. For better performance, install the package with: `pip install huggingface_hub[hf_xet]` or `pip install hf_xet`\n",
      "WARNING:huggingface_hub.file_download:Xet Storage is enabled for this repo, but the 'hf_xet' package is not installed. Falling back to regular HTTP download. For better performance, install the package with: `pip install huggingface_hub[hf_xet]` or `pip install hf_xet`\n",
      "Xet Storage is enabled for this repo, but the 'hf_xet' package is not installed. Falling back to regular HTTP download. For better performance, install the package with: `pip install huggingface_hub[hf_xet]` or `pip install hf_xet`\n",
      "Xet Storage is enabled for this repo, but the 'hf_xet' package is not installed. Falling back to regular HTTP download. For better performance, install the package with: `pip install huggingface_hub[hf_xet]` or `pip install hf_xet`\n",
      "WARNING:huggingface_hub.file_download:Xet Storage is enabled for this repo, but the 'hf_xet' package is not installed. Falling back to regular HTTP download. For better performance, install the package with: `pip install huggingface_hub[hf_xet]` or `pip install hf_xet`\n",
      "WARNING:huggingface_hub.file_download:Xet Storage is enabled for this repo, but the 'hf_xet' package is not installed. Falling back to regular HTTP download. For better performance, install the package with: `pip install huggingface_hub[hf_xet]` or `pip install hf_xet`\n",
      "Xet Storage is enabled for this repo, but the 'hf_xet' package is not installed. Falling back to regular HTTP download. For better performance, install the package with: `pip install huggingface_hub[hf_xet]` or `pip install hf_xet`\n",
      "Xet Storage is enabled for this repo, but the 'hf_xet' package is not installed. Falling back to regular HTTP download. For better performance, install the package with: `pip install huggingface_hub[hf_xet]` or `pip install hf_xet`\n",
      "WARNING:huggingface_hub.file_download:Xet Storage is enabled for this repo, but the 'hf_xet' package is not installed. Falling back to regular HTTP download. For better performance, install the package with: `pip install huggingface_hub[hf_xet]` or `pip install hf_xet`\n",
      "Xet Storage is enabled for this repo, but the 'hf_xet' package is not installed. Falling back to regular HTTP download. For better performance, install the package with: `pip install huggingface_hub[hf_xet]` or `pip install hf_xet`\n",
      "WARNING:huggingface_hub.file_download:Xet Storage is enabled for this repo, but the 'hf_xet' package is not installed. Falling back to regular HTTP download. For better performance, install the package with: `pip install huggingface_hub[hf_xet]` or `pip install hf_xet`\n",
      "Xet Storage is enabled for this repo, but the 'hf_xet' package is not installed. Falling back to regular HTTP download. For better performance, install the package with: `pip install huggingface_hub[hf_xet]` or `pip install hf_xet`\n",
      "WARNING:huggingface_hub.file_download:Xet Storage is enabled for this repo, but the 'hf_xet' package is not installed. Falling back to regular HTTP download. For better performance, install the package with: `pip install huggingface_hub[hf_xet]` or `pip install hf_xet`\n",
      "WARNING:huggingface_hub.file_download:Xet Storage is enabled for this repo, but the 'hf_xet' package is not installed. Falling back to regular HTTP download. For better performance, install the package with: `pip install huggingface_hub[hf_xet]` or `pip install hf_xet`\n"
     ]
    },
    {
     "data": {
      "application/vnd.jupyter.widget-view+json": {
       "model_id": "a96d53b31cea4ee79b93f5c426d9d48c",
       "version_major": 2,
       "version_minor": 0
      },
      "text/plain": [
       "model-00003-of-00008.safetensors:   0%|          | 0.00/1.98G [00:00<?, ?B/s]"
      ]
     },
     "metadata": {},
     "output_type": "display_data"
    },
    {
     "data": {
      "application/vnd.jupyter.widget-view+json": {
       "model_id": "a86c5355172842858b82694cecead35a",
       "version_major": 2,
       "version_minor": 0
      },
      "text/plain": [
       "model-00008-of-00008.safetensors:   0%|          | 0.00/816M [00:00<?, ?B/s]"
      ]
     },
     "metadata": {},
     "output_type": "display_data"
    },
    {
     "data": {
      "application/vnd.jupyter.widget-view+json": {
       "model_id": "8959ba42dec9497a945e800ad8a71c90",
       "version_major": 2,
       "version_minor": 0
      },
      "text/plain": [
       "model-00002-of-00008.safetensors:   0%|          | 0.00/1.95G [00:00<?, ?B/s]"
      ]
     },
     "metadata": {},
     "output_type": "display_data"
    },
    {
     "data": {
      "application/vnd.jupyter.widget-view+json": {
       "model_id": "2d64bf4b9f41409cbaa7121d14533ad6",
       "version_major": 2,
       "version_minor": 0
      },
      "text/plain": [
       "model-00001-of-00008.safetensors:   0%|          | 0.00/1.89G [00:00<?, ?B/s]"
      ]
     },
     "metadata": {},
     "output_type": "display_data"
    },
    {
     "data": {
      "application/vnd.jupyter.widget-view+json": {
       "model_id": "05f30e69b4054b519328b9be858e30be",
       "version_major": 2,
       "version_minor": 0
      },
      "text/plain": [
       "model-00004-of-00008.safetensors:   0%|          | 0.00/1.95G [00:00<?, ?B/s]"
      ]
     },
     "metadata": {},
     "output_type": "display_data"
    },
    {
     "data": {
      "application/vnd.jupyter.widget-view+json": {
       "model_id": "e779aa0e647345538535f1d8f4100ae7",
       "version_major": 2,
       "version_minor": 0
      },
      "text/plain": [
       "model-00006-of-00008.safetensors:   0%|          | 0.00/1.95G [00:00<?, ?B/s]"
      ]
     },
     "metadata": {},
     "output_type": "display_data"
    },
    {
     "data": {
      "application/vnd.jupyter.widget-view+json": {
       "model_id": "bd11a436c08543ea9ea674ef25d11bc8",
       "version_major": 2,
       "version_minor": 0
      },
      "text/plain": [
       "model-00007-of-00008.safetensors:   0%|          | 0.00/1.98G [00:00<?, ?B/s]"
      ]
     },
     "metadata": {},
     "output_type": "display_data"
    },
    {
     "data": {
      "application/vnd.jupyter.widget-view+json": {
       "model_id": "1d57fd8f4c5d40bfb2f6b7990fe3692b",
       "version_major": 2,
       "version_minor": 0
      },
      "text/plain": [
       "model-00005-of-00008.safetensors:   0%|          | 0.00/1.98G [00:00<?, ?B/s]"
      ]
     },
     "metadata": {},
     "output_type": "display_data"
    },
    {
     "data": {
      "application/vnd.jupyter.widget-view+json": {
       "model_id": "1d918966500642abae109f139a548c19",
       "version_major": 2,
       "version_minor": 0
      },
      "text/plain": [
       "Loading checkpoint shards:   0%|          | 0/8 [00:00<?, ?it/s]"
      ]
     },
     "metadata": {},
     "output_type": "display_data"
    },
    {
     "data": {
      "application/vnd.jupyter.widget-view+json": {
       "model_id": "b782fcda951649ed8d58ef9307429501",
       "version_major": 2,
       "version_minor": 0
      },
      "text/plain": [
       "generation_config.json:   0%|          | 0.00/111 [00:00<?, ?B/s]"
      ]
     },
     "metadata": {},
     "output_type": "display_data"
    },
    {
     "data": {
      "application/vnd.jupyter.widget-view+json": {
       "model_id": "bcdadd49fa5e4d4b9c44f0c906f00af6",
       "version_major": 2,
       "version_minor": 0
      },
      "text/plain": [
       "tokenizer_config.json:   0%|          | 0.00/1.43k [00:00<?, ?B/s]"
      ]
     },
     "metadata": {},
     "output_type": "display_data"
    },
    {
     "name": "stderr",
     "output_type": "stream",
     "text": [
      "Xet Storage is enabled for this repo, but the 'hf_xet' package is not installed. Falling back to regular HTTP download. For better performance, install the package with: `pip install huggingface_hub[hf_xet]` or `pip install hf_xet`\n",
      "WARNING:huggingface_hub.file_download:Xet Storage is enabled for this repo, but the 'hf_xet' package is not installed. Falling back to regular HTTP download. For better performance, install the package with: `pip install huggingface_hub[hf_xet]` or `pip install hf_xet`\n"
     ]
    },
    {
     "data": {
      "application/vnd.jupyter.widget-view+json": {
       "model_id": "48259ff9cbd14ead8ebcba654f256f33",
       "version_major": 2,
       "version_minor": 0
      },
      "text/plain": [
       "tokenizer.model:   0%|          | 0.00/493k [00:00<?, ?B/s]"
      ]
     },
     "metadata": {},
     "output_type": "display_data"
    },
    {
     "data": {
      "application/vnd.jupyter.widget-view+json": {
       "model_id": "225381154b8742788961b9935d266db1",
       "version_major": 2,
       "version_minor": 0
      },
      "text/plain": [
       "tokenizer.json:   0%|          | 0.00/1.80M [00:00<?, ?B/s]"
      ]
     },
     "metadata": {},
     "output_type": "display_data"
    },
    {
     "data": {
      "application/vnd.jupyter.widget-view+json": {
       "model_id": "6d0e0349cf4e4299a3341fa5aa355f08",
       "version_major": 2,
       "version_minor": 0
      },
      "text/plain": [
       "added_tokens.json:   0%|          | 0.00/42.0 [00:00<?, ?B/s]"
      ]
     },
     "metadata": {},
     "output_type": "display_data"
    },
    {
     "data": {
      "application/vnd.jupyter.widget-view+json": {
       "model_id": "9406d404a6fe465fb4da16dbe96a670e",
       "version_major": 2,
       "version_minor": 0
      },
      "text/plain": [
       "special_tokens_map.json:   0%|          | 0.00/168 [00:00<?, ?B/s]"
      ]
     },
     "metadata": {},
     "output_type": "display_data"
    },
    {
     "name": "stderr",
     "output_type": "stream",
     "text": [
      "Device set to use cuda:0\n"
     ]
    }
   ],
   "source": [
    "from transformers import pipeline\n",
    "import torch\n",
    "from transformers import AutoTokenizer, AutoModelForCausalLM, BitsAndBytesConfig\n",
    "\n",
    "READER_MODEL_NAME = \"HuggingFaceH4/zephyr-7b-beta\"\n",
    "\n",
    "bnb_config = BitsAndBytesConfig(\n",
    "    load_in_4bit=True,\n",
    "    bnb_4bit_use_double_quant=True,\n",
    "    bnb_4bit_quant_type=\"nf4\",\n",
    "    bnb_4bit_compute_dtype=torch.bfloat16,\n",
    ")\n",
    "model = AutoModelForCausalLM.from_pretrained(\n",
    "    READER_MODEL_NAME, quantization_config=bnb_config\n",
    ")\n",
    "tokenizer = AutoTokenizer.from_pretrained(READER_MODEL_NAME)\n",
    "\n",
    "READER_LLM = pipeline(\n",
    "    model=model,\n",
    "    tokenizer=tokenizer,\n",
    "    task=\"text-generation\",\n",
    "    do_sample=True,\n",
    "    temperature=0.2,\n",
    "    repetition_penalty=1.1,\n",
    "    return_full_text=False,\n",
    "    max_new_tokens=500,\n",
    ")"
   ]
  },
  {
   "cell_type": "code",
   "execution_count": 19,
   "metadata": {},
   "outputs": [
    {
     "data": {
      "text/plain": [
       "[{'generated_text': ' Diffusion is the movement of molecules from a region of higher concentration to a region of lower concentration. This process occurs spontaneously and does not require any external energy source.\\n\\nDiffusion is driven by the random motion of particles, known as Brownian motion. The greater the concentration gradient (the difference in concentration between two regions), the faster the rate of diffusion. Factors that affect the rate of diffusion include temperature, particle size, and solubility.\\n\\nIn living organisms, diffusion plays a critical role in the transport of nutrients, waste products, and other substances across cell membranes. It also helps to maintain a steady state of ions and molecules within cells and tissues.\\n\\nExamples of diffusion in biological systems include the transport of oxygen from the lungs to the bloodstream, the movement of glucose from the blood into muscle cells during exercise, and the exchange of gases between the alveoli in the lungs and the capillaries in the surrounding tissue.\\n\\nDiffusion is also important in chemical reactions, where it determines the rate at which reactant molecules come together to form products. In industrial processes, such as fermentation or distillation, diffusion can be optimized through the use of specialized equipment, such as packed columns or membrane filters.\\n\\nOverall, diffusion is a fundamental concept in chemistry and biology, with wide-ranging applications in fields ranging from medicine and biotechnology to materials science and environmental engineering.'}]"
      ]
     },
     "execution_count": 19,
     "metadata": {},
     "output_type": "execute_result"
    }
   ],
   "source": [
    "READER_LLM(\"What is diffusion? Answer:\")"
   ]
  },
  {
   "cell_type": "markdown",
   "metadata": {
    "id": "RlfHavRT9-9O"
   },
   "source": [
    "### 2.2. Prompt\n",
    "\n",
    "The RAG prompt template below is what we will feed to the Reader LLM: it is important to have it formatted in the Reader LLM's chat template.\n",
    "\n",
    "We give it our context and the user's question."
   ]
  },
  {
   "cell_type": "code",
   "execution_count": 20,
   "metadata": {},
   "outputs": [
    {
     "name": "stdout",
     "output_type": "stream",
     "text": [
      "<|system|>\n",
      "Using the information contained in the context,\n",
      "give a comprehensive answer to the question.\n",
      "Respond only to the question asked, response should be concise and relevant to the question.\n",
      "Provide the number of the source document when relevant.\n",
      "If the answer cannot be deduced from the context, do not give an answer.</s>\n",
      "<|user|>\n",
      "Context:\n",
      "{context}\n",
      "---\n",
      "Now here is the question you need to answer.\n",
      "\n",
      "Question: {question}</s>\n",
      "<|assistant|>\n",
      "\n"
     ]
    }
   ],
   "source": [
    "prompt_in_chat_format = [\n",
    "    {\n",
    "        \"role\": \"system\",\n",
    "        \"content\": \"\"\"Using the information contained in the context,\n",
    "give a comprehensive answer to the question.\n",
    "Respond only to the question asked, response should be concise and relevant to the question.\n",
    "Provide the number of the source document when relevant.\n",
    "If the answer cannot be deduced from the context, do not give an answer.\"\"\",\n",
    "    },\n",
    "    {\n",
    "        \"role\": \"user\",\n",
    "        \"content\": \"\"\"Context:\n",
    "{context}\n",
    "---\n",
    "Now here is the question you need to answer.\n",
    "\n",
    "Question: {question}\"\"\",\n",
    "    },\n",
    "]\n",
    "RAG_PROMPT_TEMPLATE = tokenizer.apply_chat_template(\n",
    "    prompt_in_chat_format, tokenize=False, add_generation_prompt=True\n",
    ")\n",
    "print(RAG_PROMPT_TEMPLATE)"
   ]
  },
  {
   "cell_type": "markdown",
   "metadata": {
    "id": "GZRHLza-9-9O"
   },
   "source": [
    "Let's test our Reader on our previously retrieved documents!"
   ]
  },
  {
   "cell_type": "code",
   "execution_count": 21,
   "metadata": {},
   "outputs": [
    {
     "name": "stdout",
     "output_type": "stream",
     "text": [
      "The main conclusion of this research is the introduction of DiffLinker, an E3equivariant 3Dconditional diffusion model for molecular linker design. DiffLinker is able to connect an arbitrary number of disconnected molecular fragments, unlike previous approaches that only connect pairs of fragments. It automatically determines the number of atoms in the linker and its attachment points to the input fragments, making it more versatile than existing methods. The authors demonstrate that DiffLinker outperforms other methods on standard datasets, generating more diverse and synthetically accessible molecules, and they experimentally test DiffLinker in real-world applications, successfully generating valid linkers conditioned on target protein pockets. Overall, DiffLinker represents a significant advancement in fragment-based drug discovery, reducing the size of the vast space of pharmacologically relevant molecules and providing a cheaper and more efficient alternative to experimental high-throughput screening methods.\n"
     ]
    }
   ],
   "source": [
    "retrieved_docs_text = [\n",
    "    doc.page_content for doc in retrieved_docs\n",
    "]  # We only need the text of the documents\n",
    "context = \"\\nExtracted documents:\\n\"\n",
    "context += \"\".join(\n",
    "    [f\"Document {str(i)}:::\\n\" + doc for i, doc in enumerate(retrieved_docs_text)]\n",
    ")\n",
    "\n",
    "final_prompt = RAG_PROMPT_TEMPLATE.format(\n",
    "    question=\"Can you explain the main result?\", context=context\n",
    ")\n",
    "\n",
    "# Redact an answer\n",
    "answer = READER_LLM(final_prompt)[0][\"generated_text\"]\n",
    "print(answer)"
   ]
  },
  {
   "cell_type": "code",
   "execution_count": 22,
   "metadata": {},
   "outputs": [
    {
     "name": "stdout",
     "output_type": "stream",
     "text": [
      "The main theme of this text is the introduction and explanation of DiffLinker, an E3equivariant 3Dconditional diffusion model for molecular linker design. The text discusses the challenges of fragment-based drug discovery, specifically the difficulty of designing linkers between disconnected molecular fragments, and proposes DiffLinker as a solution. The paper explains the requirements and strategies for implementing DiffLinker, including equivariance, sampling, and conditioning on protein pockets. The paper also provides background information on diffusion models and molecule representation. Overall, the text focuses on the development and application of DiffLinker for molecular linker design.\n"
     ]
    }
   ],
   "source": [
    "final_prompt = RAG_PROMPT_TEMPLATE.format(\n",
    "    question=\"What are the main themes discussed in this work?\", context=context\n",
    ")\n",
    "\n",
    "# Redact an answer\n",
    "answer = READER_LLM(final_prompt)[0][\"generated_text\"]\n",
    "print(answer)"
   ]
  },
  {
   "cell_type": "code",
   "execution_count": 23,
   "metadata": {},
   "outputs": [
    {
     "name": "stdout",
     "output_type": "stream",
     "text": [
      "The passage provides a comparison of the proposed DiffLinker method with other similar works in the field of molecular linker design. It mentions some recent works that proposed denoising diffusion models for molecular data in 3D, such as GeoDiff Xu et al., 2022, ConfGF Shi et al., 2021, and EDM Hoogeboom et al., 2022. However, these methods are limited to connecting pairs of fragments and cannot handle an arbitrary number of fragments. DiffLinker, on the other hand, can link an arbitrary number of fragments and automatically determine the number of atoms in the linker and its attachment points to the input fragments. The passage also mentions a few other diffusion models for molecular generation, such as Luo et al., 2022, which combines discrete diffusion for molecular graphs and continuous diffusion on the 3D coordinates, and Trippe et al., 2022, which generates protein scaffolds given protein motifs. However, these methods are trained in an unconditional setup and are not specifically designed for linker generation. Overall, DiffLinker's ability to handle an arbitrary number of fragments and automatically determine the linker length and attachment points makes it distinct from other similar works in the field of molecular linker design.\n"
     ]
    }
   ],
   "source": [
    "final_prompt = RAG_PROMPT_TEMPLATE.format(\n",
    "    question=\"How is this work related to other similar journal papers? What similar work precedes it?\", context=context\n",
    ")\n",
    "\n",
    "# Redact an answer\n",
    "answer = READER_LLM(final_prompt)[0][\"generated_text\"]\n",
    "print(answer)"
   ]
  },
  {
   "cell_type": "code",
   "execution_count": 24,
   "metadata": {},
   "outputs": [
    {
     "name": "stdout",
     "output_type": "stream",
     "text": [
      "Based on the context provided, there are several papers discussed in the text that address similar topics related to molecular modeling and diffusion models. Here is a brief literature review:\n",
      "\n",
      "1. \"Pairs of fragments and cannot be easily extended to larger sets of fragments\" (Document 0) refers to the limitations of traditional linker design methods that can only connect pairs of fragments. This issue has been addressed in several papers, such as:\n",
      "   - \"Fragment-based Drug Design: A Review\" by Erlanson et al. (2016), which discusses the advantages and limitations of FBDD and highlights the importance of developing methods for connecting multiple fragments.\n",
      "   - \"Designing Multiple Linkers in One Step\" by Zhang et al. (2019), which proposes a deep learning framework called MultiLinkerNet for simultaneously predicting multiple linkers between two fragments.\n",
      "   - \"Deep Learning Methods for De Novo Molecular Design\" by Chen et al. (2021), which reviews recent advances in deep learning techniques for de novo molecular design, including methods for connecting multiple fragments.\n",
      "\n",
      "2. \"Several recent works proposed denoising diffusion models for molecular data in 3D\" (Document 0) refers to the use of diffusion models for molecular simulations, which have gained popularity in recent years due to their ability to generate high-quality molecular structures. Some notable papers in this area include:\n",
      "   - \"Equivariant Molecular Generative Models\" by Hoogeboom et al. (2021), which introduces the concept of equivariant molecular generative models and provides a theoretical framework for understanding their behavior.\n",
      "   - \"Generative Protein Design via Diffusion Models\" by Trippe et al. (2022), which proposes a diffusion model for protein design that can generate protein sequences and structures with desired properties.\n",
      "   - \"Diffusion Models for Molecular Generation and Sampling\" by Sohl-Dickstein et al. (2015), which introduced the original diffusion model and laid the foundation for many subsequent developments in this field.\n",
      "\n",
      "3. \"Conformer generation methods... condition the model on the adjacency matrix of the molecular graph\" (Document 0) refers to the use of graph representations of molecules to guide conformational sampling\n"
     ]
    }
   ],
   "source": [
    "final_prompt = RAG_PROMPT_TEMPLATE.format(\n",
    "    question=\"Can you give a literature review of papers with similar conclusions?\", context=context\n",
    ")\n",
    "\n",
    "# Redact an answer\n",
    "answer = READER_LLM(final_prompt)[0][\"generated_text\"]\n",
    "print(answer)"
   ]
  },
  {
   "cell_type": "code",
   "execution_count": 25,
   "metadata": {},
   "outputs": [
    {
     "name": "stdout",
     "output_type": "stream",
     "text": [
      "The specialty of the diffusion model discussed in this work is its ability to generate molecular linkers, which are the connecting parts between disconnected molecular fragments, in a three-dimensional (3D) context while being conditioned on both the fragments and their surrounding protein pockets. This method, called DiffLinker, is an E3equivariant 3Dconditional diffusion model that can handle an arbitrary number of fragments and automatically determines the number of atoms in the linker and its attachment points to the input fragments. The model has demonstrated superior performance compared to other methods on standard datasets and has been successfully applied in real-world applications, including generating valid linkers conditioned on target protein pockets.\n"
     ]
    }
   ],
   "source": [
    "final_prompt = RAG_PROMPT_TEMPLATE.format(\n",
    "    question=\"What is the speciality of the diffusion model discussed here? How has the method been applied in this work?\", context=context\n",
    ")\n",
    "\n",
    "# Redact an answer\n",
    "answer = READER_LLM(final_prompt)[0][\"generated_text\"]\n",
    "print(answer)"
   ]
  },
  {
   "cell_type": "code",
   "execution_count": 26,
   "metadata": {},
   "outputs": [
    {
     "name": "stdout",
     "output_type": "stream",
     "text": [
      "The limitations of this work, as mentioned in the context, include:\n",
      "\n",
      "1. The method is currently limited to linker design between disconnected fragments, whereas previous approaches could only connect pairs of fragments.\n",
      "2. The method assumes a fixed number of atoms in the linker, whereas other methods may allow for variable linker lengths.\n",
      "3. The method requires a 3D context, such as input fragments or protein pocket atoms, which may not always be available.\n",
      "4. The effectiveness of the method in real-world applications beyond the standard datasets is not extensively tested.\n",
      "\n",
      "Overall, while the proposed DiffLinker method shows promising results for linker design, further research is needed to address these limitations and improve its applicability in various scenarios.\n"
     ]
    }
   ],
   "source": [
    "final_prompt = RAG_PROMPT_TEMPLATE.format(\n",
    "    question=\"What are the limitations of this work?\", context=context\n",
    ")\n",
    "\n",
    "# Redact an answer\n",
    "answer = READER_LLM(final_prompt)[0][\"generated_text\"]\n",
    "print(answer)"
   ]
  },
  {
   "cell_type": "code",
   "execution_count": 28,
   "metadata": {},
   "outputs": [
    {
     "name": "stdout",
     "output_type": "stream",
     "text": [
      "The context provided does not mention any specific papers for comparison. However, the authors briefly discuss some related works in the introduction and preliminaries sections. These include:\n",
      "\n",
      "- GeoDiff Xu et al., 2022: This paper proposes a conformer generation method for molecular data in 3D, conditioned on the adjacency matrix of the molecular graph. It can compute torsion angles between atoms and optimize them.\n",
      "\n",
      "- ConfGF Shi et al., 2021: Similar to GeoDiff, this paper proposes a conformer generation method for molecular data in 3D, conditioned on the molecular graph. It can also generate 3D molecules from scratch, but does not explicitly mention the ability to compute torsion angles or optimize them.\n",
      "\n",
      "- Equivariant Diffusion Model (EDM) Hoogeboom et al., 2022: This paper presents a diffusion model for generating 3D molecules from scratch, which is equivariant to the Euclidean group E3. It can also be conditioned on predefined scalar properties, such as logP or solubility.\n",
      "\n",
      "- Trippe et al., 2022: This paper presents a diffusion model for designing protein scaffolds given protein motifs. It can generate 3D molecules, but is trained in an unconditional setup.\n",
      "\n",
      "- Luo et al., 2022: This paper presents a model for antibody design that combines discrete diffusion for the molecular graphs and continuous diffusion on the 3D coordinates. It can generate chains of amino acids, but does not explicitly mention the ability to generate atomic point clouds.\n",
      "\n",
      "Overall, the authors claim that DiffLinker, the proposed method in this work, can outperform these related works in terms of generating more diverse and synthetically accessible molecules, as well as being able to link an arbitrary number of fragments and automatically determine the number of atoms in the linker and its attachment points to the input fragments. However, the authors do not provide direct comparisons or benchmarks against these related works in this work.\n"
     ]
    }
   ],
   "source": [
    "final_prompt = RAG_PROMPT_TEMPLATE.format(\n",
    "    question=\"Can you compare this work with some other papers that are similar but not discussed in this work?\", context=context\n",
    ")\n",
    "\n",
    "# Redact an answer\n",
    "answer = READER_LLM(final_prompt)[0][\"generated_text\"]\n",
    "print(answer)"
   ]
  },
  {
   "cell_type": "code",
   "execution_count": null,
   "metadata": {},
   "outputs": [],
   "source": []
  }
 ],
 "metadata": {
  "language_info": {
   "name": "python"
  }
 },
 "nbformat": 4,
 "nbformat_minor": 0
}
