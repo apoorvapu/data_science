{
 "cells": [
  {
   "cell_type": "markdown",
   "metadata": {
    "id": "view-in-github"
   },
   "source": [
    "<a href=\"https://colab.research.google.com/github/apoorvapu/data_science/blob/main/rag.ipynb\" target=\"_parent\"><img src=\"https://colab.research.google.com/assets/colab-badge.svg\" alt=\"Open In Colab\"/></a>"
   ]
  },
  {
   "cell_type": "code",
   "execution_count": 1,
   "metadata": {},
   "outputs": [
    {
     "name": "stdout",
     "output_type": "stream",
     "text": [
      "Collecting pymupdf\n",
      "  Downloading pymupdf-1.25.5-cp39-abi3-manylinux2014_x86_64.manylinux_2_17_x86_64.whl.metadata (3.4 kB)\n",
      "Requirement already satisfied: requests in /usr/local/lib/python3.11/dist-packages (2.32.3)\n",
      "Requirement already satisfied: charset-normalizer<4,>=2 in /usr/local/lib/python3.11/dist-packages (from requests) (3.4.1)\n",
      "Requirement already satisfied: idna<4,>=2.5 in /usr/local/lib/python3.11/dist-packages (from requests) (3.10)\n",
      "Requirement already satisfied: urllib3<3,>=1.21.1 in /usr/local/lib/python3.11/dist-packages (from requests) (2.4.0)\n",
      "Requirement already satisfied: certifi>=2017.4.17 in /usr/local/lib/python3.11/dist-packages (from requests) (2025.4.26)\n",
      "Downloading pymupdf-1.25.5-cp39-abi3-manylinux2014_x86_64.manylinux_2_17_x86_64.whl (20.0 MB)\n",
      "\u001b[2K   \u001b[90m━━━━━━━━━━━━━━━━━━━━━━━━━━━━━━━━━━━━━━━━\u001b[0m \u001b[32m20.0/20.0 MB\u001b[0m \u001b[31m31.6 MB/s\u001b[0m eta \u001b[36m0:00:00\u001b[0m\n",
      "\u001b[?25hInstalling collected packages: pymupdf\n",
      "Successfully installed pymupdf-1.25.5\n"
     ]
    }
   ],
   "source": [
    "!pip install pymupdf requests"
   ]
  },
  {
   "cell_type": "code",
   "execution_count": 2,
   "metadata": {},
   "outputs": [],
   "source": [
    "import os\n",
    "import requests\n",
    "import fitz  # PyMuPDF\n",
    "\n",
    "# Sample arXiv paper IDs related to diffusion models\n",
    "arxiv_ids = [ \"2210.05274\",  # Equivariant 3D-Conditional Diffusion Models for Molecular Linker Design\n",
    "             ]\n",
    "\n",
    "def download_pdf(arxiv_id, output_folder):\n",
    "    url = f\"https://arxiv.org/pdf/{arxiv_id}.pdf\"\n",
    "    pdf_path = os.path.join(output_folder, f\"{arxiv_id}.pdf\")\n",
    "    response = requests.get(url)\n",
    "    with open(pdf_path, \"wb\") as f:\n",
    "        f.write(response.content)\n",
    "    print(f\"Downloaded {arxiv_id}\")\n",
    "    return pdf_path\n",
    "\n",
    "def pdf_to_text(pdf_path, txt_path):\n",
    "    doc = fitz.open(pdf_path)\n",
    "    text = \"\"\n",
    "    for page in doc:\n",
    "        text += page.get_text()\n",
    "    with open(txt_path, \"w\", encoding=\"utf-8\") as f:\n",
    "        f.write(text)\n",
    "    print(f\"Converted to text: {txt_path}\")\n"
   ]
  },
  {
   "cell_type": "code",
   "execution_count": 3,
   "metadata": {},
   "outputs": [
    {
     "name": "stdout",
     "output_type": "stream",
     "text": [
      "Downloaded 2210.05274\n",
      "Converted to text: data/2210.05274.txt\n"
     ]
    }
   ],
   "source": [
    "    data_dir = \"data\"\n",
    "    os.makedirs(data_dir, exist_ok=True)\n",
    "\n",
    "    for arxiv_id in arxiv_ids:\n",
    "        pdf_path = download_pdf(arxiv_id, data_dir)\n",
    "        txt_path = os.path.join(data_dir, f\"{arxiv_id}.txt\")\n",
    "        pdf_to_text(pdf_path, txt_path)"
   ]
  },
  {
   "cell_type": "code",
   "execution_count": 50,
   "metadata": {},
   "outputs": [],
   "source": [
    "\n",
    "def clean_text(text):\n",
    "    import re\n",
    "\n",
    "    # Remove URLs\n",
    "    text = re.sub(r\"http\\S+|www\\.\\S+\", \"\", text)\n",
    "\n",
    "    # Remove LaTeX math expressions\n",
    "    #text = re.sub(r\"$.*?$\", \"\", text)\n",
    "\n",
    "    # Remove repeated words\n",
    "    #text = re.sub(r\"\\b(\\w+)( \\1\\b)+\", r\"\\1\", text)\n",
    "\n",
    "    # Remove special characters\n",
    "    #text = re.sub(r\"[^a-zA-Z0-9.,;:?!\\s]\", \"\", text)\n",
    "\n",
    "    # Pattern for common author name formats\n",
    "    #pattern = r\"\\b([A-Z][a-z]+(?: [A-Z][a-z]+)*,? (?:[A-Z]\\.)?\\b(?: and [A-Z][a-z]+(?: [A-Z][a-z]+)*,? (?:[A-Z]\\.)?)+|\\b(?:et al\\.)\\b)\"\n",
    "    # Replace any matched author names with an empty string\n",
    "    #text = re.sub(pattern, '', text)\n",
    "\n",
    "    # Remove excessive whitespace\n",
    "    text = re.sub(r'\\s+', ' ', text).strip()\n",
    "\n",
    "    return text\n",
    "\n",
    "def clean_text_remove_references(text):\n",
    "    # Remove extra newlines and empty lines\n",
    "    text = \"\\n\".join([line.strip() for line in text.splitlines() if line.strip() != \"\"])\n",
    "\n",
    "    # Cut off everything after 'References' or 'Bibliography'\n",
    "    refs_keywords = [\"references\", \"bibliography\"]\n",
    "    for keyword in refs_keywords:\n",
    "        idx = text.lower().find(keyword)\n",
    "        if idx != -1:\n",
    "            text = text[:idx]  # Keep text before the references section\n",
    "            break\n",
    "\n",
    "    # Remove sections related to funding or acknowledgments\n",
    "    text = re.sub(r\".*grant agreement.*|.*funding.*|.*acknowledg(e)?ment.*\", \"\", text, flags=re.IGNORECASE)\n",
    "\n",
    "    return text\n"
   ]
  },
  {
   "cell_type": "markdown",
   "metadata": {
    "id": "DKv51c_h9-9H"
   },
   "source": [
    "\n",
    "\n",
    "RAG:\n",
    "\n",
    "<img src=\"https://huggingface.co/datasets/huggingface/cookbook-images/resolve/main/RAG_workflow.png\" height=\"700\">\n",
    "\n"
   ]
  },
  {
   "cell_type": "code",
   "execution_count": 5,
   "metadata": {},
   "outputs": [
    {
     "name": "stdout",
     "output_type": "stream",
     "text": [
      "\u001b[2K     \u001b[90m━━━━━━━━━━━━━━━━━━━━━━━━━━━━━━━━━━━━━━\u001b[0m \u001b[32m647.5/647.5 kB\u001b[0m \u001b[31m25.8 MB/s\u001b[0m eta \u001b[36m0:00:00\u001b[0m\n",
      "\u001b[?25h  Preparing metadata (setup.py) ... \u001b[?25l\u001b[?25hdone\n",
      "\u001b[2K   \u001b[90m━━━━━━━━━━━━━━━━━━━━━━━━━━━━━━━━━━━━━━━━\u001b[0m \u001b[32m363.4/363.4 MB\u001b[0m \u001b[31m2.8 MB/s\u001b[0m eta \u001b[36m0:00:00\u001b[0m\n",
      "\u001b[2K   \u001b[90m━━━━━━━━━━━━━━━━━━━━━━━━━━━━━━━━━━━━━━━━\u001b[0m \u001b[32m13.8/13.8 MB\u001b[0m \u001b[31m117.9 MB/s\u001b[0m eta \u001b[36m0:00:00\u001b[0m\n",
      "\u001b[2K   \u001b[90m━━━━━━━━━━━━━━━━━━━━━━━━━━━━━━━━━━━━━━━━\u001b[0m \u001b[32m24.6/24.6 MB\u001b[0m \u001b[31m93.4 MB/s\u001b[0m eta \u001b[36m0:00:00\u001b[0m\n",
      "\u001b[2K   \u001b[90m━━━━━━━━━━━━━━━━━━━━━━━━━━━━━━━━━━━━━━━━\u001b[0m \u001b[32m883.7/883.7 kB\u001b[0m \u001b[31m58.9 MB/s\u001b[0m eta \u001b[36m0:00:00\u001b[0m\n",
      "\u001b[2K   \u001b[90m━━━━━━━━━━━━━━━━━━━━━━━━━━━━━━━━━━━━━━━\u001b[0m \u001b[32m664.8/664.8 MB\u001b[0m \u001b[31m821.1 kB/s\u001b[0m eta \u001b[36m0:00:00\u001b[0m\n",
      "\u001b[2K   \u001b[90m━━━━━━━━━━━━━━━━━━━━━━━━━━━━━━━━━━━━━━━━\u001b[0m \u001b[32m211.5/211.5 MB\u001b[0m \u001b[31m5.3 MB/s\u001b[0m eta \u001b[36m0:00:00\u001b[0m\n",
      "\u001b[2K   \u001b[90m━━━━━━━━━━━━━━━━━━━━━━━━━━━━━━━━━━━━━━━━\u001b[0m \u001b[32m56.3/56.3 MB\u001b[0m \u001b[31m16.8 MB/s\u001b[0m eta \u001b[36m0:00:00\u001b[0m\n",
      "\u001b[2K   \u001b[90m━━━━━━━━━━━━━━━━━━━━━━━━━━━━━━━━━━━━━━━━\u001b[0m \u001b[32m127.9/127.9 MB\u001b[0m \u001b[31m8.6 MB/s\u001b[0m eta \u001b[36m0:00:00\u001b[0m\n",
      "\u001b[2K   \u001b[90m━━━━━━━━━━━━━━━━━━━━━━━━━━━━━━━━━━━━━━━━\u001b[0m \u001b[32m207.5/207.5 MB\u001b[0m \u001b[31m6.0 MB/s\u001b[0m eta \u001b[36m0:00:00\u001b[0m\n",
      "\u001b[2K   \u001b[90m━━━━━━━━━━━━━━━━━━━━━━━━━━━━━━━━━━━━━━━━\u001b[0m \u001b[32m21.1/21.1 MB\u001b[0m \u001b[31m70.6 MB/s\u001b[0m eta \u001b[36m0:00:00\u001b[0m\n",
      "\u001b[2K   \u001b[90m━━━━━━━━━━━━━━━━━━━━━━━━━━━━━━━━━━━━━━━━\u001b[0m \u001b[32m76.1/76.1 MB\u001b[0m \u001b[31m7.3 MB/s\u001b[0m eta \u001b[36m0:00:00\u001b[0m\n",
      "\u001b[2K   \u001b[90m━━━━━━━━━━━━━━━━━━━━━━━━━━━━━━━━━━━━━━━━\u001b[0m \u001b[32m31.3/31.3 MB\u001b[0m \u001b[31m63.6 MB/s\u001b[0m eta \u001b[36m0:00:00\u001b[0m\n",
      "\u001b[2K   \u001b[90m━━━━━━━━━━━━━━━━━━━━━━━━━━━━━━━━━━━━━━━━\u001b[0m \u001b[32m491.4/491.4 kB\u001b[0m \u001b[31m31.2 MB/s\u001b[0m eta \u001b[36m0:00:00\u001b[0m\n",
      "\u001b[2K   \u001b[90m━━━━━━━━━━━━━━━━━━━━━━━━━━━━━━━━━━━━━━━━\u001b[0m \u001b[32m2.5/2.5 MB\u001b[0m \u001b[31m66.7 MB/s\u001b[0m eta \u001b[36m0:00:00\u001b[0m\n",
      "\u001b[2K   \u001b[90m━━━━━━━━━━━━━━━━━━━━━━━━━━━━━━━━━━━━━━━━\u001b[0m \u001b[32m45.7/45.7 kB\u001b[0m \u001b[31m2.4 MB/s\u001b[0m eta \u001b[36m0:00:00\u001b[0m\n",
      "\u001b[2K   \u001b[90m━━━━━━━━━━━━━━━━━━━━━━━━━━━━━━━━━━━━━━━━\u001b[0m \u001b[32m116.1/116.1 kB\u001b[0m \u001b[31m9.6 MB/s\u001b[0m eta \u001b[36m0:00:00\u001b[0m\n",
      "\u001b[2K   \u001b[90m━━━━━━━━━━━━━━━━━━━━━━━━━━━━━━━━━━━━━━━━\u001b[0m \u001b[32m116.3/116.3 kB\u001b[0m \u001b[31m7.5 MB/s\u001b[0m eta \u001b[36m0:00:00\u001b[0m\n",
      "\u001b[2K   \u001b[90m━━━━━━━━━━━━━━━━━━━━━━━━━━━━━━━━━━━━━━━━\u001b[0m \u001b[32m193.6/193.6 kB\u001b[0m \u001b[31m14.5 MB/s\u001b[0m eta \u001b[36m0:00:00\u001b[0m\n",
      "\u001b[2K   \u001b[90m━━━━━━━━━━━━━━━━━━━━━━━━━━━━━━━━━━━━━━━━\u001b[0m \u001b[32m143.5/143.5 kB\u001b[0m \u001b[31m10.6 MB/s\u001b[0m eta \u001b[36m0:00:00\u001b[0m\n",
      "\u001b[2K   \u001b[90m━━━━━━━━━━━━━━━━━━━━━━━━━━━━━━━━━━━━━━━━\u001b[0m \u001b[32m44.4/44.4 kB\u001b[0m \u001b[31m3.0 MB/s\u001b[0m eta \u001b[36m0:00:00\u001b[0m\n",
      "\u001b[2K   \u001b[90m━━━━━━━━━━━━━━━━━━━━━━━━━━━━━━━━━━━━━━━━\u001b[0m \u001b[32m16.0/16.0 MB\u001b[0m \u001b[31m72.0 MB/s\u001b[0m eta \u001b[36m0:00:00\u001b[0m\n",
      "\u001b[2K   \u001b[90m━━━━━━━━━━━━━━━━━━━━━━━━━━━━━━━━━━━━━━━━\u001b[0m \u001b[32m4.4/4.4 MB\u001b[0m \u001b[31m33.2 MB/s\u001b[0m eta \u001b[36m0:00:00\u001b[0m\n",
      "\u001b[2K   \u001b[90m━━━━━━━━━━━━━━━━━━━━━━━━━━━━━━━━━━━━━━━━\u001b[0m \u001b[32m194.8/194.8 kB\u001b[0m \u001b[31m9.2 MB/s\u001b[0m eta \u001b[36m0:00:00\u001b[0m\n",
      "\u001b[2K   \u001b[90m━━━━━━━━━━━━━━━━━━━━━━━━━━━━━━━━━━━━━━━━\u001b[0m \u001b[32m7.7/7.7 MB\u001b[0m \u001b[31m82.6 MB/s\u001b[0m eta \u001b[36m0:00:00\u001b[0m\n",
      "\u001b[2K   \u001b[90m━━━━━━━━━━━━━━━━━━━━━━━━━━━━━━━━━━━━━━━━\u001b[0m \u001b[32m40.8/40.8 kB\u001b[0m \u001b[31m2.8 MB/s\u001b[0m eta \u001b[36m0:00:00\u001b[0m\n",
      "\u001b[2K   \u001b[90m━━━━━━━━━━━━━━━━━━━━━━━━━━━━━━━━━━━━━━━━\u001b[0m \u001b[32m50.9/50.9 kB\u001b[0m \u001b[31m4.0 MB/s\u001b[0m eta \u001b[36m0:00:00\u001b[0m\n",
      "\u001b[2K   \u001b[90m━━━━━━━━━━━━━━━━━━━━━━━━━━━━━━━━━━━━━━━━\u001b[0m \u001b[32m305.5/305.5 kB\u001b[0m \u001b[31m23.2 MB/s\u001b[0m eta \u001b[36m0:00:00\u001b[0m\n",
      "\u001b[2K   \u001b[90m━━━━━━━━━━━━━━━━━━━━━━━━━━━━━━━━━━━━━━━━\u001b[0m \u001b[32m422.8/422.8 kB\u001b[0m \u001b[31m30.0 MB/s\u001b[0m eta \u001b[36m0:00:00\u001b[0m\n",
      "\u001b[2K   \u001b[90m━━━━━━━━━━━━━━━━━━━━━━━━━━━━━━━━━━━━━━━━\u001b[0m \u001b[32m53.6/53.6 kB\u001b[0m \u001b[31m3.9 MB/s\u001b[0m eta \u001b[36m0:00:00\u001b[0m\n",
      "\u001b[2K   \u001b[90m━━━━━━━━━━━━━━━━━━━━━━━━━━━━━━━━━━━━━━━━\u001b[0m \u001b[32m263.6/263.6 kB\u001b[0m \u001b[31m21.9 MB/s\u001b[0m eta \u001b[36m0:00:00\u001b[0m\n",
      "\u001b[2K   \u001b[90m━━━━━━━━━━━━━━━━━━━━━━━━━━━━━━━━━━━━━━━━\u001b[0m \u001b[32m302.3/302.3 kB\u001b[0m \u001b[31m26.8 MB/s\u001b[0m eta \u001b[36m0:00:00\u001b[0m\n",
      "\u001b[2K   \u001b[90m━━━━━━━━━━━━━━━━━━━━━━━━━━━━━━━━━━━━━━━━\u001b[0m \u001b[32m1.2/1.2 MB\u001b[0m \u001b[31m37.1 MB/s\u001b[0m eta \u001b[36m0:00:00\u001b[0m\n",
      "\u001b[2K   \u001b[90m━━━━━━━━━━━━━━━━━━━━━━━━━━━━━━━━━━━━━━━━\u001b[0m \u001b[32m129.3/129.3 kB\u001b[0m \u001b[31m10.8 MB/s\u001b[0m eta \u001b[36m0:00:00\u001b[0m\n",
      "\u001b[?25h  Building wheel for annoy (setup.py) ... \u001b[?25l\u001b[?25hdone\n",
      "\u001b[31mERROR: pip's dependency resolver does not currently take into account all the packages that are installed. This behaviour is the source of the following dependency conflicts.\n",
      "gcsfs 2025.3.2 requires fsspec==2025.3.2, but you have fsspec 2025.3.0 which is incompatible.\u001b[0m\u001b[31m\n",
      "\u001b[0m"
     ]
    }
   ],
   "source": [
    "!pip install -q torch transformers accelerate bitsandbytes langchain sentence-transformers faiss-cpu openpyxl pacmap datasets langchain-community ragatouille"
   ]
  },
  {
   "cell_type": "code",
   "execution_count": 6,
   "metadata": {},
   "outputs": [],
   "source": [
    "from tqdm.notebook import tqdm\n",
    "import pandas as pd\n",
    "from typing import Optional, List, Tuple\n",
    "import matplotlib.pyplot as plt\n",
    "import re\n",
    "pd.set_option(\n",
    "    \"display.max_colwidth\", None\n",
    ")  # This will be helpful when visualizing retriever outputs"
   ]
  },
  {
   "cell_type": "code",
   "execution_count": 51,
   "metadata": {},
   "outputs": [],
   "source": [
    "from langchain.docstore.document import Document as LangchainDocument\n",
    "\n",
    "# Read the text file\n",
    "with open(\"/content/data/2210.05274.txt\", \"r\", encoding=\"utf-8\") as f:\n",
    "    text = f.read()\n",
    "\n",
    "text = clean_text_remove_references(text)\n",
    "text = clean_text(text)\n",
    "\n",
    "# Create a list with one LangchainDocument\n",
    "RAW_KNOWLEDGE_BASE = [\n",
    "    LangchainDocument(page_content=text, metadata={\"source\": \"*.txt\"})\n",
    "]\n"
   ]
  },
  {
   "cell_type": "code",
   "execution_count": 52,
   "metadata": {},
   "outputs": [
    {
     "name": "stdout",
     "output_type": "stream",
     "text": [
      "Preprint EQUIVARIANT 3D-CONDITIONAL DIFFUSION MODELS FOR MOLECULAR LINKER DESIGN Ilia Igashov EPFL ilia.igashov@epfl.ch Hannes St¨ark Massachusetts Institute of Technology hstark@mit.edu Cl´ement Vignac EPFL clement.vignac@epfl.ch Victor Garcia Satorras Microsoft Research AI4Science victorgar@microsoft.com Pascal Frossard EPFL pascal.frossard@epfl.ch Max Welling Microsoft Research AI4Science maxwelling@microsoft.com Michael Bronstein University of Oxford michael.bronstein@cs.ox.ac.uk Bruno Correia EPFL bruno.correia@epfl.ch ABSTRACT Fragment-based drug discovery has been an effective paradigm in early-stage drug development. An open challenge in this area is designing linkers between dis- connected molecular fragments of interest to obtain chemically-relevant candi- date drug molecules. In this work, we propose DiffLinker, an E(3)-equivariant 3D-conditional diffusion model for molecular linker design. Given a set of dis- connected fragments, our model places missing atoms in between and designs a molecule incorporating all the initial fragments. Unlike previous approaches that are only able to connect pairs of molecular fragments, our method can link an arbi- trary number of fragments. Additionally, the model automatically determines the number of atoms in the linker and its attachment points to the input fragments. We demonstrate that DiffLinker outperforms other methods on the standard datasets generating more diverse and synthetically-accessible molecules. Besides, we ex- perimentally test our method in real-world applications, showing that it can suc- cessfully generate valid linkers conditioned on target protein pockets. 1 INTRODUCTION The space of pharmacologically-relevant molecules is estimated to exceed 1060 structures (Virshup et al., 2013), and searching in that space poses signiﬁcant challenges for drug design. A successful approach to reduce the size of this space is to start from fragments, smaller molecular compounds that usually have no more than 20 heavy (non-hydrogen) atoms. This strategy is known as fragment- based drug design (FBDD) (Erlanson et al., 2016). Given a protein pocket (a part of the target protein that employs suitable properties for binding a ligand), computationally determining fragments that interact with the pocket is a cheaper and more efﬁcient alternative to experimental high-throughput screening methods (Erlanson et al., 2016). Once the relevant fragments have been identiﬁed and docked to the target protein, it remains to combine them into a single, connected molecule. Among various strategies such as fragment linking, merging, and growing (Lamoree & Hubbard, 2017), the former has been preferred as it allows to boost rapidly the binding energy of the target and the compound (Jencks, 1981; Hajduk et al., 1997). This work addresses the fragment linking problem. Early computational methods for molecular linker design were based on database search and phys- ical simulations (Sheng & Zhang, 2013), both of which are computationally intensive. Therefore, 1 arXiv:2210.05274v1 [cs.LG] 11 Oct 2022 Preprint there is increasing interest for machine learning methods that can go beyond the available data and design diverse linkers more efﬁciently. Existing approaches are either based on syntactic pattern recognition (Yang et al., 2020) or on autoregressive models (Imrie et al., 2020; 2021; Huang et al., 2022). While the former method operates solely on SMILES (Weininger, 1988), the latter take into account 3D positions and orientations of the input fragments. However, these methods are not equivariant with respect to the permutation of atoms and can only combine pairs of fragments. Linker design depends on the target protein pocket, and using this information correctly can improve the afﬁnity of the resulting overall compound. To date, however, there is no computational method for molecular linker design that takes the pocket into account. In this work, we introduce DiffLinker1, a conditional diffusion model that generates molecular link- ers for a set of input fragments represented as a 3D atomic point cloud. First, our model generates the size of the prospective linker and then samples initial linker atom types and positions from the normal distribution. Next, the linker atom types and coordinates are iteratively updated using a neu- ral network that is conditioned on the input fragments. Eventually, the denoised linker atoms and the input fragment atoms form a single connected molecule, as shown in Figure 1. DiffLinker enjoys several desirable properties: it is equivariant to translations, rotations, reﬂections and permutations, it is not limited by the number of input fragments, it does not require information on the attachment atoms and generates linkers with no predeﬁned size. Besides, the conditioning mechanism of DiffLinker allows to pass additional information about the surrounding protein pocket atoms, which makes the model applicable in structure-based drug design applications (Congreve et al., 2005). We empirically show that DiffLinker is more effective than previous methods in generating chemically-relevant linkers between pairs of fragments. Our method achieves the state-of-the-art results in synthetic accessibility and drug-likeness which makes it preferable for using in drug de- sign pipelines. Besides, DiffLinker remarkably outperforms other methods in the diversity of the generated linkers. We further propose a more challenging benchmark and show that our method is able to successfully link more than two fragments, which cannot be done by the other methods. We also demonstrate that DiffLinker can be conditioned on the target protein pocket: our model respects geometric constraints imposed by the surrounding protein atoms and generates molecules that have minimum clashes with the corresponding pockets. To the best of our knowledge, DiffLinker is the ﬁrst method that is not limited by the number of input fragments and accounts the information about pockets. The overall goal of this work is to provide practitioners with an effective tool for molecular linker generation in realistic drug design scenarios. 2 RELATED WORK Molecular linker design has been widely used in the fragment-based drug discovery community (Sheng & Zhang, 2013). Various de novo design methods refer to the fragment linking problem (Tschinke & Cohen, 1993; Miranker & Karplus, 1995; Roe & Kuntz, 1995; Pearlman & Murcko, 1996; Stahl et al., 2002; Thompson et al., 2008; Ichihara et al., 2011). Early fragment linking methods were based on search in the predeﬁned libraries of linkers (B¨ohm, 1992; Lauri & Bartlett, 1994), genetic algorithm, tabu search (Glover, 1986) and force ﬁeld optimization (Dey & Caﬂisch, 2008). Having been successfully used in multiple application cases (Ji et al., 2003; Silverman, 2009; Sheng & Zhang, 2011), these methods are however computationally expensive and substantially limited by the available data. Hence, there has recently been interest in developing learning-based methods for molecular linker design. Yang et al. (2020) proposed SyntaLinker, a SMILES-based deep conditional transformer neural network that solves a sentence completion problem (Zweig et al., 2012). This method inherits the drawbacks of SMILES, which are the absence of 3D structure and the lack of consistency (atoms that are close in the molecule can be far away in the SMILES string). Imrie et al. (2020) overcome these limitations by introducing an autoregressive model DeLinker and its extension DEVELOP (Imrie et al., 2021) that uses additional pharmacophore information. Although these methods op- erate on 3D molecular conformations, they use a very limited geometric information and require input on the attachment atoms of the fragments. Recently, Huang et al. (2022) have proposed an- 1 2 Preprint 4 3 5 6 7 Linker Size Prediction Generative Denoising Process Input Fragments Graph NN Linker Size Prob Sample Linker Size Figure 1: (Top) Overview of the molecular linker generation process. First, probabilities of linker sizes are computed for the input fragments. Next, linker atoms are sampled and denoised using our fragment-conditioned equivariant diffusion model. (Bottom) Example of the linker generation process. Linker atoms are highlighted in orange. other autoregressive method 3DLinker that does not require one to specify attachment points and leverages the geometric information to a much greater extent. It makes this approach more relevant for connecting docked fragments. As both DeLinker and 3DLinker are autoregressive models, they are not permutation equivariant which limits their sample efﬁciency and ability to scale to large molecules (Elesedy & Zaidi, 2021; Rath & Condurache, 2022). Besides, these methods are capable of connecting only pairs of fragments and cannot be easily extended to larger sets of fragments. Outside of the linker design problem, several recent works proposed denoising diffusion models for molecular data in 3D. Conformer generation methods GeoDiff (Xu et al., 2022) and ConfGF (Shi et al., 2021) condition the model on the adjacency matrix of the molecular graph. Since they have access to the connectivity information, they can compute torsion angles between atoms and optimize them (Jing et al., 2022). Equivariant Diffusion Model (EDM) (Hoogeboom et al., 2022) generates 3D molecules from scratch and is able to be conditioned on the predeﬁned scalar prop- erties. Another diffusion model has been recently proposed for designing protein scaffolds given protein motifs (Trippe et al., 2022). Having the conditional sampling procedure, this model is how- ever trained in an unconditional setup. Finally, Luo et al. (2022) proposed a model for antibody design which combines discrete diffusion for the molecular graphs and continuous diffusion on the 3D coordinates. The conditioning mechanism proposed in this work is the closest to ours, but their model is targeted at generating chains of amino acids rather than atomic point clouds. 3 PRELIMINARIES 3.1 DIFFUSION MODELS Diffusion models (Sohl-Dickstein et al., 2015) are a class of generative methods that consist of a diffusion process, which progressively distorts a data point mapping it to a noise, and a generative denoising process which approximates the reverse of the diffusion process. The diffusion process iteratively adds noise to a data point x in order to progressively transform it into the Gaussian noise. At a time step t = 0, . . . , T, the conditional distribution of the intermediate data state zt given the previous state is deﬁned by the multivariate normal distribution, q(zt|zt−1) = N(zt; αtzt−1, σ2 tI), (1) where αt ∈R+ controls how much signal is retained and σt ∈R+ controls how much noise is added. By hypothesis, the full transition model is Markov, so that it can be written: q(z0, z1, . . . , zT |x) = q(z0|x) T Y t=1 q(zt|zt−1). (2) 3 Preprint Since the distribution q is normal, a simple formula for the distribution of zt given x can be derived: q(zt|x) = N(zt|αtx, σ2 t I), (3) where αt = αt/αt−1 and σ2 t = σ2 t −α2 tσ2 t−1. This closed-form expression shows that noise does not need to be added iteratively to x in order to achieve an intermediate state zt. Another key property of Gaussian noise is that the reverse of the diffusion process, the true denoising process, also admits a closed-form solution when conditioned on x: q(zt−1|x, zt) = N(zt−1; µt(x, zt), ς2 t I), (4) where distribution parameters can be obtained analytically: µt(x, zt) = αtσ2 t−1 σ2 t zt + αsσ2 t σ2 t x and ςt = σtσt−1 σt . (5) This formula simply describes that if a diffusion trajectory starts at x and ends at zT , then the expected value of any intermediate state is an interpolation between x and zT . The second component of a diffusion model is the generative denoising process that learns to invert this trajectory having the data point x unknown. The generative transition distribution is deﬁned as: p(zt−1|zt) = q(zt−1|ˆx, zt), (6) where ˆx is an approximation of the data point x computed by a neural network ϕ. Ho et al. (2020) have empirically shown that it works better to predict the Gaussian noise ˆϵt = ϕ(zt, t) instead, and then estimate the data point ˆx using Equation (3): ˆx = (1/αt)zt −(σt/αt)ˆϵt. (7) The neural network is trained to maximize an evidence lower bound to the likelihood of the data under the model. Up to a prefactor that depends on t, this objective is equivalent to the mean squared error between predicted and true noise (Ho et al., 2020; Kingma et al., 2021). We therefore use the simpliﬁed objective L(t) = ||ϵ −ˆϵt||2 that can be optimized by mini-batch gradient descent using an estimator Et∼U(0,...,T )[T · L(t)]. Finally, once the network is trained, it can be used to sample new data points. For this purpose, one ﬁrst samples the Gaussian noise: zT ∼N(0, I). Then, for t = T, . . . , 1, one should iteratively sample zt−1 ∼p(zt−1|zt) and ﬁnally sample x ∼p(x|z0). 3.2 DIFFUSION FOR MOLECULES Molecule Representation We consider now diffusion models that can operate on molecules rep- resented as 3D atomic point clouds. A data point x, which is an attributed point cloud consisting of M atoms, is represented by atom coordinates r = (r1, . . . , rM) ∈RM×3 and the correspond- ing feature vectors h = (h1, . . . , hM) ∈RM×nf which are one-hot encoded atom types. We will therefore denote point cloud x as a tuple x = [r, h]. Categorical Features Along with continuous atom coordinates, a molecular diffusion model has to operate on atom types that are discrete variables. While categorical diffusion models do exist (Hoogeboom et al., 2021; Austin et al., 2021), we follow a simpler strategy (Hoogeboom et al., 2022) that is based on lifting the atom types to a continuous space: we consider a one-hot encoding of the discrete variables, and add Gaussian noise on top of it. In the end of the denoising process, once z0 is sampled, the continuous values corresponding to the atom types should be converted back to discrete values. We consider the argmax over the different categories and include it in the ﬁnal transition from z0 to x. For more details on the structure of the ﬁnal transition distribution p(x|z0) and likelihood computation in this setting, we refer the reader to (Hoogeboom et al., 2022). Equivariance Processing 3D molecules requires operations that respect data symmetries. In this work, we consider the Euclidean group E(3) that comprises translations, rotations and reﬂections of R3 and the orthogonal group O(3) that includes rotations and reﬂections of R3. A function f : R3 →R3 is E(3)-equivariant if f(Rx + t) = Rf(x) + t for any orthogonal matrix R ∈R3×3, det R = ±1, for any translation vector t ∈R3 and for any x ∈R3. Note that for simplicity 4 Preprint we use notation Rx = (Rx1, . . . , RxM)⊤. A conditional distribution p(x|y) is E(3)-equivariant if p(Rx + t|Ry + t) = p(x|y) for any x, y ∈R3. A function f and a distribution p are O(3)- equivariant if f(Rx) = Rf(x) and p(Rx|Ry) = p(x|y) respectively. We call the function f translation invariant if f(x + t) = f(x). 4 DIFFLINKER: EQUIVARIANT 3D-CONDITIONAL DIFFUSION MODEL FOR MOLECULAR LINKER DESIGN In this section, we introduce DiffLinker, a new E(3)-equivariant diffusion model for generating molecular linkers conditioned on 3D fragments. We formulate equivariance requirements for the underlying denoising distributions in Section 4.1 and propose an appropriate learnable dynamic function in Section 4.2. We discuss the strategy of sampling the size of a linker and conditioning on protein pockets in Sections 4.3 and 4.4 respectively. The full linker generation workﬂow is schemat- ically represented in Figure 1 and the overview of DiffLinker training and sampling procedures is provided in Algorithms 1 and 2 correspondingly. 4.1 EQUIVARIANT 3D-CONDITIONAL DIFFUSION MODEL Unlike other diffusion models for molecule generation (Hoogeboom et al., 2022; Xu et al., 2022), our method is conditioned on three-dimensional data. More speciﬁcally, we assume that each point cloud x has a corresponding context u, which is another point cloud consisting of all input fragments and (optionally) protein pocket atoms that remain unchanged throughout the diffusion and denoising processes, as shown in Figure 1. Hence, we consider the generative process from Equation (6) to operate on point cloud x while being conditioned on the ﬁxed corresponding context: p(zt−1|zt, u) = q(zt−1|ˆx, zt), where ˆx = (1/αt)zt −(σt/αt)ϕ(zt, u, t). (8) The presence of a 3D context puts additional requirements on the generative process as it should be equivariant to its transformations. Proposition 1 Consider a prior noise distribution p(zT |u) = N(zT ; f(u), I) and transition dis- tributions p(zt−1|zt, u) = q(zt−1|ˆx, zt), where q is an isotropic Gaussian, f : RM×3 →R3 is a function operating on 3D point clouds, and ˆx is an approximation computed by the neural network ϕ according to Equation (8). Let the conditional denoising probabilistic model p be a Markov chain deﬁned as p(z0, z1, . . . , zT |u) = p(zT |u) T Y t=1 p(zt−1|zt, u). (9) If f is O(3)-equivariant and ϕ is equivariant to joint O(3)-transformations of zt and u, then p(z0|u) is O(3)-equivariant. The choice of the function f highly depends on the problem being solved and the available priors. In our experiments, we consider two cases. First, following (Imrie et al., 2020), we make use of the information about atoms that should be connected by the linker. We call these atoms anchors and deﬁne f(u) as the anchors’ center of mass. However, in real-world scenarios it is unlikely to know which atoms should be the anchors. In this case we deﬁne f(u) as the center of mass of the whole context u. We note that the probabilistic model p is not equivariant to translations, as shown in Appendix A.2. To overcome this issue and make the generative process independent of translations, we construct the network ϕ to be additionally translation invariant. Then, instead of sampling the initial noise from N(f(u), I) we center the data at f(u) and sample from N(0, I). 4.2 EQUIVARIANT GRAPH NEURAL NETWORK The learnable function ϕ that models the dynamics of the diffusion model is implemented as a modiﬁed E(3)-equivariant graph neural network (EGNN) (Satorras et al., 2021). Its input is the noisy version of the linker zt at time t and the context u. These two parts are modeled as a single fully-connected graph where nodes are represented by coordinates r and feature vectors h that 5 Preprint include atom types, time t, fragment ﬂags and (optionally) anchor ﬂags. The predicted noise ˆϵ includes coordinate and feature components: ˆϵ = [ˆϵr, ˆϵh]. In order to make function ϕ invariant to translations, we subtract the initial coordinates from the coordinate component of the predicted noise following Hoogeboom et al. (2022): ˆϵ = [ˆϵr, ˆϵh] = ϕ(zt, u, t) = EGNN(zt, u, t) −[zr t , 0]. (10) EGNN consists of the composition of Equivariant Graph Convolutional Layers rl+1, hl+1 = EGCL[rl, hl] which are deﬁned as follows: mij = φe(hl i, hl j, d2 ij), hl+1 i = φh(hl i, X j̸=i mij), rl+1 i = rl i + φvel(rl, hl, i), (11) where dij = ∥rl i −rl j∥and φe, φh are learnable functions parametrized by fully connected neural networks (see Appendix A.4 for details). The latter update for the node coordinates is computed by the learnable function φvel. Note that our graph includes both a noisy linker zt and a ﬁxed context u, and ϕ is intended to predict the noise that should be subtracted from the coordinates and features of zt. Therefore, it is natural to keep the context coordinates unchanged when computing dynamics and to apply non-zero displacements only to the linker part at each EGCL step. Hence, we model the node displacements as follows, φvel(rl, hl, i) = (P j̸=i rl i−rl j dij+1 φr(hl i, hl j, d2 ij) if node i belongs to the point cloud zt, 0 if node i belongs to the context u, (12) where φr is a learnable function parametrized by a fully connected neural network. The equivariance of convolutional layers is achieved by construction. The messages φe and the node updates φh depend only on scalar node features and distances between nodes that are E(3)-invariant. Coordinate updates φvel additionally depend linearly on the difference between coordinate vectors rl i and rl j, which makes them E(3)-equivariant. After the sequence of EGCLs is applied, we have an updated graph with new node coordinates ˆr = [ur, ˆzr t ] and new node features ˆh = [ˆuh, ˆzh t ]. Since we are interested only in the linker-related part, we discard the coordinates and features of context nodes and consider the tuple [ˆzr t , ˆzh t ] to be the EGNN output. 4.3 LINKER SIZE PREDICTION To predict the size of the missing linker between a set of fragments, we represent fragments as a fully-connected graph with one-hot encoded atom types as node features and distances between nodes as edge features. From this, a separately trained GNN (see Appendix A.5 for details) produces probabilities for the linker size. Our assumption is that relative fragment positions and orientations along with atom types contain all the information essential for predicting most likely size of the prospective linker. When generating a linker, we ﬁrst sample its size with the predicted probabilities from the categorical distribution over the list of linker sizes seen in the training data, as shown in Figure 1. 4.4 PROTEIN POCKET CONDITIONING In real-world fragment-based drug design applications, it often occurs that fragments are selected and docked into a target protein pocket (Igashov et al., 2022). To propose a drug candidate molecule, the fragments have to be linked. When generating the linker, one should take the surrounding pocket into account and construct a linker that has no clashes with protein pocket atoms (in other words, the conﬁguration of the linker and pocket atoms should be physically-realistic) and keeps the binding strength high. To add pocket conditioning to DiffLinker, we represent a protein pocket as an atomic point cloud and consider it as a part of the context u (cf. Section 4.1). We also extend node features with an additional binary ﬂag marking atoms that belong to the protein pocket. Finally, as the new context point cloud contains much more atoms, we modify the joint representation of the data point zt and the context u that are passed to the neural network ϕ. Instead of considering fully-connected graphs, we assign edges between nodes based on a 4 ˚A distance cutoff as it makes the resulting graphs less dense and counterbalances the increase in the number of nodes. 6 Preprint Numbers of clashes in DiﬀLinker samples with diﬀerent pocket representations Reference Full Pocket Backbone No Pocket 0 10 20 30 40 50 Number of clashes Pocket-Conditioned Samples Unconditioned Samples Input Fragments True Molecule Figure 2: (Left) Examples of linkers sampled by DiffLinker conditioned on pocket atoms (top row) and unconditioned (bottom row). Linkers sampled by the unconditioned model have multiple clashes with the protein pocket. (Right) Distribution of numbers of clashes in reference test molecules and samples from three DiffLinker models differently conditioned (or unconditioned) on pocket atoms. 5 EXPERIMENTS 5.1 DATASETS ZINC We follow Imrie et al. (2020) and consider a subset of 250,000 molecules randomly se- lected by G´omez-Bombarelli et al. (2018) from ZINC database (Irwin & Shoichet, 2005). First, we generate 3D conformers using RDKit (Landrum, 2013) and deﬁne a reference 3D structure for each molecule by selecting the lowest energy conformation. Then, these molecules are fragmented by enumerating all double cuts of acyclic single bonds that are not within functional groups. The resulting splits are ﬁltered by the number of atoms in the linker and fragments, synthetic accessibil- ity (Ertl & Schuffenhauer, 2009), ring aromaticity, and pan-assay interference compounds (PAINS) (Baell & Holloway, 2010) criteria. One molecule can therefore result in various combinations of two fragments with a linker in between. The resulting dataset is randomly split into train (438,610 examples), validation (400 examples), and test (400 examples) sets. CASF Another evaluation benchmark used by Imrie et al. (2020) is taken from the CASF-2016 dataset (Su et al., 2018). In contrast to ZINC, where molecule conformers were generated compu- tationally, CASF includes experimentally veriﬁed 3D conformations. Following the same prepro- cessing procedures as for the ZINC dataset, Imrie et al. (2020) obtained an additional test set of 309 examples, which we use in our work. GEOM ZINC and CASF datasets used in previous works only contain pairs of fragments. How- ever, real-world applications often require connecting more than two fragments with one or more linkers (Igashov et al., 2022). To address this case, we construct a new dataset based on GEOM molecules (Axelrod & G´omez-Bombarelli, 2022) which we decompose into three or more frag- ments with one or two linkers connecting them. To achieve such splits, we use RDKit implemen- tations of two fragmentation techniques –– an MMPA-based algorithm (Dossetter et al., 2013) and BRICS (Degen et al., 2008) –– and combine results removing duplicates. Overall, we obtain 41,907 molecules and 285,142 fragmentations that are randomly split in train (282,602 examples), valida- tion (1,250 examples) and test (1,290 examples) sets. Pockets Dataset In order to assess the ability of DiffLinker to generate valid linkers given addi- tional information about protein pockets, we use the protein-ligand dataset curated by Anonymous (2023) from Binding MOAD (Hu et al., 2005). To deﬁne pockets, we consider amino acids that have at least one atom closer than 6 ˚A to any atom of the ligand. All atoms belonging to these residues constitute the pocket. We split molecules into fragments using RDKit’s implementation of MMPA-based algorithm (Dossetter et al., 2013). We randomly split the resulting data into train (185,678 examples), validation (490 examples) and test (566 examples) sets taking into account Enzyme Commission (EC) numbers of the proteins. 7 Preprint Table 1: Performance metrics on ZINC, CASF and GEOM test sets. The ﬁrst three metrics assess the chemical relevance of the generated molecules. The last three metrics evaluate the standard generative properties of the methods. Method QED ↑ SA ↓ # Rings ↑ Valid, % Unique, % Novel, % ZINC DeLinker + ConfVAE + MMFF 0.64 3.11 0.21 98.3 44.2 47.1 3DLinker (given anchors) 0.65 3.11 0.23 99.3 29.0 41.2 3DLinker 0.65 3.14 0.24 71.5 29.2 41.9 DiffLinker 0.68 3.01 0.25 93.8 24.0 30.3 DiffLinker (given anchors) 0.68 3.03 0.26 97.6 22.7 32.4 DiffLinker (sampled size) 0.65 3.19 0.32 90.6 51.4 42.9 DiffLinker (given anchors, sampled size) 0.65 3.24 0.36 94.8 50.9 47.7 CASF DeLinker + ConfVAE + MMFF 0.35 4.05 0.35 95.7 51.6 55.6 DiffLinker 0.41 4.00 0.34 85.3 40.5 41.8 DiffLinker (given anchors) 0.40 4.03 0.38 90.2 37.3 48.4 DiffLinker (sampled size) 0.40 4.06 0.30 63.7 60.0 49.3 DiffLinker (given anchors, sampled size) 0.40 4.10 0.38 68.4 57.1 56.9 GEOM 3DLinker 0.36 3.56 0.00 16.3 73.7 — DiffLinker 0.48 2.99 0.75 94.0 34.7 68.6 DiffLinker (given anchors) 0.49 3.01 0.79 94.0 35.0 68.4 DiffLinker (sampled size) 0.45 3.27 0.75 87.2 62.4 76.0 DiffLinker (given anchors, sampled size) 0.46 3.33 0.83 88.8 63.6 76.0 5.2 EVALUATION Metrics First, we report several chemical properties of the generated molecules that are espe- cially important in drug design applications: average quantitative estimation of drug-likeness (QED) (Bickerton et al., 2012), average synthetic accessibility (SA) (Ertl & Schuffenhauer, 2009) and aver- age number of rings in the linker. Next, following Imrie et al. (2020), we measure validity, unique- ness and novelty of the samples. We then determine if the generated linkers are consistent with the 2D ﬁlters used to produce the ZINC training set. These ﬁlters are explained in detail in Appendix A.9. In addition, we record the percentage of the original molecules that were recovered by the gen- eration process. To compare the 3D shapes of the sampled and ground-truth molecules, we estimate the Root Mean Squared Deviation (RMSD) between the generated and real linker coordinates in the cases where true molecules are recovered. We also compute the SCRDKit metric that evaluates the geometric and chemical similarity between the ground-truth and generated molecules (Putta et al., 2005; Landrum et al., 2006). Baselines We compare our method with DeLinker (Imrie et al., 2020) and 3DLinker (Huang et al., 2022) on the ZINC test set and with DeLinker on the CASF dataset. Besides, we adjust 3DLinker to connect more than two fragments (see Appendix A.6 for details) and evaluate its performane on the GEOM dataset. To obtain 3D conformations for the molecules generated by DeLinker on ZINC and CASF, we apply a pre-trained ConfVAE (Xu et al., 2021) followed by a force ﬁeld relaxation procedure. For all methods including ours, we generate linkers with the ground-truth size unless explicitly noted otherwise. To obtain SMILES representations of atomic point clouds generated by our models, we utilize OpenBabel (O’Boyle et al., 2011) to compute covalent bonds between atoms. We also use OpenBabel to rebuild covalent bonds for the molecules in test sets in order to correctly compute the recovery rate, RMSD and SCRDKit scores for our models. In ZINC and CASF experiments, we sample 250 linkers for each input pair of fragments. For the GEOM dataset and in experiments with pocket conditioning, we sample 100 linkers for each input set of fragments. 5.3 RESULTS ZINC and CASF While our models have much greater ﬂexibility and applicability in more appli- cations as we show below, they also outperform other methods on standard benchmarks ZINC and CASF in terms of chemical relevance of the generated molecules. As shown in Table 1, molecules sampled by DiffLinker are more synthetically accessible and demonstrate higher drug-likeness, which is especially important for drug design applications. Besides, our models generate linkers containing more rings. Moreover, our molecules usually share higher chemical and geometric sim- 8 Preprint Table 2: Metrics assessing the ability of the methods to generate molecules that are chemically and geometrically similar to the reference ones. SCRDKit Method 2D Filters, % Recovery, % RMSD ↓ > 0.7 > 0.8 > 0.9 Avg ↑ ZINC DeLinker + ConfVAE + MMFF 84.88 80.2 5.48 3.73 0.61 0.09 0.49 3DLinker (given anchors) 84.24 94.0 0.10 99.86 97.05 63.78 0.92 3DLinker 83.72 93.5 0.11 99.83 96.22 63.63 0.92 DiffLinker 86.26 82.0 0.34 99.72 94.62 67.85 0.93 DiffLinker (given anchors) 84.36 87.2 0.32 99.96 97.02 71.73 0.94 DiffLinker (sampled size) 87.98 70.7 0.34 99.37 90.21 51.90 0.90 DiffLinker (given anchors, sampled size) 84.76 77.5 0.35 99.67 95.04 56.35 0.91 CASF DeLinker + ConfVAE + MMFF 77.25 52.8 11.89 1.24 0.19 0.03 0.39 DiffLinker 87.73 42.8 0.44 92.17 79.62 50.14 0.84 DiffLinker (given anchors) 82.37 50.2 0.37 95.07 89.05 60.63 0.86 DiffLinker (sampled size) 89.27 40.5 0.34 92.83 79.12 43.99 0.82 DiffLinker (given anchors, sampled size) 82.08 48.8 0.32 94.52 87.90 55.25 0.84 GEOM 3DLinker 94.10 0.0 — 60.63 29.30 8.22 0.72 DiffLinker 49.56 86.8 0.12 96.11 89.09 73.56 0.93 DiffLinker (given anchors) 51.38 86.2 0.11 95.73 88.24 72.39 0.93 DiffLinker (sampled size) 56.35 70.9 0.07 92.38 82.67 58.39 0.88 DiffLinker (given anchors, sampled size) 58.41 70.8 0.07 91.63 80.98 56.16 0.88 ilarity with the reference molecules as demonstrated by the SCRDKit scores in Table 2. In terms of validity, our models perform on par with the other methods. Note that both autoregressive ap- proaches employ valency rules at each generation step explicitly, while our model is shown to be able to learn these rules from the data. Remarkably, the validity of the reference molecules from CASF with covalent bonds computed by OpenBabel is 92.2% while our model generated molecules with 90.2% validity. Notably, sampling the size of the linker signiﬁcantly improves novelty and uniqueness of the generated linkers without signiﬁcant degradation of the most important metrics. Examples of linkers generated by DiffLinker for different input fragments are provided in Figure 5. Multiple Fragments The major advantage of DiffLinker compared to recently proposed autore- gressive models DeLinker and 3DLinker is one-shot generation of the whole linker between arbitrary amounts of fragments. This overcomes the limitation of DeLinker and 3DLinker, which can only link two fragments at a time. Although these autoregressive models can be adjusted to connect pairs of fragments iteratively while growing the molecule, the full context cannot be taken into ac- count in this case. Therefore, suboptimal solutions are more likely to be produced. To illustrate this difference, we adapted 3DLinker to iteratively connect pairs of fragments in molecules where more than two fragments should be connected. As shown in Table 1, 3DLinker fails to construct valid molecules in almost 84% of cases and cannot recover any reference molecule while, despite the higher complexity of linkers in this dataset, our models achieve 94% validity and recover more than 50% of the reference molecules. Besides, molecules generated by 3DLinker have no rings in the linkers, have substantially lower QED and are much harder to synthesize. Examples of linkers generated by DiffLinker for different input fragments are provided in Figure 4. An example of the DiffLinker sampling process for the molecule from the GEOM dataset is shown in Figure 1. Protein Pocket Conditioning To illustrate the ability of DiffLinker to take surrounding pockets into account, we trained three models on the Pockets Dataset: these are respectively conditioned on the full-atomic pocket representation, conditioned on the pocket backbone atoms and unconditioned. Besides the standard metrics reported in Tables 5 and 6, we also compute the number of clashes between generated molecules and surrounding pockets. We say that there is a clash between two atoms if the distance between them is lower than the sum of their van der Waals radii. As shown in Figure 2, the model conditioned on the full-atomic pocket representation generates molecules with almost the same amount of clashes (in average 7 clashes per molecule) as in the reference complexes from the test set (in average 6 clashes per molecule). There is a clear trend on the number of clashes depending on the amount of information about pockets DiffLinker is conditioned on: the model conditioned on pocket backbone atoms generates molecules with 14 clashes in average, and the unconditioned model produces molecules with 21 clashes in average. 9 Preprint 6 CONCLUSION In this work, we introduced DiffLinker, a new E(3)-equivariant 3D-conditional diffusion model for molecular linker design. DiffLinker designs realistic molecules from a set of disconnected fragments by generating a linker, i.e., an atomic point cloud that interconnects the input fragments. While previous methods were only capable to connect pairs of fragments, DiffLinker naturally scales to an arbitrary number of fragments. Our method does not require to specify the attachment points of the fragments and predicts the distribution of linker size from the fragments. We show that the proposed method outperforms other models on standard benchmarks and produces more chemically-relevant molecules. Besides, we demonstrate that our model can be conditioned on protein pockets and generate linkers with a minimum number of clashes. We believe that our method will accelerate the development of prospective drug candidates and has the potential to become widely used in the fragment-based drug design community. We thank Arne Schneuing, Yuanqi Du, and Joshua Southern for helpful feedback and insightful dis- Vignac would like to thank the Swiss Data Science Center for supporting him through the PhD fellowship program (grant P18-11).\n"
     ]
    }
   ],
   "source": [
    "print(text)"
   ]
  },
  {
   "cell_type": "markdown",
   "metadata": {
    "id": "Kr6rN10U9-9J"
   },
   "source": [
    "### Load your knowledge base"
   ]
  },
  {
   "cell_type": "markdown",
   "metadata": {
    "id": "0_LxjD5h9-9K"
   },
   "source": [
    "given a user question, find the most relevant snippets from our knowledge base to answer that question.\n",
    "\n",
    "How many snippets should we retrieve? This parameter will be named `top_k`.\n",
    "\n",
    "How long should these snippets be? This is called the `chunk size`."
   ]
  },
  {
   "cell_type": "code",
   "execution_count": 53,
   "metadata": {},
   "outputs": [],
   "source": [
    "from langchain.text_splitter import RecursiveCharacterTextSplitter\n",
    "\n",
    "# We use a hierarchical list of separators specifically tailored for splitting Markdown documents\n",
    "# This list is taken from LangChain's MarkdownTextSplitter class\n",
    "SEPARATORS = [\n",
    "    \" \",\n",
    "]\n",
    "\n",
    "text_splitter = RecursiveCharacterTextSplitter(\n",
    "    chunk_size=1000,  # The maximum number of characters in a chunk: we selected this value arbitrarily\n",
    "    chunk_overlap=100,  # The number of characters to overlap between chunks\n",
    "    add_start_index=True,  # If `True`, includes chunk's start index in metadata\n",
    "    strip_whitespace=True,  # If `True`, strips whitespace from the start and end of every document\n",
    "    separators=SEPARATORS,\n",
    ")\n",
    "\n",
    "docs_processed = []\n",
    "for doc in RAW_KNOWLEDGE_BASE:\n",
    "    docs_processed += text_splitter.split_documents([doc])"
   ]
  },
  {
   "cell_type": "code",
   "execution_count": 54,
   "metadata": {},
   "outputs": [
    {
     "data": {
      "text/plain": [
       "Document(metadata={'source': '*.txt', 'start_index': 0}, page_content='Preprint EQUIVARIANT 3D-CONDITIONAL DIFFUSION MODELS FOR MOLECULAR LINKER DESIGN Ilia Igashov EPFL ilia.igashov@epfl.ch Hannes St¨ark Massachusetts Institute of Technology hstark@mit.edu Cl´ement Vignac EPFL clement.vignac@epfl.ch Victor Garcia Satorras Microsoft Research AI4Science victorgar@microsoft.com Pascal Frossard EPFL pascal.frossard@epfl.ch Max Welling Microsoft Research AI4Science maxwelling@microsoft.com Michael Bronstein University of Oxford michael.bronstein@cs.ox.ac.uk Bruno Correia EPFL bruno.correia@epfl.ch ABSTRACT Fragment-based drug discovery has been an effective paradigm in early-stage drug development. An open challenge in this area is designing linkers between dis- connected molecular fragments of interest to obtain chemically-relevant candi- date drug molecules. In this work, we propose DiffLinker, an E(3)-equivariant 3D-conditional diffusion model for molecular linker design. Given a set of dis- connected fragments, our model places missing atoms in between')"
      ]
     },
     "execution_count": 54,
     "metadata": {},
     "output_type": "execute_result"
    }
   ],
   "source": [
    "docs_processed[0]"
   ]
  },
  {
   "cell_type": "code",
   "execution_count": 55,
   "metadata": {},
   "outputs": [
    {
     "data": {
      "text/plain": [
       "Document(metadata={'source': '*.txt', 'start_index': 9008}, page_content='Conformer generation methods GeoDiff (Xu et al., 2022) and ConfGF (Shi et al., 2021) condition the model on the adjacency matrix of the molecular graph. Since they have access to the connectivity information, they can compute torsion angles between atoms and optimize them (Jing et al., 2022). Equivariant Diffusion Model (EDM) (Hoogeboom et al., 2022) generates 3D molecules from scratch and is able to be conditioned on the predeﬁned scalar prop- erties. Another diffusion model has been recently proposed for designing protein scaffolds given protein motifs (Trippe et al., 2022). Having the conditional sampling procedure, this model is how- ever trained in an unconditional setup. Finally, Luo et al. (2022) proposed a model for antibody design which combines discrete diffusion for the molecular graphs and continuous diffusion on the 3D coordinates. The conditioning mechanism proposed in this work is the closest to ours, but their model is targeted at generating chains of amino acids')"
      ]
     },
     "execution_count": 55,
     "metadata": {},
     "output_type": "execute_result"
    }
   ],
   "source": [
    "docs_processed[10]"
   ]
  },
  {
   "cell_type": "markdown",
   "metadata": {
    "id": "d5jJUMgb9-9M"
   },
   "source": [
    "We also have to keep in mind that when embedding documents, we will use an embedding model that accepts a certain maximum sequence length `max_seq_length`.\n",
    "\n",
    "So we should make sure that our chunk sizes are below this limit because any longer chunk will be truncated before processing, thus losing relevancy."
   ]
  },
  {
   "cell_type": "code",
   "execution_count": 56,
   "metadata": {},
   "outputs": [
    {
     "name": "stdout",
     "output_type": "stream",
     "text": [
      "Model's maximum sequence length: 512\n"
     ]
    },
    {
     "data": {
      "application/vnd.jupyter.widget-view+json": {
       "model_id": "439c5cb387804a399e462dd648ba801d",
       "version_major": 2,
       "version_minor": 0
      },
      "text/plain": [
       "  0%|          | 0/40 [00:00<?, ?it/s]"
      ]
     },
     "metadata": {},
     "output_type": "display_data"
    },
    {
     "data": {
      "image/png": "[encoded data removed]",
      "text/plain": [
       "<Figure size 640x480 with 1 Axes>"
      ]
     },
     "metadata": {},
     "output_type": "display_data"
    }
   ],
   "source": [
    "from sentence_transformers import SentenceTransformer\n",
    "\n",
    "# To get the value of the max sequence_length, we will query the underlying `SentenceTransformer` object used in the RecursiveCharacterTextSplitter\n",
    "print(\n",
    "    f\"Model's maximum sequence length: {SentenceTransformer('thenlper/gte-small').max_seq_length}\"\n",
    ")\n",
    "\n",
    "from transformers import AutoTokenizer\n",
    "\n",
    "tokenizer = AutoTokenizer.from_pretrained(\"thenlper/gte-small\")\n",
    "lengths = [len(tokenizer.encode(doc.page_content)) for doc in tqdm(docs_processed)]\n",
    "\n",
    "# Plot the distribution of document lengths, counted as the number of tokens\n",
    "fig = pd.Series(lengths).hist()\n",
    "plt.title(\"Distribution of document lengths in the knowledge base (in count of tokens)\")\n",
    "plt.show()"
   ]
  },
  {
   "cell_type": "markdown",
   "metadata": {
    "id": "L3teXczl9-9M"
   },
   "source": [
    "👀 As you can see, __the chunk lengths are not aligned with our limit of 512 tokens__, and some documents are above the limit, thus some part of them will be lost in truncation!\n",
    " - So we should change the `RecursiveCharacterTextSplitter` class to count length in number of tokens instead of number of characters.\n",
    " - Then we can choose a specific chunk size, here we would choose a lower threshold than 512:\n",
    "    - Smaller documents could allow the split to focus more on specific ideas.\n",
    "    - But too small chunks would split sentences in half, thus losing meaning again: the proper tuning is a matter of balance."
   ]
  },
  {
   "cell_type": "code",
   "execution_count": 57,
   "metadata": {},
   "outputs": [
    {
     "data": {
      "application/vnd.jupyter.widget-view+json": {
       "model_id": "9998e6311cb8401799970f3e12ef18c9",
       "version_major": 2,
       "version_minor": 0
      },
      "text/plain": [
       "  0%|          | 0/20 [00:00<?, ?it/s]"
      ]
     },
     "metadata": {},
     "output_type": "display_data"
    },
    {
     "data": {
      "image/png": "[encoded data removed]",
      "text/plain": [
       "<Figure size 640x480 with 1 Axes>"
      ]
     },
     "metadata": {},
     "output_type": "display_data"
    }
   ],
   "source": [
    "from langchain.text_splitter import RecursiveCharacterTextSplitter\n",
    "from transformers import AutoTokenizer\n",
    "\n",
    "EMBEDDING_MODEL_NAME = \"thenlper/gte-small\"\n",
    "\n",
    "\n",
    "def split_documents(\n",
    "    chunk_size: int,\n",
    "    knowledge_base: List[LangchainDocument],\n",
    "    tokenizer_name: Optional[str] = EMBEDDING_MODEL_NAME,\n",
    ") -> List[LangchainDocument]:\n",
    "    \"\"\"\n",
    "    Split documents into chunks of maximum size `chunk_size` tokens and return a list of documents.\n",
    "    \"\"\"\n",
    "    text_splitter = RecursiveCharacterTextSplitter.from_huggingface_tokenizer(\n",
    "        AutoTokenizer.from_pretrained(tokenizer_name),\n",
    "        chunk_size=chunk_size,\n",
    "        chunk_overlap=int(chunk_size / 10),\n",
    "        add_start_index=True,\n",
    "        strip_whitespace=True,\n",
    "        separators=SEPARATORS,\n",
    "    )\n",
    "\n",
    "    docs_processed = []\n",
    "    for doc in knowledge_base:\n",
    "        docs_processed += text_splitter.split_documents([doc])\n",
    "\n",
    "    # Remove duplicates\n",
    "    unique_texts = {}\n",
    "    docs_processed_unique = []\n",
    "    for doc in docs_processed:\n",
    "        if doc.page_content not in unique_texts:\n",
    "            unique_texts[doc.page_content] = True\n",
    "            docs_processed_unique.append(doc)\n",
    "\n",
    "    return docs_processed_unique\n",
    "\n",
    "\n",
    "docs_processed = split_documents(\n",
    "    512,  # We choose a chunk size adapted to our model\n",
    "    RAW_KNOWLEDGE_BASE,\n",
    "    tokenizer_name=EMBEDDING_MODEL_NAME,\n",
    ")\n",
    "\n",
    "# Let's visualize the chunk sizes we would have in tokens from a common model\n",
    "from transformers import AutoTokenizer\n",
    "\n",
    "tokenizer = AutoTokenizer.from_pretrained(EMBEDDING_MODEL_NAME)\n",
    "lengths = [len(tokenizer.encode(doc.page_content)) for doc in tqdm(docs_processed)]\n",
    "fig = pd.Series(lengths).hist()\n",
    "plt.title(\"Distribution of document lengths in the knowledge base (in count of tokens)\")\n",
    "plt.show()"
   ]
  },
  {
   "cell_type": "markdown",
   "metadata": {
    "id": "Wc3riwX39-9M"
   },
   "source": [
    "➡️ Now the chunk length distribution looks better!"
   ]
  },
  {
   "cell_type": "markdown",
   "metadata": {
    "id": "J1ho-UKM9-9M"
   },
   "source": [
    "### 1.2 Building the vector database\n",
    "\n",
    "#### How does retrieval work?\n",
    "\n",
    "Once the chunks are all embedded, we store them in a vector database. When the user types in a query, it gets embedded by the same model previously used, and a similarity search returns the closest documents from the vector database.\n",
    "\n",
    "The technical challenge is thus, given a query vector, to quickly find the nearest neighbors of this vector in the vector database. To do this, we need to choose two things: a distance, and a search algorithm to find the nearest neighbors quickly within a database of thousands of records.\n",
    "\n",
    "##### Nearest Neighbor search algorithm\n",
    "\n",
    "There are plentiful choices for the nearest neighbor search algorithm: we go with Facebook's [FAISS](https://github.com/facebookresearch/faiss) since FAISS is performant enough for most use cases, and it is well known and thus widely implemented.\n",
    "\n",
    "##### Distances\n",
    "\n",
    "- **Cosine similarity** computes the similarity between two vectors as the cosinus of their relative angle: it allows us to compare vector directions regardless of their magnitude. Using it requires normalizing all vectors, to rescale them into unit norm.\n",
    "- **Dot product** takes into account magnitude, with the sometimes undesirable effect that increasing a vector's length will make it more similar to all others.\n",
    "- **Euclidean distance** is the distance between the ends of vectors.\n",
    "\n",
    "cosine similarity: choose this distance, and we set it up both in the Embedding model, and in the `distance_strategy` argument of our FAISS index. With cosine similarity, we have to normalize our embeddings."
   ]
  },
  {
   "cell_type": "code",
   "execution_count": 58,
   "metadata": {},
   "outputs": [],
   "source": [
    "from langchain.vectorstores import FAISS\n",
    "from langchain_community.embeddings import HuggingFaceEmbeddings\n",
    "from langchain_community.vectorstores.utils import DistanceStrategy\n",
    "\n",
    "embedding_model = HuggingFaceEmbeddings(\n",
    "    model_name=EMBEDDING_MODEL_NAME,\n",
    "    multi_process=True,\n",
    "    model_kwargs={\"device\": \"cuda\"},\n",
    "    encode_kwargs={\"normalize_embeddings\": True},  # Set `True` for cosine similarity\n",
    ")\n",
    "\n",
    "KNOWLEDGE_VECTOR_DATABASE = FAISS.from_documents(\n",
    "    docs_processed, embedding_model, distance_strategy=DistanceStrategy.COSINE\n",
    ")"
   ]
  },
  {
   "cell_type": "markdown",
   "metadata": {
    "id": "0zM-wfiJ9-9N"
   },
   "source": [
    "👀 To visualize the search for the closest documents, let's project our embeddings from 384 dimensions down to 2 dimensions using PaCMAP."
   ]
  },
  {
   "cell_type": "code",
   "execution_count": 59,
   "metadata": {},
   "outputs": [],
   "source": [
    "# Embed a user query in the same space\n",
    "user_query = \"What is diffusion?\"\n",
    "query_vector = embedding_model.embed_query(user_query)"
   ]
  },
  {
   "cell_type": "code",
   "execution_count": 60,
   "metadata": {},
   "outputs": [
    {
     "name": "stderr",
     "output_type": "stream",
     "text": [
      "WARNING:pacmap.pacmap:Warning: random state is set to 1.\n"
     ]
    }
   ],
   "source": [
    "import pacmap\n",
    "import numpy as np\n",
    "import plotly.express as px\n",
    "\n",
    "embedding_projector = pacmap.PaCMAP(\n",
    "    n_components=2, n_neighbors=None, MN_ratio=0.5, FP_ratio=2.0, random_state=1\n",
    ")\n",
    "\n",
    "embeddings_2d = [\n",
    "    list(KNOWLEDGE_VECTOR_DATABASE.index.reconstruct_n(idx, 1)[0])\n",
    "    for idx in range(len(docs_processed))\n",
    "] + [query_vector]\n",
    "\n",
    "# Fit the data (the index of transformed data corresponds to the index of the original data)\n",
    "documents_projected = embedding_projector.fit_transform(\n",
    "    np.array(embeddings_2d), init=\"pca\"\n",
    ")"
   ]
  },
  {
   "cell_type": "code",
   "execution_count": 61,
   "metadata": {},
   "outputs": [
    {
     "name": "stdout",
     "output_type": "stream",
     "text": [
      "\n",
      "Starting retrieval for user_query='What is diffusion?'...\n",
      "\n",
      "==================================Top document==================================\n",
      "point x unknown. The generative transition distribution is deﬁned as: p(zt−1|zt) = q(zt−1|ˆx, zt), (6) where ˆx is an approximation of the data point x computed by a neural network ϕ. Ho et al. (2020) have empirically shown that it works better to predict the Gaussian noise ˆϵt = ϕ(zt, t) instead, and then estimate the data point ˆx using Equation (3): ˆx = (1/αt)zt −(σt/αt)ˆϵt. (7) The neural network is trained to maximize an evidence lower bound to the likelihood of the data under the model. Up to a prefactor that depends on t, this objective is equivalent to the mean squared error between predicted and true noise (Ho et al., 2020; Kingma et al., 2021). We therefore use the simpliﬁed objective L(t) = ||ϵ −ˆϵt||2 that can be optimized by mini-batch gradient descent using an estimator Et∼U(0,...,T )[T · L(t)]. Finally, once the network is trained, it can be used to sample new data points. For this purpose, one ﬁrst samples the Gaussian noise: zT ∼N(0, I). Then, for t = T, . . . , 1, one should iteratively sample zt−1 ∼p(zt−1|zt) and ﬁnally sample x ∼p(x|z0). 3.2 DIFFUSION FOR MOLECULES Molecule Representation We consider now diffusion models that can operate on molecules rep- resented as 3D atomic point clouds. A data point x, which is an attributed point cloud consisting of M atoms, is represented by atom coordinates r = (r1, . . . , rM) ∈RM×3 and the correspond- ing feature vectors h = (h1, . . . , hM) ∈RM×nf which are one-hot encoded atom types. We will therefore denote point cloud x as a tuple x = [r, h]. Categorical Features Along with continuous atom coordinates, a molecular diffusion model has to operate on atom types that are discrete variables. While categorical diffusion models do exist (Hoogeboom et al., 2021; Austin et al., 2021), we follow a simpler strategy (Hoogeboom et al.,\n",
      "==================================Metadata==================================\n",
      "{'source': '*.txt', 'start_index': 11908}\n"
     ]
    }
   ],
   "source": [
    "print(f\"\\nStarting retrieval for {user_query=}...\")\n",
    "retrieved_docs = KNOWLEDGE_VECTOR_DATABASE.similarity_search(query=user_query, k=5)\n",
    "print(\n",
    "    \"\\n==================================Top document==================================\"\n",
    ")\n",
    "print(retrieved_docs[0].page_content)\n",
    "print(\"==================================Metadata==================================\")\n",
    "print(retrieved_docs[0].metadata)"
   ]
  },
  {
   "cell_type": "markdown",
   "metadata": {
    "id": "VjVqmDGh9-9N"
   },
   "source": [
    "# 2. Reader - LLM 💬\n",
    "\n",
    "In this part, the __LLM Reader reads the retrieved context to formulate its answer.__\n",
    "\n",
    "There are substeps that can all be tuned:\n",
    "1. The content of the retrieved documents is aggregated together into the \"context\", with many processing options like _prompt compression_.\n",
    "2. The context and the user query are aggregated into a prompt and then given to the LLM to generate its answer."
   ]
  },
  {
   "cell_type": "markdown",
   "metadata": {
    "id": "0xiXcG269-9N"
   },
   "source": [
    "### 2.1. Reader model\n",
    "\n",
    "The choice of a reader model is important in a few aspects:\n",
    "- the reader model's `max_seq_length` must accommodate our prompt, which includes the context output by the retriever call: the context consists of 5 documents of 512 tokens each, so we aim for a context length of 4k tokens at least.\n",
    "- the reader model\n",
    "\n",
    "For this example, we chose [`HuggingFaceH4/zephyr-7b-beta`](https://huggingface.co/HuggingFaceH4/zephyr-7b-beta), a small but powerful model.\n",
    "\n",
    "With many models being released every week, you may want to substitute this model to the latest and greatest. The best way to keep track of open source LLMs is to check the [Open-source LLM leaderboard](https://huggingface.co/spaces/HuggingFaceH4/open_llm_leaderboard).\n",
    "\n",
    "To make inference faster, we will load the quantized version of the model:"
   ]
  },
  {
   "cell_type": "code",
   "execution_count": 62,
   "metadata": {},
   "outputs": [
    {
     "data": {
      "application/vnd.jupyter.widget-view+json": {
       "model_id": "897ca55e2d2940b09dc072efd86f67a8",
       "version_major": 2,
       "version_minor": 0
      },
      "text/plain": [
       "Loading checkpoint shards:   0%|          | 0/8 [00:00<?, ?it/s]"
      ]
     },
     "metadata": {},
     "output_type": "display_data"
    },
    {
     "name": "stderr",
     "output_type": "stream",
     "text": [
      "Device set to use cuda:0\n"
     ]
    }
   ],
   "source": [
    "from transformers import pipeline\n",
    "import torch\n",
    "from transformers import AutoTokenizer, AutoModelForCausalLM, BitsAndBytesConfig\n",
    "\n",
    "READER_MODEL_NAME = \"HuggingFaceH4/zephyr-7b-beta\"\n",
    "\n",
    "bnb_config = BitsAndBytesConfig(\n",
    "    load_in_4bit=True,\n",
    "    bnb_4bit_use_double_quant=True,\n",
    "    bnb_4bit_quant_type=\"nf4\",\n",
    "    bnb_4bit_compute_dtype=torch.bfloat16,\n",
    ")\n",
    "model = AutoModelForCausalLM.from_pretrained(\n",
    "    READER_MODEL_NAME, quantization_config=bnb_config\n",
    ")\n",
    "tokenizer = AutoTokenizer.from_pretrained(READER_MODEL_NAME)\n",
    "\n",
    "READER_LLM = pipeline(\n",
    "    model=model,\n",
    "    tokenizer=tokenizer,\n",
    "    task=\"text-generation\",\n",
    "    do_sample=True,\n",
    "    temperature=0.2,\n",
    "    repetition_penalty=1.1,\n",
    "    return_full_text=False,\n",
    "    max_new_tokens=500,\n",
    ")"
   ]
  },
  {
   "cell_type": "code",
   "execution_count": 63,
   "metadata": {},
   "outputs": [
    {
     "data": {
      "text/plain": [
       "[{'generated_text': ' Diffusion is the movement of molecules from a region of higher concentration to a region of lower concentration until equilibrium is reached. This process occurs spontaneously and does not require any external energy source.\\n\\nDiffusion is driven by the random motion of molecules, known as Brownian motion. The greater the concentration gradient (the difference in concentration between two regions), the faster the rate of diffusion. Factors that affect the rate of diffusion include temperature, particle size, and solubility.\\n\\nIn biological systems, diffusion plays a critical role in the transport of nutrients, waste products, and signaling molecules across cell membranes and through extracellular spaces. It also helps to distribute oxygen and carbon dioxide throughout the body during respiration.\\n\\nOverall, diffusion is a fundamental concept in chemistry and biology, and understanding its principles is essential for many scientific disciplines.'}]"
      ]
     },
     "execution_count": 63,
     "metadata": {},
     "output_type": "execute_result"
    }
   ],
   "source": [
    "READER_LLM(\"What is diffusion? Answer:\")"
   ]
  },
  {
   "cell_type": "markdown",
   "metadata": {
    "id": "RlfHavRT9-9O"
   },
   "source": [
    "### 2.2. Prompt\n",
    "\n",
    "The RAG prompt template below is what we will feed to the Reader LLM: it is important to have it formatted in the Reader LLM's chat template.\n",
    "\n",
    "We give it our context and the user's question."
   ]
  },
  {
   "cell_type": "code",
   "execution_count": 64,
   "metadata": {},
   "outputs": [
    {
     "name": "stdout",
     "output_type": "stream",
     "text": [
      "<|system|>\n",
      "Using the information contained in the context,\n",
      "give a comprehensive answer to the question.\n",
      "Respond only to the question asked, response should be concise and relevant to the question.\n",
      "Provide the number of the source document when relevant.\n",
      "If the answer cannot be deduced from the context, do not give an answer.</s>\n",
      "<|user|>\n",
      "Context:\n",
      "{context}\n",
      "---\n",
      "Now here is the question you need to answer.\n",
      "\n",
      "Question: {question}</s>\n",
      "<|assistant|>\n",
      "\n"
     ]
    }
   ],
   "source": [
    "prompt_in_chat_format = [\n",
    "    {\n",
    "        \"role\": \"system\",\n",
    "        \"content\": \"\"\"Using the information contained in the context,\n",
    "give a comprehensive answer to the question.\n",
    "Respond only to the question asked, response should be concise and relevant to the question.\n",
    "Provide the number of the source document when relevant.\n",
    "If the answer cannot be deduced from the context, do not give an answer.\"\"\",\n",
    "    },\n",
    "    {\n",
    "        \"role\": \"user\",\n",
    "        \"content\": \"\"\"Context:\n",
    "{context}\n",
    "---\n",
    "Now here is the question you need to answer.\n",
    "\n",
    "Question: {question}\"\"\",\n",
    "    },\n",
    "]\n",
    "RAG_PROMPT_TEMPLATE = tokenizer.apply_chat_template(\n",
    "    prompt_in_chat_format, tokenize=False, add_generation_prompt=True\n",
    ")\n",
    "print(RAG_PROMPT_TEMPLATE)"
   ]
  },
  {
   "cell_type": "markdown",
   "metadata": {
    "id": "GZRHLza-9-9O"
   },
   "source": [
    "Let's test our Reader on our previously retrieved documents!"
   ]
  },
  {
   "cell_type": "code",
   "execution_count": 65,
   "metadata": {},
   "outputs": [
    {
     "name": "stdout",
     "output_type": "stream",
     "text": [
      "The main result presented in this text is the introduction of DiffLinker, a new E(3)-equivariant diffusion model for generating molecular linkers conditioned on 3D fragments. This model is distinguished from other diffusion models for molecule generation in that it is conditioned on three-dimensional data, specifically a fixed context consisting of input fragments and protein pocket atoms. The model operates on point clouds while being conditioned on this context, and the generative process is required to be equivariant to its transformations due to the presence of the 3D context. The paper proposes an appropriate learnable dynamic function and discusses strategies for sampling the size of a linker and conditioning on protein pockets. The full linker generation workflow is outlined in Figure 1 and algorithms for training and sampling are provided.\n"
     ]
    }
   ],
   "source": [
    "retrieved_docs_text = [\n",
    "    doc.page_content for doc in retrieved_docs\n",
    "]  # We only need the text of the documents\n",
    "context = \"\\nExtracted documents:\\n\"\n",
    "context += \"\".join(\n",
    "    [f\"Document {str(i)}:::\\n\" + doc for i, doc in enumerate(retrieved_docs_text)]\n",
    ")\n",
    "\n",
    "final_prompt = RAG_PROMPT_TEMPLATE.format(\n",
    "    question=\"Can you explain the main result?\", context=context\n",
    ")\n",
    "\n",
    "# Redact an answer\n",
    "answer = READER_LLM(final_prompt)[0][\"generated_text\"]\n",
    "print(answer)"
   ]
  },
  {
   "cell_type": "code",
   "execution_count": 66,
   "metadata": {},
   "outputs": [
    {
     "name": "stdout",
     "output_type": "stream",
     "text": [
      "The main themes discussed in this work include:\n",
      "\n",
      "1. Denoising diffusion probabilistic models for generative modeling of molecular structures and properties, including image generation, audio synthesis, and molecular dynamics simulations.\n",
      "2. Gaussian noise diffusion process and generative denoising process, with closed-form expressions for the reverse of the diffusion process.\n",
      "3. Categorical features in molecular diffusion models, addressed through lifting atom types to a continuous space and converting back to discrete values at the end of the denoising process.\n",
      "4. Equivariance requirements for diffusion models processing 3D molecular structures, including translation invariance, orthogonal group O(3) equivariance, and Euclidean group E(3) equivariance.\n",
      "5. Introducing DiffLinker, a new E(3)-equivariant diffusion model for generating molecular linkers conditioned on 3D fragments and protein pockets, with strategies for sampling linker sizes and conditioning on protein pockets.\n",
      "6. Comparison of DiffLinker with related approaches for molecular linker design, conformer generation, and protein scaffold design.\n",
      "\n",
      "Overall, the work explores the application of denoising diffusion probabilistic models to various domains, with a focus on molecular structures and properties, and addresses challenges such as handling categorical features and ensuring equivariance for 3D structures.\n"
     ]
    }
   ],
   "source": [
    "final_prompt = RAG_PROMPT_TEMPLATE.format(\n",
    "    question=\"What are the main themes discussed in this work?\", context=context\n",
    ")\n",
    "\n",
    "# Redact an answer\n",
    "answer = READER_LLM(final_prompt)[0][\"generated_text\"]\n",
    "print(answer)"
   ]
  },
  {
   "cell_type": "code",
   "execution_count": 67,
   "metadata": {},
   "outputs": [
    {
     "name": "stdout",
     "output_type": "stream",
     "text": [
      "The passage mentions several related journal papers, including:\n",
      "\n",
      "1. \"DeLinker: Learning to Disconnect Molecular Bonds\" by Hoogeboom et al. (2021) - This paper proposes a diffusion model called DeLinker for disconnecting bonds in molecules. It uses a categorical diffusion model to handle discrete bond types and converts them to continuous values during the denoising process. The final transition distribution involves converting the continuous values back to discrete bond types.\n",
      "\n",
      "2. \"3DLinker: Generating 3D Molecular Linkers via Diffusion Models\" by Hoogeboom et al. (2022) - This paper introduces a new E(3)-equivariant diffusion model called 3DLinker for generating 3D molecular linkers. It lifts the discrete bond types to a continuous space and adds Gaussian noise to the resulting continuous values. During the denoising process, the continuous values are converted back to discrete bond types.\n",
      "\n",
      "3. \"Equivariant Diffusion Model for Molecular Generation\" by Hoogeboom et al. (2022) - This paper presents an E(3)-equivariant diffusion model for generating 3D molecular structures from scratch. It conditions the model on predefined scalar properties and uses a learnable dynamic function to ensure equivariance.\n",
      "\n",
      "4. \"Luo et al. (2022)\" - This paper proposes a model for antibody design that combines discrete diffusion for molecular graphs and continuous diffusion for 3D coordinates. It targets generating chains of amino acids rather than atomic point clouds.\n",
      "\n",
      "Overall, the current paper, titled \"DiffLinker: EQUIVARIANT 3D-CONDITIONAL DIFFUSION MODEL FOR MOLECULAR LINKER DESIGN,\" builds upon the earlier work by Hoogeboom et al. (2021, 2022) and introduces a new E(3)-equivariant diffusion model called DiffLinker for generating molecular linkers conditioned on 3D fragments and protein pockets. The paper proposes an appropriate learnable dynamic function and discusses strategies for sampling linker sizes and conditioning on protein pockets.\n"
     ]
    }
   ],
   "source": [
    "final_prompt = RAG_PROMPT_TEMPLATE.format(\n",
    "    question=\"How is this work related to other similar journal papers? What similar work precedes it?\", context=context\n",
    ")\n",
    "\n",
    "# Redact an answer\n",
    "answer = READER_LLM(final_prompt)[0][\"generated_text\"]\n",
    "print(answer)"
   ]
  },
  {
   "cell_type": "code",
   "execution_count": 68,
   "metadata": {},
   "outputs": [
    {
     "name": "stdout",
     "output_type": "stream",
     "text": [
      "Based on the context provided, it is unclear what specific conclusions are being referred to. Please provide more information or clarify which conclusions you are referring to in order for me to provide a relevant literature review. Without further context, it is impossible to accurately identify papers with similar conclusions.\n"
     ]
    }
   ],
   "source": [
    "final_prompt = RAG_PROMPT_TEMPLATE.format(\n",
    "    question=\"Can you give a literature review of papers with similar conclusions?\", context=context\n",
    ")\n",
    "\n",
    "# Redact an answer\n",
    "answer = READER_LLM(final_prompt)[0][\"generated_text\"]\n",
    "print(answer)"
   ]
  },
  {
   "cell_type": "code",
   "execution_count": 69,
   "metadata": {},
   "outputs": [
    {
     "name": "stdout",
     "output_type": "stream",
     "text": [
      "The specialty of the diffusion model discussed in this work is its ability to generate molecular linkers conditioned on 3D fragments and a fixed context, which includes all input fragments and (optionally) protein pocket atoms that remain unchanged throughout the diffusion and denoising processes. This method, called DiffLinker, is an E(3)-equivariant diffusion model that operates on point clouds and is conditioned on three-dimensional data. It differs from other diffusion models for molecule generation in that it is specifically designed for linker generation and takes into account the geometric information of the input fragments and protein pockets. The method involves adding Gaussian noise to a data point iteratively to progressively transform it into the noise, followed by a generative denoising process that approximates the reverse of the diffusion process. The proposed learnable dynamic function ensures equivariance requirements for the underlying denoising distributions. The method has been applied in this work to generate molecular linkers, and the authors discuss strategies for sampling the size of a linker and conditioning on protein pockets. The full linker generation workflow is presented in Figure 1 and algorithms for training and sampling are provided.\n"
     ]
    }
   ],
   "source": [
    "final_prompt = RAG_PROMPT_TEMPLATE.format(\n",
    "    question=\"What is the speciality of the diffusion model discussed here? How has the method been applied in this work?\", context=context\n",
    ")\n",
    "\n",
    "# Redact an answer\n",
    "answer = READER_LLM(final_prompt)[0][\"generated_text\"]\n",
    "print(answer)"
   ]
  },
  {
   "cell_type": "code",
   "execution_count": 70,
   "metadata": {},
   "outputs": [
    {
     "name": "stdout",
     "output_type": "stream",
     "text": [
      "The limitations of this work are discussed briefly in Section 5 of the preprint. Some potential limitations mentioned include:\n",
      "\n",
      "1. Scalability: The current implementation of DiffLinker is limited by the computational cost of the equivariant neural networks used in the model. This may limit its scalability to very large molecules or high-dimensional inputs.\n",
      "\n",
      "2. Protein pocket modeling: The current version of DiffLinker assumes that the protein pockets remain fixed during the diffusion and denoising processes. However, in reality, protein pockets may change shape and size during ligand binding. Future work could explore ways to incorporate protein pocket dynamics into the model.\n",
      "\n",
      "3. Linker length sampling: The current version of DiffLinker assumes a fixed linker length, which may not always be optimal for a particular application. Future work could explore ways to incorporate linker length sampling into the model.\n",
      "\n",
      "4. Generalizability: The current version of DiffLinker is trained on a specific dataset of small molecules and may not generalize well to completely novel molecules. Future work could explore ways to improve the model's generalizability.\n",
      "\n",
      "5. Interpretability: The current version of DiffLinker is a black box model, and it is not clear how the learned representations relate to the underlying physics and chemistry of molecular interactions. Future work could explore ways to make the model more interpretable and explainable.\n",
      "\n",
      "Overall, while DiffLinker represents a significant advancement in the field of molecular linker design, there are still several limitations and areas for future improvement.\n"
     ]
    }
   ],
   "source": [
    "final_prompt = RAG_PROMPT_TEMPLATE.format(\n",
    "    question=\"What are the limitations of this work?\", context=context\n",
    ")\n",
    "\n",
    "# Redact an answer\n",
    "answer = READER_LLM(final_prompt)[0][\"generated_text\"]\n",
    "print(answer)"
   ]
  },
  {
   "cell_type": "code",
   "execution_count": 71,
   "metadata": {},
   "outputs": [
    {
     "name": "stdout",
     "output_type": "stream",
     "text": [
      "The paper \"DiffLinker: EQUIVARIANT 3D-CONDITIONAL DIFFUSION MODEL FOR MOLECULAR LINKER DESIGN\" introduces a new E(3)-equivariant diffusion model for generating molecular linkers conditioned on 3D fragments. The authors compare their work with several recent papers in the field of molecular diffusion modeling, including DeLinker (Banich et al., 2021), 3DLinker (Hoogeboom et al., 2022), GeoDiff (Xu et al., 2022), ConfGF (Shi et al., 2021), EDM (Hoogeboom et al., 2022), and a model for antibody design proposed by Luo et al. (2022). However, there are other related papers that are not discussed in this work. Some examples include:\n",
      "\n",
      "1. \"Equivariant Generative Models for Protein Structures\" by Batz et al. (2021) proposes a framework for learning equivariant generative models for protein structures using a combination of graph neural networks and continuous diffusion models.\n",
      "\n",
      "2. \"Protein Structure Prediction with Graph Neural Networks\" by Jumper et al. (2021) presents a novel approach to protein structure prediction using graph neural networks, which can handle large protein structures and generate high-quality predictions.\n",
      "\n",
      "3. \"Deep Learning for Molecular Design\" by Gómez-Bombarelli et al. (2018) provides a comprehensive review of deep learning techniques applied to molecular design problems, including drug discovery, material design, and protein engineering.\n",
      "\n",
      "4. \"Generative Models for Molecular Design\" by Popova et al. (2018) surveys the literature on generative models for molecular design, highlighting their potential applications in drug discovery, materials science, and biotechnology.\n",
      "\n",
      "These papers offer alternative approaches to molecular diffusion modeling and generative modeling for molecular design problems, and may provide useful insights and comparisons to the work presented in \"DiffLinker: EQUIVARIANT 3D-CONDITIONAL DIFFUSION MODEL FOR MOLECULAR LINKER DESIGN\".\n"
     ]
    }
   ],
   "source": [
    "final_prompt = RAG_PROMPT_TEMPLATE.format(\n",
    "    question=\"Can you compare this work with some other papers that are similar but not discussed in this work?\", context=context\n",
    ")\n",
    "\n",
    "# Redact an answer\n",
    "answer = READER_LLM(final_prompt)[0][\"generated_text\"]\n",
    "print(answer)"
   ]
  },
  {
   "cell_type": "code",
   "execution_count": 71,
   "metadata": {},
   "outputs": [],
   "source": []
  }
 ],
 "metadata": {
  "language_info": {
   "name": "python"
  }
 },
 "nbformat": 4,
 "nbformat_minor": 0
}
