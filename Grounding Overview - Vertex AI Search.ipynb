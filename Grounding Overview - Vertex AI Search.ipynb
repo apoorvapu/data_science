{
 "cells": [
  {
   "cell_type": "markdown",
   "id": "87111ddc",
   "metadata": {},
   "source": [
    "![tracker](https://us-central1-vertex-ai-mlops-369716.cloudfunctions.net/pixel-tracking?path=statmike%2Fvertex-ai-mlops%2FApplied+GenAI&file=Grounding+Overview+-+Vertex+AI+Search.ipynb)\n",
    "<!--- header table --->\n",
    "<table align=\"left\">\n",
    "  <td style=\"text-align: center\">\n",
    "    <a href=\"https://colab.research.google.com/github/statmike/vertex-ai-mlops/blob/main/Applied%20GenAI/Grounding%20Overview%20-%20Vertex%20AI%20Search.ipynb\">\n",
    "      <img src=\"https://cloud.google.com/ml-engine/images/colab-logo-32px.png\" alt=\"Google Colaboratory logo\">\n",
    "      <br>Run in<br>Colab\n",
    "    </a>\n",
    "  </td>\n",
    "  <td style=\"text-align: center\">\n",
    "    <a href=\"https://console.cloud.google.com/vertex-ai/colab/import/https%3A%2F%2Fraw.githubusercontent.com%2Fstatmike%2Fvertex-ai-mlops%2Fmain%2FApplied%2520GenAI%2FGrounding%2520Overview%2520-%2520Vertex%2520AI%2520Search.ipynb\">\n",
    "      <img width=\"32px\" src=\"https://lh3.googleusercontent.com/JmcxdQi-qOpctIvWKgPtrzZdJJK-J3sWE1RsfjZNwshCFgE_9fULcNpuXYTilIR2hjwN\" alt=\"Google Cloud Colab Enterprise logo\">\n",
    "      <br>Run in<br>Colab Enterprise\n",
    "    </a>\n",
    "  </td>      \n",
    "  <td style=\"text-align: center\">\n",
    "    <a href=\"https://github.com/statmike/vertex-ai-mlops/blob/main/Applied%20GenAI/Grounding%20Overview%20-%20Vertex%20AI%20Search.ipynb\">\n",
    "      <img src=\"https://cloud.google.com/ml-engine/images/github-logo-32px.png\" alt=\"GitHub logo\">\n",
    "      <br>View on<br>GitHub\n",
    "    </a>\n",
    "  </td>\n",
    "  <td style=\"text-align: center\">\n",
    "    <a href=\"https://console.cloud.google.com/vertex-ai/workbench/deploy-notebook?download_url=https://raw.githubusercontent.com/statmike/vertex-ai-mlops/main/Applied%20GenAI/Grounding%20Overview%20-%20Vertex%20AI%20Search.ipynb\">\n",
    "      <img src=\"https://lh3.googleusercontent.com/UiNooY4LUgW_oTvpsNhPpQzsstV5W8F7rYgxgGBD85cWJoLmrOzhVs_ksK_vgx40SHs7jCqkTkCk=e14-rj-sc0xffffff-h130-w32\" alt=\"Vertex AI logo\">\n",
    "      <br>Open in<br>Vertex AI Workbench\n",
    "    </a>\n",
    "  </td>\n",
    "</table>"
   ]
  },
  {
   "cell_type": "markdown",
   "id": "b8dc7273-43fb-46ff-b45d-c5f8e20c5aa7",
   "metadata": {},
   "source": [
    "---\n",
    "This is part a [series of notebook based workflows](./readme.md) for Applided GenAI using Vertex AI.\n",
    "Specifically, these are related to grounding methods for LLMs:\n",
    "\n",
    "||Notebook Workflow|Description|\n",
    "|---|---|---|\n",
    "||[Grounding Overview](./Grounding%20Overview.ipynb)|Overview of grounding methods with comparison and evaluation|\n",
    "|**This Notebook**|[Grounding Overview - Vertex AI Search](./Grounding%20Overview%20-%20Vertex%20AI%20Search.ipynb)|Setting up and using Vertex AI Search.|\n",
    "||[Grounding Overview - RAG With BigQuery](./Grounding%20Overview%20-%20RAG%20With%20BigQuery.ipynb)|A Complete workflow (process, parse, embed, index, retrieve, generate) with BigQuery Vector Search.|\n",
    "||[Grounding Overview - RAG With Vertex AI Feature Store](./Grounding%20Overview%20-%20RAG%20With%20Vertex%20AI%20Feature%20Store.ipynb)|A complete workflow (process, parse, embed, index, retrieve, generate) with Vertex AI Feature Store as an online retrieval system over BigQuery data.|\n",
    "||Grounding Overview - RAG With Vertex AI Vector Search|A complete workflow (process, parse, embed, index, retrieve, generate) with Vertex AI Vector Search as an online retrieval system.|\n",
    "||Grounding Overview - RAG With LlamaIndex ON Vertex AI|A complete retrieval workflow (process, parse, embed, index, retrieve, generate) with LlamaIndex on Vertex AI as a retrieval system.|\n",
    "\n",
    "---"
   ]
  },
  {
   "cell_type": "markdown",
   "id": "2b317061-a4d0-4cd1-b07f-9a42429cc40e",
   "metadata": {},
   "source": [
    "# Grounding Overview - Vertex AI Search\n",
    "\n",
    "This workflow uses [Vertex AI Agent Builder](https://cloud.google.com/generative-ai-app-builder/docs/introduction) To build a search experience with [Vertex AI Search](https://cloud.google.com/generative-ai-app-builder/docs/enterprise-search-introduction).  \n",
    "\n",
    "Why Vertex AI Search? Building a search application, or a retrieval augmented generation (RAG) application for context and grounding requires steps like:\n",
    "- process, annotate, and break content into chunks\n",
    "- generate embeddings of chunks\n",
    "- store, index, and retrieve chunks\n",
    "- rank, rerank retrieval based on query/question/prompt\n",
    "- generation of answer with grounding\n",
    "- verifying groundeness and identifying contradiction\n",
    "\n",
    "Vertex AI Search does all of this, and much more, a service within the solution and provides APIs and client for interaction as use in this workflow.\n",
    "\n",
    "The alternative of building a search or retrieval application can be done with many other Vertex AI and GCP offerings but there are also easy to use APIs to make this fast and simple.  Read more about these offerings [here](https://cloud.google.com/generative-ai-app-builder/docs/builder-apis#build-rag).\n",
    "\n",
    "This workflow will walk through:\n",
    "- Preparing unstructured data for input\n",
    "    - This workflow shows how to make a metadata file so that any number of files can be store in any number of GCS locations (buckets and folders).\n",
    "- How to create and work with a **data store**\n",
    "    - retrieve/create data stores\n",
    "    - list documents in data stores\n",
    "    - immport documents\n",
    "- How to create a **search app**\n",
    "    - retrieve/create a search app\n",
    "- Get **Search** results\n",
    "    - results = related documents\n",
    "    - snippets = brief extract that previews documents relationship to the search\n",
    "    - extrative answers = short verbatim text extract meant to answer the search\n",
    "    - extrative segments = longer verbatim text extract meant to answer the search or be used as context for LLMs.\n",
    "    - summaries = automatic LLM summaries of the search results\n",
    "- Get **Answers**\n",
    "    - control the query and answer phase - multiple examples\n",
    "    - create a session and get answers with follow-up\n",
    "\n",
    "\n",
    ">**NOTE:**\n",
    ">If Vertex AI Agent Builder has not been previously used then part of the setup may need to be completed in the console prior to running this notebook which primarily uses the Python SDK. See [Before you begin](https://cloud.google.com/generative-ai-app-builder/docs/before-you-begin).\n",
    "\n",
    "\n",
    "**Extensions Of This Work**\n",
    "\n",
    "Vertex AI Search has clients with many ways of retrieving search results, including generated answers, that are grounded on information in datastores.  The search apps are also directly usable by other API's:\n",
    "- Generative AI On Vertex AI [Grounding Gemini Responses on your data](https://cloud.google.com/vertex-ai/generative-ai/docs/multimodal/ground-gemini#private-ground-gemini)\n",
    "\n",
    "To see this and many more grounding approaches side-by-side check out the accompanying workflow in this repository that uses the data store created here:\n",
    "- [Grounding Overview](./Grounding%20Overview.ipynb)\n",
    "\n"
   ]
  },
  {
   "cell_type": "markdown",
   "id": "5dbfcf0c-3e72-4625-9ff3-2942dec76bbc",
   "metadata": {
    "id": "od_UkDpvRmgD"
   },
   "source": [
    "---\n",
    "## Colab Setup\n",
    "\n",
    "When running this notebook in [Colab](https://colab.google/) or [Colab Enterprise](https://cloud.google.com/colab/docs/introduction), this section will authenticate to GCP (follow prompts in the popup) and set the current project for the session."
   ]
  },
  {
   "cell_type": "code",
   "execution_count": 1,
   "id": "bb3b96d5-badd-4ac7-940b-dcfd15c2924e",
   "metadata": {
    "executionInfo": {
     "elapsed": 195,
     "status": "ok",
     "timestamp": 1683726184843,
     "user": {
      "displayName": "Mike Henderson",
      "userId": "07691629187611687318"
     },
     "user_tz": 240
    },
    "id": "8UO9FnqyKBlF",
    "tags": []
   },
   "outputs": [],
   "source": [
    "PROJECT_ID = 'statmike-mlops-349915' # replace with project ID"
   ]
  },
  {
   "cell_type": "code",
   "execution_count": 2,
   "id": "afc25dc6-9b90-49f6-a5fa-343336d39a2d",
   "metadata": {
    "colab": {
     "base_uri": "https://localhost:8080/"
    },
    "executionInfo": {
     "elapsed": 68869,
     "status": "ok",
     "timestamp": 1683726253709,
     "user": {
      "displayName": "Mike Henderson",
      "userId": "07691629187611687318"
     },
     "user_tz": 240
    },
    "id": "N98-KK7LRkjm",
    "outputId": "09ec5008-0def-4e1a-c349-c598ee752f78",
    "tags": []
   },
   "outputs": [],
   "source": [
    "try:\n",
    "    from google.colab import auth\n",
    "    auth.authenticate_user()\n",
    "    !gcloud config set project {PROJECT_ID}\n",
    "except Exception:\n",
    "    pass"
   ]
  },
  {
   "cell_type": "markdown",
   "id": "a693b199-35cc-48bb-a0e2-c49cf1aca5f6",
   "metadata": {},
   "source": [
    "---\n",
    "## Installs and API Enablement\n",
    "\n",
    "The clients packages may need installing in this environment. "
   ]
  },
  {
   "cell_type": "markdown",
   "id": "04b81e66-b0ba-400f-ac9e-b074b81d6a08",
   "metadata": {},
   "source": [
    "### Installs (If Needed)"
   ]
  },
  {
   "cell_type": "code",
   "execution_count": 3,
   "id": "8f607198-71e3-4c52-ac3b-2e9025c5c62f",
   "metadata": {
    "tags": []
   },
   "outputs": [],
   "source": [
    "# tuples of (import name, install name, min_version)\n",
    "packages = [\n",
    "    ('google.cloud.storage', 'google-cloud-storage'),\n",
    "    ('google.cloud.discoveryengine', 'google-cloud-discoveryengine')\n",
    "]\n",
    "\n",
    "import importlib\n",
    "install = False\n",
    "for package in packages:\n",
    "    if not importlib.util.find_spec(package[0]):\n",
    "        print(f'installing package {package[1]}')\n",
    "        install = True\n",
    "        !pip install {package[1]} -U -q --user\n",
    "    elif len(package) == 3:\n",
    "        if importlib.metadata.version(package[0]) < package[2]:\n",
    "            print(f'updating package {package[1]}')\n",
    "            install = True\n",
    "            !pip install {package[1]} -U -q --user"
   ]
  },
  {
   "cell_type": "markdown",
   "id": "62128b3c-2067-44e7-86e9-647fdc205b97",
   "metadata": {},
   "source": [
    "### API Enablement"
   ]
  },
  {
   "cell_type": "code",
   "execution_count": 4,
   "id": "af185814-fd51-40b9-9011-918b3866b568",
   "metadata": {
    "tags": []
   },
   "outputs": [],
   "source": [
    "!gcloud services enable discoveryengine.googleapis.com"
   ]
  },
  {
   "cell_type": "markdown",
   "id": "14e79bba-79b9-462a-a407-632816116a53",
   "metadata": {},
   "source": [
    "### Restart Kernel (If Installs Occured)\n",
    "\n",
    "After a kernel restart the code submission can start with the next cell after this one."
   ]
  },
  {
   "cell_type": "code",
   "execution_count": 5,
   "id": "831f9192-1e50-4250-b897-84d16f138543",
   "metadata": {
    "tags": []
   },
   "outputs": [],
   "source": [
    "if install:\n",
    "    import IPython\n",
    "    app = IPython.Application.instance()\n",
    "    app.kernel.do_shutdown(True)\n",
    "    IPython.display.display(IPython.display.Markdown(\"\"\"<div class=\\\"alert alert-block alert-warning\\\">\n",
    "        <b>⚠️ The kernel is going to restart. Please wait until it is finished before continuing to the next step. The previous cells do not need to be run again⚠️</b>\n",
    "        </div>\"\"\"))"
   ]
  },
  {
   "cell_type": "markdown",
   "id": "fa2603c5-64d3-4d8f-acd4-27c2bbf64790",
   "metadata": {
    "id": "appt8-yVRtJ1"
   },
   "source": [
    "---\n",
    "## Setup"
   ]
  },
  {
   "cell_type": "markdown",
   "id": "d5052921-9d60-415f-97f8-7cd89308d6f9",
   "metadata": {
    "id": "63mx2EozRxFP"
   },
   "source": [
    "Inputs"
   ]
  },
  {
   "cell_type": "code",
   "execution_count": 6,
   "id": "932be11f-a647-4da7-88c0-e57445e42b04",
   "metadata": {
    "colab": {
     "base_uri": "https://localhost:8080/",
     "height": 35
    },
    "executionInfo": {
     "elapsed": 2124,
     "status": "ok",
     "timestamp": 1683726390544,
     "user": {
      "displayName": "Mike Henderson",
      "userId": "07691629187611687318"
     },
     "user_tz": 240
    },
    "id": "xzcoXjM5Rky5",
    "outputId": "b3bdcbc1-70d5-472e-aea2-42c74a42efde",
    "tags": []
   },
   "outputs": [
    {
     "data": {
      "text/plain": [
       "'statmike-mlops-349915'"
      ]
     },
     "execution_count": 6,
     "metadata": {},
     "output_type": "execute_result"
    }
   ],
   "source": [
    "project = !gcloud config get-value project\n",
    "PROJECT_ID = project[0]\n",
    "PROJECT_ID"
   ]
  },
  {
   "cell_type": "code",
   "execution_count": 7,
   "id": "15994a0a-b882-47ef-a154-afe441208b21",
   "metadata": {
    "executionInfo": {
     "elapsed": 2,
     "status": "ok",
     "timestamp": 1683726390712,
     "user": {
      "displayName": "Mike Henderson",
      "userId": "07691629187611687318"
     },
     "user_tz": 240
    },
    "id": "IxWrFtqYMfku",
    "tags": []
   },
   "outputs": [],
   "source": [
    "REGION = 'us-central1'\n",
    "SERIES = 'applied-genai'\n",
    "EXPERIMENT = 'grounding-overview'\n",
    "\n",
    "# make this the gcs bucket for storing files\n",
    "GCS_BUCKET = PROJECT_ID \n",
    "\n",
    "# vertex search location\n",
    "VS_LOCATION = 'global'"
   ]
  },
  {
   "cell_type": "markdown",
   "id": "ce02aea0-bc89-412a-ab2c-62c8fab4148b",
   "metadata": {
    "id": "LuajVwCiO6Yg"
   },
   "source": [
    "Packages"
   ]
  },
  {
   "cell_type": "code",
   "execution_count": 8,
   "id": "8f3d7274-034b-4e4f-918a-a1e934bf1e4e",
   "metadata": {
    "executionInfo": {
     "elapsed": 17761,
     "status": "ok",
     "timestamp": 1683726409304,
     "user": {
      "displayName": "Mike Henderson",
      "userId": "07691629187611687318"
     },
     "user_tz": 240
    },
    "id": "LVC7zzSLRk2C",
    "tags": []
   },
   "outputs": [],
   "source": [
    "import requests\n",
    "import base64\n",
    "import json\n",
    "import hashlib\n",
    "\n",
    "from google.cloud import storage\n",
    "\n",
    "import google.cloud.discoveryengine_v1 as discoveryengine\n",
    "import google.cloud.discoveryengine_v1alpha as discoveryengine_alpha"
   ]
  },
  {
   "cell_type": "markdown",
   "id": "73e69e3d-2302-4936-bdba-bae1b986a0d8",
   "metadata": {
    "id": "EyAVFG9TO9H-"
   },
   "source": [
    "Clients"
   ]
  },
  {
   "cell_type": "code",
   "execution_count": 9,
   "id": "6035882f-b31f-4bf1-aea7-59922d6785a4",
   "metadata": {
    "executionInfo": {
     "elapsed": 19,
     "status": "ok",
     "timestamp": 1683726409306,
     "user": {
      "displayName": "Mike Henderson",
      "userId": "07691629187611687318"
     },
     "user_tz": 240
    },
    "id": "L0RPE13LOZce",
    "tags": []
   },
   "outputs": [],
   "source": [
    "# vertex ai agent builder\n",
    "API_ENDPOINT = dict(api_endpoint = (f'{VS_LOCATION}-' if VS_LOCATION != 'global' else '') + 'discoveryengine.googleapis.com')\n",
    "datastore_client = discoveryengine.DataStoreServiceClient(client_options = API_ENDPOINT)\n",
    "document_client = discoveryengine.DocumentServiceClient(client_options = API_ENDPOINT)\n",
    "engine_client = discoveryengine.EngineServiceClient(client_options = API_ENDPOINT)\n",
    "search_client = discoveryengine.SearchServiceClient(client_options = API_ENDPOINT)\n",
    "\n",
    "# gcs client: assumes bucket already exists\n",
    "gcs = storage.Client(project = PROJECT_ID)\n",
    "bucket = gcs.bucket(GCS_BUCKET)"
   ]
  },
  {
   "cell_type": "markdown",
   "id": "9353ba08-e45f-4cfc-9b0d-0b404d161dcc",
   "metadata": {},
   "source": [
    "---\n",
    "## Prompt And Context\n",
    "\n",
    "The [official rules of baseball](https://img.mlbstatic.com/mlb-images/image/upload/mlb/wqn5ah4c3qtivwx3jatm.pdf), a pdf that is updated annually with the latest changes to the game and published by MLB.\n"
   ]
  },
  {
   "cell_type": "code",
   "execution_count": 10,
   "id": "c91b306e-638d-479d-ab5e-bceb057e90fa",
   "metadata": {
    "tags": []
   },
   "outputs": [],
   "source": [
    "prompt = \"what are the dimensions of first base in baseball?\""
   ]
  },
  {
   "cell_type": "code",
   "execution_count": 11,
   "id": "68fe43d1-c751-4877-8c9c-9b702744943c",
   "metadata": {
    "tags": []
   },
   "outputs": [],
   "source": [
    "url = 'https://img.mlbstatic.com/mlb-images/image/upload/mlb/wqn5ah4c3qtivwx3jatm.pdf'\n",
    "# get the pdf\n",
    "context_bytes = requests.get(url).content\n",
    "context_base64 = base64.b64encode(context_bytes).decode('utf-8')"
   ]
  },
  {
   "cell_type": "markdown",
   "id": "610db345-6bea-481a-973e-4132c30ecec4",
   "metadata": {},
   "source": [
    "---\n",
    "## Store Document(s) In GCS"
   ]
  },
  {
   "cell_type": "code",
   "execution_count": 12,
   "id": "3dfa024e-ad07-4035-9b4f-8fbc02417305",
   "metadata": {},
   "outputs": [],
   "source": [
    "# store pdf in gcs\n",
    "file_blob = bucket.blob(f\"{SERIES}/{EXPERIMENT}/{url.split('/')[-1]}\")\n",
    "file_blob.upload_from_string(context_bytes, content_type = 'application/pdf')"
   ]
  },
  {
   "cell_type": "markdown",
   "id": "1ed7ce9c-38c6-4384-bd48-4bfbeb880dc9",
   "metadata": {
    "tags": []
   },
   "source": [
    "---\n",
    "## Prepare Document(s) For The Vertex Agent Builder Data Store\n",
    "\n",
    "There are multiple ways to [prepare data for ingesting](https://cloud.google.com/generative-ai-app-builder/docs/prepare-data) depending on location, volume, how often it will change, and type (website, unstructured, strutred, media, third-party (Slack, ServiceNow, ...), Healthcare FHIR, ....).\n",
    "\n",
    "Here, the data will be prepared as **Unstructured data in GCS storage**.  Files an be imported as:\n",
    "- **single file** at GCS URI\n",
    "- **multiple files** in a GCS 'folder'.  Note that import is nnot recursive so subfolder will not be imported.  For this case or even multiple buckets see the next option:\n",
    "- **Any number of files** at a single or multiple folders and buckets can be imported with a **metadata** file.  A JSON lines file with one line per file that include the document id and uri as well as optional metadata.\n"
   ]
  },
  {
   "cell_type": "code",
   "execution_count": 13,
   "id": "010e0abd-15ae-4e4b-92a1-be606483e2c2",
   "metadata": {},
   "outputs": [
    {
     "name": "stdout",
     "output_type": "stream",
     "text": [
      "applied-genai/grounding-overview/wqn5ah4c3qtivwx3jatm.pdf\n"
     ]
    }
   ],
   "source": [
    "for blob in bucket.list_blobs(prefix = f\"{SERIES}/{EXPERIMENT}/{url.split('/')[-1]}\"):\n",
    "    print(blob.name)"
   ]
  },
  {
   "cell_type": "markdown",
   "id": "08a97a83-16e6-4692-9cbf-d93321e35635",
   "metadata": {},
   "source": [
    "### Document ID's\n",
    "\n",
    "The name of a file could make a great id.  But what happens if multiple file names exist but in different folders?  To make this managable across files, folders and buckets, adopting a hash of the full file path could be a great practice.  This function is designed to convert the full file path into a hash of length 63."
   ]
  },
  {
   "cell_type": "code",
   "execution_count": 14,
   "id": "50b60263-4fae-401e-880c-ed53c419794e",
   "metadata": {
    "tags": []
   },
   "outputs": [],
   "source": [
    "def generate_id(name):\n",
    "    hasher =hashlib.sha256()\n",
    "    hasher.update(name.encode('utf-8'))\n",
    "    return hasher.hexdigest()[0:63]"
   ]
  },
  {
   "cell_type": "code",
   "execution_count": 15,
   "id": "befc1025-f8d7-4cab-b6e4-2415a86a4b90",
   "metadata": {
    "tags": []
   },
   "outputs": [
    {
     "data": {
      "text/plain": [
       "'b48b4704ced27a1e9bdee5b1d90479abdb488b2df9fa0b93d554ea250039e18'"
      ]
     },
     "execution_count": 15,
     "metadata": {},
     "output_type": "execute_result"
    }
   ],
   "source": [
    "generate_id(bucket.name+'/'+blob.name)"
   ]
  },
  {
   "cell_type": "markdown",
   "id": "1574c432-e324-4119-99e4-b07a1183747e",
   "metadata": {},
   "source": [
    "### Create Metadata\n",
    "\n",
    "At a minimum the document `id` and the `content` needs to be provided but optional metadata can also provided as shown here with `structData`:"
   ]
  },
  {
   "cell_type": "code",
   "execution_count": 16,
   "id": "119a87b5-6963-458c-8b39-2eb0b3cb5d58",
   "metadata": {},
   "outputs": [],
   "source": [
    "metadata = []\n",
    "file_types = ['pdf', 'docx', 'txt', 'html', 'pptx']\n",
    "content_type = dict(\n",
    "  pdf = 'application/pdf',\n",
    "  txt = 'text/plain',\n",
    "  html = 'text/html',\n",
    "  docx = 'application/vnd.openxmlformats-officedocument.wordprocessingml.document',\n",
    "  pptx = 'application/vnd.openxmlformats-officedocument.presentationml.presentation'\n",
    ")\n",
    "for blob in bucket.list_blobs(prefix = f\"{SERIES}/{EXPERIMENT}/{url.split('/')[-1]}\"):\n",
    "    folder = blob.name.split('/')[0]\n",
    "    filename = blob.name.split('/')[-1]\n",
    "    filetype = blob.name.split('.')[-1].lower()\n",
    "    filepath = '/'.join(blob.name.split('/')[0:-1])\n",
    "    if filetype in file_types:\n",
    "        json_data = dict(\n",
    "            id = generate_id(blob.name),\n",
    "            structData = dict(\n",
    "                title= filename,\n",
    "                path = filepath,\n",
    "                location = bucket.name\n",
    "            ),\n",
    "            content = dict(\n",
    "                mimeType = content_type[filetype],\n",
    "                uri = f'gs://{blob.bucket.name}/{blob.name}'\n",
    "            )\n",
    "        )\n",
    "        metadata.append(json.dumps(json_data))   \n"
   ]
  },
  {
   "cell_type": "code",
   "execution_count": 17,
   "id": "8e45ee94-01eb-4b30-9e89-01e8b99c0ec9",
   "metadata": {},
   "outputs": [
    {
     "data": {
      "text/plain": [
       "['{\"id\": \"73bee30d37112e8e829720fe2f4a3ff0b450c2a51cd9fe03b5beeea277eed67\", \"structData\": {\"title\": \"wqn5ah4c3qtivwx3jatm.pdf\", \"path\": \"applied-genai/grounding-overview\", \"location\": \"statmike-mlops-349915\"}, \"content\": {\"mimeType\": \"application/pdf\", \"uri\": \"gs://statmike-mlops-349915/applied-genai/grounding-overview/wqn5ah4c3qtivwx3jatm.pdf\"}}']"
      ]
     },
     "execution_count": 17,
     "metadata": {},
     "output_type": "execute_result"
    }
   ],
   "source": [
    "metadata"
   ]
  },
  {
   "cell_type": "markdown",
   "id": "083b5a3f-5eca-46ce-977c-058f49e9c009",
   "metadata": {},
   "source": [
    "### Write Metadata File To GCS"
   ]
  },
  {
   "cell_type": "code",
   "execution_count": 18,
   "id": "2d2b9481-d58e-492b-b93b-2043c1ad665b",
   "metadata": {},
   "outputs": [],
   "source": [
    "metadata_blob = bucket.blob(f'{SERIES}/{EXPERIMENT}/{SERIES}-{EXPERIMENT}.json')\n",
    "with metadata_blob.open('w') as f:\n",
    "    for m in metadata:\n",
    "        f.write(m + '\\n')"
   ]
  },
  {
   "cell_type": "code",
   "execution_count": 19,
   "id": "1fb8c2fc-8b60-4d28-80ad-8a38f61cfcd1",
   "metadata": {
    "tags": []
   },
   "outputs": [
    {
     "data": {
      "text/plain": [
       "'gs://statmike-mlops-349915/applied-genai/grounding-overview/wqn5ah4c3qtivwx3jatm.pdf'"
      ]
     },
     "execution_count": 19,
     "metadata": {},
     "output_type": "execute_result"
    }
   ],
   "source": [
    "f\"gs://{bucket.name}/{blob.name}\""
   ]
  },
  {
   "cell_type": "markdown",
   "id": "86f6d454-3526-4ce0-9314-c843a07e9ff9",
   "metadata": {},
   "source": [
    "---\n",
    "## Create A Search Data Store\n",
    "\n",
    "[Creating a search data store](https://cloud.google.com/generative-ai-app-builder/docs/create-data-store-es) depends on the type of data, in this case an [import from cloud storage](https://cloud.google.com/generative-ai-app-builder/docs/create-data-store-es#cloud-storage) using a metadata file in JSON lines format. \n",
    "\n",
    "- [Discoveryengine Python Data Store Client](https://cloud.google.com/python/docs/reference/discoveryengine/latest/google.cloud.discoveryengine_v1.services.data_store_service.DataStoreServiceClient)"
   ]
  },
  {
   "cell_type": "code",
   "execution_count": 20,
   "id": "a785a320-d11c-410a-9654-f3f73ea252f1",
   "metadata": {
    "tags": []
   },
   "outputs": [],
   "source": [
    "VS_DATASTORE_ID = f\"{SERIES}-{EXPERIMENT}\""
   ]
  },
  {
   "cell_type": "markdown",
   "id": "72ecfeb9-5f5d-456f-9719-4a4205dca0e1",
   "metadata": {},
   "source": [
    "### Check For Existing Data Store (and retrieve)"
   ]
  },
  {
   "cell_type": "code",
   "execution_count": 21,
   "id": "10129a4f-0d3f-463b-824e-1d48e098e64a",
   "metadata": {
    "tags": []
   },
   "outputs": [
    {
     "data": {
      "text/plain": [
       "True"
      ]
     },
     "execution_count": 21,
     "metadata": {},
     "output_type": "execute_result"
    }
   ],
   "source": [
    "try:\n",
    "    datastore = datastore_client.get_data_store(\n",
    "        name = datastore_client.collection_path(\n",
    "            project = PROJECT_ID,\n",
    "            location = VS_LOCATION,\n",
    "            collection = 'default_collection'\n",
    "        ) + f'/dataStores/{VS_DATASTORE_ID}'\n",
    "    )\n",
    "    ds_exist = True\n",
    "except Exception as err:\n",
    "    ds_exist = False\n",
    "    \n",
    "ds_exist"
   ]
  },
  {
   "cell_type": "markdown",
   "id": "41b4a7fd-4bb4-4f4f-9b53-07e13df750c8",
   "metadata": {},
   "source": [
    "### Create New Data Store (if needed)"
   ]
  },
  {
   "cell_type": "code",
   "execution_count": 22,
   "id": "dd48ff1b-1afe-408a-b0cd-800f3f3a53f0",
   "metadata": {},
   "outputs": [],
   "source": [
    "if not ds_exist:\n",
    "    ds_create = datastore_client.create_data_store(\n",
    "        parent = datastore_client.collection_path(\n",
    "            project = PROJECT_ID,\n",
    "            location = VS_LOCATION,\n",
    "            collection = 'default_collection'\n",
    "        ),\n",
    "        data_store = discoveryengine.DataStore(\n",
    "            display_name = f\"{SERIES}-{EXPERIMENT}\",\n",
    "            industry_vertical = discoveryengine.IndustryVertical.GENERIC,\n",
    "            solution_types = [discoveryengine.SolutionType.SOLUTION_TYPE_SEARCH],\n",
    "            content_config = discoveryengine.DataStore.ContentConfig.CONTENT_REQUIRED,\n",
    "            #document_processing_config = discoveryengine.DocumentProcessingConfig(\n",
    "            #    #chunking_config = ,\n",
    "            #    default_parsing_config = discoveryengine.DocumentProcessingConfig.ParsingConfig.DigitalParsingConfig,\n",
    "            #    parsing_config_overrides = [\n",
    "            #        {'pdf' :discoveryengine.DocumentProcessingConfig.ParsingConfig.LayoutParsingConfig}\n",
    "            #    ]\n",
    "            #)\n",
    "        ),\n",
    "        data_store_id = VS_DATASTORE_ID\n",
    "    )\n",
    "    response = ds_create.result()\n",
    "    print(ds_create.operation.name)"
   ]
  },
  {
   "cell_type": "markdown",
   "id": "abdb9e76-ff1d-48ab-b904-4b820e804c0f",
   "metadata": {},
   "source": [
    "### Get The Data Store ID"
   ]
  },
  {
   "cell_type": "code",
   "execution_count": 23,
   "id": "8663e141-9540-4b8c-b14d-f22291acd9e1",
   "metadata": {
    "tags": []
   },
   "outputs": [
    {
     "data": {
      "text/plain": [
       "name: \"projects/1026793852137/locations/global/collections/default_collection/dataStores/applied-genai-grounding-overview\"\n",
       "display_name: \"applied-genai-grounding-overview\"\n",
       "industry_vertical: GENERIC\n",
       "solution_types: SOLUTION_TYPE_SEARCH\n",
       "default_schema_id: \"default_schema\"\n",
       "content_config: CONTENT_REQUIRED\n",
       "create_time {\n",
       "  seconds: 1724189228\n",
       "  nanos: 173562000\n",
       "}"
      ]
     },
     "execution_count": 23,
     "metadata": {},
     "output_type": "execute_result"
    }
   ],
   "source": [
    "datastore = datastore_client.get_data_store(\n",
    "    name = datastore_client.collection_path(\n",
    "        project = PROJECT_ID,\n",
    "        location = VS_LOCATION,\n",
    "        collection = 'default_collection'\n",
    "    ) + f'/dataStores/{VS_DATASTORE_ID}'\n",
    ")\n",
    "datastore"
   ]
  },
  {
   "cell_type": "code",
   "execution_count": 24,
   "id": "3e870847-46f5-48f4-8e70-b332cbf9fbd1",
   "metadata": {
    "tags": []
   },
   "outputs": [
    {
     "data": {
      "text/plain": [
       "'projects/1026793852137/locations/global/collections/default_collection/dataStores/applied-genai-grounding-overview'"
      ]
     },
     "execution_count": 24,
     "metadata": {},
     "output_type": "execute_result"
    }
   ],
   "source": [
    "datastore.name"
   ]
  },
  {
   "cell_type": "code",
   "execution_count": 25,
   "id": "dfecf3f6-7dda-4cbf-b44b-8657d94b41fe",
   "metadata": {
    "tags": []
   },
   "outputs": [
    {
     "data": {
      "text/plain": [
       "{'project': '1026793852137',\n",
       " 'location': 'global/collections/default_collection',\n",
       " 'data_store': 'applied-genai-grounding-overview'}"
      ]
     },
     "execution_count": 25,
     "metadata": {},
     "output_type": "execute_result"
    }
   ],
   "source": [
    "datastore_id = datastore_client.parse_data_store_path(datastore.name)\n",
    "datastore_id"
   ]
  },
  {
   "cell_type": "markdown",
   "id": "7d238cae-fe67-407a-b37a-5039afd99945",
   "metadata": {},
   "source": [
    "### List Documents If Prior Data Store"
   ]
  },
  {
   "cell_type": "code",
   "execution_count": 26,
   "id": "ad5929c4-98f9-4061-b0d4-e1caa2b653d8",
   "metadata": {
    "tags": []
   },
   "outputs": [
    {
     "name": "stdout",
     "output_type": "stream",
     "text": [
      "gs://statmike-mlops-349915/applied-genai/grounding-overview/wqn5ah4c3qtivwx3jatm.pdf\n"
     ]
    },
    {
     "data": {
      "text/plain": [
       "True"
      ]
     },
     "execution_count": 26,
     "metadata": {},
     "output_type": "execute_result"
    }
   ],
   "source": [
    "if ds_exist:\n",
    "    doc_exist = False\n",
    "    for doc in document_client.list_documents(\n",
    "        parent = document_client.branch_path(\n",
    "            project = PROJECT_ID,\n",
    "            location = VS_LOCATION,\n",
    "            data_store = datastore_id['data_store'],\n",
    "            branch = 'default_branch'\n",
    "        )\n",
    "    ):\n",
    "        print(doc.content.uri)\n",
    "        if doc.content.uri == f\"gs://{bucket.name}/{file_blob.name}\":\n",
    "            doc_exist = True\n",
    "            break\n",
    "\n",
    "doc_exist"
   ]
  },
  {
   "cell_type": "markdown",
   "id": "c37c8303-13ca-4092-a5f1-e93ac195730e",
   "metadata": {},
   "source": [
    "### Import Documents (if missing)\n",
    "\n",
    "- [Discoveryengine Python Document Service Client](https://cloud.google.com/python/docs/reference/discoveryengine/latest/google.cloud.discoveryengine_v1.services.document_service.DocumentServiceClient)"
   ]
  },
  {
   "cell_type": "code",
   "execution_count": 27,
   "id": "4decce45-ee04-4e40-8cc5-709bc1b9b68e",
   "metadata": {},
   "outputs": [],
   "source": [
    "if not doc_exist:\n",
    "    doc_import = document_client.import_documents(\n",
    "        request = discoveryengine.ImportDocumentsRequest(\n",
    "            parent = document_client.branch_path(\n",
    "                project = PROJECT_ID,\n",
    "                location = VS_LOCATION,\n",
    "                data_store = datastore_id['data_store'],\n",
    "                branch = 'default_branch'\n",
    "            ),\n",
    "            gcs_source = discoveryengine.GcsSource(\n",
    "                input_uris = [f\"gs://{bucket.name}/{metadata_blob.name}\"],\n",
    "                data_schema = 'document'\n",
    "            ),\n",
    "            reconciliation_mode = discoveryengine.ImportDocumentsRequest.ReconciliationMode.INCREMENTAL\n",
    "        )\n",
    "    )\n",
    "    response = doc_import.result()\n",
    "    operation_metadata = discoveryengine.ImportDocumentsMetadata(doc_import.metadata)\n",
    "    print(operation_metadata)"
   ]
  },
  {
   "cell_type": "markdown",
   "id": "8d0f698c-d879-4084-b0bb-8625737d1d86",
   "metadata": {},
   "source": [
    "### Console View Of Data Store"
   ]
  },
  {
   "cell_type": "code",
   "execution_count": 28,
   "id": "043f086b-f565-478f-92c8-4adbf80e8044",
   "metadata": {
    "tags": []
   },
   "outputs": [
    {
     "name": "stdout",
     "output_type": "stream",
     "text": [
      "Review the data store in the console:\n",
      "\n",
      "https://console.cloud.google.com/gen-app-builder/locations/global/collections/default_collection/data-stores/applied-genai-grounding-overview/data/documents?project=statmike-mlops-349915\n"
     ]
    }
   ],
   "source": [
    "print(f\"Review the data store in the console:\\n\\nhttps://console.cloud.google.com/gen-app-builder/locations/{VS_LOCATION}/collections/{'default_collection'}/data-stores/{datastore_id['data_store']}/data/documents?project=statmike-mlops-349915\")"
   ]
  },
  {
   "cell_type": "markdown",
   "id": "1abb40f5-766f-40cd-abe3-91c6bd3ac6b8",
   "metadata": {},
   "source": [
    "<p align=\"center\">\n",
    "    <img src=\"./resources/images/screenshots/grounding/vs_datastore.png\" width=\"75%\">\n",
    "<p>"
   ]
  },
  {
   "cell_type": "markdown",
   "id": "656c737f-bd2d-441d-b2e4-ec4024c2479c",
   "metadata": {},
   "source": [
    "---\n",
    "## Create A Search App\n",
    "\n",
    "The [Relationship between apps and data stores](https://cloud.google.com/generative-ai-app-builder/docs/create-datastore-ingest#app-store-relationship) allows one or more apps to search and retrieve from or more (blended search) data stores.\n",
    "\n",
    "Here we [creatre an app](https://cloud.google.com/generative-ai-app-builder/docs/create-engine-es) that uses the data store created above.\n",
    "\n",
    "- [Discoveryengine Python Engine Service Client](https://cloud.google.com/python/docs/reference/discoveryengine/latest/google.cloud.discoveryengine_v1.services.engine_service.EngineServiceClient)"
   ]
  },
  {
   "cell_type": "code",
   "execution_count": 29,
   "id": "c653a5f7-77c7-4047-84d2-0dba6e931e81",
   "metadata": {
    "tags": []
   },
   "outputs": [],
   "source": [
    "VS_APP_ID = f\"{SERIES}-{EXPERIMENT}\""
   ]
  },
  {
   "cell_type": "markdown",
   "id": "ad251d07-6210-49ed-a69c-f56f42788388",
   "metadata": {},
   "source": [
    "### Check For Existing Search App"
   ]
  },
  {
   "cell_type": "code",
   "execution_count": 30,
   "id": "8f082484-73ac-4237-a686-8df1959855d8",
   "metadata": {
    "tags": []
   },
   "outputs": [
    {
     "data": {
      "text/plain": [
       "True"
      ]
     },
     "execution_count": 30,
     "metadata": {},
     "output_type": "execute_result"
    }
   ],
   "source": [
    "try:\n",
    "    app = engine_client.get_engine(\n",
    "        name = engine_client.engine_path(\n",
    "            project = PROJECT_ID,\n",
    "            location = VS_LOCATION,\n",
    "            collection = 'default_collection',\n",
    "            engine = VS_APP_ID\n",
    "        )\n",
    "    )\n",
    "    app_exist = True\n",
    "except Exception as err:\n",
    "    app_exist = False\n",
    "    \n",
    "app_exist"
   ]
  },
  {
   "cell_type": "markdown",
   "id": "4068fec7-7e1c-40b8-b41f-9082e5f01a03",
   "metadata": {},
   "source": [
    "### Create New Search App (if needed)"
   ]
  },
  {
   "cell_type": "code",
   "execution_count": 31,
   "id": "9da5b351-40e4-4481-bff7-3738eb4998bd",
   "metadata": {
    "tags": []
   },
   "outputs": [],
   "source": [
    "if not app_exist:\n",
    "    app_create = engine_client.create_engine(\n",
    "        parent = engine_client.collection_path(\n",
    "            project = PROJECT_ID,\n",
    "            location = VS_LOCATION,\n",
    "            collection = 'default_collection'\n",
    "        ),\n",
    "        engine = discoveryengine.Engine(\n",
    "            display_name = VS_APP_ID,\n",
    "            industry_vertical = discoveryengine.IndustryVertical.GENERIC,\n",
    "            solution_type = discoveryengine.SolutionType.SOLUTION_TYPE_SEARCH,\n",
    "            search_engine_config = discoveryengine.Engine.SearchEngineConfig(\n",
    "                search_tier = discoveryengine.SearchTier.SEARCH_TIER_ENTERPRISE,\n",
    "                search_add_ons = [discoveryengine.SearchAddOn.SEARCH_ADD_ON_LLM],\n",
    "            ),\n",
    "            data_store_ids = [datastore_id['data_store']],\n",
    "        ),\n",
    "        engine_id = VS_APP_ID\n",
    "    )\n",
    "    response = app_create.result()\n",
    "    operation_metadata = discoveryengine.CreateEngineMetadata(app_create.metadata)\n",
    "    print(operation_metadata)\n",
    "    print(app_create.operation.name)"
   ]
  },
  {
   "cell_type": "markdown",
   "id": "8766f88c-1e33-43a0-bc51-b0553d0a005d",
   "metadata": {
    "tags": []
   },
   "source": [
    "### Console View Of Search App\n",
    "\n",
    "Opens to the preview tab for easy testing:"
   ]
  },
  {
   "cell_type": "code",
   "execution_count": 32,
   "id": "1ba19512-8719-4df4-b31d-b74d858a32b8",
   "metadata": {
    "tags": []
   },
   "outputs": [
    {
     "name": "stdout",
     "output_type": "stream",
     "text": [
      "Review the search app in the console:\n",
      "\n",
      "https://console.cloud.google.com/gen-app-builder/locations/global/engines/applied-genai-grounding-overview/preview/search?project=statmike-mlops-349915\n"
     ]
    }
   ],
   "source": [
    "print(f\"Review the search app in the console:\\n\\nhttps://console.cloud.google.com/gen-app-builder/locations/{VS_LOCATION}/engines/{datastore_id['data_store']}/preview/search?project=statmike-mlops-349915\")"
   ]
  },
  {
   "cell_type": "markdown",
   "id": "d7073059-ff1c-4b2f-a464-c5145e7c4d86",
   "metadata": {},
   "source": [
    "<p align=\"center\">\n",
    "    <img src=\"./resources/images/screenshots/grounding/vs_app_preview.png\" width=\"75%\">\n",
    "<p>"
   ]
  },
  {
   "cell_type": "markdown",
   "id": "5fad546d-f37b-4145-93be-fd466c30d1f8",
   "metadata": {},
   "source": [
    "---\n",
    "## Search: Multiple Methods\n",
    "\n",
    "The search app can be used to retrieve layers of increasing detailed information, including LLM generated summaries that answer the input question.  This section shows how to use use the SDK to do each type of search.\n",
    "\n",
    "- [Discoveryengine Python Search Service Client](https://cloud.google.com/python/docs/reference/discoveryengine/latest/google.cloud.discoveryengine_v1.services.search_service)"
   ]
  },
  {
   "cell_type": "code",
   "execution_count": 33,
   "id": "82c76a0f-6d6c-41b1-a88e-f22d7918fce4",
   "metadata": {
    "tags": []
   },
   "outputs": [],
   "source": [
    "serving_config = search_client.serving_config_path(\n",
    "    project = PROJECT_ID,\n",
    "    location = VS_LOCATION,\n",
    "    data_store = VS_DATASTORE_ID,\n",
    "    serving_config = 'default_config'\n",
    ")"
   ]
  },
  {
   "cell_type": "markdown",
   "id": "ec362ac9-7b66-4906-abe0-f100c41c4bce",
   "metadata": {},
   "source": [
    "---\n",
    "### Get Search Results \n",
    "\n",
    "[Get search results](https://cloud.google.com/generative-ai-app-builder/docs/preview-search-results) using the API.  This approach returns a list of documents that match the search/query, and nothing more."
   ]
  },
  {
   "cell_type": "code",
   "execution_count": 34,
   "id": "b05e21cd-ac43-4730-925c-f53232784a85",
   "metadata": {
    "tags": []
   },
   "outputs": [],
   "source": [
    "search_response = search_client.search(\n",
    "    request = discoveryengine.SearchRequest(\n",
    "        query = prompt, # pass the user search/question\n",
    "        page_size = 10, # max documents to return\n",
    "        serving_config = serving_config,\n",
    "        # search behavior:\n",
    "        content_search_spec = discoveryengine.SearchRequest.ContentSearchSpec(\n",
    "            snippet_spec = discoveryengine.SearchRequest.ContentSearchSpec.SnippetSpec(\n",
    "                return_snippet = False\n",
    "            ),\n",
    "        ),\n",
    "        # how queries and spelling are handled:\n",
    "        query_expansion_spec = discoveryengine.SearchRequest.QueryExpansionSpec(\n",
    "            condition = discoveryengine.SearchRequest.QueryExpansionSpec.Condition.AUTO\n",
    "        ),\n",
    "        spell_correction_spec = discoveryengine.SearchRequest.SpellCorrectionSpec(\n",
    "            mode = discoveryengine.SearchRequest.SpellCorrectionSpec.Mode.AUTO\n",
    "        )\n",
    "    )\n",
    ")"
   ]
  },
  {
   "cell_type": "code",
   "execution_count": 35,
   "id": "12994023-2350-4030-a7cc-a768632b10dc",
   "metadata": {
    "tags": []
   },
   "outputs": [],
   "source": [
    "#search_response"
   ]
  },
  {
   "cell_type": "markdown",
   "id": "0b8e6cee-9835-4a3d-8575-a977da6be478",
   "metadata": {},
   "source": [
    "Gather results:"
   ]
  },
  {
   "cell_type": "code",
   "execution_count": 36,
   "id": "a13b0656-4616-4131-862a-dc42a3e157f7",
   "metadata": {
    "tags": []
   },
   "outputs": [],
   "source": [
    "search_results = []\n",
    "for result in search_response.results:\n",
    "    document = dict(result.document.derived_struct_data) |  dict(result.document.struct_data)\n",
    "    search_results.append(document)"
   ]
  },
  {
   "cell_type": "code",
   "execution_count": 37,
   "id": "92f8eb39-c693-460b-b608-24a2931f20c9",
   "metadata": {
    "tags": []
   },
   "outputs": [],
   "source": [
    "#search_results"
   ]
  },
  {
   "cell_type": "markdown",
   "id": "126c9c73-c0d0-4147-ac42-56e30de3ee06",
   "metadata": {},
   "source": [
    "Format and Print results:"
   ]
  },
  {
   "cell_type": "code",
   "execution_count": 38,
   "id": "cfc502ad-a4b7-4c5d-8743-17b532d2df15",
   "metadata": {
    "tags": []
   },
   "outputs": [
    {
     "name": "stdout",
     "output_type": "stream",
     "text": [
      "\n",
      "Source Document 1:\n",
      "\tName: wqn5ah4c3qtivwx3jatm.pdf\n",
      "\tLink: gs://statmike-mlops-349915/applied-genai/grounding-overview/wqn5ah4c3qtivwx3jatm.pdf"
     ]
    }
   ],
   "source": [
    "for r, result in enumerate(search_results):\n",
    "    print(f\"\\nSource Document {r+1}:\", end = \"\")\n",
    "    print(f\"\\n\\tName: {result['title']}\", end = \"\")\n",
    "    print(f\"\\n\\tLink: {result['link']}\", end = \"\")"
   ]
  },
  {
   "cell_type": "markdown",
   "id": "3255a70e-9b08-4071-a8c3-983e1d907575",
   "metadata": {},
   "source": [
    "---\n",
    "### Get Search Results - Including Snippets\n",
    "\n",
    "In addition to search results you can also request **snippets**, brief extracts from the matched documents that serve as a preview of the content. Read more here: [Get Snippets And Extractive Segments](https://cloud.google.com/generative-ai-app-builder/docs/snippets)."
   ]
  },
  {
   "cell_type": "code",
   "execution_count": 40,
   "id": "3d37a0aa-67f6-4387-935f-3dac70d63fdb",
   "metadata": {
    "tags": []
   },
   "outputs": [],
   "source": [
    "search_response = search_client.search(\n",
    "    request = discoveryengine.SearchRequest(\n",
    "        query = prompt, # pass the user search/question\n",
    "        page_size = 10, # max documents to return\n",
    "        serving_config = serving_config,\n",
    "        # search behavior:\n",
    "        content_search_spec = discoveryengine.SearchRequest.ContentSearchSpec(\n",
    "            snippet_spec = discoveryengine.SearchRequest.ContentSearchSpec.SnippetSpec(\n",
    "                return_snippet = True\n",
    "            ),\n",
    "        ),\n",
    "        # how queries and spelling are handled:\n",
    "        query_expansion_spec = discoveryengine.SearchRequest.QueryExpansionSpec(\n",
    "            condition = discoveryengine.SearchRequest.QueryExpansionSpec.Condition.AUTO\n",
    "        ),\n",
    "        spell_correction_spec = discoveryengine.SearchRequest.SpellCorrectionSpec(\n",
    "            mode = discoveryengine.SearchRequest.SpellCorrectionSpec.Mode.AUTO\n",
    "        )\n",
    "    )\n",
    ")"
   ]
  },
  {
   "cell_type": "code",
   "execution_count": 41,
   "id": "5462773c-fde7-4506-8aa3-c48fdd5bb45f",
   "metadata": {
    "tags": []
   },
   "outputs": [],
   "source": [
    "#search_response"
   ]
  },
  {
   "cell_type": "markdown",
   "id": "3f997142-560c-40a8-989e-21baea6a6c68",
   "metadata": {},
   "source": [
    "Gather results:"
   ]
  },
  {
   "cell_type": "code",
   "execution_count": 42,
   "id": "586e020d-6ce7-4100-aec2-456258ce1df6",
   "metadata": {
    "tags": []
   },
   "outputs": [],
   "source": [
    "search_results = []\n",
    "for result in search_response.results:\n",
    "    document = dict(result.document.derived_struct_data) |  dict(result.document.struct_data)\n",
    "    if 'snippets' in document.keys():\n",
    "        document['snippets'] = [dict(snippet) for snippet in document['snippets'] if snippet['snippet_status'] == 'SUCCESS']\n",
    "    search_results.append(document)"
   ]
  },
  {
   "cell_type": "code",
   "execution_count": 43,
   "id": "4587d23c-c8c5-4ad1-aa86-c0f916b55f10",
   "metadata": {
    "tags": []
   },
   "outputs": [],
   "source": [
    "#search_results"
   ]
  },
  {
   "cell_type": "markdown",
   "id": "6b1773ce-2e71-4583-82f4-c1a6abd18a24",
   "metadata": {},
   "source": [
    "Format and Print results:"
   ]
  },
  {
   "cell_type": "code",
   "execution_count": 44,
   "id": "4d507f6e-d87c-4c16-abe0-6228f42e8bac",
   "metadata": {
    "tags": []
   },
   "outputs": [
    {
     "name": "stdout",
     "output_type": "stream",
     "text": [
      "\n",
      "Source Document 1:\n",
      "\tName: wqn5ah4c3qtivwx3jatm.pdf\n",
      "\tLink: gs://statmike-mlops-349915/applied-genai/grounding-overview/wqn5ah4c3qtivwx3jatm.pdf\n",
      "\tSnippet 1: All <b>measurements</b> from home <b>base</b> shall be taken from the point where the <b>first</b> and third <b>base</b> lines intersect. The catcher&#39;s box, the <b>batters</b>&#39; boxes, the coaches&nbsp;..."
     ]
    }
   ],
   "source": [
    "for r, result in enumerate(search_results):\n",
    "    print(f\"\\nSource Document {r+1}:\", end = \"\")\n",
    "    print(f\"\\n\\tName: {result['title']}\", end = \"\")\n",
    "    print(f\"\\n\\tLink: {result['link']}\", end = \"\")\n",
    "    if 'snippets' in result.keys():\n",
    "        for s, snippet in enumerate(result['snippets']):\n",
    "            print(f\"\\n\\tSnippet {s+1}: {snippet['snippet']}\", end = \"\")"
   ]
  },
  {
   "cell_type": "markdown",
   "id": "6228f0c8-2df6-4f8d-b6d4-33e4c53a1d63",
   "metadata": {},
   "source": [
    "---\n",
    "### Get Search Results - Including Extrative Answers\n",
    "\n",
    "In addition to search results you can also request **Extractive Answers**, a short verbatim text extracted from the document for use as a brief answer. Read more here: [Get Snippets And Extractive Segments](https://cloud.google.com/generative-ai-app-builder/docs/snippets)."
   ]
  },
  {
   "cell_type": "code",
   "execution_count": 45,
   "id": "45aa1715-ca17-4af2-9480-a027d66bdd60",
   "metadata": {
    "tags": []
   },
   "outputs": [],
   "source": [
    "search_response = search_client.search(\n",
    "    request = discoveryengine.SearchRequest(\n",
    "        query = prompt, # pass the user search/question\n",
    "        page_size = 10, # max documents to return\n",
    "        serving_config = serving_config,\n",
    "        # search behavior:\n",
    "        content_search_spec = discoveryengine.SearchRequest.ContentSearchSpec(\n",
    "            snippet_spec = discoveryengine.SearchRequest.ContentSearchSpec.SnippetSpec(\n",
    "                return_snippet = False\n",
    "            ),\n",
    "            extractive_content_spec = discoveryengine.SearchRequest.ContentSearchSpec.ExtractiveContentSpec(\n",
    "                max_extractive_answer_count = 2\n",
    "            )\n",
    "        ),\n",
    "        # how queries and spelling are handled:\n",
    "        query_expansion_spec = discoveryengine.SearchRequest.QueryExpansionSpec(\n",
    "            condition = discoveryengine.SearchRequest.QueryExpansionSpec.Condition.AUTO\n",
    "        ),\n",
    "        spell_correction_spec = discoveryengine.SearchRequest.SpellCorrectionSpec(\n",
    "            mode = discoveryengine.SearchRequest.SpellCorrectionSpec.Mode.AUTO\n",
    "        )\n",
    "    )\n",
    ")"
   ]
  },
  {
   "cell_type": "code",
   "execution_count": 46,
   "id": "4dfc98a8-2141-4bd6-b49e-7a5e6cda898e",
   "metadata": {
    "tags": []
   },
   "outputs": [],
   "source": [
    "#search_response"
   ]
  },
  {
   "cell_type": "markdown",
   "id": "4815db14-1b02-4997-99ce-f32ecb29b455",
   "metadata": {},
   "source": [
    "Gather results:"
   ]
  },
  {
   "cell_type": "code",
   "execution_count": 47,
   "id": "5f1afa70-f2c3-45b9-a0ec-62fb05a2a1d8",
   "metadata": {
    "tags": []
   },
   "outputs": [],
   "source": [
    "search_results = []\n",
    "for result in search_response.results:\n",
    "    document = dict(result.document.derived_struct_data) |  dict(result.document.struct_data)\n",
    "    if 'extractive_answers' in document.keys():\n",
    "        document['extrative_answers'] = [dict(answer) for answer in document['extractive_answers']]\n",
    "    search_results.append(document)"
   ]
  },
  {
   "cell_type": "code",
   "execution_count": 48,
   "id": "b2ceb810-0a97-401e-b26c-58aee4ae9a35",
   "metadata": {
    "tags": []
   },
   "outputs": [],
   "source": [
    "#search_results"
   ]
  },
  {
   "cell_type": "markdown",
   "id": "81480c37-344e-464f-a687-bcd9db20d176",
   "metadata": {},
   "source": [
    "Format and Print results:"
   ]
  },
  {
   "cell_type": "code",
   "execution_count": 49,
   "id": "08364b4b-e630-4277-8485-49ebb1ac7ebb",
   "metadata": {
    "tags": []
   },
   "outputs": [
    {
     "name": "stdout",
     "output_type": "stream",
     "text": [
      "\n",
      "Source Document 1:\n",
      "\tName: wqn5ah4c3qtivwx3jatm.pdf\n",
      "\tLink: gs://statmike-mlops-349915/applied-genai/grounding-overview/wqn5ah4c3qtivwx3jatm.pdf\n",
      "\tAnswer 1 (page = 14): See Appendix 1. When location of home base is determined, with a steel tape measure 127 feet, 33 ⁄8 inches in desired direction to establish second base. From home base, measure 90 feet toward first base; from second base, measure 90 feet toward first base; the intersection of these lines establishes first base.\n",
      "\tAnswer 2 (page = 15): 2.02 Home Base Home base shall be marked by a five-sided slab of whitened rubber. It shall be a <b>17-inch square with two of the corners removed so that one edge is 17 inches long, two adjacent sides are 8½ inches and the remaining two sides are 12 inches</b> and set at an angle to make a point."
     ]
    }
   ],
   "source": [
    "for r, result in enumerate(search_results):\n",
    "    print(f\"\\nSource Document {r+1}:\", end = \"\")\n",
    "    print(f\"\\n\\tName: {result['title']}\", end = \"\")\n",
    "    print(f\"\\n\\tLink: {result['link']}\", end = \"\")\n",
    "    if 'extractive_answers' in result.keys():\n",
    "        for a, answer in enumerate(result['extrative_answers']):\n",
    "            print(f\"\\n\\tAnswer {a+1} (page = {answer['pageNumber']}): {answer['content']}\", end = \"\")"
   ]
  },
  {
   "cell_type": "markdown",
   "id": "6e3d8a7b-5e0e-4da0-a2bf-1a3ea87c7357",
   "metadata": {},
   "source": [
    "---\n",
    "### Get Search Results - Including Extrative Segments\n",
    "\n",
    "In addition to search results you can also request **Extractive Segments**, a longer verbatim text (than extrative answers) extracted from the document for use as a brief answer or post-processing like context for an LLM. Read more here: [Get Snippets And Extractive Segments](https://cloud.google.com/generative-ai-app-builder/docs/snippets)."
   ]
  },
  {
   "cell_type": "code",
   "execution_count": 50,
   "id": "21eda673-afc2-41d9-a7ca-4f30f10a5d1c",
   "metadata": {
    "tags": []
   },
   "outputs": [],
   "source": [
    "search_response = search_client.search(\n",
    "    request = discoveryengine.SearchRequest(\n",
    "        query = prompt, # pass the user search/question\n",
    "        page_size = 10, # max documents to return\n",
    "        serving_config = serving_config,\n",
    "        # search behavior:\n",
    "        content_search_spec = discoveryengine.SearchRequest.ContentSearchSpec(\n",
    "            snippet_spec = discoveryengine.SearchRequest.ContentSearchSpec.SnippetSpec(\n",
    "                return_snippet = False\n",
    "            ),\n",
    "            extractive_content_spec = discoveryengine.SearchRequest.ContentSearchSpec.ExtractiveContentSpec(\n",
    "                max_extractive_segment_count = 2,\n",
    "                return_extractive_segment_score = True,\n",
    "                #num_previous_segments = 1,\n",
    "                #num_next_segments = 1\n",
    "            )\n",
    "        ),\n",
    "        # how queries and spelling are handled:\n",
    "        query_expansion_spec = discoveryengine.SearchRequest.QueryExpansionSpec(\n",
    "            condition = discoveryengine.SearchRequest.QueryExpansionSpec.Condition.AUTO\n",
    "        ),\n",
    "        spell_correction_spec = discoveryengine.SearchRequest.SpellCorrectionSpec(\n",
    "            mode = discoveryengine.SearchRequest.SpellCorrectionSpec.Mode.AUTO\n",
    "        )\n",
    "    )\n",
    ")"
   ]
  },
  {
   "cell_type": "code",
   "execution_count": 51,
   "id": "ed74b519-d0d1-4ee0-bf7b-cd84ac6b034d",
   "metadata": {
    "tags": []
   },
   "outputs": [],
   "source": [
    "#search_response"
   ]
  },
  {
   "cell_type": "markdown",
   "id": "3af7c8ca-6d92-4d92-993f-7ccb70907afe",
   "metadata": {},
   "source": [
    "Gather results:"
   ]
  },
  {
   "cell_type": "code",
   "execution_count": 52,
   "id": "cd221f95-04d4-4b9c-b4d3-5976233ddf5e",
   "metadata": {
    "tags": []
   },
   "outputs": [],
   "source": [
    "search_results = []\n",
    "for result in search_response.results:\n",
    "    document = dict(result.document.derived_struct_data) |  dict(result.document.struct_data)\n",
    "    if 'extractive_segments' in document.keys():\n",
    "        document['extractive_segments'] = [dict(segment) for segment in document['extractive_segments']]\n",
    "    search_results.append(document)"
   ]
  },
  {
   "cell_type": "code",
   "execution_count": 53,
   "id": "d18c971e-ec35-477f-835f-c5476e42f87b",
   "metadata": {
    "tags": []
   },
   "outputs": [],
   "source": [
    "#search_results"
   ]
  },
  {
   "cell_type": "markdown",
   "id": "980d7fbb-eb09-4719-95eb-9f9cdb42870e",
   "metadata": {},
   "source": [
    "Format and Print results:"
   ]
  },
  {
   "cell_type": "code",
   "execution_count": 54,
   "id": "22df16ac-c819-4240-ac10-853b6d05d567",
   "metadata": {
    "tags": []
   },
   "outputs": [
    {
     "name": "stdout",
     "output_type": "stream",
     "text": [
      "\n",
      "Source Document 1:\n",
      "\tName: wqn5ah4c3qtivwx3jatm.pdf\n",
      "\tLink: gs://statmike-mlops-349915/applied-genai/grounding-overview/wqn5ah4c3qtivwx3jatm.pdf\n",
      "\tSegment 1 (page = 14, relevance score = 0.831): 2  Rule 2.01  2.00–THE PLAYING FIELD  2.01 Layout  ... (2120 more characters)\n",
      "\tSegment 2 (page = 15, relevance score = 0.814): 3  Rule 2.01 to 2.02  The foul lines and all other ... (1994 more characters)"
     ]
    }
   ],
   "source": [
    "for r, result in enumerate(search_results):\n",
    "    print(f\"\\nSource Document {r+1}:\", end = \"\")\n",
    "    print(f\"\\n\\tName: {result['title']}\", end = \"\")\n",
    "    print(f\"\\n\\tLink: {result['link']}\", end = \"\")\n",
    "    if 'extractive_segments' in result.keys():\n",
    "        for s, segment in enumerate(result['extractive_segments']):\n",
    "            len_content = len(segment['content'])\n",
    "            content = segment['content'][0:min(50, len_content)]\n",
    "            if len_content > 50:\n",
    "                content += f' ... ({len_content - 50} more characters)'\n",
    "            content = content.replace(\"\\n\", \" \")\n",
    "            print(f\"\\n\\tSegment {s+1} (page = {segment['pageNumber']}, relevance score = {segment['relevanceScore']:.3f}): {content}\", end = \"\")"
   ]
  },
  {
   "cell_type": "markdown",
   "id": "21c5c34f-6874-4a21-9900-4107f665b77c",
   "metadata": {},
   "source": [
    "---\n",
    "### Get Search Results - Including Summaries\n",
    "\n",
    "Going a step farther than search results is a search summary.  This request that parts of the results be interpreted by an LLM and summarized as an answer.\n",
    "\n",
    "- [Get Search Summaries](https://cloud.google.com/generative-ai-app-builder/docs/get-search-summaries)\n",
    "- [Available Model Versions and Lifecycle](https://cloud.google.com/generative-ai-app-builder/docs/answer-generation-models)"
   ]
  },
  {
   "cell_type": "code",
   "execution_count": 55,
   "id": "2563fd83-93bc-4e0f-a7e4-753c15e1c17d",
   "metadata": {
    "tags": []
   },
   "outputs": [],
   "source": [
    "search_response = search_client.search(\n",
    "    request = discoveryengine.SearchRequest(\n",
    "        query = prompt, # pass the user search/question\n",
    "        page_size = 10, # max documents to return\n",
    "        serving_config = serving_config,\n",
    "        # search behavior:\n",
    "        content_search_spec = discoveryengine.SearchRequest.ContentSearchSpec(\n",
    "            snippet_spec = discoveryengine.SearchRequest.ContentSearchSpec.SnippetSpec(\n",
    "                return_snippet = False\n",
    "            ),\n",
    "            summary_spec = discoveryengine.SearchRequest.ContentSearchSpec.SummarySpec(\n",
    "                summary_result_count = 5, # how many of page_size to use\n",
    "                include_citations = True,\n",
    "                ignore_adversarial_query = True,\n",
    "                ignore_non_summary_seeking_query = False,\n",
    "                model_spec = discoveryengine.SearchRequest.ContentSearchSpec.SummarySpec.ModelSpec(\n",
    "                    version = 'stable' # see link above for all options, including specific models/versions\n",
    "                )\n",
    "            ),            \n",
    "        ),\n",
    "        # how queries and spelling are handled:\n",
    "        query_expansion_spec = discoveryengine.SearchRequest.QueryExpansionSpec(\n",
    "            condition = discoveryengine.SearchRequest.QueryExpansionSpec.Condition.AUTO\n",
    "        ),\n",
    "        spell_correction_spec = discoveryengine.SearchRequest.SpellCorrectionSpec(\n",
    "            mode = discoveryengine.SearchRequest.SpellCorrectionSpec.Mode.AUTO\n",
    "        )\n",
    "    )\n",
    ")"
   ]
  },
  {
   "cell_type": "code",
   "execution_count": 56,
   "id": "761987fd-6f8f-45f6-8008-0a279dd8c148",
   "metadata": {
    "tags": []
   },
   "outputs": [],
   "source": [
    "#search_response"
   ]
  },
  {
   "cell_type": "code",
   "execution_count": 57,
   "id": "7c7102b6-fc38-4e09-b5a1-2bf1338c6b95",
   "metadata": {
    "tags": []
   },
   "outputs": [
    {
     "data": {
      "text/plain": [
       "'First base in baseball is located 90 feet from home plate and 90 feet from second base. The intersection of these lines establishes first base. Home base is marked by a five-sided slab of whitened rubber. The slab is a 17-inch square with two corners removed. The remaining sides are 8.5 inches and 12 inches. \\n'"
      ]
     },
     "execution_count": 57,
     "metadata": {},
     "output_type": "execute_result"
    }
   ],
   "source": [
    "search_response.summary.summary_text"
   ]
  },
  {
   "cell_type": "markdown",
   "id": "b7dad995-4ccf-4b92-989a-e3a3cb4f96e1",
   "metadata": {},
   "source": [
    "---\n",
    "### Get Search Results - Including combinations of snipppets, answers, segments, and summaries\n",
    "\n",
    "While the section above introduced the individual search results components, this section shows that mutliple types or even all types can be combined in a single request."
   ]
  },
  {
   "cell_type": "code",
   "execution_count": 58,
   "id": "f2d0a947-21ef-4e7a-a636-45def36dc75b",
   "metadata": {
    "tags": []
   },
   "outputs": [],
   "source": [
    "search_response = search_client.search(\n",
    "    request = discoveryengine.SearchRequest(\n",
    "        query = prompt, # pass the user search/question\n",
    "        page_size = 10, # max documents to return\n",
    "        serving_config = serving_config,\n",
    "        # search behavior:\n",
    "        content_search_spec = discoveryengine.SearchRequest.ContentSearchSpec(\n",
    "            snippet_spec = discoveryengine.SearchRequest.ContentSearchSpec.SnippetSpec(\n",
    "                return_snippet = True\n",
    "            ),\n",
    "            extractive_content_spec = discoveryengine.SearchRequest.ContentSearchSpec.ExtractiveContentSpec(\n",
    "                max_extractive_answer_count = 2,\n",
    "                max_extractive_segment_count = 2,\n",
    "                return_extractive_segment_score = True,\n",
    "                #num_previous_segments = 1,\n",
    "                #num_next_segments = 1\n",
    "            ),\n",
    "            summary_spec = discoveryengine.SearchRequest.ContentSearchSpec.SummarySpec(\n",
    "                summary_result_count = 5, # how many of page_size to use\n",
    "                include_citations = True,\n",
    "                ignore_adversarial_query = True,\n",
    "                ignore_non_summary_seeking_query = False,\n",
    "                model_spec = discoveryengine.SearchRequest.ContentSearchSpec.SummarySpec.ModelSpec(\n",
    "                    version = 'stable' # see link above for all options, including specific models/versions\n",
    "                )\n",
    "            ), \n",
    "        ),\n",
    "        # how queries and spelling are handled:\n",
    "        query_expansion_spec = discoveryengine.SearchRequest.QueryExpansionSpec(\n",
    "            condition = discoveryengine.SearchRequest.QueryExpansionSpec.Condition.AUTO\n",
    "        ),\n",
    "        spell_correction_spec = discoveryengine.SearchRequest.SpellCorrectionSpec(\n",
    "            mode = discoveryengine.SearchRequest.SpellCorrectionSpec.Mode.AUTO\n",
    "        )\n",
    "    )\n",
    ")"
   ]
  },
  {
   "cell_type": "code",
   "execution_count": 59,
   "id": "307bcb5a-4ceb-45b5-9e5b-4ba0f2de2405",
   "metadata": {
    "tags": []
   },
   "outputs": [],
   "source": [
    "#search_response"
   ]
  },
  {
   "cell_type": "markdown",
   "id": "dd4953f9-e645-4c78-b0d8-b87445d137a8",
   "metadata": {},
   "source": [
    "Gather results:"
   ]
  },
  {
   "cell_type": "code",
   "execution_count": 60,
   "id": "1afde57f-0a15-49a5-8409-2e1ca54fb097",
   "metadata": {
    "tags": []
   },
   "outputs": [],
   "source": [
    "search_results = []\n",
    "for result in search_response.results:\n",
    "    document = dict(result.document.derived_struct_data) |  dict(result.document.struct_data)\n",
    "    if 'snippets' in document.keys():\n",
    "        document['snippets'] = [dict(snippet) for snippet in document['snippets'] if snippet['snippet_status'] == 'SUCCESS']\n",
    "    if 'extractive_answers' in document.keys():\n",
    "        document['extrative_answers'] = [dict(answer) for answer in document['extractive_answers']]\n",
    "    if 'extractive_segments' in document.keys():\n",
    "        document['extractive_segments'] = [dict(segment) for segment in document['extractive_segments']]\n",
    "    search_results.append(document)"
   ]
  },
  {
   "cell_type": "code",
   "execution_count": 61,
   "id": "a3317985-8ef0-4b38-b030-7314d1319212",
   "metadata": {
    "tags": []
   },
   "outputs": [],
   "source": [
    "#search_results"
   ]
  },
  {
   "cell_type": "markdown",
   "id": "10583e45-2d20-48a7-94d4-efd9ef199d2d",
   "metadata": {},
   "source": [
    "Format and Print results:"
   ]
  },
  {
   "cell_type": "code",
   "execution_count": 62,
   "id": "8f1d577f-9dcb-48f8-8e25-20a06d7e9083",
   "metadata": {
    "tags": []
   },
   "outputs": [
    {
     "name": "stdout",
     "output_type": "stream",
     "text": [
      "\n",
      "Source Document 1:\n",
      "\tName: wqn5ah4c3qtivwx3jatm.pdf\n",
      "\tLink: gs://statmike-mlops-349915/applied-genai/grounding-overview/wqn5ah4c3qtivwx3jatm.pdf\n",
      "\tSnippet 1: All <b>measurements</b> from home <b>base</b> shall be taken from the point where the <b>first</b> and third <b>base</b> lines intersect. The catcher&#39;s box, the <b>batters</b>&#39; boxes, the coaches&nbsp;...\n",
      "\tAnswer 1 (page = 14): See Appendix 1. When location of home base is determined, with a steel tape measure 127 feet, 33 ⁄8 inches in desired direction to establish second base. From home base, measure 90 feet toward first base; from second base, measure 90 feet toward first base; the intersection of these lines establishes first base.\n",
      "\tAnswer 2 (page = 15): 2.02 Home Base Home base shall be marked by a five-sided slab of whitened rubber. It shall be a <b>17-inch square with two of the corners removed so that one edge is 17 inches long, two adjacent sides are 8½ inches and the remaining two sides are 12 inches</b> and set at an angle to make a point.\n",
      "\tSegment 1 (page = 14, relevance score = 0.831): 2  Rule 2.01  2.00–THE PLAYING FIELD  2.01 Layout  ... (2120 more characters)\n",
      "\tSegment 2 (page = 15, relevance score = 0.814): 3  Rule 2.01 to 2.02  The foul lines and all other ... (1994 more characters)\n",
      "\n",
      "Summary:\n",
      "\tFirst base in baseball is located 90 feet from home plate and 90 feet from second base. The intersection of these lines establishes first base. Home base is marked by a five-sided slab of whitened rubber. The slab is a 17-inch square with two corners removed. The remaining sides are 8.5 inches and 12 inches. \n",
      "\n"
     ]
    }
   ],
   "source": [
    "for r, result in enumerate(search_results):\n",
    "    print(f\"\\nSource Document {r+1}:\", end = \"\")\n",
    "    print(f\"\\n\\tName: {result['title']}\", end = \"\")\n",
    "    print(f\"\\n\\tLink: {result['link']}\", end = \"\")\n",
    "    if 'snippets' in result.keys():\n",
    "        for s, snippet in enumerate(result['snippets']):\n",
    "            print(f\"\\n\\tSnippet {s+1}: {snippet['snippet']}\", end = \"\")\n",
    "    if 'extractive_answers' in result.keys():\n",
    "        for a, answer in enumerate(result['extrative_answers']):\n",
    "            print(f\"\\n\\tAnswer {a+1} (page = {answer['pageNumber']}): {answer['content']}\", end = \"\")\n",
    "    if 'extractive_segments' in result.keys():\n",
    "        for s, segment in enumerate(result['extractive_segments']):\n",
    "            len_content = len(segment['content'])\n",
    "            content = segment['content'][0:min(50, len_content)]\n",
    "            if len_content > 50:\n",
    "                content += f' ... ({len_content - 50} more characters)'\n",
    "            content = content.replace(\"\\n\", \" \")\n",
    "            print(f\"\\n\\tSegment {s+1} (page = {segment['pageNumber']}, relevance score = {segment['relevanceScore']:.3f}): {content}\", end = \"\")\n",
    "            \n",
    "print(f\"\\n\\nSummary:\\n\\t{search_response.summary.summary_text}\")"
   ]
  },
  {
   "cell_type": "markdown",
   "id": "7d573362-4888-44de-ac42-d42dc36cafaa",
   "metadata": {},
   "source": [
    "---\n",
    "## Answers: Get Answers With Follow-Ups\n",
    "\n",
    "Another search method is `answer` and this section covers the `answer method` using the [Answer API](https://cloud.google.com/generative-ai-app-builder/docs/reference/rest/v1/projects.locations.dataStores.servingConfigs/answer) directly via REST.\n",
    "\n",
    "The answer method gives control over the query phase, the answer phase, and ability to configure follow-up questions.  For a breakdown of the methods and information on which scenarios to use, or not use, a method check out [Get answers and follow-ups](https://cloud.google.com/generative-ai-app-builder/docs/answer)."
   ]
  },
  {
   "cell_type": "code",
   "execution_count": 82,
   "id": "d2cb7225-dd8e-4702-8cda-3e6ddc61844d",
   "metadata": {
    "tags": []
   },
   "outputs": [
    {
     "data": {
      "text/plain": [
       "'what are the dimensions of first base in baseball?'"
      ]
     },
     "execution_count": 82,
     "metadata": {},
     "output_type": "execute_result"
    }
   ],
   "source": [
    "prompt"
   ]
  },
  {
   "cell_type": "markdown",
   "id": "d1b075b6-156d-4db8-a2f7-99b453a92480",
   "metadata": {},
   "source": [
    "### REST Call Function\n",
    "\n",
    "A simple function to make REST calls for the answer api.  Takes an input parameter of data (a json string for the request to the API), and a datastore id (created previously in this workflow."
   ]
  },
  {
   "cell_type": "code",
   "execution_count": 44,
   "id": "67c38434-1afa-40ba-82ca-1d33c113f941",
   "metadata": {
    "tags": []
   },
   "outputs": [],
   "source": [
    "def answer_api(data, datastore = VS_DATASTORE_ID):\n",
    "    token = !gcloud auth application-default print-access-token\n",
    "    headers = {\n",
    "      \"content-type\": \"application/json\",\n",
    "      \"Authorization\": f'Bearer {token[0]}'\n",
    "    }\n",
    "    response = requests.post(\n",
    "      f'https://discoveryengine.googleapis.com/v1/projects/{PROJECT_ID}/locations/{VS_LOCATION}/collections/default_collection/dataStores/{datastore}/servingConfigs/default_search:answer',\n",
    "      data = data,\n",
    "      headers = headers\n",
    "    )\n",
    "    if response.status_code == 200:\n",
    "        answer = json.loads(response.text)\n",
    "    else:\n",
    "        answer = dict(answer = dict(answerText = 'Error'))\n",
    "    return answer"
   ]
  },
  {
   "cell_type": "markdown",
   "id": "63f041ef-20c3-44b9-9a9a-ec3fcd94212a",
   "metadata": {},
   "source": [
    "---\n",
    "### Get Answers: Basic\n",
    "\n",
    "Make a request that returns an answer and search results (with links): [Search and answer (basic)](https://cloud.google.com/generative-ai-app-builder/docs/answer#search-answer-basic)"
   ]
  },
  {
   "cell_type": "markdown",
   "id": "ae309975-ba9f-4692-9858-a3dd84f813ea",
   "metadata": {},
   "source": [
    "Prepare data:"
   ]
  },
  {
   "cell_type": "code",
   "execution_count": 148,
   "id": "5e3256ae-8c04-4678-a267-353f191397b0",
   "metadata": {},
   "outputs": [],
   "source": [
    "request = dict(\n",
    "    query = dict(text = prompt)\n",
    ")\n",
    "data = json.dumps(request)"
   ]
  },
  {
   "cell_type": "markdown",
   "id": "91d354a5-755a-421a-9d43-7b379b2f8d78",
   "metadata": {},
   "source": [
    "Make Request:"
   ]
  },
  {
   "cell_type": "code",
   "execution_count": 149,
   "id": "662b79e5-fc6e-481c-a422-db3dcd05be5b",
   "metadata": {},
   "outputs": [],
   "source": [
    "answer = answer_api(data)"
   ]
  },
  {
   "cell_type": "markdown",
   "id": "922a5161-88e9-451b-bfc9-5828ec3f5b85",
   "metadata": {},
   "source": [
    "Review Answer:"
   ]
  },
  {
   "cell_type": "code",
   "execution_count": 150,
   "id": "ea84752f-4571-4030-9967-6ebc58214570",
   "metadata": {
    "tags": []
   },
   "outputs": [
    {
     "data": {
      "text/plain": [
       "'First base in baseball is marked by a white canvas or rubber-covered bag that is 18 inches square. The bag must be between 3 and 5 inches thick and filled with soft material. The distance from home plate to first base is 90 feet. To determine the location of first base, measure 90 feet from home plate toward first base and 90 feet from second base toward first base. The intersection of these lines establishes the location of first base. \\n'"
      ]
     },
     "execution_count": 150,
     "metadata": {},
     "output_type": "execute_result"
    }
   ],
   "source": [
    "answer['answer']['answerText']"
   ]
  },
  {
   "cell_type": "code",
   "execution_count": 151,
   "id": "168f0952-e9f0-47c5-94e7-4aad1de94c05",
   "metadata": {
    "tags": []
   },
   "outputs": [
    {
     "data": {
      "text/plain": [
       "{'state': 'SUCCEEDED',\n",
       " 'answerText': 'First base in baseball is marked by a white canvas or rubber-covered bag that is 18 inches square. The bag must be between 3 and 5 inches thick and filled with soft material. The distance from home plate to first base is 90 feet. To determine the location of first base, measure 90 feet from home plate toward first base and 90 feet from second base toward first base. The intersection of these lines establishes the location of first base. \\n',\n",
       " 'steps': [{'state': 'SUCCEEDED',\n",
       "   'description': 'Rephrase the query and search.',\n",
       "   'actions': [{'searchAction': {'query': 'What are the dimensions of first base in baseball?'},\n",
       "     'observation': {'searchResults': [{'document': 'projects/1026793852137/locations/global/collections/default_collection/dataStores/applied-genai-grounding-overview/branches/0/documents/73bee30d37112e8e829720fe2f4a3ff0b450c2a51cd9fe03b5beeea277eed67',\n",
       "        'uri': 'gs://statmike-mlops-349915/applied-genai/grounding-overview/wqn5ah4c3qtivwx3jatm.pdf',\n",
       "        'title': 'wqn5ah4c3qtivwx3jatm.pdf',\n",
       "        'snippetInfo': [{'snippet': 'All <b>measurements</b> from home <b>base</b> shall be taken from the point where the <b>first</b> and third <b>base</b> lines intersect. The catcher&#39;s box, the <b>batters</b>&#39; boxes, the coaches&nbsp;...',\n",
       "          'snippetStatus': 'SUCCESS'}],\n",
       "        'structData': {'location': 'statmike-mlops-349915',\n",
       "         'path': 'applied-genai/grounding-overview',\n",
       "         'title': 'wqn5ah4c3qtivwx3jatm.pdf'}}]}}]}]}"
      ]
     },
     "execution_count": 151,
     "metadata": {},
     "output_type": "execute_result"
    }
   ],
   "source": [
    "answer['answer']"
   ]
  },
  {
   "cell_type": "markdown",
   "id": "1cd61e84-aa33-4fc6-a804-ae4aac7f546d",
   "metadata": {},
   "source": [
    "---\n",
    "### Get Answers: Query Phase Commands - Disable Query Rephrasing\n",
    "\n",
    "Make a request that returns an answer and search results (with links): [Search and answer (rephrasing disabled)](https://cloud.google.com/generative-ai-app-builder/docs/answer#search-answer-no-rephrase)"
   ]
  },
  {
   "cell_type": "markdown",
   "id": "5e4c9325-7c2c-4703-91cd-15b7e30cd4e3",
   "metadata": {},
   "source": [
    "Prepare data:"
   ]
  },
  {
   "cell_type": "code",
   "execution_count": 152,
   "id": "24d4e26c-a0a9-40cd-b602-4222fb6178f1",
   "metadata": {},
   "outputs": [],
   "source": [
    "request = dict(\n",
    "    query = dict(text = prompt),\n",
    "    queryUnderstandingSpec = dict(\n",
    "        queryRephraserSpec = dict(\n",
    "            disable = True\n",
    "        )\n",
    "    )\n",
    ")\n",
    "data = json.dumps(request)"
   ]
  },
  {
   "cell_type": "markdown",
   "id": "dea68a66-af54-429d-ab3e-4cf59c06faed",
   "metadata": {},
   "source": [
    "Make Request:"
   ]
  },
  {
   "cell_type": "code",
   "execution_count": 153,
   "id": "05cd9dce-bd35-43e4-9ac5-c66f100eefc8",
   "metadata": {},
   "outputs": [],
   "source": [
    "answer = answer_api(data)"
   ]
  },
  {
   "cell_type": "markdown",
   "id": "928e7307-82ef-4b5a-aeb6-3f36d0b1b05f",
   "metadata": {},
   "source": [
    "Review Answer:"
   ]
  },
  {
   "cell_type": "code",
   "execution_count": 154,
   "id": "dee52d49-696f-424e-8c70-18c18d344f58",
   "metadata": {
    "tags": []
   },
   "outputs": [
    {
     "data": {
      "text/plain": [
       "'First base in baseball is marked by a white canvas or rubber-covered bag. The bag is 18 inches square and between 3 and 5 inches thick. It is filled with soft material. The first and third base bags must be entirely within the infield. The second base bag is centered on second base. \\n'"
      ]
     },
     "execution_count": 154,
     "metadata": {},
     "output_type": "execute_result"
    }
   ],
   "source": [
    "answer['answer']['answerText']"
   ]
  },
  {
   "cell_type": "code",
   "execution_count": 155,
   "id": "3a5504a4-22b5-4478-a02b-55a56644e5e0",
   "metadata": {
    "tags": []
   },
   "outputs": [
    {
     "data": {
      "text/plain": [
       "{'state': 'SUCCEEDED',\n",
       " 'answerText': 'First base in baseball is marked by a white canvas or rubber-covered bag. The bag is 18 inches square and between 3 and 5 inches thick. It is filled with soft material. The first and third base bags must be entirely within the infield. The second base bag is centered on second base. \\n',\n",
       " 'steps': [{'state': 'SUCCEEDED',\n",
       "   'description': 'Rephrase the query and search.',\n",
       "   'actions': [{'searchAction': {'query': 'what are the dimensions of first base in baseball?'},\n",
       "     'observation': {'searchResults': [{'document': 'projects/1026793852137/locations/global/collections/default_collection/dataStores/applied-genai-grounding-overview/branches/0/documents/73bee30d37112e8e829720fe2f4a3ff0b450c2a51cd9fe03b5beeea277eed67',\n",
       "        'uri': 'gs://statmike-mlops-349915/applied-genai/grounding-overview/wqn5ah4c3qtivwx3jatm.pdf',\n",
       "        'title': 'wqn5ah4c3qtivwx3jatm.pdf',\n",
       "        'snippetInfo': [{'snippet': 'All <b>measurements</b> from home <b>base</b> shall be taken from the point where the <b>first</b> and third <b>base</b> lines intersect. The catcher&#39;s box, the <b>batters</b>&#39; boxes, the coaches&nbsp;...',\n",
       "          'snippetStatus': 'SUCCESS'}],\n",
       "        'structData': {'title': 'wqn5ah4c3qtivwx3jatm.pdf',\n",
       "         'path': 'applied-genai/grounding-overview',\n",
       "         'location': 'statmike-mlops-349915'}}]}}]}]}"
      ]
     },
     "execution_count": 155,
     "metadata": {},
     "output_type": "execute_result"
    }
   ],
   "source": [
    "answer['answer']"
   ]
  },
  {
   "cell_type": "markdown",
   "id": "6b59edfb-e6b8-4518-bb24-5ef96eae59f8",
   "metadata": {},
   "source": [
    "---\n",
    "### Get Answers: Query Phase Commands - Specifying Query Rephrasing Steps\n",
    "\n",
    "Make a request that returns an answer and search results (with links): [Search and answer (specify maximum steps)](https://cloud.google.com/generative-ai-app-builder/docs/answer#search-answer-max-steps)"
   ]
  },
  {
   "cell_type": "markdown",
   "id": "cc1b06cb-1ec1-4699-82a7-efbe219ca18b",
   "metadata": {},
   "source": [
    "Prepare data:"
   ]
  },
  {
   "cell_type": "code",
   "execution_count": 156,
   "id": "6edec703-4c11-4e0d-898a-5ce4a1b0b9af",
   "metadata": {},
   "outputs": [],
   "source": [
    "request = dict(\n",
    "    query = dict(text = prompt),\n",
    "    queryUnderstandingSpec = dict(\n",
    "        queryRephraserSpec = dict(\n",
    "            maxRephraseSteps = 5 # 5 is max, default is 1\n",
    "        )\n",
    "    )\n",
    ")\n",
    "data = json.dumps(request)"
   ]
  },
  {
   "cell_type": "markdown",
   "id": "62fe723c-016a-4ae9-9c6d-11a7e45ea362",
   "metadata": {},
   "source": [
    "Make Request:"
   ]
  },
  {
   "cell_type": "code",
   "execution_count": 157,
   "id": "ff2bedf7-93bf-48ab-abb1-7350d8662da4",
   "metadata": {},
   "outputs": [],
   "source": [
    "answer = answer_api(data)"
   ]
  },
  {
   "cell_type": "markdown",
   "id": "a778d7d9-a71c-48a8-b32d-85ffd2d5e684",
   "metadata": {},
   "source": [
    "Review Answer:"
   ]
  },
  {
   "cell_type": "code",
   "execution_count": 158,
   "id": "b9caa6a5-e666-4757-9b8c-74aff51d3e1d",
   "metadata": {
    "tags": []
   },
   "outputs": [
    {
     "data": {
      "text/plain": [
       "'First base in baseball is marked by a white canvas or rubber-covered bag. The bag is 18 inches square and between 3 and 5 inches thick. It is filled with soft material. First base is located 90 feet from home plate and 90 feet from second base. The distance between first base and third base is 127 feet, 3 3/8 inches. \\n'"
      ]
     },
     "execution_count": 158,
     "metadata": {},
     "output_type": "execute_result"
    }
   ],
   "source": [
    "answer['answer']['answerText']"
   ]
  },
  {
   "cell_type": "code",
   "execution_count": 159,
   "id": "d24ccbb9-d0e9-4aa6-bbb3-95f9e5e825ca",
   "metadata": {
    "tags": []
   },
   "outputs": [
    {
     "data": {
      "text/plain": [
       "{'answerText': 'First base in baseball is marked by a white canvas or rubber-covered bag. The bag is 18 inches square and between 3 and 5 inches thick. It is filled with soft material. First base is located 90 feet from home plate and 90 feet from second base. The distance between first base and third base is 127 feet, 3 3/8 inches. \\n',\n",
       " 'steps': [{'actions': [{'searchAction': {'query': 'What are the dimensions of a baseball base?'},\n",
       "     'observation': {'searchResults': [{'document': 'projects/1026793852137/locations/global/collections/default_collection/dataStores/applied-genai-grounding-overview/branches/0/documents/73bee30d37112e8e829720fe2f4a3ff0b450c2a51cd9fe03b5beeea277eed67',\n",
       "        'uri': 'gs://statmike-mlops-349915/applied-genai/grounding-overview/wqn5ah4c3qtivwx3jatm.pdf',\n",
       "        'title': 'wqn5ah4c3qtivwx3jatm.pdf',\n",
       "        'snippetInfo': [{'snippet': 'All <b>measurements</b> from home <b>base</b> shall be taken from the point where the first and third <b>base</b> lines intersect. The catcher&#39;s box, the batters&#39; boxes, the coaches&nbsp;...',\n",
       "          'snippetStatus': 'SUCCESS'}],\n",
       "        'structData': {'title': 'wqn5ah4c3qtivwx3jatm.pdf',\n",
       "         'location': 'statmike-mlops-349915',\n",
       "         'path': 'applied-genai/grounding-overview'}}]}}]}]}"
      ]
     },
     "execution_count": 159,
     "metadata": {},
     "output_type": "execute_result"
    }
   ],
   "source": [
    "answer['answer']"
   ]
  },
  {
   "cell_type": "markdown",
   "id": "6d3a6b79-2298-43f4-b97d-c124b74a1822",
   "metadata": {},
   "source": [
    "#### Direct Example Showcase\n",
    "\n",
    "Reword the prompt to make decrease its quality, then see how the API rewords the question"
   ]
  },
  {
   "cell_type": "code",
   "execution_count": 160,
   "id": "715ccdf8-1ed6-45da-8841-78e2958ed33d",
   "metadata": {
    "tags": []
   },
   "outputs": [],
   "source": [
    "question = \"How big is first base?\""
   ]
  },
  {
   "cell_type": "code",
   "execution_count": 161,
   "id": "3e17736c-f836-4f50-bf40-05f895317a99",
   "metadata": {
    "tags": []
   },
   "outputs": [
    {
     "data": {
      "text/plain": [
       "'First base is a white canvas or rubber-covered bag that is 18 inches square. It is located at the intersection of two lines: one measured 90 feet from home base toward first base and the other measured 90 feet from second base toward first base. The distance between first base and third base is 127 feet, 33 ⁄8 inches. The first and third base bags must be entirely within the infield. The infield is a 90-foot square. \\n'"
      ]
     },
     "execution_count": 161,
     "metadata": {},
     "output_type": "execute_result"
    }
   ],
   "source": [
    "request = dict(\n",
    "    query = dict(text = question),\n",
    "    queryUnderstandingSpec = dict(\n",
    "        queryRephraserSpec = dict(\n",
    "            maxRephraseSteps = 5 # 5 is max, default is 1\n",
    "        )\n",
    "    )\n",
    ")\n",
    "data = json.dumps(request)\n",
    "answer = answer_api(data)\n",
    "answer['answer']['answerText']"
   ]
  },
  {
   "cell_type": "code",
   "execution_count": 175,
   "id": "2095df1f-c83b-401f-b892-eb5a06616366",
   "metadata": {
    "tags": []
   },
   "outputs": [
    {
     "name": "stdout",
     "output_type": "stream",
     "text": [
      "{'query': 'What are the dimensions of first base?'}\n"
     ]
    }
   ],
   "source": [
    "for step in answer['answer']['steps']:\n",
    "    print(step['actions'][0]['searchAction'])"
   ]
  },
  {
   "cell_type": "markdown",
   "id": "647478a9-4134-4597-bf07-45ac5d7c2014",
   "metadata": {
    "tags": []
   },
   "source": [
    "Notice the rewording of the `question`"
   ]
  },
  {
   "cell_type": "markdown",
   "id": "980634c4-46ee-4cd0-9e57-1ab397d3b9f9",
   "metadata": {},
   "source": [
    "---\n",
    "### Get Answers: Query Phase Commands - Search and answer with query classification\n",
    "\n",
    "Make a request that returns an answer and search results (with links): [Search and answer with query classification](https://cloud.google.com/generative-ai-app-builder/docs/answer#search-query-classify)"
   ]
  },
  {
   "cell_type": "markdown",
   "id": "6702d33c-e074-4097-9cce-d290745797e6",
   "metadata": {},
   "source": [
    "Prepare data:"
   ]
  },
  {
   "cell_type": "code",
   "execution_count": 101,
   "id": "c58a98fc-9b1c-47ac-8913-1692c86f3fff",
   "metadata": {},
   "outputs": [],
   "source": [
    "request = dict(\n",
    "    query = dict(text = question),\n",
    "    queryUnderstandingSpec = dict(\n",
    "        queryRephraserSpec = dict(\n",
    "            maxRephraseSteps = 5 # 5 is max, default is 1\n",
    "        ),\n",
    "        queryClassificationSpec = dict(\n",
    "            types = ['NON_ANSWER_SEEKING_QUERY', 'ADVERSARIAL_QUERY']\n",
    "        )\n",
    "    )\n",
    ")\n",
    "data = json.dumps(request)"
   ]
  },
  {
   "cell_type": "markdown",
   "id": "81869b52-e499-4d11-a26f-138a7a9a0310",
   "metadata": {},
   "source": [
    "Make Request:"
   ]
  },
  {
   "cell_type": "code",
   "execution_count": 102,
   "id": "0c0c94d3-94c9-4e7e-8108-14b11c8d339d",
   "metadata": {},
   "outputs": [],
   "source": [
    "answer = answer_api(data)"
   ]
  },
  {
   "cell_type": "markdown",
   "id": "11a21db4-a0e0-4902-97ad-784316519c4f",
   "metadata": {},
   "source": [
    "Review Answer:"
   ]
  },
  {
   "cell_type": "code",
   "execution_count": 103,
   "id": "efa7f00b-b919-49d9-86c4-860f547f11e1",
   "metadata": {
    "tags": []
   },
   "outputs": [
    {
     "data": {
      "text/plain": [
       "'First base is a white canvas or rubber-covered bag that is 18 inches square. It is located at the intersection of two lines: one measured 90 feet from home base toward first base and the other measured 90 feet from second base toward first base. The distance between first base and third base is 127 feet, 33 ⁄8 inches. The first and third base bags must be entirely within the infield. The infield is a 90-foot square. \\n'"
      ]
     },
     "execution_count": 103,
     "metadata": {},
     "output_type": "execute_result"
    }
   ],
   "source": [
    "answer['answer']['answerText']"
   ]
  },
  {
   "cell_type": "code",
   "execution_count": 104,
   "id": "d2d992ad-ac96-4442-b14e-1405a74bf848",
   "metadata": {
    "tags": []
   },
   "outputs": [
    {
     "data": {
      "text/plain": [
       "{'answerText': 'First base is a white canvas or rubber-covered bag that is 18 inches square. It is located at the intersection of two lines: one measured 90 feet from home base toward first base and the other measured 90 feet from second base toward first base. The distance between first base and third base is 127 feet, 33 ⁄8 inches. The first and third base bags must be entirely within the infield. The infield is a 90-foot square. \\n',\n",
       " 'steps': [{'actions': [{'searchAction': {'query': 'What are the dimensions of first base?'},\n",
       "     'observation': {'searchResults': [{'document': 'projects/1026793852137/locations/global/collections/default_collection/dataStores/applied-genai-grounding-overview/branches/0/documents/73bee30d37112e8e829720fe2f4a3ff0b450c2a51cd9fe03b5beeea277eed67',\n",
       "        'uri': 'gs://statmike-mlops-349915/applied-genai/grounding-overview/wqn5ah4c3qtivwx3jatm.pdf',\n",
       "        'title': 'wqn5ah4c3qtivwx3jatm.pdf',\n",
       "        'snippetInfo': [{'snippet': 'All <b>measurements</b> from home <b>base</b> shall be taken from the point where the <b>first</b> and third <b>base</b> lines intersect. The catcher&#39;s box, the batters&#39; boxes, the coaches&nbsp;...',\n",
       "          'snippetStatus': 'SUCCESS'}],\n",
       "        'structData': {'title': 'wqn5ah4c3qtivwx3jatm.pdf',\n",
       "         'path': 'applied-genai/grounding-overview',\n",
       "         'location': 'statmike-mlops-349915'}}]}}]}]}"
      ]
     },
     "execution_count": 104,
     "metadata": {},
     "output_type": "execute_result"
    }
   ],
   "source": [
    "answer['answer']"
   ]
  },
  {
   "cell_type": "markdown",
   "id": "37e7ce71-7ddf-4ab5-982f-0e04de875245",
   "metadata": {},
   "source": [
    "#### Direct Example Showcase\n",
    "\n",
    "Reword the prompt to make decrease its quality, then see how the API rewords the question"
   ]
  },
  {
   "cell_type": "code",
   "execution_count": 177,
   "id": "bd376cc6-7508-4853-b44e-017e04c4b046",
   "metadata": {
    "tags": []
   },
   "outputs": [],
   "source": [
    "question = \"Baseball if fun.\""
   ]
  },
  {
   "cell_type": "code",
   "execution_count": 180,
   "id": "a2edb9e3-1574-4e5e-beff-ff144a85719d",
   "metadata": {
    "tags": []
   },
   "outputs": [
    {
     "data": {
      "text/plain": [
       "'A summary could not be generated for your search query. Here are some search results.'"
      ]
     },
     "execution_count": 180,
     "metadata": {},
     "output_type": "execute_result"
    }
   ],
   "source": [
    "request = dict(\n",
    "    query = dict(text = question),\n",
    "    queryUnderstandingSpec = dict(\n",
    "        queryRephraserSpec = dict(\n",
    "            maxRephraseSteps = 5 # 5 is max, default is 1\n",
    "        ),\n",
    "        queryClassificationSpec = dict(\n",
    "            types = ['NON_ANSWER_SEEKING_QUERY', 'ADVERSARIAL_QUERY']\n",
    "        )\n",
    "    )\n",
    ")\n",
    "data = json.dumps(request)\n",
    "answer = answer_api(data)\n",
    "answer['answer']['answerText']"
   ]
  },
  {
   "cell_type": "code",
   "execution_count": 181,
   "id": "9a2ca6ad-4dc0-43ed-88e3-4093474fc78f",
   "metadata": {
    "tags": []
   },
   "outputs": [
    {
     "name": "stdout",
     "output_type": "stream",
     "text": [
      "{'query': 'Why is baseball fun?'}\n"
     ]
    }
   ],
   "source": [
    "for step in answer['answer']['steps']:\n",
    "    print(step['actions'][0]['searchAction'])"
   ]
  },
  {
   "cell_type": "code",
   "execution_count": 183,
   "id": "7f47957c-1bdc-4020-92af-cd3063c5018b",
   "metadata": {
    "tags": []
   },
   "outputs": [
    {
     "data": {
      "text/plain": [
       "{'answer': {'answerText': 'A summary could not be generated for your search query. Here are some search results.',\n",
       "  'steps': [{'actions': [{'searchAction': {'query': 'Why is baseball fun?'},\n",
       "      'observation': {'searchResults': [{'document': 'projects/1026793852137/locations/global/collections/default_collection/dataStores/applied-genai-grounding-overview/branches/0/documents/73bee30d37112e8e829720fe2f4a3ff0b450c2a51cd9fe03b5beeea277eed67',\n",
       "         'uri': 'gs://statmike-mlops-349915/applied-genai/grounding-overview/wqn5ah4c3qtivwx3jatm.pdf',\n",
       "         'title': 'wqn5ah4c3qtivwx3jatm.pdf',\n",
       "         'snippetInfo': [{'snippet': '... <b>baseball</b>. Do not allow criticism to keep you from studying out bad situations. Carry your rule book. It is better to consult the rules and hold up the game&nbsp;...',\n",
       "           'snippetStatus': 'SUCCESS'}],\n",
       "         'structData': {'location': 'statmike-mlops-349915',\n",
       "          'path': 'applied-genai/grounding-overview',\n",
       "          'title': 'wqn5ah4c3qtivwx3jatm.pdf'}}]}}]}]},\n",
       " 'answerQueryToken': 'NMwKDAip5Ji2BhCUvMWhAxIkNjZjMzVhMzgtMDAwMC0yZjEzLWEzODktNTgyNDI5YWJmYmNj'}"
      ]
     },
     "execution_count": 183,
     "metadata": {},
     "output_type": "execute_result"
    }
   ],
   "source": [
    "answer"
   ]
  },
  {
   "cell_type": "markdown",
   "id": "6b486291-4bc2-47fa-9e98-d1955aa63288",
   "metadata": {},
   "source": [
    "---\n",
    "### Get Answers: Search phase commands - Search and answer with search result options\n",
    "\n",
    "Make a request that returns an answer and search results (with links): [Search phase commands: Search and answer with search result options](https://cloud.google.com/generative-ai-app-builder/docs/answer#search-options)"
   ]
  },
  {
   "cell_type": "markdown",
   "id": "1f249477-3668-4f0f-a530-6b3999fa28b6",
   "metadata": {},
   "source": [
    "Prepare data:"
   ]
  },
  {
   "cell_type": "code",
   "execution_count": 108,
   "id": "198216e4-4bfc-44ed-ad1e-f056350f60ff",
   "metadata": {},
   "outputs": [],
   "source": [
    "request = dict(\n",
    "    query = dict(text = question),\n",
    "    searchSpec = dict(\n",
    "        searchParams = dict(\n",
    "            maxReturnResults = 10,\n",
    "\n",
    "        )\n",
    "    ),\n",
    "    queryUnderstandingSpec = dict(\n",
    "        queryRephraserSpec = dict(\n",
    "            maxRephraseSteps = 5 # 5 is max, default is 1\n",
    "        ),\n",
    "        queryClassificationSpec = dict(\n",
    "            types = ['NON_ANSWER_SEEKING_QUERY', 'ADVERSARIAL_QUERY']\n",
    "        )\n",
    "    )\n",
    ")\n",
    "data = json.dumps(request)"
   ]
  },
  {
   "cell_type": "markdown",
   "id": "bdc069df-f3e6-4655-aeef-6a0d738885ca",
   "metadata": {},
   "source": [
    "Make Request:"
   ]
  },
  {
   "cell_type": "code",
   "execution_count": 109,
   "id": "7984a3b7-7b29-4bab-901c-4840da54ba4d",
   "metadata": {},
   "outputs": [],
   "source": [
    "answer = answer_api(data)"
   ]
  },
  {
   "cell_type": "markdown",
   "id": "a1273e13-213c-49a3-bd60-c79c4eda2627",
   "metadata": {},
   "source": [
    "Review Answer:"
   ]
  },
  {
   "cell_type": "code",
   "execution_count": 110,
   "id": "a42dca0a-d467-4266-ae24-196c1e671995",
   "metadata": {
    "tags": []
   },
   "outputs": [
    {
     "data": {
      "text/plain": [
       "'First base is a white canvas or rubber-covered bag that is 18 inches square. It is located at the intersection of two lines: one measured 90 feet from home base toward first base and the other measured 90 feet from second base toward first base. The distance between first base and third base is 127 feet, 33 ⁄8 inches. The first and third base bags must be entirely within the infield. The infield is a 90-foot square. \\n'"
      ]
     },
     "execution_count": 110,
     "metadata": {},
     "output_type": "execute_result"
    }
   ],
   "source": [
    "answer['answer']['answerText']"
   ]
  },
  {
   "cell_type": "code",
   "execution_count": 111,
   "id": "5aac87de-90de-4da1-9291-15027a937ffa",
   "metadata": {
    "tags": []
   },
   "outputs": [
    {
     "data": {
      "text/plain": [
       "{'answerText': 'First base is a white canvas or rubber-covered bag that is 18 inches square. It is located at the intersection of two lines: one measured 90 feet from home base toward first base and the other measured 90 feet from second base toward first base. The distance between first base and third base is 127 feet, 33 ⁄8 inches. The first and third base bags must be entirely within the infield. The infield is a 90-foot square. \\n',\n",
       " 'steps': [{'actions': [{'searchAction': {'query': 'What are the dimensions of first base?'},\n",
       "     'observation': {'searchResults': [{'document': 'projects/1026793852137/locations/global/collections/default_collection/dataStores/applied-genai-grounding-overview/branches/0/documents/73bee30d37112e8e829720fe2f4a3ff0b450c2a51cd9fe03b5beeea277eed67',\n",
       "        'uri': 'gs://statmike-mlops-349915/applied-genai/grounding-overview/wqn5ah4c3qtivwx3jatm.pdf',\n",
       "        'title': 'wqn5ah4c3qtivwx3jatm.pdf',\n",
       "        'snippetInfo': [{'snippet': 'All <b>measurements</b> from home <b>base</b> shall be taken from the point where the <b>first</b> and third <b>base</b> lines intersect. The catcher&#39;s box, the batters&#39; boxes, the coaches&nbsp;...',\n",
       "          'snippetStatus': 'SUCCESS'}],\n",
       "        'structData': {'location': 'statmike-mlops-349915',\n",
       "         'path': 'applied-genai/grounding-overview',\n",
       "         'title': 'wqn5ah4c3qtivwx3jatm.pdf'}}]}}]}]}"
      ]
     },
     "execution_count": 111,
     "metadata": {},
     "output_type": "execute_result"
    }
   ],
   "source": [
    "answer['answer']"
   ]
  },
  {
   "cell_type": "markdown",
   "id": "63ff59c2-1f02-45b8-8703-18e869391b69",
   "metadata": {},
   "source": [
    "---\n",
    "### Get Answers: Answer phase commands - Ignore adversarial queries and non-answer-seeking queries\n",
    "\n",
    "Make a request that returns an answer and search results (with links): [Ignore adversarial queries and non-answer-seeking queries](https://cloud.google.com/generative-ai-app-builder/docs/answer#ignore-queries)"
   ]
  },
  {
   "cell_type": "markdown",
   "id": "3d361dec-2943-4eca-8fc5-d3d0029947b0",
   "metadata": {},
   "source": [
    "Prepare data:"
   ]
  },
  {
   "cell_type": "code",
   "execution_count": 112,
   "id": "7164b30d-12b0-4c0b-8099-6828677c82b3",
   "metadata": {},
   "outputs": [],
   "source": [
    "request = dict(\n",
    "    query = dict(text = question),\n",
    "    searchSpec = dict(\n",
    "        searchParams = dict(\n",
    "            maxReturnResults = 10,\n",
    "\n",
    "        )\n",
    "    ),\n",
    "    queryUnderstandingSpec = dict(\n",
    "        queryRephraserSpec = dict(\n",
    "            maxRephraseSteps = 5 # 5 is max, default is 1\n",
    "        ),\n",
    "        queryClassificationSpec = dict(\n",
    "            types = ['NON_ANSWER_SEEKING_QUERY', 'ADVERSARIAL_QUERY']\n",
    "        )\n",
    "    ),\n",
    "    answerGenerationSpec = dict(\n",
    "        ignoreAdversarialQuery = True,\n",
    "        ignoreNonAnswerSeekingQuery = True\n",
    "    )\n",
    ")\n",
    "data = json.dumps(request)"
   ]
  },
  {
   "cell_type": "markdown",
   "id": "cd28d7d3-ca2e-4f8d-80a0-35cd6bde41bd",
   "metadata": {},
   "source": [
    "Make Request:"
   ]
  },
  {
   "cell_type": "code",
   "execution_count": 113,
   "id": "ed61f329-3746-48dd-b1cc-5f6366b2c1f8",
   "metadata": {},
   "outputs": [],
   "source": [
    "answer = answer_api(data)"
   ]
  },
  {
   "cell_type": "markdown",
   "id": "e22eba0f-bab8-4721-b7ef-fe754498dab3",
   "metadata": {},
   "source": [
    "Review Answer:"
   ]
  },
  {
   "cell_type": "code",
   "execution_count": 114,
   "id": "af305228-ae03-4a7b-8b02-631c5497b5af",
   "metadata": {
    "tags": []
   },
   "outputs": [
    {
     "data": {
      "text/plain": [
       "'First base is a white canvas or rubber-covered bag that is 18 inches square. It is located at the intersection of two lines: one measured 90 feet from home base toward first base and the other measured 90 feet from second base toward first base. The distance between first base and third base is 127 feet, 33 ⁄8 inches. The first and third base bags must be entirely within the infield. The infield is a 90-foot square. \\n'"
      ]
     },
     "execution_count": 114,
     "metadata": {},
     "output_type": "execute_result"
    }
   ],
   "source": [
    "answer['answer']['answerText']"
   ]
  },
  {
   "cell_type": "code",
   "execution_count": 115,
   "id": "3b680cf1-1609-4512-9ccf-9890c4131a48",
   "metadata": {
    "tags": []
   },
   "outputs": [
    {
     "data": {
      "text/plain": [
       "{'answerText': 'First base is a white canvas or rubber-covered bag that is 18 inches square. It is located at the intersection of two lines: one measured 90 feet from home base toward first base and the other measured 90 feet from second base toward first base. The distance between first base and third base is 127 feet, 33 ⁄8 inches. The first and third base bags must be entirely within the infield. The infield is a 90-foot square. \\n',\n",
       " 'steps': [{'actions': [{'searchAction': {'query': 'What are the dimensions of first base?'},\n",
       "     'observation': {'searchResults': [{'document': 'projects/1026793852137/locations/global/collections/default_collection/dataStores/applied-genai-grounding-overview/branches/0/documents/73bee30d37112e8e829720fe2f4a3ff0b450c2a51cd9fe03b5beeea277eed67',\n",
       "        'uri': 'gs://statmike-mlops-349915/applied-genai/grounding-overview/wqn5ah4c3qtivwx3jatm.pdf',\n",
       "        'title': 'wqn5ah4c3qtivwx3jatm.pdf',\n",
       "        'snippetInfo': [{'snippet': 'All <b>measurements</b> from home <b>base</b> shall be taken from the point where the <b>first</b> and third <b>base</b> lines intersect. The catcher&#39;s box, the batters&#39; boxes, the coaches&nbsp;...',\n",
       "          'snippetStatus': 'SUCCESS'}],\n",
       "        'structData': {'path': 'applied-genai/grounding-overview',\n",
       "         'title': 'wqn5ah4c3qtivwx3jatm.pdf',\n",
       "         'location': 'statmike-mlops-349915'}}]}}]}]}"
      ]
     },
     "execution_count": 115,
     "metadata": {},
     "output_type": "execute_result"
    }
   ],
   "source": [
    "answer['answer']"
   ]
  },
  {
   "cell_type": "markdown",
   "id": "80875607-1180-4077-94c6-e0279c6663d4",
   "metadata": {},
   "source": [
    "#### Direct Example Showcase\n",
    "\n",
    "Reword the prompt to make decrease its quality, then see how the API rewords the question"
   ]
  },
  {
   "cell_type": "code",
   "execution_count": 196,
   "id": "73e86d4b-8811-4ce4-b774-8311748bba17",
   "metadata": {
    "tags": []
   },
   "outputs": [],
   "source": [
    "question = \"Baseball is a horrible sport\""
   ]
  },
  {
   "cell_type": "code",
   "execution_count": 197,
   "id": "64b8995f-b151-40ea-b677-8a40e9ad1976",
   "metadata": {
    "tags": []
   },
   "outputs": [
    {
     "data": {
      "text/plain": [
       "\"I'm sorry, but I cannot fulfill your request to write a response about why baseball is a horrible sport. The provided sources focus on the rules and regulations of baseball, not on opinions about the sport's quality.  These sources provide information on umpire duties, equipment, and specific rules regarding pitching, but they do not offer any arguments for or against the sport's enjoyment.  Therefore, I cannot generate a response based on the provided sources that supports your claim that baseball is a horrible sport. \\n\""
      ]
     },
     "execution_count": 197,
     "metadata": {},
     "output_type": "execute_result"
    }
   ],
   "source": [
    "request = dict(\n",
    "    query = dict(text = question),\n",
    "    queryUnderstandingSpec = dict(\n",
    "        queryRephraserSpec = dict(\n",
    "            maxRephraseSteps = 5 # 5 is max, default is 1\n",
    "        ),\n",
    "        queryClassificationSpec = dict(\n",
    "            types = ['NON_ANSWER_SEEKING_QUERY', 'ADVERSARIAL_QUERY']\n",
    "        )\n",
    "    ),\n",
    "    answerGenerationSpec = dict(\n",
    "        ignoreAdversarialQuery = True,\n",
    "        ignoreNonAnswerSeekingQuery = True\n",
    "    )\n",
    ")\n",
    "data = json.dumps(request)\n",
    "answer = answer_api(data)\n",
    "answer['answer']['answerText']"
   ]
  },
  {
   "cell_type": "code",
   "execution_count": 198,
   "id": "a9ebfe5e-febb-48c3-afe1-1eb809bf3b59",
   "metadata": {
    "tags": []
   },
   "outputs": [
    {
     "name": "stdout",
     "output_type": "stream",
     "text": [
      "{'query': 'Why is baseball a horrible sport?'}\n"
     ]
    }
   ],
   "source": [
    "for step in answer['answer']['steps']:\n",
    "    print(step['actions'][0]['searchAction'])"
   ]
  },
  {
   "cell_type": "code",
   "execution_count": 199,
   "id": "0e1ca8b2-f49d-43b1-a474-11e38be577dc",
   "metadata": {
    "tags": []
   },
   "outputs": [
    {
     "data": {
      "text/plain": [
       "{'answer': {'answerText': \"I'm sorry, but I cannot fulfill your request to write a response about why baseball is a horrible sport. The provided sources focus on the rules and regulations of baseball, not on opinions about the sport's quality.  These sources provide information on umpire duties, equipment, and specific rules regarding pitching, but they do not offer any arguments for or against the sport's enjoyment.  Therefore, I cannot generate a response based on the provided sources that supports your claim that baseball is a horrible sport. \\n\",\n",
       "  'steps': [{'actions': [{'searchAction': {'query': 'Why is baseball a horrible sport?'},\n",
       "      'observation': {'searchResults': [{'document': 'projects/1026793852137/locations/global/collections/default_collection/dataStores/applied-genai-grounding-overview/branches/0/documents/73bee30d37112e8e829720fe2f4a3ff0b450c2a51cd9fe03b5beeea277eed67',\n",
       "         'uri': 'gs://statmike-mlops-349915/applied-genai/grounding-overview/wqn5ah4c3qtivwx3jatm.pdf',\n",
       "         'title': 'wqn5ah4c3qtivwx3jatm.pdf',\n",
       "         'snippetInfo': [{'snippet': '... <b>game</b> as the representative of <b>baseball</b>. Do not allow criticism to keep you from studying out <b>bad</b> situations. Carry your rule book. It is better to consult&nbsp;...',\n",
       "           'snippetStatus': 'SUCCESS'}],\n",
       "         'structData': {'path': 'applied-genai/grounding-overview',\n",
       "          'location': 'statmike-mlops-349915',\n",
       "          'title': 'wqn5ah4c3qtivwx3jatm.pdf'}}]}}]}]},\n",
       " 'answerQueryToken': 'NMwKDAjj5Zi2BhDnweuzAxIkNjZjMzUzZWQtMDAwMC0yZjQ2LTg2Y2QtMDg5ZTA4MmUwNTU4'}"
      ]
     },
     "execution_count": 199,
     "metadata": {},
     "output_type": "execute_result"
    }
   ],
   "source": [
    "answer"
   ]
  },
  {
   "cell_type": "markdown",
   "id": "11743692-d0ac-4927-adf8-ec3b70a310c8",
   "metadata": {},
   "source": [
    "---\n",
    "### Get Answers: Answer phase commands - Show only relevant answers\n",
    "\n",
    "Make a request that returns an answer and search results (with links): [Show only relevant answers](https://cloud.google.com/generative-ai-app-builder/docs/answer#ignore-irrelevant-answers)"
   ]
  },
  {
   "cell_type": "markdown",
   "id": "2be6a8ba-c604-47f1-8774-7f61f1be22d0",
   "metadata": {},
   "source": [
    "Prepare data:"
   ]
  },
  {
   "cell_type": "code",
   "execution_count": 116,
   "id": "ff01904a-c449-47a3-9af4-c94b6661ae2a",
   "metadata": {},
   "outputs": [],
   "source": [
    "request = dict(\n",
    "    query = dict(text = question),\n",
    "    searchSpec = dict(\n",
    "        searchParams = dict(\n",
    "            maxReturnResults = 10,\n",
    "\n",
    "        )\n",
    "    ),\n",
    "    queryUnderstandingSpec = dict(\n",
    "        queryRephraserSpec = dict(\n",
    "            maxRephraseSteps = 5 # 5 is max, default is 1\n",
    "        ),\n",
    "        queryClassificationSpec = dict(\n",
    "            types = ['NON_ANSWER_SEEKING_QUERY', 'ADVERSARIAL_QUERY']\n",
    "        )\n",
    "    ),\n",
    "    answerGenerationSpec = dict(\n",
    "        ignoreAdversarialQuery = True,\n",
    "        ignoreNonAnswerSeekingQuery = True,\n",
    "        ignoreLowRelevantContent = True\n",
    "    )\n",
    ")\n",
    "data = json.dumps(request)"
   ]
  },
  {
   "cell_type": "markdown",
   "id": "68c01485-6dd6-4412-b675-e16f232e13e2",
   "metadata": {},
   "source": [
    "Make Request:"
   ]
  },
  {
   "cell_type": "code",
   "execution_count": 117,
   "id": "d93dcd0d-696e-4426-8ba7-f4d3a9a7872d",
   "metadata": {},
   "outputs": [],
   "source": [
    "answer = answer_api(data)"
   ]
  },
  {
   "cell_type": "markdown",
   "id": "5759224d-bf9a-41aa-9f7c-44b8dffa0e09",
   "metadata": {},
   "source": [
    "Review Answer:"
   ]
  },
  {
   "cell_type": "code",
   "execution_count": 118,
   "id": "341ec992-5c92-4469-a20c-1f9cb3c068de",
   "metadata": {
    "tags": []
   },
   "outputs": [
    {
     "data": {
      "text/plain": [
       "'First base is a white canvas or rubber-covered bag that is 18 inches square. It is located at the intersection of two lines. One line is measured 90 feet from home base toward first base, and the other line is measured 90 feet from second base toward first base. The distance between first base and third base is 127 feet, 33 ⁄8 inches. The infield is a 90-foot square. \\n'"
      ]
     },
     "execution_count": 118,
     "metadata": {},
     "output_type": "execute_result"
    }
   ],
   "source": [
    "answer['answer']['answerText']"
   ]
  },
  {
   "cell_type": "code",
   "execution_count": 119,
   "id": "ad67929a-1300-47b6-9e33-ed0cb85499a4",
   "metadata": {
    "tags": []
   },
   "outputs": [
    {
     "data": {
      "text/plain": [
       "{'answerText': 'First base is a white canvas or rubber-covered bag that is 18 inches square. It is located at the intersection of two lines. One line is measured 90 feet from home base toward first base, and the other line is measured 90 feet from second base toward first base. The distance between first base and third base is 127 feet, 33 ⁄8 inches. The infield is a 90-foot square. \\n',\n",
       " 'steps': [{'actions': [{'searchAction': {'query': 'What are the dimensions of first base?'},\n",
       "     'observation': {'searchResults': [{'document': 'projects/1026793852137/locations/global/collections/default_collection/dataStores/applied-genai-grounding-overview/branches/0/documents/73bee30d37112e8e829720fe2f4a3ff0b450c2a51cd9fe03b5beeea277eed67',\n",
       "        'uri': 'gs://statmike-mlops-349915/applied-genai/grounding-overview/wqn5ah4c3qtivwx3jatm.pdf',\n",
       "        'title': 'wqn5ah4c3qtivwx3jatm.pdf',\n",
       "        'snippetInfo': [{'snippet': 'All <b>measurements</b> from home <b>base</b> shall be taken from the point where the <b>first</b> and third <b>base</b> lines intersect. The catcher&#39;s box, the batters&#39; boxes, the coaches&nbsp;...',\n",
       "          'snippetStatus': 'SUCCESS'}],\n",
       "        'structData': {'title': 'wqn5ah4c3qtivwx3jatm.pdf',\n",
       "         'location': 'statmike-mlops-349915',\n",
       "         'path': 'applied-genai/grounding-overview'}}]}}]}]}"
      ]
     },
     "execution_count": 119,
     "metadata": {},
     "output_type": "execute_result"
    }
   ],
   "source": [
    "answer['answer']"
   ]
  },
  {
   "cell_type": "markdown",
   "id": "eebf95ba-fc5b-44c1-afd9-a53333406383",
   "metadata": {},
   "source": [
    "---\n",
    "### Get Answers: Answer phase commands - Specify the answer mode\n",
    "\n",
    "Make a request that returns an answer and search results (with links): [Specify the answer mode](https://cloud.google.com/generative-ai-app-builder/docs/answer#answer-model)\n",
    "- [Available Models](https://cloud.google.com/generative-ai-app-builder/docs/answer-generation-models#models)"
   ]
  },
  {
   "cell_type": "markdown",
   "id": "7a70bbd7-8830-47ee-af4a-02e28d168c58",
   "metadata": {},
   "source": [
    "Prepare data:"
   ]
  },
  {
   "cell_type": "code",
   "execution_count": 120,
   "id": "5dbdf2b9-5fe8-4caf-9c10-5ef05df2f52c",
   "metadata": {},
   "outputs": [],
   "source": [
    "request = dict(\n",
    "    query = dict(text = question),\n",
    "    searchSpec = dict(\n",
    "        searchParams = dict(\n",
    "            maxReturnResults = 10,\n",
    "\n",
    "        )\n",
    "    ),\n",
    "    queryUnderstandingSpec = dict(\n",
    "        queryRephraserSpec = dict(\n",
    "            maxRephraseSteps = 5 # 5 is max, default is 1\n",
    "        ),\n",
    "        queryClassificationSpec = dict(\n",
    "            types = ['NON_ANSWER_SEEKING_QUERY', 'ADVERSARIAL_QUERY']\n",
    "        )\n",
    "    ),\n",
    "    answerGenerationSpec = dict(\n",
    "        ignoreAdversarialQuery = True,\n",
    "        ignoreNonAnswerSeekingQuery = True,\n",
    "        modelSpec = dict(\n",
    "            modelVersion = 'gemini-1.5-flash-001/answer_gen/v1'\n",
    "        )\n",
    "    )\n",
    ")\n",
    "data = json.dumps(request)"
   ]
  },
  {
   "cell_type": "markdown",
   "id": "3f73b663-0c37-4655-bdab-f4fb7a6f8a2d",
   "metadata": {},
   "source": [
    "Make Request:"
   ]
  },
  {
   "cell_type": "code",
   "execution_count": 121,
   "id": "ce9c8b7d-3ffe-436e-a4d9-4f477e3abab7",
   "metadata": {},
   "outputs": [],
   "source": [
    "answer = answer_api(data)"
   ]
  },
  {
   "cell_type": "markdown",
   "id": "879bb5e9-60dc-44a1-a17c-5369207edf08",
   "metadata": {},
   "source": [
    "Review Answer:"
   ]
  },
  {
   "cell_type": "code",
   "execution_count": 122,
   "id": "00bbafbd-825c-4b20-9596-77bf5e0deba2",
   "metadata": {
    "tags": []
   },
   "outputs": [
    {
     "data": {
      "text/plain": [
       "'First base is a white canvas or rubber-covered bag that is 18 inches square. It is located at the intersection of two lines: one measured 90 feet from home base toward first base and the other measured 90 feet from second base toward first base. The distance between first base and third base is 127 feet, 33 ⁄8 inches. The first and third base bags must be entirely within the infield. The infield is a 90-foot square. \\n'"
      ]
     },
     "execution_count": 122,
     "metadata": {},
     "output_type": "execute_result"
    }
   ],
   "source": [
    "answer['answer']['answerText']"
   ]
  },
  {
   "cell_type": "code",
   "execution_count": 123,
   "id": "b927e45b-cc48-4c44-a724-8427ce363da4",
   "metadata": {
    "tags": []
   },
   "outputs": [
    {
     "data": {
      "text/plain": [
       "{'answerText': 'First base is a white canvas or rubber-covered bag that is 18 inches square. It is located at the intersection of two lines: one measured 90 feet from home base toward first base and the other measured 90 feet from second base toward first base. The distance between first base and third base is 127 feet, 33 ⁄8 inches. The first and third base bags must be entirely within the infield. The infield is a 90-foot square. \\n',\n",
       " 'steps': [{'actions': [{'searchAction': {'query': 'What are the dimensions of first base?'},\n",
       "     'observation': {'searchResults': [{'document': 'projects/1026793852137/locations/global/collections/default_collection/dataStores/applied-genai-grounding-overview/branches/0/documents/73bee30d37112e8e829720fe2f4a3ff0b450c2a51cd9fe03b5beeea277eed67',\n",
       "        'uri': 'gs://statmike-mlops-349915/applied-genai/grounding-overview/wqn5ah4c3qtivwx3jatm.pdf',\n",
       "        'title': 'wqn5ah4c3qtivwx3jatm.pdf',\n",
       "        'snippetInfo': [{'snippet': 'All <b>measurements</b> from home <b>base</b> shall be taken from the point where the <b>first</b> and third <b>base</b> lines intersect. The catcher&#39;s box, the batters&#39; boxes, the coaches&nbsp;...',\n",
       "          'snippetStatus': 'SUCCESS'}],\n",
       "        'structData': {'title': 'wqn5ah4c3qtivwx3jatm.pdf',\n",
       "         'location': 'statmike-mlops-349915',\n",
       "         'path': 'applied-genai/grounding-overview'}}]}}]}]}"
      ]
     },
     "execution_count": 123,
     "metadata": {},
     "output_type": "execute_result"
    }
   ],
   "source": [
    "answer['answer']"
   ]
  },
  {
   "cell_type": "markdown",
   "id": "7efd1e0a-52dd-4b0c-a3d1-423c5233c8e5",
   "metadata": {},
   "source": [
    "---\n",
    "### Get Answers: Answer phase commands - Specify a custom preamble\n",
    "\n",
    "Make a request that returns an answer and search results (with links): [Specify a custom preamble](https://cloud.google.com/generative-ai-app-builder/docs/answer#preamble)"
   ]
  },
  {
   "cell_type": "markdown",
   "id": "1cd458d8-3b15-4b3e-ba78-654be2c98d9a",
   "metadata": {},
   "source": [
    "Prepare data:"
   ]
  },
  {
   "cell_type": "code",
   "execution_count": 124,
   "id": "ebfb403e-42ba-4196-9f15-9f6d4c022703",
   "metadata": {
    "tags": []
   },
   "outputs": [],
   "source": [
    "request = dict(\n",
    "    query = dict(text = question),\n",
    "    searchSpec = dict(\n",
    "        searchParams = dict(\n",
    "            maxReturnResults = 10,\n",
    "\n",
    "        )\n",
    "    ),\n",
    "    queryUnderstandingSpec = dict(\n",
    "        queryRephraserSpec = dict(\n",
    "            maxRephraseSteps = 5 # 5 is max, default is 1\n",
    "        ),\n",
    "        queryClassificationSpec = dict(\n",
    "            types = ['NON_ANSWER_SEEKING_QUERY', 'ADVERSARIAL_QUERY']\n",
    "        )\n",
    "    ),\n",
    "    answerGenerationSpec = dict(\n",
    "        ignoreAdversarialQuery = True,\n",
    "        ignoreNonAnswerSeekingQuery = True,\n",
    "        promptSpec = dict(\n",
    "            preamble = \"Give a direct factual answer like an umpire for MLB would.\"\n",
    "        )\n",
    "    )\n",
    ")\n",
    "data = json.dumps(request)"
   ]
  },
  {
   "cell_type": "markdown",
   "id": "b81ab9e1-34a8-4a88-bd2e-146b777c1beb",
   "metadata": {},
   "source": [
    "Make Request:"
   ]
  },
  {
   "cell_type": "code",
   "execution_count": 125,
   "id": "cf89315a-e93a-40c5-95c9-2ba5328098b1",
   "metadata": {
    "tags": []
   },
   "outputs": [],
   "source": [
    "answer = answer_api(data)"
   ]
  },
  {
   "cell_type": "markdown",
   "id": "0d172eaa-c4a2-401c-8928-fd543b694afa",
   "metadata": {},
   "source": [
    "Review Answer:"
   ]
  },
  {
   "cell_type": "code",
   "execution_count": 126,
   "id": "e8e7e410-0f08-4758-844c-48e21ea35ec6",
   "metadata": {
    "tags": []
   },
   "outputs": [
    {
     "data": {
      "text/plain": [
       "'First base is marked by a white canvas or rubber-covered bag. The bag is 18 inches square. It is securely attached to the ground. The bag must be entirely within the infield. The distance from home base to first base is 90 feet. \\n'"
      ]
     },
     "execution_count": 126,
     "metadata": {},
     "output_type": "execute_result"
    }
   ],
   "source": [
    "answer['answer']['answerText']"
   ]
  },
  {
   "cell_type": "code",
   "execution_count": 127,
   "id": "e78687b1-ca15-41d7-a011-e0f56e21fa11",
   "metadata": {
    "tags": []
   },
   "outputs": [
    {
     "data": {
      "text/plain": [
       "{'answerText': 'First base is marked by a white canvas or rubber-covered bag. The bag is 18 inches square. It is securely attached to the ground. The bag must be entirely within the infield. The distance from home base to first base is 90 feet. \\n',\n",
       " 'steps': [{'actions': [{'searchAction': {'query': 'What are the dimensions of first base?'},\n",
       "     'observation': {'searchResults': [{'document': 'projects/1026793852137/locations/global/collections/default_collection/dataStores/applied-genai-grounding-overview/branches/0/documents/73bee30d37112e8e829720fe2f4a3ff0b450c2a51cd9fe03b5beeea277eed67',\n",
       "        'uri': 'gs://statmike-mlops-349915/applied-genai/grounding-overview/wqn5ah4c3qtivwx3jatm.pdf',\n",
       "        'title': 'wqn5ah4c3qtivwx3jatm.pdf',\n",
       "        'snippetInfo': [{'snippet': 'All <b>measurements</b> from home <b>base</b> shall be taken from the point where the <b>first</b> and third <b>base</b> lines intersect. The catcher&#39;s box, the batters&#39; boxes, the coaches&nbsp;...',\n",
       "          'snippetStatus': 'SUCCESS'}],\n",
       "        'structData': {'title': 'wqn5ah4c3qtivwx3jatm.pdf',\n",
       "         'location': 'statmike-mlops-349915',\n",
       "         'path': 'applied-genai/grounding-overview'}}]}}]}]}"
      ]
     },
     "execution_count": 127,
     "metadata": {},
     "output_type": "execute_result"
    }
   ],
   "source": [
    "answer['answer']"
   ]
  },
  {
   "cell_type": "markdown",
   "id": "2be364d3-ad5e-46a8-b7e4-a171cc25e986",
   "metadata": {},
   "source": [
    "---\n",
    "### Get Answers: Answer phase commands - Include citations\n",
    "\n",
    "Make a request that returns an answer and search results (with links): [Include citations](https://cloud.google.com/generative-ai-app-builder/docs/answer#citations)"
   ]
  },
  {
   "cell_type": "markdown",
   "id": "a3dc9bd7-1be5-4bd8-86db-4ffaf4c417b3",
   "metadata": {},
   "source": [
    "Prepare data:"
   ]
  },
  {
   "cell_type": "code",
   "execution_count": 128,
   "id": "b85f8e26-2af3-462b-a5ec-57d72d54b507",
   "metadata": {
    "tags": []
   },
   "outputs": [],
   "source": [
    "request = dict(\n",
    "    query = dict(text = question),\n",
    "    searchSpec = dict(\n",
    "        searchParams = dict(\n",
    "            maxReturnResults = 10,\n",
    "\n",
    "        )\n",
    "    ),\n",
    "    queryUnderstandingSpec = dict(\n",
    "        queryRephraserSpec = dict(\n",
    "            maxRephraseSteps = 5 # 5 is max, default is 1\n",
    "        ),\n",
    "        queryClassificationSpec = dict(\n",
    "            types = ['NON_ANSWER_SEEKING_QUERY', 'ADVERSARIAL_QUERY']\n",
    "        )\n",
    "    ),\n",
    "    answerGenerationSpec = dict(\n",
    "        ignoreAdversarialQuery = True,\n",
    "        ignoreNonAnswerSeekingQuery = True,\n",
    "        includeCitations = True\n",
    "    )\n",
    ")\n",
    "data = json.dumps(request)"
   ]
  },
  {
   "cell_type": "markdown",
   "id": "ae7caefa-4012-4294-89d0-5afbabfbd805",
   "metadata": {},
   "source": [
    "Make Request:"
   ]
  },
  {
   "cell_type": "code",
   "execution_count": 129,
   "id": "c5faa843-5c4f-47f3-862e-281232b0b27c",
   "metadata": {
    "tags": []
   },
   "outputs": [],
   "source": [
    "answer = answer_api(data)"
   ]
  },
  {
   "cell_type": "markdown",
   "id": "a121cc46-f266-49a9-893c-b5fd3b0e9085",
   "metadata": {},
   "source": [
    "Review Answer:"
   ]
  },
  {
   "cell_type": "code",
   "execution_count": 130,
   "id": "bc09cb7d-61be-4af5-868a-b6cae2aa32cd",
   "metadata": {
    "tags": []
   },
   "outputs": [
    {
     "data": {
      "text/plain": [
       "'First base is a white canvas or rubber-covered bag that is 18 inches square. It is located at the intersection of two lines: one measured 90 feet from home base toward first base and the other measured 90 feet from second base toward first base. The distance between first base and third base is 127 feet, 33 ⁄8 inches. The first and third base bags must be entirely within the infield. The infield is a 90-foot square. \\n'"
      ]
     },
     "execution_count": 130,
     "metadata": {},
     "output_type": "execute_result"
    }
   ],
   "source": [
    "answer['answer']['answerText']"
   ]
  },
  {
   "cell_type": "code",
   "execution_count": 131,
   "id": "01ed367a-f9fd-4ea9-a29a-bf11a4d5a593",
   "metadata": {
    "tags": []
   },
   "outputs": [
    {
     "data": {
      "text/plain": [
       "{'answerText': 'First base is a white canvas or rubber-covered bag that is 18 inches square. It is located at the intersection of two lines: one measured 90 feet from home base toward first base and the other measured 90 feet from second base toward first base. The distance between first base and third base is 127 feet, 33 ⁄8 inches. The first and third base bags must be entirely within the infield. The infield is a 90-foot square. \\n',\n",
       " 'citations': [{'endIndex': '76', 'sources': [{'referenceId': '0'}]},\n",
       "  {'startIndex': '77', 'endIndex': '245', 'sources': [{'referenceId': '1'}]},\n",
       "  {'startIndex': '246', 'endIndex': '321', 'sources': [{'referenceId': '1'}]},\n",
       "  {'startIndex': '322',\n",
       "   'endIndex': '421',\n",
       "   'sources': [{'referenceId': '0'}, {'referenceId': '7'}]}],\n",
       " 'references': [{'chunkInfo': {'content': '4 Rule 2.03 to 2.05 2.03 The Bases\\nFirst, second and third bases shall be marked by white canvas or\\nrubber-covered bags, securely attached to the ground as indicated in\\nDiagram 2. The first and third base bags shall be entirely within the\\ninfield. The second base bag shall be centered on second base. The\\nbags shall be 18 inches square, not less than three nor more than five\\ninches thick, and filled with soft material. 2.04 The Pitcher’s Plate\\nThe pitcher’s plate shall be a rectangular slab of whitened rubber,\\n24 inches by 6 inches. It shall be set in the ground as shown in\\nDiagrams 1 and 2, so that the distance between the pitcher’s plate\\nand home base (the rear point of home plate) shall be 60 feet, 6\\ninches. 2.05 Benches\\nThe home Club shall furnish players’ benches, one each for the home\\nand visiting teams. Such benches shall not be less than twenty-five\\nfeet from the base lines. They shall be roofed and shall be enclosed\\nat the back and ends. ',\n",
       "    'relevanceScore': 0.7,\n",
       "    'documentMetadata': {'document': 'projects/1026793852137/locations/global/collections/default_collection/dataStores/applied-genai-grounding-overview/branches/0/documents/73bee30d37112e8e829720fe2f4a3ff0b450c2a51cd9fe03b5beeea277eed67',\n",
       "     'title': 'wqn5ah4c3qtivwx3jatm.pdf',\n",
       "     'pageIdentifier': '16',\n",
       "     'structData': {'location': 'statmike-mlops-349915',\n",
       "      'title': 'wqn5ah4c3qtivwx3jatm.pdf',\n",
       "      'path': 'applied-genai/grounding-overview'}}}},\n",
       "  {'chunkInfo': {'content': 'It is recommended that the distance from home base to the backstop,\\nand from the base lines to the nearest fence, stand or other obstruction\\non foul territory shall be 60 feet or more. See Appendix 1. When location of home base is determined, with a steel tape\\nmeasure 127 feet, 33 ⁄8 inches in desired direction to establish\\nsecond base. From home base, measure 90 feet toward first base;\\nfrom second base, measure 90 feet toward first base; the intersection\\nof these lines establishes first base. From home base, measure 90\\nfeet toward third base; from second base, measure 90 feet toward\\nthird base; the intersection of these lines establishes third base. The\\ndistance between first base and third base is 127 feet, 33 ⁄8 inches. All\\nmeasurements from home base shall be taken from the point where\\nthe first and third base lines intersect. The catcher’s box, the batters’ boxes, the coaches’ boxes, the three\\nfoot first base lines and the next batter’s boxes shall be laid out as\\nshown in the diagrams in Appendices 1 and 2. ',\n",
       "    'relevanceScore': 0.7,\n",
       "    'documentMetadata': {'document': 'projects/1026793852137/locations/global/collections/default_collection/dataStores/applied-genai-grounding-overview/branches/0/documents/73bee30d37112e8e829720fe2f4a3ff0b450c2a51cd9fe03b5beeea277eed67',\n",
       "     'title': 'wqn5ah4c3qtivwx3jatm.pdf',\n",
       "     'pageIdentifier': '14',\n",
       "     'structData': {'location': 'statmike-mlops-349915',\n",
       "      'path': 'applied-genai/grounding-overview',\n",
       "      'title': 'wqn5ah4c3qtivwx3jatm.pdf'}}}},\n",
       "  {'chunkInfo': {'content': '5 Rule 3.01 to 3.02(c) 3.00–EQUIPMENT AND UNIFORMS 3.01 The Ball\\nThe ball shall be a sphere formed by yarn wound around a small\\ncore of cork, rubber or similar material, covered with two strips of\\nwhite horsehide or cowhide, tightly stitched together. It shall weigh\\nnot less than five nor more than 5¼ ounces avoirdupois and measure\\nnot less than nine nor more than 9¼ inches in circumference. No player shall intentionally discolor or damage the ball by rubbing\\nit with soil, rosin, paraffin, licorice, sand-paper, emery- paper or\\nother foreign substance. PENALTY: The umpire shall demand the ball and remove\\nthe offender from the game. In addition, the offender shall be\\nsuspended automatically for 10 games. For rules in regard to\\na pitcher defacing the ball, see Rules 6.02(c)(2) through (6). Rule 3.01 Comment: Should a ball come partially apart in a\\ngame, it is in play until the play is completed. 3.02 The Bat\\n(a)\\u2002 The bat shall be a smooth, round stick not more than 2.61 inches\\nin diameter at the thickest part and not more than 42 inches in\\nlength. The bat shall be one piece of solid wood. ',\n",
       "    'relevanceScore': 0.6,\n",
       "    'documentMetadata': {'document': 'projects/1026793852137/locations/global/collections/default_collection/dataStores/applied-genai-grounding-overview/branches/0/documents/73bee30d37112e8e829720fe2f4a3ff0b450c2a51cd9fe03b5beeea277eed67',\n",
       "     'title': 'wqn5ah4c3qtivwx3jatm.pdf',\n",
       "     'pageIdentifier': '17',\n",
       "     'structData': {'title': 'wqn5ah4c3qtivwx3jatm.pdf',\n",
       "      'path': 'applied-genai/grounding-overview',\n",
       "      'location': 'statmike-mlops-349915'}}}},\n",
       "  {'chunkInfo': {'content': '(b) No existing playing field shall be remodeled after\\nJune 1, 1958, in such manner as to reduce the distance from\\nhome base to the foul poles and to the center field fence below\\nthe minimum specified in paragraph (a) above. 2.02 Home Base Home base shall be marked by a five-sided slab of whitened rubber. It shall be a 17-inch square with two of the corners removed so that\\none edge is 17 inches long, two adjacent sides are 8½ inches and\\nthe remaining two sides are 12 inches and set at an angle to make a\\npoint. It shall be set in the ground with the point at the intersection\\nof the lines extending from home base to first base and to third base;\\nwith the 17-inch edge facing the pitcher’s plate, and the two 12-inch\\nedges coinciding with the first and third base lines. The top edges of\\nhome base shall be beveled and the base shall be fixed in the ground\\nlevel with the ground surface. (See drawing D in Appendix 2.) ',\n",
       "    'relevanceScore': 0.6,\n",
       "    'documentMetadata': {'document': 'projects/1026793852137/locations/global/collections/default_collection/dataStores/applied-genai-grounding-overview/branches/0/documents/73bee30d37112e8e829720fe2f4a3ff0b450c2a51cd9fe03b5beeea277eed67',\n",
       "     'title': 'wqn5ah4c3qtivwx3jatm.pdf',\n",
       "     'pageIdentifier': '15',\n",
       "     'structData': {'title': 'wqn5ah4c3qtivwx3jatm.pdf',\n",
       "      'path': 'applied-genai/grounding-overview',\n",
       "      'location': 'statmike-mlops-349915'}}}},\n",
       "  {'chunkInfo': {'content': '3 Rule 2.01 to 2.02 The foul lines and all other playing lines indicated in the diagrams\\nby solid black lines shall be marked with paint or non-toxic and\\nnon-burning chalk or other white material. The grass lines and dimensions shown on the diagrams are those\\nused in many fields, but they are not mandatory and each Club\\nshall determine the size and shape of the grassed and bare areas\\nof its playing field; provided, however, that the grass line of the\\nouter boundary of the infield dirt shall be a 95-foot radius from the\\ncenter of the pitcher’s plate. A Club will be considered to be in\\ncompliance with this provision if the average distance of the grass\\nline of the outer boundary of the infield dirt is less than 96 feet but\\nmore than 94 feet, and no individual measurement is more than 96\\nfeet or less than 94 feet. NOTE: (a) Any Playing Field constructed by a professional\\nClub after June 1, 1958, shall provide a minimum distance of\\n325 feet from home base to the nearest fence, stand or other\\nobstruction on the right and left field foul lines, and a minimum\\ndistance of 400 feet to the center field fence. ',\n",
       "    'relevanceScore': 0.5,\n",
       "    'documentMetadata': {'document': 'projects/1026793852137/locations/global/collections/default_collection/dataStores/applied-genai-grounding-overview/branches/0/documents/73bee30d37112e8e829720fe2f4a3ff0b450c2a51cd9fe03b5beeea277eed67',\n",
       "     'title': 'wqn5ah4c3qtivwx3jatm.pdf',\n",
       "     'pageIdentifier': '15',\n",
       "     'structData': {'title': 'wqn5ah4c3qtivwx3jatm.pdf',\n",
       "      'path': 'applied-genai/grounding-overview',\n",
       "      'location': 'statmike-mlops-349915'}}}},\n",
       "  {'chunkInfo': {'content': '8 Rule 3.05 to 3.06 wide across the palm, measured from the base of the thumb crotch to\\nthe outer edge of the mitt. The space between the thumb section and\\nthe finger section of the mitt shall not exceed four inches at the top of\\nthe mitt and three and one-half inches at the base of the thumb crotch. The mitt shall be constructed so that this space is permanently fixed\\nand cannot be enlarged, extended, widened, or deepened by the use\\nof any materials or process whatsoever. The web of the mitt shall\\nmeasure not more than five inches from its top to the base of the\\nthumb crotch. The web may be either a lacing, lacing through leather\\ntunnels, or a center piece of leather which may be an extension of the\\npalm connected to the mitt with lacing and constructed so that it will\\nnot exceed the above mentioned measurements. The webbing shall\\nnot be constructed of wound or wrapped lacing or deepened to make\\na net type of trap. The glove may be of any weight. 3.06 Fielding Gloves\\nEach fielder, other than the catcher, may use or wear a leather glove. The measurements covering size of glove shall be made by measuring\\nfront side or ball receiving side of glove. ',\n",
       "    'relevanceScore': 0.5,\n",
       "    'documentMetadata': {'document': 'projects/1026793852137/locations/global/collections/default_collection/dataStores/applied-genai-grounding-overview/branches/0/documents/73bee30d37112e8e829720fe2f4a3ff0b450c2a51cd9fe03b5beeea277eed67',\n",
       "     'title': 'wqn5ah4c3qtivwx3jatm.pdf',\n",
       "     'pageIdentifier': '20',\n",
       "     'structData': {'location': 'statmike-mlops-349915',\n",
       "      'title': 'wqn5ah4c3qtivwx3jatm.pdf',\n",
       "      'path': 'applied-genai/grounding-overview'}}}},\n",
       "  {'chunkInfo': {'content': 'The tool or measuring tape\\nshall be placed to contact the surface or feature of item being measured\\nand follow all contours in the process. The glove shall not measure\\nmore than 13 inches from the tip of any one of the 4 fingers, through\\nthe ball pocket to the bottom edge or heel of glove. The glove shall not\\nmeasure more than 7¾ inches wide, measured from the inside seam\\nat base of first finger, along base of other fingers, to the outside edge\\nof little finger edge of glove. The space or area between the thumb\\nand first finger, called crotch, may be filled with leather webbing or\\nback stop. The webbing may be constructed of two plies of standard\\nleather to close the crotch area entirely, or it may be constructed of a\\nseries of tunnels made of leather, or a series of panels of leather, or of\\nlacing leather thongs. The webbing may not be constructed of wound\\nor wrapped lacing to make a net type of trap. When webbing is made\\nto cover entire crotch area, the webbing can be constructed so as to\\nbe flexible. When constructed of a series of sections, they must be\\njoined together. These sections may not be so constructed to allow\\ndepression to be developed by curvatures in the section sides. The\\nwebbing shall be made to control the size of the crotch opening. ',\n",
       "    'relevanceScore': 0.4,\n",
       "    'documentMetadata': {'document': 'projects/1026793852137/locations/global/collections/default_collection/dataStores/applied-genai-grounding-overview/branches/0/documents/73bee30d37112e8e829720fe2f4a3ff0b450c2a51cd9fe03b5beeea277eed67',\n",
       "     'title': 'wqn5ah4c3qtivwx3jatm.pdf',\n",
       "     'pageIdentifier': '20',\n",
       "     'structData': {'title': 'wqn5ah4c3qtivwx3jatm.pdf',\n",
       "      'location': 'statmike-mlops-349915',\n",
       "      'path': 'applied-genai/grounding-overview'}}}},\n",
       "  {'chunkInfo': {'content': '2 Rule 2.01 2.00–THE PLAYING FIELD 2.01 Layout of the Field\\nThe field shall be laid out according to the instructions below,\\nsupplemented by the diagrams in Appendices 1, 2, and 3. The infield shall be a 90-foot square. The outfield shall be the area\\nbetween two foul lines formed by extending two sides of the square,\\nas in diagram in Appendix 1 (page 156). The distance from home\\nbase to the nearest fence, stand or other obstruction on fair territory\\nshall be 250 feet or more. A distance of 320 feet or more along\\nthe foul lines, and 400 feet or more to center field is preferable. The infield shall be graded so that the base lines and home plate\\nare level. The pitcher’s plate shall be 10 inches above the level of\\nhome plate. The degree of slope from a point 6 inches in front of the\\npitcher’s plate to a point 6 feet toward home plate shall be 1 inch to\\n1 foot, and such degree of slope shall be uniform. The infield and\\noutfield, including the boundary lines, are fair territory and all other\\narea is foul territory. It is desirable that the line from home base through the pitcher’s\\nplate to second base shall run East-Northeast. ',\n",
       "    'relevanceScore': 0.4,\n",
       "    'documentMetadata': {'document': 'projects/1026793852137/locations/global/collections/default_collection/dataStores/applied-genai-grounding-overview/branches/0/documents/73bee30d37112e8e829720fe2f4a3ff0b450c2a51cd9fe03b5beeea277eed67',\n",
       "     'title': 'wqn5ah4c3qtivwx3jatm.pdf',\n",
       "     'pageIdentifier': '14',\n",
       "     'structData': {'location': 'statmike-mlops-349915',\n",
       "      'title': 'wqn5ah4c3qtivwx3jatm.pdf',\n",
       "      'path': 'applied-genai/grounding-overview'}}}},\n",
       "  {'chunkInfo': {'content': 'NOTE: No laminated or experimental bats shall be used in a\\nprofessional game (either championship season or exhibition\\ngames) until the manufacturer has secured approval from Major\\nLeague Baseball of his design and methods of manufacture. (b)\\u2002 Cupped Bats. An indentation in the end of the bat up to 1¼\\ninches in depth is permitted and may be no wider than two\\ninches and no less than one inch in diameter. The indentation\\nmust be curved with no foreign substance added. (c)\\u2002 The bat handle, for not more than 18 inches from its end, may\\nbe covered or treated with any material or substance to improve\\nthe grip. Any such material or substance that extends past the\\n18-inch limitation shall cause the bat to be removed from the\\ngame. ',\n",
       "    'relevanceScore': 0.4,\n",
       "    'documentMetadata': {'document': 'projects/1026793852137/locations/global/collections/default_collection/dataStores/applied-genai-grounding-overview/branches/0/documents/73bee30d37112e8e829720fe2f4a3ff0b450c2a51cd9fe03b5beeea277eed67',\n",
       "     'title': 'wqn5ah4c3qtivwx3jatm.pdf',\n",
       "     'pageIdentifier': '17',\n",
       "     'structData': {'path': 'applied-genai/grounding-overview',\n",
       "      'title': 'wqn5ah4c3qtivwx3jatm.pdf',\n",
       "      'location': 'statmike-mlops-349915'}}}},\n",
       "  {'chunkInfo': {'content': 'The\\ncrotch opening shall measure not more than 4½ inches at the top, not ',\n",
       "    'relevanceScore': 0.4,\n",
       "    'documentMetadata': {'document': 'projects/1026793852137/locations/global/collections/default_collection/dataStores/applied-genai-grounding-overview/branches/0/documents/73bee30d37112e8e829720fe2f4a3ff0b450c2a51cd9fe03b5beeea277eed67',\n",
       "     'title': 'wqn5ah4c3qtivwx3jatm.pdf',\n",
       "     'pageIdentifier': '20',\n",
       "     'structData': {'location': 'statmike-mlops-349915',\n",
       "      'title': 'wqn5ah4c3qtivwx3jatm.pdf',\n",
       "      'path': 'applied-genai/grounding-overview'}}}}],\n",
       " 'steps': [{'actions': [{'searchAction': {'query': 'What are the dimensions of first base?'},\n",
       "     'observation': {'searchResults': [{'document': 'projects/1026793852137/locations/global/collections/default_collection/dataStores/applied-genai-grounding-overview/branches/0/documents/73bee30d37112e8e829720fe2f4a3ff0b450c2a51cd9fe03b5beeea277eed67',\n",
       "        'uri': 'gs://statmike-mlops-349915/applied-genai/grounding-overview/wqn5ah4c3qtivwx3jatm.pdf',\n",
       "        'title': 'wqn5ah4c3qtivwx3jatm.pdf',\n",
       "        'snippetInfo': [{'snippet': 'All <b>measurements</b> from home <b>base</b> shall be taken from the point where the <b>first</b> and third <b>base</b> lines intersect. The catcher&#39;s box, the batters&#39; boxes, the coaches&nbsp;...',\n",
       "          'snippetStatus': 'SUCCESS'}],\n",
       "        'structData': {'path': 'applied-genai/grounding-overview',\n",
       "         'title': 'wqn5ah4c3qtivwx3jatm.pdf',\n",
       "         'location': 'statmike-mlops-349915'}}]}}]}]}"
      ]
     },
     "execution_count": 131,
     "metadata": {},
     "output_type": "execute_result"
    }
   ],
   "source": [
    "answer['answer']"
   ]
  },
  {
   "cell_type": "markdown",
   "id": "e0e083a5-66ac-414a-991d-97ca1263b633",
   "metadata": {},
   "source": [
    "---\n",
    "### Get Answers: Answer phase commands - Set the answer language code\n",
    "\n",
    "Make a request that returns an answer and search results (with links): [Set the answer language code](https://cloud.google.com/generative-ai-app-builder/docs/answer#language-code)\n",
    "- Feature requires request - see link for form"
   ]
  },
  {
   "cell_type": "markdown",
   "id": "2b7d4100-c9a6-4db7-8d67-addc6fcef96d",
   "metadata": {},
   "source": [
    "Prepare data:"
   ]
  },
  {
   "cell_type": "code",
   "execution_count": 139,
   "id": "fdb186f1-52b9-4ac2-8615-918426e8a912",
   "metadata": {
    "tags": []
   },
   "outputs": [],
   "source": [
    "request = dict(\n",
    "    query = dict(text = question),\n",
    "    searchSpec = dict(\n",
    "        searchParams = dict(\n",
    "            maxReturnResults = 10,\n",
    "\n",
    "        )\n",
    "    ),\n",
    "    queryUnderstandingSpec = dict(\n",
    "        queryRephraserSpec = dict(\n",
    "            maxRephraseSteps = 5 # 5 is max, default is 1\n",
    "        ),\n",
    "        queryClassificationSpec = dict(\n",
    "            types = ['NON_ANSWER_SEEKING_QUERY', 'ADVERSARIAL_QUERY']\n",
    "        )\n",
    "    ),\n",
    "    answerGenerationSpec = dict(\n",
    "        ignoreAdversarialQuery = True,\n",
    "        ignoreNonAnswerSeekingQuery = True,\n",
    "        answerLanguageCode = 'i-klingon'\n",
    "    )\n",
    ")\n",
    "data = json.dumps(request)"
   ]
  },
  {
   "cell_type": "markdown",
   "id": "a376255a-ccb1-4403-9237-a0f339daca53",
   "metadata": {},
   "source": [
    "Make Request:"
   ]
  },
  {
   "cell_type": "code",
   "execution_count": 137,
   "id": "2861a7e7-daa0-4fad-9099-17d12627d459",
   "metadata": {
    "tags": []
   },
   "outputs": [],
   "source": [
    "answer = answer_api(data)"
   ]
  },
  {
   "cell_type": "markdown",
   "id": "e085ab08-9a1f-4e86-b3a5-c4397da68b58",
   "metadata": {},
   "source": [
    "Review Answer:"
   ]
  },
  {
   "cell_type": "code",
   "execution_count": 138,
   "id": "489a9070-f3ad-47ec-b910-19635a0940f1",
   "metadata": {
    "tags": []
   },
   "outputs": [
    {
     "data": {
      "text/plain": [
       "'First base is a white canvas or rubber-covered bag that is 18 inches square. It is located at the intersection of two lines: one measured 90 feet from home base toward first base and the other measured 90 feet from second base toward first base. The distance between first base and third base is 127 feet, 33 ⁄8 inches. The first and third base bags must be entirely within the infield. The infield is a 90-foot square. \\n'"
      ]
     },
     "execution_count": 138,
     "metadata": {},
     "output_type": "execute_result"
    }
   ],
   "source": [
    "answer['answer']['answerText']"
   ]
  },
  {
   "cell_type": "code",
   "execution_count": 135,
   "id": "39ae797c-e375-488b-804e-7b1f7f47c46e",
   "metadata": {
    "tags": []
   },
   "outputs": [
    {
     "data": {
      "text/plain": [
       "{'answerText': 'First base is a white canvas or rubber-covered bag that is 18 inches square. It is located at the intersection of two lines: one measured 90 feet from home base toward first base and the other measured 90 feet from second base toward first base. The distance between first base and third base is 127 feet, 33 ⁄8 inches. The first and third base bags must be entirely within the infield. The infield is a 90-foot square. \\n',\n",
       " 'steps': [{'actions': [{'searchAction': {'query': 'What are the dimensions of first base?'},\n",
       "     'observation': {'searchResults': [{'document': 'projects/1026793852137/locations/global/collections/default_collection/dataStores/applied-genai-grounding-overview/branches/0/documents/73bee30d37112e8e829720fe2f4a3ff0b450c2a51cd9fe03b5beeea277eed67',\n",
       "        'uri': 'gs://statmike-mlops-349915/applied-genai/grounding-overview/wqn5ah4c3qtivwx3jatm.pdf',\n",
       "        'title': 'wqn5ah4c3qtivwx3jatm.pdf',\n",
       "        'snippetInfo': [{'snippet': 'All <b>measurements</b> from home <b>base</b> shall be taken from the point where the <b>first</b> and third <b>base</b> lines intersect. The catcher&#39;s box, the batters&#39; boxes, the coaches&nbsp;...',\n",
       "          'snippetStatus': 'SUCCESS'}],\n",
       "        'structData': {'path': 'applied-genai/grounding-overview',\n",
       "         'location': 'statmike-mlops-349915',\n",
       "         'title': 'wqn5ah4c3qtivwx3jatm.pdf'}}]}}]}]}"
      ]
     },
     "execution_count": 135,
     "metadata": {},
     "output_type": "execute_result"
    }
   ],
   "source": [
    "answer['answer']"
   ]
  },
  {
   "cell_type": "markdown",
   "id": "0caf6817-fd9d-41a8-84fb-7abbd71cbacf",
   "metadata": {},
   "source": [
    "---\n",
    "### Get Answers & Follow-Ups\n",
    "\n",
    "Ask follow-up questions that require prior questions as context.  [Commands for follow-up questions](https://cloud.google.com/generative-ai-app-builder/docs/answer#commands_for_follow-up_questions)\n"
   ]
  },
  {
   "cell_type": "markdown",
   "id": "580788e2-944c-48fb-bc2f-7f9dbe463eaa",
   "metadata": {},
   "source": [
    "Generate A Session ID:"
   ]
  },
  {
   "cell_type": "code",
   "execution_count": 40,
   "id": "76cfc4ee-23e8-4737-a320-17d2170a074f",
   "metadata": {},
   "outputs": [
    {
     "data": {
      "text/plain": [
       "{'name': 'projects/1026793852137/locations/global/collections/default_collection/dataStores/applied-genai-grounding-overview/sessions/2875604999015314083',\n",
       " 'state': 'IN_PROGRESS',\n",
       " 'userPseudoId': 'abc123',\n",
       " 'startTime': '2024-08-22T14:44:32.643023Z',\n",
       " 'endTime': '2024-08-22T14:44:32.643023Z'}"
      ]
     },
     "execution_count": 40,
     "metadata": {},
     "output_type": "execute_result"
    }
   ],
   "source": [
    "token = !gcloud auth application-default print-access-token\n",
    "headers = {\n",
    "  \"content-type\": \"application/json\",\n",
    "  \"Authorization\": f'Bearer {token[0]}'\n",
    "}\n",
    "data = json.dumps(dict(userPseudoId = 'abc123'))\n",
    "response = requests.post(\n",
    "  f'https://discoveryengine.googleapis.com/v1/projects/{PROJECT_ID}/locations/{VS_LOCATION}/collections/default_collection/dataStores/{VS_DATASTORE_ID}/sessions',\n",
    "  data = data,\n",
    "  headers = headers\n",
    ")\n",
    "session_info = json.loads(response.text)\n",
    "session_info"
   ]
  },
  {
   "cell_type": "markdown",
   "id": "242a78da-5ec7-4712-b780-4f512b000000",
   "metadata": {},
   "source": [
    "Prepare data:"
   ]
  },
  {
   "cell_type": "code",
   "execution_count": 48,
   "id": "87398747-a0f4-4f3d-a889-09db3f0b45ad",
   "metadata": {
    "tags": []
   },
   "outputs": [],
   "source": [
    "question = \"What is a pitch?\""
   ]
  },
  {
   "cell_type": "code",
   "execution_count": 49,
   "id": "be078294-f105-4e04-bbc3-a610dc339efb",
   "metadata": {},
   "outputs": [],
   "source": [
    "request = dict(\n",
    "    query = dict(text = question),\n",
    "    searchSpec = dict(\n",
    "        searchParams = dict(\n",
    "            maxReturnResults = 10,\n",
    "\n",
    "        )\n",
    "    ),\n",
    "    queryUnderstandingSpec = dict(\n",
    "        queryRephraserSpec = dict(\n",
    "            maxRephraseSteps = 5 # 5 is max, default is 1\n",
    "        ),\n",
    "        queryClassificationSpec = dict(\n",
    "            types = ['NON_ANSWER_SEEKING_QUERY', 'ADVERSARIAL_QUERY']\n",
    "        )\n",
    "    ),\n",
    "    session = session_info['name']\n",
    ")\n",
    "data = json.dumps(request)"
   ]
  },
  {
   "cell_type": "markdown",
   "id": "d49f352c-b274-4be1-b887-8773cb4dade5",
   "metadata": {},
   "source": [
    "Make Request:"
   ]
  },
  {
   "cell_type": "code",
   "execution_count": 50,
   "id": "39ba3148-7767-4c24-9c5d-b2ef1be005b2",
   "metadata": {},
   "outputs": [],
   "source": [
    "answer = answer_api(data)"
   ]
  },
  {
   "cell_type": "markdown",
   "id": "1c6eb548-8494-4118-8c2f-5588bcb70292",
   "metadata": {},
   "source": [
    "Review Answer:"
   ]
  },
  {
   "cell_type": "code",
   "execution_count": 51,
   "id": "19ee71ab-f45d-4ded-9560-d8e2955a7dcf",
   "metadata": {
    "tags": []
   },
   "outputs": [
    {
     "data": {
      "text/plain": [
       "\"A pitch is a ball delivered to the batter by the pitcher. All other deliveries of the ball by one player to another are thrown balls. A pitch is considered legal when the umpire calls it a strike. A strike is a legal pitch when the batter swings and misses, the ball passes through the strike zone without being swung at, the batter fouls the ball with less than two strikes, the batter bunts the ball foul, the ball touches the batter as they swing, the ball touches the batter in flight in the strike zone, or the ball becomes a foul tip. The strike zone is the area over home plate that is between the top of the batter's shoulders and the bottom of their kneecap. \\n\""
      ]
     },
     "execution_count": 51,
     "metadata": {},
     "output_type": "execute_result"
    }
   ],
   "source": [
    "answer['answer']['answerText']"
   ]
  },
  {
   "cell_type": "markdown",
   "id": "7a3bc100-6feb-4886-9044-fe32f82fc5d4",
   "metadata": {
    "tags": []
   },
   "source": [
    "Follow-up Question (same session):"
   ]
  },
  {
   "cell_type": "code",
   "execution_count": 52,
   "id": "e24e6810-4165-4314-9f91-e593d7dd578d",
   "metadata": {
    "tags": []
   },
   "outputs": [],
   "source": [
    "question2 = \"What happens after three strikes?\""
   ]
  },
  {
   "cell_type": "code",
   "execution_count": 54,
   "id": "3e05de8f-79b4-4185-ba57-1bf751d146d8",
   "metadata": {},
   "outputs": [],
   "source": [
    "request = dict(\n",
    "    query = dict(text = question2),\n",
    "    searchSpec = dict(\n",
    "        searchParams = dict(\n",
    "            maxReturnResults = 10,\n",
    "\n",
    "        )\n",
    "    ),\n",
    "    queryUnderstandingSpec = dict(\n",
    "        queryRephraserSpec = dict(\n",
    "            maxRephraseSteps = 5 # 5 is max, default is 1\n",
    "        ),\n",
    "        queryClassificationSpec = dict(\n",
    "            types = ['NON_ANSWER_SEEKING_QUERY', 'ADVERSARIAL_QUERY']\n",
    "        )\n",
    "    ),\n",
    "    session = session_info['name']\n",
    ")\n",
    "data = json.dumps(request)"
   ]
  },
  {
   "cell_type": "markdown",
   "id": "d9bee4d9-fe06-40bd-9965-5ec101737634",
   "metadata": {},
   "source": [
    "Make Request:"
   ]
  },
  {
   "cell_type": "code",
   "execution_count": 55,
   "id": "12cdb2b5-073c-486c-b219-b333c827dd27",
   "metadata": {},
   "outputs": [],
   "source": [
    "answer = answer_api(data)"
   ]
  },
  {
   "cell_type": "markdown",
   "id": "b701905a-63cb-4650-a776-d2417796799c",
   "metadata": {},
   "source": [
    "Review Answer:"
   ]
  },
  {
   "cell_type": "code",
   "execution_count": 56,
   "id": "852f3a05-a1fb-45b9-bba6-e1b300d4e2e8",
   "metadata": {
    "tags": []
   },
   "outputs": [
    {
     "data": {
      "text/plain": [
       "\"After three strikes are called, the batter is declared out. This means the batter is removed from the game and the next batter in the batting order takes their place. If the batter does not take their proper position in the batter's box before three strikes are called, they are also declared out. The umpire will give the batter a reasonable opportunity to take their proper position after a strike is called. If the batter is out on strikes, no runners may advance. \\n\""
      ]
     },
     "execution_count": 56,
     "metadata": {},
     "output_type": "execute_result"
    }
   ],
   "source": [
    "answer['answer']['answerText']"
   ]
  },
  {
   "cell_type": "markdown",
   "id": "04f8132c-e6f2-426f-9ef0-670c80c2d6ed",
   "metadata": {},
   "source": [
    "Review the full history in the same response:"
   ]
  },
  {
   "cell_type": "code",
   "execution_count": 57,
   "id": "fec8ff78-5e7e-49e6-8f33-3b921697a298",
   "metadata": {
    "tags": []
   },
   "outputs": [
    {
     "data": {
      "text/plain": [
       "{'answer': {'name': 'projects/1026793852137/locations/global/collections/default_collection/dataStores/applied-genai-grounding-overview/sessions/2875604999015314083/answers/13075977912363165876',\n",
       "  'answerText': \"After three strikes are called, the batter is declared out. This means the batter is removed from the game and the next batter in the batting order takes their place. If the batter does not take their proper position in the batter's box before three strikes are called, they are also declared out. The umpire will give the batter a reasonable opportunity to take their proper position after a strike is called. If the batter is out on strikes, no runners may advance. \\n\",\n",
       "  'steps': [{'thought': 'I need to know what a strike is in baseball, next I need to query what happens after three strikes.',\n",
       "    'actions': [{'searchAction': {'query': 'What is a strike in baseball?'},\n",
       "      'observation': {'searchResults': [{'document': 'projects/1026793852137/locations/global/collections/default_collection/dataStores/applied-genai-grounding-overview/branches/0/documents/73bee30d37112e8e829720fe2f4a3ff0b450c2a51cd9fe03b5beeea277eed67',\n",
       "         'uri': 'gs://statmike-mlops-349915/applied-genai/grounding-overview/wqn5ah4c3qtivwx3jatm.pdf',\n",
       "         'title': 'wqn5ah4c3qtivwx3jatm.pdf',\n",
       "         'snippetInfo': [{'snippet': 'If a batter <b>strikes</b> at a ball and misses and ... <b>strike</b> only (not interference). The ball will be ... <b>baseball</b>. This includes bats that are filled&nbsp;...',\n",
       "           'snippetStatus': 'SUCCESS'}],\n",
       "         'structData': {'location': 'statmike-mlops-349915',\n",
       "          'title': 'wqn5ah4c3qtivwx3jatm.pdf',\n",
       "          'path': 'applied-genai/grounding-overview'}}]}}]}]},\n",
       " 'session': {'name': 'projects/1026793852137/locations/global/collections/default_collection/dataStores/applied-genai-grounding-overview/sessions/2875604999015314083',\n",
       "  'state': 'IN_PROGRESS',\n",
       "  'userPseudoId': 'abc123',\n",
       "  'turns': [{'query': {'queryId': 'projects/1026793852137/locations/global/questions/546263',\n",
       "     'text': 'How do I score a run?'},\n",
       "    'answer': 'projects/1026793852137/locations/global/collections/default_collection/dataStores/applied-genai-grounding-overview/sessions/2875604999015314083/answers/9901673552565417745'},\n",
       "   {'query': {'queryId': 'projects/1026793852137/locations/global/questions/546309',\n",
       "     'text': 'What is a pitch?'},\n",
       "    'answer': 'projects/1026793852137/locations/global/collections/default_collection/dataStores/applied-genai-grounding-overview/sessions/2875604999015314083/answers/13515290050723034128'},\n",
       "   {'query': {'queryId': 'projects/1026793852137/locations/global/questions/546312',\n",
       "     'text': 'What happens after three strikes?'},\n",
       "    'answer': 'projects/1026793852137/locations/global/collections/default_collection/dataStores/applied-genai-grounding-overview/sessions/2875604999015314083/answers/13075977912363165876'}],\n",
       "  'startTime': '2024-08-22T14:44:32.643023Z',\n",
       "  'endTime': '2024-08-22T14:51:47.791215Z'},\n",
       " 'answerQueryToken': 'NMwKDAjkoZ22BhCcjqHHAxIkNjZjMzY3OWEtMDAwMC0yZWU0LWFhYjctMDg5ZTA4MmRiNDE4'}"
      ]
     },
     "execution_count": 57,
     "metadata": {},
     "output_type": "execute_result"
    }
   ],
   "source": [
    "answer"
   ]
  },
  {
   "cell_type": "markdown",
   "id": "06e4c79b-0c07-405d-95bf-3f0960d1be7d",
   "metadata": {},
   "source": [
    "Delete The session:\n",
    "- there are also commands to update, list, and list for user/state"
   ]
  },
  {
   "cell_type": "code",
   "execution_count": 59,
   "id": "1092304f-2bd9-4d69-a9ea-fc5014ec24f7",
   "metadata": {
    "tags": []
   },
   "outputs": [
    {
     "data": {
      "text/plain": [
       "{}"
      ]
     },
     "execution_count": 59,
     "metadata": {},
     "output_type": "execute_result"
    }
   ],
   "source": [
    "token = !gcloud auth application-default print-access-token\n",
    "headers = {\n",
    "  \"content-type\": \"application/json\",\n",
    "  \"Authorization\": f'Bearer {token[0]}'\n",
    "}\n",
    "response = requests.delete(\n",
    "  f\"https://discoveryengine.googleapis.com/v1/{session_info['name']}\",\n",
    "  headers = headers\n",
    ")\n",
    "json.loads(response.text)"
   ]
  },
  {
   "cell_type": "markdown",
   "id": "f8509419-0c47-4377-87a3-c653b01f8312",
   "metadata": {},
   "source": [
    "Note: response is expected to be empty"
   ]
  },
  {
   "cell_type": "code",
   "execution_count": 61,
   "id": "e6eb4d2f-df04-49cb-9e12-7139ff72f7e3",
   "metadata": {
    "tags": []
   },
   "outputs": [
    {
     "data": {
      "text/plain": [
       "200"
      ]
     },
     "execution_count": 61,
     "metadata": {},
     "output_type": "execute_result"
    }
   ],
   "source": [
    "response.status_code"
   ]
  },
  {
   "cell_type": "code",
   "execution_count": null,
   "id": "6ebc2f91-b1ce-407b-aac1-b184a09b99fe",
   "metadata": {},
   "outputs": [],
   "source": []
  },
  {
   "cell_type": "code",
   "execution_count": null,
   "id": "99d9209f-eac3-47e2-9952-1845cf678de5",
   "metadata": {},
   "outputs": [],
   "source": []
  }
 ],
 "metadata": {
  "environment": {
   "kernel": "conda-base-py",
   "name": "workbench-notebooks.m124",
   "type": "gcloud",
   "uri": "us-docker.pkg.dev/deeplearning-platform-release/gcr.io/workbench-notebooks:m124"
  },
  "kernelspec": {
   "display_name": "Python 3 (ipykernel)",
   "language": "python",
   "name": "conda-base-py"
  },
  "language_info": {
   "codemirror_mode": {
    "name": "ipython",
    "version": 3
   },
   "file_extension": ".py",
   "mimetype": "text/x-python",
   "name": "python",
   "nbconvert_exporter": "python",
   "pygments_lexer": "ipython3",
   "version": "3.10.14"
  }
 },
 "nbformat": 4,
 "nbformat_minor": 5
}
